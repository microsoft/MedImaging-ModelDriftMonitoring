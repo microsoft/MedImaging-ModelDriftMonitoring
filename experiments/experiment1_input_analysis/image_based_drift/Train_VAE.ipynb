{
 "cells": [
  {
   "cell_type": "markdown",
   "source": [
    "# Input Drift Experiment Outline"
   ],
   "metadata": {}
  },
  {
   "cell_type": "markdown",
   "source": [
    "*Needs to be double checked*\r\n",
    "\r\n",
    "**Goal**: To identify drift from streams of unseen chest x-ray images\r\n",
    "\r\n",
    "**Mehods:**\r\n",
    "\r\n",
    "1. **Statistical drift detection:** Distance-based measure like Maximum Mean Discrepancy (MMD) to determine the separation between training (reference) data and unseen chest x-rays: \r\n",
    "   - For image data, we will reduce the dimensionality before running the statistical test. \r\n",
    "   - We then run standard CheXpert pre-processing steps and train a drift detector. \r\n",
    "   - We detect data drift by predicting on a batch of x-ray images (spread out over a pre-defined period of time). \r\n",
    "   - We return the **p-value and the threshold** of the test that results in a drift declaration.\r\n",
    "\r\n",
    "\r\n",
    "2. **Artificial Neural Network (ANN) based drift detection:** Train an autoencoder to learn how to efficiently compress and encode reference data:\r\n",
    "   - The AE detector tries to reconstruct the input it receives.\r\n",
    "   -  If the unseen, input x-ray cannot be reconstructed well, the reconstruction error is high and the data can be flagged as an outlier (drift).\r\n",
    "   - The reconstruction error is measured as the mean squared error (MSE) between the input and the reconstructed instance.\r\n",
    "\r\n",
    "\r\n",
    "**Requirements:**\r\n",
    "\r\n",
    "- CheXpert training data (reference data)\r\n",
    "- Padchest filtered/curated data (new data to be probed for drift)\r\n",
    "- Alibi Detect Python library (package with boilerplate code to facilitate methods)"
   ],
   "metadata": {}
  },
  {
   "cell_type": "code",
   "execution_count": 3,
   "source": [
    "from pathlib import Path\r\n",
    "\r\n",
    "import azureml\r\n",
    "from IPython.display import display, Markdown\r\n",
    "from azureml.core import Datastore, Experiment, ScriptRunConfig, Workspace, RunConfiguration\r\n",
    "from azureml.core.dataset import Dataset\r\n",
    "from azureml.core.environment import Environment\r\n",
    "from azureml.core.runconfig import DockerConfiguration\r\n",
    "from azureml.exceptions import UserErrorException\r\n",
    "\r\n",
    "from model_drift import settings\r\n",
    "\r\n",
    "# check core SDK version number\r\n",
    "print(\"Azure ML SDK Version: \", azureml.core.VERSION)"
   ],
   "outputs": [
    {
     "output_type": "stream",
     "name": "stderr",
     "text": [
      "Failure while loading azureml_run_type_providers. Failed to load entrypoint automl = azureml.train.automl.run:AutoMLRun._from_run_dto with exception (cloudpickle 2.0.0 (d:\\code\\mlopsday2\\medimaging-modeldriftmonitoring\\.venv\\lib\\site-packages), Requirement.parse('cloudpickle<2.0.0,>=1.1.0'), {'azureml-dataprep'}).\n"
     ]
    },
    {
     "output_type": "stream",
     "name": "stdout",
     "text": [
      "Azure ML SDK Version:  1.34.0\n"
     ]
    }
   ],
   "metadata": {}
  },
  {
   "cell_type": "code",
   "execution_count": 2,
   "source": [
    "# Connect to workspace\r\n",
    "subscription_id = '9ca8df1a-bf40-49c6-a13f-66b72a85f43c'\r\n",
    "resource_group = 'MLOps-Prototype'\r\n",
    "workspace_name = 'MLOps_shared'\r\n",
    "\r\n",
    "try:\r\n",
    "    ws = Workspace(subscription_id = subscription_id, resource_group = resource_group, workspace_name = workspace_name)\r\n",
    "    ws.write_config()\r\n",
    "    print('Library configuration succeeded')\r\n",
    "except:\r\n",
    "    print('Workspace not found')\r\n",
    "\r\n",
    "print(\"Workspace:\", ws.name)"
   ],
   "outputs": [
    {
     "output_type": "stream",
     "name": "stderr",
     "text": [
      "Warning: Falling back to use azure cli login credentials.\n",
      "If you run your code in unattended mode, i.e., where you can't give a user input, then we recommend to use ServicePrincipalAuthentication or MsiAuthentication.\n",
      "Please refer to aka.ms/aml-notebook-auth for different authentication mechanisms in azureml-sdk.\n"
     ]
    },
    {
     "output_type": "stream",
     "name": "stdout",
     "text": [
      "Library configuration succeeded\n",
      "Workspace: MLOps_shared\n"
     ]
    }
   ],
   "metadata": {}
  },
  {
   "cell_type": "code",
   "execution_count": 3,
   "source": [
    "# Get Dataset\r\n",
    "try:\r\n",
    "    chex_dataset = Dataset.get_by_name(ws, name='chexpert')\r\n",
    "    print('Found existing dataset')\r\n",
    "except UserErrorException:\r\n",
    "    # Import a FileDataset pointing to files in 'png' folder and its subfolders recursively\r\n",
    "    datastore = Datastore.get(ws, 'chexpert')\r\n",
    "    datastore_paths = [(datastore, '/')]\r\n",
    "    chex_dataset = Dataset.File.from_files(path=datastore_paths)\r\n",
    "    print('Created Dataset')"
   ],
   "outputs": [
    {
     "output_type": "stream",
     "name": "stdout",
     "text": [
      "Found existing dataset\n"
     ]
    }
   ],
   "metadata": {}
  },
  {
   "cell_type": "code",
   "execution_count": 8,
   "source": [
    "env_name = \"vae\"\r\n",
    "\r\n",
    "environment_file = settings.CONDA_ENVIRONMENT_FILE\r\n",
    "project_dir = Path(\"./experiment\")\r\n",
    "pytorch_env = Environment.from_conda_specification(env_name, file_path =str(environment_file))\r\n",
    "\r\n",
    "pytorch_env.register(workspace=ws)\r\n",
    "build = pytorch_env.build(workspace=ws)\r\n",
    "\r\n",
    "pytorch_env.environment_variables[\"RSLEX_DIRECT_VOLUME_MOUNT\"] = \"True\""
   ],
   "outputs": [],
   "metadata": {}
  },
  {
   "cell_type": "code",
   "execution_count": 11,
   "source": [
    "# Copy data files into experiement directory\r\n",
    "import pandas as pd\r\n",
    "import shutil\r\n",
    "\r\n",
    "valid_fn = settings.CHEXPERT_VALID_CSV\r\n",
    "train_fn = settings.CHEXPERT_TRAIN_CSV\r\n",
    "\r\n",
    "shutil.copy(valid_fn, project_dir.joinpath(\"valid.csv\"))\r\n",
    "shutil.copy(train_fn, project_dir.joinpath(\"train.csv\"))\r\n",
    "\r\n",
    "df = pd.read_csv(train_fn)\r\n",
    "df = df[df['Frontal/Lateral'] != 'Lateral']\r\n",
    "df.to_csv(project_dir.joinpath(\"train-frontal-only.csv\"), index=False)\r\n"
   ],
   "outputs": [],
   "metadata": {}
  },
  {
   "cell_type": "code",
   "execution_count": 117,
   "source": [
    "dbg = False\r\n",
    "\r\n",
    "log_refresh_rate = 25\r\n",
    "if dbg:\r\n",
    "    log_refresh_rate = 2\r\n",
    "\r\n",
    "# Name experiement\r\n",
    "experiment_name = 'chexpert-vae' if not dbg else 'chexpert-vae-dbg'\r\n",
    "exp = Experiment(workspace=ws, name=experiment_name)\r\n",
    "\r\n",
    "print(\"Experiment:\", exp.name)\r\n",
    "print(\"Environment:\", pytorch_env.name)\r\n",
    "\r\n",
    "run_config = RunConfiguration()\r\n",
    "\r\n",
    "run_config.environment = pytorch_env\r\n",
    "run_config.docker = DockerConfiguration(use_docker=True, shm_size=\"100G\")\r\n",
    "run_config.target = cluster_name\r\n",
    "\r\n",
    "\r\n",
    "args = [\r\n",
    "    '--data_folder', chex_dataset.as_named_input('chexpertv1').as_mount(),\r\n",
    "    '--run_azure', 1,\r\n",
    "    '--output_dir', './outputs',\r\n",
    "\r\n",
    "    '--batch_size', 32,\r\n",
    "    \"--base_lr\", 1e-4,\r\n",
    "\r\n",
    "    \"--image_size\", 128,\r\n",
    "    '--max_epochs', 50 if not dbg else 5,\r\n",
    "    '--num_workers', -1,\r\n",
    "\r\n",
    "    '--progress_bar_refresh_rate', log_refresh_rate,\r\n",
    "    \"--log_every_n_steps\", log_refresh_rate,\r\n",
    "    \"--flush_logs_every_n_steps\", log_refresh_rate,\r\n",
    "    \"--accelerator\", \"ddp\",\r\n",
    "    \"--channels\", 1,\r\n",
    "\r\n",
    "    \"--step_size\", 3,\r\n",
    "    \"--lr_scheduler\", \"plateau\",\r\n",
    "\r\n",
    "    \"--auto_scale_batch_size\", False,\r\n",
    "    \"--auto_lr_find\", False,\r\n",
    "    \"--train_csv\", \"train-frontal-only.csv\",\r\n",
    "\r\n",
    "    \"--width\", 320,\r\n",
    "    \"--z\", 64,\r\n",
    "    \"--layer_count\", 3,\r\n",
    "\r\n",
    "    \"--terminate_on_nan\", True,\r\n",
    "\r\n",
    "    \"--log_recon_images\", 32\r\n",
    "    ]\r\n",
    "\r\n",
    "if dbg:\r\n",
    "\r\n",
    "    args += [\r\n",
    "        '--limit_train_batches', 5,\r\n",
    "    ]\r\n",
    "\r\n",
    "\r\n",
    "config = ScriptRunConfig(\r\n",
    "    source_directory = str(project_dir), \r\n",
    "    script = \"train.py\",\r\n",
    "    arguments=args,\r\n",
    ")\r\n",
    "\r\n",
    "config.run_config = run_config"
   ],
   "outputs": [
    {
     "output_type": "stream",
     "name": "stdout",
     "text": [
      "Experiment: chexpert-vae\n",
      "Compute Target: nc24-uswest2\n",
      "Environment: vae\n"
     ]
    }
   ],
   "metadata": {}
  },
  {
   "cell_type": "code",
   "execution_count": 118,
   "source": [
    "config.run_config.target = \"nc24-uswest2\"\r\n",
    "\r\n",
    "run = exp.submit(config)\r\n",
    "display(Markdown(f\"\"\"\r\n",
    "- Experiement: [{run.experiment.name}]({run.experiment.get_portal_url()})\r\n",
    "- Run: [{run.display_name}]({run.get_portal_url()})\r\n",
    "- Target: {config.run_config.target}\r\n",
    "\"\"\"))"
   ],
   "outputs": [
    {
     "output_type": "stream",
     "name": "stderr",
     "text": [
      "Submitting d:\\Code\\MLOpsDay2\\ModelMonitoring\\Model_Monitoring\\1.Experiment1_input_analysis\\image_based_drift\\experiment directory for run. The size of the directory >= 25 MB, so it can take a few minutes.\n"
     ]
    },
    {
     "output_type": "display_data",
     "data": {
      "text/markdown": [
       "\n",
       "- Experiement: [chexpert-vae](https://ml.azure.com/experiments/chexpert-vae?wsid=/subscriptions/9ca8df1a-bf40-49c6-a13f-66b72a85f43c/resourcegroups/MLOps-Prototype/workspaces/MLOps_shared&tid=72f988bf-86f1-41af-91ab-2d7cd011db47)\n",
       "- Run: [dreamy_yogurt_j14cm892](https://ml.azure.com/runs/chexpert-vae_1632705750_17ad5846?wsid=/subscriptions/9ca8df1a-bf40-49c6-a13f-66b72a85f43c/resourcegroups/MLOps-Prototype/workspaces/MLOps_shared&tid=72f988bf-86f1-41af-91ab-2d7cd011db47)\n"
      ],
      "text/plain": [
       "<IPython.core.display.Markdown object>"
      ]
     },
     "metadata": {}
    }
   ],
   "metadata": {}
  },
  {
   "cell_type": "markdown",
   "source": [
    "## Explain hyper drive\r\n",
    "TODO"
   ],
   "metadata": {}
  },
  {
   "cell_type": "code",
   "execution_count": 121,
   "source": [
    "from azureml.train.hyperdrive import GridParameterSampling, RandomParameterSampling, BanditPolicy, HyperDriveConfig, uniform, PrimaryMetricGoal, choice, loguniform\r\n",
    "run_config = RunConfiguration()\r\n",
    "\r\n",
    "cluster_name = \"NC24s-v2-usw2-lp\"\r\n",
    "\r\n",
    "run_config.environment = pytorch_env\r\n",
    "run_config.docker = DockerConfiguration(use_docker=True, shm_size=\"100G\")\r\n",
    "run_config.target = cluster_name\r\n",
    "\r\n",
    "\r\n",
    "param_sampling = RandomParameterSampling(\r\n",
    "    {\r\n",
    "        \"layer\": choice(3, 4),\r\n",
    "        \"batch_size\": choice(16, 32),\r\n",
    "        \"image_size\": choice(128,256),\r\n",
    "        \"z\": choice(32, 64, 128),\r\n",
    "        \"width\": choice(160, 240, 320),\r\n",
    "        \"base_lr\": choice(1e-4, 1e-5, 1e-6),\r\n",
    "        \"kl_coeff\": choice(0.1)\r\n",
    "    }\r\n",
    ")\r\n",
    "\r\n",
    "experiment_name = 'chexpert-vae-tune'\r\n",
    "exp = Experiment(workspace=ws, name=experiment_name)\r\n",
    "config.run_config = run_config\r\n",
    "hyperdrive_config = HyperDriveConfig(run_config=config,\r\n",
    "                                     hyperparameter_sampling=param_sampling, \r\n",
    "                                     policy=None,\r\n",
    "                                     primary_metric_name='val/recon_loss_frontal',\r\n",
    "                                     primary_metric_goal=PrimaryMetricGoal.MINIMIZE,\r\n",
    "                                     max_total_runs=6*12,\r\n",
    "                                     max_concurrent_runs=6)"
   ],
   "outputs": [],
   "metadata": {}
  },
  {
   "cell_type": "code",
   "execution_count": 122,
   "source": [
    "# start the HyperDrive run\r\n",
    "hyperdrive_run = exp.submit(hyperdrive_config)\r\n",
    "display(Markdown(f\"\"\"\r\n",
    "- Experiement: [{hyperdrive_run.experiment.name}]({hyperdrive_run.experiment.get_portal_url()})\r\n",
    "- Run: [{hyperdrive_run.display_name}]({hyperdrive_run.get_portal_url()})\r\n",
    "- Target: {config.run_config.target}\r\n",
    "\"\"\"))"
   ],
   "outputs": [
    {
     "output_type": "display_data",
     "data": {
      "text/markdown": [
       "\n",
       "- Experiement: [chexpert-vae-tune](https://ml.azure.com/experiments/chexpert-vae-tune?wsid=/subscriptions/9ca8df1a-bf40-49c6-a13f-66b72a85f43c/resourcegroups/MLOps-Prototype/workspaces/MLOps_shared&tid=72f988bf-86f1-41af-91ab-2d7cd011db47)\n",
       "- Run: [sleepy_leg_4q5lsqsg](https://ml.azure.com/runs/HD_bdd55aa3-b6c1-4a43-89b8-c5b00b22c4a3?wsid=/subscriptions/9ca8df1a-bf40-49c6-a13f-66b72a85f43c/resourcegroups/MLOps-Prototype/workspaces/MLOps_shared&tid=72f988bf-86f1-41af-91ab-2d7cd011db47)\n"
      ],
      "text/plain": [
       "<IPython.core.display.Markdown object>"
      ]
     },
     "metadata": {}
    }
   ],
   "metadata": {}
  }
 ],
 "metadata": {
  "orig_nbformat": 4,
  "language_info": {
   "name": "python",
   "version": "3.7.3",
   "mimetype": "text/x-python",
   "codemirror_mode": {
    "name": "ipython",
    "version": 3
   },
   "pygments_lexer": "ipython3",
   "nbconvert_exporter": "python",
   "file_extension": ".py"
  },
  "kernelspec": {
   "name": "python3",
   "display_name": "Python 3.7.3 64-bit (conda)"
  },
  "interpreter": {
   "hash": "40209cfd1e49aba1e20a3908f9a243f43b2ed73034fd3a81730d62124bbdcdae"
  }
 },
 "nbformat": 4,
 "nbformat_minor": 2
}