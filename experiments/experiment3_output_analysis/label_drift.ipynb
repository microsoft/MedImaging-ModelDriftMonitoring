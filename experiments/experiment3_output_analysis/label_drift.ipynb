{
 "cells": [
  {
   "cell_type": "markdown",
   "source": [
    "# Intro: TODO"
   ],
   "metadata": {}
  },
  {
   "cell_type": "code",
   "execution_count": 3,
   "source": [
    "from model_drift import settings\r\n",
    "\r\n",
    "from model_drift.stats import calc_p_categorical\r\n",
    "from model_drift.helpers import prepare_padchest\r\n",
    "import matplotlib.pylab as plt\r\n",
    "import matplotlib.dates as mdates\r\n",
    "\r\n",
    "import numpy as np\r\n",
    "import pandas as pd\r\n",
    "\r\n",
    "import warnings\r\n",
    "warnings.filterwarnings(\"ignore\")"
   ],
   "outputs": [],
   "metadata": {}
  },
  {
   "cell_type": "code",
   "execution_count": 4,
   "source": [
    "# Load padchest CSV\r\n",
    "padchest_csv = settings.PADCHEST_FILENAME\r\n",
    "df = pd.read_csv(padchest_csv)\r\n",
    "df = prepare_padchest(df)\r\n"
   ],
   "outputs": [],
   "metadata": {}
  },
  {
   "cell_type": "code",
   "execution_count": null,
   "source": [],
   "outputs": [],
   "metadata": {}
  }
 ],
 "metadata": {
  "orig_nbformat": 4,
  "language_info": {
   "name": "python",
   "version": "3.7.3",
   "mimetype": "text/x-python",
   "codemirror_mode": {
    "name": "ipython",
    "version": 3
   },
   "pygments_lexer": "ipython3",
   "nbconvert_exporter": "python",
   "file_extension": ".py"
  },
  "kernelspec": {
   "name": "python3",
   "display_name": "Python 3.7.3 64-bit (conda)"
  },
  "interpreter": {
   "hash": "40209cfd1e49aba1e20a3908f9a243f43b2ed73034fd3a81730d62124bbdcdae"
  }
 },
 "nbformat": 4,
 "nbformat_minor": 2
}