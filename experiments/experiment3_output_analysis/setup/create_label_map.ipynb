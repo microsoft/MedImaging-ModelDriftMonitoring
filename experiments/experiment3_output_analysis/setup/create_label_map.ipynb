{
 "cells": [
  {
   "cell_type": "code",
   "execution_count": 3,
   "source": [
    "import pandas as pd\r\n",
    "\r\n",
    "df = pd.read_csv(\"./label_dropper MPL.csv\")"
   ],
   "outputs": [],
   "metadata": {}
  },
  {
   "cell_type": "code",
   "execution_count": 4,
   "source": [
    "# Check parent labels\r\n",
    "list(df.columns[2:])"
   ],
   "outputs": [
    {
     "output_type": "execute_result",
     "data": {
      "text/plain": [
       "['Edema',\n",
       " 'No Finding',\n",
       " 'Cardiomegaly',\n",
       " 'Pleural Effusion',\n",
       " 'Opacity',\n",
       " 'Atelectasis',\n",
       " 'Pleural Abnormalities',\n",
       " 'Pneumonia',\n",
       " 'Consolidation',\n",
       " 'Lesion']"
      ]
     },
     "metadata": {},
     "execution_count": 4
    }
   ],
   "metadata": {}
  },
  {
   "cell_type": "code",
   "execution_count": 5,
   "source": [
    "df['original label'] = df['original label'].str.strip() \r\n",
    "df.drop_duplicates(subset=['original label'], inplace=True)\r\n",
    "df.reset_index(drop=True, inplace=True)"
   ],
   "outputs": [],
   "metadata": {}
  },
  {
   "cell_type": "code",
   "execution_count": 6,
   "source": [
    "# Set 'normal' to No Finding\r\n",
    "df.loc[df[df[\"original label\"] == \"normal\"].index[0], \"No Finding\"] = 1.0\r\n",
    "\r\n",
    "# Set 'pneumonia' to Pneumonia\r\n",
    "df.loc[df[df[\"original label\"] == \"pneumonia\"].index[0], \"Pneumonia\"] = 1.0\r\n",
    "\r\n",
    "# Set pleural effusion to Pleural Effusion\r\n",
    "df.loc[df[df[\"original label\"] == \"pleural effusion\"].index[0], \"Pleural Effusion\"] = 1.0\r\n",
    "\r\n",
    "# Set Consolidation\r\n",
    "df.loc[df[df[\"original label\"] == \"consolidation\"].index[0], \"Consolidation\"] = 1.0\r\n",
    "\r\n",
    "# Set No Labels back to 0\r\n",
    "df.loc[df[df[\"original label\"] == \"NoLabels\"].index[0], \"No Finding\"] = 0.0"
   ],
   "outputs": [],
   "metadata": {}
  },
  {
   "cell_type": "code",
   "execution_count": 7,
   "source": [
    "# Create Mapping between parent and daughter labels\r\n",
    "\r\n",
    "parent_daughter_mapping = {key:[] for key in list(df.columns[2:])}\r\n",
    "\r\n",
    "for key in parent_daughter_mapping:\r\n",
    "    daughter_label_list = list(df[df[key] == 1.0][\"original label\"])\r\n",
    "    parent_daughter_mapping[key] = daughter_label_list\r\n",
    "\r\n",
    "print(parent_daughter_mapping)"
   ],
   "outputs": [
    {
     "output_type": "stream",
     "name": "stdout",
     "text": [
      "{'Edema': ['kerley lines'], 'No Finding': ['normal'], 'Cardiomegaly': ['cardiomegaly', 'pericardial effusion'], 'Pleural Effusion': ['pleural effusion'], 'Opacity': ['infiltrates', 'alveolar pattern', 'pneumonia', 'interstitial pattern', 'increased density', 'consolidation', 'bronchovascular markings', 'pulmonary edema', 'pulmonary fibrosis', 'tuberculosis sequelae', 'cavitation', 'reticular interstitial pattern', 'ground glass pattern', 'atypical pneumonia', 'post radiotherapy changes', 'reticulonodular interstitial pattern', 'tuberculosis', 'miliary opacities'], 'Atelectasis': ['laminar atelectasis', 'fibrotic band', 'atelectasis', 'lobar atelectasis', 'segmental atelectasis', 'atelectasis basal', 'total atelectasis'], 'Pleural Abnormalities': ['costophrenic angle blunting', 'pleural effusion', 'pleural thickening', 'calcified pleural thickening', 'calcified pleural plaques', 'loculated pleural effusion', 'loculated fissural effusion', 'asbestosis signs', 'hydropneumothorax', 'pleural plaques'], 'Pneumonia': ['pneumonia'], 'Consolidation': ['consolidation'], 'Lesion': ['nodule', 'pulmonary mass', 'lung metastasis', 'multiple nodules', 'mass']}\n"
     ]
    }
   ],
   "metadata": {}
  },
  {
   "cell_type": "code",
   "execution_count": 12,
   "source": [
    "import yaml\r\n",
    "\r\n",
    "with open(\"../labelmap_chexpert2pd.yml\", \"w\") as f:\r\n",
    "    yaml.dump(parent_daughter_mapping, f)"
   ],
   "outputs": [],
   "metadata": {}
  },
  {
   "cell_type": "code",
   "execution_count": null,
   "source": [],
   "outputs": [],
   "metadata": {}
  }
 ],
 "metadata": {
  "orig_nbformat": 4,
  "language_info": {
   "name": "python",
   "version": "3.7.3",
   "mimetype": "text/x-python",
   "codemirror_mode": {
    "name": "ipython",
    "version": 3
   },
   "pygments_lexer": "ipython3",
   "nbconvert_exporter": "python",
   "file_extension": ".py"
  },
  "kernelspec": {
   "name": "python3",
   "display_name": "Python 3.7.3 64-bit (conda)"
  },
  "interpreter": {
   "hash": "40209cfd1e49aba1e20a3908f9a243f43b2ed73034fd3a81730d62124bbdcdae"
  }
 },
 "nbformat": 4,
 "nbformat_minor": 2
}