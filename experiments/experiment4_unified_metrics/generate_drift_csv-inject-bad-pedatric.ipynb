{
 "cells": [
  {
   "cell_type": "code",
   "execution_count": null,
   "metadata": {},
   "outputs": [],
   "source": [
    "from IPython.display import display\n",
    "\n",
    "import pandas as pd\n",
    "import warnings\n",
    "from model_drift import settings, helpers\n",
    "from model_drift.data.utils import nested2series\n",
    "import matplotlib.pylab as plt\n",
    "import numpy as np\n",
    "import seaborn as sns\n",
    "from model_drift.drift.tabular import TabularDriftCalculator\n",
    "from model_drift.drift.numeric import KSDriftCalculator, BasicDriftCalculator\n",
    "from model_drift.drift.categorical import ChiSqDriftCalculator\n",
    "from model_drift.drift.collection import DriftCollectionCalculator\n",
    "from model_drift.drift.performance import AUROCCalculator, ClassificationReportCalculator\n",
    "\n",
    "from model_drift.drift.sampler import Sampler\n",
    "from model_drift.data.padchest import PadChest, LABEL_MAP\n",
    "import plotly.graph_objects as go\n",
    "\n",
    "warnings.filterwarnings(\"ignore\")                                                                                                                                                                                                                                                                                                                                                                        "
   ]
  },
  {
   "cell_type": "code",
   "execution_count": null,
   "metadata": {},
   "outputs": [],
   "source": [
    "vae_type = 'all-data'\n",
    "jsonl_file = str(settings.TOP_DIR.joinpath(\"results\", 'vae', 'padchest-trained', vae_type, 'preds.jsonl'))\n",
    "vae_df = helpers.jsonl_files2dataframe(jsonl_file)\n",
    "vae_df = pd.concat(\n",
    "    [\n",
    "        vae_df,\n",
    "        pd.DataFrame(vae_df['mu'].values.tolist(), columns=[f\"mu.{c:0>3}\" for c in range(128)])\n",
    "    ],\n",
    "    axis=1\n",
    ")\n",
    "vae_df.head()"
   ]
  },
  {
   "cell_type": "code",
   "execution_count": null,
   "metadata": {},
   "outputs": [],
   "source": [
    "from model_drift.data.padchest import LABEL_MAP\n",
    "label_cols = list(LABEL_MAP)\n",
    "classifier_type = 'finetuned'\n",
    "jsonl_file = str(settings.TOP_DIR.joinpath(\"results\", 'classifier', classifier_type, \"preds.jsonl\"))\n",
    "scores_df = helpers.jsonl_files2dataframe(jsonl_file)\n",
    "scores_df = pd.concat(\n",
    "    [\n",
    "        scores_df,\n",
    "        pd.DataFrame(scores_df['activation'].values.tolist(), columns=[f\"activation.{c}\" for c in label_cols])\n",
    "    ],\n",
    "    axis=1)\n",
    "scores_df.head()\n"
   ]
  },
  {
   "cell_type": "code",
   "execution_count": null,
   "metadata": {},
   "outputs": [],
   "source": [
    "\n",
    "# Load padchest CSV\n",
    "pc = PadChest(settings.PADCHEST_FILENAME)\n",
    "pc.prepare()\n",
    "\n",
    "\n",
    "pc.merge(vae_df, left_on=\"ImageID\", right_on=\"index\", how='inner')\n",
    "pc.merge(scores_df, left_on=\"ImageID\", right_on=\"index\", how='inner')\n",
    "\n",
    "\n",
    "train, val, test = pc.split(settings.PADCHEST_SPLIT_DATES, studydate_index=True)\n"
   ]
  },
  {
   "cell_type": "code",
   "execution_count": null,
   "metadata": {},
   "outputs": [],
   "source": [
    "pd.concat(\n",
    "    {\n",
    "        \"all\": pc.df[\"StudyDate\"].describe(datetime_is_numeric=True),\n",
    "        \"train\": train.df[\"StudyDate\"].describe(datetime_is_numeric=True),\n",
    "        \"val\": val.df[\"StudyDate\"].describe(datetime_is_numeric=True),\n",
    "        \"test\": test.df[\"StudyDate\"].describe(datetime_is_numeric=True),\n",
    "    },\n",
    "    axis=1,\n",
    ")\n"
   ]
  },
  {
   "cell_type": "code",
   "execution_count": null,
   "metadata": {},
   "outputs": [],
   "source": [
    "df = pc.df.set_index('StudyDate')\n",
    "df"
   ]
  },
  {
   "cell_type": "code",
   "execution_count": null,
   "metadata": {},
   "outputs": [],
   "source": [
    "jsonl_file = str(settings.TOP_DIR.joinpath(\"results\", 'outside-data', \"pediatric-vae-preds.jsonl\"))\n",
    "outside_vae_df = helpers.jsonl_files2dataframe(jsonl_file)\n",
    "outside_vae_df = pd.concat(\n",
    "    [\n",
    "        outside_vae_df,\n",
    "        pd.DataFrame(outside_vae_df['mu'].values.tolist(), columns=[f\"mu.{c:0>3}\" for c in range(128)])\n",
    "    ],\n",
    "    axis=1\n",
    ")\n",
    "outside_vae_df.head()"
   ]
  },
  {
   "cell_type": "code",
   "execution_count": null,
   "metadata": {},
   "outputs": [],
   "source": [
    "jsonl_file = str(settings.TOP_DIR.joinpath(\"results\", 'outside-data', \"pediatric-classifier-preds.jsonl\"))\n",
    "outside_scores_df = helpers.jsonl_files2dataframe(jsonl_file)\n",
    "outside_scores_df = pd.concat(\n",
    "    [\n",
    "        outside_scores_df,\n",
    "        pd.DataFrame(outside_scores_df['activation'].values.tolist(), columns=[f\"activation.{c}\" for c in label_cols])\n",
    "    ],\n",
    "    axis=1)\n",
    "outside_scores_df.head()\n"
   ]
  },
  {
   "cell_type": "code",
   "execution_count": null,
   "metadata": {},
   "outputs": [],
   "source": [
    "from functools import reduce\n",
    "\n",
    "peds_data = reduce(lambda df1, df2: df1.join(df2, how='inner'), [outside_scores_df.set_index('index'), outside_vae_df.set_index('index')])\n",
    "peds_data.head()"
   ]
  },
  {
   "cell_type": "code",
   "execution_count": null,
   "metadata": {},
   "outputs": [],
   "source": [
    "start_date = \"2015-01-01\"\n",
    "end_date = None\n",
    "if end_date is None:\n",
    "    end_date = str(df.index.max().date())\n",
    "    \n",
    "inject_index = pd.date_range(start_date, end_date, freq='D')\n",
    "inject_index"
   ]
  },
  {
   "cell_type": "code",
   "execution_count": null,
   "metadata": {},
   "outputs": [],
   "source": [
    "from collections.abc import Iterator\n",
    "import random\n",
    "\n",
    "class CycleList(Iterator):\n",
    "    def  __init__(self, lst, shuffle=False):\n",
    "        self.lst = lst\n",
    "        self.index = list(range(len(lst)))\n",
    "        self.shuffle = shuffle\n",
    "        self.reset()\n",
    "        \n",
    "    def reset(self):\n",
    "        self.cur = 0\n",
    "        if self.shuffle:\n",
    "            random.shuffle(self.index)\n",
    "        \n",
    "    def get_curr(self):\n",
    "        return self.lst[self.index[self.cur]]    \n",
    "\n",
    "    def __next__(self):\n",
    "        if self.cur >= len(self.lst):\n",
    "            self.reset()\n",
    "        v = self.get_curr()\n",
    "        self.cur += 1\n",
    "        return v\n",
    "        \n",
    "    def __iter__(self):\n",
    "        while True:\n",
    "            yield self.__next__()\n",
    "            \n",
    "    def take(self, n):\n",
    "        return [next(self) for i in range(n)]\n",
    "        \n",
    "cl = CycleList(list('ABCDE12345'), shuffle=False)\n",
    "\n",
    "for i in range(10):\n",
    "    print(''.join(cl.take(9)))"
   ]
  },
  {
   "cell_type": "code",
   "execution_count": null,
   "metadata": {},
   "outputs": [],
   "source": [
    "from collections import Iterable\n",
    "\n",
    "counts = pc.df.groupby(df.index.date).count().iloc[:,0]\n",
    "counts.index = pd.to_datetime(counts.index)\n",
    "\n",
    "weights = .1\n",
    "if isinstance(weights, Iterable) and len(weights) == 1:\n",
    "    weights = weights[0]\n",
    "    \n",
    "if not isinstance(weights, Iterable):\n",
    "    if weights > 1:\n",
    "        raise ValueError()\n",
    "    weights = [1-weights, weights]\n",
    "    \n",
    "weights = np.array(weights)\n",
    "weights = weights.astype(float)/weights.sum()\n",
    "\n",
    "weights = weights/weights[0]\n",
    "\n",
    "\n",
    "def create_inject_dataframe(outside_data, pct, counts, start_date=None, end_date=None):\n",
    "    \n",
    "    if start_date is None:\n",
    "        start_date = counts.index.max().date()\n",
    "    \n",
    "    if end_date is None:\n",
    "        end_date = str(counts.index.max().date())\n",
    "        \n",
    "    inject_index = pd.date_range(start_date, end_date, freq='D')\n",
    "    cl = CycleList(outside_data.index)\n",
    "    new_df = {}\n",
    "    counts = (counts*pct).apply(np.round).reindex(inject_index).fillna(0).astype(int)\n",
    "    for new_ix, count in counts.items():\n",
    "        ixes = cl.take(int(count))\n",
    "        new_df[new_ix] = outside_data.loc[ixes]\n",
    "    return pd.concat(new_df, axis=0).reset_index(level=1).rename_axis('StudyDate')\n",
    "\n",
    "peds_data_dist = create_inject_dataframe(peds_data, .1/(1 -.1), counts, start_date=\"2013-04-01\", end_date='2013-12-31').assign(source='peds')\n",
    "peds_data_dist.head(3)"
   ]
  },
  {
   "cell_type": "code",
   "execution_count": null,
   "metadata": {},
   "outputs": [],
   "source": []
  },
  {
   "cell_type": "code",
   "execution_count": null,
   "metadata": {},
   "outputs": [],
   "source": [
    "dft = pd.concat([df.assign(in_distro=True), peds_data_dist.assign(in_distro=False)], sort=True)\n",
    "\n",
    "(1-dft.groupby(dft.index.date)['in_distro'].mean()).plot(figsize=(15,5))"
   ]
  },
  {
   "cell_type": "code",
   "execution_count": null,
   "metadata": {},
   "outputs": [],
   "source": [
    "peds_data_dist.index"
   ]
  },
  {
   "cell_type": "code",
   "execution_count": null,
   "metadata": {},
   "outputs": [],
   "source": [
    "dft.groupby(dft.index.date)['in_distro'].mean().reindex(peds_data_dist.index.unique()).mean()"
   ]
  },
  {
   "cell_type": "code",
   "execution_count": null,
   "metadata": {},
   "outputs": [],
   "source": [
    "peds_data_dist.groupby(peds_data_dist.index.date).count().iloc[:,0]"
   ]
  },
  {
   "cell_type": "code",
   "execution_count": null,
   "metadata": {},
   "outputs": [],
   "source": [
    ".1/(1 -.1)"
   ]
  },
  {
   "cell_type": "code",
   "execution_count": null,
   "metadata": {},
   "outputs": [],
   "source": [
    "for i in counts.reindex(inject_index).items():\n",
    "    print(i)"
   ]
  },
  {
   "cell_type": "code",
   "execution_count": null,
   "metadata": {},
   "outputs": [],
   "source": [
    "\n",
    "from collections import defaultdict\n",
    "counts_in_pc = df.groupby(df.index.date).count().iloc[:,0].reindex(peds_new_index)\n",
    "counts = (counts_in_pc*.75).apply(np.round).fillna(0).astype(int)\n",
    "ped_ix = outside_scores_df.index.to_list()\n",
    "cl = CycleList(ped_ix, shuffle=True)\n",
    "new_df = {}\n",
    "for new_ix in peds_new_index:\n",
    "    ixes = cl.take(counts[new_ix])\n",
    "    new_df[new_ix] = pd.concat([outside_scores_df.loc[ixes], outside_vae_df.loc[ixes]], axis=1)\n",
    "\n",
    "new_df = pd.concat(new_df, axis=0)\n",
    "\n",
    "new_df = new_df.droplevel(1, axis=0).rename(columns={\"index\": \"ImageID\"})\n",
    "new_df.index.name = \"StudyDate\"\n",
    "\n",
    "new_df"
   ]
  },
  {
   "cell_type": "code",
   "execution_count": null,
   "metadata": {},
   "outputs": [],
   "source": [
    "p = pd.concat([counts_in_pc, counts], axis=1)\n",
    "p.columns = ['O', 'N']\n",
    "p = p.div(p.sum(axis=1), axis=0)\n",
    "\n",
    "p.N.describe()"
   ]
  },
  {
   "cell_type": "code",
   "execution_count": null,
   "metadata": {},
   "outputs": [],
   "source": [
    "FLOAT = KSDriftCalculator\n",
    "CAT = ChiSqDriftCalculator\n",
    "\n",
    "cols = {\n",
    "    'age': FLOAT,\n",
    "    'Projection': CAT,\n",
    "    \"PatientSex_DICOM\": CAT,\n",
    "    \"ViewPosition_DICOM\": CAT,\n",
    "    \"Modality_DICOM\": CAT,\n",
    "    \"Manufacturer_DICOM\": CAT,\n",
    "    \"PhotometricInterpretation_DICOM\": CAT,\n",
    "    \"PixelRepresentation_DICOM\": CAT,\n",
    "    \"PixelAspectRatio_DICOM\": CAT,\n",
    "    \"SpatialResolution_DICOM\": CAT,\n",
    "    \"BitsStored_DICOM\": CAT,\n",
    "    \"WindowCenter_DICOM\": FLOAT,\n",
    "    \"WindowWidth_DICOM\": FLOAT,\n",
    "    \"Rows_DICOM\": FLOAT,\n",
    "    \"Columns_DICOM\": FLOAT,\n",
    "    \"XRayTubeCurrent_DICOM\": CAT,\n",
    "    \"Exposure_DICOM\": CAT,\n",
    "    \"ExposureInuAs_DICOM\": FLOAT,\n",
    "    \"RelativeXRayExposure_DICOM\": FLOAT,\n",
    "    'Frontal': BasicDriftCalculator,\n",
    "}\n",
    "\n",
    "cols.update({c:FLOAT for c in list(pc.df) if c.startswith(\"mu.\") and 'all' not in c})\n",
    "cols.update({c:FLOAT for c in list(pc.df) if c.startswith(\"activation.\") and 'all' not in c})\n",
    "# cols[(\"score\", \"label\")] = ClassificationReportCalculator\n"
   ]
  },
  {
   "cell_type": "code",
   "execution_count": null,
   "metadata": {},
   "outputs": [],
   "source": [
    "window = \"30D\"\n",
    "stride = \"D\"\n",
    "ref_frontal_only = True\n",
    "min_periods = 150\n",
    "\n",
    "nonfrontal_add_date = None\n",
    "frontal_remove_date = None\n",
    "\n",
    "replacement = True\n",
    "sample_size = 2000\n",
    "n_samples = 20\n",
    "\n",
    "\n",
    "sampler = Sampler(sample_size, replacement=replacement)\n"
   ]
  },
  {
   "cell_type": "code",
   "execution_count": null,
   "metadata": {},
   "outputs": [],
   "source": [
    "refdf = val.df.copy()\n",
    "if ref_frontal_only:\n",
    "    refdf = refdf.query(\"Frontal\")\n",
    "\n",
    "\n",
    "print(len(refdf), len(val.df))\n",
    "\n",
    "dwc = TabularDriftCalculator(refdf)\n",
    "\n",
    "for c, kls in cols.items():\n",
    "    dwc.add_drift_stat(c, kls)\n",
    "    \n",
    "dwc.add_drift_stat('performance', ClassificationReportCalculator, col=(\n",
    "    \"score\", \"label\"), target_names=tuple(LABEL_MAP), include_stat_name=False)\n",
    "    \n",
    "dwc.prepare()\n",
    "\n",
    "target_df = pc.df.set_index('StudyDate')\n",
    "\n",
    "nonfrontals_target_df = target_df.query(\"~Frontal\").copy()\n",
    "frontals_target_df = target_df.query(\"Frontal\").copy()\n",
    "\n",
    "\n"
   ]
  },
  {
   "cell_type": "code",
   "execution_count": null,
   "metadata": {},
   "outputs": [],
   "source": [
    "frontals_target_df = target_df.query(\"Frontal\").copy()\n",
    "\n",
    "len(frontals_target_df)"
   ]
  },
  {
   "cell_type": "code",
   "execution_count": null,
   "metadata": {},
   "outputs": [],
   "source": [
    "frontals_target_df = frontals_target_df.loc[:frontal_remove_date]\n",
    "\n",
    "nonfrontal_add_date = None\n",
    "if nonfrontal_add_date is None:\n",
    "    nonfrontals_target_df = pd.DataFrame(columns=target_df.columns)\n",
    "\n",
    "print(len(nonfrontals_target_df), len(frontals_target_df))\n",
    "target_df2 = pd.concat([nonfrontals_target_df, frontals_target_df]).sort_index()"
   ]
  },
  {
   "cell_type": "code",
   "execution_count": null,
   "metadata": {},
   "outputs": [],
   "source": [
    "print(\"nonfrontals_target_df\", nonfrontals_target_df.index.min(), nonfrontals_target_df.index.max())\n",
    "print(\"frontals_target_df\", frontals_target_df.index.min(), frontals_target_df.index.max())"
   ]
  },
  {
   "cell_type": "code",
   "execution_count": null,
   "metadata": {},
   "outputs": [],
   "source": [
    "\n",
    "nonfrontals_target_df = target_df.query(\"~Frontal\").copy()\n",
    "frontals_target_df = target_df.query(\"Frontal\").copy()\n",
    "\n",
    "# print(\"nonfrontals_target_df\", nonfrontals_target_df.index.min(), nonfrontals_target_df.index.max())\n",
    "# print(\"frontals_target_df\", frontals_target_df.index.min(), frontals_target_df.index.max())\n",
    "\n",
    "nonfrontals_target_df = nonfrontals_target_df.loc[nonfrontal_add_date:]\n",
    "frontals_target_df = frontals_target_df.loc[:frontal_remove_date]\n",
    "\n",
    "print(\"nonfrontals_target_df\", nonfrontals_target_df.index.min(), nonfrontals_target_df.index.max())\n",
    "print(\"frontals_target_df\", frontals_target_df.index.min(), frontals_target_df.index.max())\n",
    "\n",
    "target_df = pd.concat([nonfrontals_target_df, frontals_target_df]).sort_index()\n",
    "print(target_df['Frontal'].mean())\n",
    "\n",
    "print(len(target_df), len(pc.df.set_index('StudyDate')))\n"
   ]
  },
  {
   "cell_type": "code",
   "execution_count": null,
   "metadata": {},
   "outputs": [],
   "source": [
    "fname = settings.TOP_DIR.joinpath(\n",
    "    \"results\", \"drift_csvs\", f\"drift_VAE{vae_type}-MDL{classifier_type}_LatInject-addnfrnt{nonfrontal_add_date}-rmfrnt{frontal_remove_date}_s{stride}-w{window}-min{min_periods}_frontalonly-ref{ref_frontal_only}_Samp-ss{sample_size}-n{n_samples}-repl{replacement}.csv\")\n",
    "print(fname)\n"
   ]
  },
  {
   "cell_type": "code",
   "execution_count": null,
   "metadata": {},
   "outputs": [],
   "source": [
    "from model_drift.data.utils import rolling_window_dt_apply\n",
    "\n",
    "frontal_over_time = rolling_window_dt_apply(target_df, lambda x: {'frontal': x['Frontal'].mean()}, n_jobs=5, backend='threading')\n",
    "\n",
    "frontal_over_time.plot(y='frontal', figsize=(20, 8))\n"
   ]
  },
  {
   "cell_type": "code",
   "execution_count": null,
   "metadata": {},
   "outputs": [],
   "source": [
    "\n",
    "output = dwc.rolling_window_predict(target_df,\n",
    "                                    sampler=sampler, n_samples=n_samples,\n",
    "                                    stride=stride, window=window, min_periods=min_periods,\n",
    "                                    n_jobs=10, backend=\"threading\"\n",
    "                                    )\n"
   ]
  },
  {
   "cell_type": "code",
   "execution_count": null,
   "metadata": {},
   "outputs": [],
   "source": [
    "output"
   ]
  },
  {
   "cell_type": "code",
   "execution_count": null,
   "metadata": {},
   "outputs": [],
   "source": [
    "set(output.columns.get_level_values(0))"
   ]
  },
  {
   "cell_type": "code",
   "execution_count": null,
   "metadata": {},
   "outputs": [],
   "source": [
    "print(fname)\n",
    "output.to_csv(fname)\n"
   ]
  },
  {
   "cell_type": "code",
   "execution_count": null,
   "metadata": {},
   "outputs": [],
   "source": [
    "output['performance']"
   ]
  },
  {
   "cell_type": "code",
   "execution_count": null,
   "metadata": {},
   "outputs": [],
   "source": [
    "\n",
    "\n",
    "output['score'].ewm(span=90).mean().plot(figsize=(20, 8))\n",
    "\n",
    "frontal_over_time.ewm(span=90).mean().plot(y='frontal', figsize=(20, 8))\n",
    "\n",
    "frontal_over_time.ewm(span=90).mean().plot(y='window_count', figsize=(20, 8))\n"
   ]
  },
  {
   "cell_type": "code",
   "execution_count": null,
   "metadata": {},
   "outputs": [],
   "source": [
    "output[[\"Frontal\", 'score']].drop([(\"Frontal\", 'stats', \"std\")], axis=1).plot(figsize=(20, 8))\n"
   ]
  },
  {
   "cell_type": "code",
   "execution_count": null,
   "metadata": {},
   "outputs": [],
   "source": []
  }
 ],
 "metadata": {
  "interpreter": {
   "hash": "40209cfd1e49aba1e20a3908f9a243f43b2ed73034fd3a81730d62124bbdcdae"
  },
  "kernelspec": {
   "display_name": "Python 3.7.3 64-bit (conda)",
   "name": "python3"
  },
  "language_info": {
   "codemirror_mode": {
    "name": "ipython",
    "version": 3
   },
   "file_extension": ".py",
   "mimetype": "text/x-python",
   "name": "python",
   "nbconvert_exporter": "python",
   "pygments_lexer": "ipython3",
   "version": "3.7.3"
  },
  "orig_nbformat": 4
 },
 "nbformat": 4,
 "nbformat_minor": 2
}
