{
 "cells": [
  {
   "cell_type": "code",
   "execution_count": 1,
   "metadata": {},
   "outputs": [],
   "source": [
    "from IPython.display import display, Markdown, HTML\n",
    "import plotly.express as px\n",
    "import itertools\n",
    "\n",
    "from azureml.core import Run, Model\n",
    "from azureml.core import Datastore, Experiment, ScriptRunConfig, Workspace, Run\n",
    "\n",
    "from model_drift import settings\n",
    "from model_drift.helpers import column_xs, correlate_performance, mutual_info_performance, w_avg\n",
    "import pandas as pd\n",
    "import os\n",
    "import datetime\n",
    "\n"
   ]
  },
  {
   "cell_type": "code",
   "execution_count": 2,
   "metadata": {},
   "outputs": [
    {
     "name": "stderr",
     "output_type": "stream",
     "text": [
      "Warning: Falling back to use azure cli login credentials.\n",
      "If you run your code in unattended mode, i.e., where you can't give a user input, then we recommend to use ServicePrincipalAuthentication or MsiAuthentication.\n",
      "Please refer to aka.ms/aml-notebook-auth for different authentication mechanisms in azureml-sdk.\n"
     ]
    },
    {
     "data": {
      "text/html": [
       "<div>\n",
       "<style scoped>\n",
       "    .dataframe tbody tr th:only-of-type {\n",
       "        vertical-align: middle;\n",
       "    }\n",
       "\n",
       "    .dataframe tbody tr th {\n",
       "        vertical-align: top;\n",
       "    }\n",
       "\n",
       "    .dataframe thead th {\n",
       "        text-align: right;\n",
       "    }\n",
       "</style>\n",
       "<table border=\"1\" class=\"dataframe\">\n",
       "  <thead>\n",
       "    <tr style=\"text-align: right;\">\n",
       "      <th></th>\n",
       "      <th>_aml_system_ComputeTargetStatus</th>\n",
       "      <th>mlflow.source.type</th>\n",
       "      <th>mlflow.source.name</th>\n",
       "      <th>run_azure</th>\n",
       "      <th>input_dir</th>\n",
       "      <th>output_dir</th>\n",
       "      <th>dataset</th>\n",
       "      <th>vae_dataset</th>\n",
       "      <th>classifier_dataset</th>\n",
       "      <th>vae_filter</th>\n",
       "      <th>...</th>\n",
       "      <th>num_workers</th>\n",
       "      <th>dbg</th>\n",
       "      <th>id</th>\n",
       "      <th>url</th>\n",
       "      <th>run</th>\n",
       "      <th>frontal_remove_date</th>\n",
       "      <th>nonfrontal_add_date</th>\n",
       "      <th>peds_end_date</th>\n",
       "      <th>peds_start_date</th>\n",
       "      <th>peds_weight</th>\n",
       "    </tr>\n",
       "    <tr>\n",
       "      <th>display_name</th>\n",
       "      <th></th>\n",
       "      <th></th>\n",
       "      <th></th>\n",
       "      <th></th>\n",
       "      <th></th>\n",
       "      <th></th>\n",
       "      <th></th>\n",
       "      <th></th>\n",
       "      <th></th>\n",
       "      <th></th>\n",
       "      <th></th>\n",
       "      <th></th>\n",
       "      <th></th>\n",
       "      <th></th>\n",
       "      <th></th>\n",
       "      <th></th>\n",
       "      <th></th>\n",
       "      <th></th>\n",
       "      <th></th>\n",
       "      <th></th>\n",
       "      <th></th>\n",
       "    </tr>\n",
       "  </thead>\n",
       "  <tbody>\n",
       "    <tr>\n",
       "      <th>sad_caravan_nnryywcw</th>\n",
       "      <td>{\"AllocationState\":\"steady\",\"PreparingNodeCoun...</td>\n",
       "      <td>JOB</td>\n",
       "      <td>scripts/drift/generate-drift-csv-label.py</td>\n",
       "      <td>1</td>\n",
       "      <td>/mnt/batch/tasks/shared/LS_root/jobs/mlops_sha...</td>\n",
       "      <td>./outputs/</td>\n",
       "      <td>padchest</td>\n",
       "      <td>padchest-trained</td>\n",
       "      <td>padchest-finetuned-chx-frontalonly</td>\n",
       "      <td>all-data</td>\n",
       "      <td>...</td>\n",
       "      <td>10</td>\n",
       "      <td>1</td>\n",
       "      <td>generate-drift-csv-label-mod-dbg_1642612521_b3...</td>\n",
       "      <td>https://ml.azure.com/runs/generate-drift-csv-l...</td>\n",
       "      <td>Run(Experiment: generate-drift-csv-label-mod-d...</td>\n",
       "      <td>NaN</td>\n",
       "      <td>NaN</td>\n",
       "      <td>NaN</td>\n",
       "      <td>NaN</td>\n",
       "      <td>NaN</td>\n",
       "    </tr>\n",
       "    <tr>\n",
       "      <th>serene_head_v04mgvx4</th>\n",
       "      <td>{\"AllocationState\":\"steady\",\"PreparingNodeCoun...</td>\n",
       "      <td>JOB</td>\n",
       "      <td>scripts/drift/generate-drift-csv-label.py</td>\n",
       "      <td>1</td>\n",
       "      <td>/mnt/batch/tasks/shared/LS_root/jobs/mlops_sha...</td>\n",
       "      <td>./outputs/</td>\n",
       "      <td>padchest</td>\n",
       "      <td>padchest-trained</td>\n",
       "      <td>padchest-finetuned-chx-frontalonly</td>\n",
       "      <td>all-data</td>\n",
       "      <td>...</td>\n",
       "      <td>10</td>\n",
       "      <td>1</td>\n",
       "      <td>generate-drift-csv-label-mod-dbg_1642612530_ae...</td>\n",
       "      <td>https://ml.azure.com/runs/generate-drift-csv-l...</td>\n",
       "      <td>Run(Experiment: generate-drift-csv-label-mod-d...</td>\n",
       "      <td>NaN</td>\n",
       "      <td>NaN</td>\n",
       "      <td>NaN</td>\n",
       "      <td>NaN</td>\n",
       "      <td>NaN</td>\n",
       "    </tr>\n",
       "    <tr>\n",
       "      <th>salmon_cloud_wg3s2fnq</th>\n",
       "      <td>{\"AllocationState\":\"steady\",\"PreparingNodeCoun...</td>\n",
       "      <td>JOB</td>\n",
       "      <td>scripts/drift/generate-drift-csv-label.py</td>\n",
       "      <td>1</td>\n",
       "      <td>/mnt/batch/tasks/shared/LS_root/jobs/mlops_sha...</td>\n",
       "      <td>./outputs/</td>\n",
       "      <td>padchest</td>\n",
       "      <td>padchest-trained</td>\n",
       "      <td>padchest-finetuned-chx-frontalonly</td>\n",
       "      <td>all-data</td>\n",
       "      <td>...</td>\n",
       "      <td>10</td>\n",
       "      <td>1</td>\n",
       "      <td>generate-drift-csv-label-mod-dbg_1642612524_fb...</td>\n",
       "      <td>https://ml.azure.com/runs/generate-drift-csv-l...</td>\n",
       "      <td>Run(Experiment: generate-drift-csv-label-mod-d...</td>\n",
       "      <td>NaN</td>\n",
       "      <td>NaN</td>\n",
       "      <td>NaN</td>\n",
       "      <td>NaN</td>\n",
       "      <td>NaN</td>\n",
       "    </tr>\n",
       "    <tr>\n",
       "      <th>affable_plum_cm6y51d3</th>\n",
       "      <td>{\"AllocationState\":\"steady\",\"PreparingNodeCoun...</td>\n",
       "      <td>JOB</td>\n",
       "      <td>scripts/drift/generate-drift-csv-label.py</td>\n",
       "      <td>1</td>\n",
       "      <td>/mnt/batch/tasks/shared/LS_root/jobs/mlops_sha...</td>\n",
       "      <td>./outputs/</td>\n",
       "      <td>padchest</td>\n",
       "      <td>padchest-trained</td>\n",
       "      <td>padchest-finetuned-chx-frontalonly</td>\n",
       "      <td>all-data</td>\n",
       "      <td>...</td>\n",
       "      <td>10</td>\n",
       "      <td>1</td>\n",
       "      <td>generate-drift-csv-label-mod-dbg_1642612534_c7...</td>\n",
       "      <td>https://ml.azure.com/runs/generate-drift-csv-l...</td>\n",
       "      <td>Run(Experiment: generate-drift-csv-label-mod-d...</td>\n",
       "      <td>NaN</td>\n",
       "      <td>NaN</td>\n",
       "      <td>NaN</td>\n",
       "      <td>NaN</td>\n",
       "      <td>NaN</td>\n",
       "    </tr>\n",
       "    <tr>\n",
       "      <th>musing_lock_mgsp9xps</th>\n",
       "      <td>{\"AllocationState\":\"steady\",\"PreparingNodeCoun...</td>\n",
       "      <td>JOB</td>\n",
       "      <td>scripts/drift/generate-drift-csv-label.py</td>\n",
       "      <td>1</td>\n",
       "      <td>/mnt/batch/tasks/shared/LS_root/jobs/mlops_sha...</td>\n",
       "      <td>./outputs/</td>\n",
       "      <td>padchest</td>\n",
       "      <td>padchest-trained</td>\n",
       "      <td>padchest-finetuned-chx-frontalonly</td>\n",
       "      <td>all-data</td>\n",
       "      <td>...</td>\n",
       "      <td>10</td>\n",
       "      <td>1</td>\n",
       "      <td>generate-drift-csv-label-mod-dbg_1642461065_3b...</td>\n",
       "      <td>https://ml.azure.com/runs/generate-drift-csv-l...</td>\n",
       "      <td>Run(Experiment: generate-drift-csv-label-mod-d...</td>\n",
       "      <td>NaN</td>\n",
       "      <td>NaN</td>\n",
       "      <td>NaN</td>\n",
       "      <td>NaN</td>\n",
       "      <td>NaN</td>\n",
       "    </tr>\n",
       "  </tbody>\n",
       "</table>\n",
       "<p>5 rows × 36 columns</p>\n",
       "</div>"
      ],
      "text/plain": [
       "                                         _aml_system_ComputeTargetStatus  \\\n",
       "display_name                                                               \n",
       "sad_caravan_nnryywcw   {\"AllocationState\":\"steady\",\"PreparingNodeCoun...   \n",
       "serene_head_v04mgvx4   {\"AllocationState\":\"steady\",\"PreparingNodeCoun...   \n",
       "salmon_cloud_wg3s2fnq  {\"AllocationState\":\"steady\",\"PreparingNodeCoun...   \n",
       "affable_plum_cm6y51d3  {\"AllocationState\":\"steady\",\"PreparingNodeCoun...   \n",
       "musing_lock_mgsp9xps   {\"AllocationState\":\"steady\",\"PreparingNodeCoun...   \n",
       "\n",
       "                      mlflow.source.type  \\\n",
       "display_name                               \n",
       "sad_caravan_nnryywcw                 JOB   \n",
       "serene_head_v04mgvx4                 JOB   \n",
       "salmon_cloud_wg3s2fnq                JOB   \n",
       "affable_plum_cm6y51d3                JOB   \n",
       "musing_lock_mgsp9xps                 JOB   \n",
       "\n",
       "                                              mlflow.source.name run_azure  \\\n",
       "display_name                                                                 \n",
       "sad_caravan_nnryywcw   scripts/drift/generate-drift-csv-label.py         1   \n",
       "serene_head_v04mgvx4   scripts/drift/generate-drift-csv-label.py         1   \n",
       "salmon_cloud_wg3s2fnq  scripts/drift/generate-drift-csv-label.py         1   \n",
       "affable_plum_cm6y51d3  scripts/drift/generate-drift-csv-label.py         1   \n",
       "musing_lock_mgsp9xps   scripts/drift/generate-drift-csv-label.py         1   \n",
       "\n",
       "                                                               input_dir  \\\n",
       "display_name                                                               \n",
       "sad_caravan_nnryywcw   /mnt/batch/tasks/shared/LS_root/jobs/mlops_sha...   \n",
       "serene_head_v04mgvx4   /mnt/batch/tasks/shared/LS_root/jobs/mlops_sha...   \n",
       "salmon_cloud_wg3s2fnq  /mnt/batch/tasks/shared/LS_root/jobs/mlops_sha...   \n",
       "affable_plum_cm6y51d3  /mnt/batch/tasks/shared/LS_root/jobs/mlops_sha...   \n",
       "musing_lock_mgsp9xps   /mnt/batch/tasks/shared/LS_root/jobs/mlops_sha...   \n",
       "\n",
       "                       output_dir   dataset       vae_dataset  \\\n",
       "display_name                                                    \n",
       "sad_caravan_nnryywcw   ./outputs/  padchest  padchest-trained   \n",
       "serene_head_v04mgvx4   ./outputs/  padchest  padchest-trained   \n",
       "salmon_cloud_wg3s2fnq  ./outputs/  padchest  padchest-trained   \n",
       "affable_plum_cm6y51d3  ./outputs/  padchest  padchest-trained   \n",
       "musing_lock_mgsp9xps   ./outputs/  padchest  padchest-trained   \n",
       "\n",
       "                                       classifier_dataset vae_filter  ...  \\\n",
       "display_name                                                          ...   \n",
       "sad_caravan_nnryywcw   padchest-finetuned-chx-frontalonly   all-data  ...   \n",
       "serene_head_v04mgvx4   padchest-finetuned-chx-frontalonly   all-data  ...   \n",
       "salmon_cloud_wg3s2fnq  padchest-finetuned-chx-frontalonly   all-data  ...   \n",
       "affable_plum_cm6y51d3  padchest-finetuned-chx-frontalonly   all-data  ...   \n",
       "musing_lock_mgsp9xps   padchest-finetuned-chx-frontalonly   all-data  ...   \n",
       "\n",
       "                      num_workers dbg  \\\n",
       "display_name                            \n",
       "sad_caravan_nnryywcw           10   1   \n",
       "serene_head_v04mgvx4           10   1   \n",
       "salmon_cloud_wg3s2fnq          10   1   \n",
       "affable_plum_cm6y51d3          10   1   \n",
       "musing_lock_mgsp9xps           10   1   \n",
       "\n",
       "                                                                      id  \\\n",
       "display_name                                                               \n",
       "sad_caravan_nnryywcw   generate-drift-csv-label-mod-dbg_1642612521_b3...   \n",
       "serene_head_v04mgvx4   generate-drift-csv-label-mod-dbg_1642612530_ae...   \n",
       "salmon_cloud_wg3s2fnq  generate-drift-csv-label-mod-dbg_1642612524_fb...   \n",
       "affable_plum_cm6y51d3  generate-drift-csv-label-mod-dbg_1642612534_c7...   \n",
       "musing_lock_mgsp9xps   generate-drift-csv-label-mod-dbg_1642461065_3b...   \n",
       "\n",
       "                                                                     url  \\\n",
       "display_name                                                               \n",
       "sad_caravan_nnryywcw   https://ml.azure.com/runs/generate-drift-csv-l...   \n",
       "serene_head_v04mgvx4   https://ml.azure.com/runs/generate-drift-csv-l...   \n",
       "salmon_cloud_wg3s2fnq  https://ml.azure.com/runs/generate-drift-csv-l...   \n",
       "affable_plum_cm6y51d3  https://ml.azure.com/runs/generate-drift-csv-l...   \n",
       "musing_lock_mgsp9xps   https://ml.azure.com/runs/generate-drift-csv-l...   \n",
       "\n",
       "                                                                     run  \\\n",
       "display_name                                                               \n",
       "sad_caravan_nnryywcw   Run(Experiment: generate-drift-csv-label-mod-d...   \n",
       "serene_head_v04mgvx4   Run(Experiment: generate-drift-csv-label-mod-d...   \n",
       "salmon_cloud_wg3s2fnq  Run(Experiment: generate-drift-csv-label-mod-d...   \n",
       "affable_plum_cm6y51d3  Run(Experiment: generate-drift-csv-label-mod-d...   \n",
       "musing_lock_mgsp9xps   Run(Experiment: generate-drift-csv-label-mod-d...   \n",
       "\n",
       "                      frontal_remove_date nonfrontal_add_date peds_end_date  \\\n",
       "display_name                                                                  \n",
       "sad_caravan_nnryywcw                  NaN                 NaN           NaN   \n",
       "serene_head_v04mgvx4                  NaN                 NaN           NaN   \n",
       "salmon_cloud_wg3s2fnq                 NaN                 NaN           NaN   \n",
       "affable_plum_cm6y51d3                 NaN                 NaN           NaN   \n",
       "musing_lock_mgsp9xps                  NaN                 NaN           NaN   \n",
       "\n",
       "                      peds_start_date peds_weight  \n",
       "display_name                                       \n",
       "sad_caravan_nnryywcw              NaN         NaN  \n",
       "serene_head_v04mgvx4              NaN         NaN  \n",
       "salmon_cloud_wg3s2fnq             NaN         NaN  \n",
       "affable_plum_cm6y51d3             NaN         NaN  \n",
       "musing_lock_mgsp9xps              NaN         NaN  \n",
       "\n",
       "[5 rows x 36 columns]"
      ]
     },
     "execution_count": 2,
     "metadata": {},
     "output_type": "execute_result"
    }
   ],
   "source": [
    "import pandas as pd\n",
    "import six\n",
    "\n",
    "\n",
    "ws = Workspace.from_config(settings.AZUREML_CONFIG)\n",
    "experiment_name = 'generate-drift-csv-label-mod-dbg'\n",
    "exp = Experiment(workspace=ws, name=experiment_name)\n",
    "\n",
    "\n",
    "def run_to_dict(run):\n",
    "    d = dict(**run.tags)\n",
    "    d['id'] = run.id\n",
    "    d['display_name'] = run.display_name\n",
    "    d['url'] = run.get_portal_url()\n",
    "    d['run'] = run\n",
    "    # d[\"startTimeUtc\"] = pd.to_datetime(run.get_details()[\"startTimeUtc\"])\n",
    "    # d[\"endTimeUtc\"] = pd.to_datetime(run.get_details()[\"endTimeUtc\"])\n",
    "    return d\n",
    "\n",
    "\n",
    "def experiment_to_dataframe(experiment, workspace=None):\n",
    "    \n",
    "    if isinstance(experiment, six.string_types):\n",
    "        if workspace is None:\n",
    "            raise ValueError(\"if experiment is string, must provide workspace\")\n",
    "        experiment = Experiment(workspace=workspace, name=experiment)\n",
    "    df = []\n",
    "    for run in exp.get_runs():\n",
    "        if run.status != \"Completed\":\n",
    "            continue\n",
    "        df.append(run_to_dict(run))\n",
    "    return pd.DataFrame(df).set_index(['display_name'])#.sort_values(\"endTimeUtc\", ascending=False)\n",
    "\n",
    "df = experiment_to_dataframe(exp)\n",
    "\n",
    "run = Run(experiment=Experiment(workspace=ws, name='generate-drift-csv-3'), \n",
    "          run_id=\"generate-drift-csv-3_1639942528_d9f3ee90\") # \"tender_pear_lfbd6\n",
    "df = df[~df['mod_end_date'].isnull()]\n",
    "\n",
    "# Baseline\n",
    "d = run_to_dict(run)\n",
    "d[\"label_modifiers\"] = \"Baseline\"\n",
    "df = df.append(pd.Series(d, name=d.pop(\"display_name\")))\n",
    "\n",
    "df.head()"
   ]
  },
  {
   "cell_type": "code",
   "execution_count": 3,
   "metadata": {},
   "outputs": [],
   "source": [
    "html_top_dir = settings.TOP_DIR.joinpath(\"html\", \"graphs_paper\")\n",
    "html_top_dir.mkdir(exist_ok=True)"
   ]
  },
  {
   "cell_type": "code",
   "execution_count": 4,
   "metadata": {},
   "outputs": [
    {
     "data": {
      "text/html": [
       "<div>\n",
       "<style scoped>\n",
       "    .dataframe tbody tr th:only-of-type {\n",
       "        vertical-align: middle;\n",
       "    }\n",
       "\n",
       "    .dataframe tbody tr th {\n",
       "        vertical-align: top;\n",
       "    }\n",
       "\n",
       "    .dataframe thead th {\n",
       "        text-align: right;\n",
       "    }\n",
       "</style>\n",
       "<table border=\"1\" class=\"dataframe\">\n",
       "  <thead>\n",
       "    <tr style=\"text-align: right;\">\n",
       "      <th></th>\n",
       "      <th>label_modifiers</th>\n",
       "      <th>mod_end_date</th>\n",
       "      <th>randomize_start_date</th>\n",
       "      <th>dbg</th>\n",
       "      <th>peds_weight</th>\n",
       "      <th>Link</th>\n",
       "    </tr>\n",
       "    <tr>\n",
       "      <th>display_name</th>\n",
       "      <th></th>\n",
       "      <th></th>\n",
       "      <th></th>\n",
       "      <th></th>\n",
       "      <th></th>\n",
       "      <th></th>\n",
       "    </tr>\n",
       "  </thead>\n",
       "  <tbody>\n",
       "    <tr>\n",
       "      <th>sad_caravan_nnryywcw</th>\n",
       "      <td>{\"Opacity\": [0.75, \"2014-04-01\", \"2014-08-15\"]...</td>\n",
       "      <td>2014-12-31</td>\n",
       "      <td>None</td>\n",
       "      <td>1</td>\n",
       "      <td>NaN</td>\n",
       "      <td>N/A</td>\n",
       "    </tr>\n",
       "    <tr>\n",
       "      <th>serene_head_v04mgvx4</th>\n",
       "      <td>{\"Cardiomegaly\": [0.75, \"2014-04-01\", \"2014-08...</td>\n",
       "      <td>2014-12-31</td>\n",
       "      <td>None</td>\n",
       "      <td>1</td>\n",
       "      <td>NaN</td>\n",
       "      <td>N/A</td>\n",
       "    </tr>\n",
       "    <tr>\n",
       "      <th>salmon_cloud_wg3s2fnq</th>\n",
       "      <td>{\"Pleural Abnormalities\": [0.75, \"2014-04-01\",...</td>\n",
       "      <td>2014-12-31</td>\n",
       "      <td>None</td>\n",
       "      <td>1</td>\n",
       "      <td>NaN</td>\n",
       "      <td>N/A</td>\n",
       "    </tr>\n",
       "    <tr>\n",
       "      <th>affable_plum_cm6y51d3</th>\n",
       "      <td>{\"Atelectasis\": [0.75, \"2014-04-01\", \"2014-08-...</td>\n",
       "      <td>2014-12-31</td>\n",
       "      <td>None</td>\n",
       "      <td>1</td>\n",
       "      <td>NaN</td>\n",
       "      <td>N/A</td>\n",
       "    </tr>\n",
       "    <tr>\n",
       "      <th>musing_lock_mgsp9xps</th>\n",
       "      <td>{\"Opacity\": [0.75, \"2014-06-01\", \"2014-09-15\"]...</td>\n",
       "      <td>2014-12-31</td>\n",
       "      <td>None</td>\n",
       "      <td>1</td>\n",
       "      <td>NaN</td>\n",
       "      <td>N/A</td>\n",
       "    </tr>\n",
       "    <tr>\n",
       "      <th>mighty_beard_vvtgq0q9</th>\n",
       "      <td>{\"Pleural Abnormalities\": [0.75, \"2014-06-01\",...</td>\n",
       "      <td>2014-12-31</td>\n",
       "      <td>None</td>\n",
       "      <td>1</td>\n",
       "      <td>NaN</td>\n",
       "      <td>N/A</td>\n",
       "    </tr>\n",
       "    <tr>\n",
       "      <th>jolly_tangelo_ch7q56v0</th>\n",
       "      <td>{\"Atelectasis\": [0.75, \"2014-06-01\", \"2014-09-...</td>\n",
       "      <td>2014-12-31</td>\n",
       "      <td>None</td>\n",
       "      <td>1</td>\n",
       "      <td>NaN</td>\n",
       "      <td>N/A</td>\n",
       "    </tr>\n",
       "    <tr>\n",
       "      <th>keen_circle_9wktjvvd</th>\n",
       "      <td>{\"Atelectasis\": [0.75, \"2014-06-01\", \"2014-09-...</td>\n",
       "      <td>2014-12-31</td>\n",
       "      <td>None</td>\n",
       "      <td>1</td>\n",
       "      <td>NaN</td>\n",
       "      <td>N/A</td>\n",
       "    </tr>\n",
       "    <tr>\n",
       "      <th>purple_toe_dnntc2j8</th>\n",
       "      <td>None</td>\n",
       "      <td>2014-12-31</td>\n",
       "      <td>2014-06-01</td>\n",
       "      <td>1</td>\n",
       "      <td>NaN</td>\n",
       "      <td>N/A</td>\n",
       "    </tr>\n",
       "    <tr>\n",
       "      <th>goofy_dress_ztmzmh27</th>\n",
       "      <td>None</td>\n",
       "      <td>2014-12-31</td>\n",
       "      <td>2014-04-01</td>\n",
       "      <td>1</td>\n",
       "      <td>NaN</td>\n",
       "      <td>N/A</td>\n",
       "    </tr>\n",
       "    <tr>\n",
       "      <th>ivory_river_m6m000f8</th>\n",
       "      <td>{\"Atelectasis\": [0.5, \"2014-04-01\", \"2014-06-3...</td>\n",
       "      <td>2014-12-31</td>\n",
       "      <td>NaN</td>\n",
       "      <td>1</td>\n",
       "      <td>NaN</td>\n",
       "      <td>N/A</td>\n",
       "    </tr>\n",
       "    <tr>\n",
       "      <th>serene_angle_h8wlwrl7</th>\n",
       "      <td>{\"Lesion\": [0.5, \"2014-04-01\", \"2014-06-30\"], ...</td>\n",
       "      <td>2014-12-31</td>\n",
       "      <td>NaN</td>\n",
       "      <td>1</td>\n",
       "      <td>NaN</td>\n",
       "      <td>N/A</td>\n",
       "    </tr>\n",
       "    <tr>\n",
       "      <th>helpful_beard_352vr4j8</th>\n",
       "      <td>{\"Atelectasis\": [0.25, \"2014-04-01\", \"2014-06-...</td>\n",
       "      <td>2014-12-31</td>\n",
       "      <td>NaN</td>\n",
       "      <td>1</td>\n",
       "      <td>NaN</td>\n",
       "      <td>N/A</td>\n",
       "    </tr>\n",
       "    <tr>\n",
       "      <th>gentle_guitar_2nt9sm6t</th>\n",
       "      <td>{\"Cardiomegaly\": [0.25, \"2014-04-01\", \"2014-06...</td>\n",
       "      <td>2014-12-31</td>\n",
       "      <td>NaN</td>\n",
       "      <td>1</td>\n",
       "      <td>NaN</td>\n",
       "      <td>N/A</td>\n",
       "    </tr>\n",
       "    <tr>\n",
       "      <th>dynamic_fish_jtn2x5q9</th>\n",
       "      <td>{\"Opacity\": [0.5, \"2014-04-01\", \"2014-06-30\"],...</td>\n",
       "      <td>2014-12-31</td>\n",
       "      <td>NaN</td>\n",
       "      <td>1</td>\n",
       "      <td>NaN</td>\n",
       "      <td>N/A</td>\n",
       "    </tr>\n",
       "    <tr>\n",
       "      <th>lemon_plane_mrb3nm7v</th>\n",
       "      <td>{\"Pneumonia\": [0.25, \"2014-04-01\", \"2014-06-30...</td>\n",
       "      <td>2014-12-31</td>\n",
       "      <td>NaN</td>\n",
       "      <td>1</td>\n",
       "      <td>NaN</td>\n",
       "      <td>N/A</td>\n",
       "    </tr>\n",
       "    <tr>\n",
       "      <th>icy_fly_hpwms2yp</th>\n",
       "      <td>{\"Pneumonia\": [0.5, \"2014-04-01\", \"2014-06-30\"...</td>\n",
       "      <td>2014-12-31</td>\n",
       "      <td>NaN</td>\n",
       "      <td>1</td>\n",
       "      <td>NaN</td>\n",
       "      <td>N/A</td>\n",
       "    </tr>\n",
       "    <tr>\n",
       "      <th>epic_plate_nc54lhdv</th>\n",
       "      <td>{\"Cardiomegaly\": [0.5, \"2014-04-01\", \"2014-06-...</td>\n",
       "      <td>2014-12-31</td>\n",
       "      <td>NaN</td>\n",
       "      <td>1</td>\n",
       "      <td>NaN</td>\n",
       "      <td>N/A</td>\n",
       "    </tr>\n",
       "    <tr>\n",
       "      <th>quiet_duck_8y08st8w</th>\n",
       "      <td>{\"Atelectasis\": [0.5, \"2014-04-01\", \"2014-06-3...</td>\n",
       "      <td>2014-12-31</td>\n",
       "      <td>NaN</td>\n",
       "      <td>1</td>\n",
       "      <td>NaN</td>\n",
       "      <td>N/A</td>\n",
       "    </tr>\n",
       "    <tr>\n",
       "      <th>patient_hominy_8v6p78yh</th>\n",
       "      <td>{\"Cardiomegaly\": [0.75, \"2014-04-01\", \"2014-06...</td>\n",
       "      <td>2014-12-31</td>\n",
       "      <td>NaN</td>\n",
       "      <td>1</td>\n",
       "      <td>NaN</td>\n",
       "      <td>N/A</td>\n",
       "    </tr>\n",
       "    <tr>\n",
       "      <th>icy_ghost_rt8dc2xp</th>\n",
       "      <td>{\"No Finding\": [0.1287001287001287, \"2014-04-0...</td>\n",
       "      <td>2014-12-31</td>\n",
       "      <td>NaN</td>\n",
       "      <td>1</td>\n",
       "      <td>NaN</td>\n",
       "      <td>N/A</td>\n",
       "    </tr>\n",
       "    <tr>\n",
       "      <th>ivory_branch_d350x4yq</th>\n",
       "      <td>{\"Pneumonia\": [0.75, \"2014-04-01\", \"2014-06-30...</td>\n",
       "      <td>2014-12-31</td>\n",
       "      <td>NaN</td>\n",
       "      <td>1</td>\n",
       "      <td>NaN</td>\n",
       "      <td>N/A</td>\n",
       "    </tr>\n",
       "    <tr>\n",
       "      <th>red_answer_rdp62h0t</th>\n",
       "      <td>{\"Atelectasis\": [0.75, \"2014-04-01\", \"2014-06-...</td>\n",
       "      <td>2014-12-31</td>\n",
       "      <td>NaN</td>\n",
       "      <td>1</td>\n",
       "      <td>NaN</td>\n",
       "      <td>N/A</td>\n",
       "    </tr>\n",
       "    <tr>\n",
       "      <th>tender_pear_lfbd6wwg</th>\n",
       "      <td>Baseline</td>\n",
       "      <td>NaN</td>\n",
       "      <td>NaN</td>\n",
       "      <td>0</td>\n",
       "      <td>0</td>\n",
       "      <td>&lt;a href=\"tender_pear_lfbd6wwg/index.html\" disa...</td>\n",
       "    </tr>\n",
       "  </tbody>\n",
       "</table>\n",
       "</div>"
      ],
      "text/plain": [
       "                                                           label_modifiers  \\\n",
       "display_name                                                                 \n",
       "sad_caravan_nnryywcw     {\"Opacity\": [0.75, \"2014-04-01\", \"2014-08-15\"]...   \n",
       "serene_head_v04mgvx4     {\"Cardiomegaly\": [0.75, \"2014-04-01\", \"2014-08...   \n",
       "salmon_cloud_wg3s2fnq    {\"Pleural Abnormalities\": [0.75, \"2014-04-01\",...   \n",
       "affable_plum_cm6y51d3    {\"Atelectasis\": [0.75, \"2014-04-01\", \"2014-08-...   \n",
       "musing_lock_mgsp9xps     {\"Opacity\": [0.75, \"2014-06-01\", \"2014-09-15\"]...   \n",
       "mighty_beard_vvtgq0q9    {\"Pleural Abnormalities\": [0.75, \"2014-06-01\",...   \n",
       "jolly_tangelo_ch7q56v0   {\"Atelectasis\": [0.75, \"2014-06-01\", \"2014-09-...   \n",
       "keen_circle_9wktjvvd     {\"Atelectasis\": [0.75, \"2014-06-01\", \"2014-09-...   \n",
       "purple_toe_dnntc2j8                                                   None   \n",
       "goofy_dress_ztmzmh27                                                  None   \n",
       "ivory_river_m6m000f8     {\"Atelectasis\": [0.5, \"2014-04-01\", \"2014-06-3...   \n",
       "serene_angle_h8wlwrl7    {\"Lesion\": [0.5, \"2014-04-01\", \"2014-06-30\"], ...   \n",
       "helpful_beard_352vr4j8   {\"Atelectasis\": [0.25, \"2014-04-01\", \"2014-06-...   \n",
       "gentle_guitar_2nt9sm6t   {\"Cardiomegaly\": [0.25, \"2014-04-01\", \"2014-06...   \n",
       "dynamic_fish_jtn2x5q9    {\"Opacity\": [0.5, \"2014-04-01\", \"2014-06-30\"],...   \n",
       "lemon_plane_mrb3nm7v     {\"Pneumonia\": [0.25, \"2014-04-01\", \"2014-06-30...   \n",
       "icy_fly_hpwms2yp         {\"Pneumonia\": [0.5, \"2014-04-01\", \"2014-06-30\"...   \n",
       "epic_plate_nc54lhdv      {\"Cardiomegaly\": [0.5, \"2014-04-01\", \"2014-06-...   \n",
       "quiet_duck_8y08st8w      {\"Atelectasis\": [0.5, \"2014-04-01\", \"2014-06-3...   \n",
       "patient_hominy_8v6p78yh  {\"Cardiomegaly\": [0.75, \"2014-04-01\", \"2014-06...   \n",
       "icy_ghost_rt8dc2xp       {\"No Finding\": [0.1287001287001287, \"2014-04-0...   \n",
       "ivory_branch_d350x4yq    {\"Pneumonia\": [0.75, \"2014-04-01\", \"2014-06-30...   \n",
       "red_answer_rdp62h0t      {\"Atelectasis\": [0.75, \"2014-04-01\", \"2014-06-...   \n",
       "tender_pear_lfbd6wwg                                              Baseline   \n",
       "\n",
       "                        mod_end_date randomize_start_date dbg peds_weight  \\\n",
       "display_name                                                                \n",
       "sad_caravan_nnryywcw      2014-12-31                 None   1         NaN   \n",
       "serene_head_v04mgvx4      2014-12-31                 None   1         NaN   \n",
       "salmon_cloud_wg3s2fnq     2014-12-31                 None   1         NaN   \n",
       "affable_plum_cm6y51d3     2014-12-31                 None   1         NaN   \n",
       "musing_lock_mgsp9xps      2014-12-31                 None   1         NaN   \n",
       "mighty_beard_vvtgq0q9     2014-12-31                 None   1         NaN   \n",
       "jolly_tangelo_ch7q56v0    2014-12-31                 None   1         NaN   \n",
       "keen_circle_9wktjvvd      2014-12-31                 None   1         NaN   \n",
       "purple_toe_dnntc2j8       2014-12-31           2014-06-01   1         NaN   \n",
       "goofy_dress_ztmzmh27      2014-12-31           2014-04-01   1         NaN   \n",
       "ivory_river_m6m000f8      2014-12-31                  NaN   1         NaN   \n",
       "serene_angle_h8wlwrl7     2014-12-31                  NaN   1         NaN   \n",
       "helpful_beard_352vr4j8    2014-12-31                  NaN   1         NaN   \n",
       "gentle_guitar_2nt9sm6t    2014-12-31                  NaN   1         NaN   \n",
       "dynamic_fish_jtn2x5q9     2014-12-31                  NaN   1         NaN   \n",
       "lemon_plane_mrb3nm7v      2014-12-31                  NaN   1         NaN   \n",
       "icy_fly_hpwms2yp          2014-12-31                  NaN   1         NaN   \n",
       "epic_plate_nc54lhdv       2014-12-31                  NaN   1         NaN   \n",
       "quiet_duck_8y08st8w       2014-12-31                  NaN   1         NaN   \n",
       "patient_hominy_8v6p78yh   2014-12-31                  NaN   1         NaN   \n",
       "icy_ghost_rt8dc2xp        2014-12-31                  NaN   1         NaN   \n",
       "ivory_branch_d350x4yq     2014-12-31                  NaN   1         NaN   \n",
       "red_answer_rdp62h0t       2014-12-31                  NaN   1         NaN   \n",
       "tender_pear_lfbd6wwg             NaN                  NaN   0           0   \n",
       "\n",
       "                                                                      Link  \n",
       "display_name                                                                \n",
       "sad_caravan_nnryywcw                                                   N/A  \n",
       "serene_head_v04mgvx4                                                   N/A  \n",
       "salmon_cloud_wg3s2fnq                                                  N/A  \n",
       "affable_plum_cm6y51d3                                                  N/A  \n",
       "musing_lock_mgsp9xps                                                   N/A  \n",
       "mighty_beard_vvtgq0q9                                                  N/A  \n",
       "jolly_tangelo_ch7q56v0                                                 N/A  \n",
       "keen_circle_9wktjvvd                                                   N/A  \n",
       "purple_toe_dnntc2j8                                                    N/A  \n",
       "goofy_dress_ztmzmh27                                                   N/A  \n",
       "ivory_river_m6m000f8                                                   N/A  \n",
       "serene_angle_h8wlwrl7                                                  N/A  \n",
       "helpful_beard_352vr4j8                                                 N/A  \n",
       "gentle_guitar_2nt9sm6t                                                 N/A  \n",
       "dynamic_fish_jtn2x5q9                                                  N/A  \n",
       "lemon_plane_mrb3nm7v                                                   N/A  \n",
       "icy_fly_hpwms2yp                                                       N/A  \n",
       "epic_plate_nc54lhdv                                                    N/A  \n",
       "quiet_duck_8y08st8w                                                    N/A  \n",
       "patient_hominy_8v6p78yh                                                N/A  \n",
       "icy_ghost_rt8dc2xp                                                     N/A  \n",
       "ivory_branch_d350x4yq                                                  N/A  \n",
       "red_answer_rdp62h0t                                                    N/A  \n",
       "tender_pear_lfbd6wwg     <a href=\"tender_pear_lfbd6wwg/index.html\" disa...  "
      ]
     },
     "execution_count": 4,
     "metadata": {},
     "output_type": "execute_result"
    }
   ],
   "source": [
    "def is_arg_col(c):\n",
    "    if \"mlflow\" in c or \"_aml\" in c or 'run_' in c or 'url' in c:\n",
    "        return False\n",
    "    ignore = [\"output_dir\", \"input_dir\", 'run', 'display_name', 'id']\n",
    "    return c not in ignore\n",
    "\n",
    "def experiment_df_for_display(df, remove_duplicates=True, remove_const_columns=True):\n",
    "    arg_cols = [c for c in df.columns if is_arg_col(c)]\n",
    "    arg_df = df[arg_cols]\n",
    "    \n",
    "    if remove_const_columns:\n",
    "        arg_df = arg_df[[c for c in arg_df if arg_df[c].fillna('NA').nunique() > 1]]\n",
    "    \n",
    "    \n",
    "    if remove_duplicates:    \n",
    "        arg_df[~arg_df.duplicated(keep='last')]\n",
    "    \n",
    "    return arg_df\n",
    "\n",
    "arg_df = experiment_df_for_display(df)\n",
    "arg_df['Link'] = [f\"\"\"<a href=\"{name}/index.html\" disabled=>Graphs</a>\"\"\" if html_top_dir.joinpath(name).exists() else \"N/A\" for name in arg_df.index]\n",
    "\n",
    "arg_df"
   ]
  },
  {
   "cell_type": "code",
   "execution_count": null,
   "metadata": {},
   "outputs": [],
   "source": []
  },
  {
   "cell_type": "code",
   "execution_count": 5,
   "metadata": {},
   "outputs": [],
   "source": [
    "fix_links_script = \"\"\"\n",
    "              <script>\n",
    "                var x = document.getElementsByTagName('a');\n",
    "                var i;\n",
    "                for (i = 0; i < x.length; i++) {{\n",
    "                    let url = x[i].getAttribute(\"href\");\n",
    "                    x[i].href = url + window.location.search;\n",
    "                }}\n",
    "                </script>\n",
    "              \"\"\""
   ]
  },
  {
   "cell_type": "code",
   "execution_count": 6,
   "metadata": {},
   "outputs": [],
   "source": [
    "def get_run(display_name, experiment):\n",
    "    for run in experiment.get_runs():\n",
    "        if run.display_name == display_name:\n",
    "            return run\n",
    "        \n",
    "    raise KeyError(f\"'{display_name}' not found in experiment!\")"
   ]
  },
  {
   "cell_type": "code",
   "execution_count": 7,
   "metadata": {},
   "outputs": [],
   "source": [
    "# # run_row = df.loc[[not html_top_dir.joinpath(name).exists() for name in df.index]].iloc[0]\n",
    "# # run_name, verbose_name = \"tender_pear_lfbd6wwg\", \"baseline\"\n",
    "# # run_name, verbose_name = \"tender_pear_lfbd6wwg\", \"baseline_2row\"\n",
    "# # run_name, verbose_name = \"orange_scooter_dry7q6y9\", \"inject-laterals\"\n",
    "\n",
    "\n",
    "# runs = {\"baseline\": (\"tender_pear_lfbd6wwg\", \"generate-drift-csv-3\")}\n",
    "# verbose_name = \"baseline\"\n",
    "# run_name, experiment = runs[verbose_name]\n",
    "# experiment = Experiment(ws, experiment)\n",
    "# run = get_run(run_name, experiment)\n",
    "\n",
    "# # Diplay settings\n",
    "# span = 7\n",
    "# which = 'mean'\n",
    "# clip = 10\n",
    "# performance_col = (\"performance\", \"macro avg\", \"auroc\")\n",
    "# congruency_measure_col = ('in_distro', 'stats', 'mean')\n",
    "# add_error_bars = True\n",
    "\n",
    "# standardize_dates = (settings.PADCHEST_SPLIT_DATES[0], settings.PADCHEST_SPLIT_DATES[1])\n",
    "# standardize_ix = pd.date_range(*standardize_dates)\n",
    "# stat = []\n",
    "# # stat.append('pval')\n",
    "# stat.append('distance')\n",
    "\n",
    "# verbose_name = verbose_name + '_' + '+'.join(stat) \n",
    "\n",
    "# write_html = True\n",
    "# graph_start = \"2014-01-01\"\n",
    "# graph_end = \"2014-12-31\"\n",
    "\n",
    "\n",
    "# font=dict(size=12)\n",
    "\n",
    "# print(run_name, verbose_name)\n"
   ]
  },
  {
   "cell_type": "code",
   "execution_count": 8,
   "metadata": {},
   "outputs": [],
   "source": [
    "import itertools\n",
    "from plotly.subplots import make_subplots\n",
    "import plotly.graph_objects as go\n",
    "import plotly.express as px\n",
    "from matplotlib import colors as mpl_colors\n",
    "from collections import defaultdict\n",
    "\n",
    "def to_rgba(rgb, alpha=None):\n",
    "    rgb = mpl_colors.to_rgb(rgb)\n",
    "    if alpha is None:\n",
    "        return \"rgb(%s, %s, %s)\" % (rgb[0], rgb[1], rgb[2])\n",
    "    return \"rgba(%s, %s, %s, %s)\" % (rgb[0], rgb[1], rgb[2], alpha)\n",
    "\n",
    "def line_maker(color, **l):\n",
    "    return dict(color=color, **l)\n",
    "\n",
    "def marker_maker(color, **l):\n",
    "    return dict(color=color)\n",
    "\n",
    "def smooth(y: pd.DataFrame, span=7):\n",
    "    if span > 0:\n",
    "        ys = y.ewm(span=span, ignore_na=False).mean()\n",
    "        ys[y.isna()] = None\n",
    "    else:\n",
    "        ys = y    \n",
    "    return ys\n",
    "\n",
    "def add_date_line(fig, date, name, y=1.08):\n",
    "    fig.add_shape(type='line',\n",
    "                x0=date,\n",
    "                y0=0,\n",
    "                x1=date,\n",
    "                y1=1,\n",
    "                line=dict(color='black', dash='dot'),\n",
    "                xref='x',\n",
    "                yref='paper'\n",
    "                )\n",
    "    fig.add_annotation(textangle=0,\n",
    "                    xref=\"x\",\n",
    "                    yref=\"paper\", x=date, y=y,\n",
    "                       text=name, showarrow=False,\n",
    "                       font=dict(size=18))\n",
    "\n",
    "def add_dates(fig, dates, line_y=1.05, include_date=True):\n",
    "    for name, date in dates.items():\n",
    "        if not pd.isna(date):\n",
    "            n = f\"{name}<br />({date})\" if include_date else name\n",
    "            add_date_line(fig, date, n, y=line_y)\n",
    "            \n",
    "def collect_corr(y, yp, name, when, weights_name, start_date=None, end_date=None):\n",
    "    yp = yp.loc[start_date: end_date]\n",
    "    y = y.loc[start_date: end_date]\n",
    "    c, cm = yp.corr(y), smooth(yp).corr(smooth(y))\n",
    "    return {\"name\": name, \"weights_name\": weights_name,\n",
    "                \"corr (raw)\": c, \"corr (smoothed)\": cm, \"when\": when}\n",
    "\n",
    "class FigureHelper(object):\n",
    "    \n",
    "    def __init__(self, x=None, color_list=px.colors.qualitative.Plotly, dashes=('solid',), smooth_func=smooth, merge_hover=True):\n",
    "        self.traces = []\n",
    "        self.error_traces = []\n",
    "        self.color_list = color_list\n",
    "        self.line_picker = itertools.cycle(itertools.product(dashes, self.color_list))\n",
    "        self.lines = defaultdict(lambda: dict(zip(['dash', 'color'], next(self.line_picker))))\n",
    "        self.names = set()\n",
    "        self.smooth = smooth_func\n",
    "        self.x = x\n",
    "        self.merge_hover = merge_hover\n",
    "        \n",
    "    def set_line(self, key, line=None):\n",
    "        line = line or {}\n",
    "        self.lines[key] = self.lines[key]\n",
    "        self.lines[key].update(line)\n",
    "        self.lines[key]['color'] = self.lines[key]['color']\n",
    "        return self.lines[key]\n",
    "        \n",
    "        \n",
    "    def make_error_traces(self, x, yu, yl, name, color, alpha):\n",
    "        \n",
    "        \n",
    "        # need to remove nans from error traces\n",
    "        k = ~(yu.isnull()|yl.isnull())\n",
    "        xe = x[k]\n",
    "        yl = yl[k]\n",
    "        yu = yu[k]\n",
    "        \n",
    "        return [go.Scatter(x=xe, \n",
    "                            y=yu, \n",
    "                            hoverinfo=\"skip\",\n",
    "                            showlegend=False,\n",
    "                            legendgroup=name,\n",
    "                            name=name,\n",
    "                            connectgaps=False,\n",
    "                            line=dict(width=0),\n",
    "                ), \n",
    "                go.Scatter(x=xe, \n",
    "                            y=yl,\n",
    "                            fillcolor=to_rgba(color, alpha),\n",
    "                            fill='tonexty',\n",
    "                            hoverinfo=\"skip\",\n",
    "                            showlegend=False,                            \n",
    "                            legendgroup=name,\n",
    "                            name=name,\n",
    "                            connectgaps=False,\n",
    "                            line=dict(width=0),\n",
    "                )]\n",
    "\n",
    "    def add_trace(self, y, name, x=None, kind=go.Scatter, color_key=None, row=1, col=1, line=None,\n",
    "                  std=None, yu=None, yl=None, **trace_kwargs):\n",
    "        color_key = color_key or name\n",
    "        trace_kwargs.setdefault('showlegend', name not in self.names)\n",
    "        self.names.add(name)\n",
    "        trace_kwargs.setdefault('legendgroup', name)\n",
    "        \n",
    "        line = self.set_line(color_key, line)\n",
    "        x = x or self.x\n",
    "        y = y.reindex(x)\n",
    "        t = kind(x=x, y=y, name=name, **trace_kwargs)\n",
    "        if not isinstance(t, go.Bar):\n",
    "            t.line = line_maker(**line)\n",
    "        else:\n",
    "            t.marker = marker_maker(**line)\n",
    "            \n",
    "    \n",
    "        self.traces.append((row, col, t))\n",
    "        \n",
    "        if std is not None:\n",
    "            yu = y+std\n",
    "            yl = y-std\n",
    "            \n",
    "        if yu is not None and yl is not None:\n",
    "            for t_ in self.make_error_traces(x, yu, yl, name=name, color=line[\"color\"], alpha=0.2):\n",
    "                self.error_traces.append((row, col, t_))\n",
    "    \n",
    "    \n",
    "    def add_bar(self, y, name, x=None, color_key=None, row=1, col=1, line=None, include_line=True,\n",
    "                **trace_kwargs):\n",
    "        \n",
    "        if include_line:\n",
    "            self.add_trace(y=y, name=name, color_key=color_key, line=line, row=row, col=col, **trace_kwargs)\n",
    "        self.add_trace(y=y, name=name, color_key=color_key, kind=go.Bar, line=line, row=row, col=col, **trace_kwargs)\n",
    "        \n",
    "        \n",
    "    \n",
    "    def make_fig(self, **fig_kwargs):\n",
    "\n",
    "        data = {}\n",
    "        max_row = 1\n",
    "        max_col = 1\n",
    "        for r, c, t in self.traces:\n",
    "            max_row = max(r, max_row)\n",
    "            max_col = max(c, max_col)\n",
    "            data[t.name] = pd.Series(t.y, index=t.x)\n",
    "            \n",
    "        customdata = pd.DataFrame(data)\n",
    "        fig = make_subplots(rows=max_row, cols=max_col, **fig_kwargs)\n",
    "        for r, c, t in self.traces:\n",
    "            if self.merge_hover:\n",
    "                cus_cols = sorted(customdata)\n",
    "                ho = \"<br />\".join([\"{name}=%{{customdata[{i}]:.3f}}\".format(i=i, name=name) for i,name in enumerate(cus_cols)])\n",
    "                hovertemplate = \"%{x}<br>\" + f\"{t.name}: \" +\"%{y}<br><br>\"+f\"{ho}<extra></extra>\"\n",
    "                t.customdata = customdata[cus_cols]\n",
    "                t.hovertemplate = hovertemplate\n",
    "            # t.hoverlabel = {'bgcolor': 'white'}\n",
    "            fig.add_trace(t, row=r, col=c)\n",
    "                        \n",
    "        for r, c, t in self.error_traces:\n",
    "            fig.add_trace(t, row=r, col=c)\n",
    "        return fig\n",
    "        \n",
    "        \n",
    "        \n",
    "        "
   ]
  },
  {
   "cell_type": "code",
   "execution_count": 33,
   "metadata": {},
   "outputs": [],
   "source": [
    "def download_and_prepare_run_data(run, which=\"mean\"):\n",
    "    output_file_path = settings.TOP_DIR.joinpath('results', 'drift', run.display_name+\".csv\")\n",
    "    fname = str(output_file_path)\n",
    "    run.download_file(\"outputs/output.csv\", output_file_path=output_file_path)\n",
    "    \n",
    "    combined_df = pd.read_csv(str(fname), index_col=0, header=[0, 1, 2, 3])\n",
    "    combined_df.index = pd.to_datetime(combined_df.index)\n",
    "    flip = column_xs(combined_df, include=[\"pval\"])\n",
    "    combined_df[flip] = 1-combined_df[flip]\n",
    "    \n",
    "    error_df = combined_df.swaplevel(0, -1, axis=1)[[\"std\"]].swaplevel(0, -1, axis=1).droplevel(-1, axis=1).copy()\n",
    "    # Counts??\n",
    "    combined_df = combined_df.swaplevel(0, -1, axis=1)[[which]].swaplevel(0, -1, axis=1).droplevel(-1, axis=1).copy()\n",
    "    \n",
    "    return error_df, combined_df\n",
    "\n",
    "def standardize(other_df, standardize_dates, clip=None) -> pd.DataFrame:\n",
    "    standardize_ix = pd.date_range(*standardize_dates)\n",
    "    \n",
    "    stats = other_df.dropna(axis=1).reindex(standardize_ix)\n",
    "    stats = stats.agg([\"mean\", \"std\"])\n",
    "    \n",
    "    otherstd = other_df.copy()\n",
    "    \n",
    "    # cannot divide by zero\n",
    "    std0 = stats.loc['std'] == 0\n",
    "    stats.loc[\"std\", stats.loc['std'] == 0] = 1\n",
    "    \n",
    "    otherstd = (otherstd-stats.loc['mean'])/(stats.loc[\"std\"])\n",
    "    bad_cols = otherstd.columns[otherstd.isnull().max(axis=0)].tolist()\n",
    "    print(\"bad columns after standardization:\", bad_cols)\n",
    "    \n",
    "    if clip is not None:\n",
    "        otherstd = otherstd.clip(-1*clip, clip)\n",
    "    \n",
    "    return otherstd\n",
    "\n",
    "def calculate_weights(yp, otherstd) -> pd.DataFrame:\n",
    "    all_corr_df = correlate_performance(yp.rename('auroc'), otherstd)\n",
    "    all_ig_df = mutual_info_performance(yp.rename('auroc'), otherstd, bins=25)\n",
    "    m_ = all_ig_df.to_frame().join(all_corr_df.abs().rename('abs(corr)'))\n",
    "    m_ = m_.join(m_.mean(axis=1).rename('mean[abs(corr),info_gain]'))\n",
    "    m_ = m_.assign(no_weights=1)\n",
    "    m_ = m_.fillna(0)\n",
    "    \n",
    "    return m_\n",
    "\n",
    "class DriftFromRun(object):\n",
    "    \n",
    "    which = \"mean\"\n",
    "    standardize_dates = (settings.PADCHEST_SPLIT_DATES[0], settings.PADCHEST_SPLIT_DATES[1])\n",
    "    stat = ['distance']\n",
    "    span = 7\n",
    "    clip = 10\n",
    "    performance_col = (\"performance\", \"micro avg\", \"auroc\")\n",
    "    performance_col = (\"performance\", \"Pneumonia\", \"auroc\")\n",
    "    performance_col = (\"performance\", \"Pleural Abnormalities\", \"auroc\")\n",
    "    graph_start = \"2014-01-01\"\n",
    "    graph_end = \"2014-12-31\"\n",
    "    \n",
    "    def __init__(self, run):\n",
    "        \n",
    "        error_df, combined_df = download_and_prepare_run_data(run, which=self.which)\n",
    "        perf_df = combined_df[self.performance_col]\n",
    "        other_cols = column_xs(combined_df, exclude=['performance', 'count'])\n",
    "        other_df = combined_df[other_cols]\n",
    "        cxs = column_xs(other_df, include=self.stat)\n",
    "        otherstd = standardize(other_df[cxs], self.standardize_dates, clip=self.clip)\n",
    "        \n",
    "        count_cols = column_xs(combined_df, ['support'])\n",
    "        count_cols = [c for c in count_cols if 'avg' not in c[1]]\n",
    "        label_counts = combined_df[count_cols]\n",
    "        label_counts.columns = [c[1] for c in label_counts.columns]\n",
    "        num_samples = combined_df['count'].iloc[:, 0]\n",
    "        \n",
    "        self.label_rates = label_counts.div(num_samples, axis=0)\n",
    "        \n",
    "        vae_cols = [c for c in list(otherstd) if \"mu.\" in c[0]]\n",
    "        score_cols = [c for c in list(otherstd) if \"activation.\" in c[0]]\n",
    "        metadata_cols = sorted(set(otherstd).difference(vae_cols).difference(score_cols))\n",
    "        \n",
    "        self.vae_cols = vae_cols\n",
    "        self.score_cols = score_cols\n",
    "        self.metadata_cols = metadata_cols\n",
    "        \n",
    "        self.otherstd = otherstd\n",
    "        self.perf_df = perf_df\n",
    "        self.perf_error_df = error_df[self.performance_col]\n",
    "        self.m_ = calculate_weights(perf_df, otherstd)\n",
    "        \n",
    "    def unify_metrics(self, cols=None, weights=\"abs(corr)\", start=None, end=None):\n",
    "        if cols is None:\n",
    "            cols = self.otherstd.columns.tolist()\n",
    "        return -w_avg(self.otherstd[cols], weights=self.m_[weights].to_dict())\n"
   ]
  },
  {
   "cell_type": "code",
   "execution_count": 34,
   "metadata": {},
   "outputs": [
    {
     "name": "stdout",
     "output_type": "stream",
     "text": [
      "covid_distance_pleural-abnormalities\n",
      "Baseline\n",
      "bad columns after standardization: []\n"
     ]
    },
    {
     "name": "stderr",
     "output_type": "stream",
     "text": [
      "D:\\Code\\MLOpsDay2\\MedImaging-ModelDriftMonitoring\\.venv\\lib\\site-packages\\pandas\\core\\reshape\\merge.py:643: UserWarning:\n",
      "\n",
      "merging between different levels can give an unintended result (3 levels on the left,1 on the right)\n",
      "\n"
     ]
    },
    {
     "name": "stdout",
     "output_type": "stream",
     "text": [
      "Covid Added\n",
      "bad columns after standardization: []\n"
     ]
    },
    {
     "name": "stderr",
     "output_type": "stream",
     "text": [
      "D:\\Code\\MLOpsDay2\\MedImaging-ModelDriftMonitoring\\.venv\\lib\\site-packages\\pandas\\core\\reshape\\merge.py:643: UserWarning:\n",
      "\n",
      "merging between different levels can give an unintended result (3 levels on the left,1 on the right)\n",
      "\n"
     ]
    }
   ],
   "source": [
    "figure_name = \"_\".join([\"covid\", \"+\".join(DriftFromRun.stat), DriftFromRun.performance_col[1].replace(' ', '-').lower()])\n",
    "print(figure_name)\n",
    "runs = {\n",
    "    \"Baseline\": (\"tender_pear_lfbd6wwg\", \"generate-drift-csv-3\"),\n",
    "    \"Covid Added\": (\"salmon_guava_q2x0jk9d\", \"generate-drift-csv-3\"),\n",
    "    }\n",
    "verbose_name = \"baseline\"\n",
    "graph_start = \"2014-01-01\"\n",
    "graph_end = \"2015-01-01\"\n",
    "\n",
    "x = pd.date_range(pd.to_datetime(graph_start)-pd.DateOffset(n=30), pd.to_datetime(graph_end)+pd.DateOffset(n=30))\n",
    "\n",
    "runs_ = {}\n",
    "builds = {}\n",
    "score_graphs = {}\n",
    "perf_graphs = {}\n",
    "for name, (run_name, experiment) in runs.items():\n",
    "    print(name)\n",
    "    experiment = Experiment(ws, experiment)\n",
    "    run = get_run(run_name, experiment)\n",
    "    build = DriftFromRun(run)\n",
    "    score_unify = build.unify_metrics().reindex(x)\n",
    "    runs_[name] = run\n",
    "    builds[name] = build\n",
    "    score_graphs[name] = score_unify\n",
    "    perf_graphs[name] = pd.concat([build.perf_df.reindex(x).rename(\"yp\"), \n",
    "                                   build.perf_error_df.reindex(x).rename(\"ye\")], axis=1)\n",
    "    \n",
    "    \n"
   ]
  },
  {
   "cell_type": "code",
   "execution_count": 35,
   "metadata": {},
   "outputs": [],
   "source": [
    "# import json\n",
    "# k = \"Trial 1\"\n",
    "# for k in runs_.keys():\n",
    "#     run  = runs_[k]\n",
    "#     if \"label_modifiers\" in run.tags:\n",
    "#         lm = json.loads(run.tags[\"label_modifiers\"])\n",
    "#         keys = list(lm.keys())\n",
    "#         print(f\"({k}) A={keys[0]} to {lm[keys[0]][0]:.0%}, B={keys[1]} to {lm[keys[1]][0]:.0%}. \".replace(\"%\", r\"\\%\"))\n",
    "#     else:\n",
    "#         print(f\"({k}) No modification at A or B. \")"
   ]
  },
  {
   "cell_type": "code",
   "execution_count": 36,
   "metadata": {},
   "outputs": [
    {
     "data": {
      "text/plain": [
       "{'A': '2014-06-01'}"
      ]
     },
     "execution_count": 36,
     "metadata": {},
     "output_type": "execute_result"
    }
   ],
   "source": [
    "# dates = {\"A\": \"2014-06-01\"}\n",
    "\n",
    "dates = {\"A\": runs_[\"Covid Added\"].tags['midrc_start_date'],\n",
    "        #  \"B\": runs_[\"Lat. Injected\"].tags['frontal_remove_date'],\n",
    "        }\n",
    "\n",
    "dates"
   ]
  },
  {
   "cell_type": "code",
   "execution_count": 37,
   "metadata": {},
   "outputs": [
    {
     "data": {
      "application/vnd.plotly.v1+json": {
       "config": {
        "plotlyServerURL": "https://plot.ly"
       },
       "data": [
        {
         "connectgaps": false,
         "customdata": [
          [
           0.34620159579627907,
           0.5121735747401063
          ],
          [
           0.4110891044716515,
           0.5843646978192959
          ],
          [
           0.4640269308814311,
           0.6115142799132455
          ],
          [
           0.5018929990126508,
           0.6314136877799248
          ],
          [
           0.5047387435438899,
           0.6236705967066222
          ],
          [
           0.4955855072650832,
           0.6067692943860036
          ],
          [
           0.4595562725030814,
           0.5957209021937973
          ],
          [
           0.42513392606031963,
           0.5797897217012364
          ],
          [
           0.41784405791478874,
           0.5702312328489972
          ],
          [
           0.4052841717702871,
           0.5540549164912988
          ],
          [
           0.4122027656246532,
           0.5447641544578801
          ],
          [
           0.42460998703480374,
           0.54958749286728
          ],
          [
           0.42486061657238605,
           0.5405105098614943
          ],
          [
           0.39878880506154024,
           0.528195549322581
          ],
          [
           0.34114450947510466,
           0.47779079424864773
          ],
          [
           0.290308737686352,
           0.4418001615496411
          ],
          [
           0.26697459705294674,
           0.4552541188812862
          ],
          [
           0.23843655252869403,
           0.448614746099886
          ],
          [
           0.22132608320106917,
           0.4433903756370296
          ],
          [
           0.1851342993252285,
           0.4206819218567234
          ],
          [
           0.15090051580176278,
           0.39502494589918724
          ],
          [
           0.1112047654886068,
           0.3739540211392372
          ],
          [
           0.09137623825801255,
           0.3682996191598814
          ],
          [
           0.0639902261455343,
           0.34733412955133935
          ],
          [
           0.043988691854377815,
           0.34901360642089224
          ],
          [
           0.020564059233052715,
           0.34750412383717855
          ],
          [
           -0.03392716553057096,
           0.31915292351889907
          ],
          [
           -0.05133028297792042,
           0.30591430513622836
          ],
          [
           -0.060137058598455244,
           0.294858457874632
          ],
          [
           -0.06491139132432605,
           0.2844490757833495
          ],
          [
           -0.07539922357943417,
           0.27805192114902105
          ],
          [
           -0.10390118804225597,
           0.2557000726880164
          ],
          [
           -0.13661304074019456,
           0.21767168860516217
          ],
          [
           -0.19323716239284403,
           0.17605974317309053
          ],
          [
           -0.28294979964518313,
           0.10042295515875091
          ],
          [
           -0.35919937453696105,
           0.044382682685554856
          ],
          [
           -0.4016488565767047,
           0.009190837017029935
          ],
          [
           -0.413303472380795,
           -0.005448902636931939
          ],
          [
           -0.40871923293962736,
           0.009194223031792983
          ],
          [
           -0.3997936016390198,
           0.008337725107284807
          ],
          [
           -0.38605623912674014,
           0.01577280749109876
          ],
          [
           -0.38881849733468465,
           0.0033770017152053135
          ],
          [
           -0.39278167936586955,
           -0.011861433224124416
          ],
          [
           -0.4028862271680224,
           -0.021257283044224074
          ],
          [
           -0.3956230870472787,
           -0.011142869820935248
          ],
          [
           -0.3946633136869372,
           -0.01344724398678552
          ],
          [
           -0.4299009788823074,
           -0.057619589831284894
          ],
          [
           -0.49986969417179766,
           -0.11975908240455985
          ],
          [
           -0.6038730692866725,
           -0.22634549033174248
          ],
          [
           -0.7382605915495554,
           -0.35174920527707965
          ],
          [
           -0.8455522682001729,
           -0.4467992962011293
          ],
          [
           -0.9360367445466721,
           -0.5290289346264482
          ],
          [
           -1.0523581713723469,
           -0.6560447516711911
          ],
          [
           -1.1341324572651237,
           -0.7443798723896614
          ],
          [
           -1.1879204448185394,
           -0.8069652730529372
          ],
          [
           -1.31694795126918,
           -0.9456939046009721
          ],
          [
           null,
           null
          ],
          [
           null,
           null
          ],
          [
           null,
           null
          ],
          [
           null,
           null
          ],
          [
           null,
           null
          ],
          [
           null,
           null
          ],
          [
           null,
           null
          ],
          [
           null,
           null
          ],
          [
           null,
           null
          ],
          [
           null,
           null
          ],
          [
           null,
           null
          ],
          [
           null,
           null
          ],
          [
           null,
           null
          ],
          [
           null,
           null
          ],
          [
           null,
           null
          ],
          [
           null,
           null
          ],
          [
           -1.880832655252881,
           -1.6452709032658495
          ],
          [
           -1.526322603963551,
           -1.254577889163559
          ],
          [
           -1.3032193262886662,
           -1.028411130354718
          ],
          [
           -1.171331567162076,
           -0.8974740235735617
          ],
          [
           -1.086386467116352,
           -0.8102876627338266
          ],
          [
           -0.9222292471743668,
           -0.6336111724294592
          ],
          [
           -0.7803594265359516,
           -0.47576243763293125
          ],
          [
           -0.6271852941908851,
           -0.32232309001171855
          ],
          [
           -0.5270013732886019,
           -0.22712477777009757
          ],
          [
           -0.4260202243098274,
           -0.1300581478150838
          ],
          [
           -0.35778221121248766,
           -0.05818539138139518
          ],
          [
           -0.2983657908499963,
           -0.013468033633817962
          ],
          [
           -0.2602759793200072,
           0.024946780000672932
          ],
          [
           -0.23577367641337726,
           0.05230116131897244
          ],
          [
           -0.20443581279354495,
           0.07188308933164678
          ],
          [
           -0.18353702305447353,
           0.10287809453737848
          ],
          [
           -0.1639389260780779,
           0.12225211467629842
          ],
          [
           -0.13500127837445136,
           0.14569200655096654
          ],
          [
           -0.1185905076484292,
           0.16020096845775247
          ],
          [
           -0.09841264565773694,
           0.17738245109820264
          ],
          [
           -0.08898134841682905,
           0.1984540029789115
          ],
          [
           -0.06842496048768851,
           0.21708191614427055
          ],
          [
           -0.05944967060121248,
           0.2500151275957498
          ],
          [
           -0.03584269454588306,
           0.26881925999015593
          ],
          [
           -0.019023666795403564,
           0.27669586993084316
          ],
          [
           -0.015358723369403597,
           0.28220349873856626
          ],
          [
           -0.014490744859768975,
           0.2886323131459903
          ],
          [
           -0.007253477245525844,
           0.29745944991156426
          ],
          [
           0.024300022611882965,
           0.3135747425102706
          ],
          [
           0.051573094840635915,
           0.32483924688726873
          ],
          [
           0.07948097899725236,
           0.3511338724117182
          ],
          [
           0.0928736720417318,
           0.36866187853653576
          ],
          [
           0.08429840982708153,
           0.35922951050504764
          ],
          [
           0.06199222166439409,
           0.33451725085276857
          ],
          [
           0.03285731785580066,
           0.3066967772616785
          ],
          [
           0.021874148161022004,
           0.28947867320674203
          ],
          [
           -0.02775000670640163,
           0.23075978351488838
          ],
          [
           -0.06530378169291186,
           0.1888815087543661
          ],
          [
           -0.16510521652088872,
           0.10689287363141942
          ],
          [
           -0.2420880081949423,
           0.013460069822199024
          ],
          [
           -0.27087698402928484,
           -0.022185782375270118
          ],
          [
           -0.27742572027251633,
           -0.02564353623250523
          ],
          [
           -0.27528003958642594,
           -0.01886260654416714
          ],
          [
           -0.2567212525751134,
           0.013159037315495396
          ],
          [
           -0.23128752288352825,
           0.04939574210050347
          ],
          [
           -0.21336906106437678,
           0.07390727429071565
          ],
          [
           -0.2144494501829306,
           0.08021724716547139
          ],
          [
           -0.20302321513914307,
           0.09191615679448698
          ],
          [
           -0.18572902676259778,
           0.11165785062619203
          ],
          [
           -0.15550336714914229,
           0.13389295252242867
          ],
          [
           -0.12750472788099,
           0.16634518712626528
          ],
          [
           -0.10308703710811051,
           0.19049462695834807
          ],
          [
           -0.09655993884624667,
           0.19818464214131534
          ],
          [
           -0.11425031725925953,
           0.18696987385521935
          ],
          [
           -0.13608904188412738,
           0.15989073326649303
          ],
          [
           -0.13113758090742655,
           0.14636940898036369
          ],
          [
           -0.10725252196785362,
           0.16097411405662773
          ],
          [
           -0.12407651548240183,
           0.13962552278188517
          ],
          [
           -0.1506104294303887,
           0.11577130226198724
          ],
          [
           -0.20973575198132377,
           0.04734947187299481
          ],
          [
           -0.2583563098068234,
           0.0013590088885437187
          ],
          [
           -0.27802740874342013,
           -0.023437269646877534
          ],
          [
           -0.269280397575839,
           -0.006886713070165678
          ],
          [
           -0.24492251175895435,
           0.01269510738857857
          ],
          [
           -0.2593556793374719,
           0.016859830680422166
          ],
          [
           -0.27802840482587216,
           -0.00705632806725264
          ],
          [
           -0.2840301715764185,
           -0.03278860334576277
          ],
          [
           -0.29913736164539445,
           -0.04532012721801213
          ],
          [
           -0.3356205006985345,
           -0.09931927680118571
          ],
          [
           -0.3294151594232115,
           -0.1164608472454576
          ],
          [
           -0.31741402896166643,
           -0.1307354452097761
          ],
          [
           -0.3476920920150336,
           -0.16545735520265234
          ],
          [
           -0.3691141759537062,
           -0.19568290553194845
          ],
          [
           -0.4147750080295928,
           -0.2349343466938383
          ],
          [
           -0.44360607946001823,
           -0.27229386125493565
          ],
          [
           -0.4236890379612072,
           -0.2694152548418492
          ],
          [
           -0.37838805107913015,
           -0.2240207669228507
          ],
          [
           -0.3271273538279496,
           -0.16568235222218466
          ],
          [
           -0.2824678813258824,
           -0.1169784663805264
          ],
          [
           -0.26603020429755525,
           -0.09505218283716126
          ],
          [
           -0.23780987296183792,
           -0.07110575729094201
          ],
          [
           -0.23553430711251208,
           -0.06481497815133892
          ],
          [
           -0.1997321222744684,
           -0.02334228970525068
          ],
          [
           -0.15311270289283743,
           0.0226223235318678
          ],
          [
           -0.1099184604513464,
           0.07141693449948806
          ],
          [
           -0.06532328582588441,
           0.12786578524765377
          ],
          [
           -0.033622249250931,
           0.16822451717945178
          ],
          [
           -0.021938635397290462,
           0.1926330109862041
          ],
          [
           0.0008286665159719775,
           0.21211769281450402
          ],
          [
           0.024031249942110644,
           0.22999480330720848
          ],
          [
           0.025021005286628893,
           0.25026821898687857
          ],
          [
           0.00481877128936725,
           0.254255870293822
          ],
          [
           -0.006560515415261725,
           0.2566336187493277
          ],
          [
           -0.043143198030355163,
           0.23886005486841613
          ],
          [
           -0.11653383093316817,
           0.19505107090840723
          ],
          [
           -0.20081347104664107,
           0.14719314369957182
          ],
          [
           -0.2574039720813343,
           0.10786822032764279
          ],
          [
           -0.29484707955931283,
           0.08068471423907927
          ],
          [
           -0.33063637900234466,
           0.07365473154759651
          ],
          [
           -0.32791185170492576,
           0.0648839711031983
          ],
          [
           -0.3055805049440166,
           0.06050179831711244
          ],
          [
           -0.28178285878940024,
           0.05834216067581688
          ],
          [
           -0.2643231614026634,
           0.043362195270887256
          ],
          [
           -0.28192165187186197,
           -0.00857114029187725
          ],
          [
           -0.27797206973114535,
           -0.028837091477083143
          ],
          [
           -0.26569077173480515,
           -0.029587041594621923
          ],
          [
           -0.2947894649735204,
           -0.04687582181801526
          ],
          [
           -0.3425321875879987,
           -0.07901063264776846
          ],
          [
           -0.41472493300151264,
           -0.14092939798560808
          ],
          [
           -0.4857870413829017,
           -0.23194265463070549
          ],
          [
           -0.4774844148553598,
           -1.7160844430134101
          ],
          [
           -0.4430537480496658,
           -3.2361664286330485
          ],
          [
           -0.3996455890691207,
           -4.57832976673773
          ],
          [
           -0.347187583587753,
           -5.721420025591861
          ],
          [
           -0.2972188281500903,
           -6.641999405559654
          ],
          [
           -0.27156052847527423,
           -7.346798387347108
          ],
          [
           -0.2603338338745248,
           -7.897783988212246
          ],
          [
           -0.25263385094016744,
           -8.330283515610946
          ],
          [
           -0.23371642316988533,
           -8.663046742911886
          ],
          [
           -0.21115776347990847,
           -8.917433429902319
          ],
          [
           -0.19845225049716603,
           -9.117540755634025
          ],
          [
           -0.20962913503979358,
           -9.27695992355975
          ],
          [
           -0.2376181684896411,
           -9.39820590761517
          ],
          [
           -0.2501050295069976,
           -9.490582262071928
          ],
          [
           -0.2526241914734959,
           -9.563796725439786
          ],
          [
           -0.251877298473628,
           -9.620126990163937
          ],
          [
           -0.2414938710091209,
           -9.663823888529244
          ],
          [
           -0.22232145995465152,
           -9.699418037817441
          ],
          [
           -0.20444902653819386,
           -9.728830807157902
          ],
          [
           -0.21493699478802591,
           -9.751640327251518
          ],
          [
           -0.23110612167841613,
           -9.76897264467596
          ],
          [
           -0.23707732096188655,
           -9.784212060634824
          ],
          [
           -0.2677301727667801,
           -9.796598669790104
          ],
          [
           -0.2985143065518615,
           -9.805610820269418
          ],
          [
           -0.36661110503869554,
           -9.816434028112928
          ],
          [
           -0.4562733181361139,
           -9.826235805085384
          ],
          [
           -0.5507814965837258,
           -9.835492834569896
          ],
          [
           -0.6769965493161159,
           -9.844437311946388
          ],
          [
           -0.8257495084694666,
           -9.853913786173424
          ],
          [
           -0.9319126980768595,
           -9.861908596703945
          ],
          [
           -0.9914490112179504,
           -9.867480045465587
          ],
          [
           -1.0970356764430476,
           -9.870474225991629
          ],
          [
           -1.2154668423050343,
           -9.872738270767433
          ],
          [
           -1.3101742282792,
           -9.875552003852325
          ],
          [
           -1.3834170352464996,
           -9.876972581031554
          ],
          [
           -1.4808912647373618,
           -9.877548700522977
          ],
          [
           -1.5743495984291136,
           -9.878073360129553
          ],
          [
           -1.7069585035646853,
           -9.879791460386562
          ],
          [
           -1.796805633238573,
           -9.881002106449587
          ],
          [
           -1.9220215096186517,
           -9.882549925043167
          ],
          [
           -2.031507257084612,
           -9.88521017383814
          ],
          [
           -2.1325352107745026,
           -9.886025268417454
          ],
          [
           -2.2331171870598294,
           -9.887185677082346
          ],
          [
           -2.3107413039844094,
           -9.887368016679192
          ],
          [
           -2.3289437726584055,
           -9.887993465321616
          ],
          [
           -2.3592273189885464,
           -9.889353976762322
          ],
          [
           -2.3977098182895404,
           -9.888473842498707
          ],
          [
           -2.468347669880002,
           -9.888326458684057
          ],
          [
           -2.5598521541988535,
           -9.889100383744315
          ],
          [
           -2.6617508247441135,
           -9.889089371694952
          ],
          [
           -2.686795476292315,
           -9.888758300493423
          ],
          [
           -2.6394829574211123,
           -9.888148255250579
          ],
          [
           -2.594440901008145,
           -9.887318332530027
          ],
          [
           -2.5419254481438083,
           -9.88730361518738
          ],
          [
           -2.5045087645211557,
           -9.886484975208793
          ],
          [
           -2.4705391613422094,
           -9.887584050956603
          ],
          [
           -2.4037784430151317,
           -9.88806142239205
          ],
          [
           -2.324209869469135,
           -9.8874813609777
          ],
          [
           -2.2761079474977364,
           -9.887965630451111
          ],
          [
           -2.2421899495174005,
           -9.888010322627368
          ],
          [
           -2.2057408500165545,
           -9.888661375729804
          ],
          [
           -2.2343994246207317,
           -9.887836343589695
          ],
          [
           -2.255403340944117,
           -9.888886208301198
          ],
          [
           -2.276890755310011,
           -9.889372728637587
          ],
          [
           -2.272577176914987,
           -9.888081017672231
          ],
          [
           -2.2807356153951313,
           -9.88863102377829
          ],
          [
           -2.2520749825131303,
           -9.888834919503688
          ],
          [
           -2.2269752885973797,
           -9.888458885356533
          ],
          [
           -2.18358935458862,
           -9.888698396258714
          ],
          [
           -2.1407848907307594,
           -9.888161431172254
          ],
          [
           -2.119035480089954,
           -9.887908817747817
          ],
          [
           -2.1120771865830235,
           -9.88703336637389
          ],
          [
           -2.1040118012352007,
           -9.887249358037726
          ],
          [
           -2.058510965355319,
           -9.88671537940524
          ],
          [
           -2.055294709734735,
           -9.886946046387646
          ],
          [
           -2.082481046181627,
           -9.887700914544345
          ],
          [
           -2.1320071155653566,
           -9.88781816671217
          ],
          [
           -2.1887786026126554,
           -9.88838910580519
          ],
          [
           -2.206753462806669,
           -9.888132968070794
          ],
          [
           -2.1808262327426333,
           -9.888155714883935
          ],
          [
           -2.18444475944026,
           -9.889230555136733
          ],
          [
           -2.1604954029609083,
           -9.890050422117417
          ],
          [
           -2.204301088715003,
           -9.89137769530369
          ],
          [
           -2.2952066558462234,
           -9.892765407949907
          ],
          [
           -2.3642602915739697,
           -9.894457436624355
          ],
          [
           -2.401817151538493,
           -9.895078286798805
          ],
          [
           -2.444997441705241,
           -9.895507603932716
          ],
          [
           -2.473417896950398,
           -9.894426080525376
          ],
          [
           -2.531741786558451,
           -9.892980225834119
          ],
          [
           -2.495447013997289,
           -9.89189523995056
          ],
          [
           -2.4893620503025584,
           -9.89023472002742
          ],
          [
           -2.429889514875352,
           -9.888247332946824
          ],
          [
           -2.3872020152522837,
           -9.886150475584735
          ],
          [
           -2.3532546093092503,
           -9.884873420825196
          ],
          [
           -2.3749885242133435,
           -9.884156782546997
          ],
          [
           -2.4035953096566014,
           -9.883336839571088
          ],
          [
           -2.4753867472236153,
           -9.88222992547427
          ],
          [
           -2.5122730937242626,
           -9.881711614705722
          ],
          [
           -2.524734482085878,
           -9.880188267052045
          ],
          [
           -2.4823474825858147,
           -9.880298968732388
          ],
          [
           -2.427735456085807,
           -9.88043161101019
          ],
          [
           -2.2913326218554,
           -9.881077113276065
          ],
          [
           -2.157318351855837,
           -9.882068725463624
          ],
          [
           -2.0777293754049286,
           -9.883292017166076
          ],
          [
           -2.0207144659500726,
           -9.883193724804881
          ],
          [
           -1.9382905812551177,
           -9.881885653725242
          ],
          [
           -1.8159935534261908,
           -9.880829235389799
          ],
          [
           -1.699588935332517,
           -9.878761151990059
          ],
          [
           -1.5965446930978395,
           -9.877554495289631
          ],
          [
           -1.4986576075910372,
           -9.876100135218552
          ],
          [
           -1.4317604361321183,
           -9.874204349989055
          ],
          [
           -1.370018143812736,
           -9.872832876354481
          ],
          [
           -1.337934651705827,
           -9.87143759774898
          ],
          [
           -1.3332545371517968,
           -9.869498826681651
          ],
          [
           -1.3294151522905695,
           -9.868303501235902
          ],
          [
           -1.336932466946765,
           -9.866710017109824
          ],
          [
           -1.368130752933671,
           -9.865047222260051
          ],
          [
           -1.3892206986739188,
           -9.863434996839908
          ],
          [
           -1.407597337078895,
           -9.861148393626491
          ],
          [
           -1.4544211963779232,
           -9.85995502766395
          ],
          [
           -1.4582235174129476,
           -9.85963485595621
          ],
          [
           -1.4009289715980806,
           -9.861013447113391
          ],
          [
           -1.329679610268273,
           -9.859561788341415
          ],
          [
           -1.2920318786262894,
           -9.85910986282161
          ],
          [
           -1.2397206387977555,
           -9.857633796237808
          ],
          [
           -1.182245048599319,
           -9.85858373460235
          ],
          [
           -1.1019059365049968,
           -9.858296518383831
          ],
          [
           -0.9961914065460025,
           -9.857759330038283
          ],
          [
           -0.9045390379146871,
           -9.857663674601094
          ],
          [
           -0.8357810719860276,
           -9.855437001576972
          ],
          [
           -0.790959751981626,
           -9.853261400563202
          ],
          [
           -0.7516107092860279,
           -9.851264059808438
          ],
          [
           -0.7182734061015049,
           -9.848550492309199
          ],
          [
           -0.6987589735521114,
           -9.845935291991388
          ],
          [
           -0.6690020453530837,
           -9.844592240252839
          ],
          [
           -0.6423655892021959,
           -9.843118736310466
          ],
          [
           -0.6020465756455313,
           -9.842454074574837
          ],
          [
           -0.55675853816773,
           -9.842609428934344
          ],
          [
           -0.5224932627632212,
           -9.842847193877416
          ],
          [
           -0.5137870065446386,
           -9.84477795500665
          ],
          [
           -0.5143935107409571,
           -9.845218016091376
          ],
          [
           -0.5287079798940154,
           -9.845922772220343
          ],
          [
           -0.544960183957833,
           -9.847480171273732
          ],
          [
           -0.546667069179687,
           -9.847748712532388
          ],
          [
           -0.5341062466144222,
           -9.847584894504982
          ],
          [
           -0.5136673400573218,
           -9.846394421185058
          ],
          [
           -0.4880207960639221,
           -9.846681628370694
          ],
          [
           -0.46652580215476713,
           -9.846820822973616
          ],
          [
           -0.45312932000592726,
           -9.846799520880177
          ],
          [
           -0.4386041511860946,
           -9.846329866633065
          ],
          [
           -0.47039926090023787,
           -9.845684909122959
          ],
          [
           -0.49918570878845603,
           -9.845471166741353
          ],
          [
           -0.5182714315268936,
           -9.844914866528528
          ],
          [
           -0.5394661065247972,
           -9.844990713640131
          ],
          [
           -0.5401382097871836,
           -9.84451515764372
          ],
          [
           -0.5204437184811654,
           -9.845888529344384
          ],
          [
           -0.5014634698279993,
           -9.845175223069944
          ],
          [
           -0.5141711560254816,
           -9.846763337816292
          ],
          [
           -0.5603041873172574,
           -9.848817621660814
          ],
          [
           -0.6101349962895084,
           -9.850005010108147
          ],
          [
           -0.6513285578951176,
           -9.850413914056611
          ],
          [
           -0.6613415417800118,
           -9.850152349223682
          ],
          [
           -0.6304091814500217,
           -9.85007571235189
          ],
          [
           -0.5875250969228817,
           -9.850517281384187
          ],
          [
           -0.5514982083692478,
           -9.850340330651685
          ],
          [
           -0.5179544640108399,
           -9.851523343404871
          ],
          [
           -0.49458711758954826,
           -9.853731635427858
          ],
          [
           -0.47818242953565193,
           -9.855181821398524
          ],
          [
           -0.48526307579567896,
           -9.853962136927755
          ],
          [
           -0.4933448168813912,
           -9.852591775039654
          ],
          [
           -0.5034234416552178,
           -9.85275658886903
          ],
          [
           -0.5338868829164727,
           -9.851401307406514
          ],
          [
           -0.547459464778875,
           -9.850408635587133
          ],
          [
           -0.5425106221446059,
           -9.849572278029477
          ],
          [
           -0.551379281356853,
           -9.84875360779321
          ],
          [
           -0.5816005685859122,
           -9.849705840579778
          ],
          [
           -0.5971794977052535,
           -9.851712489293941
          ],
          [
           -0.5996237319525334,
           -9.8524121044181
          ],
          [
           -0.6288467997888812,
           -9.853486928654291
          ],
          [
           -0.6747770414871523,
           -9.853372779970574
          ],
          [
           -0.7489016564099209,
           -9.853841788230552
          ],
          [
           -0.8391882806392916,
           -9.854065841952902
          ],
          [
           -0.9353384159562774,
           -9.85429332206404
          ],
          [
           -1.0046522749648654,
           -9.853890189479792
          ],
          [
           -1.01849109801312,
           -9.85385828263425
          ],
          [
           -0.9614274431675567,
           -9.854721791937775
          ],
          [
           -0.890547575812048,
           -9.854181727014337
          ],
          [
           -0.8204062812856578,
           -9.855527111194055
          ],
          [
           -0.7756887677945601,
           -9.855951812314649
          ],
          [
           -0.7513560204620527,
           -9.855969745334418
          ],
          [
           -0.7248041591855421,
           -9.85609879633157
          ],
          [
           -0.7204993620145969,
           -9.856167876955443
          ],
          [
           -0.7454083474453879,
           -9.855327312552102
          ],
          [
           -0.8149868943377587,
           -9.857030501172334
          ],
          [
           -0.9151062392524911,
           -9.857415736810752
          ],
          [
           -1.0079080707502652,
           -9.856856978109462
          ],
          [
           -1.1264365076281648,
           -9.855675559481474
          ],
          [
           -1.2108530123987695,
           -9.856125263338958
          ],
          [
           -1.2718824827889346,
           -9.855602816515722
          ],
          [
           -1.3477957137037548,
           -9.856157306268942
          ],
          [
           -1.434850366253537,
           -9.856211817363489
          ],
          [
           -1.5356910082144235,
           -9.857624823120133
          ],
          [
           -1.6317105106238814,
           -9.858781604632963
          ],
          [
           -1.7327023906211285,
           -9.859910374997536
          ],
          [
           -1.787769841915918,
           -9.861561114351149
          ],
          [
           -1.8375356492351491,
           -9.862339254872428
          ],
          [
           -1.9333315869656345,
           -9.863057689019131
          ],
          [
           -2.062593675079247,
           -9.864908799516673
          ],
          [
           -2.145240725994122,
           -9.865963045147465
          ],
          [
           -2.2282152470692327,
           -9.866830084332245
          ],
          [
           -2.3129716074434166,
           -9.868845251854875
          ],
          [
           -2.358815298962225,
           -9.869852593364824
          ],
          [
           -2.3874293779778584,
           -9.86968988691901
          ],
          [
           -2.4233645934482557,
           -9.870453853552231
          ],
          [
           -2.41903216614868,
           -9.871316067541507
          ],
          [
           -2.4415501357090466,
           -9.871969126553795
          ],
          [
           -2.4363897731240356,
           -9.872497692348754
          ],
          [
           -2.394555612291542,
           -9.871708809656765
          ],
          [
           -2.359766047731076,
           -9.870445761770087
          ],
          [
           -2.3189027380668614,
           -9.871346021944918
          ],
          [
           -2.280825064883235,
           -9.870364087048968
          ],
          [
           -2.285004851046172,
           -9.87129263933282
          ],
          [
           -2.2775194524817346,
           -9.8722125275749
          ],
          [
           -2.258573787713394,
           -9.873939545488783
          ],
          [
           -2.221898950655752,
           -9.87516151253874
          ],
          [
           -2.1960550434408432,
           -9.875818579985696
          ],
          [
           -2.170544126258394,
           -9.87518941316965
          ],
          [
           -2.1682479435229647,
           -9.875946330832763
          ],
          [
           -2.1775336377432324,
           -9.8768637550149
          ],
          [
           -2.174174422230187,
           -9.878093371779721
          ],
          [
           -2.178095263579443,
           -9.879007432798316
          ],
          [
           -2.2070141127304574,
           -9.87815034329888
          ],
          [
           -2.206501724727634,
           -9.878061389195462
          ],
          [
           -2.2169756655300854,
           -9.877076079812399
          ],
          [
           -2.256542359842872,
           -9.876569905290738
          ],
          [
           -2.303312254875065,
           -9.874347696535443
          ],
          [
           -2.338618194853728,
           -9.873481789929839
          ],
          [
           -2.3654277961433254,
           -9.872536014497658
          ],
          [
           -2.3903118773834624,
           -9.871288223105879
          ],
          [
           -2.3893046708566357,
           -9.871029537202489
          ],
          [
           -2.4038662197333203,
           -9.870122072681047
          ],
          [
           -2.4131811646346164,
           -9.869039098173614
          ],
          [
           -2.4561098590695605,
           -9.869785135491837
          ],
          [
           -2.4854435870390077,
           -9.869660541922684
          ]
         ],
         "hovertemplate": "%{x}<br>Baseline: %{y}<br><br>Baseline=%{customdata[0]:.3f}<br />Covid Added=%{customdata[1]:.3f}<extra></extra>",
         "legendgroup": "Baseline",
         "line": {
          "color": "#636EFA",
          "dash": "solid"
         },
         "name": "Baseline",
         "showlegend": true,
         "type": "scatter",
         "x": [
          "2013-12-02T00:00:00",
          "2013-12-03T00:00:00",
          "2013-12-04T00:00:00",
          "2013-12-05T00:00:00",
          "2013-12-06T00:00:00",
          "2013-12-07T00:00:00",
          "2013-12-08T00:00:00",
          "2013-12-09T00:00:00",
          "2013-12-10T00:00:00",
          "2013-12-11T00:00:00",
          "2013-12-12T00:00:00",
          "2013-12-13T00:00:00",
          "2013-12-14T00:00:00",
          "2013-12-15T00:00:00",
          "2013-12-16T00:00:00",
          "2013-12-17T00:00:00",
          "2013-12-18T00:00:00",
          "2013-12-19T00:00:00",
          "2013-12-20T00:00:00",
          "2013-12-21T00:00:00",
          "2013-12-22T00:00:00",
          "2013-12-23T00:00:00",
          "2013-12-24T00:00:00",
          "2013-12-25T00:00:00",
          "2013-12-26T00:00:00",
          "2013-12-27T00:00:00",
          "2013-12-28T00:00:00",
          "2013-12-29T00:00:00",
          "2013-12-30T00:00:00",
          "2013-12-31T00:00:00",
          "2014-01-01T00:00:00",
          "2014-01-02T00:00:00",
          "2014-01-03T00:00:00",
          "2014-01-04T00:00:00",
          "2014-01-05T00:00:00",
          "2014-01-06T00:00:00",
          "2014-01-07T00:00:00",
          "2014-01-08T00:00:00",
          "2014-01-09T00:00:00",
          "2014-01-10T00:00:00",
          "2014-01-11T00:00:00",
          "2014-01-12T00:00:00",
          "2014-01-13T00:00:00",
          "2014-01-14T00:00:00",
          "2014-01-15T00:00:00",
          "2014-01-16T00:00:00",
          "2014-01-17T00:00:00",
          "2014-01-18T00:00:00",
          "2014-01-19T00:00:00",
          "2014-01-20T00:00:00",
          "2014-01-21T00:00:00",
          "2014-01-22T00:00:00",
          "2014-01-23T00:00:00",
          "2014-01-24T00:00:00",
          "2014-01-25T00:00:00",
          "2014-01-26T00:00:00",
          "2014-01-27T00:00:00",
          "2014-01-28T00:00:00",
          "2014-01-29T00:00:00",
          "2014-01-30T00:00:00",
          "2014-01-31T00:00:00",
          "2014-02-01T00:00:00",
          "2014-02-02T00:00:00",
          "2014-02-03T00:00:00",
          "2014-02-04T00:00:00",
          "2014-02-05T00:00:00",
          "2014-02-06T00:00:00",
          "2014-02-07T00:00:00",
          "2014-02-08T00:00:00",
          "2014-02-09T00:00:00",
          "2014-02-10T00:00:00",
          "2014-02-11T00:00:00",
          "2014-02-12T00:00:00",
          "2014-02-13T00:00:00",
          "2014-02-14T00:00:00",
          "2014-02-15T00:00:00",
          "2014-02-16T00:00:00",
          "2014-02-17T00:00:00",
          "2014-02-18T00:00:00",
          "2014-02-19T00:00:00",
          "2014-02-20T00:00:00",
          "2014-02-21T00:00:00",
          "2014-02-22T00:00:00",
          "2014-02-23T00:00:00",
          "2014-02-24T00:00:00",
          "2014-02-25T00:00:00",
          "2014-02-26T00:00:00",
          "2014-02-27T00:00:00",
          "2014-02-28T00:00:00",
          "2014-03-01T00:00:00",
          "2014-03-02T00:00:00",
          "2014-03-03T00:00:00",
          "2014-03-04T00:00:00",
          "2014-03-05T00:00:00",
          "2014-03-06T00:00:00",
          "2014-03-07T00:00:00",
          "2014-03-08T00:00:00",
          "2014-03-09T00:00:00",
          "2014-03-10T00:00:00",
          "2014-03-11T00:00:00",
          "2014-03-12T00:00:00",
          "2014-03-13T00:00:00",
          "2014-03-14T00:00:00",
          "2014-03-15T00:00:00",
          "2014-03-16T00:00:00",
          "2014-03-17T00:00:00",
          "2014-03-18T00:00:00",
          "2014-03-19T00:00:00",
          "2014-03-20T00:00:00",
          "2014-03-21T00:00:00",
          "2014-03-22T00:00:00",
          "2014-03-23T00:00:00",
          "2014-03-24T00:00:00",
          "2014-03-25T00:00:00",
          "2014-03-26T00:00:00",
          "2014-03-27T00:00:00",
          "2014-03-28T00:00:00",
          "2014-03-29T00:00:00",
          "2014-03-30T00:00:00",
          "2014-03-31T00:00:00",
          "2014-04-01T00:00:00",
          "2014-04-02T00:00:00",
          "2014-04-03T00:00:00",
          "2014-04-04T00:00:00",
          "2014-04-05T00:00:00",
          "2014-04-06T00:00:00",
          "2014-04-07T00:00:00",
          "2014-04-08T00:00:00",
          "2014-04-09T00:00:00",
          "2014-04-10T00:00:00",
          "2014-04-11T00:00:00",
          "2014-04-12T00:00:00",
          "2014-04-13T00:00:00",
          "2014-04-14T00:00:00",
          "2014-04-15T00:00:00",
          "2014-04-16T00:00:00",
          "2014-04-17T00:00:00",
          "2014-04-18T00:00:00",
          "2014-04-19T00:00:00",
          "2014-04-20T00:00:00",
          "2014-04-21T00:00:00",
          "2014-04-22T00:00:00",
          "2014-04-23T00:00:00",
          "2014-04-24T00:00:00",
          "2014-04-25T00:00:00",
          "2014-04-26T00:00:00",
          "2014-04-27T00:00:00",
          "2014-04-28T00:00:00",
          "2014-04-29T00:00:00",
          "2014-04-30T00:00:00",
          "2014-05-01T00:00:00",
          "2014-05-02T00:00:00",
          "2014-05-03T00:00:00",
          "2014-05-04T00:00:00",
          "2014-05-05T00:00:00",
          "2014-05-06T00:00:00",
          "2014-05-07T00:00:00",
          "2014-05-08T00:00:00",
          "2014-05-09T00:00:00",
          "2014-05-10T00:00:00",
          "2014-05-11T00:00:00",
          "2014-05-12T00:00:00",
          "2014-05-13T00:00:00",
          "2014-05-14T00:00:00",
          "2014-05-15T00:00:00",
          "2014-05-16T00:00:00",
          "2014-05-17T00:00:00",
          "2014-05-18T00:00:00",
          "2014-05-19T00:00:00",
          "2014-05-20T00:00:00",
          "2014-05-21T00:00:00",
          "2014-05-22T00:00:00",
          "2014-05-23T00:00:00",
          "2014-05-24T00:00:00",
          "2014-05-25T00:00:00",
          "2014-05-26T00:00:00",
          "2014-05-27T00:00:00",
          "2014-05-28T00:00:00",
          "2014-05-29T00:00:00",
          "2014-05-30T00:00:00",
          "2014-05-31T00:00:00",
          "2014-06-01T00:00:00",
          "2014-06-02T00:00:00",
          "2014-06-03T00:00:00",
          "2014-06-04T00:00:00",
          "2014-06-05T00:00:00",
          "2014-06-06T00:00:00",
          "2014-06-07T00:00:00",
          "2014-06-08T00:00:00",
          "2014-06-09T00:00:00",
          "2014-06-10T00:00:00",
          "2014-06-11T00:00:00",
          "2014-06-12T00:00:00",
          "2014-06-13T00:00:00",
          "2014-06-14T00:00:00",
          "2014-06-15T00:00:00",
          "2014-06-16T00:00:00",
          "2014-06-17T00:00:00",
          "2014-06-18T00:00:00",
          "2014-06-19T00:00:00",
          "2014-06-20T00:00:00",
          "2014-06-21T00:00:00",
          "2014-06-22T00:00:00",
          "2014-06-23T00:00:00",
          "2014-06-24T00:00:00",
          "2014-06-25T00:00:00",
          "2014-06-26T00:00:00",
          "2014-06-27T00:00:00",
          "2014-06-28T00:00:00",
          "2014-06-29T00:00:00",
          "2014-06-30T00:00:00",
          "2014-07-01T00:00:00",
          "2014-07-02T00:00:00",
          "2014-07-03T00:00:00",
          "2014-07-04T00:00:00",
          "2014-07-05T00:00:00",
          "2014-07-06T00:00:00",
          "2014-07-07T00:00:00",
          "2014-07-08T00:00:00",
          "2014-07-09T00:00:00",
          "2014-07-10T00:00:00",
          "2014-07-11T00:00:00",
          "2014-07-12T00:00:00",
          "2014-07-13T00:00:00",
          "2014-07-14T00:00:00",
          "2014-07-15T00:00:00",
          "2014-07-16T00:00:00",
          "2014-07-17T00:00:00",
          "2014-07-18T00:00:00",
          "2014-07-19T00:00:00",
          "2014-07-20T00:00:00",
          "2014-07-21T00:00:00",
          "2014-07-22T00:00:00",
          "2014-07-23T00:00:00",
          "2014-07-24T00:00:00",
          "2014-07-25T00:00:00",
          "2014-07-26T00:00:00",
          "2014-07-27T00:00:00",
          "2014-07-28T00:00:00",
          "2014-07-29T00:00:00",
          "2014-07-30T00:00:00",
          "2014-07-31T00:00:00",
          "2014-08-01T00:00:00",
          "2014-08-02T00:00:00",
          "2014-08-03T00:00:00",
          "2014-08-04T00:00:00",
          "2014-08-05T00:00:00",
          "2014-08-06T00:00:00",
          "2014-08-07T00:00:00",
          "2014-08-08T00:00:00",
          "2014-08-09T00:00:00",
          "2014-08-10T00:00:00",
          "2014-08-11T00:00:00",
          "2014-08-12T00:00:00",
          "2014-08-13T00:00:00",
          "2014-08-14T00:00:00",
          "2014-08-15T00:00:00",
          "2014-08-16T00:00:00",
          "2014-08-17T00:00:00",
          "2014-08-18T00:00:00",
          "2014-08-19T00:00:00",
          "2014-08-20T00:00:00",
          "2014-08-21T00:00:00",
          "2014-08-22T00:00:00",
          "2014-08-23T00:00:00",
          "2014-08-24T00:00:00",
          "2014-08-25T00:00:00",
          "2014-08-26T00:00:00",
          "2014-08-27T00:00:00",
          "2014-08-28T00:00:00",
          "2014-08-29T00:00:00",
          "2014-08-30T00:00:00",
          "2014-08-31T00:00:00",
          "2014-09-01T00:00:00",
          "2014-09-02T00:00:00",
          "2014-09-03T00:00:00",
          "2014-09-04T00:00:00",
          "2014-09-05T00:00:00",
          "2014-09-06T00:00:00",
          "2014-09-07T00:00:00",
          "2014-09-08T00:00:00",
          "2014-09-09T00:00:00",
          "2014-09-10T00:00:00",
          "2014-09-11T00:00:00",
          "2014-09-12T00:00:00",
          "2014-09-13T00:00:00",
          "2014-09-14T00:00:00",
          "2014-09-15T00:00:00",
          "2014-09-16T00:00:00",
          "2014-09-17T00:00:00",
          "2014-09-18T00:00:00",
          "2014-09-19T00:00:00",
          "2014-09-20T00:00:00",
          "2014-09-21T00:00:00",
          "2014-09-22T00:00:00",
          "2014-09-23T00:00:00",
          "2014-09-24T00:00:00",
          "2014-09-25T00:00:00",
          "2014-09-26T00:00:00",
          "2014-09-27T00:00:00",
          "2014-09-28T00:00:00",
          "2014-09-29T00:00:00",
          "2014-09-30T00:00:00",
          "2014-10-01T00:00:00",
          "2014-10-02T00:00:00",
          "2014-10-03T00:00:00",
          "2014-10-04T00:00:00",
          "2014-10-05T00:00:00",
          "2014-10-06T00:00:00",
          "2014-10-07T00:00:00",
          "2014-10-08T00:00:00",
          "2014-10-09T00:00:00",
          "2014-10-10T00:00:00",
          "2014-10-11T00:00:00",
          "2014-10-12T00:00:00",
          "2014-10-13T00:00:00",
          "2014-10-14T00:00:00",
          "2014-10-15T00:00:00",
          "2014-10-16T00:00:00",
          "2014-10-17T00:00:00",
          "2014-10-18T00:00:00",
          "2014-10-19T00:00:00",
          "2014-10-20T00:00:00",
          "2014-10-21T00:00:00",
          "2014-10-22T00:00:00",
          "2014-10-23T00:00:00",
          "2014-10-24T00:00:00",
          "2014-10-25T00:00:00",
          "2014-10-26T00:00:00",
          "2014-10-27T00:00:00",
          "2014-10-28T00:00:00",
          "2014-10-29T00:00:00",
          "2014-10-30T00:00:00",
          "2014-10-31T00:00:00",
          "2014-11-01T00:00:00",
          "2014-11-02T00:00:00",
          "2014-11-03T00:00:00",
          "2014-11-04T00:00:00",
          "2014-11-05T00:00:00",
          "2014-11-06T00:00:00",
          "2014-11-07T00:00:00",
          "2014-11-08T00:00:00",
          "2014-11-09T00:00:00",
          "2014-11-10T00:00:00",
          "2014-11-11T00:00:00",
          "2014-11-12T00:00:00",
          "2014-11-13T00:00:00",
          "2014-11-14T00:00:00",
          "2014-11-15T00:00:00",
          "2014-11-16T00:00:00",
          "2014-11-17T00:00:00",
          "2014-11-18T00:00:00",
          "2014-11-19T00:00:00",
          "2014-11-20T00:00:00",
          "2014-11-21T00:00:00",
          "2014-11-22T00:00:00",
          "2014-11-23T00:00:00",
          "2014-11-24T00:00:00",
          "2014-11-25T00:00:00",
          "2014-11-26T00:00:00",
          "2014-11-27T00:00:00",
          "2014-11-28T00:00:00",
          "2014-11-29T00:00:00",
          "2014-11-30T00:00:00",
          "2014-12-01T00:00:00",
          "2014-12-02T00:00:00",
          "2014-12-03T00:00:00",
          "2014-12-04T00:00:00",
          "2014-12-05T00:00:00",
          "2014-12-06T00:00:00",
          "2014-12-07T00:00:00",
          "2014-12-08T00:00:00",
          "2014-12-09T00:00:00",
          "2014-12-10T00:00:00",
          "2014-12-11T00:00:00",
          "2014-12-12T00:00:00",
          "2014-12-13T00:00:00",
          "2014-12-14T00:00:00",
          "2014-12-15T00:00:00",
          "2014-12-16T00:00:00",
          "2014-12-17T00:00:00",
          "2014-12-18T00:00:00",
          "2014-12-19T00:00:00",
          "2014-12-20T00:00:00",
          "2014-12-21T00:00:00",
          "2014-12-22T00:00:00",
          "2014-12-23T00:00:00",
          "2014-12-24T00:00:00",
          "2014-12-25T00:00:00",
          "2014-12-26T00:00:00",
          "2014-12-27T00:00:00",
          "2014-12-28T00:00:00",
          "2014-12-29T00:00:00",
          "2014-12-30T00:00:00",
          "2014-12-31T00:00:00",
          "2015-01-01T00:00:00",
          "2015-01-02T00:00:00",
          "2015-01-03T00:00:00",
          "2015-01-04T00:00:00",
          "2015-01-05T00:00:00",
          "2015-01-06T00:00:00",
          "2015-01-07T00:00:00",
          "2015-01-08T00:00:00",
          "2015-01-09T00:00:00",
          "2015-01-10T00:00:00",
          "2015-01-11T00:00:00",
          "2015-01-12T00:00:00",
          "2015-01-13T00:00:00",
          "2015-01-14T00:00:00",
          "2015-01-15T00:00:00",
          "2015-01-16T00:00:00",
          "2015-01-17T00:00:00",
          "2015-01-18T00:00:00",
          "2015-01-19T00:00:00",
          "2015-01-20T00:00:00",
          "2015-01-21T00:00:00",
          "2015-01-22T00:00:00",
          "2015-01-23T00:00:00",
          "2015-01-24T00:00:00",
          "2015-01-25T00:00:00",
          "2015-01-26T00:00:00",
          "2015-01-27T00:00:00",
          "2015-01-28T00:00:00",
          "2015-01-29T00:00:00",
          "2015-01-30T00:00:00",
          "2015-01-31T00:00:00"
         ],
         "xaxis": "x",
         "y": [
          0.9247036043732172,
          0.9255970393919092,
          0.9228369547391879,
          0.9217130395335648,
          0.9195318283393612,
          0.9199772921692925,
          0.9194648818990879,
          0.9192972016831885,
          0.9185605513939816,
          0.9189267443025116,
          0.9186042388281354,
          0.9184280898980547,
          0.9169550799953133,
          0.915558706425837,
          0.9159891593677109,
          0.91442591525904,
          0.9134645634958003,
          0.9129858750297163,
          0.9135059510514639,
          0.9131329345403559,
          0.9121491982668711,
          0.9125574003501755,
          0.9113656107659067,
          0.911005458384187,
          0.9089771886388237,
          0.909487179810116,
          0.9097878713312274,
          0.9095733558943315,
          0.911550389724898,
          0.9140194283596037,
          0.9141976869318695,
          0.9165877898388999,
          0.9176252356894116,
          0.919747435434104,
          0.9207996641418459,
          0.9222960555140403,
          0.9231254820443766,
          0.9227973147587589,
          0.9211396041823728,
          0.9193855985214738,
          0.918594366231591,
          0.9148940748733587,
          0.911984052393729,
          0.9095767491946606,
          0.9084274390224089,
          0.9044670840380634,
          0.9052734915165211,
          0.9036090397708672,
          0.9024463323245037,
          0.8996428086820282,
          0.8970613062017134,
          0.8930386461723827,
          0.8970588390550971,
          0.8995807182448454,
          0.9019092994623081,
          0.8999442541614441,
          null,
          null,
          null,
          null,
          null,
          null,
          null,
          null,
          null,
          null,
          null,
          null,
          null,
          null,
          null,
          null,
          0.8943412748670595,
          0.9101915515216638,
          0.9135711995546452,
          0.9162298247942764,
          0.9194820000028588,
          0.9125804400696363,
          0.9081256842992719,
          0.9032167987591644,
          0.9013741456571199,
          0.9028515355158143,
          0.9021925314179187,
          0.9027263307649123,
          0.9021485256411097,
          0.9020146222485018,
          0.902531819789755,
          0.9037654043604884,
          0.9034451265619674,
          0.9037752139550459,
          0.9034979729837571,
          0.9040390615512843,
          0.9052581718180408,
          0.9063520784161232,
          0.9061146697153124,
          0.9067545646507902,
          0.9090212280999204,
          0.9098575134306828,
          0.9111752998627126,
          0.9109700940616615,
          0.911812543256129,
          0.9116172978001682,
          0.9115168755728866,
          0.9129076967163606,
          0.9131059921519721,
          0.9140865430659922,
          0.9146353310914305,
          0.9158408214434737,
          0.9211995626832793,
          0.9253615874134983,
          0.9316997470658659,
          0.9355005128689775,
          0.9370541533001566,
          0.9377838363180951,
          0.9380246990408626,
          0.9370909696439043,
          0.9375931179559895,
          0.9375370417863025,
          0.9365437845492397,
          0.9350518312491601,
          0.9329201502233639,
          0.9316095053461222,
          0.93140879130875,
          0.9307423688243772,
          0.9303423667442666,
          0.9295437611771444,
          0.9282126610408004,
          0.927514909245584,
          0.9269902267580167,
          0.9272584633789066,
          0.9273441898880239,
          0.925053992789556,
          0.924994107275595,
          0.9247424078193591,
          0.9241679864006853,
          0.922759994665787,
          0.9142804410245823,
          0.9078336593094873,
          0.9022081165025233,
          0.8980517360902811,
          0.8944109808023157,
          0.8963927611628112,
          0.89673976837005,
          0.897294038402051,
          0.8982882565700238,
          0.8986822579490628,
          0.8986793466376938,
          0.8972301480002733,
          0.8971454313492837,
          0.8960953415907532,
          0.8963282684038261,
          0.896068102707038,
          0.8958271252057316,
          0.8939842102919789,
          0.8916945022104814,
          0.8914812206093323,
          0.8884688982105156,
          0.8894307262405867,
          0.8898063363942034,
          0.8892590676464348,
          0.8888291417428669,
          0.8891392967926628,
          0.8888321265749853,
          0.8878919555621574,
          0.8873424137965245,
          0.8897682538623517,
          0.8902535601823759,
          0.8936462098935979,
          0.8962748970387863,
          0.8969708789952255,
          0.899166658482313,
          0.9008895996094856,
          0.9005815214882565,
          0.9002921378240414,
          0.8996741105301578,
          0.8989878652272726,
          0.8979965570300412,
          0.8981337676003978,
          0.8991675362447089,
          0.9004983382559663,
          0.9022206658604183,
          0.904159567640944,
          0.905436812070447,
          0.9066568015424739,
          0.9075679968107624,
          0.9104512777169809,
          0.9124854271717814,
          0.9152443546800774,
          0.9156335230017153,
          0.9154297002840666,
          0.9162753166677559,
          0.9172420633565379,
          0.9162526470132477,
          0.9184137723258823,
          0.9216863132144648,
          0.9225828911908677,
          0.9236364493047546,
          0.9244111809471547,
          0.9249409835817493,
          0.9251498433827803,
          0.9248224237651219,
          0.9249195151450962,
          0.9245231423905917,
          0.9266442516679047,
          0.9276095567289107,
          0.9289246129802153,
          0.9295699203046757,
          0.9318832248400594,
          0.9322004845063119,
          0.9332253231119709,
          0.9329589525136343,
          0.9330579806257402,
          0.9341554693631077,
          0.9353982345470486,
          0.936292197571204,
          0.9371252573532114,
          0.9385799845720777,
          0.9383200165138037,
          0.9373952121227669,
          0.9364177785699914,
          0.9340783399263154,
          0.9324015043941217,
          0.9295924198679034,
          0.9282708430921766,
          0.9270127417540868,
          0.9266374812524325,
          0.9267269695444625,
          0.9244904158498974,
          0.923916746090867,
          0.924084561406379,
          0.9249365263832154,
          0.9256372534278385,
          0.9264434175878744,
          0.927485000640486,
          0.9272472385680494,
          0.9275722270640405,
          0.9281497409504147,
          0.9285794148989882,
          0.9273949826047865,
          0.9262768352445716,
          0.9253992111430236,
          0.9236593912680093,
          0.9209191939502616,
          0.9174682808534651,
          0.914604686948211,
          0.9124763652117914,
          0.9122224667558788,
          0.9108622673298903,
          0.9102228830488466,
          0.9103499831157005,
          0.909427373905322,
          0.9121606892561667,
          0.9139457228923833,
          0.9157497031110506,
          0.9165134718732956,
          0.917515396205981,
          0.918197901083559,
          0.9186555619240216,
          0.9190517495773927,
          0.9197374445865586,
          0.9191933256517092,
          0.9192617536186315,
          0.9186098884371898,
          0.9152780539196996,
          0.9137106382512821,
          0.9125936218085404,
          0.9113830458783536,
          0.9106187249473108,
          0.911081197806565,
          0.913098010210284,
          0.9133807665712115,
          0.9169833538888905,
          0.9190085234754959,
          0.9263472333859222,
          0.9289579737399242,
          0.9315146756517871,
          0.9330510986001643,
          0.9329706146183234,
          0.9323836727286657,
          0.9315425224216431,
          0.9322215772574026,
          0.9325813254998125,
          0.9325434326906443,
          0.9342046559727607,
          0.9342923739834808,
          0.9343424129249984,
          0.9338362813123615,
          0.9329958282828008,
          0.93365743383819,
          0.9330765398949021,
          0.9317665988721436,
          0.9313088436240986,
          0.9315388179025486,
          0.9303558783842605,
          0.9357869753545848,
          0.9408863019539206,
          0.938419871882975,
          0.9351305622014576,
          0.9321757872849348,
          0.9291515189338829,
          0.9260127895659813,
          0.9244189059839811,
          0.9220358814401255,
          0.9215584073997716,
          0.9207396267445831,
          0.9234995287485548,
          0.9229169637307916,
          0.9239353942322752,
          0.9251230155587693,
          0.9252374016880751,
          0.9254112088071225,
          0.9234690549597343,
          0.9207080683347689,
          0.9208602805861001,
          0.920634481514681,
          0.9196015299680153,
          0.9203291920032668,
          0.9206107749506444,
          0.9210139377153972,
          0.9219035474022385,
          0.9216541410033217,
          0.9211430809674661,
          0.9208844243958222,
          0.9220397356424148,
          0.9237975990252008,
          0.9233482969527151,
          0.9243383035902291,
          0.9298504323353095,
          0.93527277319217,
          0.9390233729124156,
          0.9374882951207424,
          0.9372230936942594,
          0.9362136916884041,
          0.9357257512821978,
          0.9363492495607092,
          0.9357091743243686,
          0.9353193066950407,
          0.9341974831365025,
          0.9328658905330149,
          0.9304895501040403,
          0.9296474331941759,
          0.9287373140059465,
          0.9285667208147604,
          0.9280092236640031,
          0.9278689985244487,
          0.9272032997200046,
          0.927676102585617,
          0.9284364679347452,
          0.928816795978473,
          0.9290316937586693,
          0.9289281528509774,
          0.9283406600579389,
          0.9265774039189529,
          0.9247033176516353,
          0.9247754949942476,
          0.9231769370240879,
          0.9211787511463724,
          0.9210880404133026,
          0.9205209182607155,
          0.9204528280943571,
          0.9192886803323753,
          0.9199373777257478,
          0.92040587284417,
          0.9214223859530788,
          0.9187904465701333,
          0.9189369662586226,
          0.9187910795763484,
          0.9196326280010269,
          0.9209404153405276,
          0.9224925820765971,
          0.9235838015060482,
          0.9257950090524072,
          0.9272500144002603,
          0.9288956972443916,
          0.930917030301265,
          0.9331497724762392,
          0.935213456627161,
          0.9356998443636799,
          0.9363925841524415,
          0.9363671908019002,
          0.9382097530521085,
          0.9366401686580345,
          0.9388644647812967,
          0.9397343261140524,
          0.9414005614835128,
          0.9410326544664959,
          0.9354482521445406,
          0.9315729423154324,
          0.9269137745923723,
          0.9235784541220162,
          0.9208557224770727,
          0.9216118594945882,
          0.9227835246080273,
          0.9242510556485912,
          0.9255021540650044,
          0.9265479222723467,
          0.9285158277523826,
          0.9301509871186864,
          0.9315373534382073,
          0.9304330945679959,
          0.9300315835647793,
          0.9315278251478213,
          0.9324554380004356,
          0.9323327341623798,
          0.9317243633778258,
          0.9307905973319749,
          0.9284048335513678,
          0.9270161135929755,
          0.9262690450265352,
          0.9260906055606426,
          0.924353885399893,
          0.9234524374003277,
          0.9240073274583964,
          0.9238755456263956,
          0.9236549701138186,
          0.9233460360241134,
          0.9238555359001552,
          0.9283778306675977,
          0.932347592418744,
          0.9339314771014988,
          0.9351505895207105,
          0.9374058373589558,
          0.9376951669878373,
          0.9353635129147782,
          0.9331413307309817,
          0.931994643796486
         ],
         "yaxis": "y"
        },
        {
         "connectgaps": false,
         "customdata": [
          [
           0.34620159579627907,
           0.5121735747401063
          ],
          [
           0.4110891044716515,
           0.5843646978192959
          ],
          [
           0.4640269308814311,
           0.6115142799132455
          ],
          [
           0.5018929990126508,
           0.6314136877799248
          ],
          [
           0.5047387435438899,
           0.6236705967066222
          ],
          [
           0.4955855072650832,
           0.6067692943860036
          ],
          [
           0.4595562725030814,
           0.5957209021937973
          ],
          [
           0.42513392606031963,
           0.5797897217012364
          ],
          [
           0.41784405791478874,
           0.5702312328489972
          ],
          [
           0.4052841717702871,
           0.5540549164912988
          ],
          [
           0.4122027656246532,
           0.5447641544578801
          ],
          [
           0.42460998703480374,
           0.54958749286728
          ],
          [
           0.42486061657238605,
           0.5405105098614943
          ],
          [
           0.39878880506154024,
           0.528195549322581
          ],
          [
           0.34114450947510466,
           0.47779079424864773
          ],
          [
           0.290308737686352,
           0.4418001615496411
          ],
          [
           0.26697459705294674,
           0.4552541188812862
          ],
          [
           0.23843655252869403,
           0.448614746099886
          ],
          [
           0.22132608320106917,
           0.4433903756370296
          ],
          [
           0.1851342993252285,
           0.4206819218567234
          ],
          [
           0.15090051580176278,
           0.39502494589918724
          ],
          [
           0.1112047654886068,
           0.3739540211392372
          ],
          [
           0.09137623825801255,
           0.3682996191598814
          ],
          [
           0.0639902261455343,
           0.34733412955133935
          ],
          [
           0.043988691854377815,
           0.34901360642089224
          ],
          [
           0.020564059233052715,
           0.34750412383717855
          ],
          [
           -0.03392716553057096,
           0.31915292351889907
          ],
          [
           -0.05133028297792042,
           0.30591430513622836
          ],
          [
           -0.060137058598455244,
           0.294858457874632
          ],
          [
           -0.06491139132432605,
           0.2844490757833495
          ],
          [
           -0.07539922357943417,
           0.27805192114902105
          ],
          [
           -0.10390118804225597,
           0.2557000726880164
          ],
          [
           -0.13661304074019456,
           0.21767168860516217
          ],
          [
           -0.19323716239284403,
           0.17605974317309053
          ],
          [
           -0.28294979964518313,
           0.10042295515875091
          ],
          [
           -0.35919937453696105,
           0.044382682685554856
          ],
          [
           -0.4016488565767047,
           0.009190837017029935
          ],
          [
           -0.413303472380795,
           -0.005448902636931939
          ],
          [
           -0.40871923293962736,
           0.009194223031792983
          ],
          [
           -0.3997936016390198,
           0.008337725107284807
          ],
          [
           -0.38605623912674014,
           0.01577280749109876
          ],
          [
           -0.38881849733468465,
           0.0033770017152053135
          ],
          [
           -0.39278167936586955,
           -0.011861433224124416
          ],
          [
           -0.4028862271680224,
           -0.021257283044224074
          ],
          [
           -0.3956230870472787,
           -0.011142869820935248
          ],
          [
           -0.3946633136869372,
           -0.01344724398678552
          ],
          [
           -0.4299009788823074,
           -0.057619589831284894
          ],
          [
           -0.49986969417179766,
           -0.11975908240455985
          ],
          [
           -0.6038730692866725,
           -0.22634549033174248
          ],
          [
           -0.7382605915495554,
           -0.35174920527707965
          ],
          [
           -0.8455522682001729,
           -0.4467992962011293
          ],
          [
           -0.9360367445466721,
           -0.5290289346264482
          ],
          [
           -1.0523581713723469,
           -0.6560447516711911
          ],
          [
           -1.1341324572651237,
           -0.7443798723896614
          ],
          [
           -1.1879204448185394,
           -0.8069652730529372
          ],
          [
           -1.31694795126918,
           -0.9456939046009721
          ],
          [
           null,
           null
          ],
          [
           null,
           null
          ],
          [
           null,
           null
          ],
          [
           null,
           null
          ],
          [
           null,
           null
          ],
          [
           null,
           null
          ],
          [
           null,
           null
          ],
          [
           null,
           null
          ],
          [
           null,
           null
          ],
          [
           null,
           null
          ],
          [
           null,
           null
          ],
          [
           null,
           null
          ],
          [
           null,
           null
          ],
          [
           null,
           null
          ],
          [
           null,
           null
          ],
          [
           null,
           null
          ],
          [
           -1.880832655252881,
           -1.6452709032658495
          ],
          [
           -1.526322603963551,
           -1.254577889163559
          ],
          [
           -1.3032193262886662,
           -1.028411130354718
          ],
          [
           -1.171331567162076,
           -0.8974740235735617
          ],
          [
           -1.086386467116352,
           -0.8102876627338266
          ],
          [
           -0.9222292471743668,
           -0.6336111724294592
          ],
          [
           -0.7803594265359516,
           -0.47576243763293125
          ],
          [
           -0.6271852941908851,
           -0.32232309001171855
          ],
          [
           -0.5270013732886019,
           -0.22712477777009757
          ],
          [
           -0.4260202243098274,
           -0.1300581478150838
          ],
          [
           -0.35778221121248766,
           -0.05818539138139518
          ],
          [
           -0.2983657908499963,
           -0.013468033633817962
          ],
          [
           -0.2602759793200072,
           0.024946780000672932
          ],
          [
           -0.23577367641337726,
           0.05230116131897244
          ],
          [
           -0.20443581279354495,
           0.07188308933164678
          ],
          [
           -0.18353702305447353,
           0.10287809453737848
          ],
          [
           -0.1639389260780779,
           0.12225211467629842
          ],
          [
           -0.13500127837445136,
           0.14569200655096654
          ],
          [
           -0.1185905076484292,
           0.16020096845775247
          ],
          [
           -0.09841264565773694,
           0.17738245109820264
          ],
          [
           -0.08898134841682905,
           0.1984540029789115
          ],
          [
           -0.06842496048768851,
           0.21708191614427055
          ],
          [
           -0.05944967060121248,
           0.2500151275957498
          ],
          [
           -0.03584269454588306,
           0.26881925999015593
          ],
          [
           -0.019023666795403564,
           0.27669586993084316
          ],
          [
           -0.015358723369403597,
           0.28220349873856626
          ],
          [
           -0.014490744859768975,
           0.2886323131459903
          ],
          [
           -0.007253477245525844,
           0.29745944991156426
          ],
          [
           0.024300022611882965,
           0.3135747425102706
          ],
          [
           0.051573094840635915,
           0.32483924688726873
          ],
          [
           0.07948097899725236,
           0.3511338724117182
          ],
          [
           0.0928736720417318,
           0.36866187853653576
          ],
          [
           0.08429840982708153,
           0.35922951050504764
          ],
          [
           0.06199222166439409,
           0.33451725085276857
          ],
          [
           0.03285731785580066,
           0.3066967772616785
          ],
          [
           0.021874148161022004,
           0.28947867320674203
          ],
          [
           -0.02775000670640163,
           0.23075978351488838
          ],
          [
           -0.06530378169291186,
           0.1888815087543661
          ],
          [
           -0.16510521652088872,
           0.10689287363141942
          ],
          [
           -0.2420880081949423,
           0.013460069822199024
          ],
          [
           -0.27087698402928484,
           -0.022185782375270118
          ],
          [
           -0.27742572027251633,
           -0.02564353623250523
          ],
          [
           -0.27528003958642594,
           -0.01886260654416714
          ],
          [
           -0.2567212525751134,
           0.013159037315495396
          ],
          [
           -0.23128752288352825,
           0.04939574210050347
          ],
          [
           -0.21336906106437678,
           0.07390727429071565
          ],
          [
           -0.2144494501829306,
           0.08021724716547139
          ],
          [
           -0.20302321513914307,
           0.09191615679448698
          ],
          [
           -0.18572902676259778,
           0.11165785062619203
          ],
          [
           -0.15550336714914229,
           0.13389295252242867
          ],
          [
           -0.12750472788099,
           0.16634518712626528
          ],
          [
           -0.10308703710811051,
           0.19049462695834807
          ],
          [
           -0.09655993884624667,
           0.19818464214131534
          ],
          [
           -0.11425031725925953,
           0.18696987385521935
          ],
          [
           -0.13608904188412738,
           0.15989073326649303
          ],
          [
           -0.13113758090742655,
           0.14636940898036369
          ],
          [
           -0.10725252196785362,
           0.16097411405662773
          ],
          [
           -0.12407651548240183,
           0.13962552278188517
          ],
          [
           -0.1506104294303887,
           0.11577130226198724
          ],
          [
           -0.20973575198132377,
           0.04734947187299481
          ],
          [
           -0.2583563098068234,
           0.0013590088885437187
          ],
          [
           -0.27802740874342013,
           -0.023437269646877534
          ],
          [
           -0.269280397575839,
           -0.006886713070165678
          ],
          [
           -0.24492251175895435,
           0.01269510738857857
          ],
          [
           -0.2593556793374719,
           0.016859830680422166
          ],
          [
           -0.27802840482587216,
           -0.00705632806725264
          ],
          [
           -0.2840301715764185,
           -0.03278860334576277
          ],
          [
           -0.29913736164539445,
           -0.04532012721801213
          ],
          [
           -0.3356205006985345,
           -0.09931927680118571
          ],
          [
           -0.3294151594232115,
           -0.1164608472454576
          ],
          [
           -0.31741402896166643,
           -0.1307354452097761
          ],
          [
           -0.3476920920150336,
           -0.16545735520265234
          ],
          [
           -0.3691141759537062,
           -0.19568290553194845
          ],
          [
           -0.4147750080295928,
           -0.2349343466938383
          ],
          [
           -0.44360607946001823,
           -0.27229386125493565
          ],
          [
           -0.4236890379612072,
           -0.2694152548418492
          ],
          [
           -0.37838805107913015,
           -0.2240207669228507
          ],
          [
           -0.3271273538279496,
           -0.16568235222218466
          ],
          [
           -0.2824678813258824,
           -0.1169784663805264
          ],
          [
           -0.26603020429755525,
           -0.09505218283716126
          ],
          [
           -0.23780987296183792,
           -0.07110575729094201
          ],
          [
           -0.23553430711251208,
           -0.06481497815133892
          ],
          [
           -0.1997321222744684,
           -0.02334228970525068
          ],
          [
           -0.15311270289283743,
           0.0226223235318678
          ],
          [
           -0.1099184604513464,
           0.07141693449948806
          ],
          [
           -0.06532328582588441,
           0.12786578524765377
          ],
          [
           -0.033622249250931,
           0.16822451717945178
          ],
          [
           -0.021938635397290462,
           0.1926330109862041
          ],
          [
           0.0008286665159719775,
           0.21211769281450402
          ],
          [
           0.024031249942110644,
           0.22999480330720848
          ],
          [
           0.025021005286628893,
           0.25026821898687857
          ],
          [
           0.00481877128936725,
           0.254255870293822
          ],
          [
           -0.006560515415261725,
           0.2566336187493277
          ],
          [
           -0.043143198030355163,
           0.23886005486841613
          ],
          [
           -0.11653383093316817,
           0.19505107090840723
          ],
          [
           -0.20081347104664107,
           0.14719314369957182
          ],
          [
           -0.2574039720813343,
           0.10786822032764279
          ],
          [
           -0.29484707955931283,
           0.08068471423907927
          ],
          [
           -0.33063637900234466,
           0.07365473154759651
          ],
          [
           -0.32791185170492576,
           0.0648839711031983
          ],
          [
           -0.3055805049440166,
           0.06050179831711244
          ],
          [
           -0.28178285878940024,
           0.05834216067581688
          ],
          [
           -0.2643231614026634,
           0.043362195270887256
          ],
          [
           -0.28192165187186197,
           -0.00857114029187725
          ],
          [
           -0.27797206973114535,
           -0.028837091477083143
          ],
          [
           -0.26569077173480515,
           -0.029587041594621923
          ],
          [
           -0.2947894649735204,
           -0.04687582181801526
          ],
          [
           -0.3425321875879987,
           -0.07901063264776846
          ],
          [
           -0.41472493300151264,
           -0.14092939798560808
          ],
          [
           -0.4857870413829017,
           -0.23194265463070549
          ],
          [
           -0.4774844148553598,
           -1.7160844430134101
          ],
          [
           -0.4430537480496658,
           -3.2361664286330485
          ],
          [
           -0.3996455890691207,
           -4.57832976673773
          ],
          [
           -0.347187583587753,
           -5.721420025591861
          ],
          [
           -0.2972188281500903,
           -6.641999405559654
          ],
          [
           -0.27156052847527423,
           -7.346798387347108
          ],
          [
           -0.2603338338745248,
           -7.897783988212246
          ],
          [
           -0.25263385094016744,
           -8.330283515610946
          ],
          [
           -0.23371642316988533,
           -8.663046742911886
          ],
          [
           -0.21115776347990847,
           -8.917433429902319
          ],
          [
           -0.19845225049716603,
           -9.117540755634025
          ],
          [
           -0.20962913503979358,
           -9.27695992355975
          ],
          [
           -0.2376181684896411,
           -9.39820590761517
          ],
          [
           -0.2501050295069976,
           -9.490582262071928
          ],
          [
           -0.2526241914734959,
           -9.563796725439786
          ],
          [
           -0.251877298473628,
           -9.620126990163937
          ],
          [
           -0.2414938710091209,
           -9.663823888529244
          ],
          [
           -0.22232145995465152,
           -9.699418037817441
          ],
          [
           -0.20444902653819386,
           -9.728830807157902
          ],
          [
           -0.21493699478802591,
           -9.751640327251518
          ],
          [
           -0.23110612167841613,
           -9.76897264467596
          ],
          [
           -0.23707732096188655,
           -9.784212060634824
          ],
          [
           -0.2677301727667801,
           -9.796598669790104
          ],
          [
           -0.2985143065518615,
           -9.805610820269418
          ],
          [
           -0.36661110503869554,
           -9.816434028112928
          ],
          [
           -0.4562733181361139,
           -9.826235805085384
          ],
          [
           -0.5507814965837258,
           -9.835492834569896
          ],
          [
           -0.6769965493161159,
           -9.844437311946388
          ],
          [
           -0.8257495084694666,
           -9.853913786173424
          ],
          [
           -0.9319126980768595,
           -9.861908596703945
          ],
          [
           -0.9914490112179504,
           -9.867480045465587
          ],
          [
           -1.0970356764430476,
           -9.870474225991629
          ],
          [
           -1.2154668423050343,
           -9.872738270767433
          ],
          [
           -1.3101742282792,
           -9.875552003852325
          ],
          [
           -1.3834170352464996,
           -9.876972581031554
          ],
          [
           -1.4808912647373618,
           -9.877548700522977
          ],
          [
           -1.5743495984291136,
           -9.878073360129553
          ],
          [
           -1.7069585035646853,
           -9.879791460386562
          ],
          [
           -1.796805633238573,
           -9.881002106449587
          ],
          [
           -1.9220215096186517,
           -9.882549925043167
          ],
          [
           -2.031507257084612,
           -9.88521017383814
          ],
          [
           -2.1325352107745026,
           -9.886025268417454
          ],
          [
           -2.2331171870598294,
           -9.887185677082346
          ],
          [
           -2.3107413039844094,
           -9.887368016679192
          ],
          [
           -2.3289437726584055,
           -9.887993465321616
          ],
          [
           -2.3592273189885464,
           -9.889353976762322
          ],
          [
           -2.3977098182895404,
           -9.888473842498707
          ],
          [
           -2.468347669880002,
           -9.888326458684057
          ],
          [
           -2.5598521541988535,
           -9.889100383744315
          ],
          [
           -2.6617508247441135,
           -9.889089371694952
          ],
          [
           -2.686795476292315,
           -9.888758300493423
          ],
          [
           -2.6394829574211123,
           -9.888148255250579
          ],
          [
           -2.594440901008145,
           -9.887318332530027
          ],
          [
           -2.5419254481438083,
           -9.88730361518738
          ],
          [
           -2.5045087645211557,
           -9.886484975208793
          ],
          [
           -2.4705391613422094,
           -9.887584050956603
          ],
          [
           -2.4037784430151317,
           -9.88806142239205
          ],
          [
           -2.324209869469135,
           -9.8874813609777
          ],
          [
           -2.2761079474977364,
           -9.887965630451111
          ],
          [
           -2.2421899495174005,
           -9.888010322627368
          ],
          [
           -2.2057408500165545,
           -9.888661375729804
          ],
          [
           -2.2343994246207317,
           -9.887836343589695
          ],
          [
           -2.255403340944117,
           -9.888886208301198
          ],
          [
           -2.276890755310011,
           -9.889372728637587
          ],
          [
           -2.272577176914987,
           -9.888081017672231
          ],
          [
           -2.2807356153951313,
           -9.88863102377829
          ],
          [
           -2.2520749825131303,
           -9.888834919503688
          ],
          [
           -2.2269752885973797,
           -9.888458885356533
          ],
          [
           -2.18358935458862,
           -9.888698396258714
          ],
          [
           -2.1407848907307594,
           -9.888161431172254
          ],
          [
           -2.119035480089954,
           -9.887908817747817
          ],
          [
           -2.1120771865830235,
           -9.88703336637389
          ],
          [
           -2.1040118012352007,
           -9.887249358037726
          ],
          [
           -2.058510965355319,
           -9.88671537940524
          ],
          [
           -2.055294709734735,
           -9.886946046387646
          ],
          [
           -2.082481046181627,
           -9.887700914544345
          ],
          [
           -2.1320071155653566,
           -9.88781816671217
          ],
          [
           -2.1887786026126554,
           -9.88838910580519
          ],
          [
           -2.206753462806669,
           -9.888132968070794
          ],
          [
           -2.1808262327426333,
           -9.888155714883935
          ],
          [
           -2.18444475944026,
           -9.889230555136733
          ],
          [
           -2.1604954029609083,
           -9.890050422117417
          ],
          [
           -2.204301088715003,
           -9.89137769530369
          ],
          [
           -2.2952066558462234,
           -9.892765407949907
          ],
          [
           -2.3642602915739697,
           -9.894457436624355
          ],
          [
           -2.401817151538493,
           -9.895078286798805
          ],
          [
           -2.444997441705241,
           -9.895507603932716
          ],
          [
           -2.473417896950398,
           -9.894426080525376
          ],
          [
           -2.531741786558451,
           -9.892980225834119
          ],
          [
           -2.495447013997289,
           -9.89189523995056
          ],
          [
           -2.4893620503025584,
           -9.89023472002742
          ],
          [
           -2.429889514875352,
           -9.888247332946824
          ],
          [
           -2.3872020152522837,
           -9.886150475584735
          ],
          [
           -2.3532546093092503,
           -9.884873420825196
          ],
          [
           -2.3749885242133435,
           -9.884156782546997
          ],
          [
           -2.4035953096566014,
           -9.883336839571088
          ],
          [
           -2.4753867472236153,
           -9.88222992547427
          ],
          [
           -2.5122730937242626,
           -9.881711614705722
          ],
          [
           -2.524734482085878,
           -9.880188267052045
          ],
          [
           -2.4823474825858147,
           -9.880298968732388
          ],
          [
           -2.427735456085807,
           -9.88043161101019
          ],
          [
           -2.2913326218554,
           -9.881077113276065
          ],
          [
           -2.157318351855837,
           -9.882068725463624
          ],
          [
           -2.0777293754049286,
           -9.883292017166076
          ],
          [
           -2.0207144659500726,
           -9.883193724804881
          ],
          [
           -1.9382905812551177,
           -9.881885653725242
          ],
          [
           -1.8159935534261908,
           -9.880829235389799
          ],
          [
           -1.699588935332517,
           -9.878761151990059
          ],
          [
           -1.5965446930978395,
           -9.877554495289631
          ],
          [
           -1.4986576075910372,
           -9.876100135218552
          ],
          [
           -1.4317604361321183,
           -9.874204349989055
          ],
          [
           -1.370018143812736,
           -9.872832876354481
          ],
          [
           -1.337934651705827,
           -9.87143759774898
          ],
          [
           -1.3332545371517968,
           -9.869498826681651
          ],
          [
           -1.3294151522905695,
           -9.868303501235902
          ],
          [
           -1.336932466946765,
           -9.866710017109824
          ],
          [
           -1.368130752933671,
           -9.865047222260051
          ],
          [
           -1.3892206986739188,
           -9.863434996839908
          ],
          [
           -1.407597337078895,
           -9.861148393626491
          ],
          [
           -1.4544211963779232,
           -9.85995502766395
          ],
          [
           -1.4582235174129476,
           -9.85963485595621
          ],
          [
           -1.4009289715980806,
           -9.861013447113391
          ],
          [
           -1.329679610268273,
           -9.859561788341415
          ],
          [
           -1.2920318786262894,
           -9.85910986282161
          ],
          [
           -1.2397206387977555,
           -9.857633796237808
          ],
          [
           -1.182245048599319,
           -9.85858373460235
          ],
          [
           -1.1019059365049968,
           -9.858296518383831
          ],
          [
           -0.9961914065460025,
           -9.857759330038283
          ],
          [
           -0.9045390379146871,
           -9.857663674601094
          ],
          [
           -0.8357810719860276,
           -9.855437001576972
          ],
          [
           -0.790959751981626,
           -9.853261400563202
          ],
          [
           -0.7516107092860279,
           -9.851264059808438
          ],
          [
           -0.7182734061015049,
           -9.848550492309199
          ],
          [
           -0.6987589735521114,
           -9.845935291991388
          ],
          [
           -0.6690020453530837,
           -9.844592240252839
          ],
          [
           -0.6423655892021959,
           -9.843118736310466
          ],
          [
           -0.6020465756455313,
           -9.842454074574837
          ],
          [
           -0.55675853816773,
           -9.842609428934344
          ],
          [
           -0.5224932627632212,
           -9.842847193877416
          ],
          [
           -0.5137870065446386,
           -9.84477795500665
          ],
          [
           -0.5143935107409571,
           -9.845218016091376
          ],
          [
           -0.5287079798940154,
           -9.845922772220343
          ],
          [
           -0.544960183957833,
           -9.847480171273732
          ],
          [
           -0.546667069179687,
           -9.847748712532388
          ],
          [
           -0.5341062466144222,
           -9.847584894504982
          ],
          [
           -0.5136673400573218,
           -9.846394421185058
          ],
          [
           -0.4880207960639221,
           -9.846681628370694
          ],
          [
           -0.46652580215476713,
           -9.846820822973616
          ],
          [
           -0.45312932000592726,
           -9.846799520880177
          ],
          [
           -0.4386041511860946,
           -9.846329866633065
          ],
          [
           -0.47039926090023787,
           -9.845684909122959
          ],
          [
           -0.49918570878845603,
           -9.845471166741353
          ],
          [
           -0.5182714315268936,
           -9.844914866528528
          ],
          [
           -0.5394661065247972,
           -9.844990713640131
          ],
          [
           -0.5401382097871836,
           -9.84451515764372
          ],
          [
           -0.5204437184811654,
           -9.845888529344384
          ],
          [
           -0.5014634698279993,
           -9.845175223069944
          ],
          [
           -0.5141711560254816,
           -9.846763337816292
          ],
          [
           -0.5603041873172574,
           -9.848817621660814
          ],
          [
           -0.6101349962895084,
           -9.850005010108147
          ],
          [
           -0.6513285578951176,
           -9.850413914056611
          ],
          [
           -0.6613415417800118,
           -9.850152349223682
          ],
          [
           -0.6304091814500217,
           -9.85007571235189
          ],
          [
           -0.5875250969228817,
           -9.850517281384187
          ],
          [
           -0.5514982083692478,
           -9.850340330651685
          ],
          [
           -0.5179544640108399,
           -9.851523343404871
          ],
          [
           -0.49458711758954826,
           -9.853731635427858
          ],
          [
           -0.47818242953565193,
           -9.855181821398524
          ],
          [
           -0.48526307579567896,
           -9.853962136927755
          ],
          [
           -0.4933448168813912,
           -9.852591775039654
          ],
          [
           -0.5034234416552178,
           -9.85275658886903
          ],
          [
           -0.5338868829164727,
           -9.851401307406514
          ],
          [
           -0.547459464778875,
           -9.850408635587133
          ],
          [
           -0.5425106221446059,
           -9.849572278029477
          ],
          [
           -0.551379281356853,
           -9.84875360779321
          ],
          [
           -0.5816005685859122,
           -9.849705840579778
          ],
          [
           -0.5971794977052535,
           -9.851712489293941
          ],
          [
           -0.5996237319525334,
           -9.8524121044181
          ],
          [
           -0.6288467997888812,
           -9.853486928654291
          ],
          [
           -0.6747770414871523,
           -9.853372779970574
          ],
          [
           -0.7489016564099209,
           -9.853841788230552
          ],
          [
           -0.8391882806392916,
           -9.854065841952902
          ],
          [
           -0.9353384159562774,
           -9.85429332206404
          ],
          [
           -1.0046522749648654,
           -9.853890189479792
          ],
          [
           -1.01849109801312,
           -9.85385828263425
          ],
          [
           -0.9614274431675567,
           -9.854721791937775
          ],
          [
           -0.890547575812048,
           -9.854181727014337
          ],
          [
           -0.8204062812856578,
           -9.855527111194055
          ],
          [
           -0.7756887677945601,
           -9.855951812314649
          ],
          [
           -0.7513560204620527,
           -9.855969745334418
          ],
          [
           -0.7248041591855421,
           -9.85609879633157
          ],
          [
           -0.7204993620145969,
           -9.856167876955443
          ],
          [
           -0.7454083474453879,
           -9.855327312552102
          ],
          [
           -0.8149868943377587,
           -9.857030501172334
          ],
          [
           -0.9151062392524911,
           -9.857415736810752
          ],
          [
           -1.0079080707502652,
           -9.856856978109462
          ],
          [
           -1.1264365076281648,
           -9.855675559481474
          ],
          [
           -1.2108530123987695,
           -9.856125263338958
          ],
          [
           -1.2718824827889346,
           -9.855602816515722
          ],
          [
           -1.3477957137037548,
           -9.856157306268942
          ],
          [
           -1.434850366253537,
           -9.856211817363489
          ],
          [
           -1.5356910082144235,
           -9.857624823120133
          ],
          [
           -1.6317105106238814,
           -9.858781604632963
          ],
          [
           -1.7327023906211285,
           -9.859910374997536
          ],
          [
           -1.787769841915918,
           -9.861561114351149
          ],
          [
           -1.8375356492351491,
           -9.862339254872428
          ],
          [
           -1.9333315869656345,
           -9.863057689019131
          ],
          [
           -2.062593675079247,
           -9.864908799516673
          ],
          [
           -2.145240725994122,
           -9.865963045147465
          ],
          [
           -2.2282152470692327,
           -9.866830084332245
          ],
          [
           -2.3129716074434166,
           -9.868845251854875
          ],
          [
           -2.358815298962225,
           -9.869852593364824
          ],
          [
           -2.3874293779778584,
           -9.86968988691901
          ],
          [
           -2.4233645934482557,
           -9.870453853552231
          ],
          [
           -2.41903216614868,
           -9.871316067541507
          ],
          [
           -2.4415501357090466,
           -9.871969126553795
          ],
          [
           -2.4363897731240356,
           -9.872497692348754
          ],
          [
           -2.394555612291542,
           -9.871708809656765
          ],
          [
           -2.359766047731076,
           -9.870445761770087
          ],
          [
           -2.3189027380668614,
           -9.871346021944918
          ],
          [
           -2.280825064883235,
           -9.870364087048968
          ],
          [
           -2.285004851046172,
           -9.87129263933282
          ],
          [
           -2.2775194524817346,
           -9.8722125275749
          ],
          [
           -2.258573787713394,
           -9.873939545488783
          ],
          [
           -2.221898950655752,
           -9.87516151253874
          ],
          [
           -2.1960550434408432,
           -9.875818579985696
          ],
          [
           -2.170544126258394,
           -9.87518941316965
          ],
          [
           -2.1682479435229647,
           -9.875946330832763
          ],
          [
           -2.1775336377432324,
           -9.8768637550149
          ],
          [
           -2.174174422230187,
           -9.878093371779721
          ],
          [
           -2.178095263579443,
           -9.879007432798316
          ],
          [
           -2.2070141127304574,
           -9.87815034329888
          ],
          [
           -2.206501724727634,
           -9.878061389195462
          ],
          [
           -2.2169756655300854,
           -9.877076079812399
          ],
          [
           -2.256542359842872,
           -9.876569905290738
          ],
          [
           -2.303312254875065,
           -9.874347696535443
          ],
          [
           -2.338618194853728,
           -9.873481789929839
          ],
          [
           -2.3654277961433254,
           -9.872536014497658
          ],
          [
           -2.3903118773834624,
           -9.871288223105879
          ],
          [
           -2.3893046708566357,
           -9.871029537202489
          ],
          [
           -2.4038662197333203,
           -9.870122072681047
          ],
          [
           -2.4131811646346164,
           -9.869039098173614
          ],
          [
           -2.4561098590695605,
           -9.869785135491837
          ],
          [
           -2.4854435870390077,
           -9.869660541922684
          ]
         ],
         "hovertemplate": "%{x}<br>Covid Added: %{y}<br><br>Baseline=%{customdata[0]:.3f}<br />Covid Added=%{customdata[1]:.3f}<extra></extra>",
         "legendgroup": "Covid Added",
         "line": {
          "color": "#EF553B",
          "dash": "solid"
         },
         "name": "Covid Added",
         "showlegend": true,
         "type": "scatter",
         "x": [
          "2013-12-02T00:00:00",
          "2013-12-03T00:00:00",
          "2013-12-04T00:00:00",
          "2013-12-05T00:00:00",
          "2013-12-06T00:00:00",
          "2013-12-07T00:00:00",
          "2013-12-08T00:00:00",
          "2013-12-09T00:00:00",
          "2013-12-10T00:00:00",
          "2013-12-11T00:00:00",
          "2013-12-12T00:00:00",
          "2013-12-13T00:00:00",
          "2013-12-14T00:00:00",
          "2013-12-15T00:00:00",
          "2013-12-16T00:00:00",
          "2013-12-17T00:00:00",
          "2013-12-18T00:00:00",
          "2013-12-19T00:00:00",
          "2013-12-20T00:00:00",
          "2013-12-21T00:00:00",
          "2013-12-22T00:00:00",
          "2013-12-23T00:00:00",
          "2013-12-24T00:00:00",
          "2013-12-25T00:00:00",
          "2013-12-26T00:00:00",
          "2013-12-27T00:00:00",
          "2013-12-28T00:00:00",
          "2013-12-29T00:00:00",
          "2013-12-30T00:00:00",
          "2013-12-31T00:00:00",
          "2014-01-01T00:00:00",
          "2014-01-02T00:00:00",
          "2014-01-03T00:00:00",
          "2014-01-04T00:00:00",
          "2014-01-05T00:00:00",
          "2014-01-06T00:00:00",
          "2014-01-07T00:00:00",
          "2014-01-08T00:00:00",
          "2014-01-09T00:00:00",
          "2014-01-10T00:00:00",
          "2014-01-11T00:00:00",
          "2014-01-12T00:00:00",
          "2014-01-13T00:00:00",
          "2014-01-14T00:00:00",
          "2014-01-15T00:00:00",
          "2014-01-16T00:00:00",
          "2014-01-17T00:00:00",
          "2014-01-18T00:00:00",
          "2014-01-19T00:00:00",
          "2014-01-20T00:00:00",
          "2014-01-21T00:00:00",
          "2014-01-22T00:00:00",
          "2014-01-23T00:00:00",
          "2014-01-24T00:00:00",
          "2014-01-25T00:00:00",
          "2014-01-26T00:00:00",
          "2014-01-27T00:00:00",
          "2014-01-28T00:00:00",
          "2014-01-29T00:00:00",
          "2014-01-30T00:00:00",
          "2014-01-31T00:00:00",
          "2014-02-01T00:00:00",
          "2014-02-02T00:00:00",
          "2014-02-03T00:00:00",
          "2014-02-04T00:00:00",
          "2014-02-05T00:00:00",
          "2014-02-06T00:00:00",
          "2014-02-07T00:00:00",
          "2014-02-08T00:00:00",
          "2014-02-09T00:00:00",
          "2014-02-10T00:00:00",
          "2014-02-11T00:00:00",
          "2014-02-12T00:00:00",
          "2014-02-13T00:00:00",
          "2014-02-14T00:00:00",
          "2014-02-15T00:00:00",
          "2014-02-16T00:00:00",
          "2014-02-17T00:00:00",
          "2014-02-18T00:00:00",
          "2014-02-19T00:00:00",
          "2014-02-20T00:00:00",
          "2014-02-21T00:00:00",
          "2014-02-22T00:00:00",
          "2014-02-23T00:00:00",
          "2014-02-24T00:00:00",
          "2014-02-25T00:00:00",
          "2014-02-26T00:00:00",
          "2014-02-27T00:00:00",
          "2014-02-28T00:00:00",
          "2014-03-01T00:00:00",
          "2014-03-02T00:00:00",
          "2014-03-03T00:00:00",
          "2014-03-04T00:00:00",
          "2014-03-05T00:00:00",
          "2014-03-06T00:00:00",
          "2014-03-07T00:00:00",
          "2014-03-08T00:00:00",
          "2014-03-09T00:00:00",
          "2014-03-10T00:00:00",
          "2014-03-11T00:00:00",
          "2014-03-12T00:00:00",
          "2014-03-13T00:00:00",
          "2014-03-14T00:00:00",
          "2014-03-15T00:00:00",
          "2014-03-16T00:00:00",
          "2014-03-17T00:00:00",
          "2014-03-18T00:00:00",
          "2014-03-19T00:00:00",
          "2014-03-20T00:00:00",
          "2014-03-21T00:00:00",
          "2014-03-22T00:00:00",
          "2014-03-23T00:00:00",
          "2014-03-24T00:00:00",
          "2014-03-25T00:00:00",
          "2014-03-26T00:00:00",
          "2014-03-27T00:00:00",
          "2014-03-28T00:00:00",
          "2014-03-29T00:00:00",
          "2014-03-30T00:00:00",
          "2014-03-31T00:00:00",
          "2014-04-01T00:00:00",
          "2014-04-02T00:00:00",
          "2014-04-03T00:00:00",
          "2014-04-04T00:00:00",
          "2014-04-05T00:00:00",
          "2014-04-06T00:00:00",
          "2014-04-07T00:00:00",
          "2014-04-08T00:00:00",
          "2014-04-09T00:00:00",
          "2014-04-10T00:00:00",
          "2014-04-11T00:00:00",
          "2014-04-12T00:00:00",
          "2014-04-13T00:00:00",
          "2014-04-14T00:00:00",
          "2014-04-15T00:00:00",
          "2014-04-16T00:00:00",
          "2014-04-17T00:00:00",
          "2014-04-18T00:00:00",
          "2014-04-19T00:00:00",
          "2014-04-20T00:00:00",
          "2014-04-21T00:00:00",
          "2014-04-22T00:00:00",
          "2014-04-23T00:00:00",
          "2014-04-24T00:00:00",
          "2014-04-25T00:00:00",
          "2014-04-26T00:00:00",
          "2014-04-27T00:00:00",
          "2014-04-28T00:00:00",
          "2014-04-29T00:00:00",
          "2014-04-30T00:00:00",
          "2014-05-01T00:00:00",
          "2014-05-02T00:00:00",
          "2014-05-03T00:00:00",
          "2014-05-04T00:00:00",
          "2014-05-05T00:00:00",
          "2014-05-06T00:00:00",
          "2014-05-07T00:00:00",
          "2014-05-08T00:00:00",
          "2014-05-09T00:00:00",
          "2014-05-10T00:00:00",
          "2014-05-11T00:00:00",
          "2014-05-12T00:00:00",
          "2014-05-13T00:00:00",
          "2014-05-14T00:00:00",
          "2014-05-15T00:00:00",
          "2014-05-16T00:00:00",
          "2014-05-17T00:00:00",
          "2014-05-18T00:00:00",
          "2014-05-19T00:00:00",
          "2014-05-20T00:00:00",
          "2014-05-21T00:00:00",
          "2014-05-22T00:00:00",
          "2014-05-23T00:00:00",
          "2014-05-24T00:00:00",
          "2014-05-25T00:00:00",
          "2014-05-26T00:00:00",
          "2014-05-27T00:00:00",
          "2014-05-28T00:00:00",
          "2014-05-29T00:00:00",
          "2014-05-30T00:00:00",
          "2014-05-31T00:00:00",
          "2014-06-01T00:00:00",
          "2014-06-02T00:00:00",
          "2014-06-03T00:00:00",
          "2014-06-04T00:00:00",
          "2014-06-05T00:00:00",
          "2014-06-06T00:00:00",
          "2014-06-07T00:00:00",
          "2014-06-08T00:00:00",
          "2014-06-09T00:00:00",
          "2014-06-10T00:00:00",
          "2014-06-11T00:00:00",
          "2014-06-12T00:00:00",
          "2014-06-13T00:00:00",
          "2014-06-14T00:00:00",
          "2014-06-15T00:00:00",
          "2014-06-16T00:00:00",
          "2014-06-17T00:00:00",
          "2014-06-18T00:00:00",
          "2014-06-19T00:00:00",
          "2014-06-20T00:00:00",
          "2014-06-21T00:00:00",
          "2014-06-22T00:00:00",
          "2014-06-23T00:00:00",
          "2014-06-24T00:00:00",
          "2014-06-25T00:00:00",
          "2014-06-26T00:00:00",
          "2014-06-27T00:00:00",
          "2014-06-28T00:00:00",
          "2014-06-29T00:00:00",
          "2014-06-30T00:00:00",
          "2014-07-01T00:00:00",
          "2014-07-02T00:00:00",
          "2014-07-03T00:00:00",
          "2014-07-04T00:00:00",
          "2014-07-05T00:00:00",
          "2014-07-06T00:00:00",
          "2014-07-07T00:00:00",
          "2014-07-08T00:00:00",
          "2014-07-09T00:00:00",
          "2014-07-10T00:00:00",
          "2014-07-11T00:00:00",
          "2014-07-12T00:00:00",
          "2014-07-13T00:00:00",
          "2014-07-14T00:00:00",
          "2014-07-15T00:00:00",
          "2014-07-16T00:00:00",
          "2014-07-17T00:00:00",
          "2014-07-18T00:00:00",
          "2014-07-19T00:00:00",
          "2014-07-20T00:00:00",
          "2014-07-21T00:00:00",
          "2014-07-22T00:00:00",
          "2014-07-23T00:00:00",
          "2014-07-24T00:00:00",
          "2014-07-25T00:00:00",
          "2014-07-26T00:00:00",
          "2014-07-27T00:00:00",
          "2014-07-28T00:00:00",
          "2014-07-29T00:00:00",
          "2014-07-30T00:00:00",
          "2014-07-31T00:00:00",
          "2014-08-01T00:00:00",
          "2014-08-02T00:00:00",
          "2014-08-03T00:00:00",
          "2014-08-04T00:00:00",
          "2014-08-05T00:00:00",
          "2014-08-06T00:00:00",
          "2014-08-07T00:00:00",
          "2014-08-08T00:00:00",
          "2014-08-09T00:00:00",
          "2014-08-10T00:00:00",
          "2014-08-11T00:00:00",
          "2014-08-12T00:00:00",
          "2014-08-13T00:00:00",
          "2014-08-14T00:00:00",
          "2014-08-15T00:00:00",
          "2014-08-16T00:00:00",
          "2014-08-17T00:00:00",
          "2014-08-18T00:00:00",
          "2014-08-19T00:00:00",
          "2014-08-20T00:00:00",
          "2014-08-21T00:00:00",
          "2014-08-22T00:00:00",
          "2014-08-23T00:00:00",
          "2014-08-24T00:00:00",
          "2014-08-25T00:00:00",
          "2014-08-26T00:00:00",
          "2014-08-27T00:00:00",
          "2014-08-28T00:00:00",
          "2014-08-29T00:00:00",
          "2014-08-30T00:00:00",
          "2014-08-31T00:00:00",
          "2014-09-01T00:00:00",
          "2014-09-02T00:00:00",
          "2014-09-03T00:00:00",
          "2014-09-04T00:00:00",
          "2014-09-05T00:00:00",
          "2014-09-06T00:00:00",
          "2014-09-07T00:00:00",
          "2014-09-08T00:00:00",
          "2014-09-09T00:00:00",
          "2014-09-10T00:00:00",
          "2014-09-11T00:00:00",
          "2014-09-12T00:00:00",
          "2014-09-13T00:00:00",
          "2014-09-14T00:00:00",
          "2014-09-15T00:00:00",
          "2014-09-16T00:00:00",
          "2014-09-17T00:00:00",
          "2014-09-18T00:00:00",
          "2014-09-19T00:00:00",
          "2014-09-20T00:00:00",
          "2014-09-21T00:00:00",
          "2014-09-22T00:00:00",
          "2014-09-23T00:00:00",
          "2014-09-24T00:00:00",
          "2014-09-25T00:00:00",
          "2014-09-26T00:00:00",
          "2014-09-27T00:00:00",
          "2014-09-28T00:00:00",
          "2014-09-29T00:00:00",
          "2014-09-30T00:00:00",
          "2014-10-01T00:00:00",
          "2014-10-02T00:00:00",
          "2014-10-03T00:00:00",
          "2014-10-04T00:00:00",
          "2014-10-05T00:00:00",
          "2014-10-06T00:00:00",
          "2014-10-07T00:00:00",
          "2014-10-08T00:00:00",
          "2014-10-09T00:00:00",
          "2014-10-10T00:00:00",
          "2014-10-11T00:00:00",
          "2014-10-12T00:00:00",
          "2014-10-13T00:00:00",
          "2014-10-14T00:00:00",
          "2014-10-15T00:00:00",
          "2014-10-16T00:00:00",
          "2014-10-17T00:00:00",
          "2014-10-18T00:00:00",
          "2014-10-19T00:00:00",
          "2014-10-20T00:00:00",
          "2014-10-21T00:00:00",
          "2014-10-22T00:00:00",
          "2014-10-23T00:00:00",
          "2014-10-24T00:00:00",
          "2014-10-25T00:00:00",
          "2014-10-26T00:00:00",
          "2014-10-27T00:00:00",
          "2014-10-28T00:00:00",
          "2014-10-29T00:00:00",
          "2014-10-30T00:00:00",
          "2014-10-31T00:00:00",
          "2014-11-01T00:00:00",
          "2014-11-02T00:00:00",
          "2014-11-03T00:00:00",
          "2014-11-04T00:00:00",
          "2014-11-05T00:00:00",
          "2014-11-06T00:00:00",
          "2014-11-07T00:00:00",
          "2014-11-08T00:00:00",
          "2014-11-09T00:00:00",
          "2014-11-10T00:00:00",
          "2014-11-11T00:00:00",
          "2014-11-12T00:00:00",
          "2014-11-13T00:00:00",
          "2014-11-14T00:00:00",
          "2014-11-15T00:00:00",
          "2014-11-16T00:00:00",
          "2014-11-17T00:00:00",
          "2014-11-18T00:00:00",
          "2014-11-19T00:00:00",
          "2014-11-20T00:00:00",
          "2014-11-21T00:00:00",
          "2014-11-22T00:00:00",
          "2014-11-23T00:00:00",
          "2014-11-24T00:00:00",
          "2014-11-25T00:00:00",
          "2014-11-26T00:00:00",
          "2014-11-27T00:00:00",
          "2014-11-28T00:00:00",
          "2014-11-29T00:00:00",
          "2014-11-30T00:00:00",
          "2014-12-01T00:00:00",
          "2014-12-02T00:00:00",
          "2014-12-03T00:00:00",
          "2014-12-04T00:00:00",
          "2014-12-05T00:00:00",
          "2014-12-06T00:00:00",
          "2014-12-07T00:00:00",
          "2014-12-08T00:00:00",
          "2014-12-09T00:00:00",
          "2014-12-10T00:00:00",
          "2014-12-11T00:00:00",
          "2014-12-12T00:00:00",
          "2014-12-13T00:00:00",
          "2014-12-14T00:00:00",
          "2014-12-15T00:00:00",
          "2014-12-16T00:00:00",
          "2014-12-17T00:00:00",
          "2014-12-18T00:00:00",
          "2014-12-19T00:00:00",
          "2014-12-20T00:00:00",
          "2014-12-21T00:00:00",
          "2014-12-22T00:00:00",
          "2014-12-23T00:00:00",
          "2014-12-24T00:00:00",
          "2014-12-25T00:00:00",
          "2014-12-26T00:00:00",
          "2014-12-27T00:00:00",
          "2014-12-28T00:00:00",
          "2014-12-29T00:00:00",
          "2014-12-30T00:00:00",
          "2014-12-31T00:00:00",
          "2015-01-01T00:00:00",
          "2015-01-02T00:00:00",
          "2015-01-03T00:00:00",
          "2015-01-04T00:00:00",
          "2015-01-05T00:00:00",
          "2015-01-06T00:00:00",
          "2015-01-07T00:00:00",
          "2015-01-08T00:00:00",
          "2015-01-09T00:00:00",
          "2015-01-10T00:00:00",
          "2015-01-11T00:00:00",
          "2015-01-12T00:00:00",
          "2015-01-13T00:00:00",
          "2015-01-14T00:00:00",
          "2015-01-15T00:00:00",
          "2015-01-16T00:00:00",
          "2015-01-17T00:00:00",
          "2015-01-18T00:00:00",
          "2015-01-19T00:00:00",
          "2015-01-20T00:00:00",
          "2015-01-21T00:00:00",
          "2015-01-22T00:00:00",
          "2015-01-23T00:00:00",
          "2015-01-24T00:00:00",
          "2015-01-25T00:00:00",
          "2015-01-26T00:00:00",
          "2015-01-27T00:00:00",
          "2015-01-28T00:00:00",
          "2015-01-29T00:00:00",
          "2015-01-30T00:00:00",
          "2015-01-31T00:00:00"
         ],
         "xaxis": "x",
         "y": [
          0.9200158371765608,
          0.9208379785279129,
          0.9204133554960279,
          0.9190668426271077,
          0.9196138918404968,
          0.9184056265724778,
          0.9182598619445814,
          0.9176605126344741,
          0.9180081219453641,
          0.9193164834084565,
          0.9193878279271699,
          0.9182765868580697,
          0.9177669655043216,
          0.9168469556184407,
          0.917400413526949,
          0.9158209798318707,
          0.9148866820221929,
          0.9136632149221487,
          0.9133341044929768,
          0.912143857697438,
          0.911363396017623,
          0.9111123558686466,
          0.9110566624508449,
          0.911678186922844,
          0.9111293797050561,
          0.9110616152870056,
          0.9108476793554858,
          0.9105901407078241,
          0.9127441248340107,
          0.9138343858259458,
          0.9148735287199136,
          0.9171951305653395,
          0.9171039936395432,
          0.9192473735987982,
          0.9207945335584693,
          0.9221076435533313,
          0.9232365061872685,
          0.9234920295256542,
          0.9220512535918304,
          0.9205880672289813,
          0.9195808549184412,
          0.9154145442275615,
          0.9126915408211701,
          0.9097887356298847,
          0.9084337873703175,
          0.9064405599019797,
          0.9083089145962607,
          0.9063148899395951,
          0.9041695858790743,
          0.9019749120345557,
          0.8992965928564005,
          0.8962683684304443,
          0.8993903872967358,
          0.9027817818468552,
          0.9048674587595668,
          0.9021310488201224,
          null,
          null,
          null,
          null,
          null,
          null,
          null,
          null,
          null,
          null,
          null,
          null,
          null,
          null,
          null,
          null,
          0.8966632517442564,
          0.9092472070291228,
          0.9139196807599707,
          0.9172135350282934,
          0.9204457070219726,
          0.9137937604043962,
          0.909640575627948,
          0.902321600457869,
          0.900464656455921,
          0.9012526027217852,
          0.9018714388319796,
          0.9020893388487823,
          0.9025059265387493,
          0.901994403775185,
          0.9019839218376824,
          0.9023758074082266,
          0.90340996716341,
          0.9030398349431183,
          0.9039544452162936,
          0.9044002250628156,
          0.9051461566875921,
          0.9052563251437511,
          0.9065165867504683,
          0.9069766575874874,
          0.9081545140045669,
          0.9089601804319467,
          0.9098821955553481,
          0.9104277912762112,
          0.9116985337516083,
          0.9116966185793359,
          0.9122718957772649,
          0.9132153366672595,
          0.9120217105224973,
          0.9137779960345656,
          0.9151866396215698,
          0.9159803049254858,
          0.9199852517100684,
          0.9239041461512846,
          0.9304320228345937,
          0.9342169228819323,
          0.9361267264992981,
          0.9374079583230708,
          0.9385438485235639,
          0.9379488307595895,
          0.9383561614232837,
          0.9373215303234295,
          0.9371558250277112,
          0.9352769597044239,
          0.9333413395822807,
          0.9321025388876735,
          0.9317872786898738,
          0.9314097840107889,
          0.930823989959824,
          0.9302817142309568,
          0.9280434989483237,
          0.9277504641425698,
          0.927492910397214,
          0.9267561711866856,
          0.9248094536489028,
          0.9238533985755003,
          0.9244133679346264,
          0.9243662071392759,
          0.923951572341039,
          0.9220120021961807,
          0.9136122693964498,
          0.9075692211925337,
          0.9036629862471948,
          0.8988771983910789,
          0.8964995848260608,
          0.8984080696218816,
          0.8973372845427989,
          0.8972964237056873,
          0.8977539729975212,
          0.8966452380519319,
          0.8977349037049062,
          0.8978544846835111,
          0.8986903121389505,
          0.8972222329935206,
          0.8969038263128972,
          0.8973738118414507,
          0.8957924031907735,
          0.8947000911302345,
          0.8920395264120183,
          0.8912934545580001,
          0.8894824419034061,
          0.8892197984114598,
          0.89076201030039,
          0.8902363784268724,
          0.8906670144462233,
          0.8913241219299746,
          0.8905496317507923,
          0.8906561286308159,
          0.8904695831465741,
          0.891885558206103,
          0.8919496685491819,
          0.8946903598198206,
          0.8975709427136326,
          0.89876026572317,
          0.9008313329406059,
          0.9013875383338723,
          0.8997213287848138,
          0.8989661845116068,
          0.8988322535593702,
          0.8980904076846729,
          0.8977053238172459,
          0.897233857729873,
          0.8989866000618963,
          0.9000106497599543,
          0.9021406099659223,
          0.9027159128093301,
          0.8884738848439856,
          0.8738939579881407,
          0.8616163442778136,
          0.8501167690714082,
          0.8390010190360104,
          0.8314018220545191,
          0.8240844540402811,
          0.8183651436772091,
          0.8123617297710773,
          0.807658367072209,
          0.8052986317497872,
          0.8012644034376052,
          0.7983354739413634,
          0.7950281481876327,
          0.7926326161489861,
          0.7906146273074802,
          0.7897732472055434,
          0.7894068248908509,
          0.7881356757468161,
          0.7868369237107675,
          0.785053759964568,
          0.784827380172757,
          0.7836375649924511,
          0.7835450205716742,
          0.7823363755047992,
          0.7812707082907072,
          0.781188374853416,
          0.7806821320650594,
          0.7791786349156573,
          0.7790945206103417,
          0.7794310580106902,
          0.7788958228688625,
          0.778951026424155,
          0.7779400553524312,
          0.7785924407858856,
          0.7783131562356514,
          0.7783419157477338,
          0.7783031917571673,
          0.7772006717716539,
          0.7742043548215487,
          0.7722312127095836,
          0.7712521595695966,
          0.7703126559649582,
          0.7698072952955661,
          0.7699490798201114,
          0.7692175115610655,
          0.7700747248845448,
          0.7701360157756769,
          0.7697153972203555,
          0.7696290803663197,
          0.7707330372968157,
          0.7705234544643704,
          0.7701254557511736,
          0.7703391538077005,
          0.7695297750305204,
          0.7684337892847511,
          0.7678983411796985,
          0.7665690619749882,
          0.7654226115253656,
          0.7630064727246784,
          0.7603237006226669,
          0.7591134850401068,
          0.7574976955296562,
          0.7562942444507627,
          0.7567599468598594,
          0.7554413102441115,
          0.7561335296323214,
          0.7563118983897643,
          0.754946725861189,
          0.7542762723532039,
          0.7556812600057502,
          0.7557426753356427,
          0.756017339308731,
          0.7563879524596944,
          0.7562527714732925,
          0.7556530612999671,
          0.7543683928480622,
          0.7525624421906857,
          0.7512133427529764,
          0.7521784031497243,
          0.7506526119589475,
          0.7496281190710921,
          0.7478769168994699,
          0.747657072079858,
          0.7464353376660443,
          0.7478033545427415,
          0.7480552705459358,
          0.7494811577159081,
          0.7519883796944119,
          0.7569354364274076,
          0.7606262969903086,
          0.7651103650610818,
          0.768082979688347,
          0.7702411208882924,
          0.7716685722151293,
          0.7726468932603179,
          0.774522128378367,
          0.7766299416693805,
          0.7771885252448101,
          0.7776482717547919,
          0.7780781714554184,
          0.7789653367081508,
          0.7780147977201682,
          0.7771419374876576,
          0.7771593808034053,
          0.7750734463391549,
          0.7751215929297666,
          0.7759032629300975,
          0.7760704023461489,
          0.7769646631446749,
          0.7770198469525695,
          0.7773231028358751,
          0.779619942930577,
          0.7820415947733361,
          0.7843795582212716,
          0.7852891044244167,
          0.7860299642853346,
          0.7852422105700594,
          0.787243591165335,
          0.7872750117749272,
          0.7871479573005848,
          0.7860149409415674,
          0.7865708012406414,
          0.7859606980873994,
          0.7842105532884533,
          0.7840274402733872,
          0.7853562789414437,
          0.7846616555878495,
          0.7846473587901811,
          0.7860384992827684,
          0.7854137362264615,
          0.7849497798998655,
          0.7856357952569326,
          0.7868780701819449,
          0.7872107830422687,
          0.7886925706814614,
          0.7901155067569722,
          0.7909464377294817,
          0.7921794154397275,
          0.7939942598501446,
          0.793503342827309,
          0.7940244248778363,
          0.7951051290291117,
          0.7933499494558691,
          0.7927982739222109,
          0.7904545838101241,
          0.7904558559364925,
          0.7906751535453411,
          0.7895541244021449,
          0.7901353495502449,
          0.7900384466643622,
          0.791597113605605,
          0.793167436335732,
          0.7935551167104212,
          0.7944105807398874,
          0.7945099344623964,
          0.7941994680960534,
          0.7945532311342773,
          0.7936613908806951,
          0.7935772914107762,
          0.7937481460317477,
          0.794164775806037,
          0.7952118494511107,
          0.7967330088196543,
          0.7979207496148025,
          0.7969211614372481,
          0.796902590206831,
          0.7960297236306131,
          0.7952309123813197,
          0.7938207060450271,
          0.7929267691755443,
          0.792488598016446,
          0.7926048572577675,
          0.7920497323311146,
          0.7934391259228495,
          0.7930936124118527,
          0.7931837291779704,
          0.7940159583246423,
          0.7950624327153972,
          0.794537661238149,
          0.7954683868573067,
          0.7953976444836939,
          0.7940581564452805,
          0.7934254476094842,
          0.7928797239480629,
          0.7925091507079216,
          0.7920730263914642,
          0.7928942478486595,
          0.793245180667369,
          0.7926530291164676,
          0.7922400218789969,
          0.7922107300463159,
          0.7918627106848992,
          0.7919558898124163,
          0.7919714105029594,
          0.7913466041158244,
          0.791034447003041,
          0.7908752943674997,
          0.7921062233616383,
          0.7924279385407371,
          0.7925885533367739,
          0.7926550872418159,
          0.7935882790600469,
          0.7934844415754421,
          0.7933720088300992,
          0.7932531702022821,
          0.793036684140234,
          0.7927656204106349,
          0.7927559589047473,
          0.7926681756636775,
          0.7914597437176273,
          0.7910767503889621,
          0.7916366714832108,
          0.7919393482588433,
          0.7924017545479448,
          0.7933091248442146,
          0.794197450265832,
          0.7923879871996735,
          0.7913203063912069,
          0.7905582394121631,
          0.7916231794603716,
          0.7920888951439659,
          0.7913941896675116,
          0.7909170840642401,
          0.7889595631693519,
          0.7851459502782049,
          0.7842689000613124,
          0.7821337723478294,
          0.7796528094404561,
          0.7783239900570951,
          0.7773607173440591,
          0.7760365021970077,
          0.7736405908440679,
          0.7748492211869219,
          0.77595898183154,
          0.7770992698920275,
          0.7775279257361153,
          0.7775649773144666,
          0.7781290493267068,
          0.7790411358283382,
          0.7797870614722968,
          0.7800692689797806,
          0.7818841768983639,
          0.7820268870372091
         ],
         "yaxis": "y"
        },
        {
         "connectgaps": false,
         "customdata": [
          [
           0.34620159579627907,
           0.5121735747401063
          ],
          [
           0.4110891044716515,
           0.5843646978192959
          ],
          [
           0.4640269308814311,
           0.6115142799132455
          ],
          [
           0.5018929990126508,
           0.6314136877799248
          ],
          [
           0.5047387435438899,
           0.6236705967066222
          ],
          [
           0.4955855072650832,
           0.6067692943860036
          ],
          [
           0.4595562725030814,
           0.5957209021937973
          ],
          [
           0.42513392606031963,
           0.5797897217012364
          ],
          [
           0.41784405791478874,
           0.5702312328489972
          ],
          [
           0.4052841717702871,
           0.5540549164912988
          ],
          [
           0.4122027656246532,
           0.5447641544578801
          ],
          [
           0.42460998703480374,
           0.54958749286728
          ],
          [
           0.42486061657238605,
           0.5405105098614943
          ],
          [
           0.39878880506154024,
           0.528195549322581
          ],
          [
           0.34114450947510466,
           0.47779079424864773
          ],
          [
           0.290308737686352,
           0.4418001615496411
          ],
          [
           0.26697459705294674,
           0.4552541188812862
          ],
          [
           0.23843655252869403,
           0.448614746099886
          ],
          [
           0.22132608320106917,
           0.4433903756370296
          ],
          [
           0.1851342993252285,
           0.4206819218567234
          ],
          [
           0.15090051580176278,
           0.39502494589918724
          ],
          [
           0.1112047654886068,
           0.3739540211392372
          ],
          [
           0.09137623825801255,
           0.3682996191598814
          ],
          [
           0.0639902261455343,
           0.34733412955133935
          ],
          [
           0.043988691854377815,
           0.34901360642089224
          ],
          [
           0.020564059233052715,
           0.34750412383717855
          ],
          [
           -0.03392716553057096,
           0.31915292351889907
          ],
          [
           -0.05133028297792042,
           0.30591430513622836
          ],
          [
           -0.060137058598455244,
           0.294858457874632
          ],
          [
           -0.06491139132432605,
           0.2844490757833495
          ],
          [
           -0.07539922357943417,
           0.27805192114902105
          ],
          [
           -0.10390118804225597,
           0.2557000726880164
          ],
          [
           -0.13661304074019456,
           0.21767168860516217
          ],
          [
           -0.19323716239284403,
           0.17605974317309053
          ],
          [
           -0.28294979964518313,
           0.10042295515875091
          ],
          [
           -0.35919937453696105,
           0.044382682685554856
          ],
          [
           -0.4016488565767047,
           0.009190837017029935
          ],
          [
           -0.413303472380795,
           -0.005448902636931939
          ],
          [
           -0.40871923293962736,
           0.009194223031792983
          ],
          [
           -0.3997936016390198,
           0.008337725107284807
          ],
          [
           -0.38605623912674014,
           0.01577280749109876
          ],
          [
           -0.38881849733468465,
           0.0033770017152053135
          ],
          [
           -0.39278167936586955,
           -0.011861433224124416
          ],
          [
           -0.4028862271680224,
           -0.021257283044224074
          ],
          [
           -0.3956230870472787,
           -0.011142869820935248
          ],
          [
           -0.3946633136869372,
           -0.01344724398678552
          ],
          [
           -0.4299009788823074,
           -0.057619589831284894
          ],
          [
           -0.49986969417179766,
           -0.11975908240455985
          ],
          [
           -0.6038730692866725,
           -0.22634549033174248
          ],
          [
           -0.7382605915495554,
           -0.35174920527707965
          ],
          [
           -0.8455522682001729,
           -0.4467992962011293
          ],
          [
           -0.9360367445466721,
           -0.5290289346264482
          ],
          [
           -1.0523581713723469,
           -0.6560447516711911
          ],
          [
           -1.1341324572651237,
           -0.7443798723896614
          ],
          [
           -1.1879204448185394,
           -0.8069652730529372
          ],
          [
           -1.31694795126918,
           -0.9456939046009721
          ],
          [
           null,
           null
          ],
          [
           null,
           null
          ],
          [
           null,
           null
          ],
          [
           null,
           null
          ],
          [
           null,
           null
          ],
          [
           null,
           null
          ],
          [
           null,
           null
          ],
          [
           null,
           null
          ],
          [
           null,
           null
          ],
          [
           null,
           null
          ],
          [
           null,
           null
          ],
          [
           null,
           null
          ],
          [
           null,
           null
          ],
          [
           null,
           null
          ],
          [
           null,
           null
          ],
          [
           null,
           null
          ],
          [
           -1.880832655252881,
           -1.6452709032658495
          ],
          [
           -1.526322603963551,
           -1.254577889163559
          ],
          [
           -1.3032193262886662,
           -1.028411130354718
          ],
          [
           -1.171331567162076,
           -0.8974740235735617
          ],
          [
           -1.086386467116352,
           -0.8102876627338266
          ],
          [
           -0.9222292471743668,
           -0.6336111724294592
          ],
          [
           -0.7803594265359516,
           -0.47576243763293125
          ],
          [
           -0.6271852941908851,
           -0.32232309001171855
          ],
          [
           -0.5270013732886019,
           -0.22712477777009757
          ],
          [
           -0.4260202243098274,
           -0.1300581478150838
          ],
          [
           -0.35778221121248766,
           -0.05818539138139518
          ],
          [
           -0.2983657908499963,
           -0.013468033633817962
          ],
          [
           -0.2602759793200072,
           0.024946780000672932
          ],
          [
           -0.23577367641337726,
           0.05230116131897244
          ],
          [
           -0.20443581279354495,
           0.07188308933164678
          ],
          [
           -0.18353702305447353,
           0.10287809453737848
          ],
          [
           -0.1639389260780779,
           0.12225211467629842
          ],
          [
           -0.13500127837445136,
           0.14569200655096654
          ],
          [
           -0.1185905076484292,
           0.16020096845775247
          ],
          [
           -0.09841264565773694,
           0.17738245109820264
          ],
          [
           -0.08898134841682905,
           0.1984540029789115
          ],
          [
           -0.06842496048768851,
           0.21708191614427055
          ],
          [
           -0.05944967060121248,
           0.2500151275957498
          ],
          [
           -0.03584269454588306,
           0.26881925999015593
          ],
          [
           -0.019023666795403564,
           0.27669586993084316
          ],
          [
           -0.015358723369403597,
           0.28220349873856626
          ],
          [
           -0.014490744859768975,
           0.2886323131459903
          ],
          [
           -0.007253477245525844,
           0.29745944991156426
          ],
          [
           0.024300022611882965,
           0.3135747425102706
          ],
          [
           0.051573094840635915,
           0.32483924688726873
          ],
          [
           0.07948097899725236,
           0.3511338724117182
          ],
          [
           0.0928736720417318,
           0.36866187853653576
          ],
          [
           0.08429840982708153,
           0.35922951050504764
          ],
          [
           0.06199222166439409,
           0.33451725085276857
          ],
          [
           0.03285731785580066,
           0.3066967772616785
          ],
          [
           0.021874148161022004,
           0.28947867320674203
          ],
          [
           -0.02775000670640163,
           0.23075978351488838
          ],
          [
           -0.06530378169291186,
           0.1888815087543661
          ],
          [
           -0.16510521652088872,
           0.10689287363141942
          ],
          [
           -0.2420880081949423,
           0.013460069822199024
          ],
          [
           -0.27087698402928484,
           -0.022185782375270118
          ],
          [
           -0.27742572027251633,
           -0.02564353623250523
          ],
          [
           -0.27528003958642594,
           -0.01886260654416714
          ],
          [
           -0.2567212525751134,
           0.013159037315495396
          ],
          [
           -0.23128752288352825,
           0.04939574210050347
          ],
          [
           -0.21336906106437678,
           0.07390727429071565
          ],
          [
           -0.2144494501829306,
           0.08021724716547139
          ],
          [
           -0.20302321513914307,
           0.09191615679448698
          ],
          [
           -0.18572902676259778,
           0.11165785062619203
          ],
          [
           -0.15550336714914229,
           0.13389295252242867
          ],
          [
           -0.12750472788099,
           0.16634518712626528
          ],
          [
           -0.10308703710811051,
           0.19049462695834807
          ],
          [
           -0.09655993884624667,
           0.19818464214131534
          ],
          [
           -0.11425031725925953,
           0.18696987385521935
          ],
          [
           -0.13608904188412738,
           0.15989073326649303
          ],
          [
           -0.13113758090742655,
           0.14636940898036369
          ],
          [
           -0.10725252196785362,
           0.16097411405662773
          ],
          [
           -0.12407651548240183,
           0.13962552278188517
          ],
          [
           -0.1506104294303887,
           0.11577130226198724
          ],
          [
           -0.20973575198132377,
           0.04734947187299481
          ],
          [
           -0.2583563098068234,
           0.0013590088885437187
          ],
          [
           -0.27802740874342013,
           -0.023437269646877534
          ],
          [
           -0.269280397575839,
           -0.006886713070165678
          ],
          [
           -0.24492251175895435,
           0.01269510738857857
          ],
          [
           -0.2593556793374719,
           0.016859830680422166
          ],
          [
           -0.27802840482587216,
           -0.00705632806725264
          ],
          [
           -0.2840301715764185,
           -0.03278860334576277
          ],
          [
           -0.29913736164539445,
           -0.04532012721801213
          ],
          [
           -0.3356205006985345,
           -0.09931927680118571
          ],
          [
           -0.3294151594232115,
           -0.1164608472454576
          ],
          [
           -0.31741402896166643,
           -0.1307354452097761
          ],
          [
           -0.3476920920150336,
           -0.16545735520265234
          ],
          [
           -0.3691141759537062,
           -0.19568290553194845
          ],
          [
           -0.4147750080295928,
           -0.2349343466938383
          ],
          [
           -0.44360607946001823,
           -0.27229386125493565
          ],
          [
           -0.4236890379612072,
           -0.2694152548418492
          ],
          [
           -0.37838805107913015,
           -0.2240207669228507
          ],
          [
           -0.3271273538279496,
           -0.16568235222218466
          ],
          [
           -0.2824678813258824,
           -0.1169784663805264
          ],
          [
           -0.26603020429755525,
           -0.09505218283716126
          ],
          [
           -0.23780987296183792,
           -0.07110575729094201
          ],
          [
           -0.23553430711251208,
           -0.06481497815133892
          ],
          [
           -0.1997321222744684,
           -0.02334228970525068
          ],
          [
           -0.15311270289283743,
           0.0226223235318678
          ],
          [
           -0.1099184604513464,
           0.07141693449948806
          ],
          [
           -0.06532328582588441,
           0.12786578524765377
          ],
          [
           -0.033622249250931,
           0.16822451717945178
          ],
          [
           -0.021938635397290462,
           0.1926330109862041
          ],
          [
           0.0008286665159719775,
           0.21211769281450402
          ],
          [
           0.024031249942110644,
           0.22999480330720848
          ],
          [
           0.025021005286628893,
           0.25026821898687857
          ],
          [
           0.00481877128936725,
           0.254255870293822
          ],
          [
           -0.006560515415261725,
           0.2566336187493277
          ],
          [
           -0.043143198030355163,
           0.23886005486841613
          ],
          [
           -0.11653383093316817,
           0.19505107090840723
          ],
          [
           -0.20081347104664107,
           0.14719314369957182
          ],
          [
           -0.2574039720813343,
           0.10786822032764279
          ],
          [
           -0.29484707955931283,
           0.08068471423907927
          ],
          [
           -0.33063637900234466,
           0.07365473154759651
          ],
          [
           -0.32791185170492576,
           0.0648839711031983
          ],
          [
           -0.3055805049440166,
           0.06050179831711244
          ],
          [
           -0.28178285878940024,
           0.05834216067581688
          ],
          [
           -0.2643231614026634,
           0.043362195270887256
          ],
          [
           -0.28192165187186197,
           -0.00857114029187725
          ],
          [
           -0.27797206973114535,
           -0.028837091477083143
          ],
          [
           -0.26569077173480515,
           -0.029587041594621923
          ],
          [
           -0.2947894649735204,
           -0.04687582181801526
          ],
          [
           -0.3425321875879987,
           -0.07901063264776846
          ],
          [
           -0.41472493300151264,
           -0.14092939798560808
          ],
          [
           -0.4857870413829017,
           -0.23194265463070549
          ],
          [
           -0.4774844148553598,
           -1.7160844430134101
          ],
          [
           -0.4430537480496658,
           -3.2361664286330485
          ],
          [
           -0.3996455890691207,
           -4.57832976673773
          ],
          [
           -0.347187583587753,
           -5.721420025591861
          ],
          [
           -0.2972188281500903,
           -6.641999405559654
          ],
          [
           -0.27156052847527423,
           -7.346798387347108
          ],
          [
           -0.2603338338745248,
           -7.897783988212246
          ],
          [
           -0.25263385094016744,
           -8.330283515610946
          ],
          [
           -0.23371642316988533,
           -8.663046742911886
          ],
          [
           -0.21115776347990847,
           -8.917433429902319
          ],
          [
           -0.19845225049716603,
           -9.117540755634025
          ],
          [
           -0.20962913503979358,
           -9.27695992355975
          ],
          [
           -0.2376181684896411,
           -9.39820590761517
          ],
          [
           -0.2501050295069976,
           -9.490582262071928
          ],
          [
           -0.2526241914734959,
           -9.563796725439786
          ],
          [
           -0.251877298473628,
           -9.620126990163937
          ],
          [
           -0.2414938710091209,
           -9.663823888529244
          ],
          [
           -0.22232145995465152,
           -9.699418037817441
          ],
          [
           -0.20444902653819386,
           -9.728830807157902
          ],
          [
           -0.21493699478802591,
           -9.751640327251518
          ],
          [
           -0.23110612167841613,
           -9.76897264467596
          ],
          [
           -0.23707732096188655,
           -9.784212060634824
          ],
          [
           -0.2677301727667801,
           -9.796598669790104
          ],
          [
           -0.2985143065518615,
           -9.805610820269418
          ],
          [
           -0.36661110503869554,
           -9.816434028112928
          ],
          [
           -0.4562733181361139,
           -9.826235805085384
          ],
          [
           -0.5507814965837258,
           -9.835492834569896
          ],
          [
           -0.6769965493161159,
           -9.844437311946388
          ],
          [
           -0.8257495084694666,
           -9.853913786173424
          ],
          [
           -0.9319126980768595,
           -9.861908596703945
          ],
          [
           -0.9914490112179504,
           -9.867480045465587
          ],
          [
           -1.0970356764430476,
           -9.870474225991629
          ],
          [
           -1.2154668423050343,
           -9.872738270767433
          ],
          [
           -1.3101742282792,
           -9.875552003852325
          ],
          [
           -1.3834170352464996,
           -9.876972581031554
          ],
          [
           -1.4808912647373618,
           -9.877548700522977
          ],
          [
           -1.5743495984291136,
           -9.878073360129553
          ],
          [
           -1.7069585035646853,
           -9.879791460386562
          ],
          [
           -1.796805633238573,
           -9.881002106449587
          ],
          [
           -1.9220215096186517,
           -9.882549925043167
          ],
          [
           -2.031507257084612,
           -9.88521017383814
          ],
          [
           -2.1325352107745026,
           -9.886025268417454
          ],
          [
           -2.2331171870598294,
           -9.887185677082346
          ],
          [
           -2.3107413039844094,
           -9.887368016679192
          ],
          [
           -2.3289437726584055,
           -9.887993465321616
          ],
          [
           -2.3592273189885464,
           -9.889353976762322
          ],
          [
           -2.3977098182895404,
           -9.888473842498707
          ],
          [
           -2.468347669880002,
           -9.888326458684057
          ],
          [
           -2.5598521541988535,
           -9.889100383744315
          ],
          [
           -2.6617508247441135,
           -9.889089371694952
          ],
          [
           -2.686795476292315,
           -9.888758300493423
          ],
          [
           -2.6394829574211123,
           -9.888148255250579
          ],
          [
           -2.594440901008145,
           -9.887318332530027
          ],
          [
           -2.5419254481438083,
           -9.88730361518738
          ],
          [
           -2.5045087645211557,
           -9.886484975208793
          ],
          [
           -2.4705391613422094,
           -9.887584050956603
          ],
          [
           -2.4037784430151317,
           -9.88806142239205
          ],
          [
           -2.324209869469135,
           -9.8874813609777
          ],
          [
           -2.2761079474977364,
           -9.887965630451111
          ],
          [
           -2.2421899495174005,
           -9.888010322627368
          ],
          [
           -2.2057408500165545,
           -9.888661375729804
          ],
          [
           -2.2343994246207317,
           -9.887836343589695
          ],
          [
           -2.255403340944117,
           -9.888886208301198
          ],
          [
           -2.276890755310011,
           -9.889372728637587
          ],
          [
           -2.272577176914987,
           -9.888081017672231
          ],
          [
           -2.2807356153951313,
           -9.88863102377829
          ],
          [
           -2.2520749825131303,
           -9.888834919503688
          ],
          [
           -2.2269752885973797,
           -9.888458885356533
          ],
          [
           -2.18358935458862,
           -9.888698396258714
          ],
          [
           -2.1407848907307594,
           -9.888161431172254
          ],
          [
           -2.119035480089954,
           -9.887908817747817
          ],
          [
           -2.1120771865830235,
           -9.88703336637389
          ],
          [
           -2.1040118012352007,
           -9.887249358037726
          ],
          [
           -2.058510965355319,
           -9.88671537940524
          ],
          [
           -2.055294709734735,
           -9.886946046387646
          ],
          [
           -2.082481046181627,
           -9.887700914544345
          ],
          [
           -2.1320071155653566,
           -9.88781816671217
          ],
          [
           -2.1887786026126554,
           -9.88838910580519
          ],
          [
           -2.206753462806669,
           -9.888132968070794
          ],
          [
           -2.1808262327426333,
           -9.888155714883935
          ],
          [
           -2.18444475944026,
           -9.889230555136733
          ],
          [
           -2.1604954029609083,
           -9.890050422117417
          ],
          [
           -2.204301088715003,
           -9.89137769530369
          ],
          [
           -2.2952066558462234,
           -9.892765407949907
          ],
          [
           -2.3642602915739697,
           -9.894457436624355
          ],
          [
           -2.401817151538493,
           -9.895078286798805
          ],
          [
           -2.444997441705241,
           -9.895507603932716
          ],
          [
           -2.473417896950398,
           -9.894426080525376
          ],
          [
           -2.531741786558451,
           -9.892980225834119
          ],
          [
           -2.495447013997289,
           -9.89189523995056
          ],
          [
           -2.4893620503025584,
           -9.89023472002742
          ],
          [
           -2.429889514875352,
           -9.888247332946824
          ],
          [
           -2.3872020152522837,
           -9.886150475584735
          ],
          [
           -2.3532546093092503,
           -9.884873420825196
          ],
          [
           -2.3749885242133435,
           -9.884156782546997
          ],
          [
           -2.4035953096566014,
           -9.883336839571088
          ],
          [
           -2.4753867472236153,
           -9.88222992547427
          ],
          [
           -2.5122730937242626,
           -9.881711614705722
          ],
          [
           -2.524734482085878,
           -9.880188267052045
          ],
          [
           -2.4823474825858147,
           -9.880298968732388
          ],
          [
           -2.427735456085807,
           -9.88043161101019
          ],
          [
           -2.2913326218554,
           -9.881077113276065
          ],
          [
           -2.157318351855837,
           -9.882068725463624
          ],
          [
           -2.0777293754049286,
           -9.883292017166076
          ],
          [
           -2.0207144659500726,
           -9.883193724804881
          ],
          [
           -1.9382905812551177,
           -9.881885653725242
          ],
          [
           -1.8159935534261908,
           -9.880829235389799
          ],
          [
           -1.699588935332517,
           -9.878761151990059
          ],
          [
           -1.5965446930978395,
           -9.877554495289631
          ],
          [
           -1.4986576075910372,
           -9.876100135218552
          ],
          [
           -1.4317604361321183,
           -9.874204349989055
          ],
          [
           -1.370018143812736,
           -9.872832876354481
          ],
          [
           -1.337934651705827,
           -9.87143759774898
          ],
          [
           -1.3332545371517968,
           -9.869498826681651
          ],
          [
           -1.3294151522905695,
           -9.868303501235902
          ],
          [
           -1.336932466946765,
           -9.866710017109824
          ],
          [
           -1.368130752933671,
           -9.865047222260051
          ],
          [
           -1.3892206986739188,
           -9.863434996839908
          ],
          [
           -1.407597337078895,
           -9.861148393626491
          ],
          [
           -1.4544211963779232,
           -9.85995502766395
          ],
          [
           -1.4582235174129476,
           -9.85963485595621
          ],
          [
           -1.4009289715980806,
           -9.861013447113391
          ],
          [
           -1.329679610268273,
           -9.859561788341415
          ],
          [
           -1.2920318786262894,
           -9.85910986282161
          ],
          [
           -1.2397206387977555,
           -9.857633796237808
          ],
          [
           -1.182245048599319,
           -9.85858373460235
          ],
          [
           -1.1019059365049968,
           -9.858296518383831
          ],
          [
           -0.9961914065460025,
           -9.857759330038283
          ],
          [
           -0.9045390379146871,
           -9.857663674601094
          ],
          [
           -0.8357810719860276,
           -9.855437001576972
          ],
          [
           -0.790959751981626,
           -9.853261400563202
          ],
          [
           -0.7516107092860279,
           -9.851264059808438
          ],
          [
           -0.7182734061015049,
           -9.848550492309199
          ],
          [
           -0.6987589735521114,
           -9.845935291991388
          ],
          [
           -0.6690020453530837,
           -9.844592240252839
          ],
          [
           -0.6423655892021959,
           -9.843118736310466
          ],
          [
           -0.6020465756455313,
           -9.842454074574837
          ],
          [
           -0.55675853816773,
           -9.842609428934344
          ],
          [
           -0.5224932627632212,
           -9.842847193877416
          ],
          [
           -0.5137870065446386,
           -9.84477795500665
          ],
          [
           -0.5143935107409571,
           -9.845218016091376
          ],
          [
           -0.5287079798940154,
           -9.845922772220343
          ],
          [
           -0.544960183957833,
           -9.847480171273732
          ],
          [
           -0.546667069179687,
           -9.847748712532388
          ],
          [
           -0.5341062466144222,
           -9.847584894504982
          ],
          [
           -0.5136673400573218,
           -9.846394421185058
          ],
          [
           -0.4880207960639221,
           -9.846681628370694
          ],
          [
           -0.46652580215476713,
           -9.846820822973616
          ],
          [
           -0.45312932000592726,
           -9.846799520880177
          ],
          [
           -0.4386041511860946,
           -9.846329866633065
          ],
          [
           -0.47039926090023787,
           -9.845684909122959
          ],
          [
           -0.49918570878845603,
           -9.845471166741353
          ],
          [
           -0.5182714315268936,
           -9.844914866528528
          ],
          [
           -0.5394661065247972,
           -9.844990713640131
          ],
          [
           -0.5401382097871836,
           -9.84451515764372
          ],
          [
           -0.5204437184811654,
           -9.845888529344384
          ],
          [
           -0.5014634698279993,
           -9.845175223069944
          ],
          [
           -0.5141711560254816,
           -9.846763337816292
          ],
          [
           -0.5603041873172574,
           -9.848817621660814
          ],
          [
           -0.6101349962895084,
           -9.850005010108147
          ],
          [
           -0.6513285578951176,
           -9.850413914056611
          ],
          [
           -0.6613415417800118,
           -9.850152349223682
          ],
          [
           -0.6304091814500217,
           -9.85007571235189
          ],
          [
           -0.5875250969228817,
           -9.850517281384187
          ],
          [
           -0.5514982083692478,
           -9.850340330651685
          ],
          [
           -0.5179544640108399,
           -9.851523343404871
          ],
          [
           -0.49458711758954826,
           -9.853731635427858
          ],
          [
           -0.47818242953565193,
           -9.855181821398524
          ],
          [
           -0.48526307579567896,
           -9.853962136927755
          ],
          [
           -0.4933448168813912,
           -9.852591775039654
          ],
          [
           -0.5034234416552178,
           -9.85275658886903
          ],
          [
           -0.5338868829164727,
           -9.851401307406514
          ],
          [
           -0.547459464778875,
           -9.850408635587133
          ],
          [
           -0.5425106221446059,
           -9.849572278029477
          ],
          [
           -0.551379281356853,
           -9.84875360779321
          ],
          [
           -0.5816005685859122,
           -9.849705840579778
          ],
          [
           -0.5971794977052535,
           -9.851712489293941
          ],
          [
           -0.5996237319525334,
           -9.8524121044181
          ],
          [
           -0.6288467997888812,
           -9.853486928654291
          ],
          [
           -0.6747770414871523,
           -9.853372779970574
          ],
          [
           -0.7489016564099209,
           -9.853841788230552
          ],
          [
           -0.8391882806392916,
           -9.854065841952902
          ],
          [
           -0.9353384159562774,
           -9.85429332206404
          ],
          [
           -1.0046522749648654,
           -9.853890189479792
          ],
          [
           -1.01849109801312,
           -9.85385828263425
          ],
          [
           -0.9614274431675567,
           -9.854721791937775
          ],
          [
           -0.890547575812048,
           -9.854181727014337
          ],
          [
           -0.8204062812856578,
           -9.855527111194055
          ],
          [
           -0.7756887677945601,
           -9.855951812314649
          ],
          [
           -0.7513560204620527,
           -9.855969745334418
          ],
          [
           -0.7248041591855421,
           -9.85609879633157
          ],
          [
           -0.7204993620145969,
           -9.856167876955443
          ],
          [
           -0.7454083474453879,
           -9.855327312552102
          ],
          [
           -0.8149868943377587,
           -9.857030501172334
          ],
          [
           -0.9151062392524911,
           -9.857415736810752
          ],
          [
           -1.0079080707502652,
           -9.856856978109462
          ],
          [
           -1.1264365076281648,
           -9.855675559481474
          ],
          [
           -1.2108530123987695,
           -9.856125263338958
          ],
          [
           -1.2718824827889346,
           -9.855602816515722
          ],
          [
           -1.3477957137037548,
           -9.856157306268942
          ],
          [
           -1.434850366253537,
           -9.856211817363489
          ],
          [
           -1.5356910082144235,
           -9.857624823120133
          ],
          [
           -1.6317105106238814,
           -9.858781604632963
          ],
          [
           -1.7327023906211285,
           -9.859910374997536
          ],
          [
           -1.787769841915918,
           -9.861561114351149
          ],
          [
           -1.8375356492351491,
           -9.862339254872428
          ],
          [
           -1.9333315869656345,
           -9.863057689019131
          ],
          [
           -2.062593675079247,
           -9.864908799516673
          ],
          [
           -2.145240725994122,
           -9.865963045147465
          ],
          [
           -2.2282152470692327,
           -9.866830084332245
          ],
          [
           -2.3129716074434166,
           -9.868845251854875
          ],
          [
           -2.358815298962225,
           -9.869852593364824
          ],
          [
           -2.3874293779778584,
           -9.86968988691901
          ],
          [
           -2.4233645934482557,
           -9.870453853552231
          ],
          [
           -2.41903216614868,
           -9.871316067541507
          ],
          [
           -2.4415501357090466,
           -9.871969126553795
          ],
          [
           -2.4363897731240356,
           -9.872497692348754
          ],
          [
           -2.394555612291542,
           -9.871708809656765
          ],
          [
           -2.359766047731076,
           -9.870445761770087
          ],
          [
           -2.3189027380668614,
           -9.871346021944918
          ],
          [
           -2.280825064883235,
           -9.870364087048968
          ],
          [
           -2.285004851046172,
           -9.87129263933282
          ],
          [
           -2.2775194524817346,
           -9.8722125275749
          ],
          [
           -2.258573787713394,
           -9.873939545488783
          ],
          [
           -2.221898950655752,
           -9.87516151253874
          ],
          [
           -2.1960550434408432,
           -9.875818579985696
          ],
          [
           -2.170544126258394,
           -9.87518941316965
          ],
          [
           -2.1682479435229647,
           -9.875946330832763
          ],
          [
           -2.1775336377432324,
           -9.8768637550149
          ],
          [
           -2.174174422230187,
           -9.878093371779721
          ],
          [
           -2.178095263579443,
           -9.879007432798316
          ],
          [
           -2.2070141127304574,
           -9.87815034329888
          ],
          [
           -2.206501724727634,
           -9.878061389195462
          ],
          [
           -2.2169756655300854,
           -9.877076079812399
          ],
          [
           -2.256542359842872,
           -9.876569905290738
          ],
          [
           -2.303312254875065,
           -9.874347696535443
          ],
          [
           -2.338618194853728,
           -9.873481789929839
          ],
          [
           -2.3654277961433254,
           -9.872536014497658
          ],
          [
           -2.3903118773834624,
           -9.871288223105879
          ],
          [
           -2.3893046708566357,
           -9.871029537202489
          ],
          [
           -2.4038662197333203,
           -9.870122072681047
          ],
          [
           -2.4131811646346164,
           -9.869039098173614
          ],
          [
           -2.4561098590695605,
           -9.869785135491837
          ],
          [
           -2.4854435870390077,
           -9.869660541922684
          ]
         ],
         "hovertemplate": "%{x}<br>Baseline: %{y}<br><br>Baseline=%{customdata[0]:.3f}<br />Covid Added=%{customdata[1]:.3f}<extra></extra>",
         "legendgroup": "Baseline",
         "line": {
          "color": "#636EFA",
          "dash": "solid"
         },
         "name": "Baseline",
         "showlegend": false,
         "type": "scatter",
         "x": [
          "2013-12-02T00:00:00",
          "2013-12-03T00:00:00",
          "2013-12-04T00:00:00",
          "2013-12-05T00:00:00",
          "2013-12-06T00:00:00",
          "2013-12-07T00:00:00",
          "2013-12-08T00:00:00",
          "2013-12-09T00:00:00",
          "2013-12-10T00:00:00",
          "2013-12-11T00:00:00",
          "2013-12-12T00:00:00",
          "2013-12-13T00:00:00",
          "2013-12-14T00:00:00",
          "2013-12-15T00:00:00",
          "2013-12-16T00:00:00",
          "2013-12-17T00:00:00",
          "2013-12-18T00:00:00",
          "2013-12-19T00:00:00",
          "2013-12-20T00:00:00",
          "2013-12-21T00:00:00",
          "2013-12-22T00:00:00",
          "2013-12-23T00:00:00",
          "2013-12-24T00:00:00",
          "2013-12-25T00:00:00",
          "2013-12-26T00:00:00",
          "2013-12-27T00:00:00",
          "2013-12-28T00:00:00",
          "2013-12-29T00:00:00",
          "2013-12-30T00:00:00",
          "2013-12-31T00:00:00",
          "2014-01-01T00:00:00",
          "2014-01-02T00:00:00",
          "2014-01-03T00:00:00",
          "2014-01-04T00:00:00",
          "2014-01-05T00:00:00",
          "2014-01-06T00:00:00",
          "2014-01-07T00:00:00",
          "2014-01-08T00:00:00",
          "2014-01-09T00:00:00",
          "2014-01-10T00:00:00",
          "2014-01-11T00:00:00",
          "2014-01-12T00:00:00",
          "2014-01-13T00:00:00",
          "2014-01-14T00:00:00",
          "2014-01-15T00:00:00",
          "2014-01-16T00:00:00",
          "2014-01-17T00:00:00",
          "2014-01-18T00:00:00",
          "2014-01-19T00:00:00",
          "2014-01-20T00:00:00",
          "2014-01-21T00:00:00",
          "2014-01-22T00:00:00",
          "2014-01-23T00:00:00",
          "2014-01-24T00:00:00",
          "2014-01-25T00:00:00",
          "2014-01-26T00:00:00",
          "2014-01-27T00:00:00",
          "2014-01-28T00:00:00",
          "2014-01-29T00:00:00",
          "2014-01-30T00:00:00",
          "2014-01-31T00:00:00",
          "2014-02-01T00:00:00",
          "2014-02-02T00:00:00",
          "2014-02-03T00:00:00",
          "2014-02-04T00:00:00",
          "2014-02-05T00:00:00",
          "2014-02-06T00:00:00",
          "2014-02-07T00:00:00",
          "2014-02-08T00:00:00",
          "2014-02-09T00:00:00",
          "2014-02-10T00:00:00",
          "2014-02-11T00:00:00",
          "2014-02-12T00:00:00",
          "2014-02-13T00:00:00",
          "2014-02-14T00:00:00",
          "2014-02-15T00:00:00",
          "2014-02-16T00:00:00",
          "2014-02-17T00:00:00",
          "2014-02-18T00:00:00",
          "2014-02-19T00:00:00",
          "2014-02-20T00:00:00",
          "2014-02-21T00:00:00",
          "2014-02-22T00:00:00",
          "2014-02-23T00:00:00",
          "2014-02-24T00:00:00",
          "2014-02-25T00:00:00",
          "2014-02-26T00:00:00",
          "2014-02-27T00:00:00",
          "2014-02-28T00:00:00",
          "2014-03-01T00:00:00",
          "2014-03-02T00:00:00",
          "2014-03-03T00:00:00",
          "2014-03-04T00:00:00",
          "2014-03-05T00:00:00",
          "2014-03-06T00:00:00",
          "2014-03-07T00:00:00",
          "2014-03-08T00:00:00",
          "2014-03-09T00:00:00",
          "2014-03-10T00:00:00",
          "2014-03-11T00:00:00",
          "2014-03-12T00:00:00",
          "2014-03-13T00:00:00",
          "2014-03-14T00:00:00",
          "2014-03-15T00:00:00",
          "2014-03-16T00:00:00",
          "2014-03-17T00:00:00",
          "2014-03-18T00:00:00",
          "2014-03-19T00:00:00",
          "2014-03-20T00:00:00",
          "2014-03-21T00:00:00",
          "2014-03-22T00:00:00",
          "2014-03-23T00:00:00",
          "2014-03-24T00:00:00",
          "2014-03-25T00:00:00",
          "2014-03-26T00:00:00",
          "2014-03-27T00:00:00",
          "2014-03-28T00:00:00",
          "2014-03-29T00:00:00",
          "2014-03-30T00:00:00",
          "2014-03-31T00:00:00",
          "2014-04-01T00:00:00",
          "2014-04-02T00:00:00",
          "2014-04-03T00:00:00",
          "2014-04-04T00:00:00",
          "2014-04-05T00:00:00",
          "2014-04-06T00:00:00",
          "2014-04-07T00:00:00",
          "2014-04-08T00:00:00",
          "2014-04-09T00:00:00",
          "2014-04-10T00:00:00",
          "2014-04-11T00:00:00",
          "2014-04-12T00:00:00",
          "2014-04-13T00:00:00",
          "2014-04-14T00:00:00",
          "2014-04-15T00:00:00",
          "2014-04-16T00:00:00",
          "2014-04-17T00:00:00",
          "2014-04-18T00:00:00",
          "2014-04-19T00:00:00",
          "2014-04-20T00:00:00",
          "2014-04-21T00:00:00",
          "2014-04-22T00:00:00",
          "2014-04-23T00:00:00",
          "2014-04-24T00:00:00",
          "2014-04-25T00:00:00",
          "2014-04-26T00:00:00",
          "2014-04-27T00:00:00",
          "2014-04-28T00:00:00",
          "2014-04-29T00:00:00",
          "2014-04-30T00:00:00",
          "2014-05-01T00:00:00",
          "2014-05-02T00:00:00",
          "2014-05-03T00:00:00",
          "2014-05-04T00:00:00",
          "2014-05-05T00:00:00",
          "2014-05-06T00:00:00",
          "2014-05-07T00:00:00",
          "2014-05-08T00:00:00",
          "2014-05-09T00:00:00",
          "2014-05-10T00:00:00",
          "2014-05-11T00:00:00",
          "2014-05-12T00:00:00",
          "2014-05-13T00:00:00",
          "2014-05-14T00:00:00",
          "2014-05-15T00:00:00",
          "2014-05-16T00:00:00",
          "2014-05-17T00:00:00",
          "2014-05-18T00:00:00",
          "2014-05-19T00:00:00",
          "2014-05-20T00:00:00",
          "2014-05-21T00:00:00",
          "2014-05-22T00:00:00",
          "2014-05-23T00:00:00",
          "2014-05-24T00:00:00",
          "2014-05-25T00:00:00",
          "2014-05-26T00:00:00",
          "2014-05-27T00:00:00",
          "2014-05-28T00:00:00",
          "2014-05-29T00:00:00",
          "2014-05-30T00:00:00",
          "2014-05-31T00:00:00",
          "2014-06-01T00:00:00",
          "2014-06-02T00:00:00",
          "2014-06-03T00:00:00",
          "2014-06-04T00:00:00",
          "2014-06-05T00:00:00",
          "2014-06-06T00:00:00",
          "2014-06-07T00:00:00",
          "2014-06-08T00:00:00",
          "2014-06-09T00:00:00",
          "2014-06-10T00:00:00",
          "2014-06-11T00:00:00",
          "2014-06-12T00:00:00",
          "2014-06-13T00:00:00",
          "2014-06-14T00:00:00",
          "2014-06-15T00:00:00",
          "2014-06-16T00:00:00",
          "2014-06-17T00:00:00",
          "2014-06-18T00:00:00",
          "2014-06-19T00:00:00",
          "2014-06-20T00:00:00",
          "2014-06-21T00:00:00",
          "2014-06-22T00:00:00",
          "2014-06-23T00:00:00",
          "2014-06-24T00:00:00",
          "2014-06-25T00:00:00",
          "2014-06-26T00:00:00",
          "2014-06-27T00:00:00",
          "2014-06-28T00:00:00",
          "2014-06-29T00:00:00",
          "2014-06-30T00:00:00",
          "2014-07-01T00:00:00",
          "2014-07-02T00:00:00",
          "2014-07-03T00:00:00",
          "2014-07-04T00:00:00",
          "2014-07-05T00:00:00",
          "2014-07-06T00:00:00",
          "2014-07-07T00:00:00",
          "2014-07-08T00:00:00",
          "2014-07-09T00:00:00",
          "2014-07-10T00:00:00",
          "2014-07-11T00:00:00",
          "2014-07-12T00:00:00",
          "2014-07-13T00:00:00",
          "2014-07-14T00:00:00",
          "2014-07-15T00:00:00",
          "2014-07-16T00:00:00",
          "2014-07-17T00:00:00",
          "2014-07-18T00:00:00",
          "2014-07-19T00:00:00",
          "2014-07-20T00:00:00",
          "2014-07-21T00:00:00",
          "2014-07-22T00:00:00",
          "2014-07-23T00:00:00",
          "2014-07-24T00:00:00",
          "2014-07-25T00:00:00",
          "2014-07-26T00:00:00",
          "2014-07-27T00:00:00",
          "2014-07-28T00:00:00",
          "2014-07-29T00:00:00",
          "2014-07-30T00:00:00",
          "2014-07-31T00:00:00",
          "2014-08-01T00:00:00",
          "2014-08-02T00:00:00",
          "2014-08-03T00:00:00",
          "2014-08-04T00:00:00",
          "2014-08-05T00:00:00",
          "2014-08-06T00:00:00",
          "2014-08-07T00:00:00",
          "2014-08-08T00:00:00",
          "2014-08-09T00:00:00",
          "2014-08-10T00:00:00",
          "2014-08-11T00:00:00",
          "2014-08-12T00:00:00",
          "2014-08-13T00:00:00",
          "2014-08-14T00:00:00",
          "2014-08-15T00:00:00",
          "2014-08-16T00:00:00",
          "2014-08-17T00:00:00",
          "2014-08-18T00:00:00",
          "2014-08-19T00:00:00",
          "2014-08-20T00:00:00",
          "2014-08-21T00:00:00",
          "2014-08-22T00:00:00",
          "2014-08-23T00:00:00",
          "2014-08-24T00:00:00",
          "2014-08-25T00:00:00",
          "2014-08-26T00:00:00",
          "2014-08-27T00:00:00",
          "2014-08-28T00:00:00",
          "2014-08-29T00:00:00",
          "2014-08-30T00:00:00",
          "2014-08-31T00:00:00",
          "2014-09-01T00:00:00",
          "2014-09-02T00:00:00",
          "2014-09-03T00:00:00",
          "2014-09-04T00:00:00",
          "2014-09-05T00:00:00",
          "2014-09-06T00:00:00",
          "2014-09-07T00:00:00",
          "2014-09-08T00:00:00",
          "2014-09-09T00:00:00",
          "2014-09-10T00:00:00",
          "2014-09-11T00:00:00",
          "2014-09-12T00:00:00",
          "2014-09-13T00:00:00",
          "2014-09-14T00:00:00",
          "2014-09-15T00:00:00",
          "2014-09-16T00:00:00",
          "2014-09-17T00:00:00",
          "2014-09-18T00:00:00",
          "2014-09-19T00:00:00",
          "2014-09-20T00:00:00",
          "2014-09-21T00:00:00",
          "2014-09-22T00:00:00",
          "2014-09-23T00:00:00",
          "2014-09-24T00:00:00",
          "2014-09-25T00:00:00",
          "2014-09-26T00:00:00",
          "2014-09-27T00:00:00",
          "2014-09-28T00:00:00",
          "2014-09-29T00:00:00",
          "2014-09-30T00:00:00",
          "2014-10-01T00:00:00",
          "2014-10-02T00:00:00",
          "2014-10-03T00:00:00",
          "2014-10-04T00:00:00",
          "2014-10-05T00:00:00",
          "2014-10-06T00:00:00",
          "2014-10-07T00:00:00",
          "2014-10-08T00:00:00",
          "2014-10-09T00:00:00",
          "2014-10-10T00:00:00",
          "2014-10-11T00:00:00",
          "2014-10-12T00:00:00",
          "2014-10-13T00:00:00",
          "2014-10-14T00:00:00",
          "2014-10-15T00:00:00",
          "2014-10-16T00:00:00",
          "2014-10-17T00:00:00",
          "2014-10-18T00:00:00",
          "2014-10-19T00:00:00",
          "2014-10-20T00:00:00",
          "2014-10-21T00:00:00",
          "2014-10-22T00:00:00",
          "2014-10-23T00:00:00",
          "2014-10-24T00:00:00",
          "2014-10-25T00:00:00",
          "2014-10-26T00:00:00",
          "2014-10-27T00:00:00",
          "2014-10-28T00:00:00",
          "2014-10-29T00:00:00",
          "2014-10-30T00:00:00",
          "2014-10-31T00:00:00",
          "2014-11-01T00:00:00",
          "2014-11-02T00:00:00",
          "2014-11-03T00:00:00",
          "2014-11-04T00:00:00",
          "2014-11-05T00:00:00",
          "2014-11-06T00:00:00",
          "2014-11-07T00:00:00",
          "2014-11-08T00:00:00",
          "2014-11-09T00:00:00",
          "2014-11-10T00:00:00",
          "2014-11-11T00:00:00",
          "2014-11-12T00:00:00",
          "2014-11-13T00:00:00",
          "2014-11-14T00:00:00",
          "2014-11-15T00:00:00",
          "2014-11-16T00:00:00",
          "2014-11-17T00:00:00",
          "2014-11-18T00:00:00",
          "2014-11-19T00:00:00",
          "2014-11-20T00:00:00",
          "2014-11-21T00:00:00",
          "2014-11-22T00:00:00",
          "2014-11-23T00:00:00",
          "2014-11-24T00:00:00",
          "2014-11-25T00:00:00",
          "2014-11-26T00:00:00",
          "2014-11-27T00:00:00",
          "2014-11-28T00:00:00",
          "2014-11-29T00:00:00",
          "2014-11-30T00:00:00",
          "2014-12-01T00:00:00",
          "2014-12-02T00:00:00",
          "2014-12-03T00:00:00",
          "2014-12-04T00:00:00",
          "2014-12-05T00:00:00",
          "2014-12-06T00:00:00",
          "2014-12-07T00:00:00",
          "2014-12-08T00:00:00",
          "2014-12-09T00:00:00",
          "2014-12-10T00:00:00",
          "2014-12-11T00:00:00",
          "2014-12-12T00:00:00",
          "2014-12-13T00:00:00",
          "2014-12-14T00:00:00",
          "2014-12-15T00:00:00",
          "2014-12-16T00:00:00",
          "2014-12-17T00:00:00",
          "2014-12-18T00:00:00",
          "2014-12-19T00:00:00",
          "2014-12-20T00:00:00",
          "2014-12-21T00:00:00",
          "2014-12-22T00:00:00",
          "2014-12-23T00:00:00",
          "2014-12-24T00:00:00",
          "2014-12-25T00:00:00",
          "2014-12-26T00:00:00",
          "2014-12-27T00:00:00",
          "2014-12-28T00:00:00",
          "2014-12-29T00:00:00",
          "2014-12-30T00:00:00",
          "2014-12-31T00:00:00",
          "2015-01-01T00:00:00",
          "2015-01-02T00:00:00",
          "2015-01-03T00:00:00",
          "2015-01-04T00:00:00",
          "2015-01-05T00:00:00",
          "2015-01-06T00:00:00",
          "2015-01-07T00:00:00",
          "2015-01-08T00:00:00",
          "2015-01-09T00:00:00",
          "2015-01-10T00:00:00",
          "2015-01-11T00:00:00",
          "2015-01-12T00:00:00",
          "2015-01-13T00:00:00",
          "2015-01-14T00:00:00",
          "2015-01-15T00:00:00",
          "2015-01-16T00:00:00",
          "2015-01-17T00:00:00",
          "2015-01-18T00:00:00",
          "2015-01-19T00:00:00",
          "2015-01-20T00:00:00",
          "2015-01-21T00:00:00",
          "2015-01-22T00:00:00",
          "2015-01-23T00:00:00",
          "2015-01-24T00:00:00",
          "2015-01-25T00:00:00",
          "2015-01-26T00:00:00",
          "2015-01-27T00:00:00",
          "2015-01-28T00:00:00",
          "2015-01-29T00:00:00",
          "2015-01-30T00:00:00",
          "2015-01-31T00:00:00"
         ],
         "xaxis": "x2",
         "y": [
          0.34620159579627907,
          0.4110891044716515,
          0.4640269308814311,
          0.5018929990126508,
          0.5047387435438899,
          0.4955855072650832,
          0.4595562725030814,
          0.42513392606031963,
          0.41784405791478874,
          0.4052841717702871,
          0.4122027656246532,
          0.42460998703480374,
          0.42486061657238605,
          0.39878880506154024,
          0.34114450947510466,
          0.290308737686352,
          0.26697459705294674,
          0.23843655252869403,
          0.22132608320106917,
          0.1851342993252285,
          0.15090051580176278,
          0.1112047654886068,
          0.09137623825801255,
          0.0639902261455343,
          0.043988691854377815,
          0.020564059233052715,
          -0.03392716553057096,
          -0.05133028297792042,
          -0.060137058598455244,
          -0.06491139132432605,
          -0.07539922357943417,
          -0.10390118804225597,
          -0.13661304074019456,
          -0.19323716239284403,
          -0.28294979964518313,
          -0.35919937453696105,
          -0.4016488565767047,
          -0.413303472380795,
          -0.40871923293962736,
          -0.3997936016390198,
          -0.38605623912674014,
          -0.38881849733468465,
          -0.39278167936586955,
          -0.4028862271680224,
          -0.3956230870472787,
          -0.3946633136869372,
          -0.4299009788823074,
          -0.49986969417179766,
          -0.6038730692866725,
          -0.7382605915495554,
          -0.8455522682001729,
          -0.9360367445466721,
          -1.0523581713723469,
          -1.1341324572651237,
          -1.1879204448185394,
          -1.31694795126918,
          null,
          null,
          null,
          null,
          null,
          null,
          null,
          null,
          null,
          null,
          null,
          null,
          null,
          null,
          null,
          null,
          -1.880832655252881,
          -1.526322603963551,
          -1.3032193262886662,
          -1.171331567162076,
          -1.086386467116352,
          -0.9222292471743668,
          -0.7803594265359516,
          -0.6271852941908851,
          -0.5270013732886019,
          -0.4260202243098274,
          -0.35778221121248766,
          -0.2983657908499963,
          -0.2602759793200072,
          -0.23577367641337726,
          -0.20443581279354495,
          -0.18353702305447353,
          -0.1639389260780779,
          -0.13500127837445136,
          -0.1185905076484292,
          -0.09841264565773694,
          -0.08898134841682905,
          -0.06842496048768851,
          -0.05944967060121248,
          -0.03584269454588306,
          -0.019023666795403564,
          -0.015358723369403597,
          -0.014490744859768975,
          -0.007253477245525844,
          0.024300022611882965,
          0.051573094840635915,
          0.07948097899725236,
          0.0928736720417318,
          0.08429840982708153,
          0.06199222166439409,
          0.03285731785580066,
          0.021874148161022004,
          -0.02775000670640163,
          -0.06530378169291186,
          -0.16510521652088872,
          -0.2420880081949423,
          -0.27087698402928484,
          -0.27742572027251633,
          -0.27528003958642594,
          -0.2567212525751134,
          -0.23128752288352825,
          -0.21336906106437678,
          -0.2144494501829306,
          -0.20302321513914307,
          -0.18572902676259778,
          -0.15550336714914229,
          -0.12750472788099,
          -0.10308703710811051,
          -0.09655993884624667,
          -0.11425031725925953,
          -0.13608904188412738,
          -0.13113758090742655,
          -0.10725252196785362,
          -0.12407651548240183,
          -0.1506104294303887,
          -0.20973575198132377,
          -0.2583563098068234,
          -0.27802740874342013,
          -0.269280397575839,
          -0.24492251175895435,
          -0.2593556793374719,
          -0.27802840482587216,
          -0.2840301715764185,
          -0.29913736164539445,
          -0.3356205006985345,
          -0.3294151594232115,
          -0.31741402896166643,
          -0.3476920920150336,
          -0.3691141759537062,
          -0.4147750080295928,
          -0.44360607946001823,
          -0.4236890379612072,
          -0.37838805107913015,
          -0.3271273538279496,
          -0.2824678813258824,
          -0.26603020429755525,
          -0.23780987296183792,
          -0.23553430711251208,
          -0.1997321222744684,
          -0.15311270289283743,
          -0.1099184604513464,
          -0.06532328582588441,
          -0.033622249250931,
          -0.021938635397290462,
          0.0008286665159719775,
          0.024031249942110644,
          0.025021005286628893,
          0.00481877128936725,
          -0.006560515415261725,
          -0.043143198030355163,
          -0.11653383093316817,
          -0.20081347104664107,
          -0.2574039720813343,
          -0.29484707955931283,
          -0.33063637900234466,
          -0.32791185170492576,
          -0.3055805049440166,
          -0.28178285878940024,
          -0.2643231614026634,
          -0.28192165187186197,
          -0.27797206973114535,
          -0.26569077173480515,
          -0.2947894649735204,
          -0.3425321875879987,
          -0.41472493300151264,
          -0.4857870413829017,
          -0.4774844148553598,
          -0.4430537480496658,
          -0.3996455890691207,
          -0.347187583587753,
          -0.2972188281500903,
          -0.27156052847527423,
          -0.2603338338745248,
          -0.25263385094016744,
          -0.23371642316988533,
          -0.21115776347990847,
          -0.19845225049716603,
          -0.20962913503979358,
          -0.2376181684896411,
          -0.2501050295069976,
          -0.2526241914734959,
          -0.251877298473628,
          -0.2414938710091209,
          -0.22232145995465152,
          -0.20444902653819386,
          -0.21493699478802591,
          -0.23110612167841613,
          -0.23707732096188655,
          -0.2677301727667801,
          -0.2985143065518615,
          -0.36661110503869554,
          -0.4562733181361139,
          -0.5507814965837258,
          -0.6769965493161159,
          -0.8257495084694666,
          -0.9319126980768595,
          -0.9914490112179504,
          -1.0970356764430476,
          -1.2154668423050343,
          -1.3101742282792,
          -1.3834170352464996,
          -1.4808912647373618,
          -1.5743495984291136,
          -1.7069585035646853,
          -1.796805633238573,
          -1.9220215096186517,
          -2.031507257084612,
          -2.1325352107745026,
          -2.2331171870598294,
          -2.3107413039844094,
          -2.3289437726584055,
          -2.3592273189885464,
          -2.3977098182895404,
          -2.468347669880002,
          -2.5598521541988535,
          -2.6617508247441135,
          -2.686795476292315,
          -2.6394829574211123,
          -2.594440901008145,
          -2.5419254481438083,
          -2.5045087645211557,
          -2.4705391613422094,
          -2.4037784430151317,
          -2.324209869469135,
          -2.2761079474977364,
          -2.2421899495174005,
          -2.2057408500165545,
          -2.2343994246207317,
          -2.255403340944117,
          -2.276890755310011,
          -2.272577176914987,
          -2.2807356153951313,
          -2.2520749825131303,
          -2.2269752885973797,
          -2.18358935458862,
          -2.1407848907307594,
          -2.119035480089954,
          -2.1120771865830235,
          -2.1040118012352007,
          -2.058510965355319,
          -2.055294709734735,
          -2.082481046181627,
          -2.1320071155653566,
          -2.1887786026126554,
          -2.206753462806669,
          -2.1808262327426333,
          -2.18444475944026,
          -2.1604954029609083,
          -2.204301088715003,
          -2.2952066558462234,
          -2.3642602915739697,
          -2.401817151538493,
          -2.444997441705241,
          -2.473417896950398,
          -2.531741786558451,
          -2.495447013997289,
          -2.4893620503025584,
          -2.429889514875352,
          -2.3872020152522837,
          -2.3532546093092503,
          -2.3749885242133435,
          -2.4035953096566014,
          -2.4753867472236153,
          -2.5122730937242626,
          -2.524734482085878,
          -2.4823474825858147,
          -2.427735456085807,
          -2.2913326218554,
          -2.157318351855837,
          -2.0777293754049286,
          -2.0207144659500726,
          -1.9382905812551177,
          -1.8159935534261908,
          -1.699588935332517,
          -1.5965446930978395,
          -1.4986576075910372,
          -1.4317604361321183,
          -1.370018143812736,
          -1.337934651705827,
          -1.3332545371517968,
          -1.3294151522905695,
          -1.336932466946765,
          -1.368130752933671,
          -1.3892206986739188,
          -1.407597337078895,
          -1.4544211963779232,
          -1.4582235174129476,
          -1.4009289715980806,
          -1.329679610268273,
          -1.2920318786262894,
          -1.2397206387977555,
          -1.182245048599319,
          -1.1019059365049968,
          -0.9961914065460025,
          -0.9045390379146871,
          -0.8357810719860276,
          -0.790959751981626,
          -0.7516107092860279,
          -0.7182734061015049,
          -0.6987589735521114,
          -0.6690020453530837,
          -0.6423655892021959,
          -0.6020465756455313,
          -0.55675853816773,
          -0.5224932627632212,
          -0.5137870065446386,
          -0.5143935107409571,
          -0.5287079798940154,
          -0.544960183957833,
          -0.546667069179687,
          -0.5341062466144222,
          -0.5136673400573218,
          -0.4880207960639221,
          -0.46652580215476713,
          -0.45312932000592726,
          -0.4386041511860946,
          -0.47039926090023787,
          -0.49918570878845603,
          -0.5182714315268936,
          -0.5394661065247972,
          -0.5401382097871836,
          -0.5204437184811654,
          -0.5014634698279993,
          -0.5141711560254816,
          -0.5603041873172574,
          -0.6101349962895084,
          -0.6513285578951176,
          -0.6613415417800118,
          -0.6304091814500217,
          -0.5875250969228817,
          -0.5514982083692478,
          -0.5179544640108399,
          -0.49458711758954826,
          -0.47818242953565193,
          -0.48526307579567896,
          -0.4933448168813912,
          -0.5034234416552178,
          -0.5338868829164727,
          -0.547459464778875,
          -0.5425106221446059,
          -0.551379281356853,
          -0.5816005685859122,
          -0.5971794977052535,
          -0.5996237319525334,
          -0.6288467997888812,
          -0.6747770414871523,
          -0.7489016564099209,
          -0.8391882806392916,
          -0.9353384159562774,
          -1.0046522749648654,
          -1.01849109801312,
          -0.9614274431675567,
          -0.890547575812048,
          -0.8204062812856578,
          -0.7756887677945601,
          -0.7513560204620527,
          -0.7248041591855421,
          -0.7204993620145969,
          -0.7454083474453879,
          -0.8149868943377587,
          -0.9151062392524911,
          -1.0079080707502652,
          -1.1264365076281648,
          -1.2108530123987695,
          -1.2718824827889346,
          -1.3477957137037548,
          -1.434850366253537,
          -1.5356910082144235,
          -1.6317105106238814,
          -1.7327023906211285,
          -1.787769841915918,
          -1.8375356492351491,
          -1.9333315869656345,
          -2.062593675079247,
          -2.145240725994122,
          -2.2282152470692327,
          -2.3129716074434166,
          -2.358815298962225,
          -2.3874293779778584,
          -2.4233645934482557,
          -2.41903216614868,
          -2.4415501357090466,
          -2.4363897731240356,
          -2.394555612291542,
          -2.359766047731076,
          -2.3189027380668614,
          -2.280825064883235,
          -2.285004851046172,
          -2.2775194524817346,
          -2.258573787713394,
          -2.221898950655752,
          -2.1960550434408432,
          -2.170544126258394,
          -2.1682479435229647,
          -2.1775336377432324,
          -2.174174422230187,
          -2.178095263579443,
          -2.2070141127304574,
          -2.206501724727634,
          -2.2169756655300854,
          -2.256542359842872,
          -2.303312254875065,
          -2.338618194853728,
          -2.3654277961433254,
          -2.3903118773834624,
          -2.3893046708566357,
          -2.4038662197333203,
          -2.4131811646346164,
          -2.4561098590695605,
          -2.4854435870390077
         ],
         "yaxis": "y2"
        },
        {
         "connectgaps": false,
         "customdata": [
          [
           0.34620159579627907,
           0.5121735747401063
          ],
          [
           0.4110891044716515,
           0.5843646978192959
          ],
          [
           0.4640269308814311,
           0.6115142799132455
          ],
          [
           0.5018929990126508,
           0.6314136877799248
          ],
          [
           0.5047387435438899,
           0.6236705967066222
          ],
          [
           0.4955855072650832,
           0.6067692943860036
          ],
          [
           0.4595562725030814,
           0.5957209021937973
          ],
          [
           0.42513392606031963,
           0.5797897217012364
          ],
          [
           0.41784405791478874,
           0.5702312328489972
          ],
          [
           0.4052841717702871,
           0.5540549164912988
          ],
          [
           0.4122027656246532,
           0.5447641544578801
          ],
          [
           0.42460998703480374,
           0.54958749286728
          ],
          [
           0.42486061657238605,
           0.5405105098614943
          ],
          [
           0.39878880506154024,
           0.528195549322581
          ],
          [
           0.34114450947510466,
           0.47779079424864773
          ],
          [
           0.290308737686352,
           0.4418001615496411
          ],
          [
           0.26697459705294674,
           0.4552541188812862
          ],
          [
           0.23843655252869403,
           0.448614746099886
          ],
          [
           0.22132608320106917,
           0.4433903756370296
          ],
          [
           0.1851342993252285,
           0.4206819218567234
          ],
          [
           0.15090051580176278,
           0.39502494589918724
          ],
          [
           0.1112047654886068,
           0.3739540211392372
          ],
          [
           0.09137623825801255,
           0.3682996191598814
          ],
          [
           0.0639902261455343,
           0.34733412955133935
          ],
          [
           0.043988691854377815,
           0.34901360642089224
          ],
          [
           0.020564059233052715,
           0.34750412383717855
          ],
          [
           -0.03392716553057096,
           0.31915292351889907
          ],
          [
           -0.05133028297792042,
           0.30591430513622836
          ],
          [
           -0.060137058598455244,
           0.294858457874632
          ],
          [
           -0.06491139132432605,
           0.2844490757833495
          ],
          [
           -0.07539922357943417,
           0.27805192114902105
          ],
          [
           -0.10390118804225597,
           0.2557000726880164
          ],
          [
           -0.13661304074019456,
           0.21767168860516217
          ],
          [
           -0.19323716239284403,
           0.17605974317309053
          ],
          [
           -0.28294979964518313,
           0.10042295515875091
          ],
          [
           -0.35919937453696105,
           0.044382682685554856
          ],
          [
           -0.4016488565767047,
           0.009190837017029935
          ],
          [
           -0.413303472380795,
           -0.005448902636931939
          ],
          [
           -0.40871923293962736,
           0.009194223031792983
          ],
          [
           -0.3997936016390198,
           0.008337725107284807
          ],
          [
           -0.38605623912674014,
           0.01577280749109876
          ],
          [
           -0.38881849733468465,
           0.0033770017152053135
          ],
          [
           -0.39278167936586955,
           -0.011861433224124416
          ],
          [
           -0.4028862271680224,
           -0.021257283044224074
          ],
          [
           -0.3956230870472787,
           -0.011142869820935248
          ],
          [
           -0.3946633136869372,
           -0.01344724398678552
          ],
          [
           -0.4299009788823074,
           -0.057619589831284894
          ],
          [
           -0.49986969417179766,
           -0.11975908240455985
          ],
          [
           -0.6038730692866725,
           -0.22634549033174248
          ],
          [
           -0.7382605915495554,
           -0.35174920527707965
          ],
          [
           -0.8455522682001729,
           -0.4467992962011293
          ],
          [
           -0.9360367445466721,
           -0.5290289346264482
          ],
          [
           -1.0523581713723469,
           -0.6560447516711911
          ],
          [
           -1.1341324572651237,
           -0.7443798723896614
          ],
          [
           -1.1879204448185394,
           -0.8069652730529372
          ],
          [
           -1.31694795126918,
           -0.9456939046009721
          ],
          [
           null,
           null
          ],
          [
           null,
           null
          ],
          [
           null,
           null
          ],
          [
           null,
           null
          ],
          [
           null,
           null
          ],
          [
           null,
           null
          ],
          [
           null,
           null
          ],
          [
           null,
           null
          ],
          [
           null,
           null
          ],
          [
           null,
           null
          ],
          [
           null,
           null
          ],
          [
           null,
           null
          ],
          [
           null,
           null
          ],
          [
           null,
           null
          ],
          [
           null,
           null
          ],
          [
           null,
           null
          ],
          [
           -1.880832655252881,
           -1.6452709032658495
          ],
          [
           -1.526322603963551,
           -1.254577889163559
          ],
          [
           -1.3032193262886662,
           -1.028411130354718
          ],
          [
           -1.171331567162076,
           -0.8974740235735617
          ],
          [
           -1.086386467116352,
           -0.8102876627338266
          ],
          [
           -0.9222292471743668,
           -0.6336111724294592
          ],
          [
           -0.7803594265359516,
           -0.47576243763293125
          ],
          [
           -0.6271852941908851,
           -0.32232309001171855
          ],
          [
           -0.5270013732886019,
           -0.22712477777009757
          ],
          [
           -0.4260202243098274,
           -0.1300581478150838
          ],
          [
           -0.35778221121248766,
           -0.05818539138139518
          ],
          [
           -0.2983657908499963,
           -0.013468033633817962
          ],
          [
           -0.2602759793200072,
           0.024946780000672932
          ],
          [
           -0.23577367641337726,
           0.05230116131897244
          ],
          [
           -0.20443581279354495,
           0.07188308933164678
          ],
          [
           -0.18353702305447353,
           0.10287809453737848
          ],
          [
           -0.1639389260780779,
           0.12225211467629842
          ],
          [
           -0.13500127837445136,
           0.14569200655096654
          ],
          [
           -0.1185905076484292,
           0.16020096845775247
          ],
          [
           -0.09841264565773694,
           0.17738245109820264
          ],
          [
           -0.08898134841682905,
           0.1984540029789115
          ],
          [
           -0.06842496048768851,
           0.21708191614427055
          ],
          [
           -0.05944967060121248,
           0.2500151275957498
          ],
          [
           -0.03584269454588306,
           0.26881925999015593
          ],
          [
           -0.019023666795403564,
           0.27669586993084316
          ],
          [
           -0.015358723369403597,
           0.28220349873856626
          ],
          [
           -0.014490744859768975,
           0.2886323131459903
          ],
          [
           -0.007253477245525844,
           0.29745944991156426
          ],
          [
           0.024300022611882965,
           0.3135747425102706
          ],
          [
           0.051573094840635915,
           0.32483924688726873
          ],
          [
           0.07948097899725236,
           0.3511338724117182
          ],
          [
           0.0928736720417318,
           0.36866187853653576
          ],
          [
           0.08429840982708153,
           0.35922951050504764
          ],
          [
           0.06199222166439409,
           0.33451725085276857
          ],
          [
           0.03285731785580066,
           0.3066967772616785
          ],
          [
           0.021874148161022004,
           0.28947867320674203
          ],
          [
           -0.02775000670640163,
           0.23075978351488838
          ],
          [
           -0.06530378169291186,
           0.1888815087543661
          ],
          [
           -0.16510521652088872,
           0.10689287363141942
          ],
          [
           -0.2420880081949423,
           0.013460069822199024
          ],
          [
           -0.27087698402928484,
           -0.022185782375270118
          ],
          [
           -0.27742572027251633,
           -0.02564353623250523
          ],
          [
           -0.27528003958642594,
           -0.01886260654416714
          ],
          [
           -0.2567212525751134,
           0.013159037315495396
          ],
          [
           -0.23128752288352825,
           0.04939574210050347
          ],
          [
           -0.21336906106437678,
           0.07390727429071565
          ],
          [
           -0.2144494501829306,
           0.08021724716547139
          ],
          [
           -0.20302321513914307,
           0.09191615679448698
          ],
          [
           -0.18572902676259778,
           0.11165785062619203
          ],
          [
           -0.15550336714914229,
           0.13389295252242867
          ],
          [
           -0.12750472788099,
           0.16634518712626528
          ],
          [
           -0.10308703710811051,
           0.19049462695834807
          ],
          [
           -0.09655993884624667,
           0.19818464214131534
          ],
          [
           -0.11425031725925953,
           0.18696987385521935
          ],
          [
           -0.13608904188412738,
           0.15989073326649303
          ],
          [
           -0.13113758090742655,
           0.14636940898036369
          ],
          [
           -0.10725252196785362,
           0.16097411405662773
          ],
          [
           -0.12407651548240183,
           0.13962552278188517
          ],
          [
           -0.1506104294303887,
           0.11577130226198724
          ],
          [
           -0.20973575198132377,
           0.04734947187299481
          ],
          [
           -0.2583563098068234,
           0.0013590088885437187
          ],
          [
           -0.27802740874342013,
           -0.023437269646877534
          ],
          [
           -0.269280397575839,
           -0.006886713070165678
          ],
          [
           -0.24492251175895435,
           0.01269510738857857
          ],
          [
           -0.2593556793374719,
           0.016859830680422166
          ],
          [
           -0.27802840482587216,
           -0.00705632806725264
          ],
          [
           -0.2840301715764185,
           -0.03278860334576277
          ],
          [
           -0.29913736164539445,
           -0.04532012721801213
          ],
          [
           -0.3356205006985345,
           -0.09931927680118571
          ],
          [
           -0.3294151594232115,
           -0.1164608472454576
          ],
          [
           -0.31741402896166643,
           -0.1307354452097761
          ],
          [
           -0.3476920920150336,
           -0.16545735520265234
          ],
          [
           -0.3691141759537062,
           -0.19568290553194845
          ],
          [
           -0.4147750080295928,
           -0.2349343466938383
          ],
          [
           -0.44360607946001823,
           -0.27229386125493565
          ],
          [
           -0.4236890379612072,
           -0.2694152548418492
          ],
          [
           -0.37838805107913015,
           -0.2240207669228507
          ],
          [
           -0.3271273538279496,
           -0.16568235222218466
          ],
          [
           -0.2824678813258824,
           -0.1169784663805264
          ],
          [
           -0.26603020429755525,
           -0.09505218283716126
          ],
          [
           -0.23780987296183792,
           -0.07110575729094201
          ],
          [
           -0.23553430711251208,
           -0.06481497815133892
          ],
          [
           -0.1997321222744684,
           -0.02334228970525068
          ],
          [
           -0.15311270289283743,
           0.0226223235318678
          ],
          [
           -0.1099184604513464,
           0.07141693449948806
          ],
          [
           -0.06532328582588441,
           0.12786578524765377
          ],
          [
           -0.033622249250931,
           0.16822451717945178
          ],
          [
           -0.021938635397290462,
           0.1926330109862041
          ],
          [
           0.0008286665159719775,
           0.21211769281450402
          ],
          [
           0.024031249942110644,
           0.22999480330720848
          ],
          [
           0.025021005286628893,
           0.25026821898687857
          ],
          [
           0.00481877128936725,
           0.254255870293822
          ],
          [
           -0.006560515415261725,
           0.2566336187493277
          ],
          [
           -0.043143198030355163,
           0.23886005486841613
          ],
          [
           -0.11653383093316817,
           0.19505107090840723
          ],
          [
           -0.20081347104664107,
           0.14719314369957182
          ],
          [
           -0.2574039720813343,
           0.10786822032764279
          ],
          [
           -0.29484707955931283,
           0.08068471423907927
          ],
          [
           -0.33063637900234466,
           0.07365473154759651
          ],
          [
           -0.32791185170492576,
           0.0648839711031983
          ],
          [
           -0.3055805049440166,
           0.06050179831711244
          ],
          [
           -0.28178285878940024,
           0.05834216067581688
          ],
          [
           -0.2643231614026634,
           0.043362195270887256
          ],
          [
           -0.28192165187186197,
           -0.00857114029187725
          ],
          [
           -0.27797206973114535,
           -0.028837091477083143
          ],
          [
           -0.26569077173480515,
           -0.029587041594621923
          ],
          [
           -0.2947894649735204,
           -0.04687582181801526
          ],
          [
           -0.3425321875879987,
           -0.07901063264776846
          ],
          [
           -0.41472493300151264,
           -0.14092939798560808
          ],
          [
           -0.4857870413829017,
           -0.23194265463070549
          ],
          [
           -0.4774844148553598,
           -1.7160844430134101
          ],
          [
           -0.4430537480496658,
           -3.2361664286330485
          ],
          [
           -0.3996455890691207,
           -4.57832976673773
          ],
          [
           -0.347187583587753,
           -5.721420025591861
          ],
          [
           -0.2972188281500903,
           -6.641999405559654
          ],
          [
           -0.27156052847527423,
           -7.346798387347108
          ],
          [
           -0.2603338338745248,
           -7.897783988212246
          ],
          [
           -0.25263385094016744,
           -8.330283515610946
          ],
          [
           -0.23371642316988533,
           -8.663046742911886
          ],
          [
           -0.21115776347990847,
           -8.917433429902319
          ],
          [
           -0.19845225049716603,
           -9.117540755634025
          ],
          [
           -0.20962913503979358,
           -9.27695992355975
          ],
          [
           -0.2376181684896411,
           -9.39820590761517
          ],
          [
           -0.2501050295069976,
           -9.490582262071928
          ],
          [
           -0.2526241914734959,
           -9.563796725439786
          ],
          [
           -0.251877298473628,
           -9.620126990163937
          ],
          [
           -0.2414938710091209,
           -9.663823888529244
          ],
          [
           -0.22232145995465152,
           -9.699418037817441
          ],
          [
           -0.20444902653819386,
           -9.728830807157902
          ],
          [
           -0.21493699478802591,
           -9.751640327251518
          ],
          [
           -0.23110612167841613,
           -9.76897264467596
          ],
          [
           -0.23707732096188655,
           -9.784212060634824
          ],
          [
           -0.2677301727667801,
           -9.796598669790104
          ],
          [
           -0.2985143065518615,
           -9.805610820269418
          ],
          [
           -0.36661110503869554,
           -9.816434028112928
          ],
          [
           -0.4562733181361139,
           -9.826235805085384
          ],
          [
           -0.5507814965837258,
           -9.835492834569896
          ],
          [
           -0.6769965493161159,
           -9.844437311946388
          ],
          [
           -0.8257495084694666,
           -9.853913786173424
          ],
          [
           -0.9319126980768595,
           -9.861908596703945
          ],
          [
           -0.9914490112179504,
           -9.867480045465587
          ],
          [
           -1.0970356764430476,
           -9.870474225991629
          ],
          [
           -1.2154668423050343,
           -9.872738270767433
          ],
          [
           -1.3101742282792,
           -9.875552003852325
          ],
          [
           -1.3834170352464996,
           -9.876972581031554
          ],
          [
           -1.4808912647373618,
           -9.877548700522977
          ],
          [
           -1.5743495984291136,
           -9.878073360129553
          ],
          [
           -1.7069585035646853,
           -9.879791460386562
          ],
          [
           -1.796805633238573,
           -9.881002106449587
          ],
          [
           -1.9220215096186517,
           -9.882549925043167
          ],
          [
           -2.031507257084612,
           -9.88521017383814
          ],
          [
           -2.1325352107745026,
           -9.886025268417454
          ],
          [
           -2.2331171870598294,
           -9.887185677082346
          ],
          [
           -2.3107413039844094,
           -9.887368016679192
          ],
          [
           -2.3289437726584055,
           -9.887993465321616
          ],
          [
           -2.3592273189885464,
           -9.889353976762322
          ],
          [
           -2.3977098182895404,
           -9.888473842498707
          ],
          [
           -2.468347669880002,
           -9.888326458684057
          ],
          [
           -2.5598521541988535,
           -9.889100383744315
          ],
          [
           -2.6617508247441135,
           -9.889089371694952
          ],
          [
           -2.686795476292315,
           -9.888758300493423
          ],
          [
           -2.6394829574211123,
           -9.888148255250579
          ],
          [
           -2.594440901008145,
           -9.887318332530027
          ],
          [
           -2.5419254481438083,
           -9.88730361518738
          ],
          [
           -2.5045087645211557,
           -9.886484975208793
          ],
          [
           -2.4705391613422094,
           -9.887584050956603
          ],
          [
           -2.4037784430151317,
           -9.88806142239205
          ],
          [
           -2.324209869469135,
           -9.8874813609777
          ],
          [
           -2.2761079474977364,
           -9.887965630451111
          ],
          [
           -2.2421899495174005,
           -9.888010322627368
          ],
          [
           -2.2057408500165545,
           -9.888661375729804
          ],
          [
           -2.2343994246207317,
           -9.887836343589695
          ],
          [
           -2.255403340944117,
           -9.888886208301198
          ],
          [
           -2.276890755310011,
           -9.889372728637587
          ],
          [
           -2.272577176914987,
           -9.888081017672231
          ],
          [
           -2.2807356153951313,
           -9.88863102377829
          ],
          [
           -2.2520749825131303,
           -9.888834919503688
          ],
          [
           -2.2269752885973797,
           -9.888458885356533
          ],
          [
           -2.18358935458862,
           -9.888698396258714
          ],
          [
           -2.1407848907307594,
           -9.888161431172254
          ],
          [
           -2.119035480089954,
           -9.887908817747817
          ],
          [
           -2.1120771865830235,
           -9.88703336637389
          ],
          [
           -2.1040118012352007,
           -9.887249358037726
          ],
          [
           -2.058510965355319,
           -9.88671537940524
          ],
          [
           -2.055294709734735,
           -9.886946046387646
          ],
          [
           -2.082481046181627,
           -9.887700914544345
          ],
          [
           -2.1320071155653566,
           -9.88781816671217
          ],
          [
           -2.1887786026126554,
           -9.88838910580519
          ],
          [
           -2.206753462806669,
           -9.888132968070794
          ],
          [
           -2.1808262327426333,
           -9.888155714883935
          ],
          [
           -2.18444475944026,
           -9.889230555136733
          ],
          [
           -2.1604954029609083,
           -9.890050422117417
          ],
          [
           -2.204301088715003,
           -9.89137769530369
          ],
          [
           -2.2952066558462234,
           -9.892765407949907
          ],
          [
           -2.3642602915739697,
           -9.894457436624355
          ],
          [
           -2.401817151538493,
           -9.895078286798805
          ],
          [
           -2.444997441705241,
           -9.895507603932716
          ],
          [
           -2.473417896950398,
           -9.894426080525376
          ],
          [
           -2.531741786558451,
           -9.892980225834119
          ],
          [
           -2.495447013997289,
           -9.89189523995056
          ],
          [
           -2.4893620503025584,
           -9.89023472002742
          ],
          [
           -2.429889514875352,
           -9.888247332946824
          ],
          [
           -2.3872020152522837,
           -9.886150475584735
          ],
          [
           -2.3532546093092503,
           -9.884873420825196
          ],
          [
           -2.3749885242133435,
           -9.884156782546997
          ],
          [
           -2.4035953096566014,
           -9.883336839571088
          ],
          [
           -2.4753867472236153,
           -9.88222992547427
          ],
          [
           -2.5122730937242626,
           -9.881711614705722
          ],
          [
           -2.524734482085878,
           -9.880188267052045
          ],
          [
           -2.4823474825858147,
           -9.880298968732388
          ],
          [
           -2.427735456085807,
           -9.88043161101019
          ],
          [
           -2.2913326218554,
           -9.881077113276065
          ],
          [
           -2.157318351855837,
           -9.882068725463624
          ],
          [
           -2.0777293754049286,
           -9.883292017166076
          ],
          [
           -2.0207144659500726,
           -9.883193724804881
          ],
          [
           -1.9382905812551177,
           -9.881885653725242
          ],
          [
           -1.8159935534261908,
           -9.880829235389799
          ],
          [
           -1.699588935332517,
           -9.878761151990059
          ],
          [
           -1.5965446930978395,
           -9.877554495289631
          ],
          [
           -1.4986576075910372,
           -9.876100135218552
          ],
          [
           -1.4317604361321183,
           -9.874204349989055
          ],
          [
           -1.370018143812736,
           -9.872832876354481
          ],
          [
           -1.337934651705827,
           -9.87143759774898
          ],
          [
           -1.3332545371517968,
           -9.869498826681651
          ],
          [
           -1.3294151522905695,
           -9.868303501235902
          ],
          [
           -1.336932466946765,
           -9.866710017109824
          ],
          [
           -1.368130752933671,
           -9.865047222260051
          ],
          [
           -1.3892206986739188,
           -9.863434996839908
          ],
          [
           -1.407597337078895,
           -9.861148393626491
          ],
          [
           -1.4544211963779232,
           -9.85995502766395
          ],
          [
           -1.4582235174129476,
           -9.85963485595621
          ],
          [
           -1.4009289715980806,
           -9.861013447113391
          ],
          [
           -1.329679610268273,
           -9.859561788341415
          ],
          [
           -1.2920318786262894,
           -9.85910986282161
          ],
          [
           -1.2397206387977555,
           -9.857633796237808
          ],
          [
           -1.182245048599319,
           -9.85858373460235
          ],
          [
           -1.1019059365049968,
           -9.858296518383831
          ],
          [
           -0.9961914065460025,
           -9.857759330038283
          ],
          [
           -0.9045390379146871,
           -9.857663674601094
          ],
          [
           -0.8357810719860276,
           -9.855437001576972
          ],
          [
           -0.790959751981626,
           -9.853261400563202
          ],
          [
           -0.7516107092860279,
           -9.851264059808438
          ],
          [
           -0.7182734061015049,
           -9.848550492309199
          ],
          [
           -0.6987589735521114,
           -9.845935291991388
          ],
          [
           -0.6690020453530837,
           -9.844592240252839
          ],
          [
           -0.6423655892021959,
           -9.843118736310466
          ],
          [
           -0.6020465756455313,
           -9.842454074574837
          ],
          [
           -0.55675853816773,
           -9.842609428934344
          ],
          [
           -0.5224932627632212,
           -9.842847193877416
          ],
          [
           -0.5137870065446386,
           -9.84477795500665
          ],
          [
           -0.5143935107409571,
           -9.845218016091376
          ],
          [
           -0.5287079798940154,
           -9.845922772220343
          ],
          [
           -0.544960183957833,
           -9.847480171273732
          ],
          [
           -0.546667069179687,
           -9.847748712532388
          ],
          [
           -0.5341062466144222,
           -9.847584894504982
          ],
          [
           -0.5136673400573218,
           -9.846394421185058
          ],
          [
           -0.4880207960639221,
           -9.846681628370694
          ],
          [
           -0.46652580215476713,
           -9.846820822973616
          ],
          [
           -0.45312932000592726,
           -9.846799520880177
          ],
          [
           -0.4386041511860946,
           -9.846329866633065
          ],
          [
           -0.47039926090023787,
           -9.845684909122959
          ],
          [
           -0.49918570878845603,
           -9.845471166741353
          ],
          [
           -0.5182714315268936,
           -9.844914866528528
          ],
          [
           -0.5394661065247972,
           -9.844990713640131
          ],
          [
           -0.5401382097871836,
           -9.84451515764372
          ],
          [
           -0.5204437184811654,
           -9.845888529344384
          ],
          [
           -0.5014634698279993,
           -9.845175223069944
          ],
          [
           -0.5141711560254816,
           -9.846763337816292
          ],
          [
           -0.5603041873172574,
           -9.848817621660814
          ],
          [
           -0.6101349962895084,
           -9.850005010108147
          ],
          [
           -0.6513285578951176,
           -9.850413914056611
          ],
          [
           -0.6613415417800118,
           -9.850152349223682
          ],
          [
           -0.6304091814500217,
           -9.85007571235189
          ],
          [
           -0.5875250969228817,
           -9.850517281384187
          ],
          [
           -0.5514982083692478,
           -9.850340330651685
          ],
          [
           -0.5179544640108399,
           -9.851523343404871
          ],
          [
           -0.49458711758954826,
           -9.853731635427858
          ],
          [
           -0.47818242953565193,
           -9.855181821398524
          ],
          [
           -0.48526307579567896,
           -9.853962136927755
          ],
          [
           -0.4933448168813912,
           -9.852591775039654
          ],
          [
           -0.5034234416552178,
           -9.85275658886903
          ],
          [
           -0.5338868829164727,
           -9.851401307406514
          ],
          [
           -0.547459464778875,
           -9.850408635587133
          ],
          [
           -0.5425106221446059,
           -9.849572278029477
          ],
          [
           -0.551379281356853,
           -9.84875360779321
          ],
          [
           -0.5816005685859122,
           -9.849705840579778
          ],
          [
           -0.5971794977052535,
           -9.851712489293941
          ],
          [
           -0.5996237319525334,
           -9.8524121044181
          ],
          [
           -0.6288467997888812,
           -9.853486928654291
          ],
          [
           -0.6747770414871523,
           -9.853372779970574
          ],
          [
           -0.7489016564099209,
           -9.853841788230552
          ],
          [
           -0.8391882806392916,
           -9.854065841952902
          ],
          [
           -0.9353384159562774,
           -9.85429332206404
          ],
          [
           -1.0046522749648654,
           -9.853890189479792
          ],
          [
           -1.01849109801312,
           -9.85385828263425
          ],
          [
           -0.9614274431675567,
           -9.854721791937775
          ],
          [
           -0.890547575812048,
           -9.854181727014337
          ],
          [
           -0.8204062812856578,
           -9.855527111194055
          ],
          [
           -0.7756887677945601,
           -9.855951812314649
          ],
          [
           -0.7513560204620527,
           -9.855969745334418
          ],
          [
           -0.7248041591855421,
           -9.85609879633157
          ],
          [
           -0.7204993620145969,
           -9.856167876955443
          ],
          [
           -0.7454083474453879,
           -9.855327312552102
          ],
          [
           -0.8149868943377587,
           -9.857030501172334
          ],
          [
           -0.9151062392524911,
           -9.857415736810752
          ],
          [
           -1.0079080707502652,
           -9.856856978109462
          ],
          [
           -1.1264365076281648,
           -9.855675559481474
          ],
          [
           -1.2108530123987695,
           -9.856125263338958
          ],
          [
           -1.2718824827889346,
           -9.855602816515722
          ],
          [
           -1.3477957137037548,
           -9.856157306268942
          ],
          [
           -1.434850366253537,
           -9.856211817363489
          ],
          [
           -1.5356910082144235,
           -9.857624823120133
          ],
          [
           -1.6317105106238814,
           -9.858781604632963
          ],
          [
           -1.7327023906211285,
           -9.859910374997536
          ],
          [
           -1.787769841915918,
           -9.861561114351149
          ],
          [
           -1.8375356492351491,
           -9.862339254872428
          ],
          [
           -1.9333315869656345,
           -9.863057689019131
          ],
          [
           -2.062593675079247,
           -9.864908799516673
          ],
          [
           -2.145240725994122,
           -9.865963045147465
          ],
          [
           -2.2282152470692327,
           -9.866830084332245
          ],
          [
           -2.3129716074434166,
           -9.868845251854875
          ],
          [
           -2.358815298962225,
           -9.869852593364824
          ],
          [
           -2.3874293779778584,
           -9.86968988691901
          ],
          [
           -2.4233645934482557,
           -9.870453853552231
          ],
          [
           -2.41903216614868,
           -9.871316067541507
          ],
          [
           -2.4415501357090466,
           -9.871969126553795
          ],
          [
           -2.4363897731240356,
           -9.872497692348754
          ],
          [
           -2.394555612291542,
           -9.871708809656765
          ],
          [
           -2.359766047731076,
           -9.870445761770087
          ],
          [
           -2.3189027380668614,
           -9.871346021944918
          ],
          [
           -2.280825064883235,
           -9.870364087048968
          ],
          [
           -2.285004851046172,
           -9.87129263933282
          ],
          [
           -2.2775194524817346,
           -9.8722125275749
          ],
          [
           -2.258573787713394,
           -9.873939545488783
          ],
          [
           -2.221898950655752,
           -9.87516151253874
          ],
          [
           -2.1960550434408432,
           -9.875818579985696
          ],
          [
           -2.170544126258394,
           -9.87518941316965
          ],
          [
           -2.1682479435229647,
           -9.875946330832763
          ],
          [
           -2.1775336377432324,
           -9.8768637550149
          ],
          [
           -2.174174422230187,
           -9.878093371779721
          ],
          [
           -2.178095263579443,
           -9.879007432798316
          ],
          [
           -2.2070141127304574,
           -9.87815034329888
          ],
          [
           -2.206501724727634,
           -9.878061389195462
          ],
          [
           -2.2169756655300854,
           -9.877076079812399
          ],
          [
           -2.256542359842872,
           -9.876569905290738
          ],
          [
           -2.303312254875065,
           -9.874347696535443
          ],
          [
           -2.338618194853728,
           -9.873481789929839
          ],
          [
           -2.3654277961433254,
           -9.872536014497658
          ],
          [
           -2.3903118773834624,
           -9.871288223105879
          ],
          [
           -2.3893046708566357,
           -9.871029537202489
          ],
          [
           -2.4038662197333203,
           -9.870122072681047
          ],
          [
           -2.4131811646346164,
           -9.869039098173614
          ],
          [
           -2.4561098590695605,
           -9.869785135491837
          ],
          [
           -2.4854435870390077,
           -9.869660541922684
          ]
         ],
         "hovertemplate": "%{x}<br>Covid Added: %{y}<br><br>Baseline=%{customdata[0]:.3f}<br />Covid Added=%{customdata[1]:.3f}<extra></extra>",
         "legendgroup": "Covid Added",
         "line": {
          "color": "#EF553B",
          "dash": "solid"
         },
         "name": "Covid Added",
         "showlegend": false,
         "type": "scatter",
         "x": [
          "2013-12-02T00:00:00",
          "2013-12-03T00:00:00",
          "2013-12-04T00:00:00",
          "2013-12-05T00:00:00",
          "2013-12-06T00:00:00",
          "2013-12-07T00:00:00",
          "2013-12-08T00:00:00",
          "2013-12-09T00:00:00",
          "2013-12-10T00:00:00",
          "2013-12-11T00:00:00",
          "2013-12-12T00:00:00",
          "2013-12-13T00:00:00",
          "2013-12-14T00:00:00",
          "2013-12-15T00:00:00",
          "2013-12-16T00:00:00",
          "2013-12-17T00:00:00",
          "2013-12-18T00:00:00",
          "2013-12-19T00:00:00",
          "2013-12-20T00:00:00",
          "2013-12-21T00:00:00",
          "2013-12-22T00:00:00",
          "2013-12-23T00:00:00",
          "2013-12-24T00:00:00",
          "2013-12-25T00:00:00",
          "2013-12-26T00:00:00",
          "2013-12-27T00:00:00",
          "2013-12-28T00:00:00",
          "2013-12-29T00:00:00",
          "2013-12-30T00:00:00",
          "2013-12-31T00:00:00",
          "2014-01-01T00:00:00",
          "2014-01-02T00:00:00",
          "2014-01-03T00:00:00",
          "2014-01-04T00:00:00",
          "2014-01-05T00:00:00",
          "2014-01-06T00:00:00",
          "2014-01-07T00:00:00",
          "2014-01-08T00:00:00",
          "2014-01-09T00:00:00",
          "2014-01-10T00:00:00",
          "2014-01-11T00:00:00",
          "2014-01-12T00:00:00",
          "2014-01-13T00:00:00",
          "2014-01-14T00:00:00",
          "2014-01-15T00:00:00",
          "2014-01-16T00:00:00",
          "2014-01-17T00:00:00",
          "2014-01-18T00:00:00",
          "2014-01-19T00:00:00",
          "2014-01-20T00:00:00",
          "2014-01-21T00:00:00",
          "2014-01-22T00:00:00",
          "2014-01-23T00:00:00",
          "2014-01-24T00:00:00",
          "2014-01-25T00:00:00",
          "2014-01-26T00:00:00",
          "2014-01-27T00:00:00",
          "2014-01-28T00:00:00",
          "2014-01-29T00:00:00",
          "2014-01-30T00:00:00",
          "2014-01-31T00:00:00",
          "2014-02-01T00:00:00",
          "2014-02-02T00:00:00",
          "2014-02-03T00:00:00",
          "2014-02-04T00:00:00",
          "2014-02-05T00:00:00",
          "2014-02-06T00:00:00",
          "2014-02-07T00:00:00",
          "2014-02-08T00:00:00",
          "2014-02-09T00:00:00",
          "2014-02-10T00:00:00",
          "2014-02-11T00:00:00",
          "2014-02-12T00:00:00",
          "2014-02-13T00:00:00",
          "2014-02-14T00:00:00",
          "2014-02-15T00:00:00",
          "2014-02-16T00:00:00",
          "2014-02-17T00:00:00",
          "2014-02-18T00:00:00",
          "2014-02-19T00:00:00",
          "2014-02-20T00:00:00",
          "2014-02-21T00:00:00",
          "2014-02-22T00:00:00",
          "2014-02-23T00:00:00",
          "2014-02-24T00:00:00",
          "2014-02-25T00:00:00",
          "2014-02-26T00:00:00",
          "2014-02-27T00:00:00",
          "2014-02-28T00:00:00",
          "2014-03-01T00:00:00",
          "2014-03-02T00:00:00",
          "2014-03-03T00:00:00",
          "2014-03-04T00:00:00",
          "2014-03-05T00:00:00",
          "2014-03-06T00:00:00",
          "2014-03-07T00:00:00",
          "2014-03-08T00:00:00",
          "2014-03-09T00:00:00",
          "2014-03-10T00:00:00",
          "2014-03-11T00:00:00",
          "2014-03-12T00:00:00",
          "2014-03-13T00:00:00",
          "2014-03-14T00:00:00",
          "2014-03-15T00:00:00",
          "2014-03-16T00:00:00",
          "2014-03-17T00:00:00",
          "2014-03-18T00:00:00",
          "2014-03-19T00:00:00",
          "2014-03-20T00:00:00",
          "2014-03-21T00:00:00",
          "2014-03-22T00:00:00",
          "2014-03-23T00:00:00",
          "2014-03-24T00:00:00",
          "2014-03-25T00:00:00",
          "2014-03-26T00:00:00",
          "2014-03-27T00:00:00",
          "2014-03-28T00:00:00",
          "2014-03-29T00:00:00",
          "2014-03-30T00:00:00",
          "2014-03-31T00:00:00",
          "2014-04-01T00:00:00",
          "2014-04-02T00:00:00",
          "2014-04-03T00:00:00",
          "2014-04-04T00:00:00",
          "2014-04-05T00:00:00",
          "2014-04-06T00:00:00",
          "2014-04-07T00:00:00",
          "2014-04-08T00:00:00",
          "2014-04-09T00:00:00",
          "2014-04-10T00:00:00",
          "2014-04-11T00:00:00",
          "2014-04-12T00:00:00",
          "2014-04-13T00:00:00",
          "2014-04-14T00:00:00",
          "2014-04-15T00:00:00",
          "2014-04-16T00:00:00",
          "2014-04-17T00:00:00",
          "2014-04-18T00:00:00",
          "2014-04-19T00:00:00",
          "2014-04-20T00:00:00",
          "2014-04-21T00:00:00",
          "2014-04-22T00:00:00",
          "2014-04-23T00:00:00",
          "2014-04-24T00:00:00",
          "2014-04-25T00:00:00",
          "2014-04-26T00:00:00",
          "2014-04-27T00:00:00",
          "2014-04-28T00:00:00",
          "2014-04-29T00:00:00",
          "2014-04-30T00:00:00",
          "2014-05-01T00:00:00",
          "2014-05-02T00:00:00",
          "2014-05-03T00:00:00",
          "2014-05-04T00:00:00",
          "2014-05-05T00:00:00",
          "2014-05-06T00:00:00",
          "2014-05-07T00:00:00",
          "2014-05-08T00:00:00",
          "2014-05-09T00:00:00",
          "2014-05-10T00:00:00",
          "2014-05-11T00:00:00",
          "2014-05-12T00:00:00",
          "2014-05-13T00:00:00",
          "2014-05-14T00:00:00",
          "2014-05-15T00:00:00",
          "2014-05-16T00:00:00",
          "2014-05-17T00:00:00",
          "2014-05-18T00:00:00",
          "2014-05-19T00:00:00",
          "2014-05-20T00:00:00",
          "2014-05-21T00:00:00",
          "2014-05-22T00:00:00",
          "2014-05-23T00:00:00",
          "2014-05-24T00:00:00",
          "2014-05-25T00:00:00",
          "2014-05-26T00:00:00",
          "2014-05-27T00:00:00",
          "2014-05-28T00:00:00",
          "2014-05-29T00:00:00",
          "2014-05-30T00:00:00",
          "2014-05-31T00:00:00",
          "2014-06-01T00:00:00",
          "2014-06-02T00:00:00",
          "2014-06-03T00:00:00",
          "2014-06-04T00:00:00",
          "2014-06-05T00:00:00",
          "2014-06-06T00:00:00",
          "2014-06-07T00:00:00",
          "2014-06-08T00:00:00",
          "2014-06-09T00:00:00",
          "2014-06-10T00:00:00",
          "2014-06-11T00:00:00",
          "2014-06-12T00:00:00",
          "2014-06-13T00:00:00",
          "2014-06-14T00:00:00",
          "2014-06-15T00:00:00",
          "2014-06-16T00:00:00",
          "2014-06-17T00:00:00",
          "2014-06-18T00:00:00",
          "2014-06-19T00:00:00",
          "2014-06-20T00:00:00",
          "2014-06-21T00:00:00",
          "2014-06-22T00:00:00",
          "2014-06-23T00:00:00",
          "2014-06-24T00:00:00",
          "2014-06-25T00:00:00",
          "2014-06-26T00:00:00",
          "2014-06-27T00:00:00",
          "2014-06-28T00:00:00",
          "2014-06-29T00:00:00",
          "2014-06-30T00:00:00",
          "2014-07-01T00:00:00",
          "2014-07-02T00:00:00",
          "2014-07-03T00:00:00",
          "2014-07-04T00:00:00",
          "2014-07-05T00:00:00",
          "2014-07-06T00:00:00",
          "2014-07-07T00:00:00",
          "2014-07-08T00:00:00",
          "2014-07-09T00:00:00",
          "2014-07-10T00:00:00",
          "2014-07-11T00:00:00",
          "2014-07-12T00:00:00",
          "2014-07-13T00:00:00",
          "2014-07-14T00:00:00",
          "2014-07-15T00:00:00",
          "2014-07-16T00:00:00",
          "2014-07-17T00:00:00",
          "2014-07-18T00:00:00",
          "2014-07-19T00:00:00",
          "2014-07-20T00:00:00",
          "2014-07-21T00:00:00",
          "2014-07-22T00:00:00",
          "2014-07-23T00:00:00",
          "2014-07-24T00:00:00",
          "2014-07-25T00:00:00",
          "2014-07-26T00:00:00",
          "2014-07-27T00:00:00",
          "2014-07-28T00:00:00",
          "2014-07-29T00:00:00",
          "2014-07-30T00:00:00",
          "2014-07-31T00:00:00",
          "2014-08-01T00:00:00",
          "2014-08-02T00:00:00",
          "2014-08-03T00:00:00",
          "2014-08-04T00:00:00",
          "2014-08-05T00:00:00",
          "2014-08-06T00:00:00",
          "2014-08-07T00:00:00",
          "2014-08-08T00:00:00",
          "2014-08-09T00:00:00",
          "2014-08-10T00:00:00",
          "2014-08-11T00:00:00",
          "2014-08-12T00:00:00",
          "2014-08-13T00:00:00",
          "2014-08-14T00:00:00",
          "2014-08-15T00:00:00",
          "2014-08-16T00:00:00",
          "2014-08-17T00:00:00",
          "2014-08-18T00:00:00",
          "2014-08-19T00:00:00",
          "2014-08-20T00:00:00",
          "2014-08-21T00:00:00",
          "2014-08-22T00:00:00",
          "2014-08-23T00:00:00",
          "2014-08-24T00:00:00",
          "2014-08-25T00:00:00",
          "2014-08-26T00:00:00",
          "2014-08-27T00:00:00",
          "2014-08-28T00:00:00",
          "2014-08-29T00:00:00",
          "2014-08-30T00:00:00",
          "2014-08-31T00:00:00",
          "2014-09-01T00:00:00",
          "2014-09-02T00:00:00",
          "2014-09-03T00:00:00",
          "2014-09-04T00:00:00",
          "2014-09-05T00:00:00",
          "2014-09-06T00:00:00",
          "2014-09-07T00:00:00",
          "2014-09-08T00:00:00",
          "2014-09-09T00:00:00",
          "2014-09-10T00:00:00",
          "2014-09-11T00:00:00",
          "2014-09-12T00:00:00",
          "2014-09-13T00:00:00",
          "2014-09-14T00:00:00",
          "2014-09-15T00:00:00",
          "2014-09-16T00:00:00",
          "2014-09-17T00:00:00",
          "2014-09-18T00:00:00",
          "2014-09-19T00:00:00",
          "2014-09-20T00:00:00",
          "2014-09-21T00:00:00",
          "2014-09-22T00:00:00",
          "2014-09-23T00:00:00",
          "2014-09-24T00:00:00",
          "2014-09-25T00:00:00",
          "2014-09-26T00:00:00",
          "2014-09-27T00:00:00",
          "2014-09-28T00:00:00",
          "2014-09-29T00:00:00",
          "2014-09-30T00:00:00",
          "2014-10-01T00:00:00",
          "2014-10-02T00:00:00",
          "2014-10-03T00:00:00",
          "2014-10-04T00:00:00",
          "2014-10-05T00:00:00",
          "2014-10-06T00:00:00",
          "2014-10-07T00:00:00",
          "2014-10-08T00:00:00",
          "2014-10-09T00:00:00",
          "2014-10-10T00:00:00",
          "2014-10-11T00:00:00",
          "2014-10-12T00:00:00",
          "2014-10-13T00:00:00",
          "2014-10-14T00:00:00",
          "2014-10-15T00:00:00",
          "2014-10-16T00:00:00",
          "2014-10-17T00:00:00",
          "2014-10-18T00:00:00",
          "2014-10-19T00:00:00",
          "2014-10-20T00:00:00",
          "2014-10-21T00:00:00",
          "2014-10-22T00:00:00",
          "2014-10-23T00:00:00",
          "2014-10-24T00:00:00",
          "2014-10-25T00:00:00",
          "2014-10-26T00:00:00",
          "2014-10-27T00:00:00",
          "2014-10-28T00:00:00",
          "2014-10-29T00:00:00",
          "2014-10-30T00:00:00",
          "2014-10-31T00:00:00",
          "2014-11-01T00:00:00",
          "2014-11-02T00:00:00",
          "2014-11-03T00:00:00",
          "2014-11-04T00:00:00",
          "2014-11-05T00:00:00",
          "2014-11-06T00:00:00",
          "2014-11-07T00:00:00",
          "2014-11-08T00:00:00",
          "2014-11-09T00:00:00",
          "2014-11-10T00:00:00",
          "2014-11-11T00:00:00",
          "2014-11-12T00:00:00",
          "2014-11-13T00:00:00",
          "2014-11-14T00:00:00",
          "2014-11-15T00:00:00",
          "2014-11-16T00:00:00",
          "2014-11-17T00:00:00",
          "2014-11-18T00:00:00",
          "2014-11-19T00:00:00",
          "2014-11-20T00:00:00",
          "2014-11-21T00:00:00",
          "2014-11-22T00:00:00",
          "2014-11-23T00:00:00",
          "2014-11-24T00:00:00",
          "2014-11-25T00:00:00",
          "2014-11-26T00:00:00",
          "2014-11-27T00:00:00",
          "2014-11-28T00:00:00",
          "2014-11-29T00:00:00",
          "2014-11-30T00:00:00",
          "2014-12-01T00:00:00",
          "2014-12-02T00:00:00",
          "2014-12-03T00:00:00",
          "2014-12-04T00:00:00",
          "2014-12-05T00:00:00",
          "2014-12-06T00:00:00",
          "2014-12-07T00:00:00",
          "2014-12-08T00:00:00",
          "2014-12-09T00:00:00",
          "2014-12-10T00:00:00",
          "2014-12-11T00:00:00",
          "2014-12-12T00:00:00",
          "2014-12-13T00:00:00",
          "2014-12-14T00:00:00",
          "2014-12-15T00:00:00",
          "2014-12-16T00:00:00",
          "2014-12-17T00:00:00",
          "2014-12-18T00:00:00",
          "2014-12-19T00:00:00",
          "2014-12-20T00:00:00",
          "2014-12-21T00:00:00",
          "2014-12-22T00:00:00",
          "2014-12-23T00:00:00",
          "2014-12-24T00:00:00",
          "2014-12-25T00:00:00",
          "2014-12-26T00:00:00",
          "2014-12-27T00:00:00",
          "2014-12-28T00:00:00",
          "2014-12-29T00:00:00",
          "2014-12-30T00:00:00",
          "2014-12-31T00:00:00",
          "2015-01-01T00:00:00",
          "2015-01-02T00:00:00",
          "2015-01-03T00:00:00",
          "2015-01-04T00:00:00",
          "2015-01-05T00:00:00",
          "2015-01-06T00:00:00",
          "2015-01-07T00:00:00",
          "2015-01-08T00:00:00",
          "2015-01-09T00:00:00",
          "2015-01-10T00:00:00",
          "2015-01-11T00:00:00",
          "2015-01-12T00:00:00",
          "2015-01-13T00:00:00",
          "2015-01-14T00:00:00",
          "2015-01-15T00:00:00",
          "2015-01-16T00:00:00",
          "2015-01-17T00:00:00",
          "2015-01-18T00:00:00",
          "2015-01-19T00:00:00",
          "2015-01-20T00:00:00",
          "2015-01-21T00:00:00",
          "2015-01-22T00:00:00",
          "2015-01-23T00:00:00",
          "2015-01-24T00:00:00",
          "2015-01-25T00:00:00",
          "2015-01-26T00:00:00",
          "2015-01-27T00:00:00",
          "2015-01-28T00:00:00",
          "2015-01-29T00:00:00",
          "2015-01-30T00:00:00",
          "2015-01-31T00:00:00"
         ],
         "xaxis": "x2",
         "y": [
          0.5121735747401063,
          0.5843646978192959,
          0.6115142799132455,
          0.6314136877799248,
          0.6236705967066222,
          0.6067692943860036,
          0.5957209021937973,
          0.5797897217012364,
          0.5702312328489972,
          0.5540549164912988,
          0.5447641544578801,
          0.54958749286728,
          0.5405105098614943,
          0.528195549322581,
          0.47779079424864773,
          0.4418001615496411,
          0.4552541188812862,
          0.448614746099886,
          0.4433903756370296,
          0.4206819218567234,
          0.39502494589918724,
          0.3739540211392372,
          0.3682996191598814,
          0.34733412955133935,
          0.34901360642089224,
          0.34750412383717855,
          0.31915292351889907,
          0.30591430513622836,
          0.294858457874632,
          0.2844490757833495,
          0.27805192114902105,
          0.2557000726880164,
          0.21767168860516217,
          0.17605974317309053,
          0.10042295515875091,
          0.044382682685554856,
          0.009190837017029935,
          -0.005448902636931939,
          0.009194223031792983,
          0.008337725107284807,
          0.01577280749109876,
          0.0033770017152053135,
          -0.011861433224124416,
          -0.021257283044224074,
          -0.011142869820935248,
          -0.01344724398678552,
          -0.057619589831284894,
          -0.11975908240455985,
          -0.22634549033174248,
          -0.35174920527707965,
          -0.4467992962011293,
          -0.5290289346264482,
          -0.6560447516711911,
          -0.7443798723896614,
          -0.8069652730529372,
          -0.9456939046009721,
          null,
          null,
          null,
          null,
          null,
          null,
          null,
          null,
          null,
          null,
          null,
          null,
          null,
          null,
          null,
          null,
          -1.6452709032658495,
          -1.254577889163559,
          -1.028411130354718,
          -0.8974740235735617,
          -0.8102876627338266,
          -0.6336111724294592,
          -0.47576243763293125,
          -0.32232309001171855,
          -0.22712477777009757,
          -0.1300581478150838,
          -0.05818539138139518,
          -0.013468033633817962,
          0.024946780000672932,
          0.05230116131897244,
          0.07188308933164678,
          0.10287809453737848,
          0.12225211467629842,
          0.14569200655096654,
          0.16020096845775247,
          0.17738245109820264,
          0.1984540029789115,
          0.21708191614427055,
          0.2500151275957498,
          0.26881925999015593,
          0.27669586993084316,
          0.28220349873856626,
          0.2886323131459903,
          0.29745944991156426,
          0.3135747425102706,
          0.32483924688726873,
          0.3511338724117182,
          0.36866187853653576,
          0.35922951050504764,
          0.33451725085276857,
          0.3066967772616785,
          0.28947867320674203,
          0.23075978351488838,
          0.1888815087543661,
          0.10689287363141942,
          0.013460069822199024,
          -0.022185782375270118,
          -0.02564353623250523,
          -0.01886260654416714,
          0.013159037315495396,
          0.04939574210050347,
          0.07390727429071565,
          0.08021724716547139,
          0.09191615679448698,
          0.11165785062619203,
          0.13389295252242867,
          0.16634518712626528,
          0.19049462695834807,
          0.19818464214131534,
          0.18696987385521935,
          0.15989073326649303,
          0.14636940898036369,
          0.16097411405662773,
          0.13962552278188517,
          0.11577130226198724,
          0.04734947187299481,
          0.0013590088885437187,
          -0.023437269646877534,
          -0.006886713070165678,
          0.01269510738857857,
          0.016859830680422166,
          -0.00705632806725264,
          -0.03278860334576277,
          -0.04532012721801213,
          -0.09931927680118571,
          -0.1164608472454576,
          -0.1307354452097761,
          -0.16545735520265234,
          -0.19568290553194845,
          -0.2349343466938383,
          -0.27229386125493565,
          -0.2694152548418492,
          -0.2240207669228507,
          -0.16568235222218466,
          -0.1169784663805264,
          -0.09505218283716126,
          -0.07110575729094201,
          -0.06481497815133892,
          -0.02334228970525068,
          0.0226223235318678,
          0.07141693449948806,
          0.12786578524765377,
          0.16822451717945178,
          0.1926330109862041,
          0.21211769281450402,
          0.22999480330720848,
          0.25026821898687857,
          0.254255870293822,
          0.2566336187493277,
          0.23886005486841613,
          0.19505107090840723,
          0.14719314369957182,
          0.10786822032764279,
          0.08068471423907927,
          0.07365473154759651,
          0.0648839711031983,
          0.06050179831711244,
          0.05834216067581688,
          0.043362195270887256,
          -0.00857114029187725,
          -0.028837091477083143,
          -0.029587041594621923,
          -0.04687582181801526,
          -0.07901063264776846,
          -0.14092939798560808,
          -0.23194265463070549,
          -1.7160844430134101,
          -3.2361664286330485,
          -4.57832976673773,
          -5.721420025591861,
          -6.641999405559654,
          -7.346798387347108,
          -7.897783988212246,
          -8.330283515610946,
          -8.663046742911886,
          -8.917433429902319,
          -9.117540755634025,
          -9.27695992355975,
          -9.39820590761517,
          -9.490582262071928,
          -9.563796725439786,
          -9.620126990163937,
          -9.663823888529244,
          -9.699418037817441,
          -9.728830807157902,
          -9.751640327251518,
          -9.76897264467596,
          -9.784212060634824,
          -9.796598669790104,
          -9.805610820269418,
          -9.816434028112928,
          -9.826235805085384,
          -9.835492834569896,
          -9.844437311946388,
          -9.853913786173424,
          -9.861908596703945,
          -9.867480045465587,
          -9.870474225991629,
          -9.872738270767433,
          -9.875552003852325,
          -9.876972581031554,
          -9.877548700522977,
          -9.878073360129553,
          -9.879791460386562,
          -9.881002106449587,
          -9.882549925043167,
          -9.88521017383814,
          -9.886025268417454,
          -9.887185677082346,
          -9.887368016679192,
          -9.887993465321616,
          -9.889353976762322,
          -9.888473842498707,
          -9.888326458684057,
          -9.889100383744315,
          -9.889089371694952,
          -9.888758300493423,
          -9.888148255250579,
          -9.887318332530027,
          -9.88730361518738,
          -9.886484975208793,
          -9.887584050956603,
          -9.88806142239205,
          -9.8874813609777,
          -9.887965630451111,
          -9.888010322627368,
          -9.888661375729804,
          -9.887836343589695,
          -9.888886208301198,
          -9.889372728637587,
          -9.888081017672231,
          -9.88863102377829,
          -9.888834919503688,
          -9.888458885356533,
          -9.888698396258714,
          -9.888161431172254,
          -9.887908817747817,
          -9.88703336637389,
          -9.887249358037726,
          -9.88671537940524,
          -9.886946046387646,
          -9.887700914544345,
          -9.88781816671217,
          -9.88838910580519,
          -9.888132968070794,
          -9.888155714883935,
          -9.889230555136733,
          -9.890050422117417,
          -9.89137769530369,
          -9.892765407949907,
          -9.894457436624355,
          -9.895078286798805,
          -9.895507603932716,
          -9.894426080525376,
          -9.892980225834119,
          -9.89189523995056,
          -9.89023472002742,
          -9.888247332946824,
          -9.886150475584735,
          -9.884873420825196,
          -9.884156782546997,
          -9.883336839571088,
          -9.88222992547427,
          -9.881711614705722,
          -9.880188267052045,
          -9.880298968732388,
          -9.88043161101019,
          -9.881077113276065,
          -9.882068725463624,
          -9.883292017166076,
          -9.883193724804881,
          -9.881885653725242,
          -9.880829235389799,
          -9.878761151990059,
          -9.877554495289631,
          -9.876100135218552,
          -9.874204349989055,
          -9.872832876354481,
          -9.87143759774898,
          -9.869498826681651,
          -9.868303501235902,
          -9.866710017109824,
          -9.865047222260051,
          -9.863434996839908,
          -9.861148393626491,
          -9.85995502766395,
          -9.85963485595621,
          -9.861013447113391,
          -9.859561788341415,
          -9.85910986282161,
          -9.857633796237808,
          -9.85858373460235,
          -9.858296518383831,
          -9.857759330038283,
          -9.857663674601094,
          -9.855437001576972,
          -9.853261400563202,
          -9.851264059808438,
          -9.848550492309199,
          -9.845935291991388,
          -9.844592240252839,
          -9.843118736310466,
          -9.842454074574837,
          -9.842609428934344,
          -9.842847193877416,
          -9.84477795500665,
          -9.845218016091376,
          -9.845922772220343,
          -9.847480171273732,
          -9.847748712532388,
          -9.847584894504982,
          -9.846394421185058,
          -9.846681628370694,
          -9.846820822973616,
          -9.846799520880177,
          -9.846329866633065,
          -9.845684909122959,
          -9.845471166741353,
          -9.844914866528528,
          -9.844990713640131,
          -9.84451515764372,
          -9.845888529344384,
          -9.845175223069944,
          -9.846763337816292,
          -9.848817621660814,
          -9.850005010108147,
          -9.850413914056611,
          -9.850152349223682,
          -9.85007571235189,
          -9.850517281384187,
          -9.850340330651685,
          -9.851523343404871,
          -9.853731635427858,
          -9.855181821398524,
          -9.853962136927755,
          -9.852591775039654,
          -9.85275658886903,
          -9.851401307406514,
          -9.850408635587133,
          -9.849572278029477,
          -9.84875360779321,
          -9.849705840579778,
          -9.851712489293941,
          -9.8524121044181,
          -9.853486928654291,
          -9.853372779970574,
          -9.853841788230552,
          -9.854065841952902,
          -9.85429332206404,
          -9.853890189479792,
          -9.85385828263425,
          -9.854721791937775,
          -9.854181727014337,
          -9.855527111194055,
          -9.855951812314649,
          -9.855969745334418,
          -9.85609879633157,
          -9.856167876955443,
          -9.855327312552102,
          -9.857030501172334,
          -9.857415736810752,
          -9.856856978109462,
          -9.855675559481474,
          -9.856125263338958,
          -9.855602816515722,
          -9.856157306268942,
          -9.856211817363489,
          -9.857624823120133,
          -9.858781604632963,
          -9.859910374997536,
          -9.861561114351149,
          -9.862339254872428,
          -9.863057689019131,
          -9.864908799516673,
          -9.865963045147465,
          -9.866830084332245,
          -9.868845251854875,
          -9.869852593364824,
          -9.86968988691901,
          -9.870453853552231,
          -9.871316067541507,
          -9.871969126553795,
          -9.872497692348754,
          -9.871708809656765,
          -9.870445761770087,
          -9.871346021944918,
          -9.870364087048968,
          -9.87129263933282,
          -9.8722125275749,
          -9.873939545488783,
          -9.87516151253874,
          -9.875818579985696,
          -9.87518941316965,
          -9.875946330832763,
          -9.8768637550149,
          -9.878093371779721,
          -9.879007432798316,
          -9.87815034329888,
          -9.878061389195462,
          -9.877076079812399,
          -9.876569905290738,
          -9.874347696535443,
          -9.873481789929839,
          -9.872536014497658,
          -9.871288223105879,
          -9.871029537202489,
          -9.870122072681047,
          -9.869039098173614,
          -9.869785135491837,
          -9.869660541922684
         ],
         "yaxis": "y2"
        },
        {
         "connectgaps": false,
         "hoverinfo": "skip",
         "legendgroup": "Baseline",
         "line": {
          "width": 0
         },
         "name": "Baseline",
         "showlegend": false,
         "type": "scatter",
         "x": [
          "2013-12-02T00:00:00",
          "2013-12-03T00:00:00",
          "2013-12-04T00:00:00",
          "2013-12-05T00:00:00",
          "2013-12-06T00:00:00",
          "2013-12-07T00:00:00",
          "2013-12-08T00:00:00",
          "2013-12-09T00:00:00",
          "2013-12-10T00:00:00",
          "2013-12-11T00:00:00",
          "2013-12-12T00:00:00",
          "2013-12-13T00:00:00",
          "2013-12-14T00:00:00",
          "2013-12-15T00:00:00",
          "2013-12-16T00:00:00",
          "2013-12-17T00:00:00",
          "2013-12-18T00:00:00",
          "2013-12-19T00:00:00",
          "2013-12-20T00:00:00",
          "2013-12-21T00:00:00",
          "2013-12-22T00:00:00",
          "2013-12-23T00:00:00",
          "2013-12-24T00:00:00",
          "2013-12-25T00:00:00",
          "2013-12-26T00:00:00",
          "2013-12-27T00:00:00",
          "2013-12-28T00:00:00",
          "2013-12-29T00:00:00",
          "2013-12-30T00:00:00",
          "2013-12-31T00:00:00",
          "2014-01-01T00:00:00",
          "2014-01-02T00:00:00",
          "2014-01-03T00:00:00",
          "2014-01-04T00:00:00",
          "2014-01-05T00:00:00",
          "2014-01-06T00:00:00",
          "2014-01-07T00:00:00",
          "2014-01-08T00:00:00",
          "2014-01-09T00:00:00",
          "2014-01-10T00:00:00",
          "2014-01-11T00:00:00",
          "2014-01-12T00:00:00",
          "2014-01-13T00:00:00",
          "2014-01-14T00:00:00",
          "2014-01-15T00:00:00",
          "2014-01-16T00:00:00",
          "2014-01-17T00:00:00",
          "2014-01-18T00:00:00",
          "2014-01-19T00:00:00",
          "2014-01-20T00:00:00",
          "2014-01-21T00:00:00",
          "2014-01-22T00:00:00",
          "2014-01-23T00:00:00",
          "2014-01-24T00:00:00",
          "2014-01-25T00:00:00",
          "2014-01-26T00:00:00",
          "2014-02-12T00:00:00",
          "2014-02-13T00:00:00",
          "2014-02-14T00:00:00",
          "2014-02-15T00:00:00",
          "2014-02-16T00:00:00",
          "2014-02-17T00:00:00",
          "2014-02-18T00:00:00",
          "2014-02-19T00:00:00",
          "2014-02-20T00:00:00",
          "2014-02-21T00:00:00",
          "2014-02-22T00:00:00",
          "2014-02-23T00:00:00",
          "2014-02-24T00:00:00",
          "2014-02-25T00:00:00",
          "2014-02-26T00:00:00",
          "2014-02-27T00:00:00",
          "2014-02-28T00:00:00",
          "2014-03-01T00:00:00",
          "2014-03-02T00:00:00",
          "2014-03-03T00:00:00",
          "2014-03-04T00:00:00",
          "2014-03-05T00:00:00",
          "2014-03-06T00:00:00",
          "2014-03-07T00:00:00",
          "2014-03-08T00:00:00",
          "2014-03-09T00:00:00",
          "2014-03-10T00:00:00",
          "2014-03-11T00:00:00",
          "2014-03-12T00:00:00",
          "2014-03-13T00:00:00",
          "2014-03-14T00:00:00",
          "2014-03-15T00:00:00",
          "2014-03-16T00:00:00",
          "2014-03-17T00:00:00",
          "2014-03-18T00:00:00",
          "2014-03-19T00:00:00",
          "2014-03-20T00:00:00",
          "2014-03-21T00:00:00",
          "2014-03-22T00:00:00",
          "2014-03-23T00:00:00",
          "2014-03-24T00:00:00",
          "2014-03-25T00:00:00",
          "2014-03-26T00:00:00",
          "2014-03-27T00:00:00",
          "2014-03-28T00:00:00",
          "2014-03-29T00:00:00",
          "2014-03-30T00:00:00",
          "2014-03-31T00:00:00",
          "2014-04-01T00:00:00",
          "2014-04-02T00:00:00",
          "2014-04-03T00:00:00",
          "2014-04-04T00:00:00",
          "2014-04-05T00:00:00",
          "2014-04-06T00:00:00",
          "2014-04-07T00:00:00",
          "2014-04-08T00:00:00",
          "2014-04-09T00:00:00",
          "2014-04-10T00:00:00",
          "2014-04-11T00:00:00",
          "2014-04-12T00:00:00",
          "2014-04-13T00:00:00",
          "2014-04-14T00:00:00",
          "2014-04-15T00:00:00",
          "2014-04-16T00:00:00",
          "2014-04-17T00:00:00",
          "2014-04-18T00:00:00",
          "2014-04-19T00:00:00",
          "2014-04-20T00:00:00",
          "2014-04-21T00:00:00",
          "2014-04-22T00:00:00",
          "2014-04-23T00:00:00",
          "2014-04-24T00:00:00",
          "2014-04-25T00:00:00",
          "2014-04-26T00:00:00",
          "2014-04-27T00:00:00",
          "2014-04-28T00:00:00",
          "2014-04-29T00:00:00",
          "2014-04-30T00:00:00",
          "2014-05-01T00:00:00",
          "2014-05-02T00:00:00",
          "2014-05-03T00:00:00",
          "2014-05-04T00:00:00",
          "2014-05-05T00:00:00",
          "2014-05-06T00:00:00",
          "2014-05-07T00:00:00",
          "2014-05-08T00:00:00",
          "2014-05-09T00:00:00",
          "2014-05-10T00:00:00",
          "2014-05-11T00:00:00",
          "2014-05-12T00:00:00",
          "2014-05-13T00:00:00",
          "2014-05-14T00:00:00",
          "2014-05-15T00:00:00",
          "2014-05-16T00:00:00",
          "2014-05-17T00:00:00",
          "2014-05-18T00:00:00",
          "2014-05-19T00:00:00",
          "2014-05-20T00:00:00",
          "2014-05-21T00:00:00",
          "2014-05-22T00:00:00",
          "2014-05-23T00:00:00",
          "2014-05-24T00:00:00",
          "2014-05-25T00:00:00",
          "2014-05-26T00:00:00",
          "2014-05-27T00:00:00",
          "2014-05-28T00:00:00",
          "2014-05-29T00:00:00",
          "2014-05-30T00:00:00",
          "2014-05-31T00:00:00",
          "2014-06-01T00:00:00",
          "2014-06-02T00:00:00",
          "2014-06-03T00:00:00",
          "2014-06-04T00:00:00",
          "2014-06-05T00:00:00",
          "2014-06-06T00:00:00",
          "2014-06-07T00:00:00",
          "2014-06-08T00:00:00",
          "2014-06-09T00:00:00",
          "2014-06-10T00:00:00",
          "2014-06-11T00:00:00",
          "2014-06-12T00:00:00",
          "2014-06-13T00:00:00",
          "2014-06-14T00:00:00",
          "2014-06-15T00:00:00",
          "2014-06-16T00:00:00",
          "2014-06-17T00:00:00",
          "2014-06-18T00:00:00",
          "2014-06-19T00:00:00",
          "2014-06-20T00:00:00",
          "2014-06-21T00:00:00",
          "2014-06-22T00:00:00",
          "2014-06-23T00:00:00",
          "2014-06-24T00:00:00",
          "2014-06-25T00:00:00",
          "2014-06-26T00:00:00",
          "2014-06-27T00:00:00",
          "2014-06-28T00:00:00",
          "2014-06-29T00:00:00",
          "2014-06-30T00:00:00",
          "2014-07-01T00:00:00",
          "2014-07-02T00:00:00",
          "2014-07-03T00:00:00",
          "2014-07-04T00:00:00",
          "2014-07-05T00:00:00",
          "2014-07-06T00:00:00",
          "2014-07-07T00:00:00",
          "2014-07-08T00:00:00",
          "2014-07-09T00:00:00",
          "2014-07-10T00:00:00",
          "2014-07-11T00:00:00",
          "2014-07-12T00:00:00",
          "2014-07-13T00:00:00",
          "2014-07-14T00:00:00",
          "2014-07-15T00:00:00",
          "2014-07-16T00:00:00",
          "2014-07-17T00:00:00",
          "2014-07-18T00:00:00",
          "2014-07-19T00:00:00",
          "2014-07-20T00:00:00",
          "2014-07-21T00:00:00",
          "2014-07-22T00:00:00",
          "2014-07-23T00:00:00",
          "2014-07-24T00:00:00",
          "2014-07-25T00:00:00",
          "2014-07-26T00:00:00",
          "2014-07-27T00:00:00",
          "2014-07-28T00:00:00",
          "2014-07-29T00:00:00",
          "2014-07-30T00:00:00",
          "2014-07-31T00:00:00",
          "2014-08-01T00:00:00",
          "2014-08-02T00:00:00",
          "2014-08-03T00:00:00",
          "2014-08-04T00:00:00",
          "2014-08-05T00:00:00",
          "2014-08-06T00:00:00",
          "2014-08-07T00:00:00",
          "2014-08-08T00:00:00",
          "2014-08-09T00:00:00",
          "2014-08-10T00:00:00",
          "2014-08-11T00:00:00",
          "2014-08-12T00:00:00",
          "2014-08-13T00:00:00",
          "2014-08-14T00:00:00",
          "2014-08-15T00:00:00",
          "2014-08-16T00:00:00",
          "2014-08-17T00:00:00",
          "2014-08-18T00:00:00",
          "2014-08-19T00:00:00",
          "2014-08-20T00:00:00",
          "2014-08-21T00:00:00",
          "2014-08-22T00:00:00",
          "2014-08-23T00:00:00",
          "2014-08-24T00:00:00",
          "2014-08-25T00:00:00",
          "2014-08-26T00:00:00",
          "2014-08-27T00:00:00",
          "2014-08-28T00:00:00",
          "2014-08-29T00:00:00",
          "2014-08-30T00:00:00",
          "2014-08-31T00:00:00",
          "2014-09-01T00:00:00",
          "2014-09-02T00:00:00",
          "2014-09-03T00:00:00",
          "2014-09-04T00:00:00",
          "2014-09-05T00:00:00",
          "2014-09-06T00:00:00",
          "2014-09-07T00:00:00",
          "2014-09-08T00:00:00",
          "2014-09-09T00:00:00",
          "2014-09-10T00:00:00",
          "2014-09-11T00:00:00",
          "2014-09-12T00:00:00",
          "2014-09-13T00:00:00",
          "2014-09-14T00:00:00",
          "2014-09-15T00:00:00",
          "2014-09-16T00:00:00",
          "2014-09-17T00:00:00",
          "2014-09-18T00:00:00",
          "2014-09-19T00:00:00",
          "2014-09-20T00:00:00",
          "2014-09-21T00:00:00",
          "2014-09-22T00:00:00",
          "2014-09-23T00:00:00",
          "2014-09-24T00:00:00",
          "2014-09-25T00:00:00",
          "2014-09-26T00:00:00",
          "2014-09-27T00:00:00",
          "2014-09-28T00:00:00",
          "2014-09-29T00:00:00",
          "2014-09-30T00:00:00",
          "2014-10-01T00:00:00",
          "2014-10-02T00:00:00",
          "2014-10-03T00:00:00",
          "2014-10-04T00:00:00",
          "2014-10-05T00:00:00",
          "2014-10-06T00:00:00",
          "2014-10-07T00:00:00",
          "2014-10-08T00:00:00",
          "2014-10-09T00:00:00",
          "2014-10-10T00:00:00",
          "2014-10-11T00:00:00",
          "2014-10-12T00:00:00",
          "2014-10-13T00:00:00",
          "2014-10-14T00:00:00",
          "2014-10-15T00:00:00",
          "2014-10-16T00:00:00",
          "2014-10-17T00:00:00",
          "2014-10-18T00:00:00",
          "2014-10-19T00:00:00",
          "2014-10-20T00:00:00",
          "2014-10-21T00:00:00",
          "2014-10-22T00:00:00",
          "2014-10-23T00:00:00",
          "2014-10-24T00:00:00",
          "2014-10-25T00:00:00",
          "2014-10-26T00:00:00",
          "2014-10-27T00:00:00",
          "2014-10-28T00:00:00",
          "2014-10-29T00:00:00",
          "2014-10-30T00:00:00",
          "2014-10-31T00:00:00",
          "2014-11-01T00:00:00",
          "2014-11-02T00:00:00",
          "2014-11-03T00:00:00",
          "2014-11-04T00:00:00",
          "2014-11-05T00:00:00",
          "2014-11-06T00:00:00",
          "2014-11-07T00:00:00",
          "2014-11-08T00:00:00",
          "2014-11-09T00:00:00",
          "2014-11-10T00:00:00",
          "2014-11-11T00:00:00",
          "2014-11-12T00:00:00",
          "2014-11-13T00:00:00",
          "2014-11-14T00:00:00",
          "2014-11-15T00:00:00",
          "2014-11-16T00:00:00",
          "2014-11-17T00:00:00",
          "2014-11-18T00:00:00",
          "2014-11-19T00:00:00",
          "2014-11-20T00:00:00",
          "2014-11-21T00:00:00",
          "2014-11-22T00:00:00",
          "2014-11-23T00:00:00",
          "2014-11-24T00:00:00",
          "2014-11-25T00:00:00",
          "2014-11-26T00:00:00",
          "2014-11-27T00:00:00",
          "2014-11-28T00:00:00",
          "2014-11-29T00:00:00",
          "2014-11-30T00:00:00",
          "2014-12-01T00:00:00",
          "2014-12-02T00:00:00",
          "2014-12-03T00:00:00",
          "2014-12-04T00:00:00",
          "2014-12-05T00:00:00",
          "2014-12-06T00:00:00",
          "2014-12-07T00:00:00",
          "2014-12-08T00:00:00",
          "2014-12-09T00:00:00",
          "2014-12-10T00:00:00",
          "2014-12-11T00:00:00",
          "2014-12-12T00:00:00",
          "2014-12-13T00:00:00",
          "2014-12-14T00:00:00",
          "2014-12-15T00:00:00",
          "2014-12-16T00:00:00",
          "2014-12-17T00:00:00",
          "2014-12-18T00:00:00",
          "2014-12-19T00:00:00",
          "2014-12-20T00:00:00",
          "2014-12-21T00:00:00",
          "2014-12-22T00:00:00",
          "2014-12-23T00:00:00",
          "2014-12-24T00:00:00",
          "2014-12-25T00:00:00",
          "2014-12-26T00:00:00",
          "2014-12-27T00:00:00",
          "2014-12-28T00:00:00",
          "2014-12-29T00:00:00",
          "2014-12-30T00:00:00",
          "2014-12-31T00:00:00",
          "2015-01-01T00:00:00",
          "2015-01-02T00:00:00",
          "2015-01-03T00:00:00",
          "2015-01-04T00:00:00",
          "2015-01-05T00:00:00",
          "2015-01-06T00:00:00",
          "2015-01-07T00:00:00",
          "2015-01-08T00:00:00",
          "2015-01-09T00:00:00",
          "2015-01-10T00:00:00",
          "2015-01-11T00:00:00",
          "2015-01-12T00:00:00",
          "2015-01-13T00:00:00",
          "2015-01-14T00:00:00",
          "2015-01-15T00:00:00",
          "2015-01-16T00:00:00",
          "2015-01-17T00:00:00",
          "2015-01-18T00:00:00",
          "2015-01-19T00:00:00",
          "2015-01-20T00:00:00",
          "2015-01-21T00:00:00",
          "2015-01-22T00:00:00",
          "2015-01-23T00:00:00",
          "2015-01-24T00:00:00",
          "2015-01-25T00:00:00",
          "2015-01-26T00:00:00",
          "2015-01-27T00:00:00",
          "2015-01-28T00:00:00",
          "2015-01-29T00:00:00",
          "2015-01-30T00:00:00",
          "2015-01-31T00:00:00"
         ],
         "xaxis": "x",
         "y": [
          0.9362370915296394,
          0.9351933347362779,
          0.9312478947066805,
          0.9307573912351083,
          0.9287123697015192,
          0.9287318286130555,
          0.928672194298394,
          0.9286333618628286,
          0.927626812665763,
          0.9276739378259671,
          0.9272609280899133,
          0.9267196917736698,
          0.9250107654752341,
          0.9238529711649098,
          0.9245373917885927,
          0.9233986011482129,
          0.9233283511626804,
          0.9226885359383094,
          0.9227911875823003,
          0.9221833041311853,
          0.9212884367320641,
          0.9215521029634814,
          0.92116583441889,
          0.92068522691956,
          0.9188022448483327,
          0.9193902401120875,
          0.9193812359820616,
          0.9186839102010859,
          0.9204606204848487,
          0.922188764756931,
          0.9220452293336953,
          0.9240671144179106,
          0.9252139719861512,
          0.9274011312064654,
          0.9280745380741552,
          0.9294312939475746,
          0.9300242718813361,
          0.9297368972363302,
          0.9282568606044446,
          0.9273211588788716,
          0.9269919080735453,
          0.9234721426613873,
          0.9211415536413553,
          0.9192702207336592,
          0.9177602343694077,
          0.9148311479834902,
          0.9162073732400786,
          0.9141498834955488,
          0.9131989374029568,
          0.9109635076365986,
          0.9082511655813371,
          0.9044279506483711,
          0.9080389715042712,
          0.9103490991532748,
          0.9122945582840746,
          0.9102187421017182,
          0.9150928327745602,
          0.9251514916420323,
          0.9262894229369184,
          0.9282690670668159,
          0.9298355008097923,
          0.9237781487708561,
          0.9183797970036727,
          0.9134839906887714,
          0.9109228764410011,
          0.912500817643694,
          0.9119556708273764,
          0.9121893770162252,
          0.9113640092169913,
          0.911297846521225,
          0.9120441899267365,
          0.9132641571020169,
          0.9130769887071596,
          0.9137206878400954,
          0.913400010214735,
          0.913852312604353,
          0.9152455125339689,
          0.91651938747633,
          0.9157384593229323,
          0.9164182069516529,
          0.9186476249094552,
          0.9186643755949547,
          0.9204068467231774,
          0.9205845121532457,
          0.9212640326420974,
          0.9213870106944981,
          0.9208987530337213,
          0.9221062962894273,
          0.9221873421705095,
          0.9234010947137131,
          0.9237560158617452,
          0.9248088650845293,
          0.9293458849833055,
          0.9330971938691478,
          0.938975923902477,
          0.9421085870702925,
          0.943368448319716,
          0.944025386107273,
          0.9445421286987769,
          0.9438980864474532,
          0.9447904948801532,
          0.9444485237016552,
          0.9434039357784,
          0.9423188597539081,
          0.9408038707823417,
          0.939447212220868,
          0.9385676275350477,
          0.9380658163913848,
          0.9375166852651314,
          0.9373253199896114,
          0.9355600874838531,
          0.9348917432085934,
          0.9339464023306956,
          0.9338038331521644,
          0.9342374661269894,
          0.9318147647069327,
          0.9313111584728877,
          0.9307508519038956,
          0.9306568141449583,
          0.9290178592225772,
          0.9209847412186659,
          0.9156281319171193,
          0.9115284906758536,
          0.9070616291450154,
          0.903214683103224,
          0.9047928278712012,
          0.9056790399035637,
          0.9058976637073061,
          0.9072803342961259,
          0.9083905919366813,
          0.9090317747240797,
          0.9079665471399121,
          0.9078430531982423,
          0.9059802588833267,
          0.9067701615953511,
          0.906429613416104,
          0.9067484092457424,
          0.9050986473216786,
          0.9029090710319341,
          0.9031969918808811,
          0.9002304836380179,
          0.9017786615388046,
          0.9018869258531523,
          0.9013790788711845,
          0.9015250025899684,
          0.9012712934647036,
          0.9010171988605489,
          0.8992905725391385,
          0.900203295260949,
          0.902642565838485,
          0.9027597654659208,
          0.9056242648904019,
          0.9079544246208886,
          0.9081236939862263,
          0.9106456501252653,
          0.9124341463627093,
          0.9123648123446683,
          0.9120562626487417,
          0.9116543230224383,
          0.9115356959030191,
          0.9102849122473321,
          0.9096817439326854,
          0.9107378252645237,
          0.9123312475549227,
          0.9139503159220879,
          0.9167585613846492,
          0.9171922875867099,
          0.9178484524867417,
          0.9190824473884703,
          0.9212609128177115,
          0.9234072733719284,
          0.9262874165967009,
          0.9257296775913214,
          0.9251411817903344,
          0.9264622462966298,
          0.9270702611254535,
          0.9258160925270067,
          0.9271372405597502,
          0.9302504550822575,
          0.9309760357928362,
          0.9316483854951282,
          0.9324818039906577,
          0.9327184756897033,
          0.9327151313925302,
          0.932486616101222,
          0.932581501992761,
          0.9322172478529589,
          0.9341721331198045,
          0.9351649082708187,
          0.9358712606984934,
          0.9370353036230257,
          0.9393490427696819,
          0.9390114509023865,
          0.9400967381912844,
          0.9399886443486503,
          0.9404839646961233,
          0.9415921826475833,
          0.9424994749086097,
          0.9435209561928448,
          0.9444830226917713,
          0.9460623592018966,
          0.9457480066722621,
          0.944437558864317,
          0.9432497670176995,
          0.9415682817529379,
          0.9398350893318483,
          0.9375072160448988,
          0.9362793840442982,
          0.9350677317468687,
          0.9351145645487445,
          0.9345184981141957,
          0.9321486401918564,
          0.9314238816440021,
          0.9316005869056645,
          0.9320938555722397,
          0.932834964919103,
          0.9346089391061778,
          0.9357535738453869,
          0.9354046724379558,
          0.9354805344064965,
          0.9355708701632356,
          0.9363262498063397,
          0.9346527343124539,
          0.9339740186234164,
          0.9325019810191439,
          0.9305740515956857,
          0.9281041465434324,
          0.9253425567604799,
          0.9220528926459538,
          0.9197437354599968,
          0.9201265303529583,
          0.9191072935852845,
          0.9187443448986619,
          0.9193495764652113,
          0.9183684913914828,
          0.9210679800558397,
          0.9226318603205815,
          0.9240487823452596,
          0.9251490592866034,
          0.9258754449591393,
          0.9264175561087744,
          0.9268929600777477,
          0.9272186304043963,
          0.9278800278333303,
          0.92726231985946,
          0.9272023177864086,
          0.9259982620461855,
          0.9224058904151667,
          0.9215061539295445,
          0.9213405289877452,
          0.9202637064604062,
          0.9197987313904374,
          0.9205653342583833,
          0.9227565475027996,
          0.9232539937739307,
          0.9263568560683408,
          0.9276256329332062,
          0.9344811014153327,
          0.9371312516060566,
          0.9394892235004328,
          0.9419390600525133,
          0.9416588421181495,
          0.9405220762795827,
          0.9400204500279978,
          0.9403967461866122,
          0.9415148589516482,
          0.9414173020063058,
          0.9432666223297554,
          0.9428691355356964,
          0.942778573534415,
          0.9423742583157335,
          0.9421035210144588,
          0.9429105115122743,
          0.9420690029926286,
          0.940315965971747,
          0.9397315047641313,
          0.9405382672119746,
          0.9394023833354436,
          0.9440669242407395,
          0.948883206707883,
          0.9467390424078678,
          0.9434031509907064,
          0.940931953947995,
          0.9388668188451281,
          0.9373262233614656,
          0.9356451850168983,
          0.933943761901133,
          0.9327061674607896,
          0.9324752684123302,
          0.9349577451150581,
          0.9344594450961876,
          0.9359619547513394,
          0.9371762432301576,
          0.9379321099354501,
          0.9386461406577217,
          0.9372143296580093,
          0.9348758308369389,
          0.9361453673415479,
          0.9347317015168124,
          0.9335423177368176,
          0.9345187254336719,
          0.9347354498361561,
          0.9344114535424433,
          0.9340796809404253,
          0.9342807833845063,
          0.9341234815037384,
          0.9339467719625627,
          0.9344766962273471,
          0.9356923640636007,
          0.934741918206194,
          0.9357373077181292,
          0.9400825903103771,
          0.9447277271386628,
          0.9481456245135811,
          0.9478114141360521,
          0.9477005877561823,
          0.9469246383491992,
          0.9469045326699359,
          0.9473222478247494,
          0.9474825458689837,
          0.9469507119751965,
          0.946409914644172,
          0.9457446295069587,
          0.9439678553624342,
          0.9424880285292105,
          0.942148415670207,
          0.9417573330357263,
          0.9406207266882772,
          0.9409805467235024,
          0.9390642591013316,
          0.9391558504132116,
          0.9387870363280767,
          0.9396855016348157,
          0.9394773589535784,
          0.9394739870299114,
          0.9384833710032351,
          0.9376183947569057,
          0.9365163112268005,
          0.9368415258054877,
          0.9354028840069869,
          0.9333605748366234,
          0.9329640960175335,
          0.9322010273956886,
          0.9322414409437458,
          0.9300674906677713,
          0.931035757464886,
          0.9317417267930276,
          0.9330570283359123,
          0.9308646807073216,
          0.9311459307575813,
          0.9307780254350053,
          0.9314058038794935,
          0.9324023784198966,
          0.9337846582161217,
          0.9343936874629,
          0.9368322626361703,
          0.9382136794401994,
          0.9395152011194563,
          0.9420176649340631,
          0.9453011175297595,
          0.9470324346975179,
          0.9468454885018336,
          0.947465782775636,
          0.9469300186959055,
          0.9482021427382008,
          0.9473451848731788,
          0.9486104906807937,
          0.9486169273651596,
          0.9508065318643119,
          0.9504343694631983,
          0.9451792966108659,
          0.9411546659635206,
          0.9383381370524173,
          0.9356499936353084,
          0.9326507185793625,
          0.9328013810603555,
          0.9336865918038347,
          0.9353744052229103,
          0.9368455890548864,
          0.9374731120756349,
          0.9395529065801924,
          0.9400979363474634,
          0.9408941741730059,
          0.9397097007079693,
          0.9387693723303316,
          0.9400815911177187,
          0.9405790509402169,
          0.9401201731176748,
          0.9393824122176162,
          0.9386830964740105,
          0.9363115053870197,
          0.9346015282827651,
          0.934383641761615,
          0.9341410634495428,
          0.9325290606850174,
          0.9314531922063785,
          0.93238465801432,
          0.9321120017483857,
          0.9330982058906516,
          0.9323645169059898,
          0.9330981797604637,
          0.9369773383168122,
          0.9401190856081769,
          0.9413229437722254,
          0.9421856210641628,
          0.9442986030068738,
          0.9449199189825361,
          0.9427843140666852,
          0.9403954343026976,
          0.9393483994424306
         ],
         "yaxis": "y"
        },
        {
         "connectgaps": false,
         "fill": "tonexty",
         "fillcolor": "rgba(0.38823529411764707, 0.43137254901960786, 0.9803921568627451, 0.2)",
         "hoverinfo": "skip",
         "legendgroup": "Baseline",
         "line": {
          "width": 0
         },
         "name": "Baseline",
         "showlegend": false,
         "type": "scatter",
         "x": [
          "2013-12-02T00:00:00",
          "2013-12-03T00:00:00",
          "2013-12-04T00:00:00",
          "2013-12-05T00:00:00",
          "2013-12-06T00:00:00",
          "2013-12-07T00:00:00",
          "2013-12-08T00:00:00",
          "2013-12-09T00:00:00",
          "2013-12-10T00:00:00",
          "2013-12-11T00:00:00",
          "2013-12-12T00:00:00",
          "2013-12-13T00:00:00",
          "2013-12-14T00:00:00",
          "2013-12-15T00:00:00",
          "2013-12-16T00:00:00",
          "2013-12-17T00:00:00",
          "2013-12-18T00:00:00",
          "2013-12-19T00:00:00",
          "2013-12-20T00:00:00",
          "2013-12-21T00:00:00",
          "2013-12-22T00:00:00",
          "2013-12-23T00:00:00",
          "2013-12-24T00:00:00",
          "2013-12-25T00:00:00",
          "2013-12-26T00:00:00",
          "2013-12-27T00:00:00",
          "2013-12-28T00:00:00",
          "2013-12-29T00:00:00",
          "2013-12-30T00:00:00",
          "2013-12-31T00:00:00",
          "2014-01-01T00:00:00",
          "2014-01-02T00:00:00",
          "2014-01-03T00:00:00",
          "2014-01-04T00:00:00",
          "2014-01-05T00:00:00",
          "2014-01-06T00:00:00",
          "2014-01-07T00:00:00",
          "2014-01-08T00:00:00",
          "2014-01-09T00:00:00",
          "2014-01-10T00:00:00",
          "2014-01-11T00:00:00",
          "2014-01-12T00:00:00",
          "2014-01-13T00:00:00",
          "2014-01-14T00:00:00",
          "2014-01-15T00:00:00",
          "2014-01-16T00:00:00",
          "2014-01-17T00:00:00",
          "2014-01-18T00:00:00",
          "2014-01-19T00:00:00",
          "2014-01-20T00:00:00",
          "2014-01-21T00:00:00",
          "2014-01-22T00:00:00",
          "2014-01-23T00:00:00",
          "2014-01-24T00:00:00",
          "2014-01-25T00:00:00",
          "2014-01-26T00:00:00",
          "2014-02-12T00:00:00",
          "2014-02-13T00:00:00",
          "2014-02-14T00:00:00",
          "2014-02-15T00:00:00",
          "2014-02-16T00:00:00",
          "2014-02-17T00:00:00",
          "2014-02-18T00:00:00",
          "2014-02-19T00:00:00",
          "2014-02-20T00:00:00",
          "2014-02-21T00:00:00",
          "2014-02-22T00:00:00",
          "2014-02-23T00:00:00",
          "2014-02-24T00:00:00",
          "2014-02-25T00:00:00",
          "2014-02-26T00:00:00",
          "2014-02-27T00:00:00",
          "2014-02-28T00:00:00",
          "2014-03-01T00:00:00",
          "2014-03-02T00:00:00",
          "2014-03-03T00:00:00",
          "2014-03-04T00:00:00",
          "2014-03-05T00:00:00",
          "2014-03-06T00:00:00",
          "2014-03-07T00:00:00",
          "2014-03-08T00:00:00",
          "2014-03-09T00:00:00",
          "2014-03-10T00:00:00",
          "2014-03-11T00:00:00",
          "2014-03-12T00:00:00",
          "2014-03-13T00:00:00",
          "2014-03-14T00:00:00",
          "2014-03-15T00:00:00",
          "2014-03-16T00:00:00",
          "2014-03-17T00:00:00",
          "2014-03-18T00:00:00",
          "2014-03-19T00:00:00",
          "2014-03-20T00:00:00",
          "2014-03-21T00:00:00",
          "2014-03-22T00:00:00",
          "2014-03-23T00:00:00",
          "2014-03-24T00:00:00",
          "2014-03-25T00:00:00",
          "2014-03-26T00:00:00",
          "2014-03-27T00:00:00",
          "2014-03-28T00:00:00",
          "2014-03-29T00:00:00",
          "2014-03-30T00:00:00",
          "2014-03-31T00:00:00",
          "2014-04-01T00:00:00",
          "2014-04-02T00:00:00",
          "2014-04-03T00:00:00",
          "2014-04-04T00:00:00",
          "2014-04-05T00:00:00",
          "2014-04-06T00:00:00",
          "2014-04-07T00:00:00",
          "2014-04-08T00:00:00",
          "2014-04-09T00:00:00",
          "2014-04-10T00:00:00",
          "2014-04-11T00:00:00",
          "2014-04-12T00:00:00",
          "2014-04-13T00:00:00",
          "2014-04-14T00:00:00",
          "2014-04-15T00:00:00",
          "2014-04-16T00:00:00",
          "2014-04-17T00:00:00",
          "2014-04-18T00:00:00",
          "2014-04-19T00:00:00",
          "2014-04-20T00:00:00",
          "2014-04-21T00:00:00",
          "2014-04-22T00:00:00",
          "2014-04-23T00:00:00",
          "2014-04-24T00:00:00",
          "2014-04-25T00:00:00",
          "2014-04-26T00:00:00",
          "2014-04-27T00:00:00",
          "2014-04-28T00:00:00",
          "2014-04-29T00:00:00",
          "2014-04-30T00:00:00",
          "2014-05-01T00:00:00",
          "2014-05-02T00:00:00",
          "2014-05-03T00:00:00",
          "2014-05-04T00:00:00",
          "2014-05-05T00:00:00",
          "2014-05-06T00:00:00",
          "2014-05-07T00:00:00",
          "2014-05-08T00:00:00",
          "2014-05-09T00:00:00",
          "2014-05-10T00:00:00",
          "2014-05-11T00:00:00",
          "2014-05-12T00:00:00",
          "2014-05-13T00:00:00",
          "2014-05-14T00:00:00",
          "2014-05-15T00:00:00",
          "2014-05-16T00:00:00",
          "2014-05-17T00:00:00",
          "2014-05-18T00:00:00",
          "2014-05-19T00:00:00",
          "2014-05-20T00:00:00",
          "2014-05-21T00:00:00",
          "2014-05-22T00:00:00",
          "2014-05-23T00:00:00",
          "2014-05-24T00:00:00",
          "2014-05-25T00:00:00",
          "2014-05-26T00:00:00",
          "2014-05-27T00:00:00",
          "2014-05-28T00:00:00",
          "2014-05-29T00:00:00",
          "2014-05-30T00:00:00",
          "2014-05-31T00:00:00",
          "2014-06-01T00:00:00",
          "2014-06-02T00:00:00",
          "2014-06-03T00:00:00",
          "2014-06-04T00:00:00",
          "2014-06-05T00:00:00",
          "2014-06-06T00:00:00",
          "2014-06-07T00:00:00",
          "2014-06-08T00:00:00",
          "2014-06-09T00:00:00",
          "2014-06-10T00:00:00",
          "2014-06-11T00:00:00",
          "2014-06-12T00:00:00",
          "2014-06-13T00:00:00",
          "2014-06-14T00:00:00",
          "2014-06-15T00:00:00",
          "2014-06-16T00:00:00",
          "2014-06-17T00:00:00",
          "2014-06-18T00:00:00",
          "2014-06-19T00:00:00",
          "2014-06-20T00:00:00",
          "2014-06-21T00:00:00",
          "2014-06-22T00:00:00",
          "2014-06-23T00:00:00",
          "2014-06-24T00:00:00",
          "2014-06-25T00:00:00",
          "2014-06-26T00:00:00",
          "2014-06-27T00:00:00",
          "2014-06-28T00:00:00",
          "2014-06-29T00:00:00",
          "2014-06-30T00:00:00",
          "2014-07-01T00:00:00",
          "2014-07-02T00:00:00",
          "2014-07-03T00:00:00",
          "2014-07-04T00:00:00",
          "2014-07-05T00:00:00",
          "2014-07-06T00:00:00",
          "2014-07-07T00:00:00",
          "2014-07-08T00:00:00",
          "2014-07-09T00:00:00",
          "2014-07-10T00:00:00",
          "2014-07-11T00:00:00",
          "2014-07-12T00:00:00",
          "2014-07-13T00:00:00",
          "2014-07-14T00:00:00",
          "2014-07-15T00:00:00",
          "2014-07-16T00:00:00",
          "2014-07-17T00:00:00",
          "2014-07-18T00:00:00",
          "2014-07-19T00:00:00",
          "2014-07-20T00:00:00",
          "2014-07-21T00:00:00",
          "2014-07-22T00:00:00",
          "2014-07-23T00:00:00",
          "2014-07-24T00:00:00",
          "2014-07-25T00:00:00",
          "2014-07-26T00:00:00",
          "2014-07-27T00:00:00",
          "2014-07-28T00:00:00",
          "2014-07-29T00:00:00",
          "2014-07-30T00:00:00",
          "2014-07-31T00:00:00",
          "2014-08-01T00:00:00",
          "2014-08-02T00:00:00",
          "2014-08-03T00:00:00",
          "2014-08-04T00:00:00",
          "2014-08-05T00:00:00",
          "2014-08-06T00:00:00",
          "2014-08-07T00:00:00",
          "2014-08-08T00:00:00",
          "2014-08-09T00:00:00",
          "2014-08-10T00:00:00",
          "2014-08-11T00:00:00",
          "2014-08-12T00:00:00",
          "2014-08-13T00:00:00",
          "2014-08-14T00:00:00",
          "2014-08-15T00:00:00",
          "2014-08-16T00:00:00",
          "2014-08-17T00:00:00",
          "2014-08-18T00:00:00",
          "2014-08-19T00:00:00",
          "2014-08-20T00:00:00",
          "2014-08-21T00:00:00",
          "2014-08-22T00:00:00",
          "2014-08-23T00:00:00",
          "2014-08-24T00:00:00",
          "2014-08-25T00:00:00",
          "2014-08-26T00:00:00",
          "2014-08-27T00:00:00",
          "2014-08-28T00:00:00",
          "2014-08-29T00:00:00",
          "2014-08-30T00:00:00",
          "2014-08-31T00:00:00",
          "2014-09-01T00:00:00",
          "2014-09-02T00:00:00",
          "2014-09-03T00:00:00",
          "2014-09-04T00:00:00",
          "2014-09-05T00:00:00",
          "2014-09-06T00:00:00",
          "2014-09-07T00:00:00",
          "2014-09-08T00:00:00",
          "2014-09-09T00:00:00",
          "2014-09-10T00:00:00",
          "2014-09-11T00:00:00",
          "2014-09-12T00:00:00",
          "2014-09-13T00:00:00",
          "2014-09-14T00:00:00",
          "2014-09-15T00:00:00",
          "2014-09-16T00:00:00",
          "2014-09-17T00:00:00",
          "2014-09-18T00:00:00",
          "2014-09-19T00:00:00",
          "2014-09-20T00:00:00",
          "2014-09-21T00:00:00",
          "2014-09-22T00:00:00",
          "2014-09-23T00:00:00",
          "2014-09-24T00:00:00",
          "2014-09-25T00:00:00",
          "2014-09-26T00:00:00",
          "2014-09-27T00:00:00",
          "2014-09-28T00:00:00",
          "2014-09-29T00:00:00",
          "2014-09-30T00:00:00",
          "2014-10-01T00:00:00",
          "2014-10-02T00:00:00",
          "2014-10-03T00:00:00",
          "2014-10-04T00:00:00",
          "2014-10-05T00:00:00",
          "2014-10-06T00:00:00",
          "2014-10-07T00:00:00",
          "2014-10-08T00:00:00",
          "2014-10-09T00:00:00",
          "2014-10-10T00:00:00",
          "2014-10-11T00:00:00",
          "2014-10-12T00:00:00",
          "2014-10-13T00:00:00",
          "2014-10-14T00:00:00",
          "2014-10-15T00:00:00",
          "2014-10-16T00:00:00",
          "2014-10-17T00:00:00",
          "2014-10-18T00:00:00",
          "2014-10-19T00:00:00",
          "2014-10-20T00:00:00",
          "2014-10-21T00:00:00",
          "2014-10-22T00:00:00",
          "2014-10-23T00:00:00",
          "2014-10-24T00:00:00",
          "2014-10-25T00:00:00",
          "2014-10-26T00:00:00",
          "2014-10-27T00:00:00",
          "2014-10-28T00:00:00",
          "2014-10-29T00:00:00",
          "2014-10-30T00:00:00",
          "2014-10-31T00:00:00",
          "2014-11-01T00:00:00",
          "2014-11-02T00:00:00",
          "2014-11-03T00:00:00",
          "2014-11-04T00:00:00",
          "2014-11-05T00:00:00",
          "2014-11-06T00:00:00",
          "2014-11-07T00:00:00",
          "2014-11-08T00:00:00",
          "2014-11-09T00:00:00",
          "2014-11-10T00:00:00",
          "2014-11-11T00:00:00",
          "2014-11-12T00:00:00",
          "2014-11-13T00:00:00",
          "2014-11-14T00:00:00",
          "2014-11-15T00:00:00",
          "2014-11-16T00:00:00",
          "2014-11-17T00:00:00",
          "2014-11-18T00:00:00",
          "2014-11-19T00:00:00",
          "2014-11-20T00:00:00",
          "2014-11-21T00:00:00",
          "2014-11-22T00:00:00",
          "2014-11-23T00:00:00",
          "2014-11-24T00:00:00",
          "2014-11-25T00:00:00",
          "2014-11-26T00:00:00",
          "2014-11-27T00:00:00",
          "2014-11-28T00:00:00",
          "2014-11-29T00:00:00",
          "2014-11-30T00:00:00",
          "2014-12-01T00:00:00",
          "2014-12-02T00:00:00",
          "2014-12-03T00:00:00",
          "2014-12-04T00:00:00",
          "2014-12-05T00:00:00",
          "2014-12-06T00:00:00",
          "2014-12-07T00:00:00",
          "2014-12-08T00:00:00",
          "2014-12-09T00:00:00",
          "2014-12-10T00:00:00",
          "2014-12-11T00:00:00",
          "2014-12-12T00:00:00",
          "2014-12-13T00:00:00",
          "2014-12-14T00:00:00",
          "2014-12-15T00:00:00",
          "2014-12-16T00:00:00",
          "2014-12-17T00:00:00",
          "2014-12-18T00:00:00",
          "2014-12-19T00:00:00",
          "2014-12-20T00:00:00",
          "2014-12-21T00:00:00",
          "2014-12-22T00:00:00",
          "2014-12-23T00:00:00",
          "2014-12-24T00:00:00",
          "2014-12-25T00:00:00",
          "2014-12-26T00:00:00",
          "2014-12-27T00:00:00",
          "2014-12-28T00:00:00",
          "2014-12-29T00:00:00",
          "2014-12-30T00:00:00",
          "2014-12-31T00:00:00",
          "2015-01-01T00:00:00",
          "2015-01-02T00:00:00",
          "2015-01-03T00:00:00",
          "2015-01-04T00:00:00",
          "2015-01-05T00:00:00",
          "2015-01-06T00:00:00",
          "2015-01-07T00:00:00",
          "2015-01-08T00:00:00",
          "2015-01-09T00:00:00",
          "2015-01-10T00:00:00",
          "2015-01-11T00:00:00",
          "2015-01-12T00:00:00",
          "2015-01-13T00:00:00",
          "2015-01-14T00:00:00",
          "2015-01-15T00:00:00",
          "2015-01-16T00:00:00",
          "2015-01-17T00:00:00",
          "2015-01-18T00:00:00",
          "2015-01-19T00:00:00",
          "2015-01-20T00:00:00",
          "2015-01-21T00:00:00",
          "2015-01-22T00:00:00",
          "2015-01-23T00:00:00",
          "2015-01-24T00:00:00",
          "2015-01-25T00:00:00",
          "2015-01-26T00:00:00",
          "2015-01-27T00:00:00",
          "2015-01-28T00:00:00",
          "2015-01-29T00:00:00",
          "2015-01-30T00:00:00",
          "2015-01-31T00:00:00"
         ],
         "xaxis": "x",
         "y": [
          0.913170117216795,
          0.9160007440475406,
          0.9144260147716953,
          0.9126686878320212,
          0.9103512869772032,
          0.9112227557255292,
          0.9102575694997818,
          0.9099610415035482,
          0.9094942901221998,
          0.910179550779056,
          0.9099475495663573,
          0.9101364880224395,
          0.9088993945153924,
          0.907264441686764,
          0.9074409269468289,
          0.9054532293698672,
          0.9036007758289203,
          0.9032832141211231,
          0.9042207145206272,
          0.9040825649495262,
          0.903009959801678,
          0.9035626977368695,
          0.9015653871129236,
          0.9013256898488142,
          0.8991521324293146,
          0.8995841195081443,
          0.900194506680393,
          0.9004628015875767,
          0.9026401589649468,
          0.9058500919622758,
          0.9063501445300434,
          0.9091084652598889,
          0.9100364993926715,
          0.9120937396617422,
          0.9135247902095365,
          0.9151608170805057,
          0.9162266922074169,
          0.9158577322811875,
          0.914022347760301,
          0.9114500381640761,
          0.9101968243896367,
          0.9063160070853301,
          0.9028265511461028,
          0.8998832776556617,
          0.8990946436754097,
          0.8941030200926364,
          0.8943396097929636,
          0.8930681960461855,
          0.8916937272460506,
          0.8883221097274577,
          0.8858714468220896,
          0.8816493416963942,
          0.8860787066059231,
          0.8888123373364161,
          0.8915240406405417,
          0.88966976622117,
          0.8735897169595588,
          0.8952316114012954,
          0.9008529761723719,
          0.9041905825217369,
          0.9091284991959254,
          0.9013827313684165,
          0.897871571594871,
          0.8929496068295572,
          0.8918254148732384,
          0.8932022533879345,
          0.8924293920084607,
          0.8932632845135989,
          0.8929330420652276,
          0.8927313979757784,
          0.8930194496527736,
          0.8942666516189598,
          0.8938132644167752,
          0.8938297400699965,
          0.8935959357527792,
          0.8942258104982155,
          0.8952708311021123,
          0.8961847693559161,
          0.8964908801076923,
          0.8970909223499272,
          0.8993948312903852,
          0.9010506512664107,
          0.9019437530022477,
          0.9013556759700774,
          0.9023610538701607,
          0.9018475849058384,
          0.9021349981120521,
          0.9037090971432941,
          0.9040246421334348,
          0.9047719914182715,
          0.9055146463211158,
          0.9068727778024178,
          0.9130532403832529,
          0.9176259809578485,
          0.9244235702292545,
          0.9288924386676619,
          0.9307398582805969,
          0.931542286528917,
          0.931507269382948,
          0.930283852840355,
          0.9303957410318257,
          0.9306255598709495,
          0.9296836333200794,
          0.927784802744412,
          0.9250364296643863,
          0.9237717984713767,
          0.9242499550824523,
          0.9234189212573698,
          0.923168048223402,
          0.9217622023646777,
          0.9208652345977477,
          0.9201380752825749,
          0.9200340511853379,
          0.9207130936056489,
          0.9204509136490584,
          0.9182932208721792,
          0.9186770560783021,
          0.9187339637348224,
          0.917679158656412,
          0.9165021301089964,
          0.9075761408304984,
          0.9000391867018553,
          0.8928877423291932,
          0.8890418430355469,
          0.8856072785014079,
          0.8879926944544213,
          0.8878004968365365,
          0.8886904130967963,
          0.889296178843922,
          0.8889739239614445,
          0.8883269185513082,
          0.8864937488606349,
          0.8864478095003255,
          0.88621042429818,
          0.8858863752123013,
          0.8857065919979722,
          0.8849058411657208,
          0.8828697732622793,
          0.8804799333890289,
          0.8797654493377834,
          0.8767073127830133,
          0.8770827909423689,
          0.8777257469352544,
          0.8771390564216851,
          0.8761332808957655,
          0.8770073001206222,
          0.876647054289422,
          0.8764933385851765,
          0.8744815323321002,
          0.8768939418862187,
          0.8777473548988315,
          0.8816681548967943,
          0.8845953694566843,
          0.8858180640042248,
          0.8876876668393607,
          0.8893450528562619,
          0.8887982306318449,
          0.8885280129993409,
          0.8876938980378769,
          0.8864400345515256,
          0.8857082018127499,
          0.8865857912681098,
          0.887597247224894,
          0.8886654289570097,
          0.8904910157987486,
          0.8915605738972388,
          0.8936813365541838,
          0.8954651505982056,
          0.8960535462330541,
          0.8996416426162501,
          0.9015635809716342,
          0.9042012927634537,
          0.9055373684121092,
          0.9057182187777985,
          0.9060883870388817,
          0.9074138655876218,
          0.9066892014994885,
          0.9096903040920141,
          0.9131221713466721,
          0.9141897465888991,
          0.9156245131143809,
          0.9163405579036512,
          0.9171634914737948,
          0.9175845553730301,
          0.9171582314290215,
          0.9172575282974312,
          0.9168290369282243,
          0.9191163702160046,
          0.9200542051870026,
          0.9219779652619373,
          0.9221045369863257,
          0.9244174069104367,
          0.9253895181102374,
          0.9263539080326576,
          0.9259292606786182,
          0.9256319965553572,
          0.9267187560786322,
          0.9282969941854875,
          0.9290634389495632,
          0.9297674920146513,
          0.9310976099422585,
          0.9308920263553452,
          0.9303528653812165,
          0.9295857901222832,
          0.9265883980996927,
          0.9249679194563951,
          0.921677623690908,
          0.9202623021400548,
          0.9189577517613047,
          0.9181603979561204,
          0.9189354409747293,
          0.9168321915079385,
          0.9164096105377321,
          0.9165685359070936,
          0.9177791971941914,
          0.9184395419365743,
          0.918277896069571,
          0.9192164274355851,
          0.9190898046981428,
          0.9196639197215846,
          0.9207286117375938,
          0.9208325799916367,
          0.9201372308971191,
          0.9185796518657268,
          0.9182964412669034,
          0.916744730940333,
          0.9137342413570909,
          0.9095940049464504,
          0.9071564812504681,
          0.9052089949635861,
          0.9043184031587992,
          0.9026172410744959,
          0.9017014211990311,
          0.9013503897661894,
          0.9004862564191611,
          0.9032533984564936,
          0.9052595854641848,
          0.9074506238768415,
          0.9078778844599875,
          0.9091553474528224,
          0.9099782460583437,
          0.9104181637702956,
          0.9108848687503892,
          0.9115948613397871,
          0.9111243314439588,
          0.9113211894508547,
          0.9112215148281946,
          0.9081502174242329,
          0.9059151225730199,
          0.9038467146293359,
          0.9025023852963013,
          0.9014387185041843,
          0.9015970613547468,
          0.9034394729177687,
          0.9035075393684924,
          0.9076098517094402,
          0.9103914140177853,
          0.9182133653565114,
          0.9207846958737915,
          0.9235401278031415,
          0.9241631371478154,
          0.9242823871184974,
          0.924245269177749,
          0.9230645948152888,
          0.9240464083281934,
          0.9236477920479772,
          0.9236695633749831,
          0.9251426896157661,
          0.9257156124312654,
          0.9259062523155822,
          0.9252983043089898,
          0.9238881355511429,
          0.9244043561641055,
          0.9240840767971756,
          0.9232172317725402,
          0.9228861824840657,
          0.9225393685931224,
          0.9213093734330775,
          0.9275070264684302,
          0.9328893971999586,
          0.9301007013580825,
          0.926857973412209,
          0.9234196206218745,
          0.9194362190226377,
          0.9146993557704972,
          0.9131926269510642,
          0.9101280009791181,
          0.9104106473387537,
          0.9090039850768361,
          0.9120413123820517,
          0.9113744823653958,
          0.9119088337132113,
          0.9130697878873812,
          0.9125426934407002,
          0.9121762769565231,
          0.9097237802614591,
          0.9065403058325987,
          0.9055751938306523,
          0.9065372615125493,
          0.9056607421992128,
          0.9061396585728618,
          0.9064861000651327,
          0.9076164218883511,
          0.9097274138640519,
          0.9090274986221373,
          0.908162680431194,
          0.9078220768290817,
          0.9096027750574824,
          0.9119028339868007,
          0.911954675699236,
          0.9129392994623288,
          0.9196182743602417,
          0.9258178192456771,
          0.92990112131125,
          0.9271651761054325,
          0.9267455996323362,
          0.9255027450276087,
          0.9245469698944594,
          0.925376251296669,
          0.9239358027797535,
          0.9236879014148849,
          0.9219850516288333,
          0.9199871515590712,
          0.9170112448456466,
          0.9168068378591414,
          0.9153262123416861,
          0.9153761085937948,
          0.9153977206397291,
          0.9147574503253952,
          0.9153423403386777,
          0.9161963547580223,
          0.9180858995414138,
          0.9179480903221304,
          0.9185860285637604,
          0.9183823186720437,
          0.918197949112643,
          0.9155364130810002,
          0.9128903240764702,
          0.9127094641830076,
          0.910950990041189,
          0.9089969274561215,
          0.9092119848090718,
          0.9088408091257425,
          0.9086642152449684,
          0.9085098699969795,
          0.9088389979866097,
          0.9090700188953125,
          0.9097877435702453,
          0.9067162124329451,
          0.9067280017596641,
          0.9068041337176916,
          0.9078594521225603,
          0.9094784522611585,
          0.9112005059370726,
          0.9127739155491965,
          0.9147577554686441,
          0.9162863493603215,
          0.9182761933693272,
          0.9198163956684672,
          0.920998427422719,
          0.9233944785568045,
          0.9245542002255266,
          0.9253193855292474,
          0.9258043629078951,
          0.9282173633660163,
          0.9259351524428902,
          0.9291184388817997,
          0.9308517248629452,
          0.9319945911027137,
          0.9316309394697935,
          0.9257172076782156,
          0.9219912186673445,
          0.9154894121323276,
          0.9115069146087242,
          0.909060726374783,
          0.9104223379288212,
          0.9118804574122201,
          0.9131277060742725,
          0.9141587190751225,
          0.9156227324690586,
          0.9174787489245728,
          0.9202040378899095,
          0.9221805327034087,
          0.9211564884280226,
          0.921293794799227,
          0.922974059177924,
          0.9243318250606545,
          0.9245452952070848,
          0.9240663145380357,
          0.9228980981899395,
          0.9204981617157164,
          0.9194306989031864,
          0.9181544482914559,
          0.9180401476717427,
          0.9161787101147688,
          0.915451682594277,
          0.915629996902473,
          0.9156390895044058,
          0.9142117343369855,
          0.9143275551422371,
          0.914612892039847,
          0.9197783230183834,
          0.9245760992293112,
          0.9265400104307725,
          0.9281155579772582,
          0.9305130717110378,
          0.9304704149931383,
          0.9279427117628709,
          0.9258872271592657,
          0.9246408881505414
         ],
         "yaxis": "y"
        },
        {
         "connectgaps": false,
         "hoverinfo": "skip",
         "legendgroup": "Covid Added",
         "line": {
          "width": 0
         },
         "name": "Covid Added",
         "showlegend": false,
         "type": "scatter",
         "x": [
          "2013-12-02T00:00:00",
          "2013-12-03T00:00:00",
          "2013-12-04T00:00:00",
          "2013-12-05T00:00:00",
          "2013-12-06T00:00:00",
          "2013-12-07T00:00:00",
          "2013-12-08T00:00:00",
          "2013-12-09T00:00:00",
          "2013-12-10T00:00:00",
          "2013-12-11T00:00:00",
          "2013-12-12T00:00:00",
          "2013-12-13T00:00:00",
          "2013-12-14T00:00:00",
          "2013-12-15T00:00:00",
          "2013-12-16T00:00:00",
          "2013-12-17T00:00:00",
          "2013-12-18T00:00:00",
          "2013-12-19T00:00:00",
          "2013-12-20T00:00:00",
          "2013-12-21T00:00:00",
          "2013-12-22T00:00:00",
          "2013-12-23T00:00:00",
          "2013-12-24T00:00:00",
          "2013-12-25T00:00:00",
          "2013-12-26T00:00:00",
          "2013-12-27T00:00:00",
          "2013-12-28T00:00:00",
          "2013-12-29T00:00:00",
          "2013-12-30T00:00:00",
          "2013-12-31T00:00:00",
          "2014-01-01T00:00:00",
          "2014-01-02T00:00:00",
          "2014-01-03T00:00:00",
          "2014-01-04T00:00:00",
          "2014-01-05T00:00:00",
          "2014-01-06T00:00:00",
          "2014-01-07T00:00:00",
          "2014-01-08T00:00:00",
          "2014-01-09T00:00:00",
          "2014-01-10T00:00:00",
          "2014-01-11T00:00:00",
          "2014-01-12T00:00:00",
          "2014-01-13T00:00:00",
          "2014-01-14T00:00:00",
          "2014-01-15T00:00:00",
          "2014-01-16T00:00:00",
          "2014-01-17T00:00:00",
          "2014-01-18T00:00:00",
          "2014-01-19T00:00:00",
          "2014-01-20T00:00:00",
          "2014-01-21T00:00:00",
          "2014-01-22T00:00:00",
          "2014-01-23T00:00:00",
          "2014-01-24T00:00:00",
          "2014-01-25T00:00:00",
          "2014-01-26T00:00:00",
          "2014-02-12T00:00:00",
          "2014-02-13T00:00:00",
          "2014-02-14T00:00:00",
          "2014-02-15T00:00:00",
          "2014-02-16T00:00:00",
          "2014-02-17T00:00:00",
          "2014-02-18T00:00:00",
          "2014-02-19T00:00:00",
          "2014-02-20T00:00:00",
          "2014-02-21T00:00:00",
          "2014-02-22T00:00:00",
          "2014-02-23T00:00:00",
          "2014-02-24T00:00:00",
          "2014-02-25T00:00:00",
          "2014-02-26T00:00:00",
          "2014-02-27T00:00:00",
          "2014-02-28T00:00:00",
          "2014-03-01T00:00:00",
          "2014-03-02T00:00:00",
          "2014-03-03T00:00:00",
          "2014-03-04T00:00:00",
          "2014-03-05T00:00:00",
          "2014-03-06T00:00:00",
          "2014-03-07T00:00:00",
          "2014-03-08T00:00:00",
          "2014-03-09T00:00:00",
          "2014-03-10T00:00:00",
          "2014-03-11T00:00:00",
          "2014-03-12T00:00:00",
          "2014-03-13T00:00:00",
          "2014-03-14T00:00:00",
          "2014-03-15T00:00:00",
          "2014-03-16T00:00:00",
          "2014-03-17T00:00:00",
          "2014-03-18T00:00:00",
          "2014-03-19T00:00:00",
          "2014-03-20T00:00:00",
          "2014-03-21T00:00:00",
          "2014-03-22T00:00:00",
          "2014-03-23T00:00:00",
          "2014-03-24T00:00:00",
          "2014-03-25T00:00:00",
          "2014-03-26T00:00:00",
          "2014-03-27T00:00:00",
          "2014-03-28T00:00:00",
          "2014-03-29T00:00:00",
          "2014-03-30T00:00:00",
          "2014-03-31T00:00:00",
          "2014-04-01T00:00:00",
          "2014-04-02T00:00:00",
          "2014-04-03T00:00:00",
          "2014-04-04T00:00:00",
          "2014-04-05T00:00:00",
          "2014-04-06T00:00:00",
          "2014-04-07T00:00:00",
          "2014-04-08T00:00:00",
          "2014-04-09T00:00:00",
          "2014-04-10T00:00:00",
          "2014-04-11T00:00:00",
          "2014-04-12T00:00:00",
          "2014-04-13T00:00:00",
          "2014-04-14T00:00:00",
          "2014-04-15T00:00:00",
          "2014-04-16T00:00:00",
          "2014-04-17T00:00:00",
          "2014-04-18T00:00:00",
          "2014-04-19T00:00:00",
          "2014-04-20T00:00:00",
          "2014-04-21T00:00:00",
          "2014-04-22T00:00:00",
          "2014-04-23T00:00:00",
          "2014-04-24T00:00:00",
          "2014-04-25T00:00:00",
          "2014-04-26T00:00:00",
          "2014-04-27T00:00:00",
          "2014-04-28T00:00:00",
          "2014-04-29T00:00:00",
          "2014-04-30T00:00:00",
          "2014-05-01T00:00:00",
          "2014-05-02T00:00:00",
          "2014-05-03T00:00:00",
          "2014-05-04T00:00:00",
          "2014-05-05T00:00:00",
          "2014-05-06T00:00:00",
          "2014-05-07T00:00:00",
          "2014-05-08T00:00:00",
          "2014-05-09T00:00:00",
          "2014-05-10T00:00:00",
          "2014-05-11T00:00:00",
          "2014-05-12T00:00:00",
          "2014-05-13T00:00:00",
          "2014-05-14T00:00:00",
          "2014-05-15T00:00:00",
          "2014-05-16T00:00:00",
          "2014-05-17T00:00:00",
          "2014-05-18T00:00:00",
          "2014-05-19T00:00:00",
          "2014-05-20T00:00:00",
          "2014-05-21T00:00:00",
          "2014-05-22T00:00:00",
          "2014-05-23T00:00:00",
          "2014-05-24T00:00:00",
          "2014-05-25T00:00:00",
          "2014-05-26T00:00:00",
          "2014-05-27T00:00:00",
          "2014-05-28T00:00:00",
          "2014-05-29T00:00:00",
          "2014-05-30T00:00:00",
          "2014-05-31T00:00:00",
          "2014-06-01T00:00:00",
          "2014-06-02T00:00:00",
          "2014-06-03T00:00:00",
          "2014-06-04T00:00:00",
          "2014-06-05T00:00:00",
          "2014-06-06T00:00:00",
          "2014-06-07T00:00:00",
          "2014-06-08T00:00:00",
          "2014-06-09T00:00:00",
          "2014-06-10T00:00:00",
          "2014-06-11T00:00:00",
          "2014-06-12T00:00:00",
          "2014-06-13T00:00:00",
          "2014-06-14T00:00:00",
          "2014-06-15T00:00:00",
          "2014-06-16T00:00:00",
          "2014-06-17T00:00:00",
          "2014-06-18T00:00:00",
          "2014-06-19T00:00:00",
          "2014-06-20T00:00:00",
          "2014-06-21T00:00:00",
          "2014-06-22T00:00:00",
          "2014-06-23T00:00:00",
          "2014-06-24T00:00:00",
          "2014-06-25T00:00:00",
          "2014-06-26T00:00:00",
          "2014-06-27T00:00:00",
          "2014-06-28T00:00:00",
          "2014-06-29T00:00:00",
          "2014-06-30T00:00:00",
          "2014-07-01T00:00:00",
          "2014-07-02T00:00:00",
          "2014-07-03T00:00:00",
          "2014-07-04T00:00:00",
          "2014-07-05T00:00:00",
          "2014-07-06T00:00:00",
          "2014-07-07T00:00:00",
          "2014-07-08T00:00:00",
          "2014-07-09T00:00:00",
          "2014-07-10T00:00:00",
          "2014-07-11T00:00:00",
          "2014-07-12T00:00:00",
          "2014-07-13T00:00:00",
          "2014-07-14T00:00:00",
          "2014-07-15T00:00:00",
          "2014-07-16T00:00:00",
          "2014-07-17T00:00:00",
          "2014-07-18T00:00:00",
          "2014-07-19T00:00:00",
          "2014-07-20T00:00:00",
          "2014-07-21T00:00:00",
          "2014-07-22T00:00:00",
          "2014-07-23T00:00:00",
          "2014-07-24T00:00:00",
          "2014-07-25T00:00:00",
          "2014-07-26T00:00:00",
          "2014-07-27T00:00:00",
          "2014-07-28T00:00:00",
          "2014-07-29T00:00:00",
          "2014-07-30T00:00:00",
          "2014-07-31T00:00:00",
          "2014-08-01T00:00:00",
          "2014-08-02T00:00:00",
          "2014-08-03T00:00:00",
          "2014-08-04T00:00:00",
          "2014-08-05T00:00:00",
          "2014-08-06T00:00:00",
          "2014-08-07T00:00:00",
          "2014-08-08T00:00:00",
          "2014-08-09T00:00:00",
          "2014-08-10T00:00:00",
          "2014-08-11T00:00:00",
          "2014-08-12T00:00:00",
          "2014-08-13T00:00:00",
          "2014-08-14T00:00:00",
          "2014-08-15T00:00:00",
          "2014-08-16T00:00:00",
          "2014-08-17T00:00:00",
          "2014-08-18T00:00:00",
          "2014-08-19T00:00:00",
          "2014-08-20T00:00:00",
          "2014-08-21T00:00:00",
          "2014-08-22T00:00:00",
          "2014-08-23T00:00:00",
          "2014-08-24T00:00:00",
          "2014-08-25T00:00:00",
          "2014-08-26T00:00:00",
          "2014-08-27T00:00:00",
          "2014-08-28T00:00:00",
          "2014-08-29T00:00:00",
          "2014-08-30T00:00:00",
          "2014-08-31T00:00:00",
          "2014-09-01T00:00:00",
          "2014-09-02T00:00:00",
          "2014-09-03T00:00:00",
          "2014-09-04T00:00:00",
          "2014-09-05T00:00:00",
          "2014-09-06T00:00:00",
          "2014-09-07T00:00:00",
          "2014-09-08T00:00:00",
          "2014-09-09T00:00:00",
          "2014-09-10T00:00:00",
          "2014-09-11T00:00:00",
          "2014-09-12T00:00:00",
          "2014-09-13T00:00:00",
          "2014-09-14T00:00:00",
          "2014-09-15T00:00:00",
          "2014-09-16T00:00:00",
          "2014-09-17T00:00:00",
          "2014-09-18T00:00:00",
          "2014-09-19T00:00:00",
          "2014-09-20T00:00:00",
          "2014-09-21T00:00:00",
          "2014-09-22T00:00:00",
          "2014-09-23T00:00:00",
          "2014-09-24T00:00:00",
          "2014-09-25T00:00:00",
          "2014-09-26T00:00:00",
          "2014-09-27T00:00:00",
          "2014-09-28T00:00:00",
          "2014-09-29T00:00:00",
          "2014-09-30T00:00:00",
          "2014-10-01T00:00:00",
          "2014-10-02T00:00:00",
          "2014-10-03T00:00:00",
          "2014-10-04T00:00:00",
          "2014-10-05T00:00:00",
          "2014-10-06T00:00:00",
          "2014-10-07T00:00:00",
          "2014-10-08T00:00:00",
          "2014-10-09T00:00:00",
          "2014-10-10T00:00:00",
          "2014-10-11T00:00:00",
          "2014-10-12T00:00:00",
          "2014-10-13T00:00:00",
          "2014-10-14T00:00:00",
          "2014-10-15T00:00:00",
          "2014-10-16T00:00:00",
          "2014-10-17T00:00:00",
          "2014-10-18T00:00:00",
          "2014-10-19T00:00:00",
          "2014-10-20T00:00:00",
          "2014-10-21T00:00:00",
          "2014-10-22T00:00:00",
          "2014-10-23T00:00:00",
          "2014-10-24T00:00:00",
          "2014-10-25T00:00:00",
          "2014-10-26T00:00:00",
          "2014-10-27T00:00:00",
          "2014-10-28T00:00:00",
          "2014-10-29T00:00:00",
          "2014-10-30T00:00:00",
          "2014-10-31T00:00:00",
          "2014-11-01T00:00:00",
          "2014-11-02T00:00:00",
          "2014-11-03T00:00:00",
          "2014-11-04T00:00:00",
          "2014-11-05T00:00:00",
          "2014-11-06T00:00:00",
          "2014-11-07T00:00:00",
          "2014-11-08T00:00:00",
          "2014-11-09T00:00:00",
          "2014-11-10T00:00:00",
          "2014-11-11T00:00:00",
          "2014-11-12T00:00:00",
          "2014-11-13T00:00:00",
          "2014-11-14T00:00:00",
          "2014-11-15T00:00:00",
          "2014-11-16T00:00:00",
          "2014-11-17T00:00:00",
          "2014-11-18T00:00:00",
          "2014-11-19T00:00:00",
          "2014-11-20T00:00:00",
          "2014-11-21T00:00:00",
          "2014-11-22T00:00:00",
          "2014-11-23T00:00:00",
          "2014-11-24T00:00:00",
          "2014-11-25T00:00:00",
          "2014-11-26T00:00:00",
          "2014-11-27T00:00:00",
          "2014-11-28T00:00:00",
          "2014-11-29T00:00:00",
          "2014-11-30T00:00:00",
          "2014-12-01T00:00:00",
          "2014-12-02T00:00:00",
          "2014-12-03T00:00:00",
          "2014-12-04T00:00:00",
          "2014-12-05T00:00:00",
          "2014-12-06T00:00:00",
          "2014-12-07T00:00:00",
          "2014-12-08T00:00:00",
          "2014-12-09T00:00:00",
          "2014-12-10T00:00:00",
          "2014-12-11T00:00:00",
          "2014-12-12T00:00:00",
          "2014-12-13T00:00:00",
          "2014-12-14T00:00:00",
          "2014-12-15T00:00:00",
          "2014-12-16T00:00:00",
          "2014-12-17T00:00:00",
          "2014-12-18T00:00:00",
          "2014-12-19T00:00:00",
          "2014-12-20T00:00:00",
          "2014-12-21T00:00:00",
          "2014-12-22T00:00:00",
          "2014-12-23T00:00:00",
          "2014-12-24T00:00:00",
          "2014-12-25T00:00:00",
          "2014-12-26T00:00:00",
          "2014-12-27T00:00:00",
          "2014-12-28T00:00:00",
          "2014-12-29T00:00:00",
          "2014-12-30T00:00:00",
          "2014-12-31T00:00:00",
          "2015-01-01T00:00:00",
          "2015-01-02T00:00:00",
          "2015-01-03T00:00:00",
          "2015-01-04T00:00:00",
          "2015-01-05T00:00:00",
          "2015-01-06T00:00:00",
          "2015-01-07T00:00:00",
          "2015-01-08T00:00:00",
          "2015-01-09T00:00:00",
          "2015-01-10T00:00:00",
          "2015-01-11T00:00:00",
          "2015-01-12T00:00:00",
          "2015-01-13T00:00:00",
          "2015-01-14T00:00:00",
          "2015-01-15T00:00:00",
          "2015-01-16T00:00:00",
          "2015-01-17T00:00:00",
          "2015-01-18T00:00:00",
          "2015-01-19T00:00:00",
          "2015-01-20T00:00:00",
          "2015-01-21T00:00:00",
          "2015-01-22T00:00:00",
          "2015-01-23T00:00:00",
          "2015-01-24T00:00:00",
          "2015-01-25T00:00:00",
          "2015-01-26T00:00:00",
          "2015-01-27T00:00:00",
          "2015-01-28T00:00:00",
          "2015-01-29T00:00:00",
          "2015-01-30T00:00:00",
          "2015-01-31T00:00:00"
         ],
         "xaxis": "x",
         "y": [
          0.9308587023092468,
          0.9295514292619413,
          0.9290417950254859,
          0.9275514878400191,
          0.9278225362911262,
          0.9270197763870666,
          0.9266348276729723,
          0.9262432766633998,
          0.9268094818961865,
          0.9279692599578713,
          0.9280801215544111,
          0.926646737669948,
          0.9266167291227653,
          0.9256257123222975,
          0.9259080904850429,
          0.9245164508372605,
          0.923116986913079,
          0.9216465496153967,
          0.9213678908575329,
          0.9198791889047017,
          0.9193276209556138,
          0.9195346806627558,
          0.9194906726731822,
          0.9206894335414684,
          0.9200869110107053,
          0.920267513041654,
          0.9201862224020794,
          0.9199051358767562,
          0.9215139006551696,
          0.9225243104803666,
          0.9232426106534711,
          0.92537267106777,
          0.925066219231484,
          0.9265845150401212,
          0.9277029251499997,
          0.9290406041946223,
          0.9302499803865595,
          0.9303284929626724,
          0.9295463158203969,
          0.928164057952663,
          0.92794049152198,
          0.924484993370183,
          0.9216019553367053,
          0.9192760114468229,
          0.9182270602783201,
          0.9159206783764214,
          0.9178797255014854,
          0.9158672492497847,
          0.9134923737651718,
          0.9116515833033575,
          0.9094542338827388,
          0.9063701591160243,
          0.9099674459743535,
          0.9128748637439956,
          0.9140490590364869,
          0.911328917838624,
          0.9171736593869291,
          0.9229414574109949,
          0.9251852484431092,
          0.9272450500365877,
          0.9298316042214573,
          0.9232943446729328,
          0.9193718909115365,
          0.9123302684557467,
          0.9113385148061506,
          0.9116631242803257,
          0.9123206304612393,
          0.9123481516005977,
          0.9128277234385451,
          0.9118151650119386,
          0.9130699629491957,
          0.9126083978871349,
          0.9136316550781926,
          0.9128015984011218,
          0.9135114880995325,
          0.914528719899777,
          0.9153809251066417,
          0.9153917804032141,
          0.9166074756674794,
          0.9170642038180744,
          0.9182584358182054,
          0.9187868974851634,
          0.9203120858665095,
          0.9202861638130052,
          0.9208914698740244,
          0.9211380154505335,
          0.9213417066581951,
          0.9216419362491862,
          0.9207676560243722,
          0.9228257065270713,
          0.9244885227959893,
          0.9253090751762757,
          0.9286188399731254,
          0.9319051501938983,
          0.9377392784540708,
          0.9410690384215379,
          0.9427291401663133,
          0.9435884644058128,
          0.9446039422914281,
          0.9438389278616143,
          0.9441299299011691,
          0.9436389967967957,
          0.9433272415833255,
          0.9416410994541718,
          0.940379928576584,
          0.9390187668654671,
          0.9383486983735905,
          0.9381287868177863,
          0.9379216803140107,
          0.937356095458915,
          0.9354606794851099,
          0.935513318583661,
          0.9351400377074023,
          0.9347019018068042,
          0.9327000598525982,
          0.9312271692151524,
          0.9315527674000703,
          0.9309277248002329,
          0.9309640042894399,
          0.9293690578395637,
          0.9210958639838183,
          0.9158819303640333,
          0.911732236404287,
          0.9073114817956183,
          0.9049711600293368,
          0.9071524298839352,
          0.9065316899218508,
          0.9072701232546421,
          0.9083337818807787,
          0.9072058388647264,
          0.908037314593105,
          0.9086422690265908,
          0.9095404962725299,
          0.9081598295048144,
          0.9075591655635098,
          0.9090012009962505,
          0.9071073786276299,
          0.9066927477208804,
          0.9038294395249791,
          0.9029832862222873,
          0.9013897026512058,
          0.901653619668667,
          0.9022443441959844,
          0.9015555500515512,
          0.9025385898191176,
          0.9030913188352241,
          0.9020557431026398,
          0.9014594242849056,
          0.9008763033594441,
          0.9027365821247072,
          0.9025335083334923,
          0.9052171419940531,
          0.9084685348331347,
          0.9104436566658805,
          0.9124022364987019,
          0.9122986790172174,
          0.9108306011378938,
          0.9098730916641612,
          0.9101417070251473,
          0.9093377159417263,
          0.9089716899537136,
          0.9088456692095943,
          0.9098565350407474,
          0.9110481605078772,
          0.9135252063421253,
          0.9138804545776903,
          0.8988041091303806,
          0.8836414218633901,
          0.8711136770015877,
          0.8586136000412311,
          0.8474806993021327,
          0.8400257519631257,
          0.8328747936675469,
          0.8263205620135782,
          0.8206301327206889,
          0.8156517590064524,
          0.8136455310589292,
          0.8091344226847806,
          0.806227805705065,
          0.8030263992164743,
          0.8008850575437964,
          0.7991259419389798,
          0.7974795559922008,
          0.7975476859175394,
          0.7961562801782329,
          0.7954400313987454,
          0.7934388491347265,
          0.7935226306073239,
          0.7921217719072713,
          0.7922822135668681,
          0.79105512151238,
          0.7895448850335574,
          0.789254474604901,
          0.7884343933447311,
          0.7875635780640549,
          0.7883793788804788,
          0.7891963658200345,
          0.7890225792033354,
          0.7885450066812915,
          0.7878677517636503,
          0.7891353302602114,
          0.7891183872134749,
          0.7893241120803747,
          0.7882246956253168,
          0.7879563590857922,
          0.7852099234101163,
          0.7828016236059283,
          0.7814187222011547,
          0.7799663265258154,
          0.7801108452744965,
          0.7800611005856997,
          0.7785148118603273,
          0.7795379099711095,
          0.7797333665293265,
          0.780384273678226,
          0.7801888249265192,
          0.7814455646610762,
          0.7816577550469997,
          0.7812393049890922,
          0.7811100241087754,
          0.7795726766794727,
          0.7787873971935592,
          0.7786915092304892,
          0.7773414055467207,
          0.7763154545887716,
          0.7738916763997548,
          0.7709602854056559,
          0.7693285849938265,
          0.7672414439543882,
          0.7663350269846813,
          0.7672525599279332,
          0.765382655510678,
          0.765645882278326,
          0.7666792784585361,
          0.7651611547371036,
          0.7641210446358027,
          0.7657498356151684,
          0.7661368573469792,
          0.7664198248164207,
          0.7672042370748707,
          0.7670751382684514,
          0.7659650081906401,
          0.7646880197731056,
          0.7632156574455922,
          0.761863357314709,
          0.7625346166088777,
          0.761458414916662,
          0.7605805969509297,
          0.7588217403633986,
          0.7580512515370976,
          0.7570868893526673,
          0.7584660086846515,
          0.758396857487506,
          0.7597212846334269,
          0.7618554525968348,
          0.7670700226313054,
          0.7700567997587859,
          0.7747832197854839,
          0.7777896196267915,
          0.7808350029015563,
          0.7825750264492535,
          0.7830346511916787,
          0.7847145523776317,
          0.7869335142978837,
          0.7873019043429436,
          0.7868899391498159,
          0.7871764677820845,
          0.7877165868859446,
          0.7877361246443013,
          0.7864295205459204,
          0.7862903737349642,
          0.7842305094049639,
          0.7842664887370677,
          0.7846245202209212,
          0.7851392398728347,
          0.785983399030142,
          0.7862876466235793,
          0.786684177927575,
          0.7895328512051714,
          0.7923002366472123,
          0.794964477908267,
          0.7951683365685626,
          0.7960814918746902,
          0.7957262884493168,
          0.7971627823026096,
          0.7970240881356689,
          0.7965433500770187,
          0.7951303707474429,
          0.7959596321837475,
          0.7957369286710579,
          0.7940729762239066,
          0.7930055491868778,
          0.7947357837688936,
          0.7951567281788744,
          0.7953244963578743,
          0.7962075262188401,
          0.7958024250899911,
          0.7947916239538897,
          0.7952335510363467,
          0.7962204610846086,
          0.7968308550280019,
          0.7985778870104837,
          0.8004891278012976,
          0.8015022648291994,
          0.8026619279575813,
          0.8040427150530784,
          0.8043270233945976,
          0.8044749571226364,
          0.8055609736624094,
          0.8036958723490107,
          0.8030136520201319,
          0.8004979504088114,
          0.8014542245836046,
          0.8018052529475395,
          0.8008761562256653,
          0.8017314972014046,
          0.8010976571064713,
          0.8019896154824081,
          0.8028424715247311,
          0.8031169755516078,
          0.8038723234592909,
          0.8039527273550038,
          0.8034198201435512,
          0.8036321181281865,
          0.8024174329070256,
          0.8031152071315603,
          0.8025319373292281,
          0.8024560526907432,
          0.8034945950813659,
          0.8050066720082654,
          0.8065676492467911,
          0.8057810993833098,
          0.8059719093266762,
          0.8051960309405225,
          0.8047697851895328,
          0.8035597404079833,
          0.8018368037673403,
          0.8017440385378232,
          0.8021344233709328,
          0.8013176783538002,
          0.8020522729137196,
          0.8014594663914438,
          0.8011338154565815,
          0.8028862326717838,
          0.804672777211406,
          0.8035157227685967,
          0.8042611090241535,
          0.8050277946344566,
          0.8035260594531815,
          0.8032415501774339,
          0.8029850085186805,
          0.802125155205867,
          0.8015790521425338,
          0.8022031309519971,
          0.8019512704368164,
          0.8019723739819937,
          0.8018859328348387,
          0.8011497114497849,
          0.8012358461284728,
          0.8008424852582772,
          0.800698777418367,
          0.7997342562013624,
          0.7993685678229736,
          0.7989929371690997,
          0.8002354786060598,
          0.8009080518465117,
          0.8017926705209273,
          0.8020385813118615,
          0.8031893436173712,
          0.8021387523203325,
          0.8028420310810578,
          0.8026160682664105,
          0.8024156566236247,
          0.8020564108970698,
          0.80181118954623,
          0.8013079330713142,
          0.8009028188877785,
          0.8000313557652975,
          0.8003728960128618,
          0.8009224280789898,
          0.801924039403879,
          0.8029904724397949,
          0.8037986946464012,
          0.8016819275291545,
          0.8007022502315881,
          0.7994769504595648,
          0.8011593318834189,
          0.801522957349909,
          0.801063508178067,
          0.8005040531434213,
          0.7983390281703464,
          0.7958888754224791,
          0.7942324380587048,
          0.7929388013042733,
          0.7902557531913277,
          0.7887633446495372,
          0.7874458556498855,
          0.7858129486365191,
          0.7833790999879072,
          0.7850717661392523,
          0.7865348902583948,
          0.7874574500530007,
          0.7872517442149053,
          0.7868652900872952,
          0.7874214343074876,
          0.7886576225064655,
          0.7885618399564001,
          0.7892371460925405,
          0.7915252595436442,
          0.7915682661474945
         ],
         "yaxis": "y"
        },
        {
         "connectgaps": false,
         "fill": "tonexty",
         "fillcolor": "rgba(0.9372549019607843, 0.3333333333333333, 0.23137254901960785, 0.2)",
         "hoverinfo": "skip",
         "legendgroup": "Covid Added",
         "line": {
          "width": 0
         },
         "name": "Covid Added",
         "showlegend": false,
         "type": "scatter",
         "x": [
          "2013-12-02T00:00:00",
          "2013-12-03T00:00:00",
          "2013-12-04T00:00:00",
          "2013-12-05T00:00:00",
          "2013-12-06T00:00:00",
          "2013-12-07T00:00:00",
          "2013-12-08T00:00:00",
          "2013-12-09T00:00:00",
          "2013-12-10T00:00:00",
          "2013-12-11T00:00:00",
          "2013-12-12T00:00:00",
          "2013-12-13T00:00:00",
          "2013-12-14T00:00:00",
          "2013-12-15T00:00:00",
          "2013-12-16T00:00:00",
          "2013-12-17T00:00:00",
          "2013-12-18T00:00:00",
          "2013-12-19T00:00:00",
          "2013-12-20T00:00:00",
          "2013-12-21T00:00:00",
          "2013-12-22T00:00:00",
          "2013-12-23T00:00:00",
          "2013-12-24T00:00:00",
          "2013-12-25T00:00:00",
          "2013-12-26T00:00:00",
          "2013-12-27T00:00:00",
          "2013-12-28T00:00:00",
          "2013-12-29T00:00:00",
          "2013-12-30T00:00:00",
          "2013-12-31T00:00:00",
          "2014-01-01T00:00:00",
          "2014-01-02T00:00:00",
          "2014-01-03T00:00:00",
          "2014-01-04T00:00:00",
          "2014-01-05T00:00:00",
          "2014-01-06T00:00:00",
          "2014-01-07T00:00:00",
          "2014-01-08T00:00:00",
          "2014-01-09T00:00:00",
          "2014-01-10T00:00:00",
          "2014-01-11T00:00:00",
          "2014-01-12T00:00:00",
          "2014-01-13T00:00:00",
          "2014-01-14T00:00:00",
          "2014-01-15T00:00:00",
          "2014-01-16T00:00:00",
          "2014-01-17T00:00:00",
          "2014-01-18T00:00:00",
          "2014-01-19T00:00:00",
          "2014-01-20T00:00:00",
          "2014-01-21T00:00:00",
          "2014-01-22T00:00:00",
          "2014-01-23T00:00:00",
          "2014-01-24T00:00:00",
          "2014-01-25T00:00:00",
          "2014-01-26T00:00:00",
          "2014-02-12T00:00:00",
          "2014-02-13T00:00:00",
          "2014-02-14T00:00:00",
          "2014-02-15T00:00:00",
          "2014-02-16T00:00:00",
          "2014-02-17T00:00:00",
          "2014-02-18T00:00:00",
          "2014-02-19T00:00:00",
          "2014-02-20T00:00:00",
          "2014-02-21T00:00:00",
          "2014-02-22T00:00:00",
          "2014-02-23T00:00:00",
          "2014-02-24T00:00:00",
          "2014-02-25T00:00:00",
          "2014-02-26T00:00:00",
          "2014-02-27T00:00:00",
          "2014-02-28T00:00:00",
          "2014-03-01T00:00:00",
          "2014-03-02T00:00:00",
          "2014-03-03T00:00:00",
          "2014-03-04T00:00:00",
          "2014-03-05T00:00:00",
          "2014-03-06T00:00:00",
          "2014-03-07T00:00:00",
          "2014-03-08T00:00:00",
          "2014-03-09T00:00:00",
          "2014-03-10T00:00:00",
          "2014-03-11T00:00:00",
          "2014-03-12T00:00:00",
          "2014-03-13T00:00:00",
          "2014-03-14T00:00:00",
          "2014-03-15T00:00:00",
          "2014-03-16T00:00:00",
          "2014-03-17T00:00:00",
          "2014-03-18T00:00:00",
          "2014-03-19T00:00:00",
          "2014-03-20T00:00:00",
          "2014-03-21T00:00:00",
          "2014-03-22T00:00:00",
          "2014-03-23T00:00:00",
          "2014-03-24T00:00:00",
          "2014-03-25T00:00:00",
          "2014-03-26T00:00:00",
          "2014-03-27T00:00:00",
          "2014-03-28T00:00:00",
          "2014-03-29T00:00:00",
          "2014-03-30T00:00:00",
          "2014-03-31T00:00:00",
          "2014-04-01T00:00:00",
          "2014-04-02T00:00:00",
          "2014-04-03T00:00:00",
          "2014-04-04T00:00:00",
          "2014-04-05T00:00:00",
          "2014-04-06T00:00:00",
          "2014-04-07T00:00:00",
          "2014-04-08T00:00:00",
          "2014-04-09T00:00:00",
          "2014-04-10T00:00:00",
          "2014-04-11T00:00:00",
          "2014-04-12T00:00:00",
          "2014-04-13T00:00:00",
          "2014-04-14T00:00:00",
          "2014-04-15T00:00:00",
          "2014-04-16T00:00:00",
          "2014-04-17T00:00:00",
          "2014-04-18T00:00:00",
          "2014-04-19T00:00:00",
          "2014-04-20T00:00:00",
          "2014-04-21T00:00:00",
          "2014-04-22T00:00:00",
          "2014-04-23T00:00:00",
          "2014-04-24T00:00:00",
          "2014-04-25T00:00:00",
          "2014-04-26T00:00:00",
          "2014-04-27T00:00:00",
          "2014-04-28T00:00:00",
          "2014-04-29T00:00:00",
          "2014-04-30T00:00:00",
          "2014-05-01T00:00:00",
          "2014-05-02T00:00:00",
          "2014-05-03T00:00:00",
          "2014-05-04T00:00:00",
          "2014-05-05T00:00:00",
          "2014-05-06T00:00:00",
          "2014-05-07T00:00:00",
          "2014-05-08T00:00:00",
          "2014-05-09T00:00:00",
          "2014-05-10T00:00:00",
          "2014-05-11T00:00:00",
          "2014-05-12T00:00:00",
          "2014-05-13T00:00:00",
          "2014-05-14T00:00:00",
          "2014-05-15T00:00:00",
          "2014-05-16T00:00:00",
          "2014-05-17T00:00:00",
          "2014-05-18T00:00:00",
          "2014-05-19T00:00:00",
          "2014-05-20T00:00:00",
          "2014-05-21T00:00:00",
          "2014-05-22T00:00:00",
          "2014-05-23T00:00:00",
          "2014-05-24T00:00:00",
          "2014-05-25T00:00:00",
          "2014-05-26T00:00:00",
          "2014-05-27T00:00:00",
          "2014-05-28T00:00:00",
          "2014-05-29T00:00:00",
          "2014-05-30T00:00:00",
          "2014-05-31T00:00:00",
          "2014-06-01T00:00:00",
          "2014-06-02T00:00:00",
          "2014-06-03T00:00:00",
          "2014-06-04T00:00:00",
          "2014-06-05T00:00:00",
          "2014-06-06T00:00:00",
          "2014-06-07T00:00:00",
          "2014-06-08T00:00:00",
          "2014-06-09T00:00:00",
          "2014-06-10T00:00:00",
          "2014-06-11T00:00:00",
          "2014-06-12T00:00:00",
          "2014-06-13T00:00:00",
          "2014-06-14T00:00:00",
          "2014-06-15T00:00:00",
          "2014-06-16T00:00:00",
          "2014-06-17T00:00:00",
          "2014-06-18T00:00:00",
          "2014-06-19T00:00:00",
          "2014-06-20T00:00:00",
          "2014-06-21T00:00:00",
          "2014-06-22T00:00:00",
          "2014-06-23T00:00:00",
          "2014-06-24T00:00:00",
          "2014-06-25T00:00:00",
          "2014-06-26T00:00:00",
          "2014-06-27T00:00:00",
          "2014-06-28T00:00:00",
          "2014-06-29T00:00:00",
          "2014-06-30T00:00:00",
          "2014-07-01T00:00:00",
          "2014-07-02T00:00:00",
          "2014-07-03T00:00:00",
          "2014-07-04T00:00:00",
          "2014-07-05T00:00:00",
          "2014-07-06T00:00:00",
          "2014-07-07T00:00:00",
          "2014-07-08T00:00:00",
          "2014-07-09T00:00:00",
          "2014-07-10T00:00:00",
          "2014-07-11T00:00:00",
          "2014-07-12T00:00:00",
          "2014-07-13T00:00:00",
          "2014-07-14T00:00:00",
          "2014-07-15T00:00:00",
          "2014-07-16T00:00:00",
          "2014-07-17T00:00:00",
          "2014-07-18T00:00:00",
          "2014-07-19T00:00:00",
          "2014-07-20T00:00:00",
          "2014-07-21T00:00:00",
          "2014-07-22T00:00:00",
          "2014-07-23T00:00:00",
          "2014-07-24T00:00:00",
          "2014-07-25T00:00:00",
          "2014-07-26T00:00:00",
          "2014-07-27T00:00:00",
          "2014-07-28T00:00:00",
          "2014-07-29T00:00:00",
          "2014-07-30T00:00:00",
          "2014-07-31T00:00:00",
          "2014-08-01T00:00:00",
          "2014-08-02T00:00:00",
          "2014-08-03T00:00:00",
          "2014-08-04T00:00:00",
          "2014-08-05T00:00:00",
          "2014-08-06T00:00:00",
          "2014-08-07T00:00:00",
          "2014-08-08T00:00:00",
          "2014-08-09T00:00:00",
          "2014-08-10T00:00:00",
          "2014-08-11T00:00:00",
          "2014-08-12T00:00:00",
          "2014-08-13T00:00:00",
          "2014-08-14T00:00:00",
          "2014-08-15T00:00:00",
          "2014-08-16T00:00:00",
          "2014-08-17T00:00:00",
          "2014-08-18T00:00:00",
          "2014-08-19T00:00:00",
          "2014-08-20T00:00:00",
          "2014-08-21T00:00:00",
          "2014-08-22T00:00:00",
          "2014-08-23T00:00:00",
          "2014-08-24T00:00:00",
          "2014-08-25T00:00:00",
          "2014-08-26T00:00:00",
          "2014-08-27T00:00:00",
          "2014-08-28T00:00:00",
          "2014-08-29T00:00:00",
          "2014-08-30T00:00:00",
          "2014-08-31T00:00:00",
          "2014-09-01T00:00:00",
          "2014-09-02T00:00:00",
          "2014-09-03T00:00:00",
          "2014-09-04T00:00:00",
          "2014-09-05T00:00:00",
          "2014-09-06T00:00:00",
          "2014-09-07T00:00:00",
          "2014-09-08T00:00:00",
          "2014-09-09T00:00:00",
          "2014-09-10T00:00:00",
          "2014-09-11T00:00:00",
          "2014-09-12T00:00:00",
          "2014-09-13T00:00:00",
          "2014-09-14T00:00:00",
          "2014-09-15T00:00:00",
          "2014-09-16T00:00:00",
          "2014-09-17T00:00:00",
          "2014-09-18T00:00:00",
          "2014-09-19T00:00:00",
          "2014-09-20T00:00:00",
          "2014-09-21T00:00:00",
          "2014-09-22T00:00:00",
          "2014-09-23T00:00:00",
          "2014-09-24T00:00:00",
          "2014-09-25T00:00:00",
          "2014-09-26T00:00:00",
          "2014-09-27T00:00:00",
          "2014-09-28T00:00:00",
          "2014-09-29T00:00:00",
          "2014-09-30T00:00:00",
          "2014-10-01T00:00:00",
          "2014-10-02T00:00:00",
          "2014-10-03T00:00:00",
          "2014-10-04T00:00:00",
          "2014-10-05T00:00:00",
          "2014-10-06T00:00:00",
          "2014-10-07T00:00:00",
          "2014-10-08T00:00:00",
          "2014-10-09T00:00:00",
          "2014-10-10T00:00:00",
          "2014-10-11T00:00:00",
          "2014-10-12T00:00:00",
          "2014-10-13T00:00:00",
          "2014-10-14T00:00:00",
          "2014-10-15T00:00:00",
          "2014-10-16T00:00:00",
          "2014-10-17T00:00:00",
          "2014-10-18T00:00:00",
          "2014-10-19T00:00:00",
          "2014-10-20T00:00:00",
          "2014-10-21T00:00:00",
          "2014-10-22T00:00:00",
          "2014-10-23T00:00:00",
          "2014-10-24T00:00:00",
          "2014-10-25T00:00:00",
          "2014-10-26T00:00:00",
          "2014-10-27T00:00:00",
          "2014-10-28T00:00:00",
          "2014-10-29T00:00:00",
          "2014-10-30T00:00:00",
          "2014-10-31T00:00:00",
          "2014-11-01T00:00:00",
          "2014-11-02T00:00:00",
          "2014-11-03T00:00:00",
          "2014-11-04T00:00:00",
          "2014-11-05T00:00:00",
          "2014-11-06T00:00:00",
          "2014-11-07T00:00:00",
          "2014-11-08T00:00:00",
          "2014-11-09T00:00:00",
          "2014-11-10T00:00:00",
          "2014-11-11T00:00:00",
          "2014-11-12T00:00:00",
          "2014-11-13T00:00:00",
          "2014-11-14T00:00:00",
          "2014-11-15T00:00:00",
          "2014-11-16T00:00:00",
          "2014-11-17T00:00:00",
          "2014-11-18T00:00:00",
          "2014-11-19T00:00:00",
          "2014-11-20T00:00:00",
          "2014-11-21T00:00:00",
          "2014-11-22T00:00:00",
          "2014-11-23T00:00:00",
          "2014-11-24T00:00:00",
          "2014-11-25T00:00:00",
          "2014-11-26T00:00:00",
          "2014-11-27T00:00:00",
          "2014-11-28T00:00:00",
          "2014-11-29T00:00:00",
          "2014-11-30T00:00:00",
          "2014-12-01T00:00:00",
          "2014-12-02T00:00:00",
          "2014-12-03T00:00:00",
          "2014-12-04T00:00:00",
          "2014-12-05T00:00:00",
          "2014-12-06T00:00:00",
          "2014-12-07T00:00:00",
          "2014-12-08T00:00:00",
          "2014-12-09T00:00:00",
          "2014-12-10T00:00:00",
          "2014-12-11T00:00:00",
          "2014-12-12T00:00:00",
          "2014-12-13T00:00:00",
          "2014-12-14T00:00:00",
          "2014-12-15T00:00:00",
          "2014-12-16T00:00:00",
          "2014-12-17T00:00:00",
          "2014-12-18T00:00:00",
          "2014-12-19T00:00:00",
          "2014-12-20T00:00:00",
          "2014-12-21T00:00:00",
          "2014-12-22T00:00:00",
          "2014-12-23T00:00:00",
          "2014-12-24T00:00:00",
          "2014-12-25T00:00:00",
          "2014-12-26T00:00:00",
          "2014-12-27T00:00:00",
          "2014-12-28T00:00:00",
          "2014-12-29T00:00:00",
          "2014-12-30T00:00:00",
          "2014-12-31T00:00:00",
          "2015-01-01T00:00:00",
          "2015-01-02T00:00:00",
          "2015-01-03T00:00:00",
          "2015-01-04T00:00:00",
          "2015-01-05T00:00:00",
          "2015-01-06T00:00:00",
          "2015-01-07T00:00:00",
          "2015-01-08T00:00:00",
          "2015-01-09T00:00:00",
          "2015-01-10T00:00:00",
          "2015-01-11T00:00:00",
          "2015-01-12T00:00:00",
          "2015-01-13T00:00:00",
          "2015-01-14T00:00:00",
          "2015-01-15T00:00:00",
          "2015-01-16T00:00:00",
          "2015-01-17T00:00:00",
          "2015-01-18T00:00:00",
          "2015-01-19T00:00:00",
          "2015-01-20T00:00:00",
          "2015-01-21T00:00:00",
          "2015-01-22T00:00:00",
          "2015-01-23T00:00:00",
          "2015-01-24T00:00:00",
          "2015-01-25T00:00:00",
          "2015-01-26T00:00:00",
          "2015-01-27T00:00:00",
          "2015-01-28T00:00:00",
          "2015-01-29T00:00:00",
          "2015-01-30T00:00:00",
          "2015-01-31T00:00:00"
         ],
         "xaxis": "x",
         "y": [
          0.9091729720438747,
          0.9121245277938846,
          0.91178491596657,
          0.9105821974141963,
          0.9114052473898672,
          0.9097914767578887,
          0.9098848962161903,
          0.9090777486055484,
          0.9092067619945414,
          0.9106637068590417,
          0.910695534299929,
          0.9099064360461918,
          0.9089172018858781,
          0.9080681989145838,
          0.9088927365688554,
          0.9071255088264812,
          0.9066563771313071,
          0.9056798802289008,
          0.9053003181284206,
          0.9044085264901742,
          0.9033991710796322,
          0.9026900310745375,
          0.9026226522285077,
          0.9026669403042195,
          0.902171848399407,
          0.9018557175323572,
          0.9015091363088924,
          0.9012751455388922,
          0.903974349012852,
          0.9051444611715254,
          0.9065044467863563,
          0.9090175900629095,
          0.9091417680476027,
          0.9119102321574754,
          0.9138861419669391,
          0.9151746829120406,
          0.9162230319879777,
          0.9166555660886362,
          0.9145561913632642,
          0.9130120765053001,
          0.9112212183149028,
          0.9063440950849401,
          0.9037811263056349,
          0.9003014598129466,
          0.8986405144623149,
          0.896960441427538,
          0.898738103691036,
          0.8967625306294057,
          0.894846797992977,
          0.8922982407657541,
          0.8891389518300624,
          0.8861665777448647,
          0.8888133286191184,
          0.8926886999497151,
          0.8956858584826468,
          0.8929331798016208,
          0.8761528441015839,
          0.8955529566472508,
          0.9026541130768322,
          0.9071820200199993,
          0.9110598098224881,
          0.9042931761358596,
          0.8999092603443597,
          0.8923129324599914,
          0.8895907981056913,
          0.8908420811632446,
          0.8914222472027196,
          0.8918305260969666,
          0.8921841296389532,
          0.8921736425384311,
          0.8908978807261687,
          0.8921432169293181,
          0.8931882792486272,
          0.8932780714851147,
          0.8943974023330549,
          0.894271730225854,
          0.8949113882685423,
          0.8951208698842876,
          0.896425697833457,
          0.8968891113569002,
          0.8980505921909285,
          0.89913346337873,
          0.8994523052441867,
          0.900569418739417,
          0.9025055976291919,
          0.9022552217081381,
          0.9032020848963344,
          0.9047887370853327,
          0.903275765020622,
          0.9047302855420596,
          0.90588475644715,
          0.9066515346746956,
          0.911351663447011,
          0.9159031421086707,
          0.9231247672151165,
          0.9273648073423265,
          0.9295243128322829,
          0.931227452240329,
          0.9324837547557,
          0.932058733657565,
          0.9325823929453987,
          0.9310040638500634,
          0.9309844084720971,
          0.9289128199546759,
          0.9263027505879773,
          0.9251863109098798,
          0.9252258590061571,
          0.9246907812037916,
          0.9237262996056371,
          0.9232073330029984,
          0.9206263184115374,
          0.9199876097014783,
          0.9198457830870256,
          0.9188104405665669,
          0.9169188474452074,
          0.9164796279358481,
          0.9172739684691822,
          0.9178046894783185,
          0.9169391403926378,
          0.9146549465527976,
          0.9061286748090813,
          0.8992565120210344,
          0.8955937360901026,
          0.8904429149865395,
          0.8880280096227847,
          0.8896637093598276,
          0.8881428791637467,
          0.8873227241567323,
          0.8871741641142634,
          0.8860846372391372,
          0.8874324928167073,
          0.8870667003404316,
          0.8878401280053715,
          0.8862846364822272,
          0.8862484870622848,
          0.8857464226866513,
          0.8844774277539172,
          0.8827074345395889,
          0.8802496132990579,
          0.8796036228937129,
          0.8775751811556062,
          0.8767859771542528,
          0.879279676404796,
          0.8789172068021939,
          0.8787954390733291,
          0.879556925024725,
          0.879043520398945,
          0.8798528329767267,
          0.8800628629337044,
          0.8810345342874991,
          0.8813658287648715,
          0.8841635776455881,
          0.8866733505941304,
          0.8870768747804598,
          0.88926042938251,
          0.8904763976505273,
          0.8886120564317339,
          0.8880592773590527,
          0.8875228000935934,
          0.8868430994276199,
          0.8864389576807785,
          0.8856220462501516,
          0.8881166650830454,
          0.8889731390120315,
          0.8907560135897195,
          0.89155137104097,
          0.8781436605575905,
          0.8641464941128912,
          0.8521190115540394,
          0.8416199381015853,
          0.830521338769888,
          0.8227778921459125,
          0.8152941144130152,
          0.81040972534084,
          0.8040933268214658,
          0.7996649751379655,
          0.796951732440645,
          0.7933943841904295,
          0.7904431421776618,
          0.7870298971587912,
          0.7843801747541759,
          0.7821033126759809,
          0.7820669384188859,
          0.7812659638641622,
          0.780115071315399,
          0.7782338160227893,
          0.7766686707944095,
          0.77613212973819,
          0.7751533580776306,
          0.7748078275764798,
          0.7736176294972178,
          0.7729965315478569,
          0.7731222751019308,
          0.7729298707853876,
          0.7707936917672598,
          0.7698096623402046,
          0.7696657502013461,
          0.7687690665343899,
          0.7693570461670188,
          0.7680123589412124,
          0.7680495513115603,
          0.7675079252578283,
          0.7673597194150933,
          0.7683816878890182,
          0.7664449844575159,
          0.7631987862329812,
          0.7616608018132391,
          0.7610855969380386,
          0.760658985404101,
          0.7595037453166357,
          0.7598370590545231,
          0.7599202112618038,
          0.76061153979798,
          0.7605386650220274,
          0.759046520762485,
          0.75906933580612,
          0.7600205099325551,
          0.7593891538817411,
          0.7590116065132553,
          0.7595682835066255,
          0.7594868733815681,
          0.758080181375943,
          0.7571051731289076,
          0.7557967184032557,
          0.7545297684619594,
          0.7521212690496017,
          0.7496871158396775,
          0.7488983850863867,
          0.7477539471049237,
          0.7462534619168436,
          0.746267333791785,
          0.7454999649775446,
          0.7466211769863162,
          0.7459445183209921,
          0.744732296985274,
          0.7444315000706045,
          0.7456126843963314,
          0.7453484933243054,
          0.745614853801041,
          0.7455716678445177,
          0.7454304046781335,
          0.7453411144092942,
          0.7440487659230188,
          0.7419092269357791,
          0.7405633281912436,
          0.7418221896905708,
          0.7398468090012329,
          0.7386756411912544,
          0.7369320934355412,
          0.7372628926226182,
          0.7357837859794215,
          0.7371407004008317,
          0.7377136836043658,
          0.7392410307983893,
          0.7421213067919888,
          0.7468008502235096,
          0.7511957942218311,
          0.7554375103366795,
          0.7583763397499025,
          0.7596472388750287,
          0.7607621179810051,
          0.762259135328957,
          0.7643297043791022,
          0.766326369040877,
          0.7670751461466766,
          0.768406604359768,
          0.7689798751287522,
          0.770214086530357,
          0.7682934707960352,
          0.7678543544293945,
          0.7680283878718462,
          0.7659163832733459,
          0.7659766971224654,
          0.7671820056392737,
          0.767001564819463,
          0.7679459272592079,
          0.76775204728156,
          0.7679620277441757,
          0.769707034655983,
          0.7717829528994602,
          0.7737946385342764,
          0.7754098722802708,
          0.775978436695979,
          0.774758132690802,
          0.7773244000280607,
          0.7775259354141857,
          0.7777525645241511,
          0.776899511135692,
          0.7771819702975351,
          0.7761844675037407,
          0.7743481303530001,
          0.7750493313598966,
          0.7759767741139938,
          0.7741665829968245,
          0.7739702212224878,
          0.7758694723466963,
          0.7750250473629317,
          0.775107935845841,
          0.7760380394775181,
          0.777535679279281,
          0.7775907110565354,
          0.778807254352439,
          0.779741885712647,
          0.7803906106297641,
          0.7816969029218737,
          0.783945804647211,
          0.7826796622600208,
          0.7835738926330365,
          0.7846492843958143,
          0.7830040265627277,
          0.7825828958242902,
          0.7804112172114369,
          0.7794574872893805,
          0.779545054143143,
          0.7782320925786247,
          0.7785392018990855,
          0.7789792362222533,
          0.7812046117288021,
          0.7834924011467326,
          0.7839932578692347,
          0.7849488380204837,
          0.7850671415697891,
          0.7849791160485556,
          0.7854743441403684,
          0.7849053488543648,
          0.7840393756899924,
          0.7849643547342675,
          0.7858734989213307,
          0.7869291038208552,
          0.7884593456310427,
          0.7892738499828136,
          0.7880612234911861,
          0.7878332710869855,
          0.7868634163207036,
          0.7856920395731065,
          0.7840816716820707,
          0.7840167345837481,
          0.7832331574950688,
          0.7830752911446022,
          0.7827817863084289,
          0.7848259789319791,
          0.7847277584322614,
          0.7852336428993594,
          0.785145683977501,
          0.7854520882193885,
          0.785559599707701,
          0.7866756646904598,
          0.7857674943329312,
          0.7845902534373799,
          0.7836093450415347,
          0.7827744393774455,
          0.7828931462099762,
          0.7825670006403945,
          0.7835853647453218,
          0.7845390908979218,
          0.7833336842509415,
          0.7825941109231552,
          0.7832717486428472,
          0.7824895752413259,
          0.7830692943665554,
          0.7832440435875515,
          0.7829589520302862,
          0.7827003261831086,
          0.7827576515658998,
          0.7839769681172168,
          0.7839478252349625,
          0.7833844361526205,
          0.7832715931717703,
          0.7839872145027227,
          0.7848301308305518,
          0.7839019865791406,
          0.7838902721381538,
          0.7836577116568434,
          0.7834748299242001,
          0.7837007282632646,
          0.784028418256041,
          0.7820166685474763,
          0.7821221450126269,
          0.7829004469535602,
          0.7829562684386969,
          0.7828794696920109,
          0.7836277772486344,
          0.7845962058852628,
          0.7830940468701925,
          0.7819383625508256,
          0.7816395283647614,
          0.7820870270373245,
          0.782654832938023,
          0.7817248711569564,
          0.7813301149850589,
          0.7795800981683574,
          0.7744030251339306,
          0.7743053620639198,
          0.7713287433913852,
          0.7690498656895843,
          0.7678846354646527,
          0.7672755790382324,
          0.7662600557574963,
          0.7639020817002284,
          0.7646266762345915,
          0.7653830734046854,
          0.7667410897310544,
          0.7678041072573253,
          0.7682646645416378,
          0.768836664345926,
          0.769424649150211,
          0.7710122829881936,
          0.7709013918670206,
          0.7722430942530836,
          0.7724855079269237
         ],
         "yaxis": "y"
        }
       ],
       "layout": {
        "annotations": [
         {
          "font": {
           "size": 18
          },
          "showarrow": false,
          "text": "A",
          "textangle": 0,
          "x": "2014-06-01",
          "xref": "x",
          "y": 1.045,
          "yref": "paper"
         }
        ],
        "barmode": "overlay",
        "font": {
         "size": 13
        },
        "height": 600,
        "legend": {
         "borderwidth": 0.5,
         "orientation": "h",
         "x": 0.35
        },
        "plot_bgcolor": "#E8E8EA",
        "shapes": [
         {
          "line": {
           "color": "black",
           "dash": "dot"
          },
          "type": "line",
          "x0": "2014-06-01",
          "x1": "2014-06-01",
          "xref": "x",
          "y0": 0,
          "y1": 1,
          "yref": "paper"
         }
        ],
        "spikedistance": 1000,
        "template": {
         "data": {
          "bar": [
           {
            "error_x": {
             "color": "#2a3f5f"
            },
            "error_y": {
             "color": "#2a3f5f"
            },
            "marker": {
             "line": {
              "color": "#E5ECF6",
              "width": 0.5
             },
             "pattern": {
              "fillmode": "overlay",
              "size": 10,
              "solidity": 0.2
             }
            },
            "type": "bar"
           }
          ],
          "barpolar": [
           {
            "marker": {
             "line": {
              "color": "#E5ECF6",
              "width": 0.5
             },
             "pattern": {
              "fillmode": "overlay",
              "size": 10,
              "solidity": 0.2
             }
            },
            "type": "barpolar"
           }
          ],
          "carpet": [
           {
            "aaxis": {
             "endlinecolor": "#2a3f5f",
             "gridcolor": "white",
             "linecolor": "white",
             "minorgridcolor": "white",
             "startlinecolor": "#2a3f5f"
            },
            "baxis": {
             "endlinecolor": "#2a3f5f",
             "gridcolor": "white",
             "linecolor": "white",
             "minorgridcolor": "white",
             "startlinecolor": "#2a3f5f"
            },
            "type": "carpet"
           }
          ],
          "choropleth": [
           {
            "colorbar": {
             "outlinewidth": 0,
             "ticks": ""
            },
            "type": "choropleth"
           }
          ],
          "contour": [
           {
            "colorbar": {
             "outlinewidth": 0,
             "ticks": ""
            },
            "colorscale": [
             [
              0,
              "#0d0887"
             ],
             [
              0.1111111111111111,
              "#46039f"
             ],
             [
              0.2222222222222222,
              "#7201a8"
             ],
             [
              0.3333333333333333,
              "#9c179e"
             ],
             [
              0.4444444444444444,
              "#bd3786"
             ],
             [
              0.5555555555555556,
              "#d8576b"
             ],
             [
              0.6666666666666666,
              "#ed7953"
             ],
             [
              0.7777777777777778,
              "#fb9f3a"
             ],
             [
              0.8888888888888888,
              "#fdca26"
             ],
             [
              1,
              "#f0f921"
             ]
            ],
            "type": "contour"
           }
          ],
          "contourcarpet": [
           {
            "colorbar": {
             "outlinewidth": 0,
             "ticks": ""
            },
            "type": "contourcarpet"
           }
          ],
          "heatmap": [
           {
            "colorbar": {
             "outlinewidth": 0,
             "ticks": ""
            },
            "colorscale": [
             [
              0,
              "#0d0887"
             ],
             [
              0.1111111111111111,
              "#46039f"
             ],
             [
              0.2222222222222222,
              "#7201a8"
             ],
             [
              0.3333333333333333,
              "#9c179e"
             ],
             [
              0.4444444444444444,
              "#bd3786"
             ],
             [
              0.5555555555555556,
              "#d8576b"
             ],
             [
              0.6666666666666666,
              "#ed7953"
             ],
             [
              0.7777777777777778,
              "#fb9f3a"
             ],
             [
              0.8888888888888888,
              "#fdca26"
             ],
             [
              1,
              "#f0f921"
             ]
            ],
            "type": "heatmap"
           }
          ],
          "heatmapgl": [
           {
            "colorbar": {
             "outlinewidth": 0,
             "ticks": ""
            },
            "colorscale": [
             [
              0,
              "#0d0887"
             ],
             [
              0.1111111111111111,
              "#46039f"
             ],
             [
              0.2222222222222222,
              "#7201a8"
             ],
             [
              0.3333333333333333,
              "#9c179e"
             ],
             [
              0.4444444444444444,
              "#bd3786"
             ],
             [
              0.5555555555555556,
              "#d8576b"
             ],
             [
              0.6666666666666666,
              "#ed7953"
             ],
             [
              0.7777777777777778,
              "#fb9f3a"
             ],
             [
              0.8888888888888888,
              "#fdca26"
             ],
             [
              1,
              "#f0f921"
             ]
            ],
            "type": "heatmapgl"
           }
          ],
          "histogram": [
           {
            "marker": {
             "pattern": {
              "fillmode": "overlay",
              "size": 10,
              "solidity": 0.2
             }
            },
            "type": "histogram"
           }
          ],
          "histogram2d": [
           {
            "colorbar": {
             "outlinewidth": 0,
             "ticks": ""
            },
            "colorscale": [
             [
              0,
              "#0d0887"
             ],
             [
              0.1111111111111111,
              "#46039f"
             ],
             [
              0.2222222222222222,
              "#7201a8"
             ],
             [
              0.3333333333333333,
              "#9c179e"
             ],
             [
              0.4444444444444444,
              "#bd3786"
             ],
             [
              0.5555555555555556,
              "#d8576b"
             ],
             [
              0.6666666666666666,
              "#ed7953"
             ],
             [
              0.7777777777777778,
              "#fb9f3a"
             ],
             [
              0.8888888888888888,
              "#fdca26"
             ],
             [
              1,
              "#f0f921"
             ]
            ],
            "type": "histogram2d"
           }
          ],
          "histogram2dcontour": [
           {
            "colorbar": {
             "outlinewidth": 0,
             "ticks": ""
            },
            "colorscale": [
             [
              0,
              "#0d0887"
             ],
             [
              0.1111111111111111,
              "#46039f"
             ],
             [
              0.2222222222222222,
              "#7201a8"
             ],
             [
              0.3333333333333333,
              "#9c179e"
             ],
             [
              0.4444444444444444,
              "#bd3786"
             ],
             [
              0.5555555555555556,
              "#d8576b"
             ],
             [
              0.6666666666666666,
              "#ed7953"
             ],
             [
              0.7777777777777778,
              "#fb9f3a"
             ],
             [
              0.8888888888888888,
              "#fdca26"
             ],
             [
              1,
              "#f0f921"
             ]
            ],
            "type": "histogram2dcontour"
           }
          ],
          "mesh3d": [
           {
            "colorbar": {
             "outlinewidth": 0,
             "ticks": ""
            },
            "type": "mesh3d"
           }
          ],
          "parcoords": [
           {
            "line": {
             "colorbar": {
              "outlinewidth": 0,
              "ticks": ""
             }
            },
            "type": "parcoords"
           }
          ],
          "pie": [
           {
            "automargin": true,
            "type": "pie"
           }
          ],
          "scatter": [
           {
            "marker": {
             "colorbar": {
              "outlinewidth": 0,
              "ticks": ""
             }
            },
            "type": "scatter"
           }
          ],
          "scatter3d": [
           {
            "line": {
             "colorbar": {
              "outlinewidth": 0,
              "ticks": ""
             }
            },
            "marker": {
             "colorbar": {
              "outlinewidth": 0,
              "ticks": ""
             }
            },
            "type": "scatter3d"
           }
          ],
          "scattercarpet": [
           {
            "marker": {
             "colorbar": {
              "outlinewidth": 0,
              "ticks": ""
             }
            },
            "type": "scattercarpet"
           }
          ],
          "scattergeo": [
           {
            "marker": {
             "colorbar": {
              "outlinewidth": 0,
              "ticks": ""
             }
            },
            "type": "scattergeo"
           }
          ],
          "scattergl": [
           {
            "marker": {
             "colorbar": {
              "outlinewidth": 0,
              "ticks": ""
             }
            },
            "type": "scattergl"
           }
          ],
          "scattermapbox": [
           {
            "marker": {
             "colorbar": {
              "outlinewidth": 0,
              "ticks": ""
             }
            },
            "type": "scattermapbox"
           }
          ],
          "scatterpolar": [
           {
            "marker": {
             "colorbar": {
              "outlinewidth": 0,
              "ticks": ""
             }
            },
            "type": "scatterpolar"
           }
          ],
          "scatterpolargl": [
           {
            "marker": {
             "colorbar": {
              "outlinewidth": 0,
              "ticks": ""
             }
            },
            "type": "scatterpolargl"
           }
          ],
          "scatterternary": [
           {
            "marker": {
             "colorbar": {
              "outlinewidth": 0,
              "ticks": ""
             }
            },
            "type": "scatterternary"
           }
          ],
          "surface": [
           {
            "colorbar": {
             "outlinewidth": 0,
             "ticks": ""
            },
            "colorscale": [
             [
              0,
              "#0d0887"
             ],
             [
              0.1111111111111111,
              "#46039f"
             ],
             [
              0.2222222222222222,
              "#7201a8"
             ],
             [
              0.3333333333333333,
              "#9c179e"
             ],
             [
              0.4444444444444444,
              "#bd3786"
             ],
             [
              0.5555555555555556,
              "#d8576b"
             ],
             [
              0.6666666666666666,
              "#ed7953"
             ],
             [
              0.7777777777777778,
              "#fb9f3a"
             ],
             [
              0.8888888888888888,
              "#fdca26"
             ],
             [
              1,
              "#f0f921"
             ]
            ],
            "type": "surface"
           }
          ],
          "table": [
           {
            "cells": {
             "fill": {
              "color": "#EBF0F8"
             },
             "line": {
              "color": "white"
             }
            },
            "header": {
             "fill": {
              "color": "#C8D4E3"
             },
             "line": {
              "color": "white"
             }
            },
            "type": "table"
           }
          ]
         },
         "layout": {
          "annotationdefaults": {
           "arrowcolor": "#2a3f5f",
           "arrowhead": 0,
           "arrowwidth": 1
          },
          "autotypenumbers": "strict",
          "coloraxis": {
           "colorbar": {
            "outlinewidth": 0,
            "ticks": ""
           }
          },
          "colorscale": {
           "diverging": [
            [
             0,
             "#8e0152"
            ],
            [
             0.1,
             "#c51b7d"
            ],
            [
             0.2,
             "#de77ae"
            ],
            [
             0.3,
             "#f1b6da"
            ],
            [
             0.4,
             "#fde0ef"
            ],
            [
             0.5,
             "#f7f7f7"
            ],
            [
             0.6,
             "#e6f5d0"
            ],
            [
             0.7,
             "#b8e186"
            ],
            [
             0.8,
             "#7fbc41"
            ],
            [
             0.9,
             "#4d9221"
            ],
            [
             1,
             "#276419"
            ]
           ],
           "sequential": [
            [
             0,
             "#0d0887"
            ],
            [
             0.1111111111111111,
             "#46039f"
            ],
            [
             0.2222222222222222,
             "#7201a8"
            ],
            [
             0.3333333333333333,
             "#9c179e"
            ],
            [
             0.4444444444444444,
             "#bd3786"
            ],
            [
             0.5555555555555556,
             "#d8576b"
            ],
            [
             0.6666666666666666,
             "#ed7953"
            ],
            [
             0.7777777777777778,
             "#fb9f3a"
            ],
            [
             0.8888888888888888,
             "#fdca26"
            ],
            [
             1,
             "#f0f921"
            ]
           ],
           "sequentialminus": [
            [
             0,
             "#0d0887"
            ],
            [
             0.1111111111111111,
             "#46039f"
            ],
            [
             0.2222222222222222,
             "#7201a8"
            ],
            [
             0.3333333333333333,
             "#9c179e"
            ],
            [
             0.4444444444444444,
             "#bd3786"
            ],
            [
             0.5555555555555556,
             "#d8576b"
            ],
            [
             0.6666666666666666,
             "#ed7953"
            ],
            [
             0.7777777777777778,
             "#fb9f3a"
            ],
            [
             0.8888888888888888,
             "#fdca26"
            ],
            [
             1,
             "#f0f921"
            ]
           ]
          },
          "colorway": [
           "#636efa",
           "#EF553B",
           "#00cc96",
           "#ab63fa",
           "#FFA15A",
           "#19d3f3",
           "#FF6692",
           "#B6E880",
           "#FF97FF",
           "#FECB52"
          ],
          "font": {
           "color": "#2a3f5f"
          },
          "geo": {
           "bgcolor": "white",
           "lakecolor": "white",
           "landcolor": "#E5ECF6",
           "showlakes": true,
           "showland": true,
           "subunitcolor": "white"
          },
          "hoverlabel": {
           "align": "left"
          },
          "hovermode": "closest",
          "mapbox": {
           "style": "light"
          },
          "paper_bgcolor": "white",
          "plot_bgcolor": "#E5ECF6",
          "polar": {
           "angularaxis": {
            "gridcolor": "white",
            "linecolor": "white",
            "ticks": ""
           },
           "bgcolor": "#E5ECF6",
           "radialaxis": {
            "gridcolor": "white",
            "linecolor": "white",
            "ticks": ""
           }
          },
          "scene": {
           "xaxis": {
            "backgroundcolor": "#E5ECF6",
            "gridcolor": "white",
            "gridwidth": 2,
            "linecolor": "white",
            "showbackground": true,
            "ticks": "",
            "zerolinecolor": "white"
           },
           "yaxis": {
            "backgroundcolor": "#E5ECF6",
            "gridcolor": "white",
            "gridwidth": 2,
            "linecolor": "white",
            "showbackground": true,
            "ticks": "",
            "zerolinecolor": "white"
           },
           "zaxis": {
            "backgroundcolor": "#E5ECF6",
            "gridcolor": "white",
            "gridwidth": 2,
            "linecolor": "white",
            "showbackground": true,
            "ticks": "",
            "zerolinecolor": "white"
           }
          },
          "shapedefaults": {
           "line": {
            "color": "#2a3f5f"
           }
          },
          "ternary": {
           "aaxis": {
            "gridcolor": "white",
            "linecolor": "white",
            "ticks": ""
           },
           "baxis": {
            "gridcolor": "white",
            "linecolor": "white",
            "ticks": ""
           },
           "bgcolor": "#E5ECF6",
           "caxis": {
            "gridcolor": "white",
            "linecolor": "white",
            "ticks": ""
           }
          },
          "title": {
           "x": 0.05
          },
          "xaxis": {
           "automargin": true,
           "gridcolor": "white",
           "linecolor": "white",
           "ticks": "",
           "title": {
            "standoff": 15
           },
           "zerolinecolor": "white",
           "zerolinewidth": 2
          },
          "yaxis": {
           "automargin": true,
           "gridcolor": "white",
           "linecolor": "white",
           "ticks": "",
           "title": {
            "standoff": 15
           },
           "zerolinecolor": "white",
           "zerolinewidth": 2
          }
         }
        },
        "xaxis": {
         "anchor": "y",
         "domain": [
          0,
          1
         ],
         "dtick": "M1",
         "matches": "x2",
         "range": [
          "2014-01-01",
          "2015-01-01"
         ],
         "showspikes": true,
         "showticklabels": false,
         "spikecolor": "black",
         "spikemode": "across",
         "spikesnap": "cursor",
         "spikethickness": 1,
         "tickformat": "%Y-%m-%d",
         "tickmode": "linear"
        },
        "xaxis2": {
         "anchor": "y2",
         "domain": [
          0,
          1
         ],
         "dtick": "M1",
         "range": [
          "2014-01-01",
          "2015-01-01"
         ],
         "showspikes": true,
         "spikecolor": "black",
         "spikemode": "across",
         "spikesnap": "cursor",
         "spikethickness": 1,
         "tickformat": "%Y-%m-%d",
         "tickmode": "linear"
        },
        "xaxis3": {
         "dtick": "M1",
         "tickformat": "%Y-%m-%d",
         "tickmode": "linear"
        },
        "yaxis": {
         "anchor": "x",
         "domain": [
          0.5125,
          1
         ],
         "title": {
          "text": "AUROC (Pleural Abnormalities)"
         }
        },
        "yaxis2": {
         "anchor": "x2",
         "domain": [
          0,
          0.4875
         ],
         "range": [
          -10,
          1
         ],
         "title": {
          "text": "MMC"
         }
        }
       }
      }
     },
     "metadata": {},
     "output_type": "display_data"
    }
   ],
   "source": [
    "\n",
    "fh = FigureHelper(x)\n",
    "\n",
    "\n",
    "row=1\n",
    "for name, score_unify in perf_graphs.items():\n",
    "    fh.add_trace(y=smooth(score_unify[\"yp\"], span=7), \n",
    "                 yu=smooth(score_unify[\"yp\"]+score_unify[\"ye\"], span=7),\n",
    "                 yl=smooth(score_unify[\"yp\"]-score_unify[\"ye\"], span=7), name=name, connectgaps=False, row=row, col=1)\n",
    "\n",
    "row=2\n",
    "for name, score_unify in score_graphs.items():\n",
    "    fh.add_trace(y=smooth(score_unify, span=7), name=name, connectgaps=False, row=row, col=1)\n",
    "    \n",
    "    \n",
    "# row += 1\n",
    "# for name, score_unify in vae_graphs.items():\n",
    "#     fh.add_trace(y=smooth(score_unify, span=7), name=name, connectgaps=False, row=row, col=1)\n",
    "\n",
    "\n",
    "\n",
    "fig = fh.make_fig(shared_xaxes=True, vertical_spacing=0.025, row_heights=[.2]*row)\n",
    "\n",
    "add_dates(fig, dates, line_y=1.045, include_date=False)\n",
    "\n",
    "fig.update_xaxes(showspikes=True, spikecolor=\"black\", spikesnap=\"cursor\", spikemode=\"across\", spikethickness=1)\n",
    "fig.update_layout(spikedistance=1000)\n",
    "fig.update_layout(height=300*row)\n",
    "fig.update_layout(legend={\"x\": .35, \"orientation\":\"h\", \"borderwidth\": .5})\n",
    "fig.update_xaxes(range=[graph_start, graph_end])\n",
    "fig.update_layout(yaxis1=dict(\n",
    "    # range=[0.8, 1], \n",
    "    title=f\"AUROC ({DriftFromRun.performance_col[1].title()})\"),\n",
    "    yaxis2=dict(range=[-10, 1], title=\"MMC\"))\n",
    "fig.update_layout(barmode='overlay')\n",
    "fig.update_layout(font=dict(size=13))\n",
    "fig.update_layout(plot_bgcolor=\"#E8E8EA\")\n",
    "\n",
    "# fig.update_layout(\n",
    "#     yaxis2 = dict(\n",
    "#         tickmode = 'linear',\n",
    "#         tick0 = 0,\n",
    "#         dtick = 25,\n",
    "#     )\n",
    "# )\n",
    "\n",
    "xaxis = dict(\n",
    "        tickformat = '%Y-%m-%d',\n",
    "        tickmode = 'linear',\n",
    "        dtick = \"M1\"\n",
    "    )\n",
    "fig.update_layout(\n",
    "    xaxis1=xaxis,\n",
    "    xaxis2=xaxis,\n",
    "    xaxis3 = xaxis,\n",
    ")\n",
    "\n",
    "fig.show()"
   ]
  },
  {
   "cell_type": "code",
   "execution_count": 38,
   "metadata": {},
   "outputs": [
    {
     "name": "stdout",
     "output_type": "stream",
     "text": [
      "D:\\Code\\MLOpsDay2\\MedImaging-ModelDriftMonitoring\\html\\graphs_paper\\covid_distance_pleural-abnormalities.svg\n"
     ]
    },
    {
     "data": {
      "text/html": [
       "<img src=\"..\\..\\html\\graphs_paper\\covid_distance_pleural-abnormalities.svg\" />"
      ],
      "text/plain": [
       "<IPython.core.display.HTML object>"
      ]
     },
     "metadata": {},
     "output_type": "display_data"
    }
   ],
   "source": [
    "import plotly.io as pio\n",
    "\n",
    "fname = html_top_dir.joinpath(figure_name+\".svg\")\n",
    "pio.write_image(fig, fname, scale=1, width=5*300, height=2*300)\n",
    "print(fname)\n",
    "\n",
    "relfname = os.path.relpath(str(fname), os.getcwd())\n",
    "display(HTML(f\"\"\"<img src=\"{relfname}\" />\"\"\"))"
   ]
  },
  {
   "cell_type": "code",
   "execution_count": null,
   "metadata": {},
   "outputs": [],
   "source": [
    "raise"
   ]
  },
  {
   "cell_type": "code",
   "execution_count": null,
   "metadata": {},
   "outputs": [],
   "source": [
    "\n",
    "output_file_path = settings.TOP_DIR.joinpath('results', 'drift', name+\".csv\")\n",
    "fname = str(output_file_path)\n",
    "r.download_file(\"outputs/output.csv\", output_file_path=output_file_path)\n",
    "# # Settings to file CSV file\n",
    "\n",
    "# display_args = [\"span\", \"which\", \"clip\", \"standardize_perf\", \"shift_drift_to_perf\", \"performance_col\", \"this_center\", \"this_range\", \"standardize_dates\", \"stat\", \"add_error_bars\"]\n",
    "d = locals()\n",
    "display_args = {k: d[k] for k in display_args if k in d}\n",
    "\n",
    "print(display_args)\n",
    "\n",
    "\n",
    "if not os.path.exists(fname):\n",
    "    raise ValueError(\"no fn\")\n",
    "\n",
    "combined_df_o = pd.read_csv(str(fname), index_col=0, header=[0, 1, 2, 3])\n",
    "combined_df_o.index = pd.to_datetime(combined_df_o.index)\n",
    "\n",
    "flip = column_xs(combined_df_o, include=[\"pval\"])\n",
    "combined_df_o[flip] = 1-combined_df_o[flip]\n",
    "combined_df = combined_df_o.copy()\n",
    "\n",
    "\n",
    "smooth_name = f\"ewm{span}\"\n",
    "\n",
    "error_df = combined_df.swaplevel(0, -1, axis=1)[[\"std\"]].swaplevel(0, -1, axis=1).droplevel(-1, axis=1).copy()\n",
    "combined_df = combined_df.swaplevel(0, -1, axis=1)[[which]].swaplevel(0, -1, axis=1).droplevel(-1, axis=1).copy()\n",
    "\n",
    "html_dir = html_top_dir.joinpath(name)\n",
    "perf_col_name = '-'.join(performance_col)\n",
    "\n",
    "if not os.path.exists(html_dir):\n",
    "    os.makedirs(html_dir)\n",
    "\n",
    "stat_str = '+'.join(stat)\n",
    "fn = f\"{html_dir}/{which}_{stat_str}_stdclip{clip}_smooth-{smooth_name}_{perf_col_name}.html\"\n",
    "\n",
    "print(\"output:\", fn)\n",
    "def is_arg_col(c):\n",
    "    if \"mlflow\" in c or \"_aml\" in c or 'run_' in c or 'url' in c:\n",
    "        return False\n",
    "\n",
    "    ignore = [\"output_dir\", \"input_dir\", 'run', 'display_name', 'id']\n",
    "    return c not in ignore\n",
    "\n",
    "arg_row = run_row[arg_cols].copy()\n",
    "display_row = pd.Series(display_args)\n",
    "params = pd.concat({'Drift': arg_row, \"Display\": display_row}, axis=0).rename(\"Value\").to_frame()\n",
    "\n",
    "if write_html:\n",
    "    with open(fn, 'w') as f:\n",
    "        print(\"\"\"\n",
    "            <style>\n",
    "            table {\n",
    "            font-family: arial, sans-serif;\n",
    "            border-collapse: collapse;\n",
    "            width: 80%;\n",
    "            }\n",
    "\n",
    "            td, th {\n",
    "            border: 1px solid #dddddd;\n",
    "            text-align: left;\n",
    "            padding: 8px;\n",
    "            }\n",
    "\n",
    "            tr:nth-child(even) {\n",
    "            background-color: #dddddd;\n",
    "            }\n",
    "            </style>\n",
    "        \"\"\", file=f)\n",
    "        print(f\"\"\"\n",
    "            <h1>Drift report</h1> created: {datetime.datetime.now()}\n",
    "            <br /><br />\n",
    "            <h2>Arguments </h2>\n",
    "            {params.to_html()}\n",
    "            \"\"\", file=f)\n",
    "\n",
    "def shift_to_other(this, other, this_range=None, this_center=None):\n",
    "    u = other.mean()\n",
    "    r = other.std()#other.max()-other.min()\n",
    "\n",
    "    if this_range is None:\n",
    "        this_range = this.std()#this.max()-this.min()\n",
    "\n",
    "    if this_center is None:\n",
    "        this_center = this.mean()\n",
    "    return (this-this_center)/(this_range)*r+u\n",
    "\n",
    "perf_col = performance_col\n",
    "perf_df = combined_df[perf_col]\n",
    "\n",
    "\n",
    "other_cols = column_xs(combined_df, exclude=['performance', 'count'])\n",
    "other_df = combined_df[other_cols]\n",
    "\n",
    "\n",
    "cxs = column_xs(other_df, include=stat)\n",
    "\n",
    "\n",
    "stats = pd.concat([other_df[cxs].dropna(axis=1), extra_valids[cxs].dropna(axis=1)], axis=0).sort_index()\n",
    "stats = stats.loc[standardize_ix]\n",
    "stats = stats.agg([\"mean\", \"std\"])\n",
    "\n",
    "\n",
    "stats.T\n",
    "\n",
    "otherstd = other_df[cxs].copy()\n",
    "\n",
    "# cannot divide by zero\n",
    "std0 = stats.loc['std'] == 0\n",
    "stats.loc[\"std\", stats.loc['std'] == 0] = 1\n",
    "otherstd = (otherstd-stats.loc['mean'])/(stats.loc[\"std\"])\n",
    "errorstd = (error_df[cxs]-stats.loc['mean'])/(stats.loc[\"std\"])\n",
    "bad_cols = otherstd.columns[otherstd.isnull().max(axis=0)].tolist()\n",
    "\n",
    "print(bad_cols)\n",
    "\n",
    "vae_cols = [c for c in list(otherstd) if \"mu.\" in c[0]]\n",
    "score_cols = [c for c in list(otherstd) if \"activation.\" in c[0]]\n",
    "metadata_cols = sorted(set(otherstd).difference(vae_cols).difference(score_cols))\n",
    "\n",
    "if clip is not None:\n",
    "  otherstd = otherstd.clip(-1*clip, clip)"
   ]
  },
  {
   "cell_type": "code",
   "execution_count": null,
   "metadata": {},
   "outputs": [],
   "source": [
    "x = pd.date_range(combined_df.index.min(), combined_df.index.max())\n",
    "\n",
    "\n",
    "yp = combined_df[perf_col].reindex(x)\n",
    "perf_error_df = error_df[perf_col].reindex(x)\n",
    "\n",
    "all_corr_df = correlate_performance(yp.rename('auroc'), otherstd)\n",
    "all_ig_df = mutual_info_performance(yp.rename('auroc'), otherstd, bins=25)\n",
    "m_ = all_ig_df.to_frame().join(all_corr_df.abs().rename('abs(corr)'))\n",
    "m_ = m_.join(m_.mean(axis=1).rename('mean[abs(corr),info_gain]'))\n",
    "m_ = m_.assign(no_weights=1)\n",
    "m_ = m_.fillna(0)\n",
    "\n",
    "true_counts = combined_df_o['count'].droplevel([0, 1], axis=1)['obs']\n",
    "count_df = combined_df['count'].reindex(x)\n",
    "\n",
    "\n",
    "dates = {\"Laterals Injected\": run_row['nonfrontal_add_date'],\n",
    "         \"Frontals Removed\": run_row['frontal_remove_date'],\n",
    "         \"Peds Added\": run_row['peds_start_date'],\n",
    "         \"Peds Stop\": run_row['peds_end_date'],\n",
    "         \"Val Start\": settings.PADCHEST_SPLIT_DATES[0],\n",
    "        #  \"Test Start\": settings.PADCHEST_SPLIT_DATES[1],\n",
    "         }\n",
    "\n",
    "x = x[x<graph_end]"
   ]
  },
  {
   "cell_type": "code",
   "execution_count": null,
   "metadata": {},
   "outputs": [],
   "source": [
    "weight_names = {\"no_weights\": r\"$MMC$\", \"abs(corr)\": r\"$MMC_w$\",}"
   ]
  },
  {
   "cell_type": "code",
   "execution_count": null,
   "metadata": {},
   "outputs": [],
   "source": [
    "m = m_.copy()\n",
    "\n",
    "yp = yp.reindex(x)\n",
    "otherstd = otherstd.reindex(x)\n",
    "counts = combined_df['count'].iloc[:, 0].reindex(x)\n",
    "counts2 = true_counts.reindex(x)\n",
    "\n",
    "#collect_corr(y, yp, name, when, weights_name, start_date=None, end_date=None)\n",
    "row=1\n",
    "fh = FigureHelper(x)\n",
    "fh.add_trace(y=smooth(yp), name=\"AUROC\", connectgaps=False, line={\"color\": \"blue\"}, \n",
    "             yu=smooth(yp+perf_error_df.reindex(x)), \n",
    "             yl=smooth(yp-perf_error_df.reindex(x)),\n",
    "             row=row, col=1)\n",
    "# row += 1\n",
    "# fh.add_trace(y=smooth(combined_df[congruency_measure_col]*100), row=row, name='% In-distr.', line={\"color\": \"purple\"})\n",
    "row += 1\n",
    "errorstd = errorstd[otherstd.columns]\n",
    "\n",
    "for i, (name, vname) in enumerate(weight_names.items()):\n",
    "    weights = m_[name].sort_values(ascending=False)\n",
    "    # weights = weights.iloc[:5]\n",
    "    y = -w_avg(otherstd.reindex(x), weights=weights.to_dict())\n",
    "    ystd = -w_avg(errorstd.reindex(x), weights=weights.to_dict())\n",
    "    fh.add_trace(y=smooth(y),\n",
    "                        # customdata=smooth(yo),\n",
    "                        showlegend=True, legendgroup=vname,\n",
    "                        name=vname,  \n",
    "                        connectgaps=False, row=row, col=1)\n",
    "\n",
    "# display(HTML(\"\"\"<script async=\"async\" src=\"https://cdnjs.cloudflare.com/ajax/libs/mathjax/2.7.5/latest.js?config=TeX-AMS-MML_HTMLorMML\"></script>\n",
    "#     <script type=\"text/x-mathjax-config\">MathJax.Hub.Config({\"tex2jax\": {\"inlineMath\": [[\"$\", \"$\"], [\"\\\\(\", \"\\\\)\"]], \"processEscapes\": true, \"ignoreClass\": \"document\", \"processClass\": \"math|output_area\"}})</script>\"\"\"))\n",
    "\n",
    "fig = fh.make_fig(shared_xaxes=True, vertical_spacing=0.025, row_heights=[.2]*row)\n",
    "add_dates(fig, dates, line_y=1.045, include_date=False)\n",
    "fig.update_xaxes(showspikes=True, spikecolor=\"black\", spikesnap=\"cursor\", spikemode=\"across\", spikethickness=1)\n",
    "fig.update_layout(spikedistance=1000)\n",
    "fig.update_layout(height=200*row)\n",
    "fig.update_layout(legend={\"x\": .35, \"orientation\":\"h\", \"borderwidth\": .5})\n",
    "fig.update_xaxes(range=[graph_start, graph_end])\n",
    "fig.update_layout(barmode='overlay')\n",
    "fig.update_layout(font=dict(size=13))\n",
    "fig.update_layout(plot_bgcolor=\"#E8E8EA\")\n",
    "\n",
    "fig.update_layout(\n",
    "    yaxis2 = dict(\n",
    "        tickmode = 'linear',\n",
    "        tick0 = 0,\n",
    "        dtick = 25,\n",
    "    )\n",
    ")\n",
    "\n",
    "xaxis = dict(\n",
    "        tickformat = '%Y-%m-%d',\n",
    "        tickmode = 'linear',\n",
    "        dtick = \"M1\"\n",
    "    )\n",
    "fig.update_layout(\n",
    "    xaxis1=xaxis,\n",
    "    xaxis2=xaxis,\n",
    "    xaxis3 = xaxis,\n",
    ")\n",
    "\n",
    "fig.show()\n"
   ]
  },
  {
   "cell_type": "code",
   "execution_count": null,
   "metadata": {},
   "outputs": [],
   "source": [
    "import plotly.io as pio\n",
    "\n",
    "fname = html_top_dir.joinpath(verbose_name+'.svg')\n",
    "pio.write_image(fig, html_top_dir.joinpath(verbose_name+'.svg'), scale=1, width=5*300, height=2*300)\n",
    "fname"
   ]
  },
  {
   "cell_type": "code",
   "execution_count": null,
   "metadata": {},
   "outputs": [],
   "source": [
    "from pathlib import Path\n",
    "relfname = os.path.relpath(str(fname), os.getcwd())\n",
    "display(HTML(f\"\"\"<img src=\"{relfname}\" />\"\"\"))"
   ]
  },
  {
   "cell_type": "code",
   "execution_count": null,
   "metadata": {},
   "outputs": [],
   "source": [
    "!pip install -U kaleido"
   ]
  },
  {
   "cell_type": "code",
   "execution_count": null,
   "metadata": {},
   "outputs": [],
   "source": []
  },
  {
   "cell_type": "code",
   "execution_count": null,
   "metadata": {},
   "outputs": [],
   "source": [
    "raise"
   ]
  },
  {
   "cell_type": "code",
   "execution_count": null,
   "metadata": {},
   "outputs": [],
   "source": [
    "from plotly.subplots import make_subplots\n",
    "import plotly.graph_objects as go\n",
    "import plotly.express as px\n",
    "\n",
    "auroc_cols = column_xs(combined_df, ['auroc'])\n",
    "precision_cols = column_xs(combined_df, ['precision'])\n",
    "recall_cols = column_xs(combined_df, ['recall'])\n",
    "f1_cols = column_xs(combined_df, ['f1-score'])\n",
    "support_cols = column_xs(combined_df, ['support'])\n",
    "\n",
    "cols_ = [auroc_cols, recall_cols, precision_cols, f1_cols, support_cols]\n",
    "fig = make_subplots(rows=len(cols_), cols=1, shared_xaxes=True, vertical_spacing=0.01)\n",
    "\n",
    "names = sorted(set([c[1] for c in itertools.chain(*cols_)]), key=lambda x: 'avg' in x)\n",
    "colors = px.colors.qualitative.Plotly\n",
    "dashes = ['solid', 'dash', 'dotted']\n",
    "\n",
    "list(itertools.product(dashes, colors))\n",
    "\n",
    "lines = {}\n",
    "for name, spec in zip(names, itertools.product(dashes, colors)):\n",
    "    lines[name] = {'color': spec[1], 'dash': spec[0]}\n",
    "\n",
    "visited = set()\n",
    "for r, cols__ in enumerate(cols_, 1):\n",
    "    for c in cols__:\n",
    "        ypp = combined_df[c].reindex(x)\n",
    "        line = lines[c[1]]\n",
    "        showlegend = not c[1] in visited\n",
    "        visited.add(c[1])\n",
    "        fig.add_trace(go.Scatter(x=x, y=smooth(ypp), showlegend=showlegend, legendgroup=c[1],\n",
    "                name=c[1], hovertemplate=\"%{y: .5f}\", connectgaps=False, line=line), row=r, col=1)\n",
    "    fig.update_yaxes(title_text=c[-1], row=r, col=1)\n",
    "add_dates(fig, dates, 1.025)\n",
    "\n",
    "fig.update_layout(title=f\"Peformance\")\n",
    "fig.update_layout(hovermode=\"x unified\")\n",
    "fig.update_layout(height=300*len(cols_))\n",
    "fig.update_xaxes(range=[graph_start, graph_end])\n",
    "fig.update_layout(font=font)\n",
    "\n",
    "fig.show()\n",
    "\n",
    "if write_html:\n",
    "    fig_html = fig.to_html()\n",
    "    with open(fn, 'a') as f:\n",
    "        print(f\"<h2>Performance</h2>\", file=f)\n",
    "        print(fig_html, file=f)"
   ]
  },
  {
   "cell_type": "code",
   "execution_count": null,
   "metadata": {},
   "outputs": [],
   "source": [
    "fh = FigureHelper(x)\n",
    "fh.add_trace(y=smooth(yp), name=\"AUROC\", connectgaps=False, line={\"color\": \"blue\"}, yu=smooth(yp+perf_error_df), yl=smooth(yp-perf_error_df), row=1, col=1)\n",
    "fh.add_trace(y=smooth(combined_df[congruency_measure_col]), row=2, name='Data Congruency (True)')\n",
    "corrs = []\n",
    "\n",
    "if not float(run_row['peds_weight']):\n",
    "    xcols = zip([\"metadata\", \"vae\", \"score\", \"vae+score\", \"metadate+vae+score\"],  [metadata_cols, vae_cols, score_cols, vae_cols+score_cols, vae_cols+score_cols+metadata_cols])\n",
    "else:\n",
    "    xcols = zip([\"vae\", \"score\", \"vae+score\"],  [vae_cols, score_cols, vae_cols+score_cols])\n",
    "\n",
    "for row, (name_, cols) in enumerate(xcols, 1):\n",
    "    for i, name in enumerate([\"abs(corr)\"]):\n",
    "        otherstd_ = otherstd[cols]\n",
    "        weights = m[name].sort_values(ascending=False)\n",
    "        yo = -w_avg(otherstd_.loc[x], weights=weights.to_dict())\n",
    "        \n",
    "        fh.add_trace(y=smooth(yo), name=name_, line={\"width\": 1},  connectgaps=False, row=3, col=1)\n",
    "        \n",
    "        corrs.append(collect_corr(y,yo, name_, \"Everything\", name))\n",
    "        corrs.append(collect_corr(y,yo, name_, \"Validation\", name,\n",
    "                                start_date=settings.PADCHEST_SPLIT_DATES[0], end_date=settings.PADCHEST_SPLIT_DATES[1]))\n",
    "        corrs.append(collect_corr(y,yo, name_, \"Test\", name,\n",
    "                                start_date=settings.PADCHEST_SPLIT_DATES[1]))\n",
    "        corrs.append(collect_corr(y,yo, name_, \"First Year of Test\", name,\n",
    "                                start_date=settings.PADCHEST_SPLIT_DATES[1], end_date=\"2014-12-31\"))\n",
    "\n",
    "\n",
    "fig = fh.make_fig(shared_xaxes=True, vertical_spacing=0.01)\n",
    "add_dates(fig, dates, 1.08)\n",
    "\n",
    "\n",
    "fig.update_layout(title=f\"Level 1 Metrics\")\n",
    "fig.update_xaxes(showspikes=True, spikecolor=\"black\", spikesnap=\"cursor\", spikemode=\"across\", spikethickness=1)\n",
    "fig.update_layout(spikedistance=1000)\n",
    "fig.update_layout(height=600)\n",
    "fig.update_xaxes(range=[graph_start, graph_end])\n",
    "fig.update_layout(barmode='overlay')\n",
    "corr_df = pd.DataFrame(corrs).sort_values('when')\n",
    "display(corr_df)\n",
    "fig.show()\n",
    "\n",
    "fig_html = fig.to_html()\n",
    "\n",
    "if write_html:\n",
    "    with open(fn, 'a') as f:\n",
    "        print(f\"<h2>Level 1 Unified</h2>\", file=f)\n",
    "        for w, grp in corr_df.groupby('when'):\n",
    "            print(f\"<strong>{w}</strong>{grp.to_html()}\", file=f)\n",
    "        print(fig_html, file=f)\n"
   ]
  },
  {
   "cell_type": "code",
   "execution_count": null,
   "metadata": {},
   "outputs": [],
   "source": [
    "fh = FigureHelper(x, dashes=['solid', 'dot', 'dash', 'longdash', 'dashdot', 'longdashdot'])\n",
    "fh.add_trace(y=smooth(yp), name=\"AUROC\", connectgaps=False, line={\"color\": \"blue\"}, yu=smooth(yp+perf_error_df), yl=smooth(yp-perf_error_df), row=1, col=1)\n",
    "fh.add_trace(y=smooth(combined_df[congruency_measure_col]), row=2, name='Data Congruency (True)')\n",
    "corrs = []\n",
    "\n",
    "def partition(l, n):\n",
    "    return [l[i:i + n] for i in range(0, len(l), n)]\n",
    "\n",
    "cols = metadata_cols\n",
    "otherstd_ = otherstd[cols]\n",
    "cols_chi2 = column_xs(otherstd_, include='chi2')\n",
    "otherstd_ = otherstd[cols_chi2]\n",
    "cols_ = partition(cols_chi2, 12)\n",
    "print(len(cols_))\n",
    "\n",
    "for row, cols in enumerate(cols_, 3):\n",
    "    for c in cols:\n",
    "        yo = -otherstd[c]\n",
    "        fh.add_trace(y=smooth(yo), name=str(c), connectgaps=False, row=row, col=1)\n",
    "        \n",
    "        corrs.append(collect_corr(y,yo, str(c), \"Everything\", 'N/A'))\n",
    "        corrs.append(collect_corr(y,yo, str(c), \"Validation\", 'N/A',\n",
    "                                start_date=settings.PADCHEST_SPLIT_DATES[0], end_date=settings.PADCHEST_SPLIT_DATES[1]))\n",
    "        corrs.append(collect_corr(y,yo, str(c), \"Test\", 'N/A',\n",
    "                                start_date=settings.PADCHEST_SPLIT_DATES[1]))\n",
    "        corrs.append(collect_corr(y,yo, str(c), \"First Year of Test\", 'N/A',\n",
    "                                start_date=settings.PADCHEST_SPLIT_DATES[1], end_date=\"2014-12-31\"))\n",
    "\n",
    "if not float(run_row['peds_weight']):     \n",
    "    fig = fh.make_fig(shared_xaxes=True, vertical_spacing=0.01)\n",
    "    add_dates(fig, dates, 1.05)\n",
    "\n",
    "    fig.update_layout(title=f\"Metadata Categorical\")\n",
    "    fig.update_xaxes(showspikes=True, spikecolor=\"black\", spikesnap=\"cursor\", spikemode=\"across\", spikethickness=1)\n",
    "    fig.update_layout(spikedistance=1000)\n",
    "    fig.update_layout(height=200*(len(cols_)+2))\n",
    "    fig.update_xaxes(range=[graph_start, graph_end])\n",
    "    fig.update_layout(font=font)\n",
    "    fig.update_layout(barmode='overlay')\n",
    "\n",
    "    corr_df = pd.DataFrame(corrs)\n",
    "    display(corr_df)\n",
    "\n",
    "    fig.show()\n",
    "\n",
    "\n",
    "    fig_html = fig.to_html()\n",
    "    if write_html: \n",
    "        with open(fn, 'a') as f:\n",
    "            print(f\"<h2>Metadata Categorical</h2>\", file=f)\n",
    "            for w, grp in corr_df.groupby('when'):\n",
    "                print(f\"<strong>{w}</strong>{grp.to_html()}\", file=f)\n",
    "            print(fig_html, file=f)"
   ]
  },
  {
   "cell_type": "code",
   "execution_count": null,
   "metadata": {},
   "outputs": [],
   "source": [
    "fh = FigureHelper(x, dashes=['solid', 'dot', 'dash', 'longdash', 'dashdot', 'longdashdot'])\n",
    "fh.add_trace(y=smooth(yp), name=\"AUROC\", connectgaps=False, line={\"color\": \"blue\"}, yu=smooth(yp+perf_error_df), yl=smooth(yp-perf_error_df), row=1, col=1)\n",
    "fh.add_trace(y=smooth(combined_df[congruency_measure_col]), row=2, name='Data Congruency (True)')\n",
    "corrs = []\n",
    "\n",
    "def partition(l, n):\n",
    "    return [l[i:i + n] for i in range(0, len(l), n)]\n",
    "\n",
    "cols = metadata_cols\n",
    "otherstd_ = otherstd[cols]\n",
    "cols_chi2 = column_xs(otherstd_, include='ks')\n",
    "otherstd_ = otherstd[cols_chi2]\n",
    "cols_ = partition(cols_chi2, 14)\n",
    "print(len(cols_chi2))\n",
    "\n",
    "for row, cols in enumerate(cols_, 3):\n",
    "    for c in cols:\n",
    "        yo = -otherstd[c]\n",
    "        fh.add_trace(y=smooth(yo), name=str(c), connectgaps=False, row=row, col=1)\n",
    "        \n",
    "        corrs.append(collect_corr(y,yo, str(c), \"Everything\", 'N/A'))\n",
    "        corrs.append(collect_corr(y,yo, str(c), \"Validation\", 'N/A',\n",
    "                                start_date=settings.PADCHEST_SPLIT_DATES[0], end_date=settings.PADCHEST_SPLIT_DATES[1]))\n",
    "        corrs.append(collect_corr(y,yo, str(c), \"Test\", 'N/A',\n",
    "                                start_date=settings.PADCHEST_SPLIT_DATES[1]))\n",
    "        corrs.append(collect_corr(y,yo, str(c), \"First Year of Test\", 'N/A',\n",
    "                                start_date=settings.PADCHEST_SPLIT_DATES[1], end_date=\"2014-12-31\"))\n",
    "if not float(run_row['peds_weight']):\n",
    "    fig = fh.make_fig(shared_xaxes=True, vertical_spacing=0.01)\n",
    "    add_dates(fig, dates, 1.08)\n",
    "\n",
    "    fig.update_layout(title=f\"Metadata Real Valued\")\n",
    "    fig.update_xaxes(showspikes=True, spikecolor=\"black\", spikesnap=\"cursor\", spikemode=\"across\", spikethickness=1)\n",
    "    fig.update_layout(spikedistance=1000)\n",
    "    fig.update_layout(height=200*(len(cols_)+2))\n",
    "    fig.update_xaxes(range=[graph_start, graph_end])\n",
    "    fig.update_layout(font=font)\n",
    "    fig.update_layout(barmode='overlay')\n",
    "    fig.show()\n",
    "\n",
    "\n",
    "    fig_html = fig.to_html()\n",
    "    if write_html: \n",
    "        with open(fn, 'a') as f:\n",
    "            print(f\"<h2>Metadata Real Valued</h2>\", file=f)\n",
    "            for w, grp in corr_df.groupby('when'):\n",
    "                print(f\"<strong>{w}</strong>{grp.to_html()}\", file=f)\n",
    "            print(fig_html, file=f)"
   ]
  },
  {
   "cell_type": "code",
   "execution_count": null,
   "metadata": {},
   "outputs": [],
   "source": [
    "fh = FigureHelper(x, dashes=['solid', 'dot', 'dash', 'longdash', 'dashdot', 'longdashdot'])\n",
    "fh.add_trace(y=smooth(yp), name=\"AUROC\", connectgaps=False, line={\"color\": \"blue\"}, yu=smooth(yp+perf_error_df), yl=smooth(yp-perf_error_df), row=1, col=1)\n",
    "fh.add_trace(y=smooth(combined_df[congruency_measure_col]), row=2, name='Data Congruency (True)')\n",
    "corrs = []\n",
    "\n",
    "def partition(l, n):\n",
    "    return [l[i:i + n] for i in range(0, len(l), n)]\n",
    "\n",
    "\n",
    "cols = vae_cols\n",
    "o = other_df[cols].loc[settings.PADCHEST_SPLIT_DATES[1]:].swaplevel(0, 2, axis=1)[['distance']].swaplevel(0, 2, axis=1)\n",
    "colss = o.max(axis=0).sort_values(ascending=False).head(12).index.tolist()\n",
    "cols_ = partition(colss, 12)\n",
    "\n",
    "\n",
    "for row, cols in enumerate(cols_, 3):\n",
    "    for c in cols:\n",
    "        yo = -otherstd[c]\n",
    "        fh.add_trace(y=smooth(yo), name=str(c), connectgaps=False, row=row, col=1)\n",
    "        \n",
    "        corrs.append(collect_corr(y,yo, str(c), \"Everything\", 'N/A'))\n",
    "        corrs.append(collect_corr(y,yo, str(c), \"Validation\", 'N/A',\n",
    "                                start_date=settings.PADCHEST_SPLIT_DATES[0], end_date=settings.PADCHEST_SPLIT_DATES[1]))\n",
    "        corrs.append(collect_corr(y,yo, str(c), \"Test\", 'N/A',\n",
    "                                start_date=settings.PADCHEST_SPLIT_DATES[1]))\n",
    "        corrs.append(collect_corr(y,yo, str(c), \"First Year of Test\", 'N/A',\n",
    "                                start_date=settings.PADCHEST_SPLIT_DATES[1], end_date=\"2014-12-31\"))\n",
    "        \n",
    "fig = fh.make_fig(shared_xaxes=True, vertical_spacing=0.01)\n",
    "add_dates(fig, dates, 1.08)\n",
    "\n",
    "fig.update_layout(title=f\"VAE Mu (top {len(colss)})\")\n",
    "fig.update_xaxes(showspikes=True, spikecolor=\"black\", spikesnap=\"cursor\", spikemode=\"across\", spikethickness=1)\n",
    "fig.update_layout(spikedistance=1000)\n",
    "fig.update_layout(height=200*(len(cols_)+2))\n",
    "fig.update_xaxes(range=[settings.PADCHEST_SPLIT_DATES[1], graph_end])\n",
    "fig.update_layout(barmode='overlay')\n",
    "fig.update_layout(font=font)\n",
    "corr_df = pd.DataFrame(corrs).sort_values('when')\n",
    "display(corr_df)\n",
    "fig.show()\n",
    "\n",
    "\n",
    "fig_html = fig.to_html()\n",
    "if write_html: \n",
    "    with open(fn, 'a') as f:\n",
    "        print(f\"<h2>VAE Mu (top {len(colss)})</h2>\", file=f)\n",
    "        for w, grp in corr_df.groupby('when'):\n",
    "            print(f\"<strong>{w}</strong>{grp.to_html()}\", file=f)\n",
    "        print(fig_html, file=f)"
   ]
  },
  {
   "cell_type": "code",
   "execution_count": null,
   "metadata": {},
   "outputs": [],
   "source": [
    "arg_df2['Link'] = [f\"\"\"<a href=\"{name}/index.html\" disabled=>Graphs</a>\"\"\" if html_top_dir.joinpath(name).exists() else \"N/A\" for name in arg_df2.index]\n",
    "\n",
    "\n",
    "with open(html_top_dir.joinpath(\"index.html\"), 'w') as f:\n",
    "        print(\"\"\"\n",
    "            <style>\n",
    "            table {\n",
    "            font-family: arial, sans-serif;\n",
    "            border-collapse: collapse;\n",
    "            width: 80%;\n",
    "            }\n",
    "\n",
    "            td, th {\n",
    "            border: 1px solid #dddddd;\n",
    "            text-align: left;\n",
    "            padding: 8px;\n",
    "            }\n",
    "\n",
    "            tr:nth-child(even) {\n",
    "            background-color: #dddddd;\n",
    "            }\n",
    "            </style>\n",
    "        \"\"\", file=f)\n",
    "        print(f\"Generated: {datetime.datetime.now()}\", file=f)\n",
    "        print(arg_df2.to_html(escape=False), file=f)\n",
    "        print(fix_links_script, file=f)"
   ]
  },
  {
   "cell_type": "code",
   "execution_count": null,
   "metadata": {},
   "outputs": [],
   "source": [
    "def create_index_html(child):\n",
    "    if child.is_file(): return\n",
    "    html_files = []\n",
    "    html_folders = []\n",
    "    if child.parent.joinpath('index.html').exists():\n",
    "        html_folders.append(\"..\")\n",
    "    for html_file in child.iterdir():\n",
    "        n = html_file.relative_to(child)\n",
    "        if html_file.is_file() and not str(html_file).endswith('index.html'):\n",
    "            html_files.append(n)\n",
    "        elif html_file.joinpath('index.html').exists():\n",
    "            html_folders.append(n)\n",
    "    \n",
    "    \n",
    "    html = \"folders: <ul>\"\n",
    "    for n in html_folders:\n",
    "            html += f\"\"\"\n",
    "            <li><a href=\"{n}/index.html\">{n}</a></li>\n",
    "            \"\"\"\n",
    "    html += \"</ul>\"\n",
    "    html += \"files:<ul>\"\n",
    "    for n in html_files:\n",
    "            html += f\"\"\"\n",
    "            <li><a href=\"{n}\">{n}</a></li>\n",
    "            \"\"\"\n",
    "    html += \"</ul>\"\n",
    "    with open(child.joinpath('index.html'), 'w') as f:\n",
    "        print(html, file=f)\n",
    "        print(fix_links_script, file=f)\n",
    "        \n",
    "        \n"
   ]
  },
  {
   "cell_type": "code",
   "execution_count": null,
   "metadata": {},
   "outputs": [],
   "source": [
    "create_index_html(html_top_dir.parent.joinpath('vae[all-data]'))\n",
    "create_index_html(html_top_dir.parent)\n",
    "    "
   ]
  },
  {
   "cell_type": "code",
   "execution_count": null,
   "metadata": {},
   "outputs": [],
   "source": [
    "for child in html_top_dir.iterdir():\n",
    "    create_index_html(child)\n",
    "    \n",
    "            \n",
    "    \n",
    "    \n",
    "            "
   ]
  },
  {
   "cell_type": "code",
   "execution_count": null,
   "metadata": {},
   "outputs": [],
   "source": [
    "html"
   ]
  },
  {
   "cell_type": "code",
   "execution_count": null,
   "metadata": {},
   "outputs": [],
   "source": []
  }
 ],
 "metadata": {
  "interpreter": {
   "hash": "40209cfd1e49aba1e20a3908f9a243f43b2ed73034fd3a81730d62124bbdcdae"
  },
  "kernelspec": {
   "display_name": "Python 3.7.3 64-bit (conda)",
   "name": "python3"
  },
  "language_info": {
   "codemirror_mode": {
    "name": "ipython",
    "version": 3
   },
   "file_extension": ".py",
   "mimetype": "text/x-python",
   "name": "python",
   "nbconvert_exporter": "python",
   "pygments_lexer": "ipython3",
   "version": "3.7.3"
  },
  "orig_nbformat": 4
 },
 "nbformat": 4,
 "nbformat_minor": 2
}
