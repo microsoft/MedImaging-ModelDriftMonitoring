{
 "cells": [
  {
   "cell_type": "code",
   "execution_count": 1,
   "metadata": {},
   "outputs": [],
   "source": [
    "from IPython.display import display, Markdown, HTML\n",
    "import plotly.express as px\n",
    "import itertools\n",
    "\n",
    "from azureml.core import Run, Model\n",
    "from azureml.core import Datastore, Experiment, ScriptRunConfig, Workspace, Run\n",
    "\n",
    "from model_drift import settings\n",
    "from model_drift.helpers import column_xs, correlate_performance, mutual_info_performance, w_avg\n",
    "import pandas as pd\n",
    "import os\n",
    "import datetime\n",
    "\n"
   ]
  },
  {
   "cell_type": "code",
   "execution_count": 2,
   "metadata": {},
   "outputs": [
    {
     "name": "stderr",
     "output_type": "stream",
     "text": [
      "Warning: Falling back to use azure cli login credentials.\n",
      "If you run your code in unattended mode, i.e., where you can't give a user input, then we recommend to use ServicePrincipalAuthentication or MsiAuthentication.\n",
      "Please refer to aka.ms/aml-notebook-auth for different authentication mechanisms in azureml-sdk.\n"
     ]
    },
    {
     "data": {
      "text/html": [
       "<div>\n",
       "<style scoped>\n",
       "    .dataframe tbody tr th:only-of-type {\n",
       "        vertical-align: middle;\n",
       "    }\n",
       "\n",
       "    .dataframe tbody tr th {\n",
       "        vertical-align: top;\n",
       "    }\n",
       "\n",
       "    .dataframe thead th {\n",
       "        text-align: right;\n",
       "    }\n",
       "</style>\n",
       "<table border=\"1\" class=\"dataframe\">\n",
       "  <thead>\n",
       "    <tr style=\"text-align: right;\">\n",
       "      <th></th>\n",
       "      <th>_aml_system_ComputeTargetStatus</th>\n",
       "      <th>mlflow.source.type</th>\n",
       "      <th>mlflow.source.name</th>\n",
       "      <th>run_azure</th>\n",
       "      <th>input_dir</th>\n",
       "      <th>output_dir</th>\n",
       "      <th>dataset</th>\n",
       "      <th>vae_dataset</th>\n",
       "      <th>classifier_dataset</th>\n",
       "      <th>vae_filter</th>\n",
       "      <th>...</th>\n",
       "      <th>num_workers</th>\n",
       "      <th>dbg</th>\n",
       "      <th>id</th>\n",
       "      <th>url</th>\n",
       "      <th>run</th>\n",
       "      <th>frontal_remove_date</th>\n",
       "      <th>nonfrontal_add_date</th>\n",
       "      <th>peds_end_date</th>\n",
       "      <th>peds_start_date</th>\n",
       "      <th>peds_weight</th>\n",
       "    </tr>\n",
       "    <tr>\n",
       "      <th>display_name</th>\n",
       "      <th></th>\n",
       "      <th></th>\n",
       "      <th></th>\n",
       "      <th></th>\n",
       "      <th></th>\n",
       "      <th></th>\n",
       "      <th></th>\n",
       "      <th></th>\n",
       "      <th></th>\n",
       "      <th></th>\n",
       "      <th></th>\n",
       "      <th></th>\n",
       "      <th></th>\n",
       "      <th></th>\n",
       "      <th></th>\n",
       "      <th></th>\n",
       "      <th></th>\n",
       "      <th></th>\n",
       "      <th></th>\n",
       "      <th></th>\n",
       "      <th></th>\n",
       "    </tr>\n",
       "  </thead>\n",
       "  <tbody>\n",
       "    <tr>\n",
       "      <th>sad_caravan_nnryywcw</th>\n",
       "      <td>{\"AllocationState\":\"steady\",\"PreparingNodeCoun...</td>\n",
       "      <td>JOB</td>\n",
       "      <td>scripts/drift/generate-drift-csv-label.py</td>\n",
       "      <td>1</td>\n",
       "      <td>/mnt/batch/tasks/shared/LS_root/jobs/mlops_sha...</td>\n",
       "      <td>./outputs/</td>\n",
       "      <td>padchest</td>\n",
       "      <td>padchest-trained</td>\n",
       "      <td>padchest-finetuned-chx-frontalonly</td>\n",
       "      <td>all-data</td>\n",
       "      <td>...</td>\n",
       "      <td>10</td>\n",
       "      <td>1</td>\n",
       "      <td>generate-drift-csv-label-mod-dbg_1642612521_b3...</td>\n",
       "      <td>https://ml.azure.com/runs/generate-drift-csv-l...</td>\n",
       "      <td>Run(Experiment: generate-drift-csv-label-mod-d...</td>\n",
       "      <td>NaN</td>\n",
       "      <td>NaN</td>\n",
       "      <td>NaN</td>\n",
       "      <td>NaN</td>\n",
       "      <td>NaN</td>\n",
       "    </tr>\n",
       "    <tr>\n",
       "      <th>serene_head_v04mgvx4</th>\n",
       "      <td>{\"AllocationState\":\"steady\",\"PreparingNodeCoun...</td>\n",
       "      <td>JOB</td>\n",
       "      <td>scripts/drift/generate-drift-csv-label.py</td>\n",
       "      <td>1</td>\n",
       "      <td>/mnt/batch/tasks/shared/LS_root/jobs/mlops_sha...</td>\n",
       "      <td>./outputs/</td>\n",
       "      <td>padchest</td>\n",
       "      <td>padchest-trained</td>\n",
       "      <td>padchest-finetuned-chx-frontalonly</td>\n",
       "      <td>all-data</td>\n",
       "      <td>...</td>\n",
       "      <td>10</td>\n",
       "      <td>1</td>\n",
       "      <td>generate-drift-csv-label-mod-dbg_1642612530_ae...</td>\n",
       "      <td>https://ml.azure.com/runs/generate-drift-csv-l...</td>\n",
       "      <td>Run(Experiment: generate-drift-csv-label-mod-d...</td>\n",
       "      <td>NaN</td>\n",
       "      <td>NaN</td>\n",
       "      <td>NaN</td>\n",
       "      <td>NaN</td>\n",
       "      <td>NaN</td>\n",
       "    </tr>\n",
       "    <tr>\n",
       "      <th>salmon_cloud_wg3s2fnq</th>\n",
       "      <td>{\"AllocationState\":\"steady\",\"PreparingNodeCoun...</td>\n",
       "      <td>JOB</td>\n",
       "      <td>scripts/drift/generate-drift-csv-label.py</td>\n",
       "      <td>1</td>\n",
       "      <td>/mnt/batch/tasks/shared/LS_root/jobs/mlops_sha...</td>\n",
       "      <td>./outputs/</td>\n",
       "      <td>padchest</td>\n",
       "      <td>padchest-trained</td>\n",
       "      <td>padchest-finetuned-chx-frontalonly</td>\n",
       "      <td>all-data</td>\n",
       "      <td>...</td>\n",
       "      <td>10</td>\n",
       "      <td>1</td>\n",
       "      <td>generate-drift-csv-label-mod-dbg_1642612524_fb...</td>\n",
       "      <td>https://ml.azure.com/runs/generate-drift-csv-l...</td>\n",
       "      <td>Run(Experiment: generate-drift-csv-label-mod-d...</td>\n",
       "      <td>NaN</td>\n",
       "      <td>NaN</td>\n",
       "      <td>NaN</td>\n",
       "      <td>NaN</td>\n",
       "      <td>NaN</td>\n",
       "    </tr>\n",
       "    <tr>\n",
       "      <th>affable_plum_cm6y51d3</th>\n",
       "      <td>{\"AllocationState\":\"steady\",\"PreparingNodeCoun...</td>\n",
       "      <td>JOB</td>\n",
       "      <td>scripts/drift/generate-drift-csv-label.py</td>\n",
       "      <td>1</td>\n",
       "      <td>/mnt/batch/tasks/shared/LS_root/jobs/mlops_sha...</td>\n",
       "      <td>./outputs/</td>\n",
       "      <td>padchest</td>\n",
       "      <td>padchest-trained</td>\n",
       "      <td>padchest-finetuned-chx-frontalonly</td>\n",
       "      <td>all-data</td>\n",
       "      <td>...</td>\n",
       "      <td>10</td>\n",
       "      <td>1</td>\n",
       "      <td>generate-drift-csv-label-mod-dbg_1642612534_c7...</td>\n",
       "      <td>https://ml.azure.com/runs/generate-drift-csv-l...</td>\n",
       "      <td>Run(Experiment: generate-drift-csv-label-mod-d...</td>\n",
       "      <td>NaN</td>\n",
       "      <td>NaN</td>\n",
       "      <td>NaN</td>\n",
       "      <td>NaN</td>\n",
       "      <td>NaN</td>\n",
       "    </tr>\n",
       "    <tr>\n",
       "      <th>musing_lock_mgsp9xps</th>\n",
       "      <td>{\"AllocationState\":\"steady\",\"PreparingNodeCoun...</td>\n",
       "      <td>JOB</td>\n",
       "      <td>scripts/drift/generate-drift-csv-label.py</td>\n",
       "      <td>1</td>\n",
       "      <td>/mnt/batch/tasks/shared/LS_root/jobs/mlops_sha...</td>\n",
       "      <td>./outputs/</td>\n",
       "      <td>padchest</td>\n",
       "      <td>padchest-trained</td>\n",
       "      <td>padchest-finetuned-chx-frontalonly</td>\n",
       "      <td>all-data</td>\n",
       "      <td>...</td>\n",
       "      <td>10</td>\n",
       "      <td>1</td>\n",
       "      <td>generate-drift-csv-label-mod-dbg_1642461065_3b...</td>\n",
       "      <td>https://ml.azure.com/runs/generate-drift-csv-l...</td>\n",
       "      <td>Run(Experiment: generate-drift-csv-label-mod-d...</td>\n",
       "      <td>NaN</td>\n",
       "      <td>NaN</td>\n",
       "      <td>NaN</td>\n",
       "      <td>NaN</td>\n",
       "      <td>NaN</td>\n",
       "    </tr>\n",
       "  </tbody>\n",
       "</table>\n",
       "<p>5 rows × 36 columns</p>\n",
       "</div>"
      ],
      "text/plain": [
       "                                         _aml_system_ComputeTargetStatus  \\\n",
       "display_name                                                               \n",
       "sad_caravan_nnryywcw   {\"AllocationState\":\"steady\",\"PreparingNodeCoun...   \n",
       "serene_head_v04mgvx4   {\"AllocationState\":\"steady\",\"PreparingNodeCoun...   \n",
       "salmon_cloud_wg3s2fnq  {\"AllocationState\":\"steady\",\"PreparingNodeCoun...   \n",
       "affable_plum_cm6y51d3  {\"AllocationState\":\"steady\",\"PreparingNodeCoun...   \n",
       "musing_lock_mgsp9xps   {\"AllocationState\":\"steady\",\"PreparingNodeCoun...   \n",
       "\n",
       "                      mlflow.source.type  \\\n",
       "display_name                               \n",
       "sad_caravan_nnryywcw                 JOB   \n",
       "serene_head_v04mgvx4                 JOB   \n",
       "salmon_cloud_wg3s2fnq                JOB   \n",
       "affable_plum_cm6y51d3                JOB   \n",
       "musing_lock_mgsp9xps                 JOB   \n",
       "\n",
       "                                              mlflow.source.name run_azure  \\\n",
       "display_name                                                                 \n",
       "sad_caravan_nnryywcw   scripts/drift/generate-drift-csv-label.py         1   \n",
       "serene_head_v04mgvx4   scripts/drift/generate-drift-csv-label.py         1   \n",
       "salmon_cloud_wg3s2fnq  scripts/drift/generate-drift-csv-label.py         1   \n",
       "affable_plum_cm6y51d3  scripts/drift/generate-drift-csv-label.py         1   \n",
       "musing_lock_mgsp9xps   scripts/drift/generate-drift-csv-label.py         1   \n",
       "\n",
       "                                                               input_dir  \\\n",
       "display_name                                                               \n",
       "sad_caravan_nnryywcw   /mnt/batch/tasks/shared/LS_root/jobs/mlops_sha...   \n",
       "serene_head_v04mgvx4   /mnt/batch/tasks/shared/LS_root/jobs/mlops_sha...   \n",
       "salmon_cloud_wg3s2fnq  /mnt/batch/tasks/shared/LS_root/jobs/mlops_sha...   \n",
       "affable_plum_cm6y51d3  /mnt/batch/tasks/shared/LS_root/jobs/mlops_sha...   \n",
       "musing_lock_mgsp9xps   /mnt/batch/tasks/shared/LS_root/jobs/mlops_sha...   \n",
       "\n",
       "                       output_dir   dataset       vae_dataset  \\\n",
       "display_name                                                    \n",
       "sad_caravan_nnryywcw   ./outputs/  padchest  padchest-trained   \n",
       "serene_head_v04mgvx4   ./outputs/  padchest  padchest-trained   \n",
       "salmon_cloud_wg3s2fnq  ./outputs/  padchest  padchest-trained   \n",
       "affable_plum_cm6y51d3  ./outputs/  padchest  padchest-trained   \n",
       "musing_lock_mgsp9xps   ./outputs/  padchest  padchest-trained   \n",
       "\n",
       "                                       classifier_dataset vae_filter  ...  \\\n",
       "display_name                                                          ...   \n",
       "sad_caravan_nnryywcw   padchest-finetuned-chx-frontalonly   all-data  ...   \n",
       "serene_head_v04mgvx4   padchest-finetuned-chx-frontalonly   all-data  ...   \n",
       "salmon_cloud_wg3s2fnq  padchest-finetuned-chx-frontalonly   all-data  ...   \n",
       "affable_plum_cm6y51d3  padchest-finetuned-chx-frontalonly   all-data  ...   \n",
       "musing_lock_mgsp9xps   padchest-finetuned-chx-frontalonly   all-data  ...   \n",
       "\n",
       "                      num_workers dbg  \\\n",
       "display_name                            \n",
       "sad_caravan_nnryywcw           10   1   \n",
       "serene_head_v04mgvx4           10   1   \n",
       "salmon_cloud_wg3s2fnq          10   1   \n",
       "affable_plum_cm6y51d3          10   1   \n",
       "musing_lock_mgsp9xps           10   1   \n",
       "\n",
       "                                                                      id  \\\n",
       "display_name                                                               \n",
       "sad_caravan_nnryywcw   generate-drift-csv-label-mod-dbg_1642612521_b3...   \n",
       "serene_head_v04mgvx4   generate-drift-csv-label-mod-dbg_1642612530_ae...   \n",
       "salmon_cloud_wg3s2fnq  generate-drift-csv-label-mod-dbg_1642612524_fb...   \n",
       "affable_plum_cm6y51d3  generate-drift-csv-label-mod-dbg_1642612534_c7...   \n",
       "musing_lock_mgsp9xps   generate-drift-csv-label-mod-dbg_1642461065_3b...   \n",
       "\n",
       "                                                                     url  \\\n",
       "display_name                                                               \n",
       "sad_caravan_nnryywcw   https://ml.azure.com/runs/generate-drift-csv-l...   \n",
       "serene_head_v04mgvx4   https://ml.azure.com/runs/generate-drift-csv-l...   \n",
       "salmon_cloud_wg3s2fnq  https://ml.azure.com/runs/generate-drift-csv-l...   \n",
       "affable_plum_cm6y51d3  https://ml.azure.com/runs/generate-drift-csv-l...   \n",
       "musing_lock_mgsp9xps   https://ml.azure.com/runs/generate-drift-csv-l...   \n",
       "\n",
       "                                                                     run  \\\n",
       "display_name                                                               \n",
       "sad_caravan_nnryywcw   Run(Experiment: generate-drift-csv-label-mod-d...   \n",
       "serene_head_v04mgvx4   Run(Experiment: generate-drift-csv-label-mod-d...   \n",
       "salmon_cloud_wg3s2fnq  Run(Experiment: generate-drift-csv-label-mod-d...   \n",
       "affable_plum_cm6y51d3  Run(Experiment: generate-drift-csv-label-mod-d...   \n",
       "musing_lock_mgsp9xps   Run(Experiment: generate-drift-csv-label-mod-d...   \n",
       "\n",
       "                      frontal_remove_date nonfrontal_add_date peds_end_date  \\\n",
       "display_name                                                                  \n",
       "sad_caravan_nnryywcw                  NaN                 NaN           NaN   \n",
       "serene_head_v04mgvx4                  NaN                 NaN           NaN   \n",
       "salmon_cloud_wg3s2fnq                 NaN                 NaN           NaN   \n",
       "affable_plum_cm6y51d3                 NaN                 NaN           NaN   \n",
       "musing_lock_mgsp9xps                  NaN                 NaN           NaN   \n",
       "\n",
       "                      peds_start_date peds_weight  \n",
       "display_name                                       \n",
       "sad_caravan_nnryywcw              NaN         NaN  \n",
       "serene_head_v04mgvx4              NaN         NaN  \n",
       "salmon_cloud_wg3s2fnq             NaN         NaN  \n",
       "affable_plum_cm6y51d3             NaN         NaN  \n",
       "musing_lock_mgsp9xps              NaN         NaN  \n",
       "\n",
       "[5 rows x 36 columns]"
      ]
     },
     "execution_count": 2,
     "metadata": {},
     "output_type": "execute_result"
    }
   ],
   "source": [
    "import pandas as pd\n",
    "import six\n",
    "\n",
    "\n",
    "ws = Workspace.from_config(settings.AZUREML_CONFIG)\n",
    "experiment_name = 'generate-drift-csv-label-mod-dbg'\n",
    "exp = Experiment(workspace=ws, name=experiment_name)\n",
    "\n",
    "\n",
    "def run_to_dict(run):\n",
    "    d = dict(**run.tags)\n",
    "    d['id'] = run.id\n",
    "    d['display_name'] = run.display_name\n",
    "    d['url'] = run.get_portal_url()\n",
    "    d['run'] = run\n",
    "    # d[\"startTimeUtc\"] = pd.to_datetime(run.get_details()[\"startTimeUtc\"])\n",
    "    # d[\"endTimeUtc\"] = pd.to_datetime(run.get_details()[\"endTimeUtc\"])\n",
    "    return d\n",
    "\n",
    "\n",
    "def experiment_to_dataframe(experiment, workspace=None):\n",
    "    \n",
    "    if isinstance(experiment, six.string_types):\n",
    "        if workspace is None:\n",
    "            raise ValueError(\"if experiment is string, must provide workspace\")\n",
    "        experiment = Experiment(workspace=workspace, name=experiment)\n",
    "    df = []\n",
    "    for run in exp.get_runs():\n",
    "        if run.status != \"Completed\":\n",
    "            continue\n",
    "        df.append(run_to_dict(run))\n",
    "    return pd.DataFrame(df).set_index(['display_name'])#.sort_values(\"endTimeUtc\", ascending=False)\n",
    "\n",
    "df = experiment_to_dataframe(exp)\n",
    "\n",
    "run = Run(experiment=Experiment(workspace=ws, name='generate-drift-csv-3'), \n",
    "          run_id=\"generate-drift-csv-3_1639942528_d9f3ee90\") # \"tender_pear_lfbd6\n",
    "df = df[~df['mod_end_date'].isnull()]\n",
    "\n",
    "# Baseline\n",
    "d = run_to_dict(run)\n",
    "d[\"label_modifiers\"] = \"Baseline\"\n",
    "df = df.append(pd.Series(d, name=d.pop(\"display_name\")))\n",
    "\n",
    "df.head()"
   ]
  },
  {
   "cell_type": "code",
   "execution_count": 3,
   "metadata": {},
   "outputs": [],
   "source": [
    "html_top_dir = settings.TOP_DIR.joinpath(\"html\", \"graphs_paper\")\n",
    "html_top_dir.mkdir(exist_ok=True)"
   ]
  },
  {
   "cell_type": "code",
   "execution_count": 4,
   "metadata": {},
   "outputs": [
    {
     "data": {
      "text/html": [
       "<div>\n",
       "<style scoped>\n",
       "    .dataframe tbody tr th:only-of-type {\n",
       "        vertical-align: middle;\n",
       "    }\n",
       "\n",
       "    .dataframe tbody tr th {\n",
       "        vertical-align: top;\n",
       "    }\n",
       "\n",
       "    .dataframe thead th {\n",
       "        text-align: right;\n",
       "    }\n",
       "</style>\n",
       "<table border=\"1\" class=\"dataframe\">\n",
       "  <thead>\n",
       "    <tr style=\"text-align: right;\">\n",
       "      <th></th>\n",
       "      <th>label_modifiers</th>\n",
       "      <th>mod_end_date</th>\n",
       "      <th>randomize_start_date</th>\n",
       "      <th>dbg</th>\n",
       "      <th>peds_weight</th>\n",
       "      <th>Link</th>\n",
       "    </tr>\n",
       "    <tr>\n",
       "      <th>display_name</th>\n",
       "      <th></th>\n",
       "      <th></th>\n",
       "      <th></th>\n",
       "      <th></th>\n",
       "      <th></th>\n",
       "      <th></th>\n",
       "    </tr>\n",
       "  </thead>\n",
       "  <tbody>\n",
       "    <tr>\n",
       "      <th>sad_caravan_nnryywcw</th>\n",
       "      <td>{\"Opacity\": [0.75, \"2014-04-01\", \"2014-08-15\"]...</td>\n",
       "      <td>2014-12-31</td>\n",
       "      <td>None</td>\n",
       "      <td>1</td>\n",
       "      <td>NaN</td>\n",
       "      <td>N/A</td>\n",
       "    </tr>\n",
       "    <tr>\n",
       "      <th>serene_head_v04mgvx4</th>\n",
       "      <td>{\"Cardiomegaly\": [0.75, \"2014-04-01\", \"2014-08...</td>\n",
       "      <td>2014-12-31</td>\n",
       "      <td>None</td>\n",
       "      <td>1</td>\n",
       "      <td>NaN</td>\n",
       "      <td>N/A</td>\n",
       "    </tr>\n",
       "    <tr>\n",
       "      <th>salmon_cloud_wg3s2fnq</th>\n",
       "      <td>{\"Pleural Abnormalities\": [0.75, \"2014-04-01\",...</td>\n",
       "      <td>2014-12-31</td>\n",
       "      <td>None</td>\n",
       "      <td>1</td>\n",
       "      <td>NaN</td>\n",
       "      <td>N/A</td>\n",
       "    </tr>\n",
       "    <tr>\n",
       "      <th>affable_plum_cm6y51d3</th>\n",
       "      <td>{\"Atelectasis\": [0.75, \"2014-04-01\", \"2014-08-...</td>\n",
       "      <td>2014-12-31</td>\n",
       "      <td>None</td>\n",
       "      <td>1</td>\n",
       "      <td>NaN</td>\n",
       "      <td>N/A</td>\n",
       "    </tr>\n",
       "    <tr>\n",
       "      <th>musing_lock_mgsp9xps</th>\n",
       "      <td>{\"Opacity\": [0.75, \"2014-06-01\", \"2014-09-15\"]...</td>\n",
       "      <td>2014-12-31</td>\n",
       "      <td>None</td>\n",
       "      <td>1</td>\n",
       "      <td>NaN</td>\n",
       "      <td>N/A</td>\n",
       "    </tr>\n",
       "    <tr>\n",
       "      <th>mighty_beard_vvtgq0q9</th>\n",
       "      <td>{\"Pleural Abnormalities\": [0.75, \"2014-06-01\",...</td>\n",
       "      <td>2014-12-31</td>\n",
       "      <td>None</td>\n",
       "      <td>1</td>\n",
       "      <td>NaN</td>\n",
       "      <td>N/A</td>\n",
       "    </tr>\n",
       "    <tr>\n",
       "      <th>jolly_tangelo_ch7q56v0</th>\n",
       "      <td>{\"Atelectasis\": [0.75, \"2014-06-01\", \"2014-09-...</td>\n",
       "      <td>2014-12-31</td>\n",
       "      <td>None</td>\n",
       "      <td>1</td>\n",
       "      <td>NaN</td>\n",
       "      <td>N/A</td>\n",
       "    </tr>\n",
       "    <tr>\n",
       "      <th>keen_circle_9wktjvvd</th>\n",
       "      <td>{\"Atelectasis\": [0.75, \"2014-06-01\", \"2014-09-...</td>\n",
       "      <td>2014-12-31</td>\n",
       "      <td>None</td>\n",
       "      <td>1</td>\n",
       "      <td>NaN</td>\n",
       "      <td>N/A</td>\n",
       "    </tr>\n",
       "    <tr>\n",
       "      <th>purple_toe_dnntc2j8</th>\n",
       "      <td>None</td>\n",
       "      <td>2014-12-31</td>\n",
       "      <td>2014-06-01</td>\n",
       "      <td>1</td>\n",
       "      <td>NaN</td>\n",
       "      <td>N/A</td>\n",
       "    </tr>\n",
       "    <tr>\n",
       "      <th>goofy_dress_ztmzmh27</th>\n",
       "      <td>None</td>\n",
       "      <td>2014-12-31</td>\n",
       "      <td>2014-04-01</td>\n",
       "      <td>1</td>\n",
       "      <td>NaN</td>\n",
       "      <td>N/A</td>\n",
       "    </tr>\n",
       "    <tr>\n",
       "      <th>ivory_river_m6m000f8</th>\n",
       "      <td>{\"Atelectasis\": [0.5, \"2014-04-01\", \"2014-06-3...</td>\n",
       "      <td>2014-12-31</td>\n",
       "      <td>NaN</td>\n",
       "      <td>1</td>\n",
       "      <td>NaN</td>\n",
       "      <td>N/A</td>\n",
       "    </tr>\n",
       "    <tr>\n",
       "      <th>serene_angle_h8wlwrl7</th>\n",
       "      <td>{\"Lesion\": [0.5, \"2014-04-01\", \"2014-06-30\"], ...</td>\n",
       "      <td>2014-12-31</td>\n",
       "      <td>NaN</td>\n",
       "      <td>1</td>\n",
       "      <td>NaN</td>\n",
       "      <td>N/A</td>\n",
       "    </tr>\n",
       "    <tr>\n",
       "      <th>helpful_beard_352vr4j8</th>\n",
       "      <td>{\"Atelectasis\": [0.25, \"2014-04-01\", \"2014-06-...</td>\n",
       "      <td>2014-12-31</td>\n",
       "      <td>NaN</td>\n",
       "      <td>1</td>\n",
       "      <td>NaN</td>\n",
       "      <td>N/A</td>\n",
       "    </tr>\n",
       "    <tr>\n",
       "      <th>gentle_guitar_2nt9sm6t</th>\n",
       "      <td>{\"Cardiomegaly\": [0.25, \"2014-04-01\", \"2014-06...</td>\n",
       "      <td>2014-12-31</td>\n",
       "      <td>NaN</td>\n",
       "      <td>1</td>\n",
       "      <td>NaN</td>\n",
       "      <td>N/A</td>\n",
       "    </tr>\n",
       "    <tr>\n",
       "      <th>dynamic_fish_jtn2x5q9</th>\n",
       "      <td>{\"Opacity\": [0.5, \"2014-04-01\", \"2014-06-30\"],...</td>\n",
       "      <td>2014-12-31</td>\n",
       "      <td>NaN</td>\n",
       "      <td>1</td>\n",
       "      <td>NaN</td>\n",
       "      <td>N/A</td>\n",
       "    </tr>\n",
       "    <tr>\n",
       "      <th>lemon_plane_mrb3nm7v</th>\n",
       "      <td>{\"Pneumonia\": [0.25, \"2014-04-01\", \"2014-06-30...</td>\n",
       "      <td>2014-12-31</td>\n",
       "      <td>NaN</td>\n",
       "      <td>1</td>\n",
       "      <td>NaN</td>\n",
       "      <td>N/A</td>\n",
       "    </tr>\n",
       "    <tr>\n",
       "      <th>icy_fly_hpwms2yp</th>\n",
       "      <td>{\"Pneumonia\": [0.5, \"2014-04-01\", \"2014-06-30\"...</td>\n",
       "      <td>2014-12-31</td>\n",
       "      <td>NaN</td>\n",
       "      <td>1</td>\n",
       "      <td>NaN</td>\n",
       "      <td>N/A</td>\n",
       "    </tr>\n",
       "    <tr>\n",
       "      <th>epic_plate_nc54lhdv</th>\n",
       "      <td>{\"Cardiomegaly\": [0.5, \"2014-04-01\", \"2014-06-...</td>\n",
       "      <td>2014-12-31</td>\n",
       "      <td>NaN</td>\n",
       "      <td>1</td>\n",
       "      <td>NaN</td>\n",
       "      <td>N/A</td>\n",
       "    </tr>\n",
       "    <tr>\n",
       "      <th>quiet_duck_8y08st8w</th>\n",
       "      <td>{\"Atelectasis\": [0.5, \"2014-04-01\", \"2014-06-3...</td>\n",
       "      <td>2014-12-31</td>\n",
       "      <td>NaN</td>\n",
       "      <td>1</td>\n",
       "      <td>NaN</td>\n",
       "      <td>N/A</td>\n",
       "    </tr>\n",
       "    <tr>\n",
       "      <th>patient_hominy_8v6p78yh</th>\n",
       "      <td>{\"Cardiomegaly\": [0.75, \"2014-04-01\", \"2014-06...</td>\n",
       "      <td>2014-12-31</td>\n",
       "      <td>NaN</td>\n",
       "      <td>1</td>\n",
       "      <td>NaN</td>\n",
       "      <td>N/A</td>\n",
       "    </tr>\n",
       "    <tr>\n",
       "      <th>icy_ghost_rt8dc2xp</th>\n",
       "      <td>{\"No Finding\": [0.1287001287001287, \"2014-04-0...</td>\n",
       "      <td>2014-12-31</td>\n",
       "      <td>NaN</td>\n",
       "      <td>1</td>\n",
       "      <td>NaN</td>\n",
       "      <td>N/A</td>\n",
       "    </tr>\n",
       "    <tr>\n",
       "      <th>ivory_branch_d350x4yq</th>\n",
       "      <td>{\"Pneumonia\": [0.75, \"2014-04-01\", \"2014-06-30...</td>\n",
       "      <td>2014-12-31</td>\n",
       "      <td>NaN</td>\n",
       "      <td>1</td>\n",
       "      <td>NaN</td>\n",
       "      <td>N/A</td>\n",
       "    </tr>\n",
       "    <tr>\n",
       "      <th>red_answer_rdp62h0t</th>\n",
       "      <td>{\"Atelectasis\": [0.75, \"2014-04-01\", \"2014-06-...</td>\n",
       "      <td>2014-12-31</td>\n",
       "      <td>NaN</td>\n",
       "      <td>1</td>\n",
       "      <td>NaN</td>\n",
       "      <td>N/A</td>\n",
       "    </tr>\n",
       "    <tr>\n",
       "      <th>tender_pear_lfbd6wwg</th>\n",
       "      <td>Baseline</td>\n",
       "      <td>NaN</td>\n",
       "      <td>NaN</td>\n",
       "      <td>0</td>\n",
       "      <td>0</td>\n",
       "      <td>&lt;a href=\"tender_pear_lfbd6wwg/index.html\" disa...</td>\n",
       "    </tr>\n",
       "  </tbody>\n",
       "</table>\n",
       "</div>"
      ],
      "text/plain": [
       "                                                           label_modifiers  \\\n",
       "display_name                                                                 \n",
       "sad_caravan_nnryywcw     {\"Opacity\": [0.75, \"2014-04-01\", \"2014-08-15\"]...   \n",
       "serene_head_v04mgvx4     {\"Cardiomegaly\": [0.75, \"2014-04-01\", \"2014-08...   \n",
       "salmon_cloud_wg3s2fnq    {\"Pleural Abnormalities\": [0.75, \"2014-04-01\",...   \n",
       "affable_plum_cm6y51d3    {\"Atelectasis\": [0.75, \"2014-04-01\", \"2014-08-...   \n",
       "musing_lock_mgsp9xps     {\"Opacity\": [0.75, \"2014-06-01\", \"2014-09-15\"]...   \n",
       "mighty_beard_vvtgq0q9    {\"Pleural Abnormalities\": [0.75, \"2014-06-01\",...   \n",
       "jolly_tangelo_ch7q56v0   {\"Atelectasis\": [0.75, \"2014-06-01\", \"2014-09-...   \n",
       "keen_circle_9wktjvvd     {\"Atelectasis\": [0.75, \"2014-06-01\", \"2014-09-...   \n",
       "purple_toe_dnntc2j8                                                   None   \n",
       "goofy_dress_ztmzmh27                                                  None   \n",
       "ivory_river_m6m000f8     {\"Atelectasis\": [0.5, \"2014-04-01\", \"2014-06-3...   \n",
       "serene_angle_h8wlwrl7    {\"Lesion\": [0.5, \"2014-04-01\", \"2014-06-30\"], ...   \n",
       "helpful_beard_352vr4j8   {\"Atelectasis\": [0.25, \"2014-04-01\", \"2014-06-...   \n",
       "gentle_guitar_2nt9sm6t   {\"Cardiomegaly\": [0.25, \"2014-04-01\", \"2014-06...   \n",
       "dynamic_fish_jtn2x5q9    {\"Opacity\": [0.5, \"2014-04-01\", \"2014-06-30\"],...   \n",
       "lemon_plane_mrb3nm7v     {\"Pneumonia\": [0.25, \"2014-04-01\", \"2014-06-30...   \n",
       "icy_fly_hpwms2yp         {\"Pneumonia\": [0.5, \"2014-04-01\", \"2014-06-30\"...   \n",
       "epic_plate_nc54lhdv      {\"Cardiomegaly\": [0.5, \"2014-04-01\", \"2014-06-...   \n",
       "quiet_duck_8y08st8w      {\"Atelectasis\": [0.5, \"2014-04-01\", \"2014-06-3...   \n",
       "patient_hominy_8v6p78yh  {\"Cardiomegaly\": [0.75, \"2014-04-01\", \"2014-06...   \n",
       "icy_ghost_rt8dc2xp       {\"No Finding\": [0.1287001287001287, \"2014-04-0...   \n",
       "ivory_branch_d350x4yq    {\"Pneumonia\": [0.75, \"2014-04-01\", \"2014-06-30...   \n",
       "red_answer_rdp62h0t      {\"Atelectasis\": [0.75, \"2014-04-01\", \"2014-06-...   \n",
       "tender_pear_lfbd6wwg                                              Baseline   \n",
       "\n",
       "                        mod_end_date randomize_start_date dbg peds_weight  \\\n",
       "display_name                                                                \n",
       "sad_caravan_nnryywcw      2014-12-31                 None   1         NaN   \n",
       "serene_head_v04mgvx4      2014-12-31                 None   1         NaN   \n",
       "salmon_cloud_wg3s2fnq     2014-12-31                 None   1         NaN   \n",
       "affable_plum_cm6y51d3     2014-12-31                 None   1         NaN   \n",
       "musing_lock_mgsp9xps      2014-12-31                 None   1         NaN   \n",
       "mighty_beard_vvtgq0q9     2014-12-31                 None   1         NaN   \n",
       "jolly_tangelo_ch7q56v0    2014-12-31                 None   1         NaN   \n",
       "keen_circle_9wktjvvd      2014-12-31                 None   1         NaN   \n",
       "purple_toe_dnntc2j8       2014-12-31           2014-06-01   1         NaN   \n",
       "goofy_dress_ztmzmh27      2014-12-31           2014-04-01   1         NaN   \n",
       "ivory_river_m6m000f8      2014-12-31                  NaN   1         NaN   \n",
       "serene_angle_h8wlwrl7     2014-12-31                  NaN   1         NaN   \n",
       "helpful_beard_352vr4j8    2014-12-31                  NaN   1         NaN   \n",
       "gentle_guitar_2nt9sm6t    2014-12-31                  NaN   1         NaN   \n",
       "dynamic_fish_jtn2x5q9     2014-12-31                  NaN   1         NaN   \n",
       "lemon_plane_mrb3nm7v      2014-12-31                  NaN   1         NaN   \n",
       "icy_fly_hpwms2yp          2014-12-31                  NaN   1         NaN   \n",
       "epic_plate_nc54lhdv       2014-12-31                  NaN   1         NaN   \n",
       "quiet_duck_8y08st8w       2014-12-31                  NaN   1         NaN   \n",
       "patient_hominy_8v6p78yh   2014-12-31                  NaN   1         NaN   \n",
       "icy_ghost_rt8dc2xp        2014-12-31                  NaN   1         NaN   \n",
       "ivory_branch_d350x4yq     2014-12-31                  NaN   1         NaN   \n",
       "red_answer_rdp62h0t       2014-12-31                  NaN   1         NaN   \n",
       "tender_pear_lfbd6wwg             NaN                  NaN   0           0   \n",
       "\n",
       "                                                                      Link  \n",
       "display_name                                                                \n",
       "sad_caravan_nnryywcw                                                   N/A  \n",
       "serene_head_v04mgvx4                                                   N/A  \n",
       "salmon_cloud_wg3s2fnq                                                  N/A  \n",
       "affable_plum_cm6y51d3                                                  N/A  \n",
       "musing_lock_mgsp9xps                                                   N/A  \n",
       "mighty_beard_vvtgq0q9                                                  N/A  \n",
       "jolly_tangelo_ch7q56v0                                                 N/A  \n",
       "keen_circle_9wktjvvd                                                   N/A  \n",
       "purple_toe_dnntc2j8                                                    N/A  \n",
       "goofy_dress_ztmzmh27                                                   N/A  \n",
       "ivory_river_m6m000f8                                                   N/A  \n",
       "serene_angle_h8wlwrl7                                                  N/A  \n",
       "helpful_beard_352vr4j8                                                 N/A  \n",
       "gentle_guitar_2nt9sm6t                                                 N/A  \n",
       "dynamic_fish_jtn2x5q9                                                  N/A  \n",
       "lemon_plane_mrb3nm7v                                                   N/A  \n",
       "icy_fly_hpwms2yp                                                       N/A  \n",
       "epic_plate_nc54lhdv                                                    N/A  \n",
       "quiet_duck_8y08st8w                                                    N/A  \n",
       "patient_hominy_8v6p78yh                                                N/A  \n",
       "icy_ghost_rt8dc2xp                                                     N/A  \n",
       "ivory_branch_d350x4yq                                                  N/A  \n",
       "red_answer_rdp62h0t                                                    N/A  \n",
       "tender_pear_lfbd6wwg     <a href=\"tender_pear_lfbd6wwg/index.html\" disa...  "
      ]
     },
     "execution_count": 4,
     "metadata": {},
     "output_type": "execute_result"
    }
   ],
   "source": [
    "def is_arg_col(c):\n",
    "    if \"mlflow\" in c or \"_aml\" in c or 'run_' in c or 'url' in c:\n",
    "        return False\n",
    "    ignore = [\"output_dir\", \"input_dir\", 'run', 'display_name', 'id']\n",
    "    return c not in ignore\n",
    "\n",
    "def experiment_df_for_display(df, remove_duplicates=True, remove_const_columns=True):\n",
    "    arg_cols = [c for c in df.columns if is_arg_col(c)]\n",
    "    arg_df = df[arg_cols]\n",
    "    \n",
    "    if remove_const_columns:\n",
    "        arg_df = arg_df[[c for c in arg_df if arg_df[c].fillna('NA').nunique() > 1]]\n",
    "    \n",
    "    \n",
    "    if remove_duplicates:    \n",
    "        arg_df[~arg_df.duplicated(keep='last')]\n",
    "    \n",
    "    return arg_df\n",
    "\n",
    "arg_df = experiment_df_for_display(df)\n",
    "arg_df['Link'] = [f\"\"\"<a href=\"{name}/index.html\" disabled=>Graphs</a>\"\"\" if html_top_dir.joinpath(name).exists() else \"N/A\" for name in arg_df.index]\n",
    "\n",
    "arg_df"
   ]
  },
  {
   "cell_type": "code",
   "execution_count": null,
   "metadata": {},
   "outputs": [],
   "source": []
  },
  {
   "cell_type": "code",
   "execution_count": 5,
   "metadata": {},
   "outputs": [],
   "source": [
    "fix_links_script = \"\"\"\n",
    "              <script>\n",
    "                var x = document.getElementsByTagName('a');\n",
    "                var i;\n",
    "                for (i = 0; i < x.length; i++) {{\n",
    "                    let url = x[i].getAttribute(\"href\");\n",
    "                    x[i].href = url + window.location.search;\n",
    "                }}\n",
    "                </script>\n",
    "              \"\"\""
   ]
  },
  {
   "cell_type": "code",
   "execution_count": 6,
   "metadata": {},
   "outputs": [],
   "source": [
    "def get_run(display_name, experiment):\n",
    "    for run in experiment.get_runs():\n",
    "        if run.display_name == display_name:\n",
    "            return run\n",
    "        \n",
    "    raise KeyError(f\"'{display_name}' not found in experiment!\")"
   ]
  },
  {
   "cell_type": "code",
   "execution_count": 7,
   "metadata": {},
   "outputs": [],
   "source": [
    "# # run_row = df.loc[[not html_top_dir.joinpath(name).exists() for name in df.index]].iloc[0]\n",
    "# # run_name, verbose_name = \"tender_pear_lfbd6wwg\", \"baseline\"\n",
    "# # run_name, verbose_name = \"tender_pear_lfbd6wwg\", \"baseline_2row\"\n",
    "# # run_name, verbose_name = \"orange_scooter_dry7q6y9\", \"inject-laterals\"\n",
    "\n",
    "\n",
    "# runs = {\"baseline\": (\"tender_pear_lfbd6wwg\", \"generate-drift-csv-3\")}\n",
    "# verbose_name = \"baseline\"\n",
    "# run_name, experiment = runs[verbose_name]\n",
    "# experiment = Experiment(ws, experiment)\n",
    "# run = get_run(run_name, experiment)\n",
    "\n",
    "# # Diplay settings\n",
    "# span = 7\n",
    "# which = 'mean'\n",
    "# clip = 10\n",
    "# performance_col = (\"performance\", \"macro avg\", \"auroc\")\n",
    "# congruency_measure_col = ('in_distro', 'stats', 'mean')\n",
    "# add_error_bars = True\n",
    "\n",
    "# standardize_dates = (settings.PADCHEST_SPLIT_DATES[0], settings.PADCHEST_SPLIT_DATES[1])\n",
    "# standardize_ix = pd.date_range(*standardize_dates)\n",
    "# stat = []\n",
    "# # stat.append('pval')\n",
    "# stat.append('distance')\n",
    "\n",
    "# verbose_name = verbose_name + '_' + '+'.join(stat) \n",
    "\n",
    "# write_html = True\n",
    "# graph_start = \"2014-01-01\"\n",
    "# graph_end = \"2014-12-31\"\n",
    "\n",
    "\n",
    "# font=dict(size=12)\n",
    "\n",
    "# print(run_name, verbose_name)\n"
   ]
  },
  {
   "cell_type": "code",
   "execution_count": 8,
   "metadata": {},
   "outputs": [],
   "source": [
    "import itertools\n",
    "from plotly.subplots import make_subplots\n",
    "import plotly.graph_objects as go\n",
    "import plotly.express as px\n",
    "from matplotlib import colors as mpl_colors\n",
    "from collections import defaultdict\n",
    "\n",
    "def to_rgba(rgb, alpha=None):\n",
    "    rgb = mpl_colors.to_rgb(rgb)\n",
    "    if alpha is None:\n",
    "        return \"rgb(%s, %s, %s)\" % (rgb[0], rgb[1], rgb[2])\n",
    "    return \"rgba(%s, %s, %s, %s)\" % (rgb[0], rgb[1], rgb[2], alpha)\n",
    "\n",
    "def line_maker(color, **l):\n",
    "    return dict(color=color, **l)\n",
    "\n",
    "def marker_maker(color, **l):\n",
    "    return dict(color=color)\n",
    "\n",
    "def smooth(y: pd.DataFrame, span=7):\n",
    "    if span > 0:\n",
    "        ys = y.ewm(span=span, ignore_na=False).mean()\n",
    "        ys[y.isna()] = None\n",
    "    else:\n",
    "        ys = y    \n",
    "    return ys\n",
    "\n",
    "def add_date_line(fig, date, name, y=1.08):\n",
    "    fig.add_shape(type='line',\n",
    "                x0=date,\n",
    "                y0=0,\n",
    "                x1=date,\n",
    "                y1=1,\n",
    "                line=dict(color='black', dash='dot'),\n",
    "                xref='x',\n",
    "                yref='paper'\n",
    "                )\n",
    "    fig.add_annotation(textangle=0,\n",
    "                    xref=\"x\",\n",
    "                    yref=\"paper\", x=date, y=y,\n",
    "                       text=name, showarrow=False,\n",
    "                       font=dict(size=18))\n",
    "\n",
    "def add_dates(fig, dates, line_y=1.05, include_date=True):\n",
    "    for name, date in dates.items():\n",
    "        if not pd.isna(date):\n",
    "            n = f\"{name}<br />({date})\" if include_date else name\n",
    "            add_date_line(fig, date, n, y=line_y)\n",
    "            \n",
    "def collect_corr(y, yp, name, when, weights_name, start_date=None, end_date=None):\n",
    "    yp = yp.loc[start_date: end_date]\n",
    "    y = y.loc[start_date: end_date]\n",
    "    c, cm = yp.corr(y), smooth(yp).corr(smooth(y))\n",
    "    return {\"name\": name, \"weights_name\": weights_name,\n",
    "                \"corr (raw)\": c, \"corr (smoothed)\": cm, \"when\": when}\n",
    "\n",
    "class FigureHelper(object):\n",
    "    \n",
    "    def __init__(self, x=None, color_list=px.colors.qualitative.Plotly, dashes=('solid',), smooth_func=smooth, merge_hover=True):\n",
    "        self.traces = []\n",
    "        self.error_traces = []\n",
    "        self.color_list = color_list\n",
    "        self.line_picker = itertools.cycle(itertools.product(dashes, self.color_list))\n",
    "        self.lines = defaultdict(lambda: dict(zip(['dash', 'color'], next(self.line_picker))))\n",
    "        self.names = set()\n",
    "        self.smooth = smooth_func\n",
    "        self.x = x\n",
    "        self.merge_hover = merge_hover\n",
    "        \n",
    "    def set_line(self, key, line=None):\n",
    "        line = line or {}\n",
    "        self.lines[key] = self.lines[key]\n",
    "        self.lines[key].update(line)\n",
    "        self.lines[key]['color'] = self.lines[key]['color']\n",
    "        return self.lines[key]\n",
    "        \n",
    "        \n",
    "    def make_error_traces(self, x, yu, yl, name, color, alpha):\n",
    "        \n",
    "        \n",
    "        # need to remove nans from error traces\n",
    "        k = ~(yu.isnull()|yl.isnull())\n",
    "        xe = x[k]\n",
    "        yl = yl[k]\n",
    "        yu = yu[k]\n",
    "        \n",
    "        return [go.Scatter(x=xe, \n",
    "                            y=yu, \n",
    "                            hoverinfo=\"skip\",\n",
    "                            showlegend=False,\n",
    "                            legendgroup=name,\n",
    "                            name=name,\n",
    "                            connectgaps=False,\n",
    "                            line=dict(width=0),\n",
    "                ), \n",
    "                go.Scatter(x=xe, \n",
    "                            y=yl,\n",
    "                            fillcolor=to_rgba(color, alpha),\n",
    "                            fill='tonexty',\n",
    "                            hoverinfo=\"skip\",\n",
    "                            showlegend=False,                            \n",
    "                            legendgroup=name,\n",
    "                            name=name,\n",
    "                            connectgaps=False,\n",
    "                            line=dict(width=0),\n",
    "                )]\n",
    "\n",
    "    def add_trace(self, y, name, x=None, kind=go.Scatter, color_key=None, row=1, col=1, line=None,\n",
    "                  std=None, yu=None, yl=None, **trace_kwargs):\n",
    "        color_key = color_key or name\n",
    "        trace_kwargs.setdefault('showlegend', name not in self.names)\n",
    "        self.names.add(name)\n",
    "        trace_kwargs.setdefault('legendgroup', name)\n",
    "        \n",
    "        line = self.set_line(color_key, line)\n",
    "        x = x or self.x\n",
    "        y = y.reindex(x)\n",
    "        t = kind(x=x, y=y, name=name, **trace_kwargs)\n",
    "        if not isinstance(t, go.Bar):\n",
    "            t.line = line_maker(**line)\n",
    "        else:\n",
    "            t.marker = marker_maker(**line)\n",
    "            \n",
    "    \n",
    "        self.traces.append((row, col, t))\n",
    "        \n",
    "        if std is not None:\n",
    "            yu = y+std\n",
    "            yl = y-std\n",
    "            \n",
    "        if yu is not None and yl is not None:\n",
    "            for t_ in self.make_error_traces(x, yu, yl, name=name, color=line[\"color\"], alpha=0.2):\n",
    "                self.error_traces.append((row, col, t_))\n",
    "    \n",
    "    \n",
    "    def add_bar(self, y, name, x=None, color_key=None, row=1, col=1, line=None, include_line=True,\n",
    "                **trace_kwargs):\n",
    "        \n",
    "        if include_line:\n",
    "            self.add_trace(y=y, name=name, color_key=color_key, line=line, row=row, col=col, **trace_kwargs)\n",
    "        self.add_trace(y=y, name=name, color_key=color_key, kind=go.Bar, line=line, row=row, col=col, **trace_kwargs)\n",
    "        \n",
    "        \n",
    "    \n",
    "    def make_fig(self, **fig_kwargs):\n",
    "\n",
    "        data = {}\n",
    "        max_row = 1\n",
    "        max_col = 1\n",
    "        for r, c, t in self.traces:\n",
    "            max_row = max(r, max_row)\n",
    "            max_col = max(c, max_col)\n",
    "            data[t.name] = pd.Series(t.y, index=t.x)\n",
    "            \n",
    "        customdata = pd.DataFrame(data)\n",
    "        fig = make_subplots(rows=max_row, cols=max_col, **fig_kwargs)\n",
    "        for r, c, t in self.traces:\n",
    "            if self.merge_hover:\n",
    "                cus_cols = sorted(customdata)\n",
    "                ho = \"<br />\".join([\"{name}=%{{customdata[{i}]:.3f}}\".format(i=i, name=name) for i,name in enumerate(cus_cols)])\n",
    "                hovertemplate = \"%{x}<br>\" + f\"{t.name}: \" +\"%{y}<br><br>\"+f\"{ho}<extra></extra>\"\n",
    "                t.customdata = customdata[cus_cols]\n",
    "                t.hovertemplate = hovertemplate\n",
    "            # t.hoverlabel = {'bgcolor': 'white'}\n",
    "            fig.add_trace(t, row=r, col=c)\n",
    "                        \n",
    "        for r, c, t in self.error_traces:\n",
    "            fig.add_trace(t, row=r, col=c)\n",
    "        return fig\n",
    "        \n",
    "        \n",
    "        \n",
    "        "
   ]
  },
  {
   "cell_type": "code",
   "execution_count": 9,
   "metadata": {},
   "outputs": [],
   "source": [
    "def download_and_prepare_run_data(run, which=\"mean\"):\n",
    "    output_file_path = settings.TOP_DIR.joinpath('results', 'drift', run.display_name+\".csv\")\n",
    "    fname = str(output_file_path)\n",
    "    run.download_file(\"outputs/output.csv\", output_file_path=output_file_path)\n",
    "    \n",
    "    combined_df = pd.read_csv(str(fname), index_col=0, header=[0, 1, 2, 3])\n",
    "    combined_df.index = pd.to_datetime(combined_df.index)\n",
    "    flip = column_xs(combined_df, include=[\"pval\"])\n",
    "    combined_df[flip] = 1-combined_df[flip]\n",
    "    \n",
    "    error_df = combined_df.swaplevel(0, -1, axis=1)[[\"std\"]].swaplevel(0, -1, axis=1).droplevel(-1, axis=1).copy()\n",
    "    combined_df = combined_df.swaplevel(0, -1, axis=1)[[which]].swaplevel(0, -1, axis=1).droplevel(-1, axis=1).copy()\n",
    "    \n",
    "    return error_df, combined_df\n",
    "\n",
    "\n",
    "def calc_stats(other_df, standardize_dates):\n",
    "    standardize_ix = pd.date_range(*standardize_dates)\n",
    "    stats = other_df.dropna(axis=1).reindex(standardize_ix)\n",
    "    stats = stats.agg([\"mean\", \"std\"])\n",
    "    return stats\n",
    "\n",
    "def standardize(other_df, standardize_dates=None, stats=None, clip=None) -> pd.DataFrame:\n",
    "    \n",
    "    if stats is None:\n",
    "        stats = calc_stats(other_df, standardize_dates)\n",
    "    otherstd = other_df.copy()\n",
    "    # cannot divide by zero\n",
    "    std0 = stats.loc['std'] == 0\n",
    "    stats.loc[\"std\", stats.loc['std'] == 0] = 1\n",
    "    \n",
    "    otherstd = (otherstd-stats.loc['mean'])/(stats.loc[\"std\"])\n",
    "    bad_cols = otherstd.columns[otherstd.isnull().max(axis=0)].tolist()\n",
    "    # print(\"bad columns after standardization:\", bad_cols)\n",
    "    \n",
    "    if clip is not None:\n",
    "        otherstd = otherstd.clip(-1*clip, clip)\n",
    "    \n",
    "    return otherstd\n",
    "\n",
    "def calculate_weights(yp, otherstd) -> pd.DataFrame:\n",
    "    all_corr_df = correlate_performance(yp.rename('auroc'), otherstd)\n",
    "    all_ig_df = mutual_info_performance(yp.rename('auroc'), otherstd, bins=25)\n",
    "    m_ = all_ig_df.to_frame().join(all_corr_df.apply(lambda x: max(0, x)).rename('corr')).join(all_corr_df.abs().rename('abs(corr)'))\n",
    "    m_ = m_.join(m_.mean(axis=1).rename('mean[abs(corr),info_gain]'))\n",
    "    m_ = m_.assign(no_weights=1)\n",
    "    m_ = m_.fillna(0)\n",
    "    \n",
    "    return m_\n",
    "\n",
    "class DriftFromRun(object):\n",
    "    \n",
    "    which = \"mean\"\n",
    "    standardize_dates = (settings.PADCHEST_SPLIT_DATES[0], settings.PADCHEST_SPLIT_DATES[1])\n",
    "    stat = ['distance']\n",
    "    span = 7\n",
    "    clip = 10\n",
    "    performance_col = (\"performance\", \"micro avg\", \"auroc\")\n",
    "    # performance_col = (\"performance\", \"Pneumonia\", \"auroc\")\n",
    "    # performance_col = (\"performance\", \"Pleural Abnormalities\", \"auroc\")\n",
    "    graph_start = \"2014-01-01\"\n",
    "    graph_end = \"2014-12-31\"\n",
    "    \n",
    "    def __init__(self, run):\n",
    "        \n",
    "        error_df, combined_df = download_and_prepare_run_data(run, which=self.which)\n",
    "        perf_df = combined_df[self.performance_col]\n",
    "        other_cols = column_xs(combined_df, exclude=['performance', 'count'])\n",
    "        other_df = combined_df[other_cols]\n",
    "        cxs = column_xs(other_df, include=self.stat)\n",
    "        otherstd = standardize(other_df[cxs], self.standardize_dates, clip=self.clip)\n",
    "        \n",
    "        self.standardize_ix = pd.date_range(*self.standardize_dates)\n",
    "        \n",
    "        count_cols = column_xs(combined_df, ['support'])\n",
    "        count_cols = [c for c in count_cols if 'avg' not in c[1]]\n",
    "        label_counts = combined_df[count_cols]\n",
    "        label_counts.columns = [c[1] for c in label_counts.columns]\n",
    "        num_samples = combined_df['count'].iloc[:, 0]\n",
    "        \n",
    "        self.label_rates = label_counts.div(num_samples, axis=0)\n",
    "        \n",
    "        vae_cols = [c for c in list(otherstd) if \"mu.\" in c[0]]\n",
    "        score_cols = [c for c in list(otherstd) if \"activation.\" in c[0]]\n",
    "        metadata_cols = sorted(set(otherstd).difference(vae_cols).difference(score_cols))\n",
    "        \n",
    "        self.other_cols = other_cols\n",
    "        self.vae_cols = vae_cols\n",
    "        self.score_cols = score_cols\n",
    "        self.metadata_cols = metadata_cols\n",
    "        \n",
    "        self.combined_df = combined_df\n",
    "        self.otherstd = otherstd\n",
    "        self.perf_df = perf_df\n",
    "        self.perf_error_df = error_df[self.performance_col]\n",
    "        self.m_ = calculate_weights(perf_df.reindex(self.standardize_ix), otherstd.reindex(self.standardize_ix))\n",
    "        \n",
    "    def unify_metrics(self, cols=None, weights=\"abs(corr)\", start=None, end=None, m=None):\n",
    "        if cols is None:\n",
    "            cols = self.otherstd.columns.tolist()\n",
    "        if m is None:\n",
    "            m=self.m_\n",
    "        return -w_avg(self.otherstd[cols], weights=m[weights].to_dict())\n",
    "mega_m = pd.read_pickle(\"mega_m.pkl\")"
   ]
  },
  {
   "cell_type": "code",
   "execution_count": null,
   "metadata": {},
   "outputs": [],
   "source": []
  },
  {
   "cell_type": "code",
   "execution_count": 10,
   "metadata": {},
   "outputs": [
    {
     "name": "stdout",
     "output_type": "stream",
     "text": [
      "lateral-micro_distance\n",
      "Baseline\n"
     ]
    },
    {
     "name": "stderr",
     "output_type": "stream",
     "text": [
      "D:\\Code\\MLOpsDay2\\MedImaging-ModelDriftMonitoring\\.venv\\lib\\site-packages\\pandas\\core\\reshape\\merge.py:643: UserWarning: merging between different levels can give an unintended result (3 levels on the left,1 on the right)\n",
      "  warnings.warn(msg, UserWarning)\n"
     ]
    },
    {
     "name": "stdout",
     "output_type": "stream",
     "text": [
      "Lat. Injected\n"
     ]
    },
    {
     "name": "stderr",
     "output_type": "stream",
     "text": [
      "D:\\Code\\MLOpsDay2\\MedImaging-ModelDriftMonitoring\\.venv\\lib\\site-packages\\pandas\\core\\reshape\\merge.py:643: UserWarning: merging between different levels can give an unintended result (3 levels on the left,1 on the right)\n",
      "  warnings.warn(msg, UserWarning)\n"
     ]
    }
   ],
   "source": [
    "figure_name = \"lateral-micro\" + \"_\" + \"+\".join(DriftFromRun.stat)\n",
    "print(figure_name)\n",
    "runs = {\n",
    "    \"Baseline\": (\"tender_pear_lfbd6wwg\", \"generate-drift-csv-3\"),\n",
    "    \"Lat. Injected\": (\"ashy_king_qrkj45yq\", \"generate-drift-csv-3\"),\n",
    "    }\n",
    "verbose_name = \"baseline\"\n",
    "graph_start = \"2014-03-01\"\n",
    "graph_end = \"2015-01-01\"\n",
    "\n",
    "x = pd.date_range(pd.to_datetime(graph_start)-pd.DateOffset(n=30), pd.to_datetime(graph_end)+pd.DateOffset(n=30))\n",
    "\n",
    "runs_ = {}\n",
    "builds = {}\n",
    "score_graphs = {}\n",
    "perf_graphs = {}\n",
    "score_graphs_mega = {}\n",
    "for name, (run_name, experiment) in runs.items():\n",
    "    print(name)\n",
    "    experiment = Experiment(ws, experiment)\n",
    "    run = get_run(run_name, experiment)\n",
    "    build = DriftFromRun(run)\n",
    "    score_unify = build.unify_metrics().reindex(x)\n",
    "    runs_[name] = run\n",
    "    builds[name] = build\n",
    "    score_graphs[name] = score_unify\n",
    "    perf_graphs[name] = pd.concat([build.perf_df.reindex(x).rename(\"yp\"), build.perf_error_df.reindex(x).rename(\"ye\")], axis=1)\n",
    "    \n",
    "    score_graphs_mega[name] = build.unify_metrics(m=mega_m).reindex(x) \n",
    "    \n",
    "    \n"
   ]
  },
  {
   "cell_type": "code",
   "execution_count": 11,
   "metadata": {},
   "outputs": [
    {
     "data": {
      "text/plain": [
       "{'A': '2014-06-01', 'B': '2014-09-01'}"
      ]
     },
     "execution_count": 11,
     "metadata": {},
     "output_type": "execute_result"
    }
   ],
   "source": [
    "dates = {\"A\": runs_[\"Lat. Injected\"].tags['nonfrontal_add_date'],\n",
    "         \"B\": runs_[\"Lat. Injected\"].tags['frontal_remove_date'],}\n",
    "\n",
    "dates"
   ]
  },
  {
   "cell_type": "code",
   "execution_count": 15,
   "metadata": {},
   "outputs": [
    {
     "data": {
      "application/vnd.plotly.v1+json": {
       "config": {
        "plotlyServerURL": "https://plot.ly"
       },
       "data": [
        {
         "connectgaps": false,
         "customdata": [
          [
           -0.18890748365847007,
           -0.19088881373631797
          ],
          [
           -0.15604752023066037,
           -0.17256074989744394
          ],
          [
           -0.15151090114665264,
           -0.13151895520577245
          ],
          [
           -0.123399159876721,
           -0.11861950016721455
          ],
          [
           -0.11419408260998928,
           -0.1011947023772894
          ],
          [
           -0.07123445642361019,
           -0.07522865475807622
          ],
          [
           -0.04812432922624187,
           -0.054299399317403116
          ],
          [
           -0.04143471695773264,
           -0.04963147149373532
          ],
          [
           -0.04353447246138771,
           -0.04702756794740084
          ],
          [
           -0.03719584682764611,
           -0.03351142939232494
          ],
          [
           -0.007470334818118486,
           -0.015995539218107445
          ],
          [
           0.008813094305868853,
           0.003806631448933552
          ],
          [
           0.032747973789282014,
           0.03204344322917207
          ],
          [
           0.042075750921145565,
           0.04102431167476816
          ],
          [
           0.03441124793633043,
           0.028213852773394853
          ],
          [
           0.011603524107536102,
           0.013914747891564105
          ],
          [
           -0.015100973388910028,
           0.0010359271725134452
          ],
          [
           -0.022862045450951808,
           -0.007322351558800557
          ],
          [
           -0.062929072225801,
           -0.04971472579654754
          ],
          [
           -0.09052379965138671,
           -0.08929892910417513
          ],
          [
           -0.17754960398148087,
           -0.17995801072338358
          ],
          [
           -0.2673329651534557,
           -0.27809611276840096
          ],
          [
           -0.2981319284277877,
           -0.3114328042439178
          ],
          [
           -0.30785965626806716,
           -0.3186968847683889
          ],
          [
           -0.304524786525196,
           -0.3176882002421899
          ],
          [
           -0.2893416302613611,
           -0.2976498682633289
          ],
          [
           -0.2648306771841244,
           -0.2607799140843475
          ],
          [
           -0.24551561124653817,
           -0.23308550931487443
          ],
          [
           -0.24327786174819627,
           -0.23243601717699575
          ],
          [
           -0.2296229925163758,
           -0.23043445514811617
          ],
          [
           -0.21245519939617238,
           -0.20492035029020592
          ],
          [
           -0.18545372267968235,
           -0.18804961279672672
          ],
          [
           -0.16052123896621812,
           -0.1719571956980408
          ],
          [
           -0.14341103625265827,
           -0.15327951749108554
          ],
          [
           -0.1524757831945421,
           -0.1567818222912414
          ],
          [
           -0.17756681695174892,
           -0.17515222380617038
          ],
          [
           -0.21263351396249114,
           -0.2135718721270857
          ],
          [
           -0.21770781020142282,
           -0.21746075251594765
          ],
          [
           -0.20403558655322981,
           -0.22832697911685473
          ],
          [
           -0.23352697933085717,
           -0.2633020498684997
          ],
          [
           -0.275084351609129,
           -0.3014686286433474
          ],
          [
           -0.37231648816868734,
           -0.38595207349984567
          ],
          [
           -0.439771968923394,
           -0.45060364932123104
          ],
          [
           -0.4697251301964211,
           -0.45505772327444205
          ],
          [
           -0.4243958398068187,
           -0.4093046593565997
          ],
          [
           -0.3752712086691253,
           -0.3634786868598024
          ],
          [
           -0.3751248756759731,
           -0.35507873808924856
          ],
          [
           -0.3924620119270638,
           -0.39043971107887704
          ],
          [
           -0.3982604236521654,
           -0.414136504519196
          ],
          [
           -0.41208783823839723,
           -0.4250711205842168
          ],
          [
           -0.4654534083910629,
           -0.48362934055585416
          ],
          [
           -0.4773686001370562,
           -0.482300550997339
          ],
          [
           -0.47518448385863843,
           -0.46298066733144055
          ],
          [
           -0.5097548292927213,
           -0.5005022584901615
          ],
          [
           -0.5343049535224387,
           -0.5133810762850262
          ],
          [
           -0.5888393821581267,
           -0.5516559865470256
          ],
          [
           -0.6186363022073751,
           -0.6005873315300841
          ],
          [
           -0.5965671512685876,
           -0.5891282155189775
          ],
          [
           -0.5295987580718298,
           -0.5281293972003667
          ],
          [
           -0.4567679948522986,
           -0.4508300643542688
          ],
          [
           -0.38165315364389946,
           -0.394495346756317
          ],
          [
           -0.34441456676404986,
           -0.34726984714245623
          ],
          [
           -0.29983728843886454,
           -0.30951710070942023
          ],
          [
           -0.285106053988388,
           -0.2850473098727522
          ],
          [
           -0.24551429807291061,
           -0.25963828660791505
          ],
          [
           -0.1995383684075351,
           -0.1996091457175008
          ],
          [
           -0.1565458637494708,
           -0.1528938090004255
          ],
          [
           -0.10774519270609367,
           -0.09041682976991233
          ],
          [
           -0.0728687363241678,
           -0.06808805815762604
          ],
          [
           -0.058043495386204694,
           -0.04306562923353084
          ],
          [
           -0.03239405638029411,
           -0.021517892042001406
          ],
          [
           -0.011249206054083619,
           -0.005340926470836575
          ],
          [
           -0.004032418070888627,
           -0.0009705277204757184
          ],
          [
           -0.022210549752253405,
           -0.013285593691153652
          ],
          [
           -0.032734339336322256,
           -0.027678868646274887
          ],
          [
           -0.06960575872726953,
           -0.07954612212534781
          ],
          [
           -0.14033916308084407,
           -0.14503001940936733
          ],
          [
           -0.22209949763626713,
           -0.21832693291558822
          ],
          [
           -0.2720399151138692,
           -0.2779409573225249
          ],
          [
           -0.3080196833130205,
           -0.31446935180156005
          ],
          [
           -0.33888940166577075,
           -0.3439715621469133
          ],
          [
           -0.34228237100135694,
           -0.3529972786958267
          ],
          [
           -0.3524928220276854,
           -0.3528076838072003
          ],
          [
           -0.3577262775777667,
           -0.35127137936820574
          ],
          [
           -0.38540109083382806,
           -0.3766821806488085
          ],
          [
           -0.45120436030204614,
           -0.4449072663061667
          ],
          [
           -0.4748915297957219,
           -0.4644852675567485
          ],
          [
           -0.4865747042006964,
           -0.46563245264709235
          ],
          [
           -0.5146773967581102,
           -0.5038145389849484
          ],
          [
           -0.5565050031104347,
           -0.5568308429627632
          ],
          [
           -0.6278735389267476,
           -0.636281071632388
          ],
          [
           -0.6933411629206633,
           -0.6892893119819322
          ],
          [
           -0.681221955971706,
           -0.6698782325874847
          ],
          [
           -0.646837756229294,
           -0.6438748094137923
          ],
          [
           -0.6043923735756869,
           -0.6127626661717175
          ],
          [
           -0.5638942206784412,
           -0.6036995316360787
          ],
          [
           -0.5448544884272785,
           -0.6439833599221783
          ],
          [
           -0.5567171958314453,
           -0.671125999165016
          ],
          [
           -0.5785007430544798,
           -0.7183954912603373
          ],
          [
           -0.6295475671723577,
           -0.7973107360591187
          ],
          [
           -0.6486622284423252,
           -0.8458364695698285
          ],
          [
           -0.6614121004517577,
           -0.9152646939181129
          ],
          [
           -0.6892878281811752,
           -0.9969048688878536
          ],
          [
           -0.7339107814719248,
           -1.135525834299261
          ],
          [
           -0.8082305040443609,
           -1.284920085534366
          ],
          [
           -0.8448807026812086,
           -1.3896323289376795
          ],
          [
           -0.8426783582435867,
           -1.4781516677846538
          ],
          [
           -0.827440852956896,
           -1.5337358008837039
          ],
          [
           -0.7967487154851228,
           -1.5663605103887197
          ],
          [
           -0.7416588298858396,
           -1.604016193552317
          ],
          [
           -0.6833647187970925,
           -1.6771862563427966
          ],
          [
           -0.638170483342429,
           -1.7441135012205713
          ],
          [
           -0.6071921197783368,
           -1.792957636063255
          ],
          [
           -0.5644792517010209,
           -1.8585510409021193
          ],
          [
           -0.5546389738714187,
           -1.908937264868131
          ],
          [
           -0.5459471497321569,
           -1.9562921173417833
          ],
          [
           -0.5841317579941178,
           -2.027678426663119
          ],
          [
           -0.637963563938744,
           -2.1267737704467056
          ],
          [
           -0.7012368889063882,
           -2.2420912302203466
          ],
          [
           -0.8042740433479508,
           -2.3865850895046212
          ],
          [
           -0.9270761310612574,
           -2.579395166697331
          ],
          [
           -1.010402141410789,
           -2.6874443687355414
          ],
          [
           -1.0482036211146821,
           -2.7458324057472083
          ],
          [
           -1.1378338005409359,
           -2.8872636680105574
          ],
          [
           -1.23000059173428,
           -2.9807538209798037
          ],
          [
           -1.306708242798656,
           -3.0964348423644825
          ],
          [
           -1.3762579896253164,
           -3.1686032368363506
          ],
          [
           -1.4783074120768456,
           -3.242097197107852
          ],
          [
           -1.5910870484830637,
           -3.2788089714270363
          ],
          [
           -1.732368452564463,
           -3.30538080523735
          ],
          [
           -1.8539892619172313,
           -3.3418413046557163
          ],
          [
           -1.996187337926215,
           -3.342677956098029
          ],
          [
           -2.127989792221675,
           -3.3637626121647553
          ],
          [
           -2.248837067631599,
           -3.3932638372049038
          ],
          [
           -2.3560167165647905,
           -3.3987831509563557
          ],
          [
           -2.4268796796621506,
           -3.384689307033999
          ],
          [
           -2.45126392659993,
           -3.3849203943516053
          ],
          [
           -2.4793780226266815,
           -3.3926169991924837
          ],
          [
           -2.5164066733763675,
           -3.428180184458932
          ],
          [
           -2.5856558681084274,
           -3.467672004651875
          ],
          [
           -2.6722924926055556,
           -3.5395242437953756
          ],
          [
           -2.775699464473198,
           -3.5776255073582606
          ],
          [
           -2.8032894873076883,
           -3.598582770275949
          ],
          [
           -2.760389375203099,
           -3.5969543221583526
          ],
          [
           -2.721640430896285,
           -3.5700616327609516
          ],
          [
           -2.6834293593807916,
           -3.545950129950541
          ],
          [
           -2.6470729053211692,
           -3.523347094117509
          ],
          [
           -2.612188273105625,
           -3.505740549780207
          ],
          [
           -2.5537828165390883,
           -3.4647421435459584
          ],
          [
           -2.4864536709037623,
           -3.4460212709287203
          ],
          [
           -2.4565294229622636,
           -3.447421553100247
          ],
          [
           -2.4335093106127936,
           -3.450568917816533
          ],
          [
           -2.4145144885936083,
           -3.457173525558772
          ],
          [
           -2.4583446395146544,
           -3.4762956410145827
          ],
          [
           -2.4882912153252073,
           -3.477009367686885
          ],
          [
           -2.51331402565556,
           -3.4954478141763783
          ],
          [
           -2.512551854199357,
           -3.5055320916723627
          ],
          [
           -2.5244138280000668,
           -3.528727872653067
          ],
          [
           -2.506557971465122,
           -3.537272834390653
          ],
          [
           -2.4570581306864674,
           -3.555610313013796
          ],
          [
           -2.3943046684048173,
           -3.5795350049497796
          ],
          [
           -2.3339138323684567,
           -3.586529709021992
          ],
          [
           -2.316569831767702,
           -3.6559687635084117
          ],
          [
           -2.3042653856843565,
           -3.7163898448952635
          ],
          [
           -2.2882781479057397,
           -3.7540349871974588
          ],
          [
           -2.257550280607313,
           -3.8007264623615735
          ],
          [
           -2.2672643731122735,
           -3.8481304876992217
          ],
          [
           -2.298930557872156,
           -3.8788265019010177
          ],
          [
           -2.3573810209761,
           -3.9333981477060496
          ],
          [
           -2.4172427463185406,
           -3.957403014444017
          ],
          [
           -2.4375854906408483,
           -3.9672126847540294
          ],
          [
           -2.4320619439774185,
           -3.989475748415992
          ],
          [
           -2.47594214494315,
           -4.00282945160093
          ],
          [
           -2.5100924166123995,
           -4.02305835211258
          ],
          [
           -2.598418981418609,
           -4.090457170554403
          ],
          [
           -2.735356184655697,
           -4.186256513566518
          ],
          [
           -2.836317087832255,
           -4.274554947932345
          ],
          [
           -2.90294112603371,
           -4.330405960264751
          ],
          [
           -2.9702673799959887,
           -4.408168650069457
          ],
          [
           -3.029803924523222,
           -4.502900025306305
          ],
          [
           -3.1044120356009466,
           -4.572477433066651
          ],
          [
           -3.097279162239671,
           -4.594571744162196
          ],
          [
           -3.123209414129257,
           -4.623807448480146
          ],
          [
           -3.105560554539134,
           -4.6675905171455625
          ],
          [
           -3.1161069253958953,
           -4.758569064062897
          ],
          [
           -3.11421269432254,
           -4.869280520261523
          ],
          [
           -3.172886743913998,
           -5.000969987284681
          ],
          [
           -3.2430604906821925,
           -5.106893422275798
          ],
          [
           -3.3473835295817853,
           -5.267987578213918
          ],
          [
           -3.410717920766097,
           -5.369214080649613
          ],
          [
           -3.449248979093757,
           -5.482649556398986
          ],
          [
           -3.411699462192107,
           -5.567437118515261
          ],
          [
           -3.356504028242057,
           -5.664140316623022
          ],
          [
           -3.231650697485934,
           -5.741166696194552
          ],
          [
           -3.0950393204684135,
           -5.78251790154012
          ],
          [
           -3.014179573645209,
           -5.868613182301838
          ],
          [
           -2.9518471653218703,
           -5.976079157129992
          ],
          [
           -2.8457028358148895,
           -6.041986565612685
          ],
          [
           -2.6996391490227967,
           -6.0845239326501215
          ],
          [
           -2.547502757942357,
           -6.126953476766839
          ],
          [
           -2.4092733417630257,
           -6.1936333298419
          ],
          [
           -2.282336485234365,
           -6.297841973556762
          ],
          [
           -2.1831555921492214,
           -6.418324054791921
          ],
          [
           -2.09880433337246,
           -6.493260018364476
          ],
          [
           -2.040059837905914,
           -6.5781581232229325
          ],
          [
           -2.0241607477746704,
           -6.6473015824638
          ],
          [
           -2.0079471602543113,
           -6.6874444009392855
          ],
          [
           -1.9846190313882217,
           -6.760364534102387
          ],
          [
           -1.9908995830332805,
           -6.882200201351082
          ],
          [
           -1.9813844990981508,
           -6.987240045435188
          ],
          [
           -1.9717874974348162,
           -7.126029745901799
          ],
          [
           -2.0013916790283774,
           -7.285632634600821
          ],
          [
           -1.9777708217398169,
           -7.385300246778106
          ],
          [
           -1.9123257658811368,
           -7.44684069214621
          ],
          [
           -1.8327324134488832,
           -7.581090745839238
          ],
          [
           -1.7918444496583863,
           -7.686405330198413
          ],
          [
           -1.737720608364577,
           -7.744183861103316
          ],
          [
           -1.6751986443773277,
           -7.768240150595281
          ],
          [
           -1.5911348557375067,
           -7.769086682580762
          ],
          [
           -1.4881330499823637,
           -7.768112058751269
          ],
          [
           -1.3966902378308912,
           -7.768472223314152
          ],
          [
           -1.3245266719276645,
           -7.7558426083597904
          ],
          [
           -1.2810767780388073,
           -7.75889886857818
          ],
          [
           -1.2391313241865136,
           -7.752187654545117
          ],
          [
           -1.20262382587511,
           -7.78234113048565
          ],
          [
           -1.1861838378467169,
           -7.7817002047156665
          ],
          [
           -1.1560936362396281,
           -7.797472348295436
          ],
          [
           -1.1279469702723577,
           -7.819210658900083
          ],
          [
           -1.0857539749111136,
           -7.83596239506439
          ],
          [
           -1.0434627547716824,
           -7.8410511912367635
          ],
          [
           -1.013576410282247,
           -7.841061106618837
          ],
          [
           -1.0124653367765892,
           -7.832600027301094
          ],
          [
           -1.021100501863052,
           -7.7801372581948405
          ],
          [
           -1.0325423808937615,
           -7.694711780284477
          ],
          [
           -1.041949319302563,
           -7.621571257127702
          ],
          [
           -1.0356890706194846,
           -7.572451123427148
          ],
          [
           -1.0183131818770226,
           -7.539657350470893
          ],
          [
           -0.9904375311702684,
           -7.519705386663834
          ],
          [
           -0.9602071268064365,
           -7.509822241533029
          ],
          [
           -0.9232688865451816,
           -7.49225627586541
          ],
          [
           -0.8983093344355418,
           -7.473269996704073
          ],
          [
           -0.8738840339362981,
           -7.455643173785608
          ],
          [
           -0.8650902939490499,
           -7.460117049241061
          ],
          [
           -0.8796792593416868,
           -7.470084484528844
          ],
          [
           -0.8830235495251072,
           -7.467003835820344
          ],
          [
           -0.903230159469923,
           -7.438112226376894
          ],
          [
           -0.8999148149077725,
           -7.403460493296187
          ],
          [
           -0.8640487485873956,
           -7.3176577353701235
          ],
          [
           -0.8312768207106751,
           -7.2388585235640805
          ],
          [
           -0.828329507946163,
           -7.162120165242435
          ],
          [
           -0.8671370777788756,
           -7.117912247179385
          ],
          [
           -0.9108799203194474,
           -7.060267563201649
          ],
          [
           -0.9537200392222218,
           -7.018180384515473
          ],
          [
           -0.9643568529303892,
           -6.965360371376593
          ],
          [
           -0.9364980624947015,
           -6.940219346082857
          ],
          [
           -0.8948561072241086,
           -6.930403165449906
          ],
          [
           -0.8635360946737858,
           -6.929363564006672
          ],
          [
           -0.8415908518659888,
           -6.9066086503060005
          ],
          [
           -0.8137884660238655,
           -6.873103181773844
          ],
          [
           -0.7948761033417208,
           -6.834345832018463
          ],
          [
           -0.7934478132121878,
           -6.82242577755554
          ],
          [
           -0.791481339315108,
           -6.813780813707659
          ],
          [
           -0.7983177255180967,
           -6.821169712758033
          ],
          [
           -0.8247709442971153,
           -6.845287129294384
          ],
          [
           -0.832875807102059,
           -6.8779835293629805
          ],
          [
           -0.8335696074863412,
           -6.891175343962207
          ],
          [
           -0.8434636039924581,
           -6.893640879059603
          ],
          [
           -0.8624174767083372,
           -6.884765021304996
          ],
          [
           -0.8726299560542683,
           -6.8844882748130605
          ],
          [
           -0.8685707290770959,
           -6.863463908627464
          ],
          [
           -0.8883403168630232,
           -6.859551506272903
          ],
          [
           -0.9203815108247266,
           -6.85732081422596
          ],
          [
           -0.9787615457555328,
           -6.868530173355804
          ],
          [
           -1.0563357273827805,
           -6.860692787537048
          ],
          [
           -1.1370324296195147,
           -6.868653847549368
          ],
          [
           -1.195138778292071,
           -6.85437601374531
          ],
          [
           -1.202974175998419,
           -6.817873195196131
          ],
          [
           -1.169131393764858,
           -6.796220882365836
          ],
          [
           -1.132480474571298,
           -6.817106360127001
          ],
          [
           -1.1081368175114055,
           -6.86159618165906
          ],
          [
           -1.0884178614886852,
           -6.902234102450571
          ],
          [
           -1.0802138084204072,
           -6.945675903372951
          ],
          [
           -1.0754449216067312,
           -6.965825633299948
          ],
          [
           -1.0998884394026711,
           -6.9821774482453325
          ],
          [
           -1.161389274511201,
           -7.034498252226777
          ],
          [
           -1.2898770054376039,
           -7.07830507510344
          ],
          [
           -1.455018068745699,
           -7.116887155002158
          ],
          [
           -1.600919528760408,
           -7.155884935708926
          ],
          [
           -1.7808639228580376,
           -7.186958557133811
          ],
          [
           -1.9295003981166108,
           -7.215079398992873
          ],
          [
           -2.0411600505981693,
           -7.226456273220117
          ],
          [
           -2.173509465316768,
           -7.243085469807429
          ],
          [
           -2.321314361448672,
           -7.297598264522819
          ],
          [
           -2.469720816070581,
           -7.305797207683207
          ],
          [
           -2.590579724091741,
           -7.3398746167313735
          ],
          [
           -2.7162643538952476,
           -7.375016544765023
          ],
          [
           -2.793289444847559,
           -7.403579820072567
          ],
          [
           -2.863364482559653,
           -7.427149995569215
          ],
          [
           -2.993130109307048,
           -7.483060135061068
          ],
          [
           -3.161084949467523,
           -7.542373473417916
          ],
          [
           -3.2804712949915396,
           -7.590703409886697
          ],
          [
           -3.383015152394691,
           -7.625557308062155
          ],
          [
           -3.4874932755933123,
           -7.681709660607501
          ],
          [
           -3.5606259695336355,
           -7.734761336875982
          ],
          [
           -3.609798467363745,
           -7.778136884258821
          ],
          [
           -3.6583909929093137,
           -7.799612466660852
          ],
          [
           -3.6724067033971437,
           -7.871160693711115
          ],
          [
           -3.7186287175248927,
           -7.96918888049886
          ],
          [
           -3.732221297386738,
           -8.059894727227942
          ],
          [
           -3.7094183196522255,
           -8.166704260725165
          ],
          [
           -3.688382368524776,
           -8.233452525709074
          ],
          [
           -3.6611097156664387,
           -8.252991531487817
          ],
          [
           -3.6251981762800582,
           -8.241704737784692
          ],
          [
           -3.639446374623888,
           -8.25261906309434
          ],
          [
           -3.6357065211848405,
           -8.250445288333076
          ],
          [
           -3.6221856190301995,
           -8.191277203422285
          ],
          [
           -3.5520417273403213,
           -8.118869439774302
          ],
          [
           -3.4941755156828807,
           -8.050349295641764
          ],
          [
           -3.4326250316394633,
           -7.9942422402874325
          ],
          [
           -3.400061643878377,
           -7.969272504275028
          ],
          [
           -3.3723417184713873,
           -7.947258352778436
          ],
          [
           -3.3376384256770164,
           -7.945422577677185
          ],
          [
           -3.3174076185674037,
           -7.962909468641636
          ],
          [
           -3.3023959779484153,
           -7.937639632639463
          ],
          [
           -3.2779700201895583,
           -7.914360392105887
          ],
          [
           -3.2892947300992796,
           -7.8993487384417955
          ],
          [
           -3.3203847868160965,
           -7.930860752769613
          ],
          [
           -3.3523010435634393,
           -7.970415459229355
          ],
          [
           -3.3777970315073653,
           -7.997566866740921
          ],
          [
           -3.3983031193657,
           -8.013449934284319
          ],
          [
           -3.4254409741819445,
           -8.044981934370128
          ],
          [
           -3.4399083683613676,
           -8.042884657784228
          ],
          [
           -3.4703831197635817,
           -8.024454090360841
          ],
          [
           -3.499121626904179,
           -8.01496171383128
          ],
          [
           -3.5307539023078736,
           -7.999318201014866
          ],
          [
           -3.5519177033629887,
           -7.989784247758387
          ]
         ],
         "hovertemplate": "%{x}<br>Baseline: %{y}<br><br>Baseline=%{customdata[0]:.3f}<br />Lat. Injected=%{customdata[1]:.3f}<extra></extra>",
         "legendgroup": "Baseline",
         "line": {
          "color": "#636EFA",
          "dash": "solid"
         },
         "name": "Baseline",
         "showlegend": true,
         "type": "scatter",
         "x": [
          "2014-03-02T00:00:00",
          "2014-03-03T00:00:00",
          "2014-03-04T00:00:00",
          "2014-03-05T00:00:00",
          "2014-03-06T00:00:00",
          "2014-03-07T00:00:00",
          "2014-03-08T00:00:00",
          "2014-03-09T00:00:00",
          "2014-03-10T00:00:00",
          "2014-03-11T00:00:00",
          "2014-03-12T00:00:00",
          "2014-03-13T00:00:00",
          "2014-03-14T00:00:00",
          "2014-03-15T00:00:00",
          "2014-03-16T00:00:00",
          "2014-03-17T00:00:00",
          "2014-03-18T00:00:00",
          "2014-03-19T00:00:00",
          "2014-03-20T00:00:00",
          "2014-03-21T00:00:00",
          "2014-03-22T00:00:00",
          "2014-03-23T00:00:00",
          "2014-03-24T00:00:00",
          "2014-03-25T00:00:00",
          "2014-03-26T00:00:00",
          "2014-03-27T00:00:00",
          "2014-03-28T00:00:00",
          "2014-03-29T00:00:00",
          "2014-03-30T00:00:00",
          "2014-03-31T00:00:00",
          "2014-04-01T00:00:00",
          "2014-04-02T00:00:00",
          "2014-04-03T00:00:00",
          "2014-04-04T00:00:00",
          "2014-04-05T00:00:00",
          "2014-04-06T00:00:00",
          "2014-04-07T00:00:00",
          "2014-04-08T00:00:00",
          "2014-04-09T00:00:00",
          "2014-04-10T00:00:00",
          "2014-04-11T00:00:00",
          "2014-04-12T00:00:00",
          "2014-04-13T00:00:00",
          "2014-04-14T00:00:00",
          "2014-04-15T00:00:00",
          "2014-04-16T00:00:00",
          "2014-04-17T00:00:00",
          "2014-04-18T00:00:00",
          "2014-04-19T00:00:00",
          "2014-04-20T00:00:00",
          "2014-04-21T00:00:00",
          "2014-04-22T00:00:00",
          "2014-04-23T00:00:00",
          "2014-04-24T00:00:00",
          "2014-04-25T00:00:00",
          "2014-04-26T00:00:00",
          "2014-04-27T00:00:00",
          "2014-04-28T00:00:00",
          "2014-04-29T00:00:00",
          "2014-04-30T00:00:00",
          "2014-05-01T00:00:00",
          "2014-05-02T00:00:00",
          "2014-05-03T00:00:00",
          "2014-05-04T00:00:00",
          "2014-05-05T00:00:00",
          "2014-05-06T00:00:00",
          "2014-05-07T00:00:00",
          "2014-05-08T00:00:00",
          "2014-05-09T00:00:00",
          "2014-05-10T00:00:00",
          "2014-05-11T00:00:00",
          "2014-05-12T00:00:00",
          "2014-05-13T00:00:00",
          "2014-05-14T00:00:00",
          "2014-05-15T00:00:00",
          "2014-05-16T00:00:00",
          "2014-05-17T00:00:00",
          "2014-05-18T00:00:00",
          "2014-05-19T00:00:00",
          "2014-05-20T00:00:00",
          "2014-05-21T00:00:00",
          "2014-05-22T00:00:00",
          "2014-05-23T00:00:00",
          "2014-05-24T00:00:00",
          "2014-05-25T00:00:00",
          "2014-05-26T00:00:00",
          "2014-05-27T00:00:00",
          "2014-05-28T00:00:00",
          "2014-05-29T00:00:00",
          "2014-05-30T00:00:00",
          "2014-05-31T00:00:00",
          "2014-06-01T00:00:00",
          "2014-06-02T00:00:00",
          "2014-06-03T00:00:00",
          "2014-06-04T00:00:00",
          "2014-06-05T00:00:00",
          "2014-06-06T00:00:00",
          "2014-06-07T00:00:00",
          "2014-06-08T00:00:00",
          "2014-06-09T00:00:00",
          "2014-06-10T00:00:00",
          "2014-06-11T00:00:00",
          "2014-06-12T00:00:00",
          "2014-06-13T00:00:00",
          "2014-06-14T00:00:00",
          "2014-06-15T00:00:00",
          "2014-06-16T00:00:00",
          "2014-06-17T00:00:00",
          "2014-06-18T00:00:00",
          "2014-06-19T00:00:00",
          "2014-06-20T00:00:00",
          "2014-06-21T00:00:00",
          "2014-06-22T00:00:00",
          "2014-06-23T00:00:00",
          "2014-06-24T00:00:00",
          "2014-06-25T00:00:00",
          "2014-06-26T00:00:00",
          "2014-06-27T00:00:00",
          "2014-06-28T00:00:00",
          "2014-06-29T00:00:00",
          "2014-06-30T00:00:00",
          "2014-07-01T00:00:00",
          "2014-07-02T00:00:00",
          "2014-07-03T00:00:00",
          "2014-07-04T00:00:00",
          "2014-07-05T00:00:00",
          "2014-07-06T00:00:00",
          "2014-07-07T00:00:00",
          "2014-07-08T00:00:00",
          "2014-07-09T00:00:00",
          "2014-07-10T00:00:00",
          "2014-07-11T00:00:00",
          "2014-07-12T00:00:00",
          "2014-07-13T00:00:00",
          "2014-07-14T00:00:00",
          "2014-07-15T00:00:00",
          "2014-07-16T00:00:00",
          "2014-07-17T00:00:00",
          "2014-07-18T00:00:00",
          "2014-07-19T00:00:00",
          "2014-07-20T00:00:00",
          "2014-07-21T00:00:00",
          "2014-07-22T00:00:00",
          "2014-07-23T00:00:00",
          "2014-07-24T00:00:00",
          "2014-07-25T00:00:00",
          "2014-07-26T00:00:00",
          "2014-07-27T00:00:00",
          "2014-07-28T00:00:00",
          "2014-07-29T00:00:00",
          "2014-07-30T00:00:00",
          "2014-07-31T00:00:00",
          "2014-08-01T00:00:00",
          "2014-08-02T00:00:00",
          "2014-08-03T00:00:00",
          "2014-08-04T00:00:00",
          "2014-08-05T00:00:00",
          "2014-08-06T00:00:00",
          "2014-08-07T00:00:00",
          "2014-08-08T00:00:00",
          "2014-08-09T00:00:00",
          "2014-08-10T00:00:00",
          "2014-08-11T00:00:00",
          "2014-08-12T00:00:00",
          "2014-08-13T00:00:00",
          "2014-08-14T00:00:00",
          "2014-08-15T00:00:00",
          "2014-08-16T00:00:00",
          "2014-08-17T00:00:00",
          "2014-08-18T00:00:00",
          "2014-08-19T00:00:00",
          "2014-08-20T00:00:00",
          "2014-08-21T00:00:00",
          "2014-08-22T00:00:00",
          "2014-08-23T00:00:00",
          "2014-08-24T00:00:00",
          "2014-08-25T00:00:00",
          "2014-08-26T00:00:00",
          "2014-08-27T00:00:00",
          "2014-08-28T00:00:00",
          "2014-08-29T00:00:00",
          "2014-08-30T00:00:00",
          "2014-08-31T00:00:00",
          "2014-09-01T00:00:00",
          "2014-09-02T00:00:00",
          "2014-09-03T00:00:00",
          "2014-09-04T00:00:00",
          "2014-09-05T00:00:00",
          "2014-09-06T00:00:00",
          "2014-09-07T00:00:00",
          "2014-09-08T00:00:00",
          "2014-09-09T00:00:00",
          "2014-09-10T00:00:00",
          "2014-09-11T00:00:00",
          "2014-09-12T00:00:00",
          "2014-09-13T00:00:00",
          "2014-09-14T00:00:00",
          "2014-09-15T00:00:00",
          "2014-09-16T00:00:00",
          "2014-09-17T00:00:00",
          "2014-09-18T00:00:00",
          "2014-09-19T00:00:00",
          "2014-09-20T00:00:00",
          "2014-09-21T00:00:00",
          "2014-09-22T00:00:00",
          "2014-09-23T00:00:00",
          "2014-09-24T00:00:00",
          "2014-09-25T00:00:00",
          "2014-09-26T00:00:00",
          "2014-09-27T00:00:00",
          "2014-09-28T00:00:00",
          "2014-09-29T00:00:00",
          "2014-09-30T00:00:00",
          "2014-10-01T00:00:00",
          "2014-10-02T00:00:00",
          "2014-10-03T00:00:00",
          "2014-10-04T00:00:00",
          "2014-10-05T00:00:00",
          "2014-10-06T00:00:00",
          "2014-10-07T00:00:00",
          "2014-10-08T00:00:00",
          "2014-10-09T00:00:00",
          "2014-10-10T00:00:00",
          "2014-10-11T00:00:00",
          "2014-10-12T00:00:00",
          "2014-10-13T00:00:00",
          "2014-10-14T00:00:00",
          "2014-10-15T00:00:00",
          "2014-10-16T00:00:00",
          "2014-10-17T00:00:00",
          "2014-10-18T00:00:00",
          "2014-10-19T00:00:00",
          "2014-10-20T00:00:00",
          "2014-10-21T00:00:00",
          "2014-10-22T00:00:00",
          "2014-10-23T00:00:00",
          "2014-10-24T00:00:00",
          "2014-10-25T00:00:00",
          "2014-10-26T00:00:00",
          "2014-10-27T00:00:00",
          "2014-10-28T00:00:00",
          "2014-10-29T00:00:00",
          "2014-10-30T00:00:00",
          "2014-10-31T00:00:00",
          "2014-11-01T00:00:00",
          "2014-11-02T00:00:00",
          "2014-11-03T00:00:00",
          "2014-11-04T00:00:00",
          "2014-11-05T00:00:00",
          "2014-11-06T00:00:00",
          "2014-11-07T00:00:00",
          "2014-11-08T00:00:00",
          "2014-11-09T00:00:00",
          "2014-11-10T00:00:00",
          "2014-11-11T00:00:00",
          "2014-11-12T00:00:00",
          "2014-11-13T00:00:00",
          "2014-11-14T00:00:00",
          "2014-11-15T00:00:00",
          "2014-11-16T00:00:00",
          "2014-11-17T00:00:00",
          "2014-11-18T00:00:00",
          "2014-11-19T00:00:00",
          "2014-11-20T00:00:00",
          "2014-11-21T00:00:00",
          "2014-11-22T00:00:00",
          "2014-11-23T00:00:00",
          "2014-11-24T00:00:00",
          "2014-11-25T00:00:00",
          "2014-11-26T00:00:00",
          "2014-11-27T00:00:00",
          "2014-11-28T00:00:00",
          "2014-11-29T00:00:00",
          "2014-11-30T00:00:00",
          "2014-12-01T00:00:00",
          "2014-12-02T00:00:00",
          "2014-12-03T00:00:00",
          "2014-12-04T00:00:00",
          "2014-12-05T00:00:00",
          "2014-12-06T00:00:00",
          "2014-12-07T00:00:00",
          "2014-12-08T00:00:00",
          "2014-12-09T00:00:00",
          "2014-12-10T00:00:00",
          "2014-12-11T00:00:00",
          "2014-12-12T00:00:00",
          "2014-12-13T00:00:00",
          "2014-12-14T00:00:00",
          "2014-12-15T00:00:00",
          "2014-12-16T00:00:00",
          "2014-12-17T00:00:00",
          "2014-12-18T00:00:00",
          "2014-12-19T00:00:00",
          "2014-12-20T00:00:00",
          "2014-12-21T00:00:00",
          "2014-12-22T00:00:00",
          "2014-12-23T00:00:00",
          "2014-12-24T00:00:00",
          "2014-12-25T00:00:00",
          "2014-12-26T00:00:00",
          "2014-12-27T00:00:00",
          "2014-12-28T00:00:00",
          "2014-12-29T00:00:00",
          "2014-12-30T00:00:00",
          "2014-12-31T00:00:00",
          "2015-01-01T00:00:00",
          "2015-01-02T00:00:00",
          "2015-01-03T00:00:00",
          "2015-01-04T00:00:00",
          "2015-01-05T00:00:00",
          "2015-01-06T00:00:00",
          "2015-01-07T00:00:00",
          "2015-01-08T00:00:00",
          "2015-01-09T00:00:00",
          "2015-01-10T00:00:00",
          "2015-01-11T00:00:00",
          "2015-01-12T00:00:00",
          "2015-01-13T00:00:00",
          "2015-01-14T00:00:00",
          "2015-01-15T00:00:00",
          "2015-01-16T00:00:00",
          "2015-01-17T00:00:00",
          "2015-01-18T00:00:00",
          "2015-01-19T00:00:00",
          "2015-01-20T00:00:00",
          "2015-01-21T00:00:00",
          "2015-01-22T00:00:00",
          "2015-01-23T00:00:00",
          "2015-01-24T00:00:00",
          "2015-01-25T00:00:00",
          "2015-01-26T00:00:00",
          "2015-01-27T00:00:00",
          "2015-01-28T00:00:00",
          "2015-01-29T00:00:00",
          "2015-01-30T00:00:00",
          "2015-01-31T00:00:00"
         ],
         "xaxis": "x",
         "y": [
          0.9174446595894368,
          0.9185713560039032,
          0.9199374479082223,
          0.9190190389982864,
          0.9184505271733863,
          0.918820948496468,
          0.9194050915135807,
          0.9201575031938825,
          0.9201579133200225,
          0.9196814127705916,
          0.9197519489965748,
          0.9195704130566157,
          0.9191272768017067,
          0.9194659157655305,
          0.9205300168938156,
          0.9220482187333796,
          0.9230598587493324,
          0.9241170432251913,
          0.9246970308659258,
          0.9252654797740398,
          0.9254131665710822,
          0.9251279179580416,
          0.923702165264171,
          0.9225695727805949,
          0.9213936808607633,
          0.9196647809032712,
          0.9189018570713918,
          0.9176427650666868,
          0.917058374478643,
          0.916781724163077,
          0.915803389058691,
          0.9154308874326225,
          0.9149559789220918,
          0.9143260411660684,
          0.9142633012318224,
          0.9141431383982921,
          0.9135224166323338,
          0.9130523215014442,
          0.9125563850296239,
          0.9131164076009667,
          0.9138951773617631,
          0.913536465651749,
          0.9142882864820145,
          0.9147342490922217,
          0.9155266236875818,
          0.9154619505351483,
          0.9141720657258225,
          0.9127122363968228,
          0.9118036730603865,
          0.9109413166923356,
          0.9102479496112897,
          0.9106034441803492,
          0.9116164422035685,
          0.9122759543704326,
          0.9130405304596971,
          0.9137994432851989,
          0.9148426717203704,
          0.9152855160495171,
          0.915821913944093,
          0.915683207574091,
          0.9160045312220275,
          0.9160618981804802,
          0.9162737612961648,
          0.916259542404341,
          0.9155546088363941,
          0.9161734299087153,
          0.9162123252739651,
          0.9174532471934117,
          0.9183106989884635,
          0.9186962953740584,
          0.9190453930489608,
          0.9195235494972999,
          0.9195032481640328,
          0.9186967730771659,
          0.9181146576224671,
          0.9179193602856366,
          0.9176515415646148,
          0.9181999084227658,
          0.9186136742778735,
          0.9185656083983038,
          0.9187919951722792,
          0.9193269180042964,
          0.9193040843453647,
          0.9189674499490542,
          0.9191675223252707,
          0.9184711355402464,
          0.9176888458909348,
          0.9174727690930552,
          0.9175774810128532,
          0.9175215061059048,
          0.9177360733836301,
          0.9184008382375894,
          0.9181995571866989,
          0.9183080018574364,
          0.9181777354230801,
          0.918210120402708,
          0.9175215065758684,
          0.9170231784692279,
          0.9157146107706184,
          0.9147670402540234,
          0.9143216007344253,
          0.9138560824926475,
          0.9133221875490091,
          0.9137781239931423,
          0.9146943779352095,
          0.9149036338367464,
          0.915532498514143,
          0.9161211936725517,
          0.9169558158664624,
          0.9173329506012929,
          0.9175821989325049,
          0.9179036996522862,
          0.9179416683218499,
          0.918341268002394,
          0.9187171828732543,
          0.91908462407171,
          0.9194555838410554,
          0.9193464957782621,
          0.9192746549020394,
          0.9187874776102257,
          0.917684274900415,
          0.9170298423658593,
          0.9165656786149443,
          0.9169135492168269,
          0.9168200332758515,
          0.9167503335358511,
          0.9175234552262338,
          0.9176085711758124,
          0.9165046762132164,
          0.915289171118193,
          0.9141333086356858,
          0.9135001795632219,
          0.9125140665351,
          0.911232382424627,
          0.9091339896854316,
          0.9079939696375046,
          0.9072645721307269,
          0.90658242727472,
          0.9058255430802868,
          0.9048673773263352,
          0.904085792172041,
          0.9039091689008122,
          0.9036739163488948,
          0.9041066768692214,
          0.9046714214272457,
          0.9051192198408238,
          0.905422400264464,
          0.905963229716119,
          0.9061037014588578,
          0.9069082545811216,
          0.9072922022224611,
          0.908213319644642,
          0.907881445951205,
          0.9070707267051212,
          0.9062887946050863,
          0.9054174640285277,
          0.9055778545450739,
          0.9051778259615146,
          0.9048173128576571,
          0.9056675251247566,
          0.9067053306347989,
          0.9070690070592082,
          0.9077273803895636,
          0.9083681631842528,
          0.9083789323146845,
          0.9094582230774073,
          0.9102663417097814,
          0.9115585996184168,
          0.9117704138425742,
          0.9128223275110529,
          0.913125952801753,
          0.9132894145713343,
          0.9123532015626593,
          0.9114962513480481,
          0.9108276819821746,
          0.9089676512739459,
          0.9069191561034031,
          0.9060550734469588,
          0.9054229224476089,
          0.9059668161489358,
          0.9060627343475145,
          0.9055308201034721,
          0.9044459439401822,
          0.9056235647726304,
          0.9070284512875824,
          0.9091009172270461,
          0.9113355153255781,
          0.913187028220884,
          0.914157435047518,
          0.9151436104181773,
          0.9167160444637515,
          0.9181076727365567,
          0.9182965531321039,
          0.9185637031620566,
          0.9183651653416055,
          0.9185703180045519,
          0.9189926559582848,
          0.9193566573541231,
          0.9201497791431316,
          0.920003456886459,
          0.9186533805429765,
          0.9185175562662089,
          0.9189087046449398,
          0.9190699477932989,
          0.9203373859504823,
          0.922307707459531,
          0.9230008719511741,
          0.9240106367948486,
          0.9248600576966988,
          0.9257375909683347,
          0.9267197639634196,
          0.9271202394509584,
          0.9267427965245275,
          0.9263116704309665,
          0.9258284818250899,
          0.9258642934796124,
          0.9248007875156845,
          0.9246952391062012,
          0.9246355487668168,
          0.9236838647732127,
          0.9231502280020182,
          0.9223441949575077,
          0.9217611790530625,
          0.9216893517189637,
          0.9218176931170371,
          0.9207194442054829,
          0.9204613110306206,
          0.9201177295121225,
          0.9198594381849525,
          0.9198618617605805,
          0.919549666780257,
          0.9197750339999785,
          0.9202439175699264,
          0.9209013839951042,
          0.9217824961222826,
          0.9221735936883174,
          0.9216527556349465,
          0.9212237148008402,
          0.9209589568723079,
          0.9202767613247025,
          0.918723560858385,
          0.9180215423969268,
          0.9179746959934412,
          0.9178343781126288,
          0.9176144265256556,
          0.9176602358053049,
          0.918223638216656,
          0.91783794788824,
          0.9171191324196566,
          0.9162211370440354,
          0.9160725040460709,
          0.9156742688213693,
          0.9150770052272166,
          0.9143259877222334,
          0.914465592889049,
          0.9146562695408891,
          0.9152527208477537,
          0.9152345761107775,
          0.9152473655681221,
          0.9149238894123222,
          0.9146037467202967,
          0.9142549820305216,
          0.9149065920745083,
          0.9146207257265044,
          0.9145371357701828,
          0.9138838621374922,
          0.9131938379805633,
          0.9132337650970356,
          0.9139268851804281,
          0.914835257209514,
          0.9145837941368791,
          0.915013473071849,
          0.9151970815982091,
          0.91527671875357,
          0.9151947694150714,
          0.9149606227157786,
          0.9147333761668629,
          0.9146799605294929,
          0.915970112910913,
          0.9171134307993571,
          0.9184424373732882,
          0.9191811523992035,
          0.9197406603763557,
          0.9204677654678305,
          0.9215210952642815,
          0.9220310913900532,
          0.9228482402301262,
          0.9229847843714983,
          0.923190185513521,
          0.9234420048912472,
          0.9238496493020946,
          0.9245981220988959,
          0.9251729155335828,
          0.924661331933766,
          0.9245899205052333,
          0.9244070279643509,
          0.9236908364440628,
          0.922867176950944,
          0.922288946307634,
          0.9211292721601874,
          0.91999805483111,
          0.920352737871631,
          0.9216392765326946,
          0.9218869284238548,
          0.9221744872191865,
          0.9225304528358399,
          0.9236664193062295,
          0.9247855809678318,
          0.925367764266511,
          0.9242032649965934,
          0.9233016167894673,
          0.9230038280863156,
          0.9227591054154594,
          0.9221854945161339,
          0.9213268455721615,
          0.9206754739071908,
          0.9195379962163925,
          0.9179055920497982,
          0.9166940554138701,
          0.9171806288751896,
          0.9174596621797929,
          0.9179902631128233,
          0.9181924002725647,
          0.9184554143974133,
          0.9193841246525783,
          0.9195598160248531,
          0.9207305302216927,
          0.921866808359723,
          0.9228742194570618,
          0.9235375162206961,
          0.9243499411430218,
          0.9248398195982295,
          0.9248957431549942,
          0.9243530435271567,
          0.9238903186683411,
          0.9237638339567322
         ],
         "yaxis": "y"
        },
        {
         "connectgaps": false,
         "customdata": [
          [
           -0.18890748365847007,
           -0.19088881373631797
          ],
          [
           -0.15604752023066037,
           -0.17256074989744394
          ],
          [
           -0.15151090114665264,
           -0.13151895520577245
          ],
          [
           -0.123399159876721,
           -0.11861950016721455
          ],
          [
           -0.11419408260998928,
           -0.1011947023772894
          ],
          [
           -0.07123445642361019,
           -0.07522865475807622
          ],
          [
           -0.04812432922624187,
           -0.054299399317403116
          ],
          [
           -0.04143471695773264,
           -0.04963147149373532
          ],
          [
           -0.04353447246138771,
           -0.04702756794740084
          ],
          [
           -0.03719584682764611,
           -0.03351142939232494
          ],
          [
           -0.007470334818118486,
           -0.015995539218107445
          ],
          [
           0.008813094305868853,
           0.003806631448933552
          ],
          [
           0.032747973789282014,
           0.03204344322917207
          ],
          [
           0.042075750921145565,
           0.04102431167476816
          ],
          [
           0.03441124793633043,
           0.028213852773394853
          ],
          [
           0.011603524107536102,
           0.013914747891564105
          ],
          [
           -0.015100973388910028,
           0.0010359271725134452
          ],
          [
           -0.022862045450951808,
           -0.007322351558800557
          ],
          [
           -0.062929072225801,
           -0.04971472579654754
          ],
          [
           -0.09052379965138671,
           -0.08929892910417513
          ],
          [
           -0.17754960398148087,
           -0.17995801072338358
          ],
          [
           -0.2673329651534557,
           -0.27809611276840096
          ],
          [
           -0.2981319284277877,
           -0.3114328042439178
          ],
          [
           -0.30785965626806716,
           -0.3186968847683889
          ],
          [
           -0.304524786525196,
           -0.3176882002421899
          ],
          [
           -0.2893416302613611,
           -0.2976498682633289
          ],
          [
           -0.2648306771841244,
           -0.2607799140843475
          ],
          [
           -0.24551561124653817,
           -0.23308550931487443
          ],
          [
           -0.24327786174819627,
           -0.23243601717699575
          ],
          [
           -0.2296229925163758,
           -0.23043445514811617
          ],
          [
           -0.21245519939617238,
           -0.20492035029020592
          ],
          [
           -0.18545372267968235,
           -0.18804961279672672
          ],
          [
           -0.16052123896621812,
           -0.1719571956980408
          ],
          [
           -0.14341103625265827,
           -0.15327951749108554
          ],
          [
           -0.1524757831945421,
           -0.1567818222912414
          ],
          [
           -0.17756681695174892,
           -0.17515222380617038
          ],
          [
           -0.21263351396249114,
           -0.2135718721270857
          ],
          [
           -0.21770781020142282,
           -0.21746075251594765
          ],
          [
           -0.20403558655322981,
           -0.22832697911685473
          ],
          [
           -0.23352697933085717,
           -0.2633020498684997
          ],
          [
           -0.275084351609129,
           -0.3014686286433474
          ],
          [
           -0.37231648816868734,
           -0.38595207349984567
          ],
          [
           -0.439771968923394,
           -0.45060364932123104
          ],
          [
           -0.4697251301964211,
           -0.45505772327444205
          ],
          [
           -0.4243958398068187,
           -0.4093046593565997
          ],
          [
           -0.3752712086691253,
           -0.3634786868598024
          ],
          [
           -0.3751248756759731,
           -0.35507873808924856
          ],
          [
           -0.3924620119270638,
           -0.39043971107887704
          ],
          [
           -0.3982604236521654,
           -0.414136504519196
          ],
          [
           -0.41208783823839723,
           -0.4250711205842168
          ],
          [
           -0.4654534083910629,
           -0.48362934055585416
          ],
          [
           -0.4773686001370562,
           -0.482300550997339
          ],
          [
           -0.47518448385863843,
           -0.46298066733144055
          ],
          [
           -0.5097548292927213,
           -0.5005022584901615
          ],
          [
           -0.5343049535224387,
           -0.5133810762850262
          ],
          [
           -0.5888393821581267,
           -0.5516559865470256
          ],
          [
           -0.6186363022073751,
           -0.6005873315300841
          ],
          [
           -0.5965671512685876,
           -0.5891282155189775
          ],
          [
           -0.5295987580718298,
           -0.5281293972003667
          ],
          [
           -0.4567679948522986,
           -0.4508300643542688
          ],
          [
           -0.38165315364389946,
           -0.394495346756317
          ],
          [
           -0.34441456676404986,
           -0.34726984714245623
          ],
          [
           -0.29983728843886454,
           -0.30951710070942023
          ],
          [
           -0.285106053988388,
           -0.2850473098727522
          ],
          [
           -0.24551429807291061,
           -0.25963828660791505
          ],
          [
           -0.1995383684075351,
           -0.1996091457175008
          ],
          [
           -0.1565458637494708,
           -0.1528938090004255
          ],
          [
           -0.10774519270609367,
           -0.09041682976991233
          ],
          [
           -0.0728687363241678,
           -0.06808805815762604
          ],
          [
           -0.058043495386204694,
           -0.04306562923353084
          ],
          [
           -0.03239405638029411,
           -0.021517892042001406
          ],
          [
           -0.011249206054083619,
           -0.005340926470836575
          ],
          [
           -0.004032418070888627,
           -0.0009705277204757184
          ],
          [
           -0.022210549752253405,
           -0.013285593691153652
          ],
          [
           -0.032734339336322256,
           -0.027678868646274887
          ],
          [
           -0.06960575872726953,
           -0.07954612212534781
          ],
          [
           -0.14033916308084407,
           -0.14503001940936733
          ],
          [
           -0.22209949763626713,
           -0.21832693291558822
          ],
          [
           -0.2720399151138692,
           -0.2779409573225249
          ],
          [
           -0.3080196833130205,
           -0.31446935180156005
          ],
          [
           -0.33888940166577075,
           -0.3439715621469133
          ],
          [
           -0.34228237100135694,
           -0.3529972786958267
          ],
          [
           -0.3524928220276854,
           -0.3528076838072003
          ],
          [
           -0.3577262775777667,
           -0.35127137936820574
          ],
          [
           -0.38540109083382806,
           -0.3766821806488085
          ],
          [
           -0.45120436030204614,
           -0.4449072663061667
          ],
          [
           -0.4748915297957219,
           -0.4644852675567485
          ],
          [
           -0.4865747042006964,
           -0.46563245264709235
          ],
          [
           -0.5146773967581102,
           -0.5038145389849484
          ],
          [
           -0.5565050031104347,
           -0.5568308429627632
          ],
          [
           -0.6278735389267476,
           -0.636281071632388
          ],
          [
           -0.6933411629206633,
           -0.6892893119819322
          ],
          [
           -0.681221955971706,
           -0.6698782325874847
          ],
          [
           -0.646837756229294,
           -0.6438748094137923
          ],
          [
           -0.6043923735756869,
           -0.6127626661717175
          ],
          [
           -0.5638942206784412,
           -0.6036995316360787
          ],
          [
           -0.5448544884272785,
           -0.6439833599221783
          ],
          [
           -0.5567171958314453,
           -0.671125999165016
          ],
          [
           -0.5785007430544798,
           -0.7183954912603373
          ],
          [
           -0.6295475671723577,
           -0.7973107360591187
          ],
          [
           -0.6486622284423252,
           -0.8458364695698285
          ],
          [
           -0.6614121004517577,
           -0.9152646939181129
          ],
          [
           -0.6892878281811752,
           -0.9969048688878536
          ],
          [
           -0.7339107814719248,
           -1.135525834299261
          ],
          [
           -0.8082305040443609,
           -1.284920085534366
          ],
          [
           -0.8448807026812086,
           -1.3896323289376795
          ],
          [
           -0.8426783582435867,
           -1.4781516677846538
          ],
          [
           -0.827440852956896,
           -1.5337358008837039
          ],
          [
           -0.7967487154851228,
           -1.5663605103887197
          ],
          [
           -0.7416588298858396,
           -1.604016193552317
          ],
          [
           -0.6833647187970925,
           -1.6771862563427966
          ],
          [
           -0.638170483342429,
           -1.7441135012205713
          ],
          [
           -0.6071921197783368,
           -1.792957636063255
          ],
          [
           -0.5644792517010209,
           -1.8585510409021193
          ],
          [
           -0.5546389738714187,
           -1.908937264868131
          ],
          [
           -0.5459471497321569,
           -1.9562921173417833
          ],
          [
           -0.5841317579941178,
           -2.027678426663119
          ],
          [
           -0.637963563938744,
           -2.1267737704467056
          ],
          [
           -0.7012368889063882,
           -2.2420912302203466
          ],
          [
           -0.8042740433479508,
           -2.3865850895046212
          ],
          [
           -0.9270761310612574,
           -2.579395166697331
          ],
          [
           -1.010402141410789,
           -2.6874443687355414
          ],
          [
           -1.0482036211146821,
           -2.7458324057472083
          ],
          [
           -1.1378338005409359,
           -2.8872636680105574
          ],
          [
           -1.23000059173428,
           -2.9807538209798037
          ],
          [
           -1.306708242798656,
           -3.0964348423644825
          ],
          [
           -1.3762579896253164,
           -3.1686032368363506
          ],
          [
           -1.4783074120768456,
           -3.242097197107852
          ],
          [
           -1.5910870484830637,
           -3.2788089714270363
          ],
          [
           -1.732368452564463,
           -3.30538080523735
          ],
          [
           -1.8539892619172313,
           -3.3418413046557163
          ],
          [
           -1.996187337926215,
           -3.342677956098029
          ],
          [
           -2.127989792221675,
           -3.3637626121647553
          ],
          [
           -2.248837067631599,
           -3.3932638372049038
          ],
          [
           -2.3560167165647905,
           -3.3987831509563557
          ],
          [
           -2.4268796796621506,
           -3.384689307033999
          ],
          [
           -2.45126392659993,
           -3.3849203943516053
          ],
          [
           -2.4793780226266815,
           -3.3926169991924837
          ],
          [
           -2.5164066733763675,
           -3.428180184458932
          ],
          [
           -2.5856558681084274,
           -3.467672004651875
          ],
          [
           -2.6722924926055556,
           -3.5395242437953756
          ],
          [
           -2.775699464473198,
           -3.5776255073582606
          ],
          [
           -2.8032894873076883,
           -3.598582770275949
          ],
          [
           -2.760389375203099,
           -3.5969543221583526
          ],
          [
           -2.721640430896285,
           -3.5700616327609516
          ],
          [
           -2.6834293593807916,
           -3.545950129950541
          ],
          [
           -2.6470729053211692,
           -3.523347094117509
          ],
          [
           -2.612188273105625,
           -3.505740549780207
          ],
          [
           -2.5537828165390883,
           -3.4647421435459584
          ],
          [
           -2.4864536709037623,
           -3.4460212709287203
          ],
          [
           -2.4565294229622636,
           -3.447421553100247
          ],
          [
           -2.4335093106127936,
           -3.450568917816533
          ],
          [
           -2.4145144885936083,
           -3.457173525558772
          ],
          [
           -2.4583446395146544,
           -3.4762956410145827
          ],
          [
           -2.4882912153252073,
           -3.477009367686885
          ],
          [
           -2.51331402565556,
           -3.4954478141763783
          ],
          [
           -2.512551854199357,
           -3.5055320916723627
          ],
          [
           -2.5244138280000668,
           -3.528727872653067
          ],
          [
           -2.506557971465122,
           -3.537272834390653
          ],
          [
           -2.4570581306864674,
           -3.555610313013796
          ],
          [
           -2.3943046684048173,
           -3.5795350049497796
          ],
          [
           -2.3339138323684567,
           -3.586529709021992
          ],
          [
           -2.316569831767702,
           -3.6559687635084117
          ],
          [
           -2.3042653856843565,
           -3.7163898448952635
          ],
          [
           -2.2882781479057397,
           -3.7540349871974588
          ],
          [
           -2.257550280607313,
           -3.8007264623615735
          ],
          [
           -2.2672643731122735,
           -3.8481304876992217
          ],
          [
           -2.298930557872156,
           -3.8788265019010177
          ],
          [
           -2.3573810209761,
           -3.9333981477060496
          ],
          [
           -2.4172427463185406,
           -3.957403014444017
          ],
          [
           -2.4375854906408483,
           -3.9672126847540294
          ],
          [
           -2.4320619439774185,
           -3.989475748415992
          ],
          [
           -2.47594214494315,
           -4.00282945160093
          ],
          [
           -2.5100924166123995,
           -4.02305835211258
          ],
          [
           -2.598418981418609,
           -4.090457170554403
          ],
          [
           -2.735356184655697,
           -4.186256513566518
          ],
          [
           -2.836317087832255,
           -4.274554947932345
          ],
          [
           -2.90294112603371,
           -4.330405960264751
          ],
          [
           -2.9702673799959887,
           -4.408168650069457
          ],
          [
           -3.029803924523222,
           -4.502900025306305
          ],
          [
           -3.1044120356009466,
           -4.572477433066651
          ],
          [
           -3.097279162239671,
           -4.594571744162196
          ],
          [
           -3.123209414129257,
           -4.623807448480146
          ],
          [
           -3.105560554539134,
           -4.6675905171455625
          ],
          [
           -3.1161069253958953,
           -4.758569064062897
          ],
          [
           -3.11421269432254,
           -4.869280520261523
          ],
          [
           -3.172886743913998,
           -5.000969987284681
          ],
          [
           -3.2430604906821925,
           -5.106893422275798
          ],
          [
           -3.3473835295817853,
           -5.267987578213918
          ],
          [
           -3.410717920766097,
           -5.369214080649613
          ],
          [
           -3.449248979093757,
           -5.482649556398986
          ],
          [
           -3.411699462192107,
           -5.567437118515261
          ],
          [
           -3.356504028242057,
           -5.664140316623022
          ],
          [
           -3.231650697485934,
           -5.741166696194552
          ],
          [
           -3.0950393204684135,
           -5.78251790154012
          ],
          [
           -3.014179573645209,
           -5.868613182301838
          ],
          [
           -2.9518471653218703,
           -5.976079157129992
          ],
          [
           -2.8457028358148895,
           -6.041986565612685
          ],
          [
           -2.6996391490227967,
           -6.0845239326501215
          ],
          [
           -2.547502757942357,
           -6.126953476766839
          ],
          [
           -2.4092733417630257,
           -6.1936333298419
          ],
          [
           -2.282336485234365,
           -6.297841973556762
          ],
          [
           -2.1831555921492214,
           -6.418324054791921
          ],
          [
           -2.09880433337246,
           -6.493260018364476
          ],
          [
           -2.040059837905914,
           -6.5781581232229325
          ],
          [
           -2.0241607477746704,
           -6.6473015824638
          ],
          [
           -2.0079471602543113,
           -6.6874444009392855
          ],
          [
           -1.9846190313882217,
           -6.760364534102387
          ],
          [
           -1.9908995830332805,
           -6.882200201351082
          ],
          [
           -1.9813844990981508,
           -6.987240045435188
          ],
          [
           -1.9717874974348162,
           -7.126029745901799
          ],
          [
           -2.0013916790283774,
           -7.285632634600821
          ],
          [
           -1.9777708217398169,
           -7.385300246778106
          ],
          [
           -1.9123257658811368,
           -7.44684069214621
          ],
          [
           -1.8327324134488832,
           -7.581090745839238
          ],
          [
           -1.7918444496583863,
           -7.686405330198413
          ],
          [
           -1.737720608364577,
           -7.744183861103316
          ],
          [
           -1.6751986443773277,
           -7.768240150595281
          ],
          [
           -1.5911348557375067,
           -7.769086682580762
          ],
          [
           -1.4881330499823637,
           -7.768112058751269
          ],
          [
           -1.3966902378308912,
           -7.768472223314152
          ],
          [
           -1.3245266719276645,
           -7.7558426083597904
          ],
          [
           -1.2810767780388073,
           -7.75889886857818
          ],
          [
           -1.2391313241865136,
           -7.752187654545117
          ],
          [
           -1.20262382587511,
           -7.78234113048565
          ],
          [
           -1.1861838378467169,
           -7.7817002047156665
          ],
          [
           -1.1560936362396281,
           -7.797472348295436
          ],
          [
           -1.1279469702723577,
           -7.819210658900083
          ],
          [
           -1.0857539749111136,
           -7.83596239506439
          ],
          [
           -1.0434627547716824,
           -7.8410511912367635
          ],
          [
           -1.013576410282247,
           -7.841061106618837
          ],
          [
           -1.0124653367765892,
           -7.832600027301094
          ],
          [
           -1.021100501863052,
           -7.7801372581948405
          ],
          [
           -1.0325423808937615,
           -7.694711780284477
          ],
          [
           -1.041949319302563,
           -7.621571257127702
          ],
          [
           -1.0356890706194846,
           -7.572451123427148
          ],
          [
           -1.0183131818770226,
           -7.539657350470893
          ],
          [
           -0.9904375311702684,
           -7.519705386663834
          ],
          [
           -0.9602071268064365,
           -7.509822241533029
          ],
          [
           -0.9232688865451816,
           -7.49225627586541
          ],
          [
           -0.8983093344355418,
           -7.473269996704073
          ],
          [
           -0.8738840339362981,
           -7.455643173785608
          ],
          [
           -0.8650902939490499,
           -7.460117049241061
          ],
          [
           -0.8796792593416868,
           -7.470084484528844
          ],
          [
           -0.8830235495251072,
           -7.467003835820344
          ],
          [
           -0.903230159469923,
           -7.438112226376894
          ],
          [
           -0.8999148149077725,
           -7.403460493296187
          ],
          [
           -0.8640487485873956,
           -7.3176577353701235
          ],
          [
           -0.8312768207106751,
           -7.2388585235640805
          ],
          [
           -0.828329507946163,
           -7.162120165242435
          ],
          [
           -0.8671370777788756,
           -7.117912247179385
          ],
          [
           -0.9108799203194474,
           -7.060267563201649
          ],
          [
           -0.9537200392222218,
           -7.018180384515473
          ],
          [
           -0.9643568529303892,
           -6.965360371376593
          ],
          [
           -0.9364980624947015,
           -6.940219346082857
          ],
          [
           -0.8948561072241086,
           -6.930403165449906
          ],
          [
           -0.8635360946737858,
           -6.929363564006672
          ],
          [
           -0.8415908518659888,
           -6.9066086503060005
          ],
          [
           -0.8137884660238655,
           -6.873103181773844
          ],
          [
           -0.7948761033417208,
           -6.834345832018463
          ],
          [
           -0.7934478132121878,
           -6.82242577755554
          ],
          [
           -0.791481339315108,
           -6.813780813707659
          ],
          [
           -0.7983177255180967,
           -6.821169712758033
          ],
          [
           -0.8247709442971153,
           -6.845287129294384
          ],
          [
           -0.832875807102059,
           -6.8779835293629805
          ],
          [
           -0.8335696074863412,
           -6.891175343962207
          ],
          [
           -0.8434636039924581,
           -6.893640879059603
          ],
          [
           -0.8624174767083372,
           -6.884765021304996
          ],
          [
           -0.8726299560542683,
           -6.8844882748130605
          ],
          [
           -0.8685707290770959,
           -6.863463908627464
          ],
          [
           -0.8883403168630232,
           -6.859551506272903
          ],
          [
           -0.9203815108247266,
           -6.85732081422596
          ],
          [
           -0.9787615457555328,
           -6.868530173355804
          ],
          [
           -1.0563357273827805,
           -6.860692787537048
          ],
          [
           -1.1370324296195147,
           -6.868653847549368
          ],
          [
           -1.195138778292071,
           -6.85437601374531
          ],
          [
           -1.202974175998419,
           -6.817873195196131
          ],
          [
           -1.169131393764858,
           -6.796220882365836
          ],
          [
           -1.132480474571298,
           -6.817106360127001
          ],
          [
           -1.1081368175114055,
           -6.86159618165906
          ],
          [
           -1.0884178614886852,
           -6.902234102450571
          ],
          [
           -1.0802138084204072,
           -6.945675903372951
          ],
          [
           -1.0754449216067312,
           -6.965825633299948
          ],
          [
           -1.0998884394026711,
           -6.9821774482453325
          ],
          [
           -1.161389274511201,
           -7.034498252226777
          ],
          [
           -1.2898770054376039,
           -7.07830507510344
          ],
          [
           -1.455018068745699,
           -7.116887155002158
          ],
          [
           -1.600919528760408,
           -7.155884935708926
          ],
          [
           -1.7808639228580376,
           -7.186958557133811
          ],
          [
           -1.9295003981166108,
           -7.215079398992873
          ],
          [
           -2.0411600505981693,
           -7.226456273220117
          ],
          [
           -2.173509465316768,
           -7.243085469807429
          ],
          [
           -2.321314361448672,
           -7.297598264522819
          ],
          [
           -2.469720816070581,
           -7.305797207683207
          ],
          [
           -2.590579724091741,
           -7.3398746167313735
          ],
          [
           -2.7162643538952476,
           -7.375016544765023
          ],
          [
           -2.793289444847559,
           -7.403579820072567
          ],
          [
           -2.863364482559653,
           -7.427149995569215
          ],
          [
           -2.993130109307048,
           -7.483060135061068
          ],
          [
           -3.161084949467523,
           -7.542373473417916
          ],
          [
           -3.2804712949915396,
           -7.590703409886697
          ],
          [
           -3.383015152394691,
           -7.625557308062155
          ],
          [
           -3.4874932755933123,
           -7.681709660607501
          ],
          [
           -3.5606259695336355,
           -7.734761336875982
          ],
          [
           -3.609798467363745,
           -7.778136884258821
          ],
          [
           -3.6583909929093137,
           -7.799612466660852
          ],
          [
           -3.6724067033971437,
           -7.871160693711115
          ],
          [
           -3.7186287175248927,
           -7.96918888049886
          ],
          [
           -3.732221297386738,
           -8.059894727227942
          ],
          [
           -3.7094183196522255,
           -8.166704260725165
          ],
          [
           -3.688382368524776,
           -8.233452525709074
          ],
          [
           -3.6611097156664387,
           -8.252991531487817
          ],
          [
           -3.6251981762800582,
           -8.241704737784692
          ],
          [
           -3.639446374623888,
           -8.25261906309434
          ],
          [
           -3.6357065211848405,
           -8.250445288333076
          ],
          [
           -3.6221856190301995,
           -8.191277203422285
          ],
          [
           -3.5520417273403213,
           -8.118869439774302
          ],
          [
           -3.4941755156828807,
           -8.050349295641764
          ],
          [
           -3.4326250316394633,
           -7.9942422402874325
          ],
          [
           -3.400061643878377,
           -7.969272504275028
          ],
          [
           -3.3723417184713873,
           -7.947258352778436
          ],
          [
           -3.3376384256770164,
           -7.945422577677185
          ],
          [
           -3.3174076185674037,
           -7.962909468641636
          ],
          [
           -3.3023959779484153,
           -7.937639632639463
          ],
          [
           -3.2779700201895583,
           -7.914360392105887
          ],
          [
           -3.2892947300992796,
           -7.8993487384417955
          ],
          [
           -3.3203847868160965,
           -7.930860752769613
          ],
          [
           -3.3523010435634393,
           -7.970415459229355
          ],
          [
           -3.3777970315073653,
           -7.997566866740921
          ],
          [
           -3.3983031193657,
           -8.013449934284319
          ],
          [
           -3.4254409741819445,
           -8.044981934370128
          ],
          [
           -3.4399083683613676,
           -8.042884657784228
          ],
          [
           -3.4703831197635817,
           -8.024454090360841
          ],
          [
           -3.499121626904179,
           -8.01496171383128
          ],
          [
           -3.5307539023078736,
           -7.999318201014866
          ],
          [
           -3.5519177033629887,
           -7.989784247758387
          ]
         ],
         "hovertemplate": "%{x}<br>Lat. Injected: %{y}<br><br>Baseline=%{customdata[0]:.3f}<br />Lat. Injected=%{customdata[1]:.3f}<extra></extra>",
         "legendgroup": "Lat. Injected",
         "line": {
          "color": "#EF553B",
          "dash": "solid"
         },
         "name": "Lat. Injected",
         "showlegend": true,
         "type": "scatter",
         "x": [
          "2014-03-02T00:00:00",
          "2014-03-03T00:00:00",
          "2014-03-04T00:00:00",
          "2014-03-05T00:00:00",
          "2014-03-06T00:00:00",
          "2014-03-07T00:00:00",
          "2014-03-08T00:00:00",
          "2014-03-09T00:00:00",
          "2014-03-10T00:00:00",
          "2014-03-11T00:00:00",
          "2014-03-12T00:00:00",
          "2014-03-13T00:00:00",
          "2014-03-14T00:00:00",
          "2014-03-15T00:00:00",
          "2014-03-16T00:00:00",
          "2014-03-17T00:00:00",
          "2014-03-18T00:00:00",
          "2014-03-19T00:00:00",
          "2014-03-20T00:00:00",
          "2014-03-21T00:00:00",
          "2014-03-22T00:00:00",
          "2014-03-23T00:00:00",
          "2014-03-24T00:00:00",
          "2014-03-25T00:00:00",
          "2014-03-26T00:00:00",
          "2014-03-27T00:00:00",
          "2014-03-28T00:00:00",
          "2014-03-29T00:00:00",
          "2014-03-30T00:00:00",
          "2014-03-31T00:00:00",
          "2014-04-01T00:00:00",
          "2014-04-02T00:00:00",
          "2014-04-03T00:00:00",
          "2014-04-04T00:00:00",
          "2014-04-05T00:00:00",
          "2014-04-06T00:00:00",
          "2014-04-07T00:00:00",
          "2014-04-08T00:00:00",
          "2014-04-09T00:00:00",
          "2014-04-10T00:00:00",
          "2014-04-11T00:00:00",
          "2014-04-12T00:00:00",
          "2014-04-13T00:00:00",
          "2014-04-14T00:00:00",
          "2014-04-15T00:00:00",
          "2014-04-16T00:00:00",
          "2014-04-17T00:00:00",
          "2014-04-18T00:00:00",
          "2014-04-19T00:00:00",
          "2014-04-20T00:00:00",
          "2014-04-21T00:00:00",
          "2014-04-22T00:00:00",
          "2014-04-23T00:00:00",
          "2014-04-24T00:00:00",
          "2014-04-25T00:00:00",
          "2014-04-26T00:00:00",
          "2014-04-27T00:00:00",
          "2014-04-28T00:00:00",
          "2014-04-29T00:00:00",
          "2014-04-30T00:00:00",
          "2014-05-01T00:00:00",
          "2014-05-02T00:00:00",
          "2014-05-03T00:00:00",
          "2014-05-04T00:00:00",
          "2014-05-05T00:00:00",
          "2014-05-06T00:00:00",
          "2014-05-07T00:00:00",
          "2014-05-08T00:00:00",
          "2014-05-09T00:00:00",
          "2014-05-10T00:00:00",
          "2014-05-11T00:00:00",
          "2014-05-12T00:00:00",
          "2014-05-13T00:00:00",
          "2014-05-14T00:00:00",
          "2014-05-15T00:00:00",
          "2014-05-16T00:00:00",
          "2014-05-17T00:00:00",
          "2014-05-18T00:00:00",
          "2014-05-19T00:00:00",
          "2014-05-20T00:00:00",
          "2014-05-21T00:00:00",
          "2014-05-22T00:00:00",
          "2014-05-23T00:00:00",
          "2014-05-24T00:00:00",
          "2014-05-25T00:00:00",
          "2014-05-26T00:00:00",
          "2014-05-27T00:00:00",
          "2014-05-28T00:00:00",
          "2014-05-29T00:00:00",
          "2014-05-30T00:00:00",
          "2014-05-31T00:00:00",
          "2014-06-01T00:00:00",
          "2014-06-02T00:00:00",
          "2014-06-03T00:00:00",
          "2014-06-04T00:00:00",
          "2014-06-05T00:00:00",
          "2014-06-06T00:00:00",
          "2014-06-07T00:00:00",
          "2014-06-08T00:00:00",
          "2014-06-09T00:00:00",
          "2014-06-10T00:00:00",
          "2014-06-11T00:00:00",
          "2014-06-12T00:00:00",
          "2014-06-13T00:00:00",
          "2014-06-14T00:00:00",
          "2014-06-15T00:00:00",
          "2014-06-16T00:00:00",
          "2014-06-17T00:00:00",
          "2014-06-18T00:00:00",
          "2014-06-19T00:00:00",
          "2014-06-20T00:00:00",
          "2014-06-21T00:00:00",
          "2014-06-22T00:00:00",
          "2014-06-23T00:00:00",
          "2014-06-24T00:00:00",
          "2014-06-25T00:00:00",
          "2014-06-26T00:00:00",
          "2014-06-27T00:00:00",
          "2014-06-28T00:00:00",
          "2014-06-29T00:00:00",
          "2014-06-30T00:00:00",
          "2014-07-01T00:00:00",
          "2014-07-02T00:00:00",
          "2014-07-03T00:00:00",
          "2014-07-04T00:00:00",
          "2014-07-05T00:00:00",
          "2014-07-06T00:00:00",
          "2014-07-07T00:00:00",
          "2014-07-08T00:00:00",
          "2014-07-09T00:00:00",
          "2014-07-10T00:00:00",
          "2014-07-11T00:00:00",
          "2014-07-12T00:00:00",
          "2014-07-13T00:00:00",
          "2014-07-14T00:00:00",
          "2014-07-15T00:00:00",
          "2014-07-16T00:00:00",
          "2014-07-17T00:00:00",
          "2014-07-18T00:00:00",
          "2014-07-19T00:00:00",
          "2014-07-20T00:00:00",
          "2014-07-21T00:00:00",
          "2014-07-22T00:00:00",
          "2014-07-23T00:00:00",
          "2014-07-24T00:00:00",
          "2014-07-25T00:00:00",
          "2014-07-26T00:00:00",
          "2014-07-27T00:00:00",
          "2014-07-28T00:00:00",
          "2014-07-29T00:00:00",
          "2014-07-30T00:00:00",
          "2014-07-31T00:00:00",
          "2014-08-01T00:00:00",
          "2014-08-02T00:00:00",
          "2014-08-03T00:00:00",
          "2014-08-04T00:00:00",
          "2014-08-05T00:00:00",
          "2014-08-06T00:00:00",
          "2014-08-07T00:00:00",
          "2014-08-08T00:00:00",
          "2014-08-09T00:00:00",
          "2014-08-10T00:00:00",
          "2014-08-11T00:00:00",
          "2014-08-12T00:00:00",
          "2014-08-13T00:00:00",
          "2014-08-14T00:00:00",
          "2014-08-15T00:00:00",
          "2014-08-16T00:00:00",
          "2014-08-17T00:00:00",
          "2014-08-18T00:00:00",
          "2014-08-19T00:00:00",
          "2014-08-20T00:00:00",
          "2014-08-21T00:00:00",
          "2014-08-22T00:00:00",
          "2014-08-23T00:00:00",
          "2014-08-24T00:00:00",
          "2014-08-25T00:00:00",
          "2014-08-26T00:00:00",
          "2014-08-27T00:00:00",
          "2014-08-28T00:00:00",
          "2014-08-29T00:00:00",
          "2014-08-30T00:00:00",
          "2014-08-31T00:00:00",
          "2014-09-01T00:00:00",
          "2014-09-02T00:00:00",
          "2014-09-03T00:00:00",
          "2014-09-04T00:00:00",
          "2014-09-05T00:00:00",
          "2014-09-06T00:00:00",
          "2014-09-07T00:00:00",
          "2014-09-08T00:00:00",
          "2014-09-09T00:00:00",
          "2014-09-10T00:00:00",
          "2014-09-11T00:00:00",
          "2014-09-12T00:00:00",
          "2014-09-13T00:00:00",
          "2014-09-14T00:00:00",
          "2014-09-15T00:00:00",
          "2014-09-16T00:00:00",
          "2014-09-17T00:00:00",
          "2014-09-18T00:00:00",
          "2014-09-19T00:00:00",
          "2014-09-20T00:00:00",
          "2014-09-21T00:00:00",
          "2014-09-22T00:00:00",
          "2014-09-23T00:00:00",
          "2014-09-24T00:00:00",
          "2014-09-25T00:00:00",
          "2014-09-26T00:00:00",
          "2014-09-27T00:00:00",
          "2014-09-28T00:00:00",
          "2014-09-29T00:00:00",
          "2014-09-30T00:00:00",
          "2014-10-01T00:00:00",
          "2014-10-02T00:00:00",
          "2014-10-03T00:00:00",
          "2014-10-04T00:00:00",
          "2014-10-05T00:00:00",
          "2014-10-06T00:00:00",
          "2014-10-07T00:00:00",
          "2014-10-08T00:00:00",
          "2014-10-09T00:00:00",
          "2014-10-10T00:00:00",
          "2014-10-11T00:00:00",
          "2014-10-12T00:00:00",
          "2014-10-13T00:00:00",
          "2014-10-14T00:00:00",
          "2014-10-15T00:00:00",
          "2014-10-16T00:00:00",
          "2014-10-17T00:00:00",
          "2014-10-18T00:00:00",
          "2014-10-19T00:00:00",
          "2014-10-20T00:00:00",
          "2014-10-21T00:00:00",
          "2014-10-22T00:00:00",
          "2014-10-23T00:00:00",
          "2014-10-24T00:00:00",
          "2014-10-25T00:00:00",
          "2014-10-26T00:00:00",
          "2014-10-27T00:00:00",
          "2014-10-28T00:00:00",
          "2014-10-29T00:00:00",
          "2014-10-30T00:00:00",
          "2014-10-31T00:00:00",
          "2014-11-01T00:00:00",
          "2014-11-02T00:00:00",
          "2014-11-03T00:00:00",
          "2014-11-04T00:00:00",
          "2014-11-05T00:00:00",
          "2014-11-06T00:00:00",
          "2014-11-07T00:00:00",
          "2014-11-08T00:00:00",
          "2014-11-09T00:00:00",
          "2014-11-10T00:00:00",
          "2014-11-11T00:00:00",
          "2014-11-12T00:00:00",
          "2014-11-13T00:00:00",
          "2014-11-14T00:00:00",
          "2014-11-15T00:00:00",
          "2014-11-16T00:00:00",
          "2014-11-17T00:00:00",
          "2014-11-18T00:00:00",
          "2014-11-19T00:00:00",
          "2014-11-20T00:00:00",
          "2014-11-21T00:00:00",
          "2014-11-22T00:00:00",
          "2014-11-23T00:00:00",
          "2014-11-24T00:00:00",
          "2014-11-25T00:00:00",
          "2014-11-26T00:00:00",
          "2014-11-27T00:00:00",
          "2014-11-28T00:00:00",
          "2014-11-29T00:00:00",
          "2014-11-30T00:00:00",
          "2014-12-01T00:00:00",
          "2014-12-02T00:00:00",
          "2014-12-03T00:00:00",
          "2014-12-04T00:00:00",
          "2014-12-05T00:00:00",
          "2014-12-06T00:00:00",
          "2014-12-07T00:00:00",
          "2014-12-08T00:00:00",
          "2014-12-09T00:00:00",
          "2014-12-10T00:00:00",
          "2014-12-11T00:00:00",
          "2014-12-12T00:00:00",
          "2014-12-13T00:00:00",
          "2014-12-14T00:00:00",
          "2014-12-15T00:00:00",
          "2014-12-16T00:00:00",
          "2014-12-17T00:00:00",
          "2014-12-18T00:00:00",
          "2014-12-19T00:00:00",
          "2014-12-20T00:00:00",
          "2014-12-21T00:00:00",
          "2014-12-22T00:00:00",
          "2014-12-23T00:00:00",
          "2014-12-24T00:00:00",
          "2014-12-25T00:00:00",
          "2014-12-26T00:00:00",
          "2014-12-27T00:00:00",
          "2014-12-28T00:00:00",
          "2014-12-29T00:00:00",
          "2014-12-30T00:00:00",
          "2014-12-31T00:00:00",
          "2015-01-01T00:00:00",
          "2015-01-02T00:00:00",
          "2015-01-03T00:00:00",
          "2015-01-04T00:00:00",
          "2015-01-05T00:00:00",
          "2015-01-06T00:00:00",
          "2015-01-07T00:00:00",
          "2015-01-08T00:00:00",
          "2015-01-09T00:00:00",
          "2015-01-10T00:00:00",
          "2015-01-11T00:00:00",
          "2015-01-12T00:00:00",
          "2015-01-13T00:00:00",
          "2015-01-14T00:00:00",
          "2015-01-15T00:00:00",
          "2015-01-16T00:00:00",
          "2015-01-17T00:00:00",
          "2015-01-18T00:00:00",
          "2015-01-19T00:00:00",
          "2015-01-20T00:00:00",
          "2015-01-21T00:00:00",
          "2015-01-22T00:00:00",
          "2015-01-23T00:00:00",
          "2015-01-24T00:00:00",
          "2015-01-25T00:00:00",
          "2015-01-26T00:00:00",
          "2015-01-27T00:00:00",
          "2015-01-28T00:00:00",
          "2015-01-29T00:00:00",
          "2015-01-30T00:00:00",
          "2015-01-31T00:00:00"
         ],
         "xaxis": "x",
         "y": [
          0.9171503450743516,
          0.9185562852381602,
          0.9191156783617029,
          0.9189750706041185,
          0.9190317927223882,
          0.9197420204375143,
          0.9200881930482606,
          0.9206720232819972,
          0.920283154522676,
          0.9204074598896165,
          0.9205603535946513,
          0.9196591735239155,
          0.9192744937793577,
          0.9190224837481064,
          0.9200348446406185,
          0.9218404380775206,
          0.92269506700139,
          0.9237768996541978,
          0.9249871342311595,
          0.9249815140960221,
          0.9252937071409731,
          0.9248178817105046,
          0.9237290119764574,
          0.9223976169151267,
          0.9214184692296812,
          0.9199312896219207,
          0.9191754340164583,
          0.9184790090042533,
          0.9176728303424034,
          0.9172217974900144,
          0.9161706362406875,
          0.9159182534115905,
          0.9152353990135665,
          0.9148356247140026,
          0.9148899481081076,
          0.9142310825117723,
          0.9134993856803187,
          0.9128511377687113,
          0.9124075238099498,
          0.9128269737997768,
          0.9134991648465896,
          0.9133232510809135,
          0.9139485075093795,
          0.9144718482782662,
          0.9158271247653621,
          0.9159168366424408,
          0.9148899448678963,
          0.913273150758562,
          0.9116410214461367,
          0.9107014355899051,
          0.9100215679308461,
          0.9106507666334283,
          0.9113199482128427,
          0.911910553637048,
          0.9126733702985131,
          0.9133658155788443,
          0.9148101264430186,
          0.9150665426933203,
          0.9156558334078182,
          0.9159301241883846,
          0.9157383028744309,
          0.9158976473406215,
          0.9157366713541185,
          0.9158489550424975,
          0.915551525345743,
          0.9160742802442131,
          0.9161288167987699,
          0.9172927993842334,
          0.9180182497475191,
          0.9187615765642991,
          0.9190670869381163,
          0.9191606564686782,
          0.9191322885405823,
          0.9189404893929495,
          0.9186648438146886,
          0.9179761421493724,
          0.9181249035530918,
          0.9186790731023575,
          0.9193617888311686,
          0.9192111336221845,
          0.9197338355264846,
          0.919646632366604,
          0.9192879904150526,
          0.9190328274493764,
          0.9188472992241309,
          0.9182675485467652,
          0.9175745905223759,
          0.9172511743745436,
          0.9169420986728314,
          0.9172908292186513,
          0.9177280596353304,
          0.9183019964171517,
          0.9176604118752603,
          0.9167178244280831,
          0.9152114733563073,
          0.9130892050114019,
          0.9103621491136513,
          0.9087510554842498,
          0.9062892019270564,
          0.9039853018711923,
          0.9026158119629968,
          0.9012814175082027,
          0.8997490291663929,
          0.8985846656625658,
          0.8978965075442334,
          0.8969693718812477,
          0.8956510928411229,
          0.894890805219934,
          0.8942875619874741,
          0.893349519396751,
          0.8921692441173261,
          0.891320821034577,
          0.8902258985477872,
          0.8889502784409024,
          0.8881737161332601,
          0.8880825523865432,
          0.887605090277831,
          0.8859436328817316,
          0.8831423488941154,
          0.8814123275915927,
          0.8780178510721763,
          0.8759446090582057,
          0.874337716136582,
          0.872687539558051,
          0.8719545847095842,
          0.8713308772737377,
          0.8719219193765719,
          0.8720363842236131,
          0.8713495858571408,
          0.8711803912866808,
          0.8705374274028033,
          0.8703076876433204,
          0.8697110833242633,
          0.8686307947450516,
          0.8672466807405492,
          0.8670361833460043,
          0.866230572174273,
          0.8660325229990509,
          0.865206181173767,
          0.8641129633362542,
          0.8637965676113459,
          0.8637314923675936,
          0.8643204253210302,
          0.8648023304103108,
          0.8658579206280722,
          0.8664592182119248,
          0.866921533501543,
          0.8672063520344732,
          0.8679035611160384,
          0.8685778612675973,
          0.8685297044867096,
          0.869236701961678,
          0.8688316691877198,
          0.8679259463237042,
          0.8676091483572238,
          0.8667752488604539,
          0.8662551811511365,
          0.8655873976434536,
          0.8658179856811585,
          0.8661605847346611,
          0.866330235255752,
          0.866689158125186,
          0.8669851207152417,
          0.8665548831869639,
          0.8661029889244571,
          0.8664348910606536,
          0.8668195821483013,
          0.8672435111871664,
          0.8672473399157827,
          0.8680070072629689,
          0.8687930376871268,
          0.8686775052570979,
          0.8678478749402234,
          0.8660001730502859,
          0.8638133970726983,
          0.8619026851051157,
          0.8593157870892941,
          0.8585958803074096,
          0.8575672370404862,
          0.8580660127939045,
          0.8585376987451239,
          0.8586777876906926,
          0.8582891846268039,
          0.8595792476657466,
          0.8611296704574696,
          0.8621682357212022,
          0.863066712145141,
          0.8638708413522105,
          0.8641470971334201,
          0.8639576486099898,
          0.8638052810670606,
          0.8633347162374896,
          0.8622198779709025,
          0.8602826866345343,
          0.8575880911738163,
          0.8558291128821293,
          0.8546647362783637,
          0.852977488318809,
          0.8507899880208317,
          0.8478240226265144,
          0.8446519944256206,
          0.8422114241399599,
          0.8405743131487173,
          0.8378273046530292,
          0.8363027333479164,
          0.8352863760044624,
          0.8331687963205474,
          0.8311372152801361,
          0.8272314364503095,
          0.8235992236441962,
          0.8183059479797756,
          0.8098418799521858,
          0.8026364864561966,
          0.7973138547979528,
          0.7916288800994065,
          0.7870483065115658,
          0.7824204500677947,
          0.7786397186151922,
          0.777151087284467,
          0.7752513995575308,
          0.7735281967576912,
          0.7721605593884269,
          0.7709594756310179,
          0.7703069545613563,
          0.7700817746302969,
          0.7686186509412569,
          0.76990384521655,
          0.7693367465894021,
          0.7680346189073072,
          0.766108842976496,
          0.7658350287626161,
          0.7651018657807673,
          0.7648002002319239,
          0.7633841765442912,
          0.7628660775567437,
          0.7622326684105136,
          0.7611384846847742,
          0.7602691143505987,
          0.7574327850565877,
          0.7558994950667772,
          0.7535148830861356,
          0.7520620065671426,
          0.750266740116126,
          0.7501748887182897,
          0.750172833585961,
          0.7486249195830652,
          0.7477865837029689,
          0.7483009360042269,
          0.7489180418672005,
          0.7490249035990869,
          0.7498513693497312,
          0.7497760726099632,
          0.7492451088088811,
          0.7485372396930859,
          0.7477715358154179,
          0.7475418499872851,
          0.7481753934061172,
          0.7471822636463162,
          0.7470503933598217,
          0.7469723493055441,
          0.7466718830272895,
          0.7478192279161756,
          0.7493539781692437,
          0.7506543482566181,
          0.7522551058075426,
          0.7530745300517312,
          0.7537077407019033,
          0.75431645367751,
          0.753492399201477,
          0.7539860215026614,
          0.7539075654315766,
          0.7556267633617169,
          0.7562203996460725,
          0.7569793044156559,
          0.7571274373350205,
          0.7578244826824689,
          0.7567668609324172,
          0.7559452746711225,
          0.7554703894110542,
          0.7543686498840863,
          0.7534503715024137,
          0.7520757023385549,
          0.7505437755172455,
          0.7492199138110912,
          0.7489204019031863,
          0.7486181309306824,
          0.7473668239419208,
          0.7469061936849065,
          0.7465468374937129,
          0.7459981707963528,
          0.7458516406410441,
          0.7470577160557165,
          0.7473340184076868,
          0.7462632936652915,
          0.7455430410771259,
          0.7443041750544536,
          0.744439639692403,
          0.7439146205811946,
          0.7442653170177715,
          0.7451829308534424,
          0.7444195777497836,
          0.744843394964198,
          0.7461248955579105,
          0.7470222137486046,
          0.7479636006746044,
          0.7493688959496507,
          0.7493988230768587,
          0.7523523959932005,
          0.7536511860086988,
          0.7561865934829348,
          0.7580743350550267,
          0.7603649884345274,
          0.764027532625318,
          0.7667906002876426,
          0.7684525257610569,
          0.7701905029375505,
          0.7702572878683648,
          0.76941072251957,
          0.7693817050913713,
          0.7705805735685742,
          0.771262857801533,
          0.7715807346662172,
          0.7712081361042753,
          0.7701751830911104,
          0.7691014602842678,
          0.7685788533113272,
          0.7689426893025187,
          0.7683044383131745,
          0.7675597369199332,
          0.7673190372367085,
          0.7684018434343987,
          0.7689053747294327,
          0.7701053460977249,
          0.7706760649524504,
          0.7713633153912172,
          0.7725404280195453
         ],
         "yaxis": "y"
        },
        {
         "connectgaps": false,
         "customdata": [
          [
           -0.18890748365847007,
           -0.19088881373631797
          ],
          [
           -0.15604752023066037,
           -0.17256074989744394
          ],
          [
           -0.15151090114665264,
           -0.13151895520577245
          ],
          [
           -0.123399159876721,
           -0.11861950016721455
          ],
          [
           -0.11419408260998928,
           -0.1011947023772894
          ],
          [
           -0.07123445642361019,
           -0.07522865475807622
          ],
          [
           -0.04812432922624187,
           -0.054299399317403116
          ],
          [
           -0.04143471695773264,
           -0.04963147149373532
          ],
          [
           -0.04353447246138771,
           -0.04702756794740084
          ],
          [
           -0.03719584682764611,
           -0.03351142939232494
          ],
          [
           -0.007470334818118486,
           -0.015995539218107445
          ],
          [
           0.008813094305868853,
           0.003806631448933552
          ],
          [
           0.032747973789282014,
           0.03204344322917207
          ],
          [
           0.042075750921145565,
           0.04102431167476816
          ],
          [
           0.03441124793633043,
           0.028213852773394853
          ],
          [
           0.011603524107536102,
           0.013914747891564105
          ],
          [
           -0.015100973388910028,
           0.0010359271725134452
          ],
          [
           -0.022862045450951808,
           -0.007322351558800557
          ],
          [
           -0.062929072225801,
           -0.04971472579654754
          ],
          [
           -0.09052379965138671,
           -0.08929892910417513
          ],
          [
           -0.17754960398148087,
           -0.17995801072338358
          ],
          [
           -0.2673329651534557,
           -0.27809611276840096
          ],
          [
           -0.2981319284277877,
           -0.3114328042439178
          ],
          [
           -0.30785965626806716,
           -0.3186968847683889
          ],
          [
           -0.304524786525196,
           -0.3176882002421899
          ],
          [
           -0.2893416302613611,
           -0.2976498682633289
          ],
          [
           -0.2648306771841244,
           -0.2607799140843475
          ],
          [
           -0.24551561124653817,
           -0.23308550931487443
          ],
          [
           -0.24327786174819627,
           -0.23243601717699575
          ],
          [
           -0.2296229925163758,
           -0.23043445514811617
          ],
          [
           -0.21245519939617238,
           -0.20492035029020592
          ],
          [
           -0.18545372267968235,
           -0.18804961279672672
          ],
          [
           -0.16052123896621812,
           -0.1719571956980408
          ],
          [
           -0.14341103625265827,
           -0.15327951749108554
          ],
          [
           -0.1524757831945421,
           -0.1567818222912414
          ],
          [
           -0.17756681695174892,
           -0.17515222380617038
          ],
          [
           -0.21263351396249114,
           -0.2135718721270857
          ],
          [
           -0.21770781020142282,
           -0.21746075251594765
          ],
          [
           -0.20403558655322981,
           -0.22832697911685473
          ],
          [
           -0.23352697933085717,
           -0.2633020498684997
          ],
          [
           -0.275084351609129,
           -0.3014686286433474
          ],
          [
           -0.37231648816868734,
           -0.38595207349984567
          ],
          [
           -0.439771968923394,
           -0.45060364932123104
          ],
          [
           -0.4697251301964211,
           -0.45505772327444205
          ],
          [
           -0.4243958398068187,
           -0.4093046593565997
          ],
          [
           -0.3752712086691253,
           -0.3634786868598024
          ],
          [
           -0.3751248756759731,
           -0.35507873808924856
          ],
          [
           -0.3924620119270638,
           -0.39043971107887704
          ],
          [
           -0.3982604236521654,
           -0.414136504519196
          ],
          [
           -0.41208783823839723,
           -0.4250711205842168
          ],
          [
           -0.4654534083910629,
           -0.48362934055585416
          ],
          [
           -0.4773686001370562,
           -0.482300550997339
          ],
          [
           -0.47518448385863843,
           -0.46298066733144055
          ],
          [
           -0.5097548292927213,
           -0.5005022584901615
          ],
          [
           -0.5343049535224387,
           -0.5133810762850262
          ],
          [
           -0.5888393821581267,
           -0.5516559865470256
          ],
          [
           -0.6186363022073751,
           -0.6005873315300841
          ],
          [
           -0.5965671512685876,
           -0.5891282155189775
          ],
          [
           -0.5295987580718298,
           -0.5281293972003667
          ],
          [
           -0.4567679948522986,
           -0.4508300643542688
          ],
          [
           -0.38165315364389946,
           -0.394495346756317
          ],
          [
           -0.34441456676404986,
           -0.34726984714245623
          ],
          [
           -0.29983728843886454,
           -0.30951710070942023
          ],
          [
           -0.285106053988388,
           -0.2850473098727522
          ],
          [
           -0.24551429807291061,
           -0.25963828660791505
          ],
          [
           -0.1995383684075351,
           -0.1996091457175008
          ],
          [
           -0.1565458637494708,
           -0.1528938090004255
          ],
          [
           -0.10774519270609367,
           -0.09041682976991233
          ],
          [
           -0.0728687363241678,
           -0.06808805815762604
          ],
          [
           -0.058043495386204694,
           -0.04306562923353084
          ],
          [
           -0.03239405638029411,
           -0.021517892042001406
          ],
          [
           -0.011249206054083619,
           -0.005340926470836575
          ],
          [
           -0.004032418070888627,
           -0.0009705277204757184
          ],
          [
           -0.022210549752253405,
           -0.013285593691153652
          ],
          [
           -0.032734339336322256,
           -0.027678868646274887
          ],
          [
           -0.06960575872726953,
           -0.07954612212534781
          ],
          [
           -0.14033916308084407,
           -0.14503001940936733
          ],
          [
           -0.22209949763626713,
           -0.21832693291558822
          ],
          [
           -0.2720399151138692,
           -0.2779409573225249
          ],
          [
           -0.3080196833130205,
           -0.31446935180156005
          ],
          [
           -0.33888940166577075,
           -0.3439715621469133
          ],
          [
           -0.34228237100135694,
           -0.3529972786958267
          ],
          [
           -0.3524928220276854,
           -0.3528076838072003
          ],
          [
           -0.3577262775777667,
           -0.35127137936820574
          ],
          [
           -0.38540109083382806,
           -0.3766821806488085
          ],
          [
           -0.45120436030204614,
           -0.4449072663061667
          ],
          [
           -0.4748915297957219,
           -0.4644852675567485
          ],
          [
           -0.4865747042006964,
           -0.46563245264709235
          ],
          [
           -0.5146773967581102,
           -0.5038145389849484
          ],
          [
           -0.5565050031104347,
           -0.5568308429627632
          ],
          [
           -0.6278735389267476,
           -0.636281071632388
          ],
          [
           -0.6933411629206633,
           -0.6892893119819322
          ],
          [
           -0.681221955971706,
           -0.6698782325874847
          ],
          [
           -0.646837756229294,
           -0.6438748094137923
          ],
          [
           -0.6043923735756869,
           -0.6127626661717175
          ],
          [
           -0.5638942206784412,
           -0.6036995316360787
          ],
          [
           -0.5448544884272785,
           -0.6439833599221783
          ],
          [
           -0.5567171958314453,
           -0.671125999165016
          ],
          [
           -0.5785007430544798,
           -0.7183954912603373
          ],
          [
           -0.6295475671723577,
           -0.7973107360591187
          ],
          [
           -0.6486622284423252,
           -0.8458364695698285
          ],
          [
           -0.6614121004517577,
           -0.9152646939181129
          ],
          [
           -0.6892878281811752,
           -0.9969048688878536
          ],
          [
           -0.7339107814719248,
           -1.135525834299261
          ],
          [
           -0.8082305040443609,
           -1.284920085534366
          ],
          [
           -0.8448807026812086,
           -1.3896323289376795
          ],
          [
           -0.8426783582435867,
           -1.4781516677846538
          ],
          [
           -0.827440852956896,
           -1.5337358008837039
          ],
          [
           -0.7967487154851228,
           -1.5663605103887197
          ],
          [
           -0.7416588298858396,
           -1.604016193552317
          ],
          [
           -0.6833647187970925,
           -1.6771862563427966
          ],
          [
           -0.638170483342429,
           -1.7441135012205713
          ],
          [
           -0.6071921197783368,
           -1.792957636063255
          ],
          [
           -0.5644792517010209,
           -1.8585510409021193
          ],
          [
           -0.5546389738714187,
           -1.908937264868131
          ],
          [
           -0.5459471497321569,
           -1.9562921173417833
          ],
          [
           -0.5841317579941178,
           -2.027678426663119
          ],
          [
           -0.637963563938744,
           -2.1267737704467056
          ],
          [
           -0.7012368889063882,
           -2.2420912302203466
          ],
          [
           -0.8042740433479508,
           -2.3865850895046212
          ],
          [
           -0.9270761310612574,
           -2.579395166697331
          ],
          [
           -1.010402141410789,
           -2.6874443687355414
          ],
          [
           -1.0482036211146821,
           -2.7458324057472083
          ],
          [
           -1.1378338005409359,
           -2.8872636680105574
          ],
          [
           -1.23000059173428,
           -2.9807538209798037
          ],
          [
           -1.306708242798656,
           -3.0964348423644825
          ],
          [
           -1.3762579896253164,
           -3.1686032368363506
          ],
          [
           -1.4783074120768456,
           -3.242097197107852
          ],
          [
           -1.5910870484830637,
           -3.2788089714270363
          ],
          [
           -1.732368452564463,
           -3.30538080523735
          ],
          [
           -1.8539892619172313,
           -3.3418413046557163
          ],
          [
           -1.996187337926215,
           -3.342677956098029
          ],
          [
           -2.127989792221675,
           -3.3637626121647553
          ],
          [
           -2.248837067631599,
           -3.3932638372049038
          ],
          [
           -2.3560167165647905,
           -3.3987831509563557
          ],
          [
           -2.4268796796621506,
           -3.384689307033999
          ],
          [
           -2.45126392659993,
           -3.3849203943516053
          ],
          [
           -2.4793780226266815,
           -3.3926169991924837
          ],
          [
           -2.5164066733763675,
           -3.428180184458932
          ],
          [
           -2.5856558681084274,
           -3.467672004651875
          ],
          [
           -2.6722924926055556,
           -3.5395242437953756
          ],
          [
           -2.775699464473198,
           -3.5776255073582606
          ],
          [
           -2.8032894873076883,
           -3.598582770275949
          ],
          [
           -2.760389375203099,
           -3.5969543221583526
          ],
          [
           -2.721640430896285,
           -3.5700616327609516
          ],
          [
           -2.6834293593807916,
           -3.545950129950541
          ],
          [
           -2.6470729053211692,
           -3.523347094117509
          ],
          [
           -2.612188273105625,
           -3.505740549780207
          ],
          [
           -2.5537828165390883,
           -3.4647421435459584
          ],
          [
           -2.4864536709037623,
           -3.4460212709287203
          ],
          [
           -2.4565294229622636,
           -3.447421553100247
          ],
          [
           -2.4335093106127936,
           -3.450568917816533
          ],
          [
           -2.4145144885936083,
           -3.457173525558772
          ],
          [
           -2.4583446395146544,
           -3.4762956410145827
          ],
          [
           -2.4882912153252073,
           -3.477009367686885
          ],
          [
           -2.51331402565556,
           -3.4954478141763783
          ],
          [
           -2.512551854199357,
           -3.5055320916723627
          ],
          [
           -2.5244138280000668,
           -3.528727872653067
          ],
          [
           -2.506557971465122,
           -3.537272834390653
          ],
          [
           -2.4570581306864674,
           -3.555610313013796
          ],
          [
           -2.3943046684048173,
           -3.5795350049497796
          ],
          [
           -2.3339138323684567,
           -3.586529709021992
          ],
          [
           -2.316569831767702,
           -3.6559687635084117
          ],
          [
           -2.3042653856843565,
           -3.7163898448952635
          ],
          [
           -2.2882781479057397,
           -3.7540349871974588
          ],
          [
           -2.257550280607313,
           -3.8007264623615735
          ],
          [
           -2.2672643731122735,
           -3.8481304876992217
          ],
          [
           -2.298930557872156,
           -3.8788265019010177
          ],
          [
           -2.3573810209761,
           -3.9333981477060496
          ],
          [
           -2.4172427463185406,
           -3.957403014444017
          ],
          [
           -2.4375854906408483,
           -3.9672126847540294
          ],
          [
           -2.4320619439774185,
           -3.989475748415992
          ],
          [
           -2.47594214494315,
           -4.00282945160093
          ],
          [
           -2.5100924166123995,
           -4.02305835211258
          ],
          [
           -2.598418981418609,
           -4.090457170554403
          ],
          [
           -2.735356184655697,
           -4.186256513566518
          ],
          [
           -2.836317087832255,
           -4.274554947932345
          ],
          [
           -2.90294112603371,
           -4.330405960264751
          ],
          [
           -2.9702673799959887,
           -4.408168650069457
          ],
          [
           -3.029803924523222,
           -4.502900025306305
          ],
          [
           -3.1044120356009466,
           -4.572477433066651
          ],
          [
           -3.097279162239671,
           -4.594571744162196
          ],
          [
           -3.123209414129257,
           -4.623807448480146
          ],
          [
           -3.105560554539134,
           -4.6675905171455625
          ],
          [
           -3.1161069253958953,
           -4.758569064062897
          ],
          [
           -3.11421269432254,
           -4.869280520261523
          ],
          [
           -3.172886743913998,
           -5.000969987284681
          ],
          [
           -3.2430604906821925,
           -5.106893422275798
          ],
          [
           -3.3473835295817853,
           -5.267987578213918
          ],
          [
           -3.410717920766097,
           -5.369214080649613
          ],
          [
           -3.449248979093757,
           -5.482649556398986
          ],
          [
           -3.411699462192107,
           -5.567437118515261
          ],
          [
           -3.356504028242057,
           -5.664140316623022
          ],
          [
           -3.231650697485934,
           -5.741166696194552
          ],
          [
           -3.0950393204684135,
           -5.78251790154012
          ],
          [
           -3.014179573645209,
           -5.868613182301838
          ],
          [
           -2.9518471653218703,
           -5.976079157129992
          ],
          [
           -2.8457028358148895,
           -6.041986565612685
          ],
          [
           -2.6996391490227967,
           -6.0845239326501215
          ],
          [
           -2.547502757942357,
           -6.126953476766839
          ],
          [
           -2.4092733417630257,
           -6.1936333298419
          ],
          [
           -2.282336485234365,
           -6.297841973556762
          ],
          [
           -2.1831555921492214,
           -6.418324054791921
          ],
          [
           -2.09880433337246,
           -6.493260018364476
          ],
          [
           -2.040059837905914,
           -6.5781581232229325
          ],
          [
           -2.0241607477746704,
           -6.6473015824638
          ],
          [
           -2.0079471602543113,
           -6.6874444009392855
          ],
          [
           -1.9846190313882217,
           -6.760364534102387
          ],
          [
           -1.9908995830332805,
           -6.882200201351082
          ],
          [
           -1.9813844990981508,
           -6.987240045435188
          ],
          [
           -1.9717874974348162,
           -7.126029745901799
          ],
          [
           -2.0013916790283774,
           -7.285632634600821
          ],
          [
           -1.9777708217398169,
           -7.385300246778106
          ],
          [
           -1.9123257658811368,
           -7.44684069214621
          ],
          [
           -1.8327324134488832,
           -7.581090745839238
          ],
          [
           -1.7918444496583863,
           -7.686405330198413
          ],
          [
           -1.737720608364577,
           -7.744183861103316
          ],
          [
           -1.6751986443773277,
           -7.768240150595281
          ],
          [
           -1.5911348557375067,
           -7.769086682580762
          ],
          [
           -1.4881330499823637,
           -7.768112058751269
          ],
          [
           -1.3966902378308912,
           -7.768472223314152
          ],
          [
           -1.3245266719276645,
           -7.7558426083597904
          ],
          [
           -1.2810767780388073,
           -7.75889886857818
          ],
          [
           -1.2391313241865136,
           -7.752187654545117
          ],
          [
           -1.20262382587511,
           -7.78234113048565
          ],
          [
           -1.1861838378467169,
           -7.7817002047156665
          ],
          [
           -1.1560936362396281,
           -7.797472348295436
          ],
          [
           -1.1279469702723577,
           -7.819210658900083
          ],
          [
           -1.0857539749111136,
           -7.83596239506439
          ],
          [
           -1.0434627547716824,
           -7.8410511912367635
          ],
          [
           -1.013576410282247,
           -7.841061106618837
          ],
          [
           -1.0124653367765892,
           -7.832600027301094
          ],
          [
           -1.021100501863052,
           -7.7801372581948405
          ],
          [
           -1.0325423808937615,
           -7.694711780284477
          ],
          [
           -1.041949319302563,
           -7.621571257127702
          ],
          [
           -1.0356890706194846,
           -7.572451123427148
          ],
          [
           -1.0183131818770226,
           -7.539657350470893
          ],
          [
           -0.9904375311702684,
           -7.519705386663834
          ],
          [
           -0.9602071268064365,
           -7.509822241533029
          ],
          [
           -0.9232688865451816,
           -7.49225627586541
          ],
          [
           -0.8983093344355418,
           -7.473269996704073
          ],
          [
           -0.8738840339362981,
           -7.455643173785608
          ],
          [
           -0.8650902939490499,
           -7.460117049241061
          ],
          [
           -0.8796792593416868,
           -7.470084484528844
          ],
          [
           -0.8830235495251072,
           -7.467003835820344
          ],
          [
           -0.903230159469923,
           -7.438112226376894
          ],
          [
           -0.8999148149077725,
           -7.403460493296187
          ],
          [
           -0.8640487485873956,
           -7.3176577353701235
          ],
          [
           -0.8312768207106751,
           -7.2388585235640805
          ],
          [
           -0.828329507946163,
           -7.162120165242435
          ],
          [
           -0.8671370777788756,
           -7.117912247179385
          ],
          [
           -0.9108799203194474,
           -7.060267563201649
          ],
          [
           -0.9537200392222218,
           -7.018180384515473
          ],
          [
           -0.9643568529303892,
           -6.965360371376593
          ],
          [
           -0.9364980624947015,
           -6.940219346082857
          ],
          [
           -0.8948561072241086,
           -6.930403165449906
          ],
          [
           -0.8635360946737858,
           -6.929363564006672
          ],
          [
           -0.8415908518659888,
           -6.9066086503060005
          ],
          [
           -0.8137884660238655,
           -6.873103181773844
          ],
          [
           -0.7948761033417208,
           -6.834345832018463
          ],
          [
           -0.7934478132121878,
           -6.82242577755554
          ],
          [
           -0.791481339315108,
           -6.813780813707659
          ],
          [
           -0.7983177255180967,
           -6.821169712758033
          ],
          [
           -0.8247709442971153,
           -6.845287129294384
          ],
          [
           -0.832875807102059,
           -6.8779835293629805
          ],
          [
           -0.8335696074863412,
           -6.891175343962207
          ],
          [
           -0.8434636039924581,
           -6.893640879059603
          ],
          [
           -0.8624174767083372,
           -6.884765021304996
          ],
          [
           -0.8726299560542683,
           -6.8844882748130605
          ],
          [
           -0.8685707290770959,
           -6.863463908627464
          ],
          [
           -0.8883403168630232,
           -6.859551506272903
          ],
          [
           -0.9203815108247266,
           -6.85732081422596
          ],
          [
           -0.9787615457555328,
           -6.868530173355804
          ],
          [
           -1.0563357273827805,
           -6.860692787537048
          ],
          [
           -1.1370324296195147,
           -6.868653847549368
          ],
          [
           -1.195138778292071,
           -6.85437601374531
          ],
          [
           -1.202974175998419,
           -6.817873195196131
          ],
          [
           -1.169131393764858,
           -6.796220882365836
          ],
          [
           -1.132480474571298,
           -6.817106360127001
          ],
          [
           -1.1081368175114055,
           -6.86159618165906
          ],
          [
           -1.0884178614886852,
           -6.902234102450571
          ],
          [
           -1.0802138084204072,
           -6.945675903372951
          ],
          [
           -1.0754449216067312,
           -6.965825633299948
          ],
          [
           -1.0998884394026711,
           -6.9821774482453325
          ],
          [
           -1.161389274511201,
           -7.034498252226777
          ],
          [
           -1.2898770054376039,
           -7.07830507510344
          ],
          [
           -1.455018068745699,
           -7.116887155002158
          ],
          [
           -1.600919528760408,
           -7.155884935708926
          ],
          [
           -1.7808639228580376,
           -7.186958557133811
          ],
          [
           -1.9295003981166108,
           -7.215079398992873
          ],
          [
           -2.0411600505981693,
           -7.226456273220117
          ],
          [
           -2.173509465316768,
           -7.243085469807429
          ],
          [
           -2.321314361448672,
           -7.297598264522819
          ],
          [
           -2.469720816070581,
           -7.305797207683207
          ],
          [
           -2.590579724091741,
           -7.3398746167313735
          ],
          [
           -2.7162643538952476,
           -7.375016544765023
          ],
          [
           -2.793289444847559,
           -7.403579820072567
          ],
          [
           -2.863364482559653,
           -7.427149995569215
          ],
          [
           -2.993130109307048,
           -7.483060135061068
          ],
          [
           -3.161084949467523,
           -7.542373473417916
          ],
          [
           -3.2804712949915396,
           -7.590703409886697
          ],
          [
           -3.383015152394691,
           -7.625557308062155
          ],
          [
           -3.4874932755933123,
           -7.681709660607501
          ],
          [
           -3.5606259695336355,
           -7.734761336875982
          ],
          [
           -3.609798467363745,
           -7.778136884258821
          ],
          [
           -3.6583909929093137,
           -7.799612466660852
          ],
          [
           -3.6724067033971437,
           -7.871160693711115
          ],
          [
           -3.7186287175248927,
           -7.96918888049886
          ],
          [
           -3.732221297386738,
           -8.059894727227942
          ],
          [
           -3.7094183196522255,
           -8.166704260725165
          ],
          [
           -3.688382368524776,
           -8.233452525709074
          ],
          [
           -3.6611097156664387,
           -8.252991531487817
          ],
          [
           -3.6251981762800582,
           -8.241704737784692
          ],
          [
           -3.639446374623888,
           -8.25261906309434
          ],
          [
           -3.6357065211848405,
           -8.250445288333076
          ],
          [
           -3.6221856190301995,
           -8.191277203422285
          ],
          [
           -3.5520417273403213,
           -8.118869439774302
          ],
          [
           -3.4941755156828807,
           -8.050349295641764
          ],
          [
           -3.4326250316394633,
           -7.9942422402874325
          ],
          [
           -3.400061643878377,
           -7.969272504275028
          ],
          [
           -3.3723417184713873,
           -7.947258352778436
          ],
          [
           -3.3376384256770164,
           -7.945422577677185
          ],
          [
           -3.3174076185674037,
           -7.962909468641636
          ],
          [
           -3.3023959779484153,
           -7.937639632639463
          ],
          [
           -3.2779700201895583,
           -7.914360392105887
          ],
          [
           -3.2892947300992796,
           -7.8993487384417955
          ],
          [
           -3.3203847868160965,
           -7.930860752769613
          ],
          [
           -3.3523010435634393,
           -7.970415459229355
          ],
          [
           -3.3777970315073653,
           -7.997566866740921
          ],
          [
           -3.3983031193657,
           -8.013449934284319
          ],
          [
           -3.4254409741819445,
           -8.044981934370128
          ],
          [
           -3.4399083683613676,
           -8.042884657784228
          ],
          [
           -3.4703831197635817,
           -8.024454090360841
          ],
          [
           -3.499121626904179,
           -8.01496171383128
          ],
          [
           -3.5307539023078736,
           -7.999318201014866
          ],
          [
           -3.5519177033629887,
           -7.989784247758387
          ]
         ],
         "hovertemplate": "%{x}<br>Baseline: %{y}<br><br>Baseline=%{customdata[0]:.3f}<br />Lat. Injected=%{customdata[1]:.3f}<extra></extra>",
         "legendgroup": "Baseline",
         "line": {
          "color": "#636EFA",
          "dash": "solid"
         },
         "name": "Baseline",
         "showlegend": false,
         "type": "scatter",
         "x": [
          "2014-03-02T00:00:00",
          "2014-03-03T00:00:00",
          "2014-03-04T00:00:00",
          "2014-03-05T00:00:00",
          "2014-03-06T00:00:00",
          "2014-03-07T00:00:00",
          "2014-03-08T00:00:00",
          "2014-03-09T00:00:00",
          "2014-03-10T00:00:00",
          "2014-03-11T00:00:00",
          "2014-03-12T00:00:00",
          "2014-03-13T00:00:00",
          "2014-03-14T00:00:00",
          "2014-03-15T00:00:00",
          "2014-03-16T00:00:00",
          "2014-03-17T00:00:00",
          "2014-03-18T00:00:00",
          "2014-03-19T00:00:00",
          "2014-03-20T00:00:00",
          "2014-03-21T00:00:00",
          "2014-03-22T00:00:00",
          "2014-03-23T00:00:00",
          "2014-03-24T00:00:00",
          "2014-03-25T00:00:00",
          "2014-03-26T00:00:00",
          "2014-03-27T00:00:00",
          "2014-03-28T00:00:00",
          "2014-03-29T00:00:00",
          "2014-03-30T00:00:00",
          "2014-03-31T00:00:00",
          "2014-04-01T00:00:00",
          "2014-04-02T00:00:00",
          "2014-04-03T00:00:00",
          "2014-04-04T00:00:00",
          "2014-04-05T00:00:00",
          "2014-04-06T00:00:00",
          "2014-04-07T00:00:00",
          "2014-04-08T00:00:00",
          "2014-04-09T00:00:00",
          "2014-04-10T00:00:00",
          "2014-04-11T00:00:00",
          "2014-04-12T00:00:00",
          "2014-04-13T00:00:00",
          "2014-04-14T00:00:00",
          "2014-04-15T00:00:00",
          "2014-04-16T00:00:00",
          "2014-04-17T00:00:00",
          "2014-04-18T00:00:00",
          "2014-04-19T00:00:00",
          "2014-04-20T00:00:00",
          "2014-04-21T00:00:00",
          "2014-04-22T00:00:00",
          "2014-04-23T00:00:00",
          "2014-04-24T00:00:00",
          "2014-04-25T00:00:00",
          "2014-04-26T00:00:00",
          "2014-04-27T00:00:00",
          "2014-04-28T00:00:00",
          "2014-04-29T00:00:00",
          "2014-04-30T00:00:00",
          "2014-05-01T00:00:00",
          "2014-05-02T00:00:00",
          "2014-05-03T00:00:00",
          "2014-05-04T00:00:00",
          "2014-05-05T00:00:00",
          "2014-05-06T00:00:00",
          "2014-05-07T00:00:00",
          "2014-05-08T00:00:00",
          "2014-05-09T00:00:00",
          "2014-05-10T00:00:00",
          "2014-05-11T00:00:00",
          "2014-05-12T00:00:00",
          "2014-05-13T00:00:00",
          "2014-05-14T00:00:00",
          "2014-05-15T00:00:00",
          "2014-05-16T00:00:00",
          "2014-05-17T00:00:00",
          "2014-05-18T00:00:00",
          "2014-05-19T00:00:00",
          "2014-05-20T00:00:00",
          "2014-05-21T00:00:00",
          "2014-05-22T00:00:00",
          "2014-05-23T00:00:00",
          "2014-05-24T00:00:00",
          "2014-05-25T00:00:00",
          "2014-05-26T00:00:00",
          "2014-05-27T00:00:00",
          "2014-05-28T00:00:00",
          "2014-05-29T00:00:00",
          "2014-05-30T00:00:00",
          "2014-05-31T00:00:00",
          "2014-06-01T00:00:00",
          "2014-06-02T00:00:00",
          "2014-06-03T00:00:00",
          "2014-06-04T00:00:00",
          "2014-06-05T00:00:00",
          "2014-06-06T00:00:00",
          "2014-06-07T00:00:00",
          "2014-06-08T00:00:00",
          "2014-06-09T00:00:00",
          "2014-06-10T00:00:00",
          "2014-06-11T00:00:00",
          "2014-06-12T00:00:00",
          "2014-06-13T00:00:00",
          "2014-06-14T00:00:00",
          "2014-06-15T00:00:00",
          "2014-06-16T00:00:00",
          "2014-06-17T00:00:00",
          "2014-06-18T00:00:00",
          "2014-06-19T00:00:00",
          "2014-06-20T00:00:00",
          "2014-06-21T00:00:00",
          "2014-06-22T00:00:00",
          "2014-06-23T00:00:00",
          "2014-06-24T00:00:00",
          "2014-06-25T00:00:00",
          "2014-06-26T00:00:00",
          "2014-06-27T00:00:00",
          "2014-06-28T00:00:00",
          "2014-06-29T00:00:00",
          "2014-06-30T00:00:00",
          "2014-07-01T00:00:00",
          "2014-07-02T00:00:00",
          "2014-07-03T00:00:00",
          "2014-07-04T00:00:00",
          "2014-07-05T00:00:00",
          "2014-07-06T00:00:00",
          "2014-07-07T00:00:00",
          "2014-07-08T00:00:00",
          "2014-07-09T00:00:00",
          "2014-07-10T00:00:00",
          "2014-07-11T00:00:00",
          "2014-07-12T00:00:00",
          "2014-07-13T00:00:00",
          "2014-07-14T00:00:00",
          "2014-07-15T00:00:00",
          "2014-07-16T00:00:00",
          "2014-07-17T00:00:00",
          "2014-07-18T00:00:00",
          "2014-07-19T00:00:00",
          "2014-07-20T00:00:00",
          "2014-07-21T00:00:00",
          "2014-07-22T00:00:00",
          "2014-07-23T00:00:00",
          "2014-07-24T00:00:00",
          "2014-07-25T00:00:00",
          "2014-07-26T00:00:00",
          "2014-07-27T00:00:00",
          "2014-07-28T00:00:00",
          "2014-07-29T00:00:00",
          "2014-07-30T00:00:00",
          "2014-07-31T00:00:00",
          "2014-08-01T00:00:00",
          "2014-08-02T00:00:00",
          "2014-08-03T00:00:00",
          "2014-08-04T00:00:00",
          "2014-08-05T00:00:00",
          "2014-08-06T00:00:00",
          "2014-08-07T00:00:00",
          "2014-08-08T00:00:00",
          "2014-08-09T00:00:00",
          "2014-08-10T00:00:00",
          "2014-08-11T00:00:00",
          "2014-08-12T00:00:00",
          "2014-08-13T00:00:00",
          "2014-08-14T00:00:00",
          "2014-08-15T00:00:00",
          "2014-08-16T00:00:00",
          "2014-08-17T00:00:00",
          "2014-08-18T00:00:00",
          "2014-08-19T00:00:00",
          "2014-08-20T00:00:00",
          "2014-08-21T00:00:00",
          "2014-08-22T00:00:00",
          "2014-08-23T00:00:00",
          "2014-08-24T00:00:00",
          "2014-08-25T00:00:00",
          "2014-08-26T00:00:00",
          "2014-08-27T00:00:00",
          "2014-08-28T00:00:00",
          "2014-08-29T00:00:00",
          "2014-08-30T00:00:00",
          "2014-08-31T00:00:00",
          "2014-09-01T00:00:00",
          "2014-09-02T00:00:00",
          "2014-09-03T00:00:00",
          "2014-09-04T00:00:00",
          "2014-09-05T00:00:00",
          "2014-09-06T00:00:00",
          "2014-09-07T00:00:00",
          "2014-09-08T00:00:00",
          "2014-09-09T00:00:00",
          "2014-09-10T00:00:00",
          "2014-09-11T00:00:00",
          "2014-09-12T00:00:00",
          "2014-09-13T00:00:00",
          "2014-09-14T00:00:00",
          "2014-09-15T00:00:00",
          "2014-09-16T00:00:00",
          "2014-09-17T00:00:00",
          "2014-09-18T00:00:00",
          "2014-09-19T00:00:00",
          "2014-09-20T00:00:00",
          "2014-09-21T00:00:00",
          "2014-09-22T00:00:00",
          "2014-09-23T00:00:00",
          "2014-09-24T00:00:00",
          "2014-09-25T00:00:00",
          "2014-09-26T00:00:00",
          "2014-09-27T00:00:00",
          "2014-09-28T00:00:00",
          "2014-09-29T00:00:00",
          "2014-09-30T00:00:00",
          "2014-10-01T00:00:00",
          "2014-10-02T00:00:00",
          "2014-10-03T00:00:00",
          "2014-10-04T00:00:00",
          "2014-10-05T00:00:00",
          "2014-10-06T00:00:00",
          "2014-10-07T00:00:00",
          "2014-10-08T00:00:00",
          "2014-10-09T00:00:00",
          "2014-10-10T00:00:00",
          "2014-10-11T00:00:00",
          "2014-10-12T00:00:00",
          "2014-10-13T00:00:00",
          "2014-10-14T00:00:00",
          "2014-10-15T00:00:00",
          "2014-10-16T00:00:00",
          "2014-10-17T00:00:00",
          "2014-10-18T00:00:00",
          "2014-10-19T00:00:00",
          "2014-10-20T00:00:00",
          "2014-10-21T00:00:00",
          "2014-10-22T00:00:00",
          "2014-10-23T00:00:00",
          "2014-10-24T00:00:00",
          "2014-10-25T00:00:00",
          "2014-10-26T00:00:00",
          "2014-10-27T00:00:00",
          "2014-10-28T00:00:00",
          "2014-10-29T00:00:00",
          "2014-10-30T00:00:00",
          "2014-10-31T00:00:00",
          "2014-11-01T00:00:00",
          "2014-11-02T00:00:00",
          "2014-11-03T00:00:00",
          "2014-11-04T00:00:00",
          "2014-11-05T00:00:00",
          "2014-11-06T00:00:00",
          "2014-11-07T00:00:00",
          "2014-11-08T00:00:00",
          "2014-11-09T00:00:00",
          "2014-11-10T00:00:00",
          "2014-11-11T00:00:00",
          "2014-11-12T00:00:00",
          "2014-11-13T00:00:00",
          "2014-11-14T00:00:00",
          "2014-11-15T00:00:00",
          "2014-11-16T00:00:00",
          "2014-11-17T00:00:00",
          "2014-11-18T00:00:00",
          "2014-11-19T00:00:00",
          "2014-11-20T00:00:00",
          "2014-11-21T00:00:00",
          "2014-11-22T00:00:00",
          "2014-11-23T00:00:00",
          "2014-11-24T00:00:00",
          "2014-11-25T00:00:00",
          "2014-11-26T00:00:00",
          "2014-11-27T00:00:00",
          "2014-11-28T00:00:00",
          "2014-11-29T00:00:00",
          "2014-11-30T00:00:00",
          "2014-12-01T00:00:00",
          "2014-12-02T00:00:00",
          "2014-12-03T00:00:00",
          "2014-12-04T00:00:00",
          "2014-12-05T00:00:00",
          "2014-12-06T00:00:00",
          "2014-12-07T00:00:00",
          "2014-12-08T00:00:00",
          "2014-12-09T00:00:00",
          "2014-12-10T00:00:00",
          "2014-12-11T00:00:00",
          "2014-12-12T00:00:00",
          "2014-12-13T00:00:00",
          "2014-12-14T00:00:00",
          "2014-12-15T00:00:00",
          "2014-12-16T00:00:00",
          "2014-12-17T00:00:00",
          "2014-12-18T00:00:00",
          "2014-12-19T00:00:00",
          "2014-12-20T00:00:00",
          "2014-12-21T00:00:00",
          "2014-12-22T00:00:00",
          "2014-12-23T00:00:00",
          "2014-12-24T00:00:00",
          "2014-12-25T00:00:00",
          "2014-12-26T00:00:00",
          "2014-12-27T00:00:00",
          "2014-12-28T00:00:00",
          "2014-12-29T00:00:00",
          "2014-12-30T00:00:00",
          "2014-12-31T00:00:00",
          "2015-01-01T00:00:00",
          "2015-01-02T00:00:00",
          "2015-01-03T00:00:00",
          "2015-01-04T00:00:00",
          "2015-01-05T00:00:00",
          "2015-01-06T00:00:00",
          "2015-01-07T00:00:00",
          "2015-01-08T00:00:00",
          "2015-01-09T00:00:00",
          "2015-01-10T00:00:00",
          "2015-01-11T00:00:00",
          "2015-01-12T00:00:00",
          "2015-01-13T00:00:00",
          "2015-01-14T00:00:00",
          "2015-01-15T00:00:00",
          "2015-01-16T00:00:00",
          "2015-01-17T00:00:00",
          "2015-01-18T00:00:00",
          "2015-01-19T00:00:00",
          "2015-01-20T00:00:00",
          "2015-01-21T00:00:00",
          "2015-01-22T00:00:00",
          "2015-01-23T00:00:00",
          "2015-01-24T00:00:00",
          "2015-01-25T00:00:00",
          "2015-01-26T00:00:00",
          "2015-01-27T00:00:00",
          "2015-01-28T00:00:00",
          "2015-01-29T00:00:00",
          "2015-01-30T00:00:00",
          "2015-01-31T00:00:00"
         ],
         "xaxis": "x2",
         "y": [
          -0.18890748365847007,
          -0.15604752023066037,
          -0.15151090114665264,
          -0.123399159876721,
          -0.11419408260998928,
          -0.07123445642361019,
          -0.04812432922624187,
          -0.04143471695773264,
          -0.04353447246138771,
          -0.03719584682764611,
          -0.007470334818118486,
          0.008813094305868853,
          0.032747973789282014,
          0.042075750921145565,
          0.03441124793633043,
          0.011603524107536102,
          -0.015100973388910028,
          -0.022862045450951808,
          -0.062929072225801,
          -0.09052379965138671,
          -0.17754960398148087,
          -0.2673329651534557,
          -0.2981319284277877,
          -0.30785965626806716,
          -0.304524786525196,
          -0.2893416302613611,
          -0.2648306771841244,
          -0.24551561124653817,
          -0.24327786174819627,
          -0.2296229925163758,
          -0.21245519939617238,
          -0.18545372267968235,
          -0.16052123896621812,
          -0.14341103625265827,
          -0.1524757831945421,
          -0.17756681695174892,
          -0.21263351396249114,
          -0.21770781020142282,
          -0.20403558655322981,
          -0.23352697933085717,
          -0.275084351609129,
          -0.37231648816868734,
          -0.439771968923394,
          -0.4697251301964211,
          -0.4243958398068187,
          -0.3752712086691253,
          -0.3751248756759731,
          -0.3924620119270638,
          -0.3982604236521654,
          -0.41208783823839723,
          -0.4654534083910629,
          -0.4773686001370562,
          -0.47518448385863843,
          -0.5097548292927213,
          -0.5343049535224387,
          -0.5888393821581267,
          -0.6186363022073751,
          -0.5965671512685876,
          -0.5295987580718298,
          -0.4567679948522986,
          -0.38165315364389946,
          -0.34441456676404986,
          -0.29983728843886454,
          -0.285106053988388,
          -0.24551429807291061,
          -0.1995383684075351,
          -0.1565458637494708,
          -0.10774519270609367,
          -0.0728687363241678,
          -0.058043495386204694,
          -0.03239405638029411,
          -0.011249206054083619,
          -0.004032418070888627,
          -0.022210549752253405,
          -0.032734339336322256,
          -0.06960575872726953,
          -0.14033916308084407,
          -0.22209949763626713,
          -0.2720399151138692,
          -0.3080196833130205,
          -0.33888940166577075,
          -0.34228237100135694,
          -0.3524928220276854,
          -0.3577262775777667,
          -0.38540109083382806,
          -0.45120436030204614,
          -0.4748915297957219,
          -0.4865747042006964,
          -0.5146773967581102,
          -0.5565050031104347,
          -0.6278735389267476,
          -0.6933411629206633,
          -0.681221955971706,
          -0.646837756229294,
          -0.6043923735756869,
          -0.5638942206784412,
          -0.5448544884272785,
          -0.5567171958314453,
          -0.5785007430544798,
          -0.6295475671723577,
          -0.6486622284423252,
          -0.6614121004517577,
          -0.6892878281811752,
          -0.7339107814719248,
          -0.8082305040443609,
          -0.8448807026812086,
          -0.8426783582435867,
          -0.827440852956896,
          -0.7967487154851228,
          -0.7416588298858396,
          -0.6833647187970925,
          -0.638170483342429,
          -0.6071921197783368,
          -0.5644792517010209,
          -0.5546389738714187,
          -0.5459471497321569,
          -0.5841317579941178,
          -0.637963563938744,
          -0.7012368889063882,
          -0.8042740433479508,
          -0.9270761310612574,
          -1.010402141410789,
          -1.0482036211146821,
          -1.1378338005409359,
          -1.23000059173428,
          -1.306708242798656,
          -1.3762579896253164,
          -1.4783074120768456,
          -1.5910870484830637,
          -1.732368452564463,
          -1.8539892619172313,
          -1.996187337926215,
          -2.127989792221675,
          -2.248837067631599,
          -2.3560167165647905,
          -2.4268796796621506,
          -2.45126392659993,
          -2.4793780226266815,
          -2.5164066733763675,
          -2.5856558681084274,
          -2.6722924926055556,
          -2.775699464473198,
          -2.8032894873076883,
          -2.760389375203099,
          -2.721640430896285,
          -2.6834293593807916,
          -2.6470729053211692,
          -2.612188273105625,
          -2.5537828165390883,
          -2.4864536709037623,
          -2.4565294229622636,
          -2.4335093106127936,
          -2.4145144885936083,
          -2.4583446395146544,
          -2.4882912153252073,
          -2.51331402565556,
          -2.512551854199357,
          -2.5244138280000668,
          -2.506557971465122,
          -2.4570581306864674,
          -2.3943046684048173,
          -2.3339138323684567,
          -2.316569831767702,
          -2.3042653856843565,
          -2.2882781479057397,
          -2.257550280607313,
          -2.2672643731122735,
          -2.298930557872156,
          -2.3573810209761,
          -2.4172427463185406,
          -2.4375854906408483,
          -2.4320619439774185,
          -2.47594214494315,
          -2.5100924166123995,
          -2.598418981418609,
          -2.735356184655697,
          -2.836317087832255,
          -2.90294112603371,
          -2.9702673799959887,
          -3.029803924523222,
          -3.1044120356009466,
          -3.097279162239671,
          -3.123209414129257,
          -3.105560554539134,
          -3.1161069253958953,
          -3.11421269432254,
          -3.172886743913998,
          -3.2430604906821925,
          -3.3473835295817853,
          -3.410717920766097,
          -3.449248979093757,
          -3.411699462192107,
          -3.356504028242057,
          -3.231650697485934,
          -3.0950393204684135,
          -3.014179573645209,
          -2.9518471653218703,
          -2.8457028358148895,
          -2.6996391490227967,
          -2.547502757942357,
          -2.4092733417630257,
          -2.282336485234365,
          -2.1831555921492214,
          -2.09880433337246,
          -2.040059837905914,
          -2.0241607477746704,
          -2.0079471602543113,
          -1.9846190313882217,
          -1.9908995830332805,
          -1.9813844990981508,
          -1.9717874974348162,
          -2.0013916790283774,
          -1.9777708217398169,
          -1.9123257658811368,
          -1.8327324134488832,
          -1.7918444496583863,
          -1.737720608364577,
          -1.6751986443773277,
          -1.5911348557375067,
          -1.4881330499823637,
          -1.3966902378308912,
          -1.3245266719276645,
          -1.2810767780388073,
          -1.2391313241865136,
          -1.20262382587511,
          -1.1861838378467169,
          -1.1560936362396281,
          -1.1279469702723577,
          -1.0857539749111136,
          -1.0434627547716824,
          -1.013576410282247,
          -1.0124653367765892,
          -1.021100501863052,
          -1.0325423808937615,
          -1.041949319302563,
          -1.0356890706194846,
          -1.0183131818770226,
          -0.9904375311702684,
          -0.9602071268064365,
          -0.9232688865451816,
          -0.8983093344355418,
          -0.8738840339362981,
          -0.8650902939490499,
          -0.8796792593416868,
          -0.8830235495251072,
          -0.903230159469923,
          -0.8999148149077725,
          -0.8640487485873956,
          -0.8312768207106751,
          -0.828329507946163,
          -0.8671370777788756,
          -0.9108799203194474,
          -0.9537200392222218,
          -0.9643568529303892,
          -0.9364980624947015,
          -0.8948561072241086,
          -0.8635360946737858,
          -0.8415908518659888,
          -0.8137884660238655,
          -0.7948761033417208,
          -0.7934478132121878,
          -0.791481339315108,
          -0.7983177255180967,
          -0.8247709442971153,
          -0.832875807102059,
          -0.8335696074863412,
          -0.8434636039924581,
          -0.8624174767083372,
          -0.8726299560542683,
          -0.8685707290770959,
          -0.8883403168630232,
          -0.9203815108247266,
          -0.9787615457555328,
          -1.0563357273827805,
          -1.1370324296195147,
          -1.195138778292071,
          -1.202974175998419,
          -1.169131393764858,
          -1.132480474571298,
          -1.1081368175114055,
          -1.0884178614886852,
          -1.0802138084204072,
          -1.0754449216067312,
          -1.0998884394026711,
          -1.161389274511201,
          -1.2898770054376039,
          -1.455018068745699,
          -1.600919528760408,
          -1.7808639228580376,
          -1.9295003981166108,
          -2.0411600505981693,
          -2.173509465316768,
          -2.321314361448672,
          -2.469720816070581,
          -2.590579724091741,
          -2.7162643538952476,
          -2.793289444847559,
          -2.863364482559653,
          -2.993130109307048,
          -3.161084949467523,
          -3.2804712949915396,
          -3.383015152394691,
          -3.4874932755933123,
          -3.5606259695336355,
          -3.609798467363745,
          -3.6583909929093137,
          -3.6724067033971437,
          -3.7186287175248927,
          -3.732221297386738,
          -3.7094183196522255,
          -3.688382368524776,
          -3.6611097156664387,
          -3.6251981762800582,
          -3.639446374623888,
          -3.6357065211848405,
          -3.6221856190301995,
          -3.5520417273403213,
          -3.4941755156828807,
          -3.4326250316394633,
          -3.400061643878377,
          -3.3723417184713873,
          -3.3376384256770164,
          -3.3174076185674037,
          -3.3023959779484153,
          -3.2779700201895583,
          -3.2892947300992796,
          -3.3203847868160965,
          -3.3523010435634393,
          -3.3777970315073653,
          -3.3983031193657,
          -3.4254409741819445,
          -3.4399083683613676,
          -3.4703831197635817,
          -3.499121626904179,
          -3.5307539023078736,
          -3.5519177033629887
         ],
         "yaxis": "y2"
        },
        {
         "connectgaps": false,
         "customdata": [
          [
           -0.18890748365847007,
           -0.19088881373631797
          ],
          [
           -0.15604752023066037,
           -0.17256074989744394
          ],
          [
           -0.15151090114665264,
           -0.13151895520577245
          ],
          [
           -0.123399159876721,
           -0.11861950016721455
          ],
          [
           -0.11419408260998928,
           -0.1011947023772894
          ],
          [
           -0.07123445642361019,
           -0.07522865475807622
          ],
          [
           -0.04812432922624187,
           -0.054299399317403116
          ],
          [
           -0.04143471695773264,
           -0.04963147149373532
          ],
          [
           -0.04353447246138771,
           -0.04702756794740084
          ],
          [
           -0.03719584682764611,
           -0.03351142939232494
          ],
          [
           -0.007470334818118486,
           -0.015995539218107445
          ],
          [
           0.008813094305868853,
           0.003806631448933552
          ],
          [
           0.032747973789282014,
           0.03204344322917207
          ],
          [
           0.042075750921145565,
           0.04102431167476816
          ],
          [
           0.03441124793633043,
           0.028213852773394853
          ],
          [
           0.011603524107536102,
           0.013914747891564105
          ],
          [
           -0.015100973388910028,
           0.0010359271725134452
          ],
          [
           -0.022862045450951808,
           -0.007322351558800557
          ],
          [
           -0.062929072225801,
           -0.04971472579654754
          ],
          [
           -0.09052379965138671,
           -0.08929892910417513
          ],
          [
           -0.17754960398148087,
           -0.17995801072338358
          ],
          [
           -0.2673329651534557,
           -0.27809611276840096
          ],
          [
           -0.2981319284277877,
           -0.3114328042439178
          ],
          [
           -0.30785965626806716,
           -0.3186968847683889
          ],
          [
           -0.304524786525196,
           -0.3176882002421899
          ],
          [
           -0.2893416302613611,
           -0.2976498682633289
          ],
          [
           -0.2648306771841244,
           -0.2607799140843475
          ],
          [
           -0.24551561124653817,
           -0.23308550931487443
          ],
          [
           -0.24327786174819627,
           -0.23243601717699575
          ],
          [
           -0.2296229925163758,
           -0.23043445514811617
          ],
          [
           -0.21245519939617238,
           -0.20492035029020592
          ],
          [
           -0.18545372267968235,
           -0.18804961279672672
          ],
          [
           -0.16052123896621812,
           -0.1719571956980408
          ],
          [
           -0.14341103625265827,
           -0.15327951749108554
          ],
          [
           -0.1524757831945421,
           -0.1567818222912414
          ],
          [
           -0.17756681695174892,
           -0.17515222380617038
          ],
          [
           -0.21263351396249114,
           -0.2135718721270857
          ],
          [
           -0.21770781020142282,
           -0.21746075251594765
          ],
          [
           -0.20403558655322981,
           -0.22832697911685473
          ],
          [
           -0.23352697933085717,
           -0.2633020498684997
          ],
          [
           -0.275084351609129,
           -0.3014686286433474
          ],
          [
           -0.37231648816868734,
           -0.38595207349984567
          ],
          [
           -0.439771968923394,
           -0.45060364932123104
          ],
          [
           -0.4697251301964211,
           -0.45505772327444205
          ],
          [
           -0.4243958398068187,
           -0.4093046593565997
          ],
          [
           -0.3752712086691253,
           -0.3634786868598024
          ],
          [
           -0.3751248756759731,
           -0.35507873808924856
          ],
          [
           -0.3924620119270638,
           -0.39043971107887704
          ],
          [
           -0.3982604236521654,
           -0.414136504519196
          ],
          [
           -0.41208783823839723,
           -0.4250711205842168
          ],
          [
           -0.4654534083910629,
           -0.48362934055585416
          ],
          [
           -0.4773686001370562,
           -0.482300550997339
          ],
          [
           -0.47518448385863843,
           -0.46298066733144055
          ],
          [
           -0.5097548292927213,
           -0.5005022584901615
          ],
          [
           -0.5343049535224387,
           -0.5133810762850262
          ],
          [
           -0.5888393821581267,
           -0.5516559865470256
          ],
          [
           -0.6186363022073751,
           -0.6005873315300841
          ],
          [
           -0.5965671512685876,
           -0.5891282155189775
          ],
          [
           -0.5295987580718298,
           -0.5281293972003667
          ],
          [
           -0.4567679948522986,
           -0.4508300643542688
          ],
          [
           -0.38165315364389946,
           -0.394495346756317
          ],
          [
           -0.34441456676404986,
           -0.34726984714245623
          ],
          [
           -0.29983728843886454,
           -0.30951710070942023
          ],
          [
           -0.285106053988388,
           -0.2850473098727522
          ],
          [
           -0.24551429807291061,
           -0.25963828660791505
          ],
          [
           -0.1995383684075351,
           -0.1996091457175008
          ],
          [
           -0.1565458637494708,
           -0.1528938090004255
          ],
          [
           -0.10774519270609367,
           -0.09041682976991233
          ],
          [
           -0.0728687363241678,
           -0.06808805815762604
          ],
          [
           -0.058043495386204694,
           -0.04306562923353084
          ],
          [
           -0.03239405638029411,
           -0.021517892042001406
          ],
          [
           -0.011249206054083619,
           -0.005340926470836575
          ],
          [
           -0.004032418070888627,
           -0.0009705277204757184
          ],
          [
           -0.022210549752253405,
           -0.013285593691153652
          ],
          [
           -0.032734339336322256,
           -0.027678868646274887
          ],
          [
           -0.06960575872726953,
           -0.07954612212534781
          ],
          [
           -0.14033916308084407,
           -0.14503001940936733
          ],
          [
           -0.22209949763626713,
           -0.21832693291558822
          ],
          [
           -0.2720399151138692,
           -0.2779409573225249
          ],
          [
           -0.3080196833130205,
           -0.31446935180156005
          ],
          [
           -0.33888940166577075,
           -0.3439715621469133
          ],
          [
           -0.34228237100135694,
           -0.3529972786958267
          ],
          [
           -0.3524928220276854,
           -0.3528076838072003
          ],
          [
           -0.3577262775777667,
           -0.35127137936820574
          ],
          [
           -0.38540109083382806,
           -0.3766821806488085
          ],
          [
           -0.45120436030204614,
           -0.4449072663061667
          ],
          [
           -0.4748915297957219,
           -0.4644852675567485
          ],
          [
           -0.4865747042006964,
           -0.46563245264709235
          ],
          [
           -0.5146773967581102,
           -0.5038145389849484
          ],
          [
           -0.5565050031104347,
           -0.5568308429627632
          ],
          [
           -0.6278735389267476,
           -0.636281071632388
          ],
          [
           -0.6933411629206633,
           -0.6892893119819322
          ],
          [
           -0.681221955971706,
           -0.6698782325874847
          ],
          [
           -0.646837756229294,
           -0.6438748094137923
          ],
          [
           -0.6043923735756869,
           -0.6127626661717175
          ],
          [
           -0.5638942206784412,
           -0.6036995316360787
          ],
          [
           -0.5448544884272785,
           -0.6439833599221783
          ],
          [
           -0.5567171958314453,
           -0.671125999165016
          ],
          [
           -0.5785007430544798,
           -0.7183954912603373
          ],
          [
           -0.6295475671723577,
           -0.7973107360591187
          ],
          [
           -0.6486622284423252,
           -0.8458364695698285
          ],
          [
           -0.6614121004517577,
           -0.9152646939181129
          ],
          [
           -0.6892878281811752,
           -0.9969048688878536
          ],
          [
           -0.7339107814719248,
           -1.135525834299261
          ],
          [
           -0.8082305040443609,
           -1.284920085534366
          ],
          [
           -0.8448807026812086,
           -1.3896323289376795
          ],
          [
           -0.8426783582435867,
           -1.4781516677846538
          ],
          [
           -0.827440852956896,
           -1.5337358008837039
          ],
          [
           -0.7967487154851228,
           -1.5663605103887197
          ],
          [
           -0.7416588298858396,
           -1.604016193552317
          ],
          [
           -0.6833647187970925,
           -1.6771862563427966
          ],
          [
           -0.638170483342429,
           -1.7441135012205713
          ],
          [
           -0.6071921197783368,
           -1.792957636063255
          ],
          [
           -0.5644792517010209,
           -1.8585510409021193
          ],
          [
           -0.5546389738714187,
           -1.908937264868131
          ],
          [
           -0.5459471497321569,
           -1.9562921173417833
          ],
          [
           -0.5841317579941178,
           -2.027678426663119
          ],
          [
           -0.637963563938744,
           -2.1267737704467056
          ],
          [
           -0.7012368889063882,
           -2.2420912302203466
          ],
          [
           -0.8042740433479508,
           -2.3865850895046212
          ],
          [
           -0.9270761310612574,
           -2.579395166697331
          ],
          [
           -1.010402141410789,
           -2.6874443687355414
          ],
          [
           -1.0482036211146821,
           -2.7458324057472083
          ],
          [
           -1.1378338005409359,
           -2.8872636680105574
          ],
          [
           -1.23000059173428,
           -2.9807538209798037
          ],
          [
           -1.306708242798656,
           -3.0964348423644825
          ],
          [
           -1.3762579896253164,
           -3.1686032368363506
          ],
          [
           -1.4783074120768456,
           -3.242097197107852
          ],
          [
           -1.5910870484830637,
           -3.2788089714270363
          ],
          [
           -1.732368452564463,
           -3.30538080523735
          ],
          [
           -1.8539892619172313,
           -3.3418413046557163
          ],
          [
           -1.996187337926215,
           -3.342677956098029
          ],
          [
           -2.127989792221675,
           -3.3637626121647553
          ],
          [
           -2.248837067631599,
           -3.3932638372049038
          ],
          [
           -2.3560167165647905,
           -3.3987831509563557
          ],
          [
           -2.4268796796621506,
           -3.384689307033999
          ],
          [
           -2.45126392659993,
           -3.3849203943516053
          ],
          [
           -2.4793780226266815,
           -3.3926169991924837
          ],
          [
           -2.5164066733763675,
           -3.428180184458932
          ],
          [
           -2.5856558681084274,
           -3.467672004651875
          ],
          [
           -2.6722924926055556,
           -3.5395242437953756
          ],
          [
           -2.775699464473198,
           -3.5776255073582606
          ],
          [
           -2.8032894873076883,
           -3.598582770275949
          ],
          [
           -2.760389375203099,
           -3.5969543221583526
          ],
          [
           -2.721640430896285,
           -3.5700616327609516
          ],
          [
           -2.6834293593807916,
           -3.545950129950541
          ],
          [
           -2.6470729053211692,
           -3.523347094117509
          ],
          [
           -2.612188273105625,
           -3.505740549780207
          ],
          [
           -2.5537828165390883,
           -3.4647421435459584
          ],
          [
           -2.4864536709037623,
           -3.4460212709287203
          ],
          [
           -2.4565294229622636,
           -3.447421553100247
          ],
          [
           -2.4335093106127936,
           -3.450568917816533
          ],
          [
           -2.4145144885936083,
           -3.457173525558772
          ],
          [
           -2.4583446395146544,
           -3.4762956410145827
          ],
          [
           -2.4882912153252073,
           -3.477009367686885
          ],
          [
           -2.51331402565556,
           -3.4954478141763783
          ],
          [
           -2.512551854199357,
           -3.5055320916723627
          ],
          [
           -2.5244138280000668,
           -3.528727872653067
          ],
          [
           -2.506557971465122,
           -3.537272834390653
          ],
          [
           -2.4570581306864674,
           -3.555610313013796
          ],
          [
           -2.3943046684048173,
           -3.5795350049497796
          ],
          [
           -2.3339138323684567,
           -3.586529709021992
          ],
          [
           -2.316569831767702,
           -3.6559687635084117
          ],
          [
           -2.3042653856843565,
           -3.7163898448952635
          ],
          [
           -2.2882781479057397,
           -3.7540349871974588
          ],
          [
           -2.257550280607313,
           -3.8007264623615735
          ],
          [
           -2.2672643731122735,
           -3.8481304876992217
          ],
          [
           -2.298930557872156,
           -3.8788265019010177
          ],
          [
           -2.3573810209761,
           -3.9333981477060496
          ],
          [
           -2.4172427463185406,
           -3.957403014444017
          ],
          [
           -2.4375854906408483,
           -3.9672126847540294
          ],
          [
           -2.4320619439774185,
           -3.989475748415992
          ],
          [
           -2.47594214494315,
           -4.00282945160093
          ],
          [
           -2.5100924166123995,
           -4.02305835211258
          ],
          [
           -2.598418981418609,
           -4.090457170554403
          ],
          [
           -2.735356184655697,
           -4.186256513566518
          ],
          [
           -2.836317087832255,
           -4.274554947932345
          ],
          [
           -2.90294112603371,
           -4.330405960264751
          ],
          [
           -2.9702673799959887,
           -4.408168650069457
          ],
          [
           -3.029803924523222,
           -4.502900025306305
          ],
          [
           -3.1044120356009466,
           -4.572477433066651
          ],
          [
           -3.097279162239671,
           -4.594571744162196
          ],
          [
           -3.123209414129257,
           -4.623807448480146
          ],
          [
           -3.105560554539134,
           -4.6675905171455625
          ],
          [
           -3.1161069253958953,
           -4.758569064062897
          ],
          [
           -3.11421269432254,
           -4.869280520261523
          ],
          [
           -3.172886743913998,
           -5.000969987284681
          ],
          [
           -3.2430604906821925,
           -5.106893422275798
          ],
          [
           -3.3473835295817853,
           -5.267987578213918
          ],
          [
           -3.410717920766097,
           -5.369214080649613
          ],
          [
           -3.449248979093757,
           -5.482649556398986
          ],
          [
           -3.411699462192107,
           -5.567437118515261
          ],
          [
           -3.356504028242057,
           -5.664140316623022
          ],
          [
           -3.231650697485934,
           -5.741166696194552
          ],
          [
           -3.0950393204684135,
           -5.78251790154012
          ],
          [
           -3.014179573645209,
           -5.868613182301838
          ],
          [
           -2.9518471653218703,
           -5.976079157129992
          ],
          [
           -2.8457028358148895,
           -6.041986565612685
          ],
          [
           -2.6996391490227967,
           -6.0845239326501215
          ],
          [
           -2.547502757942357,
           -6.126953476766839
          ],
          [
           -2.4092733417630257,
           -6.1936333298419
          ],
          [
           -2.282336485234365,
           -6.297841973556762
          ],
          [
           -2.1831555921492214,
           -6.418324054791921
          ],
          [
           -2.09880433337246,
           -6.493260018364476
          ],
          [
           -2.040059837905914,
           -6.5781581232229325
          ],
          [
           -2.0241607477746704,
           -6.6473015824638
          ],
          [
           -2.0079471602543113,
           -6.6874444009392855
          ],
          [
           -1.9846190313882217,
           -6.760364534102387
          ],
          [
           -1.9908995830332805,
           -6.882200201351082
          ],
          [
           -1.9813844990981508,
           -6.987240045435188
          ],
          [
           -1.9717874974348162,
           -7.126029745901799
          ],
          [
           -2.0013916790283774,
           -7.285632634600821
          ],
          [
           -1.9777708217398169,
           -7.385300246778106
          ],
          [
           -1.9123257658811368,
           -7.44684069214621
          ],
          [
           -1.8327324134488832,
           -7.581090745839238
          ],
          [
           -1.7918444496583863,
           -7.686405330198413
          ],
          [
           -1.737720608364577,
           -7.744183861103316
          ],
          [
           -1.6751986443773277,
           -7.768240150595281
          ],
          [
           -1.5911348557375067,
           -7.769086682580762
          ],
          [
           -1.4881330499823637,
           -7.768112058751269
          ],
          [
           -1.3966902378308912,
           -7.768472223314152
          ],
          [
           -1.3245266719276645,
           -7.7558426083597904
          ],
          [
           -1.2810767780388073,
           -7.75889886857818
          ],
          [
           -1.2391313241865136,
           -7.752187654545117
          ],
          [
           -1.20262382587511,
           -7.78234113048565
          ],
          [
           -1.1861838378467169,
           -7.7817002047156665
          ],
          [
           -1.1560936362396281,
           -7.797472348295436
          ],
          [
           -1.1279469702723577,
           -7.819210658900083
          ],
          [
           -1.0857539749111136,
           -7.83596239506439
          ],
          [
           -1.0434627547716824,
           -7.8410511912367635
          ],
          [
           -1.013576410282247,
           -7.841061106618837
          ],
          [
           -1.0124653367765892,
           -7.832600027301094
          ],
          [
           -1.021100501863052,
           -7.7801372581948405
          ],
          [
           -1.0325423808937615,
           -7.694711780284477
          ],
          [
           -1.041949319302563,
           -7.621571257127702
          ],
          [
           -1.0356890706194846,
           -7.572451123427148
          ],
          [
           -1.0183131818770226,
           -7.539657350470893
          ],
          [
           -0.9904375311702684,
           -7.519705386663834
          ],
          [
           -0.9602071268064365,
           -7.509822241533029
          ],
          [
           -0.9232688865451816,
           -7.49225627586541
          ],
          [
           -0.8983093344355418,
           -7.473269996704073
          ],
          [
           -0.8738840339362981,
           -7.455643173785608
          ],
          [
           -0.8650902939490499,
           -7.460117049241061
          ],
          [
           -0.8796792593416868,
           -7.470084484528844
          ],
          [
           -0.8830235495251072,
           -7.467003835820344
          ],
          [
           -0.903230159469923,
           -7.438112226376894
          ],
          [
           -0.8999148149077725,
           -7.403460493296187
          ],
          [
           -0.8640487485873956,
           -7.3176577353701235
          ],
          [
           -0.8312768207106751,
           -7.2388585235640805
          ],
          [
           -0.828329507946163,
           -7.162120165242435
          ],
          [
           -0.8671370777788756,
           -7.117912247179385
          ],
          [
           -0.9108799203194474,
           -7.060267563201649
          ],
          [
           -0.9537200392222218,
           -7.018180384515473
          ],
          [
           -0.9643568529303892,
           -6.965360371376593
          ],
          [
           -0.9364980624947015,
           -6.940219346082857
          ],
          [
           -0.8948561072241086,
           -6.930403165449906
          ],
          [
           -0.8635360946737858,
           -6.929363564006672
          ],
          [
           -0.8415908518659888,
           -6.9066086503060005
          ],
          [
           -0.8137884660238655,
           -6.873103181773844
          ],
          [
           -0.7948761033417208,
           -6.834345832018463
          ],
          [
           -0.7934478132121878,
           -6.82242577755554
          ],
          [
           -0.791481339315108,
           -6.813780813707659
          ],
          [
           -0.7983177255180967,
           -6.821169712758033
          ],
          [
           -0.8247709442971153,
           -6.845287129294384
          ],
          [
           -0.832875807102059,
           -6.8779835293629805
          ],
          [
           -0.8335696074863412,
           -6.891175343962207
          ],
          [
           -0.8434636039924581,
           -6.893640879059603
          ],
          [
           -0.8624174767083372,
           -6.884765021304996
          ],
          [
           -0.8726299560542683,
           -6.8844882748130605
          ],
          [
           -0.8685707290770959,
           -6.863463908627464
          ],
          [
           -0.8883403168630232,
           -6.859551506272903
          ],
          [
           -0.9203815108247266,
           -6.85732081422596
          ],
          [
           -0.9787615457555328,
           -6.868530173355804
          ],
          [
           -1.0563357273827805,
           -6.860692787537048
          ],
          [
           -1.1370324296195147,
           -6.868653847549368
          ],
          [
           -1.195138778292071,
           -6.85437601374531
          ],
          [
           -1.202974175998419,
           -6.817873195196131
          ],
          [
           -1.169131393764858,
           -6.796220882365836
          ],
          [
           -1.132480474571298,
           -6.817106360127001
          ],
          [
           -1.1081368175114055,
           -6.86159618165906
          ],
          [
           -1.0884178614886852,
           -6.902234102450571
          ],
          [
           -1.0802138084204072,
           -6.945675903372951
          ],
          [
           -1.0754449216067312,
           -6.965825633299948
          ],
          [
           -1.0998884394026711,
           -6.9821774482453325
          ],
          [
           -1.161389274511201,
           -7.034498252226777
          ],
          [
           -1.2898770054376039,
           -7.07830507510344
          ],
          [
           -1.455018068745699,
           -7.116887155002158
          ],
          [
           -1.600919528760408,
           -7.155884935708926
          ],
          [
           -1.7808639228580376,
           -7.186958557133811
          ],
          [
           -1.9295003981166108,
           -7.215079398992873
          ],
          [
           -2.0411600505981693,
           -7.226456273220117
          ],
          [
           -2.173509465316768,
           -7.243085469807429
          ],
          [
           -2.321314361448672,
           -7.297598264522819
          ],
          [
           -2.469720816070581,
           -7.305797207683207
          ],
          [
           -2.590579724091741,
           -7.3398746167313735
          ],
          [
           -2.7162643538952476,
           -7.375016544765023
          ],
          [
           -2.793289444847559,
           -7.403579820072567
          ],
          [
           -2.863364482559653,
           -7.427149995569215
          ],
          [
           -2.993130109307048,
           -7.483060135061068
          ],
          [
           -3.161084949467523,
           -7.542373473417916
          ],
          [
           -3.2804712949915396,
           -7.590703409886697
          ],
          [
           -3.383015152394691,
           -7.625557308062155
          ],
          [
           -3.4874932755933123,
           -7.681709660607501
          ],
          [
           -3.5606259695336355,
           -7.734761336875982
          ],
          [
           -3.609798467363745,
           -7.778136884258821
          ],
          [
           -3.6583909929093137,
           -7.799612466660852
          ],
          [
           -3.6724067033971437,
           -7.871160693711115
          ],
          [
           -3.7186287175248927,
           -7.96918888049886
          ],
          [
           -3.732221297386738,
           -8.059894727227942
          ],
          [
           -3.7094183196522255,
           -8.166704260725165
          ],
          [
           -3.688382368524776,
           -8.233452525709074
          ],
          [
           -3.6611097156664387,
           -8.252991531487817
          ],
          [
           -3.6251981762800582,
           -8.241704737784692
          ],
          [
           -3.639446374623888,
           -8.25261906309434
          ],
          [
           -3.6357065211848405,
           -8.250445288333076
          ],
          [
           -3.6221856190301995,
           -8.191277203422285
          ],
          [
           -3.5520417273403213,
           -8.118869439774302
          ],
          [
           -3.4941755156828807,
           -8.050349295641764
          ],
          [
           -3.4326250316394633,
           -7.9942422402874325
          ],
          [
           -3.400061643878377,
           -7.969272504275028
          ],
          [
           -3.3723417184713873,
           -7.947258352778436
          ],
          [
           -3.3376384256770164,
           -7.945422577677185
          ],
          [
           -3.3174076185674037,
           -7.962909468641636
          ],
          [
           -3.3023959779484153,
           -7.937639632639463
          ],
          [
           -3.2779700201895583,
           -7.914360392105887
          ],
          [
           -3.2892947300992796,
           -7.8993487384417955
          ],
          [
           -3.3203847868160965,
           -7.930860752769613
          ],
          [
           -3.3523010435634393,
           -7.970415459229355
          ],
          [
           -3.3777970315073653,
           -7.997566866740921
          ],
          [
           -3.3983031193657,
           -8.013449934284319
          ],
          [
           -3.4254409741819445,
           -8.044981934370128
          ],
          [
           -3.4399083683613676,
           -8.042884657784228
          ],
          [
           -3.4703831197635817,
           -8.024454090360841
          ],
          [
           -3.499121626904179,
           -8.01496171383128
          ],
          [
           -3.5307539023078736,
           -7.999318201014866
          ],
          [
           -3.5519177033629887,
           -7.989784247758387
          ]
         ],
         "hovertemplate": "%{x}<br>Lat. Injected: %{y}<br><br>Baseline=%{customdata[0]:.3f}<br />Lat. Injected=%{customdata[1]:.3f}<extra></extra>",
         "legendgroup": "Lat. Injected",
         "line": {
          "color": "#EF553B",
          "dash": "solid"
         },
         "name": "Lat. Injected",
         "showlegend": false,
         "type": "scatter",
         "x": [
          "2014-03-02T00:00:00",
          "2014-03-03T00:00:00",
          "2014-03-04T00:00:00",
          "2014-03-05T00:00:00",
          "2014-03-06T00:00:00",
          "2014-03-07T00:00:00",
          "2014-03-08T00:00:00",
          "2014-03-09T00:00:00",
          "2014-03-10T00:00:00",
          "2014-03-11T00:00:00",
          "2014-03-12T00:00:00",
          "2014-03-13T00:00:00",
          "2014-03-14T00:00:00",
          "2014-03-15T00:00:00",
          "2014-03-16T00:00:00",
          "2014-03-17T00:00:00",
          "2014-03-18T00:00:00",
          "2014-03-19T00:00:00",
          "2014-03-20T00:00:00",
          "2014-03-21T00:00:00",
          "2014-03-22T00:00:00",
          "2014-03-23T00:00:00",
          "2014-03-24T00:00:00",
          "2014-03-25T00:00:00",
          "2014-03-26T00:00:00",
          "2014-03-27T00:00:00",
          "2014-03-28T00:00:00",
          "2014-03-29T00:00:00",
          "2014-03-30T00:00:00",
          "2014-03-31T00:00:00",
          "2014-04-01T00:00:00",
          "2014-04-02T00:00:00",
          "2014-04-03T00:00:00",
          "2014-04-04T00:00:00",
          "2014-04-05T00:00:00",
          "2014-04-06T00:00:00",
          "2014-04-07T00:00:00",
          "2014-04-08T00:00:00",
          "2014-04-09T00:00:00",
          "2014-04-10T00:00:00",
          "2014-04-11T00:00:00",
          "2014-04-12T00:00:00",
          "2014-04-13T00:00:00",
          "2014-04-14T00:00:00",
          "2014-04-15T00:00:00",
          "2014-04-16T00:00:00",
          "2014-04-17T00:00:00",
          "2014-04-18T00:00:00",
          "2014-04-19T00:00:00",
          "2014-04-20T00:00:00",
          "2014-04-21T00:00:00",
          "2014-04-22T00:00:00",
          "2014-04-23T00:00:00",
          "2014-04-24T00:00:00",
          "2014-04-25T00:00:00",
          "2014-04-26T00:00:00",
          "2014-04-27T00:00:00",
          "2014-04-28T00:00:00",
          "2014-04-29T00:00:00",
          "2014-04-30T00:00:00",
          "2014-05-01T00:00:00",
          "2014-05-02T00:00:00",
          "2014-05-03T00:00:00",
          "2014-05-04T00:00:00",
          "2014-05-05T00:00:00",
          "2014-05-06T00:00:00",
          "2014-05-07T00:00:00",
          "2014-05-08T00:00:00",
          "2014-05-09T00:00:00",
          "2014-05-10T00:00:00",
          "2014-05-11T00:00:00",
          "2014-05-12T00:00:00",
          "2014-05-13T00:00:00",
          "2014-05-14T00:00:00",
          "2014-05-15T00:00:00",
          "2014-05-16T00:00:00",
          "2014-05-17T00:00:00",
          "2014-05-18T00:00:00",
          "2014-05-19T00:00:00",
          "2014-05-20T00:00:00",
          "2014-05-21T00:00:00",
          "2014-05-22T00:00:00",
          "2014-05-23T00:00:00",
          "2014-05-24T00:00:00",
          "2014-05-25T00:00:00",
          "2014-05-26T00:00:00",
          "2014-05-27T00:00:00",
          "2014-05-28T00:00:00",
          "2014-05-29T00:00:00",
          "2014-05-30T00:00:00",
          "2014-05-31T00:00:00",
          "2014-06-01T00:00:00",
          "2014-06-02T00:00:00",
          "2014-06-03T00:00:00",
          "2014-06-04T00:00:00",
          "2014-06-05T00:00:00",
          "2014-06-06T00:00:00",
          "2014-06-07T00:00:00",
          "2014-06-08T00:00:00",
          "2014-06-09T00:00:00",
          "2014-06-10T00:00:00",
          "2014-06-11T00:00:00",
          "2014-06-12T00:00:00",
          "2014-06-13T00:00:00",
          "2014-06-14T00:00:00",
          "2014-06-15T00:00:00",
          "2014-06-16T00:00:00",
          "2014-06-17T00:00:00",
          "2014-06-18T00:00:00",
          "2014-06-19T00:00:00",
          "2014-06-20T00:00:00",
          "2014-06-21T00:00:00",
          "2014-06-22T00:00:00",
          "2014-06-23T00:00:00",
          "2014-06-24T00:00:00",
          "2014-06-25T00:00:00",
          "2014-06-26T00:00:00",
          "2014-06-27T00:00:00",
          "2014-06-28T00:00:00",
          "2014-06-29T00:00:00",
          "2014-06-30T00:00:00",
          "2014-07-01T00:00:00",
          "2014-07-02T00:00:00",
          "2014-07-03T00:00:00",
          "2014-07-04T00:00:00",
          "2014-07-05T00:00:00",
          "2014-07-06T00:00:00",
          "2014-07-07T00:00:00",
          "2014-07-08T00:00:00",
          "2014-07-09T00:00:00",
          "2014-07-10T00:00:00",
          "2014-07-11T00:00:00",
          "2014-07-12T00:00:00",
          "2014-07-13T00:00:00",
          "2014-07-14T00:00:00",
          "2014-07-15T00:00:00",
          "2014-07-16T00:00:00",
          "2014-07-17T00:00:00",
          "2014-07-18T00:00:00",
          "2014-07-19T00:00:00",
          "2014-07-20T00:00:00",
          "2014-07-21T00:00:00",
          "2014-07-22T00:00:00",
          "2014-07-23T00:00:00",
          "2014-07-24T00:00:00",
          "2014-07-25T00:00:00",
          "2014-07-26T00:00:00",
          "2014-07-27T00:00:00",
          "2014-07-28T00:00:00",
          "2014-07-29T00:00:00",
          "2014-07-30T00:00:00",
          "2014-07-31T00:00:00",
          "2014-08-01T00:00:00",
          "2014-08-02T00:00:00",
          "2014-08-03T00:00:00",
          "2014-08-04T00:00:00",
          "2014-08-05T00:00:00",
          "2014-08-06T00:00:00",
          "2014-08-07T00:00:00",
          "2014-08-08T00:00:00",
          "2014-08-09T00:00:00",
          "2014-08-10T00:00:00",
          "2014-08-11T00:00:00",
          "2014-08-12T00:00:00",
          "2014-08-13T00:00:00",
          "2014-08-14T00:00:00",
          "2014-08-15T00:00:00",
          "2014-08-16T00:00:00",
          "2014-08-17T00:00:00",
          "2014-08-18T00:00:00",
          "2014-08-19T00:00:00",
          "2014-08-20T00:00:00",
          "2014-08-21T00:00:00",
          "2014-08-22T00:00:00",
          "2014-08-23T00:00:00",
          "2014-08-24T00:00:00",
          "2014-08-25T00:00:00",
          "2014-08-26T00:00:00",
          "2014-08-27T00:00:00",
          "2014-08-28T00:00:00",
          "2014-08-29T00:00:00",
          "2014-08-30T00:00:00",
          "2014-08-31T00:00:00",
          "2014-09-01T00:00:00",
          "2014-09-02T00:00:00",
          "2014-09-03T00:00:00",
          "2014-09-04T00:00:00",
          "2014-09-05T00:00:00",
          "2014-09-06T00:00:00",
          "2014-09-07T00:00:00",
          "2014-09-08T00:00:00",
          "2014-09-09T00:00:00",
          "2014-09-10T00:00:00",
          "2014-09-11T00:00:00",
          "2014-09-12T00:00:00",
          "2014-09-13T00:00:00",
          "2014-09-14T00:00:00",
          "2014-09-15T00:00:00",
          "2014-09-16T00:00:00",
          "2014-09-17T00:00:00",
          "2014-09-18T00:00:00",
          "2014-09-19T00:00:00",
          "2014-09-20T00:00:00",
          "2014-09-21T00:00:00",
          "2014-09-22T00:00:00",
          "2014-09-23T00:00:00",
          "2014-09-24T00:00:00",
          "2014-09-25T00:00:00",
          "2014-09-26T00:00:00",
          "2014-09-27T00:00:00",
          "2014-09-28T00:00:00",
          "2014-09-29T00:00:00",
          "2014-09-30T00:00:00",
          "2014-10-01T00:00:00",
          "2014-10-02T00:00:00",
          "2014-10-03T00:00:00",
          "2014-10-04T00:00:00",
          "2014-10-05T00:00:00",
          "2014-10-06T00:00:00",
          "2014-10-07T00:00:00",
          "2014-10-08T00:00:00",
          "2014-10-09T00:00:00",
          "2014-10-10T00:00:00",
          "2014-10-11T00:00:00",
          "2014-10-12T00:00:00",
          "2014-10-13T00:00:00",
          "2014-10-14T00:00:00",
          "2014-10-15T00:00:00",
          "2014-10-16T00:00:00",
          "2014-10-17T00:00:00",
          "2014-10-18T00:00:00",
          "2014-10-19T00:00:00",
          "2014-10-20T00:00:00",
          "2014-10-21T00:00:00",
          "2014-10-22T00:00:00",
          "2014-10-23T00:00:00",
          "2014-10-24T00:00:00",
          "2014-10-25T00:00:00",
          "2014-10-26T00:00:00",
          "2014-10-27T00:00:00",
          "2014-10-28T00:00:00",
          "2014-10-29T00:00:00",
          "2014-10-30T00:00:00",
          "2014-10-31T00:00:00",
          "2014-11-01T00:00:00",
          "2014-11-02T00:00:00",
          "2014-11-03T00:00:00",
          "2014-11-04T00:00:00",
          "2014-11-05T00:00:00",
          "2014-11-06T00:00:00",
          "2014-11-07T00:00:00",
          "2014-11-08T00:00:00",
          "2014-11-09T00:00:00",
          "2014-11-10T00:00:00",
          "2014-11-11T00:00:00",
          "2014-11-12T00:00:00",
          "2014-11-13T00:00:00",
          "2014-11-14T00:00:00",
          "2014-11-15T00:00:00",
          "2014-11-16T00:00:00",
          "2014-11-17T00:00:00",
          "2014-11-18T00:00:00",
          "2014-11-19T00:00:00",
          "2014-11-20T00:00:00",
          "2014-11-21T00:00:00",
          "2014-11-22T00:00:00",
          "2014-11-23T00:00:00",
          "2014-11-24T00:00:00",
          "2014-11-25T00:00:00",
          "2014-11-26T00:00:00",
          "2014-11-27T00:00:00",
          "2014-11-28T00:00:00",
          "2014-11-29T00:00:00",
          "2014-11-30T00:00:00",
          "2014-12-01T00:00:00",
          "2014-12-02T00:00:00",
          "2014-12-03T00:00:00",
          "2014-12-04T00:00:00",
          "2014-12-05T00:00:00",
          "2014-12-06T00:00:00",
          "2014-12-07T00:00:00",
          "2014-12-08T00:00:00",
          "2014-12-09T00:00:00",
          "2014-12-10T00:00:00",
          "2014-12-11T00:00:00",
          "2014-12-12T00:00:00",
          "2014-12-13T00:00:00",
          "2014-12-14T00:00:00",
          "2014-12-15T00:00:00",
          "2014-12-16T00:00:00",
          "2014-12-17T00:00:00",
          "2014-12-18T00:00:00",
          "2014-12-19T00:00:00",
          "2014-12-20T00:00:00",
          "2014-12-21T00:00:00",
          "2014-12-22T00:00:00",
          "2014-12-23T00:00:00",
          "2014-12-24T00:00:00",
          "2014-12-25T00:00:00",
          "2014-12-26T00:00:00",
          "2014-12-27T00:00:00",
          "2014-12-28T00:00:00",
          "2014-12-29T00:00:00",
          "2014-12-30T00:00:00",
          "2014-12-31T00:00:00",
          "2015-01-01T00:00:00",
          "2015-01-02T00:00:00",
          "2015-01-03T00:00:00",
          "2015-01-04T00:00:00",
          "2015-01-05T00:00:00",
          "2015-01-06T00:00:00",
          "2015-01-07T00:00:00",
          "2015-01-08T00:00:00",
          "2015-01-09T00:00:00",
          "2015-01-10T00:00:00",
          "2015-01-11T00:00:00",
          "2015-01-12T00:00:00",
          "2015-01-13T00:00:00",
          "2015-01-14T00:00:00",
          "2015-01-15T00:00:00",
          "2015-01-16T00:00:00",
          "2015-01-17T00:00:00",
          "2015-01-18T00:00:00",
          "2015-01-19T00:00:00",
          "2015-01-20T00:00:00",
          "2015-01-21T00:00:00",
          "2015-01-22T00:00:00",
          "2015-01-23T00:00:00",
          "2015-01-24T00:00:00",
          "2015-01-25T00:00:00",
          "2015-01-26T00:00:00",
          "2015-01-27T00:00:00",
          "2015-01-28T00:00:00",
          "2015-01-29T00:00:00",
          "2015-01-30T00:00:00",
          "2015-01-31T00:00:00"
         ],
         "xaxis": "x2",
         "y": [
          -0.19088881373631797,
          -0.17256074989744394,
          -0.13151895520577245,
          -0.11861950016721455,
          -0.1011947023772894,
          -0.07522865475807622,
          -0.054299399317403116,
          -0.04963147149373532,
          -0.04702756794740084,
          -0.03351142939232494,
          -0.015995539218107445,
          0.003806631448933552,
          0.03204344322917207,
          0.04102431167476816,
          0.028213852773394853,
          0.013914747891564105,
          0.0010359271725134452,
          -0.007322351558800557,
          -0.04971472579654754,
          -0.08929892910417513,
          -0.17995801072338358,
          -0.27809611276840096,
          -0.3114328042439178,
          -0.3186968847683889,
          -0.3176882002421899,
          -0.2976498682633289,
          -0.2607799140843475,
          -0.23308550931487443,
          -0.23243601717699575,
          -0.23043445514811617,
          -0.20492035029020592,
          -0.18804961279672672,
          -0.1719571956980408,
          -0.15327951749108554,
          -0.1567818222912414,
          -0.17515222380617038,
          -0.2135718721270857,
          -0.21746075251594765,
          -0.22832697911685473,
          -0.2633020498684997,
          -0.3014686286433474,
          -0.38595207349984567,
          -0.45060364932123104,
          -0.45505772327444205,
          -0.4093046593565997,
          -0.3634786868598024,
          -0.35507873808924856,
          -0.39043971107887704,
          -0.414136504519196,
          -0.4250711205842168,
          -0.48362934055585416,
          -0.482300550997339,
          -0.46298066733144055,
          -0.5005022584901615,
          -0.5133810762850262,
          -0.5516559865470256,
          -0.6005873315300841,
          -0.5891282155189775,
          -0.5281293972003667,
          -0.4508300643542688,
          -0.394495346756317,
          -0.34726984714245623,
          -0.30951710070942023,
          -0.2850473098727522,
          -0.25963828660791505,
          -0.1996091457175008,
          -0.1528938090004255,
          -0.09041682976991233,
          -0.06808805815762604,
          -0.04306562923353084,
          -0.021517892042001406,
          -0.005340926470836575,
          -0.0009705277204757184,
          -0.013285593691153652,
          -0.027678868646274887,
          -0.07954612212534781,
          -0.14503001940936733,
          -0.21832693291558822,
          -0.2779409573225249,
          -0.31446935180156005,
          -0.3439715621469133,
          -0.3529972786958267,
          -0.3528076838072003,
          -0.35127137936820574,
          -0.3766821806488085,
          -0.4449072663061667,
          -0.4644852675567485,
          -0.46563245264709235,
          -0.5038145389849484,
          -0.5568308429627632,
          -0.636281071632388,
          -0.6892893119819322,
          -0.6698782325874847,
          -0.6438748094137923,
          -0.6127626661717175,
          -0.6036995316360787,
          -0.6439833599221783,
          -0.671125999165016,
          -0.7183954912603373,
          -0.7973107360591187,
          -0.8458364695698285,
          -0.9152646939181129,
          -0.9969048688878536,
          -1.135525834299261,
          -1.284920085534366,
          -1.3896323289376795,
          -1.4781516677846538,
          -1.5337358008837039,
          -1.5663605103887197,
          -1.604016193552317,
          -1.6771862563427966,
          -1.7441135012205713,
          -1.792957636063255,
          -1.8585510409021193,
          -1.908937264868131,
          -1.9562921173417833,
          -2.027678426663119,
          -2.1267737704467056,
          -2.2420912302203466,
          -2.3865850895046212,
          -2.579395166697331,
          -2.6874443687355414,
          -2.7458324057472083,
          -2.8872636680105574,
          -2.9807538209798037,
          -3.0964348423644825,
          -3.1686032368363506,
          -3.242097197107852,
          -3.2788089714270363,
          -3.30538080523735,
          -3.3418413046557163,
          -3.342677956098029,
          -3.3637626121647553,
          -3.3932638372049038,
          -3.3987831509563557,
          -3.384689307033999,
          -3.3849203943516053,
          -3.3926169991924837,
          -3.428180184458932,
          -3.467672004651875,
          -3.5395242437953756,
          -3.5776255073582606,
          -3.598582770275949,
          -3.5969543221583526,
          -3.5700616327609516,
          -3.545950129950541,
          -3.523347094117509,
          -3.505740549780207,
          -3.4647421435459584,
          -3.4460212709287203,
          -3.447421553100247,
          -3.450568917816533,
          -3.457173525558772,
          -3.4762956410145827,
          -3.477009367686885,
          -3.4954478141763783,
          -3.5055320916723627,
          -3.528727872653067,
          -3.537272834390653,
          -3.555610313013796,
          -3.5795350049497796,
          -3.586529709021992,
          -3.6559687635084117,
          -3.7163898448952635,
          -3.7540349871974588,
          -3.8007264623615735,
          -3.8481304876992217,
          -3.8788265019010177,
          -3.9333981477060496,
          -3.957403014444017,
          -3.9672126847540294,
          -3.989475748415992,
          -4.00282945160093,
          -4.02305835211258,
          -4.090457170554403,
          -4.186256513566518,
          -4.274554947932345,
          -4.330405960264751,
          -4.408168650069457,
          -4.502900025306305,
          -4.572477433066651,
          -4.594571744162196,
          -4.623807448480146,
          -4.6675905171455625,
          -4.758569064062897,
          -4.869280520261523,
          -5.000969987284681,
          -5.106893422275798,
          -5.267987578213918,
          -5.369214080649613,
          -5.482649556398986,
          -5.567437118515261,
          -5.664140316623022,
          -5.741166696194552,
          -5.78251790154012,
          -5.868613182301838,
          -5.976079157129992,
          -6.041986565612685,
          -6.0845239326501215,
          -6.126953476766839,
          -6.1936333298419,
          -6.297841973556762,
          -6.418324054791921,
          -6.493260018364476,
          -6.5781581232229325,
          -6.6473015824638,
          -6.6874444009392855,
          -6.760364534102387,
          -6.882200201351082,
          -6.987240045435188,
          -7.126029745901799,
          -7.285632634600821,
          -7.385300246778106,
          -7.44684069214621,
          -7.581090745839238,
          -7.686405330198413,
          -7.744183861103316,
          -7.768240150595281,
          -7.769086682580762,
          -7.768112058751269,
          -7.768472223314152,
          -7.7558426083597904,
          -7.75889886857818,
          -7.752187654545117,
          -7.78234113048565,
          -7.7817002047156665,
          -7.797472348295436,
          -7.819210658900083,
          -7.83596239506439,
          -7.8410511912367635,
          -7.841061106618837,
          -7.832600027301094,
          -7.7801372581948405,
          -7.694711780284477,
          -7.621571257127702,
          -7.572451123427148,
          -7.539657350470893,
          -7.519705386663834,
          -7.509822241533029,
          -7.49225627586541,
          -7.473269996704073,
          -7.455643173785608,
          -7.460117049241061,
          -7.470084484528844,
          -7.467003835820344,
          -7.438112226376894,
          -7.403460493296187,
          -7.3176577353701235,
          -7.2388585235640805,
          -7.162120165242435,
          -7.117912247179385,
          -7.060267563201649,
          -7.018180384515473,
          -6.965360371376593,
          -6.940219346082857,
          -6.930403165449906,
          -6.929363564006672,
          -6.9066086503060005,
          -6.873103181773844,
          -6.834345832018463,
          -6.82242577755554,
          -6.813780813707659,
          -6.821169712758033,
          -6.845287129294384,
          -6.8779835293629805,
          -6.891175343962207,
          -6.893640879059603,
          -6.884765021304996,
          -6.8844882748130605,
          -6.863463908627464,
          -6.859551506272903,
          -6.85732081422596,
          -6.868530173355804,
          -6.860692787537048,
          -6.868653847549368,
          -6.85437601374531,
          -6.817873195196131,
          -6.796220882365836,
          -6.817106360127001,
          -6.86159618165906,
          -6.902234102450571,
          -6.945675903372951,
          -6.965825633299948,
          -6.9821774482453325,
          -7.034498252226777,
          -7.07830507510344,
          -7.116887155002158,
          -7.155884935708926,
          -7.186958557133811,
          -7.215079398992873,
          -7.226456273220117,
          -7.243085469807429,
          -7.297598264522819,
          -7.305797207683207,
          -7.3398746167313735,
          -7.375016544765023,
          -7.403579820072567,
          -7.427149995569215,
          -7.483060135061068,
          -7.542373473417916,
          -7.590703409886697,
          -7.625557308062155,
          -7.681709660607501,
          -7.734761336875982,
          -7.778136884258821,
          -7.799612466660852,
          -7.871160693711115,
          -7.96918888049886,
          -8.059894727227942,
          -8.166704260725165,
          -8.233452525709074,
          -8.252991531487817,
          -8.241704737784692,
          -8.25261906309434,
          -8.250445288333076,
          -8.191277203422285,
          -8.118869439774302,
          -8.050349295641764,
          -7.9942422402874325,
          -7.969272504275028,
          -7.947258352778436,
          -7.945422577677185,
          -7.962909468641636,
          -7.937639632639463,
          -7.914360392105887,
          -7.8993487384417955,
          -7.930860752769613,
          -7.970415459229355,
          -7.997566866740921,
          -8.013449934284319,
          -8.044981934370128,
          -8.042884657784228,
          -8.024454090360841,
          -8.01496171383128,
          -7.999318201014866,
          -7.989784247758387
         ],
         "yaxis": "y2"
        },
        {
         "connectgaps": false,
         "hoverinfo": "skip",
         "legendgroup": "Baseline",
         "line": {
          "width": 0
         },
         "name": "Baseline",
         "showlegend": false,
         "type": "scatter",
         "x": [
          "2014-03-02T00:00:00",
          "2014-03-03T00:00:00",
          "2014-03-04T00:00:00",
          "2014-03-05T00:00:00",
          "2014-03-06T00:00:00",
          "2014-03-07T00:00:00",
          "2014-03-08T00:00:00",
          "2014-03-09T00:00:00",
          "2014-03-10T00:00:00",
          "2014-03-11T00:00:00",
          "2014-03-12T00:00:00",
          "2014-03-13T00:00:00",
          "2014-03-14T00:00:00",
          "2014-03-15T00:00:00",
          "2014-03-16T00:00:00",
          "2014-03-17T00:00:00",
          "2014-03-18T00:00:00",
          "2014-03-19T00:00:00",
          "2014-03-20T00:00:00",
          "2014-03-21T00:00:00",
          "2014-03-22T00:00:00",
          "2014-03-23T00:00:00",
          "2014-03-24T00:00:00",
          "2014-03-25T00:00:00",
          "2014-03-26T00:00:00",
          "2014-03-27T00:00:00",
          "2014-03-28T00:00:00",
          "2014-03-29T00:00:00",
          "2014-03-30T00:00:00",
          "2014-03-31T00:00:00",
          "2014-04-01T00:00:00",
          "2014-04-02T00:00:00",
          "2014-04-03T00:00:00",
          "2014-04-04T00:00:00",
          "2014-04-05T00:00:00",
          "2014-04-06T00:00:00",
          "2014-04-07T00:00:00",
          "2014-04-08T00:00:00",
          "2014-04-09T00:00:00",
          "2014-04-10T00:00:00",
          "2014-04-11T00:00:00",
          "2014-04-12T00:00:00",
          "2014-04-13T00:00:00",
          "2014-04-14T00:00:00",
          "2014-04-15T00:00:00",
          "2014-04-16T00:00:00",
          "2014-04-17T00:00:00",
          "2014-04-18T00:00:00",
          "2014-04-19T00:00:00",
          "2014-04-20T00:00:00",
          "2014-04-21T00:00:00",
          "2014-04-22T00:00:00",
          "2014-04-23T00:00:00",
          "2014-04-24T00:00:00",
          "2014-04-25T00:00:00",
          "2014-04-26T00:00:00",
          "2014-04-27T00:00:00",
          "2014-04-28T00:00:00",
          "2014-04-29T00:00:00",
          "2014-04-30T00:00:00",
          "2014-05-01T00:00:00",
          "2014-05-02T00:00:00",
          "2014-05-03T00:00:00",
          "2014-05-04T00:00:00",
          "2014-05-05T00:00:00",
          "2014-05-06T00:00:00",
          "2014-05-07T00:00:00",
          "2014-05-08T00:00:00",
          "2014-05-09T00:00:00",
          "2014-05-10T00:00:00",
          "2014-05-11T00:00:00",
          "2014-05-12T00:00:00",
          "2014-05-13T00:00:00",
          "2014-05-14T00:00:00",
          "2014-05-15T00:00:00",
          "2014-05-16T00:00:00",
          "2014-05-17T00:00:00",
          "2014-05-18T00:00:00",
          "2014-05-19T00:00:00",
          "2014-05-20T00:00:00",
          "2014-05-21T00:00:00",
          "2014-05-22T00:00:00",
          "2014-05-23T00:00:00",
          "2014-05-24T00:00:00",
          "2014-05-25T00:00:00",
          "2014-05-26T00:00:00",
          "2014-05-27T00:00:00",
          "2014-05-28T00:00:00",
          "2014-05-29T00:00:00",
          "2014-05-30T00:00:00",
          "2014-05-31T00:00:00",
          "2014-06-01T00:00:00",
          "2014-06-02T00:00:00",
          "2014-06-03T00:00:00",
          "2014-06-04T00:00:00",
          "2014-06-05T00:00:00",
          "2014-06-06T00:00:00",
          "2014-06-07T00:00:00",
          "2014-06-08T00:00:00",
          "2014-06-09T00:00:00",
          "2014-06-10T00:00:00",
          "2014-06-11T00:00:00",
          "2014-06-12T00:00:00",
          "2014-06-13T00:00:00",
          "2014-06-14T00:00:00",
          "2014-06-15T00:00:00",
          "2014-06-16T00:00:00",
          "2014-06-17T00:00:00",
          "2014-06-18T00:00:00",
          "2014-06-19T00:00:00",
          "2014-06-20T00:00:00",
          "2014-06-21T00:00:00",
          "2014-06-22T00:00:00",
          "2014-06-23T00:00:00",
          "2014-06-24T00:00:00",
          "2014-06-25T00:00:00",
          "2014-06-26T00:00:00",
          "2014-06-27T00:00:00",
          "2014-06-28T00:00:00",
          "2014-06-29T00:00:00",
          "2014-06-30T00:00:00",
          "2014-07-01T00:00:00",
          "2014-07-02T00:00:00",
          "2014-07-03T00:00:00",
          "2014-07-04T00:00:00",
          "2014-07-05T00:00:00",
          "2014-07-06T00:00:00",
          "2014-07-07T00:00:00",
          "2014-07-08T00:00:00",
          "2014-07-09T00:00:00",
          "2014-07-10T00:00:00",
          "2014-07-11T00:00:00",
          "2014-07-12T00:00:00",
          "2014-07-13T00:00:00",
          "2014-07-14T00:00:00",
          "2014-07-15T00:00:00",
          "2014-07-16T00:00:00",
          "2014-07-17T00:00:00",
          "2014-07-18T00:00:00",
          "2014-07-19T00:00:00",
          "2014-07-20T00:00:00",
          "2014-07-21T00:00:00",
          "2014-07-22T00:00:00",
          "2014-07-23T00:00:00",
          "2014-07-24T00:00:00",
          "2014-07-25T00:00:00",
          "2014-07-26T00:00:00",
          "2014-07-27T00:00:00",
          "2014-07-28T00:00:00",
          "2014-07-29T00:00:00",
          "2014-07-30T00:00:00",
          "2014-07-31T00:00:00",
          "2014-08-01T00:00:00",
          "2014-08-02T00:00:00",
          "2014-08-03T00:00:00",
          "2014-08-04T00:00:00",
          "2014-08-05T00:00:00",
          "2014-08-06T00:00:00",
          "2014-08-07T00:00:00",
          "2014-08-08T00:00:00",
          "2014-08-09T00:00:00",
          "2014-08-10T00:00:00",
          "2014-08-11T00:00:00",
          "2014-08-12T00:00:00",
          "2014-08-13T00:00:00",
          "2014-08-14T00:00:00",
          "2014-08-15T00:00:00",
          "2014-08-16T00:00:00",
          "2014-08-17T00:00:00",
          "2014-08-18T00:00:00",
          "2014-08-19T00:00:00",
          "2014-08-20T00:00:00",
          "2014-08-21T00:00:00",
          "2014-08-22T00:00:00",
          "2014-08-23T00:00:00",
          "2014-08-24T00:00:00",
          "2014-08-25T00:00:00",
          "2014-08-26T00:00:00",
          "2014-08-27T00:00:00",
          "2014-08-28T00:00:00",
          "2014-08-29T00:00:00",
          "2014-08-30T00:00:00",
          "2014-08-31T00:00:00",
          "2014-09-01T00:00:00",
          "2014-09-02T00:00:00",
          "2014-09-03T00:00:00",
          "2014-09-04T00:00:00",
          "2014-09-05T00:00:00",
          "2014-09-06T00:00:00",
          "2014-09-07T00:00:00",
          "2014-09-08T00:00:00",
          "2014-09-09T00:00:00",
          "2014-09-10T00:00:00",
          "2014-09-11T00:00:00",
          "2014-09-12T00:00:00",
          "2014-09-13T00:00:00",
          "2014-09-14T00:00:00",
          "2014-09-15T00:00:00",
          "2014-09-16T00:00:00",
          "2014-09-17T00:00:00",
          "2014-09-18T00:00:00",
          "2014-09-19T00:00:00",
          "2014-09-20T00:00:00",
          "2014-09-21T00:00:00",
          "2014-09-22T00:00:00",
          "2014-09-23T00:00:00",
          "2014-09-24T00:00:00",
          "2014-09-25T00:00:00",
          "2014-09-26T00:00:00",
          "2014-09-27T00:00:00",
          "2014-09-28T00:00:00",
          "2014-09-29T00:00:00",
          "2014-09-30T00:00:00",
          "2014-10-01T00:00:00",
          "2014-10-02T00:00:00",
          "2014-10-03T00:00:00",
          "2014-10-04T00:00:00",
          "2014-10-05T00:00:00",
          "2014-10-06T00:00:00",
          "2014-10-07T00:00:00",
          "2014-10-08T00:00:00",
          "2014-10-09T00:00:00",
          "2014-10-10T00:00:00",
          "2014-10-11T00:00:00",
          "2014-10-12T00:00:00",
          "2014-10-13T00:00:00",
          "2014-10-14T00:00:00",
          "2014-10-15T00:00:00",
          "2014-10-16T00:00:00",
          "2014-10-17T00:00:00",
          "2014-10-18T00:00:00",
          "2014-10-19T00:00:00",
          "2014-10-20T00:00:00",
          "2014-10-21T00:00:00",
          "2014-10-22T00:00:00",
          "2014-10-23T00:00:00",
          "2014-10-24T00:00:00",
          "2014-10-25T00:00:00",
          "2014-10-26T00:00:00",
          "2014-10-27T00:00:00",
          "2014-10-28T00:00:00",
          "2014-10-29T00:00:00",
          "2014-10-30T00:00:00",
          "2014-10-31T00:00:00",
          "2014-11-01T00:00:00",
          "2014-11-02T00:00:00",
          "2014-11-03T00:00:00",
          "2014-11-04T00:00:00",
          "2014-11-05T00:00:00",
          "2014-11-06T00:00:00",
          "2014-11-07T00:00:00",
          "2014-11-08T00:00:00",
          "2014-11-09T00:00:00",
          "2014-11-10T00:00:00",
          "2014-11-11T00:00:00",
          "2014-11-12T00:00:00",
          "2014-11-13T00:00:00",
          "2014-11-14T00:00:00",
          "2014-11-15T00:00:00",
          "2014-11-16T00:00:00",
          "2014-11-17T00:00:00",
          "2014-11-18T00:00:00",
          "2014-11-19T00:00:00",
          "2014-11-20T00:00:00",
          "2014-11-21T00:00:00",
          "2014-11-22T00:00:00",
          "2014-11-23T00:00:00",
          "2014-11-24T00:00:00",
          "2014-11-25T00:00:00",
          "2014-11-26T00:00:00",
          "2014-11-27T00:00:00",
          "2014-11-28T00:00:00",
          "2014-11-29T00:00:00",
          "2014-11-30T00:00:00",
          "2014-12-01T00:00:00",
          "2014-12-02T00:00:00",
          "2014-12-03T00:00:00",
          "2014-12-04T00:00:00",
          "2014-12-05T00:00:00",
          "2014-12-06T00:00:00",
          "2014-12-07T00:00:00",
          "2014-12-08T00:00:00",
          "2014-12-09T00:00:00",
          "2014-12-10T00:00:00",
          "2014-12-11T00:00:00",
          "2014-12-12T00:00:00",
          "2014-12-13T00:00:00",
          "2014-12-14T00:00:00",
          "2014-12-15T00:00:00",
          "2014-12-16T00:00:00",
          "2014-12-17T00:00:00",
          "2014-12-18T00:00:00",
          "2014-12-19T00:00:00",
          "2014-12-20T00:00:00",
          "2014-12-21T00:00:00",
          "2014-12-22T00:00:00",
          "2014-12-23T00:00:00",
          "2014-12-24T00:00:00",
          "2014-12-25T00:00:00",
          "2014-12-26T00:00:00",
          "2014-12-27T00:00:00",
          "2014-12-28T00:00:00",
          "2014-12-29T00:00:00",
          "2014-12-30T00:00:00",
          "2014-12-31T00:00:00",
          "2015-01-01T00:00:00",
          "2015-01-02T00:00:00",
          "2015-01-03T00:00:00",
          "2015-01-04T00:00:00",
          "2015-01-05T00:00:00",
          "2015-01-06T00:00:00",
          "2015-01-07T00:00:00",
          "2015-01-08T00:00:00",
          "2015-01-09T00:00:00",
          "2015-01-10T00:00:00",
          "2015-01-11T00:00:00",
          "2015-01-12T00:00:00",
          "2015-01-13T00:00:00",
          "2015-01-14T00:00:00",
          "2015-01-15T00:00:00",
          "2015-01-16T00:00:00",
          "2015-01-17T00:00:00",
          "2015-01-18T00:00:00",
          "2015-01-19T00:00:00",
          "2015-01-20T00:00:00",
          "2015-01-21T00:00:00",
          "2015-01-22T00:00:00",
          "2015-01-23T00:00:00",
          "2015-01-24T00:00:00",
          "2015-01-25T00:00:00",
          "2015-01-26T00:00:00",
          "2015-01-27T00:00:00",
          "2015-01-28T00:00:00",
          "2015-01-29T00:00:00",
          "2015-01-30T00:00:00",
          "2015-01-31T00:00:00"
         ],
         "xaxis": "x",
         "y": [
          0.9213463943896282,
          0.9221863774374478,
          0.9233995807604518,
          0.922575959251491,
          0.9218341353912155,
          0.9223345055929806,
          0.9227790247637073,
          0.9235446206085647,
          0.9237138010481433,
          0.923244205497469,
          0.9231387198959646,
          0.9230030068346972,
          0.9224997111809455,
          0.9226513328959353,
          0.9236210967926819,
          0.9249942092877502,
          0.9260862702528002,
          0.9272797992617231,
          0.9278117166152715,
          0.9283397461650507,
          0.928540099415603,
          0.9282596906769867,
          0.9266955641599827,
          0.9253896125527599,
          0.9244272148897369,
          0.923104998340121,
          0.9223597591269049,
          0.9211303890535828,
          0.9205639051082481,
          0.9201956457853817,
          0.9192485362418238,
          0.9186548859798364,
          0.917959366158186,
          0.9174291932272943,
          0.9173130974147675,
          0.9172238930556272,
          0.9165031178909719,
          0.9162017534139264,
          0.9158529233089573,
          0.916544831810327,
          0.9174733079696532,
          0.917328755102184,
          0.9177152959091122,
          0.9182311112830207,
          0.9192127856093507,
          0.9190029266137839,
          0.9177651496981851,
          0.9163710403931024,
          0.9156717898817637,
          0.9144623704463358,
          0.9134911182362975,
          0.9137447556352718,
          0.9148939210736754,
          0.9156056347804346,
          0.9166619357023734,
          0.9176115404574019,
          0.9188512390216415,
          0.9191020220649428,
          0.919588454825649,
          0.9194639824130919,
          0.9194910556955769,
          0.919449771262164,
          0.9196609612961936,
          0.919951516813335,
          0.9191929796675161,
          0.9197332386754571,
          0.9198014324165686,
          0.921012667112689,
          0.921966693454651,
          0.9222745996344759,
          0.922667577322744,
          0.9229550795874861,
          0.9228407424485908,
          0.9220805047336066,
          0.9216868395101262,
          0.9211938702844193,
          0.9209477186125751,
          0.9214562576343495,
          0.921867734554962,
          0.9218618797153032,
          0.9223974936711955,
          0.9228009528651624,
          0.922753897644975,
          0.9226333996405653,
          0.9227731361130671,
          0.9224131780319756,
          0.9213875381943256,
          0.9211204344220482,
          0.9211028557807064,
          0.9212232790509274,
          0.9214033300268263,
          0.9218911750885151,
          0.921687789371603,
          0.9214985421306355,
          0.921462651630718,
          0.9214668379652504,
          0.9209207250882883,
          0.9204729971229004,
          0.9194028910284101,
          0.9183139407004858,
          0.9179002793994288,
          0.9174475603458462,
          0.9170317556981491,
          0.9175125805335579,
          0.9182844429202648,
          0.9184948640584149,
          0.9192084511732059,
          0.9197738005849888,
          0.9205531541801227,
          0.9209182831743137,
          0.9211661488555888,
          0.9213492734018051,
          0.9213402856469989,
          0.9216543728455849,
          0.9220324558922917,
          0.9221854481476573,
          0.9226350858827084,
          0.922483891979964,
          0.9224999654128285,
          0.921962279399452,
          0.9209677427710306,
          0.920226985014766,
          0.9196154134506764,
          0.9196803244309398,
          0.9195822842395789,
          0.9194762564450567,
          0.9203609600972908,
          0.9204216080353846,
          0.9194108319449567,
          0.9183824113504261,
          0.917358489998521,
          0.9166045958429783,
          0.9159082726001149,
          0.9147346891292378,
          0.9126594604345319,
          0.911648587418799,
          0.9108358290183803,
          0.9099882392855195,
          0.909074306328422,
          0.9081805343641141,
          0.9074624729495578,
          0.9071893675518483,
          0.9067889981697003,
          0.9072941070134732,
          0.9078875351228651,
          0.9083560628261566,
          0.9085905283362427,
          0.9091999132439286,
          0.9093593477399304,
          0.9103896102100187,
          0.9108574751942453,
          0.9117776537429989,
          0.9115109410149815,
          0.9107564580125032,
          0.9103058280005186,
          0.9091566618468225,
          0.9091015862936173,
          0.9090514968011225,
          0.908626595979348,
          0.9095822316308593,
          0.9104098583959018,
          0.9110033840901304,
          0.911417526228708,
          0.9120268891585267,
          0.9120442897254902,
          0.912812309468409,
          0.91368335475195,
          0.9151119788764913,
          0.9152451443785357,
          0.91648147662392,
          0.9164255113743554,
          0.9166290242300548,
          0.9157033039778751,
          0.9149713976529306,
          0.9143261726530899,
          0.9127031916148471,
          0.9113054643052301,
          0.9102390467452501,
          0.9094010397479914,
          0.9096798283290342,
          0.9095417207851102,
          0.908980308648575,
          0.9079872413599779,
          0.9093079110788475,
          0.910814036614064,
          0.9127398157513619,
          0.9151410157666086,
          0.9168611882473443,
          0.9178538965958285,
          0.9187308315353653,
          0.9200374232060833,
          0.9214518136795391,
          0.9217075673056492,
          0.9217705381455842,
          0.9215160824947174,
          0.921648271751755,
          0.9221918891208124,
          0.9223219613890963,
          0.923046627481714,
          0.9227846449669321,
          0.9216577857482984,
          0.9214245414304081,
          0.9218135191439359,
          0.9217776502277539,
          0.9231550633189313,
          0.925156894312252,
          0.9258962169998867,
          0.9270260020271477,
          0.9278292262904908,
          0.9288386889819766,
          0.9298532397439551,
          0.9302585671967941,
          0.9298480408631782,
          0.9294316491641692,
          0.9289957489598326,
          0.929057903177082,
          0.9281138057362017,
          0.9280057399515869,
          0.9278645333461392,
          0.926794707266722,
          0.9262966382934285,
          0.9255677210590044,
          0.9250190393325527,
          0.925199985061916,
          0.9251233274757513,
          0.9238007128157039,
          0.9236134249172377,
          0.9231249522636075,
          0.922943631789118,
          0.922820895917962,
          0.9225443154677293,
          0.922957981405778,
          0.9235451944581332,
          0.9241658572341536,
          0.9249666492540898,
          0.9253052977803962,
          0.9248054913503975,
          0.9245927823921452,
          0.924334994164266,
          0.9235909214734517,
          0.9218159915275265,
          0.9214633675547959,
          0.9215406620574679,
          0.9212291734568878,
          0.9210529408662451,
          0.9209314317661362,
          0.9215745280470096,
          0.921083627711293,
          0.9203317075399278,
          0.9194641409041355,
          0.9192717885758553,
          0.9190904765157945,
          0.9186053753329935,
          0.9177234752770177,
          0.918104864727127,
          0.9183992337797703,
          0.9189025699041365,
          0.9187848336894724,
          0.9191325466149074,
          0.9186620780735427,
          0.9180607383055306,
          0.9177203861527083,
          0.9185308370797677,
          0.9182171010359401,
          0.9180490247490986,
          0.9174436763291673,
          0.9170422558686702,
          0.917060401034171,
          0.9177159486601423,
          0.9184131913165745,
          0.918299812818727,
          0.9185222353803718,
          0.9186350761461369,
          0.9185575845803076,
          0.9184860766086689,
          0.9182565949640212,
          0.9180200293870439,
          0.9180095611830614,
          0.9195100836305236,
          0.9204618246619654,
          0.92165179204779,
          0.9224463048281007,
          0.9227113389148043,
          0.9231475751226872,
          0.9241618566485932,
          0.9249464174887608,
          0.9257807630160751,
          0.9258518882192899,
          0.9263056708215432,
          0.926353762988582,
          0.9267538526972003,
          0.9275666523841428,
          0.9282622231539532,
          0.9277149272338251,
          0.9275810567606024,
          0.9272552693561427,
          0.9266148579543431,
          0.9259047786014142,
          0.925450398533948,
          0.9243790958315579,
          0.9231979854182646,
          0.9235017042589357,
          0.9248300428023778,
          0.9250966054494048,
          0.9253756144390741,
          0.9258269710514161,
          0.9269490876989359,
          0.927871884160844,
          0.9283110272701851,
          0.9274109806775963,
          0.926500812945295,
          0.9259230420112146,
          0.925772318127533,
          0.9253583475577223,
          0.9245952969067438,
          0.9238158583994068,
          0.922707055409732,
          0.9211305292373246,
          0.9200836100453214,
          0.9204713591833837,
          0.9208502991255849,
          0.9215787531134374,
          0.9217164656496354,
          0.9221277224318669,
          0.9230938717191479,
          0.9231027165415397,
          0.9244143026131098,
          0.9252240353144184,
          0.9260270764210454,
          0.9265913985218571,
          0.927211511332023,
          0.9275065390505464,
          0.9277929190838159,
          0.9273958221198022,
          0.9267127046309033,
          0.9267595152447626
         ],
         "yaxis": "y"
        },
        {
         "connectgaps": false,
         "fill": "tonexty",
         "fillcolor": "rgba(0.38823529411764707, 0.43137254901960786, 0.9803921568627451, 0.2)",
         "hoverinfo": "skip",
         "legendgroup": "Baseline",
         "line": {
          "width": 0
         },
         "name": "Baseline",
         "showlegend": false,
         "type": "scatter",
         "x": [
          "2014-03-02T00:00:00",
          "2014-03-03T00:00:00",
          "2014-03-04T00:00:00",
          "2014-03-05T00:00:00",
          "2014-03-06T00:00:00",
          "2014-03-07T00:00:00",
          "2014-03-08T00:00:00",
          "2014-03-09T00:00:00",
          "2014-03-10T00:00:00",
          "2014-03-11T00:00:00",
          "2014-03-12T00:00:00",
          "2014-03-13T00:00:00",
          "2014-03-14T00:00:00",
          "2014-03-15T00:00:00",
          "2014-03-16T00:00:00",
          "2014-03-17T00:00:00",
          "2014-03-18T00:00:00",
          "2014-03-19T00:00:00",
          "2014-03-20T00:00:00",
          "2014-03-21T00:00:00",
          "2014-03-22T00:00:00",
          "2014-03-23T00:00:00",
          "2014-03-24T00:00:00",
          "2014-03-25T00:00:00",
          "2014-03-26T00:00:00",
          "2014-03-27T00:00:00",
          "2014-03-28T00:00:00",
          "2014-03-29T00:00:00",
          "2014-03-30T00:00:00",
          "2014-03-31T00:00:00",
          "2014-04-01T00:00:00",
          "2014-04-02T00:00:00",
          "2014-04-03T00:00:00",
          "2014-04-04T00:00:00",
          "2014-04-05T00:00:00",
          "2014-04-06T00:00:00",
          "2014-04-07T00:00:00",
          "2014-04-08T00:00:00",
          "2014-04-09T00:00:00",
          "2014-04-10T00:00:00",
          "2014-04-11T00:00:00",
          "2014-04-12T00:00:00",
          "2014-04-13T00:00:00",
          "2014-04-14T00:00:00",
          "2014-04-15T00:00:00",
          "2014-04-16T00:00:00",
          "2014-04-17T00:00:00",
          "2014-04-18T00:00:00",
          "2014-04-19T00:00:00",
          "2014-04-20T00:00:00",
          "2014-04-21T00:00:00",
          "2014-04-22T00:00:00",
          "2014-04-23T00:00:00",
          "2014-04-24T00:00:00",
          "2014-04-25T00:00:00",
          "2014-04-26T00:00:00",
          "2014-04-27T00:00:00",
          "2014-04-28T00:00:00",
          "2014-04-29T00:00:00",
          "2014-04-30T00:00:00",
          "2014-05-01T00:00:00",
          "2014-05-02T00:00:00",
          "2014-05-03T00:00:00",
          "2014-05-04T00:00:00",
          "2014-05-05T00:00:00",
          "2014-05-06T00:00:00",
          "2014-05-07T00:00:00",
          "2014-05-08T00:00:00",
          "2014-05-09T00:00:00",
          "2014-05-10T00:00:00",
          "2014-05-11T00:00:00",
          "2014-05-12T00:00:00",
          "2014-05-13T00:00:00",
          "2014-05-14T00:00:00",
          "2014-05-15T00:00:00",
          "2014-05-16T00:00:00",
          "2014-05-17T00:00:00",
          "2014-05-18T00:00:00",
          "2014-05-19T00:00:00",
          "2014-05-20T00:00:00",
          "2014-05-21T00:00:00",
          "2014-05-22T00:00:00",
          "2014-05-23T00:00:00",
          "2014-05-24T00:00:00",
          "2014-05-25T00:00:00",
          "2014-05-26T00:00:00",
          "2014-05-27T00:00:00",
          "2014-05-28T00:00:00",
          "2014-05-29T00:00:00",
          "2014-05-30T00:00:00",
          "2014-05-31T00:00:00",
          "2014-06-01T00:00:00",
          "2014-06-02T00:00:00",
          "2014-06-03T00:00:00",
          "2014-06-04T00:00:00",
          "2014-06-05T00:00:00",
          "2014-06-06T00:00:00",
          "2014-06-07T00:00:00",
          "2014-06-08T00:00:00",
          "2014-06-09T00:00:00",
          "2014-06-10T00:00:00",
          "2014-06-11T00:00:00",
          "2014-06-12T00:00:00",
          "2014-06-13T00:00:00",
          "2014-06-14T00:00:00",
          "2014-06-15T00:00:00",
          "2014-06-16T00:00:00",
          "2014-06-17T00:00:00",
          "2014-06-18T00:00:00",
          "2014-06-19T00:00:00",
          "2014-06-20T00:00:00",
          "2014-06-21T00:00:00",
          "2014-06-22T00:00:00",
          "2014-06-23T00:00:00",
          "2014-06-24T00:00:00",
          "2014-06-25T00:00:00",
          "2014-06-26T00:00:00",
          "2014-06-27T00:00:00",
          "2014-06-28T00:00:00",
          "2014-06-29T00:00:00",
          "2014-06-30T00:00:00",
          "2014-07-01T00:00:00",
          "2014-07-02T00:00:00",
          "2014-07-03T00:00:00",
          "2014-07-04T00:00:00",
          "2014-07-05T00:00:00",
          "2014-07-06T00:00:00",
          "2014-07-07T00:00:00",
          "2014-07-08T00:00:00",
          "2014-07-09T00:00:00",
          "2014-07-10T00:00:00",
          "2014-07-11T00:00:00",
          "2014-07-12T00:00:00",
          "2014-07-13T00:00:00",
          "2014-07-14T00:00:00",
          "2014-07-15T00:00:00",
          "2014-07-16T00:00:00",
          "2014-07-17T00:00:00",
          "2014-07-18T00:00:00",
          "2014-07-19T00:00:00",
          "2014-07-20T00:00:00",
          "2014-07-21T00:00:00",
          "2014-07-22T00:00:00",
          "2014-07-23T00:00:00",
          "2014-07-24T00:00:00",
          "2014-07-25T00:00:00",
          "2014-07-26T00:00:00",
          "2014-07-27T00:00:00",
          "2014-07-28T00:00:00",
          "2014-07-29T00:00:00",
          "2014-07-30T00:00:00",
          "2014-07-31T00:00:00",
          "2014-08-01T00:00:00",
          "2014-08-02T00:00:00",
          "2014-08-03T00:00:00",
          "2014-08-04T00:00:00",
          "2014-08-05T00:00:00",
          "2014-08-06T00:00:00",
          "2014-08-07T00:00:00",
          "2014-08-08T00:00:00",
          "2014-08-09T00:00:00",
          "2014-08-10T00:00:00",
          "2014-08-11T00:00:00",
          "2014-08-12T00:00:00",
          "2014-08-13T00:00:00",
          "2014-08-14T00:00:00",
          "2014-08-15T00:00:00",
          "2014-08-16T00:00:00",
          "2014-08-17T00:00:00",
          "2014-08-18T00:00:00",
          "2014-08-19T00:00:00",
          "2014-08-20T00:00:00",
          "2014-08-21T00:00:00",
          "2014-08-22T00:00:00",
          "2014-08-23T00:00:00",
          "2014-08-24T00:00:00",
          "2014-08-25T00:00:00",
          "2014-08-26T00:00:00",
          "2014-08-27T00:00:00",
          "2014-08-28T00:00:00",
          "2014-08-29T00:00:00",
          "2014-08-30T00:00:00",
          "2014-08-31T00:00:00",
          "2014-09-01T00:00:00",
          "2014-09-02T00:00:00",
          "2014-09-03T00:00:00",
          "2014-09-04T00:00:00",
          "2014-09-05T00:00:00",
          "2014-09-06T00:00:00",
          "2014-09-07T00:00:00",
          "2014-09-08T00:00:00",
          "2014-09-09T00:00:00",
          "2014-09-10T00:00:00",
          "2014-09-11T00:00:00",
          "2014-09-12T00:00:00",
          "2014-09-13T00:00:00",
          "2014-09-14T00:00:00",
          "2014-09-15T00:00:00",
          "2014-09-16T00:00:00",
          "2014-09-17T00:00:00",
          "2014-09-18T00:00:00",
          "2014-09-19T00:00:00",
          "2014-09-20T00:00:00",
          "2014-09-21T00:00:00",
          "2014-09-22T00:00:00",
          "2014-09-23T00:00:00",
          "2014-09-24T00:00:00",
          "2014-09-25T00:00:00",
          "2014-09-26T00:00:00",
          "2014-09-27T00:00:00",
          "2014-09-28T00:00:00",
          "2014-09-29T00:00:00",
          "2014-09-30T00:00:00",
          "2014-10-01T00:00:00",
          "2014-10-02T00:00:00",
          "2014-10-03T00:00:00",
          "2014-10-04T00:00:00",
          "2014-10-05T00:00:00",
          "2014-10-06T00:00:00",
          "2014-10-07T00:00:00",
          "2014-10-08T00:00:00",
          "2014-10-09T00:00:00",
          "2014-10-10T00:00:00",
          "2014-10-11T00:00:00",
          "2014-10-12T00:00:00",
          "2014-10-13T00:00:00",
          "2014-10-14T00:00:00",
          "2014-10-15T00:00:00",
          "2014-10-16T00:00:00",
          "2014-10-17T00:00:00",
          "2014-10-18T00:00:00",
          "2014-10-19T00:00:00",
          "2014-10-20T00:00:00",
          "2014-10-21T00:00:00",
          "2014-10-22T00:00:00",
          "2014-10-23T00:00:00",
          "2014-10-24T00:00:00",
          "2014-10-25T00:00:00",
          "2014-10-26T00:00:00",
          "2014-10-27T00:00:00",
          "2014-10-28T00:00:00",
          "2014-10-29T00:00:00",
          "2014-10-30T00:00:00",
          "2014-10-31T00:00:00",
          "2014-11-01T00:00:00",
          "2014-11-02T00:00:00",
          "2014-11-03T00:00:00",
          "2014-11-04T00:00:00",
          "2014-11-05T00:00:00",
          "2014-11-06T00:00:00",
          "2014-11-07T00:00:00",
          "2014-11-08T00:00:00",
          "2014-11-09T00:00:00",
          "2014-11-10T00:00:00",
          "2014-11-11T00:00:00",
          "2014-11-12T00:00:00",
          "2014-11-13T00:00:00",
          "2014-11-14T00:00:00",
          "2014-11-15T00:00:00",
          "2014-11-16T00:00:00",
          "2014-11-17T00:00:00",
          "2014-11-18T00:00:00",
          "2014-11-19T00:00:00",
          "2014-11-20T00:00:00",
          "2014-11-21T00:00:00",
          "2014-11-22T00:00:00",
          "2014-11-23T00:00:00",
          "2014-11-24T00:00:00",
          "2014-11-25T00:00:00",
          "2014-11-26T00:00:00",
          "2014-11-27T00:00:00",
          "2014-11-28T00:00:00",
          "2014-11-29T00:00:00",
          "2014-11-30T00:00:00",
          "2014-12-01T00:00:00",
          "2014-12-02T00:00:00",
          "2014-12-03T00:00:00",
          "2014-12-04T00:00:00",
          "2014-12-05T00:00:00",
          "2014-12-06T00:00:00",
          "2014-12-07T00:00:00",
          "2014-12-08T00:00:00",
          "2014-12-09T00:00:00",
          "2014-12-10T00:00:00",
          "2014-12-11T00:00:00",
          "2014-12-12T00:00:00",
          "2014-12-13T00:00:00",
          "2014-12-14T00:00:00",
          "2014-12-15T00:00:00",
          "2014-12-16T00:00:00",
          "2014-12-17T00:00:00",
          "2014-12-18T00:00:00",
          "2014-12-19T00:00:00",
          "2014-12-20T00:00:00",
          "2014-12-21T00:00:00",
          "2014-12-22T00:00:00",
          "2014-12-23T00:00:00",
          "2014-12-24T00:00:00",
          "2014-12-25T00:00:00",
          "2014-12-26T00:00:00",
          "2014-12-27T00:00:00",
          "2014-12-28T00:00:00",
          "2014-12-29T00:00:00",
          "2014-12-30T00:00:00",
          "2014-12-31T00:00:00",
          "2015-01-01T00:00:00",
          "2015-01-02T00:00:00",
          "2015-01-03T00:00:00",
          "2015-01-04T00:00:00",
          "2015-01-05T00:00:00",
          "2015-01-06T00:00:00",
          "2015-01-07T00:00:00",
          "2015-01-08T00:00:00",
          "2015-01-09T00:00:00",
          "2015-01-10T00:00:00",
          "2015-01-11T00:00:00",
          "2015-01-12T00:00:00",
          "2015-01-13T00:00:00",
          "2015-01-14T00:00:00",
          "2015-01-15T00:00:00",
          "2015-01-16T00:00:00",
          "2015-01-17T00:00:00",
          "2015-01-18T00:00:00",
          "2015-01-19T00:00:00",
          "2015-01-20T00:00:00",
          "2015-01-21T00:00:00",
          "2015-01-22T00:00:00",
          "2015-01-23T00:00:00",
          "2015-01-24T00:00:00",
          "2015-01-25T00:00:00",
          "2015-01-26T00:00:00",
          "2015-01-27T00:00:00",
          "2015-01-28T00:00:00",
          "2015-01-29T00:00:00",
          "2015-01-30T00:00:00",
          "2015-01-31T00:00:00"
         ],
         "xaxis": "x",
         "y": [
          0.9135429247892454,
          0.9149563345703587,
          0.916475315055993,
          0.9154621187450821,
          0.9150669189555573,
          0.9153073913999554,
          0.916031158263454,
          0.9167703857792,
          0.9166020255919015,
          0.916118620043714,
          0.9163651780971848,
          0.9161378192785341,
          0.915754842422468,
          0.9162804986351258,
          0.9174389369949494,
          0.919102228179009,
          0.9200334472458646,
          0.9209542871886593,
          0.9215823451165798,
          0.9221912133830286,
          0.9222862337265612,
          0.9219961452390965,
          0.9207087663683592,
          0.9197495330084295,
          0.9183601468317895,
          0.9162245634664212,
          0.9154439550158787,
          0.914155141079791,
          0.9135528438490381,
          0.9133678025407723,
          0.912358241875558,
          0.9122068888854085,
          0.9119525916859976,
          0.9112228891048422,
          0.9112135050488768,
          0.9110623837409566,
          0.9105417153736953,
          0.9099028895889619,
          0.9092598467502904,
          0.9096879833916062,
          0.9103170467538727,
          0.9097441762013135,
          0.9108612770549165,
          0.9112373869014224,
          0.9118404617658125,
          0.9119209744565125,
          0.9105789817534599,
          0.909053432400543,
          0.9079355562390096,
          0.9074202629383358,
          0.9070047809862822,
          0.9074621327254269,
          0.9083389633334618,
          0.9089462739604312,
          0.9094191252170212,
          0.9099873461129961,
          0.9108341044190995,
          0.9114690100340916,
          0.9120553730625373,
          0.9119024327350901,
          0.9125180067484779,
          0.9126740250987962,
          0.9128865612961361,
          0.9125675679953471,
          0.911916238005272,
          0.9126136211419735,
          0.9126232181313615,
          0.9138938272741344,
          0.9146547045222762,
          0.9151179911136408,
          0.9154232087751776,
          0.9160920194071136,
          0.9161657538794746,
          0.915313041420725,
          0.9145424757348081,
          0.9146448502868537,
          0.9143553645166547,
          0.914943559211182,
          0.9153596140007849,
          0.9152693370813044,
          0.915186496673363,
          0.9158528831434306,
          0.9158542710457548,
          0.9153015002575433,
          0.9155619085374745,
          0.9145290930485174,
          0.9139901535875441,
          0.9138251037640623,
          0.9140521062450002,
          0.9138197331608824,
          0.9140688167404338,
          0.9149105013866637,
          0.9147113250017946,
          0.9151174615842372,
          0.9148928192154421,
          0.9149534028401656,
          0.9141222880634485,
          0.9135733598155553,
          0.912026330512827,
          0.9112201398075611,
          0.9107429220694219,
          0.9102646046394489,
          0.9096126193998691,
          0.910043667452727,
          0.9111043129501545,
          0.9113124036150785,
          0.9118565458550804,
          0.9124685867601148,
          0.913358477552802,
          0.9137476180282722,
          0.913998249009421,
          0.9144581259027675,
          0.9145430509967009,
          0.9150281631592031,
          0.915401909854217,
          0.9159837999957626,
          0.9162760817994023,
          0.9162090995765602,
          0.9160493443912502,
          0.9156126758209994,
          0.9144008070297995,
          0.9138326997169526,
          0.9135159437792121,
          0.9141467740027139,
          0.9140577823121241,
          0.9140244106266455,
          0.9146859503551766,
          0.9147955343162402,
          0.9135985204814763,
          0.9121959308859601,
          0.910908127272851,
          0.9103957632834658,
          0.9091198604700855,
          0.9077300757200164,
          0.9056085189363315,
          0.9043393518562104,
          0.9036933152430735,
          0.9031766152639208,
          0.9025767798321518,
          0.9015542202885564,
          0.900709111394524,
          0.9006289702497762,
          0.9005588345280894,
          0.9009192467249697,
          0.9014553077316261,
          0.9018823768554909,
          0.9022542721926853,
          0.9027265461883094,
          0.9028480551777851,
          0.9034268989522243,
          0.9037269292506768,
          0.904648985546285,
          0.9042519508874285,
          0.9033849953977393,
          0.9022717612096538,
          0.9016782662102327,
          0.9020541227965303,
          0.9013041551219064,
          0.9010080297359657,
          0.9017528186186536,
          0.9030008028736957,
          0.9031346300282859,
          0.904037234550419,
          0.9047094372099789,
          0.9047135749038784,
          0.9061041366864053,
          0.9068493286676125,
          0.9080052203603421,
          0.9082956833066125,
          0.9091631783981855,
          0.9098263942291506,
          0.9099498049126138,
          0.9090030991474436,
          0.9080211050431659,
          0.9073291913112593,
          0.9052321109330447,
          0.9025328479015764,
          0.9018711001486674,
          0.9014448051472262,
          0.9022538039688373,
          0.9025837479099188,
          0.902081331558369,
          0.9009046465203863,
          0.9019392184664131,
          0.9032428659611006,
          0.9054620187027304,
          0.9075300148845475,
          0.9095128681944236,
          0.9104609734992075,
          0.9115563893009893,
          0.91339466572142,
          0.9147635317935743,
          0.9148855389585586,
          0.915356868178529,
          0.9152142481884935,
          0.9154923642573488,
          0.9157934227957574,
          0.91639135331915,
          0.9172529308045494,
          0.9172222688059861,
          0.9156489753376548,
          0.9156105711020099,
          0.9160038901459439,
          0.9163622453588438,
          0.9175197085820334,
          0.9194585206068098,
          0.9201055269024614,
          0.9209952715625496,
          0.9218908891029067,
          0.9226364929546927,
          0.923586288182884,
          0.9239819117051228,
          0.9236375521858768,
          0.9231916916977639,
          0.9226612146903471,
          0.9226706837821428,
          0.9214877692951675,
          0.9213847382608157,
          0.9214065641874944,
          0.9205730222797037,
          0.9200038177106081,
          0.9191206688560113,
          0.9185033187735725,
          0.9181787183760117,
          0.9185120587583231,
          0.9176381755952621,
          0.9173091971440035,
          0.9171105067606374,
          0.916775244580787,
          0.9169028276031987,
          0.9165550180927844,
          0.9165920865941787,
          0.9169426406817196,
          0.9176369107560549,
          0.9185983429904756,
          0.919041889596239,
          0.9185000199194958,
          0.9178546472095352,
          0.9175829195803499,
          0.9169626011759534,
          0.9156311301892437,
          0.9145797172390577,
          0.9144087299294146,
          0.91443958276837,
          0.9141759121850662,
          0.9143890398444736,
          0.9148727483863025,
          0.914592268065187,
          0.9139065572993854,
          0.9129781331839353,
          0.9128732195162865,
          0.9122580611269442,
          0.9115486351214399,
          0.9109285001674492,
          0.910826321050971,
          0.910913305302008,
          0.9116028717913709,
          0.9116843185320829,
          0.9113621845213371,
          0.9111857007511016,
          0.9111467551350627,
          0.9107895779083349,
          0.9112823470692492,
          0.9110243504170689,
          0.9110252467912672,
          0.9103240479458171,
          0.9093454200924567,
          0.9094071291599004,
          0.9101378217007141,
          0.9112573231024536,
          0.9108677754550314,
          0.9115047107633263,
          0.9117590870502813,
          0.9119958529268325,
          0.911903462221474,
          0.911664650467536,
          0.9114467229466822,
          0.9113503598759245,
          0.9124301421913028,
          0.9137650369367489,
          0.9152330826987866,
          0.9159159999703064,
          0.9167699818379073,
          0.9177879558129738,
          0.9188803338799698,
          0.9191157652913458,
          0.9199157174441774,
          0.9201176805237067,
          0.9200747002054989,
          0.9205302467939123,
          0.9209454459069887,
          0.9216295918136488,
          0.9220836079132123,
          0.9216077366337068,
          0.9215987842498637,
          0.9215587865725587,
          0.9207668149337822,
          0.9198295753004734,
          0.9191274940813198,
          0.9178794484888165,
          0.9167981242439551,
          0.9172037714843261,
          0.9184485102630113,
          0.9186772513983047,
          0.9189733599992987,
          0.9192339346202636,
          0.9203837509135231,
          0.9216992777748196,
          0.9224245012628369,
          0.9209955493155906,
          0.9201024206336397,
          0.9200846141614168,
          0.9197458927033857,
          0.9190126414745453,
          0.918058394237579,
          0.9175350894149747,
          0.916368937023053,
          0.9146806548622717,
          0.9133045007824188,
          0.9138898985669953,
          0.9140690252340009,
          0.9144017731122092,
          0.914668334895494,
          0.9147831063629599,
          0.915674377586009,
          0.916016915508167,
          0.9170467578302761,
          0.9185095814050278,
          0.9197213624930781,
          0.9204836339195349,
          0.9214883709540206,
          0.9221731001459124,
          0.9219985672261723,
          0.9213102649345113,
          0.9210679327057789,
          0.9207681526687018
         ],
         "yaxis": "y"
        },
        {
         "connectgaps": false,
         "hoverinfo": "skip",
         "legendgroup": "Lat. Injected",
         "line": {
          "width": 0
         },
         "name": "Lat. Injected",
         "showlegend": false,
         "type": "scatter",
         "x": [
          "2014-03-02T00:00:00",
          "2014-03-03T00:00:00",
          "2014-03-04T00:00:00",
          "2014-03-05T00:00:00",
          "2014-03-06T00:00:00",
          "2014-03-07T00:00:00",
          "2014-03-08T00:00:00",
          "2014-03-09T00:00:00",
          "2014-03-10T00:00:00",
          "2014-03-11T00:00:00",
          "2014-03-12T00:00:00",
          "2014-03-13T00:00:00",
          "2014-03-14T00:00:00",
          "2014-03-15T00:00:00",
          "2014-03-16T00:00:00",
          "2014-03-17T00:00:00",
          "2014-03-18T00:00:00",
          "2014-03-19T00:00:00",
          "2014-03-20T00:00:00",
          "2014-03-21T00:00:00",
          "2014-03-22T00:00:00",
          "2014-03-23T00:00:00",
          "2014-03-24T00:00:00",
          "2014-03-25T00:00:00",
          "2014-03-26T00:00:00",
          "2014-03-27T00:00:00",
          "2014-03-28T00:00:00",
          "2014-03-29T00:00:00",
          "2014-03-30T00:00:00",
          "2014-03-31T00:00:00",
          "2014-04-01T00:00:00",
          "2014-04-02T00:00:00",
          "2014-04-03T00:00:00",
          "2014-04-04T00:00:00",
          "2014-04-05T00:00:00",
          "2014-04-06T00:00:00",
          "2014-04-07T00:00:00",
          "2014-04-08T00:00:00",
          "2014-04-09T00:00:00",
          "2014-04-10T00:00:00",
          "2014-04-11T00:00:00",
          "2014-04-12T00:00:00",
          "2014-04-13T00:00:00",
          "2014-04-14T00:00:00",
          "2014-04-15T00:00:00",
          "2014-04-16T00:00:00",
          "2014-04-17T00:00:00",
          "2014-04-18T00:00:00",
          "2014-04-19T00:00:00",
          "2014-04-20T00:00:00",
          "2014-04-21T00:00:00",
          "2014-04-22T00:00:00",
          "2014-04-23T00:00:00",
          "2014-04-24T00:00:00",
          "2014-04-25T00:00:00",
          "2014-04-26T00:00:00",
          "2014-04-27T00:00:00",
          "2014-04-28T00:00:00",
          "2014-04-29T00:00:00",
          "2014-04-30T00:00:00",
          "2014-05-01T00:00:00",
          "2014-05-02T00:00:00",
          "2014-05-03T00:00:00",
          "2014-05-04T00:00:00",
          "2014-05-05T00:00:00",
          "2014-05-06T00:00:00",
          "2014-05-07T00:00:00",
          "2014-05-08T00:00:00",
          "2014-05-09T00:00:00",
          "2014-05-10T00:00:00",
          "2014-05-11T00:00:00",
          "2014-05-12T00:00:00",
          "2014-05-13T00:00:00",
          "2014-05-14T00:00:00",
          "2014-05-15T00:00:00",
          "2014-05-16T00:00:00",
          "2014-05-17T00:00:00",
          "2014-05-18T00:00:00",
          "2014-05-19T00:00:00",
          "2014-05-20T00:00:00",
          "2014-05-21T00:00:00",
          "2014-05-22T00:00:00",
          "2014-05-23T00:00:00",
          "2014-05-24T00:00:00",
          "2014-05-25T00:00:00",
          "2014-05-26T00:00:00",
          "2014-05-27T00:00:00",
          "2014-05-28T00:00:00",
          "2014-05-29T00:00:00",
          "2014-05-30T00:00:00",
          "2014-05-31T00:00:00",
          "2014-06-01T00:00:00",
          "2014-06-02T00:00:00",
          "2014-06-03T00:00:00",
          "2014-06-04T00:00:00",
          "2014-06-05T00:00:00",
          "2014-06-06T00:00:00",
          "2014-06-07T00:00:00",
          "2014-06-08T00:00:00",
          "2014-06-09T00:00:00",
          "2014-06-10T00:00:00",
          "2014-06-11T00:00:00",
          "2014-06-12T00:00:00",
          "2014-06-13T00:00:00",
          "2014-06-14T00:00:00",
          "2014-06-15T00:00:00",
          "2014-06-16T00:00:00",
          "2014-06-17T00:00:00",
          "2014-06-18T00:00:00",
          "2014-06-19T00:00:00",
          "2014-06-20T00:00:00",
          "2014-06-21T00:00:00",
          "2014-06-22T00:00:00",
          "2014-06-23T00:00:00",
          "2014-06-24T00:00:00",
          "2014-06-25T00:00:00",
          "2014-06-26T00:00:00",
          "2014-06-27T00:00:00",
          "2014-06-28T00:00:00",
          "2014-06-29T00:00:00",
          "2014-06-30T00:00:00",
          "2014-07-01T00:00:00",
          "2014-07-02T00:00:00",
          "2014-07-03T00:00:00",
          "2014-07-04T00:00:00",
          "2014-07-05T00:00:00",
          "2014-07-06T00:00:00",
          "2014-07-07T00:00:00",
          "2014-07-08T00:00:00",
          "2014-07-09T00:00:00",
          "2014-07-10T00:00:00",
          "2014-07-11T00:00:00",
          "2014-07-12T00:00:00",
          "2014-07-13T00:00:00",
          "2014-07-14T00:00:00",
          "2014-07-15T00:00:00",
          "2014-07-16T00:00:00",
          "2014-07-17T00:00:00",
          "2014-07-18T00:00:00",
          "2014-07-19T00:00:00",
          "2014-07-20T00:00:00",
          "2014-07-21T00:00:00",
          "2014-07-22T00:00:00",
          "2014-07-23T00:00:00",
          "2014-07-24T00:00:00",
          "2014-07-25T00:00:00",
          "2014-07-26T00:00:00",
          "2014-07-27T00:00:00",
          "2014-07-28T00:00:00",
          "2014-07-29T00:00:00",
          "2014-07-30T00:00:00",
          "2014-07-31T00:00:00",
          "2014-08-01T00:00:00",
          "2014-08-02T00:00:00",
          "2014-08-03T00:00:00",
          "2014-08-04T00:00:00",
          "2014-08-05T00:00:00",
          "2014-08-06T00:00:00",
          "2014-08-07T00:00:00",
          "2014-08-08T00:00:00",
          "2014-08-09T00:00:00",
          "2014-08-10T00:00:00",
          "2014-08-11T00:00:00",
          "2014-08-12T00:00:00",
          "2014-08-13T00:00:00",
          "2014-08-14T00:00:00",
          "2014-08-15T00:00:00",
          "2014-08-16T00:00:00",
          "2014-08-17T00:00:00",
          "2014-08-18T00:00:00",
          "2014-08-19T00:00:00",
          "2014-08-20T00:00:00",
          "2014-08-21T00:00:00",
          "2014-08-22T00:00:00",
          "2014-08-23T00:00:00",
          "2014-08-24T00:00:00",
          "2014-08-25T00:00:00",
          "2014-08-26T00:00:00",
          "2014-08-27T00:00:00",
          "2014-08-28T00:00:00",
          "2014-08-29T00:00:00",
          "2014-08-30T00:00:00",
          "2014-08-31T00:00:00",
          "2014-09-01T00:00:00",
          "2014-09-02T00:00:00",
          "2014-09-03T00:00:00",
          "2014-09-04T00:00:00",
          "2014-09-05T00:00:00",
          "2014-09-06T00:00:00",
          "2014-09-07T00:00:00",
          "2014-09-08T00:00:00",
          "2014-09-09T00:00:00",
          "2014-09-10T00:00:00",
          "2014-09-11T00:00:00",
          "2014-09-12T00:00:00",
          "2014-09-13T00:00:00",
          "2014-09-14T00:00:00",
          "2014-09-15T00:00:00",
          "2014-09-16T00:00:00",
          "2014-09-17T00:00:00",
          "2014-09-18T00:00:00",
          "2014-09-19T00:00:00",
          "2014-09-20T00:00:00",
          "2014-09-21T00:00:00",
          "2014-09-22T00:00:00",
          "2014-09-23T00:00:00",
          "2014-09-24T00:00:00",
          "2014-09-25T00:00:00",
          "2014-09-26T00:00:00",
          "2014-09-27T00:00:00",
          "2014-09-28T00:00:00",
          "2014-09-29T00:00:00",
          "2014-09-30T00:00:00",
          "2014-10-01T00:00:00",
          "2014-10-02T00:00:00",
          "2014-10-03T00:00:00",
          "2014-10-04T00:00:00",
          "2014-10-05T00:00:00",
          "2014-10-06T00:00:00",
          "2014-10-07T00:00:00",
          "2014-10-08T00:00:00",
          "2014-10-09T00:00:00",
          "2014-10-10T00:00:00",
          "2014-10-11T00:00:00",
          "2014-10-12T00:00:00",
          "2014-10-13T00:00:00",
          "2014-10-14T00:00:00",
          "2014-10-15T00:00:00",
          "2014-10-16T00:00:00",
          "2014-10-17T00:00:00",
          "2014-10-18T00:00:00",
          "2014-10-19T00:00:00",
          "2014-10-20T00:00:00",
          "2014-10-21T00:00:00",
          "2014-10-22T00:00:00",
          "2014-10-23T00:00:00",
          "2014-10-24T00:00:00",
          "2014-10-25T00:00:00",
          "2014-10-26T00:00:00",
          "2014-10-27T00:00:00",
          "2014-10-28T00:00:00",
          "2014-10-29T00:00:00",
          "2014-10-30T00:00:00",
          "2014-10-31T00:00:00",
          "2014-11-01T00:00:00",
          "2014-11-02T00:00:00",
          "2014-11-03T00:00:00",
          "2014-11-04T00:00:00",
          "2014-11-05T00:00:00",
          "2014-11-06T00:00:00",
          "2014-11-07T00:00:00",
          "2014-11-08T00:00:00",
          "2014-11-09T00:00:00",
          "2014-11-10T00:00:00",
          "2014-11-11T00:00:00",
          "2014-11-12T00:00:00",
          "2014-11-13T00:00:00",
          "2014-11-14T00:00:00",
          "2014-11-15T00:00:00",
          "2014-11-16T00:00:00",
          "2014-11-17T00:00:00",
          "2014-11-18T00:00:00",
          "2014-11-19T00:00:00",
          "2014-11-20T00:00:00",
          "2014-11-21T00:00:00",
          "2014-11-22T00:00:00",
          "2014-11-23T00:00:00",
          "2014-11-24T00:00:00",
          "2014-11-25T00:00:00",
          "2014-11-26T00:00:00",
          "2014-11-27T00:00:00",
          "2014-11-28T00:00:00",
          "2014-11-29T00:00:00",
          "2014-11-30T00:00:00",
          "2014-12-01T00:00:00",
          "2014-12-02T00:00:00",
          "2014-12-03T00:00:00",
          "2014-12-04T00:00:00",
          "2014-12-05T00:00:00",
          "2014-12-06T00:00:00",
          "2014-12-07T00:00:00",
          "2014-12-08T00:00:00",
          "2014-12-09T00:00:00",
          "2014-12-10T00:00:00",
          "2014-12-11T00:00:00",
          "2014-12-12T00:00:00",
          "2014-12-13T00:00:00",
          "2014-12-14T00:00:00",
          "2014-12-15T00:00:00",
          "2014-12-16T00:00:00",
          "2014-12-17T00:00:00",
          "2014-12-18T00:00:00",
          "2014-12-19T00:00:00",
          "2014-12-20T00:00:00",
          "2014-12-21T00:00:00",
          "2014-12-22T00:00:00",
          "2014-12-23T00:00:00",
          "2014-12-24T00:00:00",
          "2014-12-25T00:00:00",
          "2014-12-26T00:00:00",
          "2014-12-27T00:00:00",
          "2014-12-28T00:00:00",
          "2014-12-29T00:00:00",
          "2014-12-30T00:00:00",
          "2014-12-31T00:00:00",
          "2015-01-01T00:00:00",
          "2015-01-02T00:00:00",
          "2015-01-03T00:00:00",
          "2015-01-04T00:00:00",
          "2015-01-05T00:00:00",
          "2015-01-06T00:00:00",
          "2015-01-07T00:00:00",
          "2015-01-08T00:00:00",
          "2015-01-09T00:00:00",
          "2015-01-10T00:00:00",
          "2015-01-11T00:00:00",
          "2015-01-12T00:00:00",
          "2015-01-13T00:00:00",
          "2015-01-14T00:00:00",
          "2015-01-15T00:00:00",
          "2015-01-16T00:00:00",
          "2015-01-17T00:00:00",
          "2015-01-18T00:00:00",
          "2015-01-19T00:00:00",
          "2015-01-20T00:00:00",
          "2015-01-21T00:00:00",
          "2015-01-22T00:00:00",
          "2015-01-23T00:00:00",
          "2015-01-24T00:00:00",
          "2015-01-25T00:00:00",
          "2015-01-26T00:00:00",
          "2015-01-27T00:00:00",
          "2015-01-28T00:00:00",
          "2015-01-29T00:00:00",
          "2015-01-30T00:00:00",
          "2015-01-31T00:00:00"
         ],
         "xaxis": "x",
         "y": [
          0.9208406491314741,
          0.9220128016874963,
          0.9226613219857196,
          0.9224193495205233,
          0.9223093978187478,
          0.9230773290344688,
          0.9234479916521245,
          0.9238665265375194,
          0.9238256643096654,
          0.923920929237445,
          0.9240730202309309,
          0.9232603709691621,
          0.9230263281242604,
          0.9229998752022236,
          0.9239966379935638,
          0.9257580142751279,
          0.9264973055235968,
          0.9271003436881037,
          0.9284246375319517,
          0.9281890400918035,
          0.9286127159211096,
          0.9283610021216115,
          0.9273783946433806,
          0.9258177914219937,
          0.9246483726992155,
          0.9229770165679302,
          0.9221815648655048,
          0.921605654663488,
          0.9206794655101906,
          0.9200999645043528,
          0.9192686749169917,
          0.9190330378954751,
          0.9184639680530113,
          0.917996394241284,
          0.9177719072506183,
          0.9174772718491496,
          0.9167850824422519,
          0.9160171427593718,
          0.915652519498484,
          0.916013033015215,
          0.9165618903456216,
          0.9164867461580624,
          0.9170177803735308,
          0.9176034223418651,
          0.9188848725492776,
          0.9190420764236702,
          0.9180690338479722,
          0.9165051880636476,
          0.9151863720475671,
          0.9145196812968538,
          0.9138844186209353,
          0.9141717037157927,
          0.9150321987006208,
          0.9156518454095554,
          0.9163421173335052,
          0.9170585256099845,
          0.9184747605061689,
          0.9189084176471828,
          0.9193827086559173,
          0.9196708085244143,
          0.9195309200889223,
          0.9196691366099226,
          0.9193919967046383,
          0.9196752014468486,
          0.9193146391380722,
          0.9196958962366755,
          0.9198138520328939,
          0.9206579466592877,
          0.9213716245989046,
          0.9223498400257824,
          0.9226852451479541,
          0.922635205731132,
          0.9230212525387919,
          0.9227018832667265,
          0.9224691164641128,
          0.9217415316853839,
          0.9219653724245794,
          0.9222870648226382,
          0.923160150624466,
          0.9229737496145576,
          0.9234404718969524,
          0.923588578155482,
          0.9234148442762417,
          0.9229179808800089,
          0.9228683030693849,
          0.9223350808544062,
          0.9214917988782905,
          0.9210612787574485,
          0.9206197062399311,
          0.9208140085326458,
          0.9211063588249709,
          0.9216177482166723,
          0.920848548807171,
          0.9201562556494045,
          0.9188662248770884,
          0.9167515124407305,
          0.914015034841207,
          0.9122153599454691,
          0.9097296214641577,
          0.907452506960417,
          0.9064402181230534,
          0.9053038729547472,
          0.903717899335674,
          0.9025322329571069,
          0.9019392078959122,
          0.9011665251729062,
          0.8998486869586458,
          0.8992106706288786,
          0.8984786539568473,
          0.8976811476158837,
          0.8965151276825108,
          0.8958382226897101,
          0.8944636116872275,
          0.8930481504789035,
          0.8921870177281619,
          0.8918663941271772,
          0.8911559333816078,
          0.8896702076129783,
          0.886708871968792,
          0.8848563979459676,
          0.8816258530434227,
          0.8797220157060514,
          0.8779804939236505,
          0.8764628132624219,
          0.8756388808297244,
          0.8749138710518215,
          0.8756166068309092,
          0.8759469379586687,
          0.8753034055104016,
          0.8750871115634198,
          0.8745658149264683,
          0.874407662208471,
          0.8736731104221335,
          0.8727015280451953,
          0.8713323101622176,
          0.8713525264426489,
          0.870427967770789,
          0.8700752040735874,
          0.8691949210099132,
          0.868107151356561,
          0.8676822287714341,
          0.8677188716729923,
          0.8681859888905692,
          0.8689298959234715,
          0.8698820403308869,
          0.8707518510762114,
          0.8709847127677361,
          0.8712050617226781,
          0.8721302632047494,
          0.8729110030869817,
          0.8726364448799833,
          0.8733700173549024,
          0.8730674466119058,
          0.8722131965013927,
          0.8719375737134126,
          0.8710217193707439,
          0.8708801145869113,
          0.8701047677311989,
          0.8703258672473493,
          0.8705816019024017,
          0.8708634552636253,
          0.8710292834066108,
          0.8713102933922189,
          0.8707649722657671,
          0.8706369162907704,
          0.8710988074163903,
          0.8713411345241434,
          0.8715741511792076,
          0.871616220656712,
          0.8725022296037471,
          0.8731883315299283,
          0.8733484364395544,
          0.8725631771183143,
          0.8709031499456226,
          0.8686009893753462,
          0.8663760838588972,
          0.8634863040820097,
          0.8629591131517119,
          0.8620486420495339,
          0.862731509837197,
          0.8626319942246012,
          0.8628163340366428,
          0.862252047836552,
          0.8635676879537769,
          0.8652170251941514,
          0.866291639245713,
          0.8673711297472458,
          0.8681887921528381,
          0.8685051676823388,
          0.8684662921786042,
          0.8685705866291583,
          0.8680226299789129,
          0.8665381036989372,
          0.8644820004597329,
          0.8620284058589212,
          0.8600533435129083,
          0.8589119821603803,
          0.8576434187950422,
          0.8555103108941491,
          0.852467563991324,
          0.8492194783595177,
          0.8467104097105822,
          0.8451567637190923,
          0.8424056082266218,
          0.8410510685786898,
          0.8401686897583149,
          0.838076727035391,
          0.8357021172042413,
          0.8314389484275702,
          0.8280522430990593,
          0.8224962680821903,
          0.8140155405074732,
          0.8068526433923044,
          0.8017412188568555,
          0.7961319246701203,
          0.7913057892367484,
          0.7868332277081903,
          0.7830972467834435,
          0.7814450296474819,
          0.779635787188043,
          0.7780218745218898,
          0.7767913403747517,
          0.7757116494489706,
          0.775312756282377,
          0.774826419019281,
          0.7734843779893198,
          0.7747005965953568,
          0.774092264754786,
          0.7729790162511982,
          0.7710431566977675,
          0.7711054689986534,
          0.7701001612836723,
          0.7698486540699251,
          0.7681934611967607,
          0.7677480596308195,
          0.7668715917316538,
          0.7659152106400053,
          0.7653542276952898,
          0.7624686466157999,
          0.7613578947211359,
          0.7594963245813546,
          0.7579162857629678,
          0.7558799958915955,
          0.7554313282583203,
          0.7552729758262889,
          0.7534091691807191,
          0.752852415646963,
          0.753414517162976,
          0.7543718508002415,
          0.754279850125262,
          0.7551847290505976,
          0.7547668935961074,
          0.7542309283788025,
          0.7536967073732976,
          0.7527628726255828,
          0.752429431802547,
          0.7534226374252769,
          0.752363602853974,
          0.7521338955065411,
          0.7519474659491114,
          0.7516051769506499,
          0.7527647364631376,
          0.7540523878643666,
          0.7554971693774578,
          0.756880771532544,
          0.7580124371334751,
          0.7586381745124382,
          0.7591109659912434,
          0.758350520903198,
          0.7585658842885944,
          0.7584513722507338,
          0.7601406923089801,
          0.7609158278946244,
          0.7617521669472365,
          0.7617702136475936,
          0.7627064876093224,
          0.7613947461256529,
          0.7604078461997311,
          0.7600255786253667,
          0.7587152064225559,
          0.7577281494014038,
          0.7566201947767559,
          0.7549125481028605,
          0.7535903096440533,
          0.7532623675558164,
          0.7529976752310484,
          0.752442321664091,
          0.7517696636739305,
          0.7515804383063331,
          0.7510047796862267,
          0.750819722671751,
          0.7519404354525747,
          0.7522138064201261,
          0.7516007329147835,
          0.7506212840592397,
          0.7493968280396773,
          0.7497676141223886,
          0.7493136164865315,
          0.7496123354958301,
          0.750696620651188,
          0.7502999681339838,
          0.7503441169676257,
          0.7511107626750018,
          0.752066037009694,
          0.752870484747257,
          0.7543822887849856,
          0.7542990324781459,
          0.7569044041078477,
          0.75828349501039,
          0.7606713951932959,
          0.7624429601635676,
          0.7648721144059347,
          0.7684464614626751,
          0.771180700130347,
          0.7726598959230344,
          0.7744396819141737,
          0.7744520741209304,
          0.7737576861644883,
          0.7739481690371176,
          0.7751707281964026,
          0.7761771126943181,
          0.7764818913730741,
          0.7761118273508092,
          0.7748989195603719,
          0.7739576381598612,
          0.7735148807698962,
          0.7740777391050375,
          0.7731238677526664,
          0.7724225954609443,
          0.771923041059442,
          0.7727332130111604,
          0.7734033238371103,
          0.7748972295388028,
          0.7752177200890633,
          0.775844676571776,
          0.7769900442666984
         ],
         "yaxis": "y"
        },
        {
         "connectgaps": false,
         "fill": "tonexty",
         "fillcolor": "rgba(0.9372549019607843, 0.3333333333333333, 0.23137254901960785, 0.2)",
         "hoverinfo": "skip",
         "legendgroup": "Lat. Injected",
         "line": {
          "width": 0
         },
         "name": "Lat. Injected",
         "showlegend": false,
         "type": "scatter",
         "x": [
          "2014-03-02T00:00:00",
          "2014-03-03T00:00:00",
          "2014-03-04T00:00:00",
          "2014-03-05T00:00:00",
          "2014-03-06T00:00:00",
          "2014-03-07T00:00:00",
          "2014-03-08T00:00:00",
          "2014-03-09T00:00:00",
          "2014-03-10T00:00:00",
          "2014-03-11T00:00:00",
          "2014-03-12T00:00:00",
          "2014-03-13T00:00:00",
          "2014-03-14T00:00:00",
          "2014-03-15T00:00:00",
          "2014-03-16T00:00:00",
          "2014-03-17T00:00:00",
          "2014-03-18T00:00:00",
          "2014-03-19T00:00:00",
          "2014-03-20T00:00:00",
          "2014-03-21T00:00:00",
          "2014-03-22T00:00:00",
          "2014-03-23T00:00:00",
          "2014-03-24T00:00:00",
          "2014-03-25T00:00:00",
          "2014-03-26T00:00:00",
          "2014-03-27T00:00:00",
          "2014-03-28T00:00:00",
          "2014-03-29T00:00:00",
          "2014-03-30T00:00:00",
          "2014-03-31T00:00:00",
          "2014-04-01T00:00:00",
          "2014-04-02T00:00:00",
          "2014-04-03T00:00:00",
          "2014-04-04T00:00:00",
          "2014-04-05T00:00:00",
          "2014-04-06T00:00:00",
          "2014-04-07T00:00:00",
          "2014-04-08T00:00:00",
          "2014-04-09T00:00:00",
          "2014-04-10T00:00:00",
          "2014-04-11T00:00:00",
          "2014-04-12T00:00:00",
          "2014-04-13T00:00:00",
          "2014-04-14T00:00:00",
          "2014-04-15T00:00:00",
          "2014-04-16T00:00:00",
          "2014-04-17T00:00:00",
          "2014-04-18T00:00:00",
          "2014-04-19T00:00:00",
          "2014-04-20T00:00:00",
          "2014-04-21T00:00:00",
          "2014-04-22T00:00:00",
          "2014-04-23T00:00:00",
          "2014-04-24T00:00:00",
          "2014-04-25T00:00:00",
          "2014-04-26T00:00:00",
          "2014-04-27T00:00:00",
          "2014-04-28T00:00:00",
          "2014-04-29T00:00:00",
          "2014-04-30T00:00:00",
          "2014-05-01T00:00:00",
          "2014-05-02T00:00:00",
          "2014-05-03T00:00:00",
          "2014-05-04T00:00:00",
          "2014-05-05T00:00:00",
          "2014-05-06T00:00:00",
          "2014-05-07T00:00:00",
          "2014-05-08T00:00:00",
          "2014-05-09T00:00:00",
          "2014-05-10T00:00:00",
          "2014-05-11T00:00:00",
          "2014-05-12T00:00:00",
          "2014-05-13T00:00:00",
          "2014-05-14T00:00:00",
          "2014-05-15T00:00:00",
          "2014-05-16T00:00:00",
          "2014-05-17T00:00:00",
          "2014-05-18T00:00:00",
          "2014-05-19T00:00:00",
          "2014-05-20T00:00:00",
          "2014-05-21T00:00:00",
          "2014-05-22T00:00:00",
          "2014-05-23T00:00:00",
          "2014-05-24T00:00:00",
          "2014-05-25T00:00:00",
          "2014-05-26T00:00:00",
          "2014-05-27T00:00:00",
          "2014-05-28T00:00:00",
          "2014-05-29T00:00:00",
          "2014-05-30T00:00:00",
          "2014-05-31T00:00:00",
          "2014-06-01T00:00:00",
          "2014-06-02T00:00:00",
          "2014-06-03T00:00:00",
          "2014-06-04T00:00:00",
          "2014-06-05T00:00:00",
          "2014-06-06T00:00:00",
          "2014-06-07T00:00:00",
          "2014-06-08T00:00:00",
          "2014-06-09T00:00:00",
          "2014-06-10T00:00:00",
          "2014-06-11T00:00:00",
          "2014-06-12T00:00:00",
          "2014-06-13T00:00:00",
          "2014-06-14T00:00:00",
          "2014-06-15T00:00:00",
          "2014-06-16T00:00:00",
          "2014-06-17T00:00:00",
          "2014-06-18T00:00:00",
          "2014-06-19T00:00:00",
          "2014-06-20T00:00:00",
          "2014-06-21T00:00:00",
          "2014-06-22T00:00:00",
          "2014-06-23T00:00:00",
          "2014-06-24T00:00:00",
          "2014-06-25T00:00:00",
          "2014-06-26T00:00:00",
          "2014-06-27T00:00:00",
          "2014-06-28T00:00:00",
          "2014-06-29T00:00:00",
          "2014-06-30T00:00:00",
          "2014-07-01T00:00:00",
          "2014-07-02T00:00:00",
          "2014-07-03T00:00:00",
          "2014-07-04T00:00:00",
          "2014-07-05T00:00:00",
          "2014-07-06T00:00:00",
          "2014-07-07T00:00:00",
          "2014-07-08T00:00:00",
          "2014-07-09T00:00:00",
          "2014-07-10T00:00:00",
          "2014-07-11T00:00:00",
          "2014-07-12T00:00:00",
          "2014-07-13T00:00:00",
          "2014-07-14T00:00:00",
          "2014-07-15T00:00:00",
          "2014-07-16T00:00:00",
          "2014-07-17T00:00:00",
          "2014-07-18T00:00:00",
          "2014-07-19T00:00:00",
          "2014-07-20T00:00:00",
          "2014-07-21T00:00:00",
          "2014-07-22T00:00:00",
          "2014-07-23T00:00:00",
          "2014-07-24T00:00:00",
          "2014-07-25T00:00:00",
          "2014-07-26T00:00:00",
          "2014-07-27T00:00:00",
          "2014-07-28T00:00:00",
          "2014-07-29T00:00:00",
          "2014-07-30T00:00:00",
          "2014-07-31T00:00:00",
          "2014-08-01T00:00:00",
          "2014-08-02T00:00:00",
          "2014-08-03T00:00:00",
          "2014-08-04T00:00:00",
          "2014-08-05T00:00:00",
          "2014-08-06T00:00:00",
          "2014-08-07T00:00:00",
          "2014-08-08T00:00:00",
          "2014-08-09T00:00:00",
          "2014-08-10T00:00:00",
          "2014-08-11T00:00:00",
          "2014-08-12T00:00:00",
          "2014-08-13T00:00:00",
          "2014-08-14T00:00:00",
          "2014-08-15T00:00:00",
          "2014-08-16T00:00:00",
          "2014-08-17T00:00:00",
          "2014-08-18T00:00:00",
          "2014-08-19T00:00:00",
          "2014-08-20T00:00:00",
          "2014-08-21T00:00:00",
          "2014-08-22T00:00:00",
          "2014-08-23T00:00:00",
          "2014-08-24T00:00:00",
          "2014-08-25T00:00:00",
          "2014-08-26T00:00:00",
          "2014-08-27T00:00:00",
          "2014-08-28T00:00:00",
          "2014-08-29T00:00:00",
          "2014-08-30T00:00:00",
          "2014-08-31T00:00:00",
          "2014-09-01T00:00:00",
          "2014-09-02T00:00:00",
          "2014-09-03T00:00:00",
          "2014-09-04T00:00:00",
          "2014-09-05T00:00:00",
          "2014-09-06T00:00:00",
          "2014-09-07T00:00:00",
          "2014-09-08T00:00:00",
          "2014-09-09T00:00:00",
          "2014-09-10T00:00:00",
          "2014-09-11T00:00:00",
          "2014-09-12T00:00:00",
          "2014-09-13T00:00:00",
          "2014-09-14T00:00:00",
          "2014-09-15T00:00:00",
          "2014-09-16T00:00:00",
          "2014-09-17T00:00:00",
          "2014-09-18T00:00:00",
          "2014-09-19T00:00:00",
          "2014-09-20T00:00:00",
          "2014-09-21T00:00:00",
          "2014-09-22T00:00:00",
          "2014-09-23T00:00:00",
          "2014-09-24T00:00:00",
          "2014-09-25T00:00:00",
          "2014-09-26T00:00:00",
          "2014-09-27T00:00:00",
          "2014-09-28T00:00:00",
          "2014-09-29T00:00:00",
          "2014-09-30T00:00:00",
          "2014-10-01T00:00:00",
          "2014-10-02T00:00:00",
          "2014-10-03T00:00:00",
          "2014-10-04T00:00:00",
          "2014-10-05T00:00:00",
          "2014-10-06T00:00:00",
          "2014-10-07T00:00:00",
          "2014-10-08T00:00:00",
          "2014-10-09T00:00:00",
          "2014-10-10T00:00:00",
          "2014-10-11T00:00:00",
          "2014-10-12T00:00:00",
          "2014-10-13T00:00:00",
          "2014-10-14T00:00:00",
          "2014-10-15T00:00:00",
          "2014-10-16T00:00:00",
          "2014-10-17T00:00:00",
          "2014-10-18T00:00:00",
          "2014-10-19T00:00:00",
          "2014-10-20T00:00:00",
          "2014-10-21T00:00:00",
          "2014-10-22T00:00:00",
          "2014-10-23T00:00:00",
          "2014-10-24T00:00:00",
          "2014-10-25T00:00:00",
          "2014-10-26T00:00:00",
          "2014-10-27T00:00:00",
          "2014-10-28T00:00:00",
          "2014-10-29T00:00:00",
          "2014-10-30T00:00:00",
          "2014-10-31T00:00:00",
          "2014-11-01T00:00:00",
          "2014-11-02T00:00:00",
          "2014-11-03T00:00:00",
          "2014-11-04T00:00:00",
          "2014-11-05T00:00:00",
          "2014-11-06T00:00:00",
          "2014-11-07T00:00:00",
          "2014-11-08T00:00:00",
          "2014-11-09T00:00:00",
          "2014-11-10T00:00:00",
          "2014-11-11T00:00:00",
          "2014-11-12T00:00:00",
          "2014-11-13T00:00:00",
          "2014-11-14T00:00:00",
          "2014-11-15T00:00:00",
          "2014-11-16T00:00:00",
          "2014-11-17T00:00:00",
          "2014-11-18T00:00:00",
          "2014-11-19T00:00:00",
          "2014-11-20T00:00:00",
          "2014-11-21T00:00:00",
          "2014-11-22T00:00:00",
          "2014-11-23T00:00:00",
          "2014-11-24T00:00:00",
          "2014-11-25T00:00:00",
          "2014-11-26T00:00:00",
          "2014-11-27T00:00:00",
          "2014-11-28T00:00:00",
          "2014-11-29T00:00:00",
          "2014-11-30T00:00:00",
          "2014-12-01T00:00:00",
          "2014-12-02T00:00:00",
          "2014-12-03T00:00:00",
          "2014-12-04T00:00:00",
          "2014-12-05T00:00:00",
          "2014-12-06T00:00:00",
          "2014-12-07T00:00:00",
          "2014-12-08T00:00:00",
          "2014-12-09T00:00:00",
          "2014-12-10T00:00:00",
          "2014-12-11T00:00:00",
          "2014-12-12T00:00:00",
          "2014-12-13T00:00:00",
          "2014-12-14T00:00:00",
          "2014-12-15T00:00:00",
          "2014-12-16T00:00:00",
          "2014-12-17T00:00:00",
          "2014-12-18T00:00:00",
          "2014-12-19T00:00:00",
          "2014-12-20T00:00:00",
          "2014-12-21T00:00:00",
          "2014-12-22T00:00:00",
          "2014-12-23T00:00:00",
          "2014-12-24T00:00:00",
          "2014-12-25T00:00:00",
          "2014-12-26T00:00:00",
          "2014-12-27T00:00:00",
          "2014-12-28T00:00:00",
          "2014-12-29T00:00:00",
          "2014-12-30T00:00:00",
          "2014-12-31T00:00:00",
          "2015-01-01T00:00:00",
          "2015-01-02T00:00:00",
          "2015-01-03T00:00:00",
          "2015-01-04T00:00:00",
          "2015-01-05T00:00:00",
          "2015-01-06T00:00:00",
          "2015-01-07T00:00:00",
          "2015-01-08T00:00:00",
          "2015-01-09T00:00:00",
          "2015-01-10T00:00:00",
          "2015-01-11T00:00:00",
          "2015-01-12T00:00:00",
          "2015-01-13T00:00:00",
          "2015-01-14T00:00:00",
          "2015-01-15T00:00:00",
          "2015-01-16T00:00:00",
          "2015-01-17T00:00:00",
          "2015-01-18T00:00:00",
          "2015-01-19T00:00:00",
          "2015-01-20T00:00:00",
          "2015-01-21T00:00:00",
          "2015-01-22T00:00:00",
          "2015-01-23T00:00:00",
          "2015-01-24T00:00:00",
          "2015-01-25T00:00:00",
          "2015-01-26T00:00:00",
          "2015-01-27T00:00:00",
          "2015-01-28T00:00:00",
          "2015-01-29T00:00:00",
          "2015-01-30T00:00:00",
          "2015-01-31T00:00:00"
         ],
         "xaxis": "x",
         "y": [
          0.913460041017229,
          0.9150997687888243,
          0.9155700347376863,
          0.9155307916877138,
          0.9157541876260286,
          0.9164067118405596,
          0.9167283944443966,
          0.9174775200264746,
          0.9167406447356864,
          0.916893990541788,
          0.9170476869583718,
          0.9160579760786691,
          0.915522659434455,
          0.915045092293989,
          0.916073051287673,
          0.917922861879913,
          0.9188928284791831,
          0.9204534556202918,
          0.9215496309303669,
          0.9217739881002404,
          0.9219746983608363,
          0.9212747612993976,
          0.920079629309534,
          0.9189774424082594,
          0.9181885657601466,
          0.916885562675911,
          0.9161693031674115,
          0.9153523633450183,
          0.9146661951746162,
          0.9143436304756762,
          0.9130725975643835,
          0.9128034689277061,
          0.9120068299741217,
          0.9116748551867211,
          0.9120079889655969,
          0.910984893174395,
          0.9102136889183854,
          0.9096851327780507,
          0.9091625281214156,
          0.9096409145843387,
          0.9104364393475572,
          0.9101597560037648,
          0.9108792346452284,
          0.9113402742146675,
          0.9127693769814467,
          0.9127915968612115,
          0.9117108558878204,
          0.9100411134534762,
          0.9080956708447061,
          0.9068831898829566,
          0.906158717240757,
          0.9071298295510639,
          0.9076076977250644,
          0.9081692618645406,
          0.9090046232635212,
          0.909673105547704,
          0.9111454923798683,
          0.9112246677394578,
          0.9119289581597192,
          0.912189439852355,
          0.9119456856599398,
          0.9121261580713207,
          0.9120813460035989,
          0.9120227086381466,
          0.9117884115534141,
          0.912452664251751,
          0.9124437815646459,
          0.9139276521091791,
          0.9146648748961337,
          0.9151733131028161,
          0.9154489287282787,
          0.9156861072062241,
          0.9152433245423724,
          0.9151790955191722,
          0.9148605711652643,
          0.9142107526133608,
          0.9142844346816043,
          0.9150710813820768,
          0.9155634270378711,
          0.9154485176298115,
          0.9160271991560165,
          0.9157046865777256,
          0.9151611365538633,
          0.9151476740187439,
          0.9148262953788768,
          0.9142000162391241,
          0.9136573821664614,
          0.9134410699916389,
          0.9132644911057318,
          0.9137676499046569,
          0.9143497604456899,
          0.914986244617631,
          0.9144722749433495,
          0.9132793932067615,
          0.9115567218355259,
          0.9094268975820731,
          0.9067092633860955,
          0.9052867510230308,
          0.9028487823899554,
          0.9005180967819677,
          0.8987914058029401,
          0.8972589620616581,
          0.8957801589971116,
          0.894637098368025,
          0.893853807192555,
          0.8927722185895893,
          0.8914534987236,
          0.8905709398109891,
          0.8900964700181005,
          0.8890178911776179,
          0.8878233605521412,
          0.8868034193794438,
          0.885988185408347,
          0.8848524064029012,
          0.8841604145383583,
          0.8842987106459091,
          0.884054247174054,
          0.8822170581504851,
          0.8795758258194388,
          0.8779682572372178,
          0.87440984910093,
          0.87216720241036,
          0.8706949383495136,
          0.8689122658536802,
          0.8682702885894439,
          0.8677478834956538,
          0.8682272319222345,
          0.8681258304885573,
          0.86739576620388,
          0.8672736710099417,
          0.8665090398791382,
          0.86620771307817,
          0.8657490562263931,
          0.8645600614449076,
          0.8631610513188809,
          0.8627198402493597,
          0.8620331765777569,
          0.8619898419245143,
          0.861217441337621,
          0.8601187753159475,
          0.8599109064512579,
          0.859744113062195,
          0.8604548617514912,
          0.8606747648971506,
          0.8618338009252577,
          0.8621665853476386,
          0.8628583542353503,
          0.8632076423462688,
          0.8636768590273278,
          0.864244719448213,
          0.864422964093436,
          0.8651033865684536,
          0.8645958917635339,
          0.8636386961460158,
          0.8632807230010351,
          0.8625287783501638,
          0.8616302477153619,
          0.8610700275557084,
          0.8613101041149679,
          0.8617395675669204,
          0.8617970152478788,
          0.8623490328437612,
          0.8626599480382645,
          0.8623447941081608,
          0.861569061558144,
          0.8617709747049171,
          0.8622980297724595,
          0.8629128711951255,
          0.8628784591748538,
          0.8635117849221909,
          0.8643977438443257,
          0.8640065740746413,
          0.8631325727621326,
          0.8610971961549492,
          0.8590258047700504,
          0.8574292863513344,
          0.8551452700965787,
          0.8542326474631072,
          0.8530858320314385,
          0.8534005157506119,
          0.8544434032656463,
          0.8545392413447422,
          0.8543263214170557,
          0.8555908073777159,
          0.8570423157207874,
          0.8580448321966911,
          0.8587622945430361,
          0.8595528905515831,
          0.8597890265845016,
          0.8594490050413758,
          0.8590399755049631,
          0.8586468024960667,
          0.857901652242868,
          0.8560833728093358,
          0.8531477764887113,
          0.8516048822513502,
          0.850417490396347,
          0.848311557842576,
          0.8460696651475145,
          0.8431804812617048,
          0.8400845104917234,
          0.8377124385693374,
          0.8359918625783422,
          0.8332490010794367,
          0.8315543981171428,
          0.8304040622506098,
          0.8282608656057038,
          0.8265723133560309,
          0.8230239244730488,
          0.8191462041893331,
          0.8141156278773611,
          0.8056682193968985,
          0.7984203295200888,
          0.7928864907390503,
          0.7871258355286928,
          0.7827908237863832,
          0.7780076724273992,
          0.774182190446941,
          0.7728571449214523,
          0.7708670119270185,
          0.7690345189934926,
          0.7675297784021019,
          0.7662073018130651,
          0.7653011528403357,
          0.765337130241313,
          0.763752923893194,
          0.7651070938377433,
          0.7645812284240184,
          0.7630902215634163,
          0.7611745292552244,
          0.7605645885265789,
          0.7601035702778625,
          0.7597517463939228,
          0.7585748918918218,
          0.7579840954826679,
          0.7575937450893735,
          0.7563617587295433,
          0.7551840010059077,
          0.7523969234973754,
          0.7504410954124185,
          0.7475334415909166,
          0.7462077273713174,
          0.7446534843406565,
          0.7449184491782591,
          0.7450726913456329,
          0.7438406699854113,
          0.7427207517589748,
          0.7431873548454779,
          0.7434642329341598,
          0.743769957072912,
          0.7445180096488649,
          0.7447852516238191,
          0.7442592892389598,
          0.7433777720128744,
          0.7427801990052529,
          0.7426542681720235,
          0.7429281493869577,
          0.7420009244386588,
          0.7419668912131026,
          0.7419972326619771,
          0.7417385891039294,
          0.7428737193692141,
          0.7446555684741212,
          0.7458115271357787,
          0.7476294400825415,
          0.7481366229699874,
          0.7487773068913685,
          0.7495219413637767,
          0.7486342774997562,
          0.7494061587167283,
          0.7493637586124192,
          0.7511128344144538,
          0.7515249713975207,
          0.7522064418840755,
          0.7524846610224476,
          0.7529424777556157,
          0.7521389757391816,
          0.7514827031425141,
          0.750915200196742,
          0.7500220933456168,
          0.7491725936034236,
          0.7475312099003538,
          0.7461750029316304,
          0.7448495179781294,
          0.7445784362505564,
          0.7442385866303166,
          0.7422913262197509,
          0.742042723695883,
          0.7415132366810931,
          0.7409915619064792,
          0.7408835586103376,
          0.7421749966588587,
          0.7424542303952479,
          0.7409258544158001,
          0.7404647980950124,
          0.73921152206923,
          0.7391116652624174,
          0.7385156246758579,
          0.738918298539713,
          0.7396692410556968,
          0.7385391873655835,
          0.7393426729607704,
          0.7411390284408195,
          0.7419783904875152,
          0.7430567166019523,
          0.7443555031143164,
          0.744498613675572,
          0.7478003878785537,
          0.7490188770070076,
          0.7517017917725739,
          0.7537057099464861,
          0.7558578624631203,
          0.7596086037879608,
          0.7624005004449379,
          0.7642451555990792,
          0.7659413239609272,
          0.7660625016157987,
          0.7650637588746514,
          0.7648152411456246,
          0.7659904189407456,
          0.7663486029087478,
          0.7666795779593604,
          0.7663044448577414,
          0.7654514466218489,
          0.7642452824086746,
          0.7636428258527582,
          0.7638076394999997,
          0.7634850088736825,
          0.7626968783789219,
          0.7627150334139747,
          0.7640704738576369,
          0.7644074256217549,
          0.765313462656647,
          0.7661344098158378,
          0.7668819542106586,
          0.7680908117723925
         ],
         "yaxis": "y"
        }
       ],
       "layout": {
        "annotations": [
         {
          "font": {
           "size": 18
          },
          "showarrow": false,
          "text": "A",
          "textangle": 0,
          "x": "2014-06-01",
          "xref": "x",
          "y": 1.045,
          "yref": "paper"
         },
         {
          "font": {
           "size": 18
          },
          "showarrow": false,
          "text": "B",
          "textangle": 0,
          "x": "2014-09-01",
          "xref": "x",
          "y": 1.045,
          "yref": "paper"
         }
        ],
        "barmode": "overlay",
        "font": {
         "size": 13
        },
        "height": 600,
        "legend": {
         "borderwidth": 0.5,
         "orientation": "h",
         "x": 0.5,
         "xanchor": "center"
        },
        "plot_bgcolor": "#E8E8EA",
        "shapes": [
         {
          "line": {
           "color": "black",
           "dash": "dot"
          },
          "type": "line",
          "x0": "2014-06-01",
          "x1": "2014-06-01",
          "xref": "x",
          "y0": 0,
          "y1": 1,
          "yref": "paper"
         },
         {
          "line": {
           "color": "black",
           "dash": "dot"
          },
          "type": "line",
          "x0": "2014-09-01",
          "x1": "2014-09-01",
          "xref": "x",
          "y0": 0,
          "y1": 1,
          "yref": "paper"
         }
        ],
        "spikedistance": 1000,
        "template": {
         "data": {
          "bar": [
           {
            "error_x": {
             "color": "#2a3f5f"
            },
            "error_y": {
             "color": "#2a3f5f"
            },
            "marker": {
             "line": {
              "color": "#E5ECF6",
              "width": 0.5
             },
             "pattern": {
              "fillmode": "overlay",
              "size": 10,
              "solidity": 0.2
             }
            },
            "type": "bar"
           }
          ],
          "barpolar": [
           {
            "marker": {
             "line": {
              "color": "#E5ECF6",
              "width": 0.5
             },
             "pattern": {
              "fillmode": "overlay",
              "size": 10,
              "solidity": 0.2
             }
            },
            "type": "barpolar"
           }
          ],
          "carpet": [
           {
            "aaxis": {
             "endlinecolor": "#2a3f5f",
             "gridcolor": "white",
             "linecolor": "white",
             "minorgridcolor": "white",
             "startlinecolor": "#2a3f5f"
            },
            "baxis": {
             "endlinecolor": "#2a3f5f",
             "gridcolor": "white",
             "linecolor": "white",
             "minorgridcolor": "white",
             "startlinecolor": "#2a3f5f"
            },
            "type": "carpet"
           }
          ],
          "choropleth": [
           {
            "colorbar": {
             "outlinewidth": 0,
             "ticks": ""
            },
            "type": "choropleth"
           }
          ],
          "contour": [
           {
            "colorbar": {
             "outlinewidth": 0,
             "ticks": ""
            },
            "colorscale": [
             [
              0,
              "#0d0887"
             ],
             [
              0.1111111111111111,
              "#46039f"
             ],
             [
              0.2222222222222222,
              "#7201a8"
             ],
             [
              0.3333333333333333,
              "#9c179e"
             ],
             [
              0.4444444444444444,
              "#bd3786"
             ],
             [
              0.5555555555555556,
              "#d8576b"
             ],
             [
              0.6666666666666666,
              "#ed7953"
             ],
             [
              0.7777777777777778,
              "#fb9f3a"
             ],
             [
              0.8888888888888888,
              "#fdca26"
             ],
             [
              1,
              "#f0f921"
             ]
            ],
            "type": "contour"
           }
          ],
          "contourcarpet": [
           {
            "colorbar": {
             "outlinewidth": 0,
             "ticks": ""
            },
            "type": "contourcarpet"
           }
          ],
          "heatmap": [
           {
            "colorbar": {
             "outlinewidth": 0,
             "ticks": ""
            },
            "colorscale": [
             [
              0,
              "#0d0887"
             ],
             [
              0.1111111111111111,
              "#46039f"
             ],
             [
              0.2222222222222222,
              "#7201a8"
             ],
             [
              0.3333333333333333,
              "#9c179e"
             ],
             [
              0.4444444444444444,
              "#bd3786"
             ],
             [
              0.5555555555555556,
              "#d8576b"
             ],
             [
              0.6666666666666666,
              "#ed7953"
             ],
             [
              0.7777777777777778,
              "#fb9f3a"
             ],
             [
              0.8888888888888888,
              "#fdca26"
             ],
             [
              1,
              "#f0f921"
             ]
            ],
            "type": "heatmap"
           }
          ],
          "heatmapgl": [
           {
            "colorbar": {
             "outlinewidth": 0,
             "ticks": ""
            },
            "colorscale": [
             [
              0,
              "#0d0887"
             ],
             [
              0.1111111111111111,
              "#46039f"
             ],
             [
              0.2222222222222222,
              "#7201a8"
             ],
             [
              0.3333333333333333,
              "#9c179e"
             ],
             [
              0.4444444444444444,
              "#bd3786"
             ],
             [
              0.5555555555555556,
              "#d8576b"
             ],
             [
              0.6666666666666666,
              "#ed7953"
             ],
             [
              0.7777777777777778,
              "#fb9f3a"
             ],
             [
              0.8888888888888888,
              "#fdca26"
             ],
             [
              1,
              "#f0f921"
             ]
            ],
            "type": "heatmapgl"
           }
          ],
          "histogram": [
           {
            "marker": {
             "pattern": {
              "fillmode": "overlay",
              "size": 10,
              "solidity": 0.2
             }
            },
            "type": "histogram"
           }
          ],
          "histogram2d": [
           {
            "colorbar": {
             "outlinewidth": 0,
             "ticks": ""
            },
            "colorscale": [
             [
              0,
              "#0d0887"
             ],
             [
              0.1111111111111111,
              "#46039f"
             ],
             [
              0.2222222222222222,
              "#7201a8"
             ],
             [
              0.3333333333333333,
              "#9c179e"
             ],
             [
              0.4444444444444444,
              "#bd3786"
             ],
             [
              0.5555555555555556,
              "#d8576b"
             ],
             [
              0.6666666666666666,
              "#ed7953"
             ],
             [
              0.7777777777777778,
              "#fb9f3a"
             ],
             [
              0.8888888888888888,
              "#fdca26"
             ],
             [
              1,
              "#f0f921"
             ]
            ],
            "type": "histogram2d"
           }
          ],
          "histogram2dcontour": [
           {
            "colorbar": {
             "outlinewidth": 0,
             "ticks": ""
            },
            "colorscale": [
             [
              0,
              "#0d0887"
             ],
             [
              0.1111111111111111,
              "#46039f"
             ],
             [
              0.2222222222222222,
              "#7201a8"
             ],
             [
              0.3333333333333333,
              "#9c179e"
             ],
             [
              0.4444444444444444,
              "#bd3786"
             ],
             [
              0.5555555555555556,
              "#d8576b"
             ],
             [
              0.6666666666666666,
              "#ed7953"
             ],
             [
              0.7777777777777778,
              "#fb9f3a"
             ],
             [
              0.8888888888888888,
              "#fdca26"
             ],
             [
              1,
              "#f0f921"
             ]
            ],
            "type": "histogram2dcontour"
           }
          ],
          "mesh3d": [
           {
            "colorbar": {
             "outlinewidth": 0,
             "ticks": ""
            },
            "type": "mesh3d"
           }
          ],
          "parcoords": [
           {
            "line": {
             "colorbar": {
              "outlinewidth": 0,
              "ticks": ""
             }
            },
            "type": "parcoords"
           }
          ],
          "pie": [
           {
            "automargin": true,
            "type": "pie"
           }
          ],
          "scatter": [
           {
            "marker": {
             "colorbar": {
              "outlinewidth": 0,
              "ticks": ""
             }
            },
            "type": "scatter"
           }
          ],
          "scatter3d": [
           {
            "line": {
             "colorbar": {
              "outlinewidth": 0,
              "ticks": ""
             }
            },
            "marker": {
             "colorbar": {
              "outlinewidth": 0,
              "ticks": ""
             }
            },
            "type": "scatter3d"
           }
          ],
          "scattercarpet": [
           {
            "marker": {
             "colorbar": {
              "outlinewidth": 0,
              "ticks": ""
             }
            },
            "type": "scattercarpet"
           }
          ],
          "scattergeo": [
           {
            "marker": {
             "colorbar": {
              "outlinewidth": 0,
              "ticks": ""
             }
            },
            "type": "scattergeo"
           }
          ],
          "scattergl": [
           {
            "marker": {
             "colorbar": {
              "outlinewidth": 0,
              "ticks": ""
             }
            },
            "type": "scattergl"
           }
          ],
          "scattermapbox": [
           {
            "marker": {
             "colorbar": {
              "outlinewidth": 0,
              "ticks": ""
             }
            },
            "type": "scattermapbox"
           }
          ],
          "scatterpolar": [
           {
            "marker": {
             "colorbar": {
              "outlinewidth": 0,
              "ticks": ""
             }
            },
            "type": "scatterpolar"
           }
          ],
          "scatterpolargl": [
           {
            "marker": {
             "colorbar": {
              "outlinewidth": 0,
              "ticks": ""
             }
            },
            "type": "scatterpolargl"
           }
          ],
          "scatterternary": [
           {
            "marker": {
             "colorbar": {
              "outlinewidth": 0,
              "ticks": ""
             }
            },
            "type": "scatterternary"
           }
          ],
          "surface": [
           {
            "colorbar": {
             "outlinewidth": 0,
             "ticks": ""
            },
            "colorscale": [
             [
              0,
              "#0d0887"
             ],
             [
              0.1111111111111111,
              "#46039f"
             ],
             [
              0.2222222222222222,
              "#7201a8"
             ],
             [
              0.3333333333333333,
              "#9c179e"
             ],
             [
              0.4444444444444444,
              "#bd3786"
             ],
             [
              0.5555555555555556,
              "#d8576b"
             ],
             [
              0.6666666666666666,
              "#ed7953"
             ],
             [
              0.7777777777777778,
              "#fb9f3a"
             ],
             [
              0.8888888888888888,
              "#fdca26"
             ],
             [
              1,
              "#f0f921"
             ]
            ],
            "type": "surface"
           }
          ],
          "table": [
           {
            "cells": {
             "fill": {
              "color": "#EBF0F8"
             },
             "line": {
              "color": "white"
             }
            },
            "header": {
             "fill": {
              "color": "#C8D4E3"
             },
             "line": {
              "color": "white"
             }
            },
            "type": "table"
           }
          ]
         },
         "layout": {
          "annotationdefaults": {
           "arrowcolor": "#2a3f5f",
           "arrowhead": 0,
           "arrowwidth": 1
          },
          "autotypenumbers": "strict",
          "coloraxis": {
           "colorbar": {
            "outlinewidth": 0,
            "ticks": ""
           }
          },
          "colorscale": {
           "diverging": [
            [
             0,
             "#8e0152"
            ],
            [
             0.1,
             "#c51b7d"
            ],
            [
             0.2,
             "#de77ae"
            ],
            [
             0.3,
             "#f1b6da"
            ],
            [
             0.4,
             "#fde0ef"
            ],
            [
             0.5,
             "#f7f7f7"
            ],
            [
             0.6,
             "#e6f5d0"
            ],
            [
             0.7,
             "#b8e186"
            ],
            [
             0.8,
             "#7fbc41"
            ],
            [
             0.9,
             "#4d9221"
            ],
            [
             1,
             "#276419"
            ]
           ],
           "sequential": [
            [
             0,
             "#0d0887"
            ],
            [
             0.1111111111111111,
             "#46039f"
            ],
            [
             0.2222222222222222,
             "#7201a8"
            ],
            [
             0.3333333333333333,
             "#9c179e"
            ],
            [
             0.4444444444444444,
             "#bd3786"
            ],
            [
             0.5555555555555556,
             "#d8576b"
            ],
            [
             0.6666666666666666,
             "#ed7953"
            ],
            [
             0.7777777777777778,
             "#fb9f3a"
            ],
            [
             0.8888888888888888,
             "#fdca26"
            ],
            [
             1,
             "#f0f921"
            ]
           ],
           "sequentialminus": [
            [
             0,
             "#0d0887"
            ],
            [
             0.1111111111111111,
             "#46039f"
            ],
            [
             0.2222222222222222,
             "#7201a8"
            ],
            [
             0.3333333333333333,
             "#9c179e"
            ],
            [
             0.4444444444444444,
             "#bd3786"
            ],
            [
             0.5555555555555556,
             "#d8576b"
            ],
            [
             0.6666666666666666,
             "#ed7953"
            ],
            [
             0.7777777777777778,
             "#fb9f3a"
            ],
            [
             0.8888888888888888,
             "#fdca26"
            ],
            [
             1,
             "#f0f921"
            ]
           ]
          },
          "colorway": [
           "#636efa",
           "#EF553B",
           "#00cc96",
           "#ab63fa",
           "#FFA15A",
           "#19d3f3",
           "#FF6692",
           "#B6E880",
           "#FF97FF",
           "#FECB52"
          ],
          "font": {
           "color": "#2a3f5f"
          },
          "geo": {
           "bgcolor": "white",
           "lakecolor": "white",
           "landcolor": "#E5ECF6",
           "showlakes": true,
           "showland": true,
           "subunitcolor": "white"
          },
          "hoverlabel": {
           "align": "left"
          },
          "hovermode": "closest",
          "mapbox": {
           "style": "light"
          },
          "paper_bgcolor": "white",
          "plot_bgcolor": "#E5ECF6",
          "polar": {
           "angularaxis": {
            "gridcolor": "white",
            "linecolor": "white",
            "ticks": ""
           },
           "bgcolor": "#E5ECF6",
           "radialaxis": {
            "gridcolor": "white",
            "linecolor": "white",
            "ticks": ""
           }
          },
          "scene": {
           "xaxis": {
            "backgroundcolor": "#E5ECF6",
            "gridcolor": "white",
            "gridwidth": 2,
            "linecolor": "white",
            "showbackground": true,
            "ticks": "",
            "zerolinecolor": "white"
           },
           "yaxis": {
            "backgroundcolor": "#E5ECF6",
            "gridcolor": "white",
            "gridwidth": 2,
            "linecolor": "white",
            "showbackground": true,
            "ticks": "",
            "zerolinecolor": "white"
           },
           "zaxis": {
            "backgroundcolor": "#E5ECF6",
            "gridcolor": "white",
            "gridwidth": 2,
            "linecolor": "white",
            "showbackground": true,
            "ticks": "",
            "zerolinecolor": "white"
           }
          },
          "shapedefaults": {
           "line": {
            "color": "#2a3f5f"
           }
          },
          "ternary": {
           "aaxis": {
            "gridcolor": "white",
            "linecolor": "white",
            "ticks": ""
           },
           "baxis": {
            "gridcolor": "white",
            "linecolor": "white",
            "ticks": ""
           },
           "bgcolor": "#E5ECF6",
           "caxis": {
            "gridcolor": "white",
            "linecolor": "white",
            "ticks": ""
           }
          },
          "title": {
           "x": 0.05
          },
          "xaxis": {
           "automargin": true,
           "gridcolor": "white",
           "linecolor": "white",
           "ticks": "",
           "title": {
            "standoff": 15
           },
           "zerolinecolor": "white",
           "zerolinewidth": 2
          },
          "yaxis": {
           "automargin": true,
           "gridcolor": "white",
           "linecolor": "white",
           "ticks": "",
           "title": {
            "standoff": 15
           },
           "zerolinecolor": "white",
           "zerolinewidth": 2
          }
         }
        },
        "xaxis": {
         "anchor": "y",
         "domain": [
          0,
          1
         ],
         "dtick": "M1",
         "matches": "x2",
         "range": [
          "2014-04-01",
          "2015-01-01"
         ],
         "showspikes": true,
         "showticklabels": false,
         "spikecolor": "black",
         "spikemode": "across",
         "spikesnap": "cursor",
         "spikethickness": 1,
         "tickformat": "%Y-%m-%d",
         "tickmode": "linear"
        },
        "xaxis2": {
         "anchor": "y2",
         "domain": [
          0,
          1
         ],
         "dtick": "M1",
         "range": [
          "2014-04-01",
          "2015-01-01"
         ],
         "showspikes": true,
         "spikecolor": "black",
         "spikemode": "across",
         "spikesnap": "cursor",
         "spikethickness": 1,
         "tickformat": "%Y-%m-%d",
         "tickmode": "linear"
        },
        "xaxis3": {
         "dtick": "M1",
         "tickformat": "%Y-%m-%d",
         "tickmode": "linear"
        },
        "yaxis": {
         "anchor": "x",
         "domain": [
          0.5125,
          1
         ],
         "range": [
          0.5,
          1
         ],
         "title": {
          "text": "AUROC (Micro Avg)"
         }
        },
        "yaxis2": {
         "anchor": "x2",
         "domain": [
          0,
          0.4875
         ],
         "range": [
          -10,
          1
         ],
         "title": {
          "text": "$MMC_w$"
         }
        }
       }
      }
     },
     "metadata": {},
     "output_type": "display_data"
    }
   ],
   "source": [
    "\n",
    "fh = FigureHelper(x)\n",
    "\n",
    "\n",
    "row=1\n",
    "for name, score_unify in perf_graphs.items():\n",
    "    fh.add_trace(y=smooth(score_unify[\"yp\"], span=7), \n",
    "                 yu=smooth(score_unify[\"yp\"]+score_unify[\"ye\"], span=7),\n",
    "                 yl=smooth(score_unify[\"yp\"]-score_unify[\"ye\"], span=7), name=name, connectgaps=False, row=row, col=1)\n",
    "\n",
    "row=2\n",
    "for name, score_unify in score_graphs.items():\n",
    "    fh.add_trace(y=smooth(score_unify, span=7), name=name, connectgaps=False, row=row, col=1)\n",
    "    \n",
    "    \n",
    "# row += 1\n",
    "# for name, score_unify in vae_graphs.items():\n",
    "#     fh.add_trace(y=smooth(score_unify, span=7), name=name, connectgaps=False, row=row, col=1)\n",
    "\n",
    "\n",
    "\n",
    "fig = fh.make_fig(shared_xaxes=True, vertical_spacing=0.025, row_heights=[.2]*row)\n",
    "\n",
    "add_dates(fig, dates, line_y=1.045, include_date=False)\n",
    "\n",
    "fig.update_xaxes(showspikes=True, spikecolor=\"black\", spikesnap=\"cursor\", spikemode=\"across\", spikethickness=1)\n",
    "fig.update_layout(spikedistance=1000)\n",
    "fig.update_layout(height=300*row)\n",
    "fig.update_layout(legend={\"x\": .5, \"orientation\":\"h\", \"borderwidth\": .5, \"xanchor\": \"center\",})\n",
    "fig.update_xaxes(range=[graph_start, graph_end])\n",
    "fig.update_layout(yaxis1=dict(range=[0.5, 1], title=\"AUROC (Micro Avg)\"),\n",
    "                  yaxis2=dict(range=[-10, 1], title=\"$MMC_w$\"))\n",
    "fig.update_layout(barmode='overlay')\n",
    "fig.update_layout(font=dict(size=13))\n",
    "fig.update_layout(plot_bgcolor=\"#E8E8EA\")\n",
    "\n",
    "# fig.update_layout(\n",
    "#     yaxis2 = dict(\n",
    "#         tickmode = 'linear',\n",
    "#         tick0 = 0,\n",
    "#         dtick = 25,\n",
    "#     )\n",
    "# )\n",
    "\n",
    "xaxis = dict(\n",
    "        tickformat = '%Y-%m-%d',\n",
    "        tickmode = 'linear',\n",
    "        dtick = \"M1\"\n",
    "    )\n",
    "fig.update_layout(\n",
    "    xaxis1=xaxis,\n",
    "    xaxis2=xaxis,\n",
    "    xaxis3 = xaxis,\n",
    ")\n",
    "\n",
    "fig.show()"
   ]
  },
  {
   "cell_type": "code",
   "execution_count": 13,
   "metadata": {},
   "outputs": [
    {
     "name": "stdout",
     "output_type": "stream",
     "text": [
      "D:\\Code\\MLOpsDay2\\MedImaging-ModelDriftMonitoring\\html\\paper\\graphs\\lateral-micro_distance.svg\n"
     ]
    },
    {
     "data": {
      "text/html": [
       "<img src=\"..\\..\\html\\paper\\graphs\\lateral-micro_distance.svg\" />"
      ],
      "text/plain": [
       "<IPython.core.display.HTML object>"
      ]
     },
     "metadata": {},
     "output_type": "display_data"
    }
   ],
   "source": [
    "import plotly.io as pio\n",
    "\n",
    "html_top_dir = settings.TOP_DIR.joinpath(\"html\", \"paper\", 'graphs')\n",
    "html_top_dir.mkdir(exist_ok=True, parents=True)\n",
    "\n",
    "fname = html_top_dir.joinpath(figure_name+\".svg\")\n",
    "pio.write_image(fig, fname, scale=1, width=5*300, height=2*300)\n",
    "print(fname)\n",
    "\n",
    "relfname = os.path.relpath(str(fname), os.getcwd())\n",
    "display(HTML(f\"\"\"<img src=\"{relfname}\" />\"\"\"))"
   ]
  },
  {
   "cell_type": "code",
   "execution_count": null,
   "metadata": {},
   "outputs": [],
   "source": [
    "raise"
   ]
  },
  {
   "cell_type": "code",
   "execution_count": null,
   "metadata": {},
   "outputs": [],
   "source": [
    "\n",
    "output_file_path = settings.TOP_DIR.joinpath('results', 'drift', name+\".csv\")\n",
    "fname = str(output_file_path)\n",
    "r.download_file(\"outputs/output.csv\", output_file_path=output_file_path)\n",
    "# # Settings to file CSV file\n",
    "\n",
    "# display_args = [\"span\", \"which\", \"clip\", \"standardize_perf\", \"shift_drift_to_perf\", \"performance_col\", \"this_center\", \"this_range\", \"standardize_dates\", \"stat\", \"add_error_bars\"]\n",
    "d = locals()\n",
    "display_args = {k: d[k] for k in display_args if k in d}\n",
    "\n",
    "print(display_args)\n",
    "\n",
    "\n",
    "if not os.path.exists(fname):\n",
    "    raise ValueError(\"no fn\")\n",
    "\n",
    "combined_df_o = pd.read_csv(str(fname), index_col=0, header=[0, 1, 2, 3])\n",
    "combined_df_o.index = pd.to_datetime(combined_df_o.index)\n",
    "\n",
    "flip = column_xs(combined_df_o, include=[\"pval\"])\n",
    "combined_df_o[flip] = 1-combined_df_o[flip]\n",
    "combined_df = combined_df_o.copy()\n",
    "\n",
    "\n",
    "smooth_name = f\"ewm{span}\"\n",
    "\n",
    "error_df = combined_df.swaplevel(0, -1, axis=1)[[\"std\"]].swaplevel(0, -1, axis=1).droplevel(-1, axis=1).copy()\n",
    "combined_df = combined_df.swaplevel(0, -1, axis=1)[[which]].swaplevel(0, -1, axis=1).droplevel(-1, axis=1).copy()\n",
    "\n",
    "html_dir = html_top_dir.joinpath(name)\n",
    "perf_col_name = '-'.join(performance_col)\n",
    "\n",
    "if not os.path.exists(html_dir):\n",
    "    os.makedirs(html_dir)\n",
    "\n",
    "stat_str = '+'.join(stat)\n",
    "fn = f\"{html_dir}/{which}_{stat_str}_stdclip{clip}_smooth-{smooth_name}_{perf_col_name}.html\"\n",
    "\n",
    "print(\"output:\", fn)\n",
    "def is_arg_col(c):\n",
    "    if \"mlflow\" in c or \"_aml\" in c or 'run_' in c or 'url' in c:\n",
    "        return False\n",
    "\n",
    "    ignore = [\"output_dir\", \"input_dir\", 'run', 'display_name', 'id']\n",
    "    return c not in ignore\n",
    "\n",
    "arg_row = run_row[arg_cols].copy()\n",
    "display_row = pd.Series(display_args)\n",
    "params = pd.concat({'Drift': arg_row, \"Display\": display_row}, axis=0).rename(\"Value\").to_frame()\n",
    "\n",
    "if write_html:\n",
    "    with open(fn, 'w') as f:\n",
    "        print(\"\"\"\n",
    "            <style>\n",
    "            table {\n",
    "            font-family: arial, sans-serif;\n",
    "            border-collapse: collapse;\n",
    "            width: 80%;\n",
    "            }\n",
    "\n",
    "            td, th {\n",
    "            border: 1px solid #dddddd;\n",
    "            text-align: left;\n",
    "            padding: 8px;\n",
    "            }\n",
    "\n",
    "            tr:nth-child(even) {\n",
    "            background-color: #dddddd;\n",
    "            }\n",
    "            </style>\n",
    "        \"\"\", file=f)\n",
    "        print(f\"\"\"\n",
    "            <h1>Drift report</h1> created: {datetime.datetime.now()}\n",
    "            <br /><br />\n",
    "            <h2>Arguments </h2>\n",
    "            {params.to_html()}\n",
    "            \"\"\", file=f)\n",
    "\n",
    "def shift_to_other(this, other, this_range=None, this_center=None):\n",
    "    u = other.mean()\n",
    "    r = other.std()#other.max()-other.min()\n",
    "\n",
    "    if this_range is None:\n",
    "        this_range = this.std()#this.max()-this.min()\n",
    "\n",
    "    if this_center is None:\n",
    "        this_center = this.mean()\n",
    "    return (this-this_center)/(this_range)*r+u\n",
    "\n",
    "perf_col = performance_col\n",
    "perf_df = combined_df[perf_col]\n",
    "\n",
    "\n",
    "other_cols = column_xs(combined_df, exclude=['performance', 'count'])\n",
    "other_df = combined_df[other_cols]\n",
    "\n",
    "\n",
    "cxs = column_xs(other_df, include=stat)\n",
    "\n",
    "\n",
    "stats = pd.concat([other_df[cxs].dropna(axis=1), extra_valids[cxs].dropna(axis=1)], axis=0).sort_index()\n",
    "stats = stats.loc[standardize_ix]\n",
    "stats = stats.agg([\"mean\", \"std\"])\n",
    "\n",
    "\n",
    "stats.T\n",
    "\n",
    "otherstd = other_df[cxs].copy()\n",
    "\n",
    "# cannot divide by zero\n",
    "std0 = stats.loc['std'] == 0\n",
    "stats.loc[\"std\", stats.loc['std'] == 0] = 1\n",
    "otherstd = (otherstd-stats.loc['mean'])/(stats.loc[\"std\"])\n",
    "errorstd = (error_df[cxs]-stats.loc['mean'])/(stats.loc[\"std\"])\n",
    "bad_cols = otherstd.columns[otherstd.isnull().max(axis=0)].tolist()\n",
    "\n",
    "print(bad_cols)\n",
    "\n",
    "vae_cols = [c for c in list(otherstd) if \"mu.\" in c[0]]\n",
    "score_cols = [c for c in list(otherstd) if \"activation.\" in c[0]]\n",
    "metadata_cols = sorted(set(otherstd).difference(vae_cols).difference(score_cols))\n",
    "\n",
    "if clip is not None:\n",
    "  otherstd = otherstd.clip(-1*clip, clip)"
   ]
  },
  {
   "cell_type": "code",
   "execution_count": null,
   "metadata": {},
   "outputs": [],
   "source": [
    "x = pd.date_range(combined_df.index.min(), combined_df.index.max())\n",
    "\n",
    "\n",
    "yp = combined_df[perf_col].reindex(x)\n",
    "perf_error_df = error_df[perf_col].reindex(x)\n",
    "\n",
    "all_corr_df = correlate_performance(yp.rename('auroc'), otherstd)\n",
    "all_ig_df = mutual_info_performance(yp.rename('auroc'), otherstd, bins=25)\n",
    "m_ = all_ig_df.to_frame().join(all_corr_df.abs().rename('abs(corr)'))\n",
    "m_ = m_.join(m_.mean(axis=1).rename('mean[abs(corr),info_gain]'))\n",
    "m_ = m_.assign(no_weights=1)\n",
    "m_ = m_.fillna(0)\n",
    "\n",
    "true_counts = combined_df_o['count'].droplevel([0, 1], axis=1)['obs']\n",
    "count_df = combined_df['count'].reindex(x)\n",
    "\n",
    "\n",
    "dates = {\"Laterals Injected\": run_row['nonfrontal_add_date'],\n",
    "         \"Frontals Removed\": run_row['frontal_remove_date'],\n",
    "         \"Peds Added\": run_row['peds_start_date'],\n",
    "         \"Peds Stop\": run_row['peds_end_date'],\n",
    "         \"Val Start\": settings.PADCHEST_SPLIT_DATES[0],\n",
    "        #  \"Test Start\": settings.PADCHEST_SPLIT_DATES[1],\n",
    "         }\n",
    "\n",
    "x = x[x<graph_end]"
   ]
  },
  {
   "cell_type": "code",
   "execution_count": null,
   "metadata": {},
   "outputs": [],
   "source": [
    "weight_names = {\"no_weights\": r\"$MMC$\", \"abs(corr)\": r\"$MMC_w$\",}"
   ]
  },
  {
   "cell_type": "code",
   "execution_count": null,
   "metadata": {},
   "outputs": [],
   "source": [
    "m = m_.copy()\n",
    "\n",
    "yp = yp.reindex(x)\n",
    "otherstd = otherstd.reindex(x)\n",
    "counts = combined_df['count'].iloc[:, 0].reindex(x)\n",
    "counts2 = true_counts.reindex(x)\n",
    "\n",
    "#collect_corr(y, yp, name, when, weights_name, start_date=None, end_date=None)\n",
    "row=1\n",
    "fh = FigureHelper(x)\n",
    "fh.add_trace(y=smooth(yp), name=\"AUROC\", connectgaps=False, line={\"color\": \"blue\"}, \n",
    "             yu=smooth(yp+perf_error_df.reindex(x)), \n",
    "             yl=smooth(yp-perf_error_df.reindex(x)),\n",
    "             row=row, col=1)\n",
    "# row += 1\n",
    "# fh.add_trace(y=smooth(combined_df[congruency_measure_col]*100), row=row, name='% In-distr.', line={\"color\": \"purple\"})\n",
    "row += 1\n",
    "errorstd = errorstd[otherstd.columns]\n",
    "\n",
    "for i, (name, vname) in enumerate(weight_names.items()):\n",
    "    weights = m_[name].sort_values(ascending=False)\n",
    "    # weights = weights.iloc[:5]\n",
    "    y = -w_avg(otherstd.reindex(x), weights=weights.to_dict())\n",
    "    ystd = -w_avg(errorstd.reindex(x), weights=weights.to_dict())\n",
    "    fh.add_trace(y=smooth(y),\n",
    "                        # customdata=smooth(yo),\n",
    "                        showlegend=True, legendgroup=vname,\n",
    "                        name=vname,  \n",
    "                        connectgaps=False, row=row, col=1)\n",
    "\n",
    "# display(HTML(\"\"\"<script async=\"async\" src=\"https://cdnjs.cloudflare.com/ajax/libs/mathjax/2.7.5/latest.js?config=TeX-AMS-MML_HTMLorMML\"></script>\n",
    "#     <script type=\"text/x-mathjax-config\">MathJax.Hub.Config({\"tex2jax\": {\"inlineMath\": [[\"$\", \"$\"], [\"\\\\(\", \"\\\\)\"]], \"processEscapes\": true, \"ignoreClass\": \"document\", \"processClass\": \"math|output_area\"}})</script>\"\"\"))\n",
    "\n",
    "fig = fh.make_fig(shared_xaxes=True, vertical_spacing=0.025, row_heights=[.2]*row)\n",
    "add_dates(fig, dates, line_y=1.045, include_date=False)\n",
    "fig.update_xaxes(showspikes=True, spikecolor=\"black\", spikesnap=\"cursor\", spikemode=\"across\", spikethickness=1)\n",
    "fig.update_layout(spikedistance=1000)\n",
    "fig.update_layout(height=200*row)\n",
    "fig.update_layout(legend={\"x\": .35, \"orientation\":\"h\", \"borderwidth\": .5})\n",
    "fig.update_xaxes(range=[graph_start, graph_end])\n",
    "fig.update_layout(barmode='overlay')\n",
    "fig.update_layout(font=dict(size=13))\n",
    "fig.update_layout(plot_bgcolor=\"#E8E8EA\")\n",
    "\n",
    "fig.update_layout(\n",
    "    yaxis2 = dict(\n",
    "        tickmode = 'linear',\n",
    "        tick0 = 0,\n",
    "        dtick = 25,\n",
    "    )\n",
    ")\n",
    "\n",
    "xaxis = dict(\n",
    "        tickformat = '%Y-%m-%d',\n",
    "        tickmode = 'linear',\n",
    "        dtick = \"M1\"\n",
    "    )\n",
    "fig.update_layout(\n",
    "    xaxis1=xaxis,\n",
    "    xaxis2=xaxis,\n",
    "    xaxis3 = xaxis,\n",
    ")\n",
    "\n",
    "fig.show()\n"
   ]
  },
  {
   "cell_type": "code",
   "execution_count": null,
   "metadata": {},
   "outputs": [],
   "source": [
    "import plotly.io as pio\n",
    "\n",
    "fname = html_top_dir.joinpath(verbose_name+'.svg')\n",
    "pio.write_image(fig, html_top_dir.joinpath(verbose_name+'.svg'), scale=1, width=5*300, height=2*300)\n",
    "fname"
   ]
  },
  {
   "cell_type": "code",
   "execution_count": null,
   "metadata": {},
   "outputs": [],
   "source": [
    "from pathlib import Path\n",
    "relfname = os.path.relpath(str(fname), os.getcwd())\n",
    "display(HTML(f\"\"\"<img src=\"{relfname}\" />\"\"\"))"
   ]
  },
  {
   "cell_type": "code",
   "execution_count": null,
   "metadata": {},
   "outputs": [],
   "source": [
    "!pip install -U kaleido"
   ]
  },
  {
   "cell_type": "code",
   "execution_count": null,
   "metadata": {},
   "outputs": [],
   "source": []
  },
  {
   "cell_type": "code",
   "execution_count": null,
   "metadata": {},
   "outputs": [],
   "source": [
    "raise"
   ]
  },
  {
   "cell_type": "code",
   "execution_count": null,
   "metadata": {},
   "outputs": [],
   "source": [
    "from plotly.subplots import make_subplots\n",
    "import plotly.graph_objects as go\n",
    "import plotly.express as px\n",
    "\n",
    "auroc_cols = column_xs(combined_df, ['auroc'])\n",
    "precision_cols = column_xs(combined_df, ['precision'])\n",
    "recall_cols = column_xs(combined_df, ['recall'])\n",
    "f1_cols = column_xs(combined_df, ['f1-score'])\n",
    "support_cols = column_xs(combined_df, ['support'])\n",
    "\n",
    "cols_ = [auroc_cols, recall_cols, precision_cols, f1_cols, support_cols]\n",
    "fig = make_subplots(rows=len(cols_), cols=1, shared_xaxes=True, vertical_spacing=0.01)\n",
    "\n",
    "names = sorted(set([c[1] for c in itertools.chain(*cols_)]), key=lambda x: 'avg' in x)\n",
    "colors = px.colors.qualitative.Plotly\n",
    "dashes = ['solid', 'dash', 'dotted']\n",
    "\n",
    "list(itertools.product(dashes, colors))\n",
    "\n",
    "lines = {}\n",
    "for name, spec in zip(names, itertools.product(dashes, colors)):\n",
    "    lines[name] = {'color': spec[1], 'dash': spec[0]}\n",
    "\n",
    "visited = set()\n",
    "for r, cols__ in enumerate(cols_, 1):\n",
    "    for c in cols__:\n",
    "        ypp = combined_df[c].reindex(x)\n",
    "        line = lines[c[1]]\n",
    "        showlegend = not c[1] in visited\n",
    "        visited.add(c[1])\n",
    "        fig.add_trace(go.Scatter(x=x, y=smooth(ypp), showlegend=showlegend, legendgroup=c[1],\n",
    "                name=c[1], hovertemplate=\"%{y: .5f}\", connectgaps=False, line=line), row=r, col=1)\n",
    "    fig.update_yaxes(title_text=c[-1], row=r, col=1)\n",
    "add_dates(fig, dates, 1.025)\n",
    "\n",
    "fig.update_layout(title=f\"Peformance\")\n",
    "fig.update_layout(hovermode=\"x unified\")\n",
    "fig.update_layout(height=300*len(cols_))\n",
    "fig.update_xaxes(range=[graph_start, graph_end])\n",
    "fig.update_layout(font=font)\n",
    "\n",
    "fig.show()\n",
    "\n",
    "if write_html:\n",
    "    fig_html = fig.to_html()\n",
    "    with open(fn, 'a') as f:\n",
    "        print(f\"<h2>Performance</h2>\", file=f)\n",
    "        print(fig_html, file=f)"
   ]
  },
  {
   "cell_type": "code",
   "execution_count": null,
   "metadata": {},
   "outputs": [],
   "source": [
    "fh = FigureHelper(x)\n",
    "fh.add_trace(y=smooth(yp), name=\"AUROC\", connectgaps=False, line={\"color\": \"blue\"}, yu=smooth(yp+perf_error_df), yl=smooth(yp-perf_error_df), row=1, col=1)\n",
    "fh.add_trace(y=smooth(combined_df[congruency_measure_col]), row=2, name='Data Congruency (True)')\n",
    "corrs = []\n",
    "\n",
    "if not float(run_row['peds_weight']):\n",
    "    xcols = zip([\"metadata\", \"vae\", \"score\", \"vae+score\", \"metadate+vae+score\"],  [metadata_cols, vae_cols, score_cols, vae_cols+score_cols, vae_cols+score_cols+metadata_cols])\n",
    "else:\n",
    "    xcols = zip([\"vae\", \"score\", \"vae+score\"],  [vae_cols, score_cols, vae_cols+score_cols])\n",
    "\n",
    "for row, (name_, cols) in enumerate(xcols, 1):\n",
    "    for i, name in enumerate([\"abs(corr)\"]):\n",
    "        otherstd_ = otherstd[cols]\n",
    "        weights = m[name].sort_values(ascending=False)\n",
    "        yo = -w_avg(otherstd_.loc[x], weights=weights.to_dict())\n",
    "        \n",
    "        fh.add_trace(y=smooth(yo), name=name_, line={\"width\": 1},  connectgaps=False, row=3, col=1)\n",
    "        \n",
    "        corrs.append(collect_corr(y,yo, name_, \"Everything\", name))\n",
    "        corrs.append(collect_corr(y,yo, name_, \"Validation\", name,\n",
    "                                start_date=settings.PADCHEST_SPLIT_DATES[0], end_date=settings.PADCHEST_SPLIT_DATES[1]))\n",
    "        corrs.append(collect_corr(y,yo, name_, \"Test\", name,\n",
    "                                start_date=settings.PADCHEST_SPLIT_DATES[1]))\n",
    "        corrs.append(collect_corr(y,yo, name_, \"First Year of Test\", name,\n",
    "                                start_date=settings.PADCHEST_SPLIT_DATES[1], end_date=\"2014-12-31\"))\n",
    "\n",
    "\n",
    "fig = fh.make_fig(shared_xaxes=True, vertical_spacing=0.01)\n",
    "add_dates(fig, dates, 1.08)\n",
    "\n",
    "\n",
    "fig.update_layout(title=f\"Level 1 Metrics\")\n",
    "fig.update_xaxes(showspikes=True, spikecolor=\"black\", spikesnap=\"cursor\", spikemode=\"across\", spikethickness=1)\n",
    "fig.update_layout(spikedistance=1000)\n",
    "fig.update_layout(height=600)\n",
    "fig.update_xaxes(range=[graph_start, graph_end])\n",
    "fig.update_layout(barmode='overlay')\n",
    "corr_df = pd.DataFrame(corrs).sort_values('when')\n",
    "display(corr_df)\n",
    "fig.show()\n",
    "\n",
    "fig_html = fig.to_html()\n",
    "\n",
    "if write_html:\n",
    "    with open(fn, 'a') as f:\n",
    "        print(f\"<h2>Level 1 Unified</h2>\", file=f)\n",
    "        for w, grp in corr_df.groupby('when'):\n",
    "            print(f\"<strong>{w}</strong>{grp.to_html()}\", file=f)\n",
    "        print(fig_html, file=f)\n"
   ]
  },
  {
   "cell_type": "code",
   "execution_count": null,
   "metadata": {},
   "outputs": [],
   "source": [
    "fh = FigureHelper(x, dashes=['solid', 'dot', 'dash', 'longdash', 'dashdot', 'longdashdot'])\n",
    "fh.add_trace(y=smooth(yp), name=\"AUROC\", connectgaps=False, line={\"color\": \"blue\"}, yu=smooth(yp+perf_error_df), yl=smooth(yp-perf_error_df), row=1, col=1)\n",
    "fh.add_trace(y=smooth(combined_df[congruency_measure_col]), row=2, name='Data Congruency (True)')\n",
    "corrs = []\n",
    "\n",
    "def partition(l, n):\n",
    "    return [l[i:i + n] for i in range(0, len(l), n)]\n",
    "\n",
    "cols = metadata_cols\n",
    "otherstd_ = otherstd[cols]\n",
    "cols_chi2 = column_xs(otherstd_, include='chi2')\n",
    "otherstd_ = otherstd[cols_chi2]\n",
    "cols_ = partition(cols_chi2, 12)\n",
    "print(len(cols_))\n",
    "\n",
    "for row, cols in enumerate(cols_, 3):\n",
    "    for c in cols:\n",
    "        yo = -otherstd[c]\n",
    "        fh.add_trace(y=smooth(yo), name=str(c), connectgaps=False, row=row, col=1)\n",
    "        \n",
    "        corrs.append(collect_corr(y,yo, str(c), \"Everything\", 'N/A'))\n",
    "        corrs.append(collect_corr(y,yo, str(c), \"Validation\", 'N/A',\n",
    "                                start_date=settings.PADCHEST_SPLIT_DATES[0], end_date=settings.PADCHEST_SPLIT_DATES[1]))\n",
    "        corrs.append(collect_corr(y,yo, str(c), \"Test\", 'N/A',\n",
    "                                start_date=settings.PADCHEST_SPLIT_DATES[1]))\n",
    "        corrs.append(collect_corr(y,yo, str(c), \"First Year of Test\", 'N/A',\n",
    "                                start_date=settings.PADCHEST_SPLIT_DATES[1], end_date=\"2014-12-31\"))\n",
    "\n",
    "if not float(run_row['peds_weight']):     \n",
    "    fig = fh.make_fig(shared_xaxes=True, vertical_spacing=0.01)\n",
    "    add_dates(fig, dates, 1.05)\n",
    "\n",
    "    fig.update_layout(title=f\"Metadata Categorical\")\n",
    "    fig.update_xaxes(showspikes=True, spikecolor=\"black\", spikesnap=\"cursor\", spikemode=\"across\", spikethickness=1)\n",
    "    fig.update_layout(spikedistance=1000)\n",
    "    fig.update_layout(height=200*(len(cols_)+2))\n",
    "    fig.update_xaxes(range=[graph_start, graph_end])\n",
    "    fig.update_layout(font=font)\n",
    "    fig.update_layout(barmode='overlay')\n",
    "\n",
    "    corr_df = pd.DataFrame(corrs)\n",
    "    display(corr_df)\n",
    "\n",
    "    fig.show()\n",
    "\n",
    "\n",
    "    fig_html = fig.to_html()\n",
    "    if write_html: \n",
    "        with open(fn, 'a') as f:\n",
    "            print(f\"<h2>Metadata Categorical</h2>\", file=f)\n",
    "            for w, grp in corr_df.groupby('when'):\n",
    "                print(f\"<strong>{w}</strong>{grp.to_html()}\", file=f)\n",
    "            print(fig_html, file=f)"
   ]
  },
  {
   "cell_type": "code",
   "execution_count": null,
   "metadata": {},
   "outputs": [],
   "source": [
    "fh = FigureHelper(x, dashes=['solid', 'dot', 'dash', 'longdash', 'dashdot', 'longdashdot'])\n",
    "fh.add_trace(y=smooth(yp), name=\"AUROC\", connectgaps=False, line={\"color\": \"blue\"}, yu=smooth(yp+perf_error_df), yl=smooth(yp-perf_error_df), row=1, col=1)\n",
    "fh.add_trace(y=smooth(combined_df[congruency_measure_col]), row=2, name='Data Congruency (True)')\n",
    "corrs = []\n",
    "\n",
    "def partition(l, n):\n",
    "    return [l[i:i + n] for i in range(0, len(l), n)]\n",
    "\n",
    "cols = metadata_cols\n",
    "otherstd_ = otherstd[cols]\n",
    "cols_chi2 = column_xs(otherstd_, include='ks')\n",
    "otherstd_ = otherstd[cols_chi2]\n",
    "cols_ = partition(cols_chi2, 14)\n",
    "print(len(cols_chi2))\n",
    "\n",
    "for row, cols in enumerate(cols_, 3):\n",
    "    for c in cols:\n",
    "        yo = -otherstd[c]\n",
    "        fh.add_trace(y=smooth(yo), name=str(c), connectgaps=False, row=row, col=1)\n",
    "        \n",
    "        corrs.append(collect_corr(y,yo, str(c), \"Everything\", 'N/A'))\n",
    "        corrs.append(collect_corr(y,yo, str(c), \"Validation\", 'N/A',\n",
    "                                start_date=settings.PADCHEST_SPLIT_DATES[0], end_date=settings.PADCHEST_SPLIT_DATES[1]))\n",
    "        corrs.append(collect_corr(y,yo, str(c), \"Test\", 'N/A',\n",
    "                                start_date=settings.PADCHEST_SPLIT_DATES[1]))\n",
    "        corrs.append(collect_corr(y,yo, str(c), \"First Year of Test\", 'N/A',\n",
    "                                start_date=settings.PADCHEST_SPLIT_DATES[1], end_date=\"2014-12-31\"))\n",
    "if not float(run_row['peds_weight']):\n",
    "    fig = fh.make_fig(shared_xaxes=True, vertical_spacing=0.01)\n",
    "    add_dates(fig, dates, 1.08)\n",
    "\n",
    "    fig.update_layout(title=f\"Metadata Real Valued\")\n",
    "    fig.update_xaxes(showspikes=True, spikecolor=\"black\", spikesnap=\"cursor\", spikemode=\"across\", spikethickness=1)\n",
    "    fig.update_layout(spikedistance=1000)\n",
    "    fig.update_layout(height=200*(len(cols_)+2))\n",
    "    fig.update_xaxes(range=[graph_start, graph_end])\n",
    "    fig.update_layout(font=font)\n",
    "    fig.update_layout(barmode='overlay')\n",
    "    fig.show()\n",
    "\n",
    "\n",
    "    fig_html = fig.to_html()\n",
    "    if write_html: \n",
    "        with open(fn, 'a') as f:\n",
    "            print(f\"<h2>Metadata Real Valued</h2>\", file=f)\n",
    "            for w, grp in corr_df.groupby('when'):\n",
    "                print(f\"<strong>{w}</strong>{grp.to_html()}\", file=f)\n",
    "            print(fig_html, file=f)"
   ]
  },
  {
   "cell_type": "code",
   "execution_count": null,
   "metadata": {},
   "outputs": [],
   "source": [
    "fh = FigureHelper(x, dashes=['solid', 'dot', 'dash', 'longdash', 'dashdot', 'longdashdot'])\n",
    "fh.add_trace(y=smooth(yp), name=\"AUROC\", connectgaps=False, line={\"color\": \"blue\"}, yu=smooth(yp+perf_error_df), yl=smooth(yp-perf_error_df), row=1, col=1)\n",
    "fh.add_trace(y=smooth(combined_df[congruency_measure_col]), row=2, name='Data Congruency (True)')\n",
    "corrs = []\n",
    "\n",
    "def partition(l, n):\n",
    "    return [l[i:i + n] for i in range(0, len(l), n)]\n",
    "\n",
    "\n",
    "cols = vae_cols\n",
    "o = other_df[cols].loc[settings.PADCHEST_SPLIT_DATES[1]:].swaplevel(0, 2, axis=1)[['distance']].swaplevel(0, 2, axis=1)\n",
    "colss = o.max(axis=0).sort_values(ascending=False).head(12).index.tolist()\n",
    "cols_ = partition(colss, 12)\n",
    "\n",
    "\n",
    "for row, cols in enumerate(cols_, 3):\n",
    "    for c in cols:\n",
    "        yo = -otherstd[c]\n",
    "        fh.add_trace(y=smooth(yo), name=str(c), connectgaps=False, row=row, col=1)\n",
    "        \n",
    "        corrs.append(collect_corr(y,yo, str(c), \"Everything\", 'N/A'))\n",
    "        corrs.append(collect_corr(y,yo, str(c), \"Validation\", 'N/A',\n",
    "                                start_date=settings.PADCHEST_SPLIT_DATES[0], end_date=settings.PADCHEST_SPLIT_DATES[1]))\n",
    "        corrs.append(collect_corr(y,yo, str(c), \"Test\", 'N/A',\n",
    "                                start_date=settings.PADCHEST_SPLIT_DATES[1]))\n",
    "        corrs.append(collect_corr(y,yo, str(c), \"First Year of Test\", 'N/A',\n",
    "                                start_date=settings.PADCHEST_SPLIT_DATES[1], end_date=\"2014-12-31\"))\n",
    "        \n",
    "fig = fh.make_fig(shared_xaxes=True, vertical_spacing=0.01)\n",
    "add_dates(fig, dates, 1.08)\n",
    "\n",
    "fig.update_layout(title=f\"VAE Mu (top {len(colss)})\")\n",
    "fig.update_xaxes(showspikes=True, spikecolor=\"black\", spikesnap=\"cursor\", spikemode=\"across\", spikethickness=1)\n",
    "fig.update_layout(spikedistance=1000)\n",
    "fig.update_layout(height=200*(len(cols_)+2))\n",
    "fig.update_xaxes(range=[settings.PADCHEST_SPLIT_DATES[1], graph_end])\n",
    "fig.update_layout(barmode='overlay')\n",
    "fig.update_layout(font=font)\n",
    "corr_df = pd.DataFrame(corrs).sort_values('when')\n",
    "display(corr_df)\n",
    "fig.show()\n",
    "\n",
    "\n",
    "fig_html = fig.to_html()\n",
    "if write_html: \n",
    "    with open(fn, 'a') as f:\n",
    "        print(f\"<h2>VAE Mu (top {len(colss)})</h2>\", file=f)\n",
    "        for w, grp in corr_df.groupby('when'):\n",
    "            print(f\"<strong>{w}</strong>{grp.to_html()}\", file=f)\n",
    "        print(fig_html, file=f)"
   ]
  },
  {
   "cell_type": "code",
   "execution_count": null,
   "metadata": {},
   "outputs": [],
   "source": [
    "arg_df2['Link'] = [f\"\"\"<a href=\"{name}/index.html\" disabled=>Graphs</a>\"\"\" if html_top_dir.joinpath(name).exists() else \"N/A\" for name in arg_df2.index]\n",
    "\n",
    "\n",
    "with open(html_top_dir.joinpath(\"index.html\"), 'w') as f:\n",
    "        print(\"\"\"\n",
    "            <style>\n",
    "            table {\n",
    "            font-family: arial, sans-serif;\n",
    "            border-collapse: collapse;\n",
    "            width: 80%;\n",
    "            }\n",
    "\n",
    "            td, th {\n",
    "            border: 1px solid #dddddd;\n",
    "            text-align: left;\n",
    "            padding: 8px;\n",
    "            }\n",
    "\n",
    "            tr:nth-child(even) {\n",
    "            background-color: #dddddd;\n",
    "            }\n",
    "            </style>\n",
    "        \"\"\", file=f)\n",
    "        print(f\"Generated: {datetime.datetime.now()}\", file=f)\n",
    "        print(arg_df2.to_html(escape=False), file=f)\n",
    "        print(fix_links_script, file=f)"
   ]
  },
  {
   "cell_type": "code",
   "execution_count": null,
   "metadata": {},
   "outputs": [],
   "source": [
    "def create_index_html(child):\n",
    "    if child.is_file(): return\n",
    "    html_files = []\n",
    "    html_folders = []\n",
    "    if child.parent.joinpath('index.html').exists():\n",
    "        html_folders.append(\"..\")\n",
    "    for html_file in child.iterdir():\n",
    "        n = html_file.relative_to(child)\n",
    "        if html_file.is_file() and not str(html_file).endswith('index.html'):\n",
    "            html_files.append(n)\n",
    "        elif html_file.joinpath('index.html').exists():\n",
    "            html_folders.append(n)\n",
    "    \n",
    "    \n",
    "    html = \"folders: <ul>\"\n",
    "    for n in html_folders:\n",
    "            html += f\"\"\"\n",
    "            <li><a href=\"{n}/index.html\">{n}</a></li>\n",
    "            \"\"\"\n",
    "    html += \"</ul>\"\n",
    "    html += \"files:<ul>\"\n",
    "    for n in html_files:\n",
    "            html += f\"\"\"\n",
    "            <li><a href=\"{n}\">{n}</a></li>\n",
    "            \"\"\"\n",
    "    html += \"</ul>\"\n",
    "    with open(child.joinpath('index.html'), 'w') as f:\n",
    "        print(html, file=f)\n",
    "        print(fix_links_script, file=f)\n",
    "        \n",
    "        \n"
   ]
  },
  {
   "cell_type": "code",
   "execution_count": null,
   "metadata": {},
   "outputs": [],
   "source": [
    "create_index_html(html_top_dir.parent.joinpath('vae[all-data]'))\n",
    "create_index_html(html_top_dir.parent)\n",
    "    "
   ]
  },
  {
   "cell_type": "code",
   "execution_count": null,
   "metadata": {},
   "outputs": [],
   "source": [
    "for child in html_top_dir.iterdir():\n",
    "    create_index_html(child)\n",
    "    \n",
    "            \n",
    "    \n",
    "    \n",
    "            "
   ]
  },
  {
   "cell_type": "code",
   "execution_count": null,
   "metadata": {},
   "outputs": [],
   "source": [
    "html"
   ]
  },
  {
   "cell_type": "code",
   "execution_count": null,
   "metadata": {},
   "outputs": [],
   "source": []
  }
 ],
 "metadata": {
  "interpreter": {
   "hash": "40209cfd1e49aba1e20a3908f9a243f43b2ed73034fd3a81730d62124bbdcdae"
  },
  "kernelspec": {
   "display_name": "Python 3.7.3 64-bit (conda)",
   "name": "python3"
  },
  "language_info": {
   "codemirror_mode": {
    "name": "ipython",
    "version": 3
   },
   "file_extension": ".py",
   "mimetype": "text/x-python",
   "name": "python",
   "nbconvert_exporter": "python",
   "pygments_lexer": "ipython3",
   "version": "3.7.3"
  },
  "orig_nbformat": 4
 },
 "nbformat": 4,
 "nbformat_minor": 2
}
