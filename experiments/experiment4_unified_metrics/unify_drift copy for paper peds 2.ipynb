{
 "cells": [
  {
   "cell_type": "code",
   "execution_count": 27,
   "metadata": {},
   "outputs": [],
   "source": [
    "from IPython.display import display, Markdown, HTML\n",
    "import plotly.express as px\n",
    "import itertools\n",
    "\n",
    "from azureml.core import Run, Model\n",
    "from azureml.core import Datastore, Experiment, ScriptRunConfig, Workspace, Run\n",
    "\n",
    "from model_drift import settings\n",
    "from model_drift.helpers import column_xs, correlate_performance, mutual_info_performance, w_avg\n",
    "import pandas as pd\n",
    "import os\n",
    "import datetime\n",
    "\n"
   ]
  },
  {
   "cell_type": "code",
   "execution_count": 28,
   "metadata": {},
   "outputs": [
    {
     "data": {
      "text/html": [
       "<div>\n",
       "<style scoped>\n",
       "    .dataframe tbody tr th:only-of-type {\n",
       "        vertical-align: middle;\n",
       "    }\n",
       "\n",
       "    .dataframe tbody tr th {\n",
       "        vertical-align: top;\n",
       "    }\n",
       "\n",
       "    .dataframe thead th {\n",
       "        text-align: right;\n",
       "    }\n",
       "</style>\n",
       "<table border=\"1\" class=\"dataframe\">\n",
       "  <thead>\n",
       "    <tr style=\"text-align: right;\">\n",
       "      <th></th>\n",
       "      <th>_aml_system_ComputeTargetStatus</th>\n",
       "      <th>mlflow.source.type</th>\n",
       "      <th>mlflow.source.name</th>\n",
       "      <th>run_azure</th>\n",
       "      <th>input_dir</th>\n",
       "      <th>output_dir</th>\n",
       "      <th>dataset</th>\n",
       "      <th>vae_dataset</th>\n",
       "      <th>classifier_dataset</th>\n",
       "      <th>vae_filter</th>\n",
       "      <th>...</th>\n",
       "      <th>num_workers</th>\n",
       "      <th>dbg</th>\n",
       "      <th>id</th>\n",
       "      <th>url</th>\n",
       "      <th>run</th>\n",
       "      <th>frontal_remove_date</th>\n",
       "      <th>nonfrontal_add_date</th>\n",
       "      <th>peds_end_date</th>\n",
       "      <th>peds_start_date</th>\n",
       "      <th>peds_weight</th>\n",
       "    </tr>\n",
       "    <tr>\n",
       "      <th>display_name</th>\n",
       "      <th></th>\n",
       "      <th></th>\n",
       "      <th></th>\n",
       "      <th></th>\n",
       "      <th></th>\n",
       "      <th></th>\n",
       "      <th></th>\n",
       "      <th></th>\n",
       "      <th></th>\n",
       "      <th></th>\n",
       "      <th></th>\n",
       "      <th></th>\n",
       "      <th></th>\n",
       "      <th></th>\n",
       "      <th></th>\n",
       "      <th></th>\n",
       "      <th></th>\n",
       "      <th></th>\n",
       "      <th></th>\n",
       "      <th></th>\n",
       "      <th></th>\n",
       "    </tr>\n",
       "  </thead>\n",
       "  <tbody>\n",
       "    <tr>\n",
       "      <th>sad_caravan_nnryywcw</th>\n",
       "      <td>{\"AllocationState\":\"steady\",\"PreparingNodeCoun...</td>\n",
       "      <td>JOB</td>\n",
       "      <td>scripts/drift/generate-drift-csv-label.py</td>\n",
       "      <td>1</td>\n",
       "      <td>/mnt/batch/tasks/shared/LS_root/jobs/mlops_sha...</td>\n",
       "      <td>./outputs/</td>\n",
       "      <td>padchest</td>\n",
       "      <td>padchest-trained</td>\n",
       "      <td>padchest-finetuned-chx-frontalonly</td>\n",
       "      <td>all-data</td>\n",
       "      <td>...</td>\n",
       "      <td>10</td>\n",
       "      <td>1</td>\n",
       "      <td>generate-drift-csv-label-mod-dbg_1642612521_b3...</td>\n",
       "      <td>https://ml.azure.com/runs/generate-drift-csv-l...</td>\n",
       "      <td>Run(Experiment: generate-drift-csv-label-mod-d...</td>\n",
       "      <td>NaN</td>\n",
       "      <td>NaN</td>\n",
       "      <td>NaN</td>\n",
       "      <td>NaN</td>\n",
       "      <td>NaN</td>\n",
       "    </tr>\n",
       "    <tr>\n",
       "      <th>serene_head_v04mgvx4</th>\n",
       "      <td>{\"AllocationState\":\"steady\",\"PreparingNodeCoun...</td>\n",
       "      <td>JOB</td>\n",
       "      <td>scripts/drift/generate-drift-csv-label.py</td>\n",
       "      <td>1</td>\n",
       "      <td>/mnt/batch/tasks/shared/LS_root/jobs/mlops_sha...</td>\n",
       "      <td>./outputs/</td>\n",
       "      <td>padchest</td>\n",
       "      <td>padchest-trained</td>\n",
       "      <td>padchest-finetuned-chx-frontalonly</td>\n",
       "      <td>all-data</td>\n",
       "      <td>...</td>\n",
       "      <td>10</td>\n",
       "      <td>1</td>\n",
       "      <td>generate-drift-csv-label-mod-dbg_1642612530_ae...</td>\n",
       "      <td>https://ml.azure.com/runs/generate-drift-csv-l...</td>\n",
       "      <td>Run(Experiment: generate-drift-csv-label-mod-d...</td>\n",
       "      <td>NaN</td>\n",
       "      <td>NaN</td>\n",
       "      <td>NaN</td>\n",
       "      <td>NaN</td>\n",
       "      <td>NaN</td>\n",
       "    </tr>\n",
       "    <tr>\n",
       "      <th>salmon_cloud_wg3s2fnq</th>\n",
       "      <td>{\"AllocationState\":\"steady\",\"PreparingNodeCoun...</td>\n",
       "      <td>JOB</td>\n",
       "      <td>scripts/drift/generate-drift-csv-label.py</td>\n",
       "      <td>1</td>\n",
       "      <td>/mnt/batch/tasks/shared/LS_root/jobs/mlops_sha...</td>\n",
       "      <td>./outputs/</td>\n",
       "      <td>padchest</td>\n",
       "      <td>padchest-trained</td>\n",
       "      <td>padchest-finetuned-chx-frontalonly</td>\n",
       "      <td>all-data</td>\n",
       "      <td>...</td>\n",
       "      <td>10</td>\n",
       "      <td>1</td>\n",
       "      <td>generate-drift-csv-label-mod-dbg_1642612524_fb...</td>\n",
       "      <td>https://ml.azure.com/runs/generate-drift-csv-l...</td>\n",
       "      <td>Run(Experiment: generate-drift-csv-label-mod-d...</td>\n",
       "      <td>NaN</td>\n",
       "      <td>NaN</td>\n",
       "      <td>NaN</td>\n",
       "      <td>NaN</td>\n",
       "      <td>NaN</td>\n",
       "    </tr>\n",
       "    <tr>\n",
       "      <th>affable_plum_cm6y51d3</th>\n",
       "      <td>{\"AllocationState\":\"steady\",\"PreparingNodeCoun...</td>\n",
       "      <td>JOB</td>\n",
       "      <td>scripts/drift/generate-drift-csv-label.py</td>\n",
       "      <td>1</td>\n",
       "      <td>/mnt/batch/tasks/shared/LS_root/jobs/mlops_sha...</td>\n",
       "      <td>./outputs/</td>\n",
       "      <td>padchest</td>\n",
       "      <td>padchest-trained</td>\n",
       "      <td>padchest-finetuned-chx-frontalonly</td>\n",
       "      <td>all-data</td>\n",
       "      <td>...</td>\n",
       "      <td>10</td>\n",
       "      <td>1</td>\n",
       "      <td>generate-drift-csv-label-mod-dbg_1642612534_c7...</td>\n",
       "      <td>https://ml.azure.com/runs/generate-drift-csv-l...</td>\n",
       "      <td>Run(Experiment: generate-drift-csv-label-mod-d...</td>\n",
       "      <td>NaN</td>\n",
       "      <td>NaN</td>\n",
       "      <td>NaN</td>\n",
       "      <td>NaN</td>\n",
       "      <td>NaN</td>\n",
       "    </tr>\n",
       "    <tr>\n",
       "      <th>musing_lock_mgsp9xps</th>\n",
       "      <td>{\"AllocationState\":\"steady\",\"PreparingNodeCoun...</td>\n",
       "      <td>JOB</td>\n",
       "      <td>scripts/drift/generate-drift-csv-label.py</td>\n",
       "      <td>1</td>\n",
       "      <td>/mnt/batch/tasks/shared/LS_root/jobs/mlops_sha...</td>\n",
       "      <td>./outputs/</td>\n",
       "      <td>padchest</td>\n",
       "      <td>padchest-trained</td>\n",
       "      <td>padchest-finetuned-chx-frontalonly</td>\n",
       "      <td>all-data</td>\n",
       "      <td>...</td>\n",
       "      <td>10</td>\n",
       "      <td>1</td>\n",
       "      <td>generate-drift-csv-label-mod-dbg_1642461065_3b...</td>\n",
       "      <td>https://ml.azure.com/runs/generate-drift-csv-l...</td>\n",
       "      <td>Run(Experiment: generate-drift-csv-label-mod-d...</td>\n",
       "      <td>NaN</td>\n",
       "      <td>NaN</td>\n",
       "      <td>NaN</td>\n",
       "      <td>NaN</td>\n",
       "      <td>NaN</td>\n",
       "    </tr>\n",
       "  </tbody>\n",
       "</table>\n",
       "<p>5 rows × 36 columns</p>\n",
       "</div>"
      ],
      "text/plain": [
       "                                         _aml_system_ComputeTargetStatus  \\\n",
       "display_name                                                               \n",
       "sad_caravan_nnryywcw   {\"AllocationState\":\"steady\",\"PreparingNodeCoun...   \n",
       "serene_head_v04mgvx4   {\"AllocationState\":\"steady\",\"PreparingNodeCoun...   \n",
       "salmon_cloud_wg3s2fnq  {\"AllocationState\":\"steady\",\"PreparingNodeCoun...   \n",
       "affable_plum_cm6y51d3  {\"AllocationState\":\"steady\",\"PreparingNodeCoun...   \n",
       "musing_lock_mgsp9xps   {\"AllocationState\":\"steady\",\"PreparingNodeCoun...   \n",
       "\n",
       "                      mlflow.source.type  \\\n",
       "display_name                               \n",
       "sad_caravan_nnryywcw                 JOB   \n",
       "serene_head_v04mgvx4                 JOB   \n",
       "salmon_cloud_wg3s2fnq                JOB   \n",
       "affable_plum_cm6y51d3                JOB   \n",
       "musing_lock_mgsp9xps                 JOB   \n",
       "\n",
       "                                              mlflow.source.name run_azure  \\\n",
       "display_name                                                                 \n",
       "sad_caravan_nnryywcw   scripts/drift/generate-drift-csv-label.py         1   \n",
       "serene_head_v04mgvx4   scripts/drift/generate-drift-csv-label.py         1   \n",
       "salmon_cloud_wg3s2fnq  scripts/drift/generate-drift-csv-label.py         1   \n",
       "affable_plum_cm6y51d3  scripts/drift/generate-drift-csv-label.py         1   \n",
       "musing_lock_mgsp9xps   scripts/drift/generate-drift-csv-label.py         1   \n",
       "\n",
       "                                                               input_dir  \\\n",
       "display_name                                                               \n",
       "sad_caravan_nnryywcw   /mnt/batch/tasks/shared/LS_root/jobs/mlops_sha...   \n",
       "serene_head_v04mgvx4   /mnt/batch/tasks/shared/LS_root/jobs/mlops_sha...   \n",
       "salmon_cloud_wg3s2fnq  /mnt/batch/tasks/shared/LS_root/jobs/mlops_sha...   \n",
       "affable_plum_cm6y51d3  /mnt/batch/tasks/shared/LS_root/jobs/mlops_sha...   \n",
       "musing_lock_mgsp9xps   /mnt/batch/tasks/shared/LS_root/jobs/mlops_sha...   \n",
       "\n",
       "                       output_dir   dataset       vae_dataset  \\\n",
       "display_name                                                    \n",
       "sad_caravan_nnryywcw   ./outputs/  padchest  padchest-trained   \n",
       "serene_head_v04mgvx4   ./outputs/  padchest  padchest-trained   \n",
       "salmon_cloud_wg3s2fnq  ./outputs/  padchest  padchest-trained   \n",
       "affable_plum_cm6y51d3  ./outputs/  padchest  padchest-trained   \n",
       "musing_lock_mgsp9xps   ./outputs/  padchest  padchest-trained   \n",
       "\n",
       "                                       classifier_dataset vae_filter  ...  \\\n",
       "display_name                                                          ...   \n",
       "sad_caravan_nnryywcw   padchest-finetuned-chx-frontalonly   all-data  ...   \n",
       "serene_head_v04mgvx4   padchest-finetuned-chx-frontalonly   all-data  ...   \n",
       "salmon_cloud_wg3s2fnq  padchest-finetuned-chx-frontalonly   all-data  ...   \n",
       "affable_plum_cm6y51d3  padchest-finetuned-chx-frontalonly   all-data  ...   \n",
       "musing_lock_mgsp9xps   padchest-finetuned-chx-frontalonly   all-data  ...   \n",
       "\n",
       "                      num_workers dbg  \\\n",
       "display_name                            \n",
       "sad_caravan_nnryywcw           10   1   \n",
       "serene_head_v04mgvx4           10   1   \n",
       "salmon_cloud_wg3s2fnq          10   1   \n",
       "affable_plum_cm6y51d3          10   1   \n",
       "musing_lock_mgsp9xps           10   1   \n",
       "\n",
       "                                                                      id  \\\n",
       "display_name                                                               \n",
       "sad_caravan_nnryywcw   generate-drift-csv-label-mod-dbg_1642612521_b3...   \n",
       "serene_head_v04mgvx4   generate-drift-csv-label-mod-dbg_1642612530_ae...   \n",
       "salmon_cloud_wg3s2fnq  generate-drift-csv-label-mod-dbg_1642612524_fb...   \n",
       "affable_plum_cm6y51d3  generate-drift-csv-label-mod-dbg_1642612534_c7...   \n",
       "musing_lock_mgsp9xps   generate-drift-csv-label-mod-dbg_1642461065_3b...   \n",
       "\n",
       "                                                                     url  \\\n",
       "display_name                                                               \n",
       "sad_caravan_nnryywcw   https://ml.azure.com/runs/generate-drift-csv-l...   \n",
       "serene_head_v04mgvx4   https://ml.azure.com/runs/generate-drift-csv-l...   \n",
       "salmon_cloud_wg3s2fnq  https://ml.azure.com/runs/generate-drift-csv-l...   \n",
       "affable_plum_cm6y51d3  https://ml.azure.com/runs/generate-drift-csv-l...   \n",
       "musing_lock_mgsp9xps   https://ml.azure.com/runs/generate-drift-csv-l...   \n",
       "\n",
       "                                                                     run  \\\n",
       "display_name                                                               \n",
       "sad_caravan_nnryywcw   Run(Experiment: generate-drift-csv-label-mod-d...   \n",
       "serene_head_v04mgvx4   Run(Experiment: generate-drift-csv-label-mod-d...   \n",
       "salmon_cloud_wg3s2fnq  Run(Experiment: generate-drift-csv-label-mod-d...   \n",
       "affable_plum_cm6y51d3  Run(Experiment: generate-drift-csv-label-mod-d...   \n",
       "musing_lock_mgsp9xps   Run(Experiment: generate-drift-csv-label-mod-d...   \n",
       "\n",
       "                      frontal_remove_date nonfrontal_add_date peds_end_date  \\\n",
       "display_name                                                                  \n",
       "sad_caravan_nnryywcw                  NaN                 NaN           NaN   \n",
       "serene_head_v04mgvx4                  NaN                 NaN           NaN   \n",
       "salmon_cloud_wg3s2fnq                 NaN                 NaN           NaN   \n",
       "affable_plum_cm6y51d3                 NaN                 NaN           NaN   \n",
       "musing_lock_mgsp9xps                  NaN                 NaN           NaN   \n",
       "\n",
       "                      peds_start_date peds_weight  \n",
       "display_name                                       \n",
       "sad_caravan_nnryywcw              NaN         NaN  \n",
       "serene_head_v04mgvx4              NaN         NaN  \n",
       "salmon_cloud_wg3s2fnq             NaN         NaN  \n",
       "affable_plum_cm6y51d3             NaN         NaN  \n",
       "musing_lock_mgsp9xps              NaN         NaN  \n",
       "\n",
       "[5 rows x 36 columns]"
      ]
     },
     "execution_count": 28,
     "metadata": {},
     "output_type": "execute_result"
    }
   ],
   "source": [
    "import pandas as pd\n",
    "import six\n",
    "\n",
    "\n",
    "ws = Workspace.from_config(settings.AZUREML_CONFIG)\n",
    "experiment_name = 'generate-drift-csv-label-mod-dbg'\n",
    "exp = Experiment(workspace=ws, name=experiment_name)\n",
    "\n",
    "\n",
    "def run_to_dict(run):\n",
    "    d = dict(**run.tags)\n",
    "    d['id'] = run.id\n",
    "    d['display_name'] = run.display_name\n",
    "    d['url'] = run.get_portal_url()\n",
    "    d['run'] = run\n",
    "    # d[\"startTimeUtc\"] = pd.to_datetime(run.get_details()[\"startTimeUtc\"])\n",
    "    # d[\"endTimeUtc\"] = pd.to_datetime(run.get_details()[\"endTimeUtc\"])\n",
    "    return d\n",
    "\n",
    "\n",
    "def experiment_to_dataframe(experiment, workspace=None):\n",
    "    \n",
    "    if isinstance(experiment, six.string_types):\n",
    "        if workspace is None:\n",
    "            raise ValueError(\"if experiment is string, must provide workspace\")\n",
    "        experiment = Experiment(workspace=workspace, name=experiment)\n",
    "    df = []\n",
    "    for run in exp.get_runs():\n",
    "        if run.status != \"Completed\":\n",
    "            continue\n",
    "        df.append(run_to_dict(run))\n",
    "    return pd.DataFrame(df).set_index(['display_name'])#.sort_values(\"endTimeUtc\", ascending=False)\n",
    "\n",
    "df = experiment_to_dataframe(exp)\n",
    "\n",
    "run = Run(experiment=Experiment(workspace=ws, name='generate-drift-csv-3'), \n",
    "          run_id=\"generate-drift-csv-3_1639942528_d9f3ee90\") # \"tender_pear_lfbd6\n",
    "df = df[~df['mod_end_date'].isnull()]\n",
    "\n",
    "# Baseline\n",
    "d = run_to_dict(run)\n",
    "d[\"label_modifiers\"] = \"Baseline\"\n",
    "df = df.append(pd.Series(d, name=d.pop(\"display_name\")))\n",
    "\n",
    "df.head()"
   ]
  },
  {
   "cell_type": "code",
   "execution_count": 29,
   "metadata": {},
   "outputs": [],
   "source": [
    "html_top_dir = settings.TOP_DIR.joinpath(\"html\", \"graphs_paper\")\n",
    "html_top_dir.mkdir(exist_ok=True)"
   ]
  },
  {
   "cell_type": "code",
   "execution_count": 30,
   "metadata": {},
   "outputs": [
    {
     "data": {
      "text/html": [
       "<div>\n",
       "<style scoped>\n",
       "    .dataframe tbody tr th:only-of-type {\n",
       "        vertical-align: middle;\n",
       "    }\n",
       "\n",
       "    .dataframe tbody tr th {\n",
       "        vertical-align: top;\n",
       "    }\n",
       "\n",
       "    .dataframe thead th {\n",
       "        text-align: right;\n",
       "    }\n",
       "</style>\n",
       "<table border=\"1\" class=\"dataframe\">\n",
       "  <thead>\n",
       "    <tr style=\"text-align: right;\">\n",
       "      <th></th>\n",
       "      <th>label_modifiers</th>\n",
       "      <th>mod_end_date</th>\n",
       "      <th>randomize_start_date</th>\n",
       "      <th>dbg</th>\n",
       "      <th>peds_weight</th>\n",
       "      <th>Link</th>\n",
       "    </tr>\n",
       "    <tr>\n",
       "      <th>display_name</th>\n",
       "      <th></th>\n",
       "      <th></th>\n",
       "      <th></th>\n",
       "      <th></th>\n",
       "      <th></th>\n",
       "      <th></th>\n",
       "    </tr>\n",
       "  </thead>\n",
       "  <tbody>\n",
       "    <tr>\n",
       "      <th>sad_caravan_nnryywcw</th>\n",
       "      <td>{\"Opacity\": [0.75, \"2014-04-01\", \"2014-08-15\"]...</td>\n",
       "      <td>2014-12-31</td>\n",
       "      <td>None</td>\n",
       "      <td>1</td>\n",
       "      <td>NaN</td>\n",
       "      <td>N/A</td>\n",
       "    </tr>\n",
       "    <tr>\n",
       "      <th>serene_head_v04mgvx4</th>\n",
       "      <td>{\"Cardiomegaly\": [0.75, \"2014-04-01\", \"2014-08...</td>\n",
       "      <td>2014-12-31</td>\n",
       "      <td>None</td>\n",
       "      <td>1</td>\n",
       "      <td>NaN</td>\n",
       "      <td>N/A</td>\n",
       "    </tr>\n",
       "    <tr>\n",
       "      <th>salmon_cloud_wg3s2fnq</th>\n",
       "      <td>{\"Pleural Abnormalities\": [0.75, \"2014-04-01\",...</td>\n",
       "      <td>2014-12-31</td>\n",
       "      <td>None</td>\n",
       "      <td>1</td>\n",
       "      <td>NaN</td>\n",
       "      <td>N/A</td>\n",
       "    </tr>\n",
       "    <tr>\n",
       "      <th>affable_plum_cm6y51d3</th>\n",
       "      <td>{\"Atelectasis\": [0.75, \"2014-04-01\", \"2014-08-...</td>\n",
       "      <td>2014-12-31</td>\n",
       "      <td>None</td>\n",
       "      <td>1</td>\n",
       "      <td>NaN</td>\n",
       "      <td>N/A</td>\n",
       "    </tr>\n",
       "    <tr>\n",
       "      <th>musing_lock_mgsp9xps</th>\n",
       "      <td>{\"Opacity\": [0.75, \"2014-06-01\", \"2014-09-15\"]...</td>\n",
       "      <td>2014-12-31</td>\n",
       "      <td>None</td>\n",
       "      <td>1</td>\n",
       "      <td>NaN</td>\n",
       "      <td>N/A</td>\n",
       "    </tr>\n",
       "    <tr>\n",
       "      <th>mighty_beard_vvtgq0q9</th>\n",
       "      <td>{\"Pleural Abnormalities\": [0.75, \"2014-06-01\",...</td>\n",
       "      <td>2014-12-31</td>\n",
       "      <td>None</td>\n",
       "      <td>1</td>\n",
       "      <td>NaN</td>\n",
       "      <td>N/A</td>\n",
       "    </tr>\n",
       "    <tr>\n",
       "      <th>jolly_tangelo_ch7q56v0</th>\n",
       "      <td>{\"Atelectasis\": [0.75, \"2014-06-01\", \"2014-09-...</td>\n",
       "      <td>2014-12-31</td>\n",
       "      <td>None</td>\n",
       "      <td>1</td>\n",
       "      <td>NaN</td>\n",
       "      <td>N/A</td>\n",
       "    </tr>\n",
       "    <tr>\n",
       "      <th>keen_circle_9wktjvvd</th>\n",
       "      <td>{\"Atelectasis\": [0.75, \"2014-06-01\", \"2014-09-...</td>\n",
       "      <td>2014-12-31</td>\n",
       "      <td>None</td>\n",
       "      <td>1</td>\n",
       "      <td>NaN</td>\n",
       "      <td>N/A</td>\n",
       "    </tr>\n",
       "    <tr>\n",
       "      <th>purple_toe_dnntc2j8</th>\n",
       "      <td>None</td>\n",
       "      <td>2014-12-31</td>\n",
       "      <td>2014-06-01</td>\n",
       "      <td>1</td>\n",
       "      <td>NaN</td>\n",
       "      <td>N/A</td>\n",
       "    </tr>\n",
       "    <tr>\n",
       "      <th>goofy_dress_ztmzmh27</th>\n",
       "      <td>None</td>\n",
       "      <td>2014-12-31</td>\n",
       "      <td>2014-04-01</td>\n",
       "      <td>1</td>\n",
       "      <td>NaN</td>\n",
       "      <td>N/A</td>\n",
       "    </tr>\n",
       "    <tr>\n",
       "      <th>ivory_river_m6m000f8</th>\n",
       "      <td>{\"Atelectasis\": [0.5, \"2014-04-01\", \"2014-06-3...</td>\n",
       "      <td>2014-12-31</td>\n",
       "      <td>NaN</td>\n",
       "      <td>1</td>\n",
       "      <td>NaN</td>\n",
       "      <td>N/A</td>\n",
       "    </tr>\n",
       "    <tr>\n",
       "      <th>serene_angle_h8wlwrl7</th>\n",
       "      <td>{\"Lesion\": [0.5, \"2014-04-01\", \"2014-06-30\"], ...</td>\n",
       "      <td>2014-12-31</td>\n",
       "      <td>NaN</td>\n",
       "      <td>1</td>\n",
       "      <td>NaN</td>\n",
       "      <td>N/A</td>\n",
       "    </tr>\n",
       "    <tr>\n",
       "      <th>helpful_beard_352vr4j8</th>\n",
       "      <td>{\"Atelectasis\": [0.25, \"2014-04-01\", \"2014-06-...</td>\n",
       "      <td>2014-12-31</td>\n",
       "      <td>NaN</td>\n",
       "      <td>1</td>\n",
       "      <td>NaN</td>\n",
       "      <td>N/A</td>\n",
       "    </tr>\n",
       "    <tr>\n",
       "      <th>gentle_guitar_2nt9sm6t</th>\n",
       "      <td>{\"Cardiomegaly\": [0.25, \"2014-04-01\", \"2014-06...</td>\n",
       "      <td>2014-12-31</td>\n",
       "      <td>NaN</td>\n",
       "      <td>1</td>\n",
       "      <td>NaN</td>\n",
       "      <td>N/A</td>\n",
       "    </tr>\n",
       "    <tr>\n",
       "      <th>dynamic_fish_jtn2x5q9</th>\n",
       "      <td>{\"Opacity\": [0.5, \"2014-04-01\", \"2014-06-30\"],...</td>\n",
       "      <td>2014-12-31</td>\n",
       "      <td>NaN</td>\n",
       "      <td>1</td>\n",
       "      <td>NaN</td>\n",
       "      <td>N/A</td>\n",
       "    </tr>\n",
       "    <tr>\n",
       "      <th>lemon_plane_mrb3nm7v</th>\n",
       "      <td>{\"Pneumonia\": [0.25, \"2014-04-01\", \"2014-06-30...</td>\n",
       "      <td>2014-12-31</td>\n",
       "      <td>NaN</td>\n",
       "      <td>1</td>\n",
       "      <td>NaN</td>\n",
       "      <td>N/A</td>\n",
       "    </tr>\n",
       "    <tr>\n",
       "      <th>icy_fly_hpwms2yp</th>\n",
       "      <td>{\"Pneumonia\": [0.5, \"2014-04-01\", \"2014-06-30\"...</td>\n",
       "      <td>2014-12-31</td>\n",
       "      <td>NaN</td>\n",
       "      <td>1</td>\n",
       "      <td>NaN</td>\n",
       "      <td>N/A</td>\n",
       "    </tr>\n",
       "    <tr>\n",
       "      <th>epic_plate_nc54lhdv</th>\n",
       "      <td>{\"Cardiomegaly\": [0.5, \"2014-04-01\", \"2014-06-...</td>\n",
       "      <td>2014-12-31</td>\n",
       "      <td>NaN</td>\n",
       "      <td>1</td>\n",
       "      <td>NaN</td>\n",
       "      <td>N/A</td>\n",
       "    </tr>\n",
       "    <tr>\n",
       "      <th>quiet_duck_8y08st8w</th>\n",
       "      <td>{\"Atelectasis\": [0.5, \"2014-04-01\", \"2014-06-3...</td>\n",
       "      <td>2014-12-31</td>\n",
       "      <td>NaN</td>\n",
       "      <td>1</td>\n",
       "      <td>NaN</td>\n",
       "      <td>N/A</td>\n",
       "    </tr>\n",
       "    <tr>\n",
       "      <th>patient_hominy_8v6p78yh</th>\n",
       "      <td>{\"Cardiomegaly\": [0.75, \"2014-04-01\", \"2014-06...</td>\n",
       "      <td>2014-12-31</td>\n",
       "      <td>NaN</td>\n",
       "      <td>1</td>\n",
       "      <td>NaN</td>\n",
       "      <td>N/A</td>\n",
       "    </tr>\n",
       "    <tr>\n",
       "      <th>icy_ghost_rt8dc2xp</th>\n",
       "      <td>{\"No Finding\": [0.1287001287001287, \"2014-04-0...</td>\n",
       "      <td>2014-12-31</td>\n",
       "      <td>NaN</td>\n",
       "      <td>1</td>\n",
       "      <td>NaN</td>\n",
       "      <td>N/A</td>\n",
       "    </tr>\n",
       "    <tr>\n",
       "      <th>ivory_branch_d350x4yq</th>\n",
       "      <td>{\"Pneumonia\": [0.75, \"2014-04-01\", \"2014-06-30...</td>\n",
       "      <td>2014-12-31</td>\n",
       "      <td>NaN</td>\n",
       "      <td>1</td>\n",
       "      <td>NaN</td>\n",
       "      <td>N/A</td>\n",
       "    </tr>\n",
       "    <tr>\n",
       "      <th>red_answer_rdp62h0t</th>\n",
       "      <td>{\"Atelectasis\": [0.75, \"2014-04-01\", \"2014-06-...</td>\n",
       "      <td>2014-12-31</td>\n",
       "      <td>NaN</td>\n",
       "      <td>1</td>\n",
       "      <td>NaN</td>\n",
       "      <td>N/A</td>\n",
       "    </tr>\n",
       "    <tr>\n",
       "      <th>tender_pear_lfbd6wwg</th>\n",
       "      <td>Baseline</td>\n",
       "      <td>NaN</td>\n",
       "      <td>NaN</td>\n",
       "      <td>0</td>\n",
       "      <td>0</td>\n",
       "      <td>&lt;a href=\"tender_pear_lfbd6wwg/index.html\" disa...</td>\n",
       "    </tr>\n",
       "  </tbody>\n",
       "</table>\n",
       "</div>"
      ],
      "text/plain": [
       "                                                           label_modifiers  \\\n",
       "display_name                                                                 \n",
       "sad_caravan_nnryywcw     {\"Opacity\": [0.75, \"2014-04-01\", \"2014-08-15\"]...   \n",
       "serene_head_v04mgvx4     {\"Cardiomegaly\": [0.75, \"2014-04-01\", \"2014-08...   \n",
       "salmon_cloud_wg3s2fnq    {\"Pleural Abnormalities\": [0.75, \"2014-04-01\",...   \n",
       "affable_plum_cm6y51d3    {\"Atelectasis\": [0.75, \"2014-04-01\", \"2014-08-...   \n",
       "musing_lock_mgsp9xps     {\"Opacity\": [0.75, \"2014-06-01\", \"2014-09-15\"]...   \n",
       "mighty_beard_vvtgq0q9    {\"Pleural Abnormalities\": [0.75, \"2014-06-01\",...   \n",
       "jolly_tangelo_ch7q56v0   {\"Atelectasis\": [0.75, \"2014-06-01\", \"2014-09-...   \n",
       "keen_circle_9wktjvvd     {\"Atelectasis\": [0.75, \"2014-06-01\", \"2014-09-...   \n",
       "purple_toe_dnntc2j8                                                   None   \n",
       "goofy_dress_ztmzmh27                                                  None   \n",
       "ivory_river_m6m000f8     {\"Atelectasis\": [0.5, \"2014-04-01\", \"2014-06-3...   \n",
       "serene_angle_h8wlwrl7    {\"Lesion\": [0.5, \"2014-04-01\", \"2014-06-30\"], ...   \n",
       "helpful_beard_352vr4j8   {\"Atelectasis\": [0.25, \"2014-04-01\", \"2014-06-...   \n",
       "gentle_guitar_2nt9sm6t   {\"Cardiomegaly\": [0.25, \"2014-04-01\", \"2014-06...   \n",
       "dynamic_fish_jtn2x5q9    {\"Opacity\": [0.5, \"2014-04-01\", \"2014-06-30\"],...   \n",
       "lemon_plane_mrb3nm7v     {\"Pneumonia\": [0.25, \"2014-04-01\", \"2014-06-30...   \n",
       "icy_fly_hpwms2yp         {\"Pneumonia\": [0.5, \"2014-04-01\", \"2014-06-30\"...   \n",
       "epic_plate_nc54lhdv      {\"Cardiomegaly\": [0.5, \"2014-04-01\", \"2014-06-...   \n",
       "quiet_duck_8y08st8w      {\"Atelectasis\": [0.5, \"2014-04-01\", \"2014-06-3...   \n",
       "patient_hominy_8v6p78yh  {\"Cardiomegaly\": [0.75, \"2014-04-01\", \"2014-06...   \n",
       "icy_ghost_rt8dc2xp       {\"No Finding\": [0.1287001287001287, \"2014-04-0...   \n",
       "ivory_branch_d350x4yq    {\"Pneumonia\": [0.75, \"2014-04-01\", \"2014-06-30...   \n",
       "red_answer_rdp62h0t      {\"Atelectasis\": [0.75, \"2014-04-01\", \"2014-06-...   \n",
       "tender_pear_lfbd6wwg                                              Baseline   \n",
       "\n",
       "                        mod_end_date randomize_start_date dbg peds_weight  \\\n",
       "display_name                                                                \n",
       "sad_caravan_nnryywcw      2014-12-31                 None   1         NaN   \n",
       "serene_head_v04mgvx4      2014-12-31                 None   1         NaN   \n",
       "salmon_cloud_wg3s2fnq     2014-12-31                 None   1         NaN   \n",
       "affable_plum_cm6y51d3     2014-12-31                 None   1         NaN   \n",
       "musing_lock_mgsp9xps      2014-12-31                 None   1         NaN   \n",
       "mighty_beard_vvtgq0q9     2014-12-31                 None   1         NaN   \n",
       "jolly_tangelo_ch7q56v0    2014-12-31                 None   1         NaN   \n",
       "keen_circle_9wktjvvd      2014-12-31                 None   1         NaN   \n",
       "purple_toe_dnntc2j8       2014-12-31           2014-06-01   1         NaN   \n",
       "goofy_dress_ztmzmh27      2014-12-31           2014-04-01   1         NaN   \n",
       "ivory_river_m6m000f8      2014-12-31                  NaN   1         NaN   \n",
       "serene_angle_h8wlwrl7     2014-12-31                  NaN   1         NaN   \n",
       "helpful_beard_352vr4j8    2014-12-31                  NaN   1         NaN   \n",
       "gentle_guitar_2nt9sm6t    2014-12-31                  NaN   1         NaN   \n",
       "dynamic_fish_jtn2x5q9     2014-12-31                  NaN   1         NaN   \n",
       "lemon_plane_mrb3nm7v      2014-12-31                  NaN   1         NaN   \n",
       "icy_fly_hpwms2yp          2014-12-31                  NaN   1         NaN   \n",
       "epic_plate_nc54lhdv       2014-12-31                  NaN   1         NaN   \n",
       "quiet_duck_8y08st8w       2014-12-31                  NaN   1         NaN   \n",
       "patient_hominy_8v6p78yh   2014-12-31                  NaN   1         NaN   \n",
       "icy_ghost_rt8dc2xp        2014-12-31                  NaN   1         NaN   \n",
       "ivory_branch_d350x4yq     2014-12-31                  NaN   1         NaN   \n",
       "red_answer_rdp62h0t       2014-12-31                  NaN   1         NaN   \n",
       "tender_pear_lfbd6wwg             NaN                  NaN   0           0   \n",
       "\n",
       "                                                                      Link  \n",
       "display_name                                                                \n",
       "sad_caravan_nnryywcw                                                   N/A  \n",
       "serene_head_v04mgvx4                                                   N/A  \n",
       "salmon_cloud_wg3s2fnq                                                  N/A  \n",
       "affable_plum_cm6y51d3                                                  N/A  \n",
       "musing_lock_mgsp9xps                                                   N/A  \n",
       "mighty_beard_vvtgq0q9                                                  N/A  \n",
       "jolly_tangelo_ch7q56v0                                                 N/A  \n",
       "keen_circle_9wktjvvd                                                   N/A  \n",
       "purple_toe_dnntc2j8                                                    N/A  \n",
       "goofy_dress_ztmzmh27                                                   N/A  \n",
       "ivory_river_m6m000f8                                                   N/A  \n",
       "serene_angle_h8wlwrl7                                                  N/A  \n",
       "helpful_beard_352vr4j8                                                 N/A  \n",
       "gentle_guitar_2nt9sm6t                                                 N/A  \n",
       "dynamic_fish_jtn2x5q9                                                  N/A  \n",
       "lemon_plane_mrb3nm7v                                                   N/A  \n",
       "icy_fly_hpwms2yp                                                       N/A  \n",
       "epic_plate_nc54lhdv                                                    N/A  \n",
       "quiet_duck_8y08st8w                                                    N/A  \n",
       "patient_hominy_8v6p78yh                                                N/A  \n",
       "icy_ghost_rt8dc2xp                                                     N/A  \n",
       "ivory_branch_d350x4yq                                                  N/A  \n",
       "red_answer_rdp62h0t                                                    N/A  \n",
       "tender_pear_lfbd6wwg     <a href=\"tender_pear_lfbd6wwg/index.html\" disa...  "
      ]
     },
     "execution_count": 30,
     "metadata": {},
     "output_type": "execute_result"
    }
   ],
   "source": [
    "def is_arg_col(c):\n",
    "    if \"mlflow\" in c or \"_aml\" in c or 'run_' in c or 'url' in c:\n",
    "        return False\n",
    "    ignore = [\"output_dir\", \"input_dir\", 'run', 'display_name', 'id']\n",
    "    return c not in ignore\n",
    "\n",
    "def experiment_df_for_display(df, remove_duplicates=True, remove_const_columns=True):\n",
    "    arg_cols = [c for c in df.columns if is_arg_col(c)]\n",
    "    arg_df = df[arg_cols]\n",
    "    \n",
    "    if remove_const_columns:\n",
    "        arg_df = arg_df[[c for c in arg_df if arg_df[c].fillna('NA').nunique() > 1]]\n",
    "    \n",
    "    \n",
    "    if remove_duplicates:    \n",
    "        arg_df[~arg_df.duplicated(keep='last')]\n",
    "    \n",
    "    return arg_df\n",
    "\n",
    "arg_df = experiment_df_for_display(df)\n",
    "arg_df['Link'] = [f\"\"\"<a href=\"{name}/index.html\" disabled=>Graphs</a>\"\"\" if html_top_dir.joinpath(name).exists() else \"N/A\" for name in arg_df.index]\n",
    "\n",
    "arg_df"
   ]
  },
  {
   "cell_type": "code",
   "execution_count": null,
   "metadata": {},
   "outputs": [],
   "source": []
  },
  {
   "cell_type": "code",
   "execution_count": 31,
   "metadata": {},
   "outputs": [],
   "source": [
    "fix_links_script = \"\"\"\n",
    "              <script>\n",
    "                var x = document.getElementsByTagName('a');\n",
    "                var i;\n",
    "                for (i = 0; i < x.length; i++) {{\n",
    "                    let url = x[i].getAttribute(\"href\");\n",
    "                    x[i].href = url + window.location.search;\n",
    "                }}\n",
    "                </script>\n",
    "              \"\"\""
   ]
  },
  {
   "cell_type": "code",
   "execution_count": 32,
   "metadata": {},
   "outputs": [],
   "source": [
    "def get_run(display_name, experiment):\n",
    "    for run in experiment.get_runs():\n",
    "        if run.display_name == display_name:\n",
    "            return run\n",
    "        \n",
    "    raise KeyError(f\"'{display_name}' not found in experiment!\")"
   ]
  },
  {
   "cell_type": "code",
   "execution_count": 33,
   "metadata": {},
   "outputs": [],
   "source": [
    "# # run_row = df.loc[[not html_top_dir.joinpath(name).exists() for name in df.index]].iloc[0]\n",
    "# # run_name, verbose_name = \"tender_pear_lfbd6wwg\", \"baseline\"\n",
    "# # run_name, verbose_name = \"tender_pear_lfbd6wwg\", \"baseline_2row\"\n",
    "# # run_name, verbose_name = \"orange_scooter_dry7q6y9\", \"inject-laterals\"\n",
    "\n",
    "\n",
    "# runs = {\"baseline\": (\"tender_pear_lfbd6wwg\", \"generate-drift-csv-3\")}\n",
    "# verbose_name = \"baseline\"\n",
    "# run_name, experiment = runs[verbose_name]\n",
    "# experiment = Experiment(ws, experiment)\n",
    "# run = get_run(run_name, experiment)\n",
    "\n",
    "# # Diplay settings\n",
    "# span = 7\n",
    "# which = 'mean'\n",
    "# clip = 10\n",
    "# performance_col = (\"performance\", \"macro avg\", \"auroc\")\n",
    "# congruency_measure_col = ('in_distro', 'stats', 'mean')\n",
    "# add_error_bars = True\n",
    "\n",
    "# standardize_dates = (settings.PADCHEST_SPLIT_DATES[0], settings.PADCHEST_SPLIT_DATES[1])\n",
    "# standardize_ix = pd.date_range(*standardize_dates)\n",
    "# stat = []\n",
    "# # stat.append('pval')\n",
    "# stat.append('distance')\n",
    "\n",
    "# verbose_name = verbose_name + '_' + '+'.join(stat) \n",
    "\n",
    "# write_html = True\n",
    "# graph_start = \"2014-01-01\"\n",
    "# graph_end = \"2014-12-31\"\n",
    "\n",
    "\n",
    "# font=dict(size=12)\n",
    "\n",
    "# print(run_name, verbose_name)\n"
   ]
  },
  {
   "cell_type": "code",
   "execution_count": 34,
   "metadata": {},
   "outputs": [],
   "source": [
    "import itertools\n",
    "from plotly.subplots import make_subplots\n",
    "import plotly.graph_objects as go\n",
    "import plotly.express as px\n",
    "from matplotlib import colors as mpl_colors\n",
    "from collections import defaultdict\n",
    "\n",
    "def to_rgba(rgb, alpha=None):\n",
    "    rgb = mpl_colors.to_rgb(rgb)\n",
    "    if alpha is None:\n",
    "        return \"rgb(%s, %s, %s)\" % (rgb[0], rgb[1], rgb[2])\n",
    "    return \"rgba(%s, %s, %s, %s)\" % (rgb[0], rgb[1], rgb[2], alpha)\n",
    "\n",
    "def line_maker(color, **l):\n",
    "    return dict(color=color, **l)\n",
    "\n",
    "def marker_maker(color, **l):\n",
    "    return dict(color=color)\n",
    "\n",
    "def smooth(y: pd.DataFrame, span=7):\n",
    "    if span > 0:\n",
    "        ys = y.ewm(span=span, ignore_na=False).mean()\n",
    "        ys[y.isna()] = None\n",
    "    else:\n",
    "        ys = y    \n",
    "    return ys\n",
    "\n",
    "def add_date_line(fig, date, name, y=1.08):\n",
    "    fig.add_shape(type='line',\n",
    "                x0=date,\n",
    "                y0=0,\n",
    "                x1=date,\n",
    "                y1=1,\n",
    "                line=dict(color='black', dash='dot'),\n",
    "                xref='x',\n",
    "                yref='paper'\n",
    "                )\n",
    "    fig.add_annotation(textangle=0,\n",
    "                    xref=\"x\",\n",
    "                    yref=\"paper\", x=date, y=y,\n",
    "                       text=name, showarrow=False,\n",
    "                       font=dict(size=18))\n",
    "\n",
    "def add_dates(fig, dates, line_y=1.05, include_date=True):\n",
    "    for name, date in dates.items():\n",
    "        if not pd.isna(date):\n",
    "            n = f\"{name}<br />({date})\" if include_date else name\n",
    "            add_date_line(fig, date, n, y=line_y)\n",
    "            \n",
    "def collect_corr(y, yp, name, when, weights_name, start_date=None, end_date=None):\n",
    "    yp = yp.loc[start_date: end_date]\n",
    "    y = y.loc[start_date: end_date]\n",
    "    c, cm = yp.corr(y), smooth(yp).corr(smooth(y))\n",
    "    return {\"name\": name, \"weights_name\": weights_name,\n",
    "                \"corr (raw)\": c, \"corr (smoothed)\": cm, \"when\": when}\n",
    "\n",
    "class FigureHelper(object):\n",
    "    \n",
    "    def __init__(self, x=None, color_list=px.colors.qualitative.Plotly, dashes=('solid',), smooth_func=smooth, merge_hover=True):\n",
    "        self.traces = []\n",
    "        self.error_traces = []\n",
    "        self.color_list = color_list\n",
    "        self.line_picker = itertools.cycle(itertools.product(dashes, self.color_list))\n",
    "        self.lines = defaultdict(lambda: dict(zip(['dash', 'color'], next(self.line_picker))))\n",
    "        self.names = set()\n",
    "        self.smooth = smooth_func\n",
    "        self.x = x\n",
    "        self.merge_hover = merge_hover\n",
    "        \n",
    "    def set_line(self, key, line=None):\n",
    "        line = line or {}\n",
    "        self.lines[key] = self.lines[key]\n",
    "        self.lines[key].update(line)\n",
    "        self.lines[key]['color'] = self.lines[key]['color']\n",
    "        return self.lines[key]\n",
    "        \n",
    "        \n",
    "    def make_error_traces(self, x, yu, yl, name, color, alpha):\n",
    "        \n",
    "        \n",
    "        # need to remove nans from error traces\n",
    "        k = ~(yu.isnull()|yl.isnull())\n",
    "        xe = x[k]\n",
    "        yl = yl[k]\n",
    "        yu = yu[k]\n",
    "        \n",
    "        return [go.Scatter(x=xe, \n",
    "                            y=yu, \n",
    "                            hoverinfo=\"skip\",\n",
    "                            showlegend=False,\n",
    "                            legendgroup=name,\n",
    "                            name=name,\n",
    "                            connectgaps=False,\n",
    "                            line=dict(width=0),\n",
    "                ), \n",
    "                go.Scatter(x=xe, \n",
    "                            y=yl,\n",
    "                            fillcolor=to_rgba(color, alpha),\n",
    "                            fill='tonexty',\n",
    "                            hoverinfo=\"skip\",\n",
    "                            showlegend=False,                            \n",
    "                            legendgroup=name,\n",
    "                            name=name,\n",
    "                            connectgaps=False,\n",
    "                            line=dict(width=0),\n",
    "                )]\n",
    "\n",
    "    def add_trace(self, y, name, x=None, kind=go.Scatter, color_key=None, row=1, col=1, line=None,\n",
    "                  std=None, yu=None, yl=None, **trace_kwargs):\n",
    "        color_key = color_key or name\n",
    "        trace_kwargs.setdefault('showlegend', name not in self.names)\n",
    "        self.names.add(name)\n",
    "        trace_kwargs.setdefault('legendgroup', name)\n",
    "        \n",
    "        line = self.set_line(color_key, line)\n",
    "        x = x or self.x\n",
    "        y = y.reindex(x)\n",
    "        t = kind(x=x, y=y, name=name, **trace_kwargs)\n",
    "        if not isinstance(t, go.Bar):\n",
    "            t.line = line_maker(**line)\n",
    "        else:\n",
    "            t.marker = marker_maker(**line)\n",
    "            \n",
    "    \n",
    "        self.traces.append((row, col, t))\n",
    "        \n",
    "        if std is not None:\n",
    "            yu = y+std\n",
    "            yl = y-std\n",
    "            \n",
    "        if yu is not None and yl is not None:\n",
    "            for t_ in self.make_error_traces(x, yu, yl, name=name, color=line[\"color\"], alpha=0.2):\n",
    "                self.error_traces.append((row, col, t_))\n",
    "    \n",
    "    \n",
    "    def add_bar(self, y, name, x=None, color_key=None, row=1, col=1, line=None, include_line=True,\n",
    "                **trace_kwargs):\n",
    "        \n",
    "        if include_line:\n",
    "            self.add_trace(y=y, name=name, color_key=color_key, line=line, row=row, col=col, **trace_kwargs)\n",
    "        self.add_trace(y=y, name=name, color_key=color_key, kind=go.Bar, line=line, row=row, col=col, **trace_kwargs)\n",
    "        \n",
    "        \n",
    "    \n",
    "    def make_fig(self, **fig_kwargs):\n",
    "\n",
    "        data = {}\n",
    "        max_row = 1\n",
    "        max_col = 1\n",
    "        for r, c, t in self.traces:\n",
    "            max_row = max(r, max_row)\n",
    "            max_col = max(c, max_col)\n",
    "            data[t.name] = pd.Series(t.y, index=t.x)\n",
    "            \n",
    "        customdata = pd.DataFrame(data)\n",
    "        fig = make_subplots(rows=max_row, cols=max_col, **fig_kwargs)\n",
    "        for r, c, t in self.traces:\n",
    "            if self.merge_hover:\n",
    "                cus_cols = sorted(customdata)\n",
    "                ho = \"<br />\".join([\"{name}=%{{customdata[{i}]:.3f}}\".format(i=i, name=name) for i,name in enumerate(cus_cols)])\n",
    "                hovertemplate = \"%{x}<br>\" + f\"{t.name}: \" +\"%{y}<br><br>\"+f\"{ho}<extra></extra>\"\n",
    "                t.customdata = customdata[cus_cols]\n",
    "                t.hovertemplate = hovertemplate\n",
    "            # t.hoverlabel = {'bgcolor': 'white'}\n",
    "            fig.add_trace(t, row=r, col=c)\n",
    "                        \n",
    "        for r, c, t in self.error_traces:\n",
    "            fig.add_trace(t, row=r, col=c)\n",
    "        return fig"
   ]
  },
  {
   "cell_type": "code",
   "execution_count": 35,
   "metadata": {},
   "outputs": [],
   "source": [
    "def download_and_prepare_run_data(run, which=\"mean\"):\n",
    "    output_file_path = settings.TOP_DIR.joinpath('results', 'drift', run.display_name+\".csv\")\n",
    "    fname = str(output_file_path)\n",
    "    run.download_file(\"outputs/output.csv\", output_file_path=output_file_path)\n",
    "    \n",
    "    combined_df = pd.read_csv(str(fname), index_col=0, header=[0, 1, 2, 3])\n",
    "    combined_df.index = pd.to_datetime(combined_df.index)\n",
    "    flip = column_xs(combined_df, include=[\"pval\"])\n",
    "    combined_df[flip] = 1-combined_df[flip]\n",
    "    \n",
    "    error_df = combined_df.swaplevel(0, -1, axis=1)[[\"std\"]].swaplevel(0, -1, axis=1).droplevel(-1, axis=1).copy()\n",
    "    combined_df = combined_df.swaplevel(0, -1, axis=1)[[which]].swaplevel(0, -1, axis=1).droplevel(-1, axis=1).copy()\n",
    "    \n",
    "    return error_df, combined_df\n",
    "\n",
    "\n",
    "def calc_stats(other_df, standardize_dates):\n",
    "    standardize_ix = pd.date_range(*standardize_dates)\n",
    "    stats = other_df.dropna(axis=1).reindex(standardize_ix)\n",
    "    stats = stats.agg([\"mean\", \"std\"])\n",
    "    return stats\n",
    "\n",
    "def standardize(other_df, standardize_dates=None, stats=None, clip=None) -> pd.DataFrame:\n",
    "    \n",
    "    if stats is None:\n",
    "        stats = calc_stats(other_df, standardize_dates)\n",
    "    otherstd = other_df.copy()\n",
    "    # cannot divide by zero\n",
    "    std0 = stats.loc['std'] == 0\n",
    "    stats.loc[\"std\", stats.loc['std'] == 0] = 1\n",
    "    \n",
    "    otherstd = (otherstd-stats.loc['mean'])/(stats.loc[\"std\"])\n",
    "    bad_cols = otherstd.columns[otherstd.isnull().max(axis=0)].tolist()\n",
    "    # print(\"bad columns after standardization:\", bad_cols)\n",
    "    \n",
    "    if clip is not None:\n",
    "        otherstd = otherstd.clip(-1*clip, clip)\n",
    "    \n",
    "    return otherstd\n",
    "\n",
    "def calculate_weights(yp, otherstd) -> pd.DataFrame:\n",
    "    all_corr_df = correlate_performance(yp.rename('auroc'), otherstd)\n",
    "    all_ig_df = mutual_info_performance(yp.rename('auroc'), otherstd, bins=25)\n",
    "    m_ = all_ig_df.to_frame().join(all_corr_df.apply(lambda x: max(0, x)).rename('corr')).join(all_corr_df.abs().rename('abs(corr)'))\n",
    "    m_ = m_.join(m_.mean(axis=1).rename('mean[abs(corr),info_gain]'))\n",
    "    m_ = m_.assign(no_weights=1)\n",
    "    m_ = m_.fillna(0)\n",
    "    \n",
    "    return m_\n",
    "\n",
    "class DriftFromRun(object):\n",
    "    \n",
    "    which = \"mean\"\n",
    "    standardize_dates = (settings.PADCHEST_SPLIT_DATES[0], settings.PADCHEST_SPLIT_DATES[1])\n",
    "    stat = ['distance']\n",
    "    span = 7\n",
    "    clip = 10\n",
    "    # performance_col = (\"performance\", \"micro avg\", \"auroc\")\n",
    "    performance_col = (\"performance\", \"Pneumonia\", \"auroc\")\n",
    "    # performance_col = (\"performance\", \"Pleural Abnormalities\", \"auroc\")\n",
    "    graph_start = \"2014-01-01\"\n",
    "    graph_end = \"2014-12-31\"\n",
    "    \n",
    "    def __init__(self, run):\n",
    "        \n",
    "        error_df, combined_df = download_and_prepare_run_data(run, which=self.which)\n",
    "        perf_df = combined_df[self.performance_col]\n",
    "        other_cols = column_xs(combined_df, exclude=['performance', 'count'])\n",
    "        other_df = combined_df[other_cols]\n",
    "        cxs = column_xs(other_df, include=self.stat)\n",
    "        otherstd = standardize(other_df[cxs], self.standardize_dates, clip=self.clip)\n",
    "        \n",
    "        self.standardize_ix = pd.date_range(*self.standardize_dates)\n",
    "        \n",
    "        count_cols = column_xs(combined_df, ['support'])\n",
    "        count_cols = [c for c in count_cols if 'avg' not in c[1]]\n",
    "        label_counts = combined_df[count_cols]\n",
    "        label_counts.columns = [c[1] for c in label_counts.columns]\n",
    "        num_samples = combined_df['count'].iloc[:, 0]\n",
    "        \n",
    "        self.label_rates = label_counts.div(num_samples, axis=0)\n",
    "        \n",
    "        vae_cols = [c for c in list(otherstd) if \"mu.\" in c[0]]\n",
    "        score_cols = [c for c in list(otherstd) if \"activation.\" in c[0]]\n",
    "        metadata_cols = sorted(set(otherstd).difference(vae_cols).difference(score_cols))\n",
    "        \n",
    "        self.other_cols = other_cols\n",
    "        self.vae_cols = vae_cols\n",
    "        self.score_cols = score_cols\n",
    "        self.metadata_cols = metadata_cols\n",
    "        \n",
    "        self.combined_df = combined_df\n",
    "        self.otherstd = otherstd\n",
    "        self.perf_df = perf_df\n",
    "        self.perf_error_df = error_df[self.performance_col]\n",
    "        self.m_ = calculate_weights(perf_df.reindex(self.standardize_ix), otherstd.reindex(self.standardize_ix))\n",
    "        \n",
    "    def unify_metrics(self, cols=None, weights=\"abs(corr)\", start=None, end=None, m=None):\n",
    "        if cols is None:\n",
    "            cols = self.otherstd.columns.tolist()\n",
    "        if m is None:\n",
    "            m=self.m_\n",
    "        return -w_avg(self.otherstd[cols], weights=m[weights].to_dict())\n",
    "mega_m = pd.read_pickle(\"mega_m.pkl\")"
   ]
  },
  {
   "cell_type": "code",
   "execution_count": 36,
   "metadata": {},
   "outputs": [
    {
     "name": "stdout",
     "output_type": "stream",
     "text": [
      "peds_distance\n",
      "Baseline\n"
     ]
    },
    {
     "name": "stderr",
     "output_type": "stream",
     "text": [
      "D:\\Code\\MLOpsDay2\\MedImaging-ModelDriftMonitoring\\.venv\\lib\\site-packages\\pandas\\core\\reshape\\merge.py:643: UserWarning:\n",
      "\n",
      "merging between different levels can give an unintended result (3 levels on the left,1 on the right)\n",
      "\n"
     ]
    },
    {
     "name": "stdout",
     "output_type": "stream",
     "text": [
      "PEDs\n"
     ]
    },
    {
     "name": "stderr",
     "output_type": "stream",
     "text": [
      "D:\\Code\\MLOpsDay2\\MedImaging-ModelDriftMonitoring\\.venv\\lib\\site-packages\\pandas\\core\\reshape\\merge.py:643: UserWarning:\n",
      "\n",
      "merging between different levels can give an unintended result (3 levels on the left,1 on the right)\n",
      "\n"
     ]
    }
   ],
   "source": [
    "figure_name = \"peds\" + \"_\" + \"+\".join(DriftFromRun.stat)\n",
    "print(figure_name)\n",
    "\n",
    "runs = {\n",
    "    \"Baseline\": (\"tender_pear_lfbd6wwg\", \"generate-drift-csv-3\"),\n",
    "    \"PEDs\": (\"bright_station_4nd93gnx\", \"generate-drift-csv-3\"),\n",
    "    }\n",
    "verbose_name = \"baseline\"\n",
    "graph_start = \"2014-03-01\"\n",
    "graph_end = \"2015-01-01\"\n",
    "\n",
    "x = pd.date_range(pd.to_datetime(graph_start)-pd.DateOffset(n=30), pd.to_datetime(graph_end)+pd.DateOffset(n=30))\n",
    "\n",
    "runs_ = {}\n",
    "builds = {}\n",
    "score_graphs = {}\n",
    "perf_graphs = {}\n",
    "score_graphs_mega = {}\n",
    "for name, (run_name, experiment) in runs.items():\n",
    "    print(name)\n",
    "    experiment = Experiment(ws, experiment)\n",
    "    run = get_run(run_name, experiment)\n",
    "    build = DriftFromRun(run)\n",
    "    score_unify = build.unify_metrics().reindex(x)\n",
    "    runs_[name] = run\n",
    "    builds[name] = build\n",
    "    score_graphs[name] = score_unify\n",
    "    perf_graphs[name] = pd.concat([build.perf_df.reindex(x).rename(\"yp\"), build.perf_error_df.reindex(x).rename(\"ye\")], axis=1)\n",
    "    \n",
    "    score_graphs_mega[name] = build.unify_metrics(m=mega_m).reindex(x) \n",
    "    \n",
    "    \n"
   ]
  },
  {
   "cell_type": "code",
   "execution_count": 37,
   "metadata": {},
   "outputs": [
    {
     "data": {
      "text/plain": [
       "{'A': '2014-06-01'}"
      ]
     },
     "execution_count": 37,
     "metadata": {},
     "output_type": "execute_result"
    }
   ],
   "source": [
    "dates = {\"A\": \"2014-06-01\"}\n",
    "\n",
    "dates"
   ]
  },
  {
   "cell_type": "code",
   "execution_count": 38,
   "metadata": {},
   "outputs": [
    {
     "data": {
      "application/vnd.plotly.v1+json": {
       "config": {
        "plotlyServerURL": "https://plot.ly"
       },
       "data": [
        {
         "connectgaps": false,
         "customdata": [
          [
           -0.08004595668924429,
           -0.17299738879568702
          ],
          [
           -0.04384125324970003,
           -0.11240366620425794
          ],
          [
           -0.04802618961900988,
           -0.12227155113180946
          ],
          [
           -0.028313659381340246,
           -0.09836883825112287
          ],
          [
           -0.017553540834655115,
           -0.07889771386435665
          ],
          [
           0.009193925829538206,
           -0.05238288373504406
          ],
          [
           0.03032964802877018,
           -0.03253370077757123
          ],
          [
           0.030708130832178455,
           -0.035026792557173454
          ],
          [
           0.03106960226829122,
           -0.02345551476815995
          ],
          [
           0.03051144572574885,
           -0.024203018800769773
          ],
          [
           0.049344233622505916,
           -0.015230073467664836
          ],
          [
           0.06066442343029569,
           -0.0005045707897900774
          ],
          [
           0.07657498041613311,
           0.0033084617561670426
          ],
          [
           0.08762636206746321,
           0.02549697717321643
          ],
          [
           0.06950139659477149,
           0.005861185170850504
          ],
          [
           0.028299277390768443,
           -0.02136837375942434
          ],
          [
           -0.012757264721648787,
           -0.04061073820001088
          ],
          [
           -0.03254575558175156,
           -0.06460897220225113
          ],
          [
           -0.07842453862394505,
           -0.12048509556621022
          ],
          [
           -0.11889207546274642,
           -0.17539344858248063
          ],
          [
           -0.20540389453008626,
           -0.2778166690325281
          ],
          [
           -0.3040901106027478,
           -0.4003698703681818
          ],
          [
           -0.33647228551011465,
           -0.45008070034420383
          ],
          [
           -0.3463908878780531,
           -0.44215937301616937
          ],
          [
           -0.3438431672202221,
           -0.4318115946938482
          ],
          [
           -0.3355393659990376,
           -0.40933213316207856
          ],
          [
           -0.31964518502694284,
           -0.37678844364657477
          ],
          [
           -0.3069879075564444,
           -0.3552308072586876
          ],
          [
           -0.3085678552891971,
           -0.3587862101433202
          ],
          [
           -0.29724373433247514,
           -0.3466716806460741
          ],
          [
           -0.28043476987090066,
           -0.3170774418305647
          ],
          [
           -0.2471254986823818,
           -0.26759619796504386
          ],
          [
           -0.21913667467657433,
           -0.21454461977909045
          ],
          [
           -0.18863279816082312,
           -0.1648702266899635
          ],
          [
           -0.1846613888275208,
           -0.14003105405400923
          ],
          [
           -0.1971982206966169,
           -0.13030993193643528
          ],
          [
           -0.23075639709596024,
           -0.1384169618857736
          ],
          [
           -0.25692117911009915,
           -0.12424800970393444
          ],
          [
           -0.249786627034034,
           -0.09805314004431676
          ],
          [
           -0.26920701726912116,
           -0.09739080354594316
          ],
          [
           -0.3045807344856386,
           -0.10141403646281935
          ],
          [
           -0.3866613846789768,
           -0.1552436095959209
          ],
          [
           -0.44641463063852094,
           -0.18359808410467465
          ],
          [
           -0.48390086164877927,
           -0.19468653948262274
          ],
          [
           -0.4724355616907624,
           -0.17696404176794803
          ],
          [
           -0.4508935222505228,
           -0.17076529625729647
          ],
          [
           -0.4618681575787397,
           -0.1950307188004927
          ],
          [
           -0.485178524332461,
           -0.22586912243861054
          ],
          [
           -0.49799088646390144,
           -0.23444855455926686
          ],
          [
           -0.5185767856291198,
           -0.24798449235208336
          ],
          [
           -0.5648555120702958,
           -0.2880078666618865
          ],
          [
           -0.5637403535267291,
           -0.2889646543946592
          ],
          [
           -0.5542514023620461,
           -0.2710945166414024
          ],
          [
           -0.5708158143233405,
           -0.3129214626905938
          ],
          [
           -0.5900452147831272,
           -0.3288587348859908
          ],
          [
           -0.6390927946714648,
           -0.3608430618135237
          ],
          [
           -0.6864416991559141,
           -0.4005535949357517
          ],
          [
           -0.6765024607616501,
           -0.3915642079521384
          ],
          [
           -0.6186997116525653,
           -0.35472182907631533
          ],
          [
           -0.5540673333892582,
           -0.2994068009887103
          ],
          [
           -0.4875174138947708,
           -0.26566755279339893
          ],
          [
           -0.45357401553505605,
           -0.2542195460089788
          ],
          [
           -0.4117049613165799,
           -0.2466718102384091
          ],
          [
           -0.3946047974385196,
           -0.2608072101936883
          ],
          [
           -0.34969402737692085,
           -0.2422164688209577
          ],
          [
           -0.2967138368764877,
           -0.20415135281050265
          ],
          [
           -0.24689119421219707,
           -0.14858023662308198
          ],
          [
           -0.19185812562482787,
           -0.08154711475872325
          ],
          [
           -0.149992852982846,
           -0.04865011704717778
          ],
          [
           -0.13204761768014403,
           -0.029997776279677837
          ],
          [
           -0.10639653201132232,
           -0.020194008515943142
          ],
          [
           -0.08729276048531208,
           -0.006065643418323283
          ],
          [
           -0.0862264024765043,
           -0.003771482547342779
          ],
          [
           -0.10375379669397752,
           -0.0020852091581137853
          ],
          [
           -0.11699617994616425,
           -0.00001833151559153791
          ],
          [
           -0.14319131385994846,
           -0.02521460087371921
          ],
          [
           -0.2013591144226531,
           -0.07536965728404361
          ],
          [
           -0.2776033916602824,
           -0.130694000396419
          ],
          [
           -0.32827409706017197,
           -0.19104678029084668
          ],
          [
           -0.369078419918764,
           -0.2216562127784529
          ],
          [
           -0.41310805987025045,
           -0.22525780733755357
          ],
          [
           -0.4235554196491233,
           -0.21100479943538908
          ],
          [
           -0.4405723406461263,
           -0.21182817641573093
          ],
          [
           -0.4539106970543803,
           -0.20410958955260716
          ],
          [
           -0.48632542340704377,
           -0.2064977533045506
          ],
          [
           -0.5638611835831683,
           -0.25180169770129507
          ],
          [
           -0.5980139227584285,
           -0.2536998338433084
          ],
          [
           -0.6057474411568083,
           -0.2555608909677079
          ],
          [
           -0.6293493890362346,
           -0.25767442549295855
          ],
          [
           -0.665988842405394,
           -0.28481494552951714
          ],
          [
           -0.7327358583521891,
           -0.35222060053026866
          ],
          [
           -0.796238617911557,
           -0.39512026667090233
          ],
          [
           -0.7812892155408401,
           -0.404186832880672
          ],
          [
           -0.7443860495576736,
           -0.45397919139805887
          ],
          [
           -0.7014499691975581,
           -0.5758140796904504
          ],
          [
           -0.6556761052317648,
           -0.7950059887685283
          ],
          [
           -0.6283065628428851,
           -1.0644136207035273
          ],
          [
           -0.6332538600958025,
           -1.298676803031163
          ],
          [
           -0.6684630836507462,
           -1.5163820070026652
          ],
          [
           -0.7251864599016146,
           -1.8168609125085289
          ],
          [
           -0.7446984855944442,
           -2.1111717548005045
          ],
          [
           -0.7601634444572805,
           -2.3903361956420848
          ],
          [
           -0.8055769876608556,
           -2.6864110384723823
          ],
          [
           -0.850939769283892,
           -3.0203961342313574
          ],
          [
           -0.9340978060993937,
           -3.3168420396560325
          ],
          [
           -0.9770966358248634,
           -3.5460108037337927
          ],
          [
           -0.9548955600870738,
           -3.791241144817853
          ],
          [
           -0.9259835466893965,
           -3.9976103110558574
          ],
          [
           -0.877967573944107,
           -4.164736179607664
          ],
          [
           -0.8004586481317818,
           -4.343654575316356
          ],
          [
           -0.730168017211389,
           -4.50212392760995
          ],
          [
           -0.6605991381986176,
           -4.653957044059014
          ],
          [
           -0.6038010983504016,
           -4.78331095313461
          ],
          [
           -0.5473222268506064,
           -4.906066723952575
          ],
          [
           -0.5241016739023917,
           -5.014447952776326
          ],
          [
           -0.5012109075724795,
           -5.096761792733242
          ],
          [
           -0.5202197251656663,
           -5.2039419854054945
          ],
          [
           -0.5676682026497012,
           -5.325971281946907
          ],
          [
           -0.6261732700243137,
           -5.434973278173539
          ],
          [
           -0.7282770641768718,
           -5.5475901865059924
          ],
          [
           -0.8615572637632731,
           -5.683128885331119
          ],
          [
           -0.943402760050457,
           -5.770929017491667
          ],
          [
           -0.9887650066387614,
           -5.814958210665936
          ],
          [
           -1.073941495237312,
           -5.855913848563067
          ],
          [
           -1.155744208455305,
           -5.8739181112593
          ],
          [
           -1.2252039425854642,
           -5.882336759866128
          ],
          [
           -1.291136330944411,
           -5.885465059431178
          ],
          [
           -1.3869835422923276,
           -5.882897325401509
          ],
          [
           -1.4933878041559967,
           -5.897727666474068
          ],
          [
           -1.6161851833593714,
           -5.9126224079123135
          ],
          [
           -1.7085173357792247,
           -5.935691893680343
          ],
          [
           -1.8240466752716142,
           -5.957828916691282
          ],
          [
           -1.9331261031731586,
           -5.998055717415852
          ],
          [
           -2.0375029220390126,
           -6.030421377578822
          ],
          [
           -2.126775796060773,
           -6.081970718762257
          ],
          [
           -2.1886157640250192,
           -6.104417305633083
          ],
          [
           -2.1992275764184677,
           -6.137993805826654
          ],
          [
           -2.2283031366752994,
           -6.187314798954811
          ],
          [
           -2.2650061082950805,
           -6.233613011664577
          ],
          [
           -2.3325346523031265,
           -6.285055100437774
          ],
          [
           -2.4148726572739876,
           -6.335148169874026
          ],
          [
           -2.4911106978039013,
           -6.394433974097826
          ],
          [
           -2.4971660729246783,
           -6.434564384388606
          ],
          [
           -2.4508074689763686,
           -6.460975181445645
          ],
          [
           -2.403767388138022,
           -6.485031534375377
          ],
          [
           -2.3626466323028685,
           -6.507303378746714
          ],
          [
           -2.318434784495427,
           -6.529430364110036
          ],
          [
           -2.278150015377577,
           -6.561862131538517
          ],
          [
           -2.214813999953059,
           -6.608192741316689
          ],
          [
           -2.154897553445541,
           -6.641894051844259
          ],
          [
           -2.119421439449683,
           -6.681122750856613
          ],
          [
           -2.095583633004055,
           -6.720096123693887
          ],
          [
           -2.0714811084784928,
           -6.760368646347626
          ],
          [
           -2.107047906441764,
           -6.794447939079082
          ],
          [
           -2.1314157431882723,
           -6.821011335034659
          ],
          [
           -2.1530506409654104,
           -6.845535053064363
          ],
          [
           -2.1509766163668345,
           -6.8610531191332305
          ],
          [
           -2.1577264057155987,
           -6.86749524254652
          ],
          [
           -2.1366569523017516,
           -6.879765087758647
          ],
          [
           -2.098186899191643,
           -6.901829648591363
          ],
          [
           -2.048294005919701,
           -6.918316907593831
          ],
          [
           -2.006164636531128,
           -6.929916256171803
          ],
          [
           -2.000318517514907,
           -6.947665108393592
          ],
          [
           -1.9948644810731142,
           -6.965631234063088
          ],
          [
           -1.9876137020999503,
           -6.975214442205469
          ],
          [
           -1.9655602480731738,
           -6.98469607725534
          ],
          [
           -1.9969541879753687,
           -6.99993937683249
          ],
          [
           -2.0335894052445886,
           -7.020211151380555
          ],
          [
           -2.082565170223746,
           -7.025432309652728
          ],
          [
           -2.1314759542807593,
           -7.032030808188363
          ],
          [
           -2.1485681631456983,
           -7.049347372547311
          ],
          [
           -2.1496485422099663,
           -7.0521703784358305
          ],
          [
           -2.2081558655677047,
           -7.058157650578209
          ],
          [
           -2.2612143748302986,
           -7.065231675683308
          ],
          [
           -2.360788847299572,
           -7.081009320406686
          ],
          [
           -2.521470082548966,
           -7.108738803836452
          ],
          [
           -2.6474903911360737,
           -7.128135838347708
          ],
          [
           -2.736155179664628,
           -7.139326871604104
          ],
          [
           -2.818343006547872,
           -7.139788263411596
          ],
          [
           -2.8752739854323317,
           -7.141659442878308
          ],
          [
           -2.949951397236083,
           -7.1387010220664395
          ],
          [
           -2.9611340079823925,
           -7.095533870719814
          ],
          [
           -2.9918890966127774,
           -7.0681699708009305
          ],
          [
           -2.9817837367705873,
           -7.032794680068606
          ],
          [
           -2.9861878270815114,
           -7.0039700425998594
          ],
          [
           -2.9816655028288133,
           -6.96579157995912
          ],
          [
           -3.037878051950287,
           -6.944927931472165
          ],
          [
           -3.109239551920767,
           -6.929922784019345
          ],
          [
           -3.2033864341451626,
           -6.918062135287519
          ],
          [
           -3.271397969846152,
           -6.907189940483266
          ],
          [
           -3.324703624894119,
           -6.896839605429936
          ],
          [
           -3.3126385798671123,
           -6.897241325971312
          ],
          [
           -3.286395110285923,
           -6.8963580181029585
          ],
          [
           -3.206452240679581,
           -6.876531333145765
          ],
          [
           -3.123213624853392,
           -6.8619820177659685
          ],
          [
           -3.0766088024893756,
           -6.8487413166308535
          ],
          [
           -3.0508894337450787,
           -6.836768260270012
          ],
          [
           -2.9642016394689676,
           -6.80866236790477
          ],
          [
           -2.8149763262914065,
           -6.787021683192125
          ],
          [
           -2.6479623254274647,
           -6.763542321446105
          ],
          [
           -2.4975325273985978,
           -6.750050190625425
          ],
          [
           -2.3577606382972847,
           -6.744150113664292
          ],
          [
           -2.242267706349629,
           -6.738434291798475
          ],
          [
           -2.144959085784985,
           -6.727601675840206
          ],
          [
           -2.057572499471699,
           -6.721152366471227
          ],
          [
           -2.01222930658044,
           -6.700462267978408
          ],
          [
           -1.968034429334654,
           -6.688299892500174
          ],
          [
           -1.9290413028787887,
           -6.684774953543261
          ],
          [
           -1.9214545061919615,
           -6.676010351145798
          ],
          [
           -1.908558854335487,
           -6.66201712443482
          ],
          [
           -1.910817192251964,
           -6.652312099862966
          ],
          [
           -1.9453990684279088,
           -6.661610392876175
          ],
          [
           -1.9320627351267161,
           -6.654631060093641
          ],
          [
           -1.874670693063651,
           -6.660285170715938
          ],
          [
           -1.8154443411340964,
           -6.647981544161072
          ],
          [
           -1.8107277432966873,
           -6.653304768663359
          ],
          [
           -1.7801838135534263,
           -6.655482620424648
          ],
          [
           -1.7445604284279763,
           -6.661053219088957
          ],
          [
           -1.6868048400466906,
           -6.659481291095501
          ],
          [
           -1.608014988813534,
           -6.640505730476424
          ],
          [
           -1.5423452537485858,
           -6.6108417698521755
          ],
          [
           -1.4944849478193027,
           -6.604719589956192
          ],
          [
           -1.4762738079867825,
           -6.58804348173865
          ],
          [
           -1.451305863524427,
           -6.578534171986019
          ],
          [
           -1.4256107012893875,
           -6.5673951543997555
          ],
          [
           -1.4164628249388727,
           -6.550348785023698
          ],
          [
           -1.4032947937968328,
           -6.530628461204308
          ],
          [
           -1.3531518673965799,
           -6.507818105835973
          ],
          [
           -1.2769966031544104,
           -6.504604239736086
          ],
          [
           -1.1957569117847282,
           -6.488800146631825
          ],
          [
           -1.1394581549794565,
           -6.490524888523408
          ],
          [
           -1.1157685458716142,
           -6.4831159024999865
          ],
          [
           -1.102428821626303,
           -6.468783555929645
          ],
          [
           -1.1033883067360215,
           -6.460797865825993
          ],
          [
           -1.1036337795617852,
           -6.4419424699057295
          ],
          [
           -1.0975897978558877,
           -6.428503136679562
          ],
          [
           -1.0811257520723754,
           -6.424610630561277
          ],
          [
           -1.053670706237957,
           -6.413560613098447
          ],
          [
           -1.027929235790875,
           -6.41367617871349
          ],
          [
           -0.9992932805902186,
           -6.402242725193265
          ],
          [
           -0.9782023531530633,
           -6.40333580558452
          ],
          [
           -0.9549390075247682,
           -6.407631142221782
          ],
          [
           -0.9577786351616109,
           -6.411342918053078
          ],
          [
           -0.9784415416353349,
           -6.39696597559778
          ],
          [
           -0.9854760620690463,
           -6.385450963726365
          ],
          [
           -1.0123467600077047,
           -6.362591639787565
          ],
          [
           -1.0130888311401647,
           -6.339342296320156
          ],
          [
           -0.9918101842066229,
           -6.2812274946390545
          ],
          [
           -0.9741846188739802,
           -6.219264243603703
          ],
          [
           -0.9787771927747849,
           -6.143845294434735
          ],
          [
           -1.006207118043166,
           -6.094704641362142
          ],
          [
           -1.043287016159618,
           -6.038163947112612
          ],
          [
           -1.0817478361404012,
           -6.008402956883946
          ],
          [
           -1.0890187148867012,
           -5.980768798091932
          ],
          [
           -1.062314564173241,
           -5.956022518388936
          ],
          [
           -1.0169202727853281,
           -5.922165681906661
          ],
          [
           -0.9865551962640922,
           -5.895793268699838
          ],
          [
           -0.9493321845716625,
           -5.876974487888437
          ],
          [
           -0.9218745919319749,
           -5.85133484019649
          ],
          [
           -0.9171419124394266,
           -5.831592811058582
          ],
          [
           -0.9454183491579269,
           -5.817199382844236
          ],
          [
           -0.9739518903632969,
           -5.807418531289941
          ],
          [
           -1.0022596114110944,
           -5.8102834658521525
          ],
          [
           -1.0400025149460819,
           -5.810049606205729
          ],
          [
           -1.0615823958328703,
           -5.819853211091987
          ],
          [
           -1.0751069051322009,
           -5.825661164131867
          ],
          [
           -1.0799436604006987,
           -5.849968157613467
          ],
          [
           -1.0939277701604995,
           -5.886406713875216
          ],
          [
           -1.0902576450652426,
           -5.916672145308509
          ],
          [
           -1.0626981788183485,
           -5.930799784303166
          ],
          [
           -1.050860396078448,
           -5.966407961776436
          ],
          [
           -1.0573576019300706,
           -5.979290137030689
          ],
          [
           -1.0988933777095486,
           -6.014002904967687
          ],
          [
           -1.1628734572639696,
           -6.046088740773622
          ],
          [
           -1.220409138302521,
           -6.068659332645208
          ],
          [
           -1.261112609929673,
           -6.09705065268084
          ],
          [
           -1.2506271438864827,
           -6.097048640748022
          ],
          [
           -1.2117774409850135,
           -6.090161413219058
          ],
          [
           -1.1689853823880836,
           -6.070820268671125
          ],
          [
           -1.1371440288056691,
           -6.06964725103521
          ],
          [
           -1.1214023828785231,
           -6.059519084044903
          ],
          [
           -1.1187956738333382,
           -6.062982896467409
          ],
          [
           -1.1145547006489542,
           -6.04795079933707
          ],
          [
           -1.139713014164341,
           -6.031395843468404
          ],
          [
           -1.2054539628513854,
           -6.031566799557689
          ],
          [
           -1.3315358931074106,
           -6.031604434547305
          ],
          [
           -1.499151001709207,
           -6.038396482412274
          ],
          [
           -1.6470201875249744,
           -6.058678864140844
          ],
          [
           -1.86938315000154,
           -6.058005263621334
          ],
          [
           -2.0428641017697022,
           -6.035791477892699
          ],
          [
           -2.175790393917361,
           -6.018422022475259
          ],
          [
           -2.325647643148975,
           -6.01257357154313
          ],
          [
           -2.4919946560270927,
           -6.001357581266099
          ],
          [
           -2.6626690585221273,
           -5.990153542188174
          ],
          [
           -2.7931471220608097,
           -5.993504964568804
          ],
          [
           -2.918119265349369,
           -5.97858558769411
          ],
          [
           -3.0007082554430573,
           -5.95664868440005
          ],
          [
           -3.0674572822461594,
           -5.9366458698627325
          ],
          [
           -3.186871470073923,
           -5.9230900490789855
          ],
          [
           -3.351123646347923,
           -5.876023950799543
          ],
          [
           -3.4629771631353363,
           -5.835966479232865
          ],
          [
           -3.568475935406683,
           -5.823278707558851
          ],
          [
           -3.669052842401657,
           -5.824863062665659
          ],
          [
           -3.7341561274441153,
           -5.820230843442688
          ],
          [
           -3.775872424962389,
           -5.819415897327878
          ],
          [
           -3.8127629652424146,
           -5.8107257624184045
          ],
          [
           -3.8203064230299515,
           -5.808023116865237
          ],
          [
           -3.8693128310163267,
           -5.815109476427622
          ],
          [
           -3.876185102412035,
           -5.828471370425308
          ],
          [
           -3.8567308877513717,
           -5.856341877821809
          ],
          [
           -3.8429275229987656,
           -5.874107079326163
          ],
          [
           -3.827549729562254,
           -5.892425028842998
          ],
          [
           -3.798266703238979,
           -5.899972549420965
          ],
          [
           -3.813120966509976,
           -5.934393548749068
          ],
          [
           -3.816933627127235,
           -5.975225661159996
          ],
          [
           -3.8105330792634673,
           -6.012355464854862
          ],
          [
           -3.7634966427628105,
           -6.038611926022885
          ],
          [
           -3.7291790345865024,
           -6.066445746120704
          ],
          [
           -3.696000248352309,
           -6.090018093831072
          ],
          [
           -3.68257518451924,
           -6.133357323892975
          ],
          [
           -3.6802323074573318,
           -6.18541011022025
          ],
          [
           -3.663106942736812,
           -6.224368939631094
          ],
          [
           -3.658425479608452,
           -6.27355257512576
          ],
          [
           -3.6532890922316446,
           -6.342458554692223
          ],
          [
           -3.6335363336704525,
           -6.3957054723804525
          ],
          [
           -3.640949589245965,
           -6.435751839602155
          ],
          [
           -3.6658121632324825,
           -6.454170849744863
          ],
          [
           -3.7042317320708182,
           -6.474323839168832
          ],
          [
           -3.7365690813498,
           -6.485141456899921
          ],
          [
           -3.757848879609252,
           -6.490972985047885
          ],
          [
           -3.7756178048399294,
           -6.495953544311671
          ],
          [
           -3.7776159978375823,
           -6.486895580849771
          ],
          [
           -3.801394198565294,
           -6.481327943014265
          ],
          [
           -3.826182599038201,
           -6.469488672091352
          ],
          [
           -3.86748961107453,
           -6.48033142778518
          ],
          [
           -3.8954492480642164,
           -6.483160059711318
          ]
         ],
         "hovertemplate": "%{x}<br>Baseline: %{y}<br><br>Baseline=%{customdata[0]:.3f}<br />PEDs=%{customdata[1]:.3f}<extra></extra>",
         "legendgroup": "Baseline",
         "line": {
          "color": "#636EFA",
          "dash": "solid"
         },
         "name": "Baseline",
         "showlegend": true,
         "type": "scatter",
         "x": [
          "2014-03-02T00:00:00",
          "2014-03-03T00:00:00",
          "2014-03-04T00:00:00",
          "2014-03-05T00:00:00",
          "2014-03-06T00:00:00",
          "2014-03-07T00:00:00",
          "2014-03-08T00:00:00",
          "2014-03-09T00:00:00",
          "2014-03-10T00:00:00",
          "2014-03-11T00:00:00",
          "2014-03-12T00:00:00",
          "2014-03-13T00:00:00",
          "2014-03-14T00:00:00",
          "2014-03-15T00:00:00",
          "2014-03-16T00:00:00",
          "2014-03-17T00:00:00",
          "2014-03-18T00:00:00",
          "2014-03-19T00:00:00",
          "2014-03-20T00:00:00",
          "2014-03-21T00:00:00",
          "2014-03-22T00:00:00",
          "2014-03-23T00:00:00",
          "2014-03-24T00:00:00",
          "2014-03-25T00:00:00",
          "2014-03-26T00:00:00",
          "2014-03-27T00:00:00",
          "2014-03-28T00:00:00",
          "2014-03-29T00:00:00",
          "2014-03-30T00:00:00",
          "2014-03-31T00:00:00",
          "2014-04-01T00:00:00",
          "2014-04-02T00:00:00",
          "2014-04-03T00:00:00",
          "2014-04-04T00:00:00",
          "2014-04-05T00:00:00",
          "2014-04-06T00:00:00",
          "2014-04-07T00:00:00",
          "2014-04-08T00:00:00",
          "2014-04-09T00:00:00",
          "2014-04-10T00:00:00",
          "2014-04-11T00:00:00",
          "2014-04-12T00:00:00",
          "2014-04-13T00:00:00",
          "2014-04-14T00:00:00",
          "2014-04-15T00:00:00",
          "2014-04-16T00:00:00",
          "2014-04-17T00:00:00",
          "2014-04-18T00:00:00",
          "2014-04-19T00:00:00",
          "2014-04-20T00:00:00",
          "2014-04-21T00:00:00",
          "2014-04-22T00:00:00",
          "2014-04-23T00:00:00",
          "2014-04-24T00:00:00",
          "2014-04-25T00:00:00",
          "2014-04-26T00:00:00",
          "2014-04-27T00:00:00",
          "2014-04-28T00:00:00",
          "2014-04-29T00:00:00",
          "2014-04-30T00:00:00",
          "2014-05-01T00:00:00",
          "2014-05-02T00:00:00",
          "2014-05-03T00:00:00",
          "2014-05-04T00:00:00",
          "2014-05-05T00:00:00",
          "2014-05-06T00:00:00",
          "2014-05-07T00:00:00",
          "2014-05-08T00:00:00",
          "2014-05-09T00:00:00",
          "2014-05-10T00:00:00",
          "2014-05-11T00:00:00",
          "2014-05-12T00:00:00",
          "2014-05-13T00:00:00",
          "2014-05-14T00:00:00",
          "2014-05-15T00:00:00",
          "2014-05-16T00:00:00",
          "2014-05-17T00:00:00",
          "2014-05-18T00:00:00",
          "2014-05-19T00:00:00",
          "2014-05-20T00:00:00",
          "2014-05-21T00:00:00",
          "2014-05-22T00:00:00",
          "2014-05-23T00:00:00",
          "2014-05-24T00:00:00",
          "2014-05-25T00:00:00",
          "2014-05-26T00:00:00",
          "2014-05-27T00:00:00",
          "2014-05-28T00:00:00",
          "2014-05-29T00:00:00",
          "2014-05-30T00:00:00",
          "2014-05-31T00:00:00",
          "2014-06-01T00:00:00",
          "2014-06-02T00:00:00",
          "2014-06-03T00:00:00",
          "2014-06-04T00:00:00",
          "2014-06-05T00:00:00",
          "2014-06-06T00:00:00",
          "2014-06-07T00:00:00",
          "2014-06-08T00:00:00",
          "2014-06-09T00:00:00",
          "2014-06-10T00:00:00",
          "2014-06-11T00:00:00",
          "2014-06-12T00:00:00",
          "2014-06-13T00:00:00",
          "2014-06-14T00:00:00",
          "2014-06-15T00:00:00",
          "2014-06-16T00:00:00",
          "2014-06-17T00:00:00",
          "2014-06-18T00:00:00",
          "2014-06-19T00:00:00",
          "2014-06-20T00:00:00",
          "2014-06-21T00:00:00",
          "2014-06-22T00:00:00",
          "2014-06-23T00:00:00",
          "2014-06-24T00:00:00",
          "2014-06-25T00:00:00",
          "2014-06-26T00:00:00",
          "2014-06-27T00:00:00",
          "2014-06-28T00:00:00",
          "2014-06-29T00:00:00",
          "2014-06-30T00:00:00",
          "2014-07-01T00:00:00",
          "2014-07-02T00:00:00",
          "2014-07-03T00:00:00",
          "2014-07-04T00:00:00",
          "2014-07-05T00:00:00",
          "2014-07-06T00:00:00",
          "2014-07-07T00:00:00",
          "2014-07-08T00:00:00",
          "2014-07-09T00:00:00",
          "2014-07-10T00:00:00",
          "2014-07-11T00:00:00",
          "2014-07-12T00:00:00",
          "2014-07-13T00:00:00",
          "2014-07-14T00:00:00",
          "2014-07-15T00:00:00",
          "2014-07-16T00:00:00",
          "2014-07-17T00:00:00",
          "2014-07-18T00:00:00",
          "2014-07-19T00:00:00",
          "2014-07-20T00:00:00",
          "2014-07-21T00:00:00",
          "2014-07-22T00:00:00",
          "2014-07-23T00:00:00",
          "2014-07-24T00:00:00",
          "2014-07-25T00:00:00",
          "2014-07-26T00:00:00",
          "2014-07-27T00:00:00",
          "2014-07-28T00:00:00",
          "2014-07-29T00:00:00",
          "2014-07-30T00:00:00",
          "2014-07-31T00:00:00",
          "2014-08-01T00:00:00",
          "2014-08-02T00:00:00",
          "2014-08-03T00:00:00",
          "2014-08-04T00:00:00",
          "2014-08-05T00:00:00",
          "2014-08-06T00:00:00",
          "2014-08-07T00:00:00",
          "2014-08-08T00:00:00",
          "2014-08-09T00:00:00",
          "2014-08-10T00:00:00",
          "2014-08-11T00:00:00",
          "2014-08-12T00:00:00",
          "2014-08-13T00:00:00",
          "2014-08-14T00:00:00",
          "2014-08-15T00:00:00",
          "2014-08-16T00:00:00",
          "2014-08-17T00:00:00",
          "2014-08-18T00:00:00",
          "2014-08-19T00:00:00",
          "2014-08-20T00:00:00",
          "2014-08-21T00:00:00",
          "2014-08-22T00:00:00",
          "2014-08-23T00:00:00",
          "2014-08-24T00:00:00",
          "2014-08-25T00:00:00",
          "2014-08-26T00:00:00",
          "2014-08-27T00:00:00",
          "2014-08-28T00:00:00",
          "2014-08-29T00:00:00",
          "2014-08-30T00:00:00",
          "2014-08-31T00:00:00",
          "2014-09-01T00:00:00",
          "2014-09-02T00:00:00",
          "2014-09-03T00:00:00",
          "2014-09-04T00:00:00",
          "2014-09-05T00:00:00",
          "2014-09-06T00:00:00",
          "2014-09-07T00:00:00",
          "2014-09-08T00:00:00",
          "2014-09-09T00:00:00",
          "2014-09-10T00:00:00",
          "2014-09-11T00:00:00",
          "2014-09-12T00:00:00",
          "2014-09-13T00:00:00",
          "2014-09-14T00:00:00",
          "2014-09-15T00:00:00",
          "2014-09-16T00:00:00",
          "2014-09-17T00:00:00",
          "2014-09-18T00:00:00",
          "2014-09-19T00:00:00",
          "2014-09-20T00:00:00",
          "2014-09-21T00:00:00",
          "2014-09-22T00:00:00",
          "2014-09-23T00:00:00",
          "2014-09-24T00:00:00",
          "2014-09-25T00:00:00",
          "2014-09-26T00:00:00",
          "2014-09-27T00:00:00",
          "2014-09-28T00:00:00",
          "2014-09-29T00:00:00",
          "2014-09-30T00:00:00",
          "2014-10-01T00:00:00",
          "2014-10-02T00:00:00",
          "2014-10-03T00:00:00",
          "2014-10-04T00:00:00",
          "2014-10-05T00:00:00",
          "2014-10-06T00:00:00",
          "2014-10-07T00:00:00",
          "2014-10-08T00:00:00",
          "2014-10-09T00:00:00",
          "2014-10-10T00:00:00",
          "2014-10-11T00:00:00",
          "2014-10-12T00:00:00",
          "2014-10-13T00:00:00",
          "2014-10-14T00:00:00",
          "2014-10-15T00:00:00",
          "2014-10-16T00:00:00",
          "2014-10-17T00:00:00",
          "2014-10-18T00:00:00",
          "2014-10-19T00:00:00",
          "2014-10-20T00:00:00",
          "2014-10-21T00:00:00",
          "2014-10-22T00:00:00",
          "2014-10-23T00:00:00",
          "2014-10-24T00:00:00",
          "2014-10-25T00:00:00",
          "2014-10-26T00:00:00",
          "2014-10-27T00:00:00",
          "2014-10-28T00:00:00",
          "2014-10-29T00:00:00",
          "2014-10-30T00:00:00",
          "2014-10-31T00:00:00",
          "2014-11-01T00:00:00",
          "2014-11-02T00:00:00",
          "2014-11-03T00:00:00",
          "2014-11-04T00:00:00",
          "2014-11-05T00:00:00",
          "2014-11-06T00:00:00",
          "2014-11-07T00:00:00",
          "2014-11-08T00:00:00",
          "2014-11-09T00:00:00",
          "2014-11-10T00:00:00",
          "2014-11-11T00:00:00",
          "2014-11-12T00:00:00",
          "2014-11-13T00:00:00",
          "2014-11-14T00:00:00",
          "2014-11-15T00:00:00",
          "2014-11-16T00:00:00",
          "2014-11-17T00:00:00",
          "2014-11-18T00:00:00",
          "2014-11-19T00:00:00",
          "2014-11-20T00:00:00",
          "2014-11-21T00:00:00",
          "2014-11-22T00:00:00",
          "2014-11-23T00:00:00",
          "2014-11-24T00:00:00",
          "2014-11-25T00:00:00",
          "2014-11-26T00:00:00",
          "2014-11-27T00:00:00",
          "2014-11-28T00:00:00",
          "2014-11-29T00:00:00",
          "2014-11-30T00:00:00",
          "2014-12-01T00:00:00",
          "2014-12-02T00:00:00",
          "2014-12-03T00:00:00",
          "2014-12-04T00:00:00",
          "2014-12-05T00:00:00",
          "2014-12-06T00:00:00",
          "2014-12-07T00:00:00",
          "2014-12-08T00:00:00",
          "2014-12-09T00:00:00",
          "2014-12-10T00:00:00",
          "2014-12-11T00:00:00",
          "2014-12-12T00:00:00",
          "2014-12-13T00:00:00",
          "2014-12-14T00:00:00",
          "2014-12-15T00:00:00",
          "2014-12-16T00:00:00",
          "2014-12-17T00:00:00",
          "2014-12-18T00:00:00",
          "2014-12-19T00:00:00",
          "2014-12-20T00:00:00",
          "2014-12-21T00:00:00",
          "2014-12-22T00:00:00",
          "2014-12-23T00:00:00",
          "2014-12-24T00:00:00",
          "2014-12-25T00:00:00",
          "2014-12-26T00:00:00",
          "2014-12-27T00:00:00",
          "2014-12-28T00:00:00",
          "2014-12-29T00:00:00",
          "2014-12-30T00:00:00",
          "2014-12-31T00:00:00",
          "2015-01-01T00:00:00",
          "2015-01-02T00:00:00",
          "2015-01-03T00:00:00",
          "2015-01-04T00:00:00",
          "2015-01-05T00:00:00",
          "2015-01-06T00:00:00",
          "2015-01-07T00:00:00",
          "2015-01-08T00:00:00",
          "2015-01-09T00:00:00",
          "2015-01-10T00:00:00",
          "2015-01-11T00:00:00",
          "2015-01-12T00:00:00",
          "2015-01-13T00:00:00",
          "2015-01-14T00:00:00",
          "2015-01-15T00:00:00",
          "2015-01-16T00:00:00",
          "2015-01-17T00:00:00",
          "2015-01-18T00:00:00",
          "2015-01-19T00:00:00",
          "2015-01-20T00:00:00",
          "2015-01-21T00:00:00",
          "2015-01-22T00:00:00",
          "2015-01-23T00:00:00",
          "2015-01-24T00:00:00",
          "2015-01-25T00:00:00",
          "2015-01-26T00:00:00",
          "2015-01-27T00:00:00",
          "2015-01-28T00:00:00",
          "2015-01-29T00:00:00",
          "2015-01-30T00:00:00",
          "2015-01-31T00:00:00"
         ],
         "xaxis": "x",
         "y": [
          0.8382378872807447,
          0.8368226122742446,
          0.8406656764074361,
          0.8464156449157734,
          0.8512180333856414,
          0.8567374367853136,
          0.862661688597369,
          0.8660590643655701,
          0.8690547224834785,
          0.8755010583174611,
          0.8814249675353157,
          0.8837976558009029,
          0.883535717844857,
          0.8866642161990282,
          0.893870851711113,
          0.8962860862630245,
          0.899358552236469,
          0.8995514447986623,
          0.8994019031003809,
          0.9007794139090916,
          0.9051274187825376,
          0.9106524186448444,
          0.9128022587859435,
          0.9151225009690385,
          0.9169065189508168,
          0.9171088981570252,
          0.9174807966590719,
          0.9183123274345623,
          0.9195649685388159,
          0.9187324178438622,
          0.9170344791158029,
          0.913101408052951,
          0.9100965908834658,
          0.9084923898766052,
          0.9043292037796203,
          0.9005266980622229,
          0.8975329708209467,
          0.8915211184420456,
          0.8869243740454019,
          0.8814935313198637,
          0.8757737344511303,
          0.8704708207489311,
          0.8696311959890923,
          0.8693730591697886,
          0.8693858404901689,
          0.8685130602951893,
          0.8724415466866479,
          0.8742338441393723,
          0.8742324998137183,
          0.873805904702868,
          0.8734229901728533,
          0.8746560883813754,
          0.8764588432784899,
          0.8751102918321165,
          0.8698723681213517,
          0.8650928272563447,
          0.861138937267956,
          0.851677281183142,
          0.8426379184007672,
          0.8393491878771923,
          0.8419552345876556,
          0.8386980044776791,
          0.8415639699577813,
          0.8396457893501265,
          0.8418403409419396,
          0.8457402707371353,
          0.8473605451920467,
          0.8540557967210728,
          0.858160356076271,
          0.8617014582393153,
          0.8625290121510272,
          0.8636445615907444,
          0.8685663291045759,
          0.8674319473769089,
          0.866980803079577,
          0.8674308745588146,
          0.8700253453035286,
          0.8678119124552399,
          0.8672328229108075,
          0.8642184998931187,
          0.864804247212518,
          0.8659542192864632,
          0.8647588419010218,
          0.8622213820943523,
          0.865295329199175,
          0.8695464916905106,
          0.8735551845774662,
          0.8708139247573736,
          0.8733165001374097,
          0.8728470699600362,
          0.87191599445022,
          0.8738172160423702,
          0.8732443004230349,
          0.8683084592521157,
          0.8667932606841933,
          0.8631288588825249,
          0.8545033895448352,
          0.8476190961558662,
          0.8407502301060059,
          0.8315542942883966,
          0.822068315898999,
          0.8147392178832376,
          0.8108654665700138,
          0.805856350471286,
          0.7999250154394649,
          0.7977713412999596,
          0.7907927740437067,
          0.7874149960863291,
          0.7864234477338755,
          0.7807067273546344,
          0.7751025941640229,
          0.7715341853988738,
          0.7691270422496478,
          0.7666416223392114,
          0.7666058470829697,
          0.7650641785968363,
          0.7700938931575649,
          0.764890243000512,
          0.769594382660606,
          0.7675419294032186,
          0.7720307449632505,
          0.7736118501024571,
          0.7771414218021694,
          0.7791333808809808,
          0.7799161038571749,
          0.7791006609370763,
          0.77962970662654,
          0.7818330784809789,
          0.7858967067130318,
          0.795343302951337,
          0.8017956926711267,
          0.8120867380374717,
          0.8224506988128322,
          0.8259594029282193,
          0.8277275576289991,
          0.8314421689271181,
          0.8321439048116088,
          0.840453642336185,
          0.8421341422678963,
          0.8430006935978158,
          0.8423941795276363,
          0.8426065076170142,
          0.8423021011848851,
          0.8419720567750721,
          0.8401983774075967,
          0.8396865669397027,
          0.8407358012688579,
          0.8421816599513624,
          0.8466290111679253,
          0.8520687247714014,
          0.8569188341162087,
          0.8606888478807007,
          0.8609529571804373,
          0.8555471862015409,
          0.848543240112439,
          0.8421392189968884,
          0.8362179585085776,
          0.8315627858974036,
          0.8240988702202012,
          0.8189468922403889,
          0.8119382194705909,
          0.8040643590886267,
          0.7958179236031764,
          0.7919941785597222,
          0.784577916695031,
          0.7782747169434037,
          0.77482288437061,
          0.7694530138882468,
          0.7601065321940293,
          0.7596560831759629,
          0.7585709528624014,
          0.7590215756472387,
          0.7571312845701197,
          0.755756358745707,
          0.7541911447145803,
          0.7476934882551709,
          0.7403056639238836,
          0.7377695019211156,
          0.7302980333695269,
          0.7062895669379343,
          0.6936979024954669,
          0.6773202116604108,
          0.6683803442865841,
          0.6607212263817386,
          0.6708604367391734,
          0.6797128850603077,
          0.6928141745606097,
          0.7047042767234977,
          0.7134273484423194,
          0.7205274870852642,
          0.7287495558647593,
          0.7323041008781245,
          0.7319423841118778,
          0.7331003130804162,
          0.7309692668971465,
          0.7303077700493993,
          0.7280848253543403,
          0.7273320687936767,
          0.733121462202121,
          0.7401335444822396,
          0.7411081599594219,
          0.7444839704000131,
          0.7401448923667089,
          0.7375983949705116,
          0.7387140969425495,
          0.7460700634675484,
          0.7534112583279431,
          0.7608220914002042,
          0.767333765044505,
          0.7770181382203754,
          0.7874635482412958,
          0.7944643133581087,
          0.7950007700331385,
          0.7869180713299324,
          0.7868169109565263,
          0.7862367795739162,
          0.7867711982941453,
          0.7909538909680696,
          0.7985570126785433,
          0.7954823395676032,
          0.79536947302039,
          0.797577101528679,
          0.8023484463350967,
          0.8098021173304586,
          0.8160276630481763,
          0.8209089833967399,
          0.8228539054151207,
          0.8281858589873332,
          0.8297486701718446,
          0.8313346532751187,
          0.8279145720988211,
          0.8269417351486216,
          0.8318732221771081,
          0.8391550269829511,
          0.8462407974653561,
          0.8505669578498324,
          0.8504164577552509,
          0.8523837896382442,
          0.8535175521456192,
          0.8552105220189863,
          0.8465648998903139,
          0.8409138822317737,
          0.8413199544911507,
          0.8441110529949852,
          0.8518274658691286,
          0.8520568761065499,
          0.859021626088921,
          0.8531412187030298,
          0.8373937122387919,
          0.8292909586819701,
          0.8228099363438599,
          0.8157236848748236,
          0.8091785215056475,
          0.8068009422619636,
          0.8093743442324255,
          0.8124209807384821,
          0.8161376766561325,
          0.8206190595039365,
          0.8234193712962763,
          0.8264860323005234,
          0.8304683766899519,
          0.8342815041292901,
          0.8420697075079799,
          0.8488034707638303,
          0.852412387099643,
          0.8556579356954994,
          0.8578535371087068,
          0.8580004168083677,
          0.8599641243693219,
          0.8632695446836145,
          0.8619103690396287,
          0.8669173586044958,
          0.8687035571636046,
          0.8702599054090102,
          0.8694123663413698,
          0.8691428367040586,
          0.8662000172286614,
          0.8640221831343649,
          0.8702798030950907,
          0.8824261660180672,
          0.890798264645187,
          0.8966843559546532,
          0.8990575451630236,
          0.9015826700831799,
          0.9027205719776128,
          0.9016646713466001,
          0.9032656859872686,
          0.9022620611217378,
          0.8977858330388818,
          0.8941090986122057,
          0.8903295430313547,
          0.8872638638838695,
          0.884106029949064,
          0.8786752869928659,
          0.8751188283435034,
          0.8754331992285849,
          0.8766019905817029,
          0.8783675283994054,
          0.8772231158925703,
          0.875403190171272,
          0.8731242851853805,
          0.8735272265444999,
          0.8757071754804677,
          0.873559391064948,
          0.8727100622840792,
          0.8718745706308446,
          0.8723890637476757,
          0.8736085611950982,
          0.877930471868222,
          0.878503581790697,
          0.8779606267367313,
          0.8780750420599116,
          0.8778760648907091,
          0.8790696184860063,
          0.8792091624140294,
          0.878820723143598,
          0.8828535492873149,
          0.8816956857515024,
          0.8819842995361804,
          0.884352167951743,
          0.8854885617484588,
          0.8870903823554268,
          0.8868522875751632,
          0.8848554239254172,
          0.8835201374626716,
          0.8790670080606068,
          0.8758643677526665,
          0.8737262052132841,
          0.8720824721832678,
          0.8704311412213056,
          0.8708221612368205,
          0.8687664825335331,
          0.8684556307622866,
          0.864512768345858,
          0.8634697025282017,
          0.8617160252724541
         ],
         "yaxis": "y"
        },
        {
         "connectgaps": false,
         "customdata": [
          [
           -0.08004595668924429,
           -0.17299738879568702
          ],
          [
           -0.04384125324970003,
           -0.11240366620425794
          ],
          [
           -0.04802618961900988,
           -0.12227155113180946
          ],
          [
           -0.028313659381340246,
           -0.09836883825112287
          ],
          [
           -0.017553540834655115,
           -0.07889771386435665
          ],
          [
           0.009193925829538206,
           -0.05238288373504406
          ],
          [
           0.03032964802877018,
           -0.03253370077757123
          ],
          [
           0.030708130832178455,
           -0.035026792557173454
          ],
          [
           0.03106960226829122,
           -0.02345551476815995
          ],
          [
           0.03051144572574885,
           -0.024203018800769773
          ],
          [
           0.049344233622505916,
           -0.015230073467664836
          ],
          [
           0.06066442343029569,
           -0.0005045707897900774
          ],
          [
           0.07657498041613311,
           0.0033084617561670426
          ],
          [
           0.08762636206746321,
           0.02549697717321643
          ],
          [
           0.06950139659477149,
           0.005861185170850504
          ],
          [
           0.028299277390768443,
           -0.02136837375942434
          ],
          [
           -0.012757264721648787,
           -0.04061073820001088
          ],
          [
           -0.03254575558175156,
           -0.06460897220225113
          ],
          [
           -0.07842453862394505,
           -0.12048509556621022
          ],
          [
           -0.11889207546274642,
           -0.17539344858248063
          ],
          [
           -0.20540389453008626,
           -0.2778166690325281
          ],
          [
           -0.3040901106027478,
           -0.4003698703681818
          ],
          [
           -0.33647228551011465,
           -0.45008070034420383
          ],
          [
           -0.3463908878780531,
           -0.44215937301616937
          ],
          [
           -0.3438431672202221,
           -0.4318115946938482
          ],
          [
           -0.3355393659990376,
           -0.40933213316207856
          ],
          [
           -0.31964518502694284,
           -0.37678844364657477
          ],
          [
           -0.3069879075564444,
           -0.3552308072586876
          ],
          [
           -0.3085678552891971,
           -0.3587862101433202
          ],
          [
           -0.29724373433247514,
           -0.3466716806460741
          ],
          [
           -0.28043476987090066,
           -0.3170774418305647
          ],
          [
           -0.2471254986823818,
           -0.26759619796504386
          ],
          [
           -0.21913667467657433,
           -0.21454461977909045
          ],
          [
           -0.18863279816082312,
           -0.1648702266899635
          ],
          [
           -0.1846613888275208,
           -0.14003105405400923
          ],
          [
           -0.1971982206966169,
           -0.13030993193643528
          ],
          [
           -0.23075639709596024,
           -0.1384169618857736
          ],
          [
           -0.25692117911009915,
           -0.12424800970393444
          ],
          [
           -0.249786627034034,
           -0.09805314004431676
          ],
          [
           -0.26920701726912116,
           -0.09739080354594316
          ],
          [
           -0.3045807344856386,
           -0.10141403646281935
          ],
          [
           -0.3866613846789768,
           -0.1552436095959209
          ],
          [
           -0.44641463063852094,
           -0.18359808410467465
          ],
          [
           -0.48390086164877927,
           -0.19468653948262274
          ],
          [
           -0.4724355616907624,
           -0.17696404176794803
          ],
          [
           -0.4508935222505228,
           -0.17076529625729647
          ],
          [
           -0.4618681575787397,
           -0.1950307188004927
          ],
          [
           -0.485178524332461,
           -0.22586912243861054
          ],
          [
           -0.49799088646390144,
           -0.23444855455926686
          ],
          [
           -0.5185767856291198,
           -0.24798449235208336
          ],
          [
           -0.5648555120702958,
           -0.2880078666618865
          ],
          [
           -0.5637403535267291,
           -0.2889646543946592
          ],
          [
           -0.5542514023620461,
           -0.2710945166414024
          ],
          [
           -0.5708158143233405,
           -0.3129214626905938
          ],
          [
           -0.5900452147831272,
           -0.3288587348859908
          ],
          [
           -0.6390927946714648,
           -0.3608430618135237
          ],
          [
           -0.6864416991559141,
           -0.4005535949357517
          ],
          [
           -0.6765024607616501,
           -0.3915642079521384
          ],
          [
           -0.6186997116525653,
           -0.35472182907631533
          ],
          [
           -0.5540673333892582,
           -0.2994068009887103
          ],
          [
           -0.4875174138947708,
           -0.26566755279339893
          ],
          [
           -0.45357401553505605,
           -0.2542195460089788
          ],
          [
           -0.4117049613165799,
           -0.2466718102384091
          ],
          [
           -0.3946047974385196,
           -0.2608072101936883
          ],
          [
           -0.34969402737692085,
           -0.2422164688209577
          ],
          [
           -0.2967138368764877,
           -0.20415135281050265
          ],
          [
           -0.24689119421219707,
           -0.14858023662308198
          ],
          [
           -0.19185812562482787,
           -0.08154711475872325
          ],
          [
           -0.149992852982846,
           -0.04865011704717778
          ],
          [
           -0.13204761768014403,
           -0.029997776279677837
          ],
          [
           -0.10639653201132232,
           -0.020194008515943142
          ],
          [
           -0.08729276048531208,
           -0.006065643418323283
          ],
          [
           -0.0862264024765043,
           -0.003771482547342779
          ],
          [
           -0.10375379669397752,
           -0.0020852091581137853
          ],
          [
           -0.11699617994616425,
           -0.00001833151559153791
          ],
          [
           -0.14319131385994846,
           -0.02521460087371921
          ],
          [
           -0.2013591144226531,
           -0.07536965728404361
          ],
          [
           -0.2776033916602824,
           -0.130694000396419
          ],
          [
           -0.32827409706017197,
           -0.19104678029084668
          ],
          [
           -0.369078419918764,
           -0.2216562127784529
          ],
          [
           -0.41310805987025045,
           -0.22525780733755357
          ],
          [
           -0.4235554196491233,
           -0.21100479943538908
          ],
          [
           -0.4405723406461263,
           -0.21182817641573093
          ],
          [
           -0.4539106970543803,
           -0.20410958955260716
          ],
          [
           -0.48632542340704377,
           -0.2064977533045506
          ],
          [
           -0.5638611835831683,
           -0.25180169770129507
          ],
          [
           -0.5980139227584285,
           -0.2536998338433084
          ],
          [
           -0.6057474411568083,
           -0.2555608909677079
          ],
          [
           -0.6293493890362346,
           -0.25767442549295855
          ],
          [
           -0.665988842405394,
           -0.28481494552951714
          ],
          [
           -0.7327358583521891,
           -0.35222060053026866
          ],
          [
           -0.796238617911557,
           -0.39512026667090233
          ],
          [
           -0.7812892155408401,
           -0.404186832880672
          ],
          [
           -0.7443860495576736,
           -0.45397919139805887
          ],
          [
           -0.7014499691975581,
           -0.5758140796904504
          ],
          [
           -0.6556761052317648,
           -0.7950059887685283
          ],
          [
           -0.6283065628428851,
           -1.0644136207035273
          ],
          [
           -0.6332538600958025,
           -1.298676803031163
          ],
          [
           -0.6684630836507462,
           -1.5163820070026652
          ],
          [
           -0.7251864599016146,
           -1.8168609125085289
          ],
          [
           -0.7446984855944442,
           -2.1111717548005045
          ],
          [
           -0.7601634444572805,
           -2.3903361956420848
          ],
          [
           -0.8055769876608556,
           -2.6864110384723823
          ],
          [
           -0.850939769283892,
           -3.0203961342313574
          ],
          [
           -0.9340978060993937,
           -3.3168420396560325
          ],
          [
           -0.9770966358248634,
           -3.5460108037337927
          ],
          [
           -0.9548955600870738,
           -3.791241144817853
          ],
          [
           -0.9259835466893965,
           -3.9976103110558574
          ],
          [
           -0.877967573944107,
           -4.164736179607664
          ],
          [
           -0.8004586481317818,
           -4.343654575316356
          ],
          [
           -0.730168017211389,
           -4.50212392760995
          ],
          [
           -0.6605991381986176,
           -4.653957044059014
          ],
          [
           -0.6038010983504016,
           -4.78331095313461
          ],
          [
           -0.5473222268506064,
           -4.906066723952575
          ],
          [
           -0.5241016739023917,
           -5.014447952776326
          ],
          [
           -0.5012109075724795,
           -5.096761792733242
          ],
          [
           -0.5202197251656663,
           -5.2039419854054945
          ],
          [
           -0.5676682026497012,
           -5.325971281946907
          ],
          [
           -0.6261732700243137,
           -5.434973278173539
          ],
          [
           -0.7282770641768718,
           -5.5475901865059924
          ],
          [
           -0.8615572637632731,
           -5.683128885331119
          ],
          [
           -0.943402760050457,
           -5.770929017491667
          ],
          [
           -0.9887650066387614,
           -5.814958210665936
          ],
          [
           -1.073941495237312,
           -5.855913848563067
          ],
          [
           -1.155744208455305,
           -5.8739181112593
          ],
          [
           -1.2252039425854642,
           -5.882336759866128
          ],
          [
           -1.291136330944411,
           -5.885465059431178
          ],
          [
           -1.3869835422923276,
           -5.882897325401509
          ],
          [
           -1.4933878041559967,
           -5.897727666474068
          ],
          [
           -1.6161851833593714,
           -5.9126224079123135
          ],
          [
           -1.7085173357792247,
           -5.935691893680343
          ],
          [
           -1.8240466752716142,
           -5.957828916691282
          ],
          [
           -1.9331261031731586,
           -5.998055717415852
          ],
          [
           -2.0375029220390126,
           -6.030421377578822
          ],
          [
           -2.126775796060773,
           -6.081970718762257
          ],
          [
           -2.1886157640250192,
           -6.104417305633083
          ],
          [
           -2.1992275764184677,
           -6.137993805826654
          ],
          [
           -2.2283031366752994,
           -6.187314798954811
          ],
          [
           -2.2650061082950805,
           -6.233613011664577
          ],
          [
           -2.3325346523031265,
           -6.285055100437774
          ],
          [
           -2.4148726572739876,
           -6.335148169874026
          ],
          [
           -2.4911106978039013,
           -6.394433974097826
          ],
          [
           -2.4971660729246783,
           -6.434564384388606
          ],
          [
           -2.4508074689763686,
           -6.460975181445645
          ],
          [
           -2.403767388138022,
           -6.485031534375377
          ],
          [
           -2.3626466323028685,
           -6.507303378746714
          ],
          [
           -2.318434784495427,
           -6.529430364110036
          ],
          [
           -2.278150015377577,
           -6.561862131538517
          ],
          [
           -2.214813999953059,
           -6.608192741316689
          ],
          [
           -2.154897553445541,
           -6.641894051844259
          ],
          [
           -2.119421439449683,
           -6.681122750856613
          ],
          [
           -2.095583633004055,
           -6.720096123693887
          ],
          [
           -2.0714811084784928,
           -6.760368646347626
          ],
          [
           -2.107047906441764,
           -6.794447939079082
          ],
          [
           -2.1314157431882723,
           -6.821011335034659
          ],
          [
           -2.1530506409654104,
           -6.845535053064363
          ],
          [
           -2.1509766163668345,
           -6.8610531191332305
          ],
          [
           -2.1577264057155987,
           -6.86749524254652
          ],
          [
           -2.1366569523017516,
           -6.879765087758647
          ],
          [
           -2.098186899191643,
           -6.901829648591363
          ],
          [
           -2.048294005919701,
           -6.918316907593831
          ],
          [
           -2.006164636531128,
           -6.929916256171803
          ],
          [
           -2.000318517514907,
           -6.947665108393592
          ],
          [
           -1.9948644810731142,
           -6.965631234063088
          ],
          [
           -1.9876137020999503,
           -6.975214442205469
          ],
          [
           -1.9655602480731738,
           -6.98469607725534
          ],
          [
           -1.9969541879753687,
           -6.99993937683249
          ],
          [
           -2.0335894052445886,
           -7.020211151380555
          ],
          [
           -2.082565170223746,
           -7.025432309652728
          ],
          [
           -2.1314759542807593,
           -7.032030808188363
          ],
          [
           -2.1485681631456983,
           -7.049347372547311
          ],
          [
           -2.1496485422099663,
           -7.0521703784358305
          ],
          [
           -2.2081558655677047,
           -7.058157650578209
          ],
          [
           -2.2612143748302986,
           -7.065231675683308
          ],
          [
           -2.360788847299572,
           -7.081009320406686
          ],
          [
           -2.521470082548966,
           -7.108738803836452
          ],
          [
           -2.6474903911360737,
           -7.128135838347708
          ],
          [
           -2.736155179664628,
           -7.139326871604104
          ],
          [
           -2.818343006547872,
           -7.139788263411596
          ],
          [
           -2.8752739854323317,
           -7.141659442878308
          ],
          [
           -2.949951397236083,
           -7.1387010220664395
          ],
          [
           -2.9611340079823925,
           -7.095533870719814
          ],
          [
           -2.9918890966127774,
           -7.0681699708009305
          ],
          [
           -2.9817837367705873,
           -7.032794680068606
          ],
          [
           -2.9861878270815114,
           -7.0039700425998594
          ],
          [
           -2.9816655028288133,
           -6.96579157995912
          ],
          [
           -3.037878051950287,
           -6.944927931472165
          ],
          [
           -3.109239551920767,
           -6.929922784019345
          ],
          [
           -3.2033864341451626,
           -6.918062135287519
          ],
          [
           -3.271397969846152,
           -6.907189940483266
          ],
          [
           -3.324703624894119,
           -6.896839605429936
          ],
          [
           -3.3126385798671123,
           -6.897241325971312
          ],
          [
           -3.286395110285923,
           -6.8963580181029585
          ],
          [
           -3.206452240679581,
           -6.876531333145765
          ],
          [
           -3.123213624853392,
           -6.8619820177659685
          ],
          [
           -3.0766088024893756,
           -6.8487413166308535
          ],
          [
           -3.0508894337450787,
           -6.836768260270012
          ],
          [
           -2.9642016394689676,
           -6.80866236790477
          ],
          [
           -2.8149763262914065,
           -6.787021683192125
          ],
          [
           -2.6479623254274647,
           -6.763542321446105
          ],
          [
           -2.4975325273985978,
           -6.750050190625425
          ],
          [
           -2.3577606382972847,
           -6.744150113664292
          ],
          [
           -2.242267706349629,
           -6.738434291798475
          ],
          [
           -2.144959085784985,
           -6.727601675840206
          ],
          [
           -2.057572499471699,
           -6.721152366471227
          ],
          [
           -2.01222930658044,
           -6.700462267978408
          ],
          [
           -1.968034429334654,
           -6.688299892500174
          ],
          [
           -1.9290413028787887,
           -6.684774953543261
          ],
          [
           -1.9214545061919615,
           -6.676010351145798
          ],
          [
           -1.908558854335487,
           -6.66201712443482
          ],
          [
           -1.910817192251964,
           -6.652312099862966
          ],
          [
           -1.9453990684279088,
           -6.661610392876175
          ],
          [
           -1.9320627351267161,
           -6.654631060093641
          ],
          [
           -1.874670693063651,
           -6.660285170715938
          ],
          [
           -1.8154443411340964,
           -6.647981544161072
          ],
          [
           -1.8107277432966873,
           -6.653304768663359
          ],
          [
           -1.7801838135534263,
           -6.655482620424648
          ],
          [
           -1.7445604284279763,
           -6.661053219088957
          ],
          [
           -1.6868048400466906,
           -6.659481291095501
          ],
          [
           -1.608014988813534,
           -6.640505730476424
          ],
          [
           -1.5423452537485858,
           -6.6108417698521755
          ],
          [
           -1.4944849478193027,
           -6.604719589956192
          ],
          [
           -1.4762738079867825,
           -6.58804348173865
          ],
          [
           -1.451305863524427,
           -6.578534171986019
          ],
          [
           -1.4256107012893875,
           -6.5673951543997555
          ],
          [
           -1.4164628249388727,
           -6.550348785023698
          ],
          [
           -1.4032947937968328,
           -6.530628461204308
          ],
          [
           -1.3531518673965799,
           -6.507818105835973
          ],
          [
           -1.2769966031544104,
           -6.504604239736086
          ],
          [
           -1.1957569117847282,
           -6.488800146631825
          ],
          [
           -1.1394581549794565,
           -6.490524888523408
          ],
          [
           -1.1157685458716142,
           -6.4831159024999865
          ],
          [
           -1.102428821626303,
           -6.468783555929645
          ],
          [
           -1.1033883067360215,
           -6.460797865825993
          ],
          [
           -1.1036337795617852,
           -6.4419424699057295
          ],
          [
           -1.0975897978558877,
           -6.428503136679562
          ],
          [
           -1.0811257520723754,
           -6.424610630561277
          ],
          [
           -1.053670706237957,
           -6.413560613098447
          ],
          [
           -1.027929235790875,
           -6.41367617871349
          ],
          [
           -0.9992932805902186,
           -6.402242725193265
          ],
          [
           -0.9782023531530633,
           -6.40333580558452
          ],
          [
           -0.9549390075247682,
           -6.407631142221782
          ],
          [
           -0.9577786351616109,
           -6.411342918053078
          ],
          [
           -0.9784415416353349,
           -6.39696597559778
          ],
          [
           -0.9854760620690463,
           -6.385450963726365
          ],
          [
           -1.0123467600077047,
           -6.362591639787565
          ],
          [
           -1.0130888311401647,
           -6.339342296320156
          ],
          [
           -0.9918101842066229,
           -6.2812274946390545
          ],
          [
           -0.9741846188739802,
           -6.219264243603703
          ],
          [
           -0.9787771927747849,
           -6.143845294434735
          ],
          [
           -1.006207118043166,
           -6.094704641362142
          ],
          [
           -1.043287016159618,
           -6.038163947112612
          ],
          [
           -1.0817478361404012,
           -6.008402956883946
          ],
          [
           -1.0890187148867012,
           -5.980768798091932
          ],
          [
           -1.062314564173241,
           -5.956022518388936
          ],
          [
           -1.0169202727853281,
           -5.922165681906661
          ],
          [
           -0.9865551962640922,
           -5.895793268699838
          ],
          [
           -0.9493321845716625,
           -5.876974487888437
          ],
          [
           -0.9218745919319749,
           -5.85133484019649
          ],
          [
           -0.9171419124394266,
           -5.831592811058582
          ],
          [
           -0.9454183491579269,
           -5.817199382844236
          ],
          [
           -0.9739518903632969,
           -5.807418531289941
          ],
          [
           -1.0022596114110944,
           -5.8102834658521525
          ],
          [
           -1.0400025149460819,
           -5.810049606205729
          ],
          [
           -1.0615823958328703,
           -5.819853211091987
          ],
          [
           -1.0751069051322009,
           -5.825661164131867
          ],
          [
           -1.0799436604006987,
           -5.849968157613467
          ],
          [
           -1.0939277701604995,
           -5.886406713875216
          ],
          [
           -1.0902576450652426,
           -5.916672145308509
          ],
          [
           -1.0626981788183485,
           -5.930799784303166
          ],
          [
           -1.050860396078448,
           -5.966407961776436
          ],
          [
           -1.0573576019300706,
           -5.979290137030689
          ],
          [
           -1.0988933777095486,
           -6.014002904967687
          ],
          [
           -1.1628734572639696,
           -6.046088740773622
          ],
          [
           -1.220409138302521,
           -6.068659332645208
          ],
          [
           -1.261112609929673,
           -6.09705065268084
          ],
          [
           -1.2506271438864827,
           -6.097048640748022
          ],
          [
           -1.2117774409850135,
           -6.090161413219058
          ],
          [
           -1.1689853823880836,
           -6.070820268671125
          ],
          [
           -1.1371440288056691,
           -6.06964725103521
          ],
          [
           -1.1214023828785231,
           -6.059519084044903
          ],
          [
           -1.1187956738333382,
           -6.062982896467409
          ],
          [
           -1.1145547006489542,
           -6.04795079933707
          ],
          [
           -1.139713014164341,
           -6.031395843468404
          ],
          [
           -1.2054539628513854,
           -6.031566799557689
          ],
          [
           -1.3315358931074106,
           -6.031604434547305
          ],
          [
           -1.499151001709207,
           -6.038396482412274
          ],
          [
           -1.6470201875249744,
           -6.058678864140844
          ],
          [
           -1.86938315000154,
           -6.058005263621334
          ],
          [
           -2.0428641017697022,
           -6.035791477892699
          ],
          [
           -2.175790393917361,
           -6.018422022475259
          ],
          [
           -2.325647643148975,
           -6.01257357154313
          ],
          [
           -2.4919946560270927,
           -6.001357581266099
          ],
          [
           -2.6626690585221273,
           -5.990153542188174
          ],
          [
           -2.7931471220608097,
           -5.993504964568804
          ],
          [
           -2.918119265349369,
           -5.97858558769411
          ],
          [
           -3.0007082554430573,
           -5.95664868440005
          ],
          [
           -3.0674572822461594,
           -5.9366458698627325
          ],
          [
           -3.186871470073923,
           -5.9230900490789855
          ],
          [
           -3.351123646347923,
           -5.876023950799543
          ],
          [
           -3.4629771631353363,
           -5.835966479232865
          ],
          [
           -3.568475935406683,
           -5.823278707558851
          ],
          [
           -3.669052842401657,
           -5.824863062665659
          ],
          [
           -3.7341561274441153,
           -5.820230843442688
          ],
          [
           -3.775872424962389,
           -5.819415897327878
          ],
          [
           -3.8127629652424146,
           -5.8107257624184045
          ],
          [
           -3.8203064230299515,
           -5.808023116865237
          ],
          [
           -3.8693128310163267,
           -5.815109476427622
          ],
          [
           -3.876185102412035,
           -5.828471370425308
          ],
          [
           -3.8567308877513717,
           -5.856341877821809
          ],
          [
           -3.8429275229987656,
           -5.874107079326163
          ],
          [
           -3.827549729562254,
           -5.892425028842998
          ],
          [
           -3.798266703238979,
           -5.899972549420965
          ],
          [
           -3.813120966509976,
           -5.934393548749068
          ],
          [
           -3.816933627127235,
           -5.975225661159996
          ],
          [
           -3.8105330792634673,
           -6.012355464854862
          ],
          [
           -3.7634966427628105,
           -6.038611926022885
          ],
          [
           -3.7291790345865024,
           -6.066445746120704
          ],
          [
           -3.696000248352309,
           -6.090018093831072
          ],
          [
           -3.68257518451924,
           -6.133357323892975
          ],
          [
           -3.6802323074573318,
           -6.18541011022025
          ],
          [
           -3.663106942736812,
           -6.224368939631094
          ],
          [
           -3.658425479608452,
           -6.27355257512576
          ],
          [
           -3.6532890922316446,
           -6.342458554692223
          ],
          [
           -3.6335363336704525,
           -6.3957054723804525
          ],
          [
           -3.640949589245965,
           -6.435751839602155
          ],
          [
           -3.6658121632324825,
           -6.454170849744863
          ],
          [
           -3.7042317320708182,
           -6.474323839168832
          ],
          [
           -3.7365690813498,
           -6.485141456899921
          ],
          [
           -3.757848879609252,
           -6.490972985047885
          ],
          [
           -3.7756178048399294,
           -6.495953544311671
          ],
          [
           -3.7776159978375823,
           -6.486895580849771
          ],
          [
           -3.801394198565294,
           -6.481327943014265
          ],
          [
           -3.826182599038201,
           -6.469488672091352
          ],
          [
           -3.86748961107453,
           -6.48033142778518
          ],
          [
           -3.8954492480642164,
           -6.483160059711318
          ]
         ],
         "hovertemplate": "%{x}<br>PEDs: %{y}<br><br>Baseline=%{customdata[0]:.3f}<br />PEDs=%{customdata[1]:.3f}<extra></extra>",
         "legendgroup": "PEDs",
         "line": {
          "color": "#EF553B",
          "dash": "solid"
         },
         "name": "PEDs",
         "showlegend": true,
         "type": "scatter",
         "x": [
          "2014-03-02T00:00:00",
          "2014-03-03T00:00:00",
          "2014-03-04T00:00:00",
          "2014-03-05T00:00:00",
          "2014-03-06T00:00:00",
          "2014-03-07T00:00:00",
          "2014-03-08T00:00:00",
          "2014-03-09T00:00:00",
          "2014-03-10T00:00:00",
          "2014-03-11T00:00:00",
          "2014-03-12T00:00:00",
          "2014-03-13T00:00:00",
          "2014-03-14T00:00:00",
          "2014-03-15T00:00:00",
          "2014-03-16T00:00:00",
          "2014-03-17T00:00:00",
          "2014-03-18T00:00:00",
          "2014-03-19T00:00:00",
          "2014-03-20T00:00:00",
          "2014-03-21T00:00:00",
          "2014-03-22T00:00:00",
          "2014-03-23T00:00:00",
          "2014-03-24T00:00:00",
          "2014-03-25T00:00:00",
          "2014-03-26T00:00:00",
          "2014-03-27T00:00:00",
          "2014-03-28T00:00:00",
          "2014-03-29T00:00:00",
          "2014-03-30T00:00:00",
          "2014-03-31T00:00:00",
          "2014-04-01T00:00:00",
          "2014-04-02T00:00:00",
          "2014-04-03T00:00:00",
          "2014-04-04T00:00:00",
          "2014-04-05T00:00:00",
          "2014-04-06T00:00:00",
          "2014-04-07T00:00:00",
          "2014-04-08T00:00:00",
          "2014-04-09T00:00:00",
          "2014-04-10T00:00:00",
          "2014-04-11T00:00:00",
          "2014-04-12T00:00:00",
          "2014-04-13T00:00:00",
          "2014-04-14T00:00:00",
          "2014-04-15T00:00:00",
          "2014-04-16T00:00:00",
          "2014-04-17T00:00:00",
          "2014-04-18T00:00:00",
          "2014-04-19T00:00:00",
          "2014-04-20T00:00:00",
          "2014-04-21T00:00:00",
          "2014-04-22T00:00:00",
          "2014-04-23T00:00:00",
          "2014-04-24T00:00:00",
          "2014-04-25T00:00:00",
          "2014-04-26T00:00:00",
          "2014-04-27T00:00:00",
          "2014-04-28T00:00:00",
          "2014-04-29T00:00:00",
          "2014-04-30T00:00:00",
          "2014-05-01T00:00:00",
          "2014-05-02T00:00:00",
          "2014-05-03T00:00:00",
          "2014-05-04T00:00:00",
          "2014-05-05T00:00:00",
          "2014-05-06T00:00:00",
          "2014-05-07T00:00:00",
          "2014-05-08T00:00:00",
          "2014-05-09T00:00:00",
          "2014-05-10T00:00:00",
          "2014-05-11T00:00:00",
          "2014-05-12T00:00:00",
          "2014-05-13T00:00:00",
          "2014-05-14T00:00:00",
          "2014-05-15T00:00:00",
          "2014-05-16T00:00:00",
          "2014-05-17T00:00:00",
          "2014-05-18T00:00:00",
          "2014-05-19T00:00:00",
          "2014-05-20T00:00:00",
          "2014-05-21T00:00:00",
          "2014-05-22T00:00:00",
          "2014-05-23T00:00:00",
          "2014-05-24T00:00:00",
          "2014-05-25T00:00:00",
          "2014-05-26T00:00:00",
          "2014-05-27T00:00:00",
          "2014-05-28T00:00:00",
          "2014-05-29T00:00:00",
          "2014-05-30T00:00:00",
          "2014-05-31T00:00:00",
          "2014-06-01T00:00:00",
          "2014-06-02T00:00:00",
          "2014-06-03T00:00:00",
          "2014-06-04T00:00:00",
          "2014-06-05T00:00:00",
          "2014-06-06T00:00:00",
          "2014-06-07T00:00:00",
          "2014-06-08T00:00:00",
          "2014-06-09T00:00:00",
          "2014-06-10T00:00:00",
          "2014-06-11T00:00:00",
          "2014-06-12T00:00:00",
          "2014-06-13T00:00:00",
          "2014-06-14T00:00:00",
          "2014-06-15T00:00:00",
          "2014-06-16T00:00:00",
          "2014-06-17T00:00:00",
          "2014-06-18T00:00:00",
          "2014-06-19T00:00:00",
          "2014-06-20T00:00:00",
          "2014-06-21T00:00:00",
          "2014-06-22T00:00:00",
          "2014-06-23T00:00:00",
          "2014-06-24T00:00:00",
          "2014-06-25T00:00:00",
          "2014-06-26T00:00:00",
          "2014-06-27T00:00:00",
          "2014-06-28T00:00:00",
          "2014-06-29T00:00:00",
          "2014-06-30T00:00:00",
          "2014-07-01T00:00:00",
          "2014-07-02T00:00:00",
          "2014-07-03T00:00:00",
          "2014-07-04T00:00:00",
          "2014-07-05T00:00:00",
          "2014-07-06T00:00:00",
          "2014-07-07T00:00:00",
          "2014-07-08T00:00:00",
          "2014-07-09T00:00:00",
          "2014-07-10T00:00:00",
          "2014-07-11T00:00:00",
          "2014-07-12T00:00:00",
          "2014-07-13T00:00:00",
          "2014-07-14T00:00:00",
          "2014-07-15T00:00:00",
          "2014-07-16T00:00:00",
          "2014-07-17T00:00:00",
          "2014-07-18T00:00:00",
          "2014-07-19T00:00:00",
          "2014-07-20T00:00:00",
          "2014-07-21T00:00:00",
          "2014-07-22T00:00:00",
          "2014-07-23T00:00:00",
          "2014-07-24T00:00:00",
          "2014-07-25T00:00:00",
          "2014-07-26T00:00:00",
          "2014-07-27T00:00:00",
          "2014-07-28T00:00:00",
          "2014-07-29T00:00:00",
          "2014-07-30T00:00:00",
          "2014-07-31T00:00:00",
          "2014-08-01T00:00:00",
          "2014-08-02T00:00:00",
          "2014-08-03T00:00:00",
          "2014-08-04T00:00:00",
          "2014-08-05T00:00:00",
          "2014-08-06T00:00:00",
          "2014-08-07T00:00:00",
          "2014-08-08T00:00:00",
          "2014-08-09T00:00:00",
          "2014-08-10T00:00:00",
          "2014-08-11T00:00:00",
          "2014-08-12T00:00:00",
          "2014-08-13T00:00:00",
          "2014-08-14T00:00:00",
          "2014-08-15T00:00:00",
          "2014-08-16T00:00:00",
          "2014-08-17T00:00:00",
          "2014-08-18T00:00:00",
          "2014-08-19T00:00:00",
          "2014-08-20T00:00:00",
          "2014-08-21T00:00:00",
          "2014-08-22T00:00:00",
          "2014-08-23T00:00:00",
          "2014-08-24T00:00:00",
          "2014-08-25T00:00:00",
          "2014-08-26T00:00:00",
          "2014-08-27T00:00:00",
          "2014-08-28T00:00:00",
          "2014-08-29T00:00:00",
          "2014-08-30T00:00:00",
          "2014-08-31T00:00:00",
          "2014-09-01T00:00:00",
          "2014-09-02T00:00:00",
          "2014-09-03T00:00:00",
          "2014-09-04T00:00:00",
          "2014-09-05T00:00:00",
          "2014-09-06T00:00:00",
          "2014-09-07T00:00:00",
          "2014-09-08T00:00:00",
          "2014-09-09T00:00:00",
          "2014-09-10T00:00:00",
          "2014-09-11T00:00:00",
          "2014-09-12T00:00:00",
          "2014-09-13T00:00:00",
          "2014-09-14T00:00:00",
          "2014-09-15T00:00:00",
          "2014-09-16T00:00:00",
          "2014-09-17T00:00:00",
          "2014-09-18T00:00:00",
          "2014-09-19T00:00:00",
          "2014-09-20T00:00:00",
          "2014-09-21T00:00:00",
          "2014-09-22T00:00:00",
          "2014-09-23T00:00:00",
          "2014-09-24T00:00:00",
          "2014-09-25T00:00:00",
          "2014-09-26T00:00:00",
          "2014-09-27T00:00:00",
          "2014-09-28T00:00:00",
          "2014-09-29T00:00:00",
          "2014-09-30T00:00:00",
          "2014-10-01T00:00:00",
          "2014-10-02T00:00:00",
          "2014-10-03T00:00:00",
          "2014-10-04T00:00:00",
          "2014-10-05T00:00:00",
          "2014-10-06T00:00:00",
          "2014-10-07T00:00:00",
          "2014-10-08T00:00:00",
          "2014-10-09T00:00:00",
          "2014-10-10T00:00:00",
          "2014-10-11T00:00:00",
          "2014-10-12T00:00:00",
          "2014-10-13T00:00:00",
          "2014-10-14T00:00:00",
          "2014-10-15T00:00:00",
          "2014-10-16T00:00:00",
          "2014-10-17T00:00:00",
          "2014-10-18T00:00:00",
          "2014-10-19T00:00:00",
          "2014-10-20T00:00:00",
          "2014-10-21T00:00:00",
          "2014-10-22T00:00:00",
          "2014-10-23T00:00:00",
          "2014-10-24T00:00:00",
          "2014-10-25T00:00:00",
          "2014-10-26T00:00:00",
          "2014-10-27T00:00:00",
          "2014-10-28T00:00:00",
          "2014-10-29T00:00:00",
          "2014-10-30T00:00:00",
          "2014-10-31T00:00:00",
          "2014-11-01T00:00:00",
          "2014-11-02T00:00:00",
          "2014-11-03T00:00:00",
          "2014-11-04T00:00:00",
          "2014-11-05T00:00:00",
          "2014-11-06T00:00:00",
          "2014-11-07T00:00:00",
          "2014-11-08T00:00:00",
          "2014-11-09T00:00:00",
          "2014-11-10T00:00:00",
          "2014-11-11T00:00:00",
          "2014-11-12T00:00:00",
          "2014-11-13T00:00:00",
          "2014-11-14T00:00:00",
          "2014-11-15T00:00:00",
          "2014-11-16T00:00:00",
          "2014-11-17T00:00:00",
          "2014-11-18T00:00:00",
          "2014-11-19T00:00:00",
          "2014-11-20T00:00:00",
          "2014-11-21T00:00:00",
          "2014-11-22T00:00:00",
          "2014-11-23T00:00:00",
          "2014-11-24T00:00:00",
          "2014-11-25T00:00:00",
          "2014-11-26T00:00:00",
          "2014-11-27T00:00:00",
          "2014-11-28T00:00:00",
          "2014-11-29T00:00:00",
          "2014-11-30T00:00:00",
          "2014-12-01T00:00:00",
          "2014-12-02T00:00:00",
          "2014-12-03T00:00:00",
          "2014-12-04T00:00:00",
          "2014-12-05T00:00:00",
          "2014-12-06T00:00:00",
          "2014-12-07T00:00:00",
          "2014-12-08T00:00:00",
          "2014-12-09T00:00:00",
          "2014-12-10T00:00:00",
          "2014-12-11T00:00:00",
          "2014-12-12T00:00:00",
          "2014-12-13T00:00:00",
          "2014-12-14T00:00:00",
          "2014-12-15T00:00:00",
          "2014-12-16T00:00:00",
          "2014-12-17T00:00:00",
          "2014-12-18T00:00:00",
          "2014-12-19T00:00:00",
          "2014-12-20T00:00:00",
          "2014-12-21T00:00:00",
          "2014-12-22T00:00:00",
          "2014-12-23T00:00:00",
          "2014-12-24T00:00:00",
          "2014-12-25T00:00:00",
          "2014-12-26T00:00:00",
          "2014-12-27T00:00:00",
          "2014-12-28T00:00:00",
          "2014-12-29T00:00:00",
          "2014-12-30T00:00:00",
          "2014-12-31T00:00:00",
          "2015-01-01T00:00:00",
          "2015-01-02T00:00:00",
          "2015-01-03T00:00:00",
          "2015-01-04T00:00:00",
          "2015-01-05T00:00:00",
          "2015-01-06T00:00:00",
          "2015-01-07T00:00:00",
          "2015-01-08T00:00:00",
          "2015-01-09T00:00:00",
          "2015-01-10T00:00:00",
          "2015-01-11T00:00:00",
          "2015-01-12T00:00:00",
          "2015-01-13T00:00:00",
          "2015-01-14T00:00:00",
          "2015-01-15T00:00:00",
          "2015-01-16T00:00:00",
          "2015-01-17T00:00:00",
          "2015-01-18T00:00:00",
          "2015-01-19T00:00:00",
          "2015-01-20T00:00:00",
          "2015-01-21T00:00:00",
          "2015-01-22T00:00:00",
          "2015-01-23T00:00:00",
          "2015-01-24T00:00:00",
          "2015-01-25T00:00:00",
          "2015-01-26T00:00:00",
          "2015-01-27T00:00:00",
          "2015-01-28T00:00:00",
          "2015-01-29T00:00:00",
          "2015-01-30T00:00:00",
          "2015-01-31T00:00:00"
         ],
         "xaxis": "x",
         "y": [
          0.823745144926083,
          0.8346022297665644,
          0.8384711567309532,
          0.8465555336315427,
          0.8549619701443694,
          0.8622910039324593,
          0.8640973888987042,
          0.866659066440044,
          0.8710199959715481,
          0.8749398097548874,
          0.8786768020438455,
          0.8796810353643214,
          0.8819026066834706,
          0.8857643460137801,
          0.8949295015248037,
          0.894733383050677,
          0.8984748138992965,
          0.8998724603210809,
          0.8996553237976053,
          0.9007322672075632,
          0.9072086317570569,
          0.9121292786391203,
          0.9136008276032312,
          0.9140890532348228,
          0.9157038647378257,
          0.91586388171703,
          0.9162168662508191,
          0.9166657572236346,
          0.9169532409720778,
          0.9157916550016217,
          0.9150648441711137,
          0.9109497636172358,
          0.908924583035453,
          0.9086553775633244,
          0.9049377740154396,
          0.9018926825312198,
          0.8968374709931156,
          0.8901261012175847,
          0.8859274429157115,
          0.8808319733514641,
          0.8766206262207835,
          0.8715215908301337,
          0.8702118814134138,
          0.8697199278673264,
          0.8696688468687656,
          0.8685134627483033,
          0.8731008919741489,
          0.8732846679756798,
          0.8746863525974684,
          0.8758904650486967,
          0.8742527895274457,
          0.8753980968761481,
          0.8765625473401932,
          0.8754940900575683,
          0.8695874087962241,
          0.8628656860362841,
          0.8600607956880598,
          0.8473397418479286,
          0.8398312605573647,
          0.8378899719711201,
          0.8351443289832761,
          0.8347538400955989,
          0.8371461193252517,
          0.8332214835419685,
          0.8372137959770595,
          0.8435246467134964,
          0.848576319067431,
          0.8510606035551557,
          0.8572217149369333,
          0.862070313740907,
          0.8650926900301856,
          0.8664854969433959,
          0.8663421113188225,
          0.8688453344146848,
          0.8692750858144391,
          0.8681507578897191,
          0.8675342852976298,
          0.8660494055890684,
          0.8672047528830902,
          0.8668804936336469,
          0.8678171541058335,
          0.8671177662075085,
          0.8660964629709135,
          0.8639337917945266,
          0.8659272929550157,
          0.8703335095851531,
          0.8727247577720123,
          0.8694912339165123,
          0.8732028640599282,
          0.8719983554238371,
          0.8707489409246515,
          0.8703750553064555,
          0.8638675984658895,
          0.8544269762872272,
          0.8495203639935369,
          0.8390063871385929,
          0.825645159671041,
          0.8145592277905387,
          0.8042529708950267,
          0.784036018699516,
          0.7680095240544288,
          0.7567870313266094,
          0.7494853987501643,
          0.7373749293941971,
          0.7280834879524307,
          0.7167161092684357,
          0.7044803293718755,
          0.6920068340225526,
          0.6821292351021958,
          0.6727696860644197,
          0.6638839284680343,
          0.6547006491089937,
          0.643954789812298,
          0.6386270604397672,
          0.6328020319062884,
          0.6291541750281431,
          0.6226761231801288,
          0.6139017129270273,
          0.6105845215621064,
          0.6057893676525882,
          0.6015778080317685,
          0.6225767324410203,
          0.6368090535053748,
          0.6524303940569103,
          0.6658433104340781,
          0.6754341315666071,
          0.6826633467406172,
          0.6905009554360474,
          0.6980857485200952,
          0.704964099547332,
          0.7116909044668497,
          0.7187573289362877,
          0.7251823622964881,
          0.7293251811465229,
          0.73486459725611,
          0.7413029742232741,
          0.7461818103615546,
          0.7521809523743224,
          0.7581973398476249,
          0.7631640103536572,
          0.7672502209212069,
          0.7736587187952317,
          0.7793129375677481,
          0.7843037374583371,
          0.7880434738286992,
          0.7906927333799526,
          0.7955747733782079,
          0.8007090564115149,
          0.808592349386455,
          0.8131969540223849,
          0.8166873884778697,
          0.8227677572114773,
          0.8270114773510621,
          0.8294955348563516,
          0.8309440618103778,
          0.8315354405082985,
          0.8336834966678989,
          0.8346201710403074,
          0.83540935758572,
          0.8349616515856639,
          0.8327291987372547,
          0.8329100824130666,
          0.8319700922447102,
          0.831079258634232,
          0.8311599863978458,
          0.8310556494484488,
          0.8294791550633683,
          0.8302020906576052,
          0.8297724222930853,
          0.8302812528452979,
          0.8316017154823186,
          0.8316168107804311,
          0.8315290819618184,
          0.8296856112431572,
          0.8265203099367189,
          0.8242152140976089,
          0.8209695929497,
          0.8178803667519765,
          0.8160409112166949,
          0.8135514320165229,
          0.8132386921745112,
          0.8124847345665078,
          0.8113973637702065,
          0.8130546820110486,
          0.8150254868733788,
          0.8172257874265492,
          0.8209483370238149,
          0.8220687894267382,
          0.8241386095004071,
          0.8255387678245547,
          0.8250516339983575,
          0.8233992623371973,
          0.8245348590400006,
          0.8247975394074891,
          0.8255980044240829,
          0.8259816594044925,
          0.8268258970687041,
          0.8287864851900769,
          0.8318657412102475,
          0.835599498434918,
          0.8386325714363527,
          0.8425570882578344,
          0.8451752345028621,
          0.8490744141100752,
          0.8529984318937042,
          0.8570245610227027,
          0.859259456313768,
          0.8632678511210845,
          0.8683025754256862,
          0.8735226008002005,
          0.8795694022726619,
          0.8842157453398746,
          0.8860822345173605,
          0.887827807263495,
          0.8901162300101038,
          0.8926222334414835,
          0.8957616235321235,
          0.8973309990517974,
          0.8996345750740035,
          0.9022713688449302,
          0.9050042389349293,
          0.9085914813714262,
          0.9116445111987848,
          0.9144716105893792,
          0.917414755877424,
          0.9198800560672536,
          0.921246911218592,
          0.9219249996350444,
          0.920301349720171,
          0.9187971980965318,
          0.9175099727038263,
          0.9161939983416146,
          0.9140983640971624,
          0.9127893296987338,
          0.9119644043568785,
          0.9100766673266986,
          0.9089055981301343,
          0.908085976885783,
          0.9069773800937947,
          0.9061281935547539,
          0.9037872914103856,
          0.902407963569328,
          0.9015438322894364,
          0.9003793664991732,
          0.8998440893459942,
          0.8982938170760804,
          0.8938712503971691,
          0.8846005254496494,
          0.8726213241773044,
          0.8603892668881779,
          0.8495429663795258,
          0.8395942665907172,
          0.8318894268070978,
          0.8223469412561136,
          0.8145066712133278,
          0.8056818777221453,
          0.7978066453154353,
          0.7888221321508991,
          0.7805489504726876,
          0.7760311629204342,
          0.769685679020507,
          0.7629748489732057,
          0.7571748207898363,
          0.7518573242272606,
          0.7457536522382023,
          0.7396564868100929,
          0.7337690565803668,
          0.7283030711197452,
          0.7234246714192222,
          0.7205398726156756,
          0.7178358382443574,
          0.7178590079202257,
          0.7171709060699184,
          0.717369921058246,
          0.7223690112439222,
          0.7208066474342443,
          0.7277458104667875,
          0.7224485017335907,
          0.7253751340194451,
          0.7400528762050348,
          0.7526057711955703,
          0.7591509449580398,
          0.7636959149580315,
          0.7671637586388208,
          0.7692043808959337,
          0.768822312576645,
          0.768260209776934,
          0.7668170120652319,
          0.76370722335209,
          0.7628836908498079,
          0.7615839981137442,
          0.7588786600935965,
          0.7605437549237237,
          0.7591840081690244,
          0.7573193867574035,
          0.7563645179537758,
          0.7543828582271277,
          0.7536713216919141,
          0.7518144196536667,
          0.751585091397356,
          0.7475502993873334,
          0.7457602304403731,
          0.7411735897125272,
          0.7377802663019678,
          0.735696943297843,
          0.733426629043149,
          0.7348220602151547,
          0.7332132972308979,
          0.7342970649073085,
          0.733898575871288,
          0.7337904122993816,
          0.7353728236353315,
          0.7361965210252391,
          0.7400951036545107,
          0.741232798729739,
          0.7438616297967747,
          0.7500657078331061,
          0.7539762671338414,
          0.7573838727126302,
          0.76310361069146,
          0.7715425637803446,
          0.7789976782619579,
          0.7886977182065953,
          0.8018376607945552,
          0.8106151881198979,
          0.8179889058944856,
          0.8250920488098773,
          0.8306482029153773,
          0.8347680781023944,
          0.8381003501728705,
          0.8411584229039191,
          0.842659233593086,
          0.8433067369800464,
          0.8438243560776713,
          0.8435362949676404,
          0.842375311180084
         ],
         "yaxis": "y"
        },
        {
         "connectgaps": false,
         "customdata": [
          [
           -0.08004595668924429,
           -0.17299738879568702
          ],
          [
           -0.04384125324970003,
           -0.11240366620425794
          ],
          [
           -0.04802618961900988,
           -0.12227155113180946
          ],
          [
           -0.028313659381340246,
           -0.09836883825112287
          ],
          [
           -0.017553540834655115,
           -0.07889771386435665
          ],
          [
           0.009193925829538206,
           -0.05238288373504406
          ],
          [
           0.03032964802877018,
           -0.03253370077757123
          ],
          [
           0.030708130832178455,
           -0.035026792557173454
          ],
          [
           0.03106960226829122,
           -0.02345551476815995
          ],
          [
           0.03051144572574885,
           -0.024203018800769773
          ],
          [
           0.049344233622505916,
           -0.015230073467664836
          ],
          [
           0.06066442343029569,
           -0.0005045707897900774
          ],
          [
           0.07657498041613311,
           0.0033084617561670426
          ],
          [
           0.08762636206746321,
           0.02549697717321643
          ],
          [
           0.06950139659477149,
           0.005861185170850504
          ],
          [
           0.028299277390768443,
           -0.02136837375942434
          ],
          [
           -0.012757264721648787,
           -0.04061073820001088
          ],
          [
           -0.03254575558175156,
           -0.06460897220225113
          ],
          [
           -0.07842453862394505,
           -0.12048509556621022
          ],
          [
           -0.11889207546274642,
           -0.17539344858248063
          ],
          [
           -0.20540389453008626,
           -0.2778166690325281
          ],
          [
           -0.3040901106027478,
           -0.4003698703681818
          ],
          [
           -0.33647228551011465,
           -0.45008070034420383
          ],
          [
           -0.3463908878780531,
           -0.44215937301616937
          ],
          [
           -0.3438431672202221,
           -0.4318115946938482
          ],
          [
           -0.3355393659990376,
           -0.40933213316207856
          ],
          [
           -0.31964518502694284,
           -0.37678844364657477
          ],
          [
           -0.3069879075564444,
           -0.3552308072586876
          ],
          [
           -0.3085678552891971,
           -0.3587862101433202
          ],
          [
           -0.29724373433247514,
           -0.3466716806460741
          ],
          [
           -0.28043476987090066,
           -0.3170774418305647
          ],
          [
           -0.2471254986823818,
           -0.26759619796504386
          ],
          [
           -0.21913667467657433,
           -0.21454461977909045
          ],
          [
           -0.18863279816082312,
           -0.1648702266899635
          ],
          [
           -0.1846613888275208,
           -0.14003105405400923
          ],
          [
           -0.1971982206966169,
           -0.13030993193643528
          ],
          [
           -0.23075639709596024,
           -0.1384169618857736
          ],
          [
           -0.25692117911009915,
           -0.12424800970393444
          ],
          [
           -0.249786627034034,
           -0.09805314004431676
          ],
          [
           -0.26920701726912116,
           -0.09739080354594316
          ],
          [
           -0.3045807344856386,
           -0.10141403646281935
          ],
          [
           -0.3866613846789768,
           -0.1552436095959209
          ],
          [
           -0.44641463063852094,
           -0.18359808410467465
          ],
          [
           -0.48390086164877927,
           -0.19468653948262274
          ],
          [
           -0.4724355616907624,
           -0.17696404176794803
          ],
          [
           -0.4508935222505228,
           -0.17076529625729647
          ],
          [
           -0.4618681575787397,
           -0.1950307188004927
          ],
          [
           -0.485178524332461,
           -0.22586912243861054
          ],
          [
           -0.49799088646390144,
           -0.23444855455926686
          ],
          [
           -0.5185767856291198,
           -0.24798449235208336
          ],
          [
           -0.5648555120702958,
           -0.2880078666618865
          ],
          [
           -0.5637403535267291,
           -0.2889646543946592
          ],
          [
           -0.5542514023620461,
           -0.2710945166414024
          ],
          [
           -0.5708158143233405,
           -0.3129214626905938
          ],
          [
           -0.5900452147831272,
           -0.3288587348859908
          ],
          [
           -0.6390927946714648,
           -0.3608430618135237
          ],
          [
           -0.6864416991559141,
           -0.4005535949357517
          ],
          [
           -0.6765024607616501,
           -0.3915642079521384
          ],
          [
           -0.6186997116525653,
           -0.35472182907631533
          ],
          [
           -0.5540673333892582,
           -0.2994068009887103
          ],
          [
           -0.4875174138947708,
           -0.26566755279339893
          ],
          [
           -0.45357401553505605,
           -0.2542195460089788
          ],
          [
           -0.4117049613165799,
           -0.2466718102384091
          ],
          [
           -0.3946047974385196,
           -0.2608072101936883
          ],
          [
           -0.34969402737692085,
           -0.2422164688209577
          ],
          [
           -0.2967138368764877,
           -0.20415135281050265
          ],
          [
           -0.24689119421219707,
           -0.14858023662308198
          ],
          [
           -0.19185812562482787,
           -0.08154711475872325
          ],
          [
           -0.149992852982846,
           -0.04865011704717778
          ],
          [
           -0.13204761768014403,
           -0.029997776279677837
          ],
          [
           -0.10639653201132232,
           -0.020194008515943142
          ],
          [
           -0.08729276048531208,
           -0.006065643418323283
          ],
          [
           -0.0862264024765043,
           -0.003771482547342779
          ],
          [
           -0.10375379669397752,
           -0.0020852091581137853
          ],
          [
           -0.11699617994616425,
           -0.00001833151559153791
          ],
          [
           -0.14319131385994846,
           -0.02521460087371921
          ],
          [
           -0.2013591144226531,
           -0.07536965728404361
          ],
          [
           -0.2776033916602824,
           -0.130694000396419
          ],
          [
           -0.32827409706017197,
           -0.19104678029084668
          ],
          [
           -0.369078419918764,
           -0.2216562127784529
          ],
          [
           -0.41310805987025045,
           -0.22525780733755357
          ],
          [
           -0.4235554196491233,
           -0.21100479943538908
          ],
          [
           -0.4405723406461263,
           -0.21182817641573093
          ],
          [
           -0.4539106970543803,
           -0.20410958955260716
          ],
          [
           -0.48632542340704377,
           -0.2064977533045506
          ],
          [
           -0.5638611835831683,
           -0.25180169770129507
          ],
          [
           -0.5980139227584285,
           -0.2536998338433084
          ],
          [
           -0.6057474411568083,
           -0.2555608909677079
          ],
          [
           -0.6293493890362346,
           -0.25767442549295855
          ],
          [
           -0.665988842405394,
           -0.28481494552951714
          ],
          [
           -0.7327358583521891,
           -0.35222060053026866
          ],
          [
           -0.796238617911557,
           -0.39512026667090233
          ],
          [
           -0.7812892155408401,
           -0.404186832880672
          ],
          [
           -0.7443860495576736,
           -0.45397919139805887
          ],
          [
           -0.7014499691975581,
           -0.5758140796904504
          ],
          [
           -0.6556761052317648,
           -0.7950059887685283
          ],
          [
           -0.6283065628428851,
           -1.0644136207035273
          ],
          [
           -0.6332538600958025,
           -1.298676803031163
          ],
          [
           -0.6684630836507462,
           -1.5163820070026652
          ],
          [
           -0.7251864599016146,
           -1.8168609125085289
          ],
          [
           -0.7446984855944442,
           -2.1111717548005045
          ],
          [
           -0.7601634444572805,
           -2.3903361956420848
          ],
          [
           -0.8055769876608556,
           -2.6864110384723823
          ],
          [
           -0.850939769283892,
           -3.0203961342313574
          ],
          [
           -0.9340978060993937,
           -3.3168420396560325
          ],
          [
           -0.9770966358248634,
           -3.5460108037337927
          ],
          [
           -0.9548955600870738,
           -3.791241144817853
          ],
          [
           -0.9259835466893965,
           -3.9976103110558574
          ],
          [
           -0.877967573944107,
           -4.164736179607664
          ],
          [
           -0.8004586481317818,
           -4.343654575316356
          ],
          [
           -0.730168017211389,
           -4.50212392760995
          ],
          [
           -0.6605991381986176,
           -4.653957044059014
          ],
          [
           -0.6038010983504016,
           -4.78331095313461
          ],
          [
           -0.5473222268506064,
           -4.906066723952575
          ],
          [
           -0.5241016739023917,
           -5.014447952776326
          ],
          [
           -0.5012109075724795,
           -5.096761792733242
          ],
          [
           -0.5202197251656663,
           -5.2039419854054945
          ],
          [
           -0.5676682026497012,
           -5.325971281946907
          ],
          [
           -0.6261732700243137,
           -5.434973278173539
          ],
          [
           -0.7282770641768718,
           -5.5475901865059924
          ],
          [
           -0.8615572637632731,
           -5.683128885331119
          ],
          [
           -0.943402760050457,
           -5.770929017491667
          ],
          [
           -0.9887650066387614,
           -5.814958210665936
          ],
          [
           -1.073941495237312,
           -5.855913848563067
          ],
          [
           -1.155744208455305,
           -5.8739181112593
          ],
          [
           -1.2252039425854642,
           -5.882336759866128
          ],
          [
           -1.291136330944411,
           -5.885465059431178
          ],
          [
           -1.3869835422923276,
           -5.882897325401509
          ],
          [
           -1.4933878041559967,
           -5.897727666474068
          ],
          [
           -1.6161851833593714,
           -5.9126224079123135
          ],
          [
           -1.7085173357792247,
           -5.935691893680343
          ],
          [
           -1.8240466752716142,
           -5.957828916691282
          ],
          [
           -1.9331261031731586,
           -5.998055717415852
          ],
          [
           -2.0375029220390126,
           -6.030421377578822
          ],
          [
           -2.126775796060773,
           -6.081970718762257
          ],
          [
           -2.1886157640250192,
           -6.104417305633083
          ],
          [
           -2.1992275764184677,
           -6.137993805826654
          ],
          [
           -2.2283031366752994,
           -6.187314798954811
          ],
          [
           -2.2650061082950805,
           -6.233613011664577
          ],
          [
           -2.3325346523031265,
           -6.285055100437774
          ],
          [
           -2.4148726572739876,
           -6.335148169874026
          ],
          [
           -2.4911106978039013,
           -6.394433974097826
          ],
          [
           -2.4971660729246783,
           -6.434564384388606
          ],
          [
           -2.4508074689763686,
           -6.460975181445645
          ],
          [
           -2.403767388138022,
           -6.485031534375377
          ],
          [
           -2.3626466323028685,
           -6.507303378746714
          ],
          [
           -2.318434784495427,
           -6.529430364110036
          ],
          [
           -2.278150015377577,
           -6.561862131538517
          ],
          [
           -2.214813999953059,
           -6.608192741316689
          ],
          [
           -2.154897553445541,
           -6.641894051844259
          ],
          [
           -2.119421439449683,
           -6.681122750856613
          ],
          [
           -2.095583633004055,
           -6.720096123693887
          ],
          [
           -2.0714811084784928,
           -6.760368646347626
          ],
          [
           -2.107047906441764,
           -6.794447939079082
          ],
          [
           -2.1314157431882723,
           -6.821011335034659
          ],
          [
           -2.1530506409654104,
           -6.845535053064363
          ],
          [
           -2.1509766163668345,
           -6.8610531191332305
          ],
          [
           -2.1577264057155987,
           -6.86749524254652
          ],
          [
           -2.1366569523017516,
           -6.879765087758647
          ],
          [
           -2.098186899191643,
           -6.901829648591363
          ],
          [
           -2.048294005919701,
           -6.918316907593831
          ],
          [
           -2.006164636531128,
           -6.929916256171803
          ],
          [
           -2.000318517514907,
           -6.947665108393592
          ],
          [
           -1.9948644810731142,
           -6.965631234063088
          ],
          [
           -1.9876137020999503,
           -6.975214442205469
          ],
          [
           -1.9655602480731738,
           -6.98469607725534
          ],
          [
           -1.9969541879753687,
           -6.99993937683249
          ],
          [
           -2.0335894052445886,
           -7.020211151380555
          ],
          [
           -2.082565170223746,
           -7.025432309652728
          ],
          [
           -2.1314759542807593,
           -7.032030808188363
          ],
          [
           -2.1485681631456983,
           -7.049347372547311
          ],
          [
           -2.1496485422099663,
           -7.0521703784358305
          ],
          [
           -2.2081558655677047,
           -7.058157650578209
          ],
          [
           -2.2612143748302986,
           -7.065231675683308
          ],
          [
           -2.360788847299572,
           -7.081009320406686
          ],
          [
           -2.521470082548966,
           -7.108738803836452
          ],
          [
           -2.6474903911360737,
           -7.128135838347708
          ],
          [
           -2.736155179664628,
           -7.139326871604104
          ],
          [
           -2.818343006547872,
           -7.139788263411596
          ],
          [
           -2.8752739854323317,
           -7.141659442878308
          ],
          [
           -2.949951397236083,
           -7.1387010220664395
          ],
          [
           -2.9611340079823925,
           -7.095533870719814
          ],
          [
           -2.9918890966127774,
           -7.0681699708009305
          ],
          [
           -2.9817837367705873,
           -7.032794680068606
          ],
          [
           -2.9861878270815114,
           -7.0039700425998594
          ],
          [
           -2.9816655028288133,
           -6.96579157995912
          ],
          [
           -3.037878051950287,
           -6.944927931472165
          ],
          [
           -3.109239551920767,
           -6.929922784019345
          ],
          [
           -3.2033864341451626,
           -6.918062135287519
          ],
          [
           -3.271397969846152,
           -6.907189940483266
          ],
          [
           -3.324703624894119,
           -6.896839605429936
          ],
          [
           -3.3126385798671123,
           -6.897241325971312
          ],
          [
           -3.286395110285923,
           -6.8963580181029585
          ],
          [
           -3.206452240679581,
           -6.876531333145765
          ],
          [
           -3.123213624853392,
           -6.8619820177659685
          ],
          [
           -3.0766088024893756,
           -6.8487413166308535
          ],
          [
           -3.0508894337450787,
           -6.836768260270012
          ],
          [
           -2.9642016394689676,
           -6.80866236790477
          ],
          [
           -2.8149763262914065,
           -6.787021683192125
          ],
          [
           -2.6479623254274647,
           -6.763542321446105
          ],
          [
           -2.4975325273985978,
           -6.750050190625425
          ],
          [
           -2.3577606382972847,
           -6.744150113664292
          ],
          [
           -2.242267706349629,
           -6.738434291798475
          ],
          [
           -2.144959085784985,
           -6.727601675840206
          ],
          [
           -2.057572499471699,
           -6.721152366471227
          ],
          [
           -2.01222930658044,
           -6.700462267978408
          ],
          [
           -1.968034429334654,
           -6.688299892500174
          ],
          [
           -1.9290413028787887,
           -6.684774953543261
          ],
          [
           -1.9214545061919615,
           -6.676010351145798
          ],
          [
           -1.908558854335487,
           -6.66201712443482
          ],
          [
           -1.910817192251964,
           -6.652312099862966
          ],
          [
           -1.9453990684279088,
           -6.661610392876175
          ],
          [
           -1.9320627351267161,
           -6.654631060093641
          ],
          [
           -1.874670693063651,
           -6.660285170715938
          ],
          [
           -1.8154443411340964,
           -6.647981544161072
          ],
          [
           -1.8107277432966873,
           -6.653304768663359
          ],
          [
           -1.7801838135534263,
           -6.655482620424648
          ],
          [
           -1.7445604284279763,
           -6.661053219088957
          ],
          [
           -1.6868048400466906,
           -6.659481291095501
          ],
          [
           -1.608014988813534,
           -6.640505730476424
          ],
          [
           -1.5423452537485858,
           -6.6108417698521755
          ],
          [
           -1.4944849478193027,
           -6.604719589956192
          ],
          [
           -1.4762738079867825,
           -6.58804348173865
          ],
          [
           -1.451305863524427,
           -6.578534171986019
          ],
          [
           -1.4256107012893875,
           -6.5673951543997555
          ],
          [
           -1.4164628249388727,
           -6.550348785023698
          ],
          [
           -1.4032947937968328,
           -6.530628461204308
          ],
          [
           -1.3531518673965799,
           -6.507818105835973
          ],
          [
           -1.2769966031544104,
           -6.504604239736086
          ],
          [
           -1.1957569117847282,
           -6.488800146631825
          ],
          [
           -1.1394581549794565,
           -6.490524888523408
          ],
          [
           -1.1157685458716142,
           -6.4831159024999865
          ],
          [
           -1.102428821626303,
           -6.468783555929645
          ],
          [
           -1.1033883067360215,
           -6.460797865825993
          ],
          [
           -1.1036337795617852,
           -6.4419424699057295
          ],
          [
           -1.0975897978558877,
           -6.428503136679562
          ],
          [
           -1.0811257520723754,
           -6.424610630561277
          ],
          [
           -1.053670706237957,
           -6.413560613098447
          ],
          [
           -1.027929235790875,
           -6.41367617871349
          ],
          [
           -0.9992932805902186,
           -6.402242725193265
          ],
          [
           -0.9782023531530633,
           -6.40333580558452
          ],
          [
           -0.9549390075247682,
           -6.407631142221782
          ],
          [
           -0.9577786351616109,
           -6.411342918053078
          ],
          [
           -0.9784415416353349,
           -6.39696597559778
          ],
          [
           -0.9854760620690463,
           -6.385450963726365
          ],
          [
           -1.0123467600077047,
           -6.362591639787565
          ],
          [
           -1.0130888311401647,
           -6.339342296320156
          ],
          [
           -0.9918101842066229,
           -6.2812274946390545
          ],
          [
           -0.9741846188739802,
           -6.219264243603703
          ],
          [
           -0.9787771927747849,
           -6.143845294434735
          ],
          [
           -1.006207118043166,
           -6.094704641362142
          ],
          [
           -1.043287016159618,
           -6.038163947112612
          ],
          [
           -1.0817478361404012,
           -6.008402956883946
          ],
          [
           -1.0890187148867012,
           -5.980768798091932
          ],
          [
           -1.062314564173241,
           -5.956022518388936
          ],
          [
           -1.0169202727853281,
           -5.922165681906661
          ],
          [
           -0.9865551962640922,
           -5.895793268699838
          ],
          [
           -0.9493321845716625,
           -5.876974487888437
          ],
          [
           -0.9218745919319749,
           -5.85133484019649
          ],
          [
           -0.9171419124394266,
           -5.831592811058582
          ],
          [
           -0.9454183491579269,
           -5.817199382844236
          ],
          [
           -0.9739518903632969,
           -5.807418531289941
          ],
          [
           -1.0022596114110944,
           -5.8102834658521525
          ],
          [
           -1.0400025149460819,
           -5.810049606205729
          ],
          [
           -1.0615823958328703,
           -5.819853211091987
          ],
          [
           -1.0751069051322009,
           -5.825661164131867
          ],
          [
           -1.0799436604006987,
           -5.849968157613467
          ],
          [
           -1.0939277701604995,
           -5.886406713875216
          ],
          [
           -1.0902576450652426,
           -5.916672145308509
          ],
          [
           -1.0626981788183485,
           -5.930799784303166
          ],
          [
           -1.050860396078448,
           -5.966407961776436
          ],
          [
           -1.0573576019300706,
           -5.979290137030689
          ],
          [
           -1.0988933777095486,
           -6.014002904967687
          ],
          [
           -1.1628734572639696,
           -6.046088740773622
          ],
          [
           -1.220409138302521,
           -6.068659332645208
          ],
          [
           -1.261112609929673,
           -6.09705065268084
          ],
          [
           -1.2506271438864827,
           -6.097048640748022
          ],
          [
           -1.2117774409850135,
           -6.090161413219058
          ],
          [
           -1.1689853823880836,
           -6.070820268671125
          ],
          [
           -1.1371440288056691,
           -6.06964725103521
          ],
          [
           -1.1214023828785231,
           -6.059519084044903
          ],
          [
           -1.1187956738333382,
           -6.062982896467409
          ],
          [
           -1.1145547006489542,
           -6.04795079933707
          ],
          [
           -1.139713014164341,
           -6.031395843468404
          ],
          [
           -1.2054539628513854,
           -6.031566799557689
          ],
          [
           -1.3315358931074106,
           -6.031604434547305
          ],
          [
           -1.499151001709207,
           -6.038396482412274
          ],
          [
           -1.6470201875249744,
           -6.058678864140844
          ],
          [
           -1.86938315000154,
           -6.058005263621334
          ],
          [
           -2.0428641017697022,
           -6.035791477892699
          ],
          [
           -2.175790393917361,
           -6.018422022475259
          ],
          [
           -2.325647643148975,
           -6.01257357154313
          ],
          [
           -2.4919946560270927,
           -6.001357581266099
          ],
          [
           -2.6626690585221273,
           -5.990153542188174
          ],
          [
           -2.7931471220608097,
           -5.993504964568804
          ],
          [
           -2.918119265349369,
           -5.97858558769411
          ],
          [
           -3.0007082554430573,
           -5.95664868440005
          ],
          [
           -3.0674572822461594,
           -5.9366458698627325
          ],
          [
           -3.186871470073923,
           -5.9230900490789855
          ],
          [
           -3.351123646347923,
           -5.876023950799543
          ],
          [
           -3.4629771631353363,
           -5.835966479232865
          ],
          [
           -3.568475935406683,
           -5.823278707558851
          ],
          [
           -3.669052842401657,
           -5.824863062665659
          ],
          [
           -3.7341561274441153,
           -5.820230843442688
          ],
          [
           -3.775872424962389,
           -5.819415897327878
          ],
          [
           -3.8127629652424146,
           -5.8107257624184045
          ],
          [
           -3.8203064230299515,
           -5.808023116865237
          ],
          [
           -3.8693128310163267,
           -5.815109476427622
          ],
          [
           -3.876185102412035,
           -5.828471370425308
          ],
          [
           -3.8567308877513717,
           -5.856341877821809
          ],
          [
           -3.8429275229987656,
           -5.874107079326163
          ],
          [
           -3.827549729562254,
           -5.892425028842998
          ],
          [
           -3.798266703238979,
           -5.899972549420965
          ],
          [
           -3.813120966509976,
           -5.934393548749068
          ],
          [
           -3.816933627127235,
           -5.975225661159996
          ],
          [
           -3.8105330792634673,
           -6.012355464854862
          ],
          [
           -3.7634966427628105,
           -6.038611926022885
          ],
          [
           -3.7291790345865024,
           -6.066445746120704
          ],
          [
           -3.696000248352309,
           -6.090018093831072
          ],
          [
           -3.68257518451924,
           -6.133357323892975
          ],
          [
           -3.6802323074573318,
           -6.18541011022025
          ],
          [
           -3.663106942736812,
           -6.224368939631094
          ],
          [
           -3.658425479608452,
           -6.27355257512576
          ],
          [
           -3.6532890922316446,
           -6.342458554692223
          ],
          [
           -3.6335363336704525,
           -6.3957054723804525
          ],
          [
           -3.640949589245965,
           -6.435751839602155
          ],
          [
           -3.6658121632324825,
           -6.454170849744863
          ],
          [
           -3.7042317320708182,
           -6.474323839168832
          ],
          [
           -3.7365690813498,
           -6.485141456899921
          ],
          [
           -3.757848879609252,
           -6.490972985047885
          ],
          [
           -3.7756178048399294,
           -6.495953544311671
          ],
          [
           -3.7776159978375823,
           -6.486895580849771
          ],
          [
           -3.801394198565294,
           -6.481327943014265
          ],
          [
           -3.826182599038201,
           -6.469488672091352
          ],
          [
           -3.86748961107453,
           -6.48033142778518
          ],
          [
           -3.8954492480642164,
           -6.483160059711318
          ]
         ],
         "hovertemplate": "%{x}<br>Baseline: %{y}<br><br>Baseline=%{customdata[0]:.3f}<br />PEDs=%{customdata[1]:.3f}<extra></extra>",
         "legendgroup": "Baseline",
         "line": {
          "color": "#636EFA",
          "dash": "solid"
         },
         "name": "Baseline",
         "showlegend": false,
         "type": "scatter",
         "x": [
          "2014-03-02T00:00:00",
          "2014-03-03T00:00:00",
          "2014-03-04T00:00:00",
          "2014-03-05T00:00:00",
          "2014-03-06T00:00:00",
          "2014-03-07T00:00:00",
          "2014-03-08T00:00:00",
          "2014-03-09T00:00:00",
          "2014-03-10T00:00:00",
          "2014-03-11T00:00:00",
          "2014-03-12T00:00:00",
          "2014-03-13T00:00:00",
          "2014-03-14T00:00:00",
          "2014-03-15T00:00:00",
          "2014-03-16T00:00:00",
          "2014-03-17T00:00:00",
          "2014-03-18T00:00:00",
          "2014-03-19T00:00:00",
          "2014-03-20T00:00:00",
          "2014-03-21T00:00:00",
          "2014-03-22T00:00:00",
          "2014-03-23T00:00:00",
          "2014-03-24T00:00:00",
          "2014-03-25T00:00:00",
          "2014-03-26T00:00:00",
          "2014-03-27T00:00:00",
          "2014-03-28T00:00:00",
          "2014-03-29T00:00:00",
          "2014-03-30T00:00:00",
          "2014-03-31T00:00:00",
          "2014-04-01T00:00:00",
          "2014-04-02T00:00:00",
          "2014-04-03T00:00:00",
          "2014-04-04T00:00:00",
          "2014-04-05T00:00:00",
          "2014-04-06T00:00:00",
          "2014-04-07T00:00:00",
          "2014-04-08T00:00:00",
          "2014-04-09T00:00:00",
          "2014-04-10T00:00:00",
          "2014-04-11T00:00:00",
          "2014-04-12T00:00:00",
          "2014-04-13T00:00:00",
          "2014-04-14T00:00:00",
          "2014-04-15T00:00:00",
          "2014-04-16T00:00:00",
          "2014-04-17T00:00:00",
          "2014-04-18T00:00:00",
          "2014-04-19T00:00:00",
          "2014-04-20T00:00:00",
          "2014-04-21T00:00:00",
          "2014-04-22T00:00:00",
          "2014-04-23T00:00:00",
          "2014-04-24T00:00:00",
          "2014-04-25T00:00:00",
          "2014-04-26T00:00:00",
          "2014-04-27T00:00:00",
          "2014-04-28T00:00:00",
          "2014-04-29T00:00:00",
          "2014-04-30T00:00:00",
          "2014-05-01T00:00:00",
          "2014-05-02T00:00:00",
          "2014-05-03T00:00:00",
          "2014-05-04T00:00:00",
          "2014-05-05T00:00:00",
          "2014-05-06T00:00:00",
          "2014-05-07T00:00:00",
          "2014-05-08T00:00:00",
          "2014-05-09T00:00:00",
          "2014-05-10T00:00:00",
          "2014-05-11T00:00:00",
          "2014-05-12T00:00:00",
          "2014-05-13T00:00:00",
          "2014-05-14T00:00:00",
          "2014-05-15T00:00:00",
          "2014-05-16T00:00:00",
          "2014-05-17T00:00:00",
          "2014-05-18T00:00:00",
          "2014-05-19T00:00:00",
          "2014-05-20T00:00:00",
          "2014-05-21T00:00:00",
          "2014-05-22T00:00:00",
          "2014-05-23T00:00:00",
          "2014-05-24T00:00:00",
          "2014-05-25T00:00:00",
          "2014-05-26T00:00:00",
          "2014-05-27T00:00:00",
          "2014-05-28T00:00:00",
          "2014-05-29T00:00:00",
          "2014-05-30T00:00:00",
          "2014-05-31T00:00:00",
          "2014-06-01T00:00:00",
          "2014-06-02T00:00:00",
          "2014-06-03T00:00:00",
          "2014-06-04T00:00:00",
          "2014-06-05T00:00:00",
          "2014-06-06T00:00:00",
          "2014-06-07T00:00:00",
          "2014-06-08T00:00:00",
          "2014-06-09T00:00:00",
          "2014-06-10T00:00:00",
          "2014-06-11T00:00:00",
          "2014-06-12T00:00:00",
          "2014-06-13T00:00:00",
          "2014-06-14T00:00:00",
          "2014-06-15T00:00:00",
          "2014-06-16T00:00:00",
          "2014-06-17T00:00:00",
          "2014-06-18T00:00:00",
          "2014-06-19T00:00:00",
          "2014-06-20T00:00:00",
          "2014-06-21T00:00:00",
          "2014-06-22T00:00:00",
          "2014-06-23T00:00:00",
          "2014-06-24T00:00:00",
          "2014-06-25T00:00:00",
          "2014-06-26T00:00:00",
          "2014-06-27T00:00:00",
          "2014-06-28T00:00:00",
          "2014-06-29T00:00:00",
          "2014-06-30T00:00:00",
          "2014-07-01T00:00:00",
          "2014-07-02T00:00:00",
          "2014-07-03T00:00:00",
          "2014-07-04T00:00:00",
          "2014-07-05T00:00:00",
          "2014-07-06T00:00:00",
          "2014-07-07T00:00:00",
          "2014-07-08T00:00:00",
          "2014-07-09T00:00:00",
          "2014-07-10T00:00:00",
          "2014-07-11T00:00:00",
          "2014-07-12T00:00:00",
          "2014-07-13T00:00:00",
          "2014-07-14T00:00:00",
          "2014-07-15T00:00:00",
          "2014-07-16T00:00:00",
          "2014-07-17T00:00:00",
          "2014-07-18T00:00:00",
          "2014-07-19T00:00:00",
          "2014-07-20T00:00:00",
          "2014-07-21T00:00:00",
          "2014-07-22T00:00:00",
          "2014-07-23T00:00:00",
          "2014-07-24T00:00:00",
          "2014-07-25T00:00:00",
          "2014-07-26T00:00:00",
          "2014-07-27T00:00:00",
          "2014-07-28T00:00:00",
          "2014-07-29T00:00:00",
          "2014-07-30T00:00:00",
          "2014-07-31T00:00:00",
          "2014-08-01T00:00:00",
          "2014-08-02T00:00:00",
          "2014-08-03T00:00:00",
          "2014-08-04T00:00:00",
          "2014-08-05T00:00:00",
          "2014-08-06T00:00:00",
          "2014-08-07T00:00:00",
          "2014-08-08T00:00:00",
          "2014-08-09T00:00:00",
          "2014-08-10T00:00:00",
          "2014-08-11T00:00:00",
          "2014-08-12T00:00:00",
          "2014-08-13T00:00:00",
          "2014-08-14T00:00:00",
          "2014-08-15T00:00:00",
          "2014-08-16T00:00:00",
          "2014-08-17T00:00:00",
          "2014-08-18T00:00:00",
          "2014-08-19T00:00:00",
          "2014-08-20T00:00:00",
          "2014-08-21T00:00:00",
          "2014-08-22T00:00:00",
          "2014-08-23T00:00:00",
          "2014-08-24T00:00:00",
          "2014-08-25T00:00:00",
          "2014-08-26T00:00:00",
          "2014-08-27T00:00:00",
          "2014-08-28T00:00:00",
          "2014-08-29T00:00:00",
          "2014-08-30T00:00:00",
          "2014-08-31T00:00:00",
          "2014-09-01T00:00:00",
          "2014-09-02T00:00:00",
          "2014-09-03T00:00:00",
          "2014-09-04T00:00:00",
          "2014-09-05T00:00:00",
          "2014-09-06T00:00:00",
          "2014-09-07T00:00:00",
          "2014-09-08T00:00:00",
          "2014-09-09T00:00:00",
          "2014-09-10T00:00:00",
          "2014-09-11T00:00:00",
          "2014-09-12T00:00:00",
          "2014-09-13T00:00:00",
          "2014-09-14T00:00:00",
          "2014-09-15T00:00:00",
          "2014-09-16T00:00:00",
          "2014-09-17T00:00:00",
          "2014-09-18T00:00:00",
          "2014-09-19T00:00:00",
          "2014-09-20T00:00:00",
          "2014-09-21T00:00:00",
          "2014-09-22T00:00:00",
          "2014-09-23T00:00:00",
          "2014-09-24T00:00:00",
          "2014-09-25T00:00:00",
          "2014-09-26T00:00:00",
          "2014-09-27T00:00:00",
          "2014-09-28T00:00:00",
          "2014-09-29T00:00:00",
          "2014-09-30T00:00:00",
          "2014-10-01T00:00:00",
          "2014-10-02T00:00:00",
          "2014-10-03T00:00:00",
          "2014-10-04T00:00:00",
          "2014-10-05T00:00:00",
          "2014-10-06T00:00:00",
          "2014-10-07T00:00:00",
          "2014-10-08T00:00:00",
          "2014-10-09T00:00:00",
          "2014-10-10T00:00:00",
          "2014-10-11T00:00:00",
          "2014-10-12T00:00:00",
          "2014-10-13T00:00:00",
          "2014-10-14T00:00:00",
          "2014-10-15T00:00:00",
          "2014-10-16T00:00:00",
          "2014-10-17T00:00:00",
          "2014-10-18T00:00:00",
          "2014-10-19T00:00:00",
          "2014-10-20T00:00:00",
          "2014-10-21T00:00:00",
          "2014-10-22T00:00:00",
          "2014-10-23T00:00:00",
          "2014-10-24T00:00:00",
          "2014-10-25T00:00:00",
          "2014-10-26T00:00:00",
          "2014-10-27T00:00:00",
          "2014-10-28T00:00:00",
          "2014-10-29T00:00:00",
          "2014-10-30T00:00:00",
          "2014-10-31T00:00:00",
          "2014-11-01T00:00:00",
          "2014-11-02T00:00:00",
          "2014-11-03T00:00:00",
          "2014-11-04T00:00:00",
          "2014-11-05T00:00:00",
          "2014-11-06T00:00:00",
          "2014-11-07T00:00:00",
          "2014-11-08T00:00:00",
          "2014-11-09T00:00:00",
          "2014-11-10T00:00:00",
          "2014-11-11T00:00:00",
          "2014-11-12T00:00:00",
          "2014-11-13T00:00:00",
          "2014-11-14T00:00:00",
          "2014-11-15T00:00:00",
          "2014-11-16T00:00:00",
          "2014-11-17T00:00:00",
          "2014-11-18T00:00:00",
          "2014-11-19T00:00:00",
          "2014-11-20T00:00:00",
          "2014-11-21T00:00:00",
          "2014-11-22T00:00:00",
          "2014-11-23T00:00:00",
          "2014-11-24T00:00:00",
          "2014-11-25T00:00:00",
          "2014-11-26T00:00:00",
          "2014-11-27T00:00:00",
          "2014-11-28T00:00:00",
          "2014-11-29T00:00:00",
          "2014-11-30T00:00:00",
          "2014-12-01T00:00:00",
          "2014-12-02T00:00:00",
          "2014-12-03T00:00:00",
          "2014-12-04T00:00:00",
          "2014-12-05T00:00:00",
          "2014-12-06T00:00:00",
          "2014-12-07T00:00:00",
          "2014-12-08T00:00:00",
          "2014-12-09T00:00:00",
          "2014-12-10T00:00:00",
          "2014-12-11T00:00:00",
          "2014-12-12T00:00:00",
          "2014-12-13T00:00:00",
          "2014-12-14T00:00:00",
          "2014-12-15T00:00:00",
          "2014-12-16T00:00:00",
          "2014-12-17T00:00:00",
          "2014-12-18T00:00:00",
          "2014-12-19T00:00:00",
          "2014-12-20T00:00:00",
          "2014-12-21T00:00:00",
          "2014-12-22T00:00:00",
          "2014-12-23T00:00:00",
          "2014-12-24T00:00:00",
          "2014-12-25T00:00:00",
          "2014-12-26T00:00:00",
          "2014-12-27T00:00:00",
          "2014-12-28T00:00:00",
          "2014-12-29T00:00:00",
          "2014-12-30T00:00:00",
          "2014-12-31T00:00:00",
          "2015-01-01T00:00:00",
          "2015-01-02T00:00:00",
          "2015-01-03T00:00:00",
          "2015-01-04T00:00:00",
          "2015-01-05T00:00:00",
          "2015-01-06T00:00:00",
          "2015-01-07T00:00:00",
          "2015-01-08T00:00:00",
          "2015-01-09T00:00:00",
          "2015-01-10T00:00:00",
          "2015-01-11T00:00:00",
          "2015-01-12T00:00:00",
          "2015-01-13T00:00:00",
          "2015-01-14T00:00:00",
          "2015-01-15T00:00:00",
          "2015-01-16T00:00:00",
          "2015-01-17T00:00:00",
          "2015-01-18T00:00:00",
          "2015-01-19T00:00:00",
          "2015-01-20T00:00:00",
          "2015-01-21T00:00:00",
          "2015-01-22T00:00:00",
          "2015-01-23T00:00:00",
          "2015-01-24T00:00:00",
          "2015-01-25T00:00:00",
          "2015-01-26T00:00:00",
          "2015-01-27T00:00:00",
          "2015-01-28T00:00:00",
          "2015-01-29T00:00:00",
          "2015-01-30T00:00:00",
          "2015-01-31T00:00:00"
         ],
         "xaxis": "x2",
         "y": [
          -0.08004595668924429,
          -0.04384125324970003,
          -0.04802618961900988,
          -0.028313659381340246,
          -0.017553540834655115,
          0.009193925829538206,
          0.03032964802877018,
          0.030708130832178455,
          0.03106960226829122,
          0.03051144572574885,
          0.049344233622505916,
          0.06066442343029569,
          0.07657498041613311,
          0.08762636206746321,
          0.06950139659477149,
          0.028299277390768443,
          -0.012757264721648787,
          -0.03254575558175156,
          -0.07842453862394505,
          -0.11889207546274642,
          -0.20540389453008626,
          -0.3040901106027478,
          -0.33647228551011465,
          -0.3463908878780531,
          -0.3438431672202221,
          -0.3355393659990376,
          -0.31964518502694284,
          -0.3069879075564444,
          -0.3085678552891971,
          -0.29724373433247514,
          -0.28043476987090066,
          -0.2471254986823818,
          -0.21913667467657433,
          -0.18863279816082312,
          -0.1846613888275208,
          -0.1971982206966169,
          -0.23075639709596024,
          -0.25692117911009915,
          -0.249786627034034,
          -0.26920701726912116,
          -0.3045807344856386,
          -0.3866613846789768,
          -0.44641463063852094,
          -0.48390086164877927,
          -0.4724355616907624,
          -0.4508935222505228,
          -0.4618681575787397,
          -0.485178524332461,
          -0.49799088646390144,
          -0.5185767856291198,
          -0.5648555120702958,
          -0.5637403535267291,
          -0.5542514023620461,
          -0.5708158143233405,
          -0.5900452147831272,
          -0.6390927946714648,
          -0.6864416991559141,
          -0.6765024607616501,
          -0.6186997116525653,
          -0.5540673333892582,
          -0.4875174138947708,
          -0.45357401553505605,
          -0.4117049613165799,
          -0.3946047974385196,
          -0.34969402737692085,
          -0.2967138368764877,
          -0.24689119421219707,
          -0.19185812562482787,
          -0.149992852982846,
          -0.13204761768014403,
          -0.10639653201132232,
          -0.08729276048531208,
          -0.0862264024765043,
          -0.10375379669397752,
          -0.11699617994616425,
          -0.14319131385994846,
          -0.2013591144226531,
          -0.2776033916602824,
          -0.32827409706017197,
          -0.369078419918764,
          -0.41310805987025045,
          -0.4235554196491233,
          -0.4405723406461263,
          -0.4539106970543803,
          -0.48632542340704377,
          -0.5638611835831683,
          -0.5980139227584285,
          -0.6057474411568083,
          -0.6293493890362346,
          -0.665988842405394,
          -0.7327358583521891,
          -0.796238617911557,
          -0.7812892155408401,
          -0.7443860495576736,
          -0.7014499691975581,
          -0.6556761052317648,
          -0.6283065628428851,
          -0.6332538600958025,
          -0.6684630836507462,
          -0.7251864599016146,
          -0.7446984855944442,
          -0.7601634444572805,
          -0.8055769876608556,
          -0.850939769283892,
          -0.9340978060993937,
          -0.9770966358248634,
          -0.9548955600870738,
          -0.9259835466893965,
          -0.877967573944107,
          -0.8004586481317818,
          -0.730168017211389,
          -0.6605991381986176,
          -0.6038010983504016,
          -0.5473222268506064,
          -0.5241016739023917,
          -0.5012109075724795,
          -0.5202197251656663,
          -0.5676682026497012,
          -0.6261732700243137,
          -0.7282770641768718,
          -0.8615572637632731,
          -0.943402760050457,
          -0.9887650066387614,
          -1.073941495237312,
          -1.155744208455305,
          -1.2252039425854642,
          -1.291136330944411,
          -1.3869835422923276,
          -1.4933878041559967,
          -1.6161851833593714,
          -1.7085173357792247,
          -1.8240466752716142,
          -1.9331261031731586,
          -2.0375029220390126,
          -2.126775796060773,
          -2.1886157640250192,
          -2.1992275764184677,
          -2.2283031366752994,
          -2.2650061082950805,
          -2.3325346523031265,
          -2.4148726572739876,
          -2.4911106978039013,
          -2.4971660729246783,
          -2.4508074689763686,
          -2.403767388138022,
          -2.3626466323028685,
          -2.318434784495427,
          -2.278150015377577,
          -2.214813999953059,
          -2.154897553445541,
          -2.119421439449683,
          -2.095583633004055,
          -2.0714811084784928,
          -2.107047906441764,
          -2.1314157431882723,
          -2.1530506409654104,
          -2.1509766163668345,
          -2.1577264057155987,
          -2.1366569523017516,
          -2.098186899191643,
          -2.048294005919701,
          -2.006164636531128,
          -2.000318517514907,
          -1.9948644810731142,
          -1.9876137020999503,
          -1.9655602480731738,
          -1.9969541879753687,
          -2.0335894052445886,
          -2.082565170223746,
          -2.1314759542807593,
          -2.1485681631456983,
          -2.1496485422099663,
          -2.2081558655677047,
          -2.2612143748302986,
          -2.360788847299572,
          -2.521470082548966,
          -2.6474903911360737,
          -2.736155179664628,
          -2.818343006547872,
          -2.8752739854323317,
          -2.949951397236083,
          -2.9611340079823925,
          -2.9918890966127774,
          -2.9817837367705873,
          -2.9861878270815114,
          -2.9816655028288133,
          -3.037878051950287,
          -3.109239551920767,
          -3.2033864341451626,
          -3.271397969846152,
          -3.324703624894119,
          -3.3126385798671123,
          -3.286395110285923,
          -3.206452240679581,
          -3.123213624853392,
          -3.0766088024893756,
          -3.0508894337450787,
          -2.9642016394689676,
          -2.8149763262914065,
          -2.6479623254274647,
          -2.4975325273985978,
          -2.3577606382972847,
          -2.242267706349629,
          -2.144959085784985,
          -2.057572499471699,
          -2.01222930658044,
          -1.968034429334654,
          -1.9290413028787887,
          -1.9214545061919615,
          -1.908558854335487,
          -1.910817192251964,
          -1.9453990684279088,
          -1.9320627351267161,
          -1.874670693063651,
          -1.8154443411340964,
          -1.8107277432966873,
          -1.7801838135534263,
          -1.7445604284279763,
          -1.6868048400466906,
          -1.608014988813534,
          -1.5423452537485858,
          -1.4944849478193027,
          -1.4762738079867825,
          -1.451305863524427,
          -1.4256107012893875,
          -1.4164628249388727,
          -1.4032947937968328,
          -1.3531518673965799,
          -1.2769966031544104,
          -1.1957569117847282,
          -1.1394581549794565,
          -1.1157685458716142,
          -1.102428821626303,
          -1.1033883067360215,
          -1.1036337795617852,
          -1.0975897978558877,
          -1.0811257520723754,
          -1.053670706237957,
          -1.027929235790875,
          -0.9992932805902186,
          -0.9782023531530633,
          -0.9549390075247682,
          -0.9577786351616109,
          -0.9784415416353349,
          -0.9854760620690463,
          -1.0123467600077047,
          -1.0130888311401647,
          -0.9918101842066229,
          -0.9741846188739802,
          -0.9787771927747849,
          -1.006207118043166,
          -1.043287016159618,
          -1.0817478361404012,
          -1.0890187148867012,
          -1.062314564173241,
          -1.0169202727853281,
          -0.9865551962640922,
          -0.9493321845716625,
          -0.9218745919319749,
          -0.9171419124394266,
          -0.9454183491579269,
          -0.9739518903632969,
          -1.0022596114110944,
          -1.0400025149460819,
          -1.0615823958328703,
          -1.0751069051322009,
          -1.0799436604006987,
          -1.0939277701604995,
          -1.0902576450652426,
          -1.0626981788183485,
          -1.050860396078448,
          -1.0573576019300706,
          -1.0988933777095486,
          -1.1628734572639696,
          -1.220409138302521,
          -1.261112609929673,
          -1.2506271438864827,
          -1.2117774409850135,
          -1.1689853823880836,
          -1.1371440288056691,
          -1.1214023828785231,
          -1.1187956738333382,
          -1.1145547006489542,
          -1.139713014164341,
          -1.2054539628513854,
          -1.3315358931074106,
          -1.499151001709207,
          -1.6470201875249744,
          -1.86938315000154,
          -2.0428641017697022,
          -2.175790393917361,
          -2.325647643148975,
          -2.4919946560270927,
          -2.6626690585221273,
          -2.7931471220608097,
          -2.918119265349369,
          -3.0007082554430573,
          -3.0674572822461594,
          -3.186871470073923,
          -3.351123646347923,
          -3.4629771631353363,
          -3.568475935406683,
          -3.669052842401657,
          -3.7341561274441153,
          -3.775872424962389,
          -3.8127629652424146,
          -3.8203064230299515,
          -3.8693128310163267,
          -3.876185102412035,
          -3.8567308877513717,
          -3.8429275229987656,
          -3.827549729562254,
          -3.798266703238979,
          -3.813120966509976,
          -3.816933627127235,
          -3.8105330792634673,
          -3.7634966427628105,
          -3.7291790345865024,
          -3.696000248352309,
          -3.68257518451924,
          -3.6802323074573318,
          -3.663106942736812,
          -3.658425479608452,
          -3.6532890922316446,
          -3.6335363336704525,
          -3.640949589245965,
          -3.6658121632324825,
          -3.7042317320708182,
          -3.7365690813498,
          -3.757848879609252,
          -3.7756178048399294,
          -3.7776159978375823,
          -3.801394198565294,
          -3.826182599038201,
          -3.86748961107453,
          -3.8954492480642164
         ],
         "yaxis": "y2"
        },
        {
         "connectgaps": false,
         "customdata": [
          [
           -0.08004595668924429,
           -0.17299738879568702
          ],
          [
           -0.04384125324970003,
           -0.11240366620425794
          ],
          [
           -0.04802618961900988,
           -0.12227155113180946
          ],
          [
           -0.028313659381340246,
           -0.09836883825112287
          ],
          [
           -0.017553540834655115,
           -0.07889771386435665
          ],
          [
           0.009193925829538206,
           -0.05238288373504406
          ],
          [
           0.03032964802877018,
           -0.03253370077757123
          ],
          [
           0.030708130832178455,
           -0.035026792557173454
          ],
          [
           0.03106960226829122,
           -0.02345551476815995
          ],
          [
           0.03051144572574885,
           -0.024203018800769773
          ],
          [
           0.049344233622505916,
           -0.015230073467664836
          ],
          [
           0.06066442343029569,
           -0.0005045707897900774
          ],
          [
           0.07657498041613311,
           0.0033084617561670426
          ],
          [
           0.08762636206746321,
           0.02549697717321643
          ],
          [
           0.06950139659477149,
           0.005861185170850504
          ],
          [
           0.028299277390768443,
           -0.02136837375942434
          ],
          [
           -0.012757264721648787,
           -0.04061073820001088
          ],
          [
           -0.03254575558175156,
           -0.06460897220225113
          ],
          [
           -0.07842453862394505,
           -0.12048509556621022
          ],
          [
           -0.11889207546274642,
           -0.17539344858248063
          ],
          [
           -0.20540389453008626,
           -0.2778166690325281
          ],
          [
           -0.3040901106027478,
           -0.4003698703681818
          ],
          [
           -0.33647228551011465,
           -0.45008070034420383
          ],
          [
           -0.3463908878780531,
           -0.44215937301616937
          ],
          [
           -0.3438431672202221,
           -0.4318115946938482
          ],
          [
           -0.3355393659990376,
           -0.40933213316207856
          ],
          [
           -0.31964518502694284,
           -0.37678844364657477
          ],
          [
           -0.3069879075564444,
           -0.3552308072586876
          ],
          [
           -0.3085678552891971,
           -0.3587862101433202
          ],
          [
           -0.29724373433247514,
           -0.3466716806460741
          ],
          [
           -0.28043476987090066,
           -0.3170774418305647
          ],
          [
           -0.2471254986823818,
           -0.26759619796504386
          ],
          [
           -0.21913667467657433,
           -0.21454461977909045
          ],
          [
           -0.18863279816082312,
           -0.1648702266899635
          ],
          [
           -0.1846613888275208,
           -0.14003105405400923
          ],
          [
           -0.1971982206966169,
           -0.13030993193643528
          ],
          [
           -0.23075639709596024,
           -0.1384169618857736
          ],
          [
           -0.25692117911009915,
           -0.12424800970393444
          ],
          [
           -0.249786627034034,
           -0.09805314004431676
          ],
          [
           -0.26920701726912116,
           -0.09739080354594316
          ],
          [
           -0.3045807344856386,
           -0.10141403646281935
          ],
          [
           -0.3866613846789768,
           -0.1552436095959209
          ],
          [
           -0.44641463063852094,
           -0.18359808410467465
          ],
          [
           -0.48390086164877927,
           -0.19468653948262274
          ],
          [
           -0.4724355616907624,
           -0.17696404176794803
          ],
          [
           -0.4508935222505228,
           -0.17076529625729647
          ],
          [
           -0.4618681575787397,
           -0.1950307188004927
          ],
          [
           -0.485178524332461,
           -0.22586912243861054
          ],
          [
           -0.49799088646390144,
           -0.23444855455926686
          ],
          [
           -0.5185767856291198,
           -0.24798449235208336
          ],
          [
           -0.5648555120702958,
           -0.2880078666618865
          ],
          [
           -0.5637403535267291,
           -0.2889646543946592
          ],
          [
           -0.5542514023620461,
           -0.2710945166414024
          ],
          [
           -0.5708158143233405,
           -0.3129214626905938
          ],
          [
           -0.5900452147831272,
           -0.3288587348859908
          ],
          [
           -0.6390927946714648,
           -0.3608430618135237
          ],
          [
           -0.6864416991559141,
           -0.4005535949357517
          ],
          [
           -0.6765024607616501,
           -0.3915642079521384
          ],
          [
           -0.6186997116525653,
           -0.35472182907631533
          ],
          [
           -0.5540673333892582,
           -0.2994068009887103
          ],
          [
           -0.4875174138947708,
           -0.26566755279339893
          ],
          [
           -0.45357401553505605,
           -0.2542195460089788
          ],
          [
           -0.4117049613165799,
           -0.2466718102384091
          ],
          [
           -0.3946047974385196,
           -0.2608072101936883
          ],
          [
           -0.34969402737692085,
           -0.2422164688209577
          ],
          [
           -0.2967138368764877,
           -0.20415135281050265
          ],
          [
           -0.24689119421219707,
           -0.14858023662308198
          ],
          [
           -0.19185812562482787,
           -0.08154711475872325
          ],
          [
           -0.149992852982846,
           -0.04865011704717778
          ],
          [
           -0.13204761768014403,
           -0.029997776279677837
          ],
          [
           -0.10639653201132232,
           -0.020194008515943142
          ],
          [
           -0.08729276048531208,
           -0.006065643418323283
          ],
          [
           -0.0862264024765043,
           -0.003771482547342779
          ],
          [
           -0.10375379669397752,
           -0.0020852091581137853
          ],
          [
           -0.11699617994616425,
           -0.00001833151559153791
          ],
          [
           -0.14319131385994846,
           -0.02521460087371921
          ],
          [
           -0.2013591144226531,
           -0.07536965728404361
          ],
          [
           -0.2776033916602824,
           -0.130694000396419
          ],
          [
           -0.32827409706017197,
           -0.19104678029084668
          ],
          [
           -0.369078419918764,
           -0.2216562127784529
          ],
          [
           -0.41310805987025045,
           -0.22525780733755357
          ],
          [
           -0.4235554196491233,
           -0.21100479943538908
          ],
          [
           -0.4405723406461263,
           -0.21182817641573093
          ],
          [
           -0.4539106970543803,
           -0.20410958955260716
          ],
          [
           -0.48632542340704377,
           -0.2064977533045506
          ],
          [
           -0.5638611835831683,
           -0.25180169770129507
          ],
          [
           -0.5980139227584285,
           -0.2536998338433084
          ],
          [
           -0.6057474411568083,
           -0.2555608909677079
          ],
          [
           -0.6293493890362346,
           -0.25767442549295855
          ],
          [
           -0.665988842405394,
           -0.28481494552951714
          ],
          [
           -0.7327358583521891,
           -0.35222060053026866
          ],
          [
           -0.796238617911557,
           -0.39512026667090233
          ],
          [
           -0.7812892155408401,
           -0.404186832880672
          ],
          [
           -0.7443860495576736,
           -0.45397919139805887
          ],
          [
           -0.7014499691975581,
           -0.5758140796904504
          ],
          [
           -0.6556761052317648,
           -0.7950059887685283
          ],
          [
           -0.6283065628428851,
           -1.0644136207035273
          ],
          [
           -0.6332538600958025,
           -1.298676803031163
          ],
          [
           -0.6684630836507462,
           -1.5163820070026652
          ],
          [
           -0.7251864599016146,
           -1.8168609125085289
          ],
          [
           -0.7446984855944442,
           -2.1111717548005045
          ],
          [
           -0.7601634444572805,
           -2.3903361956420848
          ],
          [
           -0.8055769876608556,
           -2.6864110384723823
          ],
          [
           -0.850939769283892,
           -3.0203961342313574
          ],
          [
           -0.9340978060993937,
           -3.3168420396560325
          ],
          [
           -0.9770966358248634,
           -3.5460108037337927
          ],
          [
           -0.9548955600870738,
           -3.791241144817853
          ],
          [
           -0.9259835466893965,
           -3.9976103110558574
          ],
          [
           -0.877967573944107,
           -4.164736179607664
          ],
          [
           -0.8004586481317818,
           -4.343654575316356
          ],
          [
           -0.730168017211389,
           -4.50212392760995
          ],
          [
           -0.6605991381986176,
           -4.653957044059014
          ],
          [
           -0.6038010983504016,
           -4.78331095313461
          ],
          [
           -0.5473222268506064,
           -4.906066723952575
          ],
          [
           -0.5241016739023917,
           -5.014447952776326
          ],
          [
           -0.5012109075724795,
           -5.096761792733242
          ],
          [
           -0.5202197251656663,
           -5.2039419854054945
          ],
          [
           -0.5676682026497012,
           -5.325971281946907
          ],
          [
           -0.6261732700243137,
           -5.434973278173539
          ],
          [
           -0.7282770641768718,
           -5.5475901865059924
          ],
          [
           -0.8615572637632731,
           -5.683128885331119
          ],
          [
           -0.943402760050457,
           -5.770929017491667
          ],
          [
           -0.9887650066387614,
           -5.814958210665936
          ],
          [
           -1.073941495237312,
           -5.855913848563067
          ],
          [
           -1.155744208455305,
           -5.8739181112593
          ],
          [
           -1.2252039425854642,
           -5.882336759866128
          ],
          [
           -1.291136330944411,
           -5.885465059431178
          ],
          [
           -1.3869835422923276,
           -5.882897325401509
          ],
          [
           -1.4933878041559967,
           -5.897727666474068
          ],
          [
           -1.6161851833593714,
           -5.9126224079123135
          ],
          [
           -1.7085173357792247,
           -5.935691893680343
          ],
          [
           -1.8240466752716142,
           -5.957828916691282
          ],
          [
           -1.9331261031731586,
           -5.998055717415852
          ],
          [
           -2.0375029220390126,
           -6.030421377578822
          ],
          [
           -2.126775796060773,
           -6.081970718762257
          ],
          [
           -2.1886157640250192,
           -6.104417305633083
          ],
          [
           -2.1992275764184677,
           -6.137993805826654
          ],
          [
           -2.2283031366752994,
           -6.187314798954811
          ],
          [
           -2.2650061082950805,
           -6.233613011664577
          ],
          [
           -2.3325346523031265,
           -6.285055100437774
          ],
          [
           -2.4148726572739876,
           -6.335148169874026
          ],
          [
           -2.4911106978039013,
           -6.394433974097826
          ],
          [
           -2.4971660729246783,
           -6.434564384388606
          ],
          [
           -2.4508074689763686,
           -6.460975181445645
          ],
          [
           -2.403767388138022,
           -6.485031534375377
          ],
          [
           -2.3626466323028685,
           -6.507303378746714
          ],
          [
           -2.318434784495427,
           -6.529430364110036
          ],
          [
           -2.278150015377577,
           -6.561862131538517
          ],
          [
           -2.214813999953059,
           -6.608192741316689
          ],
          [
           -2.154897553445541,
           -6.641894051844259
          ],
          [
           -2.119421439449683,
           -6.681122750856613
          ],
          [
           -2.095583633004055,
           -6.720096123693887
          ],
          [
           -2.0714811084784928,
           -6.760368646347626
          ],
          [
           -2.107047906441764,
           -6.794447939079082
          ],
          [
           -2.1314157431882723,
           -6.821011335034659
          ],
          [
           -2.1530506409654104,
           -6.845535053064363
          ],
          [
           -2.1509766163668345,
           -6.8610531191332305
          ],
          [
           -2.1577264057155987,
           -6.86749524254652
          ],
          [
           -2.1366569523017516,
           -6.879765087758647
          ],
          [
           -2.098186899191643,
           -6.901829648591363
          ],
          [
           -2.048294005919701,
           -6.918316907593831
          ],
          [
           -2.006164636531128,
           -6.929916256171803
          ],
          [
           -2.000318517514907,
           -6.947665108393592
          ],
          [
           -1.9948644810731142,
           -6.965631234063088
          ],
          [
           -1.9876137020999503,
           -6.975214442205469
          ],
          [
           -1.9655602480731738,
           -6.98469607725534
          ],
          [
           -1.9969541879753687,
           -6.99993937683249
          ],
          [
           -2.0335894052445886,
           -7.020211151380555
          ],
          [
           -2.082565170223746,
           -7.025432309652728
          ],
          [
           -2.1314759542807593,
           -7.032030808188363
          ],
          [
           -2.1485681631456983,
           -7.049347372547311
          ],
          [
           -2.1496485422099663,
           -7.0521703784358305
          ],
          [
           -2.2081558655677047,
           -7.058157650578209
          ],
          [
           -2.2612143748302986,
           -7.065231675683308
          ],
          [
           -2.360788847299572,
           -7.081009320406686
          ],
          [
           -2.521470082548966,
           -7.108738803836452
          ],
          [
           -2.6474903911360737,
           -7.128135838347708
          ],
          [
           -2.736155179664628,
           -7.139326871604104
          ],
          [
           -2.818343006547872,
           -7.139788263411596
          ],
          [
           -2.8752739854323317,
           -7.141659442878308
          ],
          [
           -2.949951397236083,
           -7.1387010220664395
          ],
          [
           -2.9611340079823925,
           -7.095533870719814
          ],
          [
           -2.9918890966127774,
           -7.0681699708009305
          ],
          [
           -2.9817837367705873,
           -7.032794680068606
          ],
          [
           -2.9861878270815114,
           -7.0039700425998594
          ],
          [
           -2.9816655028288133,
           -6.96579157995912
          ],
          [
           -3.037878051950287,
           -6.944927931472165
          ],
          [
           -3.109239551920767,
           -6.929922784019345
          ],
          [
           -3.2033864341451626,
           -6.918062135287519
          ],
          [
           -3.271397969846152,
           -6.907189940483266
          ],
          [
           -3.324703624894119,
           -6.896839605429936
          ],
          [
           -3.3126385798671123,
           -6.897241325971312
          ],
          [
           -3.286395110285923,
           -6.8963580181029585
          ],
          [
           -3.206452240679581,
           -6.876531333145765
          ],
          [
           -3.123213624853392,
           -6.8619820177659685
          ],
          [
           -3.0766088024893756,
           -6.8487413166308535
          ],
          [
           -3.0508894337450787,
           -6.836768260270012
          ],
          [
           -2.9642016394689676,
           -6.80866236790477
          ],
          [
           -2.8149763262914065,
           -6.787021683192125
          ],
          [
           -2.6479623254274647,
           -6.763542321446105
          ],
          [
           -2.4975325273985978,
           -6.750050190625425
          ],
          [
           -2.3577606382972847,
           -6.744150113664292
          ],
          [
           -2.242267706349629,
           -6.738434291798475
          ],
          [
           -2.144959085784985,
           -6.727601675840206
          ],
          [
           -2.057572499471699,
           -6.721152366471227
          ],
          [
           -2.01222930658044,
           -6.700462267978408
          ],
          [
           -1.968034429334654,
           -6.688299892500174
          ],
          [
           -1.9290413028787887,
           -6.684774953543261
          ],
          [
           -1.9214545061919615,
           -6.676010351145798
          ],
          [
           -1.908558854335487,
           -6.66201712443482
          ],
          [
           -1.910817192251964,
           -6.652312099862966
          ],
          [
           -1.9453990684279088,
           -6.661610392876175
          ],
          [
           -1.9320627351267161,
           -6.654631060093641
          ],
          [
           -1.874670693063651,
           -6.660285170715938
          ],
          [
           -1.8154443411340964,
           -6.647981544161072
          ],
          [
           -1.8107277432966873,
           -6.653304768663359
          ],
          [
           -1.7801838135534263,
           -6.655482620424648
          ],
          [
           -1.7445604284279763,
           -6.661053219088957
          ],
          [
           -1.6868048400466906,
           -6.659481291095501
          ],
          [
           -1.608014988813534,
           -6.640505730476424
          ],
          [
           -1.5423452537485858,
           -6.6108417698521755
          ],
          [
           -1.4944849478193027,
           -6.604719589956192
          ],
          [
           -1.4762738079867825,
           -6.58804348173865
          ],
          [
           -1.451305863524427,
           -6.578534171986019
          ],
          [
           -1.4256107012893875,
           -6.5673951543997555
          ],
          [
           -1.4164628249388727,
           -6.550348785023698
          ],
          [
           -1.4032947937968328,
           -6.530628461204308
          ],
          [
           -1.3531518673965799,
           -6.507818105835973
          ],
          [
           -1.2769966031544104,
           -6.504604239736086
          ],
          [
           -1.1957569117847282,
           -6.488800146631825
          ],
          [
           -1.1394581549794565,
           -6.490524888523408
          ],
          [
           -1.1157685458716142,
           -6.4831159024999865
          ],
          [
           -1.102428821626303,
           -6.468783555929645
          ],
          [
           -1.1033883067360215,
           -6.460797865825993
          ],
          [
           -1.1036337795617852,
           -6.4419424699057295
          ],
          [
           -1.0975897978558877,
           -6.428503136679562
          ],
          [
           -1.0811257520723754,
           -6.424610630561277
          ],
          [
           -1.053670706237957,
           -6.413560613098447
          ],
          [
           -1.027929235790875,
           -6.41367617871349
          ],
          [
           -0.9992932805902186,
           -6.402242725193265
          ],
          [
           -0.9782023531530633,
           -6.40333580558452
          ],
          [
           -0.9549390075247682,
           -6.407631142221782
          ],
          [
           -0.9577786351616109,
           -6.411342918053078
          ],
          [
           -0.9784415416353349,
           -6.39696597559778
          ],
          [
           -0.9854760620690463,
           -6.385450963726365
          ],
          [
           -1.0123467600077047,
           -6.362591639787565
          ],
          [
           -1.0130888311401647,
           -6.339342296320156
          ],
          [
           -0.9918101842066229,
           -6.2812274946390545
          ],
          [
           -0.9741846188739802,
           -6.219264243603703
          ],
          [
           -0.9787771927747849,
           -6.143845294434735
          ],
          [
           -1.006207118043166,
           -6.094704641362142
          ],
          [
           -1.043287016159618,
           -6.038163947112612
          ],
          [
           -1.0817478361404012,
           -6.008402956883946
          ],
          [
           -1.0890187148867012,
           -5.980768798091932
          ],
          [
           -1.062314564173241,
           -5.956022518388936
          ],
          [
           -1.0169202727853281,
           -5.922165681906661
          ],
          [
           -0.9865551962640922,
           -5.895793268699838
          ],
          [
           -0.9493321845716625,
           -5.876974487888437
          ],
          [
           -0.9218745919319749,
           -5.85133484019649
          ],
          [
           -0.9171419124394266,
           -5.831592811058582
          ],
          [
           -0.9454183491579269,
           -5.817199382844236
          ],
          [
           -0.9739518903632969,
           -5.807418531289941
          ],
          [
           -1.0022596114110944,
           -5.8102834658521525
          ],
          [
           -1.0400025149460819,
           -5.810049606205729
          ],
          [
           -1.0615823958328703,
           -5.819853211091987
          ],
          [
           -1.0751069051322009,
           -5.825661164131867
          ],
          [
           -1.0799436604006987,
           -5.849968157613467
          ],
          [
           -1.0939277701604995,
           -5.886406713875216
          ],
          [
           -1.0902576450652426,
           -5.916672145308509
          ],
          [
           -1.0626981788183485,
           -5.930799784303166
          ],
          [
           -1.050860396078448,
           -5.966407961776436
          ],
          [
           -1.0573576019300706,
           -5.979290137030689
          ],
          [
           -1.0988933777095486,
           -6.014002904967687
          ],
          [
           -1.1628734572639696,
           -6.046088740773622
          ],
          [
           -1.220409138302521,
           -6.068659332645208
          ],
          [
           -1.261112609929673,
           -6.09705065268084
          ],
          [
           -1.2506271438864827,
           -6.097048640748022
          ],
          [
           -1.2117774409850135,
           -6.090161413219058
          ],
          [
           -1.1689853823880836,
           -6.070820268671125
          ],
          [
           -1.1371440288056691,
           -6.06964725103521
          ],
          [
           -1.1214023828785231,
           -6.059519084044903
          ],
          [
           -1.1187956738333382,
           -6.062982896467409
          ],
          [
           -1.1145547006489542,
           -6.04795079933707
          ],
          [
           -1.139713014164341,
           -6.031395843468404
          ],
          [
           -1.2054539628513854,
           -6.031566799557689
          ],
          [
           -1.3315358931074106,
           -6.031604434547305
          ],
          [
           -1.499151001709207,
           -6.038396482412274
          ],
          [
           -1.6470201875249744,
           -6.058678864140844
          ],
          [
           -1.86938315000154,
           -6.058005263621334
          ],
          [
           -2.0428641017697022,
           -6.035791477892699
          ],
          [
           -2.175790393917361,
           -6.018422022475259
          ],
          [
           -2.325647643148975,
           -6.01257357154313
          ],
          [
           -2.4919946560270927,
           -6.001357581266099
          ],
          [
           -2.6626690585221273,
           -5.990153542188174
          ],
          [
           -2.7931471220608097,
           -5.993504964568804
          ],
          [
           -2.918119265349369,
           -5.97858558769411
          ],
          [
           -3.0007082554430573,
           -5.95664868440005
          ],
          [
           -3.0674572822461594,
           -5.9366458698627325
          ],
          [
           -3.186871470073923,
           -5.9230900490789855
          ],
          [
           -3.351123646347923,
           -5.876023950799543
          ],
          [
           -3.4629771631353363,
           -5.835966479232865
          ],
          [
           -3.568475935406683,
           -5.823278707558851
          ],
          [
           -3.669052842401657,
           -5.824863062665659
          ],
          [
           -3.7341561274441153,
           -5.820230843442688
          ],
          [
           -3.775872424962389,
           -5.819415897327878
          ],
          [
           -3.8127629652424146,
           -5.8107257624184045
          ],
          [
           -3.8203064230299515,
           -5.808023116865237
          ],
          [
           -3.8693128310163267,
           -5.815109476427622
          ],
          [
           -3.876185102412035,
           -5.828471370425308
          ],
          [
           -3.8567308877513717,
           -5.856341877821809
          ],
          [
           -3.8429275229987656,
           -5.874107079326163
          ],
          [
           -3.827549729562254,
           -5.892425028842998
          ],
          [
           -3.798266703238979,
           -5.899972549420965
          ],
          [
           -3.813120966509976,
           -5.934393548749068
          ],
          [
           -3.816933627127235,
           -5.975225661159996
          ],
          [
           -3.8105330792634673,
           -6.012355464854862
          ],
          [
           -3.7634966427628105,
           -6.038611926022885
          ],
          [
           -3.7291790345865024,
           -6.066445746120704
          ],
          [
           -3.696000248352309,
           -6.090018093831072
          ],
          [
           -3.68257518451924,
           -6.133357323892975
          ],
          [
           -3.6802323074573318,
           -6.18541011022025
          ],
          [
           -3.663106942736812,
           -6.224368939631094
          ],
          [
           -3.658425479608452,
           -6.27355257512576
          ],
          [
           -3.6532890922316446,
           -6.342458554692223
          ],
          [
           -3.6335363336704525,
           -6.3957054723804525
          ],
          [
           -3.640949589245965,
           -6.435751839602155
          ],
          [
           -3.6658121632324825,
           -6.454170849744863
          ],
          [
           -3.7042317320708182,
           -6.474323839168832
          ],
          [
           -3.7365690813498,
           -6.485141456899921
          ],
          [
           -3.757848879609252,
           -6.490972985047885
          ],
          [
           -3.7756178048399294,
           -6.495953544311671
          ],
          [
           -3.7776159978375823,
           -6.486895580849771
          ],
          [
           -3.801394198565294,
           -6.481327943014265
          ],
          [
           -3.826182599038201,
           -6.469488672091352
          ],
          [
           -3.86748961107453,
           -6.48033142778518
          ],
          [
           -3.8954492480642164,
           -6.483160059711318
          ]
         ],
         "hovertemplate": "%{x}<br>PEDs: %{y}<br><br>Baseline=%{customdata[0]:.3f}<br />PEDs=%{customdata[1]:.3f}<extra></extra>",
         "legendgroup": "PEDs",
         "line": {
          "color": "#EF553B",
          "dash": "solid"
         },
         "name": "PEDs",
         "showlegend": false,
         "type": "scatter",
         "x": [
          "2014-03-02T00:00:00",
          "2014-03-03T00:00:00",
          "2014-03-04T00:00:00",
          "2014-03-05T00:00:00",
          "2014-03-06T00:00:00",
          "2014-03-07T00:00:00",
          "2014-03-08T00:00:00",
          "2014-03-09T00:00:00",
          "2014-03-10T00:00:00",
          "2014-03-11T00:00:00",
          "2014-03-12T00:00:00",
          "2014-03-13T00:00:00",
          "2014-03-14T00:00:00",
          "2014-03-15T00:00:00",
          "2014-03-16T00:00:00",
          "2014-03-17T00:00:00",
          "2014-03-18T00:00:00",
          "2014-03-19T00:00:00",
          "2014-03-20T00:00:00",
          "2014-03-21T00:00:00",
          "2014-03-22T00:00:00",
          "2014-03-23T00:00:00",
          "2014-03-24T00:00:00",
          "2014-03-25T00:00:00",
          "2014-03-26T00:00:00",
          "2014-03-27T00:00:00",
          "2014-03-28T00:00:00",
          "2014-03-29T00:00:00",
          "2014-03-30T00:00:00",
          "2014-03-31T00:00:00",
          "2014-04-01T00:00:00",
          "2014-04-02T00:00:00",
          "2014-04-03T00:00:00",
          "2014-04-04T00:00:00",
          "2014-04-05T00:00:00",
          "2014-04-06T00:00:00",
          "2014-04-07T00:00:00",
          "2014-04-08T00:00:00",
          "2014-04-09T00:00:00",
          "2014-04-10T00:00:00",
          "2014-04-11T00:00:00",
          "2014-04-12T00:00:00",
          "2014-04-13T00:00:00",
          "2014-04-14T00:00:00",
          "2014-04-15T00:00:00",
          "2014-04-16T00:00:00",
          "2014-04-17T00:00:00",
          "2014-04-18T00:00:00",
          "2014-04-19T00:00:00",
          "2014-04-20T00:00:00",
          "2014-04-21T00:00:00",
          "2014-04-22T00:00:00",
          "2014-04-23T00:00:00",
          "2014-04-24T00:00:00",
          "2014-04-25T00:00:00",
          "2014-04-26T00:00:00",
          "2014-04-27T00:00:00",
          "2014-04-28T00:00:00",
          "2014-04-29T00:00:00",
          "2014-04-30T00:00:00",
          "2014-05-01T00:00:00",
          "2014-05-02T00:00:00",
          "2014-05-03T00:00:00",
          "2014-05-04T00:00:00",
          "2014-05-05T00:00:00",
          "2014-05-06T00:00:00",
          "2014-05-07T00:00:00",
          "2014-05-08T00:00:00",
          "2014-05-09T00:00:00",
          "2014-05-10T00:00:00",
          "2014-05-11T00:00:00",
          "2014-05-12T00:00:00",
          "2014-05-13T00:00:00",
          "2014-05-14T00:00:00",
          "2014-05-15T00:00:00",
          "2014-05-16T00:00:00",
          "2014-05-17T00:00:00",
          "2014-05-18T00:00:00",
          "2014-05-19T00:00:00",
          "2014-05-20T00:00:00",
          "2014-05-21T00:00:00",
          "2014-05-22T00:00:00",
          "2014-05-23T00:00:00",
          "2014-05-24T00:00:00",
          "2014-05-25T00:00:00",
          "2014-05-26T00:00:00",
          "2014-05-27T00:00:00",
          "2014-05-28T00:00:00",
          "2014-05-29T00:00:00",
          "2014-05-30T00:00:00",
          "2014-05-31T00:00:00",
          "2014-06-01T00:00:00",
          "2014-06-02T00:00:00",
          "2014-06-03T00:00:00",
          "2014-06-04T00:00:00",
          "2014-06-05T00:00:00",
          "2014-06-06T00:00:00",
          "2014-06-07T00:00:00",
          "2014-06-08T00:00:00",
          "2014-06-09T00:00:00",
          "2014-06-10T00:00:00",
          "2014-06-11T00:00:00",
          "2014-06-12T00:00:00",
          "2014-06-13T00:00:00",
          "2014-06-14T00:00:00",
          "2014-06-15T00:00:00",
          "2014-06-16T00:00:00",
          "2014-06-17T00:00:00",
          "2014-06-18T00:00:00",
          "2014-06-19T00:00:00",
          "2014-06-20T00:00:00",
          "2014-06-21T00:00:00",
          "2014-06-22T00:00:00",
          "2014-06-23T00:00:00",
          "2014-06-24T00:00:00",
          "2014-06-25T00:00:00",
          "2014-06-26T00:00:00",
          "2014-06-27T00:00:00",
          "2014-06-28T00:00:00",
          "2014-06-29T00:00:00",
          "2014-06-30T00:00:00",
          "2014-07-01T00:00:00",
          "2014-07-02T00:00:00",
          "2014-07-03T00:00:00",
          "2014-07-04T00:00:00",
          "2014-07-05T00:00:00",
          "2014-07-06T00:00:00",
          "2014-07-07T00:00:00",
          "2014-07-08T00:00:00",
          "2014-07-09T00:00:00",
          "2014-07-10T00:00:00",
          "2014-07-11T00:00:00",
          "2014-07-12T00:00:00",
          "2014-07-13T00:00:00",
          "2014-07-14T00:00:00",
          "2014-07-15T00:00:00",
          "2014-07-16T00:00:00",
          "2014-07-17T00:00:00",
          "2014-07-18T00:00:00",
          "2014-07-19T00:00:00",
          "2014-07-20T00:00:00",
          "2014-07-21T00:00:00",
          "2014-07-22T00:00:00",
          "2014-07-23T00:00:00",
          "2014-07-24T00:00:00",
          "2014-07-25T00:00:00",
          "2014-07-26T00:00:00",
          "2014-07-27T00:00:00",
          "2014-07-28T00:00:00",
          "2014-07-29T00:00:00",
          "2014-07-30T00:00:00",
          "2014-07-31T00:00:00",
          "2014-08-01T00:00:00",
          "2014-08-02T00:00:00",
          "2014-08-03T00:00:00",
          "2014-08-04T00:00:00",
          "2014-08-05T00:00:00",
          "2014-08-06T00:00:00",
          "2014-08-07T00:00:00",
          "2014-08-08T00:00:00",
          "2014-08-09T00:00:00",
          "2014-08-10T00:00:00",
          "2014-08-11T00:00:00",
          "2014-08-12T00:00:00",
          "2014-08-13T00:00:00",
          "2014-08-14T00:00:00",
          "2014-08-15T00:00:00",
          "2014-08-16T00:00:00",
          "2014-08-17T00:00:00",
          "2014-08-18T00:00:00",
          "2014-08-19T00:00:00",
          "2014-08-20T00:00:00",
          "2014-08-21T00:00:00",
          "2014-08-22T00:00:00",
          "2014-08-23T00:00:00",
          "2014-08-24T00:00:00",
          "2014-08-25T00:00:00",
          "2014-08-26T00:00:00",
          "2014-08-27T00:00:00",
          "2014-08-28T00:00:00",
          "2014-08-29T00:00:00",
          "2014-08-30T00:00:00",
          "2014-08-31T00:00:00",
          "2014-09-01T00:00:00",
          "2014-09-02T00:00:00",
          "2014-09-03T00:00:00",
          "2014-09-04T00:00:00",
          "2014-09-05T00:00:00",
          "2014-09-06T00:00:00",
          "2014-09-07T00:00:00",
          "2014-09-08T00:00:00",
          "2014-09-09T00:00:00",
          "2014-09-10T00:00:00",
          "2014-09-11T00:00:00",
          "2014-09-12T00:00:00",
          "2014-09-13T00:00:00",
          "2014-09-14T00:00:00",
          "2014-09-15T00:00:00",
          "2014-09-16T00:00:00",
          "2014-09-17T00:00:00",
          "2014-09-18T00:00:00",
          "2014-09-19T00:00:00",
          "2014-09-20T00:00:00",
          "2014-09-21T00:00:00",
          "2014-09-22T00:00:00",
          "2014-09-23T00:00:00",
          "2014-09-24T00:00:00",
          "2014-09-25T00:00:00",
          "2014-09-26T00:00:00",
          "2014-09-27T00:00:00",
          "2014-09-28T00:00:00",
          "2014-09-29T00:00:00",
          "2014-09-30T00:00:00",
          "2014-10-01T00:00:00",
          "2014-10-02T00:00:00",
          "2014-10-03T00:00:00",
          "2014-10-04T00:00:00",
          "2014-10-05T00:00:00",
          "2014-10-06T00:00:00",
          "2014-10-07T00:00:00",
          "2014-10-08T00:00:00",
          "2014-10-09T00:00:00",
          "2014-10-10T00:00:00",
          "2014-10-11T00:00:00",
          "2014-10-12T00:00:00",
          "2014-10-13T00:00:00",
          "2014-10-14T00:00:00",
          "2014-10-15T00:00:00",
          "2014-10-16T00:00:00",
          "2014-10-17T00:00:00",
          "2014-10-18T00:00:00",
          "2014-10-19T00:00:00",
          "2014-10-20T00:00:00",
          "2014-10-21T00:00:00",
          "2014-10-22T00:00:00",
          "2014-10-23T00:00:00",
          "2014-10-24T00:00:00",
          "2014-10-25T00:00:00",
          "2014-10-26T00:00:00",
          "2014-10-27T00:00:00",
          "2014-10-28T00:00:00",
          "2014-10-29T00:00:00",
          "2014-10-30T00:00:00",
          "2014-10-31T00:00:00",
          "2014-11-01T00:00:00",
          "2014-11-02T00:00:00",
          "2014-11-03T00:00:00",
          "2014-11-04T00:00:00",
          "2014-11-05T00:00:00",
          "2014-11-06T00:00:00",
          "2014-11-07T00:00:00",
          "2014-11-08T00:00:00",
          "2014-11-09T00:00:00",
          "2014-11-10T00:00:00",
          "2014-11-11T00:00:00",
          "2014-11-12T00:00:00",
          "2014-11-13T00:00:00",
          "2014-11-14T00:00:00",
          "2014-11-15T00:00:00",
          "2014-11-16T00:00:00",
          "2014-11-17T00:00:00",
          "2014-11-18T00:00:00",
          "2014-11-19T00:00:00",
          "2014-11-20T00:00:00",
          "2014-11-21T00:00:00",
          "2014-11-22T00:00:00",
          "2014-11-23T00:00:00",
          "2014-11-24T00:00:00",
          "2014-11-25T00:00:00",
          "2014-11-26T00:00:00",
          "2014-11-27T00:00:00",
          "2014-11-28T00:00:00",
          "2014-11-29T00:00:00",
          "2014-11-30T00:00:00",
          "2014-12-01T00:00:00",
          "2014-12-02T00:00:00",
          "2014-12-03T00:00:00",
          "2014-12-04T00:00:00",
          "2014-12-05T00:00:00",
          "2014-12-06T00:00:00",
          "2014-12-07T00:00:00",
          "2014-12-08T00:00:00",
          "2014-12-09T00:00:00",
          "2014-12-10T00:00:00",
          "2014-12-11T00:00:00",
          "2014-12-12T00:00:00",
          "2014-12-13T00:00:00",
          "2014-12-14T00:00:00",
          "2014-12-15T00:00:00",
          "2014-12-16T00:00:00",
          "2014-12-17T00:00:00",
          "2014-12-18T00:00:00",
          "2014-12-19T00:00:00",
          "2014-12-20T00:00:00",
          "2014-12-21T00:00:00",
          "2014-12-22T00:00:00",
          "2014-12-23T00:00:00",
          "2014-12-24T00:00:00",
          "2014-12-25T00:00:00",
          "2014-12-26T00:00:00",
          "2014-12-27T00:00:00",
          "2014-12-28T00:00:00",
          "2014-12-29T00:00:00",
          "2014-12-30T00:00:00",
          "2014-12-31T00:00:00",
          "2015-01-01T00:00:00",
          "2015-01-02T00:00:00",
          "2015-01-03T00:00:00",
          "2015-01-04T00:00:00",
          "2015-01-05T00:00:00",
          "2015-01-06T00:00:00",
          "2015-01-07T00:00:00",
          "2015-01-08T00:00:00",
          "2015-01-09T00:00:00",
          "2015-01-10T00:00:00",
          "2015-01-11T00:00:00",
          "2015-01-12T00:00:00",
          "2015-01-13T00:00:00",
          "2015-01-14T00:00:00",
          "2015-01-15T00:00:00",
          "2015-01-16T00:00:00",
          "2015-01-17T00:00:00",
          "2015-01-18T00:00:00",
          "2015-01-19T00:00:00",
          "2015-01-20T00:00:00",
          "2015-01-21T00:00:00",
          "2015-01-22T00:00:00",
          "2015-01-23T00:00:00",
          "2015-01-24T00:00:00",
          "2015-01-25T00:00:00",
          "2015-01-26T00:00:00",
          "2015-01-27T00:00:00",
          "2015-01-28T00:00:00",
          "2015-01-29T00:00:00",
          "2015-01-30T00:00:00",
          "2015-01-31T00:00:00"
         ],
         "xaxis": "x2",
         "y": [
          -0.17299738879568702,
          -0.11240366620425794,
          -0.12227155113180946,
          -0.09836883825112287,
          -0.07889771386435665,
          -0.05238288373504406,
          -0.03253370077757123,
          -0.035026792557173454,
          -0.02345551476815995,
          -0.024203018800769773,
          -0.015230073467664836,
          -0.0005045707897900774,
          0.0033084617561670426,
          0.02549697717321643,
          0.005861185170850504,
          -0.02136837375942434,
          -0.04061073820001088,
          -0.06460897220225113,
          -0.12048509556621022,
          -0.17539344858248063,
          -0.2778166690325281,
          -0.4003698703681818,
          -0.45008070034420383,
          -0.44215937301616937,
          -0.4318115946938482,
          -0.40933213316207856,
          -0.37678844364657477,
          -0.3552308072586876,
          -0.3587862101433202,
          -0.3466716806460741,
          -0.3170774418305647,
          -0.26759619796504386,
          -0.21454461977909045,
          -0.1648702266899635,
          -0.14003105405400923,
          -0.13030993193643528,
          -0.1384169618857736,
          -0.12424800970393444,
          -0.09805314004431676,
          -0.09739080354594316,
          -0.10141403646281935,
          -0.1552436095959209,
          -0.18359808410467465,
          -0.19468653948262274,
          -0.17696404176794803,
          -0.17076529625729647,
          -0.1950307188004927,
          -0.22586912243861054,
          -0.23444855455926686,
          -0.24798449235208336,
          -0.2880078666618865,
          -0.2889646543946592,
          -0.2710945166414024,
          -0.3129214626905938,
          -0.3288587348859908,
          -0.3608430618135237,
          -0.4005535949357517,
          -0.3915642079521384,
          -0.35472182907631533,
          -0.2994068009887103,
          -0.26566755279339893,
          -0.2542195460089788,
          -0.2466718102384091,
          -0.2608072101936883,
          -0.2422164688209577,
          -0.20415135281050265,
          -0.14858023662308198,
          -0.08154711475872325,
          -0.04865011704717778,
          -0.029997776279677837,
          -0.020194008515943142,
          -0.006065643418323283,
          -0.003771482547342779,
          -0.0020852091581137853,
          -0.00001833151559153791,
          -0.02521460087371921,
          -0.07536965728404361,
          -0.130694000396419,
          -0.19104678029084668,
          -0.2216562127784529,
          -0.22525780733755357,
          -0.21100479943538908,
          -0.21182817641573093,
          -0.20410958955260716,
          -0.2064977533045506,
          -0.25180169770129507,
          -0.2536998338433084,
          -0.2555608909677079,
          -0.25767442549295855,
          -0.28481494552951714,
          -0.35222060053026866,
          -0.39512026667090233,
          -0.404186832880672,
          -0.45397919139805887,
          -0.5758140796904504,
          -0.7950059887685283,
          -1.0644136207035273,
          -1.298676803031163,
          -1.5163820070026652,
          -1.8168609125085289,
          -2.1111717548005045,
          -2.3903361956420848,
          -2.6864110384723823,
          -3.0203961342313574,
          -3.3168420396560325,
          -3.5460108037337927,
          -3.791241144817853,
          -3.9976103110558574,
          -4.164736179607664,
          -4.343654575316356,
          -4.50212392760995,
          -4.653957044059014,
          -4.78331095313461,
          -4.906066723952575,
          -5.014447952776326,
          -5.096761792733242,
          -5.2039419854054945,
          -5.325971281946907,
          -5.434973278173539,
          -5.5475901865059924,
          -5.683128885331119,
          -5.770929017491667,
          -5.814958210665936,
          -5.855913848563067,
          -5.8739181112593,
          -5.882336759866128,
          -5.885465059431178,
          -5.882897325401509,
          -5.897727666474068,
          -5.9126224079123135,
          -5.935691893680343,
          -5.957828916691282,
          -5.998055717415852,
          -6.030421377578822,
          -6.081970718762257,
          -6.104417305633083,
          -6.137993805826654,
          -6.187314798954811,
          -6.233613011664577,
          -6.285055100437774,
          -6.335148169874026,
          -6.394433974097826,
          -6.434564384388606,
          -6.460975181445645,
          -6.485031534375377,
          -6.507303378746714,
          -6.529430364110036,
          -6.561862131538517,
          -6.608192741316689,
          -6.641894051844259,
          -6.681122750856613,
          -6.720096123693887,
          -6.760368646347626,
          -6.794447939079082,
          -6.821011335034659,
          -6.845535053064363,
          -6.8610531191332305,
          -6.86749524254652,
          -6.879765087758647,
          -6.901829648591363,
          -6.918316907593831,
          -6.929916256171803,
          -6.947665108393592,
          -6.965631234063088,
          -6.975214442205469,
          -6.98469607725534,
          -6.99993937683249,
          -7.020211151380555,
          -7.025432309652728,
          -7.032030808188363,
          -7.049347372547311,
          -7.0521703784358305,
          -7.058157650578209,
          -7.065231675683308,
          -7.081009320406686,
          -7.108738803836452,
          -7.128135838347708,
          -7.139326871604104,
          -7.139788263411596,
          -7.141659442878308,
          -7.1387010220664395,
          -7.095533870719814,
          -7.0681699708009305,
          -7.032794680068606,
          -7.0039700425998594,
          -6.96579157995912,
          -6.944927931472165,
          -6.929922784019345,
          -6.918062135287519,
          -6.907189940483266,
          -6.896839605429936,
          -6.897241325971312,
          -6.8963580181029585,
          -6.876531333145765,
          -6.8619820177659685,
          -6.8487413166308535,
          -6.836768260270012,
          -6.80866236790477,
          -6.787021683192125,
          -6.763542321446105,
          -6.750050190625425,
          -6.744150113664292,
          -6.738434291798475,
          -6.727601675840206,
          -6.721152366471227,
          -6.700462267978408,
          -6.688299892500174,
          -6.684774953543261,
          -6.676010351145798,
          -6.66201712443482,
          -6.652312099862966,
          -6.661610392876175,
          -6.654631060093641,
          -6.660285170715938,
          -6.647981544161072,
          -6.653304768663359,
          -6.655482620424648,
          -6.661053219088957,
          -6.659481291095501,
          -6.640505730476424,
          -6.6108417698521755,
          -6.604719589956192,
          -6.58804348173865,
          -6.578534171986019,
          -6.5673951543997555,
          -6.550348785023698,
          -6.530628461204308,
          -6.507818105835973,
          -6.504604239736086,
          -6.488800146631825,
          -6.490524888523408,
          -6.4831159024999865,
          -6.468783555929645,
          -6.460797865825993,
          -6.4419424699057295,
          -6.428503136679562,
          -6.424610630561277,
          -6.413560613098447,
          -6.41367617871349,
          -6.402242725193265,
          -6.40333580558452,
          -6.407631142221782,
          -6.411342918053078,
          -6.39696597559778,
          -6.385450963726365,
          -6.362591639787565,
          -6.339342296320156,
          -6.2812274946390545,
          -6.219264243603703,
          -6.143845294434735,
          -6.094704641362142,
          -6.038163947112612,
          -6.008402956883946,
          -5.980768798091932,
          -5.956022518388936,
          -5.922165681906661,
          -5.895793268699838,
          -5.876974487888437,
          -5.85133484019649,
          -5.831592811058582,
          -5.817199382844236,
          -5.807418531289941,
          -5.8102834658521525,
          -5.810049606205729,
          -5.819853211091987,
          -5.825661164131867,
          -5.849968157613467,
          -5.886406713875216,
          -5.916672145308509,
          -5.930799784303166,
          -5.966407961776436,
          -5.979290137030689,
          -6.014002904967687,
          -6.046088740773622,
          -6.068659332645208,
          -6.09705065268084,
          -6.097048640748022,
          -6.090161413219058,
          -6.070820268671125,
          -6.06964725103521,
          -6.059519084044903,
          -6.062982896467409,
          -6.04795079933707,
          -6.031395843468404,
          -6.031566799557689,
          -6.031604434547305,
          -6.038396482412274,
          -6.058678864140844,
          -6.058005263621334,
          -6.035791477892699,
          -6.018422022475259,
          -6.01257357154313,
          -6.001357581266099,
          -5.990153542188174,
          -5.993504964568804,
          -5.97858558769411,
          -5.95664868440005,
          -5.9366458698627325,
          -5.9230900490789855,
          -5.876023950799543,
          -5.835966479232865,
          -5.823278707558851,
          -5.824863062665659,
          -5.820230843442688,
          -5.819415897327878,
          -5.8107257624184045,
          -5.808023116865237,
          -5.815109476427622,
          -5.828471370425308,
          -5.856341877821809,
          -5.874107079326163,
          -5.892425028842998,
          -5.899972549420965,
          -5.934393548749068,
          -5.975225661159996,
          -6.012355464854862,
          -6.038611926022885,
          -6.066445746120704,
          -6.090018093831072,
          -6.133357323892975,
          -6.18541011022025,
          -6.224368939631094,
          -6.27355257512576,
          -6.342458554692223,
          -6.3957054723804525,
          -6.435751839602155,
          -6.454170849744863,
          -6.474323839168832,
          -6.485141456899921,
          -6.490972985047885,
          -6.495953544311671,
          -6.486895580849771,
          -6.481327943014265,
          -6.469488672091352,
          -6.48033142778518,
          -6.483160059711318
         ],
         "yaxis": "y2"
        },
        {
         "connectgaps": false,
         "hoverinfo": "skip",
         "legendgroup": "Baseline",
         "line": {
          "width": 0
         },
         "name": "Baseline",
         "showlegend": false,
         "type": "scatter",
         "x": [
          "2014-03-02T00:00:00",
          "2014-03-03T00:00:00",
          "2014-03-04T00:00:00",
          "2014-03-05T00:00:00",
          "2014-03-06T00:00:00",
          "2014-03-07T00:00:00",
          "2014-03-08T00:00:00",
          "2014-03-09T00:00:00",
          "2014-03-10T00:00:00",
          "2014-03-11T00:00:00",
          "2014-03-12T00:00:00",
          "2014-03-13T00:00:00",
          "2014-03-14T00:00:00",
          "2014-03-15T00:00:00",
          "2014-03-16T00:00:00",
          "2014-03-17T00:00:00",
          "2014-03-18T00:00:00",
          "2014-03-19T00:00:00",
          "2014-03-20T00:00:00",
          "2014-03-21T00:00:00",
          "2014-03-22T00:00:00",
          "2014-03-23T00:00:00",
          "2014-03-24T00:00:00",
          "2014-03-25T00:00:00",
          "2014-03-26T00:00:00",
          "2014-03-27T00:00:00",
          "2014-03-28T00:00:00",
          "2014-03-29T00:00:00",
          "2014-03-30T00:00:00",
          "2014-03-31T00:00:00",
          "2014-04-01T00:00:00",
          "2014-04-02T00:00:00",
          "2014-04-03T00:00:00",
          "2014-04-04T00:00:00",
          "2014-04-05T00:00:00",
          "2014-04-06T00:00:00",
          "2014-04-07T00:00:00",
          "2014-04-08T00:00:00",
          "2014-04-09T00:00:00",
          "2014-04-10T00:00:00",
          "2014-04-11T00:00:00",
          "2014-04-12T00:00:00",
          "2014-04-13T00:00:00",
          "2014-04-14T00:00:00",
          "2014-04-15T00:00:00",
          "2014-04-16T00:00:00",
          "2014-04-17T00:00:00",
          "2014-04-18T00:00:00",
          "2014-04-19T00:00:00",
          "2014-04-20T00:00:00",
          "2014-04-21T00:00:00",
          "2014-04-22T00:00:00",
          "2014-04-23T00:00:00",
          "2014-04-24T00:00:00",
          "2014-04-25T00:00:00",
          "2014-04-26T00:00:00",
          "2014-04-27T00:00:00",
          "2014-04-28T00:00:00",
          "2014-04-29T00:00:00",
          "2014-04-30T00:00:00",
          "2014-05-01T00:00:00",
          "2014-05-02T00:00:00",
          "2014-05-03T00:00:00",
          "2014-05-04T00:00:00",
          "2014-05-05T00:00:00",
          "2014-05-06T00:00:00",
          "2014-05-07T00:00:00",
          "2014-05-08T00:00:00",
          "2014-05-09T00:00:00",
          "2014-05-10T00:00:00",
          "2014-05-11T00:00:00",
          "2014-05-12T00:00:00",
          "2014-05-13T00:00:00",
          "2014-05-14T00:00:00",
          "2014-05-15T00:00:00",
          "2014-05-16T00:00:00",
          "2014-05-17T00:00:00",
          "2014-05-18T00:00:00",
          "2014-05-19T00:00:00",
          "2014-05-20T00:00:00",
          "2014-05-21T00:00:00",
          "2014-05-22T00:00:00",
          "2014-05-23T00:00:00",
          "2014-05-24T00:00:00",
          "2014-05-25T00:00:00",
          "2014-05-26T00:00:00",
          "2014-05-27T00:00:00",
          "2014-05-28T00:00:00",
          "2014-05-29T00:00:00",
          "2014-05-30T00:00:00",
          "2014-05-31T00:00:00",
          "2014-06-01T00:00:00",
          "2014-06-02T00:00:00",
          "2014-06-03T00:00:00",
          "2014-06-04T00:00:00",
          "2014-06-05T00:00:00",
          "2014-06-06T00:00:00",
          "2014-06-07T00:00:00",
          "2014-06-08T00:00:00",
          "2014-06-09T00:00:00",
          "2014-06-10T00:00:00",
          "2014-06-11T00:00:00",
          "2014-06-12T00:00:00",
          "2014-06-13T00:00:00",
          "2014-06-14T00:00:00",
          "2014-06-15T00:00:00",
          "2014-06-16T00:00:00",
          "2014-06-17T00:00:00",
          "2014-06-18T00:00:00",
          "2014-06-19T00:00:00",
          "2014-06-20T00:00:00",
          "2014-06-21T00:00:00",
          "2014-06-22T00:00:00",
          "2014-06-23T00:00:00",
          "2014-06-24T00:00:00",
          "2014-06-25T00:00:00",
          "2014-06-26T00:00:00",
          "2014-06-27T00:00:00",
          "2014-06-28T00:00:00",
          "2014-06-29T00:00:00",
          "2014-06-30T00:00:00",
          "2014-07-01T00:00:00",
          "2014-07-02T00:00:00",
          "2014-07-03T00:00:00",
          "2014-07-04T00:00:00",
          "2014-07-05T00:00:00",
          "2014-07-06T00:00:00",
          "2014-07-07T00:00:00",
          "2014-07-08T00:00:00",
          "2014-07-09T00:00:00",
          "2014-07-10T00:00:00",
          "2014-07-11T00:00:00",
          "2014-07-12T00:00:00",
          "2014-07-13T00:00:00",
          "2014-07-14T00:00:00",
          "2014-07-15T00:00:00",
          "2014-07-16T00:00:00",
          "2014-07-17T00:00:00",
          "2014-07-18T00:00:00",
          "2014-07-19T00:00:00",
          "2014-07-20T00:00:00",
          "2014-07-21T00:00:00",
          "2014-07-22T00:00:00",
          "2014-07-23T00:00:00",
          "2014-07-24T00:00:00",
          "2014-07-25T00:00:00",
          "2014-07-26T00:00:00",
          "2014-07-27T00:00:00",
          "2014-07-28T00:00:00",
          "2014-07-29T00:00:00",
          "2014-07-30T00:00:00",
          "2014-07-31T00:00:00",
          "2014-08-01T00:00:00",
          "2014-08-02T00:00:00",
          "2014-08-03T00:00:00",
          "2014-08-04T00:00:00",
          "2014-08-05T00:00:00",
          "2014-08-06T00:00:00",
          "2014-08-07T00:00:00",
          "2014-08-08T00:00:00",
          "2014-08-09T00:00:00",
          "2014-08-10T00:00:00",
          "2014-08-11T00:00:00",
          "2014-08-12T00:00:00",
          "2014-08-13T00:00:00",
          "2014-08-14T00:00:00",
          "2014-08-15T00:00:00",
          "2014-08-16T00:00:00",
          "2014-08-17T00:00:00",
          "2014-08-18T00:00:00",
          "2014-08-19T00:00:00",
          "2014-08-20T00:00:00",
          "2014-08-21T00:00:00",
          "2014-08-22T00:00:00",
          "2014-08-23T00:00:00",
          "2014-08-24T00:00:00",
          "2014-08-25T00:00:00",
          "2014-08-26T00:00:00",
          "2014-08-27T00:00:00",
          "2014-08-28T00:00:00",
          "2014-08-29T00:00:00",
          "2014-08-30T00:00:00",
          "2014-08-31T00:00:00",
          "2014-09-01T00:00:00",
          "2014-09-02T00:00:00",
          "2014-09-03T00:00:00",
          "2014-09-04T00:00:00",
          "2014-09-05T00:00:00",
          "2014-09-06T00:00:00",
          "2014-09-07T00:00:00",
          "2014-09-08T00:00:00",
          "2014-09-09T00:00:00",
          "2014-09-10T00:00:00",
          "2014-09-11T00:00:00",
          "2014-09-12T00:00:00",
          "2014-09-13T00:00:00",
          "2014-09-14T00:00:00",
          "2014-09-15T00:00:00",
          "2014-09-16T00:00:00",
          "2014-09-17T00:00:00",
          "2014-09-18T00:00:00",
          "2014-09-19T00:00:00",
          "2014-09-20T00:00:00",
          "2014-09-21T00:00:00",
          "2014-09-22T00:00:00",
          "2014-09-23T00:00:00",
          "2014-09-24T00:00:00",
          "2014-09-25T00:00:00",
          "2014-09-26T00:00:00",
          "2014-09-27T00:00:00",
          "2014-09-28T00:00:00",
          "2014-09-29T00:00:00",
          "2014-09-30T00:00:00",
          "2014-10-01T00:00:00",
          "2014-10-02T00:00:00",
          "2014-10-03T00:00:00",
          "2014-10-04T00:00:00",
          "2014-10-05T00:00:00",
          "2014-10-06T00:00:00",
          "2014-10-07T00:00:00",
          "2014-10-08T00:00:00",
          "2014-10-09T00:00:00",
          "2014-10-10T00:00:00",
          "2014-10-11T00:00:00",
          "2014-10-12T00:00:00",
          "2014-10-13T00:00:00",
          "2014-10-14T00:00:00",
          "2014-10-15T00:00:00",
          "2014-10-16T00:00:00",
          "2014-10-17T00:00:00",
          "2014-10-18T00:00:00",
          "2014-10-19T00:00:00",
          "2014-10-20T00:00:00",
          "2014-10-21T00:00:00",
          "2014-10-22T00:00:00",
          "2014-10-23T00:00:00",
          "2014-10-24T00:00:00",
          "2014-10-25T00:00:00",
          "2014-10-26T00:00:00",
          "2014-10-27T00:00:00",
          "2014-10-28T00:00:00",
          "2014-10-29T00:00:00",
          "2014-10-30T00:00:00",
          "2014-10-31T00:00:00",
          "2014-11-01T00:00:00",
          "2014-11-02T00:00:00",
          "2014-11-03T00:00:00",
          "2014-11-04T00:00:00",
          "2014-11-05T00:00:00",
          "2014-11-06T00:00:00",
          "2014-11-07T00:00:00",
          "2014-11-08T00:00:00",
          "2014-11-09T00:00:00",
          "2014-11-10T00:00:00",
          "2014-11-11T00:00:00",
          "2014-11-12T00:00:00",
          "2014-11-13T00:00:00",
          "2014-11-14T00:00:00",
          "2014-11-15T00:00:00",
          "2014-11-16T00:00:00",
          "2014-11-17T00:00:00",
          "2014-11-18T00:00:00",
          "2014-11-19T00:00:00",
          "2014-11-20T00:00:00",
          "2014-11-21T00:00:00",
          "2014-11-22T00:00:00",
          "2014-11-23T00:00:00",
          "2014-11-24T00:00:00",
          "2014-11-25T00:00:00",
          "2014-11-26T00:00:00",
          "2014-11-27T00:00:00",
          "2014-11-28T00:00:00",
          "2014-11-29T00:00:00",
          "2014-11-30T00:00:00",
          "2014-12-01T00:00:00",
          "2014-12-02T00:00:00",
          "2014-12-03T00:00:00",
          "2014-12-04T00:00:00",
          "2014-12-05T00:00:00",
          "2014-12-06T00:00:00",
          "2014-12-07T00:00:00",
          "2014-12-08T00:00:00",
          "2014-12-09T00:00:00",
          "2014-12-10T00:00:00",
          "2014-12-11T00:00:00",
          "2014-12-12T00:00:00",
          "2014-12-13T00:00:00",
          "2014-12-14T00:00:00",
          "2014-12-15T00:00:00",
          "2014-12-16T00:00:00",
          "2014-12-17T00:00:00",
          "2014-12-18T00:00:00",
          "2014-12-19T00:00:00",
          "2014-12-20T00:00:00",
          "2014-12-21T00:00:00",
          "2014-12-22T00:00:00",
          "2014-12-23T00:00:00",
          "2014-12-24T00:00:00",
          "2014-12-25T00:00:00",
          "2014-12-26T00:00:00",
          "2014-12-27T00:00:00",
          "2014-12-28T00:00:00",
          "2014-12-29T00:00:00",
          "2014-12-30T00:00:00",
          "2014-12-31T00:00:00",
          "2015-01-01T00:00:00",
          "2015-01-02T00:00:00",
          "2015-01-03T00:00:00",
          "2015-01-04T00:00:00",
          "2015-01-05T00:00:00",
          "2015-01-06T00:00:00",
          "2015-01-07T00:00:00",
          "2015-01-08T00:00:00",
          "2015-01-09T00:00:00",
          "2015-01-10T00:00:00",
          "2015-01-11T00:00:00",
          "2015-01-12T00:00:00",
          "2015-01-13T00:00:00",
          "2015-01-14T00:00:00",
          "2015-01-15T00:00:00",
          "2015-01-16T00:00:00",
          "2015-01-17T00:00:00",
          "2015-01-18T00:00:00",
          "2015-01-19T00:00:00",
          "2015-01-20T00:00:00",
          "2015-01-21T00:00:00",
          "2015-01-22T00:00:00",
          "2015-01-23T00:00:00",
          "2015-01-24T00:00:00",
          "2015-01-25T00:00:00",
          "2015-01-26T00:00:00",
          "2015-01-27T00:00:00",
          "2015-01-28T00:00:00",
          "2015-01-29T00:00:00",
          "2015-01-30T00:00:00",
          "2015-01-31T00:00:00"
         ],
         "xaxis": "x",
         "y": [
          0.8572445847577341,
          0.8594291823651349,
          0.863216809598058,
          0.8700457864207832,
          0.873860600161829,
          0.8798833782390054,
          0.8863610295859023,
          0.8885251403115645,
          0.8904532094544951,
          0.896232832641516,
          0.9023794081355039,
          0.9040776265746385,
          0.9037174818794004,
          0.9059850167618279,
          0.9112268237458346,
          0.9148137898257022,
          0.9175803610764468,
          0.9184538436837679,
          0.9172928531902397,
          0.9173287694085984,
          0.9208264496117314,
          0.9252390684577361,
          0.9262872559344943,
          0.9288045279724552,
          0.9297451096693896,
          0.9290300861353021,
          0.9291270981143421,
          0.9296251431848639,
          0.93075395973316,
          0.9300159411596456,
          0.9278348162332157,
          0.9237265335711335,
          0.9208340140531819,
          0.9192507471845478,
          0.9152369485921735,
          0.9109696779127989,
          0.9084389297413963,
          0.9027773405308464,
          0.8984057634785529,
          0.8936519851348067,
          0.8887761959188805,
          0.8839532123001173,
          0.8838041209845431,
          0.8832985268142604,
          0.8833696534366383,
          0.882368913349956,
          0.887372496259963,
          0.8891384021839791,
          0.8889238600697358,
          0.887988805880678,
          0.8873588991596015,
          0.8878935999839195,
          0.8900768199566327,
          0.888580419975433,
          0.8837102144306695,
          0.8787043114486026,
          0.8746618331037206,
          0.8682759656793424,
          0.8612138369082015,
          0.8591990002898727,
          0.8621468511998692,
          0.8591408247970393,
          0.8613349812428128,
          0.8606862670461078,
          0.8626109841369747,
          0.8674069739863215,
          0.8697078045465998,
          0.8756802849424535,
          0.8798191839311905,
          0.8815270205923325,
          0.8831726391184419,
          0.8839736248591941,
          0.8877323495886811,
          0.8873450032239307,
          0.887744010623111,
          0.886711153675113,
          0.8884601095279226,
          0.8866501464282758,
          0.886284425928841,
          0.8846059252759971,
          0.8846971699203405,
          0.8861891072212676,
          0.8854856557060897,
          0.8860677812197157,
          0.8891230761852316,
          0.8928218771427311,
          0.8960837605611213,
          0.8956152622850541,
          0.897291810883233,
          0.8963207016632726,
          0.8954880035696943,
          0.8964442517977335,
          0.8959929325284081,
          0.8904558643245913,
          0.8881172442304237,
          0.8856463027172294,
          0.8799222840169727,
          0.8732045603325407,
          0.8665326302061125,
          0.8586711469425282,
          0.8504191382120655,
          0.8428546539929272,
          0.8387280431166524,
          0.8326757807027488,
          0.8287829531069306,
          0.8248240516218357,
          0.8198997288504475,
          0.8170621593020283,
          0.8160940087979124,
          0.8106372673850037,
          0.8052411080335335,
          0.8024114012370845,
          0.7991818578460553,
          0.7957423859915436,
          0.7954691060691396,
          0.7964436316959318,
          0.8018166968679392,
          0.7953678561090719,
          0.7979567096546654,
          0.795365588925086,
          0.7966819086499675,
          0.8008489254443064,
          0.8027551101542926,
          0.8037156011960107,
          0.8043494585873519,
          0.8034855097518623,
          0.8064051403536143,
          0.8099292484700854,
          0.8153173444480348,
          0.823465431048452,
          0.8289909890869902,
          0.8376871457658757,
          0.8453270338741357,
          0.8509422267095564,
          0.8539819987424173,
          0.8585786165418303,
          0.8592304213789362,
          0.8664420017392089,
          0.8685020248560797,
          0.8673734960064298,
          0.8658953334962658,
          0.8669859607792463,
          0.8644223130789644,
          0.8642040671414053,
          0.8652974004001958,
          0.866504008905574,
          0.8670224013444155,
          0.8679490778037942,
          0.8720741280398605,
          0.8770792653129187,
          0.8806130532453841,
          0.8842494095913979,
          0.8851771617740181,
          0.8809867594832719,
          0.8734364430146937,
          0.8675883788036612,
          0.8615699065935797,
          0.857428921494463,
          0.8506542823499621,
          0.8454568579193338,
          0.838339901939032,
          0.8318745688254321,
          0.823536595347612,
          0.8192415245018907,
          0.8124554655504292,
          0.8058470484578588,
          0.8035075396225861,
          0.799395481017587,
          0.7893884362884014,
          0.7904910761764202,
          0.7886301246538834,
          0.7884202159979717,
          0.7858688771180569,
          0.7850028671300788,
          0.785268309553373,
          0.7755873815649407,
          0.7705163439957492,
          0.7650828106705541,
          0.7573397664821367,
          0.7338522641515003,
          0.7216054232117842,
          0.7041622878230158,
          0.6966355719855336,
          0.6880792459935181,
          0.6972324038830564,
          0.7067927909045791,
          0.7201378851960475,
          0.73036776639226,
          0.7414978084415534,
          0.749739962760173,
          0.7579271460625707,
          0.7602632620750043,
          0.7595148941450663,
          0.7624006476668573,
          0.761226488046677,
          0.759455947104187,
          0.7570146545422022,
          0.7569915964269813,
          0.7607657637239313,
          0.7666862514795393,
          0.7672837779779924,
          0.7707360588577712,
          0.7670061981428822,
          0.7640407360207958,
          0.7672565320446362,
          0.7741494127969718,
          0.7793579550077379,
          0.7897839676348526,
          0.7951129664700523,
          0.8065222234634475,
          0.8178008645984337,
          0.8255200394998156,
          0.8271141833512576,
          0.8199567610922439,
          0.8184897203945564,
          0.8151502766536949,
          0.8164279672600516,
          0.8203416971123114,
          0.8260251397047693,
          0.8243817057697854,
          0.8235728951031505,
          0.8281260149907902,
          0.8318817957811652,
          0.8387300532539044,
          0.846232158642737,
          0.8514535675175774,
          0.8533635732909819,
          0.8582280569913333,
          0.8603863052078095,
          0.8610929567734729,
          0.8586836714753069,
          0.8583715158292352,
          0.8640446415242781,
          0.8732098680066271,
          0.8803823753286468,
          0.8823156905819782,
          0.8827909767810035,
          0.8872734861943373,
          0.8865087456138352,
          0.8869190996914099,
          0.8770520890876519,
          0.8712945949201376,
          0.8712647346300891,
          0.8726413508450909,
          0.8809043445898653,
          0.8831278271893679,
          0.8884727879795403,
          0.8814563144866371,
          0.8644773453135524,
          0.8589112231903584,
          0.853844556601127,
          0.8463157385306959,
          0.8431443182434847,
          0.8415787118392986,
          0.8420442613656858,
          0.8447263504050295,
          0.8477868317303655,
          0.8514246816748711,
          0.8530856892529437,
          0.8557960175649605,
          0.8578395328157276,
          0.861751031334184,
          0.8679830056167552,
          0.8725177225765225,
          0.8736339000296394,
          0.8771817057096675,
          0.879517894830395,
          0.8786843892552912,
          0.8821109037551618,
          0.8838528881495817,
          0.8834263300834218,
          0.8870938345536132,
          0.8865673248465181,
          0.8885234495501316,
          0.8868611519581863,
          0.8880980056467225,
          0.8876272301935347,
          0.8847985505663649,
          0.8898404949327621,
          0.9011938588127869,
          0.9073957337852122,
          0.9121327414400974,
          0.9139846215175687,
          0.9148816006346865,
          0.9157604719986624,
          0.9143261437687151,
          0.9158016373241195,
          0.914865529374163,
          0.9100736626364326,
          0.906581854350493,
          0.9037372401057897,
          0.9005892742055344,
          0.8980527737736969,
          0.8928134691852115,
          0.8901400772553796,
          0.8904240253159266,
          0.8917321521745554,
          0.8935910314858063,
          0.8917116691114698,
          0.8907447941689224,
          0.8893349506663318,
          0.8901971525542909,
          0.8916344476069737,
          0.8895714227751991,
          0.8890603231763108,
          0.8877088194575926,
          0.8872308353620488,
          0.8885099303988073,
          0.8924386627924281,
          0.8915645469230327,
          0.8902503881814176,
          0.8900923624803221,
          0.8893601327055608,
          0.8903577484520921,
          0.890431171902891,
          0.8906687174086575,
          0.8950180985584171,
          0.8934635333588357,
          0.8940847184914289,
          0.8959853853559259,
          0.897710426118151,
          0.8989146510603475,
          0.8995661416710773,
          0.8964922122106714,
          0.8947047561379364,
          0.8908600072349262,
          0.8878879051403811,
          0.8864777304887649,
          0.8847069970567006,
          0.8831385388812619,
          0.8836113151017652,
          0.8810814094859245,
          0.8809539790684232,
          0.8770262420049693,
          0.8763219192776422,
          0.8740778622888908
         ],
         "yaxis": "y"
        },
        {
         "connectgaps": false,
         "fill": "tonexty",
         "fillcolor": "rgba(0.38823529411764707, 0.43137254901960786, 0.9803921568627451, 0.2)",
         "hoverinfo": "skip",
         "legendgroup": "Baseline",
         "line": {
          "width": 0
         },
         "name": "Baseline",
         "showlegend": false,
         "type": "scatter",
         "x": [
          "2014-03-02T00:00:00",
          "2014-03-03T00:00:00",
          "2014-03-04T00:00:00",
          "2014-03-05T00:00:00",
          "2014-03-06T00:00:00",
          "2014-03-07T00:00:00",
          "2014-03-08T00:00:00",
          "2014-03-09T00:00:00",
          "2014-03-10T00:00:00",
          "2014-03-11T00:00:00",
          "2014-03-12T00:00:00",
          "2014-03-13T00:00:00",
          "2014-03-14T00:00:00",
          "2014-03-15T00:00:00",
          "2014-03-16T00:00:00",
          "2014-03-17T00:00:00",
          "2014-03-18T00:00:00",
          "2014-03-19T00:00:00",
          "2014-03-20T00:00:00",
          "2014-03-21T00:00:00",
          "2014-03-22T00:00:00",
          "2014-03-23T00:00:00",
          "2014-03-24T00:00:00",
          "2014-03-25T00:00:00",
          "2014-03-26T00:00:00",
          "2014-03-27T00:00:00",
          "2014-03-28T00:00:00",
          "2014-03-29T00:00:00",
          "2014-03-30T00:00:00",
          "2014-03-31T00:00:00",
          "2014-04-01T00:00:00",
          "2014-04-02T00:00:00",
          "2014-04-03T00:00:00",
          "2014-04-04T00:00:00",
          "2014-04-05T00:00:00",
          "2014-04-06T00:00:00",
          "2014-04-07T00:00:00",
          "2014-04-08T00:00:00",
          "2014-04-09T00:00:00",
          "2014-04-10T00:00:00",
          "2014-04-11T00:00:00",
          "2014-04-12T00:00:00",
          "2014-04-13T00:00:00",
          "2014-04-14T00:00:00",
          "2014-04-15T00:00:00",
          "2014-04-16T00:00:00",
          "2014-04-17T00:00:00",
          "2014-04-18T00:00:00",
          "2014-04-19T00:00:00",
          "2014-04-20T00:00:00",
          "2014-04-21T00:00:00",
          "2014-04-22T00:00:00",
          "2014-04-23T00:00:00",
          "2014-04-24T00:00:00",
          "2014-04-25T00:00:00",
          "2014-04-26T00:00:00",
          "2014-04-27T00:00:00",
          "2014-04-28T00:00:00",
          "2014-04-29T00:00:00",
          "2014-04-30T00:00:00",
          "2014-05-01T00:00:00",
          "2014-05-02T00:00:00",
          "2014-05-03T00:00:00",
          "2014-05-04T00:00:00",
          "2014-05-05T00:00:00",
          "2014-05-06T00:00:00",
          "2014-05-07T00:00:00",
          "2014-05-08T00:00:00",
          "2014-05-09T00:00:00",
          "2014-05-10T00:00:00",
          "2014-05-11T00:00:00",
          "2014-05-12T00:00:00",
          "2014-05-13T00:00:00",
          "2014-05-14T00:00:00",
          "2014-05-15T00:00:00",
          "2014-05-16T00:00:00",
          "2014-05-17T00:00:00",
          "2014-05-18T00:00:00",
          "2014-05-19T00:00:00",
          "2014-05-20T00:00:00",
          "2014-05-21T00:00:00",
          "2014-05-22T00:00:00",
          "2014-05-23T00:00:00",
          "2014-05-24T00:00:00",
          "2014-05-25T00:00:00",
          "2014-05-26T00:00:00",
          "2014-05-27T00:00:00",
          "2014-05-28T00:00:00",
          "2014-05-29T00:00:00",
          "2014-05-30T00:00:00",
          "2014-05-31T00:00:00",
          "2014-06-01T00:00:00",
          "2014-06-02T00:00:00",
          "2014-06-03T00:00:00",
          "2014-06-04T00:00:00",
          "2014-06-05T00:00:00",
          "2014-06-06T00:00:00",
          "2014-06-07T00:00:00",
          "2014-06-08T00:00:00",
          "2014-06-09T00:00:00",
          "2014-06-10T00:00:00",
          "2014-06-11T00:00:00",
          "2014-06-12T00:00:00",
          "2014-06-13T00:00:00",
          "2014-06-14T00:00:00",
          "2014-06-15T00:00:00",
          "2014-06-16T00:00:00",
          "2014-06-17T00:00:00",
          "2014-06-18T00:00:00",
          "2014-06-19T00:00:00",
          "2014-06-20T00:00:00",
          "2014-06-21T00:00:00",
          "2014-06-22T00:00:00",
          "2014-06-23T00:00:00",
          "2014-06-24T00:00:00",
          "2014-06-25T00:00:00",
          "2014-06-26T00:00:00",
          "2014-06-27T00:00:00",
          "2014-06-28T00:00:00",
          "2014-06-29T00:00:00",
          "2014-06-30T00:00:00",
          "2014-07-01T00:00:00",
          "2014-07-02T00:00:00",
          "2014-07-03T00:00:00",
          "2014-07-04T00:00:00",
          "2014-07-05T00:00:00",
          "2014-07-06T00:00:00",
          "2014-07-07T00:00:00",
          "2014-07-08T00:00:00",
          "2014-07-09T00:00:00",
          "2014-07-10T00:00:00",
          "2014-07-11T00:00:00",
          "2014-07-12T00:00:00",
          "2014-07-13T00:00:00",
          "2014-07-14T00:00:00",
          "2014-07-15T00:00:00",
          "2014-07-16T00:00:00",
          "2014-07-17T00:00:00",
          "2014-07-18T00:00:00",
          "2014-07-19T00:00:00",
          "2014-07-20T00:00:00",
          "2014-07-21T00:00:00",
          "2014-07-22T00:00:00",
          "2014-07-23T00:00:00",
          "2014-07-24T00:00:00",
          "2014-07-25T00:00:00",
          "2014-07-26T00:00:00",
          "2014-07-27T00:00:00",
          "2014-07-28T00:00:00",
          "2014-07-29T00:00:00",
          "2014-07-30T00:00:00",
          "2014-07-31T00:00:00",
          "2014-08-01T00:00:00",
          "2014-08-02T00:00:00",
          "2014-08-03T00:00:00",
          "2014-08-04T00:00:00",
          "2014-08-05T00:00:00",
          "2014-08-06T00:00:00",
          "2014-08-07T00:00:00",
          "2014-08-08T00:00:00",
          "2014-08-09T00:00:00",
          "2014-08-10T00:00:00",
          "2014-08-11T00:00:00",
          "2014-08-12T00:00:00",
          "2014-08-13T00:00:00",
          "2014-08-14T00:00:00",
          "2014-08-15T00:00:00",
          "2014-08-16T00:00:00",
          "2014-08-17T00:00:00",
          "2014-08-18T00:00:00",
          "2014-08-19T00:00:00",
          "2014-08-20T00:00:00",
          "2014-08-21T00:00:00",
          "2014-08-22T00:00:00",
          "2014-08-23T00:00:00",
          "2014-08-24T00:00:00",
          "2014-08-25T00:00:00",
          "2014-08-26T00:00:00",
          "2014-08-27T00:00:00",
          "2014-08-28T00:00:00",
          "2014-08-29T00:00:00",
          "2014-08-30T00:00:00",
          "2014-08-31T00:00:00",
          "2014-09-01T00:00:00",
          "2014-09-02T00:00:00",
          "2014-09-03T00:00:00",
          "2014-09-04T00:00:00",
          "2014-09-05T00:00:00",
          "2014-09-06T00:00:00",
          "2014-09-07T00:00:00",
          "2014-09-08T00:00:00",
          "2014-09-09T00:00:00",
          "2014-09-10T00:00:00",
          "2014-09-11T00:00:00",
          "2014-09-12T00:00:00",
          "2014-09-13T00:00:00",
          "2014-09-14T00:00:00",
          "2014-09-15T00:00:00",
          "2014-09-16T00:00:00",
          "2014-09-17T00:00:00",
          "2014-09-18T00:00:00",
          "2014-09-19T00:00:00",
          "2014-09-20T00:00:00",
          "2014-09-21T00:00:00",
          "2014-09-22T00:00:00",
          "2014-09-23T00:00:00",
          "2014-09-24T00:00:00",
          "2014-09-25T00:00:00",
          "2014-09-26T00:00:00",
          "2014-09-27T00:00:00",
          "2014-09-28T00:00:00",
          "2014-09-29T00:00:00",
          "2014-09-30T00:00:00",
          "2014-10-01T00:00:00",
          "2014-10-02T00:00:00",
          "2014-10-03T00:00:00",
          "2014-10-04T00:00:00",
          "2014-10-05T00:00:00",
          "2014-10-06T00:00:00",
          "2014-10-07T00:00:00",
          "2014-10-08T00:00:00",
          "2014-10-09T00:00:00",
          "2014-10-10T00:00:00",
          "2014-10-11T00:00:00",
          "2014-10-12T00:00:00",
          "2014-10-13T00:00:00",
          "2014-10-14T00:00:00",
          "2014-10-15T00:00:00",
          "2014-10-16T00:00:00",
          "2014-10-17T00:00:00",
          "2014-10-18T00:00:00",
          "2014-10-19T00:00:00",
          "2014-10-20T00:00:00",
          "2014-10-21T00:00:00",
          "2014-10-22T00:00:00",
          "2014-10-23T00:00:00",
          "2014-10-24T00:00:00",
          "2014-10-25T00:00:00",
          "2014-10-26T00:00:00",
          "2014-10-27T00:00:00",
          "2014-10-28T00:00:00",
          "2014-10-29T00:00:00",
          "2014-10-30T00:00:00",
          "2014-10-31T00:00:00",
          "2014-11-01T00:00:00",
          "2014-11-02T00:00:00",
          "2014-11-03T00:00:00",
          "2014-11-04T00:00:00",
          "2014-11-05T00:00:00",
          "2014-11-06T00:00:00",
          "2014-11-07T00:00:00",
          "2014-11-08T00:00:00",
          "2014-11-09T00:00:00",
          "2014-11-10T00:00:00",
          "2014-11-11T00:00:00",
          "2014-11-12T00:00:00",
          "2014-11-13T00:00:00",
          "2014-11-14T00:00:00",
          "2014-11-15T00:00:00",
          "2014-11-16T00:00:00",
          "2014-11-17T00:00:00",
          "2014-11-18T00:00:00",
          "2014-11-19T00:00:00",
          "2014-11-20T00:00:00",
          "2014-11-21T00:00:00",
          "2014-11-22T00:00:00",
          "2014-11-23T00:00:00",
          "2014-11-24T00:00:00",
          "2014-11-25T00:00:00",
          "2014-11-26T00:00:00",
          "2014-11-27T00:00:00",
          "2014-11-28T00:00:00",
          "2014-11-29T00:00:00",
          "2014-11-30T00:00:00",
          "2014-12-01T00:00:00",
          "2014-12-02T00:00:00",
          "2014-12-03T00:00:00",
          "2014-12-04T00:00:00",
          "2014-12-05T00:00:00",
          "2014-12-06T00:00:00",
          "2014-12-07T00:00:00",
          "2014-12-08T00:00:00",
          "2014-12-09T00:00:00",
          "2014-12-10T00:00:00",
          "2014-12-11T00:00:00",
          "2014-12-12T00:00:00",
          "2014-12-13T00:00:00",
          "2014-12-14T00:00:00",
          "2014-12-15T00:00:00",
          "2014-12-16T00:00:00",
          "2014-12-17T00:00:00",
          "2014-12-18T00:00:00",
          "2014-12-19T00:00:00",
          "2014-12-20T00:00:00",
          "2014-12-21T00:00:00",
          "2014-12-22T00:00:00",
          "2014-12-23T00:00:00",
          "2014-12-24T00:00:00",
          "2014-12-25T00:00:00",
          "2014-12-26T00:00:00",
          "2014-12-27T00:00:00",
          "2014-12-28T00:00:00",
          "2014-12-29T00:00:00",
          "2014-12-30T00:00:00",
          "2014-12-31T00:00:00",
          "2015-01-01T00:00:00",
          "2015-01-02T00:00:00",
          "2015-01-03T00:00:00",
          "2015-01-04T00:00:00",
          "2015-01-05T00:00:00",
          "2015-01-06T00:00:00",
          "2015-01-07T00:00:00",
          "2015-01-08T00:00:00",
          "2015-01-09T00:00:00",
          "2015-01-10T00:00:00",
          "2015-01-11T00:00:00",
          "2015-01-12T00:00:00",
          "2015-01-13T00:00:00",
          "2015-01-14T00:00:00",
          "2015-01-15T00:00:00",
          "2015-01-16T00:00:00",
          "2015-01-17T00:00:00",
          "2015-01-18T00:00:00",
          "2015-01-19T00:00:00",
          "2015-01-20T00:00:00",
          "2015-01-21T00:00:00",
          "2015-01-22T00:00:00",
          "2015-01-23T00:00:00",
          "2015-01-24T00:00:00",
          "2015-01-25T00:00:00",
          "2015-01-26T00:00:00",
          "2015-01-27T00:00:00",
          "2015-01-28T00:00:00",
          "2015-01-29T00:00:00",
          "2015-01-30T00:00:00",
          "2015-01-31T00:00:00"
         ],
         "xaxis": "x",
         "y": [
          0.8192311898037552,
          0.8142160421833544,
          0.8181145432168141,
          0.8227855034107636,
          0.8285754666094537,
          0.8335914953316215,
          0.8389623476088354,
          0.8435929884195756,
          0.8476562355124616,
          0.8547692839934059,
          0.8604705269351274,
          0.8635176850271671,
          0.8633539538103137,
          0.8673434156362286,
          0.8765148796763913,
          0.8777583827003469,
          0.8811367433964913,
          0.8806490459135566,
          0.8815109530105221,
          0.8842300584095847,
          0.8894283879533438,
          0.8960657688319528,
          0.8993172616373925,
          0.9014404739656215,
          0.9040679282322438,
          0.9051877101787481,
          0.9058344952038015,
          0.9069995116842607,
          0.9083759773444718,
          0.9074488945280789,
          0.9062341419983901,
          0.9024762825347685,
          0.8993591677137498,
          0.8977340325686626,
          0.8934214589670672,
          0.8900837182116468,
          0.8866270119004972,
          0.880264896353245,
          0.875442984612251,
          0.869335077504921,
          0.8627712729833802,
          0.8569884291977451,
          0.8554582709936414,
          0.8554475915253166,
          0.8554020275436993,
          0.8546572072404226,
          0.8575105971133327,
          0.8593292860947653,
          0.8595411395577006,
          0.8596230035250579,
          0.859487081186105,
          0.8614185767788312,
          0.862840866600347,
          0.8616401636888003,
          0.856034521812034,
          0.8514813430640871,
          0.8476160414321917,
          0.8350785966869417,
          0.8240619998933331,
          0.819499375464512,
          0.8217636179754423,
          0.8182551841583189,
          0.8217929586727497,
          0.818605311654145,
          0.8210696977469045,
          0.8240735674879494,
          0.825013285837494,
          0.8324313084996923,
          0.8365015282213516,
          0.8418758958862985,
          0.8418853851836127,
          0.843315498322295,
          0.8494003086204709,
          0.8475188915298872,
          0.8462175955360433,
          0.8481505954425163,
          0.8515905810791344,
          0.848973678482204,
          0.848181219892774,
          0.8438310745102402,
          0.8449113245046955,
          0.8457193313516589,
          0.844032028095954,
          0.8383749829689893,
          0.8414675822131188,
          0.8462711062382904,
          0.8510266085938112,
          0.8460125872296931,
          0.8493411893915862,
          0.8493734382567996,
          0.8483439853307456,
          0.8511901802870068,
          0.8504956683176614,
          0.84616105417964,
          0.8454692771379629,
          0.8406114150478206,
          0.8290844950726978,
          0.8220336319791917,
          0.8149678300058993,
          0.804437441634265,
          0.7937174935859326,
          0.7866237817735477,
          0.7830028900233752,
          0.7790369202398228,
          0.7710670777719991,
          0.7707186309780834,
          0.7616858192369655,
          0.7577678328706299,
          0.7567528866698388,
          0.750776187324265,
          0.7449640802945126,
          0.7406569695606632,
          0.7390722266532405,
          0.7375408586868795,
          0.7377425880967998,
          0.7336847254977406,
          0.7383710894471903,
          0.7344126298919519,
          0.7412320556665464,
          0.7397182698813511,
          0.7473795812765335,
          0.746374774760608,
          0.7515277334500462,
          0.7545511605659511,
          0.7554827491269982,
          0.7547158121222908,
          0.7528542728994659,
          0.7537369084918728,
          0.7564760689780289,
          0.767221174854222,
          0.7746003962552632,
          0.7864863303090676,
          0.7995743637515285,
          0.8009765791468819,
          0.8014731165155806,
          0.8043057213124056,
          0.8050573882442813,
          0.814465282933161,
          0.8157662596797126,
          0.8186278911892018,
          0.8188930255590066,
          0.8182270544547817,
          0.8201818892908057,
          0.8197400464087389,
          0.8150993544149977,
          0.8128691249738316,
          0.8144492011933007,
          0.8164142420989311,
          0.8211838942959904,
          0.8270581842298844,
          0.8332246149870337,
          0.8371282861700037,
          0.8367287525868565,
          0.83010761291981,
          0.8236500372101843,
          0.8166900591901153,
          0.8108660104235755,
          0.8056966503003442,
          0.7975434580904404,
          0.7924369265614438,
          0.7855365370021498,
          0.7762541493518214,
          0.7680992518587406,
          0.7647468326175537,
          0.7567003678396326,
          0.7507023854289484,
          0.7461382291186337,
          0.7395105467589066,
          0.730824628099657,
          0.7288210901755051,
          0.7285117810709191,
          0.7296229352965052,
          0.7283936920221821,
          0.7265098503613348,
          0.7231139798757871,
          0.7197995949454009,
          0.710094983852018,
          0.7104561931716772,
          0.7032563002569172,
          0.6787268697243685,
          0.6657903817791497,
          0.6504781354978058,
          0.6401251165876346,
          0.6333632067699589,
          0.6444884695952904,
          0.6526329792160364,
          0.6654904639251721,
          0.6790407870547355,
          0.6853568884430853,
          0.6913150114103553,
          0.699571965666948,
          0.7043449396812448,
          0.7043698740786895,
          0.7037999784939754,
          0.7007120457476163,
          0.7011595929946118,
          0.6991549961664786,
          0.6976725411603724,
          0.705477160680311,
          0.7135808374849402,
          0.7149325419408519,
          0.7182318819422556,
          0.7132835865905361,
          0.7111560539202278,
          0.7101716618404633,
          0.7179907141381255,
          0.7274645616481487,
          0.7318602151655557,
          0.7395545636189574,
          0.747514052977303,
          0.7571262318841576,
          0.7634085872164017,
          0.7628873567150192,
          0.7538793815676209,
          0.7551441015184961,
          0.7573232824941378,
          0.7571144293282391,
          0.7615660848238277,
          0.7710888856523171,
          0.7665829733654208,
          0.7671660509376297,
          0.7670281880665679,
          0.7728150968890284,
          0.7808741814070128,
          0.7858231674536156,
          0.7903643992759023,
          0.7923442375392595,
          0.798143660983333,
          0.7991110351358797,
          0.8015763497767645,
          0.7971454727223353,
          0.7955119544680079,
          0.7997018028299383,
          0.8051001859592752,
          0.8120992196020655,
          0.8188182251176865,
          0.8180419387294982,
          0.8174940930821508,
          0.820526358677403,
          0.8235019443465623,
          0.8160777106929757,
          0.8105331695434094,
          0.8113751743522121,
          0.8155807551448796,
          0.822750587148392,
          0.8209859250237319,
          0.8295704641983015,
          0.8248261229194224,
          0.8103100791640312,
          0.7996706941735816,
          0.7917753160865926,
          0.7851316312189511,
          0.7752127247678099,
          0.7720231726846284,
          0.776704427099165,
          0.7801156110719344,
          0.7844885215818991,
          0.7898134373330018,
          0.7937530533396087,
          0.7971760470360862,
          0.8030972205641762,
          0.8068119769243963,
          0.8161564093992046,
          0.825089218951138,
          0.8311908741696463,
          0.834134165681331,
          0.8361891793870182,
          0.8373164443614438,
          0.8378173449834818,
          0.842686201217647,
          0.8403944079958354,
          0.8467408826553784,
          0.8508397894806912,
          0.8519963612678889,
          0.8519635807245532,
          0.8501876677613946,
          0.844772804263788,
          0.8432458157023649,
          0.8507191112574193,
          0.8636584732233474,
          0.8742007955051616,
          0.8812359704692091,
          0.8841304688084786,
          0.8882837395316734,
          0.8896806719565632,
          0.8890031989244851,
          0.8907297346504177,
          0.8896585928693126,
          0.885498003441331,
          0.8816363428739183,
          0.8769218459569197,
          0.8739384535622043,
          0.8701592861244308,
          0.86453710480052,
          0.860097579431627,
          0.8604423731412429,
          0.8614718289888503,
          0.8631440253130043,
          0.8627345626736709,
          0.8600615861736217,
          0.8569136197044295,
          0.8568573005347092,
          0.8597799033539619,
          0.857547359354697,
          0.8563598013918476,
          0.8560403218040966,
          0.8575472921333024,
          0.8587071919913891,
          0.863422280944016,
          0.8654426166583613,
          0.865670865292045,
          0.8660577216395011,
          0.8663919970758575,
          0.8677814885199202,
          0.8679871529251676,
          0.8669727288785386,
          0.8706890000162126,
          0.869927838144169,
          0.8698838805809317,
          0.87271895054756,
          0.8732666973787665,
          0.8752661136505061,
          0.8741384334792491,
          0.8732186356401629,
          0.8723355187874064,
          0.8672740088862871,
          0.8638408303649521,
          0.8609746799378035,
          0.8594579473098352,
          0.8577237435613494,
          0.8580330073718758,
          0.8564515555811414,
          0.85595728245615,
          0.8519992946867467,
          0.850617485778761,
          0.8493541882560173
         ],
         "yaxis": "y"
        },
        {
         "connectgaps": false,
         "hoverinfo": "skip",
         "legendgroup": "PEDs",
         "line": {
          "width": 0
         },
         "name": "PEDs",
         "showlegend": false,
         "type": "scatter",
         "x": [
          "2014-03-02T00:00:00",
          "2014-03-03T00:00:00",
          "2014-03-04T00:00:00",
          "2014-03-05T00:00:00",
          "2014-03-06T00:00:00",
          "2014-03-07T00:00:00",
          "2014-03-08T00:00:00",
          "2014-03-09T00:00:00",
          "2014-03-10T00:00:00",
          "2014-03-11T00:00:00",
          "2014-03-12T00:00:00",
          "2014-03-13T00:00:00",
          "2014-03-14T00:00:00",
          "2014-03-15T00:00:00",
          "2014-03-16T00:00:00",
          "2014-03-17T00:00:00",
          "2014-03-18T00:00:00",
          "2014-03-19T00:00:00",
          "2014-03-20T00:00:00",
          "2014-03-21T00:00:00",
          "2014-03-22T00:00:00",
          "2014-03-23T00:00:00",
          "2014-03-24T00:00:00",
          "2014-03-25T00:00:00",
          "2014-03-26T00:00:00",
          "2014-03-27T00:00:00",
          "2014-03-28T00:00:00",
          "2014-03-29T00:00:00",
          "2014-03-30T00:00:00",
          "2014-03-31T00:00:00",
          "2014-04-01T00:00:00",
          "2014-04-02T00:00:00",
          "2014-04-03T00:00:00",
          "2014-04-04T00:00:00",
          "2014-04-05T00:00:00",
          "2014-04-06T00:00:00",
          "2014-04-07T00:00:00",
          "2014-04-08T00:00:00",
          "2014-04-09T00:00:00",
          "2014-04-10T00:00:00",
          "2014-04-11T00:00:00",
          "2014-04-12T00:00:00",
          "2014-04-13T00:00:00",
          "2014-04-14T00:00:00",
          "2014-04-15T00:00:00",
          "2014-04-16T00:00:00",
          "2014-04-17T00:00:00",
          "2014-04-18T00:00:00",
          "2014-04-19T00:00:00",
          "2014-04-20T00:00:00",
          "2014-04-21T00:00:00",
          "2014-04-22T00:00:00",
          "2014-04-23T00:00:00",
          "2014-04-24T00:00:00",
          "2014-04-25T00:00:00",
          "2014-04-26T00:00:00",
          "2014-04-27T00:00:00",
          "2014-04-28T00:00:00",
          "2014-04-29T00:00:00",
          "2014-04-30T00:00:00",
          "2014-05-01T00:00:00",
          "2014-05-02T00:00:00",
          "2014-05-03T00:00:00",
          "2014-05-04T00:00:00",
          "2014-05-05T00:00:00",
          "2014-05-06T00:00:00",
          "2014-05-07T00:00:00",
          "2014-05-08T00:00:00",
          "2014-05-09T00:00:00",
          "2014-05-10T00:00:00",
          "2014-05-11T00:00:00",
          "2014-05-12T00:00:00",
          "2014-05-13T00:00:00",
          "2014-05-14T00:00:00",
          "2014-05-15T00:00:00",
          "2014-05-16T00:00:00",
          "2014-05-17T00:00:00",
          "2014-05-18T00:00:00",
          "2014-05-19T00:00:00",
          "2014-05-20T00:00:00",
          "2014-05-21T00:00:00",
          "2014-05-22T00:00:00",
          "2014-05-23T00:00:00",
          "2014-05-24T00:00:00",
          "2014-05-25T00:00:00",
          "2014-05-26T00:00:00",
          "2014-05-27T00:00:00",
          "2014-05-28T00:00:00",
          "2014-05-29T00:00:00",
          "2014-05-30T00:00:00",
          "2014-05-31T00:00:00",
          "2014-06-01T00:00:00",
          "2014-06-02T00:00:00",
          "2014-06-03T00:00:00",
          "2014-06-04T00:00:00",
          "2014-06-05T00:00:00",
          "2014-06-06T00:00:00",
          "2014-06-07T00:00:00",
          "2014-06-08T00:00:00",
          "2014-06-09T00:00:00",
          "2014-06-10T00:00:00",
          "2014-06-11T00:00:00",
          "2014-06-12T00:00:00",
          "2014-06-13T00:00:00",
          "2014-06-14T00:00:00",
          "2014-06-15T00:00:00",
          "2014-06-16T00:00:00",
          "2014-06-17T00:00:00",
          "2014-06-18T00:00:00",
          "2014-06-19T00:00:00",
          "2014-06-20T00:00:00",
          "2014-06-21T00:00:00",
          "2014-06-22T00:00:00",
          "2014-06-23T00:00:00",
          "2014-06-24T00:00:00",
          "2014-06-25T00:00:00",
          "2014-06-26T00:00:00",
          "2014-06-27T00:00:00",
          "2014-06-28T00:00:00",
          "2014-06-29T00:00:00",
          "2014-06-30T00:00:00",
          "2014-07-01T00:00:00",
          "2014-07-02T00:00:00",
          "2014-07-03T00:00:00",
          "2014-07-04T00:00:00",
          "2014-07-05T00:00:00",
          "2014-07-06T00:00:00",
          "2014-07-07T00:00:00",
          "2014-07-08T00:00:00",
          "2014-07-09T00:00:00",
          "2014-07-10T00:00:00",
          "2014-07-11T00:00:00",
          "2014-07-12T00:00:00",
          "2014-07-13T00:00:00",
          "2014-07-14T00:00:00",
          "2014-07-15T00:00:00",
          "2014-07-16T00:00:00",
          "2014-07-17T00:00:00",
          "2014-07-18T00:00:00",
          "2014-07-19T00:00:00",
          "2014-07-20T00:00:00",
          "2014-07-21T00:00:00",
          "2014-07-22T00:00:00",
          "2014-07-23T00:00:00",
          "2014-07-24T00:00:00",
          "2014-07-25T00:00:00",
          "2014-07-26T00:00:00",
          "2014-07-27T00:00:00",
          "2014-07-28T00:00:00",
          "2014-07-29T00:00:00",
          "2014-07-30T00:00:00",
          "2014-07-31T00:00:00",
          "2014-08-01T00:00:00",
          "2014-08-02T00:00:00",
          "2014-08-03T00:00:00",
          "2014-08-04T00:00:00",
          "2014-08-05T00:00:00",
          "2014-08-06T00:00:00",
          "2014-08-07T00:00:00",
          "2014-08-08T00:00:00",
          "2014-08-09T00:00:00",
          "2014-08-10T00:00:00",
          "2014-08-11T00:00:00",
          "2014-08-12T00:00:00",
          "2014-08-13T00:00:00",
          "2014-08-14T00:00:00",
          "2014-08-15T00:00:00",
          "2014-08-16T00:00:00",
          "2014-08-17T00:00:00",
          "2014-08-18T00:00:00",
          "2014-08-19T00:00:00",
          "2014-08-20T00:00:00",
          "2014-08-21T00:00:00",
          "2014-08-22T00:00:00",
          "2014-08-23T00:00:00",
          "2014-08-24T00:00:00",
          "2014-08-25T00:00:00",
          "2014-08-26T00:00:00",
          "2014-08-27T00:00:00",
          "2014-08-28T00:00:00",
          "2014-08-29T00:00:00",
          "2014-08-30T00:00:00",
          "2014-08-31T00:00:00",
          "2014-09-01T00:00:00",
          "2014-09-02T00:00:00",
          "2014-09-03T00:00:00",
          "2014-09-04T00:00:00",
          "2014-09-05T00:00:00",
          "2014-09-06T00:00:00",
          "2014-09-07T00:00:00",
          "2014-09-08T00:00:00",
          "2014-09-09T00:00:00",
          "2014-09-10T00:00:00",
          "2014-09-11T00:00:00",
          "2014-09-12T00:00:00",
          "2014-09-13T00:00:00",
          "2014-09-14T00:00:00",
          "2014-09-15T00:00:00",
          "2014-09-16T00:00:00",
          "2014-09-17T00:00:00",
          "2014-09-18T00:00:00",
          "2014-09-19T00:00:00",
          "2014-09-20T00:00:00",
          "2014-09-21T00:00:00",
          "2014-09-22T00:00:00",
          "2014-09-23T00:00:00",
          "2014-09-24T00:00:00",
          "2014-09-25T00:00:00",
          "2014-09-26T00:00:00",
          "2014-09-27T00:00:00",
          "2014-09-28T00:00:00",
          "2014-09-29T00:00:00",
          "2014-09-30T00:00:00",
          "2014-10-01T00:00:00",
          "2014-10-02T00:00:00",
          "2014-10-03T00:00:00",
          "2014-10-04T00:00:00",
          "2014-10-05T00:00:00",
          "2014-10-06T00:00:00",
          "2014-10-07T00:00:00",
          "2014-10-08T00:00:00",
          "2014-10-09T00:00:00",
          "2014-10-10T00:00:00",
          "2014-10-11T00:00:00",
          "2014-10-12T00:00:00",
          "2014-10-13T00:00:00",
          "2014-10-14T00:00:00",
          "2014-10-15T00:00:00",
          "2014-10-16T00:00:00",
          "2014-10-17T00:00:00",
          "2014-10-18T00:00:00",
          "2014-10-19T00:00:00",
          "2014-10-20T00:00:00",
          "2014-10-21T00:00:00",
          "2014-10-22T00:00:00",
          "2014-10-23T00:00:00",
          "2014-10-24T00:00:00",
          "2014-10-25T00:00:00",
          "2014-10-26T00:00:00",
          "2014-10-27T00:00:00",
          "2014-10-28T00:00:00",
          "2014-10-29T00:00:00",
          "2014-10-30T00:00:00",
          "2014-10-31T00:00:00",
          "2014-11-01T00:00:00",
          "2014-11-02T00:00:00",
          "2014-11-03T00:00:00",
          "2014-11-04T00:00:00",
          "2014-11-05T00:00:00",
          "2014-11-06T00:00:00",
          "2014-11-07T00:00:00",
          "2014-11-08T00:00:00",
          "2014-11-09T00:00:00",
          "2014-11-10T00:00:00",
          "2014-11-11T00:00:00",
          "2014-11-12T00:00:00",
          "2014-11-13T00:00:00",
          "2014-11-14T00:00:00",
          "2014-11-15T00:00:00",
          "2014-11-16T00:00:00",
          "2014-11-17T00:00:00",
          "2014-11-18T00:00:00",
          "2014-11-19T00:00:00",
          "2014-11-20T00:00:00",
          "2014-11-21T00:00:00",
          "2014-11-22T00:00:00",
          "2014-11-23T00:00:00",
          "2014-11-24T00:00:00",
          "2014-11-25T00:00:00",
          "2014-11-26T00:00:00",
          "2014-11-27T00:00:00",
          "2014-11-28T00:00:00",
          "2014-11-29T00:00:00",
          "2014-11-30T00:00:00",
          "2014-12-01T00:00:00",
          "2014-12-02T00:00:00",
          "2014-12-03T00:00:00",
          "2014-12-04T00:00:00",
          "2014-12-05T00:00:00",
          "2014-12-06T00:00:00",
          "2014-12-07T00:00:00",
          "2014-12-08T00:00:00",
          "2014-12-09T00:00:00",
          "2014-12-10T00:00:00",
          "2014-12-11T00:00:00",
          "2014-12-12T00:00:00",
          "2014-12-13T00:00:00",
          "2014-12-14T00:00:00",
          "2014-12-15T00:00:00",
          "2014-12-16T00:00:00",
          "2014-12-17T00:00:00",
          "2014-12-18T00:00:00",
          "2014-12-19T00:00:00",
          "2014-12-20T00:00:00",
          "2014-12-21T00:00:00",
          "2014-12-22T00:00:00",
          "2014-12-23T00:00:00",
          "2014-12-24T00:00:00",
          "2014-12-25T00:00:00",
          "2014-12-26T00:00:00",
          "2014-12-27T00:00:00",
          "2014-12-28T00:00:00",
          "2014-12-29T00:00:00",
          "2014-12-30T00:00:00",
          "2014-12-31T00:00:00",
          "2015-01-01T00:00:00",
          "2015-01-02T00:00:00",
          "2015-01-03T00:00:00",
          "2015-01-04T00:00:00",
          "2015-01-05T00:00:00",
          "2015-01-06T00:00:00",
          "2015-01-07T00:00:00",
          "2015-01-08T00:00:00",
          "2015-01-09T00:00:00",
          "2015-01-10T00:00:00",
          "2015-01-11T00:00:00",
          "2015-01-12T00:00:00",
          "2015-01-13T00:00:00",
          "2015-01-14T00:00:00",
          "2015-01-15T00:00:00",
          "2015-01-16T00:00:00",
          "2015-01-17T00:00:00",
          "2015-01-18T00:00:00",
          "2015-01-19T00:00:00",
          "2015-01-20T00:00:00",
          "2015-01-21T00:00:00",
          "2015-01-22T00:00:00",
          "2015-01-23T00:00:00",
          "2015-01-24T00:00:00",
          "2015-01-25T00:00:00",
          "2015-01-26T00:00:00",
          "2015-01-27T00:00:00",
          "2015-01-28T00:00:00",
          "2015-01-29T00:00:00",
          "2015-01-30T00:00:00",
          "2015-01-31T00:00:00"
         ],
         "xaxis": "x",
         "y": [
          0.8458703945087173,
          0.8537801200661205,
          0.8566860821695086,
          0.8656031500421782,
          0.8770221812670109,
          0.8829967593909581,
          0.8851723176597185,
          0.8861498170859693,
          0.8914358587506516,
          0.8961874423572406,
          0.9006765439823037,
          0.9006205400225595,
          0.9035562723680469,
          0.9074032536885996,
          0.9164914074355793,
          0.9154117351763331,
          0.9181897361202708,
          0.9188052871159779,
          0.9185100335310759,
          0.9184201824856798,
          0.9237199225954128,
          0.9279668809254555,
          0.9277774028350618,
          0.9274393562550408,
          0.9288259675268383,
          0.9289085417331969,
          0.928749456801382,
          0.9281859232644333,
          0.9289210713915667,
          0.9279131179959891,
          0.9268191171032365,
          0.92315345435654,
          0.9205881642863605,
          0.9204167928099508,
          0.9179920380294877,
          0.9150204329897588,
          0.9092139157162846,
          0.903260874903824,
          0.8994547785049924,
          0.8949456667410204,
          0.8905782888285486,
          0.8858513848353006,
          0.8846701412977986,
          0.8846213041043112,
          0.8842342995023397,
          0.8828627692491131,
          0.8869036591493988,
          0.8868557067753426,
          0.8891993163296518,
          0.8893340894917771,
          0.887903911217183,
          0.8880282268193892,
          0.8892017417894407,
          0.888800758130612,
          0.8832996885298402,
          0.8769395037559957,
          0.8751375902894019,
          0.8643315651443555,
          0.8602659365952199,
          0.8598621926083817,
          0.8576093718338468,
          0.858482246200284,
          0.8606814974988811,
          0.8572993822663056,
          0.8622192195775256,
          0.8677400491658033,
          0.8711362280202843,
          0.8742806257761842,
          0.87958888512391,
          0.8840497083069517,
          0.8866170506207692,
          0.8869365309869253,
          0.8868553864725773,
          0.8900398113117772,
          0.8904557781562046,
          0.8916972389290612,
          0.8928870348248985,
          0.8900158653372583,
          0.8916634705603933,
          0.8920738451292667,
          0.8917963312202558,
          0.8925275392048571,
          0.8899300784087488,
          0.8863308082618497,
          0.8880081651011966,
          0.8913128451557412,
          0.8944681014274181,
          0.8915070474469092,
          0.895981367071797,
          0.8938471394152254,
          0.89431328718045,
          0.8931999254542324,
          0.8867937546567847,
          0.8774527128727716,
          0.8726201532077358,
          0.8660844548613914,
          0.8543522891814819,
          0.8438965673818972,
          0.8333349530697544,
          0.8180940401878467,
          0.8036193240799996,
          0.7903553314627485,
          0.7840902367988858,
          0.7720685970801534,
          0.763623120555451,
          0.755170065720416,
          0.7450712746644905,
          0.7329241992592602,
          0.7214830140211087,
          0.7136074942416349,
          0.7042231619717073,
          0.6975876276931672,
          0.6899973330379146,
          0.681329393594623,
          0.6771231345713431,
          0.6775867496774497,
          0.6703259688392147,
          0.6590298926349064,
          0.655766357375098,
          0.6513925271263716,
          0.6478491417085838,
          0.6611023886608365,
          0.6699671953138536,
          0.6819979277106868,
          0.6919623277341849,
          0.698328827924602,
          0.7043495003556933,
          0.709210033319241,
          0.7147877397588511,
          0.7203832157739679,
          0.7261835879345195,
          0.7319194277814539,
          0.7375504717194231,
          0.7415971965881938,
          0.7464243660953056,
          0.7524322237812217,
          0.7570881987225037,
          0.7628796430145739,
          0.7683392258429774,
          0.7731120515753632,
          0.777073550710451,
          0.7834921490748337,
          0.7894069171548058,
          0.7935940057748491,
          0.7965718847562636,
          0.7989058016215986,
          0.8038046700136376,
          0.8091260030794931,
          0.8172499166998579,
          0.8215917976080259,
          0.8247390713437568,
          0.8308733610530494,
          0.835576363855513,
          0.8385909120368749,
          0.8398608188737895,
          0.8403525358601667,
          0.842185218011785,
          0.8427278095646271,
          0.8432500395294693,
          0.8427568760878894,
          0.8408431830354994,
          0.8413223108860277,
          0.8400897186284917,
          0.8387909460207976,
          0.8387050046728981,
          0.8386765743127838,
          0.8374747760956763,
          0.8384743057781562,
          0.8375103609319657,
          0.8378272363215495,
          0.8391069674634445,
          0.8391311859453189,
          0.8390819934716649,
          0.8373492219756206,
          0.834444007631757,
          0.8318359073369017,
          0.8286032967189219,
          0.8255121211933193,
          0.8234196010998684,
          0.8206848008221399,
          0.8215558741402182,
          0.8208389485937315,
          0.820332248236772,
          0.821465689948891,
          0.823661432661339,
          0.8257963918209016,
          0.8290954056236967,
          0.8298733168915835,
          0.8319838049865692,
          0.8337681270006144,
          0.8334719663693115,
          0.8323839814222642,
          0.8334436293099595,
          0.834253861613037,
          0.8345079380877956,
          0.8348097616879471,
          0.8363932870708392,
          0.8374817608206991,
          0.8400930296876822,
          0.8435082917912577,
          0.8465238040246481,
          0.8503137640119821,
          0.8530143718599292,
          0.8566179321433063,
          0.8604062896461219,
          0.8647789493916451,
          0.8666348980338923,
          0.8708042024040301,
          0.8759049248689315,
          0.8809673991960087,
          0.886744424053904,
          0.8915470165110423,
          0.893673675600111,
          0.895301573132147,
          0.8971336568570651,
          0.8991663208313033,
          0.9023048934071308,
          0.9038890880615075,
          0.9060447802149662,
          0.9087705979700844,
          0.9112718681351523,
          0.9147420199892122,
          0.9180145736179698,
          0.9207323979049529,
          0.9229478745745341,
          0.9252419328121858,
          0.9265825929759214,
          0.927287080472954,
          0.925421752401197,
          0.9238920338518612,
          0.9228091884762744,
          0.9209997484461258,
          0.9190416338938703,
          0.9180138861485774,
          0.9177500410712088,
          0.9161079536205291,
          0.9149054105282404,
          0.914441308187907,
          0.9134535455567065,
          0.912551131794097,
          0.9101307875973325,
          0.9085898318565853,
          0.9082586928793585,
          0.907335559477808,
          0.9067154606487702,
          0.9050497203262348,
          0.9012185291799801,
          0.8922382823079549,
          0.8805189327000409,
          0.8688308975765738,
          0.8580428897962402,
          0.8479821985042294,
          0.8403383196507584,
          0.8304397163539642,
          0.8226071589376402,
          0.8143490456522635,
          0.8057431772305469,
          0.7971735949356261,
          0.7891587043796672,
          0.7851004548090443,
          0.7789390498354007,
          0.7727583883824696,
          0.7667025725257105,
          0.7603441931599497,
          0.7550548707096678,
          0.749742638725352,
          0.7440174058288226,
          0.7395047111779971,
          0.7345513744256377,
          0.7323851374431866,
          0.7299487565987504,
          0.7309346882899285,
          0.7321669139773986,
          0.7360469347900652,
          0.7447679975836069,
          0.7474255020527012,
          0.7561603071341768,
          0.750842498646459,
          0.7553890711259674,
          0.768970450090176,
          0.7813973641359444,
          0.7896376639569219,
          0.795208110792655,
          0.7985202805099196,
          0.8004757207977858,
          0.7992133409393646,
          0.7976340706723647,
          0.7960398696623752,
          0.7930139412232498,
          0.7912588191749012,
          0.7917092539088488,
          0.7913528801928593,
          0.7947592095096319,
          0.7943685255617134,
          0.7935834744853995,
          0.7897651092437212,
          0.7856780452182281,
          0.7815440782139872,
          0.7783906704579371,
          0.7770235281153446,
          0.7702483715075666,
          0.7654529579259572,
          0.7599551556968328,
          0.7554053604733872,
          0.7518079944341042,
          0.7487892609805625,
          0.7483958968692097,
          0.7459394311319988,
          0.7465157443025646,
          0.7461963606210297,
          0.7457606962532951,
          0.7462912216860528,
          0.7474194801748474,
          0.7517327780157012,
          0.7518103743188012,
          0.7540542297236412,
          0.7598540595284564,
          0.7635079978290162,
          0.7668022036692609,
          0.7719722870823587,
          0.7804091557151913,
          0.7878564552103254,
          0.7980809849406456,
          0.8110790818160697,
          0.8200964813523631,
          0.8275318933435344,
          0.833911754216832,
          0.8401028059099842,
          0.8443147200536887,
          0.8467812821370543,
          0.8501544032768544,
          0.8508496292313246,
          0.8513828630838544,
          0.8524502521454838,
          0.8524423530507813,
          0.8517178063083006
         ],
         "yaxis": "y"
        },
        {
         "connectgaps": false,
         "fill": "tonexty",
         "fillcolor": "rgba(0.9372549019607843, 0.3333333333333333, 0.23137254901960785, 0.2)",
         "hoverinfo": "skip",
         "legendgroup": "PEDs",
         "line": {
          "width": 0
         },
         "name": "PEDs",
         "showlegend": false,
         "type": "scatter",
         "x": [
          "2014-03-02T00:00:00",
          "2014-03-03T00:00:00",
          "2014-03-04T00:00:00",
          "2014-03-05T00:00:00",
          "2014-03-06T00:00:00",
          "2014-03-07T00:00:00",
          "2014-03-08T00:00:00",
          "2014-03-09T00:00:00",
          "2014-03-10T00:00:00",
          "2014-03-11T00:00:00",
          "2014-03-12T00:00:00",
          "2014-03-13T00:00:00",
          "2014-03-14T00:00:00",
          "2014-03-15T00:00:00",
          "2014-03-16T00:00:00",
          "2014-03-17T00:00:00",
          "2014-03-18T00:00:00",
          "2014-03-19T00:00:00",
          "2014-03-20T00:00:00",
          "2014-03-21T00:00:00",
          "2014-03-22T00:00:00",
          "2014-03-23T00:00:00",
          "2014-03-24T00:00:00",
          "2014-03-25T00:00:00",
          "2014-03-26T00:00:00",
          "2014-03-27T00:00:00",
          "2014-03-28T00:00:00",
          "2014-03-29T00:00:00",
          "2014-03-30T00:00:00",
          "2014-03-31T00:00:00",
          "2014-04-01T00:00:00",
          "2014-04-02T00:00:00",
          "2014-04-03T00:00:00",
          "2014-04-04T00:00:00",
          "2014-04-05T00:00:00",
          "2014-04-06T00:00:00",
          "2014-04-07T00:00:00",
          "2014-04-08T00:00:00",
          "2014-04-09T00:00:00",
          "2014-04-10T00:00:00",
          "2014-04-11T00:00:00",
          "2014-04-12T00:00:00",
          "2014-04-13T00:00:00",
          "2014-04-14T00:00:00",
          "2014-04-15T00:00:00",
          "2014-04-16T00:00:00",
          "2014-04-17T00:00:00",
          "2014-04-18T00:00:00",
          "2014-04-19T00:00:00",
          "2014-04-20T00:00:00",
          "2014-04-21T00:00:00",
          "2014-04-22T00:00:00",
          "2014-04-23T00:00:00",
          "2014-04-24T00:00:00",
          "2014-04-25T00:00:00",
          "2014-04-26T00:00:00",
          "2014-04-27T00:00:00",
          "2014-04-28T00:00:00",
          "2014-04-29T00:00:00",
          "2014-04-30T00:00:00",
          "2014-05-01T00:00:00",
          "2014-05-02T00:00:00",
          "2014-05-03T00:00:00",
          "2014-05-04T00:00:00",
          "2014-05-05T00:00:00",
          "2014-05-06T00:00:00",
          "2014-05-07T00:00:00",
          "2014-05-08T00:00:00",
          "2014-05-09T00:00:00",
          "2014-05-10T00:00:00",
          "2014-05-11T00:00:00",
          "2014-05-12T00:00:00",
          "2014-05-13T00:00:00",
          "2014-05-14T00:00:00",
          "2014-05-15T00:00:00",
          "2014-05-16T00:00:00",
          "2014-05-17T00:00:00",
          "2014-05-18T00:00:00",
          "2014-05-19T00:00:00",
          "2014-05-20T00:00:00",
          "2014-05-21T00:00:00",
          "2014-05-22T00:00:00",
          "2014-05-23T00:00:00",
          "2014-05-24T00:00:00",
          "2014-05-25T00:00:00",
          "2014-05-26T00:00:00",
          "2014-05-27T00:00:00",
          "2014-05-28T00:00:00",
          "2014-05-29T00:00:00",
          "2014-05-30T00:00:00",
          "2014-05-31T00:00:00",
          "2014-06-01T00:00:00",
          "2014-06-02T00:00:00",
          "2014-06-03T00:00:00",
          "2014-06-04T00:00:00",
          "2014-06-05T00:00:00",
          "2014-06-06T00:00:00",
          "2014-06-07T00:00:00",
          "2014-06-08T00:00:00",
          "2014-06-09T00:00:00",
          "2014-06-10T00:00:00",
          "2014-06-11T00:00:00",
          "2014-06-12T00:00:00",
          "2014-06-13T00:00:00",
          "2014-06-14T00:00:00",
          "2014-06-15T00:00:00",
          "2014-06-16T00:00:00",
          "2014-06-17T00:00:00",
          "2014-06-18T00:00:00",
          "2014-06-19T00:00:00",
          "2014-06-20T00:00:00",
          "2014-06-21T00:00:00",
          "2014-06-22T00:00:00",
          "2014-06-23T00:00:00",
          "2014-06-24T00:00:00",
          "2014-06-25T00:00:00",
          "2014-06-26T00:00:00",
          "2014-06-27T00:00:00",
          "2014-06-28T00:00:00",
          "2014-06-29T00:00:00",
          "2014-06-30T00:00:00",
          "2014-07-01T00:00:00",
          "2014-07-02T00:00:00",
          "2014-07-03T00:00:00",
          "2014-07-04T00:00:00",
          "2014-07-05T00:00:00",
          "2014-07-06T00:00:00",
          "2014-07-07T00:00:00",
          "2014-07-08T00:00:00",
          "2014-07-09T00:00:00",
          "2014-07-10T00:00:00",
          "2014-07-11T00:00:00",
          "2014-07-12T00:00:00",
          "2014-07-13T00:00:00",
          "2014-07-14T00:00:00",
          "2014-07-15T00:00:00",
          "2014-07-16T00:00:00",
          "2014-07-17T00:00:00",
          "2014-07-18T00:00:00",
          "2014-07-19T00:00:00",
          "2014-07-20T00:00:00",
          "2014-07-21T00:00:00",
          "2014-07-22T00:00:00",
          "2014-07-23T00:00:00",
          "2014-07-24T00:00:00",
          "2014-07-25T00:00:00",
          "2014-07-26T00:00:00",
          "2014-07-27T00:00:00",
          "2014-07-28T00:00:00",
          "2014-07-29T00:00:00",
          "2014-07-30T00:00:00",
          "2014-07-31T00:00:00",
          "2014-08-01T00:00:00",
          "2014-08-02T00:00:00",
          "2014-08-03T00:00:00",
          "2014-08-04T00:00:00",
          "2014-08-05T00:00:00",
          "2014-08-06T00:00:00",
          "2014-08-07T00:00:00",
          "2014-08-08T00:00:00",
          "2014-08-09T00:00:00",
          "2014-08-10T00:00:00",
          "2014-08-11T00:00:00",
          "2014-08-12T00:00:00",
          "2014-08-13T00:00:00",
          "2014-08-14T00:00:00",
          "2014-08-15T00:00:00",
          "2014-08-16T00:00:00",
          "2014-08-17T00:00:00",
          "2014-08-18T00:00:00",
          "2014-08-19T00:00:00",
          "2014-08-20T00:00:00",
          "2014-08-21T00:00:00",
          "2014-08-22T00:00:00",
          "2014-08-23T00:00:00",
          "2014-08-24T00:00:00",
          "2014-08-25T00:00:00",
          "2014-08-26T00:00:00",
          "2014-08-27T00:00:00",
          "2014-08-28T00:00:00",
          "2014-08-29T00:00:00",
          "2014-08-30T00:00:00",
          "2014-08-31T00:00:00",
          "2014-09-01T00:00:00",
          "2014-09-02T00:00:00",
          "2014-09-03T00:00:00",
          "2014-09-04T00:00:00",
          "2014-09-05T00:00:00",
          "2014-09-06T00:00:00",
          "2014-09-07T00:00:00",
          "2014-09-08T00:00:00",
          "2014-09-09T00:00:00",
          "2014-09-10T00:00:00",
          "2014-09-11T00:00:00",
          "2014-09-12T00:00:00",
          "2014-09-13T00:00:00",
          "2014-09-14T00:00:00",
          "2014-09-15T00:00:00",
          "2014-09-16T00:00:00",
          "2014-09-17T00:00:00",
          "2014-09-18T00:00:00",
          "2014-09-19T00:00:00",
          "2014-09-20T00:00:00",
          "2014-09-21T00:00:00",
          "2014-09-22T00:00:00",
          "2014-09-23T00:00:00",
          "2014-09-24T00:00:00",
          "2014-09-25T00:00:00",
          "2014-09-26T00:00:00",
          "2014-09-27T00:00:00",
          "2014-09-28T00:00:00",
          "2014-09-29T00:00:00",
          "2014-09-30T00:00:00",
          "2014-10-01T00:00:00",
          "2014-10-02T00:00:00",
          "2014-10-03T00:00:00",
          "2014-10-04T00:00:00",
          "2014-10-05T00:00:00",
          "2014-10-06T00:00:00",
          "2014-10-07T00:00:00",
          "2014-10-08T00:00:00",
          "2014-10-09T00:00:00",
          "2014-10-10T00:00:00",
          "2014-10-11T00:00:00",
          "2014-10-12T00:00:00",
          "2014-10-13T00:00:00",
          "2014-10-14T00:00:00",
          "2014-10-15T00:00:00",
          "2014-10-16T00:00:00",
          "2014-10-17T00:00:00",
          "2014-10-18T00:00:00",
          "2014-10-19T00:00:00",
          "2014-10-20T00:00:00",
          "2014-10-21T00:00:00",
          "2014-10-22T00:00:00",
          "2014-10-23T00:00:00",
          "2014-10-24T00:00:00",
          "2014-10-25T00:00:00",
          "2014-10-26T00:00:00",
          "2014-10-27T00:00:00",
          "2014-10-28T00:00:00",
          "2014-10-29T00:00:00",
          "2014-10-30T00:00:00",
          "2014-10-31T00:00:00",
          "2014-11-01T00:00:00",
          "2014-11-02T00:00:00",
          "2014-11-03T00:00:00",
          "2014-11-04T00:00:00",
          "2014-11-05T00:00:00",
          "2014-11-06T00:00:00",
          "2014-11-07T00:00:00",
          "2014-11-08T00:00:00",
          "2014-11-09T00:00:00",
          "2014-11-10T00:00:00",
          "2014-11-11T00:00:00",
          "2014-11-12T00:00:00",
          "2014-11-13T00:00:00",
          "2014-11-14T00:00:00",
          "2014-11-15T00:00:00",
          "2014-11-16T00:00:00",
          "2014-11-17T00:00:00",
          "2014-11-18T00:00:00",
          "2014-11-19T00:00:00",
          "2014-11-20T00:00:00",
          "2014-11-21T00:00:00",
          "2014-11-22T00:00:00",
          "2014-11-23T00:00:00",
          "2014-11-24T00:00:00",
          "2014-11-25T00:00:00",
          "2014-11-26T00:00:00",
          "2014-11-27T00:00:00",
          "2014-11-28T00:00:00",
          "2014-11-29T00:00:00",
          "2014-11-30T00:00:00",
          "2014-12-01T00:00:00",
          "2014-12-02T00:00:00",
          "2014-12-03T00:00:00",
          "2014-12-04T00:00:00",
          "2014-12-05T00:00:00",
          "2014-12-06T00:00:00",
          "2014-12-07T00:00:00",
          "2014-12-08T00:00:00",
          "2014-12-09T00:00:00",
          "2014-12-10T00:00:00",
          "2014-12-11T00:00:00",
          "2014-12-12T00:00:00",
          "2014-12-13T00:00:00",
          "2014-12-14T00:00:00",
          "2014-12-15T00:00:00",
          "2014-12-16T00:00:00",
          "2014-12-17T00:00:00",
          "2014-12-18T00:00:00",
          "2014-12-19T00:00:00",
          "2014-12-20T00:00:00",
          "2014-12-21T00:00:00",
          "2014-12-22T00:00:00",
          "2014-12-23T00:00:00",
          "2014-12-24T00:00:00",
          "2014-12-25T00:00:00",
          "2014-12-26T00:00:00",
          "2014-12-27T00:00:00",
          "2014-12-28T00:00:00",
          "2014-12-29T00:00:00",
          "2014-12-30T00:00:00",
          "2014-12-31T00:00:00",
          "2015-01-01T00:00:00",
          "2015-01-02T00:00:00",
          "2015-01-03T00:00:00",
          "2015-01-04T00:00:00",
          "2015-01-05T00:00:00",
          "2015-01-06T00:00:00",
          "2015-01-07T00:00:00",
          "2015-01-08T00:00:00",
          "2015-01-09T00:00:00",
          "2015-01-10T00:00:00",
          "2015-01-11T00:00:00",
          "2015-01-12T00:00:00",
          "2015-01-13T00:00:00",
          "2015-01-14T00:00:00",
          "2015-01-15T00:00:00",
          "2015-01-16T00:00:00",
          "2015-01-17T00:00:00",
          "2015-01-18T00:00:00",
          "2015-01-19T00:00:00",
          "2015-01-20T00:00:00",
          "2015-01-21T00:00:00",
          "2015-01-22T00:00:00",
          "2015-01-23T00:00:00",
          "2015-01-24T00:00:00",
          "2015-01-25T00:00:00",
          "2015-01-26T00:00:00",
          "2015-01-27T00:00:00",
          "2015-01-28T00:00:00",
          "2015-01-29T00:00:00",
          "2015-01-30T00:00:00",
          "2015-01-31T00:00:00"
         ],
         "xaxis": "x",
         "y": [
          0.8016198953434487,
          0.8154243394670083,
          0.8202562312923977,
          0.827507917220907,
          0.8329017590217278,
          0.8415852484739605,
          0.8430224601376902,
          0.847168315794119,
          0.8506041331924448,
          0.8536921771525342,
          0.8566770601053871,
          0.8587415307060832,
          0.8602489409988943,
          0.8641254383389605,
          0.8733675956140279,
          0.874055030925021,
          0.8787598916783222,
          0.8809396335261842,
          0.8808006140641348,
          0.8830443519294466,
          0.8906973409187009,
          0.896291676352785,
          0.8994242523714008,
          0.9007387502146048,
          0.9025817619488131,
          0.9028192217008628,
          0.9036842757002559,
          0.9051455911828356,
          0.9049854105525884,
          0.9036701920072541,
          0.9033105712389906,
          0.8987460728779312,
          0.8972610017845452,
          0.8968939623166977,
          0.8918835100013913,
          0.8887649320726808,
          0.8844610262699468,
          0.8769913275313457,
          0.8724001073264307,
          0.8667182799619081,
          0.8626629636130188,
          0.8571917968249673,
          0.8557536215290295,
          0.8548185516303419,
          0.8551033942351915,
          0.8541641562474934,
          0.8592981247988988,
          0.859713629176017,
          0.8601733888652849,
          0.8624468406056164,
          0.8606016678377082,
          0.8627679669329069,
          0.8639233528909456,
          0.8621874219845246,
          0.855875129062608,
          0.8487918683165724,
          0.8449840010867178,
          0.8303479185515017,
          0.8193965845195094,
          0.8159177513338586,
          0.8126792861327052,
          0.8110254339909138,
          0.8136107411516222,
          0.8091435848176313,
          0.8122083723765935,
          0.8193092442611895,
          0.8260164101145776,
          0.8278405813341272,
          0.8348545447499568,
          0.8400909191748623,
          0.8435683294396022,
          0.8460344628998666,
          0.8458288361650675,
          0.8476508575175924,
          0.8480943934726735,
          0.844604276850377,
          0.8421815357703609,
          0.8420829458408786,
          0.8427460352057874,
          0.8416871421380273,
          0.8438379769914112,
          0.8417079932101599,
          0.8422628475330783,
          0.8415367753272036,
          0.8438464208088345,
          0.849354174014565,
          0.8509814141166067,
          0.8474754203861155,
          0.8504243610480594,
          0.850149571432449,
          0.8471845946688533,
          0.8475501851586787,
          0.8409414422749943,
          0.8314012397016829,
          0.8264205747793381,
          0.8119283194157945,
          0.7969380301606002,
          0.7852218881991803,
          0.7751709887202991,
          0.7499779972111856,
          0.7323997240288584,
          0.7232187311904704,
          0.7148805607014429,
          0.7026812617082411,
          0.6925438553494108,
          0.6782621528164556,
          0.6638893840792607,
          0.6510894687858452,
          0.642775456183283,
          0.6319318778872045,
          0.6235446949643616,
          0.6118136705248205,
          0.5979122465866817,
          0.5959247272849116,
          0.5884809292412335,
          0.5807216003788366,
          0.5750262775210429,
          0.5687735332191481,
          0.5654026857491149,
          0.560186208178805,
          0.5553064743549536,
          0.5840510762212044,
          0.603650911696896,
          0.6228628604031337,
          0.6397242931339712,
          0.6525394352086122,
          0.6609771931255413,
          0.6717918775528537,
          0.6813837572813393,
          0.6895449833206961,
          0.6971982209991799,
          0.7055952300911216,
          0.7128142528735532,
          0.7170531657048519,
          0.7233048284169141,
          0.7301737246653264,
          0.7352754220006057,
          0.7414822617340708,
          0.7480554538522725,
          0.7532159691319511,
          0.7574268911319628,
          0.76382528851563,
          0.7692189579806904,
          0.7750134691418251,
          0.7795150629011347,
          0.7824796651383066,
          0.7873448767427781,
          0.7922921097435369,
          0.7999347820730524,
          0.8048021104367441,
          0.8086357056119828,
          0.8146621533699052,
          0.8184465908466111,
          0.8204001576758283,
          0.8220273047469658,
          0.8227183451564302,
          0.8251817753240125,
          0.8265125325159874,
          0.8275686756419705,
          0.8271664270834382,
          0.82461521443901,
          0.8244978539401056,
          0.8238504658609289,
          0.8233675712476667,
          0.8236149681227936,
          0.8234347245841136,
          0.82148353403106,
          0.821929875537054,
          0.8220344836542048,
          0.8227352693690461,
          0.8240964635011927,
          0.8241024356155432,
          0.8239761704519719,
          0.822022000510694,
          0.8185966122416808,
          0.816594520858316,
          0.8133358891804779,
          0.8102486123106338,
          0.8086622213335215,
          0.8064180632109059,
          0.8049215102088043,
          0.8041305205392844,
          0.8024624793036411,
          0.8046436740732061,
          0.8063895410854185,
          0.8086551830321965,
          0.8128012684239327,
          0.8142642619618925,
          0.8162934140142447,
          0.817309408648495,
          0.8166313016274034,
          0.8144145432521301,
          0.8156260887700413,
          0.8153412172019409,
          0.8166880707603703,
          0.8171535571210379,
          0.817258507066569,
          0.8200912095594547,
          0.8236384527328129,
          0.8276907050785782,
          0.8307413388480573,
          0.8348004125036865,
          0.8373360971457948,
          0.8415308960768438,
          0.8455905741412862,
          0.8492701726537601,
          0.8518840145936435,
          0.8557314998381387,
          0.8607002259824407,
          0.8660778024043919,
          0.8723943804914195,
          0.8768844741687067,
          0.8784907934346099,
          0.8803540413948429,
          0.8830988031631424,
          0.8860781460516639,
          0.8892183536571161,
          0.8907729100420871,
          0.8932243699330409,
          0.8957721397197761,
          0.8987366097347064,
          0.9024409427536402,
          0.9052744487795997,
          0.9082108232738055,
          0.911881637180314,
          0.9145181793223216,
          0.9159112294612627,
          0.9165629187971347,
          0.915180947039145,
          0.9137023623412024,
          0.9122107569313782,
          0.9113882482371035,
          0.9091550943004546,
          0.9075647732488902,
          0.9061787676425482,
          0.9040453810328678,
          0.902905785732028,
          0.9017306455836588,
          0.9005012146308826,
          0.8997052553154107,
          0.8974437952234385,
          0.8962260952820704,
          0.8948289716995143,
          0.8934231735205385,
          0.8929727180432184,
          0.8915379138259258,
          0.886523971614358,
          0.8769627685913439,
          0.864723715654568,
          0.8519476361997818,
          0.8410430429628113,
          0.8312063346772051,
          0.8234405339634372,
          0.814254166158263,
          0.8064061834890153,
          0.797014709792027,
          0.7898701134003238,
          0.7804706693661723,
          0.7719391965657079,
          0.7669618710318238,
          0.7604323082056131,
          0.7531913095639419,
          0.7476470690539619,
          0.7433704552945712,
          0.7364524337667367,
          0.7295703348948337,
          0.7235207073319111,
          0.7171014310614935,
          0.7122979684128068,
          0.708694607788165,
          0.7057229198899645,
          0.704783327550523,
          0.7021748981624382,
          0.6986929073264269,
          0.6999700249042373,
          0.6941877928157872,
          0.6993313137993983,
          0.6940545048207223,
          0.6953611969129229,
          0.711135302319894,
          0.7238141782551964,
          0.7286642259591577,
          0.732183719123408,
          0.7358072367677221,
          0.7379330409940814,
          0.7384312842139253,
          0.7388863488815032,
          0.7375941544680885,
          0.7344005054809299,
          0.7345085625247144,
          0.7314587423186393,
          0.7264044399943334,
          0.7263283003378151,
          0.7239994907763352,
          0.7210552990294073,
          0.72296392666383,
          0.7230876712360268,
          0.7257985651698406,
          0.725238168849396,
          0.7261466546793669,
          0.7248522272670999,
          0.7260675029547886,
          0.7223920237282213,
          0.7201551721305485,
          0.7195858921615818,
          0.7180639971057357,
          0.7212482235610997,
          0.720487163329797,
          0.7220783855120525,
          0.7216007911215464,
          0.7218201283454683,
          0.7244544255846105,
          0.7249735618756312,
          0.7284574292933208,
          0.7306552231406775,
          0.7336690298699088,
          0.7402773561377561,
          0.7444445364386668,
          0.7479655417559996,
          0.7542349343005617,
          0.7626759718454978,
          0.7701389013135903,
          0.779314451472545,
          0.7925962397730407,
          0.8011338948874326,
          0.8084459184454369,
          0.8162723434029227,
          0.8211935999207703,
          0.8252214361511,
          0.8294194182086869,
          0.8321624425309838,
          0.8344688379548477,
          0.8352306108762386,
          0.835198460009859,
          0.8346302368844997,
          0.8330328160518677
         ],
         "yaxis": "y"
        }
       ],
       "layout": {
        "annotations": [
         {
          "font": {
           "size": 18
          },
          "showarrow": false,
          "text": "A",
          "textangle": 0,
          "x": "2014-06-01",
          "xref": "x",
          "y": 1.045,
          "yref": "paper"
         }
        ],
        "barmode": "overlay",
        "font": {
         "size": 13
        },
        "height": 600,
        "legend": {
         "borderwidth": 0.5,
         "orientation": "h",
         "x": 0.5,
         "xanchor": "center"
        },
        "plot_bgcolor": "#E8E8EA",
        "shapes": [
         {
          "line": {
           "color": "black",
           "dash": "dot"
          },
          "type": "line",
          "x0": "2014-06-01",
          "x1": "2014-06-01",
          "xref": "x",
          "y0": 0,
          "y1": 1,
          "yref": "paper"
         }
        ],
        "spikedistance": 1000,
        "template": {
         "data": {
          "bar": [
           {
            "error_x": {
             "color": "#2a3f5f"
            },
            "error_y": {
             "color": "#2a3f5f"
            },
            "marker": {
             "line": {
              "color": "#E5ECF6",
              "width": 0.5
             },
             "pattern": {
              "fillmode": "overlay",
              "size": 10,
              "solidity": 0.2
             }
            },
            "type": "bar"
           }
          ],
          "barpolar": [
           {
            "marker": {
             "line": {
              "color": "#E5ECF6",
              "width": 0.5
             },
             "pattern": {
              "fillmode": "overlay",
              "size": 10,
              "solidity": 0.2
             }
            },
            "type": "barpolar"
           }
          ],
          "carpet": [
           {
            "aaxis": {
             "endlinecolor": "#2a3f5f",
             "gridcolor": "white",
             "linecolor": "white",
             "minorgridcolor": "white",
             "startlinecolor": "#2a3f5f"
            },
            "baxis": {
             "endlinecolor": "#2a3f5f",
             "gridcolor": "white",
             "linecolor": "white",
             "minorgridcolor": "white",
             "startlinecolor": "#2a3f5f"
            },
            "type": "carpet"
           }
          ],
          "choropleth": [
           {
            "colorbar": {
             "outlinewidth": 0,
             "ticks": ""
            },
            "type": "choropleth"
           }
          ],
          "contour": [
           {
            "colorbar": {
             "outlinewidth": 0,
             "ticks": ""
            },
            "colorscale": [
             [
              0,
              "#0d0887"
             ],
             [
              0.1111111111111111,
              "#46039f"
             ],
             [
              0.2222222222222222,
              "#7201a8"
             ],
             [
              0.3333333333333333,
              "#9c179e"
             ],
             [
              0.4444444444444444,
              "#bd3786"
             ],
             [
              0.5555555555555556,
              "#d8576b"
             ],
             [
              0.6666666666666666,
              "#ed7953"
             ],
             [
              0.7777777777777778,
              "#fb9f3a"
             ],
             [
              0.8888888888888888,
              "#fdca26"
             ],
             [
              1,
              "#f0f921"
             ]
            ],
            "type": "contour"
           }
          ],
          "contourcarpet": [
           {
            "colorbar": {
             "outlinewidth": 0,
             "ticks": ""
            },
            "type": "contourcarpet"
           }
          ],
          "heatmap": [
           {
            "colorbar": {
             "outlinewidth": 0,
             "ticks": ""
            },
            "colorscale": [
             [
              0,
              "#0d0887"
             ],
             [
              0.1111111111111111,
              "#46039f"
             ],
             [
              0.2222222222222222,
              "#7201a8"
             ],
             [
              0.3333333333333333,
              "#9c179e"
             ],
             [
              0.4444444444444444,
              "#bd3786"
             ],
             [
              0.5555555555555556,
              "#d8576b"
             ],
             [
              0.6666666666666666,
              "#ed7953"
             ],
             [
              0.7777777777777778,
              "#fb9f3a"
             ],
             [
              0.8888888888888888,
              "#fdca26"
             ],
             [
              1,
              "#f0f921"
             ]
            ],
            "type": "heatmap"
           }
          ],
          "heatmapgl": [
           {
            "colorbar": {
             "outlinewidth": 0,
             "ticks": ""
            },
            "colorscale": [
             [
              0,
              "#0d0887"
             ],
             [
              0.1111111111111111,
              "#46039f"
             ],
             [
              0.2222222222222222,
              "#7201a8"
             ],
             [
              0.3333333333333333,
              "#9c179e"
             ],
             [
              0.4444444444444444,
              "#bd3786"
             ],
             [
              0.5555555555555556,
              "#d8576b"
             ],
             [
              0.6666666666666666,
              "#ed7953"
             ],
             [
              0.7777777777777778,
              "#fb9f3a"
             ],
             [
              0.8888888888888888,
              "#fdca26"
             ],
             [
              1,
              "#f0f921"
             ]
            ],
            "type": "heatmapgl"
           }
          ],
          "histogram": [
           {
            "marker": {
             "pattern": {
              "fillmode": "overlay",
              "size": 10,
              "solidity": 0.2
             }
            },
            "type": "histogram"
           }
          ],
          "histogram2d": [
           {
            "colorbar": {
             "outlinewidth": 0,
             "ticks": ""
            },
            "colorscale": [
             [
              0,
              "#0d0887"
             ],
             [
              0.1111111111111111,
              "#46039f"
             ],
             [
              0.2222222222222222,
              "#7201a8"
             ],
             [
              0.3333333333333333,
              "#9c179e"
             ],
             [
              0.4444444444444444,
              "#bd3786"
             ],
             [
              0.5555555555555556,
              "#d8576b"
             ],
             [
              0.6666666666666666,
              "#ed7953"
             ],
             [
              0.7777777777777778,
              "#fb9f3a"
             ],
             [
              0.8888888888888888,
              "#fdca26"
             ],
             [
              1,
              "#f0f921"
             ]
            ],
            "type": "histogram2d"
           }
          ],
          "histogram2dcontour": [
           {
            "colorbar": {
             "outlinewidth": 0,
             "ticks": ""
            },
            "colorscale": [
             [
              0,
              "#0d0887"
             ],
             [
              0.1111111111111111,
              "#46039f"
             ],
             [
              0.2222222222222222,
              "#7201a8"
             ],
             [
              0.3333333333333333,
              "#9c179e"
             ],
             [
              0.4444444444444444,
              "#bd3786"
             ],
             [
              0.5555555555555556,
              "#d8576b"
             ],
             [
              0.6666666666666666,
              "#ed7953"
             ],
             [
              0.7777777777777778,
              "#fb9f3a"
             ],
             [
              0.8888888888888888,
              "#fdca26"
             ],
             [
              1,
              "#f0f921"
             ]
            ],
            "type": "histogram2dcontour"
           }
          ],
          "mesh3d": [
           {
            "colorbar": {
             "outlinewidth": 0,
             "ticks": ""
            },
            "type": "mesh3d"
           }
          ],
          "parcoords": [
           {
            "line": {
             "colorbar": {
              "outlinewidth": 0,
              "ticks": ""
             }
            },
            "type": "parcoords"
           }
          ],
          "pie": [
           {
            "automargin": true,
            "type": "pie"
           }
          ],
          "scatter": [
           {
            "marker": {
             "colorbar": {
              "outlinewidth": 0,
              "ticks": ""
             }
            },
            "type": "scatter"
           }
          ],
          "scatter3d": [
           {
            "line": {
             "colorbar": {
              "outlinewidth": 0,
              "ticks": ""
             }
            },
            "marker": {
             "colorbar": {
              "outlinewidth": 0,
              "ticks": ""
             }
            },
            "type": "scatter3d"
           }
          ],
          "scattercarpet": [
           {
            "marker": {
             "colorbar": {
              "outlinewidth": 0,
              "ticks": ""
             }
            },
            "type": "scattercarpet"
           }
          ],
          "scattergeo": [
           {
            "marker": {
             "colorbar": {
              "outlinewidth": 0,
              "ticks": ""
             }
            },
            "type": "scattergeo"
           }
          ],
          "scattergl": [
           {
            "marker": {
             "colorbar": {
              "outlinewidth": 0,
              "ticks": ""
             }
            },
            "type": "scattergl"
           }
          ],
          "scattermapbox": [
           {
            "marker": {
             "colorbar": {
              "outlinewidth": 0,
              "ticks": ""
             }
            },
            "type": "scattermapbox"
           }
          ],
          "scatterpolar": [
           {
            "marker": {
             "colorbar": {
              "outlinewidth": 0,
              "ticks": ""
             }
            },
            "type": "scatterpolar"
           }
          ],
          "scatterpolargl": [
           {
            "marker": {
             "colorbar": {
              "outlinewidth": 0,
              "ticks": ""
             }
            },
            "type": "scatterpolargl"
           }
          ],
          "scatterternary": [
           {
            "marker": {
             "colorbar": {
              "outlinewidth": 0,
              "ticks": ""
             }
            },
            "type": "scatterternary"
           }
          ],
          "surface": [
           {
            "colorbar": {
             "outlinewidth": 0,
             "ticks": ""
            },
            "colorscale": [
             [
              0,
              "#0d0887"
             ],
             [
              0.1111111111111111,
              "#46039f"
             ],
             [
              0.2222222222222222,
              "#7201a8"
             ],
             [
              0.3333333333333333,
              "#9c179e"
             ],
             [
              0.4444444444444444,
              "#bd3786"
             ],
             [
              0.5555555555555556,
              "#d8576b"
             ],
             [
              0.6666666666666666,
              "#ed7953"
             ],
             [
              0.7777777777777778,
              "#fb9f3a"
             ],
             [
              0.8888888888888888,
              "#fdca26"
             ],
             [
              1,
              "#f0f921"
             ]
            ],
            "type": "surface"
           }
          ],
          "table": [
           {
            "cells": {
             "fill": {
              "color": "#EBF0F8"
             },
             "line": {
              "color": "white"
             }
            },
            "header": {
             "fill": {
              "color": "#C8D4E3"
             },
             "line": {
              "color": "white"
             }
            },
            "type": "table"
           }
          ]
         },
         "layout": {
          "annotationdefaults": {
           "arrowcolor": "#2a3f5f",
           "arrowhead": 0,
           "arrowwidth": 1
          },
          "autotypenumbers": "strict",
          "coloraxis": {
           "colorbar": {
            "outlinewidth": 0,
            "ticks": ""
           }
          },
          "colorscale": {
           "diverging": [
            [
             0,
             "#8e0152"
            ],
            [
             0.1,
             "#c51b7d"
            ],
            [
             0.2,
             "#de77ae"
            ],
            [
             0.3,
             "#f1b6da"
            ],
            [
             0.4,
             "#fde0ef"
            ],
            [
             0.5,
             "#f7f7f7"
            ],
            [
             0.6,
             "#e6f5d0"
            ],
            [
             0.7,
             "#b8e186"
            ],
            [
             0.8,
             "#7fbc41"
            ],
            [
             0.9,
             "#4d9221"
            ],
            [
             1,
             "#276419"
            ]
           ],
           "sequential": [
            [
             0,
             "#0d0887"
            ],
            [
             0.1111111111111111,
             "#46039f"
            ],
            [
             0.2222222222222222,
             "#7201a8"
            ],
            [
             0.3333333333333333,
             "#9c179e"
            ],
            [
             0.4444444444444444,
             "#bd3786"
            ],
            [
             0.5555555555555556,
             "#d8576b"
            ],
            [
             0.6666666666666666,
             "#ed7953"
            ],
            [
             0.7777777777777778,
             "#fb9f3a"
            ],
            [
             0.8888888888888888,
             "#fdca26"
            ],
            [
             1,
             "#f0f921"
            ]
           ],
           "sequentialminus": [
            [
             0,
             "#0d0887"
            ],
            [
             0.1111111111111111,
             "#46039f"
            ],
            [
             0.2222222222222222,
             "#7201a8"
            ],
            [
             0.3333333333333333,
             "#9c179e"
            ],
            [
             0.4444444444444444,
             "#bd3786"
            ],
            [
             0.5555555555555556,
             "#d8576b"
            ],
            [
             0.6666666666666666,
             "#ed7953"
            ],
            [
             0.7777777777777778,
             "#fb9f3a"
            ],
            [
             0.8888888888888888,
             "#fdca26"
            ],
            [
             1,
             "#f0f921"
            ]
           ]
          },
          "colorway": [
           "#636efa",
           "#EF553B",
           "#00cc96",
           "#ab63fa",
           "#FFA15A",
           "#19d3f3",
           "#FF6692",
           "#B6E880",
           "#FF97FF",
           "#FECB52"
          ],
          "font": {
           "color": "#2a3f5f"
          },
          "geo": {
           "bgcolor": "white",
           "lakecolor": "white",
           "landcolor": "#E5ECF6",
           "showlakes": true,
           "showland": true,
           "subunitcolor": "white"
          },
          "hoverlabel": {
           "align": "left"
          },
          "hovermode": "closest",
          "mapbox": {
           "style": "light"
          },
          "paper_bgcolor": "white",
          "plot_bgcolor": "#E5ECF6",
          "polar": {
           "angularaxis": {
            "gridcolor": "white",
            "linecolor": "white",
            "ticks": ""
           },
           "bgcolor": "#E5ECF6",
           "radialaxis": {
            "gridcolor": "white",
            "linecolor": "white",
            "ticks": ""
           }
          },
          "scene": {
           "xaxis": {
            "backgroundcolor": "#E5ECF6",
            "gridcolor": "white",
            "gridwidth": 2,
            "linecolor": "white",
            "showbackground": true,
            "ticks": "",
            "zerolinecolor": "white"
           },
           "yaxis": {
            "backgroundcolor": "#E5ECF6",
            "gridcolor": "white",
            "gridwidth": 2,
            "linecolor": "white",
            "showbackground": true,
            "ticks": "",
            "zerolinecolor": "white"
           },
           "zaxis": {
            "backgroundcolor": "#E5ECF6",
            "gridcolor": "white",
            "gridwidth": 2,
            "linecolor": "white",
            "showbackground": true,
            "ticks": "",
            "zerolinecolor": "white"
           }
          },
          "shapedefaults": {
           "line": {
            "color": "#2a3f5f"
           }
          },
          "ternary": {
           "aaxis": {
            "gridcolor": "white",
            "linecolor": "white",
            "ticks": ""
           },
           "baxis": {
            "gridcolor": "white",
            "linecolor": "white",
            "ticks": ""
           },
           "bgcolor": "#E5ECF6",
           "caxis": {
            "gridcolor": "white",
            "linecolor": "white",
            "ticks": ""
           }
          },
          "title": {
           "x": 0.05
          },
          "xaxis": {
           "automargin": true,
           "gridcolor": "white",
           "linecolor": "white",
           "ticks": "",
           "title": {
            "standoff": 15
           },
           "zerolinecolor": "white",
           "zerolinewidth": 2
          },
          "yaxis": {
           "automargin": true,
           "gridcolor": "white",
           "linecolor": "white",
           "ticks": "",
           "title": {
            "standoff": 15
           },
           "zerolinecolor": "white",
           "zerolinewidth": 2
          }
         }
        },
        "xaxis": {
         "anchor": "y",
         "domain": [
          0,
          1
         ],
         "dtick": "M1",
         "matches": "x2",
         "range": [
          "2014-04-01",
          "2015-01-01"
         ],
         "showspikes": true,
         "showticklabels": false,
         "spikecolor": "black",
         "spikemode": "across",
         "spikesnap": "cursor",
         "spikethickness": 1,
         "tickformat": "%Y-%m-%d",
         "tickmode": "linear"
        },
        "xaxis2": {
         "anchor": "y2",
         "domain": [
          0,
          1
         ],
         "dtick": "M1",
         "range": [
          "2014-04-01",
          "2015-01-01"
         ],
         "showspikes": true,
         "spikecolor": "black",
         "spikemode": "across",
         "spikesnap": "cursor",
         "spikethickness": 1,
         "tickformat": "%Y-%m-%d",
         "tickmode": "linear"
        },
        "xaxis3": {
         "dtick": "M1",
         "tickformat": "%Y-%m-%d",
         "tickmode": "linear"
        },
        "yaxis": {
         "anchor": "x",
         "domain": [
          0.5125,
          1
         ],
         "range": [
          0.5,
          1
         ],
         "title": {
          "text": "AUROC (Pneumonia)"
         }
        },
        "yaxis2": {
         "anchor": "x2",
         "domain": [
          0,
          0.4875
         ],
         "range": [
          -10,
          1
         ],
         "title": {
          "text": "$MMC_w$"
         }
        }
       }
      }
     },
     "metadata": {},
     "output_type": "display_data"
    }
   ],
   "source": [
    "\n",
    "fh = FigureHelper(x)\n",
    "\n",
    "\n",
    "row=1\n",
    "for name, score_unify in perf_graphs.items():\n",
    "    fh.add_trace(y=smooth(score_unify[\"yp\"], span=7), \n",
    "                 yu=smooth(score_unify[\"yp\"]+score_unify[\"ye\"], span=7),\n",
    "                 yl=smooth(score_unify[\"yp\"]-score_unify[\"ye\"], span=7), name=name, connectgaps=False, row=row, col=1)\n",
    "\n",
    "row=2\n",
    "for name, score_unify in score_graphs.items():\n",
    "    fh.add_trace(y=smooth(score_unify, span=7), name=name, connectgaps=False, row=row, col=1)\n",
    "    \n",
    "    \n",
    "# row += 1\n",
    "# for name, score_unify in vae_graphs.items():\n",
    "#     fh.add_trace(y=smooth(score_unify, span=7), name=name, connectgaps=False, row=row, col=1)\n",
    "\n",
    "\n",
    "\n",
    "fig = fh.make_fig(shared_xaxes=True, vertical_spacing=0.025, row_heights=[.2]*row)\n",
    "\n",
    "add_dates(fig, dates, line_y=1.045, include_date=False)\n",
    "\n",
    "fig.update_xaxes(showspikes=True, spikecolor=\"black\", spikesnap=\"cursor\", spikemode=\"across\", spikethickness=1)\n",
    "fig.update_layout(spikedistance=1000)\n",
    "fig.update_layout(height=300*row)\n",
    "fig.update_layout(legend={\"x\": .5, \"orientation\":\"h\", \"borderwidth\": .5, \"xanchor\": \"center\",})\n",
    "fig.update_xaxes(range=[graph_start, graph_end])\n",
    "fig.update_layout(yaxis1=dict(range=[0.5, 1], title=f\"AUROC ({DriftFromRun.performance_col[1].title()})\"),\n",
    "                  yaxis2=dict(range=[-10, 1], title=\"$MMC_w$\"))\n",
    "fig.update_layout(barmode='overlay')\n",
    "fig.update_layout(font=dict(size=13))\n",
    "fig.update_layout(plot_bgcolor=\"#E8E8EA\")\n",
    "\n",
    "# fig.update_layout(\n",
    "#     yaxis2 = dict(\n",
    "#         tickmode = 'linear',\n",
    "#         tick0 = 0,\n",
    "#         dtick = 25,\n",
    "#     )\n",
    "# )\n",
    "\n",
    "xaxis = dict(\n",
    "        tickformat = '%Y-%m-%d',\n",
    "        tickmode = 'linear',\n",
    "        dtick = \"M1\"\n",
    "    )\n",
    "fig.update_layout(\n",
    "    xaxis1=xaxis,\n",
    "    xaxis2=xaxis,\n",
    "    xaxis3 = xaxis,\n",
    ")\n",
    "\n",
    "fig.show()"
   ]
  },
  {
   "cell_type": "code",
   "execution_count": 39,
   "metadata": {},
   "outputs": [
    {
     "name": "stdout",
     "output_type": "stream",
     "text": [
      "D:\\Code\\MLOpsDay2\\MedImaging-ModelDriftMonitoring\\html\\paper\\graphs\\peds_distance.svg\n"
     ]
    },
    {
     "data": {
      "text/html": [
       "<img src=\"..\\..\\html\\paper\\graphs\\peds_distance.svg\" />"
      ],
      "text/plain": [
       "<IPython.core.display.HTML object>"
      ]
     },
     "metadata": {},
     "output_type": "display_data"
    }
   ],
   "source": [
    "import plotly.io as pio\n",
    "\n",
    "html_top_dir = settings.TOP_DIR.joinpath(\"html\", \"paper\", 'graphs')\n",
    "html_top_dir.mkdir(exist_ok=True, parents=True)\n",
    "\n",
    "fname = html_top_dir.joinpath(figure_name+\".svg\")\n",
    "pio.write_image(fig, fname, scale=1, width=5*300, height=2*300)\n",
    "print(fname)\n",
    "\n",
    "relfname = os.path.relpath(str(fname), os.getcwd())\n",
    "display(HTML(f\"\"\"<img src=\"{relfname}\" />\"\"\"))"
   ]
  },
  {
   "cell_type": "code",
   "execution_count": 40,
   "metadata": {},
   "outputs": [
    {
     "ename": "RuntimeError",
     "evalue": "No active exception to reraise",
     "output_type": "error",
     "traceback": [
      "\u001b[1;31m---------------------------------------------------------------------------\u001b[0m",
      "\u001b[1;31mRuntimeError\u001b[0m                              Traceback (most recent call last)",
      "\u001b[1;32m~\\AppData\\Local\\Temp/ipykernel_19000/2235509928.py\u001b[0m in \u001b[0;36m<module>\u001b[1;34m\u001b[0m\n\u001b[1;32m----> 1\u001b[1;33m \u001b[1;32mraise\u001b[0m\u001b[1;33m\u001b[0m\u001b[1;33m\u001b[0m\u001b[0m\n\u001b[0m",
      "\u001b[1;31mRuntimeError\u001b[0m: No active exception to reraise"
     ]
    }
   ],
   "source": [
    "raise"
   ]
  },
  {
   "cell_type": "code",
   "execution_count": null,
   "metadata": {},
   "outputs": [],
   "source": [
    "\n",
    "output_file_path = settings.TOP_DIR.joinpath('results', 'drift', name+\".csv\")\n",
    "fname = str(output_file_path)\n",
    "r.download_file(\"outputs/output.csv\", output_file_path=output_file_path)\n",
    "# # Settings to file CSV file\n",
    "\n",
    "# display_args = [\"span\", \"which\", \"clip\", \"standardize_perf\", \"shift_drift_to_perf\", \"performance_col\", \"this_center\", \"this_range\", \"standardize_dates\", \"stat\", \"add_error_bars\"]\n",
    "d = locals()\n",
    "display_args = {k: d[k] for k in display_args if k in d}\n",
    "\n",
    "print(display_args)\n",
    "\n",
    "\n",
    "if not os.path.exists(fname):\n",
    "    raise ValueError(\"no fn\")\n",
    "\n",
    "combined_df_o = pd.read_csv(str(fname), index_col=0, header=[0, 1, 2, 3])\n",
    "combined_df_o.index = pd.to_datetime(combined_df_o.index)\n",
    "\n",
    "flip = column_xs(combined_df_o, include=[\"pval\"])\n",
    "combined_df_o[flip] = 1-combined_df_o[flip]\n",
    "combined_df = combined_df_o.copy()\n",
    "\n",
    "\n",
    "smooth_name = f\"ewm{span}\"\n",
    "\n",
    "error_df = combined_df.swaplevel(0, -1, axis=1)[[\"std\"]].swaplevel(0, -1, axis=1).droplevel(-1, axis=1).copy()\n",
    "combined_df = combined_df.swaplevel(0, -1, axis=1)[[which]].swaplevel(0, -1, axis=1).droplevel(-1, axis=1).copy()\n",
    "\n",
    "html_dir = html_top_dir.joinpath(name)\n",
    "perf_col_name = '-'.join(performance_col)\n",
    "\n",
    "if not os.path.exists(html_dir):\n",
    "    os.makedirs(html_dir)\n",
    "\n",
    "stat_str = '+'.join(stat)\n",
    "fn = f\"{html_dir}/{which}_{stat_str}_stdclip{clip}_smooth-{smooth_name}_{perf_col_name}.html\"\n",
    "\n",
    "print(\"output:\", fn)\n",
    "def is_arg_col(c):\n",
    "    if \"mlflow\" in c or \"_aml\" in c or 'run_' in c or 'url' in c:\n",
    "        return False\n",
    "\n",
    "    ignore = [\"output_dir\", \"input_dir\", 'run', 'display_name', 'id']\n",
    "    return c not in ignore\n",
    "\n",
    "arg_row = run_row[arg_cols].copy()\n",
    "display_row = pd.Series(display_args)\n",
    "params = pd.concat({'Drift': arg_row, \"Display\": display_row}, axis=0).rename(\"Value\").to_frame()\n",
    "\n",
    "if write_html:\n",
    "    with open(fn, 'w') as f:\n",
    "        print(\"\"\"\n",
    "            <style>\n",
    "            table {\n",
    "            font-family: arial, sans-serif;\n",
    "            border-collapse: collapse;\n",
    "            width: 80%;\n",
    "            }\n",
    "\n",
    "            td, th {\n",
    "            border: 1px solid #dddddd;\n",
    "            text-align: left;\n",
    "            padding: 8px;\n",
    "            }\n",
    "\n",
    "            tr:nth-child(even) {\n",
    "            background-color: #dddddd;\n",
    "            }\n",
    "            </style>\n",
    "        \"\"\", file=f)\n",
    "        print(f\"\"\"\n",
    "            <h1>Drift report</h1> created: {datetime.datetime.now()}\n",
    "            <br /><br />\n",
    "            <h2>Arguments </h2>\n",
    "            {params.to_html()}\n",
    "            \"\"\", file=f)\n",
    "\n",
    "def shift_to_other(this, other, this_range=None, this_center=None):\n",
    "    u = other.mean()\n",
    "    r = other.std()#other.max()-other.min()\n",
    "\n",
    "    if this_range is None:\n",
    "        this_range = this.std()#this.max()-this.min()\n",
    "\n",
    "    if this_center is None:\n",
    "        this_center = this.mean()\n",
    "    return (this-this_center)/(this_range)*r+u\n",
    "\n",
    "perf_col = performance_col\n",
    "perf_df = combined_df[perf_col]\n",
    "\n",
    "\n",
    "other_cols = column_xs(combined_df, exclude=['performance', 'count'])\n",
    "other_df = combined_df[other_cols]\n",
    "\n",
    "\n",
    "cxs = column_xs(other_df, include=stat)\n",
    "\n",
    "\n",
    "stats = pd.concat([other_df[cxs].dropna(axis=1), extra_valids[cxs].dropna(axis=1)], axis=0).sort_index()\n",
    "stats = stats.loc[standardize_ix]\n",
    "stats = stats.agg([\"mean\", \"std\"])\n",
    "\n",
    "\n",
    "stats.T\n",
    "\n",
    "otherstd = other_df[cxs].copy()\n",
    "\n",
    "# cannot divide by zero\n",
    "std0 = stats.loc['std'] == 0\n",
    "stats.loc[\"std\", stats.loc['std'] == 0] = 1\n",
    "otherstd = (otherstd-stats.loc['mean'])/(stats.loc[\"std\"])\n",
    "errorstd = (error_df[cxs]-stats.loc['mean'])/(stats.loc[\"std\"])\n",
    "bad_cols = otherstd.columns[otherstd.isnull().max(axis=0)].tolist()\n",
    "\n",
    "print(bad_cols)\n",
    "\n",
    "vae_cols = [c for c in list(otherstd) if \"mu.\" in c[0]]\n",
    "score_cols = [c for c in list(otherstd) if \"activation.\" in c[0]]\n",
    "metadata_cols = sorted(set(otherstd).difference(vae_cols).difference(score_cols))\n",
    "\n",
    "if clip is not None:\n",
    "  otherstd = otherstd.clip(-1*clip, clip)"
   ]
  },
  {
   "cell_type": "code",
   "execution_count": null,
   "metadata": {},
   "outputs": [],
   "source": [
    "x = pd.date_range(combined_df.index.min(), combined_df.index.max())\n",
    "\n",
    "\n",
    "yp = combined_df[perf_col].reindex(x)\n",
    "perf_error_df = error_df[perf_col].reindex(x)\n",
    "\n",
    "all_corr_df = correlate_performance(yp.rename('auroc'), otherstd)\n",
    "all_ig_df = mutual_info_performance(yp.rename('auroc'), otherstd, bins=25)\n",
    "m_ = all_ig_df.to_frame().join(all_corr_df.abs().rename('abs(corr)'))\n",
    "m_ = m_.join(m_.mean(axis=1).rename('mean[abs(corr),info_gain]'))\n",
    "m_ = m_.assign(no_weights=1)\n",
    "m_ = m_.fillna(0)\n",
    "\n",
    "true_counts = combined_df_o['count'].droplevel([0, 1], axis=1)['obs']\n",
    "count_df = combined_df['count'].reindex(x)\n",
    "\n",
    "\n",
    "dates = {\"Laterals Injected\": run_row['nonfrontal_add_date'],\n",
    "         \"Frontals Removed\": run_row['frontal_remove_date'],\n",
    "         \"Peds Added\": run_row['peds_start_date'],\n",
    "         \"Peds Stop\": run_row['peds_end_date'],\n",
    "         \"Val Start\": settings.PADCHEST_SPLIT_DATES[0],\n",
    "        #  \"Test Start\": settings.PADCHEST_SPLIT_DATES[1],\n",
    "         }\n",
    "\n",
    "x = x[x<graph_end]"
   ]
  },
  {
   "cell_type": "code",
   "execution_count": null,
   "metadata": {},
   "outputs": [],
   "source": [
    "weight_names = {\"no_weights\": r\"$MMC$\", \"abs(corr)\": r\"$MMC_w$\",}"
   ]
  },
  {
   "cell_type": "code",
   "execution_count": null,
   "metadata": {},
   "outputs": [],
   "source": [
    "m = m_.copy()\n",
    "\n",
    "yp = yp.reindex(x)\n",
    "otherstd = otherstd.reindex(x)\n",
    "counts = combined_df['count'].iloc[:, 0].reindex(x)\n",
    "counts2 = true_counts.reindex(x)\n",
    "\n",
    "#collect_corr(y, yp, name, when, weights_name, start_date=None, end_date=None)\n",
    "row=1\n",
    "fh = FigureHelper(x)\n",
    "fh.add_trace(y=smooth(yp), name=\"AUROC\", connectgaps=False, line={\"color\": \"blue\"}, \n",
    "             yu=smooth(yp+perf_error_df.reindex(x)), \n",
    "             yl=smooth(yp-perf_error_df.reindex(x)),\n",
    "             row=row, col=1)\n",
    "# row += 1\n",
    "# fh.add_trace(y=smooth(combined_df[congruency_measure_col]*100), row=row, name='% In-distr.', line={\"color\": \"purple\"})\n",
    "row += 1\n",
    "errorstd = errorstd[otherstd.columns]\n",
    "\n",
    "for i, (name, vname) in enumerate(weight_names.items()):\n",
    "    weights = m_[name].sort_values(ascending=False)\n",
    "    # weights = weights.iloc[:5]\n",
    "    y = -w_avg(otherstd.reindex(x), weights=weights.to_dict())\n",
    "    ystd = -w_avg(errorstd.reindex(x), weights=weights.to_dict())\n",
    "    fh.add_trace(y=smooth(y),\n",
    "                        # customdata=smooth(yo),\n",
    "                        showlegend=True, legendgroup=vname,\n",
    "                        name=vname,  \n",
    "                        connectgaps=False, row=row, col=1)\n",
    "\n",
    "# display(HTML(\"\"\"<script async=\"async\" src=\"https://cdnjs.cloudflare.com/ajax/libs/mathjax/2.7.5/latest.js?config=TeX-AMS-MML_HTMLorMML\"></script>\n",
    "#     <script type=\"text/x-mathjax-config\">MathJax.Hub.Config({\"tex2jax\": {\"inlineMath\": [[\"$\", \"$\"], [\"\\\\(\", \"\\\\)\"]], \"processEscapes\": true, \"ignoreClass\": \"document\", \"processClass\": \"math|output_area\"}})</script>\"\"\"))\n",
    "\n",
    "fig = fh.make_fig(shared_xaxes=True, vertical_spacing=0.025, row_heights=[.2]*row)\n",
    "add_dates(fig, dates, line_y=1.045, include_date=False)\n",
    "fig.update_xaxes(showspikes=True, spikecolor=\"black\", spikesnap=\"cursor\", spikemode=\"across\", spikethickness=1)\n",
    "fig.update_layout(spikedistance=1000)\n",
    "fig.update_layout(height=200*row)\n",
    "fig.update_layout(legend={\"x\": .35, \"orientation\":\"h\", \"borderwidth\": .5})\n",
    "fig.update_xaxes(range=[graph_start, graph_end])\n",
    "fig.update_layout(barmode='overlay')\n",
    "fig.update_layout(font=dict(size=13))\n",
    "fig.update_layout(plot_bgcolor=\"#E8E8EA\")\n",
    "\n",
    "fig.update_layout(\n",
    "    yaxis2 = dict(\n",
    "        tickmode = 'linear',\n",
    "        tick0 = 0,\n",
    "        dtick = 25,\n",
    "    )\n",
    ")\n",
    "\n",
    "xaxis = dict(\n",
    "        tickformat = '%Y-%m-%d',\n",
    "        tickmode = 'linear',\n",
    "        dtick = \"M1\"\n",
    "    )\n",
    "fig.update_layout(\n",
    "    xaxis1=xaxis,\n",
    "    xaxis2=xaxis,\n",
    "    xaxis3 = xaxis,\n",
    ")\n",
    "\n",
    "fig.show()\n"
   ]
  },
  {
   "cell_type": "code",
   "execution_count": null,
   "metadata": {},
   "outputs": [],
   "source": [
    "import plotly.io as pio\n",
    "\n",
    "fname = html_top_dir.joinpath(verbose_name+'.svg')\n",
    "pio.write_image(fig, html_top_dir.joinpath(verbose_name+'.svg'), scale=1, width=5*300, height=2*300)\n",
    "fname"
   ]
  },
  {
   "cell_type": "code",
   "execution_count": null,
   "metadata": {},
   "outputs": [],
   "source": [
    "from pathlib import Path\n",
    "relfname = os.path.relpath(str(fname), os.getcwd())\n",
    "display(HTML(f\"\"\"<img src=\"{relfname}\" />\"\"\"))"
   ]
  },
  {
   "cell_type": "code",
   "execution_count": null,
   "metadata": {},
   "outputs": [],
   "source": [
    "!pip install -U kaleido"
   ]
  },
  {
   "cell_type": "code",
   "execution_count": null,
   "metadata": {},
   "outputs": [],
   "source": []
  },
  {
   "cell_type": "code",
   "execution_count": null,
   "metadata": {},
   "outputs": [],
   "source": [
    "raise"
   ]
  },
  {
   "cell_type": "code",
   "execution_count": null,
   "metadata": {},
   "outputs": [],
   "source": [
    "from plotly.subplots import make_subplots\n",
    "import plotly.graph_objects as go\n",
    "import plotly.express as px\n",
    "\n",
    "auroc_cols = column_xs(combined_df, ['auroc'])\n",
    "precision_cols = column_xs(combined_df, ['precision'])\n",
    "recall_cols = column_xs(combined_df, ['recall'])\n",
    "f1_cols = column_xs(combined_df, ['f1-score'])\n",
    "support_cols = column_xs(combined_df, ['support'])\n",
    "\n",
    "cols_ = [auroc_cols, recall_cols, precision_cols, f1_cols, support_cols]\n",
    "fig = make_subplots(rows=len(cols_), cols=1, shared_xaxes=True, vertical_spacing=0.01)\n",
    "\n",
    "names = sorted(set([c[1] for c in itertools.chain(*cols_)]), key=lambda x: 'avg' in x)\n",
    "colors = px.colors.qualitative.Plotly\n",
    "dashes = ['solid', 'dash', 'dotted']\n",
    "\n",
    "list(itertools.product(dashes, colors))\n",
    "\n",
    "lines = {}\n",
    "for name, spec in zip(names, itertools.product(dashes, colors)):\n",
    "    lines[name] = {'color': spec[1], 'dash': spec[0]}\n",
    "\n",
    "visited = set()\n",
    "for r, cols__ in enumerate(cols_, 1):\n",
    "    for c in cols__:\n",
    "        ypp = combined_df[c].reindex(x)\n",
    "        line = lines[c[1]]\n",
    "        showlegend = not c[1] in visited\n",
    "        visited.add(c[1])\n",
    "        fig.add_trace(go.Scatter(x=x, y=smooth(ypp), showlegend=showlegend, legendgroup=c[1],\n",
    "                name=c[1], hovertemplate=\"%{y: .5f}\", connectgaps=False, line=line), row=r, col=1)\n",
    "    fig.update_yaxes(title_text=c[-1], row=r, col=1)\n",
    "add_dates(fig, dates, 1.025)\n",
    "\n",
    "fig.update_layout(title=f\"Peformance\")\n",
    "fig.update_layout(hovermode=\"x unified\")\n",
    "fig.update_layout(height=300*len(cols_))\n",
    "fig.update_xaxes(range=[graph_start, graph_end])\n",
    "fig.update_layout(font=font)\n",
    "\n",
    "fig.show()\n",
    "\n",
    "if write_html:\n",
    "    fig_html = fig.to_html()\n",
    "    with open(fn, 'a') as f:\n",
    "        print(f\"<h2>Performance</h2>\", file=f)\n",
    "        print(fig_html, file=f)"
   ]
  },
  {
   "cell_type": "code",
   "execution_count": null,
   "metadata": {},
   "outputs": [],
   "source": [
    "fh = FigureHelper(x)\n",
    "fh.add_trace(y=smooth(yp), name=\"AUROC\", connectgaps=False, line={\"color\": \"blue\"}, yu=smooth(yp+perf_error_df), yl=smooth(yp-perf_error_df), row=1, col=1)\n",
    "fh.add_trace(y=smooth(combined_df[congruency_measure_col]), row=2, name='Data Congruency (True)')\n",
    "corrs = []\n",
    "\n",
    "if not float(run_row['peds_weight']):\n",
    "    xcols = zip([\"metadata\", \"vae\", \"score\", \"vae+score\", \"metadate+vae+score\"],  [metadata_cols, vae_cols, score_cols, vae_cols+score_cols, vae_cols+score_cols+metadata_cols])\n",
    "else:\n",
    "    xcols = zip([\"vae\", \"score\", \"vae+score\"],  [vae_cols, score_cols, vae_cols+score_cols])\n",
    "\n",
    "for row, (name_, cols) in enumerate(xcols, 1):\n",
    "    for i, name in enumerate([\"abs(corr)\"]):\n",
    "        otherstd_ = otherstd[cols]\n",
    "        weights = m[name].sort_values(ascending=False)\n",
    "        yo = -w_avg(otherstd_.loc[x], weights=weights.to_dict())\n",
    "        \n",
    "        fh.add_trace(y=smooth(yo), name=name_, line={\"width\": 1},  connectgaps=False, row=3, col=1)\n",
    "        \n",
    "        corrs.append(collect_corr(y,yo, name_, \"Everything\", name))\n",
    "        corrs.append(collect_corr(y,yo, name_, \"Validation\", name,\n",
    "                                start_date=settings.PADCHEST_SPLIT_DATES[0], end_date=settings.PADCHEST_SPLIT_DATES[1]))\n",
    "        corrs.append(collect_corr(y,yo, name_, \"Test\", name,\n",
    "                                start_date=settings.PADCHEST_SPLIT_DATES[1]))\n",
    "        corrs.append(collect_corr(y,yo, name_, \"First Year of Test\", name,\n",
    "                                start_date=settings.PADCHEST_SPLIT_DATES[1], end_date=\"2014-12-31\"))\n",
    "\n",
    "\n",
    "fig = fh.make_fig(shared_xaxes=True, vertical_spacing=0.01)\n",
    "add_dates(fig, dates, 1.08)\n",
    "\n",
    "\n",
    "fig.update_layout(title=f\"Level 1 Metrics\")\n",
    "fig.update_xaxes(showspikes=True, spikecolor=\"black\", spikesnap=\"cursor\", spikemode=\"across\", spikethickness=1)\n",
    "fig.update_layout(spikedistance=1000)\n",
    "fig.update_layout(height=600)\n",
    "fig.update_xaxes(range=[graph_start, graph_end])\n",
    "fig.update_layout(barmode='overlay')\n",
    "corr_df = pd.DataFrame(corrs).sort_values('when')\n",
    "display(corr_df)\n",
    "fig.show()\n",
    "\n",
    "fig_html = fig.to_html()\n",
    "\n",
    "if write_html:\n",
    "    with open(fn, 'a') as f:\n",
    "        print(f\"<h2>Level 1 Unified</h2>\", file=f)\n",
    "        for w, grp in corr_df.groupby('when'):\n",
    "            print(f\"<strong>{w}</strong>{grp.to_html()}\", file=f)\n",
    "        print(fig_html, file=f)\n"
   ]
  },
  {
   "cell_type": "code",
   "execution_count": null,
   "metadata": {},
   "outputs": [],
   "source": [
    "fh = FigureHelper(x, dashes=['solid', 'dot', 'dash', 'longdash', 'dashdot', 'longdashdot'])\n",
    "fh.add_trace(y=smooth(yp), name=\"AUROC\", connectgaps=False, line={\"color\": \"blue\"}, yu=smooth(yp+perf_error_df), yl=smooth(yp-perf_error_df), row=1, col=1)\n",
    "fh.add_trace(y=smooth(combined_df[congruency_measure_col]), row=2, name='Data Congruency (True)')\n",
    "corrs = []\n",
    "\n",
    "def partition(l, n):\n",
    "    return [l[i:i + n] for i in range(0, len(l), n)]\n",
    "\n",
    "cols = metadata_cols\n",
    "otherstd_ = otherstd[cols]\n",
    "cols_chi2 = column_xs(otherstd_, include='chi2')\n",
    "otherstd_ = otherstd[cols_chi2]\n",
    "cols_ = partition(cols_chi2, 12)\n",
    "print(len(cols_))\n",
    "\n",
    "for row, cols in enumerate(cols_, 3):\n",
    "    for c in cols:\n",
    "        yo = -otherstd[c]\n",
    "        fh.add_trace(y=smooth(yo), name=str(c), connectgaps=False, row=row, col=1)\n",
    "        \n",
    "        corrs.append(collect_corr(y,yo, str(c), \"Everything\", 'N/A'))\n",
    "        corrs.append(collect_corr(y,yo, str(c), \"Validation\", 'N/A',\n",
    "                                start_date=settings.PADCHEST_SPLIT_DATES[0], end_date=settings.PADCHEST_SPLIT_DATES[1]))\n",
    "        corrs.append(collect_corr(y,yo, str(c), \"Test\", 'N/A',\n",
    "                                start_date=settings.PADCHEST_SPLIT_DATES[1]))\n",
    "        corrs.append(collect_corr(y,yo, str(c), \"First Year of Test\", 'N/A',\n",
    "                                start_date=settings.PADCHEST_SPLIT_DATES[1], end_date=\"2014-12-31\"))\n",
    "\n",
    "if not float(run_row['peds_weight']):     \n",
    "    fig = fh.make_fig(shared_xaxes=True, vertical_spacing=0.01)\n",
    "    add_dates(fig, dates, 1.05)\n",
    "\n",
    "    fig.update_layout(title=f\"Metadata Categorical\")\n",
    "    fig.update_xaxes(showspikes=True, spikecolor=\"black\", spikesnap=\"cursor\", spikemode=\"across\", spikethickness=1)\n",
    "    fig.update_layout(spikedistance=1000)\n",
    "    fig.update_layout(height=200*(len(cols_)+2))\n",
    "    fig.update_xaxes(range=[graph_start, graph_end])\n",
    "    fig.update_layout(font=font)\n",
    "    fig.update_layout(barmode='overlay')\n",
    "\n",
    "    corr_df = pd.DataFrame(corrs)\n",
    "    display(corr_df)\n",
    "\n",
    "    fig.show()\n",
    "\n",
    "\n",
    "    fig_html = fig.to_html()\n",
    "    if write_html: \n",
    "        with open(fn, 'a') as f:\n",
    "            print(f\"<h2>Metadata Categorical</h2>\", file=f)\n",
    "            for w, grp in corr_df.groupby('when'):\n",
    "                print(f\"<strong>{w}</strong>{grp.to_html()}\", file=f)\n",
    "            print(fig_html, file=f)"
   ]
  },
  {
   "cell_type": "code",
   "execution_count": null,
   "metadata": {},
   "outputs": [],
   "source": [
    "fh = FigureHelper(x, dashes=['solid', 'dot', 'dash', 'longdash', 'dashdot', 'longdashdot'])\n",
    "fh.add_trace(y=smooth(yp), name=\"AUROC\", connectgaps=False, line={\"color\": \"blue\"}, yu=smooth(yp+perf_error_df), yl=smooth(yp-perf_error_df), row=1, col=1)\n",
    "fh.add_trace(y=smooth(combined_df[congruency_measure_col]), row=2, name='Data Congruency (True)')\n",
    "corrs = []\n",
    "\n",
    "def partition(l, n):\n",
    "    return [l[i:i + n] for i in range(0, len(l), n)]\n",
    "\n",
    "cols = metadata_cols\n",
    "otherstd_ = otherstd[cols]\n",
    "cols_chi2 = column_xs(otherstd_, include='ks')\n",
    "otherstd_ = otherstd[cols_chi2]\n",
    "cols_ = partition(cols_chi2, 14)\n",
    "print(len(cols_chi2))\n",
    "\n",
    "for row, cols in enumerate(cols_, 3):\n",
    "    for c in cols:\n",
    "        yo = -otherstd[c]\n",
    "        fh.add_trace(y=smooth(yo), name=str(c), connectgaps=False, row=row, col=1)\n",
    "        \n",
    "        corrs.append(collect_corr(y,yo, str(c), \"Everything\", 'N/A'))\n",
    "        corrs.append(collect_corr(y,yo, str(c), \"Validation\", 'N/A',\n",
    "                                start_date=settings.PADCHEST_SPLIT_DATES[0], end_date=settings.PADCHEST_SPLIT_DATES[1]))\n",
    "        corrs.append(collect_corr(y,yo, str(c), \"Test\", 'N/A',\n",
    "                                start_date=settings.PADCHEST_SPLIT_DATES[1]))\n",
    "        corrs.append(collect_corr(y,yo, str(c), \"First Year of Test\", 'N/A',\n",
    "                                start_date=settings.PADCHEST_SPLIT_DATES[1], end_date=\"2014-12-31\"))\n",
    "if not float(run_row['peds_weight']):\n",
    "    fig = fh.make_fig(shared_xaxes=True, vertical_spacing=0.01)\n",
    "    add_dates(fig, dates, 1.08)\n",
    "\n",
    "    fig.update_layout(title=f\"Metadata Real Valued\")\n",
    "    fig.update_xaxes(showspikes=True, spikecolor=\"black\", spikesnap=\"cursor\", spikemode=\"across\", spikethickness=1)\n",
    "    fig.update_layout(spikedistance=1000)\n",
    "    fig.update_layout(height=200*(len(cols_)+2))\n",
    "    fig.update_xaxes(range=[graph_start, graph_end])\n",
    "    fig.update_layout(font=font)\n",
    "    fig.update_layout(barmode='overlay')\n",
    "    fig.show()\n",
    "\n",
    "\n",
    "    fig_html = fig.to_html()\n",
    "    if write_html: \n",
    "        with open(fn, 'a') as f:\n",
    "            print(f\"<h2>Metadata Real Valued</h2>\", file=f)\n",
    "            for w, grp in corr_df.groupby('when'):\n",
    "                print(f\"<strong>{w}</strong>{grp.to_html()}\", file=f)\n",
    "            print(fig_html, file=f)"
   ]
  },
  {
   "cell_type": "code",
   "execution_count": null,
   "metadata": {},
   "outputs": [],
   "source": [
    "fh = FigureHelper(x, dashes=['solid', 'dot', 'dash', 'longdash', 'dashdot', 'longdashdot'])\n",
    "fh.add_trace(y=smooth(yp), name=\"AUROC\", connectgaps=False, line={\"color\": \"blue\"}, yu=smooth(yp+perf_error_df), yl=smooth(yp-perf_error_df), row=1, col=1)\n",
    "fh.add_trace(y=smooth(combined_df[congruency_measure_col]), row=2, name='Data Congruency (True)')\n",
    "corrs = []\n",
    "\n",
    "def partition(l, n):\n",
    "    return [l[i:i + n] for i in range(0, len(l), n)]\n",
    "\n",
    "\n",
    "cols = vae_cols\n",
    "o = other_df[cols].loc[settings.PADCHEST_SPLIT_DATES[1]:].swaplevel(0, 2, axis=1)[['distance']].swaplevel(0, 2, axis=1)\n",
    "colss = o.max(axis=0).sort_values(ascending=False).head(12).index.tolist()\n",
    "cols_ = partition(colss, 12)\n",
    "\n",
    "\n",
    "for row, cols in enumerate(cols_, 3):\n",
    "    for c in cols:\n",
    "        yo = -otherstd[c]\n",
    "        fh.add_trace(y=smooth(yo), name=str(c), connectgaps=False, row=row, col=1)\n",
    "        \n",
    "        corrs.append(collect_corr(y,yo, str(c), \"Everything\", 'N/A'))\n",
    "        corrs.append(collect_corr(y,yo, str(c), \"Validation\", 'N/A',\n",
    "                                start_date=settings.PADCHEST_SPLIT_DATES[0], end_date=settings.PADCHEST_SPLIT_DATES[1]))\n",
    "        corrs.append(collect_corr(y,yo, str(c), \"Test\", 'N/A',\n",
    "                                start_date=settings.PADCHEST_SPLIT_DATES[1]))\n",
    "        corrs.append(collect_corr(y,yo, str(c), \"First Year of Test\", 'N/A',\n",
    "                                start_date=settings.PADCHEST_SPLIT_DATES[1], end_date=\"2014-12-31\"))\n",
    "        \n",
    "fig = fh.make_fig(shared_xaxes=True, vertical_spacing=0.01)\n",
    "add_dates(fig, dates, 1.08)\n",
    "\n",
    "fig.update_layout(title=f\"VAE Mu (top {len(colss)})\")\n",
    "fig.update_xaxes(showspikes=True, spikecolor=\"black\", spikesnap=\"cursor\", spikemode=\"across\", spikethickness=1)\n",
    "fig.update_layout(spikedistance=1000)\n",
    "fig.update_layout(height=200*(len(cols_)+2))\n",
    "fig.update_xaxes(range=[settings.PADCHEST_SPLIT_DATES[1], graph_end])\n",
    "fig.update_layout(barmode='overlay')\n",
    "fig.update_layout(font=font)\n",
    "corr_df = pd.DataFrame(corrs).sort_values('when')\n",
    "display(corr_df)\n",
    "fig.show()\n",
    "\n",
    "\n",
    "fig_html = fig.to_html()\n",
    "if write_html: \n",
    "    with open(fn, 'a') as f:\n",
    "        print(f\"<h2>VAE Mu (top {len(colss)})</h2>\", file=f)\n",
    "        for w, grp in corr_df.groupby('when'):\n",
    "            print(f\"<strong>{w}</strong>{grp.to_html()}\", file=f)\n",
    "        print(fig_html, file=f)"
   ]
  },
  {
   "cell_type": "code",
   "execution_count": null,
   "metadata": {},
   "outputs": [],
   "source": [
    "arg_df2['Link'] = [f\"\"\"<a href=\"{name}/index.html\" disabled=>Graphs</a>\"\"\" if html_top_dir.joinpath(name).exists() else \"N/A\" for name in arg_df2.index]\n",
    "\n",
    "\n",
    "with open(html_top_dir.joinpath(\"index.html\"), 'w') as f:\n",
    "        print(\"\"\"\n",
    "            <style>\n",
    "            table {\n",
    "            font-family: arial, sans-serif;\n",
    "            border-collapse: collapse;\n",
    "            width: 80%;\n",
    "            }\n",
    "\n",
    "            td, th {\n",
    "            border: 1px solid #dddddd;\n",
    "            text-align: left;\n",
    "            padding: 8px;\n",
    "            }\n",
    "\n",
    "            tr:nth-child(even) {\n",
    "            background-color: #dddddd;\n",
    "            }\n",
    "            </style>\n",
    "        \"\"\", file=f)\n",
    "        print(f\"Generated: {datetime.datetime.now()}\", file=f)\n",
    "        print(arg_df2.to_html(escape=False), file=f)\n",
    "        print(fix_links_script, file=f)"
   ]
  },
  {
   "cell_type": "code",
   "execution_count": null,
   "metadata": {},
   "outputs": [],
   "source": [
    "def create_index_html(child):\n",
    "    if child.is_file(): return\n",
    "    html_files = []\n",
    "    html_folders = []\n",
    "    if child.parent.joinpath('index.html').exists():\n",
    "        html_folders.append(\"..\")\n",
    "    for html_file in child.iterdir():\n",
    "        n = html_file.relative_to(child)\n",
    "        if html_file.is_file() and not str(html_file).endswith('index.html'):\n",
    "            html_files.append(n)\n",
    "        elif html_file.joinpath('index.html').exists():\n",
    "            html_folders.append(n)\n",
    "    \n",
    "    \n",
    "    html = \"folders: <ul>\"\n",
    "    for n in html_folders:\n",
    "            html += f\"\"\"\n",
    "            <li><a href=\"{n}/index.html\">{n}</a></li>\n",
    "            \"\"\"\n",
    "    html += \"</ul>\"\n",
    "    html += \"files:<ul>\"\n",
    "    for n in html_files:\n",
    "            html += f\"\"\"\n",
    "            <li><a href=\"{n}\">{n}</a></li>\n",
    "            \"\"\"\n",
    "    html += \"</ul>\"\n",
    "    with open(child.joinpath('index.html'), 'w') as f:\n",
    "        print(html, file=f)\n",
    "        print(fix_links_script, file=f)\n",
    "        \n",
    "        \n"
   ]
  },
  {
   "cell_type": "code",
   "execution_count": null,
   "metadata": {},
   "outputs": [],
   "source": [
    "create_index_html(html_top_dir.parent.joinpath('vae[all-data]'))\n",
    "create_index_html(html_top_dir.parent)\n",
    "    "
   ]
  },
  {
   "cell_type": "code",
   "execution_count": null,
   "metadata": {},
   "outputs": [],
   "source": [
    "for child in html_top_dir.iterdir():\n",
    "    create_index_html(child)\n",
    "    \n",
    "            \n",
    "    \n",
    "    \n",
    "            "
   ]
  },
  {
   "cell_type": "code",
   "execution_count": null,
   "metadata": {},
   "outputs": [],
   "source": [
    "html"
   ]
  },
  {
   "cell_type": "code",
   "execution_count": null,
   "metadata": {},
   "outputs": [],
   "source": []
  }
 ],
 "metadata": {
  "interpreter": {
   "hash": "40209cfd1e49aba1e20a3908f9a243f43b2ed73034fd3a81730d62124bbdcdae"
  },
  "kernelspec": {
   "display_name": "Python 3.7.3 64-bit (conda)",
   "name": "python3"
  },
  "language_info": {
   "codemirror_mode": {
    "name": "ipython",
    "version": 3
   },
   "file_extension": ".py",
   "mimetype": "text/x-python",
   "name": "python",
   "nbconvert_exporter": "python",
   "pygments_lexer": "ipython3",
   "version": "3.7.3"
  },
  "orig_nbformat": 4
 },
 "nbformat": 4,
 "nbformat_minor": 2
}
