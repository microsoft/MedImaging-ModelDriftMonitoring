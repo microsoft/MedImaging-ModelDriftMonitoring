{
 "cells": [
  {
   "cell_type": "code",
   "execution_count": 18,
   "metadata": {},
   "outputs": [],
   "source": [
    "from IPython.display import display, Markdown, HTML\n",
    "import plotly.express as px\n",
    "import itertools\n",
    "\n",
    "from azureml.core import Run, Model\n",
    "from azureml.core import Datastore, Experiment, ScriptRunConfig, Workspace, Run\n",
    "\n",
    "from model_drift import settings\n",
    "from model_drift.helpers import column_xs, correlate_performance, mutual_info_performance, w_avg\n",
    "import pandas as pd\n",
    "import os\n",
    "import datetime\n",
    "\n"
   ]
  },
  {
   "cell_type": "code",
   "execution_count": 19,
   "metadata": {},
   "outputs": [
    {
     "data": {
      "text/html": [
       "<div>\n",
       "<style scoped>\n",
       "    .dataframe tbody tr th:only-of-type {\n",
       "        vertical-align: middle;\n",
       "    }\n",
       "\n",
       "    .dataframe tbody tr th {\n",
       "        vertical-align: top;\n",
       "    }\n",
       "\n",
       "    .dataframe thead th {\n",
       "        text-align: right;\n",
       "    }\n",
       "</style>\n",
       "<table border=\"1\" class=\"dataframe\">\n",
       "  <thead>\n",
       "    <tr style=\"text-align: right;\">\n",
       "      <th></th>\n",
       "      <th>_aml_system_ComputeTargetStatus</th>\n",
       "      <th>mlflow.source.type</th>\n",
       "      <th>mlflow.source.name</th>\n",
       "      <th>run_azure</th>\n",
       "      <th>input_dir</th>\n",
       "      <th>output_dir</th>\n",
       "      <th>dataset</th>\n",
       "      <th>vae_dataset</th>\n",
       "      <th>classifier_dataset</th>\n",
       "      <th>vae_filter</th>\n",
       "      <th>...</th>\n",
       "      <th>good_start_date</th>\n",
       "      <th>good_end_date</th>\n",
       "      <th>good_sample_start_date</th>\n",
       "      <th>good_sample_end_date</th>\n",
       "      <th>start_date</th>\n",
       "      <th>end_date</th>\n",
       "      <th>id</th>\n",
       "      <th>url</th>\n",
       "      <th>run</th>\n",
       "      <th>label_modifiers</th>\n",
       "    </tr>\n",
       "    <tr>\n",
       "      <th>display_name</th>\n",
       "      <th></th>\n",
       "      <th></th>\n",
       "      <th></th>\n",
       "      <th></th>\n",
       "      <th></th>\n",
       "      <th></th>\n",
       "      <th></th>\n",
       "      <th></th>\n",
       "      <th></th>\n",
       "      <th></th>\n",
       "      <th></th>\n",
       "      <th></th>\n",
       "      <th></th>\n",
       "      <th></th>\n",
       "      <th></th>\n",
       "      <th></th>\n",
       "      <th></th>\n",
       "      <th></th>\n",
       "      <th></th>\n",
       "      <th></th>\n",
       "      <th></th>\n",
       "    </tr>\n",
       "  </thead>\n",
       "  <tbody>\n",
       "    <tr>\n",
       "      <th>boring_cartoon_8tm99btn</th>\n",
       "      <td>{\"AllocationState\":\"steady\",\"PreparingNodeCoun...</td>\n",
       "      <td>JOB</td>\n",
       "      <td>scripts/drift/generate-drift-csv.py</td>\n",
       "      <td>1</td>\n",
       "      <td>/mnt/batch/tasks/shared/LS_root/jobs/mlops_sha...</td>\n",
       "      <td>./outputs/</td>\n",
       "      <td>padchest</td>\n",
       "      <td>padchest-trained</td>\n",
       "      <td>padchest-finetuned-chx-frontalonly</td>\n",
       "      <td>all-data</td>\n",
       "      <td>...</td>\n",
       "      <td>None</td>\n",
       "      <td>None</td>\n",
       "      <td>None</td>\n",
       "      <td>None</td>\n",
       "      <td>2012-11-01</td>\n",
       "      <td>2015-02-01</td>\n",
       "      <td>generate-drift-csv-peds2_1643650048_b6bf3351</td>\n",
       "      <td>https://ml.azure.com/runs/generate-drift-csv-p...</td>\n",
       "      <td>Run(Experiment: generate-drift-csv-peds2,\\nId:...</td>\n",
       "      <td>NaN</td>\n",
       "    </tr>\n",
       "    <tr>\n",
       "      <th>hungry_ticket_7rjkc9dv</th>\n",
       "      <td>{\"AllocationState\":\"steady\",\"PreparingNodeCoun...</td>\n",
       "      <td>JOB</td>\n",
       "      <td>scripts/drift/generate-drift-csv.py</td>\n",
       "      <td>1</td>\n",
       "      <td>/mnt/batch/tasks/shared/LS_root/jobs/mlops_sha...</td>\n",
       "      <td>./outputs/</td>\n",
       "      <td>padchest</td>\n",
       "      <td>padchest-trained</td>\n",
       "      <td>padchest-finetuned-chx-frontalonly</td>\n",
       "      <td>all-data</td>\n",
       "      <td>...</td>\n",
       "      <td>None</td>\n",
       "      <td>None</td>\n",
       "      <td>None</td>\n",
       "      <td>None</td>\n",
       "      <td>2012-11-01</td>\n",
       "      <td>2015-02-01</td>\n",
       "      <td>generate-drift-csv-peds2_1643398683_1cc492e3</td>\n",
       "      <td>https://ml.azure.com/runs/generate-drift-csv-p...</td>\n",
       "      <td>Run(Experiment: generate-drift-csv-peds2,\\nId:...</td>\n",
       "      <td>NaN</td>\n",
       "    </tr>\n",
       "    <tr>\n",
       "      <th>musing_tail_jrl2n117</th>\n",
       "      <td>{\"AllocationState\":\"steady\",\"PreparingNodeCoun...</td>\n",
       "      <td>JOB</td>\n",
       "      <td>scripts/drift/generate-drift-csv.py</td>\n",
       "      <td>1</td>\n",
       "      <td>/mnt/batch/tasks/shared/LS_root/jobs/mlops_sha...</td>\n",
       "      <td>./outputs/</td>\n",
       "      <td>padchest</td>\n",
       "      <td>padchest-trained</td>\n",
       "      <td>padchest-finetuned-chx-frontalonly</td>\n",
       "      <td>all-data</td>\n",
       "      <td>...</td>\n",
       "      <td>None</td>\n",
       "      <td>None</td>\n",
       "      <td>None</td>\n",
       "      <td>None</td>\n",
       "      <td>2012-11-01</td>\n",
       "      <td>2015-02-01</td>\n",
       "      <td>generate-drift-csv-peds2_1643398670_7a5f00f4</td>\n",
       "      <td>https://ml.azure.com/runs/generate-drift-csv-p...</td>\n",
       "      <td>Run(Experiment: generate-drift-csv-peds2,\\nId:...</td>\n",
       "      <td>NaN</td>\n",
       "    </tr>\n",
       "    <tr>\n",
       "      <th>hungry_pasta_790x5bdw</th>\n",
       "      <td>{\"AllocationState\":\"steady\",\"PreparingNodeCoun...</td>\n",
       "      <td>JOB</td>\n",
       "      <td>scripts/drift/generate-drift-csv.py</td>\n",
       "      <td>1</td>\n",
       "      <td>/mnt/batch/tasks/shared/LS_root/jobs/mlops_sha...</td>\n",
       "      <td>./outputs/</td>\n",
       "      <td>padchest</td>\n",
       "      <td>padchest-trained</td>\n",
       "      <td>padchest-finetuned-chx-frontalonly</td>\n",
       "      <td>all-data</td>\n",
       "      <td>...</td>\n",
       "      <td>None</td>\n",
       "      <td>None</td>\n",
       "      <td>None</td>\n",
       "      <td>None</td>\n",
       "      <td>2012-11-01</td>\n",
       "      <td>2015-02-01</td>\n",
       "      <td>generate-drift-csv-peds2_1643398662_fefcc318</td>\n",
       "      <td>https://ml.azure.com/runs/generate-drift-csv-p...</td>\n",
       "      <td>Run(Experiment: generate-drift-csv-peds2,\\nId:...</td>\n",
       "      <td>NaN</td>\n",
       "    </tr>\n",
       "    <tr>\n",
       "      <th>tender_pear_lfbd6wwg</th>\n",
       "      <td>{\"AllocationState\":\"steady\",\"PreparingNodeCoun...</td>\n",
       "      <td>JOB</td>\n",
       "      <td>scripts/drift/generate-drift-csv.py</td>\n",
       "      <td>1</td>\n",
       "      <td>/mnt/batch/tasks/shared/LS_root/jobs/mlops_sha...</td>\n",
       "      <td>./outputs/</td>\n",
       "      <td>padchest</td>\n",
       "      <td>padchest-trained</td>\n",
       "      <td>padchest-finetuned-chx-frontalonly</td>\n",
       "      <td>all-data</td>\n",
       "      <td>...</td>\n",
       "      <td>NaN</td>\n",
       "      <td>NaN</td>\n",
       "      <td>NaN</td>\n",
       "      <td>NaN</td>\n",
       "      <td>NaN</td>\n",
       "      <td>NaN</td>\n",
       "      <td>generate-drift-csv-3_1639942528_d9f3ee90</td>\n",
       "      <td>https://ml.azure.com/runs/generate-drift-csv-3...</td>\n",
       "      <td>Run(Experiment: generate-drift-csv-3,\\nId: gen...</td>\n",
       "      <td>Baseline</td>\n",
       "    </tr>\n",
       "  </tbody>\n",
       "</table>\n",
       "<p>5 rows × 48 columns</p>\n",
       "</div>"
      ],
      "text/plain": [
       "                                           _aml_system_ComputeTargetStatus  \\\n",
       "display_name                                                                 \n",
       "boring_cartoon_8tm99btn  {\"AllocationState\":\"steady\",\"PreparingNodeCoun...   \n",
       "hungry_ticket_7rjkc9dv   {\"AllocationState\":\"steady\",\"PreparingNodeCoun...   \n",
       "musing_tail_jrl2n117     {\"AllocationState\":\"steady\",\"PreparingNodeCoun...   \n",
       "hungry_pasta_790x5bdw    {\"AllocationState\":\"steady\",\"PreparingNodeCoun...   \n",
       "tender_pear_lfbd6wwg     {\"AllocationState\":\"steady\",\"PreparingNodeCoun...   \n",
       "\n",
       "                        mlflow.source.type  \\\n",
       "display_name                                 \n",
       "boring_cartoon_8tm99btn                JOB   \n",
       "hungry_ticket_7rjkc9dv                 JOB   \n",
       "musing_tail_jrl2n117                   JOB   \n",
       "hungry_pasta_790x5bdw                  JOB   \n",
       "tender_pear_lfbd6wwg                   JOB   \n",
       "\n",
       "                                          mlflow.source.name run_azure  \\\n",
       "display_name                                                             \n",
       "boring_cartoon_8tm99btn  scripts/drift/generate-drift-csv.py         1   \n",
       "hungry_ticket_7rjkc9dv   scripts/drift/generate-drift-csv.py         1   \n",
       "musing_tail_jrl2n117     scripts/drift/generate-drift-csv.py         1   \n",
       "hungry_pasta_790x5bdw    scripts/drift/generate-drift-csv.py         1   \n",
       "tender_pear_lfbd6wwg     scripts/drift/generate-drift-csv.py         1   \n",
       "\n",
       "                                                                 input_dir  \\\n",
       "display_name                                                                 \n",
       "boring_cartoon_8tm99btn  /mnt/batch/tasks/shared/LS_root/jobs/mlops_sha...   \n",
       "hungry_ticket_7rjkc9dv   /mnt/batch/tasks/shared/LS_root/jobs/mlops_sha...   \n",
       "musing_tail_jrl2n117     /mnt/batch/tasks/shared/LS_root/jobs/mlops_sha...   \n",
       "hungry_pasta_790x5bdw    /mnt/batch/tasks/shared/LS_root/jobs/mlops_sha...   \n",
       "tender_pear_lfbd6wwg     /mnt/batch/tasks/shared/LS_root/jobs/mlops_sha...   \n",
       "\n",
       "                         output_dir   dataset       vae_dataset  \\\n",
       "display_name                                                      \n",
       "boring_cartoon_8tm99btn  ./outputs/  padchest  padchest-trained   \n",
       "hungry_ticket_7rjkc9dv   ./outputs/  padchest  padchest-trained   \n",
       "musing_tail_jrl2n117     ./outputs/  padchest  padchest-trained   \n",
       "hungry_pasta_790x5bdw    ./outputs/  padchest  padchest-trained   \n",
       "tender_pear_lfbd6wwg     ./outputs/  padchest  padchest-trained   \n",
       "\n",
       "                                         classifier_dataset vae_filter  ...  \\\n",
       "display_name                                                            ...   \n",
       "boring_cartoon_8tm99btn  padchest-finetuned-chx-frontalonly   all-data  ...   \n",
       "hungry_ticket_7rjkc9dv   padchest-finetuned-chx-frontalonly   all-data  ...   \n",
       "musing_tail_jrl2n117     padchest-finetuned-chx-frontalonly   all-data  ...   \n",
       "hungry_pasta_790x5bdw    padchest-finetuned-chx-frontalonly   all-data  ...   \n",
       "tender_pear_lfbd6wwg     padchest-finetuned-chx-frontalonly   all-data  ...   \n",
       "\n",
       "                        good_start_date good_end_date good_sample_start_date  \\\n",
       "display_name                                                                   \n",
       "boring_cartoon_8tm99btn            None          None                   None   \n",
       "hungry_ticket_7rjkc9dv             None          None                   None   \n",
       "musing_tail_jrl2n117               None          None                   None   \n",
       "hungry_pasta_790x5bdw              None          None                   None   \n",
       "tender_pear_lfbd6wwg                NaN           NaN                    NaN   \n",
       "\n",
       "                        good_sample_end_date  start_date    end_date  \\\n",
       "display_name                                                           \n",
       "boring_cartoon_8tm99btn                 None  2012-11-01  2015-02-01   \n",
       "hungry_ticket_7rjkc9dv                  None  2012-11-01  2015-02-01   \n",
       "musing_tail_jrl2n117                    None  2012-11-01  2015-02-01   \n",
       "hungry_pasta_790x5bdw                   None  2012-11-01  2015-02-01   \n",
       "tender_pear_lfbd6wwg                     NaN         NaN         NaN   \n",
       "\n",
       "                                                                   id  \\\n",
       "display_name                                                            \n",
       "boring_cartoon_8tm99btn  generate-drift-csv-peds2_1643650048_b6bf3351   \n",
       "hungry_ticket_7rjkc9dv   generate-drift-csv-peds2_1643398683_1cc492e3   \n",
       "musing_tail_jrl2n117     generate-drift-csv-peds2_1643398670_7a5f00f4   \n",
       "hungry_pasta_790x5bdw    generate-drift-csv-peds2_1643398662_fefcc318   \n",
       "tender_pear_lfbd6wwg         generate-drift-csv-3_1639942528_d9f3ee90   \n",
       "\n",
       "                                                                       url  \\\n",
       "display_name                                                                 \n",
       "boring_cartoon_8tm99btn  https://ml.azure.com/runs/generate-drift-csv-p...   \n",
       "hungry_ticket_7rjkc9dv   https://ml.azure.com/runs/generate-drift-csv-p...   \n",
       "musing_tail_jrl2n117     https://ml.azure.com/runs/generate-drift-csv-p...   \n",
       "hungry_pasta_790x5bdw    https://ml.azure.com/runs/generate-drift-csv-p...   \n",
       "tender_pear_lfbd6wwg     https://ml.azure.com/runs/generate-drift-csv-3...   \n",
       "\n",
       "                                                                       run  \\\n",
       "display_name                                                                 \n",
       "boring_cartoon_8tm99btn  Run(Experiment: generate-drift-csv-peds2,\\nId:...   \n",
       "hungry_ticket_7rjkc9dv   Run(Experiment: generate-drift-csv-peds2,\\nId:...   \n",
       "musing_tail_jrl2n117     Run(Experiment: generate-drift-csv-peds2,\\nId:...   \n",
       "hungry_pasta_790x5bdw    Run(Experiment: generate-drift-csv-peds2,\\nId:...   \n",
       "tender_pear_lfbd6wwg     Run(Experiment: generate-drift-csv-3,\\nId: gen...   \n",
       "\n",
       "                        label_modifiers  \n",
       "display_name                             \n",
       "boring_cartoon_8tm99btn             NaN  \n",
       "hungry_ticket_7rjkc9dv              NaN  \n",
       "musing_tail_jrl2n117                NaN  \n",
       "hungry_pasta_790x5bdw               NaN  \n",
       "tender_pear_lfbd6wwg           Baseline  \n",
       "\n",
       "[5 rows x 48 columns]"
      ]
     },
     "execution_count": 19,
     "metadata": {},
     "output_type": "execute_result"
    }
   ],
   "source": [
    "import pandas as pd\n",
    "import six\n",
    "\n",
    "\n",
    "ws = Workspace.from_config(settings.AZUREML_CONFIG)\n",
    "experiment_name = 'generate-drift-csv-peds2'\n",
    "exp = Experiment(workspace=ws, name=experiment_name)\n",
    "\n",
    "\n",
    "def run_to_dict(run):\n",
    "    d = dict(**run.tags)\n",
    "    d['id'] = run.id\n",
    "    d['display_name'] = run.display_name\n",
    "    d['url'] = run.get_portal_url()\n",
    "    d['run'] = run\n",
    "    # d[\"startTimeUtc\"] = pd.to_datetime(run.get_details()[\"startTimeUtc\"])\n",
    "    # d[\"endTimeUtc\"] = pd.to_datetime(run.get_details()[\"endTimeUtc\"])\n",
    "    return d\n",
    "\n",
    "\n",
    "def experiment_to_dataframe(experiment, workspace=None):\n",
    "    \n",
    "    if isinstance(experiment, six.string_types):\n",
    "        if workspace is None:\n",
    "            raise ValueError(\"if experiment is string, must provide workspace\")\n",
    "        experiment = Experiment(workspace=workspace, name=experiment)\n",
    "    df = []\n",
    "    for run in exp.get_runs():\n",
    "        if run.status != \"Completed\":\n",
    "            continue\n",
    "        df.append(run_to_dict(run))\n",
    "    return pd.DataFrame(df).set_index(['display_name'])#.sort_values(\"endTimeUtc\", ascending=False)\n",
    "\n",
    "df = experiment_to_dataframe(exp)\n",
    "\n",
    "run = Run(experiment=Experiment(workspace=ws, name='generate-drift-csv-3'), \n",
    "          run_id=\"generate-drift-csv-3_1639942528_d9f3ee90\") # \"tender_pear_lfbd6\n",
    "# df = df[~df['mod_end_date'].isnull()]\n",
    "\n",
    "# Baseline\n",
    "d = run_to_dict(run)\n",
    "d[\"label_modifiers\"] = \"Baseline\"\n",
    "df = df.append(pd.Series(d, name=d.pop(\"display_name\")))\n",
    "\n",
    "df.head()"
   ]
  },
  {
   "cell_type": "code",
   "execution_count": 20,
   "metadata": {},
   "outputs": [],
   "source": [
    "html_top_dir = settings.TOP_DIR.joinpath(\"html\", \"graphs_paper\")\n",
    "html_top_dir.mkdir(exist_ok=True)"
   ]
  },
  {
   "cell_type": "code",
   "execution_count": 21,
   "metadata": {},
   "outputs": [
    {
     "data": {
      "text/html": [
       "<div>\n",
       "<style scoped>\n",
       "    .dataframe tbody tr th:only-of-type {\n",
       "        vertical-align: middle;\n",
       "    }\n",
       "\n",
       "    .dataframe tbody tr th {\n",
       "        vertical-align: top;\n",
       "    }\n",
       "\n",
       "    .dataframe thead th {\n",
       "        text-align: right;\n",
       "    }\n",
       "</style>\n",
       "<table border=\"1\" class=\"dataframe\">\n",
       "  <thead>\n",
       "    <tr style=\"text-align: right;\">\n",
       "      <th></th>\n",
       "      <th>include_metadata</th>\n",
       "      <th>frontal_remove_date</th>\n",
       "      <th>peds_weight</th>\n",
       "      <th>peds_start_date</th>\n",
       "      <th>midrc_weight</th>\n",
       "      <th>bad_q</th>\n",
       "      <th>good_q</th>\n",
       "      <th>start_date</th>\n",
       "      <th>end_date</th>\n",
       "      <th>label_modifiers</th>\n",
       "      <th>Link</th>\n",
       "    </tr>\n",
       "    <tr>\n",
       "      <th>display_name</th>\n",
       "      <th></th>\n",
       "      <th></th>\n",
       "      <th></th>\n",
       "      <th></th>\n",
       "      <th></th>\n",
       "      <th></th>\n",
       "      <th></th>\n",
       "      <th></th>\n",
       "      <th></th>\n",
       "      <th></th>\n",
       "      <th></th>\n",
       "    </tr>\n",
       "  </thead>\n",
       "  <tbody>\n",
       "    <tr>\n",
       "      <th>boring_cartoon_8tm99btn</th>\n",
       "      <td>0</td>\n",
       "      <td>2014-09-01</td>\n",
       "      <td>0.75</td>\n",
       "      <td>2014-06-01</td>\n",
       "      <td>0</td>\n",
       "      <td>0</td>\n",
       "      <td>0</td>\n",
       "      <td>2012-11-01</td>\n",
       "      <td>2015-02-01</td>\n",
       "      <td>NaN</td>\n",
       "      <td>N/A</td>\n",
       "    </tr>\n",
       "    <tr>\n",
       "      <th>hungry_ticket_7rjkc9dv</th>\n",
       "      <td>0</td>\n",
       "      <td>2014-06-01</td>\n",
       "      <td>1.0</td>\n",
       "      <td>2014-06-01</td>\n",
       "      <td>0</td>\n",
       "      <td>0</td>\n",
       "      <td>0</td>\n",
       "      <td>2012-11-01</td>\n",
       "      <td>2015-02-01</td>\n",
       "      <td>NaN</td>\n",
       "      <td>N/A</td>\n",
       "    </tr>\n",
       "    <tr>\n",
       "      <th>musing_tail_jrl2n117</th>\n",
       "      <td>0</td>\n",
       "      <td>None</td>\n",
       "      <td>0.75</td>\n",
       "      <td>2014-06-01</td>\n",
       "      <td>0</td>\n",
       "      <td>0</td>\n",
       "      <td>0</td>\n",
       "      <td>2012-11-01</td>\n",
       "      <td>2015-02-01</td>\n",
       "      <td>NaN</td>\n",
       "      <td>N/A</td>\n",
       "    </tr>\n",
       "    <tr>\n",
       "      <th>hungry_pasta_790x5bdw</th>\n",
       "      <td>0</td>\n",
       "      <td>None</td>\n",
       "      <td>0.5</td>\n",
       "      <td>2014-06-01</td>\n",
       "      <td>0</td>\n",
       "      <td>0</td>\n",
       "      <td>0</td>\n",
       "      <td>2012-11-01</td>\n",
       "      <td>2015-02-01</td>\n",
       "      <td>NaN</td>\n",
       "      <td>N/A</td>\n",
       "    </tr>\n",
       "    <tr>\n",
       "      <th>tender_pear_lfbd6wwg</th>\n",
       "      <td>1</td>\n",
       "      <td>None</td>\n",
       "      <td>0</td>\n",
       "      <td>None</td>\n",
       "      <td>NaN</td>\n",
       "      <td>NaN</td>\n",
       "      <td>NaN</td>\n",
       "      <td>NaN</td>\n",
       "      <td>NaN</td>\n",
       "      <td>Baseline</td>\n",
       "      <td>&lt;a href=\"tender_pear_lfbd6wwg/index.html\" disa...</td>\n",
       "    </tr>\n",
       "  </tbody>\n",
       "</table>\n",
       "</div>"
      ],
      "text/plain": [
       "                        include_metadata frontal_remove_date peds_weight  \\\n",
       "display_name                                                               \n",
       "boring_cartoon_8tm99btn                0          2014-09-01        0.75   \n",
       "hungry_ticket_7rjkc9dv                 0          2014-06-01         1.0   \n",
       "musing_tail_jrl2n117                   0                None        0.75   \n",
       "hungry_pasta_790x5bdw                  0                None         0.5   \n",
       "tender_pear_lfbd6wwg                   1                None           0   \n",
       "\n",
       "                        peds_start_date midrc_weight bad_q good_q  start_date  \\\n",
       "display_name                                                                    \n",
       "boring_cartoon_8tm99btn      2014-06-01            0     0      0  2012-11-01   \n",
       "hungry_ticket_7rjkc9dv       2014-06-01            0     0      0  2012-11-01   \n",
       "musing_tail_jrl2n117         2014-06-01            0     0      0  2012-11-01   \n",
       "hungry_pasta_790x5bdw        2014-06-01            0     0      0  2012-11-01   \n",
       "tender_pear_lfbd6wwg               None          NaN   NaN    NaN         NaN   \n",
       "\n",
       "                           end_date label_modifiers  \\\n",
       "display_name                                          \n",
       "boring_cartoon_8tm99btn  2015-02-01             NaN   \n",
       "hungry_ticket_7rjkc9dv   2015-02-01             NaN   \n",
       "musing_tail_jrl2n117     2015-02-01             NaN   \n",
       "hungry_pasta_790x5bdw    2015-02-01             NaN   \n",
       "tender_pear_lfbd6wwg            NaN        Baseline   \n",
       "\n",
       "                                                                      Link  \n",
       "display_name                                                                \n",
       "boring_cartoon_8tm99btn                                                N/A  \n",
       "hungry_ticket_7rjkc9dv                                                 N/A  \n",
       "musing_tail_jrl2n117                                                   N/A  \n",
       "hungry_pasta_790x5bdw                                                  N/A  \n",
       "tender_pear_lfbd6wwg     <a href=\"tender_pear_lfbd6wwg/index.html\" disa...  "
      ]
     },
     "execution_count": 21,
     "metadata": {},
     "output_type": "execute_result"
    }
   ],
   "source": [
    "def is_arg_col(c):\n",
    "    if \"mlflow\" in c or \"_aml\" in c or 'run_' in c or 'url' in c:\n",
    "        return False\n",
    "    ignore = [\"output_dir\", \"input_dir\", 'run', 'display_name', 'id']\n",
    "    return c not in ignore\n",
    "\n",
    "def experiment_df_for_display(df, remove_duplicates=True, remove_const_columns=True):\n",
    "    arg_cols = [c for c in df.columns if is_arg_col(c)]\n",
    "    arg_df = df[arg_cols]\n",
    "    \n",
    "    if remove_const_columns:\n",
    "        arg_df = arg_df[[c for c in arg_df if arg_df[c].fillna('NA').nunique() > 1]]\n",
    "    \n",
    "    \n",
    "    if remove_duplicates:    \n",
    "        arg_df[~arg_df.duplicated(keep='last')]\n",
    "    \n",
    "    return arg_df\n",
    "\n",
    "arg_df = experiment_df_for_display(df)\n",
    "arg_df['Link'] = [f\"\"\"<a href=\"{name}/index.html\" disabled=>Graphs</a>\"\"\" if html_top_dir.joinpath(name).exists() else \"N/A\" for name in arg_df.index]\n",
    "\n",
    "arg_df"
   ]
  },
  {
   "cell_type": "code",
   "execution_count": null,
   "metadata": {},
   "outputs": [],
   "source": []
  },
  {
   "cell_type": "code",
   "execution_count": 22,
   "metadata": {},
   "outputs": [],
   "source": [
    "fix_links_script = \"\"\"\n",
    "              <script>\n",
    "                var x = document.getElementsByTagName('a');\n",
    "                var i;\n",
    "                for (i = 0; i < x.length; i++) {{\n",
    "                    let url = x[i].getAttribute(\"href\");\n",
    "                    x[i].href = url + window.location.search;\n",
    "                }}\n",
    "                </script>\n",
    "              \"\"\""
   ]
  },
  {
   "cell_type": "code",
   "execution_count": 23,
   "metadata": {},
   "outputs": [],
   "source": [
    "def get_run(display_name, experiment):\n",
    "    for run in experiment.get_runs():\n",
    "        if run.display_name == display_name:\n",
    "            return run\n",
    "        \n",
    "    raise KeyError(f\"'{display_name}' not found in experiment!\")"
   ]
  },
  {
   "cell_type": "code",
   "execution_count": 24,
   "metadata": {},
   "outputs": [],
   "source": [
    "# # run_row = df.loc[[not html_top_dir.joinpath(name).exists() for name in df.index]].iloc[0]\n",
    "# # run_name, verbose_name = \"tender_pear_lfbd6wwg\", \"baseline\"\n",
    "# # run_name, verbose_name = \"tender_pear_lfbd6wwg\", \"baseline_2row\"\n",
    "# # run_name, verbose_name = \"orange_scooter_dry7q6y9\", \"inject-laterals\"\n",
    "\n",
    "\n",
    "# runs = {\"baseline\": (\"tender_pear_lfbd6wwg\", \"generate-drift-csv-3\")}\n",
    "# verbose_name = \"baseline\"\n",
    "# run_name, experiment = runs[verbose_name]\n",
    "# experiment = Experiment(ws, experiment)\n",
    "# run = get_run(run_name, experiment)\n",
    "\n",
    "# # Diplay settings\n",
    "# span = 7\n",
    "# which = 'mean'\n",
    "# clip = 10\n",
    "# performance_col = (\"performance\", \"macro avg\", \"auroc\")\n",
    "# congruency_measure_col = ('in_distro', 'stats', 'mean')\n",
    "# add_error_bars = True\n",
    "\n",
    "# standardize_dates = (settings.PADCHEST_SPLIT_DATES[0], settings.PADCHEST_SPLIT_DATES[1])\n",
    "# standardize_ix = pd.date_range(*standardize_dates)\n",
    "# stat = []\n",
    "# # stat.append('pval')\n",
    "# stat.append('distance')\n",
    "\n",
    "# verbose_name = verbose_name + '_' + '+'.join(stat) \n",
    "\n",
    "# write_html = True\n",
    "# graph_start = \"2014-01-01\"\n",
    "# graph_end = \"2014-12-31\"\n",
    "\n",
    "\n",
    "# font=dict(size=12)\n",
    "\n",
    "# print(run_name, verbose_name)\n"
   ]
  },
  {
   "cell_type": "code",
   "execution_count": 25,
   "metadata": {},
   "outputs": [],
   "source": [
    "import itertools\n",
    "from plotly.subplots import make_subplots\n",
    "import plotly.graph_objects as go\n",
    "import plotly.express as px\n",
    "from matplotlib import colors as mpl_colors\n",
    "from collections import defaultdict\n",
    "\n",
    "def to_rgba(rgb, alpha=None):\n",
    "    rgb = mpl_colors.to_rgb(rgb)\n",
    "    if alpha is None:\n",
    "        return \"rgb(%s, %s, %s)\" % (rgb[0], rgb[1], rgb[2])\n",
    "    return \"rgba(%s, %s, %s, %s)\" % (rgb[0], rgb[1], rgb[2], alpha)\n",
    "\n",
    "def line_maker(color, **l):\n",
    "    return dict(color=color, **l)\n",
    "\n",
    "def marker_maker(color, **l):\n",
    "    return dict(color=color)\n",
    "\n",
    "def smooth(y: pd.DataFrame, span=7):\n",
    "    if span > 0:\n",
    "        ys = y.ewm(span=span, ignore_na=False).mean()\n",
    "        ys[y.isna()] = None\n",
    "    else:\n",
    "        ys = y    \n",
    "    return ys\n",
    "\n",
    "def add_date_line(fig, date, name, y=1.08):\n",
    "    fig.add_shape(type='line',\n",
    "                x0=date,\n",
    "                y0=0,\n",
    "                x1=date,\n",
    "                y1=1,\n",
    "                line=dict(color='black', dash='dot'),\n",
    "                xref='x',\n",
    "                yref='paper'\n",
    "                )\n",
    "    fig.add_annotation(textangle=0,\n",
    "                    xref=\"x\",\n",
    "                    yref=\"paper\", x=date, y=y,\n",
    "                       text=name, showarrow=False,\n",
    "                       font=dict(size=18))\n",
    "\n",
    "def add_dates(fig, dates, line_y=1.05, include_date=True):\n",
    "    for name, date in dates.items():\n",
    "        if not pd.isna(date):\n",
    "            n = f\"{name}<br />({date})\" if include_date else name\n",
    "            add_date_line(fig, date, n, y=line_y)\n",
    "            \n",
    "def collect_corr(y, yp, name, when, weights_name, start_date=None, end_date=None):\n",
    "    yp = yp.loc[start_date: end_date]\n",
    "    y = y.loc[start_date: end_date]\n",
    "    c, cm = yp.corr(y), smooth(yp).corr(smooth(y))\n",
    "    return {\"name\": name, \"weights_name\": weights_name,\n",
    "                \"corr (raw)\": c, \"corr (smoothed)\": cm, \"when\": when}\n",
    "\n",
    "class FigureHelper(object):\n",
    "    \n",
    "    def __init__(self, x=None, color_list=px.colors.qualitative.Plotly, dashes=('solid',), smooth_func=smooth, merge_hover=True):\n",
    "        self.traces = []\n",
    "        self.error_traces = []\n",
    "        self.color_list = color_list\n",
    "        self.line_picker = itertools.cycle(itertools.product(dashes, self.color_list))\n",
    "        self.lines = defaultdict(lambda: dict(zip(['dash', 'color'], next(self.line_picker))))\n",
    "        self.names = set()\n",
    "        self.smooth = smooth_func\n",
    "        self.x = x\n",
    "        self.merge_hover = merge_hover\n",
    "        \n",
    "    def set_line(self, key, line=None):\n",
    "        line = line or {}\n",
    "        self.lines[key] = self.lines[key]\n",
    "        self.lines[key].update(line)\n",
    "        self.lines[key]['color'] = self.lines[key]['color']\n",
    "        return self.lines[key]\n",
    "        \n",
    "        \n",
    "    def make_error_traces(self, x, yu, yl, name, color, alpha):\n",
    "        \n",
    "        \n",
    "        # need to remove nans from error traces\n",
    "        k = ~(yu.isnull()|yl.isnull())\n",
    "        xe = x[k]\n",
    "        yl = yl[k]\n",
    "        yu = yu[k]\n",
    "        \n",
    "        return [go.Scatter(x=xe, \n",
    "                            y=yu, \n",
    "                            hoverinfo=\"skip\",\n",
    "                            showlegend=False,\n",
    "                            legendgroup=name,\n",
    "                            name=name,\n",
    "                            connectgaps=False,\n",
    "                            line=dict(width=0),\n",
    "                ), \n",
    "                go.Scatter(x=xe, \n",
    "                            y=yl,\n",
    "                            fillcolor=to_rgba(color, alpha),\n",
    "                            fill='tonexty',\n",
    "                            hoverinfo=\"skip\",\n",
    "                            showlegend=False,                            \n",
    "                            legendgroup=name,\n",
    "                            name=name,\n",
    "                            connectgaps=False,\n",
    "                            line=dict(width=0),\n",
    "                )]\n",
    "\n",
    "    def add_trace(self, y, name, x=None, kind=go.Scatter, color_key=None, row=1, col=1, line=None,\n",
    "                  std=None, yu=None, yl=None, **trace_kwargs):\n",
    "        color_key = color_key or name\n",
    "        trace_kwargs.setdefault('showlegend', name not in self.names)\n",
    "        self.names.add(name)\n",
    "        trace_kwargs.setdefault('legendgroup', name)\n",
    "        \n",
    "        line = self.set_line(color_key, line)\n",
    "        x = x or self.x\n",
    "        y = y.reindex(x)\n",
    "        t = kind(x=x, y=y, name=name, **trace_kwargs)\n",
    "        if not isinstance(t, go.Bar):\n",
    "            t.line = line_maker(**line)\n",
    "        else:\n",
    "            t.marker = marker_maker(**line)\n",
    "            \n",
    "    \n",
    "        self.traces.append((row, col, t))\n",
    "        \n",
    "        if std is not None:\n",
    "            yu = y+std\n",
    "            yl = y-std\n",
    "            \n",
    "        if yu is not None and yl is not None:\n",
    "            for t_ in self.make_error_traces(x, yu, yl, name=name, color=line[\"color\"], alpha=0.2):\n",
    "                self.error_traces.append((row, col, t_))\n",
    "    \n",
    "    \n",
    "    def add_bar(self, y, name, x=None, color_key=None, row=1, col=1, line=None, include_line=True,\n",
    "                **trace_kwargs):\n",
    "        \n",
    "        if include_line:\n",
    "            self.add_trace(y=y, name=name, color_key=color_key, line=line, row=row, col=col, **trace_kwargs)\n",
    "        self.add_trace(y=y, name=name, color_key=color_key, kind=go.Bar, line=line, row=row, col=col, **trace_kwargs)\n",
    "        \n",
    "        \n",
    "    \n",
    "    def make_fig(self, **fig_kwargs):\n",
    "\n",
    "        data = {}\n",
    "        max_row = 1\n",
    "        max_col = 1\n",
    "        for r, c, t in self.traces:\n",
    "            max_row = max(r, max_row)\n",
    "            max_col = max(c, max_col)\n",
    "            data[t.name] = pd.Series(t.y, index=t.x)\n",
    "            \n",
    "        customdata = pd.DataFrame(data)\n",
    "        fig = make_subplots(rows=max_row, cols=max_col, **fig_kwargs)\n",
    "        for r, c, t in self.traces:\n",
    "            if self.merge_hover:\n",
    "                cus_cols = sorted(customdata)\n",
    "                ho = \"<br />\".join([\"{name}=%{{customdata[{i}]:.3f}}\".format(i=i, name=name) for i,name in enumerate(cus_cols)])\n",
    "                hovertemplate = \"%{x}<br>\" + f\"{t.name}: \" +\"%{y}<br><br>\"+f\"{ho}<extra></extra>\"\n",
    "                t.customdata = customdata[cus_cols]\n",
    "                t.hovertemplate = hovertemplate\n",
    "            # t.hoverlabel = {'bgcolor': 'white'}\n",
    "            fig.add_trace(t, row=r, col=c)\n",
    "                        \n",
    "        for r, c, t in self.error_traces:\n",
    "            fig.add_trace(t, row=r, col=c)\n",
    "        return fig"
   ]
  },
  {
   "cell_type": "code",
   "execution_count": 26,
   "metadata": {},
   "outputs": [],
   "source": [
    "def download_and_prepare_run_data(run, which=\"mean\"):\n",
    "    output_file_path = settings.TOP_DIR.joinpath('results', 'drift', run.display_name+\".csv\")\n",
    "    fname = str(output_file_path)\n",
    "    run.download_file(\"outputs/output.csv\", output_file_path=output_file_path)\n",
    "    \n",
    "    combined_df = pd.read_csv(str(fname), index_col=0, header=[0, 1, 2, 3])\n",
    "    combined_df.index = pd.to_datetime(combined_df.index)\n",
    "    flip = column_xs(combined_df, include=[\"pval\"])\n",
    "    combined_df[flip] = 1-combined_df[flip]\n",
    "    \n",
    "    error_df = combined_df.swaplevel(0, -1, axis=1)[[\"std\"]].swaplevel(0, -1, axis=1).droplevel(-1, axis=1).copy()\n",
    "    combined_df = combined_df.swaplevel(0, -1, axis=1)[[which]].swaplevel(0, -1, axis=1).droplevel(-1, axis=1).copy()\n",
    "    \n",
    "    return error_df, combined_df\n",
    "\n",
    "\n",
    "def calc_stats(other_df, standardize_dates):\n",
    "    standardize_ix = pd.date_range(*standardize_dates)\n",
    "    stats = other_df.dropna(axis=1).reindex(standardize_ix)\n",
    "    stats = stats.agg([\"mean\", \"std\"])\n",
    "    return stats\n",
    "\n",
    "def standardize(other_df, standardize_dates=None, stats=None, clip=None) -> pd.DataFrame:\n",
    "    \n",
    "    if stats is None:\n",
    "        stats = calc_stats(other_df, standardize_dates)\n",
    "    otherstd = other_df.copy()\n",
    "    # cannot divide by zero\n",
    "    std0 = stats.loc['std'] == 0\n",
    "    stats.loc[\"std\", stats.loc['std'] == 0] = 1\n",
    "    \n",
    "    otherstd = (otherstd-stats.loc['mean'])/(stats.loc[\"std\"])\n",
    "    bad_cols = otherstd.columns[otherstd.isnull().max(axis=0)].tolist()\n",
    "    # print(\"bad columns after standardization:\", bad_cols)\n",
    "    \n",
    "    if clip is not None:\n",
    "        otherstd = otherstd.clip(-1*clip, clip)\n",
    "    \n",
    "    return otherstd\n",
    "\n",
    "def calculate_weights(yp, otherstd) -> pd.DataFrame:\n",
    "    all_corr_df = correlate_performance(yp.rename('auroc'), otherstd)\n",
    "    all_ig_df = mutual_info_performance(yp.rename('auroc'), otherstd, bins=25)\n",
    "    m_ = all_ig_df.to_frame().join(all_corr_df.apply(lambda x: max(0, x)).rename('corr')).join(all_corr_df.abs().rename('abs(corr)'))\n",
    "    m_ = m_.join(m_.mean(axis=1).rename('mean[abs(corr),info_gain]'))\n",
    "    m_ = m_.assign(no_weights=1)\n",
    "    m_ = m_.fillna(0)\n",
    "    \n",
    "    return m_\n",
    "\n",
    "class DriftFromRun(object):\n",
    "    \n",
    "    which = \"mean\"\n",
    "    standardize_dates = (settings.PADCHEST_SPLIT_DATES[0], settings.PADCHEST_SPLIT_DATES[1])\n",
    "    stat = ['distance']\n",
    "    span = 7\n",
    "    clip = 10\n",
    "    # performance_col = (\"performance\", \"micro avg\", \"auroc\")\n",
    "    performance_col = (\"performance\", \"Pneumonia\", \"auroc\")\n",
    "    # performance_col = (\"performance\", \"Pleural Abnormalities\", \"auroc\")\n",
    "    graph_start = \"2014-01-01\"\n",
    "    graph_end = \"2014-12-31\"\n",
    "    \n",
    "    def __init__(self, run):\n",
    "        \n",
    "        error_df, combined_df = download_and_prepare_run_data(run, which=self.which)\n",
    "        perf_df = combined_df[self.performance_col]\n",
    "        other_cols = column_xs(combined_df, exclude=['performance', 'count'])\n",
    "        other_df = combined_df[other_cols]\n",
    "        cxs = column_xs(other_df, include=self.stat)\n",
    "        otherstd = standardize(other_df[cxs], self.standardize_dates, clip=self.clip)\n",
    "        \n",
    "        self.standardize_ix = pd.date_range(*self.standardize_dates)\n",
    "        \n",
    "        count_cols = column_xs(combined_df, ['support'])\n",
    "        count_cols = [c for c in count_cols if 'avg' not in c[1]]\n",
    "        label_counts = combined_df[count_cols]\n",
    "        label_counts.columns = [c[1] for c in label_counts.columns]\n",
    "        num_samples = combined_df['count'].iloc[:, 0]\n",
    "        \n",
    "        self.label_rates = label_counts.div(num_samples, axis=0)\n",
    "        \n",
    "        vae_cols = [c for c in list(otherstd) if \"mu.\" in c[0]]\n",
    "        score_cols = [c for c in list(otherstd) if \"activation.\" in c[0]]\n",
    "        metadata_cols = sorted(set(otherstd).difference(vae_cols).difference(score_cols))\n",
    "        \n",
    "        self.other_cols = other_cols\n",
    "        self.vae_cols = vae_cols\n",
    "        self.score_cols = score_cols\n",
    "        self.metadata_cols = metadata_cols\n",
    "        \n",
    "        self.combined_df = combined_df\n",
    "        self.otherstd = otherstd\n",
    "        self.perf_df = perf_df\n",
    "        self.perf_error_df = error_df[self.performance_col]\n",
    "        self.m_ = calculate_weights(perf_df.reindex(self.standardize_ix), otherstd.reindex(self.standardize_ix))\n",
    "        \n",
    "    def unify_metrics(self, cols=None, weights=\"abs(corr)\", start=None, end=None, m=None):\n",
    "        if cols is None:\n",
    "            cols = self.otherstd.columns.tolist()\n",
    "        if m is None:\n",
    "            m=self.m_\n",
    "        return -w_avg(self.otherstd[cols], weights=m[weights].to_dict())\n",
    "mega_m = pd.read_pickle(\"mega_m.pkl\")"
   ]
  },
  {
   "cell_type": "code",
   "execution_count": 27,
   "metadata": {},
   "outputs": [
    {
     "name": "stdout",
     "output_type": "stream",
     "text": [
      "peds_distance\n",
      "Baseline\n"
     ]
    },
    {
     "name": "stderr",
     "output_type": "stream",
     "text": [
      "D:\\Code\\MLOpsDay2\\MedImaging-ModelDriftMonitoring\\.venv\\lib\\site-packages\\pandas\\core\\reshape\\merge.py:643: UserWarning:\n",
      "\n",
      "merging between different levels can give an unintended result (3 levels on the left,1 on the right)\n",
      "\n"
     ]
    },
    {
     "name": "stdout",
     "output_type": "stream",
     "text": [
      "Peds. Injected\n"
     ]
    },
    {
     "name": "stderr",
     "output_type": "stream",
     "text": [
      "D:\\Code\\MLOpsDay2\\MedImaging-ModelDriftMonitoring\\.venv\\lib\\site-packages\\pandas\\core\\reshape\\merge.py:643: UserWarning:\n",
      "\n",
      "merging between different levels can give an unintended result (3 levels on the left,1 on the right)\n",
      "\n"
     ]
    }
   ],
   "source": [
    "figure_name = \"peds\" + \"_\" + \"+\".join(DriftFromRun.stat)\n",
    "print(figure_name)\n",
    "\n",
    "runs = {\n",
    "    \"Baseline\": (\"tender_pear_lfbd6wwg\", \"generate-drift-csv-3\"),\n",
    "    \"Peds. Injected\": (\"boring_cartoon_8tm99btn\", \"generate-drift-csv-peds2\"),\n",
    "    # \"Peds2\": (\"musing_tail_jrl2n117\", \"generate-drift-csv-peds2\"),\n",
    "    # \"Peds3\": (\"hungry_pasta_790x5bdw\", \"generate-drift-csv-peds2\"),\n",
    "    }\n",
    "verbose_name = \"baseline\"\n",
    "graph_start = \"2014-03-01\"\n",
    "graph_end = \"2015-01-01\"\n",
    "\n",
    "x = pd.date_range(pd.to_datetime(graph_start)-pd.DateOffset(n=30), pd.to_datetime(graph_end)+pd.DateOffset(n=30))\n",
    "\n",
    "runs_ = {}\n",
    "builds = {}\n",
    "score_graphs = {}\n",
    "perf_graphs = {}\n",
    "score_graphs_mega = {}\n",
    "for name, (run_name, experiment) in runs.items():\n",
    "    print(name)\n",
    "    experiment = Experiment(ws, experiment)\n",
    "    run = get_run(run_name, experiment)\n",
    "    build = DriftFromRun(run)\n",
    "    score_unify = build.unify_metrics(build.score_cols+build.vae_cols).reindex(x)\n",
    "    runs_[name] = run\n",
    "    builds[name] = build\n",
    "    score_graphs[name] = score_unify\n",
    "    perf_graphs[name] = pd.concat([build.perf_df.reindex(x).rename(\"yp\"), build.perf_error_df.reindex(x).rename(\"ye\")], axis=1)\n",
    "    \n",
    "    score_graphs_mega[name] = build.unify_metrics(build.score_cols+build.vae_cols, m=mega_m).reindex(x) \n",
    "    \n",
    "    \n"
   ]
  },
  {
   "cell_type": "code",
   "execution_count": 28,
   "metadata": {},
   "outputs": [
    {
     "data": {
      "text/plain": [
       "{'A': '2014-06-01', 'B': '2014-09-01'}"
      ]
     },
     "execution_count": 28,
     "metadata": {},
     "output_type": "execute_result"
    }
   ],
   "source": [
    "dates = {\"A\": \"2014-06-01\", \"B\": \"2014-09-01\"}\n",
    "\n",
    "dates"
   ]
  },
  {
   "cell_type": "code",
   "execution_count": 30,
   "metadata": {},
   "outputs": [
    {
     "data": {
      "application/vnd.plotly.v1+json": {
       "config": {
        "plotlyServerURL": "https://plot.ly"
       },
       "data": [
        {
         "connectgaps": false,
         "customdata": [
          [
           null,
           null
          ],
          [
           null,
           null
          ],
          [
           null,
           null
          ],
          [
           null,
           null
          ],
          [
           null,
           null
          ],
          [
           null,
           null
          ],
          [
           null,
           null
          ],
          [
           null,
           null
          ],
          [
           null,
           null
          ],
          [
           null,
           null
          ],
          [
           null,
           null
          ],
          [
           null,
           null
          ],
          [
           null,
           null
          ],
          [
           -1.9809742965119477,
           -2.05752302613014
          ],
          [
           -1.6099984362439623,
           -1.704383483140813
          ],
          [
           -1.341395605606877,
           -1.4494148090702303
          ],
          [
           -1.2038353248219134,
           -1.316523670377067
          ],
          [
           -1.1151198938168023,
           -1.2375674078045138
          ],
          [
           -0.9217694734211215,
           -1.0419098276291339
          ],
          [
           -0.7636683060495443,
           -0.8791212873777292
          ],
          [
           -0.6085642923440262,
           -0.7253727347926553
          ],
          [
           -0.4906160781614288,
           -0.6115584304666463
          ],
          [
           -0.36851033188306187,
           -0.4860790909622612
          ],
          [
           -0.2902442499790137,
           -0.39653341399315617
          ],
          [
           -0.22049122382216682,
           -0.3297825498621372
          ],
          [
           -0.17592498785596347,
           -0.2841570181064766
          ],
          [
           -0.14747513314243504,
           -0.2492691110963878
          ],
          [
           -0.10616720592829461,
           -0.207900496817772
          ],
          [
           -0.08508459784099365,
           -0.17842648194543825
          ],
          [
           -0.07138821184924139,
           -0.16436996043656799
          ],
          [
           -0.04873040094496054,
           -0.15831626030591164
          ],
          [
           -0.036522180432591436,
           -0.1472445567039178
          ],
          [
           -0.011650312929579392,
           -0.11794948721713396
          ],
          [
           0.0021262960508098847,
           -0.09108951121786044
          ],
          [
           0.026607031153929327,
           -0.06751775058746032
          ],
          [
           0.044476969188653966,
           -0.04099182768962435
          ],
          [
           0.07633689882099857,
           -0.0022872679534061574
          ],
          [
           0.09894243436755265,
           0.019302617454997503
          ],
          [
           0.10809196769442701,
           0.026053270469728988
          ],
          [
           0.11425068969474163,
           0.037981142233811806
          ],
          [
           0.11435201928802816,
           0.04173957902865652
          ],
          [
           0.1330932824204572,
           0.06526931089752461
          ],
          [
           0.141919314895615,
           0.08480931945890277
          ],
          [
           0.15836438360485156,
           0.09182630529847614
          ],
          [
           0.1690585192778998,
           0.1111069214870192
          ],
          [
           0.1456726983463445,
           0.08829474533946388
          ],
          [
           0.11738549287833723,
           0.06520658540576227
          ],
          [
           0.08306051738716305,
           0.044038100411871145
          ],
          [
           0.06749156148496376,
           0.029753181281595622
          ],
          [
           0.023256774823667108,
           -0.021664615328334125
          ],
          [
           -0.008543689667109696,
           -0.05257864900902678
          ],
          [
           -0.08385148200542773,
           -0.1367361561137618
          ],
          [
           -0.1831174815790133,
           -0.24606726671626078
          ],
          [
           -0.2189488511323361,
           -0.29921873172101326
          ],
          [
           -0.2365009519388067,
           -0.30608159364766485
          ],
          [
           -0.2422992492444549,
           -0.30911592287314094
          ],
          [
           -0.2391533902716504,
           -0.28921227250844733
          ],
          [
           -0.22498460048264748,
           -0.2591815493030944
          ],
          [
           -0.21133088449519494,
           -0.23988026151706313
          ],
          [
           -0.20962375864912694,
           -0.23938604479628067
          ],
          [
           -0.19467696312207813,
           -0.21983984916882082
          ],
          [
           -0.1737408788796397,
           -0.18897880243476095
          ],
          [
           -0.15044442776198094,
           -0.14360296068231904
          ],
          [
           -0.12791824948913297,
           -0.10169087999223303
          ],
          [
           -0.10293288748543789,
           -0.06618581664363286
          ],
          [
           -0.1061876944411212,
           -0.039567267706568036
          ],
          [
           -0.13205649513028472,
           -0.035423268029986535
          ],
          [
           -0.17234471714377342,
           -0.05694905449565244
          ],
          [
           -0.21288241945511388,
           -0.04533203607891806
          ],
          [
           -0.21448588303454955,
           -0.03685382005832474
          ],
          [
           -0.2549378732745436,
           -0.06783592297373574
          ],
          [
           -0.31572668905849305,
           -0.09385387362437042
          ],
          [
           -0.4319399579949219,
           -0.16597735431338664
          ],
          [
           -0.5211282301138305,
           -0.23491546846455322
          ],
          [
           -0.5675995524247275,
           -0.24840524768280883
          ],
          [
           -0.5439739199221855,
           -0.22888212355390553
          ],
          [
           -0.5090908940445071,
           -0.2107055513805274
          ],
          [
           -0.5251066317690491,
           -0.2562169117977786
          ],
          [
           -0.5592161272099251,
           -0.31542276100310745
          ],
          [
           -0.5832448572098362,
           -0.3482865597461368
          ],
          [
           -0.6045085413733959,
           -0.35504762469492124
          ],
          [
           -0.6672566775990673,
           -0.3991296545505752
          ],
          [
           -0.7038990913465707,
           -0.4105300821838379
          ],
          [
           -0.7069422322154064,
           -0.410985289776073
          ],
          [
           -0.728590995366585,
           -0.42047531409342714
          ],
          [
           -0.74945223859442,
           -0.4499896341609461
          ],
          [
           -0.7926350042960163,
           -0.4977697915698936
          ],
          [
           -0.8284221558952976,
           -0.5283433139023536
          ],
          [
           -0.8104016562542241,
           -0.5137363973019125
          ],
          [
           -0.7468464905346915,
           -0.47876418268130777
          ],
          [
           -0.6779816573162131,
           -0.4100727253118699
          ],
          [
           -0.5981284889024605,
           -0.3700469415499299
          ],
          [
           -0.5545811072692637,
           -0.3390879612775542
          ],
          [
           -0.49946374748031563,
           -0.3128459357211706
          ],
          [
           -0.482089657144508,
           -0.31953322133595286
          ],
          [
           -0.44311705922836514,
           -0.2991874890782534
          ],
          [
           -0.3903211548415286,
           -0.2569796950791397
          ],
          [
           -0.3376596975581999,
           -0.1952081751595567
          ],
          [
           -0.28395626226657833,
           -0.12512427657851147
          ],
          [
           -0.23829149429254204,
           -0.08965006893723637
          ],
          [
           -0.21579720097487165,
           -0.0610175577270081
          ],
          [
           -0.18654135090805513,
           -0.04092878476344238
          ],
          [
           -0.1689217687869053,
           -0.034076717311978054
          ],
          [
           -0.1643810552349253,
           -0.011012095249623984
          ],
          [
           -0.1896702592108205,
           -0.021055660721945497
          ],
          [
           -0.1994473923801149,
           -0.02218003647481581
          ],
          [
           -0.23331493811078255,
           -0.04820529635060333
          ],
          [
           -0.3015797486876444,
           -0.08757155539173714
          ],
          [
           -0.3816897327875728,
           -0.15471162504123956
          ],
          [
           -0.4370658168776512,
           -0.19852223563247684
          ],
          [
           -0.47416955888240236,
           -0.2317625771622417
          ],
          [
           -0.5106129283194639,
           -0.22860088907103546
          ],
          [
           -0.5158175357497294,
           -0.20565904179238892
          ],
          [
           -0.5328176391127827,
           -0.18876877963703345
          ],
          [
           -0.5535416904888053,
           -0.1723785108224139
          ],
          [
           -0.5831206830837488,
           -0.16022912193739203
          ],
          [
           -0.6546466569079481,
           -0.17377665680495336
          ],
          [
           -0.6846710125070019,
           -0.16569407833642266
          ],
          [
           -0.683363645772456,
           -0.16062871480132063
          ],
          [
           -0.6992094485075033,
           -0.17083792850799737
          ],
          [
           -0.7305803482512909,
           -0.1971052322747691
          ],
          [
           -0.7948186435472316,
           -0.24957914757584787
          ],
          [
           -0.8566707911713394,
           -0.2887632843651468
          ],
          [
           -0.8383798126828711,
           -0.8103036660068379
          ],
          [
           -0.8005827578823297,
           -1.4598725938482593
          ],
          [
           -0.7578858569874553,
           -2.1892893640626667
          ],
          [
           -0.7218658992047237,
           -2.9597946237210433
          ],
          [
           -0.7139666073951141,
           -3.639720361666848
          ],
          [
           -0.7296867739017415,
           -4.195114095673319
          ],
          [
           -0.7830638430199277,
           -4.676874075938395
          ],
          [
           -0.8524834323662609,
           -5.111100044641513
          ],
          [
           -0.8765933825688342,
           -5.48251224327864
          ],
          [
           -0.8839960907916303,
           -5.795592279598369
          ],
          [
           -0.9187029473409521,
           -6.087611819354236
          ],
          [
           -0.9608756871661783,
           -6.347929410398555
          ],
          [
           -1.0318312817801367,
           -6.555983853655698
          ],
          [
           -1.0744817543038745,
           -6.7211437651399395
          ],
          [
           -1.0650945494937303,
           -6.868856106276036
          ],
          [
           -1.0459839200469574,
           -6.991572877351832
          ],
          [
           -0.9972623486913861,
           -7.086966995191517
          ],
          [
           -0.9189303263717977,
           -7.181738366856219
          ],
          [
           -0.842297417296867,
           -7.263978756882989
          ],
          [
           -0.7851446534901044,
           -7.334876554213959
          ],
          [
           -0.7534435381479727,
           -7.394951642732822
          ],
          [
           -0.7164461335835138,
           -7.4530576618438795
          ],
          [
           -0.7103171092795647,
           -7.4966816739481805
          ],
          [
           -0.7021805937147753,
           -7.538310045053378
          ],
          [
           -0.7439014737151513,
           -7.575811991492972
          ],
          [
           -0.8076389744080935,
           -7.623192764141469
          ],
          [
           -0.8746061528037758,
           -7.666571048355181
          ],
          [
           -0.976540580849584,
           -7.720396394451444
          ],
          [
           -1.1015727420396069,
           -7.776141405438941
          ],
          [
           -1.1835563466710046,
           -7.817159830216804
          ],
          [
           -1.2213720688388758,
           -7.844665126500519
          ],
          [
           -1.3000239460874157,
           -7.87392291670781
          ],
          [
           -1.3836287327961596,
           -7.897435917643774
          ],
          [
           -1.4486112896938275,
           -7.919066018140282
          ],
          [
           -1.504189157335994,
           -7.9301608104531205
          ],
          [
           -1.5926317476190113,
           -7.93709134280412
          ],
          [
           -1.7173794974370598,
           -7.933588330532842
          ],
          [
           -1.8634186124566765,
           -7.938163635268526
          ],
          [
           -1.9848244295541866,
           -7.941538145768233
          ],
          [
           -2.1207343236488865,
           -7.947578586286802
          ],
          [
           -2.254161111495728,
           -7.954671963281952
          ],
          [
           -2.3833988448545576,
           -7.9574958327229695
          ],
          [
           -2.4897208341391086,
           -7.960918141064005
          ],
          [
           -2.562799215205758,
           -7.959290896722166
          ],
          [
           -2.5767868077712515,
           -7.958820714914615
          ],
          [
           -2.587705140781066,
           -7.968269157632474
          ],
          [
           -2.617141443300024,
           -7.974848152419003
          ],
          [
           -2.673372782626785,
           -7.977426437726674
          ],
          [
           -2.7537800171097078,
           -7.9871157193613795
          ],
          [
           -2.831620162604532,
           -7.987699226962766
          ],
          [
           -2.8335638662214415,
           -7.9891398410492505
          ],
          [
           -2.771845442540664,
           -7.988854012384009
          ],
          [
           -2.723899944508552,
           -7.986096926484889
          ],
          [
           -2.6834240614194114,
           -7.977859316499504
          ],
          [
           -2.641087741530931,
           -7.970675045224942
          ],
          [
           -2.608859569567487,
           -7.9674011812252985
          ],
          [
           -2.5538584269947724,
           -7.963232299046634
          ],
          [
           -2.5025454781490617,
           -7.96026385907032
          ],
          [
           -2.481651918721048,
           -7.961856969749885
          ],
          [
           -2.4602814595742486,
           -7.9654990847892115
          ],
          [
           -2.433801500930466,
           -7.9689306469538534
          ],
          [
           -2.4744771787057425,
           -7.978935325902359
          ],
          [
           -2.5006854999575463,
           -7.983698207846428
          ],
          [
           -2.5220826058849846,
           -7.982161295113457
          ],
          [
           -2.523065070003822,
           -7.980333892572418
          ],
          [
           -2.5342289544775047,
           -7.981085751804282
          ],
          [
           -2.5115349887119756,
           -7.981045697287958
          ],
          [
           -2.446863973504614,
           -7.984017909913241
          ],
          [
           -2.369070789827521,
           -7.991772226423285
          ],
          [
           -2.3053747114219076,
           -7.995335219431148
          ],
          [
           -2.262505494657044,
           -8.000001867176717
          ],
          [
           -2.2313364183699265,
           -8.007400760790036
          ],
          [
           -2.1858300048315975,
           -8.009257157341631
          ],
          [
           -2.1292043463474566,
           -8.0111757625915
          ],
          [
           -2.1255924661103567,
           -8.01691906060092
          ],
          [
           -2.138271129447399,
           -8.01830741988751
          ],
          [
           -2.1731398416978025,
           -8.013309439748502
          ],
          [
           -2.2165603275647188,
           -8.0192451432754
          ],
          [
           -2.2263391613683265,
           -8.02066284234379
          ],
          [
           -2.2249724016124337,
           -8.020808320280823
          ],
          [
           -2.2893113926895614,
           -8.02090467733539
          ],
          [
           -2.3614444404577513,
           -8.026723042282418
          ],
          [
           -2.495036890570969,
           -8.028163209315954
          ],
          [
           -2.6751552061799644,
           -8.03889170105924
          ],
          [
           -2.827871049469369,
           -8.05112745623071
          ],
          [
           -2.9271537042936333,
           -8.054838253569821
          ],
          [
           -3.008812945655804,
           -8.055378787506056
          ],
          [
           -3.064139822961626,
           -8.055548004540542
          ],
          [
           -3.131165260132357,
           -8.060341441585845
          ],
          [
           -3.1308603175371412,
           -8.060040796921793
          ],
          [
           -3.140698247403281,
           -8.056118842240958
          ],
          [
           -3.121254305562564,
           -8.041307107002764
          ],
          [
           -3.124825163472022,
           -8.039783398225298
          ],
          [
           -3.1207416539352053,
           -8.047928366843136
          ],
          [
           -3.167677114354165,
           -8.060711777988198
          ],
          [
           -3.240794647410873,
           -8.081323790022125
          ],
          [
           -3.346771349706542,
           -8.096318016676289
          ],
          [
           -3.4144315138259986,
           -8.109639639250776
          ],
          [
           -3.4576204864484117,
           -8.124464845069273
          ],
          [
           -3.431052082690783,
           -8.143840788697302
          ],
          [
           -3.392401004685725,
           -8.158255811060808
          ],
          [
           -3.2976083935382663,
           -8.182647551442082
          ],
          [
           -3.184754401552949,
           -8.205073173492028
          ],
          [
           -3.111869079210743,
           -8.23109588023831
          ],
          [
           -3.061099567798253,
           -8.253610461956475
          ],
          [
           -2.9722968026651597,
           -8.271176297977801
          ],
          [
           -2.8343048556531802,
           -8.28947847272329
          ],
          [
           -2.704326055414376,
           -8.309251437956457
          ],
          [
           -2.5908491315715025,
           -8.330076775019304
          ],
          [
           -2.4699455891690647,
           -8.351061755065802
          ],
          [
           -2.3677790972183916,
           -8.368810053284959
          ],
          [
           -2.280012761100982,
           -8.391922248951335
          ],
          [
           -2.190206888136136,
           -8.414114559715449
          ],
          [
           -2.132549288362515,
           -8.43342942920719
          ],
          [
           -2.073988177777722,
           -8.447121608700115
          ],
          [
           -2.019574447789445,
           -8.461318609543868
          ],
          [
           -2.00191876916069,
           -8.481549635405306
          ],
          [
           -1.9774069983008846,
           -8.506149277868632
          ],
          [
           -1.978096236181131,
           -8.527606251210539
          ],
          [
           -1.9984570593766122,
           -8.54726667739955
          ],
          [
           -1.9811955468623441,
           -8.559608225766828
          ],
          [
           -1.9242759338209299,
           -8.573134019092231
          ],
          [
           -1.8776112651105217,
           -8.58506624606943
          ],
          [
           -1.889048039914146,
           -8.595515194097375
          ],
          [
           -1.870634651782593,
           -8.604766535842288
          ],
          [
           -1.8540585711064514,
           -8.615551642044894
          ],
          [
           -1.8141548555126938,
           -8.618894832630378
          ],
          [
           -1.760892469982339,
           -8.621569439137515
          ],
          [
           -1.7235021652099114,
           -8.624760604856423
          ],
          [
           -1.696758011873824,
           -8.625616189436728
          ],
          [
           -1.6945558253233066,
           -8.623453556008288
          ],
          [
           -1.6838531980659068,
           -8.627930291837421
          ],
          [
           -1.6790174046652069,
           -8.628175994074446
          ],
          [
           -1.6908258413881465,
           -8.62393755210617
          ],
          [
           -1.688594533566699,
           -8.619596279618825
          ],
          [
           -1.6365957218228642,
           -8.617422881958026
          ],
          [
           -1.547519177707739,
           -8.62345640669017
          ],
          [
           -1.445536186039796,
           -8.626815842960353
          ],
          [
           -1.3751341005648299,
           -8.632357587838088
          ],
          [
           -1.3420655143302243,
           -8.632538246280202
          ],
          [
           -1.319199214404589,
           -8.637112142954065
          ],
          [
           -1.3192045207925938,
           -8.636552188872837
          ],
          [
           -1.3209120335951043,
           -8.635588450013481
          ],
          [
           -1.30241970888483,
           -8.63118565155898
          ],
          [
           -1.273517392459427,
           -8.625407144939514
          ],
          [
           -1.2443479050484758,
           -8.625171115826781
          ],
          [
           -1.213419600782568,
           -8.624669852457023
          ],
          [
           -1.1714900497034424,
           -8.622560734000126
          ],
          [
           -1.142293035457991,
           -8.623626761087174
          ],
          [
           -1.1099660722528677,
           -8.62413907358899
          ],
          [
           -1.1127091364652468,
           -8.62695530146461
          ],
          [
           -1.1276653944380886,
           -8.628132274916718
          ],
          [
           -1.1422752058802692,
           -8.630318211479487
          ],
          [
           -1.155321732465269,
           -8.63449312226689
          ],
          [
           -1.1521065166933866,
           -8.633782883669747
          ],
          [
           -1.1293265053386112,
           -8.636388417267847
          ],
          [
           -1.1146660886728583,
           -8.635764681176562
          ],
          [
           -1.1233752208522445,
           -8.638428923727595
          ],
          [
           -1.1617426289665198,
           -8.643682661675454
          ],
          [
           -1.2010340061854168,
           -8.644315315825109
          ],
          [
           -1.2363537156391307,
           -8.647234283141131
          ],
          [
           -1.2381377770239765,
           -8.647137137338634
          ],
          [
           -1.2074415739702002,
           -8.645779035160636
          ],
          [
           -1.1650678053857864,
           -8.643338513097126
          ],
          [
           -1.1326570182609161,
           -8.643127235206654
          ],
          [
           -1.095216895988248,
           -8.646653565134564
          ],
          [
           -1.0687139119606157,
           -8.643367142070362
          ],
          [
           -1.0662957187017923,
           -8.637866928365527
          ],
          [
           -1.1119110348134804,
           -8.633123907886898
          ],
          [
           -1.1490772292118527,
           -8.631138360829983
          ],
          [
           -1.181860257261877,
           -8.63329875956965
          ],
          [
           -1.2223159933747398,
           -8.637440171328462
          ],
          [
           -1.2473911778393176,
           -8.637043562962248
          ],
          [
           -1.2645323778814557,
           -8.635915767808124
          ],
          [
           -1.2726468129336743,
           -8.639222165991837
          ],
          [
           -1.2981646222849803,
           -8.639435074850862
          ],
          [
           -1.300373507990192,
           -8.641330368829346
          ],
          [
           -1.2739770974848168,
           -8.642085836728242
          ],
          [
           -1.2657002242946156,
           -8.639597006858887
          ],
          [
           -1.2849126522987764,
           -8.637887903748982
          ],
          [
           -1.3376378548918189,
           -8.63494028513127
          ],
          [
           -1.4062615366863003,
           -8.633811680152663
          ],
          [
           -1.4695981954017043,
           -8.631960142888147
          ],
          [
           -1.5108582591613324,
           -8.623008329542081
          ],
          [
           -1.4995403767181381,
           -8.617864464081775
          ],
          [
           -1.4560246032196809,
           -8.614873055902896
          ],
          [
           -1.4130089613805474,
           -8.610024999813755
          ],
          [
           -1.3758407489923423,
           -8.60682362816459
          ],
          [
           -1.3466584494557041,
           -8.603092855840291
          ],
          [
           -1.3386765697064993,
           -8.598799587614904
          ],
          [
           -1.33453450345559,
           -8.598998121310773
          ],
          [
           -1.3635130629342471,
           -8.597925463233237
          ],
          [
           -1.4375239928783532,
           -8.599598466497623
          ],
          [
           -1.58216095661197,
           -8.600748239342199
          ],
          [
           -1.749599105467766,
           -8.605145634573178
          ],
          [
           -1.9054697579534068,
           -8.608792472264838
          ],
          [
           -2.1247187901482074,
           -8.618321450323284
          ],
          [
           -2.30373323860612,
           -8.62457853972722
          ],
          [
           -2.4346970131167534,
           -8.626600151912898
          ],
          [
           -2.566430272984032,
           -8.630080783797828
          ],
          [
           -2.703791056870529,
           -8.633766066336504
          ],
          [
           -2.846303760379952,
           -8.635505747676273
          ],
          [
           -2.964608193297946,
           -8.63640094372763
          ],
          [
           -3.090216944061765,
           -8.634026421274777
          ],
          [
           -3.1665889519733055,
           -8.634477428468665
          ],
          [
           -3.228054790746212,
           -8.635037061968147
          ],
          [
           -3.335658078365346,
           -8.633722504404478
          ],
          [
           -3.474366679475225,
           -8.636306084189824
          ],
          [
           -3.569340315325279,
           -8.635587112801351
          ],
          [
           -3.6567749670739085,
           -8.642776292768126
          ],
          [
           -3.7417715964752083,
           -8.645369056035555
          ],
          [
           -3.8003383548870517,
           -8.650062438622781
          ],
          [
           -3.8390733634105745,
           -8.65489490625494
          ],
          [
           -3.8757334436904376,
           -8.664181047714246
          ],
          [
           -3.870778060507381,
           -8.670505081226606
          ],
          [
           -3.912396222189545,
           -8.682334952367817
          ],
          [
           -3.92213173726012,
           -8.684916265857739
          ],
          [
           -3.9011559090913273,
           -8.68955399081614
          ],
          [
           -3.8803543419591016,
           -8.691180569990046
          ],
          [
           -3.853604214194003,
           -8.696061702519795
          ],
          [
           -3.8188238720318535,
           -8.69666071378822
          ],
          [
           -3.81259887225374,
           -8.69841114475283
          ],
          [
           -3.7985478007912734,
           -8.695846453934783
          ],
          [
           -3.778468089198164,
           -8.69219443292615
          ],
          [
           -3.7210541744644723,
           -8.690616864766701
          ],
          [
           -3.671834011258961,
           -8.682561312317729
          ],
          [
           -3.62127213274562,
           -8.67961474250054
          ],
          [
           -3.597671050971569,
           -8.669185067985742
          ],
          [
           -3.580392082097599,
           -8.664021308221798
          ],
          [
           -3.5505007946257914,
           -8.658353859195794
          ],
          [
           -3.5285982533483287,
           -8.65668809362843
          ],
          [
           -3.5223373240573914,
           -8.651589818868253
          ],
          [
           -3.5022288096556258,
           -8.645805388362371
          ],
          [
           -3.51237755924603,
           -8.641588386214762
          ],
          [
           -3.5415404882945745,
           -8.637541749997572
          ],
          [
           -3.581927283716171,
           -8.632443399128968
          ],
          [
           -3.6128483681365964,
           -8.631430354049103
          ],
          [
           -3.6371534017173865,
           -8.628324859033237
          ],
          [
           -3.661327332762851,
           -8.626065176520674
          ],
          [
           -3.664760881145544,
           -8.629113012182996
          ],
          [
           -3.6857628240783513,
           -8.626587991257109
          ],
          [
           -3.7014413312109196,
           -8.623933182356888
          ],
          [
           -3.731984108523121,
           -8.619862820406325
          ],
          [
           -3.756705056045055,
           -8.617194516733532
          ]
         ],
         "hovertemplate": "%{x}<br>Baseline: %{y}<br><br>Baseline=%{customdata[0]:.3f}<br />Peds. Injected=%{customdata[1]:.3f}<extra></extra>",
         "legendgroup": "Baseline",
         "line": {
          "color": "#636EFA",
          "dash": "solid"
         },
         "name": "Baseline",
         "showlegend": true,
         "type": "scatter",
         "x": [
          "2014-01-30T00:00:00",
          "2014-01-31T00:00:00",
          "2014-02-01T00:00:00",
          "2014-02-02T00:00:00",
          "2014-02-03T00:00:00",
          "2014-02-04T00:00:00",
          "2014-02-05T00:00:00",
          "2014-02-06T00:00:00",
          "2014-02-07T00:00:00",
          "2014-02-08T00:00:00",
          "2014-02-09T00:00:00",
          "2014-02-10T00:00:00",
          "2014-02-11T00:00:00",
          "2014-02-12T00:00:00",
          "2014-02-13T00:00:00",
          "2014-02-14T00:00:00",
          "2014-02-15T00:00:00",
          "2014-02-16T00:00:00",
          "2014-02-17T00:00:00",
          "2014-02-18T00:00:00",
          "2014-02-19T00:00:00",
          "2014-02-20T00:00:00",
          "2014-02-21T00:00:00",
          "2014-02-22T00:00:00",
          "2014-02-23T00:00:00",
          "2014-02-24T00:00:00",
          "2014-02-25T00:00:00",
          "2014-02-26T00:00:00",
          "2014-02-27T00:00:00",
          "2014-02-28T00:00:00",
          "2014-03-01T00:00:00",
          "2014-03-02T00:00:00",
          "2014-03-03T00:00:00",
          "2014-03-04T00:00:00",
          "2014-03-05T00:00:00",
          "2014-03-06T00:00:00",
          "2014-03-07T00:00:00",
          "2014-03-08T00:00:00",
          "2014-03-09T00:00:00",
          "2014-03-10T00:00:00",
          "2014-03-11T00:00:00",
          "2014-03-12T00:00:00",
          "2014-03-13T00:00:00",
          "2014-03-14T00:00:00",
          "2014-03-15T00:00:00",
          "2014-03-16T00:00:00",
          "2014-03-17T00:00:00",
          "2014-03-18T00:00:00",
          "2014-03-19T00:00:00",
          "2014-03-20T00:00:00",
          "2014-03-21T00:00:00",
          "2014-03-22T00:00:00",
          "2014-03-23T00:00:00",
          "2014-03-24T00:00:00",
          "2014-03-25T00:00:00",
          "2014-03-26T00:00:00",
          "2014-03-27T00:00:00",
          "2014-03-28T00:00:00",
          "2014-03-29T00:00:00",
          "2014-03-30T00:00:00",
          "2014-03-31T00:00:00",
          "2014-04-01T00:00:00",
          "2014-04-02T00:00:00",
          "2014-04-03T00:00:00",
          "2014-04-04T00:00:00",
          "2014-04-05T00:00:00",
          "2014-04-06T00:00:00",
          "2014-04-07T00:00:00",
          "2014-04-08T00:00:00",
          "2014-04-09T00:00:00",
          "2014-04-10T00:00:00",
          "2014-04-11T00:00:00",
          "2014-04-12T00:00:00",
          "2014-04-13T00:00:00",
          "2014-04-14T00:00:00",
          "2014-04-15T00:00:00",
          "2014-04-16T00:00:00",
          "2014-04-17T00:00:00",
          "2014-04-18T00:00:00",
          "2014-04-19T00:00:00",
          "2014-04-20T00:00:00",
          "2014-04-21T00:00:00",
          "2014-04-22T00:00:00",
          "2014-04-23T00:00:00",
          "2014-04-24T00:00:00",
          "2014-04-25T00:00:00",
          "2014-04-26T00:00:00",
          "2014-04-27T00:00:00",
          "2014-04-28T00:00:00",
          "2014-04-29T00:00:00",
          "2014-04-30T00:00:00",
          "2014-05-01T00:00:00",
          "2014-05-02T00:00:00",
          "2014-05-03T00:00:00",
          "2014-05-04T00:00:00",
          "2014-05-05T00:00:00",
          "2014-05-06T00:00:00",
          "2014-05-07T00:00:00",
          "2014-05-08T00:00:00",
          "2014-05-09T00:00:00",
          "2014-05-10T00:00:00",
          "2014-05-11T00:00:00",
          "2014-05-12T00:00:00",
          "2014-05-13T00:00:00",
          "2014-05-14T00:00:00",
          "2014-05-15T00:00:00",
          "2014-05-16T00:00:00",
          "2014-05-17T00:00:00",
          "2014-05-18T00:00:00",
          "2014-05-19T00:00:00",
          "2014-05-20T00:00:00",
          "2014-05-21T00:00:00",
          "2014-05-22T00:00:00",
          "2014-05-23T00:00:00",
          "2014-05-24T00:00:00",
          "2014-05-25T00:00:00",
          "2014-05-26T00:00:00",
          "2014-05-27T00:00:00",
          "2014-05-28T00:00:00",
          "2014-05-29T00:00:00",
          "2014-05-30T00:00:00",
          "2014-05-31T00:00:00",
          "2014-06-01T00:00:00",
          "2014-06-02T00:00:00",
          "2014-06-03T00:00:00",
          "2014-06-04T00:00:00",
          "2014-06-05T00:00:00",
          "2014-06-06T00:00:00",
          "2014-06-07T00:00:00",
          "2014-06-08T00:00:00",
          "2014-06-09T00:00:00",
          "2014-06-10T00:00:00",
          "2014-06-11T00:00:00",
          "2014-06-12T00:00:00",
          "2014-06-13T00:00:00",
          "2014-06-14T00:00:00",
          "2014-06-15T00:00:00",
          "2014-06-16T00:00:00",
          "2014-06-17T00:00:00",
          "2014-06-18T00:00:00",
          "2014-06-19T00:00:00",
          "2014-06-20T00:00:00",
          "2014-06-21T00:00:00",
          "2014-06-22T00:00:00",
          "2014-06-23T00:00:00",
          "2014-06-24T00:00:00",
          "2014-06-25T00:00:00",
          "2014-06-26T00:00:00",
          "2014-06-27T00:00:00",
          "2014-06-28T00:00:00",
          "2014-06-29T00:00:00",
          "2014-06-30T00:00:00",
          "2014-07-01T00:00:00",
          "2014-07-02T00:00:00",
          "2014-07-03T00:00:00",
          "2014-07-04T00:00:00",
          "2014-07-05T00:00:00",
          "2014-07-06T00:00:00",
          "2014-07-07T00:00:00",
          "2014-07-08T00:00:00",
          "2014-07-09T00:00:00",
          "2014-07-10T00:00:00",
          "2014-07-11T00:00:00",
          "2014-07-12T00:00:00",
          "2014-07-13T00:00:00",
          "2014-07-14T00:00:00",
          "2014-07-15T00:00:00",
          "2014-07-16T00:00:00",
          "2014-07-17T00:00:00",
          "2014-07-18T00:00:00",
          "2014-07-19T00:00:00",
          "2014-07-20T00:00:00",
          "2014-07-21T00:00:00",
          "2014-07-22T00:00:00",
          "2014-07-23T00:00:00",
          "2014-07-24T00:00:00",
          "2014-07-25T00:00:00",
          "2014-07-26T00:00:00",
          "2014-07-27T00:00:00",
          "2014-07-28T00:00:00",
          "2014-07-29T00:00:00",
          "2014-07-30T00:00:00",
          "2014-07-31T00:00:00",
          "2014-08-01T00:00:00",
          "2014-08-02T00:00:00",
          "2014-08-03T00:00:00",
          "2014-08-04T00:00:00",
          "2014-08-05T00:00:00",
          "2014-08-06T00:00:00",
          "2014-08-07T00:00:00",
          "2014-08-08T00:00:00",
          "2014-08-09T00:00:00",
          "2014-08-10T00:00:00",
          "2014-08-11T00:00:00",
          "2014-08-12T00:00:00",
          "2014-08-13T00:00:00",
          "2014-08-14T00:00:00",
          "2014-08-15T00:00:00",
          "2014-08-16T00:00:00",
          "2014-08-17T00:00:00",
          "2014-08-18T00:00:00",
          "2014-08-19T00:00:00",
          "2014-08-20T00:00:00",
          "2014-08-21T00:00:00",
          "2014-08-22T00:00:00",
          "2014-08-23T00:00:00",
          "2014-08-24T00:00:00",
          "2014-08-25T00:00:00",
          "2014-08-26T00:00:00",
          "2014-08-27T00:00:00",
          "2014-08-28T00:00:00",
          "2014-08-29T00:00:00",
          "2014-08-30T00:00:00",
          "2014-08-31T00:00:00",
          "2014-09-01T00:00:00",
          "2014-09-02T00:00:00",
          "2014-09-03T00:00:00",
          "2014-09-04T00:00:00",
          "2014-09-05T00:00:00",
          "2014-09-06T00:00:00",
          "2014-09-07T00:00:00",
          "2014-09-08T00:00:00",
          "2014-09-09T00:00:00",
          "2014-09-10T00:00:00",
          "2014-09-11T00:00:00",
          "2014-09-12T00:00:00",
          "2014-09-13T00:00:00",
          "2014-09-14T00:00:00",
          "2014-09-15T00:00:00",
          "2014-09-16T00:00:00",
          "2014-09-17T00:00:00",
          "2014-09-18T00:00:00",
          "2014-09-19T00:00:00",
          "2014-09-20T00:00:00",
          "2014-09-21T00:00:00",
          "2014-09-22T00:00:00",
          "2014-09-23T00:00:00",
          "2014-09-24T00:00:00",
          "2014-09-25T00:00:00",
          "2014-09-26T00:00:00",
          "2014-09-27T00:00:00",
          "2014-09-28T00:00:00",
          "2014-09-29T00:00:00",
          "2014-09-30T00:00:00",
          "2014-10-01T00:00:00",
          "2014-10-02T00:00:00",
          "2014-10-03T00:00:00",
          "2014-10-04T00:00:00",
          "2014-10-05T00:00:00",
          "2014-10-06T00:00:00",
          "2014-10-07T00:00:00",
          "2014-10-08T00:00:00",
          "2014-10-09T00:00:00",
          "2014-10-10T00:00:00",
          "2014-10-11T00:00:00",
          "2014-10-12T00:00:00",
          "2014-10-13T00:00:00",
          "2014-10-14T00:00:00",
          "2014-10-15T00:00:00",
          "2014-10-16T00:00:00",
          "2014-10-17T00:00:00",
          "2014-10-18T00:00:00",
          "2014-10-19T00:00:00",
          "2014-10-20T00:00:00",
          "2014-10-21T00:00:00",
          "2014-10-22T00:00:00",
          "2014-10-23T00:00:00",
          "2014-10-24T00:00:00",
          "2014-10-25T00:00:00",
          "2014-10-26T00:00:00",
          "2014-10-27T00:00:00",
          "2014-10-28T00:00:00",
          "2014-10-29T00:00:00",
          "2014-10-30T00:00:00",
          "2014-10-31T00:00:00",
          "2014-11-01T00:00:00",
          "2014-11-02T00:00:00",
          "2014-11-03T00:00:00",
          "2014-11-04T00:00:00",
          "2014-11-05T00:00:00",
          "2014-11-06T00:00:00",
          "2014-11-07T00:00:00",
          "2014-11-08T00:00:00",
          "2014-11-09T00:00:00",
          "2014-11-10T00:00:00",
          "2014-11-11T00:00:00",
          "2014-11-12T00:00:00",
          "2014-11-13T00:00:00",
          "2014-11-14T00:00:00",
          "2014-11-15T00:00:00",
          "2014-11-16T00:00:00",
          "2014-11-17T00:00:00",
          "2014-11-18T00:00:00",
          "2014-11-19T00:00:00",
          "2014-11-20T00:00:00",
          "2014-11-21T00:00:00",
          "2014-11-22T00:00:00",
          "2014-11-23T00:00:00",
          "2014-11-24T00:00:00",
          "2014-11-25T00:00:00",
          "2014-11-26T00:00:00",
          "2014-11-27T00:00:00",
          "2014-11-28T00:00:00",
          "2014-11-29T00:00:00",
          "2014-11-30T00:00:00",
          "2014-12-01T00:00:00",
          "2014-12-02T00:00:00",
          "2014-12-03T00:00:00",
          "2014-12-04T00:00:00",
          "2014-12-05T00:00:00",
          "2014-12-06T00:00:00",
          "2014-12-07T00:00:00",
          "2014-12-08T00:00:00",
          "2014-12-09T00:00:00",
          "2014-12-10T00:00:00",
          "2014-12-11T00:00:00",
          "2014-12-12T00:00:00",
          "2014-12-13T00:00:00",
          "2014-12-14T00:00:00",
          "2014-12-15T00:00:00",
          "2014-12-16T00:00:00",
          "2014-12-17T00:00:00",
          "2014-12-18T00:00:00",
          "2014-12-19T00:00:00",
          "2014-12-20T00:00:00",
          "2014-12-21T00:00:00",
          "2014-12-22T00:00:00",
          "2014-12-23T00:00:00",
          "2014-12-24T00:00:00",
          "2014-12-25T00:00:00",
          "2014-12-26T00:00:00",
          "2014-12-27T00:00:00",
          "2014-12-28T00:00:00",
          "2014-12-29T00:00:00",
          "2014-12-30T00:00:00",
          "2014-12-31T00:00:00",
          "2015-01-01T00:00:00",
          "2015-01-02T00:00:00",
          "2015-01-03T00:00:00",
          "2015-01-04T00:00:00",
          "2015-01-05T00:00:00",
          "2015-01-06T00:00:00",
          "2015-01-07T00:00:00",
          "2015-01-08T00:00:00",
          "2015-01-09T00:00:00",
          "2015-01-10T00:00:00",
          "2015-01-11T00:00:00",
          "2015-01-12T00:00:00",
          "2015-01-13T00:00:00",
          "2015-01-14T00:00:00",
          "2015-01-15T00:00:00",
          "2015-01-16T00:00:00",
          "2015-01-17T00:00:00",
          "2015-01-18T00:00:00",
          "2015-01-19T00:00:00",
          "2015-01-20T00:00:00",
          "2015-01-21T00:00:00",
          "2015-01-22T00:00:00",
          "2015-01-23T00:00:00",
          "2015-01-24T00:00:00",
          "2015-01-25T00:00:00",
          "2015-01-26T00:00:00",
          "2015-01-27T00:00:00",
          "2015-01-28T00:00:00",
          "2015-01-29T00:00:00",
          "2015-01-30T00:00:00",
          "2015-01-31T00:00:00"
         ],
         "xaxis": "x",
         "y": [
          null,
          null,
          null,
          null,
          null,
          null,
          null,
          null,
          null,
          null,
          null,
          null,
          null,
          0.8079649072313939,
          0.7968014049614666,
          0.8019532333562727,
          0.8056017954667238,
          0.8043586334473943,
          0.809052923471412,
          0.8129335974002208,
          0.8100962434602714,
          0.8137445707925324,
          0.8197837566399114,
          0.8250469992698849,
          0.8278228616083119,
          0.8274191230099883,
          0.8274313151908242,
          0.8295303183966749,
          0.8279066815539865,
          0.8306284950239292,
          0.8281489288623513,
          0.8306818784937654,
          0.8319557375522212,
          0.8354024253177723,
          0.8406582560112719,
          0.8457671974351859,
          0.8516729003290341,
          0.858077313696769,
          0.8622830357399403,
          0.8659993460996133,
          0.8728486847247893,
          0.8791869994418077,
          0.8820445319261514,
          0.8822271223235028,
          0.8856273676998736,
          0.8929974650021807,
          0.8956069867614463,
          0.8988262684748645,
          0.8991511548312252,
          0.8991023167651682,
          0.9005503816680048,
          0.9049453621993266,
          0.9105060765973757,
          0.9126896425452937,
          0.9150357239491644,
          0.9168401012901406,
          0.9170589713835945,
          0.9174431950691851,
          0.9182838637530384,
          0.9195433242026737,
          0.9187163324377884,
          0.9170226411984341,
          0.9130929224759684,
          0.910090451806336,
          0.9084878757028065,
          0.9043259935839558,
          0.900524410592265,
          0.897531326180201,
          0.8915199918377285,
          0.8869235903814353,
          0.8814929978797277,
          0.8757733772690364,
          0.8704705826909233,
          0.8696310209877155,
          0.8693729287355088,
          0.869385742634129,
          0.8685129884565036,
          0.8724414875637955,
          0.8742337980029317,
          0.8742324652123973,
          0.8738058789921053,
          0.8734229710515039,
          0.8746560736497672,
          0.8764588318015033,
          0.8751102834646582,
          0.8698723625457182,
          0.8650928235536485,
          0.8611389347881425,
          0.8516772798566967,
          0.8426379177881388,
          0.8393491875220125,
          0.8419552342592891,
          0.8386980042895061,
          0.8415639697783095,
          0.8396457892347692,
          0.8418403408389069,
          0.8457402706378496,
          0.8473605451107238,
          0.8540557966388247,
          0.8581603560048117,
          0.8617014581793973,
          0.8625290121049802,
          0.8636445615550886,
          0.868566329074126,
          0.8674319473547125,
          0.866980803063121,
          0.8674308745463295,
          0.8700253452935462,
          0.8678119124481488,
          0.8672328229055669,
          0.8642184998894914,
          0.8648042472097535,
          0.8659542192843248,
          0.8647588418994687,
          0.8622213820932683,
          0.8652953291982886,
          0.8695464916897697,
          0.8735551845768567,
          0.8708139247569441,
          0.8733165001370686,
          0.8728470699597831,
          0.8719159944500341,
          0.8738172160422247,
          0.8732443004229271,
          0.8683084592520438,
          0.8667932606841415,
          0.8631288588824898,
          0.8545033895448153,
          0.8476190961558551,
          0.8407502301060005,
          0.8315542942883953,
          0.8220683158990004,
          0.8147392178832399,
          0.8108654665700161,
          0.8058563504712881,
          0.7999250154394669,
          0.7977713412999612,
          0.7907927740437082,
          0.7874149960863305,
          0.7864234477338767,
          0.7807067273546354,
          0.7751025941640239,
          0.7715341853988746,
          0.7691270422496486,
          0.7666416223392121,
          0.7666058470829702,
          0.7650641785968366,
          0.7700938931575652,
          0.7648902430005122,
          0.7695943826606062,
          0.7675419294032189,
          0.7720307449632506,
          0.7736118501024573,
          0.7771414218021695,
          0.779133380880981,
          0.7799161038571751,
          0.7791006609370765,
          0.7796297066265402,
          0.7818330784809792,
          0.785896706713032,
          0.7953433029513373,
          0.8017956926711268,
          0.8120867380374718,
          0.8224506988128323,
          0.8259594029282195,
          0.8277275576289991,
          0.8314421689271181,
          0.8321439048116088,
          0.840453642336185,
          0.8421341422678963,
          0.8430006935978158,
          0.8423941795276363,
          0.8426065076170142,
          0.8423021011848851,
          0.8419720567750721,
          0.8401983774075967,
          0.8396865669397027,
          0.8407358012688579,
          0.8421816599513624,
          0.8466290111679253,
          0.8520687247714014,
          0.8569188341162087,
          0.8606888478807007,
          0.8609529571804373,
          0.8555471862015409,
          0.848543240112439,
          0.8421392189968884,
          0.8362179585085776,
          0.8315627858974036,
          0.8240988702202012,
          0.8189468922403889,
          0.8119382194705909,
          0.8040643590886267,
          0.7958179236031764,
          0.7919941785597222,
          0.784577916695031,
          0.7782747169434037,
          0.77482288437061,
          0.7694530138882468,
          0.7601065321940293,
          0.7596560831759629,
          0.7585709528624014,
          0.7590215756472387,
          0.7571312845701197,
          0.755756358745707,
          0.7541911447145803,
          0.7476934882551709,
          0.7403056639238836,
          0.7377695019211156,
          0.7302980333695269,
          0.7062895669379343,
          0.6936979024954669,
          0.6773202116604108,
          0.6683803442865841,
          0.6607212263817386,
          0.6708604367391734,
          0.6797128850603077,
          0.6928141745606097,
          0.7047042767234977,
          0.7134273484423194,
          0.7205274870852642,
          0.7287495558647593,
          0.7323041008781245,
          0.7319423841118778,
          0.7331003130804162,
          0.7309692668971465,
          0.7303077700493993,
          0.7280848253543403,
          0.7273320687936767,
          0.733121462202121,
          0.7401335444822396,
          0.7411081599594219,
          0.7444839704000131,
          0.7401448923667089,
          0.7375983949705116,
          0.7387140969425495,
          0.7460700634675484,
          0.7534112583279431,
          0.7608220914002042,
          0.767333765044505,
          0.7770181382203754,
          0.7874635482412958,
          0.7944643133581087,
          0.7950007700331385,
          0.7869180713299324,
          0.7868169109565263,
          0.7862367795739162,
          0.7867711982941453,
          0.7909538909680696,
          0.7985570126785433,
          0.7954823395676032,
          0.79536947302039,
          0.797577101528679,
          0.8023484463350967,
          0.8098021173304586,
          0.8160276630481763,
          0.8209089833967399,
          0.8228539054151207,
          0.8281858589873332,
          0.8297486701718446,
          0.8313346532751187,
          0.8279145720988211,
          0.8269417351486216,
          0.8318732221771081,
          0.8391550269829511,
          0.8462407974653561,
          0.8505669578498324,
          0.8504164577552509,
          0.8523837896382442,
          0.8535175521456192,
          0.8552105220189863,
          0.8465648998903139,
          0.8409138822317737,
          0.8413199544911507,
          0.8441110529949852,
          0.8518274658691286,
          0.8520568761065499,
          0.859021626088921,
          0.8531412187030298,
          0.8373937122387919,
          0.8292909586819701,
          0.8228099363438599,
          0.8157236848748236,
          0.8091785215056475,
          0.8068009422619636,
          0.8093743442324255,
          0.8124209807384821,
          0.8161376766561325,
          0.8206190595039365,
          0.8234193712962763,
          0.8264860323005234,
          0.8304683766899519,
          0.8342815041292901,
          0.8420697075079799,
          0.8488034707638303,
          0.852412387099643,
          0.8556579356954994,
          0.8578535371087068,
          0.8580004168083677,
          0.8599641243693219,
          0.8632695446836145,
          0.8619103690396287,
          0.8669173586044958,
          0.8687035571636046,
          0.8702599054090102,
          0.8694123663413698,
          0.8691428367040586,
          0.8662000172286614,
          0.8640221831343649,
          0.8702798030950907,
          0.8824261660180672,
          0.890798264645187,
          0.8966843559546532,
          0.8990575451630236,
          0.9015826700831799,
          0.9027205719776128,
          0.9016646713466001,
          0.9032656859872686,
          0.9022620611217378,
          0.8977858330388818,
          0.8941090986122057,
          0.8903295430313547,
          0.8872638638838695,
          0.884106029949064,
          0.8786752869928659,
          0.8751188283435034,
          0.8754331992285849,
          0.8766019905817029,
          0.8783675283994054,
          0.8772231158925703,
          0.875403190171272,
          0.8731242851853805,
          0.8735272265444999,
          0.8757071754804677,
          0.873559391064948,
          0.8727100622840792,
          0.8718745706308446,
          0.8723890637476757,
          0.8736085611950982,
          0.877930471868222,
          0.878503581790697,
          0.8779606267367313,
          0.8780750420599116,
          0.8778760648907091,
          0.8790696184860063,
          0.8792091624140294,
          0.878820723143598,
          0.8828535492873149,
          0.8816956857515024,
          0.8819842995361804,
          0.884352167951743,
          0.8854885617484588,
          0.8870903823554268,
          0.8868522875751632,
          0.8848554239254172,
          0.8835201374626716,
          0.8790670080606068,
          0.8758643677526665,
          0.8737262052132841,
          0.8720824721832678,
          0.8704311412213056,
          0.8708221612368205,
          0.8687664825335331,
          0.8684556307622866,
          0.864512768345858,
          0.8634697025282017,
          0.8617160252724541
         ],
         "yaxis": "y"
        },
        {
         "connectgaps": false,
         "customdata": [
          [
           null,
           null
          ],
          [
           null,
           null
          ],
          [
           null,
           null
          ],
          [
           null,
           null
          ],
          [
           null,
           null
          ],
          [
           null,
           null
          ],
          [
           null,
           null
          ],
          [
           null,
           null
          ],
          [
           null,
           null
          ],
          [
           null,
           null
          ],
          [
           null,
           null
          ],
          [
           null,
           null
          ],
          [
           null,
           null
          ],
          [
           -1.9809742965119477,
           -2.05752302613014
          ],
          [
           -1.6099984362439623,
           -1.704383483140813
          ],
          [
           -1.341395605606877,
           -1.4494148090702303
          ],
          [
           -1.2038353248219134,
           -1.316523670377067
          ],
          [
           -1.1151198938168023,
           -1.2375674078045138
          ],
          [
           -0.9217694734211215,
           -1.0419098276291339
          ],
          [
           -0.7636683060495443,
           -0.8791212873777292
          ],
          [
           -0.6085642923440262,
           -0.7253727347926553
          ],
          [
           -0.4906160781614288,
           -0.6115584304666463
          ],
          [
           -0.36851033188306187,
           -0.4860790909622612
          ],
          [
           -0.2902442499790137,
           -0.39653341399315617
          ],
          [
           -0.22049122382216682,
           -0.3297825498621372
          ],
          [
           -0.17592498785596347,
           -0.2841570181064766
          ],
          [
           -0.14747513314243504,
           -0.2492691110963878
          ],
          [
           -0.10616720592829461,
           -0.207900496817772
          ],
          [
           -0.08508459784099365,
           -0.17842648194543825
          ],
          [
           -0.07138821184924139,
           -0.16436996043656799
          ],
          [
           -0.04873040094496054,
           -0.15831626030591164
          ],
          [
           -0.036522180432591436,
           -0.1472445567039178
          ],
          [
           -0.011650312929579392,
           -0.11794948721713396
          ],
          [
           0.0021262960508098847,
           -0.09108951121786044
          ],
          [
           0.026607031153929327,
           -0.06751775058746032
          ],
          [
           0.044476969188653966,
           -0.04099182768962435
          ],
          [
           0.07633689882099857,
           -0.0022872679534061574
          ],
          [
           0.09894243436755265,
           0.019302617454997503
          ],
          [
           0.10809196769442701,
           0.026053270469728988
          ],
          [
           0.11425068969474163,
           0.037981142233811806
          ],
          [
           0.11435201928802816,
           0.04173957902865652
          ],
          [
           0.1330932824204572,
           0.06526931089752461
          ],
          [
           0.141919314895615,
           0.08480931945890277
          ],
          [
           0.15836438360485156,
           0.09182630529847614
          ],
          [
           0.1690585192778998,
           0.1111069214870192
          ],
          [
           0.1456726983463445,
           0.08829474533946388
          ],
          [
           0.11738549287833723,
           0.06520658540576227
          ],
          [
           0.08306051738716305,
           0.044038100411871145
          ],
          [
           0.06749156148496376,
           0.029753181281595622
          ],
          [
           0.023256774823667108,
           -0.021664615328334125
          ],
          [
           -0.008543689667109696,
           -0.05257864900902678
          ],
          [
           -0.08385148200542773,
           -0.1367361561137618
          ],
          [
           -0.1831174815790133,
           -0.24606726671626078
          ],
          [
           -0.2189488511323361,
           -0.29921873172101326
          ],
          [
           -0.2365009519388067,
           -0.30608159364766485
          ],
          [
           -0.2422992492444549,
           -0.30911592287314094
          ],
          [
           -0.2391533902716504,
           -0.28921227250844733
          ],
          [
           -0.22498460048264748,
           -0.2591815493030944
          ],
          [
           -0.21133088449519494,
           -0.23988026151706313
          ],
          [
           -0.20962375864912694,
           -0.23938604479628067
          ],
          [
           -0.19467696312207813,
           -0.21983984916882082
          ],
          [
           -0.1737408788796397,
           -0.18897880243476095
          ],
          [
           -0.15044442776198094,
           -0.14360296068231904
          ],
          [
           -0.12791824948913297,
           -0.10169087999223303
          ],
          [
           -0.10293288748543789,
           -0.06618581664363286
          ],
          [
           -0.1061876944411212,
           -0.039567267706568036
          ],
          [
           -0.13205649513028472,
           -0.035423268029986535
          ],
          [
           -0.17234471714377342,
           -0.05694905449565244
          ],
          [
           -0.21288241945511388,
           -0.04533203607891806
          ],
          [
           -0.21448588303454955,
           -0.03685382005832474
          ],
          [
           -0.2549378732745436,
           -0.06783592297373574
          ],
          [
           -0.31572668905849305,
           -0.09385387362437042
          ],
          [
           -0.4319399579949219,
           -0.16597735431338664
          ],
          [
           -0.5211282301138305,
           -0.23491546846455322
          ],
          [
           -0.5675995524247275,
           -0.24840524768280883
          ],
          [
           -0.5439739199221855,
           -0.22888212355390553
          ],
          [
           -0.5090908940445071,
           -0.2107055513805274
          ],
          [
           -0.5251066317690491,
           -0.2562169117977786
          ],
          [
           -0.5592161272099251,
           -0.31542276100310745
          ],
          [
           -0.5832448572098362,
           -0.3482865597461368
          ],
          [
           -0.6045085413733959,
           -0.35504762469492124
          ],
          [
           -0.6672566775990673,
           -0.3991296545505752
          ],
          [
           -0.7038990913465707,
           -0.4105300821838379
          ],
          [
           -0.7069422322154064,
           -0.410985289776073
          ],
          [
           -0.728590995366585,
           -0.42047531409342714
          ],
          [
           -0.74945223859442,
           -0.4499896341609461
          ],
          [
           -0.7926350042960163,
           -0.4977697915698936
          ],
          [
           -0.8284221558952976,
           -0.5283433139023536
          ],
          [
           -0.8104016562542241,
           -0.5137363973019125
          ],
          [
           -0.7468464905346915,
           -0.47876418268130777
          ],
          [
           -0.6779816573162131,
           -0.4100727253118699
          ],
          [
           -0.5981284889024605,
           -0.3700469415499299
          ],
          [
           -0.5545811072692637,
           -0.3390879612775542
          ],
          [
           -0.49946374748031563,
           -0.3128459357211706
          ],
          [
           -0.482089657144508,
           -0.31953322133595286
          ],
          [
           -0.44311705922836514,
           -0.2991874890782534
          ],
          [
           -0.3903211548415286,
           -0.2569796950791397
          ],
          [
           -0.3376596975581999,
           -0.1952081751595567
          ],
          [
           -0.28395626226657833,
           -0.12512427657851147
          ],
          [
           -0.23829149429254204,
           -0.08965006893723637
          ],
          [
           -0.21579720097487165,
           -0.0610175577270081
          ],
          [
           -0.18654135090805513,
           -0.04092878476344238
          ],
          [
           -0.1689217687869053,
           -0.034076717311978054
          ],
          [
           -0.1643810552349253,
           -0.011012095249623984
          ],
          [
           -0.1896702592108205,
           -0.021055660721945497
          ],
          [
           -0.1994473923801149,
           -0.02218003647481581
          ],
          [
           -0.23331493811078255,
           -0.04820529635060333
          ],
          [
           -0.3015797486876444,
           -0.08757155539173714
          ],
          [
           -0.3816897327875728,
           -0.15471162504123956
          ],
          [
           -0.4370658168776512,
           -0.19852223563247684
          ],
          [
           -0.47416955888240236,
           -0.2317625771622417
          ],
          [
           -0.5106129283194639,
           -0.22860088907103546
          ],
          [
           -0.5158175357497294,
           -0.20565904179238892
          ],
          [
           -0.5328176391127827,
           -0.18876877963703345
          ],
          [
           -0.5535416904888053,
           -0.1723785108224139
          ],
          [
           -0.5831206830837488,
           -0.16022912193739203
          ],
          [
           -0.6546466569079481,
           -0.17377665680495336
          ],
          [
           -0.6846710125070019,
           -0.16569407833642266
          ],
          [
           -0.683363645772456,
           -0.16062871480132063
          ],
          [
           -0.6992094485075033,
           -0.17083792850799737
          ],
          [
           -0.7305803482512909,
           -0.1971052322747691
          ],
          [
           -0.7948186435472316,
           -0.24957914757584787
          ],
          [
           -0.8566707911713394,
           -0.2887632843651468
          ],
          [
           -0.8383798126828711,
           -0.8103036660068379
          ],
          [
           -0.8005827578823297,
           -1.4598725938482593
          ],
          [
           -0.7578858569874553,
           -2.1892893640626667
          ],
          [
           -0.7218658992047237,
           -2.9597946237210433
          ],
          [
           -0.7139666073951141,
           -3.639720361666848
          ],
          [
           -0.7296867739017415,
           -4.195114095673319
          ],
          [
           -0.7830638430199277,
           -4.676874075938395
          ],
          [
           -0.8524834323662609,
           -5.111100044641513
          ],
          [
           -0.8765933825688342,
           -5.48251224327864
          ],
          [
           -0.8839960907916303,
           -5.795592279598369
          ],
          [
           -0.9187029473409521,
           -6.087611819354236
          ],
          [
           -0.9608756871661783,
           -6.347929410398555
          ],
          [
           -1.0318312817801367,
           -6.555983853655698
          ],
          [
           -1.0744817543038745,
           -6.7211437651399395
          ],
          [
           -1.0650945494937303,
           -6.868856106276036
          ],
          [
           -1.0459839200469574,
           -6.991572877351832
          ],
          [
           -0.9972623486913861,
           -7.086966995191517
          ],
          [
           -0.9189303263717977,
           -7.181738366856219
          ],
          [
           -0.842297417296867,
           -7.263978756882989
          ],
          [
           -0.7851446534901044,
           -7.334876554213959
          ],
          [
           -0.7534435381479727,
           -7.394951642732822
          ],
          [
           -0.7164461335835138,
           -7.4530576618438795
          ],
          [
           -0.7103171092795647,
           -7.4966816739481805
          ],
          [
           -0.7021805937147753,
           -7.538310045053378
          ],
          [
           -0.7439014737151513,
           -7.575811991492972
          ],
          [
           -0.8076389744080935,
           -7.623192764141469
          ],
          [
           -0.8746061528037758,
           -7.666571048355181
          ],
          [
           -0.976540580849584,
           -7.720396394451444
          ],
          [
           -1.1015727420396069,
           -7.776141405438941
          ],
          [
           -1.1835563466710046,
           -7.817159830216804
          ],
          [
           -1.2213720688388758,
           -7.844665126500519
          ],
          [
           -1.3000239460874157,
           -7.87392291670781
          ],
          [
           -1.3836287327961596,
           -7.897435917643774
          ],
          [
           -1.4486112896938275,
           -7.919066018140282
          ],
          [
           -1.504189157335994,
           -7.9301608104531205
          ],
          [
           -1.5926317476190113,
           -7.93709134280412
          ],
          [
           -1.7173794974370598,
           -7.933588330532842
          ],
          [
           -1.8634186124566765,
           -7.938163635268526
          ],
          [
           -1.9848244295541866,
           -7.941538145768233
          ],
          [
           -2.1207343236488865,
           -7.947578586286802
          ],
          [
           -2.254161111495728,
           -7.954671963281952
          ],
          [
           -2.3833988448545576,
           -7.9574958327229695
          ],
          [
           -2.4897208341391086,
           -7.960918141064005
          ],
          [
           -2.562799215205758,
           -7.959290896722166
          ],
          [
           -2.5767868077712515,
           -7.958820714914615
          ],
          [
           -2.587705140781066,
           -7.968269157632474
          ],
          [
           -2.617141443300024,
           -7.974848152419003
          ],
          [
           -2.673372782626785,
           -7.977426437726674
          ],
          [
           -2.7537800171097078,
           -7.9871157193613795
          ],
          [
           -2.831620162604532,
           -7.987699226962766
          ],
          [
           -2.8335638662214415,
           -7.9891398410492505
          ],
          [
           -2.771845442540664,
           -7.988854012384009
          ],
          [
           -2.723899944508552,
           -7.986096926484889
          ],
          [
           -2.6834240614194114,
           -7.977859316499504
          ],
          [
           -2.641087741530931,
           -7.970675045224942
          ],
          [
           -2.608859569567487,
           -7.9674011812252985
          ],
          [
           -2.5538584269947724,
           -7.963232299046634
          ],
          [
           -2.5025454781490617,
           -7.96026385907032
          ],
          [
           -2.481651918721048,
           -7.961856969749885
          ],
          [
           -2.4602814595742486,
           -7.9654990847892115
          ],
          [
           -2.433801500930466,
           -7.9689306469538534
          ],
          [
           -2.4744771787057425,
           -7.978935325902359
          ],
          [
           -2.5006854999575463,
           -7.983698207846428
          ],
          [
           -2.5220826058849846,
           -7.982161295113457
          ],
          [
           -2.523065070003822,
           -7.980333892572418
          ],
          [
           -2.5342289544775047,
           -7.981085751804282
          ],
          [
           -2.5115349887119756,
           -7.981045697287958
          ],
          [
           -2.446863973504614,
           -7.984017909913241
          ],
          [
           -2.369070789827521,
           -7.991772226423285
          ],
          [
           -2.3053747114219076,
           -7.995335219431148
          ],
          [
           -2.262505494657044,
           -8.000001867176717
          ],
          [
           -2.2313364183699265,
           -8.007400760790036
          ],
          [
           -2.1858300048315975,
           -8.009257157341631
          ],
          [
           -2.1292043463474566,
           -8.0111757625915
          ],
          [
           -2.1255924661103567,
           -8.01691906060092
          ],
          [
           -2.138271129447399,
           -8.01830741988751
          ],
          [
           -2.1731398416978025,
           -8.013309439748502
          ],
          [
           -2.2165603275647188,
           -8.0192451432754
          ],
          [
           -2.2263391613683265,
           -8.02066284234379
          ],
          [
           -2.2249724016124337,
           -8.020808320280823
          ],
          [
           -2.2893113926895614,
           -8.02090467733539
          ],
          [
           -2.3614444404577513,
           -8.026723042282418
          ],
          [
           -2.495036890570969,
           -8.028163209315954
          ],
          [
           -2.6751552061799644,
           -8.03889170105924
          ],
          [
           -2.827871049469369,
           -8.05112745623071
          ],
          [
           -2.9271537042936333,
           -8.054838253569821
          ],
          [
           -3.008812945655804,
           -8.055378787506056
          ],
          [
           -3.064139822961626,
           -8.055548004540542
          ],
          [
           -3.131165260132357,
           -8.060341441585845
          ],
          [
           -3.1308603175371412,
           -8.060040796921793
          ],
          [
           -3.140698247403281,
           -8.056118842240958
          ],
          [
           -3.121254305562564,
           -8.041307107002764
          ],
          [
           -3.124825163472022,
           -8.039783398225298
          ],
          [
           -3.1207416539352053,
           -8.047928366843136
          ],
          [
           -3.167677114354165,
           -8.060711777988198
          ],
          [
           -3.240794647410873,
           -8.081323790022125
          ],
          [
           -3.346771349706542,
           -8.096318016676289
          ],
          [
           -3.4144315138259986,
           -8.109639639250776
          ],
          [
           -3.4576204864484117,
           -8.124464845069273
          ],
          [
           -3.431052082690783,
           -8.143840788697302
          ],
          [
           -3.392401004685725,
           -8.158255811060808
          ],
          [
           -3.2976083935382663,
           -8.182647551442082
          ],
          [
           -3.184754401552949,
           -8.205073173492028
          ],
          [
           -3.111869079210743,
           -8.23109588023831
          ],
          [
           -3.061099567798253,
           -8.253610461956475
          ],
          [
           -2.9722968026651597,
           -8.271176297977801
          ],
          [
           -2.8343048556531802,
           -8.28947847272329
          ],
          [
           -2.704326055414376,
           -8.309251437956457
          ],
          [
           -2.5908491315715025,
           -8.330076775019304
          ],
          [
           -2.4699455891690647,
           -8.351061755065802
          ],
          [
           -2.3677790972183916,
           -8.368810053284959
          ],
          [
           -2.280012761100982,
           -8.391922248951335
          ],
          [
           -2.190206888136136,
           -8.414114559715449
          ],
          [
           -2.132549288362515,
           -8.43342942920719
          ],
          [
           -2.073988177777722,
           -8.447121608700115
          ],
          [
           -2.019574447789445,
           -8.461318609543868
          ],
          [
           -2.00191876916069,
           -8.481549635405306
          ],
          [
           -1.9774069983008846,
           -8.506149277868632
          ],
          [
           -1.978096236181131,
           -8.527606251210539
          ],
          [
           -1.9984570593766122,
           -8.54726667739955
          ],
          [
           -1.9811955468623441,
           -8.559608225766828
          ],
          [
           -1.9242759338209299,
           -8.573134019092231
          ],
          [
           -1.8776112651105217,
           -8.58506624606943
          ],
          [
           -1.889048039914146,
           -8.595515194097375
          ],
          [
           -1.870634651782593,
           -8.604766535842288
          ],
          [
           -1.8540585711064514,
           -8.615551642044894
          ],
          [
           -1.8141548555126938,
           -8.618894832630378
          ],
          [
           -1.760892469982339,
           -8.621569439137515
          ],
          [
           -1.7235021652099114,
           -8.624760604856423
          ],
          [
           -1.696758011873824,
           -8.625616189436728
          ],
          [
           -1.6945558253233066,
           -8.623453556008288
          ],
          [
           -1.6838531980659068,
           -8.627930291837421
          ],
          [
           -1.6790174046652069,
           -8.628175994074446
          ],
          [
           -1.6908258413881465,
           -8.62393755210617
          ],
          [
           -1.688594533566699,
           -8.619596279618825
          ],
          [
           -1.6365957218228642,
           -8.617422881958026
          ],
          [
           -1.547519177707739,
           -8.62345640669017
          ],
          [
           -1.445536186039796,
           -8.626815842960353
          ],
          [
           -1.3751341005648299,
           -8.632357587838088
          ],
          [
           -1.3420655143302243,
           -8.632538246280202
          ],
          [
           -1.319199214404589,
           -8.637112142954065
          ],
          [
           -1.3192045207925938,
           -8.636552188872837
          ],
          [
           -1.3209120335951043,
           -8.635588450013481
          ],
          [
           -1.30241970888483,
           -8.63118565155898
          ],
          [
           -1.273517392459427,
           -8.625407144939514
          ],
          [
           -1.2443479050484758,
           -8.625171115826781
          ],
          [
           -1.213419600782568,
           -8.624669852457023
          ],
          [
           -1.1714900497034424,
           -8.622560734000126
          ],
          [
           -1.142293035457991,
           -8.623626761087174
          ],
          [
           -1.1099660722528677,
           -8.62413907358899
          ],
          [
           -1.1127091364652468,
           -8.62695530146461
          ],
          [
           -1.1276653944380886,
           -8.628132274916718
          ],
          [
           -1.1422752058802692,
           -8.630318211479487
          ],
          [
           -1.155321732465269,
           -8.63449312226689
          ],
          [
           -1.1521065166933866,
           -8.633782883669747
          ],
          [
           -1.1293265053386112,
           -8.636388417267847
          ],
          [
           -1.1146660886728583,
           -8.635764681176562
          ],
          [
           -1.1233752208522445,
           -8.638428923727595
          ],
          [
           -1.1617426289665198,
           -8.643682661675454
          ],
          [
           -1.2010340061854168,
           -8.644315315825109
          ],
          [
           -1.2363537156391307,
           -8.647234283141131
          ],
          [
           -1.2381377770239765,
           -8.647137137338634
          ],
          [
           -1.2074415739702002,
           -8.645779035160636
          ],
          [
           -1.1650678053857864,
           -8.643338513097126
          ],
          [
           -1.1326570182609161,
           -8.643127235206654
          ],
          [
           -1.095216895988248,
           -8.646653565134564
          ],
          [
           -1.0687139119606157,
           -8.643367142070362
          ],
          [
           -1.0662957187017923,
           -8.637866928365527
          ],
          [
           -1.1119110348134804,
           -8.633123907886898
          ],
          [
           -1.1490772292118527,
           -8.631138360829983
          ],
          [
           -1.181860257261877,
           -8.63329875956965
          ],
          [
           -1.2223159933747398,
           -8.637440171328462
          ],
          [
           -1.2473911778393176,
           -8.637043562962248
          ],
          [
           -1.2645323778814557,
           -8.635915767808124
          ],
          [
           -1.2726468129336743,
           -8.639222165991837
          ],
          [
           -1.2981646222849803,
           -8.639435074850862
          ],
          [
           -1.300373507990192,
           -8.641330368829346
          ],
          [
           -1.2739770974848168,
           -8.642085836728242
          ],
          [
           -1.2657002242946156,
           -8.639597006858887
          ],
          [
           -1.2849126522987764,
           -8.637887903748982
          ],
          [
           -1.3376378548918189,
           -8.63494028513127
          ],
          [
           -1.4062615366863003,
           -8.633811680152663
          ],
          [
           -1.4695981954017043,
           -8.631960142888147
          ],
          [
           -1.5108582591613324,
           -8.623008329542081
          ],
          [
           -1.4995403767181381,
           -8.617864464081775
          ],
          [
           -1.4560246032196809,
           -8.614873055902896
          ],
          [
           -1.4130089613805474,
           -8.610024999813755
          ],
          [
           -1.3758407489923423,
           -8.60682362816459
          ],
          [
           -1.3466584494557041,
           -8.603092855840291
          ],
          [
           -1.3386765697064993,
           -8.598799587614904
          ],
          [
           -1.33453450345559,
           -8.598998121310773
          ],
          [
           -1.3635130629342471,
           -8.597925463233237
          ],
          [
           -1.4375239928783532,
           -8.599598466497623
          ],
          [
           -1.58216095661197,
           -8.600748239342199
          ],
          [
           -1.749599105467766,
           -8.605145634573178
          ],
          [
           -1.9054697579534068,
           -8.608792472264838
          ],
          [
           -2.1247187901482074,
           -8.618321450323284
          ],
          [
           -2.30373323860612,
           -8.62457853972722
          ],
          [
           -2.4346970131167534,
           -8.626600151912898
          ],
          [
           -2.566430272984032,
           -8.630080783797828
          ],
          [
           -2.703791056870529,
           -8.633766066336504
          ],
          [
           -2.846303760379952,
           -8.635505747676273
          ],
          [
           -2.964608193297946,
           -8.63640094372763
          ],
          [
           -3.090216944061765,
           -8.634026421274777
          ],
          [
           -3.1665889519733055,
           -8.634477428468665
          ],
          [
           -3.228054790746212,
           -8.635037061968147
          ],
          [
           -3.335658078365346,
           -8.633722504404478
          ],
          [
           -3.474366679475225,
           -8.636306084189824
          ],
          [
           -3.569340315325279,
           -8.635587112801351
          ],
          [
           -3.6567749670739085,
           -8.642776292768126
          ],
          [
           -3.7417715964752083,
           -8.645369056035555
          ],
          [
           -3.8003383548870517,
           -8.650062438622781
          ],
          [
           -3.8390733634105745,
           -8.65489490625494
          ],
          [
           -3.8757334436904376,
           -8.664181047714246
          ],
          [
           -3.870778060507381,
           -8.670505081226606
          ],
          [
           -3.912396222189545,
           -8.682334952367817
          ],
          [
           -3.92213173726012,
           -8.684916265857739
          ],
          [
           -3.9011559090913273,
           -8.68955399081614
          ],
          [
           -3.8803543419591016,
           -8.691180569990046
          ],
          [
           -3.853604214194003,
           -8.696061702519795
          ],
          [
           -3.8188238720318535,
           -8.69666071378822
          ],
          [
           -3.81259887225374,
           -8.69841114475283
          ],
          [
           -3.7985478007912734,
           -8.695846453934783
          ],
          [
           -3.778468089198164,
           -8.69219443292615
          ],
          [
           -3.7210541744644723,
           -8.690616864766701
          ],
          [
           -3.671834011258961,
           -8.682561312317729
          ],
          [
           -3.62127213274562,
           -8.67961474250054
          ],
          [
           -3.597671050971569,
           -8.669185067985742
          ],
          [
           -3.580392082097599,
           -8.664021308221798
          ],
          [
           -3.5505007946257914,
           -8.658353859195794
          ],
          [
           -3.5285982533483287,
           -8.65668809362843
          ],
          [
           -3.5223373240573914,
           -8.651589818868253
          ],
          [
           -3.5022288096556258,
           -8.645805388362371
          ],
          [
           -3.51237755924603,
           -8.641588386214762
          ],
          [
           -3.5415404882945745,
           -8.637541749997572
          ],
          [
           -3.581927283716171,
           -8.632443399128968
          ],
          [
           -3.6128483681365964,
           -8.631430354049103
          ],
          [
           -3.6371534017173865,
           -8.628324859033237
          ],
          [
           -3.661327332762851,
           -8.626065176520674
          ],
          [
           -3.664760881145544,
           -8.629113012182996
          ],
          [
           -3.6857628240783513,
           -8.626587991257109
          ],
          [
           -3.7014413312109196,
           -8.623933182356888
          ],
          [
           -3.731984108523121,
           -8.619862820406325
          ],
          [
           -3.756705056045055,
           -8.617194516733532
          ]
         ],
         "hovertemplate": "%{x}<br>Peds. Injected: %{y}<br><br>Baseline=%{customdata[0]:.3f}<br />Peds. Injected=%{customdata[1]:.3f}<extra></extra>",
         "legendgroup": "Peds. Injected",
         "line": {
          "color": "#EF553B",
          "dash": "solid"
         },
         "name": "Peds. Injected",
         "showlegend": true,
         "type": "scatter",
         "x": [
          "2014-01-30T00:00:00",
          "2014-01-31T00:00:00",
          "2014-02-01T00:00:00",
          "2014-02-02T00:00:00",
          "2014-02-03T00:00:00",
          "2014-02-04T00:00:00",
          "2014-02-05T00:00:00",
          "2014-02-06T00:00:00",
          "2014-02-07T00:00:00",
          "2014-02-08T00:00:00",
          "2014-02-09T00:00:00",
          "2014-02-10T00:00:00",
          "2014-02-11T00:00:00",
          "2014-02-12T00:00:00",
          "2014-02-13T00:00:00",
          "2014-02-14T00:00:00",
          "2014-02-15T00:00:00",
          "2014-02-16T00:00:00",
          "2014-02-17T00:00:00",
          "2014-02-18T00:00:00",
          "2014-02-19T00:00:00",
          "2014-02-20T00:00:00",
          "2014-02-21T00:00:00",
          "2014-02-22T00:00:00",
          "2014-02-23T00:00:00",
          "2014-02-24T00:00:00",
          "2014-02-25T00:00:00",
          "2014-02-26T00:00:00",
          "2014-02-27T00:00:00",
          "2014-02-28T00:00:00",
          "2014-03-01T00:00:00",
          "2014-03-02T00:00:00",
          "2014-03-03T00:00:00",
          "2014-03-04T00:00:00",
          "2014-03-05T00:00:00",
          "2014-03-06T00:00:00",
          "2014-03-07T00:00:00",
          "2014-03-08T00:00:00",
          "2014-03-09T00:00:00",
          "2014-03-10T00:00:00",
          "2014-03-11T00:00:00",
          "2014-03-12T00:00:00",
          "2014-03-13T00:00:00",
          "2014-03-14T00:00:00",
          "2014-03-15T00:00:00",
          "2014-03-16T00:00:00",
          "2014-03-17T00:00:00",
          "2014-03-18T00:00:00",
          "2014-03-19T00:00:00",
          "2014-03-20T00:00:00",
          "2014-03-21T00:00:00",
          "2014-03-22T00:00:00",
          "2014-03-23T00:00:00",
          "2014-03-24T00:00:00",
          "2014-03-25T00:00:00",
          "2014-03-26T00:00:00",
          "2014-03-27T00:00:00",
          "2014-03-28T00:00:00",
          "2014-03-29T00:00:00",
          "2014-03-30T00:00:00",
          "2014-03-31T00:00:00",
          "2014-04-01T00:00:00",
          "2014-04-02T00:00:00",
          "2014-04-03T00:00:00",
          "2014-04-04T00:00:00",
          "2014-04-05T00:00:00",
          "2014-04-06T00:00:00",
          "2014-04-07T00:00:00",
          "2014-04-08T00:00:00",
          "2014-04-09T00:00:00",
          "2014-04-10T00:00:00",
          "2014-04-11T00:00:00",
          "2014-04-12T00:00:00",
          "2014-04-13T00:00:00",
          "2014-04-14T00:00:00",
          "2014-04-15T00:00:00",
          "2014-04-16T00:00:00",
          "2014-04-17T00:00:00",
          "2014-04-18T00:00:00",
          "2014-04-19T00:00:00",
          "2014-04-20T00:00:00",
          "2014-04-21T00:00:00",
          "2014-04-22T00:00:00",
          "2014-04-23T00:00:00",
          "2014-04-24T00:00:00",
          "2014-04-25T00:00:00",
          "2014-04-26T00:00:00",
          "2014-04-27T00:00:00",
          "2014-04-28T00:00:00",
          "2014-04-29T00:00:00",
          "2014-04-30T00:00:00",
          "2014-05-01T00:00:00",
          "2014-05-02T00:00:00",
          "2014-05-03T00:00:00",
          "2014-05-04T00:00:00",
          "2014-05-05T00:00:00",
          "2014-05-06T00:00:00",
          "2014-05-07T00:00:00",
          "2014-05-08T00:00:00",
          "2014-05-09T00:00:00",
          "2014-05-10T00:00:00",
          "2014-05-11T00:00:00",
          "2014-05-12T00:00:00",
          "2014-05-13T00:00:00",
          "2014-05-14T00:00:00",
          "2014-05-15T00:00:00",
          "2014-05-16T00:00:00",
          "2014-05-17T00:00:00",
          "2014-05-18T00:00:00",
          "2014-05-19T00:00:00",
          "2014-05-20T00:00:00",
          "2014-05-21T00:00:00",
          "2014-05-22T00:00:00",
          "2014-05-23T00:00:00",
          "2014-05-24T00:00:00",
          "2014-05-25T00:00:00",
          "2014-05-26T00:00:00",
          "2014-05-27T00:00:00",
          "2014-05-28T00:00:00",
          "2014-05-29T00:00:00",
          "2014-05-30T00:00:00",
          "2014-05-31T00:00:00",
          "2014-06-01T00:00:00",
          "2014-06-02T00:00:00",
          "2014-06-03T00:00:00",
          "2014-06-04T00:00:00",
          "2014-06-05T00:00:00",
          "2014-06-06T00:00:00",
          "2014-06-07T00:00:00",
          "2014-06-08T00:00:00",
          "2014-06-09T00:00:00",
          "2014-06-10T00:00:00",
          "2014-06-11T00:00:00",
          "2014-06-12T00:00:00",
          "2014-06-13T00:00:00",
          "2014-06-14T00:00:00",
          "2014-06-15T00:00:00",
          "2014-06-16T00:00:00",
          "2014-06-17T00:00:00",
          "2014-06-18T00:00:00",
          "2014-06-19T00:00:00",
          "2014-06-20T00:00:00",
          "2014-06-21T00:00:00",
          "2014-06-22T00:00:00",
          "2014-06-23T00:00:00",
          "2014-06-24T00:00:00",
          "2014-06-25T00:00:00",
          "2014-06-26T00:00:00",
          "2014-06-27T00:00:00",
          "2014-06-28T00:00:00",
          "2014-06-29T00:00:00",
          "2014-06-30T00:00:00",
          "2014-07-01T00:00:00",
          "2014-07-02T00:00:00",
          "2014-07-03T00:00:00",
          "2014-07-04T00:00:00",
          "2014-07-05T00:00:00",
          "2014-07-06T00:00:00",
          "2014-07-07T00:00:00",
          "2014-07-08T00:00:00",
          "2014-07-09T00:00:00",
          "2014-07-10T00:00:00",
          "2014-07-11T00:00:00",
          "2014-07-12T00:00:00",
          "2014-07-13T00:00:00",
          "2014-07-14T00:00:00",
          "2014-07-15T00:00:00",
          "2014-07-16T00:00:00",
          "2014-07-17T00:00:00",
          "2014-07-18T00:00:00",
          "2014-07-19T00:00:00",
          "2014-07-20T00:00:00",
          "2014-07-21T00:00:00",
          "2014-07-22T00:00:00",
          "2014-07-23T00:00:00",
          "2014-07-24T00:00:00",
          "2014-07-25T00:00:00",
          "2014-07-26T00:00:00",
          "2014-07-27T00:00:00",
          "2014-07-28T00:00:00",
          "2014-07-29T00:00:00",
          "2014-07-30T00:00:00",
          "2014-07-31T00:00:00",
          "2014-08-01T00:00:00",
          "2014-08-02T00:00:00",
          "2014-08-03T00:00:00",
          "2014-08-04T00:00:00",
          "2014-08-05T00:00:00",
          "2014-08-06T00:00:00",
          "2014-08-07T00:00:00",
          "2014-08-08T00:00:00",
          "2014-08-09T00:00:00",
          "2014-08-10T00:00:00",
          "2014-08-11T00:00:00",
          "2014-08-12T00:00:00",
          "2014-08-13T00:00:00",
          "2014-08-14T00:00:00",
          "2014-08-15T00:00:00",
          "2014-08-16T00:00:00",
          "2014-08-17T00:00:00",
          "2014-08-18T00:00:00",
          "2014-08-19T00:00:00",
          "2014-08-20T00:00:00",
          "2014-08-21T00:00:00",
          "2014-08-22T00:00:00",
          "2014-08-23T00:00:00",
          "2014-08-24T00:00:00",
          "2014-08-25T00:00:00",
          "2014-08-26T00:00:00",
          "2014-08-27T00:00:00",
          "2014-08-28T00:00:00",
          "2014-08-29T00:00:00",
          "2014-08-30T00:00:00",
          "2014-08-31T00:00:00",
          "2014-09-01T00:00:00",
          "2014-09-02T00:00:00",
          "2014-09-03T00:00:00",
          "2014-09-04T00:00:00",
          "2014-09-05T00:00:00",
          "2014-09-06T00:00:00",
          "2014-09-07T00:00:00",
          "2014-09-08T00:00:00",
          "2014-09-09T00:00:00",
          "2014-09-10T00:00:00",
          "2014-09-11T00:00:00",
          "2014-09-12T00:00:00",
          "2014-09-13T00:00:00",
          "2014-09-14T00:00:00",
          "2014-09-15T00:00:00",
          "2014-09-16T00:00:00",
          "2014-09-17T00:00:00",
          "2014-09-18T00:00:00",
          "2014-09-19T00:00:00",
          "2014-09-20T00:00:00",
          "2014-09-21T00:00:00",
          "2014-09-22T00:00:00",
          "2014-09-23T00:00:00",
          "2014-09-24T00:00:00",
          "2014-09-25T00:00:00",
          "2014-09-26T00:00:00",
          "2014-09-27T00:00:00",
          "2014-09-28T00:00:00",
          "2014-09-29T00:00:00",
          "2014-09-30T00:00:00",
          "2014-10-01T00:00:00",
          "2014-10-02T00:00:00",
          "2014-10-03T00:00:00",
          "2014-10-04T00:00:00",
          "2014-10-05T00:00:00",
          "2014-10-06T00:00:00",
          "2014-10-07T00:00:00",
          "2014-10-08T00:00:00",
          "2014-10-09T00:00:00",
          "2014-10-10T00:00:00",
          "2014-10-11T00:00:00",
          "2014-10-12T00:00:00",
          "2014-10-13T00:00:00",
          "2014-10-14T00:00:00",
          "2014-10-15T00:00:00",
          "2014-10-16T00:00:00",
          "2014-10-17T00:00:00",
          "2014-10-18T00:00:00",
          "2014-10-19T00:00:00",
          "2014-10-20T00:00:00",
          "2014-10-21T00:00:00",
          "2014-10-22T00:00:00",
          "2014-10-23T00:00:00",
          "2014-10-24T00:00:00",
          "2014-10-25T00:00:00",
          "2014-10-26T00:00:00",
          "2014-10-27T00:00:00",
          "2014-10-28T00:00:00",
          "2014-10-29T00:00:00",
          "2014-10-30T00:00:00",
          "2014-10-31T00:00:00",
          "2014-11-01T00:00:00",
          "2014-11-02T00:00:00",
          "2014-11-03T00:00:00",
          "2014-11-04T00:00:00",
          "2014-11-05T00:00:00",
          "2014-11-06T00:00:00",
          "2014-11-07T00:00:00",
          "2014-11-08T00:00:00",
          "2014-11-09T00:00:00",
          "2014-11-10T00:00:00",
          "2014-11-11T00:00:00",
          "2014-11-12T00:00:00",
          "2014-11-13T00:00:00",
          "2014-11-14T00:00:00",
          "2014-11-15T00:00:00",
          "2014-11-16T00:00:00",
          "2014-11-17T00:00:00",
          "2014-11-18T00:00:00",
          "2014-11-19T00:00:00",
          "2014-11-20T00:00:00",
          "2014-11-21T00:00:00",
          "2014-11-22T00:00:00",
          "2014-11-23T00:00:00",
          "2014-11-24T00:00:00",
          "2014-11-25T00:00:00",
          "2014-11-26T00:00:00",
          "2014-11-27T00:00:00",
          "2014-11-28T00:00:00",
          "2014-11-29T00:00:00",
          "2014-11-30T00:00:00",
          "2014-12-01T00:00:00",
          "2014-12-02T00:00:00",
          "2014-12-03T00:00:00",
          "2014-12-04T00:00:00",
          "2014-12-05T00:00:00",
          "2014-12-06T00:00:00",
          "2014-12-07T00:00:00",
          "2014-12-08T00:00:00",
          "2014-12-09T00:00:00",
          "2014-12-10T00:00:00",
          "2014-12-11T00:00:00",
          "2014-12-12T00:00:00",
          "2014-12-13T00:00:00",
          "2014-12-14T00:00:00",
          "2014-12-15T00:00:00",
          "2014-12-16T00:00:00",
          "2014-12-17T00:00:00",
          "2014-12-18T00:00:00",
          "2014-12-19T00:00:00",
          "2014-12-20T00:00:00",
          "2014-12-21T00:00:00",
          "2014-12-22T00:00:00",
          "2014-12-23T00:00:00",
          "2014-12-24T00:00:00",
          "2014-12-25T00:00:00",
          "2014-12-26T00:00:00",
          "2014-12-27T00:00:00",
          "2014-12-28T00:00:00",
          "2014-12-29T00:00:00",
          "2014-12-30T00:00:00",
          "2014-12-31T00:00:00",
          "2015-01-01T00:00:00",
          "2015-01-02T00:00:00",
          "2015-01-03T00:00:00",
          "2015-01-04T00:00:00",
          "2015-01-05T00:00:00",
          "2015-01-06T00:00:00",
          "2015-01-07T00:00:00",
          "2015-01-08T00:00:00",
          "2015-01-09T00:00:00",
          "2015-01-10T00:00:00",
          "2015-01-11T00:00:00",
          "2015-01-12T00:00:00",
          "2015-01-13T00:00:00",
          "2015-01-14T00:00:00",
          "2015-01-15T00:00:00",
          "2015-01-16T00:00:00",
          "2015-01-17T00:00:00",
          "2015-01-18T00:00:00",
          "2015-01-19T00:00:00",
          "2015-01-20T00:00:00",
          "2015-01-21T00:00:00",
          "2015-01-22T00:00:00",
          "2015-01-23T00:00:00",
          "2015-01-24T00:00:00",
          "2015-01-25T00:00:00",
          "2015-01-26T00:00:00",
          "2015-01-27T00:00:00",
          "2015-01-28T00:00:00",
          "2015-01-29T00:00:00",
          "2015-01-30T00:00:00",
          "2015-01-31T00:00:00"
         ],
         "xaxis": "x",
         "y": [
          null,
          null,
          null,
          null,
          null,
          null,
          null,
          null,
          null,
          null,
          null,
          null,
          null,
          0.8105302041164439,
          0.7998124602115928,
          0.8028214250203245,
          0.8028027127132122,
          0.8045006508055413,
          0.8129094011146522,
          0.8173681807416743,
          0.8179065214841099,
          0.8180284399546871,
          0.8214920176009936,
          0.8233521969651495,
          0.824314950027775,
          0.8255164797192037,
          0.8282762839062503,
          0.8302015683459807,
          0.8299735933843758,
          0.8286205698594986,
          0.831400360808474,
          0.8300790959480147,
          0.83316076842375,
          0.8354627621564708,
          0.8396268357135296,
          0.8472964847921219,
          0.8515584875738498,
          0.8591161606685298,
          0.8612939737857631,
          0.8678459462344538,
          0.8734406448653661,
          0.878171816723994,
          0.8805286515998005,
          0.882253177790113,
          0.8845720126398642,
          0.8937136375298104,
          0.8970939518656282,
          0.8982677038649105,
          0.9010306894659551,
          0.8997378187327357,
          0.9002930307233328,
          0.9060214280651265,
          0.9105170697360335,
          0.9121622366697031,
          0.9128643204731219,
          0.9142855625697147,
          0.9155477852401865,
          0.9172262391898293,
          0.917218518281159,
          0.9171709136147858,
          0.915178782080434,
          0.9136009284454003,
          0.910724185896238,
          0.9093478278518974,
          0.907392598605304,
          0.9038202962898838,
          0.900516048150819,
          0.8951434187531362,
          0.8888944747786345,
          0.8858370287483935,
          0.8814578840083229,
          0.8763381001595765,
          0.8715035302870531,
          0.8701307461108205,
          0.8694089011155423,
          0.8691498739009144,
          0.8675618455274234,
          0.8705149468748609,
          0.8729156913491799,
          0.8735139568021226,
          0.874425446090551,
          0.8749765554738336,
          0.8761628184831276,
          0.8778597896109399,
          0.876021848937886,
          0.8693149215087606,
          0.8671927383080525,
          0.8621951002561331,
          0.851709695717955,
          0.8430208035019238,
          0.8409577653157646,
          0.8386152358402106,
          0.8366267446730666,
          0.838536049027136,
          0.8358173468889186,
          0.8367859923431962,
          0.839467909972985,
          0.8445135459009154,
          0.8490327266073355,
          0.8568058018263371,
          0.8619093961030533,
          0.8625895635290625,
          0.8649262247878566,
          0.8679854720397078,
          0.8693812689107839,
          0.8702389275645074,
          0.8723608087431196,
          0.8733819352679514,
          0.8691431230061236,
          0.8693305133396009,
          0.8720502727019454,
          0.8730983025500075,
          0.8723382885737114,
          0.8686465284728089,
          0.8680613572677098,
          0.8663869164845867,
          0.8689752945527862,
          0.8715756856594984,
          0.8673569916678692,
          0.868476423934958,
          0.8716087008487307,
          0.8720444367349053,
          0.8740117756189009,
          0.8688069160146411,
          0.8618942502606285,
          0.854470954980972,
          0.8430438209690079,
          0.8322362514818284,
          0.8236140840898042,
          0.8143178454253874,
          0.8055094334481845,
          0.7973463861348415,
          0.7908432311429591,
          0.7846479250006998,
          0.7767238724603223,
          0.769917036984528,
          0.7640404332082353,
          0.7586112352417268,
          0.7534205213631524,
          0.749277638013741,
          0.7458402356324906,
          0.7421797471557373,
          0.7393578463540779,
          0.7364118689530817,
          0.7338554505743028,
          0.7327464431557015,
          0.730622834629185,
          0.7291271886880707,
          0.7265314422093471,
          0.7228765605485125,
          0.7176765810317091,
          0.7137388930775986,
          0.7106953720262695,
          0.7088503612880228,
          0.7067654891777425,
          0.7059594255927024,
          0.7058420545227954,
          0.7064926563913531,
          0.7074735325465299,
          0.7083088847384976,
          0.7094571603347039,
          0.7092522990063729,
          0.7085389517963653,
          0.7086522262317546,
          0.70777688638488,
          0.7066531100085702,
          0.7067440669587194,
          0.7050381623092242,
          0.7044840003142524,
          0.7031444692767976,
          0.701772996304979,
          0.7013894166079578,
          0.7009074490506376,
          0.7005130143954476,
          0.7000258641136591,
          0.6995308718795031,
          0.7000234720808819,
          0.6989914556165736,
          0.698418782514555,
          0.6971543047488851,
          0.6947876963718941,
          0.6942575448301989,
          0.6949706376396302,
          0.6942052999351584,
          0.692929217883404,
          0.6926522544421558,
          0.6913779780256221,
          0.6906093695978822,
          0.6896121104641805,
          0.6883722114350274,
          0.6873241524898072,
          0.6858619890069033,
          0.6857684391416151,
          0.6841948745004112,
          0.6838459875277336,
          0.684322111955914,
          0.6842376934583779,
          0.6827533671375458,
          0.6839036902101775,
          0.6847443381071608,
          0.6863983998358528,
          0.6870350925749114,
          0.6884217283209655,
          0.68655152071507,
          0.6833698132729107,
          0.6822037831096652,
          0.6791507911239881,
          0.6766880082535751,
          0.6755946675516099,
          0.6753682287726152,
          0.6751231969676393,
          0.674756007758392,
          0.6735209723778308,
          0.6727149428606486,
          0.6725976257464812,
          0.6723396151196493,
          0.6709315721624304,
          0.6704074237773514,
          0.6682628569473607,
          0.6670427281024003,
          0.6650709037488136,
          0.6633567625108446,
          0.6606821581451471,
          0.6579166340645114,
          0.6523944504538322,
          0.6444219563441635,
          0.6388332859462512,
          0.6319844257936927,
          0.6256908535792524,
          0.6194805713054653,
          0.6150307809747885,
          0.6079451596762347,
          0.6016493964362394,
          0.5959062945217558,
          0.5908575355177529,
          0.5852134344270169,
          0.5805957764161274,
          0.5751965558215651,
          0.5676790408844014,
          0.5586949835502392,
          0.5488448465899408,
          0.5385516368178591,
          0.5279886098592503,
          0.5208620856159237,
          0.5170117341102082,
          0.5093431417197568,
          0.5025863360448365,
          0.49901673906566835,
          0.4942416372407479,
          0.4910664805770898,
          0.4915037605244978,
          0.4907777971657049,
          0.48867227700103866,
          0.4888430796262885,
          0.48824032942818846,
          0.48886100806432436,
          0.4908824110236328,
          0.49207867517490306,
          0.4939466256613808,
          0.49498624140000885,
          0.4942541466967846,
          0.49504969975874674,
          0.49538456875513526,
          0.4960545184750893,
          0.49571711235525817,
          0.493850817532849,
          0.49360402833907935,
          0.4947846583239609,
          0.49462840823926363,
          0.49585730481978285,
          0.4989189631748096,
          0.500031420846339,
          0.5007320252982119,
          0.5001666567767149,
          0.4991027177873077,
          0.4992879910081767,
          0.4983769455681447,
          0.49936369465447683,
          0.4998768461611882,
          0.500439002614034,
          0.5007254851707192,
          0.4984022380474209,
          0.4958605106458186,
          0.4935974489591982,
          0.4912017821028662,
          0.48975117514310207,
          0.4883509836607571,
          0.48677300118145106,
          0.48510351175915545,
          0.48415048384153436,
          0.48494608921779503,
          0.485921127095436,
          0.48736881876729127,
          0.4872043372760029,
          0.48533968147361006,
          0.4848911040254974,
          0.48489301409648755,
          0.4828805063756492,
          0.4820582374620663,
          0.48221276117995154,
          0.48408620605107944,
          0.48687100243819204,
          0.4864931819029252,
          0.4879253099285805,
          0.4893260270458853,
          0.4894914144557367,
          0.4896353034466873,
          0.4888057222287287,
          0.4896707222012132,
          0.48898336772644685,
          0.48832951136343683,
          0.4887979746629594,
          0.48950746066872086,
          0.49089718281238,
          0.4911114138102143,
          0.4907793195880694,
          0.49202286069714735,
          0.4921333595471012,
          0.492166105088298,
          0.4899228474623605,
          0.49070218875940463,
          0.4918224272308992,
          0.49192700660803335,
          0.49331444404861235,
          0.49486877850425304,
          0.49700657656250635,
          0.49808699637149617,
          0.49937669058984313,
          0.49905977655260375,
          0.5009845019165416,
          0.5025134298782191,
          0.5031300051982771,
          0.5011677205329854,
          0.501144154439638,
          0.5006957346121731,
          0.4985338897689096,
          0.49516198894765545,
          0.49716088056767627,
          0.4968474843515238,
          0.49860932423799154,
          0.5002585173784968,
          0.5006061742379507,
          0.5025033643491811,
          0.5025021137125628,
          0.503532352777487,
          0.5047560722554075,
          0.5064293694332516,
          0.507898035077835,
          0.5069317206832564,
          0.5073232124265182,
          0.5069989802605771,
          0.5090712070476748,
          0.5098672109660403,
          0.5098090263923856,
          0.5077977616026186,
          0.5055912353798895,
          0.5047735706064805,
          0.5060228343048497,
          0.5080512248953265,
          0.5081570592657985,
          0.5076927375874913,
          0.5096937831035246,
          0.5102181465426645,
          0.5118975980315538,
          0.5109908480708396,
          0.5125198506925103,
          0.5113224783062134
         ],
         "yaxis": "y"
        },
        {
         "connectgaps": false,
         "customdata": [
          [
           null,
           null
          ],
          [
           null,
           null
          ],
          [
           null,
           null
          ],
          [
           null,
           null
          ],
          [
           null,
           null
          ],
          [
           null,
           null
          ],
          [
           null,
           null
          ],
          [
           null,
           null
          ],
          [
           null,
           null
          ],
          [
           null,
           null
          ],
          [
           null,
           null
          ],
          [
           null,
           null
          ],
          [
           null,
           null
          ],
          [
           -1.9809742965119477,
           -2.05752302613014
          ],
          [
           -1.6099984362439623,
           -1.704383483140813
          ],
          [
           -1.341395605606877,
           -1.4494148090702303
          ],
          [
           -1.2038353248219134,
           -1.316523670377067
          ],
          [
           -1.1151198938168023,
           -1.2375674078045138
          ],
          [
           -0.9217694734211215,
           -1.0419098276291339
          ],
          [
           -0.7636683060495443,
           -0.8791212873777292
          ],
          [
           -0.6085642923440262,
           -0.7253727347926553
          ],
          [
           -0.4906160781614288,
           -0.6115584304666463
          ],
          [
           -0.36851033188306187,
           -0.4860790909622612
          ],
          [
           -0.2902442499790137,
           -0.39653341399315617
          ],
          [
           -0.22049122382216682,
           -0.3297825498621372
          ],
          [
           -0.17592498785596347,
           -0.2841570181064766
          ],
          [
           -0.14747513314243504,
           -0.2492691110963878
          ],
          [
           -0.10616720592829461,
           -0.207900496817772
          ],
          [
           -0.08508459784099365,
           -0.17842648194543825
          ],
          [
           -0.07138821184924139,
           -0.16436996043656799
          ],
          [
           -0.04873040094496054,
           -0.15831626030591164
          ],
          [
           -0.036522180432591436,
           -0.1472445567039178
          ],
          [
           -0.011650312929579392,
           -0.11794948721713396
          ],
          [
           0.0021262960508098847,
           -0.09108951121786044
          ],
          [
           0.026607031153929327,
           -0.06751775058746032
          ],
          [
           0.044476969188653966,
           -0.04099182768962435
          ],
          [
           0.07633689882099857,
           -0.0022872679534061574
          ],
          [
           0.09894243436755265,
           0.019302617454997503
          ],
          [
           0.10809196769442701,
           0.026053270469728988
          ],
          [
           0.11425068969474163,
           0.037981142233811806
          ],
          [
           0.11435201928802816,
           0.04173957902865652
          ],
          [
           0.1330932824204572,
           0.06526931089752461
          ],
          [
           0.141919314895615,
           0.08480931945890277
          ],
          [
           0.15836438360485156,
           0.09182630529847614
          ],
          [
           0.1690585192778998,
           0.1111069214870192
          ],
          [
           0.1456726983463445,
           0.08829474533946388
          ],
          [
           0.11738549287833723,
           0.06520658540576227
          ],
          [
           0.08306051738716305,
           0.044038100411871145
          ],
          [
           0.06749156148496376,
           0.029753181281595622
          ],
          [
           0.023256774823667108,
           -0.021664615328334125
          ],
          [
           -0.008543689667109696,
           -0.05257864900902678
          ],
          [
           -0.08385148200542773,
           -0.1367361561137618
          ],
          [
           -0.1831174815790133,
           -0.24606726671626078
          ],
          [
           -0.2189488511323361,
           -0.29921873172101326
          ],
          [
           -0.2365009519388067,
           -0.30608159364766485
          ],
          [
           -0.2422992492444549,
           -0.30911592287314094
          ],
          [
           -0.2391533902716504,
           -0.28921227250844733
          ],
          [
           -0.22498460048264748,
           -0.2591815493030944
          ],
          [
           -0.21133088449519494,
           -0.23988026151706313
          ],
          [
           -0.20962375864912694,
           -0.23938604479628067
          ],
          [
           -0.19467696312207813,
           -0.21983984916882082
          ],
          [
           -0.1737408788796397,
           -0.18897880243476095
          ],
          [
           -0.15044442776198094,
           -0.14360296068231904
          ],
          [
           -0.12791824948913297,
           -0.10169087999223303
          ],
          [
           -0.10293288748543789,
           -0.06618581664363286
          ],
          [
           -0.1061876944411212,
           -0.039567267706568036
          ],
          [
           -0.13205649513028472,
           -0.035423268029986535
          ],
          [
           -0.17234471714377342,
           -0.05694905449565244
          ],
          [
           -0.21288241945511388,
           -0.04533203607891806
          ],
          [
           -0.21448588303454955,
           -0.03685382005832474
          ],
          [
           -0.2549378732745436,
           -0.06783592297373574
          ],
          [
           -0.31572668905849305,
           -0.09385387362437042
          ],
          [
           -0.4319399579949219,
           -0.16597735431338664
          ],
          [
           -0.5211282301138305,
           -0.23491546846455322
          ],
          [
           -0.5675995524247275,
           -0.24840524768280883
          ],
          [
           -0.5439739199221855,
           -0.22888212355390553
          ],
          [
           -0.5090908940445071,
           -0.2107055513805274
          ],
          [
           -0.5251066317690491,
           -0.2562169117977786
          ],
          [
           -0.5592161272099251,
           -0.31542276100310745
          ],
          [
           -0.5832448572098362,
           -0.3482865597461368
          ],
          [
           -0.6045085413733959,
           -0.35504762469492124
          ],
          [
           -0.6672566775990673,
           -0.3991296545505752
          ],
          [
           -0.7038990913465707,
           -0.4105300821838379
          ],
          [
           -0.7069422322154064,
           -0.410985289776073
          ],
          [
           -0.728590995366585,
           -0.42047531409342714
          ],
          [
           -0.74945223859442,
           -0.4499896341609461
          ],
          [
           -0.7926350042960163,
           -0.4977697915698936
          ],
          [
           -0.8284221558952976,
           -0.5283433139023536
          ],
          [
           -0.8104016562542241,
           -0.5137363973019125
          ],
          [
           -0.7468464905346915,
           -0.47876418268130777
          ],
          [
           -0.6779816573162131,
           -0.4100727253118699
          ],
          [
           -0.5981284889024605,
           -0.3700469415499299
          ],
          [
           -0.5545811072692637,
           -0.3390879612775542
          ],
          [
           -0.49946374748031563,
           -0.3128459357211706
          ],
          [
           -0.482089657144508,
           -0.31953322133595286
          ],
          [
           -0.44311705922836514,
           -0.2991874890782534
          ],
          [
           -0.3903211548415286,
           -0.2569796950791397
          ],
          [
           -0.3376596975581999,
           -0.1952081751595567
          ],
          [
           -0.28395626226657833,
           -0.12512427657851147
          ],
          [
           -0.23829149429254204,
           -0.08965006893723637
          ],
          [
           -0.21579720097487165,
           -0.0610175577270081
          ],
          [
           -0.18654135090805513,
           -0.04092878476344238
          ],
          [
           -0.1689217687869053,
           -0.034076717311978054
          ],
          [
           -0.1643810552349253,
           -0.011012095249623984
          ],
          [
           -0.1896702592108205,
           -0.021055660721945497
          ],
          [
           -0.1994473923801149,
           -0.02218003647481581
          ],
          [
           -0.23331493811078255,
           -0.04820529635060333
          ],
          [
           -0.3015797486876444,
           -0.08757155539173714
          ],
          [
           -0.3816897327875728,
           -0.15471162504123956
          ],
          [
           -0.4370658168776512,
           -0.19852223563247684
          ],
          [
           -0.47416955888240236,
           -0.2317625771622417
          ],
          [
           -0.5106129283194639,
           -0.22860088907103546
          ],
          [
           -0.5158175357497294,
           -0.20565904179238892
          ],
          [
           -0.5328176391127827,
           -0.18876877963703345
          ],
          [
           -0.5535416904888053,
           -0.1723785108224139
          ],
          [
           -0.5831206830837488,
           -0.16022912193739203
          ],
          [
           -0.6546466569079481,
           -0.17377665680495336
          ],
          [
           -0.6846710125070019,
           -0.16569407833642266
          ],
          [
           -0.683363645772456,
           -0.16062871480132063
          ],
          [
           -0.6992094485075033,
           -0.17083792850799737
          ],
          [
           -0.7305803482512909,
           -0.1971052322747691
          ],
          [
           -0.7948186435472316,
           -0.24957914757584787
          ],
          [
           -0.8566707911713394,
           -0.2887632843651468
          ],
          [
           -0.8383798126828711,
           -0.8103036660068379
          ],
          [
           -0.8005827578823297,
           -1.4598725938482593
          ],
          [
           -0.7578858569874553,
           -2.1892893640626667
          ],
          [
           -0.7218658992047237,
           -2.9597946237210433
          ],
          [
           -0.7139666073951141,
           -3.639720361666848
          ],
          [
           -0.7296867739017415,
           -4.195114095673319
          ],
          [
           -0.7830638430199277,
           -4.676874075938395
          ],
          [
           -0.8524834323662609,
           -5.111100044641513
          ],
          [
           -0.8765933825688342,
           -5.48251224327864
          ],
          [
           -0.8839960907916303,
           -5.795592279598369
          ],
          [
           -0.9187029473409521,
           -6.087611819354236
          ],
          [
           -0.9608756871661783,
           -6.347929410398555
          ],
          [
           -1.0318312817801367,
           -6.555983853655698
          ],
          [
           -1.0744817543038745,
           -6.7211437651399395
          ],
          [
           -1.0650945494937303,
           -6.868856106276036
          ],
          [
           -1.0459839200469574,
           -6.991572877351832
          ],
          [
           -0.9972623486913861,
           -7.086966995191517
          ],
          [
           -0.9189303263717977,
           -7.181738366856219
          ],
          [
           -0.842297417296867,
           -7.263978756882989
          ],
          [
           -0.7851446534901044,
           -7.334876554213959
          ],
          [
           -0.7534435381479727,
           -7.394951642732822
          ],
          [
           -0.7164461335835138,
           -7.4530576618438795
          ],
          [
           -0.7103171092795647,
           -7.4966816739481805
          ],
          [
           -0.7021805937147753,
           -7.538310045053378
          ],
          [
           -0.7439014737151513,
           -7.575811991492972
          ],
          [
           -0.8076389744080935,
           -7.623192764141469
          ],
          [
           -0.8746061528037758,
           -7.666571048355181
          ],
          [
           -0.976540580849584,
           -7.720396394451444
          ],
          [
           -1.1015727420396069,
           -7.776141405438941
          ],
          [
           -1.1835563466710046,
           -7.817159830216804
          ],
          [
           -1.2213720688388758,
           -7.844665126500519
          ],
          [
           -1.3000239460874157,
           -7.87392291670781
          ],
          [
           -1.3836287327961596,
           -7.897435917643774
          ],
          [
           -1.4486112896938275,
           -7.919066018140282
          ],
          [
           -1.504189157335994,
           -7.9301608104531205
          ],
          [
           -1.5926317476190113,
           -7.93709134280412
          ],
          [
           -1.7173794974370598,
           -7.933588330532842
          ],
          [
           -1.8634186124566765,
           -7.938163635268526
          ],
          [
           -1.9848244295541866,
           -7.941538145768233
          ],
          [
           -2.1207343236488865,
           -7.947578586286802
          ],
          [
           -2.254161111495728,
           -7.954671963281952
          ],
          [
           -2.3833988448545576,
           -7.9574958327229695
          ],
          [
           -2.4897208341391086,
           -7.960918141064005
          ],
          [
           -2.562799215205758,
           -7.959290896722166
          ],
          [
           -2.5767868077712515,
           -7.958820714914615
          ],
          [
           -2.587705140781066,
           -7.968269157632474
          ],
          [
           -2.617141443300024,
           -7.974848152419003
          ],
          [
           -2.673372782626785,
           -7.977426437726674
          ],
          [
           -2.7537800171097078,
           -7.9871157193613795
          ],
          [
           -2.831620162604532,
           -7.987699226962766
          ],
          [
           -2.8335638662214415,
           -7.9891398410492505
          ],
          [
           -2.771845442540664,
           -7.988854012384009
          ],
          [
           -2.723899944508552,
           -7.986096926484889
          ],
          [
           -2.6834240614194114,
           -7.977859316499504
          ],
          [
           -2.641087741530931,
           -7.970675045224942
          ],
          [
           -2.608859569567487,
           -7.9674011812252985
          ],
          [
           -2.5538584269947724,
           -7.963232299046634
          ],
          [
           -2.5025454781490617,
           -7.96026385907032
          ],
          [
           -2.481651918721048,
           -7.961856969749885
          ],
          [
           -2.4602814595742486,
           -7.9654990847892115
          ],
          [
           -2.433801500930466,
           -7.9689306469538534
          ],
          [
           -2.4744771787057425,
           -7.978935325902359
          ],
          [
           -2.5006854999575463,
           -7.983698207846428
          ],
          [
           -2.5220826058849846,
           -7.982161295113457
          ],
          [
           -2.523065070003822,
           -7.980333892572418
          ],
          [
           -2.5342289544775047,
           -7.981085751804282
          ],
          [
           -2.5115349887119756,
           -7.981045697287958
          ],
          [
           -2.446863973504614,
           -7.984017909913241
          ],
          [
           -2.369070789827521,
           -7.991772226423285
          ],
          [
           -2.3053747114219076,
           -7.995335219431148
          ],
          [
           -2.262505494657044,
           -8.000001867176717
          ],
          [
           -2.2313364183699265,
           -8.007400760790036
          ],
          [
           -2.1858300048315975,
           -8.009257157341631
          ],
          [
           -2.1292043463474566,
           -8.0111757625915
          ],
          [
           -2.1255924661103567,
           -8.01691906060092
          ],
          [
           -2.138271129447399,
           -8.01830741988751
          ],
          [
           -2.1731398416978025,
           -8.013309439748502
          ],
          [
           -2.2165603275647188,
           -8.0192451432754
          ],
          [
           -2.2263391613683265,
           -8.02066284234379
          ],
          [
           -2.2249724016124337,
           -8.020808320280823
          ],
          [
           -2.2893113926895614,
           -8.02090467733539
          ],
          [
           -2.3614444404577513,
           -8.026723042282418
          ],
          [
           -2.495036890570969,
           -8.028163209315954
          ],
          [
           -2.6751552061799644,
           -8.03889170105924
          ],
          [
           -2.827871049469369,
           -8.05112745623071
          ],
          [
           -2.9271537042936333,
           -8.054838253569821
          ],
          [
           -3.008812945655804,
           -8.055378787506056
          ],
          [
           -3.064139822961626,
           -8.055548004540542
          ],
          [
           -3.131165260132357,
           -8.060341441585845
          ],
          [
           -3.1308603175371412,
           -8.060040796921793
          ],
          [
           -3.140698247403281,
           -8.056118842240958
          ],
          [
           -3.121254305562564,
           -8.041307107002764
          ],
          [
           -3.124825163472022,
           -8.039783398225298
          ],
          [
           -3.1207416539352053,
           -8.047928366843136
          ],
          [
           -3.167677114354165,
           -8.060711777988198
          ],
          [
           -3.240794647410873,
           -8.081323790022125
          ],
          [
           -3.346771349706542,
           -8.096318016676289
          ],
          [
           -3.4144315138259986,
           -8.109639639250776
          ],
          [
           -3.4576204864484117,
           -8.124464845069273
          ],
          [
           -3.431052082690783,
           -8.143840788697302
          ],
          [
           -3.392401004685725,
           -8.158255811060808
          ],
          [
           -3.2976083935382663,
           -8.182647551442082
          ],
          [
           -3.184754401552949,
           -8.205073173492028
          ],
          [
           -3.111869079210743,
           -8.23109588023831
          ],
          [
           -3.061099567798253,
           -8.253610461956475
          ],
          [
           -2.9722968026651597,
           -8.271176297977801
          ],
          [
           -2.8343048556531802,
           -8.28947847272329
          ],
          [
           -2.704326055414376,
           -8.309251437956457
          ],
          [
           -2.5908491315715025,
           -8.330076775019304
          ],
          [
           -2.4699455891690647,
           -8.351061755065802
          ],
          [
           -2.3677790972183916,
           -8.368810053284959
          ],
          [
           -2.280012761100982,
           -8.391922248951335
          ],
          [
           -2.190206888136136,
           -8.414114559715449
          ],
          [
           -2.132549288362515,
           -8.43342942920719
          ],
          [
           -2.073988177777722,
           -8.447121608700115
          ],
          [
           -2.019574447789445,
           -8.461318609543868
          ],
          [
           -2.00191876916069,
           -8.481549635405306
          ],
          [
           -1.9774069983008846,
           -8.506149277868632
          ],
          [
           -1.978096236181131,
           -8.527606251210539
          ],
          [
           -1.9984570593766122,
           -8.54726667739955
          ],
          [
           -1.9811955468623441,
           -8.559608225766828
          ],
          [
           -1.9242759338209299,
           -8.573134019092231
          ],
          [
           -1.8776112651105217,
           -8.58506624606943
          ],
          [
           -1.889048039914146,
           -8.595515194097375
          ],
          [
           -1.870634651782593,
           -8.604766535842288
          ],
          [
           -1.8540585711064514,
           -8.615551642044894
          ],
          [
           -1.8141548555126938,
           -8.618894832630378
          ],
          [
           -1.760892469982339,
           -8.621569439137515
          ],
          [
           -1.7235021652099114,
           -8.624760604856423
          ],
          [
           -1.696758011873824,
           -8.625616189436728
          ],
          [
           -1.6945558253233066,
           -8.623453556008288
          ],
          [
           -1.6838531980659068,
           -8.627930291837421
          ],
          [
           -1.6790174046652069,
           -8.628175994074446
          ],
          [
           -1.6908258413881465,
           -8.62393755210617
          ],
          [
           -1.688594533566699,
           -8.619596279618825
          ],
          [
           -1.6365957218228642,
           -8.617422881958026
          ],
          [
           -1.547519177707739,
           -8.62345640669017
          ],
          [
           -1.445536186039796,
           -8.626815842960353
          ],
          [
           -1.3751341005648299,
           -8.632357587838088
          ],
          [
           -1.3420655143302243,
           -8.632538246280202
          ],
          [
           -1.319199214404589,
           -8.637112142954065
          ],
          [
           -1.3192045207925938,
           -8.636552188872837
          ],
          [
           -1.3209120335951043,
           -8.635588450013481
          ],
          [
           -1.30241970888483,
           -8.63118565155898
          ],
          [
           -1.273517392459427,
           -8.625407144939514
          ],
          [
           -1.2443479050484758,
           -8.625171115826781
          ],
          [
           -1.213419600782568,
           -8.624669852457023
          ],
          [
           -1.1714900497034424,
           -8.622560734000126
          ],
          [
           -1.142293035457991,
           -8.623626761087174
          ],
          [
           -1.1099660722528677,
           -8.62413907358899
          ],
          [
           -1.1127091364652468,
           -8.62695530146461
          ],
          [
           -1.1276653944380886,
           -8.628132274916718
          ],
          [
           -1.1422752058802692,
           -8.630318211479487
          ],
          [
           -1.155321732465269,
           -8.63449312226689
          ],
          [
           -1.1521065166933866,
           -8.633782883669747
          ],
          [
           -1.1293265053386112,
           -8.636388417267847
          ],
          [
           -1.1146660886728583,
           -8.635764681176562
          ],
          [
           -1.1233752208522445,
           -8.638428923727595
          ],
          [
           -1.1617426289665198,
           -8.643682661675454
          ],
          [
           -1.2010340061854168,
           -8.644315315825109
          ],
          [
           -1.2363537156391307,
           -8.647234283141131
          ],
          [
           -1.2381377770239765,
           -8.647137137338634
          ],
          [
           -1.2074415739702002,
           -8.645779035160636
          ],
          [
           -1.1650678053857864,
           -8.643338513097126
          ],
          [
           -1.1326570182609161,
           -8.643127235206654
          ],
          [
           -1.095216895988248,
           -8.646653565134564
          ],
          [
           -1.0687139119606157,
           -8.643367142070362
          ],
          [
           -1.0662957187017923,
           -8.637866928365527
          ],
          [
           -1.1119110348134804,
           -8.633123907886898
          ],
          [
           -1.1490772292118527,
           -8.631138360829983
          ],
          [
           -1.181860257261877,
           -8.63329875956965
          ],
          [
           -1.2223159933747398,
           -8.637440171328462
          ],
          [
           -1.2473911778393176,
           -8.637043562962248
          ],
          [
           -1.2645323778814557,
           -8.635915767808124
          ],
          [
           -1.2726468129336743,
           -8.639222165991837
          ],
          [
           -1.2981646222849803,
           -8.639435074850862
          ],
          [
           -1.300373507990192,
           -8.641330368829346
          ],
          [
           -1.2739770974848168,
           -8.642085836728242
          ],
          [
           -1.2657002242946156,
           -8.639597006858887
          ],
          [
           -1.2849126522987764,
           -8.637887903748982
          ],
          [
           -1.3376378548918189,
           -8.63494028513127
          ],
          [
           -1.4062615366863003,
           -8.633811680152663
          ],
          [
           -1.4695981954017043,
           -8.631960142888147
          ],
          [
           -1.5108582591613324,
           -8.623008329542081
          ],
          [
           -1.4995403767181381,
           -8.617864464081775
          ],
          [
           -1.4560246032196809,
           -8.614873055902896
          ],
          [
           -1.4130089613805474,
           -8.610024999813755
          ],
          [
           -1.3758407489923423,
           -8.60682362816459
          ],
          [
           -1.3466584494557041,
           -8.603092855840291
          ],
          [
           -1.3386765697064993,
           -8.598799587614904
          ],
          [
           -1.33453450345559,
           -8.598998121310773
          ],
          [
           -1.3635130629342471,
           -8.597925463233237
          ],
          [
           -1.4375239928783532,
           -8.599598466497623
          ],
          [
           -1.58216095661197,
           -8.600748239342199
          ],
          [
           -1.749599105467766,
           -8.605145634573178
          ],
          [
           -1.9054697579534068,
           -8.608792472264838
          ],
          [
           -2.1247187901482074,
           -8.618321450323284
          ],
          [
           -2.30373323860612,
           -8.62457853972722
          ],
          [
           -2.4346970131167534,
           -8.626600151912898
          ],
          [
           -2.566430272984032,
           -8.630080783797828
          ],
          [
           -2.703791056870529,
           -8.633766066336504
          ],
          [
           -2.846303760379952,
           -8.635505747676273
          ],
          [
           -2.964608193297946,
           -8.63640094372763
          ],
          [
           -3.090216944061765,
           -8.634026421274777
          ],
          [
           -3.1665889519733055,
           -8.634477428468665
          ],
          [
           -3.228054790746212,
           -8.635037061968147
          ],
          [
           -3.335658078365346,
           -8.633722504404478
          ],
          [
           -3.474366679475225,
           -8.636306084189824
          ],
          [
           -3.569340315325279,
           -8.635587112801351
          ],
          [
           -3.6567749670739085,
           -8.642776292768126
          ],
          [
           -3.7417715964752083,
           -8.645369056035555
          ],
          [
           -3.8003383548870517,
           -8.650062438622781
          ],
          [
           -3.8390733634105745,
           -8.65489490625494
          ],
          [
           -3.8757334436904376,
           -8.664181047714246
          ],
          [
           -3.870778060507381,
           -8.670505081226606
          ],
          [
           -3.912396222189545,
           -8.682334952367817
          ],
          [
           -3.92213173726012,
           -8.684916265857739
          ],
          [
           -3.9011559090913273,
           -8.68955399081614
          ],
          [
           -3.8803543419591016,
           -8.691180569990046
          ],
          [
           -3.853604214194003,
           -8.696061702519795
          ],
          [
           -3.8188238720318535,
           -8.69666071378822
          ],
          [
           -3.81259887225374,
           -8.69841114475283
          ],
          [
           -3.7985478007912734,
           -8.695846453934783
          ],
          [
           -3.778468089198164,
           -8.69219443292615
          ],
          [
           -3.7210541744644723,
           -8.690616864766701
          ],
          [
           -3.671834011258961,
           -8.682561312317729
          ],
          [
           -3.62127213274562,
           -8.67961474250054
          ],
          [
           -3.597671050971569,
           -8.669185067985742
          ],
          [
           -3.580392082097599,
           -8.664021308221798
          ],
          [
           -3.5505007946257914,
           -8.658353859195794
          ],
          [
           -3.5285982533483287,
           -8.65668809362843
          ],
          [
           -3.5223373240573914,
           -8.651589818868253
          ],
          [
           -3.5022288096556258,
           -8.645805388362371
          ],
          [
           -3.51237755924603,
           -8.641588386214762
          ],
          [
           -3.5415404882945745,
           -8.637541749997572
          ],
          [
           -3.581927283716171,
           -8.632443399128968
          ],
          [
           -3.6128483681365964,
           -8.631430354049103
          ],
          [
           -3.6371534017173865,
           -8.628324859033237
          ],
          [
           -3.661327332762851,
           -8.626065176520674
          ],
          [
           -3.664760881145544,
           -8.629113012182996
          ],
          [
           -3.6857628240783513,
           -8.626587991257109
          ],
          [
           -3.7014413312109196,
           -8.623933182356888
          ],
          [
           -3.731984108523121,
           -8.619862820406325
          ],
          [
           -3.756705056045055,
           -8.617194516733532
          ]
         ],
         "hovertemplate": "%{x}<br>Baseline: %{y}<br><br>Baseline=%{customdata[0]:.3f}<br />Peds. Injected=%{customdata[1]:.3f}<extra></extra>",
         "legendgroup": "Baseline",
         "line": {
          "color": "#636EFA",
          "dash": "solid"
         },
         "name": "Baseline",
         "showlegend": false,
         "type": "scatter",
         "x": [
          "2014-01-30T00:00:00",
          "2014-01-31T00:00:00",
          "2014-02-01T00:00:00",
          "2014-02-02T00:00:00",
          "2014-02-03T00:00:00",
          "2014-02-04T00:00:00",
          "2014-02-05T00:00:00",
          "2014-02-06T00:00:00",
          "2014-02-07T00:00:00",
          "2014-02-08T00:00:00",
          "2014-02-09T00:00:00",
          "2014-02-10T00:00:00",
          "2014-02-11T00:00:00",
          "2014-02-12T00:00:00",
          "2014-02-13T00:00:00",
          "2014-02-14T00:00:00",
          "2014-02-15T00:00:00",
          "2014-02-16T00:00:00",
          "2014-02-17T00:00:00",
          "2014-02-18T00:00:00",
          "2014-02-19T00:00:00",
          "2014-02-20T00:00:00",
          "2014-02-21T00:00:00",
          "2014-02-22T00:00:00",
          "2014-02-23T00:00:00",
          "2014-02-24T00:00:00",
          "2014-02-25T00:00:00",
          "2014-02-26T00:00:00",
          "2014-02-27T00:00:00",
          "2014-02-28T00:00:00",
          "2014-03-01T00:00:00",
          "2014-03-02T00:00:00",
          "2014-03-03T00:00:00",
          "2014-03-04T00:00:00",
          "2014-03-05T00:00:00",
          "2014-03-06T00:00:00",
          "2014-03-07T00:00:00",
          "2014-03-08T00:00:00",
          "2014-03-09T00:00:00",
          "2014-03-10T00:00:00",
          "2014-03-11T00:00:00",
          "2014-03-12T00:00:00",
          "2014-03-13T00:00:00",
          "2014-03-14T00:00:00",
          "2014-03-15T00:00:00",
          "2014-03-16T00:00:00",
          "2014-03-17T00:00:00",
          "2014-03-18T00:00:00",
          "2014-03-19T00:00:00",
          "2014-03-20T00:00:00",
          "2014-03-21T00:00:00",
          "2014-03-22T00:00:00",
          "2014-03-23T00:00:00",
          "2014-03-24T00:00:00",
          "2014-03-25T00:00:00",
          "2014-03-26T00:00:00",
          "2014-03-27T00:00:00",
          "2014-03-28T00:00:00",
          "2014-03-29T00:00:00",
          "2014-03-30T00:00:00",
          "2014-03-31T00:00:00",
          "2014-04-01T00:00:00",
          "2014-04-02T00:00:00",
          "2014-04-03T00:00:00",
          "2014-04-04T00:00:00",
          "2014-04-05T00:00:00",
          "2014-04-06T00:00:00",
          "2014-04-07T00:00:00",
          "2014-04-08T00:00:00",
          "2014-04-09T00:00:00",
          "2014-04-10T00:00:00",
          "2014-04-11T00:00:00",
          "2014-04-12T00:00:00",
          "2014-04-13T00:00:00",
          "2014-04-14T00:00:00",
          "2014-04-15T00:00:00",
          "2014-04-16T00:00:00",
          "2014-04-17T00:00:00",
          "2014-04-18T00:00:00",
          "2014-04-19T00:00:00",
          "2014-04-20T00:00:00",
          "2014-04-21T00:00:00",
          "2014-04-22T00:00:00",
          "2014-04-23T00:00:00",
          "2014-04-24T00:00:00",
          "2014-04-25T00:00:00",
          "2014-04-26T00:00:00",
          "2014-04-27T00:00:00",
          "2014-04-28T00:00:00",
          "2014-04-29T00:00:00",
          "2014-04-30T00:00:00",
          "2014-05-01T00:00:00",
          "2014-05-02T00:00:00",
          "2014-05-03T00:00:00",
          "2014-05-04T00:00:00",
          "2014-05-05T00:00:00",
          "2014-05-06T00:00:00",
          "2014-05-07T00:00:00",
          "2014-05-08T00:00:00",
          "2014-05-09T00:00:00",
          "2014-05-10T00:00:00",
          "2014-05-11T00:00:00",
          "2014-05-12T00:00:00",
          "2014-05-13T00:00:00",
          "2014-05-14T00:00:00",
          "2014-05-15T00:00:00",
          "2014-05-16T00:00:00",
          "2014-05-17T00:00:00",
          "2014-05-18T00:00:00",
          "2014-05-19T00:00:00",
          "2014-05-20T00:00:00",
          "2014-05-21T00:00:00",
          "2014-05-22T00:00:00",
          "2014-05-23T00:00:00",
          "2014-05-24T00:00:00",
          "2014-05-25T00:00:00",
          "2014-05-26T00:00:00",
          "2014-05-27T00:00:00",
          "2014-05-28T00:00:00",
          "2014-05-29T00:00:00",
          "2014-05-30T00:00:00",
          "2014-05-31T00:00:00",
          "2014-06-01T00:00:00",
          "2014-06-02T00:00:00",
          "2014-06-03T00:00:00",
          "2014-06-04T00:00:00",
          "2014-06-05T00:00:00",
          "2014-06-06T00:00:00",
          "2014-06-07T00:00:00",
          "2014-06-08T00:00:00",
          "2014-06-09T00:00:00",
          "2014-06-10T00:00:00",
          "2014-06-11T00:00:00",
          "2014-06-12T00:00:00",
          "2014-06-13T00:00:00",
          "2014-06-14T00:00:00",
          "2014-06-15T00:00:00",
          "2014-06-16T00:00:00",
          "2014-06-17T00:00:00",
          "2014-06-18T00:00:00",
          "2014-06-19T00:00:00",
          "2014-06-20T00:00:00",
          "2014-06-21T00:00:00",
          "2014-06-22T00:00:00",
          "2014-06-23T00:00:00",
          "2014-06-24T00:00:00",
          "2014-06-25T00:00:00",
          "2014-06-26T00:00:00",
          "2014-06-27T00:00:00",
          "2014-06-28T00:00:00",
          "2014-06-29T00:00:00",
          "2014-06-30T00:00:00",
          "2014-07-01T00:00:00",
          "2014-07-02T00:00:00",
          "2014-07-03T00:00:00",
          "2014-07-04T00:00:00",
          "2014-07-05T00:00:00",
          "2014-07-06T00:00:00",
          "2014-07-07T00:00:00",
          "2014-07-08T00:00:00",
          "2014-07-09T00:00:00",
          "2014-07-10T00:00:00",
          "2014-07-11T00:00:00",
          "2014-07-12T00:00:00",
          "2014-07-13T00:00:00",
          "2014-07-14T00:00:00",
          "2014-07-15T00:00:00",
          "2014-07-16T00:00:00",
          "2014-07-17T00:00:00",
          "2014-07-18T00:00:00",
          "2014-07-19T00:00:00",
          "2014-07-20T00:00:00",
          "2014-07-21T00:00:00",
          "2014-07-22T00:00:00",
          "2014-07-23T00:00:00",
          "2014-07-24T00:00:00",
          "2014-07-25T00:00:00",
          "2014-07-26T00:00:00",
          "2014-07-27T00:00:00",
          "2014-07-28T00:00:00",
          "2014-07-29T00:00:00",
          "2014-07-30T00:00:00",
          "2014-07-31T00:00:00",
          "2014-08-01T00:00:00",
          "2014-08-02T00:00:00",
          "2014-08-03T00:00:00",
          "2014-08-04T00:00:00",
          "2014-08-05T00:00:00",
          "2014-08-06T00:00:00",
          "2014-08-07T00:00:00",
          "2014-08-08T00:00:00",
          "2014-08-09T00:00:00",
          "2014-08-10T00:00:00",
          "2014-08-11T00:00:00",
          "2014-08-12T00:00:00",
          "2014-08-13T00:00:00",
          "2014-08-14T00:00:00",
          "2014-08-15T00:00:00",
          "2014-08-16T00:00:00",
          "2014-08-17T00:00:00",
          "2014-08-18T00:00:00",
          "2014-08-19T00:00:00",
          "2014-08-20T00:00:00",
          "2014-08-21T00:00:00",
          "2014-08-22T00:00:00",
          "2014-08-23T00:00:00",
          "2014-08-24T00:00:00",
          "2014-08-25T00:00:00",
          "2014-08-26T00:00:00",
          "2014-08-27T00:00:00",
          "2014-08-28T00:00:00",
          "2014-08-29T00:00:00",
          "2014-08-30T00:00:00",
          "2014-08-31T00:00:00",
          "2014-09-01T00:00:00",
          "2014-09-02T00:00:00",
          "2014-09-03T00:00:00",
          "2014-09-04T00:00:00",
          "2014-09-05T00:00:00",
          "2014-09-06T00:00:00",
          "2014-09-07T00:00:00",
          "2014-09-08T00:00:00",
          "2014-09-09T00:00:00",
          "2014-09-10T00:00:00",
          "2014-09-11T00:00:00",
          "2014-09-12T00:00:00",
          "2014-09-13T00:00:00",
          "2014-09-14T00:00:00",
          "2014-09-15T00:00:00",
          "2014-09-16T00:00:00",
          "2014-09-17T00:00:00",
          "2014-09-18T00:00:00",
          "2014-09-19T00:00:00",
          "2014-09-20T00:00:00",
          "2014-09-21T00:00:00",
          "2014-09-22T00:00:00",
          "2014-09-23T00:00:00",
          "2014-09-24T00:00:00",
          "2014-09-25T00:00:00",
          "2014-09-26T00:00:00",
          "2014-09-27T00:00:00",
          "2014-09-28T00:00:00",
          "2014-09-29T00:00:00",
          "2014-09-30T00:00:00",
          "2014-10-01T00:00:00",
          "2014-10-02T00:00:00",
          "2014-10-03T00:00:00",
          "2014-10-04T00:00:00",
          "2014-10-05T00:00:00",
          "2014-10-06T00:00:00",
          "2014-10-07T00:00:00",
          "2014-10-08T00:00:00",
          "2014-10-09T00:00:00",
          "2014-10-10T00:00:00",
          "2014-10-11T00:00:00",
          "2014-10-12T00:00:00",
          "2014-10-13T00:00:00",
          "2014-10-14T00:00:00",
          "2014-10-15T00:00:00",
          "2014-10-16T00:00:00",
          "2014-10-17T00:00:00",
          "2014-10-18T00:00:00",
          "2014-10-19T00:00:00",
          "2014-10-20T00:00:00",
          "2014-10-21T00:00:00",
          "2014-10-22T00:00:00",
          "2014-10-23T00:00:00",
          "2014-10-24T00:00:00",
          "2014-10-25T00:00:00",
          "2014-10-26T00:00:00",
          "2014-10-27T00:00:00",
          "2014-10-28T00:00:00",
          "2014-10-29T00:00:00",
          "2014-10-30T00:00:00",
          "2014-10-31T00:00:00",
          "2014-11-01T00:00:00",
          "2014-11-02T00:00:00",
          "2014-11-03T00:00:00",
          "2014-11-04T00:00:00",
          "2014-11-05T00:00:00",
          "2014-11-06T00:00:00",
          "2014-11-07T00:00:00",
          "2014-11-08T00:00:00",
          "2014-11-09T00:00:00",
          "2014-11-10T00:00:00",
          "2014-11-11T00:00:00",
          "2014-11-12T00:00:00",
          "2014-11-13T00:00:00",
          "2014-11-14T00:00:00",
          "2014-11-15T00:00:00",
          "2014-11-16T00:00:00",
          "2014-11-17T00:00:00",
          "2014-11-18T00:00:00",
          "2014-11-19T00:00:00",
          "2014-11-20T00:00:00",
          "2014-11-21T00:00:00",
          "2014-11-22T00:00:00",
          "2014-11-23T00:00:00",
          "2014-11-24T00:00:00",
          "2014-11-25T00:00:00",
          "2014-11-26T00:00:00",
          "2014-11-27T00:00:00",
          "2014-11-28T00:00:00",
          "2014-11-29T00:00:00",
          "2014-11-30T00:00:00",
          "2014-12-01T00:00:00",
          "2014-12-02T00:00:00",
          "2014-12-03T00:00:00",
          "2014-12-04T00:00:00",
          "2014-12-05T00:00:00",
          "2014-12-06T00:00:00",
          "2014-12-07T00:00:00",
          "2014-12-08T00:00:00",
          "2014-12-09T00:00:00",
          "2014-12-10T00:00:00",
          "2014-12-11T00:00:00",
          "2014-12-12T00:00:00",
          "2014-12-13T00:00:00",
          "2014-12-14T00:00:00",
          "2014-12-15T00:00:00",
          "2014-12-16T00:00:00",
          "2014-12-17T00:00:00",
          "2014-12-18T00:00:00",
          "2014-12-19T00:00:00",
          "2014-12-20T00:00:00",
          "2014-12-21T00:00:00",
          "2014-12-22T00:00:00",
          "2014-12-23T00:00:00",
          "2014-12-24T00:00:00",
          "2014-12-25T00:00:00",
          "2014-12-26T00:00:00",
          "2014-12-27T00:00:00",
          "2014-12-28T00:00:00",
          "2014-12-29T00:00:00",
          "2014-12-30T00:00:00",
          "2014-12-31T00:00:00",
          "2015-01-01T00:00:00",
          "2015-01-02T00:00:00",
          "2015-01-03T00:00:00",
          "2015-01-04T00:00:00",
          "2015-01-05T00:00:00",
          "2015-01-06T00:00:00",
          "2015-01-07T00:00:00",
          "2015-01-08T00:00:00",
          "2015-01-09T00:00:00",
          "2015-01-10T00:00:00",
          "2015-01-11T00:00:00",
          "2015-01-12T00:00:00",
          "2015-01-13T00:00:00",
          "2015-01-14T00:00:00",
          "2015-01-15T00:00:00",
          "2015-01-16T00:00:00",
          "2015-01-17T00:00:00",
          "2015-01-18T00:00:00",
          "2015-01-19T00:00:00",
          "2015-01-20T00:00:00",
          "2015-01-21T00:00:00",
          "2015-01-22T00:00:00",
          "2015-01-23T00:00:00",
          "2015-01-24T00:00:00",
          "2015-01-25T00:00:00",
          "2015-01-26T00:00:00",
          "2015-01-27T00:00:00",
          "2015-01-28T00:00:00",
          "2015-01-29T00:00:00",
          "2015-01-30T00:00:00",
          "2015-01-31T00:00:00"
         ],
         "xaxis": "x2",
         "y": [
          null,
          null,
          null,
          null,
          null,
          null,
          null,
          null,
          null,
          null,
          null,
          null,
          null,
          -1.9809742965119477,
          -1.6099984362439623,
          -1.341395605606877,
          -1.2038353248219134,
          -1.1151198938168023,
          -0.9217694734211215,
          -0.7636683060495443,
          -0.6085642923440262,
          -0.4906160781614288,
          -0.36851033188306187,
          -0.2902442499790137,
          -0.22049122382216682,
          -0.17592498785596347,
          -0.14747513314243504,
          -0.10616720592829461,
          -0.08508459784099365,
          -0.07138821184924139,
          -0.04873040094496054,
          -0.036522180432591436,
          -0.011650312929579392,
          0.0021262960508098847,
          0.026607031153929327,
          0.044476969188653966,
          0.07633689882099857,
          0.09894243436755265,
          0.10809196769442701,
          0.11425068969474163,
          0.11435201928802816,
          0.1330932824204572,
          0.141919314895615,
          0.15836438360485156,
          0.1690585192778998,
          0.1456726983463445,
          0.11738549287833723,
          0.08306051738716305,
          0.06749156148496376,
          0.023256774823667108,
          -0.008543689667109696,
          -0.08385148200542773,
          -0.1831174815790133,
          -0.2189488511323361,
          -0.2365009519388067,
          -0.2422992492444549,
          -0.2391533902716504,
          -0.22498460048264748,
          -0.21133088449519494,
          -0.20962375864912694,
          -0.19467696312207813,
          -0.1737408788796397,
          -0.15044442776198094,
          -0.12791824948913297,
          -0.10293288748543789,
          -0.1061876944411212,
          -0.13205649513028472,
          -0.17234471714377342,
          -0.21288241945511388,
          -0.21448588303454955,
          -0.2549378732745436,
          -0.31572668905849305,
          -0.4319399579949219,
          -0.5211282301138305,
          -0.5675995524247275,
          -0.5439739199221855,
          -0.5090908940445071,
          -0.5251066317690491,
          -0.5592161272099251,
          -0.5832448572098362,
          -0.6045085413733959,
          -0.6672566775990673,
          -0.7038990913465707,
          -0.7069422322154064,
          -0.728590995366585,
          -0.74945223859442,
          -0.7926350042960163,
          -0.8284221558952976,
          -0.8104016562542241,
          -0.7468464905346915,
          -0.6779816573162131,
          -0.5981284889024605,
          -0.5545811072692637,
          -0.49946374748031563,
          -0.482089657144508,
          -0.44311705922836514,
          -0.3903211548415286,
          -0.3376596975581999,
          -0.28395626226657833,
          -0.23829149429254204,
          -0.21579720097487165,
          -0.18654135090805513,
          -0.1689217687869053,
          -0.1643810552349253,
          -0.1896702592108205,
          -0.1994473923801149,
          -0.23331493811078255,
          -0.3015797486876444,
          -0.3816897327875728,
          -0.4370658168776512,
          -0.47416955888240236,
          -0.5106129283194639,
          -0.5158175357497294,
          -0.5328176391127827,
          -0.5535416904888053,
          -0.5831206830837488,
          -0.6546466569079481,
          -0.6846710125070019,
          -0.683363645772456,
          -0.6992094485075033,
          -0.7305803482512909,
          -0.7948186435472316,
          -0.8566707911713394,
          -0.8383798126828711,
          -0.8005827578823297,
          -0.7578858569874553,
          -0.7218658992047237,
          -0.7139666073951141,
          -0.7296867739017415,
          -0.7830638430199277,
          -0.8524834323662609,
          -0.8765933825688342,
          -0.8839960907916303,
          -0.9187029473409521,
          -0.9608756871661783,
          -1.0318312817801367,
          -1.0744817543038745,
          -1.0650945494937303,
          -1.0459839200469574,
          -0.9972623486913861,
          -0.9189303263717977,
          -0.842297417296867,
          -0.7851446534901044,
          -0.7534435381479727,
          -0.7164461335835138,
          -0.7103171092795647,
          -0.7021805937147753,
          -0.7439014737151513,
          -0.8076389744080935,
          -0.8746061528037758,
          -0.976540580849584,
          -1.1015727420396069,
          -1.1835563466710046,
          -1.2213720688388758,
          -1.3000239460874157,
          -1.3836287327961596,
          -1.4486112896938275,
          -1.504189157335994,
          -1.5926317476190113,
          -1.7173794974370598,
          -1.8634186124566765,
          -1.9848244295541866,
          -2.1207343236488865,
          -2.254161111495728,
          -2.3833988448545576,
          -2.4897208341391086,
          -2.562799215205758,
          -2.5767868077712515,
          -2.587705140781066,
          -2.617141443300024,
          -2.673372782626785,
          -2.7537800171097078,
          -2.831620162604532,
          -2.8335638662214415,
          -2.771845442540664,
          -2.723899944508552,
          -2.6834240614194114,
          -2.641087741530931,
          -2.608859569567487,
          -2.5538584269947724,
          -2.5025454781490617,
          -2.481651918721048,
          -2.4602814595742486,
          -2.433801500930466,
          -2.4744771787057425,
          -2.5006854999575463,
          -2.5220826058849846,
          -2.523065070003822,
          -2.5342289544775047,
          -2.5115349887119756,
          -2.446863973504614,
          -2.369070789827521,
          -2.3053747114219076,
          -2.262505494657044,
          -2.2313364183699265,
          -2.1858300048315975,
          -2.1292043463474566,
          -2.1255924661103567,
          -2.138271129447399,
          -2.1731398416978025,
          -2.2165603275647188,
          -2.2263391613683265,
          -2.2249724016124337,
          -2.2893113926895614,
          -2.3614444404577513,
          -2.495036890570969,
          -2.6751552061799644,
          -2.827871049469369,
          -2.9271537042936333,
          -3.008812945655804,
          -3.064139822961626,
          -3.131165260132357,
          -3.1308603175371412,
          -3.140698247403281,
          -3.121254305562564,
          -3.124825163472022,
          -3.1207416539352053,
          -3.167677114354165,
          -3.240794647410873,
          -3.346771349706542,
          -3.4144315138259986,
          -3.4576204864484117,
          -3.431052082690783,
          -3.392401004685725,
          -3.2976083935382663,
          -3.184754401552949,
          -3.111869079210743,
          -3.061099567798253,
          -2.9722968026651597,
          -2.8343048556531802,
          -2.704326055414376,
          -2.5908491315715025,
          -2.4699455891690647,
          -2.3677790972183916,
          -2.280012761100982,
          -2.190206888136136,
          -2.132549288362515,
          -2.073988177777722,
          -2.019574447789445,
          -2.00191876916069,
          -1.9774069983008846,
          -1.978096236181131,
          -1.9984570593766122,
          -1.9811955468623441,
          -1.9242759338209299,
          -1.8776112651105217,
          -1.889048039914146,
          -1.870634651782593,
          -1.8540585711064514,
          -1.8141548555126938,
          -1.760892469982339,
          -1.7235021652099114,
          -1.696758011873824,
          -1.6945558253233066,
          -1.6838531980659068,
          -1.6790174046652069,
          -1.6908258413881465,
          -1.688594533566699,
          -1.6365957218228642,
          -1.547519177707739,
          -1.445536186039796,
          -1.3751341005648299,
          -1.3420655143302243,
          -1.319199214404589,
          -1.3192045207925938,
          -1.3209120335951043,
          -1.30241970888483,
          -1.273517392459427,
          -1.2443479050484758,
          -1.213419600782568,
          -1.1714900497034424,
          -1.142293035457991,
          -1.1099660722528677,
          -1.1127091364652468,
          -1.1276653944380886,
          -1.1422752058802692,
          -1.155321732465269,
          -1.1521065166933866,
          -1.1293265053386112,
          -1.1146660886728583,
          -1.1233752208522445,
          -1.1617426289665198,
          -1.2010340061854168,
          -1.2363537156391307,
          -1.2381377770239765,
          -1.2074415739702002,
          -1.1650678053857864,
          -1.1326570182609161,
          -1.095216895988248,
          -1.0687139119606157,
          -1.0662957187017923,
          -1.1119110348134804,
          -1.1490772292118527,
          -1.181860257261877,
          -1.2223159933747398,
          -1.2473911778393176,
          -1.2645323778814557,
          -1.2726468129336743,
          -1.2981646222849803,
          -1.300373507990192,
          -1.2739770974848168,
          -1.2657002242946156,
          -1.2849126522987764,
          -1.3376378548918189,
          -1.4062615366863003,
          -1.4695981954017043,
          -1.5108582591613324,
          -1.4995403767181381,
          -1.4560246032196809,
          -1.4130089613805474,
          -1.3758407489923423,
          -1.3466584494557041,
          -1.3386765697064993,
          -1.33453450345559,
          -1.3635130629342471,
          -1.4375239928783532,
          -1.58216095661197,
          -1.749599105467766,
          -1.9054697579534068,
          -2.1247187901482074,
          -2.30373323860612,
          -2.4346970131167534,
          -2.566430272984032,
          -2.703791056870529,
          -2.846303760379952,
          -2.964608193297946,
          -3.090216944061765,
          -3.1665889519733055,
          -3.228054790746212,
          -3.335658078365346,
          -3.474366679475225,
          -3.569340315325279,
          -3.6567749670739085,
          -3.7417715964752083,
          -3.8003383548870517,
          -3.8390733634105745,
          -3.8757334436904376,
          -3.870778060507381,
          -3.912396222189545,
          -3.92213173726012,
          -3.9011559090913273,
          -3.8803543419591016,
          -3.853604214194003,
          -3.8188238720318535,
          -3.81259887225374,
          -3.7985478007912734,
          -3.778468089198164,
          -3.7210541744644723,
          -3.671834011258961,
          -3.62127213274562,
          -3.597671050971569,
          -3.580392082097599,
          -3.5505007946257914,
          -3.5285982533483287,
          -3.5223373240573914,
          -3.5022288096556258,
          -3.51237755924603,
          -3.5415404882945745,
          -3.581927283716171,
          -3.6128483681365964,
          -3.6371534017173865,
          -3.661327332762851,
          -3.664760881145544,
          -3.6857628240783513,
          -3.7014413312109196,
          -3.731984108523121,
          -3.756705056045055
         ],
         "yaxis": "y2"
        },
        {
         "connectgaps": false,
         "customdata": [
          [
           null,
           null
          ],
          [
           null,
           null
          ],
          [
           null,
           null
          ],
          [
           null,
           null
          ],
          [
           null,
           null
          ],
          [
           null,
           null
          ],
          [
           null,
           null
          ],
          [
           null,
           null
          ],
          [
           null,
           null
          ],
          [
           null,
           null
          ],
          [
           null,
           null
          ],
          [
           null,
           null
          ],
          [
           null,
           null
          ],
          [
           -1.9809742965119477,
           -2.05752302613014
          ],
          [
           -1.6099984362439623,
           -1.704383483140813
          ],
          [
           -1.341395605606877,
           -1.4494148090702303
          ],
          [
           -1.2038353248219134,
           -1.316523670377067
          ],
          [
           -1.1151198938168023,
           -1.2375674078045138
          ],
          [
           -0.9217694734211215,
           -1.0419098276291339
          ],
          [
           -0.7636683060495443,
           -0.8791212873777292
          ],
          [
           -0.6085642923440262,
           -0.7253727347926553
          ],
          [
           -0.4906160781614288,
           -0.6115584304666463
          ],
          [
           -0.36851033188306187,
           -0.4860790909622612
          ],
          [
           -0.2902442499790137,
           -0.39653341399315617
          ],
          [
           -0.22049122382216682,
           -0.3297825498621372
          ],
          [
           -0.17592498785596347,
           -0.2841570181064766
          ],
          [
           -0.14747513314243504,
           -0.2492691110963878
          ],
          [
           -0.10616720592829461,
           -0.207900496817772
          ],
          [
           -0.08508459784099365,
           -0.17842648194543825
          ],
          [
           -0.07138821184924139,
           -0.16436996043656799
          ],
          [
           -0.04873040094496054,
           -0.15831626030591164
          ],
          [
           -0.036522180432591436,
           -0.1472445567039178
          ],
          [
           -0.011650312929579392,
           -0.11794948721713396
          ],
          [
           0.0021262960508098847,
           -0.09108951121786044
          ],
          [
           0.026607031153929327,
           -0.06751775058746032
          ],
          [
           0.044476969188653966,
           -0.04099182768962435
          ],
          [
           0.07633689882099857,
           -0.0022872679534061574
          ],
          [
           0.09894243436755265,
           0.019302617454997503
          ],
          [
           0.10809196769442701,
           0.026053270469728988
          ],
          [
           0.11425068969474163,
           0.037981142233811806
          ],
          [
           0.11435201928802816,
           0.04173957902865652
          ],
          [
           0.1330932824204572,
           0.06526931089752461
          ],
          [
           0.141919314895615,
           0.08480931945890277
          ],
          [
           0.15836438360485156,
           0.09182630529847614
          ],
          [
           0.1690585192778998,
           0.1111069214870192
          ],
          [
           0.1456726983463445,
           0.08829474533946388
          ],
          [
           0.11738549287833723,
           0.06520658540576227
          ],
          [
           0.08306051738716305,
           0.044038100411871145
          ],
          [
           0.06749156148496376,
           0.029753181281595622
          ],
          [
           0.023256774823667108,
           -0.021664615328334125
          ],
          [
           -0.008543689667109696,
           -0.05257864900902678
          ],
          [
           -0.08385148200542773,
           -0.1367361561137618
          ],
          [
           -0.1831174815790133,
           -0.24606726671626078
          ],
          [
           -0.2189488511323361,
           -0.29921873172101326
          ],
          [
           -0.2365009519388067,
           -0.30608159364766485
          ],
          [
           -0.2422992492444549,
           -0.30911592287314094
          ],
          [
           -0.2391533902716504,
           -0.28921227250844733
          ],
          [
           -0.22498460048264748,
           -0.2591815493030944
          ],
          [
           -0.21133088449519494,
           -0.23988026151706313
          ],
          [
           -0.20962375864912694,
           -0.23938604479628067
          ],
          [
           -0.19467696312207813,
           -0.21983984916882082
          ],
          [
           -0.1737408788796397,
           -0.18897880243476095
          ],
          [
           -0.15044442776198094,
           -0.14360296068231904
          ],
          [
           -0.12791824948913297,
           -0.10169087999223303
          ],
          [
           -0.10293288748543789,
           -0.06618581664363286
          ],
          [
           -0.1061876944411212,
           -0.039567267706568036
          ],
          [
           -0.13205649513028472,
           -0.035423268029986535
          ],
          [
           -0.17234471714377342,
           -0.05694905449565244
          ],
          [
           -0.21288241945511388,
           -0.04533203607891806
          ],
          [
           -0.21448588303454955,
           -0.03685382005832474
          ],
          [
           -0.2549378732745436,
           -0.06783592297373574
          ],
          [
           -0.31572668905849305,
           -0.09385387362437042
          ],
          [
           -0.4319399579949219,
           -0.16597735431338664
          ],
          [
           -0.5211282301138305,
           -0.23491546846455322
          ],
          [
           -0.5675995524247275,
           -0.24840524768280883
          ],
          [
           -0.5439739199221855,
           -0.22888212355390553
          ],
          [
           -0.5090908940445071,
           -0.2107055513805274
          ],
          [
           -0.5251066317690491,
           -0.2562169117977786
          ],
          [
           -0.5592161272099251,
           -0.31542276100310745
          ],
          [
           -0.5832448572098362,
           -0.3482865597461368
          ],
          [
           -0.6045085413733959,
           -0.35504762469492124
          ],
          [
           -0.6672566775990673,
           -0.3991296545505752
          ],
          [
           -0.7038990913465707,
           -0.4105300821838379
          ],
          [
           -0.7069422322154064,
           -0.410985289776073
          ],
          [
           -0.728590995366585,
           -0.42047531409342714
          ],
          [
           -0.74945223859442,
           -0.4499896341609461
          ],
          [
           -0.7926350042960163,
           -0.4977697915698936
          ],
          [
           -0.8284221558952976,
           -0.5283433139023536
          ],
          [
           -0.8104016562542241,
           -0.5137363973019125
          ],
          [
           -0.7468464905346915,
           -0.47876418268130777
          ],
          [
           -0.6779816573162131,
           -0.4100727253118699
          ],
          [
           -0.5981284889024605,
           -0.3700469415499299
          ],
          [
           -0.5545811072692637,
           -0.3390879612775542
          ],
          [
           -0.49946374748031563,
           -0.3128459357211706
          ],
          [
           -0.482089657144508,
           -0.31953322133595286
          ],
          [
           -0.44311705922836514,
           -0.2991874890782534
          ],
          [
           -0.3903211548415286,
           -0.2569796950791397
          ],
          [
           -0.3376596975581999,
           -0.1952081751595567
          ],
          [
           -0.28395626226657833,
           -0.12512427657851147
          ],
          [
           -0.23829149429254204,
           -0.08965006893723637
          ],
          [
           -0.21579720097487165,
           -0.0610175577270081
          ],
          [
           -0.18654135090805513,
           -0.04092878476344238
          ],
          [
           -0.1689217687869053,
           -0.034076717311978054
          ],
          [
           -0.1643810552349253,
           -0.011012095249623984
          ],
          [
           -0.1896702592108205,
           -0.021055660721945497
          ],
          [
           -0.1994473923801149,
           -0.02218003647481581
          ],
          [
           -0.23331493811078255,
           -0.04820529635060333
          ],
          [
           -0.3015797486876444,
           -0.08757155539173714
          ],
          [
           -0.3816897327875728,
           -0.15471162504123956
          ],
          [
           -0.4370658168776512,
           -0.19852223563247684
          ],
          [
           -0.47416955888240236,
           -0.2317625771622417
          ],
          [
           -0.5106129283194639,
           -0.22860088907103546
          ],
          [
           -0.5158175357497294,
           -0.20565904179238892
          ],
          [
           -0.5328176391127827,
           -0.18876877963703345
          ],
          [
           -0.5535416904888053,
           -0.1723785108224139
          ],
          [
           -0.5831206830837488,
           -0.16022912193739203
          ],
          [
           -0.6546466569079481,
           -0.17377665680495336
          ],
          [
           -0.6846710125070019,
           -0.16569407833642266
          ],
          [
           -0.683363645772456,
           -0.16062871480132063
          ],
          [
           -0.6992094485075033,
           -0.17083792850799737
          ],
          [
           -0.7305803482512909,
           -0.1971052322747691
          ],
          [
           -0.7948186435472316,
           -0.24957914757584787
          ],
          [
           -0.8566707911713394,
           -0.2887632843651468
          ],
          [
           -0.8383798126828711,
           -0.8103036660068379
          ],
          [
           -0.8005827578823297,
           -1.4598725938482593
          ],
          [
           -0.7578858569874553,
           -2.1892893640626667
          ],
          [
           -0.7218658992047237,
           -2.9597946237210433
          ],
          [
           -0.7139666073951141,
           -3.639720361666848
          ],
          [
           -0.7296867739017415,
           -4.195114095673319
          ],
          [
           -0.7830638430199277,
           -4.676874075938395
          ],
          [
           -0.8524834323662609,
           -5.111100044641513
          ],
          [
           -0.8765933825688342,
           -5.48251224327864
          ],
          [
           -0.8839960907916303,
           -5.795592279598369
          ],
          [
           -0.9187029473409521,
           -6.087611819354236
          ],
          [
           -0.9608756871661783,
           -6.347929410398555
          ],
          [
           -1.0318312817801367,
           -6.555983853655698
          ],
          [
           -1.0744817543038745,
           -6.7211437651399395
          ],
          [
           -1.0650945494937303,
           -6.868856106276036
          ],
          [
           -1.0459839200469574,
           -6.991572877351832
          ],
          [
           -0.9972623486913861,
           -7.086966995191517
          ],
          [
           -0.9189303263717977,
           -7.181738366856219
          ],
          [
           -0.842297417296867,
           -7.263978756882989
          ],
          [
           -0.7851446534901044,
           -7.334876554213959
          ],
          [
           -0.7534435381479727,
           -7.394951642732822
          ],
          [
           -0.7164461335835138,
           -7.4530576618438795
          ],
          [
           -0.7103171092795647,
           -7.4966816739481805
          ],
          [
           -0.7021805937147753,
           -7.538310045053378
          ],
          [
           -0.7439014737151513,
           -7.575811991492972
          ],
          [
           -0.8076389744080935,
           -7.623192764141469
          ],
          [
           -0.8746061528037758,
           -7.666571048355181
          ],
          [
           -0.976540580849584,
           -7.720396394451444
          ],
          [
           -1.1015727420396069,
           -7.776141405438941
          ],
          [
           -1.1835563466710046,
           -7.817159830216804
          ],
          [
           -1.2213720688388758,
           -7.844665126500519
          ],
          [
           -1.3000239460874157,
           -7.87392291670781
          ],
          [
           -1.3836287327961596,
           -7.897435917643774
          ],
          [
           -1.4486112896938275,
           -7.919066018140282
          ],
          [
           -1.504189157335994,
           -7.9301608104531205
          ],
          [
           -1.5926317476190113,
           -7.93709134280412
          ],
          [
           -1.7173794974370598,
           -7.933588330532842
          ],
          [
           -1.8634186124566765,
           -7.938163635268526
          ],
          [
           -1.9848244295541866,
           -7.941538145768233
          ],
          [
           -2.1207343236488865,
           -7.947578586286802
          ],
          [
           -2.254161111495728,
           -7.954671963281952
          ],
          [
           -2.3833988448545576,
           -7.9574958327229695
          ],
          [
           -2.4897208341391086,
           -7.960918141064005
          ],
          [
           -2.562799215205758,
           -7.959290896722166
          ],
          [
           -2.5767868077712515,
           -7.958820714914615
          ],
          [
           -2.587705140781066,
           -7.968269157632474
          ],
          [
           -2.617141443300024,
           -7.974848152419003
          ],
          [
           -2.673372782626785,
           -7.977426437726674
          ],
          [
           -2.7537800171097078,
           -7.9871157193613795
          ],
          [
           -2.831620162604532,
           -7.987699226962766
          ],
          [
           -2.8335638662214415,
           -7.9891398410492505
          ],
          [
           -2.771845442540664,
           -7.988854012384009
          ],
          [
           -2.723899944508552,
           -7.986096926484889
          ],
          [
           -2.6834240614194114,
           -7.977859316499504
          ],
          [
           -2.641087741530931,
           -7.970675045224942
          ],
          [
           -2.608859569567487,
           -7.9674011812252985
          ],
          [
           -2.5538584269947724,
           -7.963232299046634
          ],
          [
           -2.5025454781490617,
           -7.96026385907032
          ],
          [
           -2.481651918721048,
           -7.961856969749885
          ],
          [
           -2.4602814595742486,
           -7.9654990847892115
          ],
          [
           -2.433801500930466,
           -7.9689306469538534
          ],
          [
           -2.4744771787057425,
           -7.978935325902359
          ],
          [
           -2.5006854999575463,
           -7.983698207846428
          ],
          [
           -2.5220826058849846,
           -7.982161295113457
          ],
          [
           -2.523065070003822,
           -7.980333892572418
          ],
          [
           -2.5342289544775047,
           -7.981085751804282
          ],
          [
           -2.5115349887119756,
           -7.981045697287958
          ],
          [
           -2.446863973504614,
           -7.984017909913241
          ],
          [
           -2.369070789827521,
           -7.991772226423285
          ],
          [
           -2.3053747114219076,
           -7.995335219431148
          ],
          [
           -2.262505494657044,
           -8.000001867176717
          ],
          [
           -2.2313364183699265,
           -8.007400760790036
          ],
          [
           -2.1858300048315975,
           -8.009257157341631
          ],
          [
           -2.1292043463474566,
           -8.0111757625915
          ],
          [
           -2.1255924661103567,
           -8.01691906060092
          ],
          [
           -2.138271129447399,
           -8.01830741988751
          ],
          [
           -2.1731398416978025,
           -8.013309439748502
          ],
          [
           -2.2165603275647188,
           -8.0192451432754
          ],
          [
           -2.2263391613683265,
           -8.02066284234379
          ],
          [
           -2.2249724016124337,
           -8.020808320280823
          ],
          [
           -2.2893113926895614,
           -8.02090467733539
          ],
          [
           -2.3614444404577513,
           -8.026723042282418
          ],
          [
           -2.495036890570969,
           -8.028163209315954
          ],
          [
           -2.6751552061799644,
           -8.03889170105924
          ],
          [
           -2.827871049469369,
           -8.05112745623071
          ],
          [
           -2.9271537042936333,
           -8.054838253569821
          ],
          [
           -3.008812945655804,
           -8.055378787506056
          ],
          [
           -3.064139822961626,
           -8.055548004540542
          ],
          [
           -3.131165260132357,
           -8.060341441585845
          ],
          [
           -3.1308603175371412,
           -8.060040796921793
          ],
          [
           -3.140698247403281,
           -8.056118842240958
          ],
          [
           -3.121254305562564,
           -8.041307107002764
          ],
          [
           -3.124825163472022,
           -8.039783398225298
          ],
          [
           -3.1207416539352053,
           -8.047928366843136
          ],
          [
           -3.167677114354165,
           -8.060711777988198
          ],
          [
           -3.240794647410873,
           -8.081323790022125
          ],
          [
           -3.346771349706542,
           -8.096318016676289
          ],
          [
           -3.4144315138259986,
           -8.109639639250776
          ],
          [
           -3.4576204864484117,
           -8.124464845069273
          ],
          [
           -3.431052082690783,
           -8.143840788697302
          ],
          [
           -3.392401004685725,
           -8.158255811060808
          ],
          [
           -3.2976083935382663,
           -8.182647551442082
          ],
          [
           -3.184754401552949,
           -8.205073173492028
          ],
          [
           -3.111869079210743,
           -8.23109588023831
          ],
          [
           -3.061099567798253,
           -8.253610461956475
          ],
          [
           -2.9722968026651597,
           -8.271176297977801
          ],
          [
           -2.8343048556531802,
           -8.28947847272329
          ],
          [
           -2.704326055414376,
           -8.309251437956457
          ],
          [
           -2.5908491315715025,
           -8.330076775019304
          ],
          [
           -2.4699455891690647,
           -8.351061755065802
          ],
          [
           -2.3677790972183916,
           -8.368810053284959
          ],
          [
           -2.280012761100982,
           -8.391922248951335
          ],
          [
           -2.190206888136136,
           -8.414114559715449
          ],
          [
           -2.132549288362515,
           -8.43342942920719
          ],
          [
           -2.073988177777722,
           -8.447121608700115
          ],
          [
           -2.019574447789445,
           -8.461318609543868
          ],
          [
           -2.00191876916069,
           -8.481549635405306
          ],
          [
           -1.9774069983008846,
           -8.506149277868632
          ],
          [
           -1.978096236181131,
           -8.527606251210539
          ],
          [
           -1.9984570593766122,
           -8.54726667739955
          ],
          [
           -1.9811955468623441,
           -8.559608225766828
          ],
          [
           -1.9242759338209299,
           -8.573134019092231
          ],
          [
           -1.8776112651105217,
           -8.58506624606943
          ],
          [
           -1.889048039914146,
           -8.595515194097375
          ],
          [
           -1.870634651782593,
           -8.604766535842288
          ],
          [
           -1.8540585711064514,
           -8.615551642044894
          ],
          [
           -1.8141548555126938,
           -8.618894832630378
          ],
          [
           -1.760892469982339,
           -8.621569439137515
          ],
          [
           -1.7235021652099114,
           -8.624760604856423
          ],
          [
           -1.696758011873824,
           -8.625616189436728
          ],
          [
           -1.6945558253233066,
           -8.623453556008288
          ],
          [
           -1.6838531980659068,
           -8.627930291837421
          ],
          [
           -1.6790174046652069,
           -8.628175994074446
          ],
          [
           -1.6908258413881465,
           -8.62393755210617
          ],
          [
           -1.688594533566699,
           -8.619596279618825
          ],
          [
           -1.6365957218228642,
           -8.617422881958026
          ],
          [
           -1.547519177707739,
           -8.62345640669017
          ],
          [
           -1.445536186039796,
           -8.626815842960353
          ],
          [
           -1.3751341005648299,
           -8.632357587838088
          ],
          [
           -1.3420655143302243,
           -8.632538246280202
          ],
          [
           -1.319199214404589,
           -8.637112142954065
          ],
          [
           -1.3192045207925938,
           -8.636552188872837
          ],
          [
           -1.3209120335951043,
           -8.635588450013481
          ],
          [
           -1.30241970888483,
           -8.63118565155898
          ],
          [
           -1.273517392459427,
           -8.625407144939514
          ],
          [
           -1.2443479050484758,
           -8.625171115826781
          ],
          [
           -1.213419600782568,
           -8.624669852457023
          ],
          [
           -1.1714900497034424,
           -8.622560734000126
          ],
          [
           -1.142293035457991,
           -8.623626761087174
          ],
          [
           -1.1099660722528677,
           -8.62413907358899
          ],
          [
           -1.1127091364652468,
           -8.62695530146461
          ],
          [
           -1.1276653944380886,
           -8.628132274916718
          ],
          [
           -1.1422752058802692,
           -8.630318211479487
          ],
          [
           -1.155321732465269,
           -8.63449312226689
          ],
          [
           -1.1521065166933866,
           -8.633782883669747
          ],
          [
           -1.1293265053386112,
           -8.636388417267847
          ],
          [
           -1.1146660886728583,
           -8.635764681176562
          ],
          [
           -1.1233752208522445,
           -8.638428923727595
          ],
          [
           -1.1617426289665198,
           -8.643682661675454
          ],
          [
           -1.2010340061854168,
           -8.644315315825109
          ],
          [
           -1.2363537156391307,
           -8.647234283141131
          ],
          [
           -1.2381377770239765,
           -8.647137137338634
          ],
          [
           -1.2074415739702002,
           -8.645779035160636
          ],
          [
           -1.1650678053857864,
           -8.643338513097126
          ],
          [
           -1.1326570182609161,
           -8.643127235206654
          ],
          [
           -1.095216895988248,
           -8.646653565134564
          ],
          [
           -1.0687139119606157,
           -8.643367142070362
          ],
          [
           -1.0662957187017923,
           -8.637866928365527
          ],
          [
           -1.1119110348134804,
           -8.633123907886898
          ],
          [
           -1.1490772292118527,
           -8.631138360829983
          ],
          [
           -1.181860257261877,
           -8.63329875956965
          ],
          [
           -1.2223159933747398,
           -8.637440171328462
          ],
          [
           -1.2473911778393176,
           -8.637043562962248
          ],
          [
           -1.2645323778814557,
           -8.635915767808124
          ],
          [
           -1.2726468129336743,
           -8.639222165991837
          ],
          [
           -1.2981646222849803,
           -8.639435074850862
          ],
          [
           -1.300373507990192,
           -8.641330368829346
          ],
          [
           -1.2739770974848168,
           -8.642085836728242
          ],
          [
           -1.2657002242946156,
           -8.639597006858887
          ],
          [
           -1.2849126522987764,
           -8.637887903748982
          ],
          [
           -1.3376378548918189,
           -8.63494028513127
          ],
          [
           -1.4062615366863003,
           -8.633811680152663
          ],
          [
           -1.4695981954017043,
           -8.631960142888147
          ],
          [
           -1.5108582591613324,
           -8.623008329542081
          ],
          [
           -1.4995403767181381,
           -8.617864464081775
          ],
          [
           -1.4560246032196809,
           -8.614873055902896
          ],
          [
           -1.4130089613805474,
           -8.610024999813755
          ],
          [
           -1.3758407489923423,
           -8.60682362816459
          ],
          [
           -1.3466584494557041,
           -8.603092855840291
          ],
          [
           -1.3386765697064993,
           -8.598799587614904
          ],
          [
           -1.33453450345559,
           -8.598998121310773
          ],
          [
           -1.3635130629342471,
           -8.597925463233237
          ],
          [
           -1.4375239928783532,
           -8.599598466497623
          ],
          [
           -1.58216095661197,
           -8.600748239342199
          ],
          [
           -1.749599105467766,
           -8.605145634573178
          ],
          [
           -1.9054697579534068,
           -8.608792472264838
          ],
          [
           -2.1247187901482074,
           -8.618321450323284
          ],
          [
           -2.30373323860612,
           -8.62457853972722
          ],
          [
           -2.4346970131167534,
           -8.626600151912898
          ],
          [
           -2.566430272984032,
           -8.630080783797828
          ],
          [
           -2.703791056870529,
           -8.633766066336504
          ],
          [
           -2.846303760379952,
           -8.635505747676273
          ],
          [
           -2.964608193297946,
           -8.63640094372763
          ],
          [
           -3.090216944061765,
           -8.634026421274777
          ],
          [
           -3.1665889519733055,
           -8.634477428468665
          ],
          [
           -3.228054790746212,
           -8.635037061968147
          ],
          [
           -3.335658078365346,
           -8.633722504404478
          ],
          [
           -3.474366679475225,
           -8.636306084189824
          ],
          [
           -3.569340315325279,
           -8.635587112801351
          ],
          [
           -3.6567749670739085,
           -8.642776292768126
          ],
          [
           -3.7417715964752083,
           -8.645369056035555
          ],
          [
           -3.8003383548870517,
           -8.650062438622781
          ],
          [
           -3.8390733634105745,
           -8.65489490625494
          ],
          [
           -3.8757334436904376,
           -8.664181047714246
          ],
          [
           -3.870778060507381,
           -8.670505081226606
          ],
          [
           -3.912396222189545,
           -8.682334952367817
          ],
          [
           -3.92213173726012,
           -8.684916265857739
          ],
          [
           -3.9011559090913273,
           -8.68955399081614
          ],
          [
           -3.8803543419591016,
           -8.691180569990046
          ],
          [
           -3.853604214194003,
           -8.696061702519795
          ],
          [
           -3.8188238720318535,
           -8.69666071378822
          ],
          [
           -3.81259887225374,
           -8.69841114475283
          ],
          [
           -3.7985478007912734,
           -8.695846453934783
          ],
          [
           -3.778468089198164,
           -8.69219443292615
          ],
          [
           -3.7210541744644723,
           -8.690616864766701
          ],
          [
           -3.671834011258961,
           -8.682561312317729
          ],
          [
           -3.62127213274562,
           -8.67961474250054
          ],
          [
           -3.597671050971569,
           -8.669185067985742
          ],
          [
           -3.580392082097599,
           -8.664021308221798
          ],
          [
           -3.5505007946257914,
           -8.658353859195794
          ],
          [
           -3.5285982533483287,
           -8.65668809362843
          ],
          [
           -3.5223373240573914,
           -8.651589818868253
          ],
          [
           -3.5022288096556258,
           -8.645805388362371
          ],
          [
           -3.51237755924603,
           -8.641588386214762
          ],
          [
           -3.5415404882945745,
           -8.637541749997572
          ],
          [
           -3.581927283716171,
           -8.632443399128968
          ],
          [
           -3.6128483681365964,
           -8.631430354049103
          ],
          [
           -3.6371534017173865,
           -8.628324859033237
          ],
          [
           -3.661327332762851,
           -8.626065176520674
          ],
          [
           -3.664760881145544,
           -8.629113012182996
          ],
          [
           -3.6857628240783513,
           -8.626587991257109
          ],
          [
           -3.7014413312109196,
           -8.623933182356888
          ],
          [
           -3.731984108523121,
           -8.619862820406325
          ],
          [
           -3.756705056045055,
           -8.617194516733532
          ]
         ],
         "hovertemplate": "%{x}<br>Peds. Injected: %{y}<br><br>Baseline=%{customdata[0]:.3f}<br />Peds. Injected=%{customdata[1]:.3f}<extra></extra>",
         "legendgroup": "Peds. Injected",
         "line": {
          "color": "#EF553B",
          "dash": "solid"
         },
         "name": "Peds. Injected",
         "showlegend": false,
         "type": "scatter",
         "x": [
          "2014-01-30T00:00:00",
          "2014-01-31T00:00:00",
          "2014-02-01T00:00:00",
          "2014-02-02T00:00:00",
          "2014-02-03T00:00:00",
          "2014-02-04T00:00:00",
          "2014-02-05T00:00:00",
          "2014-02-06T00:00:00",
          "2014-02-07T00:00:00",
          "2014-02-08T00:00:00",
          "2014-02-09T00:00:00",
          "2014-02-10T00:00:00",
          "2014-02-11T00:00:00",
          "2014-02-12T00:00:00",
          "2014-02-13T00:00:00",
          "2014-02-14T00:00:00",
          "2014-02-15T00:00:00",
          "2014-02-16T00:00:00",
          "2014-02-17T00:00:00",
          "2014-02-18T00:00:00",
          "2014-02-19T00:00:00",
          "2014-02-20T00:00:00",
          "2014-02-21T00:00:00",
          "2014-02-22T00:00:00",
          "2014-02-23T00:00:00",
          "2014-02-24T00:00:00",
          "2014-02-25T00:00:00",
          "2014-02-26T00:00:00",
          "2014-02-27T00:00:00",
          "2014-02-28T00:00:00",
          "2014-03-01T00:00:00",
          "2014-03-02T00:00:00",
          "2014-03-03T00:00:00",
          "2014-03-04T00:00:00",
          "2014-03-05T00:00:00",
          "2014-03-06T00:00:00",
          "2014-03-07T00:00:00",
          "2014-03-08T00:00:00",
          "2014-03-09T00:00:00",
          "2014-03-10T00:00:00",
          "2014-03-11T00:00:00",
          "2014-03-12T00:00:00",
          "2014-03-13T00:00:00",
          "2014-03-14T00:00:00",
          "2014-03-15T00:00:00",
          "2014-03-16T00:00:00",
          "2014-03-17T00:00:00",
          "2014-03-18T00:00:00",
          "2014-03-19T00:00:00",
          "2014-03-20T00:00:00",
          "2014-03-21T00:00:00",
          "2014-03-22T00:00:00",
          "2014-03-23T00:00:00",
          "2014-03-24T00:00:00",
          "2014-03-25T00:00:00",
          "2014-03-26T00:00:00",
          "2014-03-27T00:00:00",
          "2014-03-28T00:00:00",
          "2014-03-29T00:00:00",
          "2014-03-30T00:00:00",
          "2014-03-31T00:00:00",
          "2014-04-01T00:00:00",
          "2014-04-02T00:00:00",
          "2014-04-03T00:00:00",
          "2014-04-04T00:00:00",
          "2014-04-05T00:00:00",
          "2014-04-06T00:00:00",
          "2014-04-07T00:00:00",
          "2014-04-08T00:00:00",
          "2014-04-09T00:00:00",
          "2014-04-10T00:00:00",
          "2014-04-11T00:00:00",
          "2014-04-12T00:00:00",
          "2014-04-13T00:00:00",
          "2014-04-14T00:00:00",
          "2014-04-15T00:00:00",
          "2014-04-16T00:00:00",
          "2014-04-17T00:00:00",
          "2014-04-18T00:00:00",
          "2014-04-19T00:00:00",
          "2014-04-20T00:00:00",
          "2014-04-21T00:00:00",
          "2014-04-22T00:00:00",
          "2014-04-23T00:00:00",
          "2014-04-24T00:00:00",
          "2014-04-25T00:00:00",
          "2014-04-26T00:00:00",
          "2014-04-27T00:00:00",
          "2014-04-28T00:00:00",
          "2014-04-29T00:00:00",
          "2014-04-30T00:00:00",
          "2014-05-01T00:00:00",
          "2014-05-02T00:00:00",
          "2014-05-03T00:00:00",
          "2014-05-04T00:00:00",
          "2014-05-05T00:00:00",
          "2014-05-06T00:00:00",
          "2014-05-07T00:00:00",
          "2014-05-08T00:00:00",
          "2014-05-09T00:00:00",
          "2014-05-10T00:00:00",
          "2014-05-11T00:00:00",
          "2014-05-12T00:00:00",
          "2014-05-13T00:00:00",
          "2014-05-14T00:00:00",
          "2014-05-15T00:00:00",
          "2014-05-16T00:00:00",
          "2014-05-17T00:00:00",
          "2014-05-18T00:00:00",
          "2014-05-19T00:00:00",
          "2014-05-20T00:00:00",
          "2014-05-21T00:00:00",
          "2014-05-22T00:00:00",
          "2014-05-23T00:00:00",
          "2014-05-24T00:00:00",
          "2014-05-25T00:00:00",
          "2014-05-26T00:00:00",
          "2014-05-27T00:00:00",
          "2014-05-28T00:00:00",
          "2014-05-29T00:00:00",
          "2014-05-30T00:00:00",
          "2014-05-31T00:00:00",
          "2014-06-01T00:00:00",
          "2014-06-02T00:00:00",
          "2014-06-03T00:00:00",
          "2014-06-04T00:00:00",
          "2014-06-05T00:00:00",
          "2014-06-06T00:00:00",
          "2014-06-07T00:00:00",
          "2014-06-08T00:00:00",
          "2014-06-09T00:00:00",
          "2014-06-10T00:00:00",
          "2014-06-11T00:00:00",
          "2014-06-12T00:00:00",
          "2014-06-13T00:00:00",
          "2014-06-14T00:00:00",
          "2014-06-15T00:00:00",
          "2014-06-16T00:00:00",
          "2014-06-17T00:00:00",
          "2014-06-18T00:00:00",
          "2014-06-19T00:00:00",
          "2014-06-20T00:00:00",
          "2014-06-21T00:00:00",
          "2014-06-22T00:00:00",
          "2014-06-23T00:00:00",
          "2014-06-24T00:00:00",
          "2014-06-25T00:00:00",
          "2014-06-26T00:00:00",
          "2014-06-27T00:00:00",
          "2014-06-28T00:00:00",
          "2014-06-29T00:00:00",
          "2014-06-30T00:00:00",
          "2014-07-01T00:00:00",
          "2014-07-02T00:00:00",
          "2014-07-03T00:00:00",
          "2014-07-04T00:00:00",
          "2014-07-05T00:00:00",
          "2014-07-06T00:00:00",
          "2014-07-07T00:00:00",
          "2014-07-08T00:00:00",
          "2014-07-09T00:00:00",
          "2014-07-10T00:00:00",
          "2014-07-11T00:00:00",
          "2014-07-12T00:00:00",
          "2014-07-13T00:00:00",
          "2014-07-14T00:00:00",
          "2014-07-15T00:00:00",
          "2014-07-16T00:00:00",
          "2014-07-17T00:00:00",
          "2014-07-18T00:00:00",
          "2014-07-19T00:00:00",
          "2014-07-20T00:00:00",
          "2014-07-21T00:00:00",
          "2014-07-22T00:00:00",
          "2014-07-23T00:00:00",
          "2014-07-24T00:00:00",
          "2014-07-25T00:00:00",
          "2014-07-26T00:00:00",
          "2014-07-27T00:00:00",
          "2014-07-28T00:00:00",
          "2014-07-29T00:00:00",
          "2014-07-30T00:00:00",
          "2014-07-31T00:00:00",
          "2014-08-01T00:00:00",
          "2014-08-02T00:00:00",
          "2014-08-03T00:00:00",
          "2014-08-04T00:00:00",
          "2014-08-05T00:00:00",
          "2014-08-06T00:00:00",
          "2014-08-07T00:00:00",
          "2014-08-08T00:00:00",
          "2014-08-09T00:00:00",
          "2014-08-10T00:00:00",
          "2014-08-11T00:00:00",
          "2014-08-12T00:00:00",
          "2014-08-13T00:00:00",
          "2014-08-14T00:00:00",
          "2014-08-15T00:00:00",
          "2014-08-16T00:00:00",
          "2014-08-17T00:00:00",
          "2014-08-18T00:00:00",
          "2014-08-19T00:00:00",
          "2014-08-20T00:00:00",
          "2014-08-21T00:00:00",
          "2014-08-22T00:00:00",
          "2014-08-23T00:00:00",
          "2014-08-24T00:00:00",
          "2014-08-25T00:00:00",
          "2014-08-26T00:00:00",
          "2014-08-27T00:00:00",
          "2014-08-28T00:00:00",
          "2014-08-29T00:00:00",
          "2014-08-30T00:00:00",
          "2014-08-31T00:00:00",
          "2014-09-01T00:00:00",
          "2014-09-02T00:00:00",
          "2014-09-03T00:00:00",
          "2014-09-04T00:00:00",
          "2014-09-05T00:00:00",
          "2014-09-06T00:00:00",
          "2014-09-07T00:00:00",
          "2014-09-08T00:00:00",
          "2014-09-09T00:00:00",
          "2014-09-10T00:00:00",
          "2014-09-11T00:00:00",
          "2014-09-12T00:00:00",
          "2014-09-13T00:00:00",
          "2014-09-14T00:00:00",
          "2014-09-15T00:00:00",
          "2014-09-16T00:00:00",
          "2014-09-17T00:00:00",
          "2014-09-18T00:00:00",
          "2014-09-19T00:00:00",
          "2014-09-20T00:00:00",
          "2014-09-21T00:00:00",
          "2014-09-22T00:00:00",
          "2014-09-23T00:00:00",
          "2014-09-24T00:00:00",
          "2014-09-25T00:00:00",
          "2014-09-26T00:00:00",
          "2014-09-27T00:00:00",
          "2014-09-28T00:00:00",
          "2014-09-29T00:00:00",
          "2014-09-30T00:00:00",
          "2014-10-01T00:00:00",
          "2014-10-02T00:00:00",
          "2014-10-03T00:00:00",
          "2014-10-04T00:00:00",
          "2014-10-05T00:00:00",
          "2014-10-06T00:00:00",
          "2014-10-07T00:00:00",
          "2014-10-08T00:00:00",
          "2014-10-09T00:00:00",
          "2014-10-10T00:00:00",
          "2014-10-11T00:00:00",
          "2014-10-12T00:00:00",
          "2014-10-13T00:00:00",
          "2014-10-14T00:00:00",
          "2014-10-15T00:00:00",
          "2014-10-16T00:00:00",
          "2014-10-17T00:00:00",
          "2014-10-18T00:00:00",
          "2014-10-19T00:00:00",
          "2014-10-20T00:00:00",
          "2014-10-21T00:00:00",
          "2014-10-22T00:00:00",
          "2014-10-23T00:00:00",
          "2014-10-24T00:00:00",
          "2014-10-25T00:00:00",
          "2014-10-26T00:00:00",
          "2014-10-27T00:00:00",
          "2014-10-28T00:00:00",
          "2014-10-29T00:00:00",
          "2014-10-30T00:00:00",
          "2014-10-31T00:00:00",
          "2014-11-01T00:00:00",
          "2014-11-02T00:00:00",
          "2014-11-03T00:00:00",
          "2014-11-04T00:00:00",
          "2014-11-05T00:00:00",
          "2014-11-06T00:00:00",
          "2014-11-07T00:00:00",
          "2014-11-08T00:00:00",
          "2014-11-09T00:00:00",
          "2014-11-10T00:00:00",
          "2014-11-11T00:00:00",
          "2014-11-12T00:00:00",
          "2014-11-13T00:00:00",
          "2014-11-14T00:00:00",
          "2014-11-15T00:00:00",
          "2014-11-16T00:00:00",
          "2014-11-17T00:00:00",
          "2014-11-18T00:00:00",
          "2014-11-19T00:00:00",
          "2014-11-20T00:00:00",
          "2014-11-21T00:00:00",
          "2014-11-22T00:00:00",
          "2014-11-23T00:00:00",
          "2014-11-24T00:00:00",
          "2014-11-25T00:00:00",
          "2014-11-26T00:00:00",
          "2014-11-27T00:00:00",
          "2014-11-28T00:00:00",
          "2014-11-29T00:00:00",
          "2014-11-30T00:00:00",
          "2014-12-01T00:00:00",
          "2014-12-02T00:00:00",
          "2014-12-03T00:00:00",
          "2014-12-04T00:00:00",
          "2014-12-05T00:00:00",
          "2014-12-06T00:00:00",
          "2014-12-07T00:00:00",
          "2014-12-08T00:00:00",
          "2014-12-09T00:00:00",
          "2014-12-10T00:00:00",
          "2014-12-11T00:00:00",
          "2014-12-12T00:00:00",
          "2014-12-13T00:00:00",
          "2014-12-14T00:00:00",
          "2014-12-15T00:00:00",
          "2014-12-16T00:00:00",
          "2014-12-17T00:00:00",
          "2014-12-18T00:00:00",
          "2014-12-19T00:00:00",
          "2014-12-20T00:00:00",
          "2014-12-21T00:00:00",
          "2014-12-22T00:00:00",
          "2014-12-23T00:00:00",
          "2014-12-24T00:00:00",
          "2014-12-25T00:00:00",
          "2014-12-26T00:00:00",
          "2014-12-27T00:00:00",
          "2014-12-28T00:00:00",
          "2014-12-29T00:00:00",
          "2014-12-30T00:00:00",
          "2014-12-31T00:00:00",
          "2015-01-01T00:00:00",
          "2015-01-02T00:00:00",
          "2015-01-03T00:00:00",
          "2015-01-04T00:00:00",
          "2015-01-05T00:00:00",
          "2015-01-06T00:00:00",
          "2015-01-07T00:00:00",
          "2015-01-08T00:00:00",
          "2015-01-09T00:00:00",
          "2015-01-10T00:00:00",
          "2015-01-11T00:00:00",
          "2015-01-12T00:00:00",
          "2015-01-13T00:00:00",
          "2015-01-14T00:00:00",
          "2015-01-15T00:00:00",
          "2015-01-16T00:00:00",
          "2015-01-17T00:00:00",
          "2015-01-18T00:00:00",
          "2015-01-19T00:00:00",
          "2015-01-20T00:00:00",
          "2015-01-21T00:00:00",
          "2015-01-22T00:00:00",
          "2015-01-23T00:00:00",
          "2015-01-24T00:00:00",
          "2015-01-25T00:00:00",
          "2015-01-26T00:00:00",
          "2015-01-27T00:00:00",
          "2015-01-28T00:00:00",
          "2015-01-29T00:00:00",
          "2015-01-30T00:00:00",
          "2015-01-31T00:00:00"
         ],
         "xaxis": "x2",
         "y": [
          null,
          null,
          null,
          null,
          null,
          null,
          null,
          null,
          null,
          null,
          null,
          null,
          null,
          -2.05752302613014,
          -1.704383483140813,
          -1.4494148090702303,
          -1.316523670377067,
          -1.2375674078045138,
          -1.0419098276291339,
          -0.8791212873777292,
          -0.7253727347926553,
          -0.6115584304666463,
          -0.4860790909622612,
          -0.39653341399315617,
          -0.3297825498621372,
          -0.2841570181064766,
          -0.2492691110963878,
          -0.207900496817772,
          -0.17842648194543825,
          -0.16436996043656799,
          -0.15831626030591164,
          -0.1472445567039178,
          -0.11794948721713396,
          -0.09108951121786044,
          -0.06751775058746032,
          -0.04099182768962435,
          -0.0022872679534061574,
          0.019302617454997503,
          0.026053270469728988,
          0.037981142233811806,
          0.04173957902865652,
          0.06526931089752461,
          0.08480931945890277,
          0.09182630529847614,
          0.1111069214870192,
          0.08829474533946388,
          0.06520658540576227,
          0.044038100411871145,
          0.029753181281595622,
          -0.021664615328334125,
          -0.05257864900902678,
          -0.1367361561137618,
          -0.24606726671626078,
          -0.29921873172101326,
          -0.30608159364766485,
          -0.30911592287314094,
          -0.28921227250844733,
          -0.2591815493030944,
          -0.23988026151706313,
          -0.23938604479628067,
          -0.21983984916882082,
          -0.18897880243476095,
          -0.14360296068231904,
          -0.10169087999223303,
          -0.06618581664363286,
          -0.039567267706568036,
          -0.035423268029986535,
          -0.05694905449565244,
          -0.04533203607891806,
          -0.03685382005832474,
          -0.06783592297373574,
          -0.09385387362437042,
          -0.16597735431338664,
          -0.23491546846455322,
          -0.24840524768280883,
          -0.22888212355390553,
          -0.2107055513805274,
          -0.2562169117977786,
          -0.31542276100310745,
          -0.3482865597461368,
          -0.35504762469492124,
          -0.3991296545505752,
          -0.4105300821838379,
          -0.410985289776073,
          -0.42047531409342714,
          -0.4499896341609461,
          -0.4977697915698936,
          -0.5283433139023536,
          -0.5137363973019125,
          -0.47876418268130777,
          -0.4100727253118699,
          -0.3700469415499299,
          -0.3390879612775542,
          -0.3128459357211706,
          -0.31953322133595286,
          -0.2991874890782534,
          -0.2569796950791397,
          -0.1952081751595567,
          -0.12512427657851147,
          -0.08965006893723637,
          -0.0610175577270081,
          -0.04092878476344238,
          -0.034076717311978054,
          -0.011012095249623984,
          -0.021055660721945497,
          -0.02218003647481581,
          -0.04820529635060333,
          -0.08757155539173714,
          -0.15471162504123956,
          -0.19852223563247684,
          -0.2317625771622417,
          -0.22860088907103546,
          -0.20565904179238892,
          -0.18876877963703345,
          -0.1723785108224139,
          -0.16022912193739203,
          -0.17377665680495336,
          -0.16569407833642266,
          -0.16062871480132063,
          -0.17083792850799737,
          -0.1971052322747691,
          -0.24957914757584787,
          -0.2887632843651468,
          -0.8103036660068379,
          -1.4598725938482593,
          -2.1892893640626667,
          -2.9597946237210433,
          -3.639720361666848,
          -4.195114095673319,
          -4.676874075938395,
          -5.111100044641513,
          -5.48251224327864,
          -5.795592279598369,
          -6.087611819354236,
          -6.347929410398555,
          -6.555983853655698,
          -6.7211437651399395,
          -6.868856106276036,
          -6.991572877351832,
          -7.086966995191517,
          -7.181738366856219,
          -7.263978756882989,
          -7.334876554213959,
          -7.394951642732822,
          -7.4530576618438795,
          -7.4966816739481805,
          -7.538310045053378,
          -7.575811991492972,
          -7.623192764141469,
          -7.666571048355181,
          -7.720396394451444,
          -7.776141405438941,
          -7.817159830216804,
          -7.844665126500519,
          -7.87392291670781,
          -7.897435917643774,
          -7.919066018140282,
          -7.9301608104531205,
          -7.93709134280412,
          -7.933588330532842,
          -7.938163635268526,
          -7.941538145768233,
          -7.947578586286802,
          -7.954671963281952,
          -7.9574958327229695,
          -7.960918141064005,
          -7.959290896722166,
          -7.958820714914615,
          -7.968269157632474,
          -7.974848152419003,
          -7.977426437726674,
          -7.9871157193613795,
          -7.987699226962766,
          -7.9891398410492505,
          -7.988854012384009,
          -7.986096926484889,
          -7.977859316499504,
          -7.970675045224942,
          -7.9674011812252985,
          -7.963232299046634,
          -7.96026385907032,
          -7.961856969749885,
          -7.9654990847892115,
          -7.9689306469538534,
          -7.978935325902359,
          -7.983698207846428,
          -7.982161295113457,
          -7.980333892572418,
          -7.981085751804282,
          -7.981045697287958,
          -7.984017909913241,
          -7.991772226423285,
          -7.995335219431148,
          -8.000001867176717,
          -8.007400760790036,
          -8.009257157341631,
          -8.0111757625915,
          -8.01691906060092,
          -8.01830741988751,
          -8.013309439748502,
          -8.0192451432754,
          -8.02066284234379,
          -8.020808320280823,
          -8.02090467733539,
          -8.026723042282418,
          -8.028163209315954,
          -8.03889170105924,
          -8.05112745623071,
          -8.054838253569821,
          -8.055378787506056,
          -8.055548004540542,
          -8.060341441585845,
          -8.060040796921793,
          -8.056118842240958,
          -8.041307107002764,
          -8.039783398225298,
          -8.047928366843136,
          -8.060711777988198,
          -8.081323790022125,
          -8.096318016676289,
          -8.109639639250776,
          -8.124464845069273,
          -8.143840788697302,
          -8.158255811060808,
          -8.182647551442082,
          -8.205073173492028,
          -8.23109588023831,
          -8.253610461956475,
          -8.271176297977801,
          -8.28947847272329,
          -8.309251437956457,
          -8.330076775019304,
          -8.351061755065802,
          -8.368810053284959,
          -8.391922248951335,
          -8.414114559715449,
          -8.43342942920719,
          -8.447121608700115,
          -8.461318609543868,
          -8.481549635405306,
          -8.506149277868632,
          -8.527606251210539,
          -8.54726667739955,
          -8.559608225766828,
          -8.573134019092231,
          -8.58506624606943,
          -8.595515194097375,
          -8.604766535842288,
          -8.615551642044894,
          -8.618894832630378,
          -8.621569439137515,
          -8.624760604856423,
          -8.625616189436728,
          -8.623453556008288,
          -8.627930291837421,
          -8.628175994074446,
          -8.62393755210617,
          -8.619596279618825,
          -8.617422881958026,
          -8.62345640669017,
          -8.626815842960353,
          -8.632357587838088,
          -8.632538246280202,
          -8.637112142954065,
          -8.636552188872837,
          -8.635588450013481,
          -8.63118565155898,
          -8.625407144939514,
          -8.625171115826781,
          -8.624669852457023,
          -8.622560734000126,
          -8.623626761087174,
          -8.62413907358899,
          -8.62695530146461,
          -8.628132274916718,
          -8.630318211479487,
          -8.63449312226689,
          -8.633782883669747,
          -8.636388417267847,
          -8.635764681176562,
          -8.638428923727595,
          -8.643682661675454,
          -8.644315315825109,
          -8.647234283141131,
          -8.647137137338634,
          -8.645779035160636,
          -8.643338513097126,
          -8.643127235206654,
          -8.646653565134564,
          -8.643367142070362,
          -8.637866928365527,
          -8.633123907886898,
          -8.631138360829983,
          -8.63329875956965,
          -8.637440171328462,
          -8.637043562962248,
          -8.635915767808124,
          -8.639222165991837,
          -8.639435074850862,
          -8.641330368829346,
          -8.642085836728242,
          -8.639597006858887,
          -8.637887903748982,
          -8.63494028513127,
          -8.633811680152663,
          -8.631960142888147,
          -8.623008329542081,
          -8.617864464081775,
          -8.614873055902896,
          -8.610024999813755,
          -8.60682362816459,
          -8.603092855840291,
          -8.598799587614904,
          -8.598998121310773,
          -8.597925463233237,
          -8.599598466497623,
          -8.600748239342199,
          -8.605145634573178,
          -8.608792472264838,
          -8.618321450323284,
          -8.62457853972722,
          -8.626600151912898,
          -8.630080783797828,
          -8.633766066336504,
          -8.635505747676273,
          -8.63640094372763,
          -8.634026421274777,
          -8.634477428468665,
          -8.635037061968147,
          -8.633722504404478,
          -8.636306084189824,
          -8.635587112801351,
          -8.642776292768126,
          -8.645369056035555,
          -8.650062438622781,
          -8.65489490625494,
          -8.664181047714246,
          -8.670505081226606,
          -8.682334952367817,
          -8.684916265857739,
          -8.68955399081614,
          -8.691180569990046,
          -8.696061702519795,
          -8.69666071378822,
          -8.69841114475283,
          -8.695846453934783,
          -8.69219443292615,
          -8.690616864766701,
          -8.682561312317729,
          -8.67961474250054,
          -8.669185067985742,
          -8.664021308221798,
          -8.658353859195794,
          -8.65668809362843,
          -8.651589818868253,
          -8.645805388362371,
          -8.641588386214762,
          -8.637541749997572,
          -8.632443399128968,
          -8.631430354049103,
          -8.628324859033237,
          -8.626065176520674,
          -8.629113012182996,
          -8.626587991257109,
          -8.623933182356888,
          -8.619862820406325,
          -8.617194516733532
         ],
         "yaxis": "y2"
        },
        {
         "connectgaps": false,
         "hoverinfo": "skip",
         "legendgroup": "Baseline",
         "line": {
          "width": 0
         },
         "name": "Baseline",
         "showlegend": false,
         "type": "scatter",
         "x": [
          "2014-02-12T00:00:00",
          "2014-02-13T00:00:00",
          "2014-02-14T00:00:00",
          "2014-02-15T00:00:00",
          "2014-02-16T00:00:00",
          "2014-02-17T00:00:00",
          "2014-02-18T00:00:00",
          "2014-02-19T00:00:00",
          "2014-02-20T00:00:00",
          "2014-02-21T00:00:00",
          "2014-02-22T00:00:00",
          "2014-02-23T00:00:00",
          "2014-02-24T00:00:00",
          "2014-02-25T00:00:00",
          "2014-02-26T00:00:00",
          "2014-02-27T00:00:00",
          "2014-02-28T00:00:00",
          "2014-03-01T00:00:00",
          "2014-03-02T00:00:00",
          "2014-03-03T00:00:00",
          "2014-03-04T00:00:00",
          "2014-03-05T00:00:00",
          "2014-03-06T00:00:00",
          "2014-03-07T00:00:00",
          "2014-03-08T00:00:00",
          "2014-03-09T00:00:00",
          "2014-03-10T00:00:00",
          "2014-03-11T00:00:00",
          "2014-03-12T00:00:00",
          "2014-03-13T00:00:00",
          "2014-03-14T00:00:00",
          "2014-03-15T00:00:00",
          "2014-03-16T00:00:00",
          "2014-03-17T00:00:00",
          "2014-03-18T00:00:00",
          "2014-03-19T00:00:00",
          "2014-03-20T00:00:00",
          "2014-03-21T00:00:00",
          "2014-03-22T00:00:00",
          "2014-03-23T00:00:00",
          "2014-03-24T00:00:00",
          "2014-03-25T00:00:00",
          "2014-03-26T00:00:00",
          "2014-03-27T00:00:00",
          "2014-03-28T00:00:00",
          "2014-03-29T00:00:00",
          "2014-03-30T00:00:00",
          "2014-03-31T00:00:00",
          "2014-04-01T00:00:00",
          "2014-04-02T00:00:00",
          "2014-04-03T00:00:00",
          "2014-04-04T00:00:00",
          "2014-04-05T00:00:00",
          "2014-04-06T00:00:00",
          "2014-04-07T00:00:00",
          "2014-04-08T00:00:00",
          "2014-04-09T00:00:00",
          "2014-04-10T00:00:00",
          "2014-04-11T00:00:00",
          "2014-04-12T00:00:00",
          "2014-04-13T00:00:00",
          "2014-04-14T00:00:00",
          "2014-04-15T00:00:00",
          "2014-04-16T00:00:00",
          "2014-04-17T00:00:00",
          "2014-04-18T00:00:00",
          "2014-04-19T00:00:00",
          "2014-04-20T00:00:00",
          "2014-04-21T00:00:00",
          "2014-04-22T00:00:00",
          "2014-04-23T00:00:00",
          "2014-04-24T00:00:00",
          "2014-04-25T00:00:00",
          "2014-04-26T00:00:00",
          "2014-04-27T00:00:00",
          "2014-04-28T00:00:00",
          "2014-04-29T00:00:00",
          "2014-04-30T00:00:00",
          "2014-05-01T00:00:00",
          "2014-05-02T00:00:00",
          "2014-05-03T00:00:00",
          "2014-05-04T00:00:00",
          "2014-05-05T00:00:00",
          "2014-05-06T00:00:00",
          "2014-05-07T00:00:00",
          "2014-05-08T00:00:00",
          "2014-05-09T00:00:00",
          "2014-05-10T00:00:00",
          "2014-05-11T00:00:00",
          "2014-05-12T00:00:00",
          "2014-05-13T00:00:00",
          "2014-05-14T00:00:00",
          "2014-05-15T00:00:00",
          "2014-05-16T00:00:00",
          "2014-05-17T00:00:00",
          "2014-05-18T00:00:00",
          "2014-05-19T00:00:00",
          "2014-05-20T00:00:00",
          "2014-05-21T00:00:00",
          "2014-05-22T00:00:00",
          "2014-05-23T00:00:00",
          "2014-05-24T00:00:00",
          "2014-05-25T00:00:00",
          "2014-05-26T00:00:00",
          "2014-05-27T00:00:00",
          "2014-05-28T00:00:00",
          "2014-05-29T00:00:00",
          "2014-05-30T00:00:00",
          "2014-05-31T00:00:00",
          "2014-06-01T00:00:00",
          "2014-06-02T00:00:00",
          "2014-06-03T00:00:00",
          "2014-06-04T00:00:00",
          "2014-06-05T00:00:00",
          "2014-06-06T00:00:00",
          "2014-06-07T00:00:00",
          "2014-06-08T00:00:00",
          "2014-06-09T00:00:00",
          "2014-06-10T00:00:00",
          "2014-06-11T00:00:00",
          "2014-06-12T00:00:00",
          "2014-06-13T00:00:00",
          "2014-06-14T00:00:00",
          "2014-06-15T00:00:00",
          "2014-06-16T00:00:00",
          "2014-06-17T00:00:00",
          "2014-06-18T00:00:00",
          "2014-06-19T00:00:00",
          "2014-06-20T00:00:00",
          "2014-06-21T00:00:00",
          "2014-06-22T00:00:00",
          "2014-06-23T00:00:00",
          "2014-06-24T00:00:00",
          "2014-06-25T00:00:00",
          "2014-06-26T00:00:00",
          "2014-06-27T00:00:00",
          "2014-06-28T00:00:00",
          "2014-06-29T00:00:00",
          "2014-06-30T00:00:00",
          "2014-07-01T00:00:00",
          "2014-07-02T00:00:00",
          "2014-07-03T00:00:00",
          "2014-07-04T00:00:00",
          "2014-07-05T00:00:00",
          "2014-07-06T00:00:00",
          "2014-07-07T00:00:00",
          "2014-07-08T00:00:00",
          "2014-07-09T00:00:00",
          "2014-07-10T00:00:00",
          "2014-07-11T00:00:00",
          "2014-07-12T00:00:00",
          "2014-07-13T00:00:00",
          "2014-07-14T00:00:00",
          "2014-07-15T00:00:00",
          "2014-07-16T00:00:00",
          "2014-07-17T00:00:00",
          "2014-07-18T00:00:00",
          "2014-07-19T00:00:00",
          "2014-07-20T00:00:00",
          "2014-07-21T00:00:00",
          "2014-07-22T00:00:00",
          "2014-07-23T00:00:00",
          "2014-07-24T00:00:00",
          "2014-07-25T00:00:00",
          "2014-07-26T00:00:00",
          "2014-07-27T00:00:00",
          "2014-07-28T00:00:00",
          "2014-07-29T00:00:00",
          "2014-07-30T00:00:00",
          "2014-07-31T00:00:00",
          "2014-08-01T00:00:00",
          "2014-08-02T00:00:00",
          "2014-08-03T00:00:00",
          "2014-08-04T00:00:00",
          "2014-08-05T00:00:00",
          "2014-08-06T00:00:00",
          "2014-08-07T00:00:00",
          "2014-08-08T00:00:00",
          "2014-08-09T00:00:00",
          "2014-08-10T00:00:00",
          "2014-08-11T00:00:00",
          "2014-08-12T00:00:00",
          "2014-08-13T00:00:00",
          "2014-08-14T00:00:00",
          "2014-08-15T00:00:00",
          "2014-08-16T00:00:00",
          "2014-08-17T00:00:00",
          "2014-08-18T00:00:00",
          "2014-08-19T00:00:00",
          "2014-08-20T00:00:00",
          "2014-08-21T00:00:00",
          "2014-08-22T00:00:00",
          "2014-08-23T00:00:00",
          "2014-08-24T00:00:00",
          "2014-08-25T00:00:00",
          "2014-08-26T00:00:00",
          "2014-08-27T00:00:00",
          "2014-08-28T00:00:00",
          "2014-08-29T00:00:00",
          "2014-08-30T00:00:00",
          "2014-08-31T00:00:00",
          "2014-09-01T00:00:00",
          "2014-09-02T00:00:00",
          "2014-09-03T00:00:00",
          "2014-09-04T00:00:00",
          "2014-09-05T00:00:00",
          "2014-09-06T00:00:00",
          "2014-09-07T00:00:00",
          "2014-09-08T00:00:00",
          "2014-09-09T00:00:00",
          "2014-09-10T00:00:00",
          "2014-09-11T00:00:00",
          "2014-09-12T00:00:00",
          "2014-09-13T00:00:00",
          "2014-09-14T00:00:00",
          "2014-09-15T00:00:00",
          "2014-09-16T00:00:00",
          "2014-09-17T00:00:00",
          "2014-09-18T00:00:00",
          "2014-09-19T00:00:00",
          "2014-09-20T00:00:00",
          "2014-09-21T00:00:00",
          "2014-09-22T00:00:00",
          "2014-09-23T00:00:00",
          "2014-09-24T00:00:00",
          "2014-09-25T00:00:00",
          "2014-09-26T00:00:00",
          "2014-09-27T00:00:00",
          "2014-09-28T00:00:00",
          "2014-09-29T00:00:00",
          "2014-09-30T00:00:00",
          "2014-10-01T00:00:00",
          "2014-10-02T00:00:00",
          "2014-10-03T00:00:00",
          "2014-10-04T00:00:00",
          "2014-10-05T00:00:00",
          "2014-10-06T00:00:00",
          "2014-10-07T00:00:00",
          "2014-10-08T00:00:00",
          "2014-10-09T00:00:00",
          "2014-10-10T00:00:00",
          "2014-10-11T00:00:00",
          "2014-10-12T00:00:00",
          "2014-10-13T00:00:00",
          "2014-10-14T00:00:00",
          "2014-10-15T00:00:00",
          "2014-10-16T00:00:00",
          "2014-10-17T00:00:00",
          "2014-10-18T00:00:00",
          "2014-10-19T00:00:00",
          "2014-10-20T00:00:00",
          "2014-10-21T00:00:00",
          "2014-10-22T00:00:00",
          "2014-10-23T00:00:00",
          "2014-10-24T00:00:00",
          "2014-10-25T00:00:00",
          "2014-10-26T00:00:00",
          "2014-10-27T00:00:00",
          "2014-10-28T00:00:00",
          "2014-10-29T00:00:00",
          "2014-10-30T00:00:00",
          "2014-10-31T00:00:00",
          "2014-11-01T00:00:00",
          "2014-11-02T00:00:00",
          "2014-11-03T00:00:00",
          "2014-11-04T00:00:00",
          "2014-11-05T00:00:00",
          "2014-11-06T00:00:00",
          "2014-11-07T00:00:00",
          "2014-11-08T00:00:00",
          "2014-11-09T00:00:00",
          "2014-11-10T00:00:00",
          "2014-11-11T00:00:00",
          "2014-11-12T00:00:00",
          "2014-11-13T00:00:00",
          "2014-11-14T00:00:00",
          "2014-11-15T00:00:00",
          "2014-11-16T00:00:00",
          "2014-11-17T00:00:00",
          "2014-11-18T00:00:00",
          "2014-11-19T00:00:00",
          "2014-11-20T00:00:00",
          "2014-11-21T00:00:00",
          "2014-11-22T00:00:00",
          "2014-11-23T00:00:00",
          "2014-11-24T00:00:00",
          "2014-11-25T00:00:00",
          "2014-11-26T00:00:00",
          "2014-11-27T00:00:00",
          "2014-11-28T00:00:00",
          "2014-11-29T00:00:00",
          "2014-11-30T00:00:00",
          "2014-12-01T00:00:00",
          "2014-12-02T00:00:00",
          "2014-12-03T00:00:00",
          "2014-12-04T00:00:00",
          "2014-12-05T00:00:00",
          "2014-12-06T00:00:00",
          "2014-12-07T00:00:00",
          "2014-12-08T00:00:00",
          "2014-12-09T00:00:00",
          "2014-12-10T00:00:00",
          "2014-12-11T00:00:00",
          "2014-12-12T00:00:00",
          "2014-12-13T00:00:00",
          "2014-12-14T00:00:00",
          "2014-12-15T00:00:00",
          "2014-12-16T00:00:00",
          "2014-12-17T00:00:00",
          "2014-12-18T00:00:00",
          "2014-12-19T00:00:00",
          "2014-12-20T00:00:00",
          "2014-12-21T00:00:00",
          "2014-12-22T00:00:00",
          "2014-12-23T00:00:00",
          "2014-12-24T00:00:00",
          "2014-12-25T00:00:00",
          "2014-12-26T00:00:00",
          "2014-12-27T00:00:00",
          "2014-12-28T00:00:00",
          "2014-12-29T00:00:00",
          "2014-12-30T00:00:00",
          "2014-12-31T00:00:00",
          "2015-01-01T00:00:00",
          "2015-01-02T00:00:00",
          "2015-01-03T00:00:00",
          "2015-01-04T00:00:00",
          "2015-01-05T00:00:00",
          "2015-01-06T00:00:00",
          "2015-01-07T00:00:00",
          "2015-01-08T00:00:00",
          "2015-01-09T00:00:00",
          "2015-01-10T00:00:00",
          "2015-01-11T00:00:00",
          "2015-01-12T00:00:00",
          "2015-01-13T00:00:00",
          "2015-01-14T00:00:00",
          "2015-01-15T00:00:00",
          "2015-01-16T00:00:00",
          "2015-01-17T00:00:00",
          "2015-01-18T00:00:00",
          "2015-01-19T00:00:00",
          "2015-01-20T00:00:00",
          "2015-01-21T00:00:00",
          "2015-01-22T00:00:00",
          "2015-01-23T00:00:00",
          "2015-01-24T00:00:00",
          "2015-01-25T00:00:00",
          "2015-01-26T00:00:00",
          "2015-01-27T00:00:00",
          "2015-01-28T00:00:00",
          "2015-01-29T00:00:00",
          "2015-01-30T00:00:00",
          "2015-01-31T00:00:00"
         ],
         "xaxis": "x",
         "y": [
          0.8259465587376519,
          0.8180430092585204,
          0.8226868531170052,
          0.8279583084900562,
          0.8252386232374342,
          0.8296189461635456,
          0.8348943852755479,
          0.8323308751552387,
          0.8365280295258013,
          0.8434341218500546,
          0.8486090685493756,
          0.8514033457286038,
          0.8516939182216279,
          0.8502631159275178,
          0.8530024873324547,
          0.8516941157016034,
          0.8541443569703204,
          0.8515199720235059,
          0.8529572022224843,
          0.8549912597370091,
          0.8582983279487212,
          0.864206733689805,
          0.8685818907568245,
          0.874858719198046,
          0.8817330464565977,
          0.8848392506966329,
          0.887545169207291,
          0.8937282945748921,
          0.9002429543354915,
          0.90242188197699,
          0.9024842378355031,
          0.905019935627245,
          0.9104333720562596,
          0.9141829622161837,
          0.9170865672503873,
          0.9180786054032115,
          0.917016308152845,
          0.9171212486087766,
          0.9206625375823164,
          0.9251083078858114,
          0.9261877913245936,
          0.9287274180724582,
          0.9296865734851226,
          0.9289865853344753,
          0.9290944317053714,
          0.9296004861649144,
          0.9307351997095369,
          0.9300020022006488,
          0.9278246525022473,
          0.9237193211349282,
          0.9208288214187649,
          0.9192469416665039,
          0.915234263593174,
          0.9109677990290238,
          0.9084375805660755,
          0.902776429298758,
          0.8984051383415557,
          0.8936515638193262,
          0.8887759165002895,
          0.8839530298651591,
          0.8838039847872976,
          0.8832984262660407,
          0.8833695778566888,
          0.8823688584460766,
          0.8873724484031505,
          0.8891383645234896,
          0.8889238319854551,
          0.8879887853440236,
          0.8873588840231497,
          0.8878935884622087,
          0.890076810796682,
          0.8885804133720948,
          0.8837102101289867,
          0.8787043087240562,
          0.8746618313641784,
          0.8682759647346985,
          0.8612138364983221,
          0.8591990000463572,
          0.8621468509471214,
          0.8591408246610995,
          0.8613349811115036,
          0.8606862669541351,
          0.862610984053511,
          0.8674069738966552,
          0.8697078044696106,
          0.8756802848657504,
          0.8798191838638081,
          0.8815270205387458,
          0.8831726390760478,
          0.8839736248265939,
          0.8877323495613992,
          0.8873450032036881,
          0.88774401060776,
          0.8867111536639279,
          0.888460109519117,
          0.8866501464219952,
          0.8862844259241797,
          0.8846059252726698,
          0.8846971699178381,
          0.8861891072193063,
          0.8854856557046485,
          0.8860677812186163,
          0.8891230761843341,
          0.8928218771419918,
          0.8960837605605231,
          0.8956152622846101,
          0.8972918108828873,
          0.8963207016630189,
          0.8954880035695075,
          0.8964442517975902,
          0.8959929325283017,
          0.8904558643245215,
          0.8881172442303745,
          0.8856463027171951,
          0.8799222840169512,
          0.8732045603325282,
          0.8665326302061059,
          0.8586711469425258,
          0.8504191382120656,
          0.8428546539929287,
          0.838728043116654,
          0.8326757807027507,
          0.8287829531069322,
          0.824824051621837,
          0.8198997288504488,
          0.8170621593020294,
          0.8160940087979133,
          0.8106372673850045,
          0.8052411080335343,
          0.8024114012370852,
          0.7991818578460559,
          0.795742385991544,
          0.7954691060691401,
          0.7964436316959322,
          0.8018166968679397,
          0.7953678561090722,
          0.7979567096546656,
          0.7953655889250862,
          0.7966819086499677,
          0.8008489254443065,
          0.8027551101542927,
          0.8037156011960108,
          0.804349458587352,
          0.8034855097518623,
          0.8064051403536143,
          0.8099292484700854,
          0.8153173444480348,
          0.823465431048452,
          0.8289909890869902,
          0.8376871457658757,
          0.8453270338741357,
          0.8509422267095564,
          0.8539819987424173,
          0.8585786165418303,
          0.8592304213789362,
          0.8664420017392089,
          0.8685020248560797,
          0.8673734960064298,
          0.8658953334962658,
          0.8669859607792463,
          0.8644223130789644,
          0.8642040671414053,
          0.8652974004001958,
          0.866504008905574,
          0.8670224013444155,
          0.8679490778037942,
          0.8720741280398605,
          0.8770792653129187,
          0.8806130532453841,
          0.8842494095913979,
          0.8851771617740181,
          0.8809867594832719,
          0.8734364430146937,
          0.8675883788036612,
          0.8615699065935797,
          0.857428921494463,
          0.8506542823499621,
          0.8454568579193338,
          0.838339901939032,
          0.8318745688254321,
          0.823536595347612,
          0.8192415245018907,
          0.8124554655504292,
          0.8058470484578588,
          0.8035075396225861,
          0.799395481017587,
          0.7893884362884014,
          0.7904910761764202,
          0.7886301246538834,
          0.7884202159979717,
          0.7858688771180569,
          0.7850028671300788,
          0.785268309553373,
          0.7755873815649407,
          0.7705163439957492,
          0.7650828106705541,
          0.7573397664821367,
          0.7338522641515003,
          0.7216054232117842,
          0.7041622878230158,
          0.6966355719855336,
          0.6880792459935181,
          0.6972324038830564,
          0.7067927909045791,
          0.7201378851960475,
          0.73036776639226,
          0.7414978084415534,
          0.749739962760173,
          0.7579271460625707,
          0.7602632620750043,
          0.7595148941450663,
          0.7624006476668573,
          0.761226488046677,
          0.759455947104187,
          0.7570146545422022,
          0.7569915964269813,
          0.7607657637239313,
          0.7666862514795393,
          0.7672837779779924,
          0.7707360588577712,
          0.7670061981428822,
          0.7640407360207958,
          0.7672565320446362,
          0.7741494127969718,
          0.7793579550077379,
          0.7897839676348526,
          0.7951129664700523,
          0.8065222234634475,
          0.8178008645984337,
          0.8255200394998156,
          0.8271141833512576,
          0.8199567610922439,
          0.8184897203945564,
          0.8151502766536949,
          0.8164279672600516,
          0.8203416971123114,
          0.8260251397047693,
          0.8243817057697854,
          0.8235728951031505,
          0.8281260149907902,
          0.8318817957811652,
          0.8387300532539044,
          0.846232158642737,
          0.8514535675175774,
          0.8533635732909819,
          0.8582280569913333,
          0.8603863052078095,
          0.8610929567734729,
          0.8586836714753069,
          0.8583715158292352,
          0.8640446415242781,
          0.8732098680066271,
          0.8803823753286468,
          0.8823156905819782,
          0.8827909767810035,
          0.8872734861943373,
          0.8865087456138352,
          0.8869190996914099,
          0.8770520890876519,
          0.8712945949201376,
          0.8712647346300891,
          0.8726413508450909,
          0.8809043445898653,
          0.8831278271893679,
          0.8884727879795403,
          0.8814563144866371,
          0.8644773453135524,
          0.8589112231903584,
          0.853844556601127,
          0.8463157385306959,
          0.8431443182434847,
          0.8415787118392986,
          0.8420442613656858,
          0.8447263504050295,
          0.8477868317303655,
          0.8514246816748711,
          0.8530856892529437,
          0.8557960175649605,
          0.8578395328157276,
          0.861751031334184,
          0.8679830056167552,
          0.8725177225765225,
          0.8736339000296394,
          0.8771817057096675,
          0.879517894830395,
          0.8786843892552912,
          0.8821109037551618,
          0.8838528881495817,
          0.8834263300834218,
          0.8870938345536132,
          0.8865673248465181,
          0.8885234495501316,
          0.8868611519581863,
          0.8880980056467225,
          0.8876272301935347,
          0.8847985505663649,
          0.8898404949327621,
          0.9011938588127869,
          0.9073957337852122,
          0.9121327414400974,
          0.9139846215175687,
          0.9148816006346865,
          0.9157604719986624,
          0.9143261437687151,
          0.9158016373241195,
          0.914865529374163,
          0.9100736626364326,
          0.906581854350493,
          0.9037372401057897,
          0.9005892742055344,
          0.8980527737736969,
          0.8928134691852115,
          0.8901400772553796,
          0.8904240253159266,
          0.8917321521745554,
          0.8935910314858063,
          0.8917116691114698,
          0.8907447941689224,
          0.8893349506663318,
          0.8901971525542909,
          0.8916344476069737,
          0.8895714227751991,
          0.8890603231763108,
          0.8877088194575926,
          0.8872308353620488,
          0.8885099303988073,
          0.8924386627924281,
          0.8915645469230327,
          0.8902503881814176,
          0.8900923624803221,
          0.8893601327055608,
          0.8903577484520921,
          0.890431171902891,
          0.8906687174086575,
          0.8950180985584171,
          0.8934635333588357,
          0.8940847184914289,
          0.8959853853559259,
          0.897710426118151,
          0.8989146510603475,
          0.8995661416710773,
          0.8964922122106714,
          0.8947047561379364,
          0.8908600072349262,
          0.8878879051403811,
          0.8864777304887649,
          0.8847069970567006,
          0.8831385388812619,
          0.8836113151017652,
          0.8810814094859245,
          0.8809539790684232,
          0.8770262420049693,
          0.8763219192776422,
          0.8740778622888908
         ],
         "yaxis": "y"
        },
        {
         "connectgaps": false,
         "fill": "tonexty",
         "fillcolor": "rgba(0.38823529411764707, 0.43137254901960786, 0.9803921568627451, 0.2)",
         "hoverinfo": "skip",
         "legendgroup": "Baseline",
         "line": {
          "width": 0
         },
         "name": "Baseline",
         "showlegend": false,
         "type": "scatter",
         "x": [
          "2014-02-12T00:00:00",
          "2014-02-13T00:00:00",
          "2014-02-14T00:00:00",
          "2014-02-15T00:00:00",
          "2014-02-16T00:00:00",
          "2014-02-17T00:00:00",
          "2014-02-18T00:00:00",
          "2014-02-19T00:00:00",
          "2014-02-20T00:00:00",
          "2014-02-21T00:00:00",
          "2014-02-22T00:00:00",
          "2014-02-23T00:00:00",
          "2014-02-24T00:00:00",
          "2014-02-25T00:00:00",
          "2014-02-26T00:00:00",
          "2014-02-27T00:00:00",
          "2014-02-28T00:00:00",
          "2014-03-01T00:00:00",
          "2014-03-02T00:00:00",
          "2014-03-03T00:00:00",
          "2014-03-04T00:00:00",
          "2014-03-05T00:00:00",
          "2014-03-06T00:00:00",
          "2014-03-07T00:00:00",
          "2014-03-08T00:00:00",
          "2014-03-09T00:00:00",
          "2014-03-10T00:00:00",
          "2014-03-11T00:00:00",
          "2014-03-12T00:00:00",
          "2014-03-13T00:00:00",
          "2014-03-14T00:00:00",
          "2014-03-15T00:00:00",
          "2014-03-16T00:00:00",
          "2014-03-17T00:00:00",
          "2014-03-18T00:00:00",
          "2014-03-19T00:00:00",
          "2014-03-20T00:00:00",
          "2014-03-21T00:00:00",
          "2014-03-22T00:00:00",
          "2014-03-23T00:00:00",
          "2014-03-24T00:00:00",
          "2014-03-25T00:00:00",
          "2014-03-26T00:00:00",
          "2014-03-27T00:00:00",
          "2014-03-28T00:00:00",
          "2014-03-29T00:00:00",
          "2014-03-30T00:00:00",
          "2014-03-31T00:00:00",
          "2014-04-01T00:00:00",
          "2014-04-02T00:00:00",
          "2014-04-03T00:00:00",
          "2014-04-04T00:00:00",
          "2014-04-05T00:00:00",
          "2014-04-06T00:00:00",
          "2014-04-07T00:00:00",
          "2014-04-08T00:00:00",
          "2014-04-09T00:00:00",
          "2014-04-10T00:00:00",
          "2014-04-11T00:00:00",
          "2014-04-12T00:00:00",
          "2014-04-13T00:00:00",
          "2014-04-14T00:00:00",
          "2014-04-15T00:00:00",
          "2014-04-16T00:00:00",
          "2014-04-17T00:00:00",
          "2014-04-18T00:00:00",
          "2014-04-19T00:00:00",
          "2014-04-20T00:00:00",
          "2014-04-21T00:00:00",
          "2014-04-22T00:00:00",
          "2014-04-23T00:00:00",
          "2014-04-24T00:00:00",
          "2014-04-25T00:00:00",
          "2014-04-26T00:00:00",
          "2014-04-27T00:00:00",
          "2014-04-28T00:00:00",
          "2014-04-29T00:00:00",
          "2014-04-30T00:00:00",
          "2014-05-01T00:00:00",
          "2014-05-02T00:00:00",
          "2014-05-03T00:00:00",
          "2014-05-04T00:00:00",
          "2014-05-05T00:00:00",
          "2014-05-06T00:00:00",
          "2014-05-07T00:00:00",
          "2014-05-08T00:00:00",
          "2014-05-09T00:00:00",
          "2014-05-10T00:00:00",
          "2014-05-11T00:00:00",
          "2014-05-12T00:00:00",
          "2014-05-13T00:00:00",
          "2014-05-14T00:00:00",
          "2014-05-15T00:00:00",
          "2014-05-16T00:00:00",
          "2014-05-17T00:00:00",
          "2014-05-18T00:00:00",
          "2014-05-19T00:00:00",
          "2014-05-20T00:00:00",
          "2014-05-21T00:00:00",
          "2014-05-22T00:00:00",
          "2014-05-23T00:00:00",
          "2014-05-24T00:00:00",
          "2014-05-25T00:00:00",
          "2014-05-26T00:00:00",
          "2014-05-27T00:00:00",
          "2014-05-28T00:00:00",
          "2014-05-29T00:00:00",
          "2014-05-30T00:00:00",
          "2014-05-31T00:00:00",
          "2014-06-01T00:00:00",
          "2014-06-02T00:00:00",
          "2014-06-03T00:00:00",
          "2014-06-04T00:00:00",
          "2014-06-05T00:00:00",
          "2014-06-06T00:00:00",
          "2014-06-07T00:00:00",
          "2014-06-08T00:00:00",
          "2014-06-09T00:00:00",
          "2014-06-10T00:00:00",
          "2014-06-11T00:00:00",
          "2014-06-12T00:00:00",
          "2014-06-13T00:00:00",
          "2014-06-14T00:00:00",
          "2014-06-15T00:00:00",
          "2014-06-16T00:00:00",
          "2014-06-17T00:00:00",
          "2014-06-18T00:00:00",
          "2014-06-19T00:00:00",
          "2014-06-20T00:00:00",
          "2014-06-21T00:00:00",
          "2014-06-22T00:00:00",
          "2014-06-23T00:00:00",
          "2014-06-24T00:00:00",
          "2014-06-25T00:00:00",
          "2014-06-26T00:00:00",
          "2014-06-27T00:00:00",
          "2014-06-28T00:00:00",
          "2014-06-29T00:00:00",
          "2014-06-30T00:00:00",
          "2014-07-01T00:00:00",
          "2014-07-02T00:00:00",
          "2014-07-03T00:00:00",
          "2014-07-04T00:00:00",
          "2014-07-05T00:00:00",
          "2014-07-06T00:00:00",
          "2014-07-07T00:00:00",
          "2014-07-08T00:00:00",
          "2014-07-09T00:00:00",
          "2014-07-10T00:00:00",
          "2014-07-11T00:00:00",
          "2014-07-12T00:00:00",
          "2014-07-13T00:00:00",
          "2014-07-14T00:00:00",
          "2014-07-15T00:00:00",
          "2014-07-16T00:00:00",
          "2014-07-17T00:00:00",
          "2014-07-18T00:00:00",
          "2014-07-19T00:00:00",
          "2014-07-20T00:00:00",
          "2014-07-21T00:00:00",
          "2014-07-22T00:00:00",
          "2014-07-23T00:00:00",
          "2014-07-24T00:00:00",
          "2014-07-25T00:00:00",
          "2014-07-26T00:00:00",
          "2014-07-27T00:00:00",
          "2014-07-28T00:00:00",
          "2014-07-29T00:00:00",
          "2014-07-30T00:00:00",
          "2014-07-31T00:00:00",
          "2014-08-01T00:00:00",
          "2014-08-02T00:00:00",
          "2014-08-03T00:00:00",
          "2014-08-04T00:00:00",
          "2014-08-05T00:00:00",
          "2014-08-06T00:00:00",
          "2014-08-07T00:00:00",
          "2014-08-08T00:00:00",
          "2014-08-09T00:00:00",
          "2014-08-10T00:00:00",
          "2014-08-11T00:00:00",
          "2014-08-12T00:00:00",
          "2014-08-13T00:00:00",
          "2014-08-14T00:00:00",
          "2014-08-15T00:00:00",
          "2014-08-16T00:00:00",
          "2014-08-17T00:00:00",
          "2014-08-18T00:00:00",
          "2014-08-19T00:00:00",
          "2014-08-20T00:00:00",
          "2014-08-21T00:00:00",
          "2014-08-22T00:00:00",
          "2014-08-23T00:00:00",
          "2014-08-24T00:00:00",
          "2014-08-25T00:00:00",
          "2014-08-26T00:00:00",
          "2014-08-27T00:00:00",
          "2014-08-28T00:00:00",
          "2014-08-29T00:00:00",
          "2014-08-30T00:00:00",
          "2014-08-31T00:00:00",
          "2014-09-01T00:00:00",
          "2014-09-02T00:00:00",
          "2014-09-03T00:00:00",
          "2014-09-04T00:00:00",
          "2014-09-05T00:00:00",
          "2014-09-06T00:00:00",
          "2014-09-07T00:00:00",
          "2014-09-08T00:00:00",
          "2014-09-09T00:00:00",
          "2014-09-10T00:00:00",
          "2014-09-11T00:00:00",
          "2014-09-12T00:00:00",
          "2014-09-13T00:00:00",
          "2014-09-14T00:00:00",
          "2014-09-15T00:00:00",
          "2014-09-16T00:00:00",
          "2014-09-17T00:00:00",
          "2014-09-18T00:00:00",
          "2014-09-19T00:00:00",
          "2014-09-20T00:00:00",
          "2014-09-21T00:00:00",
          "2014-09-22T00:00:00",
          "2014-09-23T00:00:00",
          "2014-09-24T00:00:00",
          "2014-09-25T00:00:00",
          "2014-09-26T00:00:00",
          "2014-09-27T00:00:00",
          "2014-09-28T00:00:00",
          "2014-09-29T00:00:00",
          "2014-09-30T00:00:00",
          "2014-10-01T00:00:00",
          "2014-10-02T00:00:00",
          "2014-10-03T00:00:00",
          "2014-10-04T00:00:00",
          "2014-10-05T00:00:00",
          "2014-10-06T00:00:00",
          "2014-10-07T00:00:00",
          "2014-10-08T00:00:00",
          "2014-10-09T00:00:00",
          "2014-10-10T00:00:00",
          "2014-10-11T00:00:00",
          "2014-10-12T00:00:00",
          "2014-10-13T00:00:00",
          "2014-10-14T00:00:00",
          "2014-10-15T00:00:00",
          "2014-10-16T00:00:00",
          "2014-10-17T00:00:00",
          "2014-10-18T00:00:00",
          "2014-10-19T00:00:00",
          "2014-10-20T00:00:00",
          "2014-10-21T00:00:00",
          "2014-10-22T00:00:00",
          "2014-10-23T00:00:00",
          "2014-10-24T00:00:00",
          "2014-10-25T00:00:00",
          "2014-10-26T00:00:00",
          "2014-10-27T00:00:00",
          "2014-10-28T00:00:00",
          "2014-10-29T00:00:00",
          "2014-10-30T00:00:00",
          "2014-10-31T00:00:00",
          "2014-11-01T00:00:00",
          "2014-11-02T00:00:00",
          "2014-11-03T00:00:00",
          "2014-11-04T00:00:00",
          "2014-11-05T00:00:00",
          "2014-11-06T00:00:00",
          "2014-11-07T00:00:00",
          "2014-11-08T00:00:00",
          "2014-11-09T00:00:00",
          "2014-11-10T00:00:00",
          "2014-11-11T00:00:00",
          "2014-11-12T00:00:00",
          "2014-11-13T00:00:00",
          "2014-11-14T00:00:00",
          "2014-11-15T00:00:00",
          "2014-11-16T00:00:00",
          "2014-11-17T00:00:00",
          "2014-11-18T00:00:00",
          "2014-11-19T00:00:00",
          "2014-11-20T00:00:00",
          "2014-11-21T00:00:00",
          "2014-11-22T00:00:00",
          "2014-11-23T00:00:00",
          "2014-11-24T00:00:00",
          "2014-11-25T00:00:00",
          "2014-11-26T00:00:00",
          "2014-11-27T00:00:00",
          "2014-11-28T00:00:00",
          "2014-11-29T00:00:00",
          "2014-11-30T00:00:00",
          "2014-12-01T00:00:00",
          "2014-12-02T00:00:00",
          "2014-12-03T00:00:00",
          "2014-12-04T00:00:00",
          "2014-12-05T00:00:00",
          "2014-12-06T00:00:00",
          "2014-12-07T00:00:00",
          "2014-12-08T00:00:00",
          "2014-12-09T00:00:00",
          "2014-12-10T00:00:00",
          "2014-12-11T00:00:00",
          "2014-12-12T00:00:00",
          "2014-12-13T00:00:00",
          "2014-12-14T00:00:00",
          "2014-12-15T00:00:00",
          "2014-12-16T00:00:00",
          "2014-12-17T00:00:00",
          "2014-12-18T00:00:00",
          "2014-12-19T00:00:00",
          "2014-12-20T00:00:00",
          "2014-12-21T00:00:00",
          "2014-12-22T00:00:00",
          "2014-12-23T00:00:00",
          "2014-12-24T00:00:00",
          "2014-12-25T00:00:00",
          "2014-12-26T00:00:00",
          "2014-12-27T00:00:00",
          "2014-12-28T00:00:00",
          "2014-12-29T00:00:00",
          "2014-12-30T00:00:00",
          "2014-12-31T00:00:00",
          "2015-01-01T00:00:00",
          "2015-01-02T00:00:00",
          "2015-01-03T00:00:00",
          "2015-01-04T00:00:00",
          "2015-01-05T00:00:00",
          "2015-01-06T00:00:00",
          "2015-01-07T00:00:00",
          "2015-01-08T00:00:00",
          "2015-01-09T00:00:00",
          "2015-01-10T00:00:00",
          "2015-01-11T00:00:00",
          "2015-01-12T00:00:00",
          "2015-01-13T00:00:00",
          "2015-01-14T00:00:00",
          "2015-01-15T00:00:00",
          "2015-01-16T00:00:00",
          "2015-01-17T00:00:00",
          "2015-01-18T00:00:00",
          "2015-01-19T00:00:00",
          "2015-01-20T00:00:00",
          "2015-01-21T00:00:00",
          "2015-01-22T00:00:00",
          "2015-01-23T00:00:00",
          "2015-01-24T00:00:00",
          "2015-01-25T00:00:00",
          "2015-01-26T00:00:00",
          "2015-01-27T00:00:00",
          "2015-01-28T00:00:00",
          "2015-01-29T00:00:00",
          "2015-01-30T00:00:00",
          "2015-01-31T00:00:00"
         ],
         "xaxis": "x",
         "y": [
          0.789983255725136,
          0.775559800664413,
          0.7812196135955405,
          0.7832452824433915,
          0.7834786436573546,
          0.7884869007792785,
          0.7909728095248938,
          0.7878616117653041,
          0.7909611120592633,
          0.7961333914297684,
          0.8014849299903946,
          0.8042423774880202,
          0.8031443277983489,
          0.804599514454131,
          0.8060581494608953,
          0.8041192474063699,
          0.8071126330775382,
          0.8047778857011967,
          0.8084065547650466,
          0.8089202153674333,
          0.8125065226868234,
          0.8171097783327388,
          0.8229525041135476,
          0.8284870814600225,
          0.8344215809369402,
          0.8397268207832475,
          0.8444535229919354,
          0.8519690748746864,
          0.858131044548124,
          0.861667181875313,
          0.8619700068115025,
          0.8662347997725024,
          0.875561557948102,
          0.8770310113067092,
          0.8805659696993418,
          0.8802237042592387,
          0.8811883253774911,
          0.8839795147272328,
          0.8892281868163364,
          0.8959038453089397,
          0.8991914937659936,
          0.9013440298258706,
          0.9039936290951582,
          0.9051313574327136,
          0.9057919584329985,
          0.9069672413411624,
          0.9083514486958109,
          0.9074306626749283,
          0.9062206298946213,
          0.902466523817009,
          0.8993520821939072,
          0.8977288097391093,
          0.8934177235747378,
          0.8900810221555062,
          0.8866250717943265,
          0.8802635543766987,
          0.8754420424213147,
          0.8693344319401289,
          0.8627708380377829,
          0.8569881355166871,
          0.8554580571881331,
          0.8554474312049763,
          0.8554019074115689,
          0.8546571184669303,
          0.8575105267244401,
          0.8593292314823736,
          0.8595410984393391,
          0.8596229726401868,
          0.859487058079858,
          0.8614185588373254,
          0.8628408528063243,
          0.8616401535572215,
          0.8560345149624494,
          0.8514813383832402,
          0.8476160382121061,
          0.8350785949786945,
          0.8240619990779553,
          0.8194993749976676,
          0.8217636175714566,
          0.8182551839179127,
          0.8217929584451154,
          0.8186053115154035,
          0.8210696976243032,
          0.8240735673790444,
          0.8250132857518372,
          0.8324313084118992,
          0.8365015281458152,
          0.8418758958200487,
          0.8418853851339126,
          0.8433154982835833,
          0.8494003085868529,
          0.8475188915057368,
          0.8462175955184819,
          0.8481505954287308,
          0.8515905810679752,
          0.8489736784743024,
          0.8481812198869539,
          0.8438310745063127,
          0.8449113245016685,
          0.8457193313493429,
          0.8440320280942886,
          0.8383749829679201,
          0.8414675822122433,
          0.8462711062375475,
          0.8510266085931902,
          0.8460125872292777,
          0.8493411893912495,
          0.8493734382565468,
          0.8483439853305604,
          0.8511901802868589,
          0.8504956683175523,
          0.846161054179566,
          0.8454692771379082,
          0.8406114150477844,
          0.8290844950726793,
          0.8220336319791819,
          0.814967830005895,
          0.8044374416342651,
          0.7937174935859354,
          0.7866237817735512,
          0.7830028900233782,
          0.7790369202398255,
          0.7710670777720017,
          0.7707186309780854,
          0.7616858192369675,
          0.7577678328706314,
          0.75675288666984,
          0.7507761873242661,
          0.7449640802945133,
          0.7406569695606637,
          0.7390722266532409,
          0.7375408586868798,
          0.7377425880968,
          0.7336847254977408,
          0.7383710894471905,
          0.734412629891952,
          0.7412320556665464,
          0.739718269881351,
          0.7473795812765333,
          0.7463747747606077,
          0.7515277334500459,
          0.7545511605659508,
          0.7554827491269981,
          0.7547158121222906,
          0.7528542728994658,
          0.7537369084918727,
          0.7564760689780289,
          0.767221174854222,
          0.7746003962552632,
          0.7864863303090676,
          0.7995743637515285,
          0.8009765791468819,
          0.8014731165155806,
          0.8043057213124056,
          0.8050573882442813,
          0.814465282933161,
          0.8157662596797126,
          0.8186278911892018,
          0.8188930255590066,
          0.8182270544547817,
          0.8201818892908057,
          0.8197400464087389,
          0.8150993544149977,
          0.8128691249738316,
          0.8144492011933007,
          0.8164142420989311,
          0.8211838942959904,
          0.8270581842298844,
          0.8332246149870337,
          0.8371282861700037,
          0.8367287525868565,
          0.83010761291981,
          0.8236500372101843,
          0.8166900591901153,
          0.8108660104235755,
          0.8056966503003442,
          0.7975434580904404,
          0.7924369265614438,
          0.7855365370021498,
          0.7762541493518214,
          0.7680992518587406,
          0.7647468326175537,
          0.7567003678396326,
          0.7507023854289484,
          0.7461382291186337,
          0.7395105467589066,
          0.730824628099657,
          0.7288210901755051,
          0.7285117810709191,
          0.7296229352965052,
          0.7283936920221821,
          0.7265098503613348,
          0.7231139798757871,
          0.7197995949454009,
          0.710094983852018,
          0.7104561931716772,
          0.7032563002569172,
          0.6787268697243685,
          0.6657903817791497,
          0.6504781354978058,
          0.6401251165876346,
          0.6333632067699589,
          0.6444884695952904,
          0.6526329792160364,
          0.6654904639251721,
          0.6790407870547355,
          0.6853568884430853,
          0.6913150114103553,
          0.699571965666948,
          0.7043449396812448,
          0.7043698740786895,
          0.7037999784939754,
          0.7007120457476163,
          0.7011595929946118,
          0.6991549961664786,
          0.6976725411603724,
          0.705477160680311,
          0.7135808374849402,
          0.7149325419408519,
          0.7182318819422556,
          0.7132835865905361,
          0.7111560539202278,
          0.7101716618404633,
          0.7179907141381255,
          0.7274645616481487,
          0.7318602151655557,
          0.7395545636189574,
          0.747514052977303,
          0.7571262318841576,
          0.7634085872164017,
          0.7628873567150192,
          0.7538793815676209,
          0.7551441015184961,
          0.7573232824941378,
          0.7571144293282391,
          0.7615660848238277,
          0.7710888856523171,
          0.7665829733654208,
          0.7671660509376297,
          0.7670281880665679,
          0.7728150968890284,
          0.7808741814070128,
          0.7858231674536156,
          0.7903643992759023,
          0.7923442375392595,
          0.798143660983333,
          0.7991110351358797,
          0.8015763497767645,
          0.7971454727223353,
          0.7955119544680079,
          0.7997018028299383,
          0.8051001859592752,
          0.8120992196020655,
          0.8188182251176865,
          0.8180419387294982,
          0.8174940930821508,
          0.820526358677403,
          0.8235019443465623,
          0.8160777106929757,
          0.8105331695434094,
          0.8113751743522121,
          0.8155807551448796,
          0.822750587148392,
          0.8209859250237319,
          0.8295704641983015,
          0.8248261229194224,
          0.8103100791640312,
          0.7996706941735816,
          0.7917753160865926,
          0.7851316312189511,
          0.7752127247678099,
          0.7720231726846284,
          0.776704427099165,
          0.7801156110719344,
          0.7844885215818991,
          0.7898134373330018,
          0.7937530533396087,
          0.7971760470360862,
          0.8030972205641762,
          0.8068119769243963,
          0.8161564093992046,
          0.825089218951138,
          0.8311908741696463,
          0.834134165681331,
          0.8361891793870182,
          0.8373164443614438,
          0.8378173449834818,
          0.842686201217647,
          0.8403944079958354,
          0.8467408826553784,
          0.8508397894806912,
          0.8519963612678889,
          0.8519635807245532,
          0.8501876677613946,
          0.844772804263788,
          0.8432458157023649,
          0.8507191112574193,
          0.8636584732233474,
          0.8742007955051616,
          0.8812359704692091,
          0.8841304688084786,
          0.8882837395316734,
          0.8896806719565632,
          0.8890031989244851,
          0.8907297346504177,
          0.8896585928693126,
          0.885498003441331,
          0.8816363428739183,
          0.8769218459569197,
          0.8739384535622043,
          0.8701592861244308,
          0.86453710480052,
          0.860097579431627,
          0.8604423731412429,
          0.8614718289888503,
          0.8631440253130043,
          0.8627345626736709,
          0.8600615861736217,
          0.8569136197044295,
          0.8568573005347092,
          0.8597799033539619,
          0.857547359354697,
          0.8563598013918476,
          0.8560403218040966,
          0.8575472921333024,
          0.8587071919913891,
          0.863422280944016,
          0.8654426166583613,
          0.865670865292045,
          0.8660577216395011,
          0.8663919970758575,
          0.8677814885199202,
          0.8679871529251676,
          0.8669727288785386,
          0.8706890000162126,
          0.869927838144169,
          0.8698838805809317,
          0.87271895054756,
          0.8732666973787665,
          0.8752661136505061,
          0.8741384334792491,
          0.8732186356401629,
          0.8723355187874064,
          0.8672740088862871,
          0.8638408303649521,
          0.8609746799378035,
          0.8594579473098352,
          0.8577237435613494,
          0.8580330073718758,
          0.8564515555811414,
          0.85595728245615,
          0.8519992946867467,
          0.850617485778761,
          0.8493541882560173
         ],
         "yaxis": "y"
        },
        {
         "connectgaps": false,
         "hoverinfo": "skip",
         "legendgroup": "Peds. Injected",
         "line": {
          "width": 0
         },
         "name": "Peds. Injected",
         "showlegend": false,
         "type": "scatter",
         "x": [
          "2014-02-12T00:00:00",
          "2014-02-13T00:00:00",
          "2014-02-14T00:00:00",
          "2014-02-15T00:00:00",
          "2014-02-16T00:00:00",
          "2014-02-17T00:00:00",
          "2014-02-18T00:00:00",
          "2014-02-19T00:00:00",
          "2014-02-20T00:00:00",
          "2014-02-21T00:00:00",
          "2014-02-22T00:00:00",
          "2014-02-23T00:00:00",
          "2014-02-24T00:00:00",
          "2014-02-25T00:00:00",
          "2014-02-26T00:00:00",
          "2014-02-27T00:00:00",
          "2014-02-28T00:00:00",
          "2014-03-01T00:00:00",
          "2014-03-02T00:00:00",
          "2014-03-03T00:00:00",
          "2014-03-04T00:00:00",
          "2014-03-05T00:00:00",
          "2014-03-06T00:00:00",
          "2014-03-07T00:00:00",
          "2014-03-08T00:00:00",
          "2014-03-09T00:00:00",
          "2014-03-10T00:00:00",
          "2014-03-11T00:00:00",
          "2014-03-12T00:00:00",
          "2014-03-13T00:00:00",
          "2014-03-14T00:00:00",
          "2014-03-15T00:00:00",
          "2014-03-16T00:00:00",
          "2014-03-17T00:00:00",
          "2014-03-18T00:00:00",
          "2014-03-19T00:00:00",
          "2014-03-20T00:00:00",
          "2014-03-21T00:00:00",
          "2014-03-22T00:00:00",
          "2014-03-23T00:00:00",
          "2014-03-24T00:00:00",
          "2014-03-25T00:00:00",
          "2014-03-26T00:00:00",
          "2014-03-27T00:00:00",
          "2014-03-28T00:00:00",
          "2014-03-29T00:00:00",
          "2014-03-30T00:00:00",
          "2014-03-31T00:00:00",
          "2014-04-01T00:00:00",
          "2014-04-02T00:00:00",
          "2014-04-03T00:00:00",
          "2014-04-04T00:00:00",
          "2014-04-05T00:00:00",
          "2014-04-06T00:00:00",
          "2014-04-07T00:00:00",
          "2014-04-08T00:00:00",
          "2014-04-09T00:00:00",
          "2014-04-10T00:00:00",
          "2014-04-11T00:00:00",
          "2014-04-12T00:00:00",
          "2014-04-13T00:00:00",
          "2014-04-14T00:00:00",
          "2014-04-15T00:00:00",
          "2014-04-16T00:00:00",
          "2014-04-17T00:00:00",
          "2014-04-18T00:00:00",
          "2014-04-19T00:00:00",
          "2014-04-20T00:00:00",
          "2014-04-21T00:00:00",
          "2014-04-22T00:00:00",
          "2014-04-23T00:00:00",
          "2014-04-24T00:00:00",
          "2014-04-25T00:00:00",
          "2014-04-26T00:00:00",
          "2014-04-27T00:00:00",
          "2014-04-28T00:00:00",
          "2014-04-29T00:00:00",
          "2014-04-30T00:00:00",
          "2014-05-01T00:00:00",
          "2014-05-02T00:00:00",
          "2014-05-03T00:00:00",
          "2014-05-04T00:00:00",
          "2014-05-05T00:00:00",
          "2014-05-06T00:00:00",
          "2014-05-07T00:00:00",
          "2014-05-08T00:00:00",
          "2014-05-09T00:00:00",
          "2014-05-10T00:00:00",
          "2014-05-11T00:00:00",
          "2014-05-12T00:00:00",
          "2014-05-13T00:00:00",
          "2014-05-14T00:00:00",
          "2014-05-15T00:00:00",
          "2014-05-16T00:00:00",
          "2014-05-17T00:00:00",
          "2014-05-18T00:00:00",
          "2014-05-19T00:00:00",
          "2014-05-20T00:00:00",
          "2014-05-21T00:00:00",
          "2014-05-22T00:00:00",
          "2014-05-23T00:00:00",
          "2014-05-24T00:00:00",
          "2014-05-25T00:00:00",
          "2014-05-26T00:00:00",
          "2014-05-27T00:00:00",
          "2014-05-28T00:00:00",
          "2014-05-29T00:00:00",
          "2014-05-30T00:00:00",
          "2014-05-31T00:00:00",
          "2014-06-01T00:00:00",
          "2014-06-02T00:00:00",
          "2014-06-03T00:00:00",
          "2014-06-04T00:00:00",
          "2014-06-05T00:00:00",
          "2014-06-06T00:00:00",
          "2014-06-07T00:00:00",
          "2014-06-08T00:00:00",
          "2014-06-09T00:00:00",
          "2014-06-10T00:00:00",
          "2014-06-11T00:00:00",
          "2014-06-12T00:00:00",
          "2014-06-13T00:00:00",
          "2014-06-14T00:00:00",
          "2014-06-15T00:00:00",
          "2014-06-16T00:00:00",
          "2014-06-17T00:00:00",
          "2014-06-18T00:00:00",
          "2014-06-19T00:00:00",
          "2014-06-20T00:00:00",
          "2014-06-21T00:00:00",
          "2014-06-22T00:00:00",
          "2014-06-23T00:00:00",
          "2014-06-24T00:00:00",
          "2014-06-25T00:00:00",
          "2014-06-26T00:00:00",
          "2014-06-27T00:00:00",
          "2014-06-28T00:00:00",
          "2014-06-29T00:00:00",
          "2014-06-30T00:00:00",
          "2014-07-01T00:00:00",
          "2014-07-02T00:00:00",
          "2014-07-03T00:00:00",
          "2014-07-04T00:00:00",
          "2014-07-05T00:00:00",
          "2014-07-06T00:00:00",
          "2014-07-07T00:00:00",
          "2014-07-08T00:00:00",
          "2014-07-09T00:00:00",
          "2014-07-10T00:00:00",
          "2014-07-11T00:00:00",
          "2014-07-12T00:00:00",
          "2014-07-13T00:00:00",
          "2014-07-14T00:00:00",
          "2014-07-15T00:00:00",
          "2014-07-16T00:00:00",
          "2014-07-17T00:00:00",
          "2014-07-18T00:00:00",
          "2014-07-19T00:00:00",
          "2014-07-20T00:00:00",
          "2014-07-21T00:00:00",
          "2014-07-22T00:00:00",
          "2014-07-23T00:00:00",
          "2014-07-24T00:00:00",
          "2014-07-25T00:00:00",
          "2014-07-26T00:00:00",
          "2014-07-27T00:00:00",
          "2014-07-28T00:00:00",
          "2014-07-29T00:00:00",
          "2014-07-30T00:00:00",
          "2014-07-31T00:00:00",
          "2014-08-01T00:00:00",
          "2014-08-02T00:00:00",
          "2014-08-03T00:00:00",
          "2014-08-04T00:00:00",
          "2014-08-05T00:00:00",
          "2014-08-06T00:00:00",
          "2014-08-07T00:00:00",
          "2014-08-08T00:00:00",
          "2014-08-09T00:00:00",
          "2014-08-10T00:00:00",
          "2014-08-11T00:00:00",
          "2014-08-12T00:00:00",
          "2014-08-13T00:00:00",
          "2014-08-14T00:00:00",
          "2014-08-15T00:00:00",
          "2014-08-16T00:00:00",
          "2014-08-17T00:00:00",
          "2014-08-18T00:00:00",
          "2014-08-19T00:00:00",
          "2014-08-20T00:00:00",
          "2014-08-21T00:00:00",
          "2014-08-22T00:00:00",
          "2014-08-23T00:00:00",
          "2014-08-24T00:00:00",
          "2014-08-25T00:00:00",
          "2014-08-26T00:00:00",
          "2014-08-27T00:00:00",
          "2014-08-28T00:00:00",
          "2014-08-29T00:00:00",
          "2014-08-30T00:00:00",
          "2014-08-31T00:00:00",
          "2014-09-01T00:00:00",
          "2014-09-02T00:00:00",
          "2014-09-03T00:00:00",
          "2014-09-04T00:00:00",
          "2014-09-05T00:00:00",
          "2014-09-06T00:00:00",
          "2014-09-07T00:00:00",
          "2014-09-08T00:00:00",
          "2014-09-09T00:00:00",
          "2014-09-10T00:00:00",
          "2014-09-11T00:00:00",
          "2014-09-12T00:00:00",
          "2014-09-13T00:00:00",
          "2014-09-14T00:00:00",
          "2014-09-15T00:00:00",
          "2014-09-16T00:00:00",
          "2014-09-17T00:00:00",
          "2014-09-18T00:00:00",
          "2014-09-19T00:00:00",
          "2014-09-20T00:00:00",
          "2014-09-21T00:00:00",
          "2014-09-22T00:00:00",
          "2014-09-23T00:00:00",
          "2014-09-24T00:00:00",
          "2014-09-25T00:00:00",
          "2014-09-26T00:00:00",
          "2014-09-27T00:00:00",
          "2014-09-28T00:00:00",
          "2014-09-29T00:00:00",
          "2014-09-30T00:00:00",
          "2014-10-01T00:00:00",
          "2014-10-02T00:00:00",
          "2014-10-03T00:00:00",
          "2014-10-04T00:00:00",
          "2014-10-05T00:00:00",
          "2014-10-06T00:00:00",
          "2014-10-07T00:00:00",
          "2014-10-08T00:00:00",
          "2014-10-09T00:00:00",
          "2014-10-10T00:00:00",
          "2014-10-11T00:00:00",
          "2014-10-12T00:00:00",
          "2014-10-13T00:00:00",
          "2014-10-14T00:00:00",
          "2014-10-15T00:00:00",
          "2014-10-16T00:00:00",
          "2014-10-17T00:00:00",
          "2014-10-18T00:00:00",
          "2014-10-19T00:00:00",
          "2014-10-20T00:00:00",
          "2014-10-21T00:00:00",
          "2014-10-22T00:00:00",
          "2014-10-23T00:00:00",
          "2014-10-24T00:00:00",
          "2014-10-25T00:00:00",
          "2014-10-26T00:00:00",
          "2014-10-27T00:00:00",
          "2014-10-28T00:00:00",
          "2014-10-29T00:00:00",
          "2014-10-30T00:00:00",
          "2014-10-31T00:00:00",
          "2014-11-01T00:00:00",
          "2014-11-02T00:00:00",
          "2014-11-03T00:00:00",
          "2014-11-04T00:00:00",
          "2014-11-05T00:00:00",
          "2014-11-06T00:00:00",
          "2014-11-07T00:00:00",
          "2014-11-08T00:00:00",
          "2014-11-09T00:00:00",
          "2014-11-10T00:00:00",
          "2014-11-11T00:00:00",
          "2014-11-12T00:00:00",
          "2014-11-13T00:00:00",
          "2014-11-14T00:00:00",
          "2014-11-15T00:00:00",
          "2014-11-16T00:00:00",
          "2014-11-17T00:00:00",
          "2014-11-18T00:00:00",
          "2014-11-19T00:00:00",
          "2014-11-20T00:00:00",
          "2014-11-21T00:00:00",
          "2014-11-22T00:00:00",
          "2014-11-23T00:00:00",
          "2014-11-24T00:00:00",
          "2014-11-25T00:00:00",
          "2014-11-26T00:00:00",
          "2014-11-27T00:00:00",
          "2014-11-28T00:00:00",
          "2014-11-29T00:00:00",
          "2014-11-30T00:00:00",
          "2014-12-01T00:00:00",
          "2014-12-02T00:00:00",
          "2014-12-03T00:00:00",
          "2014-12-04T00:00:00",
          "2014-12-05T00:00:00",
          "2014-12-06T00:00:00",
          "2014-12-07T00:00:00",
          "2014-12-08T00:00:00",
          "2014-12-09T00:00:00",
          "2014-12-10T00:00:00",
          "2014-12-11T00:00:00",
          "2014-12-12T00:00:00",
          "2014-12-13T00:00:00",
          "2014-12-14T00:00:00",
          "2014-12-15T00:00:00",
          "2014-12-16T00:00:00",
          "2014-12-17T00:00:00",
          "2014-12-18T00:00:00",
          "2014-12-19T00:00:00",
          "2014-12-20T00:00:00",
          "2014-12-21T00:00:00",
          "2014-12-22T00:00:00",
          "2014-12-23T00:00:00",
          "2014-12-24T00:00:00",
          "2014-12-25T00:00:00",
          "2014-12-26T00:00:00",
          "2014-12-27T00:00:00",
          "2014-12-28T00:00:00",
          "2014-12-29T00:00:00",
          "2014-12-30T00:00:00",
          "2014-12-31T00:00:00",
          "2015-01-01T00:00:00",
          "2015-01-02T00:00:00",
          "2015-01-03T00:00:00",
          "2015-01-04T00:00:00",
          "2015-01-05T00:00:00",
          "2015-01-06T00:00:00",
          "2015-01-07T00:00:00",
          "2015-01-08T00:00:00",
          "2015-01-09T00:00:00",
          "2015-01-10T00:00:00",
          "2015-01-11T00:00:00",
          "2015-01-12T00:00:00",
          "2015-01-13T00:00:00",
          "2015-01-14T00:00:00",
          "2015-01-15T00:00:00",
          "2015-01-16T00:00:00",
          "2015-01-17T00:00:00",
          "2015-01-18T00:00:00",
          "2015-01-19T00:00:00",
          "2015-01-20T00:00:00",
          "2015-01-21T00:00:00",
          "2015-01-22T00:00:00",
          "2015-01-23T00:00:00",
          "2015-01-24T00:00:00",
          "2015-01-25T00:00:00",
          "2015-01-26T00:00:00",
          "2015-01-27T00:00:00",
          "2015-01-28T00:00:00",
          "2015-01-29T00:00:00",
          "2015-01-30T00:00:00",
          "2015-01-31T00:00:00"
         ],
         "xaxis": "x",
         "y": [
          0.8284559583099615,
          0.8194163969617334,
          0.8225432779908907,
          0.8242909546174779,
          0.8278116526340715,
          0.8348636076723229,
          0.8386792826481763,
          0.8436693195913177,
          0.8417418458869066,
          0.8469537749381596,
          0.8484879921847895,
          0.8487499827456803,
          0.8471831598171421,
          0.8502237089611494,
          0.8513575590517025,
          0.8516586613338296,
          0.8515696398477042,
          0.8540135859527789,
          0.8516876062440303,
          0.855259661832113,
          0.8569020458119029,
          0.8599830062996809,
          0.8673854699074014,
          0.8730907090052832,
          0.8805598072631693,
          0.8812346226140328,
          0.8874317970847146,
          0.8933425892691352,
          0.897175978048204,
          0.899708860142777,
          0.9008997502855072,
          0.9019739076325096,
          0.9095193887582208,
          0.9121245893241563,
          0.9137647188456312,
          0.9160380288252499,
          0.9159909413123707,
          0.9165265017982366,
          0.9216835681911264,
          0.9244236029004776,
          0.9260810726933678,
          0.9264526861535172,
          0.9277699693489111,
          0.9285701579993106,
          0.9302295493834342,
          0.9297371599948714,
          0.9293810358218272,
          0.9270260484686194,
          0.925619547595909,
          0.9227035952695682,
          0.9209495137653325,
          0.9186264343262539,
          0.9147802316137872,
          0.9121740336979091,
          0.9070769873796715,
          0.9016286157828818,
          0.8986697168838274,
          0.8937938575562002,
          0.8884667869257459,
          0.8839983426343827,
          0.8823217829175625,
          0.8825304299955145,
          0.8827093834434295,
          0.8805123575337634,
          0.882943413181436,
          0.8853417813855483,
          0.8856953179493102,
          0.8872777897834218,
          0.8873350820582195,
          0.8876631934677149,
          0.890650770059486,
          0.8880819152861306,
          0.8819483078832275,
          0.8804587202092589,
          0.875030258281125,
          0.8664383370446297,
          0.8602061407637175,
          0.8583765736139903,
          0.8584583418301648,
          0.8565725560905165,
          0.8604828465761157,
          0.8583336342395564,
          0.8593929892810785,
          0.8634737484300163,
          0.8680301339746276,
          0.8718665512029138,
          0.8795318026316835,
          0.883793272362896,
          0.8840478146515084,
          0.8864629327904214,
          0.8884656352493218,
          0.8907329002965846,
          0.8933413268123362,
          0.8937682993389624,
          0.8951804029319281,
          0.8931978781603674,
          0.8937809514818652,
          0.8952598646127208,
          0.8954853389033005,
          0.8937592918114938,
          0.8917689525997384,
          0.8888475044634723,
          0.8864398720018272,
          0.889320975947913,
          0.892296922489913,
          0.8896615247998333,
          0.8904900950379679,
          0.8932161349994707,
          0.8934326821945362,
          0.8941215346264353,
          0.886053464390865,
          0.8765817309861524,
          0.8676616226843148,
          0.854823241292813,
          0.8430964392513949,
          0.8341226013177059,
          0.8243608421429856,
          0.8146353697251653,
          0.8066739009939805,
          0.8002124918988539,
          0.7943038164979608,
          0.7860201998364063,
          0.7793614895552149,
          0.7738959933234906,
          0.7680355854746401,
          0.7634118402140058,
          0.7592099031047078,
          0.756027515423767,
          0.7521093816275679,
          0.7490249409277963,
          0.7463972389848652,
          0.7436010322155641,
          0.7427061450146886,
          0.7402589380561652,
          0.7387382337214987,
          0.7365649094574782,
          0.7328717928396359,
          0.7283544855974255,
          0.7247752048988462,
          0.721532178819393,
          0.7192854391043033,
          0.7175996728189679,
          0.717900950688321,
          0.7171732969828531,
          0.7181790261055477,
          0.7184637010589258,
          0.7190990203267384,
          0.7193898704605622,
          0.7193246765876741,
          0.7190519135839949,
          0.7193137579246925,
          0.7186244279400698,
          0.7172573504933112,
          0.718119593862988,
          0.7165021522778204,
          0.7156061274401592,
          0.7137047532052357,
          0.7115266648846685,
          0.711866377417439,
          0.7109591495450918,
          0.7107732213686878,
          0.7104111862780682,
          0.710354111392527,
          0.7108390880407182,
          0.7097197591078687,
          0.7091515315029079,
          0.708398736281063,
          0.7055930107507711,
          0.7056521863069641,
          0.7064444931661366,
          0.7059552287426949,
          0.7044268321970945,
          0.703963487198436,
          0.7021426490742734,
          0.7020177089038317,
          0.7012133963165321,
          0.6997384680624797,
          0.6994265888426953,
          0.6971698823030222,
          0.6963521366905115,
          0.6944543272907453,
          0.694905176315204,
          0.6955096565836543,
          0.6951283088745621,
          0.6940239900692339,
          0.6950784807453002,
          0.6957891652642353,
          0.6975935058252126,
          0.6978094531091573,
          0.6991191207677144,
          0.6970964890073053,
          0.6945022776981682,
          0.6937334060111643,
          0.6905524039002319,
          0.6876895329070726,
          0.6870458438277284,
          0.6867535273462385,
          0.68679154353589,
          0.6863741253684352,
          0.6854225942539068,
          0.6839289123416668,
          0.6833202831147728,
          0.683667196527973,
          0.6822042934468834,
          0.6813529396425141,
          0.6786438274812792,
          0.6780221717635754,
          0.6748973788963925,
          0.6739284279114861,
          0.6713449783300005,
          0.6690071365500131,
          0.66328974019101,
          0.6551098998222757,
          0.6493539166916399,
          0.643328026249879,
          0.6366165121337436,
          0.6314492485650242,
          0.6259404936526718,
          0.618147814444612,
          0.6119881755004773,
          0.6062694652595244,
          0.6016661155750455,
          0.5955560407015763,
          0.5913366038489741,
          0.5866599848306705,
          0.5796145931550754,
          0.5714290397674188,
          0.562022254512931,
          0.55132931320098,
          0.5406026280145563,
          0.5331393530736499,
          0.5294190039954133,
          0.5224191750414063,
          0.5149772623373047,
          0.5115512807944023,
          0.5071009087043818,
          0.5038695635998008,
          0.5040001798271784,
          0.503208701829911,
          0.5013918546630011,
          0.5012527868884302,
          0.5003490996543856,
          0.501485493509234,
          0.502997405720251,
          0.504643787415595,
          0.5056361474014025,
          0.5069940851287874,
          0.5066753668717074,
          0.5072854369215366,
          0.5082108305284128,
          0.5081332663861453,
          0.5073909555373156,
          0.5064809340760741,
          0.5058039755371467,
          0.5068830920499744,
          0.5068599408597799,
          0.5089323507630046,
          0.513375754038544,
          0.5142685870776397,
          0.5142808073037228,
          0.513824479562722,
          0.511996769291317,
          0.5116974069478262,
          0.5103302733542355,
          0.5111626900358123,
          0.5118566459177026,
          0.5127613604243348,
          0.5140777325456339,
          0.5117876132666421,
          0.5099376248406086,
          0.5071497548201357,
          0.5042710501100119,
          0.5024994463994158,
          0.5011424005393802,
          0.4991902664534415,
          0.4987159247680113,
          0.49800937492973135,
          0.4985886537363321,
          0.4998776622126796,
          0.5017339277455514,
          0.5017342192884567,
          0.4992778404660636,
          0.4991397459261807,
          0.4983232896588719,
          0.49698055092434695,
          0.49647302205393645,
          0.4979958063745479,
          0.49981738729850284,
          0.5015563329522557,
          0.5007331813147505,
          0.5020279928126111,
          0.5027856591184415,
          0.503052307114642,
          0.5032323659067685,
          0.5023247285110058,
          0.5025548518234795,
          0.5013216235697376,
          0.5014765505503025,
          0.5028230446443664,
          0.5033497498946559,
          0.5046255514733505,
          0.5058228950640649,
          0.5063812817122455,
          0.5076181987255071,
          0.5066746715136564,
          0.5057942694093137,
          0.5034425116901137,
          0.504007328670249,
          0.504603377035033,
          0.5047638207176829,
          0.5056127214522185,
          0.5078691777810426,
          0.509915948516289,
          0.5106765679109231,
          0.5135695188343089,
          0.5129649811364324,
          0.5137791109453446,
          0.5148510473012977,
          0.5157149913620674,
          0.5142624751201863,
          0.5139521011394017,
          0.5130886041985799,
          0.5113784897955852,
          0.5082288576439122,
          0.5106771326364085,
          0.5105593004668476,
          0.5118271791031525,
          0.5142960447234624,
          0.5147708815473121,
          0.5158342351922934,
          0.5156453363859522,
          0.5169363634251639,
          0.5179387419572019,
          0.5193436896007787,
          0.5211607186849673,
          0.5209258787815619,
          0.521188344395771,
          0.5211057098471944,
          0.522850158154345,
          0.5233859030724329,
          0.5234784401890803,
          0.5203384849535692,
          0.5179960734870797,
          0.5169953024798045,
          0.5175259223163969,
          0.5187807217922419,
          0.5198486208626804,
          0.5190149414009094,
          0.5210454702878079,
          0.5216633768607392,
          0.5238808312377886,
          0.5230748491465218,
          0.5250058581379076,
          0.5236179097618537
         ],
         "yaxis": "y"
        },
        {
         "connectgaps": false,
         "fill": "tonexty",
         "fillcolor": "rgba(0.9372549019607843, 0.3333333333333333, 0.23137254901960785, 0.2)",
         "hoverinfo": "skip",
         "legendgroup": "Peds. Injected",
         "line": {
          "width": 0
         },
         "name": "Peds. Injected",
         "showlegend": false,
         "type": "scatter",
         "x": [
          "2014-02-12T00:00:00",
          "2014-02-13T00:00:00",
          "2014-02-14T00:00:00",
          "2014-02-15T00:00:00",
          "2014-02-16T00:00:00",
          "2014-02-17T00:00:00",
          "2014-02-18T00:00:00",
          "2014-02-19T00:00:00",
          "2014-02-20T00:00:00",
          "2014-02-21T00:00:00",
          "2014-02-22T00:00:00",
          "2014-02-23T00:00:00",
          "2014-02-24T00:00:00",
          "2014-02-25T00:00:00",
          "2014-02-26T00:00:00",
          "2014-02-27T00:00:00",
          "2014-02-28T00:00:00",
          "2014-03-01T00:00:00",
          "2014-03-02T00:00:00",
          "2014-03-03T00:00:00",
          "2014-03-04T00:00:00",
          "2014-03-05T00:00:00",
          "2014-03-06T00:00:00",
          "2014-03-07T00:00:00",
          "2014-03-08T00:00:00",
          "2014-03-09T00:00:00",
          "2014-03-10T00:00:00",
          "2014-03-11T00:00:00",
          "2014-03-12T00:00:00",
          "2014-03-13T00:00:00",
          "2014-03-14T00:00:00",
          "2014-03-15T00:00:00",
          "2014-03-16T00:00:00",
          "2014-03-17T00:00:00",
          "2014-03-18T00:00:00",
          "2014-03-19T00:00:00",
          "2014-03-20T00:00:00",
          "2014-03-21T00:00:00",
          "2014-03-22T00:00:00",
          "2014-03-23T00:00:00",
          "2014-03-24T00:00:00",
          "2014-03-25T00:00:00",
          "2014-03-26T00:00:00",
          "2014-03-27T00:00:00",
          "2014-03-28T00:00:00",
          "2014-03-29T00:00:00",
          "2014-03-30T00:00:00",
          "2014-03-31T00:00:00",
          "2014-04-01T00:00:00",
          "2014-04-02T00:00:00",
          "2014-04-03T00:00:00",
          "2014-04-04T00:00:00",
          "2014-04-05T00:00:00",
          "2014-04-06T00:00:00",
          "2014-04-07T00:00:00",
          "2014-04-08T00:00:00",
          "2014-04-09T00:00:00",
          "2014-04-10T00:00:00",
          "2014-04-11T00:00:00",
          "2014-04-12T00:00:00",
          "2014-04-13T00:00:00",
          "2014-04-14T00:00:00",
          "2014-04-15T00:00:00",
          "2014-04-16T00:00:00",
          "2014-04-17T00:00:00",
          "2014-04-18T00:00:00",
          "2014-04-19T00:00:00",
          "2014-04-20T00:00:00",
          "2014-04-21T00:00:00",
          "2014-04-22T00:00:00",
          "2014-04-23T00:00:00",
          "2014-04-24T00:00:00",
          "2014-04-25T00:00:00",
          "2014-04-26T00:00:00",
          "2014-04-27T00:00:00",
          "2014-04-28T00:00:00",
          "2014-04-29T00:00:00",
          "2014-04-30T00:00:00",
          "2014-05-01T00:00:00",
          "2014-05-02T00:00:00",
          "2014-05-03T00:00:00",
          "2014-05-04T00:00:00",
          "2014-05-05T00:00:00",
          "2014-05-06T00:00:00",
          "2014-05-07T00:00:00",
          "2014-05-08T00:00:00",
          "2014-05-09T00:00:00",
          "2014-05-10T00:00:00",
          "2014-05-11T00:00:00",
          "2014-05-12T00:00:00",
          "2014-05-13T00:00:00",
          "2014-05-14T00:00:00",
          "2014-05-15T00:00:00",
          "2014-05-16T00:00:00",
          "2014-05-17T00:00:00",
          "2014-05-18T00:00:00",
          "2014-05-19T00:00:00",
          "2014-05-20T00:00:00",
          "2014-05-21T00:00:00",
          "2014-05-22T00:00:00",
          "2014-05-23T00:00:00",
          "2014-05-24T00:00:00",
          "2014-05-25T00:00:00",
          "2014-05-26T00:00:00",
          "2014-05-27T00:00:00",
          "2014-05-28T00:00:00",
          "2014-05-29T00:00:00",
          "2014-05-30T00:00:00",
          "2014-05-31T00:00:00",
          "2014-06-01T00:00:00",
          "2014-06-02T00:00:00",
          "2014-06-03T00:00:00",
          "2014-06-04T00:00:00",
          "2014-06-05T00:00:00",
          "2014-06-06T00:00:00",
          "2014-06-07T00:00:00",
          "2014-06-08T00:00:00",
          "2014-06-09T00:00:00",
          "2014-06-10T00:00:00",
          "2014-06-11T00:00:00",
          "2014-06-12T00:00:00",
          "2014-06-13T00:00:00",
          "2014-06-14T00:00:00",
          "2014-06-15T00:00:00",
          "2014-06-16T00:00:00",
          "2014-06-17T00:00:00",
          "2014-06-18T00:00:00",
          "2014-06-19T00:00:00",
          "2014-06-20T00:00:00",
          "2014-06-21T00:00:00",
          "2014-06-22T00:00:00",
          "2014-06-23T00:00:00",
          "2014-06-24T00:00:00",
          "2014-06-25T00:00:00",
          "2014-06-26T00:00:00",
          "2014-06-27T00:00:00",
          "2014-06-28T00:00:00",
          "2014-06-29T00:00:00",
          "2014-06-30T00:00:00",
          "2014-07-01T00:00:00",
          "2014-07-02T00:00:00",
          "2014-07-03T00:00:00",
          "2014-07-04T00:00:00",
          "2014-07-05T00:00:00",
          "2014-07-06T00:00:00",
          "2014-07-07T00:00:00",
          "2014-07-08T00:00:00",
          "2014-07-09T00:00:00",
          "2014-07-10T00:00:00",
          "2014-07-11T00:00:00",
          "2014-07-12T00:00:00",
          "2014-07-13T00:00:00",
          "2014-07-14T00:00:00",
          "2014-07-15T00:00:00",
          "2014-07-16T00:00:00",
          "2014-07-17T00:00:00",
          "2014-07-18T00:00:00",
          "2014-07-19T00:00:00",
          "2014-07-20T00:00:00",
          "2014-07-21T00:00:00",
          "2014-07-22T00:00:00",
          "2014-07-23T00:00:00",
          "2014-07-24T00:00:00",
          "2014-07-25T00:00:00",
          "2014-07-26T00:00:00",
          "2014-07-27T00:00:00",
          "2014-07-28T00:00:00",
          "2014-07-29T00:00:00",
          "2014-07-30T00:00:00",
          "2014-07-31T00:00:00",
          "2014-08-01T00:00:00",
          "2014-08-02T00:00:00",
          "2014-08-03T00:00:00",
          "2014-08-04T00:00:00",
          "2014-08-05T00:00:00",
          "2014-08-06T00:00:00",
          "2014-08-07T00:00:00",
          "2014-08-08T00:00:00",
          "2014-08-09T00:00:00",
          "2014-08-10T00:00:00",
          "2014-08-11T00:00:00",
          "2014-08-12T00:00:00",
          "2014-08-13T00:00:00",
          "2014-08-14T00:00:00",
          "2014-08-15T00:00:00",
          "2014-08-16T00:00:00",
          "2014-08-17T00:00:00",
          "2014-08-18T00:00:00",
          "2014-08-19T00:00:00",
          "2014-08-20T00:00:00",
          "2014-08-21T00:00:00",
          "2014-08-22T00:00:00",
          "2014-08-23T00:00:00",
          "2014-08-24T00:00:00",
          "2014-08-25T00:00:00",
          "2014-08-26T00:00:00",
          "2014-08-27T00:00:00",
          "2014-08-28T00:00:00",
          "2014-08-29T00:00:00",
          "2014-08-30T00:00:00",
          "2014-08-31T00:00:00",
          "2014-09-01T00:00:00",
          "2014-09-02T00:00:00",
          "2014-09-03T00:00:00",
          "2014-09-04T00:00:00",
          "2014-09-05T00:00:00",
          "2014-09-06T00:00:00",
          "2014-09-07T00:00:00",
          "2014-09-08T00:00:00",
          "2014-09-09T00:00:00",
          "2014-09-10T00:00:00",
          "2014-09-11T00:00:00",
          "2014-09-12T00:00:00",
          "2014-09-13T00:00:00",
          "2014-09-14T00:00:00",
          "2014-09-15T00:00:00",
          "2014-09-16T00:00:00",
          "2014-09-17T00:00:00",
          "2014-09-18T00:00:00",
          "2014-09-19T00:00:00",
          "2014-09-20T00:00:00",
          "2014-09-21T00:00:00",
          "2014-09-22T00:00:00",
          "2014-09-23T00:00:00",
          "2014-09-24T00:00:00",
          "2014-09-25T00:00:00",
          "2014-09-26T00:00:00",
          "2014-09-27T00:00:00",
          "2014-09-28T00:00:00",
          "2014-09-29T00:00:00",
          "2014-09-30T00:00:00",
          "2014-10-01T00:00:00",
          "2014-10-02T00:00:00",
          "2014-10-03T00:00:00",
          "2014-10-04T00:00:00",
          "2014-10-05T00:00:00",
          "2014-10-06T00:00:00",
          "2014-10-07T00:00:00",
          "2014-10-08T00:00:00",
          "2014-10-09T00:00:00",
          "2014-10-10T00:00:00",
          "2014-10-11T00:00:00",
          "2014-10-12T00:00:00",
          "2014-10-13T00:00:00",
          "2014-10-14T00:00:00",
          "2014-10-15T00:00:00",
          "2014-10-16T00:00:00",
          "2014-10-17T00:00:00",
          "2014-10-18T00:00:00",
          "2014-10-19T00:00:00",
          "2014-10-20T00:00:00",
          "2014-10-21T00:00:00",
          "2014-10-22T00:00:00",
          "2014-10-23T00:00:00",
          "2014-10-24T00:00:00",
          "2014-10-25T00:00:00",
          "2014-10-26T00:00:00",
          "2014-10-27T00:00:00",
          "2014-10-28T00:00:00",
          "2014-10-29T00:00:00",
          "2014-10-30T00:00:00",
          "2014-10-31T00:00:00",
          "2014-11-01T00:00:00",
          "2014-11-02T00:00:00",
          "2014-11-03T00:00:00",
          "2014-11-04T00:00:00",
          "2014-11-05T00:00:00",
          "2014-11-06T00:00:00",
          "2014-11-07T00:00:00",
          "2014-11-08T00:00:00",
          "2014-11-09T00:00:00",
          "2014-11-10T00:00:00",
          "2014-11-11T00:00:00",
          "2014-11-12T00:00:00",
          "2014-11-13T00:00:00",
          "2014-11-14T00:00:00",
          "2014-11-15T00:00:00",
          "2014-11-16T00:00:00",
          "2014-11-17T00:00:00",
          "2014-11-18T00:00:00",
          "2014-11-19T00:00:00",
          "2014-11-20T00:00:00",
          "2014-11-21T00:00:00",
          "2014-11-22T00:00:00",
          "2014-11-23T00:00:00",
          "2014-11-24T00:00:00",
          "2014-11-25T00:00:00",
          "2014-11-26T00:00:00",
          "2014-11-27T00:00:00",
          "2014-11-28T00:00:00",
          "2014-11-29T00:00:00",
          "2014-11-30T00:00:00",
          "2014-12-01T00:00:00",
          "2014-12-02T00:00:00",
          "2014-12-03T00:00:00",
          "2014-12-04T00:00:00",
          "2014-12-05T00:00:00",
          "2014-12-06T00:00:00",
          "2014-12-07T00:00:00",
          "2014-12-08T00:00:00",
          "2014-12-09T00:00:00",
          "2014-12-10T00:00:00",
          "2014-12-11T00:00:00",
          "2014-12-12T00:00:00",
          "2014-12-13T00:00:00",
          "2014-12-14T00:00:00",
          "2014-12-15T00:00:00",
          "2014-12-16T00:00:00",
          "2014-12-17T00:00:00",
          "2014-12-18T00:00:00",
          "2014-12-19T00:00:00",
          "2014-12-20T00:00:00",
          "2014-12-21T00:00:00",
          "2014-12-22T00:00:00",
          "2014-12-23T00:00:00",
          "2014-12-24T00:00:00",
          "2014-12-25T00:00:00",
          "2014-12-26T00:00:00",
          "2014-12-27T00:00:00",
          "2014-12-28T00:00:00",
          "2014-12-29T00:00:00",
          "2014-12-30T00:00:00",
          "2014-12-31T00:00:00",
          "2015-01-01T00:00:00",
          "2015-01-02T00:00:00",
          "2015-01-03T00:00:00",
          "2015-01-04T00:00:00",
          "2015-01-05T00:00:00",
          "2015-01-06T00:00:00",
          "2015-01-07T00:00:00",
          "2015-01-08T00:00:00",
          "2015-01-09T00:00:00",
          "2015-01-10T00:00:00",
          "2015-01-11T00:00:00",
          "2015-01-12T00:00:00",
          "2015-01-13T00:00:00",
          "2015-01-14T00:00:00",
          "2015-01-15T00:00:00",
          "2015-01-16T00:00:00",
          "2015-01-17T00:00:00",
          "2015-01-18T00:00:00",
          "2015-01-19T00:00:00",
          "2015-01-20T00:00:00",
          "2015-01-21T00:00:00",
          "2015-01-22T00:00:00",
          "2015-01-23T00:00:00",
          "2015-01-24T00:00:00",
          "2015-01-25T00:00:00",
          "2015-01-26T00:00:00",
          "2015-01-27T00:00:00",
          "2015-01-28T00:00:00",
          "2015-01-29T00:00:00",
          "2015-01-30T00:00:00",
          "2015-01-31T00:00:00"
         ],
         "xaxis": "x",
         "y": [
          0.7926044499229263,
          0.7802085234614523,
          0.7830995720497584,
          0.7813144708089468,
          0.7811896489770113,
          0.7909551945569816,
          0.7960570788351724,
          0.7921437233769021,
          0.7943150340224674,
          0.7960302602638275,
          0.7982164017455095,
          0.7998799173098696,
          0.8038497996212651,
          0.8063288588513512,
          0.8090455776402589,
          0.808288525434922,
          0.8056714998712932,
          0.8087871356641693,
          0.8084705856519994,
          0.8110618750153872,
          0.8140234785010386,
          0.8192706651273783,
          0.8272074996768428,
          0.8300262661424166,
          0.8376725140738903,
          0.8413533249574934,
          0.848260095384193,
          0.8535387004615971,
          0.8591676553997841,
          0.8613484430568245,
          0.8636066052947191,
          0.8671701176472187,
          0.8779078863013999,
          0.8820633144071001,
          0.8827706888841896,
          0.88602335010666,
          0.8834846961531004,
          0.8840595596484287,
          0.8903592879391264,
          0.8966105365715893,
          0.8982434006460386,
          0.8992759547927267,
          0.9008011557905182,
          0.9025254124810624,
          0.9042229289962244,
          0.9046998765674463,
          0.9049607914077444,
          0.9033315156922486,
          0.9015823092948914,
          0.8987447765229076,
          0.8977461419384622,
          0.896158762884354,
          0.8928603609659806,
          0.8888580626037289,
          0.883209850126601,
          0.8761603337743873,
          0.87300434061296,
          0.8691219104604458,
          0.864209413393407,
          0.8590087179397232,
          0.8579397093040786,
          0.85628737223557,
          0.8555903643583991,
          0.8546113335210835,
          0.858086480568286,
          0.8604896013128116,
          0.861332595654935,
          0.8615731023976801,
          0.8626180288894476,
          0.8646624434985403,
          0.865068809162394,
          0.8639617825896418,
          0.8566815351342938,
          0.8539267564068463,
          0.8493599422311413,
          0.8369810543912805,
          0.8258354662401299,
          0.8235389570175389,
          0.8187721298502562,
          0.8166809332556166,
          0.816589251478156,
          0.8133010595382808,
          0.8141789954053137,
          0.8154620715159537,
          0.8209969578272033,
          0.8261989020117575,
          0.8340798010209911,
          0.8400255198432109,
          0.8411313124066171,
          0.8433895167852922,
          0.847505308830094,
          0.8480296375249835,
          0.8471365283166787,
          0.8509533181472769,
          0.8515834676039745,
          0.8450883678518799,
          0.8448800751973367,
          0.84884068079117,
          0.8507112661967148,
          0.8509172853359295,
          0.8455241043458797,
          0.8472752100719475,
          0.8463339609673464,
          0.8486296131576598,
          0.8508544488290841,
          0.8450524585359052,
          0.8464627528319485,
          0.8500012666979908,
          0.8506561912752746,
          0.8539020166113666,
          0.8515603676384175,
          0.8472067695351049,
          0.8412802872776295,
          0.8312644006452029,
          0.8213760637122622,
          0.8131055668619029,
          0.8042748487077895,
          0.7963834971712039,
          0.7880188712757025,
          0.7814739703870642,
          0.7749920335034388,
          0.7674275450842383,
          0.7604725844138411,
          0.7541848730929802,
          0.7491868850088133,
          0.7434292025122988,
          0.7393453729227745,
          0.7356529558412145,
          0.7322501126839072,
          0.7296907517803598,
          0.7264264989212985,
          0.7241098689330419,
          0.7227867412967147,
          0.720986731202205,
          0.7195161436546428,
          0.7164979749612163,
          0.7128813282573895,
          0.7069986764659931,
          0.7027025812563517,
          0.6998585652331465,
          0.6984152834717425,
          0.6959313055365176,
          0.6940179004970842,
          0.6945108120627378,
          0.6948062866771586,
          0.6964833640341342,
          0.6975187491502569,
          0.6995244502088456,
          0.6991799214250718,
          0.6980259900087357,
          0.6979906945388169,
          0.6969293448296905,
          0.6960488695238295,
          0.6953685400544509,
          0.6935741723406281,
          0.6933618731883456,
          0.6925841853483594,
          0.6920193277252895,
          0.6909124557984767,
          0.6908557485561837,
          0.6902528074222076,
          0.6896405419492504,
          0.6887076323664797,
          0.689207856121046,
          0.688263152125279,
          0.6876860335262024,
          0.6859098732167072,
          0.6839823819930169,
          0.6828629033534334,
          0.6834967821131238,
          0.6824553711276221,
          0.6814316035697137,
          0.6813410216858757,
          0.6806133069769708,
          0.6792010302919328,
          0.6780108246118288,
          0.6770059548075751,
          0.6752217161369193,
          0.6745540957107846,
          0.6751847415927189,
          0.6739354217100773,
          0.6727867987402634,
          0.6731345673281737,
          0.6733470780421936,
          0.6714827442058577,
          0.672728899675055,
          0.6736995109500866,
          0.675203293846493,
          0.6762607320406654,
          0.6777243358742165,
          0.6760065524228347,
          0.6722373488476533,
          0.6706741602081662,
          0.6677491783477445,
          0.6656864836000778,
          0.6641434912754912,
          0.6639829301989916,
          0.6634548503993883,
          0.6631378901483487,
          0.6616193505017548,
          0.6615009733796305,
          0.6618749683781896,
          0.6610120337113258,
          0.6596588508779775,
          0.659461907912189,
          0.6578818864134421,
          0.6560632844412253,
          0.6552444286012349,
          0.6527850971102033,
          0.6500193379602939,
          0.6468261315790097,
          0.6414991607166544,
          0.6337340128660515,
          0.6283126552008627,
          0.6206408253375064,
          0.6147651950247611,
          0.6075118940459064,
          0.6041210682969053,
          0.5977425049078576,
          0.5913106173720014,
          0.5855431237839871,
          0.5800489554604603,
          0.5748708281524574,
          0.5698549489832806,
          0.5637331268124598,
          0.5557434886137275,
          0.5459609273330597,
          0.5356674386669508,
          0.5257739604347383,
          0.5153745917039445,
          0.5085848181581977,
          0.5046044642250033,
          0.49626710839810745,
          0.4901954097523683,
          0.48648219733693454,
          0.48138236577711396,
          0.4782633975543788,
          0.47900734122181715,
          0.4783468925014988,
          0.47595269933907614,
          0.47643337236414657,
          0.47613155920199113,
          0.4762365226194147,
          0.47876741632701453,
          0.479513562934211,
          0.482257103921359,
          0.48297839767123013,
          0.4818329265218616,
          0.48281396259595677,
          0.48255830698185764,
          0.48397577056403324,
          0.48404326917320073,
          0.4812207009896239,
          0.48140408114101196,
          0.4826862245979473,
          0.4823968756187471,
          0.4827822588765609,
          0.484462172311075,
          0.4857942546150382,
          0.48718324329270085,
          0.4865088339907077,
          0.4862086662832984,
          0.4868785750685274,
          0.4864236177820539,
          0.48756469927314133,
          0.4878970464046737,
          0.48811664480373296,
          0.48737323779580444,
          0.4850168628281995,
          0.4817833964510286,
          0.4800451430982606,
          0.4781325140957203,
          0.4770029038867883,
          0.47555956678213385,
          0.47435573590946056,
          0.4714910987502995,
          0.4702915927533373,
          0.4713035246992579,
          0.4719645919781924,
          0.4730037097890312,
          0.47267445526354906,
          0.4714015224811565,
          0.470642462124814,
          0.47146273853410303,
          0.4687804618269513,
          0.46764345287019593,
          0.4664297159853552,
          0.4683550248036561,
          0.47218567192412847,
          0.4722531824910999,
          0.47382262704455,
          0.47586639497332905,
          0.4759305217968313,
          0.47603824098660624,
          0.47528671594645155,
          0.47678659257894696,
          0.47664511188315606,
          0.47518247217657117,
          0.4747729046815522,
          0.4756651714427858,
          0.4771688141514093,
          0.47639993255636365,
          0.47517735746389317,
          0.4764275226687875,
          0.4775920475805458,
          0.47853794076728207,
          0.47640318323460706,
          0.4773970488485601,
          0.4790414774267651,
          0.4790901924983834,
          0.4810161666450059,
          0.4818683792274633,
          0.48409720460872363,
          0.48549742483206915,
          0.4851838623453773,
          0.4851545719687751,
          0.48818989288773856,
          0.4901758124551404,
          0.4905450190344869,
          0.4880729659457846,
          0.4883362077398744,
          0.4883028650257665,
          0.48568928974223424,
          0.48209512025139883,
          0.48364462849894413,
          0.4831356682362,
          0.4853914693728306,
          0.4862209900335313,
          0.48644146692858936,
          0.48917249350606884,
          0.4893588910391735,
          0.49012834212981027,
          0.49157340255361337,
          0.49351504926572465,
          0.494635351470703,
          0.492937562584951,
          0.4934580804572655,
          0.49289225067396,
          0.4952922559410049,
          0.4963485188596478,
          0.4961396125956909,
          0.495257038251668,
          0.4931863972726993,
          0.49255183873315667,
          0.4945197462933026,
          0.49732172799841123,
          0.4964654976689166,
          0.4963705337740733,
          0.4983420959192414,
          0.49877291622458975,
          0.49991436482531887,
          0.49890684699515747,
          0.500033843247113,
          0.49902704685057303
         ],
         "yaxis": "y"
        }
       ],
       "layout": {
        "annotations": [
         {
          "font": {
           "size": 18
          },
          "showarrow": false,
          "text": "A",
          "textangle": 0,
          "x": "2014-06-01",
          "xref": "x",
          "y": 1.045,
          "yref": "paper"
         },
         {
          "font": {
           "size": 18
          },
          "showarrow": false,
          "text": "B",
          "textangle": 0,
          "x": "2014-09-01",
          "xref": "x",
          "y": 1.045,
          "yref": "paper"
         }
        ],
        "barmode": "overlay",
        "font": {
         "size": 13
        },
        "height": 600,
        "legend": {
         "borderwidth": 0.5,
         "orientation": "h",
         "x": 0.5,
         "xanchor": "center"
        },
        "plot_bgcolor": "#E8E8EA",
        "shapes": [
         {
          "line": {
           "color": "black",
           "dash": "dot"
          },
          "type": "line",
          "x0": "2014-06-01",
          "x1": "2014-06-01",
          "xref": "x",
          "y0": 0,
          "y1": 1,
          "yref": "paper"
         },
         {
          "line": {
           "color": "black",
           "dash": "dot"
          },
          "type": "line",
          "x0": "2014-09-01",
          "x1": "2014-09-01",
          "xref": "x",
          "y0": 0,
          "y1": 1,
          "yref": "paper"
         }
        ],
        "spikedistance": 1000,
        "template": {
         "data": {
          "bar": [
           {
            "error_x": {
             "color": "#2a3f5f"
            },
            "error_y": {
             "color": "#2a3f5f"
            },
            "marker": {
             "line": {
              "color": "#E5ECF6",
              "width": 0.5
             },
             "pattern": {
              "fillmode": "overlay",
              "size": 10,
              "solidity": 0.2
             }
            },
            "type": "bar"
           }
          ],
          "barpolar": [
           {
            "marker": {
             "line": {
              "color": "#E5ECF6",
              "width": 0.5
             },
             "pattern": {
              "fillmode": "overlay",
              "size": 10,
              "solidity": 0.2
             }
            },
            "type": "barpolar"
           }
          ],
          "carpet": [
           {
            "aaxis": {
             "endlinecolor": "#2a3f5f",
             "gridcolor": "white",
             "linecolor": "white",
             "minorgridcolor": "white",
             "startlinecolor": "#2a3f5f"
            },
            "baxis": {
             "endlinecolor": "#2a3f5f",
             "gridcolor": "white",
             "linecolor": "white",
             "minorgridcolor": "white",
             "startlinecolor": "#2a3f5f"
            },
            "type": "carpet"
           }
          ],
          "choropleth": [
           {
            "colorbar": {
             "outlinewidth": 0,
             "ticks": ""
            },
            "type": "choropleth"
           }
          ],
          "contour": [
           {
            "colorbar": {
             "outlinewidth": 0,
             "ticks": ""
            },
            "colorscale": [
             [
              0,
              "#0d0887"
             ],
             [
              0.1111111111111111,
              "#46039f"
             ],
             [
              0.2222222222222222,
              "#7201a8"
             ],
             [
              0.3333333333333333,
              "#9c179e"
             ],
             [
              0.4444444444444444,
              "#bd3786"
             ],
             [
              0.5555555555555556,
              "#d8576b"
             ],
             [
              0.6666666666666666,
              "#ed7953"
             ],
             [
              0.7777777777777778,
              "#fb9f3a"
             ],
             [
              0.8888888888888888,
              "#fdca26"
             ],
             [
              1,
              "#f0f921"
             ]
            ],
            "type": "contour"
           }
          ],
          "contourcarpet": [
           {
            "colorbar": {
             "outlinewidth": 0,
             "ticks": ""
            },
            "type": "contourcarpet"
           }
          ],
          "heatmap": [
           {
            "colorbar": {
             "outlinewidth": 0,
             "ticks": ""
            },
            "colorscale": [
             [
              0,
              "#0d0887"
             ],
             [
              0.1111111111111111,
              "#46039f"
             ],
             [
              0.2222222222222222,
              "#7201a8"
             ],
             [
              0.3333333333333333,
              "#9c179e"
             ],
             [
              0.4444444444444444,
              "#bd3786"
             ],
             [
              0.5555555555555556,
              "#d8576b"
             ],
             [
              0.6666666666666666,
              "#ed7953"
             ],
             [
              0.7777777777777778,
              "#fb9f3a"
             ],
             [
              0.8888888888888888,
              "#fdca26"
             ],
             [
              1,
              "#f0f921"
             ]
            ],
            "type": "heatmap"
           }
          ],
          "heatmapgl": [
           {
            "colorbar": {
             "outlinewidth": 0,
             "ticks": ""
            },
            "colorscale": [
             [
              0,
              "#0d0887"
             ],
             [
              0.1111111111111111,
              "#46039f"
             ],
             [
              0.2222222222222222,
              "#7201a8"
             ],
             [
              0.3333333333333333,
              "#9c179e"
             ],
             [
              0.4444444444444444,
              "#bd3786"
             ],
             [
              0.5555555555555556,
              "#d8576b"
             ],
             [
              0.6666666666666666,
              "#ed7953"
             ],
             [
              0.7777777777777778,
              "#fb9f3a"
             ],
             [
              0.8888888888888888,
              "#fdca26"
             ],
             [
              1,
              "#f0f921"
             ]
            ],
            "type": "heatmapgl"
           }
          ],
          "histogram": [
           {
            "marker": {
             "pattern": {
              "fillmode": "overlay",
              "size": 10,
              "solidity": 0.2
             }
            },
            "type": "histogram"
           }
          ],
          "histogram2d": [
           {
            "colorbar": {
             "outlinewidth": 0,
             "ticks": ""
            },
            "colorscale": [
             [
              0,
              "#0d0887"
             ],
             [
              0.1111111111111111,
              "#46039f"
             ],
             [
              0.2222222222222222,
              "#7201a8"
             ],
             [
              0.3333333333333333,
              "#9c179e"
             ],
             [
              0.4444444444444444,
              "#bd3786"
             ],
             [
              0.5555555555555556,
              "#d8576b"
             ],
             [
              0.6666666666666666,
              "#ed7953"
             ],
             [
              0.7777777777777778,
              "#fb9f3a"
             ],
             [
              0.8888888888888888,
              "#fdca26"
             ],
             [
              1,
              "#f0f921"
             ]
            ],
            "type": "histogram2d"
           }
          ],
          "histogram2dcontour": [
           {
            "colorbar": {
             "outlinewidth": 0,
             "ticks": ""
            },
            "colorscale": [
             [
              0,
              "#0d0887"
             ],
             [
              0.1111111111111111,
              "#46039f"
             ],
             [
              0.2222222222222222,
              "#7201a8"
             ],
             [
              0.3333333333333333,
              "#9c179e"
             ],
             [
              0.4444444444444444,
              "#bd3786"
             ],
             [
              0.5555555555555556,
              "#d8576b"
             ],
             [
              0.6666666666666666,
              "#ed7953"
             ],
             [
              0.7777777777777778,
              "#fb9f3a"
             ],
             [
              0.8888888888888888,
              "#fdca26"
             ],
             [
              1,
              "#f0f921"
             ]
            ],
            "type": "histogram2dcontour"
           }
          ],
          "mesh3d": [
           {
            "colorbar": {
             "outlinewidth": 0,
             "ticks": ""
            },
            "type": "mesh3d"
           }
          ],
          "parcoords": [
           {
            "line": {
             "colorbar": {
              "outlinewidth": 0,
              "ticks": ""
             }
            },
            "type": "parcoords"
           }
          ],
          "pie": [
           {
            "automargin": true,
            "type": "pie"
           }
          ],
          "scatter": [
           {
            "marker": {
             "colorbar": {
              "outlinewidth": 0,
              "ticks": ""
             }
            },
            "type": "scatter"
           }
          ],
          "scatter3d": [
           {
            "line": {
             "colorbar": {
              "outlinewidth": 0,
              "ticks": ""
             }
            },
            "marker": {
             "colorbar": {
              "outlinewidth": 0,
              "ticks": ""
             }
            },
            "type": "scatter3d"
           }
          ],
          "scattercarpet": [
           {
            "marker": {
             "colorbar": {
              "outlinewidth": 0,
              "ticks": ""
             }
            },
            "type": "scattercarpet"
           }
          ],
          "scattergeo": [
           {
            "marker": {
             "colorbar": {
              "outlinewidth": 0,
              "ticks": ""
             }
            },
            "type": "scattergeo"
           }
          ],
          "scattergl": [
           {
            "marker": {
             "colorbar": {
              "outlinewidth": 0,
              "ticks": ""
             }
            },
            "type": "scattergl"
           }
          ],
          "scattermapbox": [
           {
            "marker": {
             "colorbar": {
              "outlinewidth": 0,
              "ticks": ""
             }
            },
            "type": "scattermapbox"
           }
          ],
          "scatterpolar": [
           {
            "marker": {
             "colorbar": {
              "outlinewidth": 0,
              "ticks": ""
             }
            },
            "type": "scatterpolar"
           }
          ],
          "scatterpolargl": [
           {
            "marker": {
             "colorbar": {
              "outlinewidth": 0,
              "ticks": ""
             }
            },
            "type": "scatterpolargl"
           }
          ],
          "scatterternary": [
           {
            "marker": {
             "colorbar": {
              "outlinewidth": 0,
              "ticks": ""
             }
            },
            "type": "scatterternary"
           }
          ],
          "surface": [
           {
            "colorbar": {
             "outlinewidth": 0,
             "ticks": ""
            },
            "colorscale": [
             [
              0,
              "#0d0887"
             ],
             [
              0.1111111111111111,
              "#46039f"
             ],
             [
              0.2222222222222222,
              "#7201a8"
             ],
             [
              0.3333333333333333,
              "#9c179e"
             ],
             [
              0.4444444444444444,
              "#bd3786"
             ],
             [
              0.5555555555555556,
              "#d8576b"
             ],
             [
              0.6666666666666666,
              "#ed7953"
             ],
             [
              0.7777777777777778,
              "#fb9f3a"
             ],
             [
              0.8888888888888888,
              "#fdca26"
             ],
             [
              1,
              "#f0f921"
             ]
            ],
            "type": "surface"
           }
          ],
          "table": [
           {
            "cells": {
             "fill": {
              "color": "#EBF0F8"
             },
             "line": {
              "color": "white"
             }
            },
            "header": {
             "fill": {
              "color": "#C8D4E3"
             },
             "line": {
              "color": "white"
             }
            },
            "type": "table"
           }
          ]
         },
         "layout": {
          "annotationdefaults": {
           "arrowcolor": "#2a3f5f",
           "arrowhead": 0,
           "arrowwidth": 1
          },
          "autotypenumbers": "strict",
          "coloraxis": {
           "colorbar": {
            "outlinewidth": 0,
            "ticks": ""
           }
          },
          "colorscale": {
           "diverging": [
            [
             0,
             "#8e0152"
            ],
            [
             0.1,
             "#c51b7d"
            ],
            [
             0.2,
             "#de77ae"
            ],
            [
             0.3,
             "#f1b6da"
            ],
            [
             0.4,
             "#fde0ef"
            ],
            [
             0.5,
             "#f7f7f7"
            ],
            [
             0.6,
             "#e6f5d0"
            ],
            [
             0.7,
             "#b8e186"
            ],
            [
             0.8,
             "#7fbc41"
            ],
            [
             0.9,
             "#4d9221"
            ],
            [
             1,
             "#276419"
            ]
           ],
           "sequential": [
            [
             0,
             "#0d0887"
            ],
            [
             0.1111111111111111,
             "#46039f"
            ],
            [
             0.2222222222222222,
             "#7201a8"
            ],
            [
             0.3333333333333333,
             "#9c179e"
            ],
            [
             0.4444444444444444,
             "#bd3786"
            ],
            [
             0.5555555555555556,
             "#d8576b"
            ],
            [
             0.6666666666666666,
             "#ed7953"
            ],
            [
             0.7777777777777778,
             "#fb9f3a"
            ],
            [
             0.8888888888888888,
             "#fdca26"
            ],
            [
             1,
             "#f0f921"
            ]
           ],
           "sequentialminus": [
            [
             0,
             "#0d0887"
            ],
            [
             0.1111111111111111,
             "#46039f"
            ],
            [
             0.2222222222222222,
             "#7201a8"
            ],
            [
             0.3333333333333333,
             "#9c179e"
            ],
            [
             0.4444444444444444,
             "#bd3786"
            ],
            [
             0.5555555555555556,
             "#d8576b"
            ],
            [
             0.6666666666666666,
             "#ed7953"
            ],
            [
             0.7777777777777778,
             "#fb9f3a"
            ],
            [
             0.8888888888888888,
             "#fdca26"
            ],
            [
             1,
             "#f0f921"
            ]
           ]
          },
          "colorway": [
           "#636efa",
           "#EF553B",
           "#00cc96",
           "#ab63fa",
           "#FFA15A",
           "#19d3f3",
           "#FF6692",
           "#B6E880",
           "#FF97FF",
           "#FECB52"
          ],
          "font": {
           "color": "#2a3f5f"
          },
          "geo": {
           "bgcolor": "white",
           "lakecolor": "white",
           "landcolor": "#E5ECF6",
           "showlakes": true,
           "showland": true,
           "subunitcolor": "white"
          },
          "hoverlabel": {
           "align": "left"
          },
          "hovermode": "closest",
          "mapbox": {
           "style": "light"
          },
          "paper_bgcolor": "white",
          "plot_bgcolor": "#E5ECF6",
          "polar": {
           "angularaxis": {
            "gridcolor": "white",
            "linecolor": "white",
            "ticks": ""
           },
           "bgcolor": "#E5ECF6",
           "radialaxis": {
            "gridcolor": "white",
            "linecolor": "white",
            "ticks": ""
           }
          },
          "scene": {
           "xaxis": {
            "backgroundcolor": "#E5ECF6",
            "gridcolor": "white",
            "gridwidth": 2,
            "linecolor": "white",
            "showbackground": true,
            "ticks": "",
            "zerolinecolor": "white"
           },
           "yaxis": {
            "backgroundcolor": "#E5ECF6",
            "gridcolor": "white",
            "gridwidth": 2,
            "linecolor": "white",
            "showbackground": true,
            "ticks": "",
            "zerolinecolor": "white"
           },
           "zaxis": {
            "backgroundcolor": "#E5ECF6",
            "gridcolor": "white",
            "gridwidth": 2,
            "linecolor": "white",
            "showbackground": true,
            "ticks": "",
            "zerolinecolor": "white"
           }
          },
          "shapedefaults": {
           "line": {
            "color": "#2a3f5f"
           }
          },
          "ternary": {
           "aaxis": {
            "gridcolor": "white",
            "linecolor": "white",
            "ticks": ""
           },
           "baxis": {
            "gridcolor": "white",
            "linecolor": "white",
            "ticks": ""
           },
           "bgcolor": "#E5ECF6",
           "caxis": {
            "gridcolor": "white",
            "linecolor": "white",
            "ticks": ""
           }
          },
          "title": {
           "x": 0.05
          },
          "xaxis": {
           "automargin": true,
           "gridcolor": "white",
           "linecolor": "white",
           "ticks": "",
           "title": {
            "standoff": 15
           },
           "zerolinecolor": "white",
           "zerolinewidth": 2
          },
          "yaxis": {
           "automargin": true,
           "gridcolor": "white",
           "linecolor": "white",
           "ticks": "",
           "title": {
            "standoff": 15
           },
           "zerolinecolor": "white",
           "zerolinewidth": 2
          }
         }
        },
        "xaxis": {
         "anchor": "y",
         "domain": [
          0,
          1
         ],
         "dtick": "M1",
         "matches": "x2",
         "range": [
          "2014-03-01",
          "2015-01-01"
         ],
         "showspikes": true,
         "showticklabels": false,
         "spikecolor": "black",
         "spikemode": "across",
         "spikesnap": "cursor",
         "spikethickness": 1,
         "tickformat": "%Y-%m-%d",
         "tickmode": "linear"
        },
        "xaxis2": {
         "anchor": "y2",
         "domain": [
          0,
          1
         ],
         "dtick": "M1",
         "range": [
          "2014-03-01",
          "2015-01-01"
         ],
         "showspikes": true,
         "spikecolor": "black",
         "spikemode": "across",
         "spikesnap": "cursor",
         "spikethickness": 1,
         "tickformat": "%Y-%m-%d",
         "tickmode": "linear"
        },
        "xaxis3": {
         "dtick": "M1",
         "tickformat": "%Y-%m-%d",
         "tickmode": "linear"
        },
        "yaxis": {
         "anchor": "x",
         "domain": [
          0.5125,
          1
         ],
         "range": [
          0.4,
          1
         ],
         "title": {
          "text": "AUROC (Pneumonia)"
         }
        },
        "yaxis2": {
         "anchor": "x2",
         "domain": [
          0,
          0.4875
         ],
         "range": [
          -10,
          1
         ],
         "title": {
          "text": "$MMC_w$"
         }
        }
       }
      }
     },
     "metadata": {},
     "output_type": "display_data"
    }
   ],
   "source": [
    "\n",
    "fh = FigureHelper(x)\n",
    "\n",
    "\n",
    "row=1\n",
    "for name, score_unify in perf_graphs.items():\n",
    "    fh.add_trace(y=smooth(score_unify[\"yp\"], span=7), \n",
    "                 yu=smooth(score_unify[\"yp\"]+score_unify[\"ye\"], span=7),\n",
    "                 yl=smooth(score_unify[\"yp\"]-score_unify[\"ye\"], span=7), name=name, connectgaps=False, row=row, col=1)\n",
    "\n",
    "row=2\n",
    "for name, score_unify in score_graphs_mega.items():\n",
    "    fh.add_trace(y=smooth(score_unify, span=7), name=name, connectgaps=False, row=row, col=1)\n",
    "    \n",
    "    \n",
    "# row += 1\n",
    "# for name, score_unify in vae_graphs.items():\n",
    "#     fh.add_trace(y=smooth(score_unify, span=7), name=name, connectgaps=False, row=row, col=1)\n",
    "\n",
    "\n",
    "\n",
    "fig = fh.make_fig(shared_xaxes=True, vertical_spacing=0.025, row_heights=[.2]*row)\n",
    "\n",
    "add_dates(fig, dates, line_y=1.045, include_date=False)\n",
    "\n",
    "fig.update_xaxes(showspikes=True, spikecolor=\"black\", spikesnap=\"cursor\", spikemode=\"across\", spikethickness=1)\n",
    "fig.update_layout(spikedistance=1000)\n",
    "fig.update_layout(height=300*row)\n",
    "fig.update_layout(legend={\"x\": .5, \"orientation\":\"h\", \"borderwidth\": .5, \"xanchor\": \"center\",})\n",
    "fig.update_xaxes(range=[graph_start, graph_end])\n",
    "fig.update_layout(yaxis1=dict(range=[0.4, 1], title=f\"AUROC ({DriftFromRun.performance_col[1].title()})\"),\n",
    "                  yaxis2=dict(range=[-10, 1], title=\"$MMC_w$\"))\n",
    "fig.update_layout(barmode='overlay')\n",
    "fig.update_layout(font=dict(size=13))\n",
    "fig.update_layout(plot_bgcolor=\"#E8E8EA\")\n",
    "\n",
    "# fig.update_layout(\n",
    "#     yaxis2 = dict(\n",
    "#         tickmode = 'linear',\n",
    "#         tick0 = 0,\n",
    "#         dtick = 25,\n",
    "#     )\n",
    "# )\n",
    "\n",
    "xaxis = dict(\n",
    "        tickformat = '%Y-%m-%d',\n",
    "        tickmode = 'linear',\n",
    "        dtick = \"M1\"\n",
    "    )\n",
    "fig.update_layout(\n",
    "    xaxis1=xaxis,\n",
    "    xaxis2=xaxis,\n",
    "    xaxis3 = xaxis,\n",
    ")\n",
    "\n",
    "fig.show()"
   ]
  },
  {
   "cell_type": "code",
   "execution_count": 31,
   "metadata": {},
   "outputs": [
    {
     "name": "stdout",
     "output_type": "stream",
     "text": [
      "D:\\Code\\MLOpsDay2\\MedImaging-ModelDriftMonitoring\\html\\paper\\graphs\\peds_distance.svg\n"
     ]
    },
    {
     "data": {
      "text/html": [
       "<img src=\"..\\..\\html\\paper\\graphs\\peds_distance.svg\" />"
      ],
      "text/plain": [
       "<IPython.core.display.HTML object>"
      ]
     },
     "metadata": {},
     "output_type": "display_data"
    }
   ],
   "source": [
    "import plotly.io as pio\n",
    "\n",
    "html_top_dir = settings.TOP_DIR.joinpath(\"html\", \"paper\", 'graphs')\n",
    "html_top_dir.mkdir(exist_ok=True, parents=True)\n",
    "\n",
    "fname = html_top_dir.joinpath(figure_name+\".svg\")\n",
    "pio.write_image(fig, fname, scale=1, width=5*300, height=2*300)\n",
    "print(fname)\n",
    "\n",
    "relfname = os.path.relpath(str(fname), os.getcwd())\n",
    "display(HTML(f\"\"\"<img src=\"{relfname}\" />\"\"\"))"
   ]
  },
  {
   "cell_type": "code",
   "execution_count": 45,
   "metadata": {},
   "outputs": [
    {
     "ename": "RuntimeError",
     "evalue": "No active exception to reraise",
     "output_type": "error",
     "traceback": [
      "\u001b[1;31m---------------------------------------------------------------------------\u001b[0m",
      "\u001b[1;31mRuntimeError\u001b[0m                              Traceback (most recent call last)",
      "\u001b[1;32m~\\AppData\\Local\\Temp/ipykernel_19000/2235509928.py\u001b[0m in \u001b[0;36m<module>\u001b[1;34m\u001b[0m\n\u001b[1;32m----> 1\u001b[1;33m \u001b[1;32mraise\u001b[0m\u001b[1;33m\u001b[0m\u001b[1;33m\u001b[0m\u001b[0m\n\u001b[0m",
      "\u001b[1;31mRuntimeError\u001b[0m: No active exception to reraise"
     ]
    }
   ],
   "source": [
    "raise"
   ]
  },
  {
   "cell_type": "code",
   "execution_count": null,
   "metadata": {},
   "outputs": [],
   "source": [
    "\n",
    "output_file_path = settings.TOP_DIR.joinpath('results', 'drift', name+\".csv\")\n",
    "fname = str(output_file_path)\n",
    "r.download_file(\"outputs/output.csv\", output_file_path=output_file_path)\n",
    "# # Settings to file CSV file\n",
    "\n",
    "# display_args = [\"span\", \"which\", \"clip\", \"standardize_perf\", \"shift_drift_to_perf\", \"performance_col\", \"this_center\", \"this_range\", \"standardize_dates\", \"stat\", \"add_error_bars\"]\n",
    "d = locals()\n",
    "display_args = {k: d[k] for k in display_args if k in d}\n",
    "\n",
    "print(display_args)\n",
    "\n",
    "\n",
    "if not os.path.exists(fname):\n",
    "    raise ValueError(\"no fn\")\n",
    "\n",
    "combined_df_o = pd.read_csv(str(fname), index_col=0, header=[0, 1, 2, 3])\n",
    "combined_df_o.index = pd.to_datetime(combined_df_o.index)\n",
    "\n",
    "flip = column_xs(combined_df_o, include=[\"pval\"])\n",
    "combined_df_o[flip] = 1-combined_df_o[flip]\n",
    "combined_df = combined_df_o.copy()\n",
    "\n",
    "\n",
    "smooth_name = f\"ewm{span}\"\n",
    "\n",
    "error_df = combined_df.swaplevel(0, -1, axis=1)[[\"std\"]].swaplevel(0, -1, axis=1).droplevel(-1, axis=1).copy()\n",
    "combined_df = combined_df.swaplevel(0, -1, axis=1)[[which]].swaplevel(0, -1, axis=1).droplevel(-1, axis=1).copy()\n",
    "\n",
    "html_dir = html_top_dir.joinpath(name)\n",
    "perf_col_name = '-'.join(performance_col)\n",
    "\n",
    "if not os.path.exists(html_dir):\n",
    "    os.makedirs(html_dir)\n",
    "\n",
    "stat_str = '+'.join(stat)\n",
    "fn = f\"{html_dir}/{which}_{stat_str}_stdclip{clip}_smooth-{smooth_name}_{perf_col_name}.html\"\n",
    "\n",
    "print(\"output:\", fn)\n",
    "def is_arg_col(c):\n",
    "    if \"mlflow\" in c or \"_aml\" in c or 'run_' in c or 'url' in c:\n",
    "        return False\n",
    "\n",
    "    ignore = [\"output_dir\", \"input_dir\", 'run', 'display_name', 'id']\n",
    "    return c not in ignore\n",
    "\n",
    "arg_row = run_row[arg_cols].copy()\n",
    "display_row = pd.Series(display_args)\n",
    "params = pd.concat({'Drift': arg_row, \"Display\": display_row}, axis=0).rename(\"Value\").to_frame()\n",
    "\n",
    "if write_html:\n",
    "    with open(fn, 'w') as f:\n",
    "        print(\"\"\"\n",
    "            <style>\n",
    "            table {\n",
    "            font-family: arial, sans-serif;\n",
    "            border-collapse: collapse;\n",
    "            width: 80%;\n",
    "            }\n",
    "\n",
    "            td, th {\n",
    "            border: 1px solid #dddddd;\n",
    "            text-align: left;\n",
    "            padding: 8px;\n",
    "            }\n",
    "\n",
    "            tr:nth-child(even) {\n",
    "            background-color: #dddddd;\n",
    "            }\n",
    "            </style>\n",
    "        \"\"\", file=f)\n",
    "        print(f\"\"\"\n",
    "            <h1>Drift report</h1> created: {datetime.datetime.now()}\n",
    "            <br /><br />\n",
    "            <h2>Arguments </h2>\n",
    "            {params.to_html()}\n",
    "            \"\"\", file=f)\n",
    "\n",
    "def shift_to_other(this, other, this_range=None, this_center=None):\n",
    "    u = other.mean()\n",
    "    r = other.std()#other.max()-other.min()\n",
    "\n",
    "    if this_range is None:\n",
    "        this_range = this.std()#this.max()-this.min()\n",
    "\n",
    "    if this_center is None:\n",
    "        this_center = this.mean()\n",
    "    return (this-this_center)/(this_range)*r+u\n",
    "\n",
    "perf_col = performance_col\n",
    "perf_df = combined_df[perf_col]\n",
    "\n",
    "\n",
    "other_cols = column_xs(combined_df, exclude=['performance', 'count'])\n",
    "other_df = combined_df[other_cols]\n",
    "\n",
    "\n",
    "cxs = column_xs(other_df, include=stat)\n",
    "\n",
    "\n",
    "stats = pd.concat([other_df[cxs].dropna(axis=1), extra_valids[cxs].dropna(axis=1)], axis=0).sort_index()\n",
    "stats = stats.loc[standardize_ix]\n",
    "stats = stats.agg([\"mean\", \"std\"])\n",
    "\n",
    "\n",
    "stats.T\n",
    "\n",
    "otherstd = other_df[cxs].copy()\n",
    "\n",
    "# cannot divide by zero\n",
    "std0 = stats.loc['std'] == 0\n",
    "stats.loc[\"std\", stats.loc['std'] == 0] = 1\n",
    "otherstd = (otherstd-stats.loc['mean'])/(stats.loc[\"std\"])\n",
    "errorstd = (error_df[cxs]-stats.loc['mean'])/(stats.loc[\"std\"])\n",
    "bad_cols = otherstd.columns[otherstd.isnull().max(axis=0)].tolist()\n",
    "\n",
    "print(bad_cols)\n",
    "\n",
    "vae_cols = [c for c in list(otherstd) if \"mu.\" in c[0]]\n",
    "score_cols = [c for c in list(otherstd) if \"activation.\" in c[0]]\n",
    "metadata_cols = sorted(set(otherstd).difference(vae_cols).difference(score_cols))\n",
    "\n",
    "if clip is not None:\n",
    "  otherstd = otherstd.clip(-1*clip, clip)"
   ]
  },
  {
   "cell_type": "code",
   "execution_count": null,
   "metadata": {},
   "outputs": [],
   "source": [
    "x = pd.date_range(combined_df.index.min(), combined_df.index.max())\n",
    "\n",
    "\n",
    "yp = combined_df[perf_col].reindex(x)\n",
    "perf_error_df = error_df[perf_col].reindex(x)\n",
    "\n",
    "all_corr_df = correlate_performance(yp.rename('auroc'), otherstd)\n",
    "all_ig_df = mutual_info_performance(yp.rename('auroc'), otherstd, bins=25)\n",
    "m_ = all_ig_df.to_frame().join(all_corr_df.abs().rename('abs(corr)'))\n",
    "m_ = m_.join(m_.mean(axis=1).rename('mean[abs(corr),info_gain]'))\n",
    "m_ = m_.assign(no_weights=1)\n",
    "m_ = m_.fillna(0)\n",
    "\n",
    "true_counts = combined_df_o['count'].droplevel([0, 1], axis=1)['obs']\n",
    "count_df = combined_df['count'].reindex(x)\n",
    "\n",
    "\n",
    "dates = {\"Laterals Injected\": run_row['nonfrontal_add_date'],\n",
    "         \"Frontals Removed\": run_row['frontal_remove_date'],\n",
    "         \"Peds Added\": run_row['peds_start_date'],\n",
    "         \"Peds Stop\": run_row['peds_end_date'],\n",
    "         \"Val Start\": settings.PADCHEST_SPLIT_DATES[0],\n",
    "        #  \"Test Start\": settings.PADCHEST_SPLIT_DATES[1],\n",
    "         }\n",
    "\n",
    "x = x[x<graph_end]"
   ]
  },
  {
   "cell_type": "code",
   "execution_count": null,
   "metadata": {},
   "outputs": [],
   "source": [
    "weight_names = {\"no_weights\": r\"$MMC$\", \"abs(corr)\": r\"$MMC_w$\",}"
   ]
  },
  {
   "cell_type": "code",
   "execution_count": null,
   "metadata": {},
   "outputs": [],
   "source": [
    "m = m_.copy()\n",
    "\n",
    "yp = yp.reindex(x)\n",
    "otherstd = otherstd.reindex(x)\n",
    "counts = combined_df['count'].iloc[:, 0].reindex(x)\n",
    "counts2 = true_counts.reindex(x)\n",
    "\n",
    "#collect_corr(y, yp, name, when, weights_name, start_date=None, end_date=None)\n",
    "row=1\n",
    "fh = FigureHelper(x)\n",
    "fh.add_trace(y=smooth(yp), name=\"AUROC\", connectgaps=False, line={\"color\": \"blue\"}, \n",
    "             yu=smooth(yp+perf_error_df.reindex(x)), \n",
    "             yl=smooth(yp-perf_error_df.reindex(x)),\n",
    "             row=row, col=1)\n",
    "# row += 1\n",
    "# fh.add_trace(y=smooth(combined_df[congruency_measure_col]*100), row=row, name='% In-distr.', line={\"color\": \"purple\"})\n",
    "row += 1\n",
    "errorstd = errorstd[otherstd.columns]\n",
    "\n",
    "for i, (name, vname) in enumerate(weight_names.items()):\n",
    "    weights = m_[name].sort_values(ascending=False)\n",
    "    # weights = weights.iloc[:5]\n",
    "    y = -w_avg(otherstd.reindex(x), weights=weights.to_dict())\n",
    "    ystd = -w_avg(errorstd.reindex(x), weights=weights.to_dict())\n",
    "    fh.add_trace(y=smooth(y),\n",
    "                        # customdata=smooth(yo),\n",
    "                        showlegend=True, legendgroup=vname,\n",
    "                        name=vname,  \n",
    "                        connectgaps=False, row=row, col=1)\n",
    "\n",
    "# display(HTML(\"\"\"<script async=\"async\" src=\"https://cdnjs.cloudflare.com/ajax/libs/mathjax/2.7.5/latest.js?config=TeX-AMS-MML_HTMLorMML\"></script>\n",
    "#     <script type=\"text/x-mathjax-config\">MathJax.Hub.Config({\"tex2jax\": {\"inlineMath\": [[\"$\", \"$\"], [\"\\\\(\", \"\\\\)\"]], \"processEscapes\": true, \"ignoreClass\": \"document\", \"processClass\": \"math|output_area\"}})</script>\"\"\"))\n",
    "\n",
    "fig = fh.make_fig(shared_xaxes=True, vertical_spacing=0.025, row_heights=[.2]*row)\n",
    "add_dates(fig, dates, line_y=1.045, include_date=False)\n",
    "fig.update_xaxes(showspikes=True, spikecolor=\"black\", spikesnap=\"cursor\", spikemode=\"across\", spikethickness=1)\n",
    "fig.update_layout(spikedistance=1000)\n",
    "fig.update_layout(height=200*row)\n",
    "fig.update_layout(legend={\"x\": .35, \"orientation\":\"h\", \"borderwidth\": .5})\n",
    "fig.update_xaxes(range=[graph_start, graph_end])\n",
    "fig.update_layout(barmode='overlay')\n",
    "fig.update_layout(font=dict(size=13))\n",
    "fig.update_layout(plot_bgcolor=\"#E8E8EA\")\n",
    "\n",
    "fig.update_layout(\n",
    "    yaxis2 = dict(\n",
    "        tickmode = 'linear',\n",
    "        tick0 = 0,\n",
    "        dtick = 25,\n",
    "    )\n",
    ")\n",
    "\n",
    "xaxis = dict(\n",
    "        tickformat = '%Y-%m-%d',\n",
    "        tickmode = 'linear',\n",
    "        dtick = \"M1\"\n",
    "    )\n",
    "fig.update_layout(\n",
    "    xaxis1=xaxis,\n",
    "    xaxis2=xaxis,\n",
    "    xaxis3 = xaxis,\n",
    ")\n",
    "\n",
    "fig.show()\n"
   ]
  },
  {
   "cell_type": "code",
   "execution_count": null,
   "metadata": {},
   "outputs": [],
   "source": [
    "import plotly.io as pio\n",
    "\n",
    "fname = html_top_dir.joinpath(verbose_name+'.svg')\n",
    "pio.write_image(fig, html_top_dir.joinpath(verbose_name+'.svg'), scale=1, width=5*300, height=2*300)\n",
    "fname"
   ]
  },
  {
   "cell_type": "code",
   "execution_count": null,
   "metadata": {},
   "outputs": [],
   "source": [
    "from pathlib import Path\n",
    "relfname = os.path.relpath(str(fname), os.getcwd())\n",
    "display(HTML(f\"\"\"<img src=\"{relfname}\" />\"\"\"))"
   ]
  },
  {
   "cell_type": "code",
   "execution_count": null,
   "metadata": {},
   "outputs": [],
   "source": [
    "!pip install -U kaleido"
   ]
  },
  {
   "cell_type": "code",
   "execution_count": null,
   "metadata": {},
   "outputs": [],
   "source": []
  },
  {
   "cell_type": "code",
   "execution_count": null,
   "metadata": {},
   "outputs": [],
   "source": [
    "raise"
   ]
  },
  {
   "cell_type": "code",
   "execution_count": null,
   "metadata": {},
   "outputs": [],
   "source": [
    "from plotly.subplots import make_subplots\n",
    "import plotly.graph_objects as go\n",
    "import plotly.express as px\n",
    "\n",
    "auroc_cols = column_xs(combined_df, ['auroc'])\n",
    "precision_cols = column_xs(combined_df, ['precision'])\n",
    "recall_cols = column_xs(combined_df, ['recall'])\n",
    "f1_cols = column_xs(combined_df, ['f1-score'])\n",
    "support_cols = column_xs(combined_df, ['support'])\n",
    "\n",
    "cols_ = [auroc_cols, recall_cols, precision_cols, f1_cols, support_cols]\n",
    "fig = make_subplots(rows=len(cols_), cols=1, shared_xaxes=True, vertical_spacing=0.01)\n",
    "\n",
    "names = sorted(set([c[1] for c in itertools.chain(*cols_)]), key=lambda x: 'avg' in x)\n",
    "colors = px.colors.qualitative.Plotly\n",
    "dashes = ['solid', 'dash', 'dotted']\n",
    "\n",
    "list(itertools.product(dashes, colors))\n",
    "\n",
    "lines = {}\n",
    "for name, spec in zip(names, itertools.product(dashes, colors)):\n",
    "    lines[name] = {'color': spec[1], 'dash': spec[0]}\n",
    "\n",
    "visited = set()\n",
    "for r, cols__ in enumerate(cols_, 1):\n",
    "    for c in cols__:\n",
    "        ypp = combined_df[c].reindex(x)\n",
    "        line = lines[c[1]]\n",
    "        showlegend = not c[1] in visited\n",
    "        visited.add(c[1])\n",
    "        fig.add_trace(go.Scatter(x=x, y=smooth(ypp), showlegend=showlegend, legendgroup=c[1],\n",
    "                name=c[1], hovertemplate=\"%{y: .5f}\", connectgaps=False, line=line), row=r, col=1)\n",
    "    fig.update_yaxes(title_text=c[-1], row=r, col=1)\n",
    "add_dates(fig, dates, 1.025)\n",
    "\n",
    "fig.update_layout(title=f\"Peformance\")\n",
    "fig.update_layout(hovermode=\"x unified\")\n",
    "fig.update_layout(height=300*len(cols_))\n",
    "fig.update_xaxes(range=[graph_start, graph_end])\n",
    "fig.update_layout(font=font)\n",
    "\n",
    "fig.show()\n",
    "\n",
    "if write_html:\n",
    "    fig_html = fig.to_html()\n",
    "    with open(fn, 'a') as f:\n",
    "        print(f\"<h2>Performance</h2>\", file=f)\n",
    "        print(fig_html, file=f)"
   ]
  },
  {
   "cell_type": "code",
   "execution_count": null,
   "metadata": {},
   "outputs": [],
   "source": [
    "fh = FigureHelper(x)\n",
    "fh.add_trace(y=smooth(yp), name=\"AUROC\", connectgaps=False, line={\"color\": \"blue\"}, yu=smooth(yp+perf_error_df), yl=smooth(yp-perf_error_df), row=1, col=1)\n",
    "fh.add_trace(y=smooth(combined_df[congruency_measure_col]), row=2, name='Data Congruency (True)')\n",
    "corrs = []\n",
    "\n",
    "if not float(run_row['peds_weight']):\n",
    "    xcols = zip([\"metadata\", \"vae\", \"score\", \"vae+score\", \"metadate+vae+score\"],  [metadata_cols, vae_cols, score_cols, vae_cols+score_cols, vae_cols+score_cols+metadata_cols])\n",
    "else:\n",
    "    xcols = zip([\"vae\", \"score\", \"vae+score\"],  [vae_cols, score_cols, vae_cols+score_cols])\n",
    "\n",
    "for row, (name_, cols) in enumerate(xcols, 1):\n",
    "    for i, name in enumerate([\"abs(corr)\"]):\n",
    "        otherstd_ = otherstd[cols]\n",
    "        weights = m[name].sort_values(ascending=False)\n",
    "        yo = -w_avg(otherstd_.loc[x], weights=weights.to_dict())\n",
    "        \n",
    "        fh.add_trace(y=smooth(yo), name=name_, line={\"width\": 1},  connectgaps=False, row=3, col=1)\n",
    "        \n",
    "        corrs.append(collect_corr(y,yo, name_, \"Everything\", name))\n",
    "        corrs.append(collect_corr(y,yo, name_, \"Validation\", name,\n",
    "                                start_date=settings.PADCHEST_SPLIT_DATES[0], end_date=settings.PADCHEST_SPLIT_DATES[1]))\n",
    "        corrs.append(collect_corr(y,yo, name_, \"Test\", name,\n",
    "                                start_date=settings.PADCHEST_SPLIT_DATES[1]))\n",
    "        corrs.append(collect_corr(y,yo, name_, \"First Year of Test\", name,\n",
    "                                start_date=settings.PADCHEST_SPLIT_DATES[1], end_date=\"2014-12-31\"))\n",
    "\n",
    "\n",
    "fig = fh.make_fig(shared_xaxes=True, vertical_spacing=0.01)\n",
    "add_dates(fig, dates, 1.08)\n",
    "\n",
    "\n",
    "fig.update_layout(title=f\"Level 1 Metrics\")\n",
    "fig.update_xaxes(showspikes=True, spikecolor=\"black\", spikesnap=\"cursor\", spikemode=\"across\", spikethickness=1)\n",
    "fig.update_layout(spikedistance=1000)\n",
    "fig.update_layout(height=600)\n",
    "fig.update_xaxes(range=[graph_start, graph_end])\n",
    "fig.update_layout(barmode='overlay')\n",
    "corr_df = pd.DataFrame(corrs).sort_values('when')\n",
    "display(corr_df)\n",
    "fig.show()\n",
    "\n",
    "fig_html = fig.to_html()\n",
    "\n",
    "if write_html:\n",
    "    with open(fn, 'a') as f:\n",
    "        print(f\"<h2>Level 1 Unified</h2>\", file=f)\n",
    "        for w, grp in corr_df.groupby('when'):\n",
    "            print(f\"<strong>{w}</strong>{grp.to_html()}\", file=f)\n",
    "        print(fig_html, file=f)\n"
   ]
  },
  {
   "cell_type": "code",
   "execution_count": null,
   "metadata": {},
   "outputs": [],
   "source": [
    "fh = FigureHelper(x, dashes=['solid', 'dot', 'dash', 'longdash', 'dashdot', 'longdashdot'])\n",
    "fh.add_trace(y=smooth(yp), name=\"AUROC\", connectgaps=False, line={\"color\": \"blue\"}, yu=smooth(yp+perf_error_df), yl=smooth(yp-perf_error_df), row=1, col=1)\n",
    "fh.add_trace(y=smooth(combined_df[congruency_measure_col]), row=2, name='Data Congruency (True)')\n",
    "corrs = []\n",
    "\n",
    "def partition(l, n):\n",
    "    return [l[i:i + n] for i in range(0, len(l), n)]\n",
    "\n",
    "cols = metadata_cols\n",
    "otherstd_ = otherstd[cols]\n",
    "cols_chi2 = column_xs(otherstd_, include='chi2')\n",
    "otherstd_ = otherstd[cols_chi2]\n",
    "cols_ = partition(cols_chi2, 12)\n",
    "print(len(cols_))\n",
    "\n",
    "for row, cols in enumerate(cols_, 3):\n",
    "    for c in cols:\n",
    "        yo = -otherstd[c]\n",
    "        fh.add_trace(y=smooth(yo), name=str(c), connectgaps=False, row=row, col=1)\n",
    "        \n",
    "        corrs.append(collect_corr(y,yo, str(c), \"Everything\", 'N/A'))\n",
    "        corrs.append(collect_corr(y,yo, str(c), \"Validation\", 'N/A',\n",
    "                                start_date=settings.PADCHEST_SPLIT_DATES[0], end_date=settings.PADCHEST_SPLIT_DATES[1]))\n",
    "        corrs.append(collect_corr(y,yo, str(c), \"Test\", 'N/A',\n",
    "                                start_date=settings.PADCHEST_SPLIT_DATES[1]))\n",
    "        corrs.append(collect_corr(y,yo, str(c), \"First Year of Test\", 'N/A',\n",
    "                                start_date=settings.PADCHEST_SPLIT_DATES[1], end_date=\"2014-12-31\"))\n",
    "\n",
    "if not float(run_row['peds_weight']):     \n",
    "    fig = fh.make_fig(shared_xaxes=True, vertical_spacing=0.01)\n",
    "    add_dates(fig, dates, 1.05)\n",
    "\n",
    "    fig.update_layout(title=f\"Metadata Categorical\")\n",
    "    fig.update_xaxes(showspikes=True, spikecolor=\"black\", spikesnap=\"cursor\", spikemode=\"across\", spikethickness=1)\n",
    "    fig.update_layout(spikedistance=1000)\n",
    "    fig.update_layout(height=200*(len(cols_)+2))\n",
    "    fig.update_xaxes(range=[graph_start, graph_end])\n",
    "    fig.update_layout(font=font)\n",
    "    fig.update_layout(barmode='overlay')\n",
    "\n",
    "    corr_df = pd.DataFrame(corrs)\n",
    "    display(corr_df)\n",
    "\n",
    "    fig.show()\n",
    "\n",
    "\n",
    "    fig_html = fig.to_html()\n",
    "    if write_html: \n",
    "        with open(fn, 'a') as f:\n",
    "            print(f\"<h2>Metadata Categorical</h2>\", file=f)\n",
    "            for w, grp in corr_df.groupby('when'):\n",
    "                print(f\"<strong>{w}</strong>{grp.to_html()}\", file=f)\n",
    "            print(fig_html, file=f)"
   ]
  },
  {
   "cell_type": "code",
   "execution_count": null,
   "metadata": {},
   "outputs": [],
   "source": [
    "fh = FigureHelper(x, dashes=['solid', 'dot', 'dash', 'longdash', 'dashdot', 'longdashdot'])\n",
    "fh.add_trace(y=smooth(yp), name=\"AUROC\", connectgaps=False, line={\"color\": \"blue\"}, yu=smooth(yp+perf_error_df), yl=smooth(yp-perf_error_df), row=1, col=1)\n",
    "fh.add_trace(y=smooth(combined_df[congruency_measure_col]), row=2, name='Data Congruency (True)')\n",
    "corrs = []\n",
    "\n",
    "def partition(l, n):\n",
    "    return [l[i:i + n] for i in range(0, len(l), n)]\n",
    "\n",
    "cols = metadata_cols\n",
    "otherstd_ = otherstd[cols]\n",
    "cols_chi2 = column_xs(otherstd_, include='ks')\n",
    "otherstd_ = otherstd[cols_chi2]\n",
    "cols_ = partition(cols_chi2, 14)\n",
    "print(len(cols_chi2))\n",
    "\n",
    "for row, cols in enumerate(cols_, 3):\n",
    "    for c in cols:\n",
    "        yo = -otherstd[c]\n",
    "        fh.add_trace(y=smooth(yo), name=str(c), connectgaps=False, row=row, col=1)\n",
    "        \n",
    "        corrs.append(collect_corr(y,yo, str(c), \"Everything\", 'N/A'))\n",
    "        corrs.append(collect_corr(y,yo, str(c), \"Validation\", 'N/A',\n",
    "                                start_date=settings.PADCHEST_SPLIT_DATES[0], end_date=settings.PADCHEST_SPLIT_DATES[1]))\n",
    "        corrs.append(collect_corr(y,yo, str(c), \"Test\", 'N/A',\n",
    "                                start_date=settings.PADCHEST_SPLIT_DATES[1]))\n",
    "        corrs.append(collect_corr(y,yo, str(c), \"First Year of Test\", 'N/A',\n",
    "                                start_date=settings.PADCHEST_SPLIT_DATES[1], end_date=\"2014-12-31\"))\n",
    "if not float(run_row['peds_weight']):\n",
    "    fig = fh.make_fig(shared_xaxes=True, vertical_spacing=0.01)\n",
    "    add_dates(fig, dates, 1.08)\n",
    "\n",
    "    fig.update_layout(title=f\"Metadata Real Valued\")\n",
    "    fig.update_xaxes(showspikes=True, spikecolor=\"black\", spikesnap=\"cursor\", spikemode=\"across\", spikethickness=1)\n",
    "    fig.update_layout(spikedistance=1000)\n",
    "    fig.update_layout(height=200*(len(cols_)+2))\n",
    "    fig.update_xaxes(range=[graph_start, graph_end])\n",
    "    fig.update_layout(font=font)\n",
    "    fig.update_layout(barmode='overlay')\n",
    "    fig.show()\n",
    "\n",
    "\n",
    "    fig_html = fig.to_html()\n",
    "    if write_html: \n",
    "        with open(fn, 'a') as f:\n",
    "            print(f\"<h2>Metadata Real Valued</h2>\", file=f)\n",
    "            for w, grp in corr_df.groupby('when'):\n",
    "                print(f\"<strong>{w}</strong>{grp.to_html()}\", file=f)\n",
    "            print(fig_html, file=f)"
   ]
  },
  {
   "cell_type": "code",
   "execution_count": null,
   "metadata": {},
   "outputs": [],
   "source": [
    "fh = FigureHelper(x, dashes=['solid', 'dot', 'dash', 'longdash', 'dashdot', 'longdashdot'])\n",
    "fh.add_trace(y=smooth(yp), name=\"AUROC\", connectgaps=False, line={\"color\": \"blue\"}, yu=smooth(yp+perf_error_df), yl=smooth(yp-perf_error_df), row=1, col=1)\n",
    "fh.add_trace(y=smooth(combined_df[congruency_measure_col]), row=2, name='Data Congruency (True)')\n",
    "corrs = []\n",
    "\n",
    "def partition(l, n):\n",
    "    return [l[i:i + n] for i in range(0, len(l), n)]\n",
    "\n",
    "\n",
    "cols = vae_cols\n",
    "o = other_df[cols].loc[settings.PADCHEST_SPLIT_DATES[1]:].swaplevel(0, 2, axis=1)[['distance']].swaplevel(0, 2, axis=1)\n",
    "colss = o.max(axis=0).sort_values(ascending=False).head(12).index.tolist()\n",
    "cols_ = partition(colss, 12)\n",
    "\n",
    "\n",
    "for row, cols in enumerate(cols_, 3):\n",
    "    for c in cols:\n",
    "        yo = -otherstd[c]\n",
    "        fh.add_trace(y=smooth(yo), name=str(c), connectgaps=False, row=row, col=1)\n",
    "        \n",
    "        corrs.append(collect_corr(y,yo, str(c), \"Everything\", 'N/A'))\n",
    "        corrs.append(collect_corr(y,yo, str(c), \"Validation\", 'N/A',\n",
    "                                start_date=settings.PADCHEST_SPLIT_DATES[0], end_date=settings.PADCHEST_SPLIT_DATES[1]))\n",
    "        corrs.append(collect_corr(y,yo, str(c), \"Test\", 'N/A',\n",
    "                                start_date=settings.PADCHEST_SPLIT_DATES[1]))\n",
    "        corrs.append(collect_corr(y,yo, str(c), \"First Year of Test\", 'N/A',\n",
    "                                start_date=settings.PADCHEST_SPLIT_DATES[1], end_date=\"2014-12-31\"))\n",
    "        \n",
    "fig = fh.make_fig(shared_xaxes=True, vertical_spacing=0.01)\n",
    "add_dates(fig, dates, 1.08)\n",
    "\n",
    "fig.update_layout(title=f\"VAE Mu (top {len(colss)})\")\n",
    "fig.update_xaxes(showspikes=True, spikecolor=\"black\", spikesnap=\"cursor\", spikemode=\"across\", spikethickness=1)\n",
    "fig.update_layout(spikedistance=1000)\n",
    "fig.update_layout(height=200*(len(cols_)+2))\n",
    "fig.update_xaxes(range=[settings.PADCHEST_SPLIT_DATES[1], graph_end])\n",
    "fig.update_layout(barmode='overlay')\n",
    "fig.update_layout(font=font)\n",
    "corr_df = pd.DataFrame(corrs).sort_values('when')\n",
    "display(corr_df)\n",
    "fig.show()\n",
    "\n",
    "\n",
    "fig_html = fig.to_html()\n",
    "if write_html: \n",
    "    with open(fn, 'a') as f:\n",
    "        print(f\"<h2>VAE Mu (top {len(colss)})</h2>\", file=f)\n",
    "        for w, grp in corr_df.groupby('when'):\n",
    "            print(f\"<strong>{w}</strong>{grp.to_html()}\", file=f)\n",
    "        print(fig_html, file=f)"
   ]
  },
  {
   "cell_type": "code",
   "execution_count": null,
   "metadata": {},
   "outputs": [],
   "source": [
    "arg_df2['Link'] = [f\"\"\"<a href=\"{name}/index.html\" disabled=>Graphs</a>\"\"\" if html_top_dir.joinpath(name).exists() else \"N/A\" for name in arg_df2.index]\n",
    "\n",
    "\n",
    "with open(html_top_dir.joinpath(\"index.html\"), 'w') as f:\n",
    "        print(\"\"\"\n",
    "            <style>\n",
    "            table {\n",
    "            font-family: arial, sans-serif;\n",
    "            border-collapse: collapse;\n",
    "            width: 80%;\n",
    "            }\n",
    "\n",
    "            td, th {\n",
    "            border: 1px solid #dddddd;\n",
    "            text-align: left;\n",
    "            padding: 8px;\n",
    "            }\n",
    "\n",
    "            tr:nth-child(even) {\n",
    "            background-color: #dddddd;\n",
    "            }\n",
    "            </style>\n",
    "        \"\"\", file=f)\n",
    "        print(f\"Generated: {datetime.datetime.now()}\", file=f)\n",
    "        print(arg_df2.to_html(escape=False), file=f)\n",
    "        print(fix_links_script, file=f)"
   ]
  },
  {
   "cell_type": "code",
   "execution_count": null,
   "metadata": {},
   "outputs": [],
   "source": [
    "def create_index_html(child):\n",
    "    if child.is_file(): return\n",
    "    html_files = []\n",
    "    html_folders = []\n",
    "    if child.parent.joinpath('index.html').exists():\n",
    "        html_folders.append(\"..\")\n",
    "    for html_file in child.iterdir():\n",
    "        n = html_file.relative_to(child)\n",
    "        if html_file.is_file() and not str(html_file).endswith('index.html'):\n",
    "            html_files.append(n)\n",
    "        elif html_file.joinpath('index.html').exists():\n",
    "            html_folders.append(n)\n",
    "    \n",
    "    \n",
    "    html = \"folders: <ul>\"\n",
    "    for n in html_folders:\n",
    "            html += f\"\"\"\n",
    "            <li><a href=\"{n}/index.html\">{n}</a></li>\n",
    "            \"\"\"\n",
    "    html += \"</ul>\"\n",
    "    html += \"files:<ul>\"\n",
    "    for n in html_files:\n",
    "            html += f\"\"\"\n",
    "            <li><a href=\"{n}\">{n}</a></li>\n",
    "            \"\"\"\n",
    "    html += \"</ul>\"\n",
    "    with open(child.joinpath('index.html'), 'w') as f:\n",
    "        print(html, file=f)\n",
    "        print(fix_links_script, file=f)\n",
    "        \n",
    "        \n"
   ]
  },
  {
   "cell_type": "code",
   "execution_count": null,
   "metadata": {},
   "outputs": [],
   "source": [
    "create_index_html(html_top_dir.parent.joinpath('vae[all-data]'))\n",
    "create_index_html(html_top_dir.parent)\n",
    "    "
   ]
  },
  {
   "cell_type": "code",
   "execution_count": null,
   "metadata": {},
   "outputs": [],
   "source": [
    "for child in html_top_dir.iterdir():\n",
    "    create_index_html(child)\n",
    "    \n",
    "            \n",
    "    \n",
    "    \n",
    "            "
   ]
  },
  {
   "cell_type": "code",
   "execution_count": null,
   "metadata": {},
   "outputs": [],
   "source": [
    "html"
   ]
  },
  {
   "cell_type": "code",
   "execution_count": null,
   "metadata": {},
   "outputs": [],
   "source": []
  }
 ],
 "metadata": {
  "interpreter": {
   "hash": "40209cfd1e49aba1e20a3908f9a243f43b2ed73034fd3a81730d62124bbdcdae"
  },
  "kernelspec": {
   "display_name": "Python 3.7.3 64-bit (conda)",
   "name": "python3"
  },
  "language_info": {
   "codemirror_mode": {
    "name": "ipython",
    "version": 3
   },
   "file_extension": ".py",
   "mimetype": "text/x-python",
   "name": "python",
   "nbconvert_exporter": "python",
   "pygments_lexer": "ipython3",
   "version": "3.7.3"
  },
  "orig_nbformat": 4
 },
 "nbformat": 4,
 "nbformat_minor": 2
}
