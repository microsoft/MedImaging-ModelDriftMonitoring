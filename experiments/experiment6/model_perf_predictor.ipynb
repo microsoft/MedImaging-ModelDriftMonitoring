{
 "cells": [
  {
   "cell_type": "code",
   "execution_count": 4,
   "metadata": {},
   "outputs": [],
   "source": [
    "import pandas as pd\n",
    "import numpy as np\n",
    "import json\n",
    "import glob\n",
    "import tqdm\n",
    "import seaborn as sns\n",
    "import matplotlib.pylab as plt\n",
    "\n",
    "import warnings\n",
    "warnings.filterwarnings(\"ignore\")\n",
    "\n",
    "from model_drift import settings, helpers"
   ]
  },
  {
   "cell_type": "code",
   "execution_count": 5,
   "metadata": {},
   "outputs": [],
   "source": [
    "def jsonl_files2dataframe(jsonl_files, converter=None):\n",
    "    if converter is None:\n",
    "        converter = lambda x: x\n",
    "\n",
    "    df = []\n",
    "    for fn in tqdm.tqdm(jsonl_files):\n",
    "        with open(fn, 'r') as f:\n",
    "            for line in tqdm.tqdm_notebook(f.readlines()):\n",
    "                df.append(converter(json.loads(line)))\n",
    "    return pd.json_normalize(df)\n"
   ]
  },
  {
   "cell_type": "code",
   "execution_count": 8,
   "metadata": {},
   "outputs": [
    {
     "name": "stderr",
     "output_type": "stream",
     "text": [
      "  0%|          | 0/1 [00:00<?, ?it/s]"
     ]
    },
    {
     "data": {
      "application/vnd.jupyter.widget-view+json": {
       "model_id": "8b868f0fe12043cfb0afbfa12687f9f5",
       "version_major": 2,
       "version_minor": 0
      },
      "text/plain": [
       "  0%|          | 0/160819 [00:00<?, ?it/s]"
      ]
     },
     "metadata": {},
     "output_type": "display_data"
    },
    {
     "name": "stderr",
     "output_type": "stream",
     "text": [
      "100%|██████████| 1/1 [00:03<00:00,  3.01s/it]\n"
     ]
    },
    {
     "data": {
      "text/html": [
       "<div>\n",
       "<style scoped>\n",
       "    .dataframe tbody tr th:only-of-type {\n",
       "        vertical-align: middle;\n",
       "    }\n",
       "\n",
       "    .dataframe tbody tr th {\n",
       "        vertical-align: top;\n",
       "    }\n",
       "\n",
       "    .dataframe thead th {\n",
       "        text-align: right;\n",
       "    }\n",
       "</style>\n",
       "<table border=\"1\" class=\"dataframe\">\n",
       "  <thead>\n",
       "    <tr style=\"text-align: right;\">\n",
       "      <th></th>\n",
       "      <th>index</th>\n",
       "      <th>score</th>\n",
       "      <th>activation</th>\n",
       "      <th>label</th>\n",
       "    </tr>\n",
       "  </thead>\n",
       "  <tbody>\n",
       "    <tr>\n",
       "      <th>0</th>\n",
       "      <td>20536686640136348236148679891455886468_k6ga29.png</td>\n",
       "      <td>[-2.9898717403411865, 0.021230269223451614, -5...</td>\n",
       "      <td>[0.04788553714752197, 0.5053073763847351, 0.00...</td>\n",
       "      <td>[0.0, 0.0, 0.0, 0.0, 0.0, 1.0, 0.0, 0.0, 0.0, ...</td>\n",
       "    </tr>\n",
       "    <tr>\n",
       "      <th>1</th>\n",
       "      <td>113855343774216031107737439268243531979_3k951n...</td>\n",
       "      <td>[-4.271155834197998, -3.2341253757476807, -7.5...</td>\n",
       "      <td>[0.013773280195891857, 0.03790152817964554, 0....</td>\n",
       "      <td>[0.0, 0.0, 0.0, 0.0, 0.0, 0.0, 0.0, 0.0, 0.0, ...</td>\n",
       "    </tr>\n",
       "    <tr>\n",
       "      <th>2</th>\n",
       "      <td>313723174271082992847610802266403640553-4_hhi4...</td>\n",
       "      <td>[-1.9546648263931274, -4.485781669616699, -1.7...</td>\n",
       "      <td>[0.12404559552669525, 0.011142521165311337, 0....</td>\n",
       "      <td>[0.0, 0.0, 0.0, 0.0, 0.0, 0.0, 0.0, 0.0, 0.0, ...</td>\n",
       "    </tr>\n",
       "    <tr>\n",
       "      <th>3</th>\n",
       "      <td>105529804483623054726294337265160703666_6zn76a...</td>\n",
       "      <td>[-2.843719244003296, -2.7252206802368164, -5.9...</td>\n",
       "      <td>[0.055006884038448334, 0.06150144338607788, 0....</td>\n",
       "      <td>[0.0, 0.0, 0.0, 0.0, 0.0, 0.0, 0.0, 0.0, 0.0, ...</td>\n",
       "    </tr>\n",
       "    <tr>\n",
       "      <th>4</th>\n",
       "      <td>102185472428957491598043403159908631419_zb8kco...</td>\n",
       "      <td>[-2.794471502304077, -4.529303073883057, -5.34...</td>\n",
       "      <td>[0.05762365832924843, 0.01067304890602827, 0.0...</td>\n",
       "      <td>[0.0, 0.0, 0.0, 0.0, 0.0, 0.0, 0.0, 0.0, 0.0, ...</td>\n",
       "    </tr>\n",
       "    <tr>\n",
       "      <th>...</th>\n",
       "      <td>...</td>\n",
       "      <td>...</td>\n",
       "      <td>...</td>\n",
       "      <td>...</td>\n",
       "    </tr>\n",
       "    <tr>\n",
       "      <th>160814</th>\n",
       "      <td>216840111366964012904401302362010328091616774_...</td>\n",
       "      <td>[-1.6075669527053833, -3.6497890949249268, -3....</td>\n",
       "      <td>[0.16692669689655304, 0.025337910279631615, 0....</td>\n",
       "      <td>[0.0, 0.0, 0.0, 0.0, 0.0, 0.0, 0.0, 0.0, 0.0, ...</td>\n",
       "    </tr>\n",
       "    <tr>\n",
       "      <th>160815</th>\n",
       "      <td>1284011361929414524688838311696751542351444145...</td>\n",
       "      <td>[-2.746262311935425, -4.371530532836914, -2.12...</td>\n",
       "      <td>[0.06029808521270752, 0.012474318034946918, 0....</td>\n",
       "      <td>[1.0, 0.0, 0.0, 0.0, 0.0, 0.0, 0.0, 0.0, 0.0, ...</td>\n",
       "    </tr>\n",
       "    <tr>\n",
       "      <th>160816</th>\n",
       "      <td>1284011361929414524678386411696751542351444145...</td>\n",
       "      <td>[-4.972005367279053, -2.931608200073242, -6.48...</td>\n",
       "      <td>[0.0068815541453659534, 0.05061299353837967, 0...</td>\n",
       "      <td>[0.0, 1.0, 0.0, 0.0, 0.0, 0.0, 0.0, 0.0, 0.0, ...</td>\n",
       "    </tr>\n",
       "    <tr>\n",
       "      <th>160817</th>\n",
       "      <td>1284011361929414522079841201696751542351444145...</td>\n",
       "      <td>[-3.2092111110687256, -3.9268999099731445, -3....</td>\n",
       "      <td>[0.03882056102156639, 0.019323892891407013, 0....</td>\n",
       "      <td>[0.0, 0.0, 0.0, 0.0, 0.0, 1.0, 0.0, 0.0, 0.0, ...</td>\n",
       "    </tr>\n",
       "    <tr>\n",
       "      <th>160818</th>\n",
       "      <td>1284011361929414522094646571696751542351444145...</td>\n",
       "      <td>[-4.74832010269165, -4.5266008377075195, -7.98...</td>\n",
       "      <td>[0.008591783232986927, 0.010701620019972324, 0...</td>\n",
       "      <td>[0.0, 0.0, 0.0, 0.0, 0.0, 1.0, 0.0, 0.0, 0.0, ...</td>\n",
       "    </tr>\n",
       "  </tbody>\n",
       "</table>\n",
       "<p>160819 rows × 4 columns</p>\n",
       "</div>"
      ],
      "text/plain": [
       "                                                    index  \\\n",
       "0       20536686640136348236148679891455886468_k6ga29.png   \n",
       "1       113855343774216031107737439268243531979_3k951n...   \n",
       "2       313723174271082992847610802266403640553-4_hhi4...   \n",
       "3       105529804483623054726294337265160703666_6zn76a...   \n",
       "4       102185472428957491598043403159908631419_zb8kco...   \n",
       "...                                                   ...   \n",
       "160814  216840111366964012904401302362010328091616774_...   \n",
       "160815  1284011361929414524688838311696751542351444145...   \n",
       "160816  1284011361929414524678386411696751542351444145...   \n",
       "160817  1284011361929414522079841201696751542351444145...   \n",
       "160818  1284011361929414522094646571696751542351444145...   \n",
       "\n",
       "                                                    score  \\\n",
       "0       [-2.9898717403411865, 0.021230269223451614, -5...   \n",
       "1       [-4.271155834197998, -3.2341253757476807, -7.5...   \n",
       "2       [-1.9546648263931274, -4.485781669616699, -1.7...   \n",
       "3       [-2.843719244003296, -2.7252206802368164, -5.9...   \n",
       "4       [-2.794471502304077, -4.529303073883057, -5.34...   \n",
       "...                                                   ...   \n",
       "160814  [-1.6075669527053833, -3.6497890949249268, -3....   \n",
       "160815  [-2.746262311935425, -4.371530532836914, -2.12...   \n",
       "160816  [-4.972005367279053, -2.931608200073242, -6.48...   \n",
       "160817  [-3.2092111110687256, -3.9268999099731445, -3....   \n",
       "160818  [-4.74832010269165, -4.5266008377075195, -7.98...   \n",
       "\n",
       "                                               activation  \\\n",
       "0       [0.04788553714752197, 0.5053073763847351, 0.00...   \n",
       "1       [0.013773280195891857, 0.03790152817964554, 0....   \n",
       "2       [0.12404559552669525, 0.011142521165311337, 0....   \n",
       "3       [0.055006884038448334, 0.06150144338607788, 0....   \n",
       "4       [0.05762365832924843, 0.01067304890602827, 0.0...   \n",
       "...                                                   ...   \n",
       "160814  [0.16692669689655304, 0.025337910279631615, 0....   \n",
       "160815  [0.06029808521270752, 0.012474318034946918, 0....   \n",
       "160816  [0.0068815541453659534, 0.05061299353837967, 0...   \n",
       "160817  [0.03882056102156639, 0.019323892891407013, 0....   \n",
       "160818  [0.008591783232986927, 0.010701620019972324, 0...   \n",
       "\n",
       "                                                    label  \n",
       "0       [0.0, 0.0, 0.0, 0.0, 0.0, 1.0, 0.0, 0.0, 0.0, ...  \n",
       "1       [0.0, 0.0, 0.0, 0.0, 0.0, 0.0, 0.0, 0.0, 0.0, ...  \n",
       "2       [0.0, 0.0, 0.0, 0.0, 0.0, 0.0, 0.0, 0.0, 0.0, ...  \n",
       "3       [0.0, 0.0, 0.0, 0.0, 0.0, 0.0, 0.0, 0.0, 0.0, ...  \n",
       "4       [0.0, 0.0, 0.0, 0.0, 0.0, 0.0, 0.0, 0.0, 0.0, ...  \n",
       "...                                                   ...  \n",
       "160814  [0.0, 0.0, 0.0, 0.0, 0.0, 0.0, 0.0, 0.0, 0.0, ...  \n",
       "160815  [1.0, 0.0, 0.0, 0.0, 0.0, 0.0, 0.0, 0.0, 0.0, ...  \n",
       "160816  [0.0, 1.0, 0.0, 0.0, 0.0, 0.0, 0.0, 0.0, 0.0, ...  \n",
       "160817  [0.0, 0.0, 0.0, 0.0, 0.0, 1.0, 0.0, 0.0, 0.0, ...  \n",
       "160818  [0.0, 0.0, 0.0, 0.0, 0.0, 1.0, 0.0, 0.0, 0.0, ...  \n",
       "\n",
       "[160819 rows x 4 columns]"
      ]
     },
     "execution_count": 8,
     "metadata": {},
     "output_type": "execute_result"
    }
   ],
   "source": [
    "jsonl_dir = str(settings.TOP_DIR.joinpath(\"results\", 'classifier', 'finetuned'))\n",
    "jsonl_files = glob.glob(f\"{jsonl_dir}/preds.jsonl\")\n",
    "\n",
    "df = helpers.jsonl_files2dataframe(jsonl_files)\n",
    "\n",
    "df"
   ]
  },
  {
   "cell_type": "code",
   "execution_count": 9,
   "metadata": {},
   "outputs": [
    {
     "data": {
      "text/html": [
       "<div>\n",
       "<style scoped>\n",
       "    .dataframe tbody tr th:only-of-type {\n",
       "        vertical-align: middle;\n",
       "    }\n",
       "\n",
       "    .dataframe tbody tr th {\n",
       "        vertical-align: top;\n",
       "    }\n",
       "\n",
       "    .dataframe thead th {\n",
       "        text-align: right;\n",
       "    }\n",
       "</style>\n",
       "<table border=\"1\" class=\"dataframe\">\n",
       "  <thead>\n",
       "    <tr style=\"text-align: right;\">\n",
       "      <th></th>\n",
       "      <th>ImageID</th>\n",
       "      <th>ImageDir</th>\n",
       "      <th>StudyDate_DICOM</th>\n",
       "      <th>StudyID</th>\n",
       "      <th>PatientID</th>\n",
       "      <th>PatientBirth</th>\n",
       "      <th>PatientSex_DICOM</th>\n",
       "      <th>ViewPosition_DICOM</th>\n",
       "      <th>Projection</th>\n",
       "      <th>MethodProjection</th>\n",
       "      <th>...</th>\n",
       "      <th>Pleural Abnormalities</th>\n",
       "      <th>Pleural Effusion</th>\n",
       "      <th>Pneumonia</th>\n",
       "      <th>StudyDate</th>\n",
       "      <th>Frontal</th>\n",
       "      <th>age</th>\n",
       "      <th>index</th>\n",
       "      <th>score</th>\n",
       "      <th>activation</th>\n",
       "      <th>label</th>\n",
       "    </tr>\n",
       "  </thead>\n",
       "  <tbody>\n",
       "    <tr>\n",
       "      <th>0</th>\n",
       "      <td>20536686640136348236148679891455886468_k6ga29.png</td>\n",
       "      <td>0</td>\n",
       "      <td>20140915</td>\n",
       "      <td>20536686640136348236148679891455886468</td>\n",
       "      <td>839860488694292331637988235681460987</td>\n",
       "      <td>1930-01-01</td>\n",
       "      <td>F</td>\n",
       "      <td>POSTEROANTERIOR</td>\n",
       "      <td>PA</td>\n",
       "      <td>Manual review of DICOM fields</td>\n",
       "      <td>...</td>\n",
       "      <td>0</td>\n",
       "      <td>0</td>\n",
       "      <td>0</td>\n",
       "      <td>2014-09-15</td>\n",
       "      <td>True</td>\n",
       "      <td>84.705367</td>\n",
       "      <td>20536686640136348236148679891455886468_k6ga29.png</td>\n",
       "      <td>[-2.9898717403411865, 0.021230269223451614, -5...</td>\n",
       "      <td>[0.04788553714752197, 0.5053073763847351, 0.00...</td>\n",
       "      <td>[0.0, 0.0, 0.0, 0.0, 0.0, 1.0, 0.0, 0.0, 0.0, ...</td>\n",
       "    </tr>\n",
       "    <tr>\n",
       "      <th>1</th>\n",
       "      <td>135803415504923515076821959678074435083_fzis7d...</td>\n",
       "      <td>0</td>\n",
       "      <td>20150914</td>\n",
       "      <td>135803415504923515076821959678074435083</td>\n",
       "      <td>313572750430997347502932654319389875966</td>\n",
       "      <td>1929-01-01</td>\n",
       "      <td>M</td>\n",
       "      <td>LATERAL</td>\n",
       "      <td>L</td>\n",
       "      <td>Manual review of DICOM fields</td>\n",
       "      <td>...</td>\n",
       "      <td>0</td>\n",
       "      <td>0</td>\n",
       "      <td>0</td>\n",
       "      <td>2015-09-14</td>\n",
       "      <td>False</td>\n",
       "      <td>86.701301</td>\n",
       "      <td>135803415504923515076821959678074435083_fzis7d...</td>\n",
       "      <td>[-3.224487066268921, 0.4518917202949524, -6.09...</td>\n",
       "      <td>[0.03825455904006958, 0.6110888719558716, 0.00...</td>\n",
       "      <td>[0.0, 0.0, 0.0, 0.0, 0.0, 0.0, 1.0, 0.0, 0.0, ...</td>\n",
       "    </tr>\n",
       "    <tr>\n",
       "      <th>2</th>\n",
       "      <td>135803415504923515076821959678074435083_fzis7b...</td>\n",
       "      <td>0</td>\n",
       "      <td>20150914</td>\n",
       "      <td>135803415504923515076821959678074435083</td>\n",
       "      <td>313572750430997347502932654319389875966</td>\n",
       "      <td>1929-01-01</td>\n",
       "      <td>M</td>\n",
       "      <td>POSTEROANTERIOR</td>\n",
       "      <td>PA</td>\n",
       "      <td>Manual review of DICOM fields</td>\n",
       "      <td>...</td>\n",
       "      <td>0</td>\n",
       "      <td>0</td>\n",
       "      <td>0</td>\n",
       "      <td>2015-09-14</td>\n",
       "      <td>True</td>\n",
       "      <td>86.701301</td>\n",
       "      <td>135803415504923515076821959678074435083_fzis7b...</td>\n",
       "      <td>[-2.1421587467193604, -1.9091078042984009, -4....</td>\n",
       "      <td>[0.10506623238325119, 0.129081130027771, 0.007...</td>\n",
       "      <td>[0.0, 0.0, 0.0, 0.0, 0.0, 0.0, 1.0, 0.0, 0.0, ...</td>\n",
       "    </tr>\n",
       "    <tr>\n",
       "      <th>3</th>\n",
       "      <td>113855343774216031107737439268243531979_3k951l...</td>\n",
       "      <td>0</td>\n",
       "      <td>20150717</td>\n",
       "      <td>113855343774216031107737439268243531979</td>\n",
       "      <td>50783093527901818115346441867348318648</td>\n",
       "      <td>1925-01-01</td>\n",
       "      <td>F</td>\n",
       "      <td>POSTEROANTERIOR</td>\n",
       "      <td>PA</td>\n",
       "      <td>Manual review of DICOM fields</td>\n",
       "      <td>...</td>\n",
       "      <td>0</td>\n",
       "      <td>0</td>\n",
       "      <td>0</td>\n",
       "      <td>2015-07-17</td>\n",
       "      <td>True</td>\n",
       "      <td>90.539847</td>\n",
       "      <td>113855343774216031107737439268243531979_3k951l...</td>\n",
       "      <td>[-3.166491985321045, -2.5237503051757812, -6.7...</td>\n",
       "      <td>[0.04044634476304054, 0.07420986890792847, 0.0...</td>\n",
       "      <td>[0.0, 0.0, 0.0, 0.0, 0.0, 0.0, 0.0, 0.0, 0.0, ...</td>\n",
       "    </tr>\n",
       "    <tr>\n",
       "      <th>4</th>\n",
       "      <td>113855343774216031107737439268243531979_3k951n...</td>\n",
       "      <td>0</td>\n",
       "      <td>20150717</td>\n",
       "      <td>113855343774216031107737439268243531979</td>\n",
       "      <td>50783093527901818115346441867348318648</td>\n",
       "      <td>1925-01-01</td>\n",
       "      <td>F</td>\n",
       "      <td>LATERAL</td>\n",
       "      <td>L</td>\n",
       "      <td>Manual review of DICOM fields</td>\n",
       "      <td>...</td>\n",
       "      <td>0</td>\n",
       "      <td>0</td>\n",
       "      <td>0</td>\n",
       "      <td>2015-07-17</td>\n",
       "      <td>False</td>\n",
       "      <td>90.539847</td>\n",
       "      <td>113855343774216031107737439268243531979_3k951n...</td>\n",
       "      <td>[-4.271155834197998, -3.2341253757476807, -7.5...</td>\n",
       "      <td>[0.013773280195891857, 0.03790152817964554, 0....</td>\n",
       "      <td>[0.0, 0.0, 0.0, 0.0, 0.0, 0.0, 0.0, 0.0, 0.0, ...</td>\n",
       "    </tr>\n",
       "  </tbody>\n",
       "</table>\n",
       "<p>5 rows × 52 columns</p>\n",
       "</div>"
      ],
      "text/plain": [
       "                                             ImageID  ImageDir  \\\n",
       "0  20536686640136348236148679891455886468_k6ga29.png         0   \n",
       "1  135803415504923515076821959678074435083_fzis7d...         0   \n",
       "2  135803415504923515076821959678074435083_fzis7b...         0   \n",
       "3  113855343774216031107737439268243531979_3k951l...         0   \n",
       "4  113855343774216031107737439268243531979_3k951n...         0   \n",
       "\n",
       "   StudyDate_DICOM                                  StudyID  \\\n",
       "0         20140915   20536686640136348236148679891455886468   \n",
       "1         20150914  135803415504923515076821959678074435083   \n",
       "2         20150914  135803415504923515076821959678074435083   \n",
       "3         20150717  113855343774216031107737439268243531979   \n",
       "4         20150717  113855343774216031107737439268243531979   \n",
       "\n",
       "                                 PatientID PatientBirth PatientSex_DICOM  \\\n",
       "0     839860488694292331637988235681460987   1930-01-01                F   \n",
       "1  313572750430997347502932654319389875966   1929-01-01                M   \n",
       "2  313572750430997347502932654319389875966   1929-01-01                M   \n",
       "3   50783093527901818115346441867348318648   1925-01-01                F   \n",
       "4   50783093527901818115346441867348318648   1925-01-01                F   \n",
       "\n",
       "  ViewPosition_DICOM Projection               MethodProjection  ...  \\\n",
       "0    POSTEROANTERIOR         PA  Manual review of DICOM fields  ...   \n",
       "1            LATERAL          L  Manual review of DICOM fields  ...   \n",
       "2    POSTEROANTERIOR         PA  Manual review of DICOM fields  ...   \n",
       "3    POSTEROANTERIOR         PA  Manual review of DICOM fields  ...   \n",
       "4            LATERAL          L  Manual review of DICOM fields  ...   \n",
       "\n",
       "  Pleural Abnormalities Pleural Effusion Pneumonia  StudyDate  Frontal  \\\n",
       "0                     0                0         0 2014-09-15     True   \n",
       "1                     0                0         0 2015-09-14    False   \n",
       "2                     0                0         0 2015-09-14     True   \n",
       "3                     0                0         0 2015-07-17     True   \n",
       "4                     0                0         0 2015-07-17    False   \n",
       "\n",
       "         age                                              index  \\\n",
       "0  84.705367  20536686640136348236148679891455886468_k6ga29.png   \n",
       "1  86.701301  135803415504923515076821959678074435083_fzis7d...   \n",
       "2  86.701301  135803415504923515076821959678074435083_fzis7b...   \n",
       "3  90.539847  113855343774216031107737439268243531979_3k951l...   \n",
       "4  90.539847  113855343774216031107737439268243531979_3k951n...   \n",
       "\n",
       "                                               score  \\\n",
       "0  [-2.9898717403411865, 0.021230269223451614, -5...   \n",
       "1  [-3.224487066268921, 0.4518917202949524, -6.09...   \n",
       "2  [-2.1421587467193604, -1.9091078042984009, -4....   \n",
       "3  [-3.166491985321045, -2.5237503051757812, -6.7...   \n",
       "4  [-4.271155834197998, -3.2341253757476807, -7.5...   \n",
       "\n",
       "                                          activation  \\\n",
       "0  [0.04788553714752197, 0.5053073763847351, 0.00...   \n",
       "1  [0.03825455904006958, 0.6110888719558716, 0.00...   \n",
       "2  [0.10506623238325119, 0.129081130027771, 0.007...   \n",
       "3  [0.04044634476304054, 0.07420986890792847, 0.0...   \n",
       "4  [0.013773280195891857, 0.03790152817964554, 0....   \n",
       "\n",
       "                                               label  \n",
       "0  [0.0, 0.0, 0.0, 0.0, 0.0, 1.0, 0.0, 0.0, 0.0, ...  \n",
       "1  [0.0, 0.0, 0.0, 0.0, 0.0, 0.0, 1.0, 0.0, 0.0, ...  \n",
       "2  [0.0, 0.0, 0.0, 0.0, 0.0, 0.0, 1.0, 0.0, 0.0, ...  \n",
       "3  [0.0, 0.0, 0.0, 0.0, 0.0, 0.0, 0.0, 0.0, 0.0, ...  \n",
       "4  [0.0, 0.0, 0.0, 0.0, 0.0, 0.0, 0.0, 0.0, 0.0, ...  \n",
       "\n",
       "[5 rows x 52 columns]"
      ]
     },
     "execution_count": 9,
     "metadata": {},
     "output_type": "execute_result"
    }
   ],
   "source": [
    "from model_drift.data.padchest import PadChest\n",
    "\n",
    "pc = PadChest.from_csv()\n",
    "pc.prepare()\n",
    "\n",
    "pc.merge(df, left_on=\"ImageID\", right_on=\"index\", how='inner')\n",
    "pc.df.head()"
   ]
  },
  {
   "cell_type": "code",
   "execution_count": 10,
   "metadata": {},
   "outputs": [],
   "source": [
    "train, val, test = pc.split(settings.PADCHEST_SPLIT_DATES, studydate_index=True)"
   ]
  },
  {
   "cell_type": "code",
   "execution_count": 11,
   "metadata": {},
   "outputs": [],
   "source": [
    "\n",
    "from model_drift.drift.base import BaseDriftCalculator\n",
    "from model_drift.drift.tabular import TabularDriftCalculator"
   ]
  },
  {
   "cell_type": "code",
   "execution_count": 76,
   "metadata": {},
   "outputs": [
    {
     "data": {
      "text/plain": [
       "array([19., 25.,  4.,  0.,  8., 66., 33., 15.,  7.,  5.])"
      ]
     },
     "execution_count": 76,
     "metadata": {},
     "output_type": "execute_result"
    }
   ],
   "source": [
    "sample = test.df.sample(200)\n",
    "\n",
    "labels = np.stack(sample['label'].values)\n",
    "scores = np.stack(sample['score'].values)\n",
    "\n",
    "labels.sum(axis=0)"
   ]
  },
  {
   "cell_type": "code",
   "execution_count": 77,
   "metadata": {},
   "outputs": [
    {
     "name": "stdout",
     "output_type": "stream",
     "text": [
      "(200, 10) (200, 10)\n"
     ]
    },
    {
     "data": {
      "text/plain": [
       "0.904550313949585"
      ]
     },
     "execution_count": 77,
     "metadata": {},
     "output_type": "execute_result"
    }
   ],
   "source": [
    "import torch\n",
    "from torchmetrics import AUROC\n",
    "from torchmetrics.functional import auroc\n",
    "\n",
    "def macro_auc(scores, labels, skip_missing=True):\n",
    "    if len(scores) == 0:\n",
    "        return float('NaN')\n",
    "    N = labels.shape[1]\n",
    "    aucs = [0]*N\n",
    "    for i in range(N):\n",
    "        try:\n",
    "            aucs[i] = auroc(torch.tensor(scores[i]), torch.tensor(labels[i]).long()).numpy()\n",
    "        except Exception as e:\n",
    "            if \"No positive samples in targets\" not in str(e):\n",
    "                raise\n",
    "            aucs[i] = float('NaN')\n",
    "\n",
    "    aucs = np.array(aucs)\n",
    "    c = (~np.isnan(aucs)).sum() if skip_missing else N\n",
    "    return np.nansum(aucs)/c\n",
    "\n",
    "def micro_auc(scores, labels):\n",
    "    return float(auroc(torch.tensor(scores), torch.tensor(labels).long(), average='micro').numpy())\n",
    "\n",
    "\n",
    "micro_auc(scores, labels)"
   ]
  },
  {
   "cell_type": "code",
   "execution_count": 80,
   "metadata": {},
   "outputs": [
    {
     "name": "stdout",
     "output_type": "stream",
     "text": [
      "217\n",
      "(217, 10) (217, 10)\n",
      "(200, 10) (217, 10)\n"
     ]
    },
    {
     "ename": "ValueError",
     "evalue": "The `preds` and `target` should have the same first dimension.",
     "output_type": "error",
     "traceback": [
      "\u001b[1;31m---------------------------------------------------------------------------\u001b[0m",
      "\u001b[1;31mValueError\u001b[0m                                Traceback (most recent call last)",
      "\u001b[1;32m~\\AppData\\Local\\Temp/ipykernel_32188/3709157423.py\u001b[0m in \u001b[0;36m<module>\u001b[1;34m\u001b[0m\n\u001b[0;32m     24\u001b[0m \u001b[0mcd\u001b[0m \u001b[1;33m=\u001b[0m \u001b[0mAUROCCalculator\u001b[0m\u001b[1;33m(\u001b[0m\u001b[1;33m)\u001b[0m\u001b[1;33m\u001b[0m\u001b[1;33m\u001b[0m\u001b[0m\n\u001b[0;32m     25\u001b[0m \u001b[1;33m\u001b[0m\u001b[0m\n\u001b[1;32m---> 26\u001b[1;33m \u001b[0mcd\u001b[0m\u001b[1;33m.\u001b[0m\u001b[0mpredict\u001b[0m\u001b[1;33m(\u001b[0m\u001b[0msample\u001b[0m\u001b[1;33m[\u001b[0m\u001b[0mlist\u001b[0m\u001b[1;33m(\u001b[0m\u001b[1;33m(\u001b[0m\u001b[1;34m\"score\"\u001b[0m\u001b[1;33m,\u001b[0m \u001b[1;34m\"label\"\u001b[0m\u001b[1;33m)\u001b[0m\u001b[1;33m)\u001b[0m\u001b[1;33m]\u001b[0m\u001b[1;33m)\u001b[0m\u001b[1;33m\u001b[0m\u001b[1;33m\u001b[0m\u001b[0m\n\u001b[0m",
      "\u001b[1;32m~\\AppData\\Local\\Temp/ipykernel_32188/3709157423.py\u001b[0m in \u001b[0;36mpredict\u001b[1;34m(self, sample)\u001b[0m\n\u001b[0;32m     20\u001b[0m         \u001b[1;32mif\u001b[0m \u001b[0mself\u001b[0m\u001b[1;33m.\u001b[0m\u001b[0maverage\u001b[0m \u001b[1;33m==\u001b[0m \u001b[1;34m\"macro\"\u001b[0m\u001b[1;33m:\u001b[0m\u001b[1;33m\u001b[0m\u001b[1;33m\u001b[0m\u001b[0m\n\u001b[0;32m     21\u001b[0m             \u001b[1;32mreturn\u001b[0m \u001b[0mmacro_auc\u001b[0m\u001b[1;33m(\u001b[0m\u001b[0mscores\u001b[0m\u001b[1;33m,\u001b[0m \u001b[0mlabels\u001b[0m\u001b[1;33m)\u001b[0m\u001b[1;33m\u001b[0m\u001b[1;33m\u001b[0m\u001b[0m\n\u001b[1;32m---> 22\u001b[1;33m         \u001b[1;32mreturn\u001b[0m \u001b[0mmicro_auc\u001b[0m\u001b[1;33m(\u001b[0m\u001b[0mscores\u001b[0m\u001b[1;33m,\u001b[0m \u001b[0mlabels\u001b[0m\u001b[1;33m)\u001b[0m\u001b[1;33m\u001b[0m\u001b[1;33m\u001b[0m\u001b[0m\n\u001b[0m\u001b[0;32m     23\u001b[0m \u001b[1;33m\u001b[0m\u001b[0m\n\u001b[0;32m     24\u001b[0m \u001b[0mcd\u001b[0m \u001b[1;33m=\u001b[0m \u001b[0mAUROCCalculator\u001b[0m\u001b[1;33m(\u001b[0m\u001b[1;33m)\u001b[0m\u001b[1;33m\u001b[0m\u001b[1;33m\u001b[0m\u001b[0m\n",
      "\u001b[1;32m~\\AppData\\Local\\Temp/ipykernel_32188/3848934743.py\u001b[0m in \u001b[0;36mmicro_auc\u001b[1;34m(score, labels)\u001b[0m\n\u001b[0;32m     22\u001b[0m \u001b[1;32mdef\u001b[0m \u001b[0mmicro_auc\u001b[0m\u001b[1;33m(\u001b[0m\u001b[0mscore\u001b[0m\u001b[1;33m,\u001b[0m \u001b[0mlabels\u001b[0m\u001b[1;33m)\u001b[0m\u001b[1;33m:\u001b[0m\u001b[1;33m\u001b[0m\u001b[1;33m\u001b[0m\u001b[0m\n\u001b[0;32m     23\u001b[0m     \u001b[0mprint\u001b[0m\u001b[1;33m(\u001b[0m\u001b[0mscores\u001b[0m\u001b[1;33m.\u001b[0m\u001b[0mshape\u001b[0m\u001b[1;33m,\u001b[0m \u001b[0mlabels\u001b[0m\u001b[1;33m.\u001b[0m\u001b[0mshape\u001b[0m\u001b[1;33m)\u001b[0m\u001b[1;33m\u001b[0m\u001b[1;33m\u001b[0m\u001b[0m\n\u001b[1;32m---> 24\u001b[1;33m     \u001b[1;32mreturn\u001b[0m \u001b[0mfloat\u001b[0m\u001b[1;33m(\u001b[0m\u001b[0mauroc\u001b[0m\u001b[1;33m(\u001b[0m\u001b[0mtorch\u001b[0m\u001b[1;33m.\u001b[0m\u001b[0mtensor\u001b[0m\u001b[1;33m(\u001b[0m\u001b[0mscores\u001b[0m\u001b[1;33m)\u001b[0m\u001b[1;33m,\u001b[0m \u001b[0mtorch\u001b[0m\u001b[1;33m.\u001b[0m\u001b[0mtensor\u001b[0m\u001b[1;33m(\u001b[0m\u001b[0mlabels\u001b[0m\u001b[1;33m)\u001b[0m\u001b[1;33m.\u001b[0m\u001b[0mlong\u001b[0m\u001b[1;33m(\u001b[0m\u001b[1;33m)\u001b[0m\u001b[1;33m,\u001b[0m \u001b[0maverage\u001b[0m\u001b[1;33m=\u001b[0m\u001b[1;34m'micro'\u001b[0m\u001b[1;33m)\u001b[0m\u001b[1;33m.\u001b[0m\u001b[0mnumpy\u001b[0m\u001b[1;33m(\u001b[0m\u001b[1;33m)\u001b[0m\u001b[1;33m)\u001b[0m\u001b[1;33m\u001b[0m\u001b[1;33m\u001b[0m\u001b[0m\n\u001b[0m\u001b[0;32m     25\u001b[0m \u001b[1;33m\u001b[0m\u001b[0m\n\u001b[0;32m     26\u001b[0m \u001b[1;33m\u001b[0m\u001b[0m\n",
      "\u001b[1;32mD:\\Code\\MLOpsDay2\\MedImaging-ModelDriftMonitoring\\.venv\\lib\\site-packages\\torchmetrics\\functional\\classification\\auroc.py\u001b[0m in \u001b[0;36mauroc\u001b[1;34m(preds, target, num_classes, pos_label, average, max_fpr, sample_weights)\u001b[0m\n\u001b[0;32m    198\u001b[0m         \u001b[0mtensor\u001b[0m\u001b[1;33m(\u001b[0m\u001b[1;36m0.7778\u001b[0m\u001b[1;33m)\u001b[0m\u001b[1;33m\u001b[0m\u001b[1;33m\u001b[0m\u001b[0m\n\u001b[0;32m    199\u001b[0m     \"\"\"\n\u001b[1;32m--> 200\u001b[1;33m     \u001b[0mpreds\u001b[0m\u001b[1;33m,\u001b[0m \u001b[0mtarget\u001b[0m\u001b[1;33m,\u001b[0m \u001b[0mmode\u001b[0m \u001b[1;33m=\u001b[0m \u001b[0m_auroc_update\u001b[0m\u001b[1;33m(\u001b[0m\u001b[0mpreds\u001b[0m\u001b[1;33m,\u001b[0m \u001b[0mtarget\u001b[0m\u001b[1;33m)\u001b[0m\u001b[1;33m\u001b[0m\u001b[1;33m\u001b[0m\u001b[0m\n\u001b[0m\u001b[0;32m    201\u001b[0m     \u001b[1;32mreturn\u001b[0m \u001b[0m_auroc_compute\u001b[0m\u001b[1;33m(\u001b[0m\u001b[0mpreds\u001b[0m\u001b[1;33m,\u001b[0m \u001b[0mtarget\u001b[0m\u001b[1;33m,\u001b[0m \u001b[0mmode\u001b[0m\u001b[1;33m,\u001b[0m \u001b[0mnum_classes\u001b[0m\u001b[1;33m,\u001b[0m \u001b[0mpos_label\u001b[0m\u001b[1;33m,\u001b[0m \u001b[0maverage\u001b[0m\u001b[1;33m,\u001b[0m \u001b[0mmax_fpr\u001b[0m\u001b[1;33m,\u001b[0m \u001b[0msample_weights\u001b[0m\u001b[1;33m)\u001b[0m\u001b[1;33m\u001b[0m\u001b[1;33m\u001b[0m\u001b[0m\n",
      "\u001b[1;32mD:\\Code\\MLOpsDay2\\MedImaging-ModelDriftMonitoring\\.venv\\lib\\site-packages\\torchmetrics\\functional\\classification\\auroc.py\u001b[0m in \u001b[0;36m_auroc_update\u001b[1;34m(preds, target)\u001b[0m\n\u001b[0;32m     26\u001b[0m \u001b[1;32mdef\u001b[0m \u001b[0m_auroc_update\u001b[0m\u001b[1;33m(\u001b[0m\u001b[0mpreds\u001b[0m\u001b[1;33m:\u001b[0m \u001b[0mTensor\u001b[0m\u001b[1;33m,\u001b[0m \u001b[0mtarget\u001b[0m\u001b[1;33m:\u001b[0m \u001b[0mTensor\u001b[0m\u001b[1;33m)\u001b[0m \u001b[1;33m->\u001b[0m \u001b[0mTuple\u001b[0m\u001b[1;33m[\u001b[0m\u001b[0mTensor\u001b[0m\u001b[1;33m,\u001b[0m \u001b[0mTensor\u001b[0m\u001b[1;33m,\u001b[0m \u001b[0mDataType\u001b[0m\u001b[1;33m]\u001b[0m\u001b[1;33m:\u001b[0m\u001b[1;33m\u001b[0m\u001b[1;33m\u001b[0m\u001b[0m\n\u001b[0;32m     27\u001b[0m     \u001b[1;31m# use _input_format_classification for validating the input and get the mode of data\u001b[0m\u001b[1;33m\u001b[0m\u001b[1;33m\u001b[0m\u001b[1;33m\u001b[0m\u001b[0m\n\u001b[1;32m---> 28\u001b[1;33m     \u001b[0m_\u001b[0m\u001b[1;33m,\u001b[0m \u001b[0m_\u001b[0m\u001b[1;33m,\u001b[0m \u001b[0mmode\u001b[0m \u001b[1;33m=\u001b[0m \u001b[0m_input_format_classification\u001b[0m\u001b[1;33m(\u001b[0m\u001b[0mpreds\u001b[0m\u001b[1;33m,\u001b[0m \u001b[0mtarget\u001b[0m\u001b[1;33m)\u001b[0m\u001b[1;33m\u001b[0m\u001b[1;33m\u001b[0m\u001b[0m\n\u001b[0m\u001b[0;32m     29\u001b[0m \u001b[1;33m\u001b[0m\u001b[0m\n\u001b[0;32m     30\u001b[0m     \u001b[1;32mif\u001b[0m \u001b[0mmode\u001b[0m \u001b[1;33m==\u001b[0m \u001b[1;34m'multi class multi dim'\u001b[0m\u001b[1;33m:\u001b[0m\u001b[1;33m\u001b[0m\u001b[1;33m\u001b[0m\u001b[0m\n",
      "\u001b[1;32mD:\\Code\\MLOpsDay2\\MedImaging-ModelDriftMonitoring\\.venv\\lib\\site-packages\\torchmetrics\\utilities\\checks.py\u001b[0m in \u001b[0;36m_input_format_classification\u001b[1;34m(preds, target, threshold, top_k, num_classes, multiclass)\u001b[0m\n\u001b[0;32m    415\u001b[0m         \u001b[0mnum_classes\u001b[0m\u001b[1;33m=\u001b[0m\u001b[0mnum_classes\u001b[0m\u001b[1;33m,\u001b[0m\u001b[1;33m\u001b[0m\u001b[1;33m\u001b[0m\u001b[0m\n\u001b[0;32m    416\u001b[0m         \u001b[0mmulticlass\u001b[0m\u001b[1;33m=\u001b[0m\u001b[0mmulticlass\u001b[0m\u001b[1;33m,\u001b[0m\u001b[1;33m\u001b[0m\u001b[1;33m\u001b[0m\u001b[0m\n\u001b[1;32m--> 417\u001b[1;33m         \u001b[0mtop_k\u001b[0m\u001b[1;33m=\u001b[0m\u001b[0mtop_k\u001b[0m\u001b[1;33m,\u001b[0m\u001b[1;33m\u001b[0m\u001b[1;33m\u001b[0m\u001b[0m\n\u001b[0m\u001b[0;32m    418\u001b[0m     )\n\u001b[0;32m    419\u001b[0m \u001b[1;33m\u001b[0m\u001b[0m\n",
      "\u001b[1;32mD:\\Code\\MLOpsDay2\\MedImaging-ModelDriftMonitoring\\.venv\\lib\\site-packages\\torchmetrics\\utilities\\checks.py\u001b[0m in \u001b[0;36m_check_classification_inputs\u001b[1;34m(preds, target, threshold, num_classes, multiclass, top_k)\u001b[0m\n\u001b[0;32m    264\u001b[0m \u001b[1;33m\u001b[0m\u001b[0m\n\u001b[0;32m    265\u001b[0m     \u001b[1;31m# Basic validation (that does not need case/type information)\u001b[0m\u001b[1;33m\u001b[0m\u001b[1;33m\u001b[0m\u001b[1;33m\u001b[0m\u001b[0m\n\u001b[1;32m--> 266\u001b[1;33m     \u001b[0m_basic_input_validation\u001b[0m\u001b[1;33m(\u001b[0m\u001b[0mpreds\u001b[0m\u001b[1;33m,\u001b[0m \u001b[0mtarget\u001b[0m\u001b[1;33m,\u001b[0m \u001b[0mthreshold\u001b[0m\u001b[1;33m,\u001b[0m \u001b[0mmulticlass\u001b[0m\u001b[1;33m)\u001b[0m\u001b[1;33m\u001b[0m\u001b[1;33m\u001b[0m\u001b[0m\n\u001b[0m\u001b[0;32m    267\u001b[0m \u001b[1;33m\u001b[0m\u001b[0m\n\u001b[0;32m    268\u001b[0m     \u001b[1;31m# Check that shape/types fall into one of the cases\u001b[0m\u001b[1;33m\u001b[0m\u001b[1;33m\u001b[0m\u001b[1;33m\u001b[0m\u001b[0m\n",
      "\u001b[1;32mD:\\Code\\MLOpsDay2\\MedImaging-ModelDriftMonitoring\\.venv\\lib\\site-packages\\torchmetrics\\utilities\\checks.py\u001b[0m in \u001b[0;36m_basic_input_validation\u001b[1;34m(preds, target, threshold, multiclass)\u001b[0m\n\u001b[0;32m     43\u001b[0m \u001b[1;33m\u001b[0m\u001b[0m\n\u001b[0;32m     44\u001b[0m     \u001b[1;32mif\u001b[0m \u001b[1;32mnot\u001b[0m \u001b[0mpreds\u001b[0m\u001b[1;33m.\u001b[0m\u001b[0mshape\u001b[0m\u001b[1;33m[\u001b[0m\u001b[1;36m0\u001b[0m\u001b[1;33m]\u001b[0m \u001b[1;33m==\u001b[0m \u001b[0mtarget\u001b[0m\u001b[1;33m.\u001b[0m\u001b[0mshape\u001b[0m\u001b[1;33m[\u001b[0m\u001b[1;36m0\u001b[0m\u001b[1;33m]\u001b[0m\u001b[1;33m:\u001b[0m\u001b[1;33m\u001b[0m\u001b[1;33m\u001b[0m\u001b[0m\n\u001b[1;32m---> 45\u001b[1;33m         \u001b[1;32mraise\u001b[0m \u001b[0mValueError\u001b[0m\u001b[1;33m(\u001b[0m\u001b[1;34m\"The `preds` and `target` should have the same first dimension.\"\u001b[0m\u001b[1;33m)\u001b[0m\u001b[1;33m\u001b[0m\u001b[1;33m\u001b[0m\u001b[0m\n\u001b[0m\u001b[0;32m     46\u001b[0m \u001b[1;33m\u001b[0m\u001b[0m\n\u001b[0;32m     47\u001b[0m     \u001b[1;32mif\u001b[0m \u001b[0mmulticlass\u001b[0m \u001b[1;32mis\u001b[0m \u001b[1;32mFalse\u001b[0m \u001b[1;32mand\u001b[0m \u001b[0mtarget\u001b[0m\u001b[1;33m.\u001b[0m\u001b[0mmax\u001b[0m\u001b[1;33m(\u001b[0m\u001b[1;33m)\u001b[0m \u001b[1;33m>\u001b[0m \u001b[1;36m1\u001b[0m\u001b[1;33m:\u001b[0m\u001b[1;33m\u001b[0m\u001b[1;33m\u001b[0m\u001b[0m\n",
      "\u001b[1;31mValueError\u001b[0m: The `preds` and `target` should have the same first dimension."
     ]
    }
   ],
   "source": [
    "sample = sample_frame(pc.df.set_index('StudyDate')[['score', 'label']], \"2009-01-05\")\n",
    "\n",
    "class AUROCCalculator(BaseDriftCalculator):\n",
    "    name = \"auroc\"\n",
    "    def __init__(self, ref=None, label_col=None, score_col=None, average='micro', ignore_nan=True):\n",
    "        super().__init__(None)\n",
    "        self.label_col = label_col\n",
    "        self.score_col = score_col\n",
    "        self.average = average\n",
    "\n",
    "    def predict(self, sample):\n",
    "        print(len(sample))\n",
    "        labels = sample.iloc[:, 1] if self.label_col is None else sample[self.label_col]\n",
    "        scores = sample.iloc[:, 0] if self.score_col is None else sample[self.score_col]\n",
    "        labels = np.stack(labels.values)\n",
    "        scores = np.stack(scores.values)\n",
    "\n",
    "        print(scores.shape, labels.shape)\n",
    "\n",
    "        if self.average == \"macro\":\n",
    "            return macro_auc(scores, labels)\n",
    "        return micro_auc(scores, labels)\n",
    "        \n",
    "cd = AUROCCalculator()\n",
    "\n",
    "cd.predict(sample[list((\"score\", \"label\"))])"
   ]
  },
  {
   "cell_type": "code",
   "execution_count": 79,
   "metadata": {},
   "outputs": [
    {
     "name": "stdout",
     "output_type": "stream",
     "text": [
      "200\n",
      "(200, 10) (200, 10)\n",
      "(200, 10) (200, 10)\n"
     ]
    },
    {
     "data": {
      "text/plain": [
       "{('score', 'label'): {'auroc': 0.904550313949585}, 'count': 200}"
      ]
     },
     "execution_count": 79,
     "metadata": {},
     "output_type": "execute_result"
    }
   ],
   "source": [
    "from model_drift.drift.numeric import KSDriftCalculator, BasicDriftCalculator\n",
    "from model_drift.drift.categorical import ChiSqDriftCalculator\n",
    "\n",
    "from model_drift.drift.tabular import TabularDriftCalculator\n",
    "\n",
    "dwc = TabularDriftCalculator(train.df)\n",
    "\n",
    "dwc.add_drift_stat((\"score\", \"label\"), AUROCCalculator)\n",
    "\n",
    "# dwc.add_drift_stat('age', KSDriftCalculator)\n",
    "# dwc.add_drift_stat('RelativeXRayExposure_DICOM', KSDriftCalculator)\n",
    "# dwc.add_drift_stat('WindowCenter_DICOM', KSDriftCalculator)\n",
    "# dwc.add_drift_stat('WindowWidth_DICOM', KSDriftCalculator)\n",
    "\n",
    "# dwc.add_drift_stat('age', BasicDriftCalculator)\n",
    "# dwc.add_drift_stat('RelativeXRayExposure_DICOM', BasicDriftCalculator)\n",
    "# dwc.add_drift_stat('WindowCenter_DICOM', BasicDriftCalculator)\n",
    "# dwc.add_drift_stat('WindowWidth_DICOM', BasicDriftCalculator)\n",
    "\n",
    "\n",
    "# dwc.add_drift_stat('Projection', ChiSqDriftCalculator)\n",
    "# dwc.add_drift_stat('PatientSex_DICOM', ChiSqDriftCalculator)\n",
    "# dwc.add_drift_stat('Modality_DICOM', ChiSqDriftCalculator)\n",
    "\n",
    "dwc.prepare()\n",
    "\n",
    "dwc._metric_collections\n",
    "results = dwc.predict(sample)\n",
    "\n",
    "results"
   ]
  },
  {
   "cell_type": "code",
   "execution_count": 71,
   "metadata": {},
   "outputs": [
    {
     "data": {
      "text/html": [
       "<div>\n",
       "<style scoped>\n",
       "    .dataframe tbody tr th:only-of-type {\n",
       "        vertical-align: middle;\n",
       "    }\n",
       "\n",
       "    .dataframe tbody tr th {\n",
       "        vertical-align: top;\n",
       "    }\n",
       "\n",
       "    .dataframe thead th {\n",
       "        text-align: right;\n",
       "    }\n",
       "</style>\n",
       "<table border=\"1\" class=\"dataframe\">\n",
       "  <thead>\n",
       "    <tr style=\"text-align: right;\">\n",
       "      <th></th>\n",
       "      <th>score</th>\n",
       "      <th>label</th>\n",
       "    </tr>\n",
       "    <tr>\n",
       "      <th>StudyDate</th>\n",
       "      <th></th>\n",
       "      <th></th>\n",
       "    </tr>\n",
       "  </thead>\n",
       "  <tbody>\n",
       "    <tr>\n",
       "      <th>2009-01-01</th>\n",
       "      <td>[-2.717344284057617, -2.160416603088379, -4.56...</td>\n",
       "      <td>[1.0, 0.0, 0.0, 0.0, 0.0, 0.0, 0.0, 0.0, 0.0, ...</td>\n",
       "    </tr>\n",
       "    <tr>\n",
       "      <th>2009-01-01</th>\n",
       "      <td>[0.10726103186607361, -1.5257314443588257, -5....</td>\n",
       "      <td>[1.0, 0.0, 0.0, 0.0, 0.0, 0.0, 0.0, 0.0, 0.0, ...</td>\n",
       "    </tr>\n",
       "    <tr>\n",
       "      <th>2009-01-05</th>\n",
       "      <td>[-4.2155442237854, -5.5012102127075195, -5.245...</td>\n",
       "      <td>[0.0, 0.0, 0.0, 0.0, 0.0, 1.0, 0.0, 0.0, 0.0, ...</td>\n",
       "    </tr>\n",
       "    <tr>\n",
       "      <th>2009-01-05</th>\n",
       "      <td>[-4.403317928314209, -7.054161071777344, -6.42...</td>\n",
       "      <td>[0.0, 0.0, 0.0, 0.0, 0.0, 1.0, 0.0, 0.0, 0.0, ...</td>\n",
       "    </tr>\n",
       "    <tr>\n",
       "      <th>2009-01-05</th>\n",
       "      <td>[-3.0673325061798096, -0.6663748025894165, -4....</td>\n",
       "      <td>[0.0, 0.0, 0.0, 0.0, 0.0, 0.0, 0.0, 1.0, 1.0, ...</td>\n",
       "    </tr>\n",
       "    <tr>\n",
       "      <th>...</th>\n",
       "      <td>...</td>\n",
       "      <td>...</td>\n",
       "    </tr>\n",
       "    <tr>\n",
       "      <th>2009-01-02</th>\n",
       "      <td>[-3.667210102081299, 0.07945184409618378, -3.7...</td>\n",
       "      <td>[0.0, 1.0, 0.0, 0.0, 0.0, 0.0, 0.0, 1.0, 1.0, ...</td>\n",
       "    </tr>\n",
       "    <tr>\n",
       "      <th>2009-01-02</th>\n",
       "      <td>[-3.3252975940704346, -0.948869526386261, -4.6...</td>\n",
       "      <td>[0.0, 1.0, 0.0, 0.0, 0.0, 0.0, 0.0, 1.0, 0.0, ...</td>\n",
       "    </tr>\n",
       "    <tr>\n",
       "      <th>2009-01-02</th>\n",
       "      <td>[-2.1527950763702393, -2.3758788108825684, -2....</td>\n",
       "      <td>[0.0, 0.0, 0.0, 0.0, 0.0, 0.0, 1.0, 0.0, 0.0, ...</td>\n",
       "    </tr>\n",
       "    <tr>\n",
       "      <th>2009-01-02</th>\n",
       "      <td>[-2.4942874908447266, -6.189640998840332, -6.7...</td>\n",
       "      <td>[0.0, 0.0, 0.0, 0.0, 0.0, 1.0, 0.0, 0.0, 0.0, ...</td>\n",
       "    </tr>\n",
       "    <tr>\n",
       "      <th>2009-01-02</th>\n",
       "      <td>[-2.472748041152954, -2.599268913269043, -5.55...</td>\n",
       "      <td>[0.0, 0.0, 0.0, 0.0, 0.0, 1.0, 0.0, 0.0, 0.0, ...</td>\n",
       "    </tr>\n",
       "  </tbody>\n",
       "</table>\n",
       "<p>217 rows × 2 columns</p>\n",
       "</div>"
      ],
      "text/plain": [
       "                                                        score  \\\n",
       "StudyDate                                                       \n",
       "2009-01-01  [-2.717344284057617, -2.160416603088379, -4.56...   \n",
       "2009-01-01  [0.10726103186607361, -1.5257314443588257, -5....   \n",
       "2009-01-05  [-4.2155442237854, -5.5012102127075195, -5.245...   \n",
       "2009-01-05  [-4.403317928314209, -7.054161071777344, -6.42...   \n",
       "2009-01-05  [-3.0673325061798096, -0.6663748025894165, -4....   \n",
       "...                                                       ...   \n",
       "2009-01-02  [-3.667210102081299, 0.07945184409618378, -3.7...   \n",
       "2009-01-02  [-3.3252975940704346, -0.948869526386261, -4.6...   \n",
       "2009-01-02  [-2.1527950763702393, -2.3758788108825684, -2....   \n",
       "2009-01-02  [-2.4942874908447266, -6.189640998840332, -6.7...   \n",
       "2009-01-02  [-2.472748041152954, -2.599268913269043, -5.55...   \n",
       "\n",
       "                                                        label  \n",
       "StudyDate                                                      \n",
       "2009-01-01  [1.0, 0.0, 0.0, 0.0, 0.0, 0.0, 0.0, 0.0, 0.0, ...  \n",
       "2009-01-01  [1.0, 0.0, 0.0, 0.0, 0.0, 0.0, 0.0, 0.0, 0.0, ...  \n",
       "2009-01-05  [0.0, 0.0, 0.0, 0.0, 0.0, 1.0, 0.0, 0.0, 0.0, ...  \n",
       "2009-01-05  [0.0, 0.0, 0.0, 0.0, 0.0, 1.0, 0.0, 0.0, 0.0, ...  \n",
       "2009-01-05  [0.0, 0.0, 0.0, 0.0, 0.0, 0.0, 0.0, 1.0, 1.0, ...  \n",
       "...                                                       ...  \n",
       "2009-01-02  [0.0, 1.0, 0.0, 0.0, 0.0, 0.0, 0.0, 1.0, 1.0, ...  \n",
       "2009-01-02  [0.0, 1.0, 0.0, 0.0, 0.0, 0.0, 0.0, 1.0, 0.0, ...  \n",
       "2009-01-02  [0.0, 0.0, 0.0, 0.0, 0.0, 0.0, 1.0, 0.0, 0.0, ...  \n",
       "2009-01-02  [0.0, 0.0, 0.0, 0.0, 0.0, 1.0, 0.0, 0.0, 0.0, ...  \n",
       "2009-01-02  [0.0, 0.0, 0.0, 0.0, 0.0, 1.0, 0.0, 0.0, 0.0, ...  \n",
       "\n",
       "[217 rows x 2 columns]"
      ]
     },
     "execution_count": 71,
     "metadata": {},
     "output_type": "execute_result"
    }
   ],
   "source": [
    "def sample_frame(df, day, window='30D'):\n",
    "    day_dt = pd.to_datetime(day)\n",
    "    delta = pd.tseries.frequencies.to_offset(window)\n",
    "    return df.loc[str(day_dt - delta):str(day_dt)]\n",
    "\n",
    "\n",
    "\n"
   ]
  },
  {
   "cell_type": "code",
   "execution_count": 74,
   "metadata": {},
   "outputs": [
    {
     "data": {
      "text/plain": [
       "((200,), (200,))"
      ]
     },
     "execution_count": 74,
     "metadata": {},
     "output_type": "execute_result"
    }
   ],
   "source": [
    "labels = sample.iloc[:, 1]\n",
    "scores = sample.iloc[:, 0]\n",
    "labels = np.stack(labels.values)\n",
    "scores = np.stack(scores.values)\n",
    "\n",
    "labels.shape, scores.shape\n",
    "\n"
   ]
  },
  {
   "cell_type": "code",
   "execution_count": 68,
   "metadata": {},
   "outputs": [
    {
     "name": "stderr",
     "output_type": "stream",
     "text": [
      "2007-05-03 - 2017-11-17:  16%|█▌        | 613/3852 [00:02<00:11, 285.91it/s, 2009-01-05]"
     ]
    },
    {
     "name": "stdout",
     "output_type": "stream",
     "text": [
      "(200, 10) (217, 10)\n"
     ]
    },
    {
     "name": "stderr",
     "output_type": "stream",
     "text": [
      "\n"
     ]
    },
    {
     "ename": "ValueError",
     "evalue": "The `preds` and `target` should have the same first dimension.",
     "output_type": "error",
     "traceback": [
      "\u001b[1;31m---------------------------------------------------------------------------\u001b[0m",
      "\u001b[1;31mValueError\u001b[0m                                Traceback (most recent call last)",
      "\u001b[1;32m~\\AppData\\Local\\Temp/ipykernel_32188/2070234599.py\u001b[0m in \u001b[0;36m<module>\u001b[1;34m\u001b[0m\n\u001b[0;32m      1\u001b[0m output = dwc.rolling_window_predict(pc.df.set_index('StudyDate'),\n\u001b[1;32m----> 2\u001b[1;33m                                     stride='D', window='30D', min_periods=200)\n\u001b[0m\u001b[0;32m      3\u001b[0m \u001b[0moutput\u001b[0m\u001b[1;33m\u001b[0m\u001b[1;33m\u001b[0m\u001b[0m\n",
      "\u001b[1;32mD:\\Code\\MLOpsDay2\\MedImaging-ModelDriftMonitoring\\src\\model_drift\\drift\\tabular.py\u001b[0m in \u001b[0;36mrolling_window_predict\u001b[1;34m(self, dataframe, **kwargs)\u001b[0m\n\u001b[0;32m     72\u001b[0m \u001b[1;33m\u001b[0m\u001b[0m\n\u001b[0;32m     73\u001b[0m     \u001b[1;32mdef\u001b[0m \u001b[0mrolling_window_predict\u001b[0m\u001b[1;33m(\u001b[0m\u001b[0mself\u001b[0m\u001b[1;33m,\u001b[0m \u001b[0mdataframe\u001b[0m\u001b[1;33m,\u001b[0m \u001b[1;33m**\u001b[0m\u001b[0mkwargs\u001b[0m\u001b[1;33m)\u001b[0m\u001b[1;33m:\u001b[0m\u001b[1;33m\u001b[0m\u001b[1;33m\u001b[0m\u001b[0m\n\u001b[1;32m---> 74\u001b[1;33m         \u001b[1;32mreturn\u001b[0m \u001b[0mrolling_window_dt_apply\u001b[0m\u001b[1;33m(\u001b[0m\u001b[0mdataframe\u001b[0m\u001b[1;33m,\u001b[0m \u001b[1;32mlambda\u001b[0m \u001b[0mx\u001b[0m\u001b[1;33m:\u001b[0m \u001b[0mself\u001b[0m\u001b[1;33m.\u001b[0m\u001b[0mpredict\u001b[0m\u001b[1;33m(\u001b[0m\u001b[0mx\u001b[0m\u001b[1;33m,\u001b[0m \u001b[0minclude_count\u001b[0m\u001b[1;33m=\u001b[0m\u001b[1;32mFalse\u001b[0m\u001b[1;33m)\u001b[0m\u001b[1;33m,\u001b[0m \u001b[1;33m**\u001b[0m\u001b[0mkwargs\u001b[0m\u001b[1;33m)\u001b[0m\u001b[1;33m\u001b[0m\u001b[1;33m\u001b[0m\u001b[0m\n\u001b[0m",
      "\u001b[1;32mD:\\Code\\MLOpsDay2\\MedImaging-ModelDriftMonitoring\\src\\model_drift\\data\\utils.py\u001b[0m in \u001b[0;36mrolling_window_dt_apply\u001b[1;34m(dataframe, func, window, stride, min_periods)\u001b[0m\n\u001b[0;32m    165\u001b[0m         \u001b[1;32mfor\u001b[0m \u001b[0mi\u001b[0m \u001b[1;32min\u001b[0m \u001b[0mpbar\u001b[0m\u001b[1;33m:\u001b[0m\u001b[1;33m\u001b[0m\u001b[1;33m\u001b[0m\u001b[0m\n\u001b[0;32m    166\u001b[0m             \u001b[0mpbar\u001b[0m\u001b[1;33m.\u001b[0m\u001b[0mset_postfix_str\u001b[0m\u001b[1;33m(\u001b[0m\u001b[0mstr\u001b[0m\u001b[1;33m(\u001b[0m\u001b[0mi\u001b[0m\u001b[1;33m.\u001b[0m\u001b[0mdate\u001b[0m\u001b[1;33m(\u001b[0m\u001b[1;33m)\u001b[0m\u001b[1;33m)\u001b[0m\u001b[1;33m)\u001b[0m\u001b[1;33m\u001b[0m\u001b[1;33m\u001b[0m\u001b[0m\n\u001b[1;32m--> 167\u001b[1;33m             \u001b[0mout\u001b[0m\u001b[1;33m[\u001b[0m\u001b[0mi\u001b[0m\u001b[1;33m]\u001b[0m \u001b[1;33m=\u001b[0m \u001b[0m_apply\u001b[0m\u001b[1;33m(\u001b[0m\u001b[0mi\u001b[0m\u001b[1;33m)\u001b[0m\u001b[1;33m\u001b[0m\u001b[1;33m\u001b[0m\u001b[0m\n\u001b[0m\u001b[0;32m    168\u001b[0m     \u001b[1;32mreturn\u001b[0m \u001b[0mpd\u001b[0m\u001b[1;33m.\u001b[0m\u001b[0mconcat\u001b[0m\u001b[1;33m(\u001b[0m\u001b[0mout\u001b[0m\u001b[1;33m,\u001b[0m \u001b[0maxis\u001b[0m\u001b[1;33m=\u001b[0m\u001b[1;36m0\u001b[0m\u001b[1;33m)\u001b[0m\u001b[1;33m.\u001b[0m\u001b[0munstack\u001b[0m\u001b[1;33m(\u001b[0m\u001b[0mlevel\u001b[0m\u001b[1;33m=\u001b[0m\u001b[1;36m0\u001b[0m\u001b[1;33m)\u001b[0m\u001b[1;33m.\u001b[0m\u001b[0mT\u001b[0m\u001b[1;33m\u001b[0m\u001b[1;33m\u001b[0m\u001b[0m\n",
      "\u001b[1;32mD:\\Code\\MLOpsDay2\\MedImaging-ModelDriftMonitoring\\src\\model_drift\\data\\utils.py\u001b[0m in \u001b[0;36m_apply\u001b[1;34m(i)\u001b[0m\n\u001b[0;32m    157\u001b[0m         \u001b[1;32mif\u001b[0m \u001b[0mlen\u001b[0m\u001b[1;33m(\u001b[0m\u001b[0mx\u001b[0m\u001b[1;33m)\u001b[0m \u001b[1;33m<\u001b[0m \u001b[0mmin_periods\u001b[0m\u001b[1;33m:\u001b[0m\u001b[1;33m\u001b[0m\u001b[1;33m\u001b[0m\u001b[0m\n\u001b[0;32m    158\u001b[0m             \u001b[1;32mreturn\u001b[0m \u001b[1;32mNone\u001b[0m\u001b[1;33m\u001b[0m\u001b[1;33m\u001b[0m\u001b[0m\n\u001b[1;32m--> 159\u001b[1;33m         \u001b[0mpreds\u001b[0m \u001b[1;33m=\u001b[0m \u001b[0mfunc\u001b[0m\u001b[1;33m(\u001b[0m\u001b[0mx\u001b[0m\u001b[1;33m)\u001b[0m\u001b[1;33m\u001b[0m\u001b[1;33m\u001b[0m\u001b[0m\n\u001b[0m\u001b[0;32m    160\u001b[0m         \u001b[0mpreds\u001b[0m\u001b[1;33m[\u001b[0m\u001b[1;34m\"count\"\u001b[0m\u001b[1;33m]\u001b[0m \u001b[1;33m=\u001b[0m \u001b[0mlen\u001b[0m\u001b[1;33m(\u001b[0m\u001b[0mx\u001b[0m\u001b[1;33m)\u001b[0m\u001b[1;33m\u001b[0m\u001b[1;33m\u001b[0m\u001b[0m\n\u001b[0;32m    161\u001b[0m         \u001b[1;32mreturn\u001b[0m \u001b[0mnested2series\u001b[0m\u001b[1;33m(\u001b[0m\u001b[0mpreds\u001b[0m\u001b[1;33m)\u001b[0m\u001b[1;33m\u001b[0m\u001b[1;33m\u001b[0m\u001b[0m\n",
      "\u001b[1;32mD:\\Code\\MLOpsDay2\\MedImaging-ModelDriftMonitoring\\src\\model_drift\\drift\\tabular.py\u001b[0m in \u001b[0;36m<lambda>\u001b[1;34m(x)\u001b[0m\n\u001b[0;32m     72\u001b[0m \u001b[1;33m\u001b[0m\u001b[0m\n\u001b[0;32m     73\u001b[0m     \u001b[1;32mdef\u001b[0m \u001b[0mrolling_window_predict\u001b[0m\u001b[1;33m(\u001b[0m\u001b[0mself\u001b[0m\u001b[1;33m,\u001b[0m \u001b[0mdataframe\u001b[0m\u001b[1;33m,\u001b[0m \u001b[1;33m**\u001b[0m\u001b[0mkwargs\u001b[0m\u001b[1;33m)\u001b[0m\u001b[1;33m:\u001b[0m\u001b[1;33m\u001b[0m\u001b[1;33m\u001b[0m\u001b[0m\n\u001b[1;32m---> 74\u001b[1;33m         \u001b[1;32mreturn\u001b[0m \u001b[0mrolling_window_dt_apply\u001b[0m\u001b[1;33m(\u001b[0m\u001b[0mdataframe\u001b[0m\u001b[1;33m,\u001b[0m \u001b[1;32mlambda\u001b[0m \u001b[0mx\u001b[0m\u001b[1;33m:\u001b[0m \u001b[0mself\u001b[0m\u001b[1;33m.\u001b[0m\u001b[0mpredict\u001b[0m\u001b[1;33m(\u001b[0m\u001b[0mx\u001b[0m\u001b[1;33m,\u001b[0m \u001b[0minclude_count\u001b[0m\u001b[1;33m=\u001b[0m\u001b[1;32mFalse\u001b[0m\u001b[1;33m)\u001b[0m\u001b[1;33m,\u001b[0m \u001b[1;33m**\u001b[0m\u001b[0mkwargs\u001b[0m\u001b[1;33m)\u001b[0m\u001b[1;33m\u001b[0m\u001b[1;33m\u001b[0m\u001b[0m\n\u001b[0m",
      "\u001b[1;32mD:\\Code\\MLOpsDay2\\MedImaging-ModelDriftMonitoring\\src\\model_drift\\drift\\tabular.py\u001b[0m in \u001b[0;36mpredict\u001b[1;34m(self, sample, cols, include_count)\u001b[0m\n\u001b[0;32m     52\u001b[0m         \u001b[1;32melse\u001b[0m\u001b[1;33m:\u001b[0m\u001b[1;33m\u001b[0m\u001b[1;33m\u001b[0m\u001b[0m\n\u001b[0;32m     53\u001b[0m             \u001b[0mcols\u001b[0m \u001b[1;33m=\u001b[0m \u001b[0mself\u001b[0m\u001b[1;33m.\u001b[0m\u001b[0m_metric_collections\u001b[0m\u001b[1;33m.\u001b[0m\u001b[0mkeys\u001b[0m\u001b[1;33m(\u001b[0m\u001b[1;33m)\u001b[0m\u001b[1;33m\u001b[0m\u001b[1;33m\u001b[0m\u001b[0m\n\u001b[1;32m---> 54\u001b[1;33m         \u001b[0mout\u001b[0m \u001b[1;33m=\u001b[0m \u001b[1;33m{\u001b[0m\u001b[0mcol\u001b[0m\u001b[1;33m:\u001b[0m \u001b[0mself\u001b[0m\u001b[1;33m.\u001b[0m\u001b[0m_predict_col\u001b[0m\u001b[1;33m(\u001b[0m\u001b[0mcol\u001b[0m\u001b[1;33m,\u001b[0m \u001b[0msample\u001b[0m\u001b[1;33m)\u001b[0m \u001b[1;32mfor\u001b[0m \u001b[0mcol\u001b[0m \u001b[1;32min\u001b[0m \u001b[0mcols\u001b[0m\u001b[1;33m}\u001b[0m\u001b[1;33m\u001b[0m\u001b[1;33m\u001b[0m\u001b[0m\n\u001b[0m\u001b[0;32m     55\u001b[0m         \u001b[1;32mif\u001b[0m \u001b[0minclude_count\u001b[0m\u001b[1;33m:\u001b[0m\u001b[1;33m\u001b[0m\u001b[1;33m\u001b[0m\u001b[0m\n\u001b[0;32m     56\u001b[0m             \u001b[0mout\u001b[0m\u001b[1;33m[\u001b[0m\u001b[1;34m'count'\u001b[0m\u001b[1;33m]\u001b[0m \u001b[1;33m=\u001b[0m \u001b[0mlen\u001b[0m\u001b[1;33m(\u001b[0m\u001b[0msample\u001b[0m\u001b[1;33m)\u001b[0m\u001b[1;33m\u001b[0m\u001b[1;33m\u001b[0m\u001b[0m\n",
      "\u001b[1;32mD:\\Code\\MLOpsDay2\\MedImaging-ModelDriftMonitoring\\src\\model_drift\\drift\\tabular.py\u001b[0m in \u001b[0;36m<dictcomp>\u001b[1;34m(.0)\u001b[0m\n\u001b[0;32m     52\u001b[0m         \u001b[1;32melse\u001b[0m\u001b[1;33m:\u001b[0m\u001b[1;33m\u001b[0m\u001b[1;33m\u001b[0m\u001b[0m\n\u001b[0;32m     53\u001b[0m             \u001b[0mcols\u001b[0m \u001b[1;33m=\u001b[0m \u001b[0mself\u001b[0m\u001b[1;33m.\u001b[0m\u001b[0m_metric_collections\u001b[0m\u001b[1;33m.\u001b[0m\u001b[0mkeys\u001b[0m\u001b[1;33m(\u001b[0m\u001b[1;33m)\u001b[0m\u001b[1;33m\u001b[0m\u001b[1;33m\u001b[0m\u001b[0m\n\u001b[1;32m---> 54\u001b[1;33m         \u001b[0mout\u001b[0m \u001b[1;33m=\u001b[0m \u001b[1;33m{\u001b[0m\u001b[0mcol\u001b[0m\u001b[1;33m:\u001b[0m \u001b[0mself\u001b[0m\u001b[1;33m.\u001b[0m\u001b[0m_predict_col\u001b[0m\u001b[1;33m(\u001b[0m\u001b[0mcol\u001b[0m\u001b[1;33m,\u001b[0m \u001b[0msample\u001b[0m\u001b[1;33m)\u001b[0m \u001b[1;32mfor\u001b[0m \u001b[0mcol\u001b[0m \u001b[1;32min\u001b[0m \u001b[0mcols\u001b[0m\u001b[1;33m}\u001b[0m\u001b[1;33m\u001b[0m\u001b[1;33m\u001b[0m\u001b[0m\n\u001b[0m\u001b[0;32m     55\u001b[0m         \u001b[1;32mif\u001b[0m \u001b[0minclude_count\u001b[0m\u001b[1;33m:\u001b[0m\u001b[1;33m\u001b[0m\u001b[1;33m\u001b[0m\u001b[0m\n\u001b[0;32m     56\u001b[0m             \u001b[0mout\u001b[0m\u001b[1;33m[\u001b[0m\u001b[1;34m'count'\u001b[0m\u001b[1;33m]\u001b[0m \u001b[1;33m=\u001b[0m \u001b[0mlen\u001b[0m\u001b[1;33m(\u001b[0m\u001b[0msample\u001b[0m\u001b[1;33m)\u001b[0m\u001b[1;33m\u001b[0m\u001b[1;33m\u001b[0m\u001b[0m\n",
      "\u001b[1;32mD:\\Code\\MLOpsDay2\\MedImaging-ModelDriftMonitoring\\src\\model_drift\\drift\\tabular.py\u001b[0m in \u001b[0;36m_predict_col\u001b[1;34m(self, col, sample)\u001b[0m\n\u001b[0;32m     44\u001b[0m \u001b[1;33m\u001b[0m\u001b[0m\n\u001b[0;32m     45\u001b[0m     \u001b[1;32mdef\u001b[0m \u001b[0m_predict_col\u001b[0m\u001b[1;33m(\u001b[0m\u001b[0mself\u001b[0m\u001b[1;33m,\u001b[0m \u001b[0mcol\u001b[0m\u001b[1;33m,\u001b[0m \u001b[0msample\u001b[0m\u001b[1;33m)\u001b[0m\u001b[1;33m:\u001b[0m\u001b[1;33m\u001b[0m\u001b[1;33m\u001b[0m\u001b[0m\n\u001b[1;32m---> 46\u001b[1;33m         \u001b[1;32mreturn\u001b[0m \u001b[0mself\u001b[0m\u001b[1;33m.\u001b[0m\u001b[0m_metric_collections\u001b[0m\u001b[1;33m[\u001b[0m\u001b[0mcol\u001b[0m\u001b[1;33m]\u001b[0m\u001b[1;33m(\u001b[0m\u001b[0msample\u001b[0m\u001b[1;33m[\u001b[0m\u001b[0mself\u001b[0m\u001b[1;33m.\u001b[0m\u001b[0mcol_to_col\u001b[0m\u001b[1;33m(\u001b[0m\u001b[0mcol\u001b[0m\u001b[1;33m)\u001b[0m\u001b[1;33m]\u001b[0m\u001b[1;33m)\u001b[0m\u001b[1;33m\u001b[0m\u001b[1;33m\u001b[0m\u001b[0m\n\u001b[0m\u001b[0;32m     47\u001b[0m \u001b[1;33m\u001b[0m\u001b[0m\n\u001b[0;32m     48\u001b[0m     \u001b[1;32mdef\u001b[0m \u001b[0mpredict\u001b[0m\u001b[1;33m(\u001b[0m\u001b[0mself\u001b[0m\u001b[1;33m,\u001b[0m \u001b[0msample\u001b[0m\u001b[1;33m,\u001b[0m \u001b[0mcols\u001b[0m\u001b[1;33m=\u001b[0m\u001b[1;32mNone\u001b[0m\u001b[1;33m,\u001b[0m \u001b[0minclude_count\u001b[0m\u001b[1;33m=\u001b[0m\u001b[1;32mTrue\u001b[0m\u001b[1;33m)\u001b[0m\u001b[1;33m:\u001b[0m\u001b[1;33m\u001b[0m\u001b[1;33m\u001b[0m\u001b[0m\n",
      "\u001b[1;32mD:\\Code\\MLOpsDay2\\MedImaging-ModelDriftMonitoring\\src\\model_drift\\drift\\base.py\u001b[0m in \u001b[0;36m__call__\u001b[1;34m(self, sample)\u001b[0m\n\u001b[0;32m     13\u001b[0m \u001b[1;33m\u001b[0m\u001b[0m\n\u001b[0;32m     14\u001b[0m     \u001b[1;32mdef\u001b[0m \u001b[0m__call__\u001b[0m\u001b[1;33m(\u001b[0m\u001b[0mself\u001b[0m\u001b[1;33m,\u001b[0m \u001b[0msample\u001b[0m\u001b[1;33m)\u001b[0m\u001b[1;33m:\u001b[0m\u001b[1;33m\u001b[0m\u001b[1;33m\u001b[0m\u001b[0m\n\u001b[1;32m---> 15\u001b[1;33m         \u001b[1;32mreturn\u001b[0m \u001b[0mself\u001b[0m\u001b[1;33m.\u001b[0m\u001b[0mpredict\u001b[0m\u001b[1;33m(\u001b[0m\u001b[0msample\u001b[0m\u001b[1;33m)\u001b[0m\u001b[1;33m\u001b[0m\u001b[1;33m\u001b[0m\u001b[0m\n\u001b[0m",
      "\u001b[1;32mD:\\Code\\MLOpsDay2\\MedImaging-ModelDriftMonitoring\\src\\model_drift\\drift\\collection.py\u001b[0m in \u001b[0;36mpredict\u001b[1;34m(self, sample)\u001b[0m\n\u001b[0;32m      7\u001b[0m \u001b[1;33m\u001b[0m\u001b[0m\n\u001b[0;32m      8\u001b[0m     \u001b[1;32mdef\u001b[0m \u001b[0mpredict\u001b[0m\u001b[1;33m(\u001b[0m\u001b[0mself\u001b[0m\u001b[1;33m,\u001b[0m \u001b[0msample\u001b[0m\u001b[1;33m)\u001b[0m\u001b[1;33m:\u001b[0m\u001b[1;33m\u001b[0m\u001b[1;33m\u001b[0m\u001b[0m\n\u001b[1;32m----> 9\u001b[1;33m         \u001b[1;32mreturn\u001b[0m \u001b[1;33m{\u001b[0m\u001b[0mdc\u001b[0m\u001b[1;33m.\u001b[0m\u001b[0mname\u001b[0m\u001b[1;33m:\u001b[0m \u001b[0mdc\u001b[0m\u001b[1;33m.\u001b[0m\u001b[0mpredict\u001b[0m\u001b[1;33m(\u001b[0m\u001b[0msample\u001b[0m\u001b[1;33m)\u001b[0m \u001b[1;32mfor\u001b[0m \u001b[0mdc\u001b[0m \u001b[1;32min\u001b[0m \u001b[0mself\u001b[0m\u001b[1;33m.\u001b[0m\u001b[0mcollection\u001b[0m\u001b[1;33m}\u001b[0m\u001b[1;33m\u001b[0m\u001b[1;33m\u001b[0m\u001b[0m\n\u001b[0m",
      "\u001b[1;32mD:\\Code\\MLOpsDay2\\MedImaging-ModelDriftMonitoring\\src\\model_drift\\drift\\collection.py\u001b[0m in \u001b[0;36m<dictcomp>\u001b[1;34m(.0)\u001b[0m\n\u001b[0;32m      7\u001b[0m \u001b[1;33m\u001b[0m\u001b[0m\n\u001b[0;32m      8\u001b[0m     \u001b[1;32mdef\u001b[0m \u001b[0mpredict\u001b[0m\u001b[1;33m(\u001b[0m\u001b[0mself\u001b[0m\u001b[1;33m,\u001b[0m \u001b[0msample\u001b[0m\u001b[1;33m)\u001b[0m\u001b[1;33m:\u001b[0m\u001b[1;33m\u001b[0m\u001b[1;33m\u001b[0m\u001b[0m\n\u001b[1;32m----> 9\u001b[1;33m         \u001b[1;32mreturn\u001b[0m \u001b[1;33m{\u001b[0m\u001b[0mdc\u001b[0m\u001b[1;33m.\u001b[0m\u001b[0mname\u001b[0m\u001b[1;33m:\u001b[0m \u001b[0mdc\u001b[0m\u001b[1;33m.\u001b[0m\u001b[0mpredict\u001b[0m\u001b[1;33m(\u001b[0m\u001b[0msample\u001b[0m\u001b[1;33m)\u001b[0m \u001b[1;32mfor\u001b[0m \u001b[0mdc\u001b[0m \u001b[1;32min\u001b[0m \u001b[0mself\u001b[0m\u001b[1;33m.\u001b[0m\u001b[0mcollection\u001b[0m\u001b[1;33m}\u001b[0m\u001b[1;33m\u001b[0m\u001b[1;33m\u001b[0m\u001b[0m\n\u001b[0m",
      "\u001b[1;32m~\\AppData\\Local\\Temp/ipykernel_32188/478013811.py\u001b[0m in \u001b[0;36mpredict\u001b[1;34m(self, sample)\u001b[0m\n\u001b[0;32m     14\u001b[0m         \u001b[1;32mif\u001b[0m \u001b[0mself\u001b[0m\u001b[1;33m.\u001b[0m\u001b[0maverage\u001b[0m \u001b[1;33m==\u001b[0m \u001b[1;34m\"macro\"\u001b[0m\u001b[1;33m:\u001b[0m\u001b[1;33m\u001b[0m\u001b[1;33m\u001b[0m\u001b[0m\n\u001b[0;32m     15\u001b[0m             \u001b[1;32mreturn\u001b[0m \u001b[0mmacro_auc\u001b[0m\u001b[1;33m(\u001b[0m\u001b[0mscores\u001b[0m\u001b[1;33m,\u001b[0m \u001b[0mlabels\u001b[0m\u001b[1;33m)\u001b[0m\u001b[1;33m\u001b[0m\u001b[1;33m\u001b[0m\u001b[0m\n\u001b[1;32m---> 16\u001b[1;33m         \u001b[1;32mreturn\u001b[0m \u001b[0mmicro_auc\u001b[0m\u001b[1;33m(\u001b[0m\u001b[0mscores\u001b[0m\u001b[1;33m,\u001b[0m \u001b[0mlabels\u001b[0m\u001b[1;33m)\u001b[0m\u001b[1;33m\u001b[0m\u001b[1;33m\u001b[0m\u001b[0m\n\u001b[0m\u001b[0;32m     17\u001b[0m \u001b[1;33m\u001b[0m\u001b[0m\n\u001b[0;32m     18\u001b[0m \u001b[0mcd\u001b[0m \u001b[1;33m=\u001b[0m \u001b[0mAUROCCalculator\u001b[0m\u001b[1;33m(\u001b[0m\u001b[1;33m)\u001b[0m\u001b[1;33m\u001b[0m\u001b[1;33m\u001b[0m\u001b[0m\n",
      "\u001b[1;32m~\\AppData\\Local\\Temp/ipykernel_32188/3848934743.py\u001b[0m in \u001b[0;36mmicro_auc\u001b[1;34m(score, labels)\u001b[0m\n\u001b[0;32m     22\u001b[0m \u001b[1;32mdef\u001b[0m \u001b[0mmicro_auc\u001b[0m\u001b[1;33m(\u001b[0m\u001b[0mscore\u001b[0m\u001b[1;33m,\u001b[0m \u001b[0mlabels\u001b[0m\u001b[1;33m)\u001b[0m\u001b[1;33m:\u001b[0m\u001b[1;33m\u001b[0m\u001b[1;33m\u001b[0m\u001b[0m\n\u001b[0;32m     23\u001b[0m     \u001b[0mprint\u001b[0m\u001b[1;33m(\u001b[0m\u001b[0mscores\u001b[0m\u001b[1;33m.\u001b[0m\u001b[0mshape\u001b[0m\u001b[1;33m,\u001b[0m \u001b[0mlabels\u001b[0m\u001b[1;33m.\u001b[0m\u001b[0mshape\u001b[0m\u001b[1;33m)\u001b[0m\u001b[1;33m\u001b[0m\u001b[1;33m\u001b[0m\u001b[0m\n\u001b[1;32m---> 24\u001b[1;33m     \u001b[1;32mreturn\u001b[0m \u001b[0mfloat\u001b[0m\u001b[1;33m(\u001b[0m\u001b[0mauroc\u001b[0m\u001b[1;33m(\u001b[0m\u001b[0mtorch\u001b[0m\u001b[1;33m.\u001b[0m\u001b[0mtensor\u001b[0m\u001b[1;33m(\u001b[0m\u001b[0mscores\u001b[0m\u001b[1;33m)\u001b[0m\u001b[1;33m,\u001b[0m \u001b[0mtorch\u001b[0m\u001b[1;33m.\u001b[0m\u001b[0mtensor\u001b[0m\u001b[1;33m(\u001b[0m\u001b[0mlabels\u001b[0m\u001b[1;33m)\u001b[0m\u001b[1;33m.\u001b[0m\u001b[0mlong\u001b[0m\u001b[1;33m(\u001b[0m\u001b[1;33m)\u001b[0m\u001b[1;33m,\u001b[0m \u001b[0maverage\u001b[0m\u001b[1;33m=\u001b[0m\u001b[1;34m'micro'\u001b[0m\u001b[1;33m)\u001b[0m\u001b[1;33m.\u001b[0m\u001b[0mnumpy\u001b[0m\u001b[1;33m(\u001b[0m\u001b[1;33m)\u001b[0m\u001b[1;33m)\u001b[0m\u001b[1;33m\u001b[0m\u001b[1;33m\u001b[0m\u001b[0m\n\u001b[0m\u001b[0;32m     25\u001b[0m \u001b[1;33m\u001b[0m\u001b[0m\n\u001b[0;32m     26\u001b[0m \u001b[1;33m\u001b[0m\u001b[0m\n",
      "\u001b[1;32mD:\\Code\\MLOpsDay2\\MedImaging-ModelDriftMonitoring\\.venv\\lib\\site-packages\\torchmetrics\\functional\\classification\\auroc.py\u001b[0m in \u001b[0;36mauroc\u001b[1;34m(preds, target, num_classes, pos_label, average, max_fpr, sample_weights)\u001b[0m\n\u001b[0;32m    198\u001b[0m         \u001b[0mtensor\u001b[0m\u001b[1;33m(\u001b[0m\u001b[1;36m0.7778\u001b[0m\u001b[1;33m)\u001b[0m\u001b[1;33m\u001b[0m\u001b[1;33m\u001b[0m\u001b[0m\n\u001b[0;32m    199\u001b[0m     \"\"\"\n\u001b[1;32m--> 200\u001b[1;33m     \u001b[0mpreds\u001b[0m\u001b[1;33m,\u001b[0m \u001b[0mtarget\u001b[0m\u001b[1;33m,\u001b[0m \u001b[0mmode\u001b[0m \u001b[1;33m=\u001b[0m \u001b[0m_auroc_update\u001b[0m\u001b[1;33m(\u001b[0m\u001b[0mpreds\u001b[0m\u001b[1;33m,\u001b[0m \u001b[0mtarget\u001b[0m\u001b[1;33m)\u001b[0m\u001b[1;33m\u001b[0m\u001b[1;33m\u001b[0m\u001b[0m\n\u001b[0m\u001b[0;32m    201\u001b[0m     \u001b[1;32mreturn\u001b[0m \u001b[0m_auroc_compute\u001b[0m\u001b[1;33m(\u001b[0m\u001b[0mpreds\u001b[0m\u001b[1;33m,\u001b[0m \u001b[0mtarget\u001b[0m\u001b[1;33m,\u001b[0m \u001b[0mmode\u001b[0m\u001b[1;33m,\u001b[0m \u001b[0mnum_classes\u001b[0m\u001b[1;33m,\u001b[0m \u001b[0mpos_label\u001b[0m\u001b[1;33m,\u001b[0m \u001b[0maverage\u001b[0m\u001b[1;33m,\u001b[0m \u001b[0mmax_fpr\u001b[0m\u001b[1;33m,\u001b[0m \u001b[0msample_weights\u001b[0m\u001b[1;33m)\u001b[0m\u001b[1;33m\u001b[0m\u001b[1;33m\u001b[0m\u001b[0m\n",
      "\u001b[1;32mD:\\Code\\MLOpsDay2\\MedImaging-ModelDriftMonitoring\\.venv\\lib\\site-packages\\torchmetrics\\functional\\classification\\auroc.py\u001b[0m in \u001b[0;36m_auroc_update\u001b[1;34m(preds, target)\u001b[0m\n\u001b[0;32m     26\u001b[0m \u001b[1;32mdef\u001b[0m \u001b[0m_auroc_update\u001b[0m\u001b[1;33m(\u001b[0m\u001b[0mpreds\u001b[0m\u001b[1;33m:\u001b[0m \u001b[0mTensor\u001b[0m\u001b[1;33m,\u001b[0m \u001b[0mtarget\u001b[0m\u001b[1;33m:\u001b[0m \u001b[0mTensor\u001b[0m\u001b[1;33m)\u001b[0m \u001b[1;33m->\u001b[0m \u001b[0mTuple\u001b[0m\u001b[1;33m[\u001b[0m\u001b[0mTensor\u001b[0m\u001b[1;33m,\u001b[0m \u001b[0mTensor\u001b[0m\u001b[1;33m,\u001b[0m \u001b[0mDataType\u001b[0m\u001b[1;33m]\u001b[0m\u001b[1;33m:\u001b[0m\u001b[1;33m\u001b[0m\u001b[1;33m\u001b[0m\u001b[0m\n\u001b[0;32m     27\u001b[0m     \u001b[1;31m# use _input_format_classification for validating the input and get the mode of data\u001b[0m\u001b[1;33m\u001b[0m\u001b[1;33m\u001b[0m\u001b[1;33m\u001b[0m\u001b[0m\n\u001b[1;32m---> 28\u001b[1;33m     \u001b[0m_\u001b[0m\u001b[1;33m,\u001b[0m \u001b[0m_\u001b[0m\u001b[1;33m,\u001b[0m \u001b[0mmode\u001b[0m \u001b[1;33m=\u001b[0m \u001b[0m_input_format_classification\u001b[0m\u001b[1;33m(\u001b[0m\u001b[0mpreds\u001b[0m\u001b[1;33m,\u001b[0m \u001b[0mtarget\u001b[0m\u001b[1;33m)\u001b[0m\u001b[1;33m\u001b[0m\u001b[1;33m\u001b[0m\u001b[0m\n\u001b[0m\u001b[0;32m     29\u001b[0m \u001b[1;33m\u001b[0m\u001b[0m\n\u001b[0;32m     30\u001b[0m     \u001b[1;32mif\u001b[0m \u001b[0mmode\u001b[0m \u001b[1;33m==\u001b[0m \u001b[1;34m'multi class multi dim'\u001b[0m\u001b[1;33m:\u001b[0m\u001b[1;33m\u001b[0m\u001b[1;33m\u001b[0m\u001b[0m\n",
      "\u001b[1;32mD:\\Code\\MLOpsDay2\\MedImaging-ModelDriftMonitoring\\.venv\\lib\\site-packages\\torchmetrics\\utilities\\checks.py\u001b[0m in \u001b[0;36m_input_format_classification\u001b[1;34m(preds, target, threshold, top_k, num_classes, multiclass)\u001b[0m\n\u001b[0;32m    415\u001b[0m         \u001b[0mnum_classes\u001b[0m\u001b[1;33m=\u001b[0m\u001b[0mnum_classes\u001b[0m\u001b[1;33m,\u001b[0m\u001b[1;33m\u001b[0m\u001b[1;33m\u001b[0m\u001b[0m\n\u001b[0;32m    416\u001b[0m         \u001b[0mmulticlass\u001b[0m\u001b[1;33m=\u001b[0m\u001b[0mmulticlass\u001b[0m\u001b[1;33m,\u001b[0m\u001b[1;33m\u001b[0m\u001b[1;33m\u001b[0m\u001b[0m\n\u001b[1;32m--> 417\u001b[1;33m         \u001b[0mtop_k\u001b[0m\u001b[1;33m=\u001b[0m\u001b[0mtop_k\u001b[0m\u001b[1;33m,\u001b[0m\u001b[1;33m\u001b[0m\u001b[1;33m\u001b[0m\u001b[0m\n\u001b[0m\u001b[0;32m    418\u001b[0m     )\n\u001b[0;32m    419\u001b[0m \u001b[1;33m\u001b[0m\u001b[0m\n",
      "\u001b[1;32mD:\\Code\\MLOpsDay2\\MedImaging-ModelDriftMonitoring\\.venv\\lib\\site-packages\\torchmetrics\\utilities\\checks.py\u001b[0m in \u001b[0;36m_check_classification_inputs\u001b[1;34m(preds, target, threshold, num_classes, multiclass, top_k)\u001b[0m\n\u001b[0;32m    264\u001b[0m \u001b[1;33m\u001b[0m\u001b[0m\n\u001b[0;32m    265\u001b[0m     \u001b[1;31m# Basic validation (that does not need case/type information)\u001b[0m\u001b[1;33m\u001b[0m\u001b[1;33m\u001b[0m\u001b[1;33m\u001b[0m\u001b[0m\n\u001b[1;32m--> 266\u001b[1;33m     \u001b[0m_basic_input_validation\u001b[0m\u001b[1;33m(\u001b[0m\u001b[0mpreds\u001b[0m\u001b[1;33m,\u001b[0m \u001b[0mtarget\u001b[0m\u001b[1;33m,\u001b[0m \u001b[0mthreshold\u001b[0m\u001b[1;33m,\u001b[0m \u001b[0mmulticlass\u001b[0m\u001b[1;33m)\u001b[0m\u001b[1;33m\u001b[0m\u001b[1;33m\u001b[0m\u001b[0m\n\u001b[0m\u001b[0;32m    267\u001b[0m \u001b[1;33m\u001b[0m\u001b[0m\n\u001b[0;32m    268\u001b[0m     \u001b[1;31m# Check that shape/types fall into one of the cases\u001b[0m\u001b[1;33m\u001b[0m\u001b[1;33m\u001b[0m\u001b[1;33m\u001b[0m\u001b[0m\n",
      "\u001b[1;32mD:\\Code\\MLOpsDay2\\MedImaging-ModelDriftMonitoring\\.venv\\lib\\site-packages\\torchmetrics\\utilities\\checks.py\u001b[0m in \u001b[0;36m_basic_input_validation\u001b[1;34m(preds, target, threshold, multiclass)\u001b[0m\n\u001b[0;32m     43\u001b[0m \u001b[1;33m\u001b[0m\u001b[0m\n\u001b[0;32m     44\u001b[0m     \u001b[1;32mif\u001b[0m \u001b[1;32mnot\u001b[0m \u001b[0mpreds\u001b[0m\u001b[1;33m.\u001b[0m\u001b[0mshape\u001b[0m\u001b[1;33m[\u001b[0m\u001b[1;36m0\u001b[0m\u001b[1;33m]\u001b[0m \u001b[1;33m==\u001b[0m \u001b[0mtarget\u001b[0m\u001b[1;33m.\u001b[0m\u001b[0mshape\u001b[0m\u001b[1;33m[\u001b[0m\u001b[1;36m0\u001b[0m\u001b[1;33m]\u001b[0m\u001b[1;33m:\u001b[0m\u001b[1;33m\u001b[0m\u001b[1;33m\u001b[0m\u001b[0m\n\u001b[1;32m---> 45\u001b[1;33m         \u001b[1;32mraise\u001b[0m \u001b[0mValueError\u001b[0m\u001b[1;33m(\u001b[0m\u001b[1;34m\"The `preds` and `target` should have the same first dimension.\"\u001b[0m\u001b[1;33m)\u001b[0m\u001b[1;33m\u001b[0m\u001b[1;33m\u001b[0m\u001b[0m\n\u001b[0m\u001b[0;32m     46\u001b[0m \u001b[1;33m\u001b[0m\u001b[0m\n\u001b[0;32m     47\u001b[0m     \u001b[1;32mif\u001b[0m \u001b[0mmulticlass\u001b[0m \u001b[1;32mis\u001b[0m \u001b[1;32mFalse\u001b[0m \u001b[1;32mand\u001b[0m \u001b[0mtarget\u001b[0m\u001b[1;33m.\u001b[0m\u001b[0mmax\u001b[0m\u001b[1;33m(\u001b[0m\u001b[1;33m)\u001b[0m \u001b[1;33m>\u001b[0m \u001b[1;36m1\u001b[0m\u001b[1;33m:\u001b[0m\u001b[1;33m\u001b[0m\u001b[1;33m\u001b[0m\u001b[0m\n",
      "\u001b[1;31mValueError\u001b[0m: The `preds` and `target` should have the same first dimension."
     ]
    }
   ],
   "source": [
    "output = dwc.rolling_window_predict(pc.df.set_index('StudyDate'),\n",
    "                                    stride='D', window='30D', min_periods=200)\n",
    "output"
   ]
  },
  {
   "cell_type": "code",
   "execution_count": 47,
   "metadata": {},
   "outputs": [],
   "source": [
    "output[['score']].to_csv(settings.TOP_DIR.joinpath(\"results\", \"drift_csvs\", \"perf_D-30D.csv\"))"
   ]
  },
  {
   "cell_type": "code",
   "execution_count": 30,
   "metadata": {},
   "outputs": [
    {
     "data": {
      "text/html": [
       "<div>\n",
       "<style scoped>\n",
       "    .dataframe tbody tr th:only-of-type {\n",
       "        vertical-align: middle;\n",
       "    }\n",
       "\n",
       "    .dataframe tbody tr th {\n",
       "        vertical-align: top;\n",
       "    }\n",
       "\n",
       "    .dataframe thead th {\n",
       "        text-align: right;\n",
       "    }\n",
       "</style>\n",
       "<table border=\"1\" class=\"dataframe\">\n",
       "  <thead>\n",
       "    <tr style=\"text-align: right;\">\n",
       "      <th></th>\n",
       "      <th>auroc</th>\n",
       "    </tr>\n",
       "  </thead>\n",
       "  <tbody>\n",
       "    <tr>\n",
       "      <th>2010-10-14</th>\n",
       "      <td>1.0</td>\n",
       "    </tr>\n",
       "    <tr>\n",
       "      <th>2012-02-22</th>\n",
       "      <td>1.0</td>\n",
       "    </tr>\n",
       "    <tr>\n",
       "      <th>2012-05-27</th>\n",
       "      <td>1.0</td>\n",
       "    </tr>\n",
       "    <tr>\n",
       "      <th>2012-01-28</th>\n",
       "      <td>1.0</td>\n",
       "    </tr>\n",
       "    <tr>\n",
       "      <th>2012-03-23</th>\n",
       "      <td>1.0</td>\n",
       "    </tr>\n",
       "    <tr>\n",
       "      <th>2009-04-16</th>\n",
       "      <td>1.0</td>\n",
       "    </tr>\n",
       "    <tr>\n",
       "      <th>2011-06-23</th>\n",
       "      <td>1.0</td>\n",
       "    </tr>\n",
       "    <tr>\n",
       "      <th>2010-04-22</th>\n",
       "      <td>1.0</td>\n",
       "    </tr>\n",
       "    <tr>\n",
       "      <th>2010-04-23</th>\n",
       "      <td>1.0</td>\n",
       "    </tr>\n",
       "    <tr>\n",
       "      <th>2009-04-08</th>\n",
       "      <td>1.0</td>\n",
       "    </tr>\n",
       "    <tr>\n",
       "      <th>2011-05-28</th>\n",
       "      <td>1.0</td>\n",
       "    </tr>\n",
       "    <tr>\n",
       "      <th>2011-01-06</th>\n",
       "      <td>1.0</td>\n",
       "    </tr>\n",
       "    <tr>\n",
       "      <th>2010-07-10</th>\n",
       "      <td>1.0</td>\n",
       "    </tr>\n",
       "    <tr>\n",
       "      <th>2010-05-02</th>\n",
       "      <td>1.0</td>\n",
       "    </tr>\n",
       "    <tr>\n",
       "      <th>2012-04-13</th>\n",
       "      <td>1.0</td>\n",
       "    </tr>\n",
       "    <tr>\n",
       "      <th>2011-05-11</th>\n",
       "      <td>1.0</td>\n",
       "    </tr>\n",
       "    <tr>\n",
       "      <th>2010-11-02</th>\n",
       "      <td>1.0</td>\n",
       "    </tr>\n",
       "    <tr>\n",
       "      <th>2013-07-26</th>\n",
       "      <td>1.0</td>\n",
       "    </tr>\n",
       "    <tr>\n",
       "      <th>2011-07-16</th>\n",
       "      <td>1.0</td>\n",
       "    </tr>\n",
       "    <tr>\n",
       "      <th>2011-12-08</th>\n",
       "      <td>1.0</td>\n",
       "    </tr>\n",
       "    <tr>\n",
       "      <th>2009-08-30</th>\n",
       "      <td>1.0</td>\n",
       "    </tr>\n",
       "    <tr>\n",
       "      <th>2011-10-23</th>\n",
       "      <td>1.0</td>\n",
       "    </tr>\n",
       "    <tr>\n",
       "      <th>2013-07-14</th>\n",
       "      <td>1.0</td>\n",
       "    </tr>\n",
       "    <tr>\n",
       "      <th>2012-02-20</th>\n",
       "      <td>1.0</td>\n",
       "    </tr>\n",
       "    <tr>\n",
       "      <th>2010-05-20</th>\n",
       "      <td>1.0</td>\n",
       "    </tr>\n",
       "    <tr>\n",
       "      <th>2009-04-24</th>\n",
       "      <td>1.0</td>\n",
       "    </tr>\n",
       "    <tr>\n",
       "      <th>2011-05-14</th>\n",
       "      <td>1.0</td>\n",
       "    </tr>\n",
       "    <tr>\n",
       "      <th>2009-07-24</th>\n",
       "      <td>1.0</td>\n",
       "    </tr>\n",
       "    <tr>\n",
       "      <th>2012-01-14</th>\n",
       "      <td>1.0</td>\n",
       "    </tr>\n",
       "    <tr>\n",
       "      <th>2010-07-30</th>\n",
       "      <td>1.0</td>\n",
       "    </tr>\n",
       "    <tr>\n",
       "      <th>2009-06-24</th>\n",
       "      <td>1.0</td>\n",
       "    </tr>\n",
       "    <tr>\n",
       "      <th>2011-03-25</th>\n",
       "      <td>1.0</td>\n",
       "    </tr>\n",
       "    <tr>\n",
       "      <th>2010-02-21</th>\n",
       "      <td>1.0</td>\n",
       "    </tr>\n",
       "    <tr>\n",
       "      <th>2011-09-11</th>\n",
       "      <td>1.0</td>\n",
       "    </tr>\n",
       "    <tr>\n",
       "      <th>2012-11-01</th>\n",
       "      <td>1.0</td>\n",
       "    </tr>\n",
       "    <tr>\n",
       "      <th>2012-06-03</th>\n",
       "      <td>1.0</td>\n",
       "    </tr>\n",
       "    <tr>\n",
       "      <th>2012-10-31</th>\n",
       "      <td>1.0</td>\n",
       "    </tr>\n",
       "    <tr>\n",
       "      <th>2011-04-21</th>\n",
       "      <td>1.0</td>\n",
       "    </tr>\n",
       "    <tr>\n",
       "      <th>2012-01-12</th>\n",
       "      <td>1.0</td>\n",
       "    </tr>\n",
       "    <tr>\n",
       "      <th>2012-10-30</th>\n",
       "      <td>1.0</td>\n",
       "    </tr>\n",
       "    <tr>\n",
       "      <th>2012-03-25</th>\n",
       "      <td>1.0</td>\n",
       "    </tr>\n",
       "    <tr>\n",
       "      <th>2012-10-29</th>\n",
       "      <td>1.0</td>\n",
       "    </tr>\n",
       "    <tr>\n",
       "      <th>2012-06-17</th>\n",
       "      <td>1.0</td>\n",
       "    </tr>\n",
       "    <tr>\n",
       "      <th>2011-05-02</th>\n",
       "      <td>1.0</td>\n",
       "    </tr>\n",
       "    <tr>\n",
       "      <th>2011-05-03</th>\n",
       "      <td>1.0</td>\n",
       "    </tr>\n",
       "    <tr>\n",
       "      <th>2011-02-06</th>\n",
       "      <td>1.0</td>\n",
       "    </tr>\n",
       "    <tr>\n",
       "      <th>2011-09-04</th>\n",
       "      <td>1.0</td>\n",
       "    </tr>\n",
       "    <tr>\n",
       "      <th>2013-03-16</th>\n",
       "      <td>1.0</td>\n",
       "    </tr>\n",
       "    <tr>\n",
       "      <th>2010-12-23</th>\n",
       "      <td>1.0</td>\n",
       "    </tr>\n",
       "    <tr>\n",
       "      <th>2011-05-04</th>\n",
       "      <td>1.0</td>\n",
       "    </tr>\n",
       "  </tbody>\n",
       "</table>\n",
       "</div>"
      ],
      "text/plain": [
       "            auroc\n",
       "2010-10-14    1.0\n",
       "2012-02-22    1.0\n",
       "2012-05-27    1.0\n",
       "2012-01-28    1.0\n",
       "2012-03-23    1.0\n",
       "2009-04-16    1.0\n",
       "2011-06-23    1.0\n",
       "2010-04-22    1.0\n",
       "2010-04-23    1.0\n",
       "2009-04-08    1.0\n",
       "2011-05-28    1.0\n",
       "2011-01-06    1.0\n",
       "2010-07-10    1.0\n",
       "2010-05-02    1.0\n",
       "2012-04-13    1.0\n",
       "2011-05-11    1.0\n",
       "2010-11-02    1.0\n",
       "2013-07-26    1.0\n",
       "2011-07-16    1.0\n",
       "2011-12-08    1.0\n",
       "2009-08-30    1.0\n",
       "2011-10-23    1.0\n",
       "2013-07-14    1.0\n",
       "2012-02-20    1.0\n",
       "2010-05-20    1.0\n",
       "2009-04-24    1.0\n",
       "2011-05-14    1.0\n",
       "2009-07-24    1.0\n",
       "2012-01-14    1.0\n",
       "2010-07-30    1.0\n",
       "2009-06-24    1.0\n",
       "2011-03-25    1.0\n",
       "2010-02-21    1.0\n",
       "2011-09-11    1.0\n",
       "2012-11-01    1.0\n",
       "2012-06-03    1.0\n",
       "2012-10-31    1.0\n",
       "2011-04-21    1.0\n",
       "2012-01-12    1.0\n",
       "2012-10-30    1.0\n",
       "2012-03-25    1.0\n",
       "2012-10-29    1.0\n",
       "2012-06-17    1.0\n",
       "2011-05-02    1.0\n",
       "2011-05-03    1.0\n",
       "2011-02-06    1.0\n",
       "2011-09-04    1.0\n",
       "2013-03-16    1.0\n",
       "2010-12-23    1.0\n",
       "2011-05-04    1.0"
      ]
     },
     "execution_count": 30,
     "metadata": {},
     "output_type": "execute_result"
    }
   ],
   "source": [
    "output['score']['label'].sort_values(by='auroc', ascending=False).iloc[:50]"
   ]
  },
  {
   "cell_type": "code",
   "execution_count": 17,
   "metadata": {},
   "outputs": [
    {
     "data": {
      "text/html": [
       "<div>\n",
       "<style scoped>\n",
       "    .dataframe tbody tr th:only-of-type {\n",
       "        vertical-align: middle;\n",
       "    }\n",
       "\n",
       "    .dataframe tbody tr th {\n",
       "        vertical-align: top;\n",
       "    }\n",
       "\n",
       "    .dataframe thead tr th {\n",
       "        text-align: left;\n",
       "    }\n",
       "</style>\n",
       "<table border=\"1\" class=\"dataframe\">\n",
       "  <thead>\n",
       "    <tr>\n",
       "      <th></th>\n",
       "      <th colspan=\"5\" halign=\"left\">Modality_DICOM</th>\n",
       "      <th colspan=\"5\" halign=\"left\">PatientSex_DICOM</th>\n",
       "      <th>...</th>\n",
       "      <th>WindowWidth_DICOM</th>\n",
       "      <th colspan=\"7\" halign=\"left\">age</th>\n",
       "      <th>count</th>\n",
       "      <th>score</th>\n",
       "    </tr>\n",
       "    <tr>\n",
       "      <th></th>\n",
       "      <th colspan=\"5\" halign=\"left\">chi2</th>\n",
       "      <th colspan=\"5\" halign=\"left\">chi2</th>\n",
       "      <th>...</th>\n",
       "      <th>stats</th>\n",
       "      <th colspan=\"4\" halign=\"left\">ks</th>\n",
       "      <th colspan=\"3\" halign=\"left\">stats</th>\n",
       "      <th></th>\n",
       "      <th>label</th>\n",
       "    </tr>\n",
       "    <tr>\n",
       "      <th></th>\n",
       "      <th>critical_diff</th>\n",
       "      <th>critical_value</th>\n",
       "      <th>distance</th>\n",
       "      <th>dof</th>\n",
       "      <th>pval</th>\n",
       "      <th>critical_diff</th>\n",
       "      <th>critical_value</th>\n",
       "      <th>distance</th>\n",
       "      <th>dof</th>\n",
       "      <th>pval</th>\n",
       "      <th>...</th>\n",
       "      <th>std</th>\n",
       "      <th>critical_diff</th>\n",
       "      <th>critical_value</th>\n",
       "      <th>distance</th>\n",
       "      <th>pval</th>\n",
       "      <th>mean</th>\n",
       "      <th>median</th>\n",
       "      <th>std</th>\n",
       "      <th></th>\n",
       "      <th>auroc</th>\n",
       "    </tr>\n",
       "  </thead>\n",
       "  <tbody>\n",
       "    <tr>\n",
       "      <th>2009-01-05</th>\n",
       "      <td>0.0</td>\n",
       "      <td>0.0</td>\n",
       "      <td>0.0</td>\n",
       "      <td>0.0</td>\n",
       "      <td>1.0</td>\n",
       "      <td>-6.203358</td>\n",
       "      <td>6.251389</td>\n",
       "      <td>0.048031</td>\n",
       "      <td>3.0</td>\n",
       "      <td>0.997240</td>\n",
       "      <td>...</td>\n",
       "      <td>945.868350</td>\n",
       "      <td>0.112768</td>\n",
       "      <td>0.083178</td>\n",
       "      <td>0.195946</td>\n",
       "      <td>9.660644e-08</td>\n",
       "      <td>61.484370</td>\n",
       "      <td>68.012348</td>\n",
       "      <td>22.582556</td>\n",
       "      <td>217.0</td>\n",
       "      <td>0.894841</td>\n",
       "    </tr>\n",
       "    <tr>\n",
       "      <th>2009-01-06</th>\n",
       "      <td>0.0</td>\n",
       "      <td>0.0</td>\n",
       "      <td>0.0</td>\n",
       "      <td>0.0</td>\n",
       "      <td>1.0</td>\n",
       "      <td>-6.171402</td>\n",
       "      <td>6.251389</td>\n",
       "      <td>0.079987</td>\n",
       "      <td>3.0</td>\n",
       "      <td>0.994126</td>\n",
       "      <td>...</td>\n",
       "      <td>951.727542</td>\n",
       "      <td>0.127873</td>\n",
       "      <td>0.079937</td>\n",
       "      <td>0.207810</td>\n",
       "      <td>2.426882e-09</td>\n",
       "      <td>61.716595</td>\n",
       "      <td>69.014422</td>\n",
       "      <td>23.116149</td>\n",
       "      <td>235.0</td>\n",
       "      <td>0.894841</td>\n",
       "    </tr>\n",
       "    <tr>\n",
       "      <th>2009-01-07</th>\n",
       "      <td>0.0</td>\n",
       "      <td>0.0</td>\n",
       "      <td>0.0</td>\n",
       "      <td>0.0</td>\n",
       "      <td>1.0</td>\n",
       "      <td>-5.204224</td>\n",
       "      <td>6.251389</td>\n",
       "      <td>1.047164</td>\n",
       "      <td>3.0</td>\n",
       "      <td>0.789842</td>\n",
       "      <td>...</td>\n",
       "      <td>885.288343</td>\n",
       "      <td>0.061207</td>\n",
       "      <td>0.064629</td>\n",
       "      <td>0.125836</td>\n",
       "      <td>2.052869e-05</td>\n",
       "      <td>59.640916</td>\n",
       "      <td>65.019816</td>\n",
       "      <td>23.497130</td>\n",
       "      <td>360.0</td>\n",
       "      <td>0.894841</td>\n",
       "    </tr>\n",
       "    <tr>\n",
       "      <th>2009-01-08</th>\n",
       "      <td>0.0</td>\n",
       "      <td>0.0</td>\n",
       "      <td>0.0</td>\n",
       "      <td>0.0</td>\n",
       "      <td>1.0</td>\n",
       "      <td>-6.039569</td>\n",
       "      <td>6.251389</td>\n",
       "      <td>0.211820</td>\n",
       "      <td>3.0</td>\n",
       "      <td>0.975659</td>\n",
       "      <td>...</td>\n",
       "      <td>877.539719</td>\n",
       "      <td>0.027175</td>\n",
       "      <td>0.054396</td>\n",
       "      <td>0.081572</td>\n",
       "      <td>2.238092e-03</td>\n",
       "      <td>58.247326</td>\n",
       "      <td>63.018406</td>\n",
       "      <td>23.599535</td>\n",
       "      <td>509.0</td>\n",
       "      <td>0.894841</td>\n",
       "    </tr>\n",
       "    <tr>\n",
       "      <th>2009-01-09</th>\n",
       "      <td>0.0</td>\n",
       "      <td>0.0</td>\n",
       "      <td>0.0</td>\n",
       "      <td>0.0</td>\n",
       "      <td>1.0</td>\n",
       "      <td>-4.718430</td>\n",
       "      <td>6.251389</td>\n",
       "      <td>1.532959</td>\n",
       "      <td>3.0</td>\n",
       "      <td>0.674685</td>\n",
       "      <td>...</td>\n",
       "      <td>871.908801</td>\n",
       "      <td>0.009650</td>\n",
       "      <td>0.048621</td>\n",
       "      <td>0.058271</td>\n",
       "      <td>2.591421e-02</td>\n",
       "      <td>58.648899</td>\n",
       "      <td>63.018406</td>\n",
       "      <td>22.737437</td>\n",
       "      <td>638.0</td>\n",
       "      <td>0.894841</td>\n",
       "    </tr>\n",
       "  </tbody>\n",
       "</table>\n",
       "<p>5 rows × 45 columns</p>\n",
       "</div>"
      ],
      "text/plain": [
       "           Modality_DICOM                                   PatientSex_DICOM  \\\n",
       "                     chi2                                               chi2   \n",
       "            critical_diff critical_value distance  dof pval    critical_diff   \n",
       "2009-01-05            0.0            0.0      0.0  0.0  1.0        -6.203358   \n",
       "2009-01-06            0.0            0.0      0.0  0.0  1.0        -6.171402   \n",
       "2009-01-07            0.0            0.0      0.0  0.0  1.0        -5.204224   \n",
       "2009-01-08            0.0            0.0      0.0  0.0  1.0        -6.039569   \n",
       "2009-01-09            0.0            0.0      0.0  0.0  1.0        -4.718430   \n",
       "\n",
       "                                                    ... WindowWidth_DICOM  \\\n",
       "                                                    ...             stats   \n",
       "           critical_value  distance  dof      pval  ...               std   \n",
       "2009-01-05       6.251389  0.048031  3.0  0.997240  ...        945.868350   \n",
       "2009-01-06       6.251389  0.079987  3.0  0.994126  ...        951.727542   \n",
       "2009-01-07       6.251389  1.047164  3.0  0.789842  ...        885.288343   \n",
       "2009-01-08       6.251389  0.211820  3.0  0.975659  ...        877.539719   \n",
       "2009-01-09       6.251389  1.532959  3.0  0.674685  ...        871.908801   \n",
       "\n",
       "                     age                                                    \\\n",
       "                      ks                                             stats   \n",
       "           critical_diff critical_value  distance          pval       mean   \n",
       "2009-01-05      0.112768       0.083178  0.195946  9.660644e-08  61.484370   \n",
       "2009-01-06      0.127873       0.079937  0.207810  2.426882e-09  61.716595   \n",
       "2009-01-07      0.061207       0.064629  0.125836  2.052869e-05  59.640916   \n",
       "2009-01-08      0.027175       0.054396  0.081572  2.238092e-03  58.247326   \n",
       "2009-01-09      0.009650       0.048621  0.058271  2.591421e-02  58.648899   \n",
       "\n",
       "                                  count     score  \n",
       "                                            label  \n",
       "               median        std            auroc  \n",
       "2009-01-05  68.012348  22.582556  217.0  0.894841  \n",
       "2009-01-06  69.014422  23.116149  235.0  0.894841  \n",
       "2009-01-07  65.019816  23.497130  360.0  0.894841  \n",
       "2009-01-08  63.018406  23.599535  509.0  0.894841  \n",
       "2009-01-09  63.018406  22.737437  638.0  0.894841  \n",
       "\n",
       "[5 rows x 45 columns]"
      ]
     },
     "execution_count": 17,
     "metadata": {},
     "output_type": "execute_result"
    }
   ],
   "source": [
    "output[\"Modality_DICOM\"] = output[\"Modality_DICOM\"].fillna(0)\n",
    "output.head()"
   ]
  },
  {
   "cell_type": "code",
   "execution_count": 32,
   "metadata": {},
   "outputs": [],
   "source": [
    "# output.to_csv('model_perf.csv')"
   ]
  },
  {
   "cell_type": "code",
   "execution_count": 42,
   "metadata": {},
   "outputs": [
    {
     "data": {
      "text/html": [
       "<div>\n",
       "<style scoped>\n",
       "    .dataframe tbody tr th:only-of-type {\n",
       "        vertical-align: middle;\n",
       "    }\n",
       "\n",
       "    .dataframe tbody tr th {\n",
       "        vertical-align: top;\n",
       "    }\n",
       "\n",
       "    .dataframe thead th {\n",
       "        text-align: right;\n",
       "    }\n",
       "</style>\n",
       "<table border=\"1\" class=\"dataframe\">\n",
       "  <thead>\n",
       "    <tr style=\"text-align: right;\">\n",
       "      <th></th>\n",
       "      <th>critical_diff.chi2.Modality_DICOM</th>\n",
       "      <th>critical_value.chi2.Modality_DICOM</th>\n",
       "      <th>distance.chi2.Modality_DICOM</th>\n",
       "      <th>dof.chi2.Modality_DICOM</th>\n",
       "      <th>pval.chi2.Modality_DICOM</th>\n",
       "      <th>critical_diff.chi2.PatientSex_DICOM</th>\n",
       "      <th>critical_value.chi2.PatientSex_DICOM</th>\n",
       "      <th>distance.chi2.PatientSex_DICOM</th>\n",
       "      <th>dof.chi2.PatientSex_DICOM</th>\n",
       "      <th>pval.chi2.PatientSex_DICOM</th>\n",
       "      <th>...</th>\n",
       "      <th>std.stats.WindowWidth_DICOM</th>\n",
       "      <th>critical_diff.ks.age</th>\n",
       "      <th>critical_value.ks.age</th>\n",
       "      <th>distance.ks.age</th>\n",
       "      <th>pval.ks.age</th>\n",
       "      <th>mean.stats.age</th>\n",
       "      <th>median.stats.age</th>\n",
       "      <th>std.stats.age</th>\n",
       "      <th>..count</th>\n",
       "      <th>auroc.label.score</th>\n",
       "    </tr>\n",
       "  </thead>\n",
       "  <tbody>\n",
       "    <tr>\n",
       "      <th>2009-01-05</th>\n",
       "      <td>0.0</td>\n",
       "      <td>0.0</td>\n",
       "      <td>0.0</td>\n",
       "      <td>0.0</td>\n",
       "      <td>1.0</td>\n",
       "      <td>-0.999992</td>\n",
       "      <td>6.251389</td>\n",
       "      <td>0.047994</td>\n",
       "      <td>3.0</td>\n",
       "      <td>0.997240</td>\n",
       "      <td>...</td>\n",
       "      <td>945.868350</td>\n",
       "      <td>0.112292</td>\n",
       "      <td>0.083178</td>\n",
       "      <td>0.193476</td>\n",
       "      <td>9.660644e-08</td>\n",
       "      <td>61.484370</td>\n",
       "      <td>68.012348</td>\n",
       "      <td>22.582556</td>\n",
       "      <td>217.0</td>\n",
       "      <td>0.894841</td>\n",
       "    </tr>\n",
       "    <tr>\n",
       "      <th>2009-01-06</th>\n",
       "      <td>0.0</td>\n",
       "      <td>0.0</td>\n",
       "      <td>0.0</td>\n",
       "      <td>0.0</td>\n",
       "      <td>1.0</td>\n",
       "      <td>-0.999991</td>\n",
       "      <td>6.251389</td>\n",
       "      <td>0.079817</td>\n",
       "      <td>3.0</td>\n",
       "      <td>0.994126</td>\n",
       "      <td>...</td>\n",
       "      <td>951.727542</td>\n",
       "      <td>0.127180</td>\n",
       "      <td>0.079937</td>\n",
       "      <td>0.204869</td>\n",
       "      <td>2.426882e-09</td>\n",
       "      <td>61.716595</td>\n",
       "      <td>69.014422</td>\n",
       "      <td>23.116149</td>\n",
       "      <td>235.0</td>\n",
       "      <td>0.894841</td>\n",
       "    </tr>\n",
       "    <tr>\n",
       "      <th>2009-01-07</th>\n",
       "      <td>0.0</td>\n",
       "      <td>0.0</td>\n",
       "      <td>0.0</td>\n",
       "      <td>0.0</td>\n",
       "      <td>1.0</td>\n",
       "      <td>-0.999940</td>\n",
       "      <td>6.251389</td>\n",
       "      <td>0.780701</td>\n",
       "      <td>3.0</td>\n",
       "      <td>0.789842</td>\n",
       "      <td>...</td>\n",
       "      <td>885.288343</td>\n",
       "      <td>0.061131</td>\n",
       "      <td>0.064629</td>\n",
       "      <td>0.125176</td>\n",
       "      <td>2.052869e-05</td>\n",
       "      <td>59.640916</td>\n",
       "      <td>65.019816</td>\n",
       "      <td>23.497130</td>\n",
       "      <td>360.0</td>\n",
       "      <td>0.894841</td>\n",
       "    </tr>\n",
       "    <tr>\n",
       "      <th>2009-01-08</th>\n",
       "      <td>0.0</td>\n",
       "      <td>0.0</td>\n",
       "      <td>0.0</td>\n",
       "      <td>0.0</td>\n",
       "      <td>1.0</td>\n",
       "      <td>-0.999989</td>\n",
       "      <td>6.251389</td>\n",
       "      <td>0.208708</td>\n",
       "      <td>3.0</td>\n",
       "      <td>0.975659</td>\n",
       "      <td>...</td>\n",
       "      <td>877.539719</td>\n",
       "      <td>0.027168</td>\n",
       "      <td>0.054396</td>\n",
       "      <td>0.081391</td>\n",
       "      <td>2.238092e-03</td>\n",
       "      <td>58.247326</td>\n",
       "      <td>63.018406</td>\n",
       "      <td>23.599535</td>\n",
       "      <td>509.0</td>\n",
       "      <td>0.894841</td>\n",
       "    </tr>\n",
       "    <tr>\n",
       "      <th>2009-01-09</th>\n",
       "      <td>0.0</td>\n",
       "      <td>0.0</td>\n",
       "      <td>0.0</td>\n",
       "      <td>0.0</td>\n",
       "      <td>1.0</td>\n",
       "      <td>-0.999841</td>\n",
       "      <td>6.251389</td>\n",
       "      <td>0.910930</td>\n",
       "      <td>3.0</td>\n",
       "      <td>0.674685</td>\n",
       "      <td>...</td>\n",
       "      <td>871.908801</td>\n",
       "      <td>0.009650</td>\n",
       "      <td>0.048621</td>\n",
       "      <td>0.058205</td>\n",
       "      <td>2.591421e-02</td>\n",
       "      <td>58.648899</td>\n",
       "      <td>63.018406</td>\n",
       "      <td>22.737437</td>\n",
       "      <td>638.0</td>\n",
       "      <td>0.894841</td>\n",
       "    </tr>\n",
       "  </tbody>\n",
       "</table>\n",
       "<p>5 rows × 45 columns</p>\n",
       "</div>"
      ],
      "text/plain": [
       "            critical_diff.chi2.Modality_DICOM  \\\n",
       "2009-01-05                                0.0   \n",
       "2009-01-06                                0.0   \n",
       "2009-01-07                                0.0   \n",
       "2009-01-08                                0.0   \n",
       "2009-01-09                                0.0   \n",
       "\n",
       "            critical_value.chi2.Modality_DICOM  distance.chi2.Modality_DICOM  \\\n",
       "2009-01-05                                 0.0                           0.0   \n",
       "2009-01-06                                 0.0                           0.0   \n",
       "2009-01-07                                 0.0                           0.0   \n",
       "2009-01-08                                 0.0                           0.0   \n",
       "2009-01-09                                 0.0                           0.0   \n",
       "\n",
       "            dof.chi2.Modality_DICOM  pval.chi2.Modality_DICOM  \\\n",
       "2009-01-05                      0.0                       1.0   \n",
       "2009-01-06                      0.0                       1.0   \n",
       "2009-01-07                      0.0                       1.0   \n",
       "2009-01-08                      0.0                       1.0   \n",
       "2009-01-09                      0.0                       1.0   \n",
       "\n",
       "            critical_diff.chi2.PatientSex_DICOM  \\\n",
       "2009-01-05                            -0.999992   \n",
       "2009-01-06                            -0.999991   \n",
       "2009-01-07                            -0.999940   \n",
       "2009-01-08                            -0.999989   \n",
       "2009-01-09                            -0.999841   \n",
       "\n",
       "            critical_value.chi2.PatientSex_DICOM  \\\n",
       "2009-01-05                              6.251389   \n",
       "2009-01-06                              6.251389   \n",
       "2009-01-07                              6.251389   \n",
       "2009-01-08                              6.251389   \n",
       "2009-01-09                              6.251389   \n",
       "\n",
       "            distance.chi2.PatientSex_DICOM  dof.chi2.PatientSex_DICOM  \\\n",
       "2009-01-05                        0.047994                        3.0   \n",
       "2009-01-06                        0.079817                        3.0   \n",
       "2009-01-07                        0.780701                        3.0   \n",
       "2009-01-08                        0.208708                        3.0   \n",
       "2009-01-09                        0.910930                        3.0   \n",
       "\n",
       "            pval.chi2.PatientSex_DICOM  ...  std.stats.WindowWidth_DICOM  \\\n",
       "2009-01-05                    0.997240  ...                   945.868350   \n",
       "2009-01-06                    0.994126  ...                   951.727542   \n",
       "2009-01-07                    0.789842  ...                   885.288343   \n",
       "2009-01-08                    0.975659  ...                   877.539719   \n",
       "2009-01-09                    0.674685  ...                   871.908801   \n",
       "\n",
       "            critical_diff.ks.age  critical_value.ks.age  distance.ks.age  \\\n",
       "2009-01-05              0.112292               0.083178         0.193476   \n",
       "2009-01-06              0.127180               0.079937         0.204869   \n",
       "2009-01-07              0.061131               0.064629         0.125176   \n",
       "2009-01-08              0.027168               0.054396         0.081391   \n",
       "2009-01-09              0.009650               0.048621         0.058205   \n",
       "\n",
       "             pval.ks.age  mean.stats.age  median.stats.age  std.stats.age  \\\n",
       "2009-01-05  9.660644e-08       61.484370         68.012348      22.582556   \n",
       "2009-01-06  2.426882e-09       61.716595         69.014422      23.116149   \n",
       "2009-01-07  2.052869e-05       59.640916         65.019816      23.497130   \n",
       "2009-01-08  2.238092e-03       58.247326         63.018406      23.599535   \n",
       "2009-01-09  2.591421e-02       58.648899         63.018406      22.737437   \n",
       "\n",
       "            ..count  auroc.label.score  \n",
       "2009-01-05    217.0           0.894841  \n",
       "2009-01-06    235.0           0.894841  \n",
       "2009-01-07    360.0           0.894841  \n",
       "2009-01-08    509.0           0.894841  \n",
       "2009-01-09    638.0           0.894841  \n",
       "\n",
       "[5 rows x 45 columns]"
      ]
     },
     "execution_count": 42,
     "metadata": {},
     "output_type": "execute_result"
    }
   ],
   "source": [
    "output2 = output.swaplevel(0, -1, axis=1)\n",
    "output2['critical_diff'] = output2['critical_diff'].apply(pd.np.tanh)\n",
    "output2['distance'] = output2['distance'].apply(pd.np.tanh)\n",
    "output2.columns = ['.'.join(c) for c in output2.columns.to_flat_index()]\n",
    "output2.head()\n"
   ]
  },
  {
   "cell_type": "code",
   "execution_count": 43,
   "metadata": {},
   "outputs": [
    {
     "name": "stdout",
     "output_type": "stream",
     "text": [
      "auroc.label.score\n",
      "['critical_diff.chi2.Modality_DICOM', 'distance.chi2.Modality_DICOM', 'pval.chi2.Modality_DICOM', 'critical_diff.chi2.PatientSex_DICOM', 'distance.chi2.PatientSex_DICOM', 'pval.chi2.PatientSex_DICOM', 'critical_diff.chi2.Projection', 'distance.chi2.Projection', 'pval.chi2.Projection', 'critical_diff.ks.RelativeXRayExposure_DICOM', 'distance.ks.RelativeXRayExposure_DICOM', 'pval.ks.RelativeXRayExposure_DICOM', 'mean.stats.RelativeXRayExposure_DICOM', 'median.stats.RelativeXRayExposure_DICOM', 'std.stats.RelativeXRayExposure_DICOM', 'critical_diff.ks.WindowCenter_DICOM', 'distance.ks.WindowCenter_DICOM', 'pval.ks.WindowCenter_DICOM', 'mean.stats.WindowCenter_DICOM', 'median.stats.WindowCenter_DICOM', 'std.stats.WindowCenter_DICOM', 'critical_diff.ks.WindowWidth_DICOM', 'distance.ks.WindowWidth_DICOM', 'pval.ks.WindowWidth_DICOM', 'mean.stats.WindowWidth_DICOM', 'median.stats.WindowWidth_DICOM', 'std.stats.WindowWidth_DICOM', 'critical_diff.ks.age', 'distance.ks.age', 'pval.ks.age', 'mean.stats.age', 'median.stats.age', 'std.stats.age']\n"
     ]
    },
    {
     "data": {
      "image/png": "[encoded data removed]",
      "text/plain": [
       "<Figure size 1440x576 with 1 Axes>"
      ]
     },
     "metadata": {
      "needs_background": "light"
     },
     "output_type": "display_data"
    }
   ],
   "source": [
    "target_col = [c for c in list(output2) if 'auroc' in c][0]\n",
    "print(target_col)\n",
    "\n",
    "keep = ['pval', \"distance\", 'diff', 'stat']\n",
    "corr_cols = [c for c in list(output2) if target_col not in c and any(k in c for k in keep)]\n",
    "print(corr_cols)\n",
    "ax = output2[corr_cols].apply(pd.np.tanh).corrwith(output2[target_col]).dropna().sort_values().plot(kind='barh', figsize=(20, 8))\n",
    "\n",
    "ax.set_xlabel('Correlation')\n",
    "plt.show()"
   ]
  },
  {
   "cell_type": "code",
   "execution_count": 113,
   "metadata": {},
   "outputs": [
    {
     "data": {
      "text/plain": [
       "<matplotlib.axes._subplots.AxesSubplot at 0x2166ed3a2e8>"
      ]
     },
     "execution_count": 113,
     "metadata": {},
     "output_type": "execute_result"
    },
    {
     "data": {
      "image/png": "[encoded data removed]",
      "text/plain": [
       "<Figure size 1440x576 with 1 Axes>"
      ]
     },
     "metadata": {
      "needs_background": "light"
     },
     "output_type": "display_data"
    }
   ],
   "source": [
    "from sklearn.feature_selection import mutual_info_classif\n",
    "\n",
    "X = output2[corr_cols].dropna(axis=1)\n",
    "Y = output2[target_col]\n",
    "Yb = pd.np.digitize(Y, bins=[0.7, .8, 0.9,  .95])\n",
    "info = mutual_info_classif(X, Yb)\n",
    "\n",
    "info_gain = dict(zip(list(X), info))\n",
    "fig, ax = plt.subplots()\n",
    "pd.Series(info_gain).sort_values().plot(kind='barh',  figsize=(20, 8))"
   ]
  },
  {
   "cell_type": "code",
   "execution_count": 64,
   "metadata": {},
   "outputs": [
    {
     "data": {
      "text/plain": [
       "<matplotlib.axes._subplots.AxesSubplot at 0x21689db8518>"
      ]
     },
     "execution_count": 64,
     "metadata": {},
     "output_type": "execute_result"
    },
    {
     "data": {
      "image/png": "[encoded data removed]",
      "text/plain": [
       "<Figure size 432x288 with 1 Axes>"
      ]
     },
     "metadata": {
      "needs_background": "light"
     },
     "output_type": "display_data"
    }
   ],
   "source": []
  },
  {
   "cell_type": "code",
   "execution_count": 83,
   "metadata": {},
   "outputs": [
    {
     "data": {
      "text/plain": [
       "<matplotlib.axes._subplots.AxesSubplot at 0x21641533048>"
      ]
     },
     "execution_count": 83,
     "metadata": {},
     "output_type": "execute_result"
    },
    {
     "data": {
      "image/png": "[encoded data removed]",
      "text/plain": [
       "<Figure size 432x288 with 1 Axes>"
      ]
     },
     "metadata": {
      "needs_background": "light"
     },
     "output_type": "display_data"
    }
   ],
   "source": [
    "out = pd.qcut(X['ks.critical_diff.RelativeXRayExposure_DICOM'], 5)\n",
    "\n",
    "\n",
    "out.cat.codes.hist()"
   ]
  },
  {
   "cell_type": "code",
   "execution_count": 69,
   "metadata": {},
   "outputs": [
    {
     "data": {
      "text/plain": [
       "array([[<matplotlib.axes._subplots.AxesSubplot object at 0x0000021613FAD588>]],\n",
       "      dtype=object)"
      ]
     },
     "execution_count": 69,
     "metadata": {},
     "output_type": "execute_result"
    },
    {
     "data": {
      "image/png": "[encoded data removed]",
      "text/plain": [
       "<Figure size 432x288 with 1 Axes>"
      ]
     },
     "metadata": {
      "needs_background": "light"
     },
     "output_type": "display_data"
    }
   ],
   "source": [
    "pd.DataFrame(pd.np.digitize(Y, bins=[0.7, .8, 0.9,  .95])).hist()"
   ]
  },
  {
   "cell_type": "code",
   "execution_count": 41,
   "metadata": {},
   "outputs": [
    {
     "data": {
      "text/plain": [
       "(Timestamp('2009-01-05 00:00:00'), Timestamp('2013-12-31 00:00:00'))"
      ]
     },
     "execution_count": 41,
     "metadata": {},
     "output_type": "execute_result"
    }
   ],
   "source": [
    "output.index.min(), output.index.max()"
   ]
  },
  {
   "cell_type": "code",
   "execution_count": 37,
   "metadata": {},
   "outputs": [
    {
     "data": {
      "text/plain": [
       "<matplotlib.axes._subplots.AxesSubplot at 0x1e53edd2898>"
      ]
     },
     "execution_count": 37,
     "metadata": {},
     "output_type": "execute_result"
    },
    {
     "data": {
      "image/png": "[encoded data removed]",
      "text/plain": [
       "<Figure size 1728x576 with 1 Axes>"
      ]
     },
     "metadata": {
      "needs_background": "light"
     },
     "output_type": "display_data"
    }
   ],
   "source": [
    "output['score'].ewm(span=200).mean().plot(figsize=(24,8))"
   ]
  },
  {
   "cell_type": "code",
   "execution_count": null,
   "metadata": {},
   "outputs": [],
   "source": [
    "graph_view = output.swaplevel(0,-1, axis=1, ).sort_index(axis=1)\n",
    "graph_view.head()\n",
    "graph_view['mean']"
   ]
  },
  {
   "cell_type": "code",
   "execution_count": null,
   "metadata": {},
   "outputs": [],
   "source": [
    "output2 = output.copy()\n",
    "output2.columns = ['.'.join(c).strip('.') for c in output2.columns.to_flat_index()]\n",
    "output2.head()"
   ]
  },
  {
   "cell_type": "code",
   "execution_count": null,
   "metadata": {},
   "outputs": [],
   "source": [
    "import random\n",
    "import tqdm\n",
    "from model_drift.data.utils import nested2series\n",
    "\n",
    "def random_sample_apply(dataframe, func, nsamples=100, sample_size_min=500, sample_size_max=500):\n",
    "\n",
    "    sample_size_min = max(sample_size_min, 1)\n",
    "\n",
    "    if not isinstance(dataframe.index, pd.DatetimeIndex):\n",
    "        raise ValueError()\n",
    "\n",
    "    def _apply(sample_size):\n",
    "        x = dataframe.sample(sample_size)\n",
    "        preds = func(x)\n",
    "        preds[\"count\"] = len(x)\n",
    "        return nested2series(preds)\n",
    "\n",
    "    out = {}\n",
    "    for i in tqdm.trange(nsamples):\n",
    "        out[i] = _apply(random.randint(sample_size_min, sample_size_max))\n",
    "    return pd.concat(out, axis=0).unstack(level=0).T"
   ]
  },
  {
   "cell_type": "code",
   "execution_count": null,
   "metadata": {},
   "outputs": [],
   "source": [
    "output = random_sample_apply(val.df, dwc.predict, nsamples=1000, sample_size_max=2000)"
   ]
  },
  {
   "cell_type": "code",
   "execution_count": null,
   "metadata": {},
   "outputs": [],
   "source": [
    "graph_view = output.swaplevel(0,-1, axis=1, ).sort_index(axis=1)\n",
    "graph_view.head()"
   ]
  },
  {
   "cell_type": "code",
   "execution_count": null,
   "metadata": {},
   "outputs": [],
   "source": [
    "output2 = output.copy()\n",
    "output2.columns = ['.'.join(c) for c in output2.columns.to_flat_index()]\n",
    "output2.head()"
   ]
  },
  {
   "cell_type": "code",
   "execution_count": null,
   "metadata": {},
   "outputs": [],
   "source": [
    "target_col = \"score.label.auroc\"\n",
    "corr_cols = [c for c in list(output2) if target_col not in c]\n",
    "\n",
    "corr_cols\n",
    "ax = output2[corr_cols].corrwith(output2[target_col]).dropna().abs().sort_values().plot(kind='barh', figsize=(20, 8))\n",
    "\n",
    "ax.set_xlabel('Abs Correlation')"
   ]
  },
  {
   "cell_type": "code",
   "execution_count": null,
   "metadata": {},
   "outputs": [],
   "source": [
    "val.df['age'].hist()"
   ]
  },
  {
   "cell_type": "code",
   "execution_count": null,
   "metadata": {},
   "outputs": [],
   "source": [
    "graph_view = output.swaplevel(0,-1, axis=1, ).sort_index(axis=1)\n",
    "graph_view.head()"
   ]
  },
  {
   "cell_type": "code",
   "execution_count": null,
   "metadata": {},
   "outputs": [],
   "source": [
    "graph_view['critical_diff']['ks'].plot()"
   ]
  },
  {
   "cell_type": "code",
   "execution_count": null,
   "metadata": {},
   "outputs": [],
   "source": [
    "score_cols = [f\"activation.{c}\" for c in label_cols]"
   ]
  },
  {
   "cell_type": "code",
   "execution_count": null,
   "metadata": {},
   "outputs": [],
   "source": [
    "label_cols"
   ]
  },
  {
   "cell_type": "code",
   "execution_count": null,
   "metadata": {},
   "outputs": [],
   "source": [
    "\n",
    "score_cols"
   ]
  },
  {
   "cell_type": "code",
   "execution_count": null,
   "metadata": {},
   "outputs": [],
   "source": [
    "import torch\n",
    "from torchmetrics import AUROC\n",
    "from torchmetrics.functional import auroc\n",
    "# auroc?\n",
    "\n",
    "score_cols = sorted([c for c in list(df) if c.startswith('activation.')])\n",
    "lbl_cols = sorted([c for c in list(df) if c.startswith('label.')])\n",
    "\n",
    "def get_auc(sample):\n",
    "    out = {}\n",
    "    for c in label_cols:\n",
    "        s = f\"activation.{c}\"\n",
    "        l = c\n",
    "    # for l, s in zip(lbl_cols, score_cols):\n",
    "    #     c = l.split('.')[-1]\n",
    "        try:\n",
    "            val = auroc(torch.tensor(sample[s].values), torch.tensor(sample[l].values).long()).numpy()\n",
    "        except Exception as e:\n",
    "            if \"No positive samples in targets\" not in str(e):\n",
    "                raise\n",
    "            val = float('NaN')\n",
    "        out[f'auroc.{c}'] = val\n",
    "    out = pd.Series(out)\n",
    "    out[\"auroc.mean\"] = out.mean()\n",
    "    return out\n"
   ]
  },
  {
   "cell_type": "code",
   "execution_count": null,
   "metadata": {},
   "outputs": [],
   "source": [
    "list(test.df)"
   ]
  },
  {
   "cell_type": "code",
   "execution_count": null,
   "metadata": {},
   "outputs": [],
   "source": [
    "from model_drift.data.utils import rolling_window_dt_apply"
   ]
  },
  {
   "cell_type": "code",
   "execution_count": null,
   "metadata": {},
   "outputs": [],
   "source": [
    "auroc_df = rolling_window_dt_apply(test.df, get_auc, min_periods=500)"
   ]
  },
  {
   "cell_type": "code",
   "execution_count": null,
   "metadata": {},
   "outputs": [],
   "source": [
    "auroc_df"
   ]
  },
  {
   "cell_type": "code",
   "execution_count": null,
   "metadata": {},
   "outputs": [],
   "source": [
    "auroc_df"
   ]
  },
  {
   "cell_type": "code",
   "execution_count": null,
   "metadata": {},
   "outputs": [],
   "source": [
    "auc_cols = [f\"auroc.{c}\" for c in label_cols]\n",
    "auc_cols"
   ]
  },
  {
   "cell_type": "code",
   "execution_count": null,
   "metadata": {},
   "outputs": [],
   "source": [
    "for c in auc_cols:\n",
    "    auroc_df[c] = pd.to_numeric(auroc_df[c], errors='coerce')\n",
    "\n",
    "auroc_df[auc_cols].astype(float).plot(figsize=(25,8))"
   ]
  },
  {
   "cell_type": "code",
   "execution_count": null,
   "metadata": {},
   "outputs": [],
   "source": [
    "fdf = pc.df.query(\"Frontal\").set_index(\"StudyDate\")\n",
    "# fdf = pc.df.set_index(\"StudyDate\")\n",
    "print(len(fdf), len(pc.df))\n",
    "auroc_df_all = rolling_window_dt_apply(fdf, get_auc, min_periods=500)"
   ]
  },
  {
   "cell_type": "code",
   "execution_count": null,
   "metadata": {},
   "outputs": [],
   "source": [
    "split_dates = pd.to_datetime(settings.PADCHEST_SPLIT_DATES)\n",
    "\n",
    "p = auroc_df_all[auc_cols].astype(float).mean(axis=1)\n",
    "ax = p.rolling(1).mean().plot(figsize=(25, 8), label='raw')\n",
    "roll=30*4\n",
    "ax = p.rolling(roll).mean().plot(figsize=(25, 8), label='smoothed', ax=ax)\n",
    "\n",
    "\n",
    "yy = [p.min(), p.max()]\n",
    "ax.plot([split_dates[0], split_dates[0]], yy, ':k', alpha=.3)\n",
    "ax.plot([split_dates[1], split_dates[1]], yy, ':k', alpha=.3)\n",
    "\n",
    "y = yy[0]\n",
    "ax.text(pd.to_datetime('2011-01-1'), y, \"Train\", size=25)\n",
    "ax.text(pd.to_datetime('2013-05-1'), y, \"Val\", size=25)\n",
    "ax.text(pd.to_datetime('2016-01-1'), y, \"Test\", size=25)\n",
    "\n",
    "# split_dates = pd.to_datetime(['2012-01-01', ' 2013-01-01'])\n",
    "# ax.plot([split_dates[0], split_dates[0]], [.75, .90], ':r')\n",
    "# ax.plot([split_dates[1], split_dates[1]], [.75, .90], ':r')\n",
    "\n",
    "ax.legend()"
   ]
  },
  {
   "cell_type": "code",
   "execution_count": null,
   "metadata": {},
   "outputs": [],
   "source": [
    "# def average_age(x):\n",
    "m = rolling_window_dt_apply(pc.df, lambda x: {'age': x['age'].mean()}, min_periods=500)\n"
   ]
  },
  {
   "cell_type": "code",
   "execution_count": null,
   "metadata": {},
   "outputs": [],
   "source": [
    "ax = m[['age']].astype(float).mean(axis=1).rolling(1).mean().plot(figsize=(25, 8), label='raw')\n",
    "roll=30*4\n",
    "ax = m[['age']].astype(float).mean(axis=1).rolling(roll).mean().plot(figsize=(25, 8), label='smoothed', ax=ax)\n",
    "\n",
    "split_dates = pd.to_datetime(settings.PADCHEST_SPLIT_DATES)\n",
    "ax.plot([split_dates[0], split_dates[0]], [40, 70], ':k', alpha=.3)\n",
    "ax.plot([split_dates[1], split_dates[1]], [40, 70], ':k', alpha=.3)\n",
    "\n",
    "y = 45\n",
    "ax.text(pd.to_datetime('2011-01-1'), y, \"Train\", size=25)\n",
    "ax.text(pd.to_datetime('2013-05-1'), y, \"Val\", size=25)\n",
    "ax.text(pd.to_datetime('2016-01-1'), y, \"Test\", size=25)\n",
    "\n",
    "split_dates = pd.to_datetime(['2012-01-01', ' 2013-01-01'])\n",
    "ax.plot([split_dates[0], split_dates[0]], [40, 70], ':r')\n",
    "ax.plot([split_dates[1], split_dates[1]], [40, 70], ':r')\n",
    "\n",
    "ax.legend()"
   ]
  },
  {
   "cell_type": "code",
   "execution_count": null,
   "metadata": {},
   "outputs": [],
   "source": []
  },
  {
   "cell_type": "code",
   "execution_count": null,
   "metadata": {},
   "outputs": [],
   "source": [
    "df1 = pc.df.query('Frontal')\n",
    "\n",
    "len(df1)"
   ]
  },
  {
   "cell_type": "code",
   "execution_count": null,
   "metadata": {},
   "outputs": [],
   "source": [
    "df1[df1['No Finding']==0][label_cols].sum()"
   ]
  },
  {
   "cell_type": "code",
   "execution_count": null,
   "metadata": {},
   "outputs": [],
   "source": [
    "df = pd.concat([pd.read_csv(\"../../data/padchest_10labels_trainval.csv\"), pd.read_csv(\"../../data/padchest_10labels_test.csv\")])\n",
    "\n",
    "len(df)"
   ]
  },
  {
   "cell_type": "code",
   "execution_count": null,
   "metadata": {},
   "outputs": [],
   "source": [
    "df[label_cols].sum()"
   ]
  },
  {
   "cell_type": "code",
   "execution_count": null,
   "metadata": {},
   "outputs": [],
   "source": [
    "df3 = df1.merge(df, on=\"ImageID\", how='inner')"
   ]
  },
  {
   "cell_type": "code",
   "execution_count": null,
   "metadata": {},
   "outputs": [],
   "source": [
    "lx = [l+\"_x\" for l in label_cols]\n",
    "ly= [l+\"_y\" for l in label_cols]"
   ]
  },
  {
   "cell_type": "code",
   "execution_count": null,
   "metadata": {},
   "outputs": [],
   "source": [
    "import itertools\n",
    "\n",
    "x = list(itertools.chain(*zip(lx, ly)))\n",
    "x"
   ]
  },
  {
   "cell_type": "code",
   "execution_count": null,
   "metadata": {},
   "outputs": [],
   "source": [
    "df3[x]\n",
    "(df3[lx].values != df3[ly].values).sum(axis=0)"
   ]
  },
  {
   "cell_type": "code",
   "execution_count": null,
   "metadata": {},
   "outputs": [],
   "source": []
  }
 ],
 "metadata": {
  "interpreter": {
   "hash": "40209cfd1e49aba1e20a3908f9a243f43b2ed73034fd3a81730d62124bbdcdae"
  },
  "kernelspec": {
   "display_name": "Python 3.7.3 64-bit (conda)",
   "name": "python3"
  },
  "language_info": {
   "codemirror_mode": {
    "name": "ipython",
    "version": 3
   },
   "file_extension": ".py",
   "mimetype": "text/x-python",
   "name": "python",
   "nbconvert_exporter": "python",
   "pygments_lexer": "ipython3",
   "version": "3.7.3"
  },
  "orig_nbformat": 4
 },
 "nbformat": 4,
 "nbformat_minor": 2
}
