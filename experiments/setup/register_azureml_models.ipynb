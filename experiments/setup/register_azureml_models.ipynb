{
 "cells": [
  {
   "cell_type": "code",
   "execution_count": 2,
   "metadata": {},
   "outputs": [
    {
     "name": "stdout",
     "output_type": "stream",
     "text": [
      "Azure ML SDK Version:  1.35.0\n"
     ]
    }
   ],
   "source": [
    "import azureml\n",
    "from azureml.core import Workspace\n",
    "from model_drift import settings, helpers\n",
    "# check core SDK version number\n",
    "print(\"Azure ML SDK Version: \", azureml.core.VERSION)"
   ]
  },
  {
   "cell_type": "code",
   "execution_count": 3,
   "metadata": {},
   "outputs": [
    {
     "name": "stderr",
     "output_type": "stream",
     "text": [
      "Warning: Falling back to use azure cli login credentials.\n",
      "If you run your code in unattended mode, i.e., where you can't give a user input, then we recommend to use ServicePrincipalAuthentication or MsiAuthentication.\n",
      "Please refer to aka.ms/aml-notebook-auth for different authentication mechanisms in azureml-sdk.\n"
     ]
    }
   ],
   "source": [
    "# Connect to workspace\n",
    "ws = Workspace.from_config(settings.AZUREML_CONFIG)"
   ]
  },
  {
   "cell_type": "code",
   "execution_count": 10,
   "metadata": {
    "gather": {
     "logged": 1634930924879
    }
   },
   "outputs": [
    {
     "name": "stdout",
     "output_type": "stream",
     "text": [
      "Registering model pretrained-chexpert-iter_662400.pth.tar\n"
     ]
    }
   ],
   "source": [
    "from azureml.core.model import Model\n",
    "\n",
    "model_path = \"pretrained-chexpert/iter_662400.pth.tar\"\n",
    "model = Model.register(model_path=settings.MODEL_DIR.joinpath(model_path),\n",
    "                        model_name=helpers.modelpath2name(model_path),\n",
    "                        tags={\"data\": \"chexpert\", \"model\": \"classification\"},\n",
    "                        description=\"OSS chexpert from stanford\",\n",
    "                        workspace=ws)\n"
   ]
  },
  {
   "cell_type": "code",
   "execution_count": 3,
   "metadata": {},
   "outputs": [
    {
     "name": "stdout",
     "output_type": "stream",
     "text": [
      "Registering model pretrained-chexpert-epoch-4-step-29844.ckpt\n"
     ]
    }
   ],
   "source": [
    "from azureml.core.model import Model\n",
    "\n",
    "model_path = \"pretrained-chexpert/epoch=4-step=29844.ckpt\"\n",
    "model = Model.register(model_path=settings.MODEL_DIR.joinpath(model_path),\n",
    "                        model_name=helpers.modelpath2name(model_path),\n",
    "                        tags={\"data\": \"chexpert\", \"model\": \"classification\", \"frontal_only\": True},\n",
    "                        description=\"OSS chexpert from stanford, trained on frontal images only\",\n",
    "                        workspace=ws)\n"
   ]
  },
  {
   "cell_type": "code",
   "execution_count": null,
   "metadata": {
    "jupyter": {
     "outputs_hidden": false,
     "source_hidden": false
    },
    "nteract": {
     "transient": {
      "deleting": false
     }
    }
   },
   "outputs": [],
   "source": [
    "from azureml.core.model import Model\n",
    "\n",
    "model_path = \"vae/chexpert-trained/wheat_book_mmkzkspg-049.ckpt\"\n",
    "model = Model.register(model_path=settings.MODEL_DIR.joinpath(model_path),\n",
    "                        model_name=helpers.modelpath2name(model_path),\n",
    "                        tags={\"data\": \"chexpert\", \"model\": \"autoencoder\"},\n",
    "                        description=\"trained vae  train on chexpert data only\",\n",
    "                        workspace=ws)"
   ]
  },
  {
   "cell_type": "code",
   "execution_count": 3,
   "metadata": {
    "gather": {
     "logged": 1634930933994
    },
    "jupyter": {
     "outputs_hidden": false,
     "source_hidden": false
    },
    "nteract": {
     "transient": {
      "deleting": false
     }
    }
   },
   "outputs": [
    {
     "name": "stdout",
     "output_type": "stream",
     "text": [
      "Registering model classifier-padchest-trained-loyal_rail_r71fmpjd-023.ckpt\n"
     ]
    }
   ],
   "source": [
    "from azureml.core.model import Model\n",
    "\n",
    "model_path = \"classifier/padchest-trained/loyal_rail_r71fmpjd-023.ckpt\"\n",
    "model = Model.register(model_path=settings.MODEL_DIR.joinpath(model_path),\n",
    "                        model_name=helpers.modelpath2name(model_path),\n",
    "                        tags={\"data\": \"padchest\", \"model\": \"classifier\"},\n",
    "                        description=\"trained classifier finetuned on padchest data from chexpert pretrained model\",\n",
    "                        workspace=ws)"
   ]
  },
  {
   "cell_type": "code",
   "execution_count": 5,
   "metadata": {},
   "outputs": [
    {
     "name": "stdout",
     "output_type": "stream",
     "text": [
      "Registering model vae-padchest-trained-lime_night_wlbcf6py-049.ckpt\n"
     ]
    }
   ],
   "source": [
    "\n",
    "\n",
    "model_path = \"vae/padchest-trained/lime_night_wlbcf6py-049.ckpt\"\n",
    "model = Model.register(model_path=settings.MODEL_DIR.joinpath(model_path),\n",
    "                       model_name=helpers.modelpath2name(model_path),\n",
    "                       tags={\"data\": \"padchest\", \"model\": \"vae\", \"frontal_only\": False},\n",
    "                       description=\"vae on trained padchest data, frontal and non-frontal images\",\n",
    "                       workspace=ws)\n"
   ]
  },
  {
   "cell_type": "code",
   "execution_count": 7,
   "metadata": {},
   "outputs": [
    {
     "data": {
      "text/plain": [
       "Model(workspace=Workspace.create(name='MLOps_shared', subscription_id='9ca8df1a-bf40-49c6-a13f-66b72a85f43c', resource_group='MLOps-Prototype'), name=vae-padchest-trained-frosty_dinner_h4n3bv0k-049.ckpt, id=vae-padchest-trained-frosty_dinner_h4n3bv0k-049.ckpt:1, version=1, tags={'data': 'padchest', 'model': 'vae', 'frontal_only': 'True'}, properties={})"
      ]
     },
     "execution_count": 7,
     "metadata": {},
     "output_type": "execute_result"
    }
   ],
   "source": [
    "from azureml.core import Experiment, Workspace, Run\n",
    "run_id = \"HD_e52267ff-4ea9-441b-aacc-27e6316168ee_4\"\n",
    "exp = Experiment(workspace=ws, name=\"vae-padchest-tune\")\n",
    "run = Run(exp, run_id)\n",
    "model_name = helpers.modelpath2name(f\"vae/padchest-trained/{run.display_name}-049.ckpt\")\n",
    "run.register_model(model_path=\"outputs/checkpoints/epoch=049.ckpt\",\n",
    "             model_name=model_name,\n",
    "             tags={\"data\": \"padchest\", \"model\": \"vae\", \"frontal_only\": True},\n",
    "             description=\"vae on trained padchest data, non-frontal images\")\n"
   ]
  },
  {
   "cell_type": "code",
   "execution_count": 5,
   "metadata": {},
   "outputs": [
    {
     "data": {
      "text/plain": [
       "Model(workspace=Workspace.create(name='MLOps_shared', subscription_id='9ca8df1a-bf40-49c6-a13f-66b72a85f43c', resource_group='MLOps-Prototype'), name=classifier-padchest-trained-chx-frontal-lime_train_07pvtv2y-047.ckpt, id=classifier-padchest-trained-chx-frontal-lime_train_07pvtv2y-047.ckpt:1, version=1, tags={'data': 'padchest', 'model': 'classifier', 'frontal_only': 'True'}, properties={})"
      ]
     },
     "execution_count": 5,
     "metadata": {},
     "output_type": "execute_result"
    }
   ],
   "source": [
    "from azureml.core import Experiment, Workspace, Run\n",
    "run_id = \"HD_f8771b1f-f815-40eb-8c5c-ea2a67eb1c73_4\"\n",
    "exp = Experiment(workspace=ws, name=\"finetune-padchest-hyper\")\n",
    "run = Run(exp, run_id)\n",
    "model_name = helpers.modelpath2name(f\"classifier/padchest-trained-chx-frontal/{run.display_name}-047.ckpt\")\n",
    "run.register_model(model_path=\"outputs/checkpoints/epoch=047.ckpt\",\n",
    "             model_name=model_name,\n",
    "             tags={\"data\": \"padchest\", \"model\": \"classifier\", \"frontal_only\": True},\n",
    "             description=\"classifier on finetuned on padchest data from a chexpert pretrained model, that was also only trained on frontal data.\")\n"
   ]
  },
  {
   "cell_type": "code",
   "execution_count": null,
   "metadata": {},
   "outputs": [],
   "source": []
  }
 ],
 "metadata": {
  "interpreter": {
   "hash": "40209cfd1e49aba1e20a3908f9a243f43b2ed73034fd3a81730d62124bbdcdae"
  },
  "kernel_info": {
   "name": "python3-azureml"
  },
  "kernelspec": {
   "display_name": "Python 3.7.3 64-bit (conda)",
   "name": "python3"
  },
  "language_info": {
   "codemirror_mode": {
    "name": "ipython",
    "version": 3
   },
   "file_extension": ".py",
   "mimetype": "text/x-python",
   "name": "python",
   "nbconvert_exporter": "python",
   "pygments_lexer": "ipython3",
   "version": "3.7.3"
  },
  "nteract": {
   "version": "nteract-front-end@1.0.0"
  }
 },
 "nbformat": 4,
 "nbformat_minor": 0
}
