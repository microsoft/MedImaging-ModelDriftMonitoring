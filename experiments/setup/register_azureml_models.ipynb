{
 "cells": [
  {
   "cell_type": "code",
   "execution_count": 1,
   "metadata": {},
   "outputs": [],
   "source": [
    "from model_drift import settings, helpers"
   ]
  },
  {
   "cell_type": "code",
   "execution_count": 2,
   "metadata": {
    "jupyter": {
     "outputs_hidden": false,
     "source_hidden": false
    },
    "nteract": {
     "transient": {
      "deleting": false
     }
    }
   },
   "outputs": [
    {
     "name": "stderr",
     "output_type": "stream",
     "text": [
      "Failure while loading azureml_run_type_providers. Failed to load entrypoint automl = azureml.train.automl.run:AutoMLRun._from_run_dto with exception (cloudpickle 2.0.0 (d:\\code\\mlopsday2\\medimaging-modeldriftmonitoring\\.venv\\lib\\site-packages), Requirement.parse('cloudpickle<2.0.0,>=1.1.0'), {'azureml-dataprep'}).\n",
      "Warning: Falling back to use azure cli login credentials.\n",
      "If you run your code in unattended mode, i.e., where you can't give a user input, then we recommend to use ServicePrincipalAuthentication or MsiAuthentication.\n",
      "Please refer to aka.ms/aml-notebook-auth for different authentication mechanisms in azureml-sdk.\n"
     ]
    }
   ],
   "source": [
    "from azureml.core import Workspace\n",
    "# Connect to workspace\n",
    "subscription_id = '9ca8df1a-bf40-49c6-a13f-66b72a85f43c'\n",
    "resource_group = 'MLOps-Prototype'\n",
    "workspace_name = 'MLOps_shared'\n",
    "\n",
    "ws = Workspace(subscription_id = subscription_id, resource_group = resource_group, workspace_name = workspace_name)"
   ]
  },
  {
   "cell_type": "code",
   "execution_count": 3,
   "metadata": {},
   "outputs": [],
   "source": [
    "ws.write_config(settings.AZUREML_CONFIG)"
   ]
  },
  {
   "cell_type": "code",
   "execution_count": 10,
   "metadata": {
    "gather": {
     "logged": 1634930924879
    }
   },
   "outputs": [
    {
     "name": "stdout",
     "output_type": "stream",
     "text": [
      "Registering model pretrained-chexpert-iter_662400.pth.tar\n"
     ]
    }
   ],
   "source": [
    "from azureml.core.model import Model\n",
    "\n",
    "model_path = \"pretrained-chexpert/iter_662400.pth.tar\"\n",
    "model = Model.register(model_path=settings.MODEL_DIR.joinpath(model_path),\n",
    "                        model_name=helpers.modelpath2name(model_path),\n",
    "                        tags={\"data\": \"chexpert\", \"model\": \"classification\"},\n",
    "                        description=\"OSS chexpert from stanford\",\n",
    "                        workspace=ws)\n"
   ]
  },
  {
   "cell_type": "code",
   "execution_count": null,
   "metadata": {
    "jupyter": {
     "outputs_hidden": false,
     "source_hidden": false
    },
    "nteract": {
     "transient": {
      "deleting": false
     }
    }
   },
   "outputs": [],
   "source": [
    "from azureml.core.model import Model\n",
    "\n",
    "model_path = \"vae/chexpert-trained/wheat_book_mmkzkspg-049.ckpt\"\n",
    "model = Model.register(model_path=settings.MODEL_DIR.joinpath(model_path),\n",
    "                        model_name=helpers.modelpath2name(model_path),\n",
    "                        tags={\"data\": \"chexpert\", \"model\": \"autoencoder\"},\n",
    "                        description=\"trained vae  train on chexpert data only\",\n",
    "                        workspace=ws)"
   ]
  },
  {
   "cell_type": "code",
   "execution_count": 14,
   "metadata": {
    "gather": {
     "logged": 1634930933994
    },
    "jupyter": {
     "outputs_hidden": false,
     "source_hidden": false
    },
    "nteract": {
     "transient": {
      "deleting": false
     }
    }
   },
   "outputs": [
    {
     "name": "stdout",
     "output_type": "stream",
     "text": [
      "Registering model classifier-padchest-trained-goofy_evening_4p2dpkyb-023.ckpt\n"
     ]
    }
   ],
   "source": [
    "from azureml.core.model import Model\n",
    "\n",
    "model_path = \"classifier/padchest-trained/goofy_evening_4p2dpkyb-023.ckpt\"\n",
    "model = Model.register(model_path=settings.MODEL_DIR.joinpath(model_path),\n",
    "                        model_name=helpers.modelpath2name(model_path),\n",
    "                        tags={\"data\": \"padchest\", \"model\": \"classifier\"},\n",
    "                        description=\"trained classifier finetuned on padchest data from chexpert pretrained model\",\n",
    "                        workspace=ws)"
   ]
  }
 ],
 "metadata": {
  "interpreter": {
   "hash": "40209cfd1e49aba1e20a3908f9a243f43b2ed73034fd3a81730d62124bbdcdae"
  },
  "kernel_info": {
   "name": "python3-azureml"
  },
  "kernelspec": {
   "display_name": "Python 3.7.3 64-bit (conda)",
   "name": "python3"
  },
  "language_info": {
   "codemirror_mode": {
    "name": "ipython",
    "version": 3
   },
   "file_extension": ".py",
   "mimetype": "text/x-python",
   "name": "python",
   "nbconvert_exporter": "python",
   "pygments_lexer": "ipython3",
   "version": "3.7.3"
  },
  "nteract": {
   "version": "nteract-front-end@1.0.0"
  }
 },
 "nbformat": 4,
 "nbformat_minor": 0
}