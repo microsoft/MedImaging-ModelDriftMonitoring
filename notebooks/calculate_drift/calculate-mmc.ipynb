{
 "cells": [
  {
   "cell_type": "markdown",
   "metadata": {},
   "source": [
    "# Calculating Multi-Modal Concordance"
   ]
  },
  {
   "cell_type": "code",
   "execution_count": null,
   "metadata": {},
   "outputs": [],
   "source": [
    "from azureml.core import Workspace\n",
    "from model_drift import settings\n",
    "from model_drift.azure_utils import download_metrics_file\n",
    "from model_drift.drift.io import load_metrics_file, load_weights, load_stats\n",
    "from model_drift.drift.unify import w_avg, standardize, calculate_mmc\n",
    "from model_drift.helpers import filter_columns"
   ]
  },
  {
   "cell_type": "code",
   "execution_count": null,
   "metadata": {},
   "outputs": [],
   "source": [
    "# Get results file from azure ml\n",
    "workspace = Workspace.from_config(settings.AZUREML_CONFIG)\n",
    "experiment = \"generate-drift-csv-5\"\n",
    "run = \"mighty_flower_58thdzjd\"\n",
    "results_csv = download_metrics_file(run, settings.RESULTS_DIR.joinpath('drift'), experiment, workspace, overwrite=False)\n",
    "\n"
   ]
  },
  {
   "cell_type": "code",
   "execution_count": null,
   "metadata": {},
   "outputs": [],
   "source": [
    "performance_col = (\"performance\", \"micro avg\", \"auroc\")\n",
    "weights_file = settings.MODEL_DIR.joinpath(\"weights\", \"metric_weights.csv\")\n",
    "stats_file = settings.MODEL_DIR.joinpath(\"weights\", \"std_stats.csv\")\n",
    "\n",
    "\n",
    "include_metrics = [\"distance\"]\n",
    "\n",
    "weights = load_weights(weights_file)\n",
    "std_stats = load_stats(stats_file)\n",
    "error_df, results_df = load_metrics_file(results_csv)\n",
    "\n",
    "perf_df = results_df[performance_col]\n",
    "error_perf_df = error_df[performance_col]\n",
    "metrics_df = filter_columns(results_df, exclude=['performance', 'count'])\n",
    "metrics_df = filter_columns(metrics_df, include=include_metrics)\n",
    "\n",
    "mmc = calculate_mmc(metrics_df, weights=weights, std_stats=std_stats)\n",
    "\n",
    "\n",
    "mmc.head()"
   ]
  },
  {
   "cell_type": "code",
   "execution_count": null,
   "metadata": {},
   "outputs": [],
   "source": [
    "from model_drift.figure_helper import FigureHelper\n",
    "import pandas as pd\n",
    "\n",
    "def smooth(y: pd.DataFrame, span=7):\n",
    "    if span > 0:\n",
    "        ys = y.ewm(span=span, ignore_na=False).mean()\n",
    "        ys[y.isna()] = None\n",
    "    else:\n",
    "        ys = y    \n",
    "    return ys\n",
    "\n",
    "graph_start = \"2014-04-01\"\n",
    "graph_end = \"2015-02-01\"\n",
    "\n",
    "x = pd.date_range(pd.to_datetime(graph_start)-pd.DateOffset(n=30), pd.to_datetime(graph_end)+pd.DateOffset(n=30))\n",
    "fh = FigureHelper(x, color_list=['#636EFA', '#EF553B', '#00CC96', '#AB63FA', '#8C564B', '#7f7f7f'])\n",
    "\n",
    "perf_df = perf_df.reindex(x)\n",
    "error_perf_df = error_perf_df.reindex(x)\n",
    "mmc = mmc.reindex(x)\n",
    "\n",
    "fh.add_trace(y=smooth(perf_df, span=7), \n",
    "                 yu=smooth(perf_df+error_perf_df, span=7),\n",
    "                 yl=smooth(perf_df-error_perf_df, span=7), name=run, connectgaps=False, row=1, col=1, showlegend=True)\n",
    "\n",
    "fh.add_trace(y=smooth(mmc, span=7), name=run, connectgaps=False, row=2, col=1)\n",
    "\n",
    "fig = fh.make_fig(shared_xaxes=True, vertical_spacing=0.025)\n",
    "fig.update_xaxes(showspikes=True, spikecolor=\"black\", spikesnap=\"cursor\", spikemode=\"across\", spikethickness=1, \n",
    "                 range=[graph_start, graph_end])\n",
    "fig.update_layout(spikedistance=1000, height=500, plot_bgcolor=\"#E8E8EA\", title=\"Multi-Modal Data Concordance\")\n",
    "\n",
    "xaxis = dict(\n",
    "        tickformat = '%Y-%m-%d',\n",
    "        tickmode = 'linear',\n",
    "        dtick = \"M1\"\n",
    "    )\n",
    "fig.update_layout(\n",
    "    xaxis1=xaxis,\n",
    "    xaxis2=xaxis,\n",
    ")\n",
    "\n",
    "fig.show()"
   ]
  },
  {
   "cell_type": "code",
   "execution_count": null,
   "metadata": {},
   "outputs": [],
   "source": []
  }
 ],
 "metadata": {
  "interpreter": {
   "hash": "da2463f95fd6cc5c24c4a8a4da351f7bfbd9eba32040e9a599fb590435cb5b4d"
  },
  "kernelspec": {
   "display_name": "Python 3.7.3",
   "language": "python",
   "name": "python3"
  },
  "language_info": {
   "codemirror_mode": {
    "name": "ipython",
    "version": 3
   },
   "file_extension": ".py",
   "mimetype": "text/x-python",
   "name": "python",
   "nbconvert_exporter": "python",
   "pygments_lexer": "ipython3",
   "version": "3.7.11"
  },
  "orig_nbformat": 4
 },
 "nbformat": 4,
 "nbformat_minor": 2
}
