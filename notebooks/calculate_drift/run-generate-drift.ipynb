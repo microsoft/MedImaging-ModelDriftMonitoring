{
 "cells": [
  {
   "cell_type": "code",
   "execution_count": 13,
   "metadata": {},
   "outputs": [
    {
     "name": "stdout",
     "output_type": "stream",
     "text": [
      "Azure ML SDK Version:  1.38.0\n"
     ]
    }
   ],
   "source": [
    "import azureml\n",
    "from IPython.display import display, Markdown\n",
    "from azureml.core import Experiment, ScriptRunConfig, Workspace, RunConfiguration\n",
    "from azureml.core.dataset import Dataset\n",
    "from azureml.core.environment import Environment\n",
    "from azureml.core.runconfig import DockerConfiguration\n",
    "\n",
    "from model_drift import settings, helpers\n",
    "# check core SDK version number\n",
    "print(\"Azure ML SDK Version: \", azureml.core.VERSION)\n"
   ]
  },
  {
   "cell_type": "code",
   "execution_count": 14,
   "metadata": {},
   "outputs": [],
   "source": [
    "# Connect to workspace\n",
    "ws = Workspace.from_config(settings.AZUREML_CONFIG)"
   ]
  },
  {
   "cell_type": "code",
   "execution_count": 28,
   "metadata": {},
   "outputs": [
    {
     "data": {
      "text/markdown": [
       "\n",
       "- Experiment: [generate-drift-metrics](https://ml.azure.com/experiments/id/94c08fc1-81cd-4793-82a9-77918596b36e?wsid=/subscriptions/9ca8df1a-bf40-49c6-a13f-66b72a85f43c/resourcegroups/MLOps-Prototype/workspaces/MLOps_shared&tid=72f988bf-86f1-41af-91ab-2d7cd011db47)\n"
      ],
      "text/plain": [
       "<IPython.core.display.Markdown object>"
      ]
     },
     "metadata": {},
     "output_type": "display_data"
    }
   ],
   "source": [
    "input_dataset_name=\"results\"\n",
    "experiment_name = 'generate-drift-metrics'\n",
    "env_name = \"monitoring\"\n",
    "exp = Experiment(workspace=ws, name=experiment_name)\n",
    "\n",
    "environment_file = settings.CONDA_ENVIRONMENT_FILE\n",
    "project_dir = settings.SRC_DIR\n",
    "pytorch_env = Environment.from_conda_specification(env_name, file_path =str(environment_file))\n",
    "pytorch_env.register(workspace=ws)\n",
    "build = pytorch_env.build(workspace=ws)\n",
    "pytorch_env.environment_variables[\"RSLEX_DIRECT_VOLUME_MOUNT\"] = \"True\"\n",
    "\n",
    "\n",
    "# Run Configuration\n",
    "run_config = RunConfiguration()\n",
    "run_config.environment_variables[\"RSLEX_DIRECT_VOLUME_MOUNT\"] = \"True\"\n",
    "\n",
    "run_config.environment = pytorch_env\n",
    "run_config.docker = DockerConfiguration(use_docker=True, shm_size=\"100G\")\n",
    "\n",
    "# Note: COMMON RUNTIME has a bug where print statements sometimes, disappear.\n",
    "# Set this flag as a workaround to use the legacy runtime.\n",
    "run_config.environment_variables[\"AZUREML_COMPUTE_USE_COMMON_RUNTIME\"] = \"false\"\n",
    "\n",
    "# Input Dataset\n",
    "dataset = Dataset.get_by_name(ws, name=input_dataset_name)\n",
    "\n",
    "display(Markdown(f\"\"\"\n",
    "- Experiment: [{exp.name}]({exp.get_portal_url()})\n",
    "\"\"\"))"
   ]
  },
  {
   "cell_type": "code",
   "execution_count": 29,
   "metadata": {},
   "outputs": [],
   "source": [
    "compute_target = \"cpu-cluster\"\n",
    "\n",
    "common_args = {\n",
    "'run_azure': 1,\n",
    "\"input_dir\": dataset.as_named_input('input').as_mount(),\n",
    "\"output_dir\": \"./outputs/\",\n",
    "\"generate_name\": 0,\n",
    "\"num_workers\": 10,\n",
    "\n",
    "\"vae_filter\": 'all-data',\n",
    "\"classifier_filter\": 'frontal_only',\n",
    "\"classifier_dataset\": \"padchest-finetuned-chx-frontalonly\",\n",
    "\n",
    "\"window\": \"30D\",\n",
    "\"stride\": \"D\",\n",
    "\"min_periods\": 150,\n",
    "\"ref_frontal_only\": 1,\n",
    "\"include_metadata\": 1,\n",
    "\"replacement\": 1,\n",
    "\"sample_size\": 2500,\n",
    "\"n_samples\": 20,\n",
    "\n",
    "\"start_date\": \"2012-11-01\",\n",
    "\"end_date\":\"2015-02-01\",\n",
    "}\n",
    "\n",
    "# Run trial with no modifications\n",
    "config = ScriptRunConfig(\n",
    "        source_directory=str(project_dir),\n",
    "        script=\"scripts/drift/generate-drift-csv.py\",\n",
    "        arguments=helpers.argsdict2list(common_args),\n",
    "    )\n",
    "run_config.target = compute_target\n",
    "config.run_config = run_config\n",
    "run = exp.submit(config)\n",
    "\n"
   ]
  },
  {
   "cell_type": "markdown",
   "metadata": {},
   "source": []
  },
  {
   "cell_type": "code",
   "execution_count": 30,
   "metadata": {},
   "outputs": [],
   "source": [
    "# Run Experimental Trials with Data injection\n",
    "\n",
    "## Performance degradation experiments\n",
    "qbase = {\"bad_start_date\": \"2014-06-01\", \"bad_sample_start_date\": \"2014-06-01\", \"bad_sample_end_date\":  \"2014-12-31\", \"indist_remove_date\": \"2014-06-01\"}\n",
    "q100 = {\"bad_q\": 1.0, **qbase}\n",
    "q25 = {\"bad_q\": 0.25, **qbase}\n",
    "q5 = {\"bad_q\": 0.05, **qbase}\n",
    "\n",
    "peds = {} #TODO\n",
    "\n",
    "## Lateral Experiment\n",
    "lateral = {\"lateral_add_date\":\"2014-06-01\" ,\"indist_remove_date\": \"2014-09-01\"}\n",
    "\n",
    "trials = [\n",
    "    q100, q25, q5,\n",
    "    lateral,\n",
    "    # peds,\n",
    "    ]\n",
    "\n",
    "\n",
    "for trial in trials:\n",
    "    args = {**common_args, **trial}\n",
    "    config = ScriptRunConfig(\n",
    "        source_directory=str(project_dir),\n",
    "        script=\"scripts/drift/generate-drift-csv.py\",\n",
    "        arguments=helpers.argsdict2list(args),\n",
    "    )\n",
    "    run_config.target = compute_target\n",
    "    config.run_config = run_config\n",
    "    run = exp.submit(config)"
   ]
  },
  {
   "cell_type": "code",
   "execution_count": null,
   "metadata": {},
   "outputs": [],
   "source": []
  }
 ],
 "metadata": {
  "interpreter": {
   "hash": "40209cfd1e49aba1e20a3908f9a243f43b2ed73034fd3a81730d62124bbdcdae"
  },
  "kernelspec": {
   "display_name": "Python 3.7.3 64-bit (conda)",
   "language": "python",
   "name": "python3"
  },
  "language_info": {
   "codemirror_mode": {
    "name": "ipython",
    "version": 3
   },
   "file_extension": ".py",
   "mimetype": "text/x-python",
   "name": "python",
   "nbconvert_exporter": "python",
   "pygments_lexer": "ipython3",
   "version": "3.7.11"
  },
  "orig_nbformat": 4
 },
 "nbformat": 4,
 "nbformat_minor": 2
}
