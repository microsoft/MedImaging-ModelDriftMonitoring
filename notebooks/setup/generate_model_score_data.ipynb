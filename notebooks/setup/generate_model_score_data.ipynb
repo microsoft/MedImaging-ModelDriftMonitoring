{
 "cells": [
  {
   "cell_type": "code",
   "execution_count": 1,
   "metadata": {},
   "outputs": [
    {
     "name": "stderr",
     "output_type": "stream",
     "text": [
      "Failure while loading azureml_run_type_providers. Failed to load entrypoint hyperdrive = azureml.train.hyperdrive:HyperDriveRun._from_run_dto with exception (azure-mgmt-resource 13.0.0 (d:\\code\\mlopsday2\\.venv\\lib\\site-packages), Requirement.parse('azure-mgmt-resource<21.0.0,>=15.0.0'), {'azureml-core'}).\n",
      "Failure while loading azureml_run_type_providers. Failed to load entrypoint automl = azureml.train.automl.run:AutoMLRun._from_run_dto with exception (azure-mgmt-resource 13.0.0 (d:\\code\\mlopsday2\\.venv\\lib\\site-packages), Requirement.parse('azure-mgmt-resource<21.0.0,>=15.0.0'), {'azureml-core'}).\n",
      "Failure while loading azureml_run_type_providers. Failed to load entrypoint azureml.PipelineRun = azureml.pipeline.core.run:PipelineRun._from_dto with exception (azure-mgmt-resource 13.0.0 (d:\\code\\mlopsday2\\.venv\\lib\\site-packages), Requirement.parse('azure-mgmt-resource<21.0.0,>=15.0.0'), {'azureml-core'}).\n",
      "Failure while loading azureml_run_type_providers. Failed to load entrypoint azureml.ReusedStepRun = azureml.pipeline.core.run:StepRun._from_reused_dto with exception (azure-mgmt-resource 13.0.0 (d:\\code\\mlopsday2\\.venv\\lib\\site-packages), Requirement.parse('azure-mgmt-resource<21.0.0,>=15.0.0'), {'azureml-core'}).\n",
      "Failure while loading azureml_run_type_providers. Failed to load entrypoint azureml.StepRun = azureml.pipeline.core.run:StepRun._from_dto with exception (azure-mgmt-resource 13.0.0 (d:\\code\\mlopsday2\\.venv\\lib\\site-packages), Requirement.parse('azure-mgmt-resource<21.0.0,>=15.0.0'), {'azureml-core'}).\n",
      "Failure while loading azureml_run_type_providers. Failed to load entrypoint azureml.scriptrun = azureml.core.script_run:ScriptRun._from_run_dto with exception (azure-mgmt-resource 13.0.0 (d:\\code\\mlopsday2\\.venv\\lib\\site-packages), Requirement.parse('azure-mgmt-resource<21.0.0,>=15.0.0')).\n"
     ]
    },
    {
     "name": "stdout",
     "output_type": "stream",
     "text": [
      "Azure ML SDK Version:  1.38.0\n"
     ]
    }
   ],
   "source": [
    "import azureml\n",
    "from IPython.display import display, Markdown\n",
    "from azureml.core import  Experiment, ScriptRunConfig, Workspace, RunConfiguration\n",
    "from azureml.core.dataset import Dataset\n",
    "from azureml.core.environment import Environment\n",
    "from azureml.core.runconfig import DockerConfiguration\n",
    "\n",
    "\n",
    "from model_drift import settings, helpers\n",
    "# check core SDK version number\n",
    "print(\"Azure ML SDK Version: \", azureml.core.VERSION)"
   ]
  },
  {
   "cell_type": "code",
   "execution_count": 2,
   "metadata": {},
   "outputs": [],
   "source": [
    "# Connect to workspace\n",
    "ws = Workspace.from_config(settings.AZUREML_CONFIG)"
   ]
  },
  {
   "cell_type": "code",
   "execution_count": 3,
   "metadata": {},
   "outputs": [
    {
     "name": "stdout",
     "output_type": "stream",
     "text": [
      " run_azure: 1\n",
      " model: classifier-padchest-trained-chx-frontal-lime_train_07pvtv2y-047.ckpt\n",
      " data_folder: <azureml.data.dataset_consumption_config.DatasetConsumptionConfig object at 0x0000028DF3B96048>\n",
      " progress_bar_refresh_rate: 25\n",
      " log_every_n_steps: 25\n",
      " flush_logs_every_n_steps: 25\n",
      " batch_size: 32\n",
      " accelerator: ddp\n",
      " output_dir: ./outputs/\n",
      " dataset: padchest\n"
     ]
    },
    {
     "data": {
      "text/markdown": [
       "\n",
       "- Experiment: [generate-data-score](https://ml.azure.com/experiments/generate-data-score?wsid=/subscriptions/9ca8df1a-bf40-49c6-a13f-66b72a85f43c/resourcegroups/MLOps-Prototype/workspaces/MLOps_shared&tid=72f988bf-86f1-41af-91ab-2d7cd011db47)\n",
       "- Run: [nifty_lion_03mp30bz](https://ml.azure.com/runs/generate-data-score_1644445839_0bffda04?wsid=/subscriptions/9ca8df1a-bf40-49c6-a13f-66b72a85f43c/resourcegroups/MLOps-Prototype/workspaces/MLOps_shared&tid=72f988bf-86f1-41af-91ab-2d7cd011db47)\n",
       "- Target: nc24-uswest2\n"
      ],
      "text/plain": [
       "<IPython.core.display.Markdown object>"
      ]
     },
     "metadata": {},
     "output_type": "display_data"
    }
   ],
   "source": [
    "# Name experiement\n",
    "input_dataset_name=\"padchest\"\n",
    "experiment_name = 'generate-data-score'\n",
    "model_name = \"classifier-padchest-trained-chx-frontal-lime_train_07pvtv2y-047.ckpt\"\n",
    "env_name = \"monitoring\"\n",
    "\n",
    "compute_target = \"nc24-uswest2\"\n",
    "\n",
    "#Experiment\n",
    "exp = Experiment(workspace=ws, name=experiment_name)\n",
    "\n",
    "#Environment\n",
    "environment_file = settings.CONDA_ENVIRONMENT_FILE\n",
    "project_dir = settings.SRC_DIR\n",
    "pytorch_env = Environment.from_conda_specification(env_name, file_path =str(environment_file))\n",
    "pytorch_env.register(workspace=ws)\n",
    "build = pytorch_env.build(workspace=ws)\n",
    "pytorch_env.environment_variables[\"RSLEX_DIRECT_VOLUME_MOUNT\"] = \"True\"\n",
    "\n",
    "# Run Configuration\n",
    "run_config = RunConfiguration()\n",
    "run_config.environment_variables[\"RSLEX_DIRECT_VOLUME_MOUNT\"] = \"True\"\n",
    "run_config.environment = pytorch_env\n",
    "run_config.docker = DockerConfiguration(use_docker=True, shm_size=\"100G\")\n",
    "\n",
    "# Note: COMMON RUNTIME has a bug where print statements sometimes, disappear.\n",
    "# Set this flag as a workaround to use the legacy runtime.\n",
    "run_config.environment_variables[\"AZUREML_COMPUTE_USE_COMMON_RUNTIME\"] = \"false\"\n",
    "\n",
    "# Input Dataset\n",
    "dataset = Dataset.get_by_name(ws, name=input_dataset_name)\n",
    "\n",
    "args = {\n",
    "'run_azure': 1,\n",
    " 'model': model_name,\n",
    " 'data_folder': dataset.as_named_input('dataset').as_mount(),\n",
    " 'progress_bar_refresh_rate': 25,\n",
    " 'log_every_n_steps': 25,\n",
    " 'flush_logs_every_n_steps': 25,\n",
    " 'batch_size': 32,\n",
    " 'accelerator': 'ddp',\n",
    " 'output_dir': './outputs/',\n",
    " 'dataset': input_dataset_name,\n",
    " }\n",
    "\n",
    "config = ScriptRunConfig(\n",
    "    source_directory = str(project_dir), \n",
    "    script = \"scripts/finetune/score.py\",\n",
    "    arguments=helpers.argsdict2list(args),\n",
    ")\n",
    "\n",
    "for param, value in args.items():\n",
    "    print(f\" {param}: {value}\")\n",
    "\n",
    "run_config.target = compute_target\n",
    "config.run_config = run_config\n",
    "\n",
    "run = exp.submit(config)\n",
    "display(Markdown(f\"\"\"\n",
    "- Experiment: [{run.experiment.name}]({run.experiment.get_portal_url()})\n",
    "- Run: [{run.display_name}]({run.get_portal_url()})\n",
    "- Target: {config.run_config.target}\n",
    "\"\"\"))"
   ]
  },
  {
   "cell_type": "code",
   "execution_count": null,
   "metadata": {},
   "outputs": [],
   "source": []
  }
 ],
 "metadata": {
  "interpreter": {
   "hash": "40209cfd1e49aba1e20a3908f9a243f43b2ed73034fd3a81730d62124bbdcdae"
  },
  "kernelspec": {
   "display_name": "Python 3.7.3 64-bit (conda)",
   "name": "python3"
  },
  "language_info": {
   "codemirror_mode": {
    "name": "ipython",
    "version": 3
   },
   "file_extension": ".py",
   "mimetype": "text/x-python",
   "name": "python",
   "nbconvert_exporter": "python",
   "pygments_lexer": "ipython3",
   "version": "3.7.11"
  },
  "orig_nbformat": 4
 },
 "nbformat": 4,
 "nbformat_minor": 2
}
