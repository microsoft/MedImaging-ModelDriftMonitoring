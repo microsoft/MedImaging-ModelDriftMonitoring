{
 "cells": [
  {
   "cell_type": "code",
   "execution_count": null,
   "metadata": {},
   "outputs": [],
   "source": [
    "import azureml\n",
    "from azureml.core import Workspace\n",
    "from model_drift import settings, helpers\n",
    "# check core SDK version number\n",
    "print(\"Azure ML SDK Version: \", azureml.core.VERSION)"
   ]
  },
  {
   "cell_type": "code",
   "execution_count": null,
   "metadata": {},
   "outputs": [],
   "source": [
    "# Connect to workspace\n",
    "ws = Workspace.from_config(settings.AZUREML_CONFIG)"
   ]
  },
  {
   "cell_type": "code",
   "execution_count": null,
   "metadata": {},
   "outputs": [],
   "source": [
    "from azureml.core.model import Model\n",
    "\n",
    "model_path = \"pretrained-chexpert/epoch=4-step=29844.ckpt\"\n",
    "model = Model.register(model_path=settings.MODEL_DIR.joinpath(model_path),\n",
    "                        model_name=helpers.modelpath2name(model_path),\n",
    "                        tags={\"data\": \"chexpert\", \"model\": \"classification\", \"frontal_only\": True},\n",
    "                        description=\"OSS chexpert from stanford, trained on frontal images only\",\n",
    "                        workspace=ws)\n"
   ]
  },
  {
   "cell_type": "code",
   "execution_count": null,
   "metadata": {
    "gather": {
     "logged": 1634930933994
    },
    "jupyter": {
     "outputs_hidden": false,
     "source_hidden": false
    },
    "nteract": {
     "transient": {
      "deleting": false
     }
    }
   },
   "outputs": [],
   "source": [
    "from azureml.core.model import Model\n",
    "\n",
    "model_path = \"classifier/padchest-trained/loyal_rail_r71fmpjd-023.ckpt\"\n",
    "model = Model.register(model_path=settings.MODEL_DIR.joinpath(model_path),\n",
    "                        model_name=helpers.modelpath2name(model_path),\n",
    "                        tags={\"data\": \"padchest\", \"model\": \"classifier\"},\n",
    "                        description=\"trained classifier finetuned on padchest data from chexpert pretrained model\",\n",
    "                        workspace=ws)"
   ]
  },
  {
   "cell_type": "code",
   "execution_count": null,
   "metadata": {},
   "outputs": [],
   "source": [
    "model_path = \"vae/padchest-trained/lime_night_wlbcf6py-049.ckpt\"\n",
    "model = Model.register(model_path=settings.MODEL_DIR.joinpath(model_path),\n",
    "                       model_name=helpers.modelpath2name(model_path),\n",
    "                       tags={\"data\": \"padchest\", \"model\": \"vae\", \"frontal_only\": False},\n",
    "                       description=\"vae on trained padchest data, frontal and non-frontal images\",\n",
    "                       workspace=ws)\n"
   ]
  },
  {
   "cell_type": "markdown",
   "metadata": {},
   "source": [
    "## Using your own models trained on AzureML"
   ]
  },
  {
   "cell_type": "code",
   "execution_count": null,
   "metadata": {},
   "outputs": [],
   "source": [
    "# If you want to register your own models, you can do so directly from the run\n",
    "\n",
    "# Example:\n",
    "from azureml.core import Experiment, Run\n",
    "from model_drift.azure_utils import get_run\n",
    "run_id = \"<your run id>\"\n",
    "experiment = \"<experiment name>\"\n",
    "exp = Experiment(workspace=ws, name=experiment)\n",
    "run = Run(exp, run_id)\n",
    "model_name = \"<model name>\" #inert model name\n",
    "run.register_model(\n",
    "            model_path=\"outputs/checkpoints/epoch=049.ckpt\", #example path\n",
    "             model_name=model_name,\n",
    "             tags={}, ## Add tags here\n",
    "             description=\"\" # Whatever description you want\n",
    "             )\n"
   ]
  },
  {
   "cell_type": "code",
   "execution_count": null,
   "metadata": {},
   "outputs": [],
   "source": []
  }
 ],
 "metadata": {
  "interpreter": {
   "hash": "40209cfd1e49aba1e20a3908f9a243f43b2ed73034fd3a81730d62124bbdcdae"
  },
  "kernel_info": {
   "name": "python3-azureml"
  },
  "kernelspec": {
   "display_name": "Python 3.7.3 64-bit (conda)",
   "name": "python3"
  },
  "language_info": {
   "codemirror_mode": {
    "name": "ipython",
    "version": 3
   },
   "file_extension": ".py",
   "mimetype": "text/x-python",
   "name": "python",
   "nbconvert_exporter": "python",
   "pygments_lexer": "ipython3",
   "version": "3.7.3"
  },
  "nteract": {
   "version": "nteract-front-end@1.0.0"
  }
 },
 "nbformat": 4,
 "nbformat_minor": 0
}
