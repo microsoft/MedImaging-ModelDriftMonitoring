{
 "cells": [
  {
   "cell_type": "code",
   "execution_count": null,
   "metadata": {},
   "outputs": [],
   "source": [
    "from azureml.core import Workspace\n",
    "# Connect to workspace\n",
    "## put your info here:\n",
    "subscription_id = '<subscription_id>'\n",
    "resource_group = '<rg>'\n",
    "workspace_name = '<ws_name>'\n",
    "\n",
    "ws = Workspace(subscription_id = subscription_id, resource_group = resource_group, workspace_name = workspace_name)\n",
    "\n",
    "## If you are running in AzureML notebooks or your workspace is set in the environment you can use:\n",
    "# ws = Workspace.from_config()\n",
    "\n",
    "ws"
   ]
  },
  {
   "cell_type": "code",
   "execution_count": null,
   "metadata": {},
   "outputs": [],
   "source": [
    "from model_drift import settings\n",
    "ws.write_config(settings.AZUREML_CONFIG)"
   ]
  }
 ],
 "metadata": {
  "interpreter": {
   "hash": "556b6e6d5670612b706a3ed44968365421b06049140b2c800e06be1a3e6e085a"
  },
  "kernelspec": {
   "display_name": "Python 3.7.3 64-bit",
   "name": "python3"
  },
  "language_info": {
   "codemirror_mode": {
    "name": "ipython",
    "version": 3
   },
   "file_extension": ".py",
   "mimetype": "text/x-python",
   "name": "python",
   "nbconvert_exporter": "python",
   "pygments_lexer": "ipython3",
   "version": "3.7.11"
  },
  "orig_nbformat": 4
 },
 "nbformat": 4,
 "nbformat_minor": 2
}
